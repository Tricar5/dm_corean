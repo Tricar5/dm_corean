{
 "cells": [
  {
   "cell_type": "markdown",
   "source": [
    "# Text Preprocessing"
   ],
   "metadata": {
    "collapsed": false
   }
  },
  {
   "cell_type": "code",
   "execution_count": 2,
   "outputs": [],
   "source": [
    "# 1\n",
    "import pandas as pd\n",
    "import yaml\n",
    "import os\n",
    "import pathlib\n",
    "\n",
    "ROOT = pathlib.Path().resolve().parent.parent\n",
    "\n",
    "with open(ROOT / \"config.yml\", \"r\") as f:\n",
    "    config = yaml.load(f, Loader=yaml.FullLoader)\n",
    "\n",
    "DATA_PATH = ROOT / config['api']['DATA_PATH']"
   ],
   "metadata": {
    "collapsed": false,
    "ExecuteTime": {
     "end_time": "2023-06-02T18:53:48.826010Z",
     "start_time": "2023-06-02T18:53:48.821363Z"
    }
   }
  },
  {
   "cell_type": "code",
   "execution_count": 3,
   "outputs": [],
   "source": [
    "# 2\n",
    "\n",
    "comments = pd.read_excel('data/comments.xlsx')"
   ],
   "metadata": {
    "collapsed": false,
    "ExecuteTime": {
     "end_time": "2023-06-02T18:53:50.982709Z",
     "start_time": "2023-06-02T18:53:49.224175Z"
    }
   }
  },
  {
   "cell_type": "code",
   "execution_count": 4,
   "outputs": [
    {
     "name": "stdout",
     "output_type": "stream",
     "text": [
      "(8497, 22)\n"
     ]
    }
   ],
   "source": [
    "print(comments.shape)"
   ],
   "metadata": {
    "collapsed": false,
    "ExecuteTime": {
     "end_time": "2023-06-02T18:53:50.985354Z",
     "start_time": "2023-06-02T18:53:50.983901Z"
    }
   }
  },
  {
   "cell_type": "code",
   "execution_count": 5,
   "outputs": [],
   "source": [
    "# 3\n",
    "comments = comments.dropna(subset=['snippet.textOriginal'])"
   ],
   "metadata": {
    "collapsed": false,
    "ExecuteTime": {
     "end_time": "2023-06-02T18:53:52.415067Z",
     "start_time": "2023-06-02T18:53:52.402419Z"
    }
   }
  },
  {
   "cell_type": "code",
   "execution_count": 6,
   "outputs": [
    {
     "name": "stdout",
     "output_type": "stream",
     "text": [
      "<class 'pandas.core.frame.DataFrame'>\n",
      "Index: 8495 entries, 0 to 8496\n",
      "Data columns (total 22 columns):\n",
      " #   Column                         Non-Null Count  Dtype  \n",
      "---  ------                         --------------  -----  \n",
      " 0   kind                           8495 non-null   object \n",
      " 1   etag                           8495 non-null   object \n",
      " 2   id                             8495 non-null   object \n",
      " 3   snippet.videoId                8495 non-null   object \n",
      " 4   snippet.textDisplay            8495 non-null   object \n",
      " 5   snippet.textOriginal           8495 non-null   object \n",
      " 6   snippet.authorDisplayName      8492 non-null   object \n",
      " 7   snippet.authorProfileImageUrl  8495 non-null   object \n",
      " 8   snippet.authorChannelUrl       8495 non-null   object \n",
      " 9   snippet.authorChannelId.value  8495 non-null   object \n",
      " 10  snippet.canRate                8495 non-null   bool   \n",
      " 11  snippet.viewerRating           8495 non-null   object \n",
      " 12  snippet.likeCount              8495 non-null   int64  \n",
      " 13  snippet.publishedAt            8495 non-null   object \n",
      " 14  snippet.updatedAt              8495 non-null   object \n",
      " 15  snippet.canReply               5971 non-null   float64\n",
      " 16  snippet.totalReplyCount        5971 non-null   float64\n",
      " 17  snippet.isPublic               5971 non-null   float64\n",
      " 18  replies.comments               839 non-null    object \n",
      " 19  snippet.moderationStatus       9 non-null      object \n",
      " 20  real_comments_cnt              5971 non-null   float64\n",
      " 21  snippet.parentId               8495 non-null   object \n",
      "dtypes: bool(1), float64(4), int64(1), object(16)\n",
      "memory usage: 1.4+ MB\n"
     ]
    }
   ],
   "source": [
    "# 4\n",
    "\n",
    "comments.info()"
   ],
   "metadata": {
    "collapsed": false,
    "ExecuteTime": {
     "end_time": "2023-06-02T18:53:52.801630Z",
     "start_time": "2023-06-02T18:53:52.793571Z"
    }
   }
  },
  {
   "cell_type": "markdown",
   "source": [
    "# Текст процессинг"
   ],
   "metadata": {
    "collapsed": false
   }
  },
  {
   "cell_type": "code",
   "execution_count": 7,
   "outputs": [],
   "source": [
    "# 5\n",
    "\n",
    "corpora = list(comments['snippet.textOriginal'].values)"
   ],
   "metadata": {
    "collapsed": false,
    "ExecuteTime": {
     "end_time": "2023-06-02T18:53:53.804668Z",
     "start_time": "2023-06-02T18:53:53.800426Z"
    }
   }
  },
  {
   "cell_type": "code",
   "execution_count": 8,
   "outputs": [
    {
     "name": "stderr",
     "output_type": "stream",
     "text": [
      "[nltk_data] Downloading package stopwords to\n",
      "[nltk_data]     /Users/andrey/nltk_data...\n",
      "[nltk_data]   Package stopwords is already up-to-date!\n"
     ]
    },
    {
     "data": {
      "text/plain": "'и, в, во, не, что, он, на, я, с, со, как, а, то, все, она, так, его, но, да, ты, к, у, же, вы, за, бы, по, только, ее, мне, было, вот, от, меня, еще, нет, о, из, ему, теперь, когда, даже, ну, вдруг, ли, если, уже, или, ни, быть, был, него, до, вас, нибудь, опять, уж, вам, ведь, там, потом, себя, ничего, ей, может, они, тут, где, есть, надо, ней, для, мы, тебя, их, чем, была, сам, чтоб, без, будто, чего, раз, тоже, себе, под, будет, ж, тогда, кто, этот, того, потому, этого, какой, совсем, ним, здесь, этом, один, почти, мой, тем, чтобы, нее, сейчас, были, куда, зачем, всех, никогда, можно, при, наконец, два, об, другой, хоть, после, над, больше, тот, через, эти, нас, про, всего, них, какая, много, разве, три, эту, моя, впрочем, хорошо, свою, этой, перед, иногда, лучше, чуть, том, нельзя, такой, им, более, всегда, конечно, всю, между'"
     },
     "execution_count": 8,
     "metadata": {},
     "output_type": "execute_result"
    }
   ],
   "source": [
    "# 6\n",
    "\n",
    "# download stopwords corpus, you need to run it once\n",
    "import nltk\n",
    "nltk.download(\"stopwords\")\n",
    "#--------#\n",
    "\n",
    "from nltk.corpus import stopwords\n",
    "from pymystem3 import Mystem\n",
    "from string import punctuation\n",
    "\n",
    "\n",
    "#Create lemmatizer and stopwords list\n",
    "mystem = Mystem()\n",
    "russian_stopwords = stopwords.words(\"russian\")\n",
    "\n",
    "\", \".join(russian_stopwords)"
   ],
   "metadata": {
    "collapsed": false,
    "ExecuteTime": {
     "end_time": "2023-06-02T18:53:57.878121Z",
     "start_time": "2023-06-02T18:53:54.726775Z"
    }
   }
  },
  {
   "cell_type": "code",
   "execution_count": 21,
   "outputs": [],
   "source": [
    "# 7 Preprocess functions\n",
    "\n",
    "import string\n",
    "import re\n",
    "\n",
    "PUNCT_TO_REMOVE = string.punctuation\n",
    "\n",
    "def remove_tabs(text): #убираем дичь со специальными символами\n",
    "    return text.translate(str.maketrans(\"\\n\\t\\r\", \"   \"))\n",
    "\n",
    "def remove_punct(text):\n",
    "    return re.sub(r'[^a-zA-Zа-яА-ЯёЁ]+',' ', text)\n",
    "\n",
    "def remove_urls(text):\n",
    "    return re.sub(r'http\\S+', '', text, flags=re.MULTILINE)\n",
    "\n",
    "def remove_mentions(text):\n",
    "    return re.sub(\"@[A-Za-z0-9_]+\",\"\", text)\n",
    "\n",
    "def remove_hashtags(text):\n",
    "    return re.sub(\"#[A-Za-z0-9_]+\",\"\", text)\n",
    "\n",
    "def clean_text(text: str)->str:\n",
    "    text = remove_urls(text)\n",
    "    text = remove_tabs(text)\n",
    "    text = remove_mentions(text)\n",
    "    text = remove_hashtags(text)\n",
    "\n",
    "    return text\n",
    "\n",
    "\n",
    "def preprocess_text(text: str) -> str:\n",
    "\n",
    "    text = remove_punct(text)\n",
    "\n",
    "    tokens = mystem.lemmatize(text.lower())\n",
    "\n",
    "    tokens = [token for token in tokens if token not in russian_stopwords\\\n",
    "              and token != \" \" \\\n",
    "              and token.strip() not in punctuation]\n",
    "\n",
    "    text = \" \".join(tokens)\n",
    "\n",
    "    return text"
   ],
   "metadata": {
    "collapsed": false,
    "ExecuteTime": {
     "end_time": "2023-06-02T18:54:23.633270Z",
     "start_time": "2023-06-02T18:54:23.628085Z"
    }
   }
  },
  {
   "cell_type": "code",
   "execution_count": 22,
   "outputs": [
    {
     "name": "stdout",
     "output_type": "stream",
     "text": [
      "Ооо, я себе на днях палетку купила, очень нравится! ❤\n",
      "\n",
      "==========After==========\n",
      "\n",
      "ооо день палетка купить очень нравиться\n"
     ]
    }
   ],
   "source": [
    "# 7 Preprocessing example\n",
    "\n",
    "test = corpora[14]\n",
    "\n",
    "print(test)\n",
    "print()\n",
    "print('='*10 + 'After' + '='*10)\n",
    "print()\n",
    "print(preprocess_text(clean_text(test)))"
   ],
   "metadata": {
    "collapsed": false,
    "ExecuteTime": {
     "end_time": "2023-06-02T18:54:23.989489Z",
     "start_time": "2023-06-02T18:54:23.975793Z"
    }
   }
  },
  {
   "cell_type": "code",
   "execution_count": 23,
   "outputs": [],
   "source": [
    "# 8 Preprocessing example\n",
    "\n",
    "cleaned_text = [clean_text(t) for t in corpora]\n",
    "\n",
    "comments['cleaned_text'] = cleaned_text"
   ],
   "metadata": {
    "collapsed": false,
    "ExecuteTime": {
     "end_time": "2023-06-02T18:54:24.328265Z",
     "start_time": "2023-06-02T18:54:24.312256Z"
    }
   }
  },
  {
   "cell_type": "code",
   "execution_count": 24,
   "outputs": [],
   "source": [
    "# 9 Preprocessing example\n",
    "\n",
    "lemmatized = [preprocess_text(s) for s in cleaned_text]\n",
    "\n",
    "comments['lemmatized_text'] = lemmatized"
   ],
   "metadata": {
    "collapsed": false,
    "ExecuteTime": {
     "end_time": "2023-06-02T18:54:29.811968Z",
     "start_time": "2023-06-02T18:54:24.462785Z"
    }
   }
  },
  {
   "cell_type": "code",
   "execution_count": 25,
   "outputs": [
    {
     "data": {
      "text/plain": "                       kind                         etag   \n0     youtube#commentThread  lqN0Zzupy-0f_AAASt7gKLOZalc  \\\n1     youtube#commentThread  FSr6OFvRbevOro7VVmOb-ANmVF0   \n2     youtube#commentThread  ycRzG8zBi19WCF6USiBGOR_9l5w   \n3     youtube#commentThread  taeWHMsCs91UCrTujiIuJEGrmcs   \n4     youtube#commentThread  6XEm3qL2GdKiNxA2Lkmnrnb4P3I   \n...                     ...                          ...   \n8492        youtube#comment  SrLNUEzqeGp81VWedKPEbMDJBq4   \n8493        youtube#comment  jQEOTB8DJ1NQkjRXIajt_wklkDQ   \n8494        youtube#comment  80_51kGA0llynKoz12AVpUyYvjk   \n8495        youtube#comment  sdw_wTTarV0WBX4404R5jUy912Y   \n8496        youtube#comment  9zuhjeMGPsP1CXZn0fE8lAua1Jw   \n\n                                                     id snippet.videoId   \n0                            Ugz57x-YZSYddlWifIt4AaABAg     vzdPoXX2UBM  \\\n1                            Ugzqfh0Visn0OYf_EZN4AaABAg     vzdPoXX2UBM   \n2                            UgxAyZkv4V1m1sm-aUt4AaABAg     vzdPoXX2UBM   \n3                            UgwHEEpAHbCqWdjzy494AaABAg     vzdPoXX2UBM   \n4                            Ugz2C__gg0nt3MuuZXZ4AaABAg     vzdPoXX2UBM   \n...                                                 ...             ...   \n8492  Ugw_CW1RnR68GyuxVEl4AaABAg.9kGNFIgGa7Z9mhGVoE-2yy     BFcjeM3V3dc   \n8493  Ugw_CW1RnR68GyuxVEl4AaABAg.9kGNFIgGa7Z9mhGUf7zXrY     BFcjeM3V3dc   \n8494  Ugw_CW1RnR68GyuxVEl4AaABAg.9kGNFIgGa7Z9mdL-sHQSpe     BFcjeM3V3dc   \n8495  Ugw_CW1RnR68GyuxVEl4AaABAg.9kGNFIgGa7Z9mbG4-_uJfw     BFcjeM3V3dc   \n8496  Ugw_CW1RnR68GyuxVEl4AaABAg.9kGNFIgGa7Z9m9UtQxuefW     BFcjeM3V3dc   \n\n                                    snippet.textDisplay   \n0     До Хян! Спасибо большое за новое видео 🫶🏻 обож...  \\\n1     Бо Хян онни❤на озоне продавали товары от вас-B...   \n2     Классные средства! В вашем магазине на Озон бу...   \n3                                     спасибо за видео)   \n4     А можно будет сделать обзор про средства для п...   \n...                                                 ...   \n8492                                       @🦋Полина 🦋 💖   \n8493                                    @Margo Aravin 💓   \n8494                                                И я   \n8495                                             Это  Я   \n8496                                          Сама знаю   \n\n                                   snippet.textOriginal   \n0     До Хян! Спасибо большое за новое видео 🫶🏻 обож...  \\\n1     Бо Хян онни❤на озоне продавали товары от вас-B...   \n2     Классные средства! В вашем магазине на Озон бу...   \n3                                     спасибо за видео)   \n4     А можно будет сделать обзор про средства для п...   \n...                                                 ...   \n8492                                       @🦋Полина 🦋 💖   \n8493                                    @Margo Aravin 💓   \n8494                                                И я   \n8495                                             Это  Я   \n8496                                          Сама знаю   \n\n     snippet.authorDisplayName   \n0                    Alex Yost  \\\n1                   Aska Yuska   \n2                Ирина Крылова   \n3                     Ustalaya   \n4                       Olga M   \n...                        ...   \n8492                    Марьям   \n8493                    Марьям   \n8494              Margo Aravin   \n8495                 🦋Полина 🦋   \n8496                    Марьям   \n\n                          snippet.authorProfileImageUrl   \n0     https://yt3.ggpht.com/ytc/AGIKgqNjg7gvFa7b6j1c...  \\\n1     https://yt3.ggpht.com/ytc/AGIKgqNbP5fGCsLeQA3b...   \n2     https://yt3.ggpht.com/ytc/AGIKgqP2ASGZlu-D33_F...   \n3     https://yt3.ggpht.com/ytc/AGIKgqNTnXNpcPMQpsvH...   \n4     https://yt3.ggpht.com/ytc/AGIKgqPJ5KmbaRTSJwLo...   \n...                                                 ...   \n8492  https://yt3.ggpht.com/gFdhsGyMU2GXNAZLOYO4gtqJ...   \n8493  https://yt3.ggpht.com/gFdhsGyMU2GXNAZLOYO4gtqJ...   \n8494  https://yt3.ggpht.com/ytc/AGIKgqOBhMBgYvBwoSyA...   \n8495  https://yt3.ggpht.com/432OqfqNjILbDGMPCCcTTnPq...   \n8496  https://yt3.ggpht.com/gFdhsGyMU2GXNAZLOYO4gtqJ...   \n\n                               snippet.authorChannelUrl   \n0     http://www.youtube.com/channel/UCTaEjHhPIMJXRN...  \\\n1     http://www.youtube.com/channel/UCIKYk4-5rFZs3r...   \n2     http://www.youtube.com/channel/UC1yEbLPPcFEZX6...   \n3     http://www.youtube.com/channel/UCJU-KEQgK7Y14P...   \n4     http://www.youtube.com/channel/UCURgXlOeRejxcY...   \n...                                                 ...   \n8492  http://www.youtube.com/channel/UCQUuAGFrJthPST...   \n8493  http://www.youtube.com/channel/UCQUuAGFrJthPST...   \n8494  http://www.youtube.com/channel/UC1ar9sOW7t0niW...   \n8495  http://www.youtube.com/channel/UCJoCrWbCSkZMgZ...   \n8496  http://www.youtube.com/channel/UCQUuAGFrJthPST...   \n\n     snippet.authorChannelId.value  ...     snippet.updatedAt   \n0         UCTaEjHhPIMJXRNzqcx54jtg  ...  2023-06-01T21:53:57Z  \\\n1         UCIKYk4-5rFZs3ry8zgJesHA  ...  2023-05-31T08:09:51Z   \n2         UC1yEbLPPcFEZX6RRuWwjp4g  ...  2023-05-30T18:58:19Z   \n3         UCJU-KEQgK7Y14POdao_6uCg  ...  2023-05-28T18:54:48Z   \n4         UCURgXlOeRejxcYKwZU-vz7w  ...  2023-05-28T10:35:17Z   \n...                            ...  ...                   ...   \n8492      UCQUuAGFrJthPSTu8GeF67oQ  ...  2023-03-01T03:07:00Z   \n8493      UCQUuAGFrJthPSTu8GeF67oQ  ...  2023-03-01T03:06:51Z   \n8494      UC1ar9sOW7t0niWfkWHeqcBQ  ...  2023-02-27T14:29:22Z   \n8495      UCJoCrWbCSkZMgZadzCLfzfQ  ...  2023-02-26T19:07:46Z   \n8496      UCQUuAGFrJthPSTu8GeF67oQ  ...  2023-02-15T14:59:16Z   \n\n     snippet.canReply  snippet.totalReplyCount snippet.isPublic   \n0                 1.0                      0.0              1.0  \\\n1                 1.0                      0.0              1.0   \n2                 1.0                      0.0              1.0   \n3                 1.0                      0.0              1.0   \n4                 1.0                      0.0              1.0   \n...               ...                      ...              ...   \n8492              NaN                      NaN              NaN   \n8493              NaN                      NaN              NaN   \n8494              NaN                      NaN              NaN   \n8495              NaN                      NaN              NaN   \n8496              NaN                      NaN              NaN   \n\n     replies.comments  snippet.moderationStatus  real_comments_cnt   \n0                 NaN                       NaN                0.0  \\\n1                 NaN                       NaN                0.0   \n2                 NaN                       NaN                0.0   \n3                 NaN                       NaN                0.0   \n4                 NaN                       NaN                0.0   \n...               ...                       ...                ...   \n8492              NaN                       NaN                NaN   \n8493              NaN                       NaN                NaN   \n8494              NaN                       NaN                NaN   \n8495              NaN                       NaN                NaN   \n8496              NaN                       NaN                NaN   \n\n                snippet.parentId   \n0                             -1  \\\n1                             -1   \n2                             -1   \n3                             -1   \n4                             -1   \n...                          ...   \n8492  Ugw_CW1RnR68GyuxVEl4AaABAg   \n8493  Ugw_CW1RnR68GyuxVEl4AaABAg   \n8494  Ugw_CW1RnR68GyuxVEl4AaABAg   \n8495  Ugw_CW1RnR68GyuxVEl4AaABAg   \n8496  Ugw_CW1RnR68GyuxVEl4AaABAg   \n\n                                           cleaned_text   \n0     До Хян! Спасибо большое за новое видео 🫶🏻 обож...  \\\n1     Бо Хян онни❤на озоне продавали товары от вас-B...   \n2     Классные средства! В вашем магазине на Озон бу...   \n3                                     спасибо за видео)   \n4     А можно будет сделать обзор про средства для п...   \n...                                                 ...   \n8492                                       @🦋Полина 🦋 💖   \n8493                                           Aravin 💓   \n8494                                                И я   \n8495                                             Это  Я   \n8496                                          Сама знаю   \n\n                                        lemmatized_text  \n0     хян спасибо большой новый видео обожать просто...  \n1     бо хян онни озон продавать товар bonya s pouch...  \n2     классный средство ваш магазин озон новинка mix...  \n3                                         спасибо видео  \n4     сделать обзор средство проблема мешок глаз тем...  \n...                                                 ...  \n8492                                             полина  \n8493                                             aravin  \n8494                                                     \n8495                                                это  \n8496                                              знать  \n\n[8495 rows x 24 columns]",
      "text/html": "<div>\n<style scoped>\n    .dataframe tbody tr th:only-of-type {\n        vertical-align: middle;\n    }\n\n    .dataframe tbody tr th {\n        vertical-align: top;\n    }\n\n    .dataframe thead th {\n        text-align: right;\n    }\n</style>\n<table border=\"1\" class=\"dataframe\">\n  <thead>\n    <tr style=\"text-align: right;\">\n      <th></th>\n      <th>kind</th>\n      <th>etag</th>\n      <th>id</th>\n      <th>snippet.videoId</th>\n      <th>snippet.textDisplay</th>\n      <th>snippet.textOriginal</th>\n      <th>snippet.authorDisplayName</th>\n      <th>snippet.authorProfileImageUrl</th>\n      <th>snippet.authorChannelUrl</th>\n      <th>snippet.authorChannelId.value</th>\n      <th>...</th>\n      <th>snippet.updatedAt</th>\n      <th>snippet.canReply</th>\n      <th>snippet.totalReplyCount</th>\n      <th>snippet.isPublic</th>\n      <th>replies.comments</th>\n      <th>snippet.moderationStatus</th>\n      <th>real_comments_cnt</th>\n      <th>snippet.parentId</th>\n      <th>cleaned_text</th>\n      <th>lemmatized_text</th>\n    </tr>\n  </thead>\n  <tbody>\n    <tr>\n      <th>0</th>\n      <td>youtube#commentThread</td>\n      <td>lqN0Zzupy-0f_AAASt7gKLOZalc</td>\n      <td>Ugz57x-YZSYddlWifIt4AaABAg</td>\n      <td>vzdPoXX2UBM</td>\n      <td>До Хян! Спасибо большое за новое видео 🫶🏻 обож...</td>\n      <td>До Хян! Спасибо большое за новое видео 🫶🏻 обож...</td>\n      <td>Alex Yost</td>\n      <td>https://yt3.ggpht.com/ytc/AGIKgqNjg7gvFa7b6j1c...</td>\n      <td>http://www.youtube.com/channel/UCTaEjHhPIMJXRN...</td>\n      <td>UCTaEjHhPIMJXRNzqcx54jtg</td>\n      <td>...</td>\n      <td>2023-06-01T21:53:57Z</td>\n      <td>1.0</td>\n      <td>0.0</td>\n      <td>1.0</td>\n      <td>NaN</td>\n      <td>NaN</td>\n      <td>0.0</td>\n      <td>-1</td>\n      <td>До Хян! Спасибо большое за новое видео 🫶🏻 обож...</td>\n      <td>хян спасибо большой новый видео обожать просто...</td>\n    </tr>\n    <tr>\n      <th>1</th>\n      <td>youtube#commentThread</td>\n      <td>FSr6OFvRbevOro7VVmOb-ANmVF0</td>\n      <td>Ugzqfh0Visn0OYf_EZN4AaABAg</td>\n      <td>vzdPoXX2UBM</td>\n      <td>Бо Хян онни❤на озоне продавали товары от вас-B...</td>\n      <td>Бо Хян онни❤на озоне продавали товары от вас-B...</td>\n      <td>Aska Yuska</td>\n      <td>https://yt3.ggpht.com/ytc/AGIKgqNbP5fGCsLeQA3b...</td>\n      <td>http://www.youtube.com/channel/UCIKYk4-5rFZs3r...</td>\n      <td>UCIKYk4-5rFZs3ry8zgJesHA</td>\n      <td>...</td>\n      <td>2023-05-31T08:09:51Z</td>\n      <td>1.0</td>\n      <td>0.0</td>\n      <td>1.0</td>\n      <td>NaN</td>\n      <td>NaN</td>\n      <td>0.0</td>\n      <td>-1</td>\n      <td>Бо Хян онни❤на озоне продавали товары от вас-B...</td>\n      <td>бо хян онни озон продавать товар bonya s pouch...</td>\n    </tr>\n    <tr>\n      <th>2</th>\n      <td>youtube#commentThread</td>\n      <td>ycRzG8zBi19WCF6USiBGOR_9l5w</td>\n      <td>UgxAyZkv4V1m1sm-aUt4AaABAg</td>\n      <td>vzdPoXX2UBM</td>\n      <td>Классные средства! В вашем магазине на Озон бу...</td>\n      <td>Классные средства! В вашем магазине на Озон бу...</td>\n      <td>Ирина Крылова</td>\n      <td>https://yt3.ggpht.com/ytc/AGIKgqP2ASGZlu-D33_F...</td>\n      <td>http://www.youtube.com/channel/UC1yEbLPPcFEZX6...</td>\n      <td>UC1yEbLPPcFEZX6RRuWwjp4g</td>\n      <td>...</td>\n      <td>2023-05-30T18:58:19Z</td>\n      <td>1.0</td>\n      <td>0.0</td>\n      <td>1.0</td>\n      <td>NaN</td>\n      <td>NaN</td>\n      <td>0.0</td>\n      <td>-1</td>\n      <td>Классные средства! В вашем магазине на Озон бу...</td>\n      <td>классный средство ваш магазин озон новинка mix...</td>\n    </tr>\n    <tr>\n      <th>3</th>\n      <td>youtube#commentThread</td>\n      <td>taeWHMsCs91UCrTujiIuJEGrmcs</td>\n      <td>UgwHEEpAHbCqWdjzy494AaABAg</td>\n      <td>vzdPoXX2UBM</td>\n      <td>спасибо за видео)</td>\n      <td>спасибо за видео)</td>\n      <td>Ustalaya</td>\n      <td>https://yt3.ggpht.com/ytc/AGIKgqNTnXNpcPMQpsvH...</td>\n      <td>http://www.youtube.com/channel/UCJU-KEQgK7Y14P...</td>\n      <td>UCJU-KEQgK7Y14POdao_6uCg</td>\n      <td>...</td>\n      <td>2023-05-28T18:54:48Z</td>\n      <td>1.0</td>\n      <td>0.0</td>\n      <td>1.0</td>\n      <td>NaN</td>\n      <td>NaN</td>\n      <td>0.0</td>\n      <td>-1</td>\n      <td>спасибо за видео)</td>\n      <td>спасибо видео</td>\n    </tr>\n    <tr>\n      <th>4</th>\n      <td>youtube#commentThread</td>\n      <td>6XEm3qL2GdKiNxA2Lkmnrnb4P3I</td>\n      <td>Ugz2C__gg0nt3MuuZXZ4AaABAg</td>\n      <td>vzdPoXX2UBM</td>\n      <td>А можно будет сделать обзор про средства для п...</td>\n      <td>А можно будет сделать обзор про средства для п...</td>\n      <td>Olga M</td>\n      <td>https://yt3.ggpht.com/ytc/AGIKgqPJ5KmbaRTSJwLo...</td>\n      <td>http://www.youtube.com/channel/UCURgXlOeRejxcY...</td>\n      <td>UCURgXlOeRejxcYKwZU-vz7w</td>\n      <td>...</td>\n      <td>2023-05-28T10:35:17Z</td>\n      <td>1.0</td>\n      <td>0.0</td>\n      <td>1.0</td>\n      <td>NaN</td>\n      <td>NaN</td>\n      <td>0.0</td>\n      <td>-1</td>\n      <td>А можно будет сделать обзор про средства для п...</td>\n      <td>сделать обзор средство проблема мешок глаз тем...</td>\n    </tr>\n    <tr>\n      <th>...</th>\n      <td>...</td>\n      <td>...</td>\n      <td>...</td>\n      <td>...</td>\n      <td>...</td>\n      <td>...</td>\n      <td>...</td>\n      <td>...</td>\n      <td>...</td>\n      <td>...</td>\n      <td>...</td>\n      <td>...</td>\n      <td>...</td>\n      <td>...</td>\n      <td>...</td>\n      <td>...</td>\n      <td>...</td>\n      <td>...</td>\n      <td>...</td>\n      <td>...</td>\n      <td>...</td>\n    </tr>\n    <tr>\n      <th>8492</th>\n      <td>youtube#comment</td>\n      <td>SrLNUEzqeGp81VWedKPEbMDJBq4</td>\n      <td>Ugw_CW1RnR68GyuxVEl4AaABAg.9kGNFIgGa7Z9mhGVoE-2yy</td>\n      <td>BFcjeM3V3dc</td>\n      <td>@🦋Полина 🦋 💖</td>\n      <td>@🦋Полина 🦋 💖</td>\n      <td>Марьям</td>\n      <td>https://yt3.ggpht.com/gFdhsGyMU2GXNAZLOYO4gtqJ...</td>\n      <td>http://www.youtube.com/channel/UCQUuAGFrJthPST...</td>\n      <td>UCQUuAGFrJthPSTu8GeF67oQ</td>\n      <td>...</td>\n      <td>2023-03-01T03:07:00Z</td>\n      <td>NaN</td>\n      <td>NaN</td>\n      <td>NaN</td>\n      <td>NaN</td>\n      <td>NaN</td>\n      <td>NaN</td>\n      <td>Ugw_CW1RnR68GyuxVEl4AaABAg</td>\n      <td>@🦋Полина 🦋 💖</td>\n      <td>полина</td>\n    </tr>\n    <tr>\n      <th>8493</th>\n      <td>youtube#comment</td>\n      <td>jQEOTB8DJ1NQkjRXIajt_wklkDQ</td>\n      <td>Ugw_CW1RnR68GyuxVEl4AaABAg.9kGNFIgGa7Z9mhGUf7zXrY</td>\n      <td>BFcjeM3V3dc</td>\n      <td>@Margo Aravin 💓</td>\n      <td>@Margo Aravin 💓</td>\n      <td>Марьям</td>\n      <td>https://yt3.ggpht.com/gFdhsGyMU2GXNAZLOYO4gtqJ...</td>\n      <td>http://www.youtube.com/channel/UCQUuAGFrJthPST...</td>\n      <td>UCQUuAGFrJthPSTu8GeF67oQ</td>\n      <td>...</td>\n      <td>2023-03-01T03:06:51Z</td>\n      <td>NaN</td>\n      <td>NaN</td>\n      <td>NaN</td>\n      <td>NaN</td>\n      <td>NaN</td>\n      <td>NaN</td>\n      <td>Ugw_CW1RnR68GyuxVEl4AaABAg</td>\n      <td>Aravin 💓</td>\n      <td>aravin</td>\n    </tr>\n    <tr>\n      <th>8494</th>\n      <td>youtube#comment</td>\n      <td>80_51kGA0llynKoz12AVpUyYvjk</td>\n      <td>Ugw_CW1RnR68GyuxVEl4AaABAg.9kGNFIgGa7Z9mdL-sHQSpe</td>\n      <td>BFcjeM3V3dc</td>\n      <td>И я</td>\n      <td>И я</td>\n      <td>Margo Aravin</td>\n      <td>https://yt3.ggpht.com/ytc/AGIKgqOBhMBgYvBwoSyA...</td>\n      <td>http://www.youtube.com/channel/UC1ar9sOW7t0niW...</td>\n      <td>UC1ar9sOW7t0niWfkWHeqcBQ</td>\n      <td>...</td>\n      <td>2023-02-27T14:29:22Z</td>\n      <td>NaN</td>\n      <td>NaN</td>\n      <td>NaN</td>\n      <td>NaN</td>\n      <td>NaN</td>\n      <td>NaN</td>\n      <td>Ugw_CW1RnR68GyuxVEl4AaABAg</td>\n      <td>И я</td>\n      <td></td>\n    </tr>\n    <tr>\n      <th>8495</th>\n      <td>youtube#comment</td>\n      <td>sdw_wTTarV0WBX4404R5jUy912Y</td>\n      <td>Ugw_CW1RnR68GyuxVEl4AaABAg.9kGNFIgGa7Z9mbG4-_uJfw</td>\n      <td>BFcjeM3V3dc</td>\n      <td>Это  Я</td>\n      <td>Это  Я</td>\n      <td>🦋Полина 🦋</td>\n      <td>https://yt3.ggpht.com/432OqfqNjILbDGMPCCcTTnPq...</td>\n      <td>http://www.youtube.com/channel/UCJoCrWbCSkZMgZ...</td>\n      <td>UCJoCrWbCSkZMgZadzCLfzfQ</td>\n      <td>...</td>\n      <td>2023-02-26T19:07:46Z</td>\n      <td>NaN</td>\n      <td>NaN</td>\n      <td>NaN</td>\n      <td>NaN</td>\n      <td>NaN</td>\n      <td>NaN</td>\n      <td>Ugw_CW1RnR68GyuxVEl4AaABAg</td>\n      <td>Это  Я</td>\n      <td>это</td>\n    </tr>\n    <tr>\n      <th>8496</th>\n      <td>youtube#comment</td>\n      <td>9zuhjeMGPsP1CXZn0fE8lAua1Jw</td>\n      <td>Ugw_CW1RnR68GyuxVEl4AaABAg.9kGNFIgGa7Z9m9UtQxuefW</td>\n      <td>BFcjeM3V3dc</td>\n      <td>Сама знаю</td>\n      <td>Сама знаю</td>\n      <td>Марьям</td>\n      <td>https://yt3.ggpht.com/gFdhsGyMU2GXNAZLOYO4gtqJ...</td>\n      <td>http://www.youtube.com/channel/UCQUuAGFrJthPST...</td>\n      <td>UCQUuAGFrJthPSTu8GeF67oQ</td>\n      <td>...</td>\n      <td>2023-02-15T14:59:16Z</td>\n      <td>NaN</td>\n      <td>NaN</td>\n      <td>NaN</td>\n      <td>NaN</td>\n      <td>NaN</td>\n      <td>NaN</td>\n      <td>Ugw_CW1RnR68GyuxVEl4AaABAg</td>\n      <td>Сама знаю</td>\n      <td>знать</td>\n    </tr>\n  </tbody>\n</table>\n<p>8495 rows × 24 columns</p>\n</div>"
     },
     "execution_count": 25,
     "metadata": {},
     "output_type": "execute_result"
    }
   ],
   "source": [
    "comments"
   ],
   "metadata": {
    "collapsed": false,
    "ExecuteTime": {
     "end_time": "2023-06-02T18:54:29.831576Z",
     "start_time": "2023-06-02T18:54:29.824274Z"
    }
   }
  },
  {
   "cell_type": "code",
   "execution_count": 25,
   "outputs": [],
   "source": [],
   "metadata": {
    "collapsed": false,
    "ExecuteTime": {
     "end_time": "2023-06-02T18:54:29.833407Z",
     "start_time": "2023-06-02T18:54:29.830966Z"
    }
   }
  },
  {
   "cell_type": "markdown",
   "source": [
    "### Оценка количества слов"
   ],
   "metadata": {
    "collapsed": false
   }
  },
  {
   "cell_type": "code",
   "execution_count": 26,
   "outputs": [],
   "source": [
    "comments['lem_word_count'] = comments['lemmatized_text'].apply(lambda x: len(x.split()))\n",
    "comments['lem_sym_count'] = comments['lemmatized_text'].apply(lambda x: len(x))"
   ],
   "metadata": {
    "collapsed": false,
    "ExecuteTime": {
     "end_time": "2023-06-02T18:54:29.869599Z",
     "start_time": "2023-06-02T18:54:29.842838Z"
    }
   }
  },
  {
   "cell_type": "code",
   "execution_count": 27,
   "outputs": [
    {
     "data": {
      "text/plain": "count    8495.000000\nmean       10.296410\nstd        13.438203\nmin         0.000000\n25%         3.000000\n50%         6.000000\n75%        12.000000\nmax       295.000000\nName: lem_word_count, dtype: float64"
     },
     "execution_count": 27,
     "metadata": {},
     "output_type": "execute_result"
    }
   ],
   "source": [
    "comments['lem_word_count'].describe()"
   ],
   "metadata": {
    "collapsed": false,
    "ExecuteTime": {
     "end_time": "2023-06-02T18:54:29.869894Z",
     "start_time": "2023-06-02T18:54:29.862225Z"
    }
   }
  },
  {
   "cell_type": "code",
   "execution_count": 17,
   "outputs": [
    {
     "data": {
      "text/plain": "<AxesSubplot: >"
     },
     "execution_count": 17,
     "metadata": {},
     "output_type": "execute_result"
    },
    {
     "data": {
      "text/plain": "<Figure size 640x480 with 1 Axes>",
      "image/png": "[encoded data removed]"
     },
     "metadata": {},
     "output_type": "display_data"
    }
   ],
   "source": [
    "comments['lem_word_count'].hist(bins=100)"
   ],
   "metadata": {
    "collapsed": false
   }
  },
  {
   "cell_type": "code",
   "execution_count": 18,
   "outputs": [
    {
     "data": {
      "text/plain": "count    74949.000000\nmean        78.322526\nstd        102.385678\nmin          0.000000\n25%         23.000000\n50%         48.000000\n75%         95.000000\nmax       3244.000000\nName: lem_sym_count, dtype: float64"
     },
     "execution_count": 18,
     "metadata": {},
     "output_type": "execute_result"
    }
   ],
   "source": [
    "comments['lem_sym_count'].describe()"
   ],
   "metadata": {
    "collapsed": false
   }
  },
  {
   "cell_type": "code",
   "execution_count": 19,
   "outputs": [
    {
     "data": {
      "text/plain": "<AxesSubplot: >"
     },
     "execution_count": 19,
     "metadata": {},
     "output_type": "execute_result"
    },
    {
     "data": {
      "text/plain": "<Figure size 640x480 with 1 Axes>",
      "image/png": "[encoded data removed]"
     },
     "metadata": {},
     "output_type": "display_data"
    }
   ],
   "source": [
    "comments['lem_sym_count'].hist(bins=100)"
   ],
   "metadata": {
    "collapsed": false
   }
  },
  {
   "cell_type": "markdown",
   "source": [
    "Большинство наблюдений не превышает 50 слов в комментариях\n",
    "Большинство наблюдений не превышает 200 символов в комментариях"
   ],
   "metadata": {
    "collapsed": false
   }
  },
  {
   "cell_type": "markdown",
   "source": [
    "# Оценка токенов"
   ],
   "metadata": {
    "collapsed": false
   }
  },
  {
   "cell_type": "code",
   "execution_count": 28,
   "outputs": [],
   "source": [
    "from nltk import word_tokenize\n",
    "\n",
    "all_text = [word_tokenize(line) for line in lemmatized]"
   ],
   "metadata": {
    "collapsed": false,
    "ExecuteTime": {
     "end_time": "2023-06-02T18:54:59.846683Z",
     "start_time": "2023-06-02T18:54:59.460577Z"
    }
   }
  },
  {
   "cell_type": "code",
   "execution_count": 29,
   "outputs": [
    {
     "name": "stdout",
     "output_type": "stream",
     "text": [
      "('это', 1491)\n",
      "('очень', 1230)\n",
      "('кожа', 1124)\n",
      "('видео', 1029)\n",
      "('спасибо', 824)\n",
      "('косметика', 745)\n",
      "('весь', 596)\n",
      "('крем', 574)\n",
      "('просто', 546)\n",
      "('макияж', 543)\n"
     ]
    }
   ],
   "source": [
    "from nltk import FreqDist\n",
    "\n",
    "\n",
    "n_types = []\n",
    "n_tokens = []\n",
    "fd = FreqDist()\n",
    "for line in all_text:\n",
    "    fd.update(line)\n",
    "    n_types.append(len(fd))\n",
    "    n_tokens.append(sum(list(fd.values())))\n",
    "for i in fd.most_common(10):\n",
    "    print(i)"
   ],
   "metadata": {
    "collapsed": false,
    "ExecuteTime": {
     "end_time": "2023-06-02T18:55:01.054111Z",
     "start_time": "2023-06-02T18:55:00.541278Z"
    }
   }
  },
  {
   "cell_type": "markdown",
   "source": [
    "## Закон Ципфа\n",
    "В любом достаточно большом тексте ранг типа обратно пропорционален его частоте: f=a/r\n",
    "\n",
    "f – частота типа, r – ранг типа, a – параметр, для славянских языков – около 0.07"
   ],
   "metadata": {
    "collapsed": false
   }
  },
  {
   "cell_type": "code",
   "execution_count": 30,
   "outputs": [
    {
     "data": {
      "text/plain": "<Figure size 640x480 with 1 Axes>",
      "image/png": "[encoded data removed]"
     },
     "metadata": {},
     "output_type": "display_data"
    }
   ],
   "source": [
    "import matplotlib.pyplot as plt\n",
    "\n",
    "freqs = list(fd.values())\n",
    "freqs = sorted(freqs, reverse = True)\n",
    "\n",
    "fig, ax = plt.subplots()\n",
    "ax.plot(freqs[:300], range(300))\n",
    "plt.show()"
   ],
   "metadata": {
    "collapsed": false,
    "ExecuteTime": {
     "end_time": "2023-06-02T18:55:01.691015Z",
     "start_time": "2023-06-02T18:55:01.635590Z"
    }
   }
  },
  {
   "cell_type": "markdown",
   "source": [
    "## Закон Хипса\n",
    "С увеличением длины текста (количества токенов), количество типов увеличивается в соответствии с законом: |V|=K∗N^b\n",
    "\n",
    "N – число токенов, |V| – количество типов в словаре, K,b – параметры, обычно K∈[10,100],b∈[0.4,0.6]"
   ],
   "metadata": {
    "collapsed": false
   }
  },
  {
   "cell_type": "code",
   "execution_count": 31,
   "outputs": [
    {
     "data": {
      "text/plain": "<Figure size 640x480 with 1 Axes>",
      "image/png": "[encoded data removed]"
     },
     "metadata": {},
     "output_type": "display_data"
    }
   ],
   "source": [
    "fig, ax = plt.subplots()\n",
    "ax.plot(n_types, n_tokens)\n",
    "plt.show()"
   ],
   "metadata": {
    "collapsed": false,
    "ExecuteTime": {
     "end_time": "2023-06-02T18:55:02.634445Z",
     "start_time": "2023-06-02T18:55:02.585891Z"
    }
   }
  },
  {
   "cell_type": "markdown",
   "source": [
    "# Фильтр для анализа\n",
    "\n",
    "Для улучшения параметров моделирования рекомендуется использоваться относительно большие тексты комментариев\n",
    "\n",
    "Одновременно с этим мы уменьшим количество текстов для анализа\n"
   ],
   "metadata": {
    "collapsed": false
   }
  },
  {
   "cell_type": "code",
   "execution_count": 32,
   "outputs": [
    {
     "data": {
      "text/plain": "count    8495.000000\nmean       10.296410\nstd        13.438203\nmin         0.000000\n25%         3.000000\n50%         6.000000\n75%        12.000000\nmax       295.000000\nName: lem_word_count, dtype: float64"
     },
     "execution_count": 32,
     "metadata": {},
     "output_type": "execute_result"
    }
   ],
   "source": [
    "comments['lem_word_count'].describe()"
   ],
   "metadata": {
    "collapsed": false,
    "ExecuteTime": {
     "end_time": "2023-06-02T18:55:04.089880Z",
     "start_time": "2023-06-02T18:55:04.082068Z"
    }
   }
  },
  {
   "cell_type": "code",
   "execution_count": 33,
   "outputs": [],
   "source": [
    "selected_cmts = comments[comments['lem_word_count'] >= 6]\n",
    "\n"
   ],
   "metadata": {
    "collapsed": false,
    "ExecuteTime": {
     "end_time": "2023-06-02T18:55:04.744306Z",
     "start_time": "2023-06-02T18:55:04.734951Z"
    }
   }
  },
  {
   "cell_type": "code",
   "execution_count": 34,
   "outputs": [],
   "source": [
    "vars = ['id',\n",
    "        'snippet.videoId',\n",
    "        'snippet.textDisplay',\n",
    "        'snippet.textOriginal',\n",
    "        'snippet.authorDisplayName',\n",
    "        'snippet.parentId',\n",
    "        'cleaned_text',\n",
    "        'lemmatized_text'\n",
    "        ]\n",
    "\n",
    "selected_cmts.to_csv('data/comments_all.csv', sep='\\t', index=False)\n",
    "selected_cmts[vars].to_csv('data/comments_text.csv', sep='\\t', index=False)"
   ],
   "metadata": {
    "collapsed": false,
    "ExecuteTime": {
     "end_time": "2023-06-02T18:55:21.356408Z",
     "start_time": "2023-06-02T18:55:21.202234Z"
    }
   }
  },
  {
   "cell_type": "code",
   "execution_count": 35,
   "outputs": [
    {
     "data": {
      "text/plain": "                       kind                         etag   \n0     youtube#commentThread  lqN0Zzupy-0f_AAASt7gKLOZalc  \\\n1     youtube#commentThread  FSr6OFvRbevOro7VVmOb-ANmVF0   \n2     youtube#commentThread  ycRzG8zBi19WCF6USiBGOR_9l5w   \n4     youtube#commentThread  6XEm3qL2GdKiNxA2Lkmnrnb4P3I   \n6     youtube#commentThread  JR1nxqvPS4CNLG9TN9ndWcN3t_A   \n...                     ...                          ...   \n8480        youtube#comment  pOQKENRj5S74RJHHPMr6vHmbmao   \n8481        youtube#comment  tgg3QsGW5WM3sDDNUCJ8FEdKTrA   \n8482        youtube#comment  _XSqiPRFVPXr2CVXAIbLFVmfups   \n8483        youtube#comment  akZ2bidZcGGGtJordsl9tBbIeC4   \n8486        youtube#comment  Y1uTlzueYFXyzYF3EwvGzZXy6lM   \n\n                                                     id snippet.videoId   \n0                            Ugz57x-YZSYddlWifIt4AaABAg     vzdPoXX2UBM  \\\n1                            Ugzqfh0Visn0OYf_EZN4AaABAg     vzdPoXX2UBM   \n2                            UgxAyZkv4V1m1sm-aUt4AaABAg     vzdPoXX2UBM   \n4                            Ugz2C__gg0nt3MuuZXZ4AaABAg     vzdPoXX2UBM   \n6                            Ugx7wn9TGfLnjUweill4AaABAg     vzdPoXX2UBM   \n...                                                 ...             ...   \n8480  UgypHLKZCveCjfaQyth4AaABAg.9qKB7dyWjFe9qKCz4Xk57L     KDhOg88LRxE   \n8481  UgyyAVRq5tzV5Sft8Eh4AaABAg.9qK84NHl_3M9qKBFYMsh1q     KDhOg88LRxE   \n8482  UgyyAVRq5tzV5Sft8Eh4AaABAg.9qK84NHl_3M9qKB8OG4Zw9     KDhOg88LRxE   \n8483  UgyyAVRq5tzV5Sft8Eh4AaABAg.9qK84NHl_3M9qKAScIjbh1     KDhOg88LRxE   \n8486  UgyyAVRq5tzV5Sft8Eh4AaABAg.9qK84NHl_3M9qK9mo_XP32     KDhOg88LRxE   \n\n                                    snippet.textDisplay   \n0     До Хян! Спасибо большое за новое видео 🫶🏻 обож...  \\\n1     Бо Хян онни❤на озоне продавали товары от вас-B...   \n2     Классные средства! В вашем магазине на Озон бу...   \n4     А можно будет сделать обзор про средства для п...   \n6     Спасибо! Очень полезная информация, особенно п...   \n...                                                 ...   \n8480  Мне он ничего не подчеркивает, люблю его всей ...   \n8481  ​@Inga Sivceva вот кстати его плюс да, что не ...   \n8482  У Миши очень много фейка, они как раз очень жи...   \n8483  ​​@Yana Evstifeeva для жирной или склонной к ж...   \n8486  Тоже вот подобное помню из старых видео...у ме...   \n\n                                   snippet.textOriginal   \n0     До Хян! Спасибо большое за новое видео 🫶🏻 обож...  \\\n1     Бо Хян онни❤на озоне продавали товары от вас-B...   \n2     Классные средства! В вашем магазине на Озон бу...   \n4     А можно будет сделать обзор про средства для п...   \n6     Спасибо! Очень полезная информация, особенно п...   \n...                                                 ...   \n8480  Мне он ничего не подчеркивает, люблю его всей ...   \n8481  ​@Inga Sivceva вот кстати его плюс да, что не ...   \n8482  У Миши очень много фейка, они как раз очень жи...   \n8483  ​​@Yana Evstifeeva для жирной или склонной к ж...   \n8486  Тоже вот подобное помню из старых видео...у ме...   \n\n     snippet.authorDisplayName   \n0                    Alex Yost  \\\n1                   Aska Yuska   \n2                Ирина Крылова   \n4                       Olga M   \n6                       Olga M   \n...                        ...   \n8480            Дарья Логачева   \n8481               Оливия Фокс   \n8482              Inga Sivceva   \n8483               Оливия Фокс   \n8486           Yana Evstifeeva   \n\n                          snippet.authorProfileImageUrl   \n0     https://yt3.ggpht.com/ytc/AGIKgqNjg7gvFa7b6j1c...  \\\n1     https://yt3.ggpht.com/ytc/AGIKgqNbP5fGCsLeQA3b...   \n2     https://yt3.ggpht.com/ytc/AGIKgqP2ASGZlu-D33_F...   \n4     https://yt3.ggpht.com/ytc/AGIKgqPJ5KmbaRTSJwLo...   \n6     https://yt3.ggpht.com/ytc/AGIKgqPJ5KmbaRTSJwLo...   \n...                                                 ...   \n8480  https://yt3.ggpht.com/ytc/AGIKgqM9sjgPbPIxljQO...   \n8481  https://yt3.ggpht.com/ytc/AGIKgqM-2HDD-8tinnzI...   \n8482  https://yt3.ggpht.com/mZ4lq0Jb2uft6_WN7pRIymJY...   \n8483  https://yt3.ggpht.com/ytc/AGIKgqM-2HDD-8tinnzI...   \n8486  https://yt3.ggpht.com/ytc/AGIKgqNJOoEG7Gdo7h4V...   \n\n                               snippet.authorChannelUrl   \n0     http://www.youtube.com/channel/UCTaEjHhPIMJXRN...  \\\n1     http://www.youtube.com/channel/UCIKYk4-5rFZs3r...   \n2     http://www.youtube.com/channel/UC1yEbLPPcFEZX6...   \n4     http://www.youtube.com/channel/UCURgXlOeRejxcY...   \n6     http://www.youtube.com/channel/UCURgXlOeRejxcY...   \n...                                                 ...   \n8480  http://www.youtube.com/channel/UCiiXbYKzHFNdVx...   \n8481  http://www.youtube.com/channel/UC_oJRkf-97Ste7...   \n8482  http://www.youtube.com/channel/UCKR4JC2RuNwRVu...   \n8483  http://www.youtube.com/channel/UC_oJRkf-97Ste7...   \n8486  http://www.youtube.com/channel/UCQCEsswPyZXCtX...   \n\n     snippet.authorChannelId.value  ...  snippet.totalReplyCount   \n0         UCTaEjHhPIMJXRNzqcx54jtg  ...                      0.0  \\\n1         UCIKYk4-5rFZs3ry8zgJesHA  ...                      0.0   \n2         UC1yEbLPPcFEZX6RRuWwjp4g  ...                      0.0   \n4         UCURgXlOeRejxcYKwZU-vz7w  ...                      0.0   \n6         UCURgXlOeRejxcYKwZU-vz7w  ...                      0.0   \n...                            ...  ...                      ...   \n8480      UCiiXbYKzHFNdVxetmcJ0iDA  ...                      NaN   \n8481      UC_oJRkf-97Ste7SUSxZ0pjw  ...                      NaN   \n8482      UCKR4JC2RuNwRVuRl7AA7ixg  ...                      NaN   \n8483      UC_oJRkf-97Ste7SUSxZ0pjw  ...                      NaN   \n8486      UCQCEsswPyZXCtXWGvOCwn0g  ...                      NaN   \n\n     snippet.isPublic  replies.comments snippet.moderationStatus   \n0                 1.0               NaN                      NaN  \\\n1                 1.0               NaN                      NaN   \n2                 1.0               NaN                      NaN   \n4                 1.0               NaN                      NaN   \n6                 1.0               NaN                      NaN   \n...               ...               ...                      ...   \n8480              NaN               NaN                      NaN   \n8481              NaN               NaN                      NaN   \n8482              NaN               NaN                      NaN   \n8483              NaN               NaN                      NaN   \n8486              NaN               NaN                      NaN   \n\n     real_comments_cnt            snippet.parentId   \n0                  0.0                          -1  \\\n1                  0.0                          -1   \n2                  0.0                          -1   \n4                  0.0                          -1   \n6                  0.0                          -1   \n...                ...                         ...   \n8480               NaN  UgypHLKZCveCjfaQyth4AaABAg   \n8481               NaN  UgyyAVRq5tzV5Sft8Eh4AaABAg   \n8482               NaN  UgyyAVRq5tzV5Sft8Eh4AaABAg   \n8483               NaN  UgyyAVRq5tzV5Sft8Eh4AaABAg   \n8486               NaN  UgyyAVRq5tzV5Sft8Eh4AaABAg   \n\n                                           cleaned_text   \n0     До Хян! Спасибо большое за новое видео 🫶🏻 обож...  \\\n1     Бо Хян онни❤на озоне продавали товары от вас-B...   \n2     Классные средства! В вашем магазине на Озон бу...   \n4     А можно будет сделать обзор про средства для п...   \n6     Спасибо! Очень полезная информация, особенно п...   \n...                                                 ...   \n8480  Мне он ничего не подчеркивает, люблю его всей ...   \n8481  ​ Sivceva вот кстати его плюс да, что не окисл...   \n8482  У Миши очень много фейка, они как раз очень жи...   \n8483  ​​ Evstifeeva для жирной или склонной к жирнос...   \n8486  Тоже вот подобное помню из старых видео...у ме...   \n\n                                        lemmatized_text lem_word_count   \n0     хян спасибо большой новый видео обожать просто...             50  \\\n1     бо хян онни озон продавать товар bonya s pouch...             26   \n2     классный средство ваш магазин озон новинка mix...              7   \n4     сделать обзор средство проблема мешок глаз тем...             15   \n6     спасибо очень полезный информация особенно кре...              9   \n...                                                 ...            ...   \n8480  ничто подчеркивать любить весь душа свой комби...             21   \n8481  sivceva кстати плюс окисляться количество фейк...              8   \n8482  миша очень фейк очень жирный окисляться плохо ...             17   \n8483  evstifeeva жирный склонный жирность подходить ...             16   \n8486  подобный помнить старый видео комбинировать ск...             30   \n\n     lem_sym_count  \n0              385  \n1              184  \n2               50  \n4              110  \n6               66  \n...            ...  \n8480           143  \n8481            55  \n8482           137  \n8483           129  \n8486           228  \n\n[4648 rows x 26 columns]",
      "text/html": "<div>\n<style scoped>\n    .dataframe tbody tr th:only-of-type {\n        vertical-align: middle;\n    }\n\n    .dataframe tbody tr th {\n        vertical-align: top;\n    }\n\n    .dataframe thead th {\n        text-align: right;\n    }\n</style>\n<table border=\"1\" class=\"dataframe\">\n  <thead>\n    <tr style=\"text-align: right;\">\n      <th></th>\n      <th>kind</th>\n      <th>etag</th>\n      <th>id</th>\n      <th>snippet.videoId</th>\n      <th>snippet.textDisplay</th>\n      <th>snippet.textOriginal</th>\n      <th>snippet.authorDisplayName</th>\n      <th>snippet.authorProfileImageUrl</th>\n      <th>snippet.authorChannelUrl</th>\n      <th>snippet.authorChannelId.value</th>\n      <th>...</th>\n      <th>snippet.totalReplyCount</th>\n      <th>snippet.isPublic</th>\n      <th>replies.comments</th>\n      <th>snippet.moderationStatus</th>\n      <th>real_comments_cnt</th>\n      <th>snippet.parentId</th>\n      <th>cleaned_text</th>\n      <th>lemmatized_text</th>\n      <th>lem_word_count</th>\n      <th>lem_sym_count</th>\n    </tr>\n  </thead>\n  <tbody>\n    <tr>\n      <th>0</th>\n      <td>youtube#commentThread</td>\n      <td>lqN0Zzupy-0f_AAASt7gKLOZalc</td>\n      <td>Ugz57x-YZSYddlWifIt4AaABAg</td>\n      <td>vzdPoXX2UBM</td>\n      <td>До Хян! Спасибо большое за новое видео 🫶🏻 обож...</td>\n      <td>До Хян! Спасибо большое за новое видео 🫶🏻 обож...</td>\n      <td>Alex Yost</td>\n      <td>https://yt3.ggpht.com/ytc/AGIKgqNjg7gvFa7b6j1c...</td>\n      <td>http://www.youtube.com/channel/UCTaEjHhPIMJXRN...</td>\n      <td>UCTaEjHhPIMJXRNzqcx54jtg</td>\n      <td>...</td>\n      <td>0.0</td>\n      <td>1.0</td>\n      <td>NaN</td>\n      <td>NaN</td>\n      <td>0.0</td>\n      <td>-1</td>\n      <td>До Хян! Спасибо большое за новое видео 🫶🏻 обож...</td>\n      <td>хян спасибо большой новый видео обожать просто...</td>\n      <td>50</td>\n      <td>385</td>\n    </tr>\n    <tr>\n      <th>1</th>\n      <td>youtube#commentThread</td>\n      <td>FSr6OFvRbevOro7VVmOb-ANmVF0</td>\n      <td>Ugzqfh0Visn0OYf_EZN4AaABAg</td>\n      <td>vzdPoXX2UBM</td>\n      <td>Бо Хян онни❤на озоне продавали товары от вас-B...</td>\n      <td>Бо Хян онни❤на озоне продавали товары от вас-B...</td>\n      <td>Aska Yuska</td>\n      <td>https://yt3.ggpht.com/ytc/AGIKgqNbP5fGCsLeQA3b...</td>\n      <td>http://www.youtube.com/channel/UCIKYk4-5rFZs3r...</td>\n      <td>UCIKYk4-5rFZs3ry8zgJesHA</td>\n      <td>...</td>\n      <td>0.0</td>\n      <td>1.0</td>\n      <td>NaN</td>\n      <td>NaN</td>\n      <td>0.0</td>\n      <td>-1</td>\n      <td>Бо Хян онни❤на озоне продавали товары от вас-B...</td>\n      <td>бо хян онни озон продавать товар bonya s pouch...</td>\n      <td>26</td>\n      <td>184</td>\n    </tr>\n    <tr>\n      <th>2</th>\n      <td>youtube#commentThread</td>\n      <td>ycRzG8zBi19WCF6USiBGOR_9l5w</td>\n      <td>UgxAyZkv4V1m1sm-aUt4AaABAg</td>\n      <td>vzdPoXX2UBM</td>\n      <td>Классные средства! В вашем магазине на Озон бу...</td>\n      <td>Классные средства! В вашем магазине на Озон бу...</td>\n      <td>Ирина Крылова</td>\n      <td>https://yt3.ggpht.com/ytc/AGIKgqP2ASGZlu-D33_F...</td>\n      <td>http://www.youtube.com/channel/UC1yEbLPPcFEZX6...</td>\n      <td>UC1yEbLPPcFEZX6RRuWwjp4g</td>\n      <td>...</td>\n      <td>0.0</td>\n      <td>1.0</td>\n      <td>NaN</td>\n      <td>NaN</td>\n      <td>0.0</td>\n      <td>-1</td>\n      <td>Классные средства! В вашем магазине на Озон бу...</td>\n      <td>классный средство ваш магазин озон новинка mix...</td>\n      <td>7</td>\n      <td>50</td>\n    </tr>\n    <tr>\n      <th>4</th>\n      <td>youtube#commentThread</td>\n      <td>6XEm3qL2GdKiNxA2Lkmnrnb4P3I</td>\n      <td>Ugz2C__gg0nt3MuuZXZ4AaABAg</td>\n      <td>vzdPoXX2UBM</td>\n      <td>А можно будет сделать обзор про средства для п...</td>\n      <td>А можно будет сделать обзор про средства для п...</td>\n      <td>Olga M</td>\n      <td>https://yt3.ggpht.com/ytc/AGIKgqPJ5KmbaRTSJwLo...</td>\n      <td>http://www.youtube.com/channel/UCURgXlOeRejxcY...</td>\n      <td>UCURgXlOeRejxcYKwZU-vz7w</td>\n      <td>...</td>\n      <td>0.0</td>\n      <td>1.0</td>\n      <td>NaN</td>\n      <td>NaN</td>\n      <td>0.0</td>\n      <td>-1</td>\n      <td>А можно будет сделать обзор про средства для п...</td>\n      <td>сделать обзор средство проблема мешок глаз тем...</td>\n      <td>15</td>\n      <td>110</td>\n    </tr>\n    <tr>\n      <th>6</th>\n      <td>youtube#commentThread</td>\n      <td>JR1nxqvPS4CNLG9TN9ndWcN3t_A</td>\n      <td>Ugx7wn9TGfLnjUweill4AaABAg</td>\n      <td>vzdPoXX2UBM</td>\n      <td>Спасибо! Очень полезная информация, особенно п...</td>\n      <td>Спасибо! Очень полезная информация, особенно п...</td>\n      <td>Olga M</td>\n      <td>https://yt3.ggpht.com/ytc/AGIKgqPJ5KmbaRTSJwLo...</td>\n      <td>http://www.youtube.com/channel/UCURgXlOeRejxcY...</td>\n      <td>UCURgXlOeRejxcYKwZU-vz7w</td>\n      <td>...</td>\n      <td>0.0</td>\n      <td>1.0</td>\n      <td>NaN</td>\n      <td>NaN</td>\n      <td>0.0</td>\n      <td>-1</td>\n      <td>Спасибо! Очень полезная информация, особенно п...</td>\n      <td>спасибо очень полезный информация особенно кре...</td>\n      <td>9</td>\n      <td>66</td>\n    </tr>\n    <tr>\n      <th>...</th>\n      <td>...</td>\n      <td>...</td>\n      <td>...</td>\n      <td>...</td>\n      <td>...</td>\n      <td>...</td>\n      <td>...</td>\n      <td>...</td>\n      <td>...</td>\n      <td>...</td>\n      <td>...</td>\n      <td>...</td>\n      <td>...</td>\n      <td>...</td>\n      <td>...</td>\n      <td>...</td>\n      <td>...</td>\n      <td>...</td>\n      <td>...</td>\n      <td>...</td>\n      <td>...</td>\n    </tr>\n    <tr>\n      <th>8480</th>\n      <td>youtube#comment</td>\n      <td>pOQKENRj5S74RJHHPMr6vHmbmao</td>\n      <td>UgypHLKZCveCjfaQyth4AaABAg.9qKB7dyWjFe9qKCz4Xk57L</td>\n      <td>KDhOg88LRxE</td>\n      <td>Мне он ничего не подчеркивает, люблю его всей ...</td>\n      <td>Мне он ничего не подчеркивает, люблю его всей ...</td>\n      <td>Дарья Логачева</td>\n      <td>https://yt3.ggpht.com/ytc/AGIKgqM9sjgPbPIxljQO...</td>\n      <td>http://www.youtube.com/channel/UCiiXbYKzHFNdVx...</td>\n      <td>UCiiXbYKzHFNdVxetmcJ0iDA</td>\n      <td>...</td>\n      <td>NaN</td>\n      <td>NaN</td>\n      <td>NaN</td>\n      <td>NaN</td>\n      <td>NaN</td>\n      <td>UgypHLKZCveCjfaQyth4AaABAg</td>\n      <td>Мне он ничего не подчеркивает, люблю его всей ...</td>\n      <td>ничто подчеркивать любить весь душа свой комби...</td>\n      <td>21</td>\n      <td>143</td>\n    </tr>\n    <tr>\n      <th>8481</th>\n      <td>youtube#comment</td>\n      <td>tgg3QsGW5WM3sDDNUCJ8FEdKTrA</td>\n      <td>UgyyAVRq5tzV5Sft8Eh4AaABAg.9qK84NHl_3M9qKBFYMsh1q</td>\n      <td>KDhOg88LRxE</td>\n      <td>​@Inga Sivceva вот кстати его плюс да, что не ...</td>\n      <td>​@Inga Sivceva вот кстати его плюс да, что не ...</td>\n      <td>Оливия Фокс</td>\n      <td>https://yt3.ggpht.com/ytc/AGIKgqM-2HDD-8tinnzI...</td>\n      <td>http://www.youtube.com/channel/UC_oJRkf-97Ste7...</td>\n      <td>UC_oJRkf-97Ste7SUSxZ0pjw</td>\n      <td>...</td>\n      <td>NaN</td>\n      <td>NaN</td>\n      <td>NaN</td>\n      <td>NaN</td>\n      <td>NaN</td>\n      <td>UgyyAVRq5tzV5Sft8Eh4AaABAg</td>\n      <td>​ Sivceva вот кстати его плюс да, что не окисл...</td>\n      <td>sivceva кстати плюс окисляться количество фейк...</td>\n      <td>8</td>\n      <td>55</td>\n    </tr>\n    <tr>\n      <th>8482</th>\n      <td>youtube#comment</td>\n      <td>_XSqiPRFVPXr2CVXAIbLFVmfups</td>\n      <td>UgyyAVRq5tzV5Sft8Eh4AaABAg.9qK84NHl_3M9qKB8OG4Zw9</td>\n      <td>KDhOg88LRxE</td>\n      <td>У Миши очень много фейка, они как раз очень жи...</td>\n      <td>У Миши очень много фейка, они как раз очень жи...</td>\n      <td>Inga Sivceva</td>\n      <td>https://yt3.ggpht.com/mZ4lq0Jb2uft6_WN7pRIymJY...</td>\n      <td>http://www.youtube.com/channel/UCKR4JC2RuNwRVu...</td>\n      <td>UCKR4JC2RuNwRVuRl7AA7ixg</td>\n      <td>...</td>\n      <td>NaN</td>\n      <td>NaN</td>\n      <td>NaN</td>\n      <td>NaN</td>\n      <td>NaN</td>\n      <td>UgyyAVRq5tzV5Sft8Eh4AaABAg</td>\n      <td>У Миши очень много фейка, они как раз очень жи...</td>\n      <td>миша очень фейк очень жирный окисляться плохо ...</td>\n      <td>17</td>\n      <td>137</td>\n    </tr>\n    <tr>\n      <th>8483</th>\n      <td>youtube#comment</td>\n      <td>akZ2bidZcGGGtJordsl9tBbIeC4</td>\n      <td>UgyyAVRq5tzV5Sft8Eh4AaABAg.9qK84NHl_3M9qKAScIjbh1</td>\n      <td>KDhOg88LRxE</td>\n      <td>​​@Yana Evstifeeva для жирной или склонной к ж...</td>\n      <td>​​@Yana Evstifeeva для жирной или склонной к ж...</td>\n      <td>Оливия Фокс</td>\n      <td>https://yt3.ggpht.com/ytc/AGIKgqM-2HDD-8tinnzI...</td>\n      <td>http://www.youtube.com/channel/UC_oJRkf-97Ste7...</td>\n      <td>UC_oJRkf-97Ste7SUSxZ0pjw</td>\n      <td>...</td>\n      <td>NaN</td>\n      <td>NaN</td>\n      <td>NaN</td>\n      <td>NaN</td>\n      <td>NaN</td>\n      <td>UgyyAVRq5tzV5Sft8Eh4AaABAg</td>\n      <td>​​ Evstifeeva для жирной или склонной к жирнос...</td>\n      <td>evstifeeva жирный склонный жирность подходить ...</td>\n      <td>16</td>\n      <td>129</td>\n    </tr>\n    <tr>\n      <th>8486</th>\n      <td>youtube#comment</td>\n      <td>Y1uTlzueYFXyzYF3EwvGzZXy6lM</td>\n      <td>UgyyAVRq5tzV5Sft8Eh4AaABAg.9qK84NHl_3M9qK9mo_XP32</td>\n      <td>KDhOg88LRxE</td>\n      <td>Тоже вот подобное помню из старых видео...у ме...</td>\n      <td>Тоже вот подобное помню из старых видео...у ме...</td>\n      <td>Yana Evstifeeva</td>\n      <td>https://yt3.ggpht.com/ytc/AGIKgqNJOoEG7Gdo7h4V...</td>\n      <td>http://www.youtube.com/channel/UCQCEsswPyZXCtX...</td>\n      <td>UCQCEsswPyZXCtXWGvOCwn0g</td>\n      <td>...</td>\n      <td>NaN</td>\n      <td>NaN</td>\n      <td>NaN</td>\n      <td>NaN</td>\n      <td>NaN</td>\n      <td>UgyyAVRq5tzV5Sft8Eh4AaABAg</td>\n      <td>Тоже вот подобное помню из старых видео...у ме...</td>\n      <td>подобный помнить старый видео комбинировать ск...</td>\n      <td>30</td>\n      <td>228</td>\n    </tr>\n  </tbody>\n</table>\n<p>4648 rows × 26 columns</p>\n</div>"
     },
     "execution_count": 35,
     "metadata": {},
     "output_type": "execute_result"
    }
   ],
   "source": [
    "selected_cmts"
   ],
   "metadata": {
    "collapsed": false,
    "ExecuteTime": {
     "end_time": "2023-06-02T18:59:32.613062Z",
     "start_time": "2023-06-02T18:59:32.592544Z"
    }
   }
  },
  {
   "cell_type": "code",
   "execution_count": 1,
   "outputs": [],
   "source": [],
   "metadata": {
    "collapsed": false,
    "ExecuteTime": {
     "end_time": "2023-06-02T19:58:00.508982Z",
     "start_time": "2023-06-02T19:58:00.505458Z"
    }
   }
  }
 ],
 "metadata": {
  "kernelspec": {
   "display_name": "Python 3",
   "language": "python",
   "name": "python3"
  },
  "language_info": {
   "codemirror_mode": {
    "name": "ipython",
    "version": 2
   },
   "file_extension": ".py",
   "mimetype": "text/x-python",
   "name": "python",
   "nbconvert_exporter": "python",
   "pygments_lexer": "ipython2",
   "version": "2.7.6"
  }
 },
 "nbformat": 4,
 "nbformat_minor": 0
}
