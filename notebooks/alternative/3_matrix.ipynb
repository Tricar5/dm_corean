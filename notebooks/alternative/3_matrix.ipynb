{
 "cells": [
  {
   "cell_type": "markdown",
   "source": [
    "# Text Preprocessing"
   ],
   "metadata": {
    "collapsed": false
   }
  },
  {
   "cell_type": "code",
   "execution_count": 2,
   "outputs": [],
   "source": [
    "# 1\n",
    "import pandas as pd\n",
    "import yaml\n",
    "import os\n",
    "import pathlib\n",
    "\n",
    "ROOT = pathlib.Path().resolve().parent.parent\n",
    "\n",
    "with open(ROOT / \"config.yml\", \"r\") as f:\n",
    "    config = yaml.load(f, Loader=yaml.FullLoader)\n",
    "\n",
    "DATA_PATH = ROOT / config['api']['DATA_PATH']"
   ],
   "metadata": {
    "collapsed": false,
    "ExecuteTime": {
     "end_time": "2023-06-02T20:04:13.066459Z",
     "start_time": "2023-06-02T20:04:11.803779Z"
    }
   }
  },
  {
   "cell_type": "code",
   "execution_count": 4,
   "outputs": [
    {
     "data": {
      "text/plain": "                                                     id snippet.videoId   \n0                            Ugz57x-YZSYddlWifIt4AaABAg     vzdPoXX2UBM  \\\n1                            Ugzqfh0Visn0OYf_EZN4AaABAg     vzdPoXX2UBM   \n2                            UgxAyZkv4V1m1sm-aUt4AaABAg     vzdPoXX2UBM   \n3                            Ugz2C__gg0nt3MuuZXZ4AaABAg     vzdPoXX2UBM   \n4                            Ugx7wn9TGfLnjUweill4AaABAg     vzdPoXX2UBM   \n...                                                 ...             ...   \n4643  UgypHLKZCveCjfaQyth4AaABAg.9qKB7dyWjFe9qKCz4Xk57L     KDhOg88LRxE   \n4644  UgyyAVRq5tzV5Sft8Eh4AaABAg.9qK84NHl_3M9qKBFYMsh1q     KDhOg88LRxE   \n4645  UgyyAVRq5tzV5Sft8Eh4AaABAg.9qK84NHl_3M9qKB8OG4Zw9     KDhOg88LRxE   \n4646  UgyyAVRq5tzV5Sft8Eh4AaABAg.9qK84NHl_3M9qKAScIjbh1     KDhOg88LRxE   \n4647  UgyyAVRq5tzV5Sft8Eh4AaABAg.9qK84NHl_3M9qK9mo_XP32     KDhOg88LRxE   \n\n                                    snippet.textDisplay   \n0     До Хян! Спасибо большое за новое видео 🫶🏻 обож...  \\\n1     Бо Хян онни❤на озоне продавали товары от вас-B...   \n2     Классные средства! В вашем магазине на Озон бу...   \n3     А можно будет сделать обзор про средства для п...   \n4     Спасибо! Очень полезная информация, особенно п...   \n...                                                 ...   \n4643  Мне он ничего не подчеркивает, люблю его всей ...   \n4644  ​@Inga Sivceva вот кстати его плюс да, что не ...   \n4645  У Миши очень много фейка, они как раз очень жи...   \n4646  ​​@Yana Evstifeeva для жирной или склонной к ж...   \n4647  Тоже вот подобное помню из старых видео...у ме...   \n\n                                   snippet.textOriginal   \n0     До Хян! Спасибо большое за новое видео 🫶🏻 обож...  \\\n1     Бо Хян онни❤на озоне продавали товары от вас-B...   \n2     Классные средства! В вашем магазине на Озон бу...   \n3     А можно будет сделать обзор про средства для п...   \n4     Спасибо! Очень полезная информация, особенно п...   \n...                                                 ...   \n4643  Мне он ничего не подчеркивает, люблю его всей ...   \n4644  ​@Inga Sivceva вот кстати его плюс да, что не ...   \n4645  У Миши очень много фейка, они как раз очень жи...   \n4646  ​​@Yana Evstifeeva для жирной или склонной к ж...   \n4647  Тоже вот подобное помню из старых видео...у ме...   \n\n     snippet.authorDisplayName            snippet.parentId   \n0                    Alex Yost                          -1  \\\n1                   Aska Yuska                          -1   \n2                Ирина Крылова                          -1   \n3                       Olga M                          -1   \n4                       Olga M                          -1   \n...                        ...                         ...   \n4643            Дарья Логачева  UgypHLKZCveCjfaQyth4AaABAg   \n4644               Оливия Фокс  UgyyAVRq5tzV5Sft8Eh4AaABAg   \n4645              Inga Sivceva  UgyyAVRq5tzV5Sft8Eh4AaABAg   \n4646               Оливия Фокс  UgyyAVRq5tzV5Sft8Eh4AaABAg   \n4647           Yana Evstifeeva  UgyyAVRq5tzV5Sft8Eh4AaABAg   \n\n                                           cleaned_text   \n0     До Хян! Спасибо большое за новое видео 🫶🏻 обож...  \\\n1     Бо Хян онни❤на озоне продавали товары от вас-B...   \n2     Классные средства! В вашем магазине на Озон бу...   \n3     А можно будет сделать обзор про средства для п...   \n4     Спасибо! Очень полезная информация, особенно п...   \n...                                                 ...   \n4643  Мне он ничего не подчеркивает, люблю его всей ...   \n4644  ​ Sivceva вот кстати его плюс да, что не окисл...   \n4645  У Миши очень много фейка, они как раз очень жи...   \n4646  ​​ Evstifeeva для жирной или склонной к жирнос...   \n4647  Тоже вот подобное помню из старых видео...у ме...   \n\n                                        lemmatized_text  \n0     хян спасибо большой новый видео обожать просто...  \n1     бо хян онни озон продавать товар bonya s pouch...  \n2     классный средство ваш магазин озон новинка mix...  \n3     сделать обзор средство проблема мешок глаз тем...  \n4     спасибо очень полезный информация особенно кре...  \n...                                                 ...  \n4643  ничто подчеркивать любить весь душа свой комби...  \n4644  sivceva кстати плюс окисляться количество фейк...  \n4645  миша очень фейк очень жирный окисляться плохо ...  \n4646  evstifeeva жирный склонный жирность подходить ...  \n4647  подобный помнить старый видео комбинировать ск...  \n\n[4648 rows x 8 columns]",
      "text/html": "<div>\n<style scoped>\n    .dataframe tbody tr th:only-of-type {\n        vertical-align: middle;\n    }\n\n    .dataframe tbody tr th {\n        vertical-align: top;\n    }\n\n    .dataframe thead th {\n        text-align: right;\n    }\n</style>\n<table border=\"1\" class=\"dataframe\">\n  <thead>\n    <tr style=\"text-align: right;\">\n      <th></th>\n      <th>id</th>\n      <th>snippet.videoId</th>\n      <th>snippet.textDisplay</th>\n      <th>snippet.textOriginal</th>\n      <th>snippet.authorDisplayName</th>\n      <th>snippet.parentId</th>\n      <th>cleaned_text</th>\n      <th>lemmatized_text</th>\n    </tr>\n  </thead>\n  <tbody>\n    <tr>\n      <th>0</th>\n      <td>Ugz57x-YZSYddlWifIt4AaABAg</td>\n      <td>vzdPoXX2UBM</td>\n      <td>До Хян! Спасибо большое за новое видео 🫶🏻 обож...</td>\n      <td>До Хян! Спасибо большое за новое видео 🫶🏻 обож...</td>\n      <td>Alex Yost</td>\n      <td>-1</td>\n      <td>До Хян! Спасибо большое за новое видео 🫶🏻 обож...</td>\n      <td>хян спасибо большой новый видео обожать просто...</td>\n    </tr>\n    <tr>\n      <th>1</th>\n      <td>Ugzqfh0Visn0OYf_EZN4AaABAg</td>\n      <td>vzdPoXX2UBM</td>\n      <td>Бо Хян онни❤на озоне продавали товары от вас-B...</td>\n      <td>Бо Хян онни❤на озоне продавали товары от вас-B...</td>\n      <td>Aska Yuska</td>\n      <td>-1</td>\n      <td>Бо Хян онни❤на озоне продавали товары от вас-B...</td>\n      <td>бо хян онни озон продавать товар bonya s pouch...</td>\n    </tr>\n    <tr>\n      <th>2</th>\n      <td>UgxAyZkv4V1m1sm-aUt4AaABAg</td>\n      <td>vzdPoXX2UBM</td>\n      <td>Классные средства! В вашем магазине на Озон бу...</td>\n      <td>Классные средства! В вашем магазине на Озон бу...</td>\n      <td>Ирина Крылова</td>\n      <td>-1</td>\n      <td>Классные средства! В вашем магазине на Озон бу...</td>\n      <td>классный средство ваш магазин озон новинка mix...</td>\n    </tr>\n    <tr>\n      <th>3</th>\n      <td>Ugz2C__gg0nt3MuuZXZ4AaABAg</td>\n      <td>vzdPoXX2UBM</td>\n      <td>А можно будет сделать обзор про средства для п...</td>\n      <td>А можно будет сделать обзор про средства для п...</td>\n      <td>Olga M</td>\n      <td>-1</td>\n      <td>А можно будет сделать обзор про средства для п...</td>\n      <td>сделать обзор средство проблема мешок глаз тем...</td>\n    </tr>\n    <tr>\n      <th>4</th>\n      <td>Ugx7wn9TGfLnjUweill4AaABAg</td>\n      <td>vzdPoXX2UBM</td>\n      <td>Спасибо! Очень полезная информация, особенно п...</td>\n      <td>Спасибо! Очень полезная информация, особенно п...</td>\n      <td>Olga M</td>\n      <td>-1</td>\n      <td>Спасибо! Очень полезная информация, особенно п...</td>\n      <td>спасибо очень полезный информация особенно кре...</td>\n    </tr>\n    <tr>\n      <th>...</th>\n      <td>...</td>\n      <td>...</td>\n      <td>...</td>\n      <td>...</td>\n      <td>...</td>\n      <td>...</td>\n      <td>...</td>\n      <td>...</td>\n    </tr>\n    <tr>\n      <th>4643</th>\n      <td>UgypHLKZCveCjfaQyth4AaABAg.9qKB7dyWjFe9qKCz4Xk57L</td>\n      <td>KDhOg88LRxE</td>\n      <td>Мне он ничего не подчеркивает, люблю его всей ...</td>\n      <td>Мне он ничего не подчеркивает, люблю его всей ...</td>\n      <td>Дарья Логачева</td>\n      <td>UgypHLKZCveCjfaQyth4AaABAg</td>\n      <td>Мне он ничего не подчеркивает, люблю его всей ...</td>\n      <td>ничто подчеркивать любить весь душа свой комби...</td>\n    </tr>\n    <tr>\n      <th>4644</th>\n      <td>UgyyAVRq5tzV5Sft8Eh4AaABAg.9qK84NHl_3M9qKBFYMsh1q</td>\n      <td>KDhOg88LRxE</td>\n      <td>​@Inga Sivceva вот кстати его плюс да, что не ...</td>\n      <td>​@Inga Sivceva вот кстати его плюс да, что не ...</td>\n      <td>Оливия Фокс</td>\n      <td>UgyyAVRq5tzV5Sft8Eh4AaABAg</td>\n      <td>​ Sivceva вот кстати его плюс да, что не окисл...</td>\n      <td>sivceva кстати плюс окисляться количество фейк...</td>\n    </tr>\n    <tr>\n      <th>4645</th>\n      <td>UgyyAVRq5tzV5Sft8Eh4AaABAg.9qK84NHl_3M9qKB8OG4Zw9</td>\n      <td>KDhOg88LRxE</td>\n      <td>У Миши очень много фейка, они как раз очень жи...</td>\n      <td>У Миши очень много фейка, они как раз очень жи...</td>\n      <td>Inga Sivceva</td>\n      <td>UgyyAVRq5tzV5Sft8Eh4AaABAg</td>\n      <td>У Миши очень много фейка, они как раз очень жи...</td>\n      <td>миша очень фейк очень жирный окисляться плохо ...</td>\n    </tr>\n    <tr>\n      <th>4646</th>\n      <td>UgyyAVRq5tzV5Sft8Eh4AaABAg.9qK84NHl_3M9qKAScIjbh1</td>\n      <td>KDhOg88LRxE</td>\n      <td>​​@Yana Evstifeeva для жирной или склонной к ж...</td>\n      <td>​​@Yana Evstifeeva для жирной или склонной к ж...</td>\n      <td>Оливия Фокс</td>\n      <td>UgyyAVRq5tzV5Sft8Eh4AaABAg</td>\n      <td>​​ Evstifeeva для жирной или склонной к жирнос...</td>\n      <td>evstifeeva жирный склонный жирность подходить ...</td>\n    </tr>\n    <tr>\n      <th>4647</th>\n      <td>UgyyAVRq5tzV5Sft8Eh4AaABAg.9qK84NHl_3M9qK9mo_XP32</td>\n      <td>KDhOg88LRxE</td>\n      <td>Тоже вот подобное помню из старых видео...у ме...</td>\n      <td>Тоже вот подобное помню из старых видео...у ме...</td>\n      <td>Yana Evstifeeva</td>\n      <td>UgyyAVRq5tzV5Sft8Eh4AaABAg</td>\n      <td>Тоже вот подобное помню из старых видео...у ме...</td>\n      <td>подобный помнить старый видео комбинировать ск...</td>\n    </tr>\n  </tbody>\n</table>\n<p>4648 rows × 8 columns</p>\n</div>"
     },
     "execution_count": 4,
     "metadata": {},
     "output_type": "execute_result"
    }
   ],
   "source": [
    "\n",
    "data = pd.read_csv('data/comments_text.csv', sep='\\t')\n",
    "data"
   ],
   "metadata": {
    "collapsed": false,
    "ExecuteTime": {
     "end_time": "2023-06-02T20:04:22.286720Z",
     "start_time": "2023-06-02T20:04:22.193668Z"
    }
   }
  },
  {
   "cell_type": "code",
   "execution_count": 5,
   "outputs": [],
   "source": [
    "# Matrix\n",
    "\n",
    "# 5\n",
    "\n",
    "from sklearn.feature_extraction.text import CountVectorizer\n",
    "\n",
    "vectorization_params = {\n",
    "    'ngram_range' : (1,1), # Токены и словосочетания\n",
    "    'max_df': 0.95, # Токен не может быть встречаться чаще, чем в 95% текстов\n",
    "    'min_df': 5, # Токен не может быть встречаться чаще, чем в 0.01% текстов\n",
    "    'analyzer': 'word'\n",
    "}\n",
    "\n",
    "# Векторизация по частотам\n",
    "cnt_vect = CountVectorizer(**vectorization_params)\n",
    "\n"
   ],
   "metadata": {
    "collapsed": false,
    "ExecuteTime": {
     "end_time": "2023-06-02T20:05:29.159557Z",
     "start_time": "2023-06-02T20:05:27.252587Z"
    }
   }
  },
  {
   "cell_type": "code",
   "execution_count": 6,
   "outputs": [],
   "source": [
    "cnt_m_sparse = cnt_vect.fit_transform(data['lemmatized_text'])\n"
   ],
   "metadata": {
    "collapsed": false,
    "ExecuteTime": {
     "end_time": "2023-06-02T20:05:34.042339Z",
     "start_time": "2023-06-02T20:05:34.017632Z"
    }
   }
  },
  {
   "cell_type": "code",
   "execution_count": 7,
   "outputs": [
    {
     "data": {
      "text/plain": "2083"
     },
     "execution_count": 7,
     "metadata": {},
     "output_type": "execute_result"
    }
   ],
   "source": [
    "token_names = list(cnt_vect.vocabulary_.keys())\n",
    "\n",
    "len(token_names)"
   ],
   "metadata": {
    "collapsed": false,
    "ExecuteTime": {
     "end_time": "2023-06-02T20:05:35.782744Z",
     "start_time": "2023-06-02T20:05:35.772567Z"
    }
   }
  },
  {
   "cell_type": "code",
   "execution_count": 8,
   "outputs": [
    {
     "data": {
      "text/plain": "   хян  спасибо  большой  новый  видео  обожать  просто  делать  обзор   \n0    0        0        0      0      0        0       0       0      0  \\\n1    0        0        0      0      0        0       0       0      0   \n2    0        0        0      0      0        0       0       0      0   \n3    0        0        0      0      0        0       0       0      0   \n4    0        0        0      0      0        0       0       0      0   \n\n   делиться  ...  berry  ирина  николаев  доставлять  патриот  yun  налог   \n0         0  ...      0      0         0           0        0    0      0  \\\n1         0  ...      0      0         0           0        0    0      0   \n2         0  ...      0      0         0           0        0    0      0   \n3         0  ...      0      0         0           0        0    0      0   \n4         0  ...      0      0         0           0        0    0      0   \n\n   cane  купреева  перец  \n0     0         0      0  \n1     0         0      0  \n2     0         0      0  \n3     0         0      0  \n4     0         0      0  \n\n[5 rows x 2083 columns]",
      "text/html": "<div>\n<style scoped>\n    .dataframe tbody tr th:only-of-type {\n        vertical-align: middle;\n    }\n\n    .dataframe tbody tr th {\n        vertical-align: top;\n    }\n\n    .dataframe thead th {\n        text-align: right;\n    }\n</style>\n<table border=\"1\" class=\"dataframe\">\n  <thead>\n    <tr style=\"text-align: right;\">\n      <th></th>\n      <th>хян</th>\n      <th>спасибо</th>\n      <th>большой</th>\n      <th>новый</th>\n      <th>видео</th>\n      <th>обожать</th>\n      <th>просто</th>\n      <th>делать</th>\n      <th>обзор</th>\n      <th>делиться</th>\n      <th>...</th>\n      <th>berry</th>\n      <th>ирина</th>\n      <th>николаев</th>\n      <th>доставлять</th>\n      <th>патриот</th>\n      <th>yun</th>\n      <th>налог</th>\n      <th>cane</th>\n      <th>купреева</th>\n      <th>перец</th>\n    </tr>\n  </thead>\n  <tbody>\n    <tr>\n      <th>0</th>\n      <td>0</td>\n      <td>0</td>\n      <td>0</td>\n      <td>0</td>\n      <td>0</td>\n      <td>0</td>\n      <td>0</td>\n      <td>0</td>\n      <td>0</td>\n      <td>0</td>\n      <td>...</td>\n      <td>0</td>\n      <td>0</td>\n      <td>0</td>\n      <td>0</td>\n      <td>0</td>\n      <td>0</td>\n      <td>0</td>\n      <td>0</td>\n      <td>0</td>\n      <td>0</td>\n    </tr>\n    <tr>\n      <th>1</th>\n      <td>0</td>\n      <td>0</td>\n      <td>0</td>\n      <td>0</td>\n      <td>0</td>\n      <td>0</td>\n      <td>0</td>\n      <td>0</td>\n      <td>0</td>\n      <td>0</td>\n      <td>...</td>\n      <td>0</td>\n      <td>0</td>\n      <td>0</td>\n      <td>0</td>\n      <td>0</td>\n      <td>0</td>\n      <td>0</td>\n      <td>0</td>\n      <td>0</td>\n      <td>0</td>\n    </tr>\n    <tr>\n      <th>2</th>\n      <td>0</td>\n      <td>0</td>\n      <td>0</td>\n      <td>0</td>\n      <td>0</td>\n      <td>0</td>\n      <td>0</td>\n      <td>0</td>\n      <td>0</td>\n      <td>0</td>\n      <td>...</td>\n      <td>0</td>\n      <td>0</td>\n      <td>0</td>\n      <td>0</td>\n      <td>0</td>\n      <td>0</td>\n      <td>0</td>\n      <td>0</td>\n      <td>0</td>\n      <td>0</td>\n    </tr>\n    <tr>\n      <th>3</th>\n      <td>0</td>\n      <td>0</td>\n      <td>0</td>\n      <td>0</td>\n      <td>0</td>\n      <td>0</td>\n      <td>0</td>\n      <td>0</td>\n      <td>0</td>\n      <td>0</td>\n      <td>...</td>\n      <td>0</td>\n      <td>0</td>\n      <td>0</td>\n      <td>0</td>\n      <td>0</td>\n      <td>0</td>\n      <td>0</td>\n      <td>0</td>\n      <td>0</td>\n      <td>0</td>\n    </tr>\n    <tr>\n      <th>4</th>\n      <td>0</td>\n      <td>0</td>\n      <td>0</td>\n      <td>0</td>\n      <td>0</td>\n      <td>0</td>\n      <td>0</td>\n      <td>0</td>\n      <td>0</td>\n      <td>0</td>\n      <td>...</td>\n      <td>0</td>\n      <td>0</td>\n      <td>0</td>\n      <td>0</td>\n      <td>0</td>\n      <td>0</td>\n      <td>0</td>\n      <td>0</td>\n      <td>0</td>\n      <td>0</td>\n    </tr>\n  </tbody>\n</table>\n<p>5 rows × 2083 columns</p>\n</div>"
     },
     "execution_count": 8,
     "metadata": {},
     "output_type": "execute_result"
    }
   ],
   "source": [
    "# 7 Ма\n",
    "# Извлекаем какие токены мы берем\n",
    "token_names = list(cnt_vect.vocabulary_.keys())\n",
    "\n",
    "# подставляем их, чтобы просмотреть матрицу частот\n",
    "cmatrix = pd.DataFrame.sparse.from_spmatrix(cnt_m_sparse, columns=token_names)\n",
    "cmatrix.head()"
   ],
   "metadata": {
    "collapsed": false,
    "ExecuteTime": {
     "end_time": "2023-06-02T20:05:39.489526Z",
     "start_time": "2023-06-02T20:05:39.409048Z"
    }
   }
  },
  {
   "cell_type": "code",
   "execution_count": 14,
   "outputs": [],
   "source": [
    "cmatrix['index'] = data.index"
   ],
   "metadata": {
    "collapsed": false,
    "ExecuteTime": {
     "end_time": "2023-06-02T20:07:14.100187Z",
     "start_time": "2023-06-02T20:07:14.093958Z"
    }
   }
  },
  {
   "cell_type": "code",
   "execution_count": 17,
   "outputs": [
    {
     "ename": "KeyboardInterrupt",
     "evalue": "",
     "output_type": "error",
     "traceback": [
      "\u001B[0;31m---------------------------------------------------------------------------\u001B[0m",
      "\u001B[0;31mKeyboardInterrupt\u001B[0m                         Traceback (most recent call last)",
      "File \u001B[0;32m~/PycharmProjects/DataMiningProjects/.venv/lib/python3.10/site-packages/pandas/io/formats/excel.py:940\u001B[0m, in \u001B[0;36mExcelFormatter.write\u001B[0;34m(self, writer, sheet_name, startrow, startcol, freeze_panes, engine, storage_options)\u001B[0m\n\u001B[1;32m    939\u001B[0m \u001B[38;5;28;01mtry\u001B[39;00m:\n\u001B[0;32m--> 940\u001B[0m     \u001B[43mwriter\u001B[49m\u001B[38;5;241;43m.\u001B[39;49m\u001B[43m_write_cells\u001B[49m\u001B[43m(\u001B[49m\n\u001B[1;32m    941\u001B[0m \u001B[43m        \u001B[49m\u001B[43mformatted_cells\u001B[49m\u001B[43m,\u001B[49m\n\u001B[1;32m    942\u001B[0m \u001B[43m        \u001B[49m\u001B[43msheet_name\u001B[49m\u001B[43m,\u001B[49m\n\u001B[1;32m    943\u001B[0m \u001B[43m        \u001B[49m\u001B[43mstartrow\u001B[49m\u001B[38;5;241;43m=\u001B[39;49m\u001B[43mstartrow\u001B[49m\u001B[43m,\u001B[49m\n\u001B[1;32m    944\u001B[0m \u001B[43m        \u001B[49m\u001B[43mstartcol\u001B[49m\u001B[38;5;241;43m=\u001B[39;49m\u001B[43mstartcol\u001B[49m\u001B[43m,\u001B[49m\n\u001B[1;32m    945\u001B[0m \u001B[43m        \u001B[49m\u001B[43mfreeze_panes\u001B[49m\u001B[38;5;241;43m=\u001B[39;49m\u001B[43mfreeze_panes\u001B[49m\u001B[43m,\u001B[49m\n\u001B[1;32m    946\u001B[0m \u001B[43m    \u001B[49m\u001B[43m)\u001B[49m\n\u001B[1;32m    947\u001B[0m \u001B[38;5;28;01mfinally\u001B[39;00m:\n\u001B[1;32m    948\u001B[0m     \u001B[38;5;66;03m# make sure to close opened file handles\u001B[39;00m\n",
      "File \u001B[0;32m~/PycharmProjects/DataMiningProjects/.venv/lib/python3.10/site-packages/pandas/io/excel/_openpyxl.py:489\u001B[0m, in \u001B[0;36mOpenpyxlWriter._write_cells\u001B[0;34m(self, cells, sheet_name, startrow, startcol, freeze_panes)\u001B[0m\n\u001B[1;32m    486\u001B[0m xcell \u001B[38;5;241m=\u001B[39m wks\u001B[38;5;241m.\u001B[39mcell(\n\u001B[1;32m    487\u001B[0m     row\u001B[38;5;241m=\u001B[39mstartrow \u001B[38;5;241m+\u001B[39m cell\u001B[38;5;241m.\u001B[39mrow \u001B[38;5;241m+\u001B[39m \u001B[38;5;241m1\u001B[39m, column\u001B[38;5;241m=\u001B[39mstartcol \u001B[38;5;241m+\u001B[39m cell\u001B[38;5;241m.\u001B[39mcol \u001B[38;5;241m+\u001B[39m \u001B[38;5;241m1\u001B[39m\n\u001B[1;32m    488\u001B[0m )\n\u001B[0;32m--> 489\u001B[0m \u001B[43mxcell\u001B[49m\u001B[38;5;241;43m.\u001B[39;49m\u001B[43mvalue\u001B[49m, fmt \u001B[38;5;241m=\u001B[39m \u001B[38;5;28mself\u001B[39m\u001B[38;5;241m.\u001B[39m_value_with_fmt(cell\u001B[38;5;241m.\u001B[39mval)\n\u001B[1;32m    490\u001B[0m \u001B[38;5;28;01mif\u001B[39;00m fmt:\n",
      "File \u001B[0;32m~/PycharmProjects/DataMiningProjects/.venv/lib/python3.10/site-packages/openpyxl/cell/cell.py:218\u001B[0m, in \u001B[0;36mCell.value\u001B[0;34m(self, value)\u001B[0m\n\u001B[1;32m    217\u001B[0m \u001B[38;5;250m\u001B[39m\u001B[38;5;124;03m\"\"\"Set the value and infer type and display options.\"\"\"\u001B[39;00m\n\u001B[0;32m--> 218\u001B[0m \u001B[38;5;28;43mself\u001B[39;49m\u001B[38;5;241;43m.\u001B[39;49m\u001B[43m_bind_value\u001B[49m\u001B[43m(\u001B[49m\u001B[43mvalue\u001B[49m\u001B[43m)\u001B[49m\n",
      "File \u001B[0;32m~/PycharmProjects/DataMiningProjects/.venv/lib/python3.10/site-packages/openpyxl/cell/cell.py:180\u001B[0m, in \u001B[0;36mCell._bind_value\u001B[0;34m(self, value)\u001B[0m\n\u001B[1;32m    179\u001B[0m \u001B[38;5;28mself\u001B[39m\u001B[38;5;241m.\u001B[39mdata_type \u001B[38;5;241m=\u001B[39m \u001B[38;5;124m\"\u001B[39m\u001B[38;5;124mn\u001B[39m\u001B[38;5;124m\"\u001B[39m\n\u001B[0;32m--> 180\u001B[0m t \u001B[38;5;241m=\u001B[39m \u001B[38;5;28;43mtype\u001B[39;49m\u001B[43m(\u001B[49m\u001B[43mvalue\u001B[49m\u001B[43m)\u001B[49m\n\u001B[1;32m    181\u001B[0m \u001B[38;5;28;01mtry\u001B[39;00m:\n",
      "\u001B[0;31mKeyboardInterrupt\u001B[0m: ",
      "\nDuring handling of the above exception, another exception occurred:\n",
      "\u001B[0;31mKeyboardInterrupt\u001B[0m                         Traceback (most recent call last)",
      "Cell \u001B[0;32mIn[17], line 1\u001B[0m\n\u001B[0;32m----> 1\u001B[0m \u001B[43mcmatrix\u001B[49m\u001B[38;5;241;43m.\u001B[39;49m\u001B[43mto_excel\u001B[49m\u001B[43m(\u001B[49m\u001B[38;5;124;43m'\u001B[39;49m\u001B[38;5;124;43mcmatrix.xlsx\u001B[39;49m\u001B[38;5;124;43m'\u001B[39;49m\u001B[43m,\u001B[49m\u001B[43m \u001B[49m\u001B[43mindex\u001B[49m\u001B[38;5;241;43m=\u001B[39;49m\u001B[38;5;28;43;01mFalse\u001B[39;49;00m\u001B[43m)\u001B[49m\n",
      "File \u001B[0;32m~/PycharmProjects/DataMiningProjects/.venv/lib/python3.10/site-packages/pandas/core/generic.py:2252\u001B[0m, in \u001B[0;36mNDFrame.to_excel\u001B[0;34m(self, excel_writer, sheet_name, na_rep, float_format, columns, header, index, index_label, startrow, startcol, engine, merge_cells, inf_rep, freeze_panes, storage_options)\u001B[0m\n\u001B[1;32m   2239\u001B[0m \u001B[38;5;28;01mfrom\u001B[39;00m \u001B[38;5;21;01mpandas\u001B[39;00m\u001B[38;5;21;01m.\u001B[39;00m\u001B[38;5;21;01mio\u001B[39;00m\u001B[38;5;21;01m.\u001B[39;00m\u001B[38;5;21;01mformats\u001B[39;00m\u001B[38;5;21;01m.\u001B[39;00m\u001B[38;5;21;01mexcel\u001B[39;00m \u001B[38;5;28;01mimport\u001B[39;00m ExcelFormatter\n\u001B[1;32m   2241\u001B[0m formatter \u001B[38;5;241m=\u001B[39m ExcelFormatter(\n\u001B[1;32m   2242\u001B[0m     df,\n\u001B[1;32m   2243\u001B[0m     na_rep\u001B[38;5;241m=\u001B[39mna_rep,\n\u001B[0;32m   (...)\u001B[0m\n\u001B[1;32m   2250\u001B[0m     inf_rep\u001B[38;5;241m=\u001B[39minf_rep,\n\u001B[1;32m   2251\u001B[0m )\n\u001B[0;32m-> 2252\u001B[0m \u001B[43mformatter\u001B[49m\u001B[38;5;241;43m.\u001B[39;49m\u001B[43mwrite\u001B[49m\u001B[43m(\u001B[49m\n\u001B[1;32m   2253\u001B[0m \u001B[43m    \u001B[49m\u001B[43mexcel_writer\u001B[49m\u001B[43m,\u001B[49m\n\u001B[1;32m   2254\u001B[0m \u001B[43m    \u001B[49m\u001B[43msheet_name\u001B[49m\u001B[38;5;241;43m=\u001B[39;49m\u001B[43msheet_name\u001B[49m\u001B[43m,\u001B[49m\n\u001B[1;32m   2255\u001B[0m \u001B[43m    \u001B[49m\u001B[43mstartrow\u001B[49m\u001B[38;5;241;43m=\u001B[39;49m\u001B[43mstartrow\u001B[49m\u001B[43m,\u001B[49m\n\u001B[1;32m   2256\u001B[0m \u001B[43m    \u001B[49m\u001B[43mstartcol\u001B[49m\u001B[38;5;241;43m=\u001B[39;49m\u001B[43mstartcol\u001B[49m\u001B[43m,\u001B[49m\n\u001B[1;32m   2257\u001B[0m \u001B[43m    \u001B[49m\u001B[43mfreeze_panes\u001B[49m\u001B[38;5;241;43m=\u001B[39;49m\u001B[43mfreeze_panes\u001B[49m\u001B[43m,\u001B[49m\n\u001B[1;32m   2258\u001B[0m \u001B[43m    \u001B[49m\u001B[43mengine\u001B[49m\u001B[38;5;241;43m=\u001B[39;49m\u001B[43mengine\u001B[49m\u001B[43m,\u001B[49m\n\u001B[1;32m   2259\u001B[0m \u001B[43m    \u001B[49m\u001B[43mstorage_options\u001B[49m\u001B[38;5;241;43m=\u001B[39;49m\u001B[43mstorage_options\u001B[49m\u001B[43m,\u001B[49m\n\u001B[1;32m   2260\u001B[0m \u001B[43m\u001B[49m\u001B[43m)\u001B[49m\n",
      "File \u001B[0;32m~/PycharmProjects/DataMiningProjects/.venv/lib/python3.10/site-packages/pandas/io/formats/excel.py:950\u001B[0m, in \u001B[0;36mExcelFormatter.write\u001B[0;34m(self, writer, sheet_name, startrow, startcol, freeze_panes, engine, storage_options)\u001B[0m\n\u001B[1;32m    947\u001B[0m \u001B[38;5;28;01mfinally\u001B[39;00m:\n\u001B[1;32m    948\u001B[0m     \u001B[38;5;66;03m# make sure to close opened file handles\u001B[39;00m\n\u001B[1;32m    949\u001B[0m     \u001B[38;5;28;01mif\u001B[39;00m need_save:\n\u001B[0;32m--> 950\u001B[0m         \u001B[43mwriter\u001B[49m\u001B[38;5;241;43m.\u001B[39;49m\u001B[43mclose\u001B[49m\u001B[43m(\u001B[49m\u001B[43m)\u001B[49m\n",
      "File \u001B[0;32m~/PycharmProjects/DataMiningProjects/.venv/lib/python3.10/site-packages/pandas/io/excel/_base.py:1326\u001B[0m, in \u001B[0;36mExcelWriter.close\u001B[0;34m(self)\u001B[0m\n\u001B[1;32m   1324\u001B[0m \u001B[38;5;28;01mdef\u001B[39;00m \u001B[38;5;21mclose\u001B[39m(\u001B[38;5;28mself\u001B[39m) \u001B[38;5;241m-\u001B[39m\u001B[38;5;241m>\u001B[39m \u001B[38;5;28;01mNone\u001B[39;00m:\n\u001B[1;32m   1325\u001B[0m \u001B[38;5;250m    \u001B[39m\u001B[38;5;124;03m\"\"\"synonym for save, to make it more file-like\"\"\"\u001B[39;00m\n\u001B[0;32m-> 1326\u001B[0m     \u001B[38;5;28;43mself\u001B[39;49m\u001B[38;5;241;43m.\u001B[39;49m\u001B[43m_save\u001B[49m\u001B[43m(\u001B[49m\u001B[43m)\u001B[49m\n\u001B[1;32m   1327\u001B[0m     \u001B[38;5;28mself\u001B[39m\u001B[38;5;241m.\u001B[39m_handles\u001B[38;5;241m.\u001B[39mclose()\n",
      "File \u001B[0;32m~/PycharmProjects/DataMiningProjects/.venv/lib/python3.10/site-packages/pandas/io/excel/_openpyxl.py:109\u001B[0m, in \u001B[0;36mOpenpyxlWriter._save\u001B[0;34m(self)\u001B[0m\n\u001B[1;32m    105\u001B[0m \u001B[38;5;28;01mdef\u001B[39;00m \u001B[38;5;21m_save\u001B[39m(\u001B[38;5;28mself\u001B[39m) \u001B[38;5;241m-\u001B[39m\u001B[38;5;241m>\u001B[39m \u001B[38;5;28;01mNone\u001B[39;00m:\n\u001B[1;32m    106\u001B[0m \u001B[38;5;250m    \u001B[39m\u001B[38;5;124;03m\"\"\"\u001B[39;00m\n\u001B[1;32m    107\u001B[0m \u001B[38;5;124;03m    Save workbook to disk.\u001B[39;00m\n\u001B[1;32m    108\u001B[0m \u001B[38;5;124;03m    \"\"\"\u001B[39;00m\n\u001B[0;32m--> 109\u001B[0m     \u001B[38;5;28;43mself\u001B[39;49m\u001B[38;5;241;43m.\u001B[39;49m\u001B[43mbook\u001B[49m\u001B[38;5;241;43m.\u001B[39;49m\u001B[43msave\u001B[49m\u001B[43m(\u001B[49m\u001B[38;5;28;43mself\u001B[39;49m\u001B[38;5;241;43m.\u001B[39;49m\u001B[43m_handles\u001B[49m\u001B[38;5;241;43m.\u001B[39;49m\u001B[43mhandle\u001B[49m\u001B[43m)\u001B[49m\n\u001B[1;32m    110\u001B[0m     \u001B[38;5;28;01mif\u001B[39;00m \u001B[38;5;124m\"\u001B[39m\u001B[38;5;124mr+\u001B[39m\u001B[38;5;124m\"\u001B[39m \u001B[38;5;129;01min\u001B[39;00m \u001B[38;5;28mself\u001B[39m\u001B[38;5;241m.\u001B[39m_mode \u001B[38;5;129;01mand\u001B[39;00m \u001B[38;5;129;01mnot\u001B[39;00m \u001B[38;5;28misinstance\u001B[39m(\u001B[38;5;28mself\u001B[39m\u001B[38;5;241m.\u001B[39m_handles\u001B[38;5;241m.\u001B[39mhandle, mmap\u001B[38;5;241m.\u001B[39mmmap):\n\u001B[1;32m    111\u001B[0m         \u001B[38;5;66;03m# truncate file to the written content\u001B[39;00m\n\u001B[1;32m    112\u001B[0m         \u001B[38;5;28mself\u001B[39m\u001B[38;5;241m.\u001B[39m_handles\u001B[38;5;241m.\u001B[39mhandle\u001B[38;5;241m.\u001B[39mtruncate()\n",
      "File \u001B[0;32m~/PycharmProjects/DataMiningProjects/.venv/lib/python3.10/site-packages/openpyxl/workbook/workbook.py:386\u001B[0m, in \u001B[0;36mWorkbook.save\u001B[0;34m(self, filename)\u001B[0m\n\u001B[1;32m    384\u001B[0m \u001B[38;5;28;01mif\u001B[39;00m \u001B[38;5;28mself\u001B[39m\u001B[38;5;241m.\u001B[39mwrite_only \u001B[38;5;129;01mand\u001B[39;00m \u001B[38;5;129;01mnot\u001B[39;00m \u001B[38;5;28mself\u001B[39m\u001B[38;5;241m.\u001B[39mworksheets:\n\u001B[1;32m    385\u001B[0m     \u001B[38;5;28mself\u001B[39m\u001B[38;5;241m.\u001B[39mcreate_sheet()\n\u001B[0;32m--> 386\u001B[0m \u001B[43msave_workbook\u001B[49m\u001B[43m(\u001B[49m\u001B[38;5;28;43mself\u001B[39;49m\u001B[43m,\u001B[49m\u001B[43m \u001B[49m\u001B[43mfilename\u001B[49m\u001B[43m)\u001B[49m\n",
      "File \u001B[0;32m~/PycharmProjects/DataMiningProjects/.venv/lib/python3.10/site-packages/openpyxl/writer/excel.py:304\u001B[0m, in \u001B[0;36msave_workbook\u001B[0;34m(workbook, filename)\u001B[0m\n\u001B[1;32m    302\u001B[0m archive \u001B[38;5;241m=\u001B[39m ZipFile(filename, \u001B[38;5;124m'\u001B[39m\u001B[38;5;124mw\u001B[39m\u001B[38;5;124m'\u001B[39m, ZIP_DEFLATED, allowZip64\u001B[38;5;241m=\u001B[39m\u001B[38;5;28;01mTrue\u001B[39;00m)\n\u001B[1;32m    303\u001B[0m writer \u001B[38;5;241m=\u001B[39m ExcelWriter(workbook, archive)\n\u001B[0;32m--> 304\u001B[0m \u001B[43mwriter\u001B[49m\u001B[38;5;241;43m.\u001B[39;49m\u001B[43msave\u001B[49m\u001B[43m(\u001B[49m\u001B[43m)\u001B[49m\n\u001B[1;32m    305\u001B[0m \u001B[38;5;28;01mreturn\u001B[39;00m \u001B[38;5;28;01mTrue\u001B[39;00m\n",
      "File \u001B[0;32m~/PycharmProjects/DataMiningProjects/.venv/lib/python3.10/site-packages/openpyxl/writer/excel.py:286\u001B[0m, in \u001B[0;36mExcelWriter.save\u001B[0;34m(self)\u001B[0m\n\u001B[1;32m    284\u001B[0m \u001B[38;5;28;01mdef\u001B[39;00m \u001B[38;5;21msave\u001B[39m(\u001B[38;5;28mself\u001B[39m):\n\u001B[1;32m    285\u001B[0m \u001B[38;5;250m    \u001B[39m\u001B[38;5;124;03m\"\"\"Write data into the archive.\"\"\"\u001B[39;00m\n\u001B[0;32m--> 286\u001B[0m     \u001B[38;5;28;43mself\u001B[39;49m\u001B[38;5;241;43m.\u001B[39;49m\u001B[43mwrite_data\u001B[49m\u001B[43m(\u001B[49m\u001B[43m)\u001B[49m\n\u001B[1;32m    287\u001B[0m     \u001B[38;5;28mself\u001B[39m\u001B[38;5;241m.\u001B[39m_archive\u001B[38;5;241m.\u001B[39mclose()\n",
      "File \u001B[0;32m~/PycharmProjects/DataMiningProjects/.venv/lib/python3.10/site-packages/openpyxl/writer/excel.py:86\u001B[0m, in \u001B[0;36mExcelWriter.write_data\u001B[0;34m(self)\u001B[0m\n\u001B[1;32m     83\u001B[0m     \u001B[38;5;66;03m# custom_override = Override(PartName=\"/docProps/custom.xml\", ContentType=\"application/vnd.openxmlformats-officedocument.custom-properties+xml\")\u001B[39;00m\n\u001B[1;32m     84\u001B[0m     \u001B[38;5;28mself\u001B[39m\u001B[38;5;241m.\u001B[39mmanifest\u001B[38;5;241m.\u001B[39mappend(custom_override)\n\u001B[0;32m---> 86\u001B[0m \u001B[38;5;28;43mself\u001B[39;49m\u001B[38;5;241;43m.\u001B[39;49m\u001B[43m_write_worksheets\u001B[49m\u001B[43m(\u001B[49m\u001B[43m)\u001B[49m\n\u001B[1;32m     87\u001B[0m \u001B[38;5;28mself\u001B[39m\u001B[38;5;241m.\u001B[39m_write_chartsheets()\n\u001B[1;32m     88\u001B[0m \u001B[38;5;28mself\u001B[39m\u001B[38;5;241m.\u001B[39m_write_images()\n",
      "File \u001B[0;32m~/PycharmProjects/DataMiningProjects/.venv/lib/python3.10/site-packages/openpyxl/writer/excel.py:226\u001B[0m, in \u001B[0;36mExcelWriter._write_worksheets\u001B[0;34m(self)\u001B[0m\n\u001B[1;32m    223\u001B[0m \u001B[38;5;28;01mfor\u001B[39;00m idx, ws \u001B[38;5;129;01min\u001B[39;00m \u001B[38;5;28menumerate\u001B[39m(\u001B[38;5;28mself\u001B[39m\u001B[38;5;241m.\u001B[39mworkbook\u001B[38;5;241m.\u001B[39mworksheets, \u001B[38;5;241m1\u001B[39m):\n\u001B[1;32m    225\u001B[0m     ws\u001B[38;5;241m.\u001B[39m_id \u001B[38;5;241m=\u001B[39m idx\n\u001B[0;32m--> 226\u001B[0m     \u001B[38;5;28;43mself\u001B[39;49m\u001B[38;5;241;43m.\u001B[39;49m\u001B[43mwrite_worksheet\u001B[49m\u001B[43m(\u001B[49m\u001B[43mws\u001B[49m\u001B[43m)\u001B[49m\n\u001B[1;32m    228\u001B[0m     \u001B[38;5;28;01mif\u001B[39;00m ws\u001B[38;5;241m.\u001B[39m_drawing:\n\u001B[1;32m    229\u001B[0m         \u001B[38;5;28mself\u001B[39m\u001B[38;5;241m.\u001B[39m_write_drawing(ws\u001B[38;5;241m.\u001B[39m_drawing)\n",
      "File \u001B[0;32m~/PycharmProjects/DataMiningProjects/.venv/lib/python3.10/site-packages/openpyxl/writer/excel.py:211\u001B[0m, in \u001B[0;36mExcelWriter.write_worksheet\u001B[0;34m(self, ws)\u001B[0m\n\u001B[1;32m    209\u001B[0m \u001B[38;5;28;01melse\u001B[39;00m:\n\u001B[1;32m    210\u001B[0m     writer \u001B[38;5;241m=\u001B[39m WorksheetWriter(ws)\n\u001B[0;32m--> 211\u001B[0m     \u001B[43mwriter\u001B[49m\u001B[38;5;241;43m.\u001B[39;49m\u001B[43mwrite\u001B[49m\u001B[43m(\u001B[49m\u001B[43m)\u001B[49m\n\u001B[1;32m    213\u001B[0m ws\u001B[38;5;241m.\u001B[39m_rels \u001B[38;5;241m=\u001B[39m writer\u001B[38;5;241m.\u001B[39m_rels\n\u001B[1;32m    214\u001B[0m \u001B[38;5;28mself\u001B[39m\u001B[38;5;241m.\u001B[39m_archive\u001B[38;5;241m.\u001B[39mwrite(writer\u001B[38;5;241m.\u001B[39mout, ws\u001B[38;5;241m.\u001B[39mpath[\u001B[38;5;241m1\u001B[39m:])\n",
      "File \u001B[0;32m~/PycharmProjects/DataMiningProjects/.venv/lib/python3.10/site-packages/openpyxl/worksheet/_writer.py:359\u001B[0m, in \u001B[0;36mWorksheetWriter.write\u001B[0;34m(self)\u001B[0m\n\u001B[1;32m    355\u001B[0m \u001B[38;5;250m\u001B[39m\u001B[38;5;124;03m\"\"\"\u001B[39;00m\n\u001B[1;32m    356\u001B[0m \u001B[38;5;124;03mHigh level\u001B[39;00m\n\u001B[1;32m    357\u001B[0m \u001B[38;5;124;03m\"\"\"\u001B[39;00m\n\u001B[1;32m    358\u001B[0m \u001B[38;5;28mself\u001B[39m\u001B[38;5;241m.\u001B[39mwrite_top()\n\u001B[0;32m--> 359\u001B[0m \u001B[38;5;28;43mself\u001B[39;49m\u001B[38;5;241;43m.\u001B[39;49m\u001B[43mwrite_rows\u001B[49m\u001B[43m(\u001B[49m\u001B[43m)\u001B[49m\n\u001B[1;32m    360\u001B[0m \u001B[38;5;28mself\u001B[39m\u001B[38;5;241m.\u001B[39mwrite_tail()\n\u001B[1;32m    361\u001B[0m \u001B[38;5;28mself\u001B[39m\u001B[38;5;241m.\u001B[39mclose()\n",
      "File \u001B[0;32m~/PycharmProjects/DataMiningProjects/.venv/lib/python3.10/site-packages/openpyxl/worksheet/_writer.py:124\u001B[0m, in \u001B[0;36mWorksheetWriter.write_rows\u001B[0;34m(self)\u001B[0m\n\u001B[1;32m    121\u001B[0m xf \u001B[38;5;241m=\u001B[39m \u001B[38;5;28mself\u001B[39m\u001B[38;5;241m.\u001B[39mxf\u001B[38;5;241m.\u001B[39msend(\u001B[38;5;28;01mTrue\u001B[39;00m)\n\u001B[1;32m    123\u001B[0m \u001B[38;5;28;01mwith\u001B[39;00m xf\u001B[38;5;241m.\u001B[39melement(\u001B[38;5;124m\"\u001B[39m\u001B[38;5;124msheetData\u001B[39m\u001B[38;5;124m\"\u001B[39m):\n\u001B[0;32m--> 124\u001B[0m     \u001B[38;5;28;01mfor\u001B[39;00m row_idx, row \u001B[38;5;129;01min\u001B[39;00m \u001B[38;5;28;43mself\u001B[39;49m\u001B[38;5;241;43m.\u001B[39;49m\u001B[43mrows\u001B[49m\u001B[43m(\u001B[49m\u001B[43m)\u001B[49m:\n\u001B[1;32m    125\u001B[0m         \u001B[38;5;28mself\u001B[39m\u001B[38;5;241m.\u001B[39mwrite_row(xf, row, row_idx)\n\u001B[1;32m    127\u001B[0m \u001B[38;5;28mself\u001B[39m\u001B[38;5;241m.\u001B[39mxf\u001B[38;5;241m.\u001B[39msend(\u001B[38;5;28;01mNone\u001B[39;00m)\n",
      "File \u001B[0;32m~/PycharmProjects/DataMiningProjects/.venv/lib/python3.10/site-packages/openpyxl/worksheet/_writer.py:110\u001B[0m, in \u001B[0;36mWorksheetWriter.rows\u001B[0;34m(self)\u001B[0m\n\u001B[1;32m    108\u001B[0m \u001B[38;5;66;03m# order cells by row\u001B[39;00m\n\u001B[1;32m    109\u001B[0m rows \u001B[38;5;241m=\u001B[39m defaultdict(\u001B[38;5;28mlist\u001B[39m)\n\u001B[0;32m--> 110\u001B[0m \u001B[38;5;28;01mfor\u001B[39;00m (row, col), cell \u001B[38;5;129;01min\u001B[39;00m \u001B[38;5;28;43msorted\u001B[39;49m\u001B[43m(\u001B[49m\u001B[38;5;28;43mself\u001B[39;49m\u001B[38;5;241;43m.\u001B[39;49m\u001B[43mws\u001B[49m\u001B[38;5;241;43m.\u001B[39;49m\u001B[43m_cells\u001B[49m\u001B[38;5;241;43m.\u001B[39;49m\u001B[43mitems\u001B[49m\u001B[43m(\u001B[49m\u001B[43m)\u001B[49m\u001B[43m)\u001B[49m:\n\u001B[1;32m    111\u001B[0m     rows[row]\u001B[38;5;241m.\u001B[39mappend(cell)\n\u001B[1;32m    113\u001B[0m \u001B[38;5;66;03m# add empty rows if styling has been applied\u001B[39;00m\n",
      "\u001B[0;31mKeyboardInterrupt\u001B[0m: "
     ]
    }
   ],
   "source": [
    "cmatrix.to_excel('cmatrix.xlsx', index=False)"
   ],
   "metadata": {
    "collapsed": false,
    "ExecuteTime": {
     "end_time": "2023-06-02T20:08:14.239727Z",
     "start_time": "2023-06-02T20:07:36.202260Z"
    }
   }
  }
 ],
 "metadata": {
  "kernelspec": {
   "display_name": "Python 3",
   "language": "python",
   "name": "python3"
  },
  "language_info": {
   "codemirror_mode": {
    "name": "ipython",
    "version": 2
   },
   "file_extension": ".py",
   "mimetype": "text/x-python",
   "name": "python",
   "nbconvert_exporter": "python",
   "pygments_lexer": "ipython2",
   "version": "2.7.6"
  }
 },
 "nbformat": 4,
 "nbformat_minor": 0
}
