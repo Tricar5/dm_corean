{
 "cells": [
  {
   "cell_type": "markdown",
   "source": [
    "# Занятие 7. Поиск отдельных видео, хорошо репрезентирующих совокупность всех релевантных видео\n",
    "\n",
    "\n",
    "[x] Определите тип шкалы переменных statistics.viewCount, statistics.likeCount, statistics.dislikeCount, statistics.commentCount.\n",
    "[] Определите, какие методы описательной статистики релевантны исследуемым переменным с т.з. типа шкалы последних.\n",
    "[] Примените выбранные методы описательной статистики относительно каждой исследуемой переменной, чтобы познакомиться с ней: (а) постройте её распределение,\n",
    "(б) найдите значение, репрезентирующее по данной переменной всю совокупность видео,\n",
    "(в) оцените, насколько этому значению можно доверять,\n",
    "(г) найдите видео, наиболее репрезентирующие совокупность по исследуемым переменным; посмотрите эти видео и комментарии к ним; проведите анализ в качественной парадигме.\n",
    "\n",
    "[] Определите тип шкалы переменной categoryName.\n",
    "[] Определите, какие методы описательной статистики релевантны исследуемой переменной с т.з. типа шкалы последней.\n",
    "[] Примените выбранные методы описательной статистики относительно исследуемой переменной, чтобы познакомиться с ней: (а) постройте её распределение,\n",
    "(б) найдите значение, репрезентирующее по данной переменной всю совокупность видео,\n",
    "(в) оцените, насколько этому значению можно доверять,\n",
    "(г) найдите видео, наиболее репрезентирующее совокупность по исследуемой переменной; посмотрите это видео и комментарии к нему; проведите анализ в качественной парадигме.\n",
    "[] Выводы впишите в скрипт в формате комментариев или Markdown.\n",
    "[] Обогатите визуализацию описательной статистики для каналов и видео. выгруженных на занятиях соответствующей уч.дисциплины в социологическом бакалавриате ВШЭ, посредством построения интерактивных диаграм.\n",
    "[] Постройте облако слов на основе любой из выгруженных на прошлых занятиях текстовых характеристик\n",
    "[] Если всё получилось, нажмите Kernel -> Restart & Run All для автоматического последовательного запуска всех чанков.\n",
    "[] Покажите результат преподавателю."
   ],
   "metadata": {
    "collapsed": false
   }
  },
  {
   "cell_type": "raw",
   "source": [
    "# 0 Установка необходимых пакетов\n",
    "! poetry add randan\n",
    "! poetry add plotly"
   ],
   "metadata": {
    "collapsed": false
   }
  },
  {
   "cell_type": "code",
   "execution_count": 1,
   "outputs": [],
   "source": [
    "# 1 загрузка конфигов и путей\n",
    "import pathlib\n",
    "\n",
    "import numpy as np\n",
    "import yaml\n",
    "\n",
    "ROOT = pathlib.Path().resolve().parent.parent\n",
    "\n",
    "with open(ROOT / \"config.yml\", \"r\") as f:\n",
    "    config = yaml.safe_load(f)"
   ],
   "metadata": {
    "collapsed": false
   }
  },
  {
   "cell_type": "code",
   "execution_count": 2,
   "outputs": [
    {
     "name": "stdout",
     "output_type": "stream",
     "text": [
      "/Users/andrey/PycharmProjects/DataMiningProjects/data\n"
     ]
    }
   ],
   "source": [
    "# 2 Загрузка данных о видео\n",
    "\n",
    "DATA_PATH = ROOT / config['api']['DATA_PATH']\n",
    "print(DATA_PATH)"
   ],
   "metadata": {
    "collapsed": false
   }
  },
  {
   "cell_type": "code",
   "execution_count": 3,
   "outputs": [],
   "source": [
    "# 3 импорт необходимых библиотек\n",
    "\n",
    "import randan as rd\n",
    "import googleapiclient.discovery as api\n",
    "import pandas as pd\n",
    "import numpy as np"
   ],
   "metadata": {
    "collapsed": false
   }
  },
  {
   "cell_type": "code",
   "execution_count": 4,
   "outputs": [],
   "source": [
    "# 4 загрузка данных\n",
    "\n",
    "df_korean = pd.read_excel(DATA_PATH / 'video' / 'Video_characteristics_Корейская_косметика.xlsx')"
   ],
   "metadata": {
    "collapsed": false
   }
  },
  {
   "cell_type": "code",
   "execution_count": 5,
   "outputs": [
    {
     "data": {
      "text/plain": "            kind                         etag           id  \\\n0  youtube#video  hFWHeWO-R7oU4c2XL_XGUFSW0Ro  Wi49rKRM85U   \n1  youtube#video  dH5eRX5ktvZc5h6hZepKAsK6zSo  1ErvLvQoYxc   \n2  youtube#video  VAaYvq0w2V6n-a6E6upg2A1iJbE  aiY0ymL25Pw   \n3  youtube#video  Xu0qxfp0-q2X2DrGsPlfAAn6nqM  JA9E4TCVsDU   \n4  youtube#video  1G4hAX30sQ9cKXA2lX2UD6wUbuY  NAeXVpMTiT4   \n\n    snippet.publishedAt         snippet.channelId  \\\n0  2022-06-20T12:57:48Z  UCphnZS52v_lkv5RSl5n70tQ   \n1  2019-03-21T10:23:49Z  UC6C0oFYlpKkFGG-ykqM4fYw   \n2  2021-08-20T08:51:18Z  UCiT7bPorr4rKJU8WFBZA9Og   \n3  2015-12-06T14:30:40Z  UCNazbf-kLY6E8TO_o48ZExQ   \n4  2018-04-20T15:19:56Z  UCmXGqfEsluA1fID55bVexjw   \n\n                                       snippet.title  \\\n0  한국인들은 절대 안사는 화장품 КОСМЕТИКА КОТОРАЯ КОРЕЯНКИ ВО...   \n1  ТЫ ДОЛЖНА ЭТО ПОПРОБОВАТЬ! ЛУЧШАЯ КОРЕЙСКАЯ КО...   \n2  РЕАКЦИЯ дерматолога: 10 этапов корейского уход...   \n3  КАК Я ИСПОРТИЛА КОЖУ: КОРЕЙСКАЯ КОСМЕТИКА\\Tony...   \n4  🇰🇷 НЕВЕРОЯТНАЯ КОРЕЙСКАЯ КОСМЕТИКА! Топовые шт...   \n\n                                 snippet.description  \\\n0  ⚫подписаться: https://goo.gl/3QbeUf\\n---------...   \n1  Хорошие мои, сегодня я расскажу вам про свой к...   \n2  Мой телеграм:\\nhttps://t.me/dr_amina_pirmanova...   \n3  Привет! Корейская косметика снова набирает обо...   \n4  Магазин корейской косметики https://goo.gl/UJG...   \n\n                   snippet.thumbnails.default.url  \\\n0  https://i.ytimg.com/vi/Wi49rKRM85U/default.jpg   \n1  https://i.ytimg.com/vi/1ErvLvQoYxc/default.jpg   \n2  https://i.ytimg.com/vi/aiY0ymL25Pw/default.jpg   \n3  https://i.ytimg.com/vi/JA9E4TCVsDU/default.jpg   \n4  https://i.ytimg.com/vi/NAeXVpMTiT4/default.jpg   \n\n   snippet.thumbnails.default.width  snippet.thumbnails.default.height  ...  \\\n0                               120                                 90  ...   \n1                               120                                 90  ...   \n2                               120                                 90  ...   \n3                               120                                 90  ...   \n4                               120                                 90  ...   \n\n  statistics.favoriteCount  statistics.commentCount  \\\n0                        0                   1065.0   \n1                        0                    378.0   \n2                        0                   1777.0   \n3                        0                    324.0   \n4                        0                    687.0   \n\n                                    player.embedHtml  \\\n0  <iframe width=\"480\" height=\"270\" src=\"//www.yo...   \n1  <iframe width=\"480\" height=\"270\" src=\"//www.yo...   \n2  <iframe width=\"480\" height=\"270\" src=\"//www.yo...   \n3  <iframe width=\"480\" height=\"270\" src=\"//www.yo...   \n4  <iframe width=\"480\" height=\"270\" src=\"//www.yo...   \n\n                        topicDetails.topicCategories  snippet.defaultLanguage  \\\n0  ['https://en.wikipedia.org/wiki/Lifestyle_(soc...                      NaN   \n1  ['https://en.wikipedia.org/wiki/Lifestyle_(soc...                      NaN   \n2  ['https://en.wikipedia.org/wiki/Health', 'http...                      NaN   \n3  ['https://en.wikipedia.org/wiki/Lifestyle_(soc...                      NaN   \n4  ['https://en.wikipedia.org/wiki/Lifestyle_(soc...                      NaN   \n\n   liveStreamingDetails.actualStartTime liveStreamingDetails.actualEndTime  \\\n0                                   NaN                                NaN   \n1                                   NaN                                NaN   \n2                                   NaN                                NaN   \n3                                   NaN                                NaN   \n4                                   NaN                                NaN   \n\n   liveStreamingDetails.scheduledStartTime  statistics.dislikesCount  \\\n0                                      NaN                     595.0   \n1                                      NaN                     192.0   \n2                                      NaN                     279.0   \n3                                      NaN                     555.0   \n4                                      NaN                     397.0   \n\n     categoryName  \n0  People & Blogs  \n1   Howto & Style  \n2  People & Blogs  \n3   Howto & Style  \n4   Howto & Style  \n\n[5 rows x 41 columns]",
      "text/html": "<div>\n<style scoped>\n    .dataframe tbody tr th:only-of-type {\n        vertical-align: middle;\n    }\n\n    .dataframe tbody tr th {\n        vertical-align: top;\n    }\n\n    .dataframe thead th {\n        text-align: right;\n    }\n</style>\n<table border=\"1\" class=\"dataframe\">\n  <thead>\n    <tr style=\"text-align: right;\">\n      <th></th>\n      <th>kind</th>\n      <th>etag</th>\n      <th>id</th>\n      <th>snippet.publishedAt</th>\n      <th>snippet.channelId</th>\n      <th>snippet.title</th>\n      <th>snippet.description</th>\n      <th>snippet.thumbnails.default.url</th>\n      <th>snippet.thumbnails.default.width</th>\n      <th>snippet.thumbnails.default.height</th>\n      <th>...</th>\n      <th>statistics.favoriteCount</th>\n      <th>statistics.commentCount</th>\n      <th>player.embedHtml</th>\n      <th>topicDetails.topicCategories</th>\n      <th>snippet.defaultLanguage</th>\n      <th>liveStreamingDetails.actualStartTime</th>\n      <th>liveStreamingDetails.actualEndTime</th>\n      <th>liveStreamingDetails.scheduledStartTime</th>\n      <th>statistics.dislikesCount</th>\n      <th>categoryName</th>\n    </tr>\n  </thead>\n  <tbody>\n    <tr>\n      <th>0</th>\n      <td>youtube#video</td>\n      <td>hFWHeWO-R7oU4c2XL_XGUFSW0Ro</td>\n      <td>Wi49rKRM85U</td>\n      <td>2022-06-20T12:57:48Z</td>\n      <td>UCphnZS52v_lkv5RSl5n70tQ</td>\n      <td>한국인들은 절대 안사는 화장품 КОСМЕТИКА КОТОРАЯ КОРЕЯНКИ ВО...</td>\n      <td>⚫подписаться: https://goo.gl/3QbeUf\\n---------...</td>\n      <td>https://i.ytimg.com/vi/Wi49rKRM85U/default.jpg</td>\n      <td>120</td>\n      <td>90</td>\n      <td>...</td>\n      <td>0</td>\n      <td>1065.0</td>\n      <td>&lt;iframe width=\"480\" height=\"270\" src=\"//www.yo...</td>\n      <td>['https://en.wikipedia.org/wiki/Lifestyle_(soc...</td>\n      <td>NaN</td>\n      <td>NaN</td>\n      <td>NaN</td>\n      <td>NaN</td>\n      <td>595.0</td>\n      <td>People &amp; Blogs</td>\n    </tr>\n    <tr>\n      <th>1</th>\n      <td>youtube#video</td>\n      <td>dH5eRX5ktvZc5h6hZepKAsK6zSo</td>\n      <td>1ErvLvQoYxc</td>\n      <td>2019-03-21T10:23:49Z</td>\n      <td>UC6C0oFYlpKkFGG-ykqM4fYw</td>\n      <td>ТЫ ДОЛЖНА ЭТО ПОПРОБОВАТЬ! ЛУЧШАЯ КОРЕЙСКАЯ КО...</td>\n      <td>Хорошие мои, сегодня я расскажу вам про свой к...</td>\n      <td>https://i.ytimg.com/vi/1ErvLvQoYxc/default.jpg</td>\n      <td>120</td>\n      <td>90</td>\n      <td>...</td>\n      <td>0</td>\n      <td>378.0</td>\n      <td>&lt;iframe width=\"480\" height=\"270\" src=\"//www.yo...</td>\n      <td>['https://en.wikipedia.org/wiki/Lifestyle_(soc...</td>\n      <td>NaN</td>\n      <td>NaN</td>\n      <td>NaN</td>\n      <td>NaN</td>\n      <td>192.0</td>\n      <td>Howto &amp; Style</td>\n    </tr>\n    <tr>\n      <th>2</th>\n      <td>youtube#video</td>\n      <td>VAaYvq0w2V6n-a6E6upg2A1iJbE</td>\n      <td>aiY0ymL25Pw</td>\n      <td>2021-08-20T08:51:18Z</td>\n      <td>UCiT7bPorr4rKJU8WFBZA9Og</td>\n      <td>РЕАКЦИЯ дерматолога: 10 этапов корейского уход...</td>\n      <td>Мой телеграм:\\nhttps://t.me/dr_amina_pirmanova...</td>\n      <td>https://i.ytimg.com/vi/aiY0ymL25Pw/default.jpg</td>\n      <td>120</td>\n      <td>90</td>\n      <td>...</td>\n      <td>0</td>\n      <td>1777.0</td>\n      <td>&lt;iframe width=\"480\" height=\"270\" src=\"//www.yo...</td>\n      <td>['https://en.wikipedia.org/wiki/Health', 'http...</td>\n      <td>NaN</td>\n      <td>NaN</td>\n      <td>NaN</td>\n      <td>NaN</td>\n      <td>279.0</td>\n      <td>People &amp; Blogs</td>\n    </tr>\n    <tr>\n      <th>3</th>\n      <td>youtube#video</td>\n      <td>Xu0qxfp0-q2X2DrGsPlfAAn6nqM</td>\n      <td>JA9E4TCVsDU</td>\n      <td>2015-12-06T14:30:40Z</td>\n      <td>UCNazbf-kLY6E8TO_o48ZExQ</td>\n      <td>КАК Я ИСПОРТИЛА КОЖУ: КОРЕЙСКАЯ КОСМЕТИКА\\Tony...</td>\n      <td>Привет! Корейская косметика снова набирает обо...</td>\n      <td>https://i.ytimg.com/vi/JA9E4TCVsDU/default.jpg</td>\n      <td>120</td>\n      <td>90</td>\n      <td>...</td>\n      <td>0</td>\n      <td>324.0</td>\n      <td>&lt;iframe width=\"480\" height=\"270\" src=\"//www.yo...</td>\n      <td>['https://en.wikipedia.org/wiki/Lifestyle_(soc...</td>\n      <td>NaN</td>\n      <td>NaN</td>\n      <td>NaN</td>\n      <td>NaN</td>\n      <td>555.0</td>\n      <td>Howto &amp; Style</td>\n    </tr>\n    <tr>\n      <th>4</th>\n      <td>youtube#video</td>\n      <td>1G4hAX30sQ9cKXA2lX2UD6wUbuY</td>\n      <td>NAeXVpMTiT4</td>\n      <td>2018-04-20T15:19:56Z</td>\n      <td>UCmXGqfEsluA1fID55bVexjw</td>\n      <td>🇰🇷 НЕВЕРОЯТНАЯ КОРЕЙСКАЯ КОСМЕТИКА! Топовые шт...</td>\n      <td>Магазин корейской косметики https://goo.gl/UJG...</td>\n      <td>https://i.ytimg.com/vi/NAeXVpMTiT4/default.jpg</td>\n      <td>120</td>\n      <td>90</td>\n      <td>...</td>\n      <td>0</td>\n      <td>687.0</td>\n      <td>&lt;iframe width=\"480\" height=\"270\" src=\"//www.yo...</td>\n      <td>['https://en.wikipedia.org/wiki/Lifestyle_(soc...</td>\n      <td>NaN</td>\n      <td>NaN</td>\n      <td>NaN</td>\n      <td>NaN</td>\n      <td>397.0</td>\n      <td>Howto &amp; Style</td>\n    </tr>\n  </tbody>\n</table>\n<p>5 rows × 41 columns</p>\n</div>"
     },
     "execution_count": 5,
     "metadata": {},
     "output_type": "execute_result"
    }
   ],
   "source": [
    "# 5 загрузка данных\n",
    "\n",
    "df_korean.head()"
   ],
   "metadata": {
    "collapsed": false
   }
  },
  {
   "cell_type": "code",
   "execution_count": 5,
   "outputs": [],
   "source": [],
   "metadata": {
    "collapsed": false
   }
  },
  {
   "cell_type": "code",
   "execution_count": 6,
   "outputs": [
    {
     "name": "stdout",
     "output_type": "stream",
     "text": [
      "<class 'pandas.core.frame.DataFrame'>\n",
      "RangeIndex: 1315 entries, 0 to 1314\n",
      "Data columns (total 41 columns):\n",
      " #   Column                                   Non-Null Count  Dtype  \n",
      "---  ------                                   --------------  -----  \n",
      " 0   kind                                     1315 non-null   object \n",
      " 1   etag                                     1315 non-null   object \n",
      " 2   id                                       1315 non-null   object \n",
      " 3   snippet.publishedAt                      1315 non-null   object \n",
      " 4   snippet.channelId                        1315 non-null   object \n",
      " 5   snippet.title                            1315 non-null   object \n",
      " 6   snippet.description                      1045 non-null   object \n",
      " 7   snippet.thumbnails.default.url           1315 non-null   object \n",
      " 8   snippet.thumbnails.default.width         1315 non-null   int64  \n",
      " 9   snippet.thumbnails.default.height        1315 non-null   int64  \n",
      " 10  snippet.thumbnails.medium.url            1315 non-null   object \n",
      " 11  snippet.thumbnails.medium.width          1315 non-null   int64  \n",
      " 12  snippet.thumbnails.medium.height         1315 non-null   int64  \n",
      " 13  snippet.thumbnails.high.url              1315 non-null   object \n",
      " 14  snippet.thumbnails.high.width            1315 non-null   int64  \n",
      " 15  snippet.thumbnails.high.height           1315 non-null   int64  \n",
      " 16  snippet.thumbnails.standard.url          1286 non-null   object \n",
      " 17  snippet.thumbnails.standard.width        1286 non-null   float64\n",
      " 18  snippet.thumbnails.standard.height       1286 non-null   float64\n",
      " 19  snippet.thumbnails.maxres.url            1135 non-null   object \n",
      " 20  snippet.thumbnails.maxres.width          1135 non-null   float64\n",
      " 21  snippet.thumbnails.maxres.height         1135 non-null   float64\n",
      " 22  snippet.channelTitle                     1315 non-null   object \n",
      " 23  snippet.tags                             835 non-null    object \n",
      " 24  snippet.categoryId                       1315 non-null   int64  \n",
      " 25  snippet.liveBroadcastContent             1315 non-null   object \n",
      " 26  snippet.localized.title                  1315 non-null   object \n",
      " 27  snippet.localized.description            1045 non-null   object \n",
      " 28  snippet.defaultAudioLanguage             690 non-null    object \n",
      " 29  statistics.viewCount                     1315 non-null   int64  \n",
      " 30  statistics.likeCount                     1284 non-null   float64\n",
      " 31  statistics.favoriteCount                 1315 non-null   int64  \n",
      " 32  statistics.commentCount                  1299 non-null   float64\n",
      " 33  player.embedHtml                         1315 non-null   object \n",
      " 34  topicDetails.topicCategories             1250 non-null   object \n",
      " 35  snippet.defaultLanguage                  227 non-null    object \n",
      " 36  liveStreamingDetails.actualStartTime     41 non-null     object \n",
      " 37  liveStreamingDetails.actualEndTime       41 non-null     object \n",
      " 38  liveStreamingDetails.scheduledStartTime  40 non-null     object \n",
      " 39  statistics.dislikesCount                 1313 non-null   float64\n",
      " 40  categoryName                             1309 non-null   object \n",
      "dtypes: float64(7), int64(9), object(25)\n",
      "memory usage: 421.3+ KB\n"
     ]
    }
   ],
   "source": [
    "# 6 \n",
    "\n",
    "df_korean.info()"
   ],
   "metadata": {
    "collapsed": false
   }
  },
  {
   "cell_type": "code",
   "execution_count": 7,
   "outputs": [],
   "source": [
    "from randan.descriptive_statistics import ScaleStatistics, OrdinalStatistics, NominalStatistics"
   ],
   "metadata": {
    "collapsed": false
   }
  },
  {
   "cell_type": "markdown",
   "source": [
    "# Изучение интервальных переменных\n",
    "\n",
    "** Переменные `viewCount`, `likeCount`, `dislikesCount`, `commentCount` относятся к интервальному типу**"
   ],
   "metadata": {
    "collapsed": false
   }
  },
  {
   "cell_type": "code",
   "execution_count": 8,
   "outputs": [
    {
     "name": "stdout",
     "output_type": "stream",
     "text": [
      "\n",
      "SCALE STATISTICS SUMMARY\n",
      "------------------\n",
      "\n"
     ]
    },
    {
     "name": "stderr",
     "output_type": "stream",
     "text": [
      "/Users/andrey/PycharmProjects/DataMiningProjects/.venv/lib/python3.10/site-packages/randan/descriptive_statistics.py:491: FutureWarning: this method is deprecated in favour of `Styler.format(precision=..)`\n",
      "  .set_precision(n_decimals))\n"
     ]
    },
    {
     "data": {
      "text/plain": "<pandas.io.formats.style.Styler at 0x14d801ae0>",
      "text/html": "<style type=\"text/css\">\n</style>\n<table id=\"T_b271d\">\n  <caption>method .summary()</caption>\n  <thead>\n    <tr>\n      <th class=\"blank level0\" >&nbsp;</th>\n      <th id=\"T_b271d_level0_col0\" class=\"col_heading level0 col0\" >N</th>\n      <th id=\"T_b271d_level0_col1\" class=\"col_heading level0 col1\" >mode</th>\n      <th id=\"T_b271d_level0_col2\" class=\"col_heading level0 col2\" >median</th>\n      <th id=\"T_b271d_level0_col3\" class=\"col_heading level0 col3\" >mean</th>\n      <th id=\"T_b271d_level0_col4\" class=\"col_heading level0 col4\" >25%</th>\n      <th id=\"T_b271d_level0_col5\" class=\"col_heading level0 col5\" >75%</th>\n      <th id=\"T_b271d_level0_col6\" class=\"col_heading level0 col6\" >interquart. range</th>\n      <th id=\"T_b271d_level0_col7\" class=\"col_heading level0 col7\" >interquart. range (norm.)</th>\n      <th id=\"T_b271d_level0_col8\" class=\"col_heading level0 col8\" >min</th>\n      <th id=\"T_b271d_level0_col9\" class=\"col_heading level0 col9\" >max</th>\n      <th id=\"T_b271d_level0_col10\" class=\"col_heading level0 col10\" >range</th>\n      <th id=\"T_b271d_level0_col11\" class=\"col_heading level0 col11\" >std</th>\n      <th id=\"T_b271d_level0_col12\" class=\"col_heading level0 col12\" >var</th>\n      <th id=\"T_b271d_level0_col13\" class=\"col_heading level0 col13\" >entropy coef.</th>\n      <th id=\"T_b271d_level0_col14\" class=\"col_heading level0 col14\" >quality var.</th>\n    </tr>\n  </thead>\n  <tbody>\n    <tr>\n      <th id=\"T_b271d_level0_row0\" class=\"row_heading level0 row0\" >statistics.viewCount</th>\n      <td id=\"T_b271d_row0_col0\" class=\"data row0 col0\" >1315.000</td>\n      <td id=\"T_b271d_row0_col1\" class=\"data row0 col1\" >48.000</td>\n      <td id=\"T_b271d_row0_col2\" class=\"data row0 col2\" >1357.000</td>\n      <td id=\"T_b271d_row0_col3\" class=\"data row0 col3\" >22153.693</td>\n      <td id=\"T_b271d_row0_col4\" class=\"data row0 col4\" >249.500</td>\n      <td id=\"T_b271d_row0_col5\" class=\"data row0 col5\" >7802.500</td>\n      <td id=\"T_b271d_row0_col6\" class=\"data row0 col6\" >7553.000</td>\n      <td id=\"T_b271d_row0_col7\" class=\"data row0 col7\" >0.004</td>\n      <td id=\"T_b271d_row0_col8\" class=\"data row0 col8\" >0.000</td>\n      <td id=\"T_b271d_row0_col9\" class=\"data row0 col9\" >1822564.000</td>\n      <td id=\"T_b271d_row0_col10\" class=\"data row0 col10\" >1822564.000</td>\n      <td id=\"T_b271d_row0_col11\" class=\"data row0 col11\" >100170.570</td>\n      <td id=\"T_b271d_row0_col12\" class=\"data row0 col12\" >10034143030.807</td>\n      <td id=\"T_b271d_row0_col13\" class=\"data row0 col13\" >0.985</td>\n      <td id=\"T_b271d_row0_col14\" class=\"data row0 col14\" >1.000</td>\n    </tr>\n    <tr>\n      <th id=\"T_b271d_level0_row1\" class=\"row_heading level0 row1\" >statistics.likeCount</th>\n      <td id=\"T_b271d_row1_col0\" class=\"data row1 col0\" >1284.000</td>\n      <td id=\"T_b271d_row1_col1\" class=\"data row1 col1\" >1.000</td>\n      <td id=\"T_b271d_row1_col2\" class=\"data row1 col2\" >42.500</td>\n      <td id=\"T_b271d_row1_col3\" class=\"data row1 col3\" >972.755</td>\n      <td id=\"T_b271d_row1_col4\" class=\"data row1 col4\" >8.000</td>\n      <td id=\"T_b271d_row1_col5\" class=\"data row1 col5\" >305.250</td>\n      <td id=\"T_b271d_row1_col6\" class=\"data row1 col6\" >297.250</td>\n      <td id=\"T_b271d_row1_col7\" class=\"data row1 col7\" >0.004</td>\n      <td id=\"T_b271d_row1_col8\" class=\"data row1 col8\" >0.000</td>\n      <td id=\"T_b271d_row1_col9\" class=\"data row1 col9\" >81849.000</td>\n      <td id=\"T_b271d_row1_col10\" class=\"data row1 col10\" >81849.000</td>\n      <td id=\"T_b271d_row1_col11\" class=\"data row1 col11\" >4826.985</td>\n      <td id=\"T_b271d_row1_col12\" class=\"data row1 col12\" >23299781.482</td>\n      <td id=\"T_b271d_row1_col13\" class=\"data row1 col13\" >0.864</td>\n      <td id=\"T_b271d_row1_col14\" class=\"data row1 col14\" >0.990</td>\n    </tr>\n    <tr>\n      <th id=\"T_b271d_level0_row2\" class=\"row_heading level0 row2\" >statistics.commentCount</th>\n      <td id=\"T_b271d_row2_col0\" class=\"data row2 col0\" >1299.000</td>\n      <td id=\"T_b271d_row2_col1\" class=\"data row2 col1\" >0.000</td>\n      <td id=\"T_b271d_row2_col2\" class=\"data row2 col2\" >4.000</td>\n      <td id=\"T_b271d_row2_col3\" class=\"data row2 col3\" >68.354</td>\n      <td id=\"T_b271d_row2_col4\" class=\"data row2 col4\" >0.000</td>\n      <td id=\"T_b271d_row2_col5\" class=\"data row2 col5\" >36.500</td>\n      <td id=\"T_b271d_row2_col6\" class=\"data row2 col6\" >36.500</td>\n      <td id=\"T_b271d_row2_col7\" class=\"data row2 col7\" >0.003</td>\n      <td id=\"T_b271d_row2_col8\" class=\"data row2 col8\" >0.000</td>\n      <td id=\"T_b271d_row2_col9\" class=\"data row2 col9\" >13022.000</td>\n      <td id=\"T_b271d_row2_col10\" class=\"data row2 col10\" >13022.000</td>\n      <td id=\"T_b271d_row2_col11\" class=\"data row2 col11\" >431.534</td>\n      <td id=\"T_b271d_row2_col12\" class=\"data row2 col12\" >186221.842</td>\n      <td id=\"T_b271d_row2_col13\" class=\"data row2 col13\" >0.684</td>\n      <td id=\"T_b271d_row2_col14\" class=\"data row2 col14\" >0.899</td>\n    </tr>\n    <tr>\n      <th id=\"T_b271d_level0_row3\" class=\"row_heading level0 row3\" >statistics.dislikesCount</th>\n      <td id=\"T_b271d_row3_col0\" class=\"data row3 col0\" >1313.000</td>\n      <td id=\"T_b271d_row3_col1\" class=\"data row3 col1\" >0.000</td>\n      <td id=\"T_b271d_row3_col2\" class=\"data row3 col2\" >0.000</td>\n      <td id=\"T_b271d_row3_col3\" class=\"data row3 col3\" >19.728</td>\n      <td id=\"T_b271d_row3_col4\" class=\"data row3 col4\" >0.000</td>\n      <td id=\"T_b271d_row3_col5\" class=\"data row3 col5\" >5.000</td>\n      <td id=\"T_b271d_row3_col6\" class=\"data row3 col6\" >5.000</td>\n      <td id=\"T_b271d_row3_col7\" class=\"data row3 col7\" >0.001</td>\n      <td id=\"T_b271d_row3_col8\" class=\"data row3 col8\" >0.000</td>\n      <td id=\"T_b271d_row3_col9\" class=\"data row3 col9\" >4684.000</td>\n      <td id=\"T_b271d_row3_col10\" class=\"data row3 col10\" >4684.000</td>\n      <td id=\"T_b271d_row3_col11\" class=\"data row3 col11\" >157.368</td>\n      <td id=\"T_b271d_row3_col12\" class=\"data row3 col12\" >24764.681</td>\n      <td id=\"T_b271d_row3_col13\" class=\"data row3 col13\" >0.438</td>\n      <td id=\"T_b271d_row3_col14\" class=\"data row3 col14\" >0.605</td>\n    </tr>\n  </tbody>\n</table>\n"
     },
     "metadata": {},
     "output_type": "display_data"
    },
    {
     "name": "stdout",
     "output_type": "stream",
     "text": [
      "\n",
      "NORMALITY TESTS\n",
      "------------------\n",
      "\n"
     ]
    },
    {
     "name": "stderr",
     "output_type": "stream",
     "text": [
      "/Users/andrey/PycharmProjects/DataMiningProjects/.venv/lib/python3.10/site-packages/randan/descriptive_statistics.py:460: FutureWarning: this method is deprecated in favour of `Styler.format(precision=..)`\n",
      "  .set_precision(n_decimals))\n"
     ]
    },
    {
     "data": {
      "text/plain": "<pandas.io.formats.style.Styler at 0x105563550>",
      "text/html": "<style type=\"text/css\">\n</style>\n<table id=\"T_9ea60\">\n  <caption>method .normality_test(test_type='ks')</caption>\n  <thead>\n    <tr>\n      <th class=\"blank level0\" >&nbsp;</th>\n      <th id=\"T_9ea60_level0_col0\" class=\"col_heading level0 col0\" >statistic</th>\n      <th id=\"T_9ea60_level0_col1\" class=\"col_heading level0 col1\" >p-value</th>\n    </tr>\n  </thead>\n  <tbody>\n    <tr>\n      <th id=\"T_9ea60_level0_row0\" class=\"row_heading level0 row0\" >statistics.viewCount</th>\n      <td id=\"T_9ea60_row0_col0\" class=\"data row0 col0\" >0.412</td>\n      <td id=\"T_9ea60_row0_col1\" class=\"data row0 col1\" >0.000</td>\n    </tr>\n    <tr>\n      <th id=\"T_9ea60_level0_row1\" class=\"row_heading level0 row1\" >statistics.likeCount</th>\n      <td id=\"T_9ea60_row1_col0\" class=\"data row1 col0\" >0.420</td>\n      <td id=\"T_9ea60_row1_col1\" class=\"data row1 col1\" >0.000</td>\n    </tr>\n    <tr>\n      <th id=\"T_9ea60_level0_row2\" class=\"row_heading level0 row2\" >statistics.commentCount</th>\n      <td id=\"T_9ea60_row2_col0\" class=\"data row2 col0\" >0.437</td>\n      <td id=\"T_9ea60_row2_col1\" class=\"data row2 col1\" >0.000</td>\n    </tr>\n    <tr>\n      <th id=\"T_9ea60_level0_row3\" class=\"row_heading level0 row3\" >statistics.dislikesCount</th>\n      <td id=\"T_9ea60_row3_col0\" class=\"data row3 col0\" >0.450</td>\n      <td id=\"T_9ea60_row3_col1\" class=\"data row3 col1\" >0.000</td>\n    </tr>\n  </tbody>\n</table>\n"
     },
     "metadata": {},
     "output_type": "display_data"
    }
   ],
   "source": [
    "# 7 описательная статистика\n",
    "\n",
    "\n",
    "\n",
    "ss = ScaleStatistics(df_korean, ['statistics.viewCount',\n",
    "                          'statistics.likeCount',\n",
    "                          'statistics.commentCount',\n",
    "                                 'statistics.dislikesCount'],\n",
    "                     normality_test=True)\n"
   ],
   "metadata": {
    "collapsed": false
   }
  },
  {
   "cell_type": "code",
   "execution_count": 9,
   "outputs": [
    {
     "data": {
      "text/plain": "                               N  mode  median          mean    25%      75%  \\\nstatistics.viewCount      1315.0  48.0  1357.0  22153.692776  249.5  7802.50   \nstatistics.likeCount      1284.0   1.0    42.5    972.755452    8.0   305.25   \nstatistics.commentCount   1299.0   0.0     4.0     68.354119    0.0    36.50   \nstatistics.dislikesCount  1313.0   0.0     0.0     19.728104    0.0     5.00   \n\n                          interquart. range  interquart. range (norm.)  min  \\\nstatistics.viewCount                7553.00                   0.004144  0.0   \nstatistics.likeCount                 297.25                   0.003632  0.0   \nstatistics.commentCount               36.50                   0.002803  0.0   \nstatistics.dislikesCount               5.00                   0.001067  0.0   \n\n                                max      range            std           var  \\\nstatistics.viewCount      1822564.0  1822564.0  100170.569684  1.003414e+10   \nstatistics.likeCount        81849.0    81849.0    4826.984719  2.329978e+07   \nstatistics.commentCount     13022.0    13022.0     431.534288  1.862218e+05   \nstatistics.dislikesCount     4684.0     4684.0     157.367981  2.476468e+04   \n\n                          entropy coef.  quality var.  \nstatistics.viewCount           0.985176      0.999694  \nstatistics.likeCount           0.863502      0.990473  \nstatistics.commentCount        0.683720      0.899213  \nstatistics.dislikesCount       0.438101      0.605393  ",
      "text/html": "<div>\n<style scoped>\n    .dataframe tbody tr th:only-of-type {\n        vertical-align: middle;\n    }\n\n    .dataframe tbody tr th {\n        vertical-align: top;\n    }\n\n    .dataframe thead th {\n        text-align: right;\n    }\n</style>\n<table border=\"1\" class=\"dataframe\">\n  <thead>\n    <tr style=\"text-align: right;\">\n      <th></th>\n      <th>N</th>\n      <th>mode</th>\n      <th>median</th>\n      <th>mean</th>\n      <th>25%</th>\n      <th>75%</th>\n      <th>interquart. range</th>\n      <th>interquart. range (norm.)</th>\n      <th>min</th>\n      <th>max</th>\n      <th>range</th>\n      <th>std</th>\n      <th>var</th>\n      <th>entropy coef.</th>\n      <th>quality var.</th>\n    </tr>\n  </thead>\n  <tbody>\n    <tr>\n      <th>statistics.viewCount</th>\n      <td>1315.0</td>\n      <td>48.0</td>\n      <td>1357.0</td>\n      <td>22153.692776</td>\n      <td>249.5</td>\n      <td>7802.50</td>\n      <td>7553.00</td>\n      <td>0.004144</td>\n      <td>0.0</td>\n      <td>1822564.0</td>\n      <td>1822564.0</td>\n      <td>100170.569684</td>\n      <td>1.003414e+10</td>\n      <td>0.985176</td>\n      <td>0.999694</td>\n    </tr>\n    <tr>\n      <th>statistics.likeCount</th>\n      <td>1284.0</td>\n      <td>1.0</td>\n      <td>42.5</td>\n      <td>972.755452</td>\n      <td>8.0</td>\n      <td>305.25</td>\n      <td>297.25</td>\n      <td>0.003632</td>\n      <td>0.0</td>\n      <td>81849.0</td>\n      <td>81849.0</td>\n      <td>4826.984719</td>\n      <td>2.329978e+07</td>\n      <td>0.863502</td>\n      <td>0.990473</td>\n    </tr>\n    <tr>\n      <th>statistics.commentCount</th>\n      <td>1299.0</td>\n      <td>0.0</td>\n      <td>4.0</td>\n      <td>68.354119</td>\n      <td>0.0</td>\n      <td>36.50</td>\n      <td>36.50</td>\n      <td>0.002803</td>\n      <td>0.0</td>\n      <td>13022.0</td>\n      <td>13022.0</td>\n      <td>431.534288</td>\n      <td>1.862218e+05</td>\n      <td>0.683720</td>\n      <td>0.899213</td>\n    </tr>\n    <tr>\n      <th>statistics.dislikesCount</th>\n      <td>1313.0</td>\n      <td>0.0</td>\n      <td>0.0</td>\n      <td>19.728104</td>\n      <td>0.0</td>\n      <td>5.00</td>\n      <td>5.00</td>\n      <td>0.001067</td>\n      <td>0.0</td>\n      <td>4684.0</td>\n      <td>4684.0</td>\n      <td>157.367981</td>\n      <td>2.476468e+04</td>\n      <td>0.438101</td>\n      <td>0.605393</td>\n    </tr>\n  </tbody>\n</table>\n</div>"
     },
     "execution_count": 9,
     "metadata": {},
     "output_type": "execute_result"
    }
   ],
   "source": [
    "# 8 Суммарные значения\n",
    "ss.summary()"
   ],
   "metadata": {
    "collapsed": false
   }
  },
  {
   "cell_type": "markdown",
   "source": [
    "\n",
    "В качестве используемой меры центральной тенденции мы предлагаем использовать медиану.\n",
    "\n",
    "Общее количество данных - 680\n",
    "\n",
    "\n",
    " ### Переменная `viewCount`\n",
    "\n",
    "Median - 6725\n",
    "\n",
    " ### Переменная `likeCount`\n",
    "\n",
    "Median - 42.5\n",
    "\n",
    " ### Переменная `likeCount`\n",
    "\n",
    "Median - 42.5\n",
    "\n",
    "\n",
    "\n",
    " ### Переменная `commentCount`\n",
    "\n",
    "Median - 4\n"
   ],
   "metadata": {
    "collapsed": false
   }
  },
  {
   "cell_type": "code",
   "execution_count": 10,
   "outputs": [],
   "source": [
    "# 9 вспомогательная функция\n",
    "\n",
    "def get_typical_by_median(df, column):\n",
    "\n",
    "    lower = np.nanpercentile(df_korean[column], 49)\n",
    "    upper = np.nanpercentile(df_korean[column], 51)\n",
    "    tmp_df = df[(df[column] >= lower) & (df[column] <= upper)][\n",
    "    ['id', 'snippet.channelId','snippet.title','snippet.description', 'snippet.publishedAt',\n",
    "        'snippet.tags', 'snippet.categoryId', 'categoryName']]\n",
    "\n",
    "    display(tmp_df)\n",
    "    return tmp_df\n"
   ],
   "metadata": {
    "collapsed": false
   }
  },
  {
   "cell_type": "markdown",
   "source": [
    "## statistics.viewCount"
   ],
   "metadata": {
    "collapsed": false
   }
  },
  {
   "cell_type": "code",
   "execution_count": null,
   "outputs": [],
   "source": [
    "# 10 График распределения statistics.viewCount\n",
    "import plotly.express as px\n",
    "\n",
    "fig = px.histogram(df_korean, y=\"statistics.viewCount\",\n",
    "                   marginal=\"box\")\n",
    "fig.show()"
   ],
   "metadata": {
    "collapsed": false,
    "pycharm": {
     "is_executing": true
    }
   }
  },
  {
   "cell_type": "code",
   "execution_count": null,
   "outputs": [],
   "source": [
    "# 11 Типичные видео statistics.viewCount 2%\n",
    "\n",
    "view_df = get_typical_by_median(df_korean, 'statistics.viewCount')"
   ],
   "metadata": {
    "collapsed": false,
    "pycharm": {
     "is_executing": true
    }
   }
  },
  {
   "cell_type": "markdown",
   "source": [
    "## statistics.likeCount"
   ],
   "metadata": {
    "collapsed": false
   }
  },
  {
   "cell_type": "code",
   "execution_count": null,
   "outputs": [],
   "source": [
    "# 12 График распределения statistics.likeCount\n",
    "\n",
    "import plotly.express as px\n",
    "\n",
    "fig = px.histogram(df_korean, y=\"statistics.likeCount\",\n",
    "                   marginal=\"box\")\n",
    "fig.show()"
   ],
   "metadata": {
    "collapsed": false,
    "pycharm": {
     "is_executing": true
    }
   }
  },
  {
   "cell_type": "code",
   "execution_count": null,
   "outputs": [],
   "source": [
    "# 13 Типичные видео 2%\n",
    "\n",
    "likes_df = get_typical_by_median(df_korean, 'statistics.likeCount')"
   ],
   "metadata": {
    "collapsed": false,
    "pycharm": {
     "is_executing": true
    }
   }
  },
  {
   "cell_type": "markdown",
   "source": [
    "## statistics.dislikesCount"
   ],
   "metadata": {
    "collapsed": false
   }
  },
  {
   "cell_type": "code",
   "execution_count": null,
   "outputs": [],
   "source": [
    "# 14 График распределения statistics.dislikesCount\n",
    "\n",
    "import plotly.express as px\n",
    "\n",
    "fig = px.histogram(df_korean, y=\"statistics.dislikesCount\",\n",
    "                   marginal=\"box\")\n",
    "fig.show()"
   ],
   "metadata": {
    "collapsed": false,
    "pycharm": {
     "is_executing": true
    }
   }
  },
  {
   "cell_type": "code",
   "execution_count": null,
   "outputs": [],
   "source": [
    "# 15 Типичные видео 2%\n",
    "\n",
    "dislike_df = get_typical_by_median(df_korean, 'statistics.dislikesCount')"
   ],
   "metadata": {
    "collapsed": false,
    "pycharm": {
     "is_executing": true
    }
   }
  },
  {
   "cell_type": "markdown",
   "source": [
    "## statistics.commentCount"
   ],
   "metadata": {
    "collapsed": false
   }
  },
  {
   "cell_type": "code",
   "execution_count": null,
   "outputs": [],
   "source": [
    "# 16 График распределения statistics.dislikesCount\n",
    "\n",
    "import plotly.express as px\n",
    "\n",
    "fig = px.histogram(df_korean, y=\"statistics.commentCount\",\n",
    "                   marginal=\"box\")\n",
    "fig.show()"
   ],
   "metadata": {
    "collapsed": false,
    "pycharm": {
     "is_executing": true
    }
   }
  },
  {
   "cell_type": "code",
   "execution_count": null,
   "outputs": [],
   "source": [
    "# 17 Типичные видео 2%\n",
    "\n",
    "comment_df = get_typical_by_median(df_korean, 'statistics.commentCount')"
   ],
   "metadata": {
    "collapsed": false,
    "pycharm": {
     "is_executing": true
    }
   }
  },
  {
   "cell_type": "code",
   "execution_count": null,
   "outputs": [],
   "source": [
    "# 18 Intersection of 2 %\n",
    "id_set = set()\n",
    "\n",
    "interval_sets = {'View': set(view_df['id']),\n",
    "                 'Like': set(likes_df['id']),\n",
    "                 'Dislike': set(dislike_df['id']),\n",
    "                 'Comment': set(comment_df['id'])}\n",
    "\n",
    "\n"
   ],
   "metadata": {
    "collapsed": false,
    "pycharm": {
     "is_executing": true
    }
   }
  },
  {
   "cell_type": "code",
   "execution_count": null,
   "outputs": [],
   "source": [
    "# 19 Комбинации\n",
    "from itertools import combinations\n",
    "\n",
    "comb_2 = combinations(interval_sets.keys(), 2)\n",
    "comb_3 = combinations(interval_sets.keys(), 3)"
   ],
   "metadata": {
    "collapsed": false,
    "pycharm": {
     "is_executing": true
    }
   }
  },
  {
   "cell_type": "code",
   "execution_count": null,
   "outputs": [],
   "source": [
    "# 20 Пересечения общих частей по 2-м совпадениям\n",
    "\n",
    "for pair in comb_2:\n",
    "    print(f'Общая часть от пересечения {pair[0]} + {pair[1]}', len(interval_sets[pair[0]] & interval_sets[pair[1]]))"
   ],
   "metadata": {
    "collapsed": false,
    "pycharm": {
     "is_executing": true
    }
   }
  },
  {
   "cell_type": "code",
   "execution_count": null,
   "outputs": [],
   "source": [
    "# 21 Пересечения общих частей по 3-м совпадениям\n",
    "\n",
    "for pair in comb_3:\n",
    "    print(f'Общая часть от пересечения {pair[0]} + {pair[1]} + {pair[2]}', len(interval_sets[pair[0]] & interval_sets[pair[1]] & interval_sets[pair[2]]))"
   ],
   "metadata": {
    "collapsed": false,
    "pycharm": {
     "is_executing": true
    }
   }
  },
  {
   "cell_type": "markdown",
   "source": [
    "# 2.1. Определите тип шкалы переменной categoryName.\n",
    "\n",
    "**CategoryName - номинальная шкала**\n",
    "\n",
    "Видосы:\n",
    "\n",
    "1. Гистограмма\n",
    "2. Боксплот\n",
    "3. Мода"
   ],
   "metadata": {
    "collapsed": false
   }
  },
  {
   "cell_type": "code",
   "execution_count": null,
   "outputs": [],
   "source": [
    "# 22 Номинальная статистика\n",
    "\n",
    "ns = NominalStatistics(df_korean, ['categoryName'])"
   ],
   "metadata": {
    "collapsed": false,
    "pycharm": {
     "is_executing": true
    }
   }
  },
  {
   "cell_type": "code",
   "execution_count": null,
   "outputs": [],
   "source": [
    "# 22 Номинальная статистика вывод\n",
    "ns.summary()"
   ],
   "metadata": {
    "collapsed": false,
    "pycharm": {
     "is_executing": true
    }
   }
  },
  {
   "cell_type": "markdown",
   "source": [
    "# EDA\n",
    "\n",
    "Мода - People & Blogs"
   ],
   "metadata": {
    "collapsed": false
   }
  },
  {
   "cell_type": "code",
   "execution_count": null,
   "outputs": [],
   "source": [
    "# 22 Гистограмма распределения категорий видео\n",
    "\n",
    "import plotly.express as px\n",
    "\n",
    "fig = px.histogram(df_korean, y=\"categoryName\")\n",
    "fig.show()"
   ],
   "metadata": {
    "collapsed": false,
    "pycharm": {
     "is_executing": true
    }
   }
  },
  {
   "cell_type": "code",
   "execution_count": null,
   "outputs": [],
   "source": [
    "# 23 Типичные видео в рамках категории\n",
    "\n",
    "df_korean[df_korean['categoryName'] == 'People & Blogs'].sort_values(by='statistics.viewCount', ascending=False).head(5)"
   ],
   "metadata": {
    "collapsed": false,
    "pycharm": {
     "is_executing": true
    }
   }
  },
  {
   "cell_type": "markdown",
   "source": [
    "## Текстовые характеристики\n",
    "\n",
    "Предлагается текстовые характеристики описания, которые наиболее часто фигурируют в рамках нашей базы"
   ],
   "metadata": {
    "collapsed": false
   }
  },
  {
   "cell_type": "code",
   "execution_count": null,
   "outputs": [],
   "source": [
    "# 24 Формирование корпуса текстов\n",
    "raw_corpora = list(df_korean['snippet.description'].dropna())\n",
    "\n",
    "print('Длина корпуса предложений:', len(raw_corpora))\n",
    "\n",
    "for i in range(5):\n",
    "    print(raw_corpora[i])"
   ],
   "metadata": {
    "collapsed": false,
    "pycharm": {
     "is_executing": true
    }
   }
  },
  {
   "cell_type": "code",
   "execution_count": null,
   "outputs": [],
   "source": [
    "# 25 Удаление символов и паттернов\n",
    "# email\n",
    "# пунктуации\n",
    "# ссылок\n",
    "# приведение в нижний регистр\n",
    "\n",
    "import re\n",
    "\n",
    "def preprocess_text(input_text):\n",
    "\n",
    "    text = re.sub(r'[A-Za-z0-9]*@[A-Za-z]*\\.?[A-Za-z0-9]*', \"\", input_text)\n",
    "    text = re.sub(r'http\\S+', '', text)\n",
    "    text = re.sub(r'[^\\w\\s]', '', text)\n",
    "    text = \" \".join([w.lower() for w in text.split() if len(w) > 2])\n",
    "    return text\n",
    "corpora = [preprocess_text(in_text) for in_text in raw_corpora]\n",
    "print(corpora[0])"
   ],
   "metadata": {
    "collapsed": false,
    "pycharm": {
     "is_executing": true
    }
   }
  },
  {
   "cell_type": "code",
   "execution_count": null,
   "outputs": [],
   "source": [
    "! poetry add nltk"
   ],
   "metadata": {
    "collapsed": false,
    "pycharm": {
     "is_executing": true
    }
   }
  },
  {
   "cell_type": "code",
   "execution_count": null,
   "outputs": [],
   "source": [
    "import nltk\n",
    "\n",
    "nltk.download('stopwords')"
   ],
   "metadata": {
    "collapsed": false,
    "pycharm": {
     "is_executing": true
    }
   }
  },
  {
   "cell_type": "code",
   "execution_count": null,
   "outputs": [],
   "source": [
    "# 26 Объединение текстов в общий корпус\n",
    "from nltk.corpus import stopwords\n",
    "\n",
    "words = []\n",
    "\n",
    "for sent in corpora:\n",
    "    for word in sent.split():\n",
    "        if word not in stopwords.words('russian'):\n",
    "            words.append(word)"
   ],
   "metadata": {
    "collapsed": false,
    "pycharm": {
     "is_executing": true
    }
   }
  },
  {
   "cell_type": "code",
   "execution_count": null,
   "outputs": [],
   "source": [
    "# 27 Создание частот для анализа\n",
    "from nltk.probability import FreqDist\n",
    "fdist = FreqDist(words)\n",
    "print(fdist)"
   ],
   "metadata": {
    "collapsed": false,
    "pycharm": {
     "is_executing": true
    }
   }
  },
  {
   "cell_type": "code",
   "execution_count": null,
   "outputs": [],
   "source": [
    "# 28 Гистограмма частот\n",
    "import matplotlib.pyplot as plt\n",
    "fdist.plot(30,cumulative=False)\n",
    "plt.show()"
   ],
   "metadata": {
    "collapsed": false,
    "pycharm": {
     "is_executing": true
    }
   }
  },
  {
   "cell_type": "code",
   "execution_count": null,
   "outputs": [],
   "source": [
    "fdist.most_common(20)"
   ],
   "metadata": {
    "collapsed": false,
    "pycharm": {
     "is_executing": true
    }
   }
  },
  {
   "cell_type": "code",
   "execution_count": null,
   "outputs": [],
   "source": [
    "# 29 Добавим stopwords\n",
    "\n",
    "my_stop = {'видео', 'ссылка', 'инстаграм', 'instagram','iherb', 'подписаться'}\n",
    "\n",
    "filtered_words = [w for w in words if w not in my_stop]"
   ],
   "metadata": {
    "collapsed": false,
    "pycharm": {
     "is_executing": true
    }
   }
  },
  {
   "cell_type": "code",
   "execution_count": null,
   "outputs": [],
   "source": [
    "! poetry add wordcloud"
   ],
   "metadata": {
    "collapsed": false,
    "pycharm": {
     "is_executing": true
    }
   }
  },
  {
   "cell_type": "code",
   "execution_count": null,
   "outputs": [],
   "source": [
    "# 30 Облако слов\n",
    "\n",
    "from wordcloud import WordCloud\n",
    "\n",
    "all_string = ' '.join(filtered_words)\n",
    "\n",
    "wordcloud = WordCloud(width = 800, height = 800,\n",
    "                background_color ='white',\n",
    "                min_font_size = 10).generate(all_string)\n",
    "\n",
    "\n",
    "# plot the WordCloud image\n",
    "plt.figure(figsize = (8, 8), facecolor = None)\n",
    "plt.imshow(wordcloud)\n",
    "plt.axis(\"off\")\n",
    "plt.tight_layout(pad = 0)\n",
    "\n",
    "plt.show()"
   ],
   "metadata": {
    "collapsed": false,
    "pycharm": {
     "is_executing": true
    }
   }
  },
  {
   "cell_type": "code",
   "execution_count": null,
   "outputs": [],
   "source": [],
   "metadata": {
    "collapsed": false,
    "pycharm": {
     "is_executing": true
    }
   }
  }
 ],
 "metadata": {
  "kernelspec": {
   "display_name": "Python 3",
   "language": "python",
   "name": "python3"
  },
  "language_info": {
   "codemirror_mode": {
    "name": "ipython",
    "version": 2
   },
   "file_extension": ".py",
   "mimetype": "text/x-python",
   "name": "python",
   "nbconvert_exporter": "python",
   "pygments_lexer": "ipython2",
   "version": "2.7.6"
  }
 },
 "nbformat": 4,
 "nbformat_minor": 0
}
