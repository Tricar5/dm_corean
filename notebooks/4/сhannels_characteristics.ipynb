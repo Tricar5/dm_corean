{
 "cells": [
  {
   "cell_type": "markdown",
   "source": [
    "# Семинар 4\n",
    "\n",
    "## Сбор характеристик каналов"
   ],
   "metadata": {
    "collapsed": false
   }
  },
  {
   "cell_type": "code",
   "execution_count": 2,
   "outputs": [],
   "source": [
    "import pathlib\n",
    "import yaml\n",
    "\n",
    "ROOT = pathlib.Path().resolve().parent.parent\n",
    "\n",
    "with open(ROOT / \"config.yml\", \"r\") as f:\n",
    "    config = yaml.safe_load(f)"
   ],
   "metadata": {
    "collapsed": false
   }
  },
  {
   "cell_type": "code",
   "execution_count": 3,
   "outputs": [],
   "source": [
    "# 3\n",
    "DATA_PATH = ROOT / config['api']['DATA_PATH'] / 'seminar4'\n",
    "\n",
    "query = \"k-beauty | k_beauty\"\n",
    "type_query = \"channel\"\n",
    "\n",
    "# Для поиска видео с учетом даты:\n",
    "publishedAfter = '2020-01-01T00:00:00Z'\n",
    "publishedBefore = '2022-01-01T00:00:00Z'"
   ],
   "metadata": {
    "collapsed": false
   }
  },
  {
   "cell_type": "code",
   "execution_count": 4,
   "outputs": [],
   "source": [
    "# 3.1\n",
    "class KeyStorage:\n",
    "    \"\"\"\n",
    "    Class to use in iteration\n",
    "    \"\"\"\n",
    "\n",
    "    def __init__(self, key_arr: list[str]):\n",
    "        self.key_gen = iter(key_arr)\n",
    "\n",
    "    def get_next_key(self):\n",
    "        \"\"\"\n",
    "        Returns API key to use\n",
    "        :return:\n",
    "        \"\"\"\n",
    "        return next(self.key_gen)\n",
    "\n",
    "\n",
    "key_storage = KeyStorage(config['api']['keys'])"
   ],
   "metadata": {
    "collapsed": false
   }
  },
  {
   "cell_type": "code",
   "execution_count": 5,
   "outputs": [],
   "source": [
    "# 3.2 Просмотр API ключа\n",
    "API_KEY = key_storage.get_next_key()"
   ],
   "metadata": {
    "collapsed": false
   }
  },
  {
   "cell_type": "code",
   "execution_count": 6,
   "outputs": [],
   "source": [
    "#4\n",
    "import googleapiclient.discovery as api"
   ],
   "metadata": {
    "collapsed": false
   }
  },
  {
   "cell_type": "code",
   "execution_count": 7,
   "outputs": [],
   "source": [
    "#5\n",
    "api_service_name = \"youtube\"\n",
    "api_version = \"v3\"\n",
    "\n",
    "youtube = api.build(api_service_name,\n",
    "                    api_version,\n",
    "                    developerKey=API_KEY)"
   ],
   "metadata": {
    "collapsed": false
   }
  },
  {
   "cell_type": "code",
   "execution_count": 8,
   "outputs": [],
   "source": [
    "# Открываем свой датафрейм"
   ],
   "metadata": {
    "collapsed": false
   }
  },
  {
   "cell_type": "code",
   "execution_count": 9,
   "outputs": [
    {
     "data": {
      "text/plain": "                     kind                         etag          id.kind  \\\n0    youtube#searchResult  ddo-eY1ULzBsN7BAjN9uwpBT01A  youtube#channel   \n1    youtube#searchResult  g-Uo7z_B4bGboN0Vwp9ZuCM2hMY  youtube#channel   \n2    youtube#searchResult  YUh4jPnrJ1IyiyWLOQ6fTpP-ZF4  youtube#channel   \n3    youtube#searchResult  Wqo0glGfVFmnoKsPgHqMWOwIE1w  youtube#channel   \n4    youtube#searchResult  qvNdpvEeZm3EIJZ5imouwmfxB4A  youtube#channel   \n..                    ...                          ...              ...   \n489  youtube#searchResult  _54nOK0Cdtd6QOEU5NSvhsDZklE  youtube#channel   \n490  youtube#searchResult  eEDgJCPSJoBNmmsoTtKQ_y0gH7s  youtube#channel   \n491  youtube#searchResult  AR77uwdaDvVsn_G7WIV-pUYvqKE  youtube#channel   \n492  youtube#searchResult  0r4wFySdJoBQNHOAMLfc-8tLNfI  youtube#channel   \n493  youtube#searchResult  uLJpTlwRo8zI0rmlFY9O7Oaubdo  youtube#channel   \n\n                 id.channelId   snippet.publishedAt         snippet.channelId  \\\n0    UCrnOveJEurBw9uChvn9dW4w  2018-02-07T16:58:42Z  UCrnOveJEurBw9uChvn9dW4w   \n1    UCzxJocEhJXFaGqthJ_kFG6A  2019-06-24T04:21:11Z  UCzxJocEhJXFaGqthJ_kFG6A   \n2    UCJxli8ernqe_qn9yhjW-OFw  2017-06-28T17:19:20Z  UCJxli8ernqe_qn9yhjW-OFw   \n3    UC516X5h9RbcnfI9C7c8jGFw  2022-11-12T17:11:24Z  UC516X5h9RbcnfI9C7c8jGFw   \n4    UCdQxLINRd6d8gFTKXkmkSCQ  2014-05-22T23:34:09Z  UCdQxLINRd6d8gFTKXkmkSCQ   \n..                        ...                   ...                       ...   \n489  UCyM64pZ_p7tUane3whSvhgg  2019-12-08T06:56:35Z  UCyM64pZ_p7tUane3whSvhgg   \n490  UCRwFx4oqhXMQ4jmNHk42n0Q  2019-04-07T01:58:28Z  UCRwFx4oqhXMQ4jmNHk42n0Q   \n491  UCKAKft5bANfQh7aJgSShHKA  2018-08-21T19:29:14Z  UCKAKft5bANfQh7aJgSShHKA   \n492  UCbSuDs3r2QAIZeBE8wacLlg  2015-10-29T22:40:08Z  UCbSuDs3r2QAIZeBE8wacLlg   \n493  UCKq2q8YAvo0Pq79657y6lFQ  2017-01-16T17:41:51Z  UCKq2q8YAvo0Pq79657y6lFQ   \n\n          snippet.title                                snippet.description  \\\n0            K’s Beauty                                                NaN   \n1               kbeauty  hello my luvs, please enjoy this journey on my...   \n2          Mily KBeauty                                                NaN   \n3         K_Beauty Lisa  Chào mừng các người anh em đến với Channel \"Li...   \n4         Xx.Kbeauty.xX                                                NaN   \n..                  ...                                                ...   \n489  Kbeauty andmassage                                                NaN   \n490       Kbeauty Latam  Tutoriales de belleza y moda coreana para toda...   \n491          kBeauty Up                                                NaN   \n492         Kbeauty DIY                                          Fun diys.   \n493        KBeauty Labs                                                NaN   \n\n                        snippet.thumbnails.default.url  \\\n0    https://yt3.ggpht.com/ytc/AL5GRJUoGyUhjAUwq11l...   \n1    https://yt3.ggpht.com/ytc/AL5GRJVYH-1k8yWgoQRG...   \n2    https://yt3.ggpht.com/ytc/AL5GRJW8vxou1rEAWWRt...   \n3    https://yt3.ggpht.com/hNlJM0HVO9eXpGr7263StiL4...   \n4    https://yt3.ggpht.com/ytc/AL5GRJXhUAVUqW4RDPZ9...   \n..                                                 ...   \n489  https://yt3.ggpht.com/ytc/AL5GRJWPNS5HE1mOas0G...   \n490  https://yt3.ggpht.com/ytc/AL5GRJVzuaRRLYSBFki1...   \n491  https://yt3.ggpht.com/ytc/AL5GRJUkDU1wIeTFvyo4...   \n492  https://yt3.ggpht.com/ytc/AL5GRJU6X811mau5mbuH...   \n493  https://yt3.ggpht.com/ytc/AL5GRJWL9EgDKOqg8CMG...   \n\n                         snippet.thumbnails.medium.url  \\\n0    https://yt3.ggpht.com/ytc/AL5GRJUoGyUhjAUwq11l...   \n1    https://yt3.ggpht.com/ytc/AL5GRJVYH-1k8yWgoQRG...   \n2    https://yt3.ggpht.com/ytc/AL5GRJW8vxou1rEAWWRt...   \n3    https://yt3.ggpht.com/hNlJM0HVO9eXpGr7263StiL4...   \n4    https://yt3.ggpht.com/ytc/AL5GRJXhUAVUqW4RDPZ9...   \n..                                                 ...   \n489  https://yt3.ggpht.com/ytc/AL5GRJWPNS5HE1mOas0G...   \n490  https://yt3.ggpht.com/ytc/AL5GRJVzuaRRLYSBFki1...   \n491  https://yt3.ggpht.com/ytc/AL5GRJUkDU1wIeTFvyo4...   \n492  https://yt3.ggpht.com/ytc/AL5GRJU6X811mau5mbuH...   \n493  https://yt3.ggpht.com/ytc/AL5GRJWL9EgDKOqg8CMG...   \n\n                           snippet.thumbnails.high.url snippet.channelTitle  \\\n0    https://yt3.ggpht.com/ytc/AL5GRJUoGyUhjAUwq11l...           K’s Beauty   \n1    https://yt3.ggpht.com/ytc/AL5GRJVYH-1k8yWgoQRG...              kbeauty   \n2    https://yt3.ggpht.com/ytc/AL5GRJW8vxou1rEAWWRt...         Mily KBeauty   \n3    https://yt3.ggpht.com/hNlJM0HVO9eXpGr7263StiL4...        K_Beauty Lisa   \n4    https://yt3.ggpht.com/ytc/AL5GRJXhUAVUqW4RDPZ9...        Xx.Kbeauty.xX   \n..                                                 ...                  ...   \n489  https://yt3.ggpht.com/ytc/AL5GRJWPNS5HE1mOas0G...   Kbeauty andmassage   \n490  https://yt3.ggpht.com/ytc/AL5GRJVzuaRRLYSBFki1...        Kbeauty Latam   \n491  https://yt3.ggpht.com/ytc/AL5GRJUkDU1wIeTFvyo4...           kBeauty Up   \n492  https://yt3.ggpht.com/ytc/AL5GRJU6X811mau5mbuH...          Kbeauty DIY   \n493  https://yt3.ggpht.com/ytc/AL5GRJWL9EgDKOqg8CMG...         KBeauty Labs   \n\n    snippet.liveBroadcastContent   snippet.publishTime  \n0                           none  2018-02-07T16:58:42Z  \n1                           none  2019-06-24T04:21:11Z  \n2                           none  2017-06-28T17:19:20Z  \n3                           none  2022-11-12T17:11:24Z  \n4                           none  2014-05-22T23:34:09Z  \n..                           ...                   ...  \n489                         none  2019-12-08T06:56:35Z  \n490                         none  2019-04-07T01:58:28Z  \n491                         none  2018-08-21T19:29:14Z  \n492                         none  2015-10-29T22:40:08Z  \n493                         none  2017-01-16T17:41:51Z  \n\n[494 rows x 14 columns]",
      "text/html": "<div>\n<style scoped>\n    .dataframe tbody tr th:only-of-type {\n        vertical-align: middle;\n    }\n\n    .dataframe tbody tr th {\n        vertical-align: top;\n    }\n\n    .dataframe thead th {\n        text-align: right;\n    }\n</style>\n<table border=\"1\" class=\"dataframe\">\n  <thead>\n    <tr style=\"text-align: right;\">\n      <th></th>\n      <th>kind</th>\n      <th>etag</th>\n      <th>id.kind</th>\n      <th>id.channelId</th>\n      <th>snippet.publishedAt</th>\n      <th>snippet.channelId</th>\n      <th>snippet.title</th>\n      <th>snippet.description</th>\n      <th>snippet.thumbnails.default.url</th>\n      <th>snippet.thumbnails.medium.url</th>\n      <th>snippet.thumbnails.high.url</th>\n      <th>snippet.channelTitle</th>\n      <th>snippet.liveBroadcastContent</th>\n      <th>snippet.publishTime</th>\n    </tr>\n  </thead>\n  <tbody>\n    <tr>\n      <th>0</th>\n      <td>youtube#searchResult</td>\n      <td>ddo-eY1ULzBsN7BAjN9uwpBT01A</td>\n      <td>youtube#channel</td>\n      <td>UCrnOveJEurBw9uChvn9dW4w</td>\n      <td>2018-02-07T16:58:42Z</td>\n      <td>UCrnOveJEurBw9uChvn9dW4w</td>\n      <td>K’s Beauty</td>\n      <td>NaN</td>\n      <td>https://yt3.ggpht.com/ytc/AL5GRJUoGyUhjAUwq11l...</td>\n      <td>https://yt3.ggpht.com/ytc/AL5GRJUoGyUhjAUwq11l...</td>\n      <td>https://yt3.ggpht.com/ytc/AL5GRJUoGyUhjAUwq11l...</td>\n      <td>K’s Beauty</td>\n      <td>none</td>\n      <td>2018-02-07T16:58:42Z</td>\n    </tr>\n    <tr>\n      <th>1</th>\n      <td>youtube#searchResult</td>\n      <td>g-Uo7z_B4bGboN0Vwp9ZuCM2hMY</td>\n      <td>youtube#channel</td>\n      <td>UCzxJocEhJXFaGqthJ_kFG6A</td>\n      <td>2019-06-24T04:21:11Z</td>\n      <td>UCzxJocEhJXFaGqthJ_kFG6A</td>\n      <td>kbeauty</td>\n      <td>hello my luvs, please enjoy this journey on my...</td>\n      <td>https://yt3.ggpht.com/ytc/AL5GRJVYH-1k8yWgoQRG...</td>\n      <td>https://yt3.ggpht.com/ytc/AL5GRJVYH-1k8yWgoQRG...</td>\n      <td>https://yt3.ggpht.com/ytc/AL5GRJVYH-1k8yWgoQRG...</td>\n      <td>kbeauty</td>\n      <td>none</td>\n      <td>2019-06-24T04:21:11Z</td>\n    </tr>\n    <tr>\n      <th>2</th>\n      <td>youtube#searchResult</td>\n      <td>YUh4jPnrJ1IyiyWLOQ6fTpP-ZF4</td>\n      <td>youtube#channel</td>\n      <td>UCJxli8ernqe_qn9yhjW-OFw</td>\n      <td>2017-06-28T17:19:20Z</td>\n      <td>UCJxli8ernqe_qn9yhjW-OFw</td>\n      <td>Mily KBeauty</td>\n      <td>NaN</td>\n      <td>https://yt3.ggpht.com/ytc/AL5GRJW8vxou1rEAWWRt...</td>\n      <td>https://yt3.ggpht.com/ytc/AL5GRJW8vxou1rEAWWRt...</td>\n      <td>https://yt3.ggpht.com/ytc/AL5GRJW8vxou1rEAWWRt...</td>\n      <td>Mily KBeauty</td>\n      <td>none</td>\n      <td>2017-06-28T17:19:20Z</td>\n    </tr>\n    <tr>\n      <th>3</th>\n      <td>youtube#searchResult</td>\n      <td>Wqo0glGfVFmnoKsPgHqMWOwIE1w</td>\n      <td>youtube#channel</td>\n      <td>UC516X5h9RbcnfI9C7c8jGFw</td>\n      <td>2022-11-12T17:11:24Z</td>\n      <td>UC516X5h9RbcnfI9C7c8jGFw</td>\n      <td>K_Beauty Lisa</td>\n      <td>Chào mừng các người anh em đến với Channel \"Li...</td>\n      <td>https://yt3.ggpht.com/hNlJM0HVO9eXpGr7263StiL4...</td>\n      <td>https://yt3.ggpht.com/hNlJM0HVO9eXpGr7263StiL4...</td>\n      <td>https://yt3.ggpht.com/hNlJM0HVO9eXpGr7263StiL4...</td>\n      <td>K_Beauty Lisa</td>\n      <td>none</td>\n      <td>2022-11-12T17:11:24Z</td>\n    </tr>\n    <tr>\n      <th>4</th>\n      <td>youtube#searchResult</td>\n      <td>qvNdpvEeZm3EIJZ5imouwmfxB4A</td>\n      <td>youtube#channel</td>\n      <td>UCdQxLINRd6d8gFTKXkmkSCQ</td>\n      <td>2014-05-22T23:34:09Z</td>\n      <td>UCdQxLINRd6d8gFTKXkmkSCQ</td>\n      <td>Xx.Kbeauty.xX</td>\n      <td>NaN</td>\n      <td>https://yt3.ggpht.com/ytc/AL5GRJXhUAVUqW4RDPZ9...</td>\n      <td>https://yt3.ggpht.com/ytc/AL5GRJXhUAVUqW4RDPZ9...</td>\n      <td>https://yt3.ggpht.com/ytc/AL5GRJXhUAVUqW4RDPZ9...</td>\n      <td>Xx.Kbeauty.xX</td>\n      <td>none</td>\n      <td>2014-05-22T23:34:09Z</td>\n    </tr>\n    <tr>\n      <th>...</th>\n      <td>...</td>\n      <td>...</td>\n      <td>...</td>\n      <td>...</td>\n      <td>...</td>\n      <td>...</td>\n      <td>...</td>\n      <td>...</td>\n      <td>...</td>\n      <td>...</td>\n      <td>...</td>\n      <td>...</td>\n      <td>...</td>\n      <td>...</td>\n    </tr>\n    <tr>\n      <th>489</th>\n      <td>youtube#searchResult</td>\n      <td>_54nOK0Cdtd6QOEU5NSvhsDZklE</td>\n      <td>youtube#channel</td>\n      <td>UCyM64pZ_p7tUane3whSvhgg</td>\n      <td>2019-12-08T06:56:35Z</td>\n      <td>UCyM64pZ_p7tUane3whSvhgg</td>\n      <td>Kbeauty andmassage</td>\n      <td>NaN</td>\n      <td>https://yt3.ggpht.com/ytc/AL5GRJWPNS5HE1mOas0G...</td>\n      <td>https://yt3.ggpht.com/ytc/AL5GRJWPNS5HE1mOas0G...</td>\n      <td>https://yt3.ggpht.com/ytc/AL5GRJWPNS5HE1mOas0G...</td>\n      <td>Kbeauty andmassage</td>\n      <td>none</td>\n      <td>2019-12-08T06:56:35Z</td>\n    </tr>\n    <tr>\n      <th>490</th>\n      <td>youtube#searchResult</td>\n      <td>eEDgJCPSJoBNmmsoTtKQ_y0gH7s</td>\n      <td>youtube#channel</td>\n      <td>UCRwFx4oqhXMQ4jmNHk42n0Q</td>\n      <td>2019-04-07T01:58:28Z</td>\n      <td>UCRwFx4oqhXMQ4jmNHk42n0Q</td>\n      <td>Kbeauty Latam</td>\n      <td>Tutoriales de belleza y moda coreana para toda...</td>\n      <td>https://yt3.ggpht.com/ytc/AL5GRJVzuaRRLYSBFki1...</td>\n      <td>https://yt3.ggpht.com/ytc/AL5GRJVzuaRRLYSBFki1...</td>\n      <td>https://yt3.ggpht.com/ytc/AL5GRJVzuaRRLYSBFki1...</td>\n      <td>Kbeauty Latam</td>\n      <td>none</td>\n      <td>2019-04-07T01:58:28Z</td>\n    </tr>\n    <tr>\n      <th>491</th>\n      <td>youtube#searchResult</td>\n      <td>AR77uwdaDvVsn_G7WIV-pUYvqKE</td>\n      <td>youtube#channel</td>\n      <td>UCKAKft5bANfQh7aJgSShHKA</td>\n      <td>2018-08-21T19:29:14Z</td>\n      <td>UCKAKft5bANfQh7aJgSShHKA</td>\n      <td>kBeauty Up</td>\n      <td>NaN</td>\n      <td>https://yt3.ggpht.com/ytc/AL5GRJUkDU1wIeTFvyo4...</td>\n      <td>https://yt3.ggpht.com/ytc/AL5GRJUkDU1wIeTFvyo4...</td>\n      <td>https://yt3.ggpht.com/ytc/AL5GRJUkDU1wIeTFvyo4...</td>\n      <td>kBeauty Up</td>\n      <td>none</td>\n      <td>2018-08-21T19:29:14Z</td>\n    </tr>\n    <tr>\n      <th>492</th>\n      <td>youtube#searchResult</td>\n      <td>0r4wFySdJoBQNHOAMLfc-8tLNfI</td>\n      <td>youtube#channel</td>\n      <td>UCbSuDs3r2QAIZeBE8wacLlg</td>\n      <td>2015-10-29T22:40:08Z</td>\n      <td>UCbSuDs3r2QAIZeBE8wacLlg</td>\n      <td>Kbeauty DIY</td>\n      <td>Fun diys.</td>\n      <td>https://yt3.ggpht.com/ytc/AL5GRJU6X811mau5mbuH...</td>\n      <td>https://yt3.ggpht.com/ytc/AL5GRJU6X811mau5mbuH...</td>\n      <td>https://yt3.ggpht.com/ytc/AL5GRJU6X811mau5mbuH...</td>\n      <td>Kbeauty DIY</td>\n      <td>none</td>\n      <td>2015-10-29T22:40:08Z</td>\n    </tr>\n    <tr>\n      <th>493</th>\n      <td>youtube#searchResult</td>\n      <td>uLJpTlwRo8zI0rmlFY9O7Oaubdo</td>\n      <td>youtube#channel</td>\n      <td>UCKq2q8YAvo0Pq79657y6lFQ</td>\n      <td>2017-01-16T17:41:51Z</td>\n      <td>UCKq2q8YAvo0Pq79657y6lFQ</td>\n      <td>KBeauty Labs</td>\n      <td>NaN</td>\n      <td>https://yt3.ggpht.com/ytc/AL5GRJWL9EgDKOqg8CMG...</td>\n      <td>https://yt3.ggpht.com/ytc/AL5GRJWL9EgDKOqg8CMG...</td>\n      <td>https://yt3.ggpht.com/ytc/AL5GRJWL9EgDKOqg8CMG...</td>\n      <td>KBeauty Labs</td>\n      <td>none</td>\n      <td>2017-01-16T17:41:51Z</td>\n    </tr>\n  </tbody>\n</table>\n<p>494 rows × 14 columns</p>\n</div>"
     },
     "execution_count": 9,
     "metadata": {},
     "output_type": "execute_result"
    }
   ],
   "source": [
    "# 7\n",
    "import pandas as pd\n",
    "\n",
    "data = pd.read_excel(DATA_PATH / 'k_beauty | kbeauty_Channel_Not_sorted+Sorted.xlsx')\n",
    "data"
   ],
   "metadata": {
    "collapsed": false
   }
  },
  {
   "cell_type": "code",
   "execution_count": 10,
   "outputs": [],
   "source": [
    "# 8\n",
    "\n",
    "search_parts = [\n",
    "    \"brandingSettings\",\n",
    "    \"contentDetails\",\n",
    "    \"contentOwnerDetails\",\n",
    "    \"localizations\",\n",
    "    \"snippet\",\n",
    "    \"statistics\",\n",
    "    \"topicDetails\",\n",
    "]\n",
    "\n",
    "# список каналов\n",
    "channel_ids = list(data['id.channelId'])"
   ],
   "metadata": {
    "collapsed": false
   }
  },
  {
   "cell_type": "code",
   "execution_count": 11,
   "outputs": [
    {
     "data": {
      "text/plain": "              kind                         etag                        id  \\\n0  youtube#channel  ByX7zgaND3RQG2jCEoAJIlEhUxQ  UCdTTnajLmo3isfGm2pYr9lQ   \n1  youtube#channel  PjSC3hFLSD_aJ6EA7a2JU2-DKcE  UCvypkOFABpGO4kScjuV-Jgw   \n2  youtube#channel  EpsULcrTSHbu398NFUFy16eXw6s  UCPiUAxeEOxYSsy7EjyBmbiA   \n3  youtube#channel  sRNGfcCii0PfQu1apCdOqWEkDUU  UCPJfH1JPC3WXV67fcNkeHKw   \n4  youtube#channel  zWDmzTBe6g6TrFoC_fu2s3IWpBA  UCoKAOzyQLp8VHgJFg41RhIQ   \n\n              snippet.title  \\\n0             Kbeauty Karen   \n1                   kbeauty   \n2  Lupita Herrera Y KBeauty   \n3            kbeauty.Center   \n4              Kbeauty Muse   \n\n                                 snippet.description  \\\n0                                                      \n1                                                      \n2                                                      \n3  Tratamientos estéticos faciales y corporales c...   \n4  \"BE YOUR OWN MUSE\"\\nInspiring your K-Beauty li...   \n\n            snippet.customUrl   snippet.publishedAt  \\\n0           @kbeautykaren2247  2013-01-21T11:40:18Z   \n1                 @kbeauty152  2016-06-08T17:59:04Z   \n2  @lupitaherreraykbeauty5692  2017-08-01T17:20:36Z   \n3         @kbeauty.center8650  2018-05-31T23:22:06Z   \n4              @beautybemused  2009-09-16T12:09:44Z   \n\n                      snippet.thumbnails.default.url  \\\n0  https://yt3.ggpht.com/ytc/AL5GRJVy2NE-6WURg35_...   \n1  https://yt3.ggpht.com/EF_lgTtH4UsQOH15ooFLQmEw...   \n2  https://yt3.ggpht.com/ytc/AL5GRJU5oaNO35MCQ_16...   \n3  https://yt3.ggpht.com/JAUTv_DzxLpDjt_YSCx8NP9C...   \n4  https://yt3.ggpht.com/ApXB4aeBYszF6G1mB-AUAdVL...   \n\n   snippet.thumbnails.default.width  snippet.thumbnails.default.height  ...  \\\n0                                88                                 88  ...   \n1                                88                                 88  ...   \n2                                88                                 88  ...   \n3                                88                                 88  ...   \n4                                88                                 88  ...   \n\n  snippet.defaultLanguage  brandingSettings.channel.defaultLanguage  \\\n0                     NaN                                       NaN   \n1                     NaN                                       NaN   \n2                     NaN                                       NaN   \n3                     NaN                                       NaN   \n4                     NaN                                       NaN   \n\n   localizations.en_US.title localizations.en_US.description  \\\n0                        NaN                             NaN   \n1                        NaN                             NaN   \n2                        NaN                             NaN   \n3                        NaN                             NaN   \n4                        NaN                             NaN   \n\n   localizations.ja_JP.title  localizations.ja_JP.description  \\\n0                        NaN                              NaN   \n1                        NaN                              NaN   \n2                        NaN                              NaN   \n3                        NaN                              NaN   \n4                        NaN                              NaN   \n\n  localizations.ko_KR.title localizations.ko_KR.description  \\\n0                       NaN                             NaN   \n1                       NaN                             NaN   \n2                       NaN                             NaN   \n3                       NaN                             NaN   \n4                       NaN                             NaN   \n\n  localizations.zh_CN.title localizations.zh_CN.description  \n0                       NaN                             NaN  \n1                       NaN                             NaN  \n2                       NaN                             NaN  \n3                       NaN                             NaN  \n4                       NaN                             NaN  \n\n[5 rows x 44 columns]",
      "text/html": "<div>\n<style scoped>\n    .dataframe tbody tr th:only-of-type {\n        vertical-align: middle;\n    }\n\n    .dataframe tbody tr th {\n        vertical-align: top;\n    }\n\n    .dataframe thead th {\n        text-align: right;\n    }\n</style>\n<table border=\"1\" class=\"dataframe\">\n  <thead>\n    <tr style=\"text-align: right;\">\n      <th></th>\n      <th>kind</th>\n      <th>etag</th>\n      <th>id</th>\n      <th>snippet.title</th>\n      <th>snippet.description</th>\n      <th>snippet.customUrl</th>\n      <th>snippet.publishedAt</th>\n      <th>snippet.thumbnails.default.url</th>\n      <th>snippet.thumbnails.default.width</th>\n      <th>snippet.thumbnails.default.height</th>\n      <th>...</th>\n      <th>snippet.defaultLanguage</th>\n      <th>brandingSettings.channel.defaultLanguage</th>\n      <th>localizations.en_US.title</th>\n      <th>localizations.en_US.description</th>\n      <th>localizations.ja_JP.title</th>\n      <th>localizations.ja_JP.description</th>\n      <th>localizations.ko_KR.title</th>\n      <th>localizations.ko_KR.description</th>\n      <th>localizations.zh_CN.title</th>\n      <th>localizations.zh_CN.description</th>\n    </tr>\n  </thead>\n  <tbody>\n    <tr>\n      <th>0</th>\n      <td>youtube#channel</td>\n      <td>ByX7zgaND3RQG2jCEoAJIlEhUxQ</td>\n      <td>UCdTTnajLmo3isfGm2pYr9lQ</td>\n      <td>Kbeauty Karen</td>\n      <td></td>\n      <td>@kbeautykaren2247</td>\n      <td>2013-01-21T11:40:18Z</td>\n      <td>https://yt3.ggpht.com/ytc/AL5GRJVy2NE-6WURg35_...</td>\n      <td>88</td>\n      <td>88</td>\n      <td>...</td>\n      <td>NaN</td>\n      <td>NaN</td>\n      <td>NaN</td>\n      <td>NaN</td>\n      <td>NaN</td>\n      <td>NaN</td>\n      <td>NaN</td>\n      <td>NaN</td>\n      <td>NaN</td>\n      <td>NaN</td>\n    </tr>\n    <tr>\n      <th>1</th>\n      <td>youtube#channel</td>\n      <td>PjSC3hFLSD_aJ6EA7a2JU2-DKcE</td>\n      <td>UCvypkOFABpGO4kScjuV-Jgw</td>\n      <td>kbeauty</td>\n      <td></td>\n      <td>@kbeauty152</td>\n      <td>2016-06-08T17:59:04Z</td>\n      <td>https://yt3.ggpht.com/EF_lgTtH4UsQOH15ooFLQmEw...</td>\n      <td>88</td>\n      <td>88</td>\n      <td>...</td>\n      <td>NaN</td>\n      <td>NaN</td>\n      <td>NaN</td>\n      <td>NaN</td>\n      <td>NaN</td>\n      <td>NaN</td>\n      <td>NaN</td>\n      <td>NaN</td>\n      <td>NaN</td>\n      <td>NaN</td>\n    </tr>\n    <tr>\n      <th>2</th>\n      <td>youtube#channel</td>\n      <td>EpsULcrTSHbu398NFUFy16eXw6s</td>\n      <td>UCPiUAxeEOxYSsy7EjyBmbiA</td>\n      <td>Lupita Herrera Y KBeauty</td>\n      <td></td>\n      <td>@lupitaherreraykbeauty5692</td>\n      <td>2017-08-01T17:20:36Z</td>\n      <td>https://yt3.ggpht.com/ytc/AL5GRJU5oaNO35MCQ_16...</td>\n      <td>88</td>\n      <td>88</td>\n      <td>...</td>\n      <td>NaN</td>\n      <td>NaN</td>\n      <td>NaN</td>\n      <td>NaN</td>\n      <td>NaN</td>\n      <td>NaN</td>\n      <td>NaN</td>\n      <td>NaN</td>\n      <td>NaN</td>\n      <td>NaN</td>\n    </tr>\n    <tr>\n      <th>3</th>\n      <td>youtube#channel</td>\n      <td>sRNGfcCii0PfQu1apCdOqWEkDUU</td>\n      <td>UCPJfH1JPC3WXV67fcNkeHKw</td>\n      <td>kbeauty.Center</td>\n      <td>Tratamientos estéticos faciales y corporales c...</td>\n      <td>@kbeauty.center8650</td>\n      <td>2018-05-31T23:22:06Z</td>\n      <td>https://yt3.ggpht.com/JAUTv_DzxLpDjt_YSCx8NP9C...</td>\n      <td>88</td>\n      <td>88</td>\n      <td>...</td>\n      <td>NaN</td>\n      <td>NaN</td>\n      <td>NaN</td>\n      <td>NaN</td>\n      <td>NaN</td>\n      <td>NaN</td>\n      <td>NaN</td>\n      <td>NaN</td>\n      <td>NaN</td>\n      <td>NaN</td>\n    </tr>\n    <tr>\n      <th>4</th>\n      <td>youtube#channel</td>\n      <td>zWDmzTBe6g6TrFoC_fu2s3IWpBA</td>\n      <td>UCoKAOzyQLp8VHgJFg41RhIQ</td>\n      <td>Kbeauty Muse</td>\n      <td>\"BE YOUR OWN MUSE\"\\nInspiring your K-Beauty li...</td>\n      <td>@beautybemused</td>\n      <td>2009-09-16T12:09:44Z</td>\n      <td>https://yt3.ggpht.com/ApXB4aeBYszF6G1mB-AUAdVL...</td>\n      <td>88</td>\n      <td>88</td>\n      <td>...</td>\n      <td>NaN</td>\n      <td>NaN</td>\n      <td>NaN</td>\n      <td>NaN</td>\n      <td>NaN</td>\n      <td>NaN</td>\n      <td>NaN</td>\n      <td>NaN</td>\n      <td>NaN</td>\n      <td>NaN</td>\n    </tr>\n  </tbody>\n</table>\n<p>5 rows × 44 columns</p>\n</div>"
     },
     "execution_count": 11,
     "metadata": {},
     "output_type": "execute_result"
    }
   ],
   "source": [
    "# 9 Одиночный вызов API для одного канала\n",
    "request = youtube.channels().list(\n",
    "    part=search_parts,\n",
    "    maxResults=50,\n",
    "    id=channel_ids[:50],\n",
    ")\n",
    "response = request.execute()\n",
    "\n",
    "df_supplemented = pd.json_normalize(response['items'])\n",
    "df_supplemented.head()"
   ],
   "metadata": {
    "collapsed": false
   }
  },
  {
   "cell_type": "code",
   "execution_count": 12,
   "outputs": [
    {
     "name": "stdout",
     "output_type": "stream",
     "text": [
      "Итерация 0 завершена\n",
      "Итерация 1 завершена\n",
      "Итерация 2 завершена\n",
      "Итерация 3 завершена\n",
      "Итерация 4 завершена\n",
      "Итерация 5 завершена\n",
      "Итерация 6 завершена\n",
      "Итерация 7 завершена\n",
      "Итерация 8 завершена\n",
      "Итерация 9 завершена\n"
     ]
    }
   ],
   "source": [
    "# 10 Множественный вызов по 50 элементов\n",
    "\n",
    "df_supplemented = pd.DataFrame()\n",
    "\n",
    "for i in range(0, len(data), 50):\n",
    "    # границы интервала\n",
    "    s, e = i, i+50\n",
    "    if e > len(data): e = len(data)\n",
    "\n",
    "    request = youtube.channels().list(\n",
    "    part=search_parts,\n",
    "    maxResults=50,\n",
    "    id=channel_ids[s:e],\n",
    "    )\n",
    "    response = request.execute()\n",
    "\n",
    "    df_additional = pd.json_normalize(response['items'])\n",
    "    df_supplemented = pd.concat([df_supplemented, df_additional])\n",
    "    print(f\"Итерация {i // 50} завершена\")"
   ],
   "metadata": {
    "collapsed": false
   }
  },
  {
   "cell_type": "code",
   "execution_count": 13,
   "outputs": [
    {
     "name": "stdout",
     "output_type": "stream",
     "text": [
      "<class 'pandas.core.frame.DataFrame'>\n",
      "Int64Index: 494 entries, 0 to 43\n",
      "Columns: 106 entries, kind to localizations.es_ES.title\n",
      "dtypes: bool(1), int64(6), object(99)\n",
      "memory usage: 409.6+ KB\n"
     ]
    }
   ],
   "source": [
    "# 11 Просмотр параметров датафрейма\n",
    "df_supplemented.info()"
   ],
   "metadata": {
    "collapsed": false
   }
  },
  {
   "cell_type": "code",
   "execution_count": 14,
   "outputs": [
    {
     "name": "stdout",
     "output_type": "stream",
     "text": [
      "Всё ок\n"
     ]
    }
   ],
   "source": [
    "# 12 Валидация количества каналов\n",
    "\n",
    "if len(data) == len(df_supplemented): print('Всё ок')\n",
    "else: print(\"Не досчитались:\", abs(len(data) - len(df_supplemented)), \"каналов\")"
   ],
   "metadata": {
    "collapsed": false
   }
  },
  {
   "cell_type": "code",
   "execution_count": 15,
   "outputs": [],
   "source": [
    "# 13 Просмотр статистики по каналам\n",
    "\n",
    "list_of_col = [x for x in df_supplemented.columns if x.startswith('stat')]\n",
    "\n",
    "for col in list_of_col:\n",
    "    df_supplemented[col] = pd.to_numeric(df_supplemented[col],downcast=\"integer\")"
   ],
   "metadata": {
    "collapsed": false
   }
  },
  {
   "cell_type": "code",
   "execution_count": 16,
   "outputs": [
    {
     "name": "stdout",
     "output_type": "stream",
     "text": [
      "Параметр statistics.viewCount\n",
      "Average - 1993713.028340081\n",
      "Minimal - 0,\n",
      "Maximum - 366072971\n",
      "Median - 581.5\n",
      "===============\n",
      "Параметр statistics.subscriberCount\n",
      "Average - 25010.234817813765\n",
      "Minimal - 0,\n",
      "Maximum - 5950000\n",
      "Median - 11.0\n",
      "===============\n",
      "Параметр statistics.hiddenSubscriberCount\n",
      "Average - 0.0\n",
      "Minimal - False,\n",
      "Maximum - False\n",
      "Median - 0.0\n",
      "===============\n",
      "Параметр statistics.videoCount\n",
      "Average - 36.564777327935225\n",
      "Minimal - 0,\n",
      "Maximum - 1215\n",
      "Median - 5.0\n",
      "===============\n"
     ]
    }
   ],
   "source": [
    "for col in list_of_col:\n",
    "    print(f\"Параметр {col}\")\n",
    "    print(f\"Average - {df_supplemented[col].mean()}\\n\"\n",
    "          f\"Minimal - {df_supplemented[col].min()},\\n\"\n",
    "          f\"Maximum - {df_supplemented[col].max()}\\n\"\n",
    "          f\"Median - {df_supplemented[col].median()}\")\n",
    "    print(\"=\"*15)"
   ],
   "metadata": {
    "collapsed": false
   }
  },
  {
   "cell_type": "code",
   "execution_count": 16,
   "outputs": [],
   "source": [],
   "metadata": {
    "collapsed": false
   }
  },
  {
   "cell_type": "code",
   "execution_count": 18,
   "outputs": [],
   "source": [
    "# 13 сохранение файлов в специальной директории\n",
    "import os\n",
    "\n",
    "if not os.path.exists(DATA_PATH):\n",
    "    os.makedirs(DATA_PATH)\n",
    "\n",
    "df_supplemented.to_excel(DATA_PATH / f'k_beauty_{type_query.capitalize()}_characteristics.xlsx', index=False)"
   ],
   "metadata": {
    "collapsed": false
   }
  },
  {
   "cell_type": "code",
   "execution_count": null,
   "outputs": [],
   "source": [],
   "metadata": {
    "collapsed": false
   }
  }
 ],
 "metadata": {
  "kernelspec": {
   "display_name": "Python 3",
   "language": "python",
   "name": "python3"
  },
  "language_info": {
   "codemirror_mode": {
    "name": "ipython",
    "version": 2
   },
   "file_extension": ".py",
   "mimetype": "text/x-python",
   "name": "python",
   "nbconvert_exporter": "python",
   "pygments_lexer": "ipython2",
   "version": "2.7.6"
  }
 },
 "nbformat": 4,
 "nbformat_minor": 0
}
