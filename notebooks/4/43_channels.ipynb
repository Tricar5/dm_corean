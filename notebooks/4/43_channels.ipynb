{
 "cells": [
  {
   "cell_type": "code",
   "execution_count": 1,
   "metadata": {
    "collapsed": true
   },
   "outputs": [],
   "source": [
    "import pathlib\n",
    "import yaml\n",
    "ROOT = pathlib.Path().resolve().parent.parent\n",
    "\n",
    "with open(ROOT / \"config.yml\", \"r\") as f:\n",
    "    config = yaml.safe_load(f)"
   ]
  },
  {
   "cell_type": "code",
   "execution_count": 2,
   "outputs": [],
   "source": [
    "# 3\n",
    "DATA_PATH = ROOT / config['api']['DATA_PATH'] / 'seminar4'\n",
    "\n",
    "query = \"корейская косметика\"\n",
    "type_query = \"channel\"\n",
    "\n",
    "# Для поиска видео с учетом даты:\n",
    "publishedAfter = '2020-01-01T00:00:00Z'\n",
    "publishedBefore = '2022-01-01T00:00:00Z'"
   ],
   "metadata": {
    "collapsed": false
   }
  },
  {
   "cell_type": "code",
   "execution_count": 3,
   "outputs": [],
   "source": [
    "# 3.1\n",
    "class KeyStorage:\n",
    "    \"\"\"\n",
    "    Class to use in iteration\n",
    "    \"\"\"\n",
    "\n",
    "    def __init__(self, key_arr: list[str]):\n",
    "        self.key_gen = iter(key_arr)\n",
    "\n",
    "    def get_next_key(self):\n",
    "        \"\"\"\n",
    "        Returns API key to use\n",
    "        :return:\n",
    "        \"\"\"\n",
    "        return next(self.key_gen)\n",
    "\n",
    "key_storage = KeyStorage(config['api']['keys'])"
   ],
   "metadata": {
    "collapsed": false
   }
  },
  {
   "cell_type": "code",
   "execution_count": 4,
   "outputs": [],
   "source": [
    "# 3.2 Просмотр API ключа\n",
    "API_KEY = key_storage.get_next_key()"
   ],
   "metadata": {
    "collapsed": false
   }
  },
  {
   "cell_type": "code",
   "execution_count": 5,
   "outputs": [],
   "source": [
    "#4\n",
    "import googleapiclient.discovery as api"
   ],
   "metadata": {
    "collapsed": false
   }
  },
  {
   "cell_type": "code",
   "execution_count": 6,
   "outputs": [],
   "source": [
    "#5\n",
    "api_service_name = \"youtube\"\n",
    "api_version = \"v3\"\n",
    "\n",
    "youtube = api.build(api_service_name,\n",
    "                        api_version,\n",
    "                       developerKey = API_KEY)"
   ],
   "metadata": {
    "collapsed": false
   }
  },
  {
   "cell_type": "code",
   "execution_count": 8,
   "outputs": [
    {
     "data": {
      "text/plain": "   Unnamed: 0                         etag        id.kind   id.videoId  \\\n0           1  KC_LG8xTt9DjwtELdwXsHef8Y2g  youtube#video  Wi49rKRM85U   \n1           2  NjKFlYBBEw9zdA5NO0pNPxZQWW4  youtube#video  1ErvLvQoYxc   \n2           3  ZkrSJlyz8XsSTJv1_ejDaFtSKyM  youtube#video  aiY0ymL25Pw   \n3           4  uSLsO6jgTFGew3isXWNKN2IEIu0  youtube#video  JA9E4TCVsDU   \n4           5  6kkxWnMmA0vx1FI_Ur5fXgKuR6k  youtube#video  NAeXVpMTiT4   \n\n  snippet.publishedAt         snippet.channelId  \\\n0                2022  UCphnZS52v_lkv5RSl5n70tQ   \n1                2019  UC6C0oFYlpKkFGG-ykqM4fYw   \n2                2021  UCiT7bPorr4rKJU8WFBZA9Og   \n3                2015  UCNazbf-kLY6E8TO_o48ZExQ   \n4                2018  UCmXGqfEsluA1fID55bVexjw   \n\n                                       snippet.title  \\\n0  한국인들은 절대 안사는 화장품 КОСМЕТИКА КОТОРАЯ КОРЕЯНКИ ВО...   \n1  ТЫ ДОЛЖНА ЭТО ПОПРОБОВАТЬ! ЛУЧШАЯ КОРЕЙСКАЯ КО...   \n2  РЕАКЦИЯ дерматолога: 10 этапов корейского уход...   \n3  КАК Я ИСПОРТИЛА КОЖУ: КОРЕЙСКАЯ КОСМЕТИКА\\Tony...   \n4  🇰🇷 НЕВЕРОЯТНАЯ КОРЕЙСКАЯ КОСМЕТИКА! Топовые шт...   \n\n                                 snippet.description  \\\n0  подписаться: https://goo.gl/3QbeUf -----------...   \n1  Хорошие мои, сегодня я расскажу вам про свой к...   \n2  Мой телеграм: https://t.me/dr_amina_pirmanova ...   \n3  Привет! Корейская косметика снова набирает обо...   \n4  Магазин корейской косметики https://goo.gl/UJG...   \n\n                   snippet.thumbnails.default.url  \\\n0  https://i.ytimg.com/vi/Wi49rKRM85U/default.jpg   \n1  https://i.ytimg.com/vi/1ErvLvQoYxc/default.jpg   \n2  https://i.ytimg.com/vi/aiY0ymL25Pw/default.jpg   \n3  https://i.ytimg.com/vi/JA9E4TCVsDU/default.jpg   \n4  https://i.ytimg.com/vi/NAeXVpMTiT4/default.jpg   \n\n   snippet.thumbnails.default.width  ...  \\\n0                               120  ...   \n1                               120  ...   \n2                               120  ...   \n3                               120  ...   \n4                               120  ...   \n\n                      snippet.thumbnails.medium.url  \\\n0  https://i.ytimg.com/vi/Wi49rKRM85U/mqdefault.jpg   \n1  https://i.ytimg.com/vi/1ErvLvQoYxc/mqdefault.jpg   \n2  https://i.ytimg.com/vi/aiY0ymL25Pw/mqdefault.jpg   \n3  https://i.ytimg.com/vi/JA9E4TCVsDU/mqdefault.jpg   \n4  https://i.ytimg.com/vi/NAeXVpMTiT4/mqdefault.jpg   \n\n  snippet.thumbnails.medium.width  snippet.thumbnails.medium.height  \\\n0                             320                               180   \n1                             320                               180   \n2                             320                               180   \n3                             320                               180   \n4                             320                               180   \n\n                        snippet.thumbnails.high.url  \\\n0  https://i.ytimg.com/vi/Wi49rKRM85U/hqdefault.jpg   \n1  https://i.ytimg.com/vi/1ErvLvQoYxc/hqdefault.jpg   \n2  https://i.ytimg.com/vi/aiY0ymL25Pw/hqdefault.jpg   \n3  https://i.ytimg.com/vi/JA9E4TCVsDU/hqdefault.jpg   \n4  https://i.ytimg.com/vi/NAeXVpMTiT4/hqdefault.jpg   \n\n  snippet.thumbnails.high.width  snippet.thumbnails.high.height  \\\n0                           480                             360   \n1                           480                             360   \n2                           480                             360   \n3                           480                             360   \n4                           480                             360   \n\n             snippet.channelTitle snippet.liveBroadcastContent  \\\n0  Kyunghamin твоя корейская онни                         none   \n1                  Pineapple Soul                         none   \n2                 Amina Pirmanova                         none   \n3                       Julie Art                         none   \n4                  Tanya StreLove                         none   \n\n    snippet.publishTime kind  \n0  2022-06-20T12:57:48Z  NaN  \n1  2019-03-21T10:23:49Z  NaN  \n2  2021-08-20T08:51:18Z  NaN  \n3  2015-12-06T14:30:40Z  NaN  \n4  2018-04-20T15:19:56Z  NaN  \n\n[5 rows x 21 columns]",
      "text/html": "<div>\n<style scoped>\n    .dataframe tbody tr th:only-of-type {\n        vertical-align: middle;\n    }\n\n    .dataframe tbody tr th {\n        vertical-align: top;\n    }\n\n    .dataframe thead th {\n        text-align: right;\n    }\n</style>\n<table border=\"1\" class=\"dataframe\">\n  <thead>\n    <tr style=\"text-align: right;\">\n      <th></th>\n      <th>Unnamed: 0</th>\n      <th>etag</th>\n      <th>id.kind</th>\n      <th>id.videoId</th>\n      <th>snippet.publishedAt</th>\n      <th>snippet.channelId</th>\n      <th>snippet.title</th>\n      <th>snippet.description</th>\n      <th>snippet.thumbnails.default.url</th>\n      <th>snippet.thumbnails.default.width</th>\n      <th>...</th>\n      <th>snippet.thumbnails.medium.url</th>\n      <th>snippet.thumbnails.medium.width</th>\n      <th>snippet.thumbnails.medium.height</th>\n      <th>snippet.thumbnails.high.url</th>\n      <th>snippet.thumbnails.high.width</th>\n      <th>snippet.thumbnails.high.height</th>\n      <th>snippet.channelTitle</th>\n      <th>snippet.liveBroadcastContent</th>\n      <th>snippet.publishTime</th>\n      <th>kind</th>\n    </tr>\n  </thead>\n  <tbody>\n    <tr>\n      <th>0</th>\n      <td>1</td>\n      <td>KC_LG8xTt9DjwtELdwXsHef8Y2g</td>\n      <td>youtube#video</td>\n      <td>Wi49rKRM85U</td>\n      <td>2022</td>\n      <td>UCphnZS52v_lkv5RSl5n70tQ</td>\n      <td>한국인들은 절대 안사는 화장품 КОСМЕТИКА КОТОРАЯ КОРЕЯНКИ ВО...</td>\n      <td>подписаться: https://goo.gl/3QbeUf -----------...</td>\n      <td>https://i.ytimg.com/vi/Wi49rKRM85U/default.jpg</td>\n      <td>120</td>\n      <td>...</td>\n      <td>https://i.ytimg.com/vi/Wi49rKRM85U/mqdefault.jpg</td>\n      <td>320</td>\n      <td>180</td>\n      <td>https://i.ytimg.com/vi/Wi49rKRM85U/hqdefault.jpg</td>\n      <td>480</td>\n      <td>360</td>\n      <td>Kyunghamin твоя корейская онни</td>\n      <td>none</td>\n      <td>2022-06-20T12:57:48Z</td>\n      <td>NaN</td>\n    </tr>\n    <tr>\n      <th>1</th>\n      <td>2</td>\n      <td>NjKFlYBBEw9zdA5NO0pNPxZQWW4</td>\n      <td>youtube#video</td>\n      <td>1ErvLvQoYxc</td>\n      <td>2019</td>\n      <td>UC6C0oFYlpKkFGG-ykqM4fYw</td>\n      <td>ТЫ ДОЛЖНА ЭТО ПОПРОБОВАТЬ! ЛУЧШАЯ КОРЕЙСКАЯ КО...</td>\n      <td>Хорошие мои, сегодня я расскажу вам про свой к...</td>\n      <td>https://i.ytimg.com/vi/1ErvLvQoYxc/default.jpg</td>\n      <td>120</td>\n      <td>...</td>\n      <td>https://i.ytimg.com/vi/1ErvLvQoYxc/mqdefault.jpg</td>\n      <td>320</td>\n      <td>180</td>\n      <td>https://i.ytimg.com/vi/1ErvLvQoYxc/hqdefault.jpg</td>\n      <td>480</td>\n      <td>360</td>\n      <td>Pineapple Soul</td>\n      <td>none</td>\n      <td>2019-03-21T10:23:49Z</td>\n      <td>NaN</td>\n    </tr>\n    <tr>\n      <th>2</th>\n      <td>3</td>\n      <td>ZkrSJlyz8XsSTJv1_ejDaFtSKyM</td>\n      <td>youtube#video</td>\n      <td>aiY0ymL25Pw</td>\n      <td>2021</td>\n      <td>UCiT7bPorr4rKJU8WFBZA9Og</td>\n      <td>РЕАКЦИЯ дерматолога: 10 этапов корейского уход...</td>\n      <td>Мой телеграм: https://t.me/dr_amina_pirmanova ...</td>\n      <td>https://i.ytimg.com/vi/aiY0ymL25Pw/default.jpg</td>\n      <td>120</td>\n      <td>...</td>\n      <td>https://i.ytimg.com/vi/aiY0ymL25Pw/mqdefault.jpg</td>\n      <td>320</td>\n      <td>180</td>\n      <td>https://i.ytimg.com/vi/aiY0ymL25Pw/hqdefault.jpg</td>\n      <td>480</td>\n      <td>360</td>\n      <td>Amina Pirmanova</td>\n      <td>none</td>\n      <td>2021-08-20T08:51:18Z</td>\n      <td>NaN</td>\n    </tr>\n    <tr>\n      <th>3</th>\n      <td>4</td>\n      <td>uSLsO6jgTFGew3isXWNKN2IEIu0</td>\n      <td>youtube#video</td>\n      <td>JA9E4TCVsDU</td>\n      <td>2015</td>\n      <td>UCNazbf-kLY6E8TO_o48ZExQ</td>\n      <td>КАК Я ИСПОРТИЛА КОЖУ: КОРЕЙСКАЯ КОСМЕТИКА\\Tony...</td>\n      <td>Привет! Корейская косметика снова набирает обо...</td>\n      <td>https://i.ytimg.com/vi/JA9E4TCVsDU/default.jpg</td>\n      <td>120</td>\n      <td>...</td>\n      <td>https://i.ytimg.com/vi/JA9E4TCVsDU/mqdefault.jpg</td>\n      <td>320</td>\n      <td>180</td>\n      <td>https://i.ytimg.com/vi/JA9E4TCVsDU/hqdefault.jpg</td>\n      <td>480</td>\n      <td>360</td>\n      <td>Julie Art</td>\n      <td>none</td>\n      <td>2015-12-06T14:30:40Z</td>\n      <td>NaN</td>\n    </tr>\n    <tr>\n      <th>4</th>\n      <td>5</td>\n      <td>6kkxWnMmA0vx1FI_Ur5fXgKuR6k</td>\n      <td>youtube#video</td>\n      <td>NAeXVpMTiT4</td>\n      <td>2018</td>\n      <td>UCmXGqfEsluA1fID55bVexjw</td>\n      <td>🇰🇷 НЕВЕРОЯТНАЯ КОРЕЙСКАЯ КОСМЕТИКА! Топовые шт...</td>\n      <td>Магазин корейской косметики https://goo.gl/UJG...</td>\n      <td>https://i.ytimg.com/vi/NAeXVpMTiT4/default.jpg</td>\n      <td>120</td>\n      <td>...</td>\n      <td>https://i.ytimg.com/vi/NAeXVpMTiT4/mqdefault.jpg</td>\n      <td>320</td>\n      <td>180</td>\n      <td>https://i.ytimg.com/vi/NAeXVpMTiT4/hqdefault.jpg</td>\n      <td>480</td>\n      <td>360</td>\n      <td>Tanya StreLove</td>\n      <td>none</td>\n      <td>2018-04-20T15:19:56Z</td>\n      <td>NaN</td>\n    </tr>\n  </tbody>\n</table>\n<p>5 rows × 21 columns</p>\n</div>"
     },
     "execution_count": 8,
     "metadata": {},
     "output_type": "execute_result"
    }
   ],
   "source": [
    "# 7\n",
    "import pandas as pd\n",
    "\n",
    "\n",
    "data = pd.read_excel(DATA_PATH / 'Video_Not_sorted+Sorted+Date.xlsx')\n",
    "data.head()"
   ],
   "metadata": {
    "collapsed": false
   }
  },
  {
   "cell_type": "code",
   "execution_count": null,
   "outputs": [],
   "source": [
    "# 18.1\n",
    "# Первый заход БЕЗ аргумента order для видео\n",
    "request = youtube.search().list(\n",
    "        part =\"snippet\",\n",
    "        maxResults=50,\n",
    "        q = query,\n",
    "        regionCode =\"RU\",\n",
    "        type = type_query\n",
    ")\n",
    "response = request.execute()\n",
    "\n",
    "df_supplemented = pd.json_normalize(response['items'])\n",
    "\n",
    "    # Цикл для прохода по всем следующим страницам с выдачей:\n",
    "i = 0\n",
    "while 'nextPageToken' in response.keys():\n",
    "    request = youtube.search().list(\n",
    "            part =\"snippet\",\n",
    "            maxResults=50,\n",
    "            q = query,\n",
    "            regionCode =\"RU\",\n",
    "            type = type_query,\n",
    "            pageToken = response['nextPageToken']\n",
    "        )\n",
    "    response = request.execute()\n",
    "\n",
    "    print(f'Итерация БЕЗ включения аргумента order №{i}')\n",
    "    i += 1\n",
    "\n",
    "    df_additional = pd.json_normalize(response['items'])\n",
    "    df_supplemented = pd.concat([df_supplemented, df_additional])\n",
    "\n",
    "\n",
    "\n",
    "print(f\"Искомых объектов {response['pageInfo']['totalResults']}\", \\\n",
    "      f\"а найденных БЕЗ включения каких-либо значений аргумента order {len(df_supplemented.drop_duplicates(f'id.{type_query}Id'))}\")"
   ],
   "metadata": {
    "collapsed": false
   }
  }
 ],
 "metadata": {
  "kernelspec": {
   "display_name": "Python 3",
   "language": "python",
   "name": "python3"
  },
  "language_info": {
   "codemirror_mode": {
    "name": "ipython",
    "version": 2
   },
   "file_extension": ".py",
   "mimetype": "text/x-python",
   "name": "python",
   "nbconvert_exporter": "python",
   "pygments_lexer": "ipython2",
   "version": "2.7.6"
  }
 },
 "nbformat": 4,
 "nbformat_minor": 0
}
