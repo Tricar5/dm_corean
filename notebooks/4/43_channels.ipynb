{
 "cells": [
  {
   "cell_type": "markdown",
   "source": [
    "# Семинар 4\n",
    "## Сбор характеристик каналов"
   ],
   "metadata": {
    "collapsed": false
   }
  },
  {
   "cell_type": "code",
   "execution_count": 55,
   "outputs": [],
   "source": [
    "import pathlib\n",
    "import yaml\n",
    "\n",
    "ROOT = pathlib.Path().resolve().parent.parent\n",
    "\n",
    "with open(ROOT / \"config.yml\", \"r\") as f:\n",
    "    config = yaml.safe_load(f)"
   ],
   "metadata": {
    "collapsed": false
   }
  },
  {
   "cell_type": "code",
   "execution_count": 56,
   "outputs": [],
   "source": [
    "# 3\n",
    "DATA_PATH = ROOT / config['api']['DATA_PATH'] / 'seminar4'\n",
    "\n",
    "query = \"корейская косметика\"\n",
    "type_query = \"channel\"\n",
    "\n",
    "# Для поиска видео с учетом даты:\n",
    "publishedAfter = '2020-01-01T00:00:00Z'\n",
    "publishedBefore = '2022-01-01T00:00:00Z'"
   ],
   "metadata": {
    "collapsed": false
   }
  },
  {
   "cell_type": "code",
   "execution_count": 57,
   "outputs": [],
   "source": [
    "# 3.1\n",
    "class KeyStorage:\n",
    "    \"\"\"\n",
    "    Class to use in iteration\n",
    "    \"\"\"\n",
    "\n",
    "    def __init__(self, key_arr: list[str]):\n",
    "        self.key_gen = iter(key_arr)\n",
    "\n",
    "    def get_next_key(self):\n",
    "        \"\"\"\n",
    "        Returns API key to use\n",
    "        :return:\n",
    "        \"\"\"\n",
    "        return next(self.key_gen)\n",
    "\n",
    "\n",
    "key_storage = KeyStorage(config['api']['keys'])"
   ],
   "metadata": {
    "collapsed": false
   }
  },
  {
   "cell_type": "code",
   "execution_count": 58,
   "outputs": [],
   "source": [
    "# 3.2 Просмотр API ключа\n",
    "API_KEY = key_storage.get_next_key()"
   ],
   "metadata": {
    "collapsed": false
   }
  },
  {
   "cell_type": "code",
   "execution_count": 59,
   "outputs": [],
   "source": [
    "#4\n",
    "import googleapiclient.discovery as api"
   ],
   "metadata": {
    "collapsed": false
   }
  },
  {
   "cell_type": "code",
   "execution_count": 60,
   "outputs": [],
   "source": [
    "#5\n",
    "api_service_name = \"youtube\"\n",
    "api_version = \"v3\"\n",
    "\n",
    "youtube = api.build(api_service_name,\n",
    "                    api_version,\n",
    "                    developerKey=API_KEY)"
   ],
   "metadata": {
    "collapsed": false
   }
  },
  {
   "cell_type": "code",
   "execution_count": 61,
   "outputs": [],
   "source": [
    "# Открываем свой датафрейм"
   ],
   "metadata": {
    "collapsed": false
   }
  },
  {
   "cell_type": "code",
   "execution_count": 62,
   "outputs": [
    {
     "data": {
      "text/plain": "             Unnamed: 0                         etag          id.kind  \\\n0  youtube#searchResult  3DyCGRAji4vs67_K6Xodsfy_yRc  youtube#channel   \n1  youtube#searchResult  KD4wB0kFCleorLAZUqunFeeNnGU  youtube#channel   \n2  youtube#searchResult  rYW08nw-AIqP6rHhabVqo3r4GOo  youtube#channel   \n3  youtube#searchResult  hq-V8AVxdQs4HTDfyp9T7YaCWak  youtube#channel   \n4  youtube#searchResult  26Gb5w9PCwul3ZBjH3XPbWR_beY  youtube#channel   \n\n               id.channelId snippet.publishedAt         snippet.channelId  \\\n0  UClTe1W6iuivE5R1XBacrENg                2022  UClTe1W6iuivE5R1XBacrENg   \n1  UCyBkYEimyewSS9Tf_XasxqA                2019  UCyBkYEimyewSS9Tf_XasxqA   \n2  UCPmSyu4_Xxw2d8uOThJ5tCQ                2015  UCPmSyu4_Xxw2d8uOThJ5tCQ   \n3  UCIH9WX73cmksrcE4lKzns2w                2021  UCIH9WX73cmksrcE4lKzns2w   \n4  UCFmgLIGI4CTB_g7LEw_VXfg                2018  UCFmgLIGI4CTB_g7LEw_VXfg   \n\n                     snippet.title  \\\n0              Корейская косметика   \n1  Chok - Chok Корейская косметика   \n2              Корейская косметика   \n3         Корейская люкс косметика   \n4              Корейская Косметика   \n\n                                 snippet.description  \\\n0  Корейская косметика на прямую от производителя...   \n1                                                 1.   \n2                                                NaN   \n3  Корейская люкс косметика Здоровая кожа - залог...   \n4                                                NaN   \n\n                      snippet.thumbnails.default.url  \\\n0  https://yt3.ggpht.com/tnzcStGWX_50UZA6gPqMmGJJ...   \n1  https://yt3.ggpht.com/ytc/AL5GRJXSaaDeBjL92F2Y...   \n2  https://yt3.ggpht.com/ytc/AL5GRJX9KQ-jcjyvtAC8...   \n3  https://yt3.ggpht.com/HE9yWbxQN3MDaXFmyJeytKHc...   \n4  https://yt3.ggpht.com/ytc/AL5GRJX5-fC0j0POMv5F...   \n\n                       snippet.thumbnails.medium.url  ...  \\\n0  https://yt3.ggpht.com/tnzcStGWX_50UZA6gPqMmGJJ...  ...   \n1  https://yt3.ggpht.com/ytc/AL5GRJXSaaDeBjL92F2Y...  ...   \n2  https://yt3.ggpht.com/ytc/AL5GRJX9KQ-jcjyvtAC8...  ...   \n3  https://yt3.ggpht.com/HE9yWbxQN3MDaXFmyJeytKHc...  ...   \n4  https://yt3.ggpht.com/ytc/AL5GRJX5-fC0j0POMv5F...  ...   \n\n  snippet.liveBroadcastContent   snippet.publishTime id.videoId  \\\n0                         none  2022-10-20T13:03:39Z        NaN   \n1                         none  2019-09-26T16:51:01Z        NaN   \n2                         none  2015-04-01T11:37:55Z        NaN   \n3                         none  2021-01-11T04:37:21Z        NaN   \n4                         none  2018-05-16T08:08:08Z        NaN   \n\n  snippet.thumbnails.default.width snippet.thumbnails.default.height  \\\n0                              NaN                               NaN   \n1                              NaN                               NaN   \n2                              NaN                               NaN   \n3                              NaN                               NaN   \n4                              NaN                               NaN   \n\n   snippet.thumbnails.medium.width  snippet.thumbnails.medium.height  \\\n0                              NaN                               NaN   \n1                              NaN                               NaN   \n2                              NaN                               NaN   \n3                              NaN                               NaN   \n4                              NaN                               NaN   \n\n   snippet.thumbnails.high.width  snippet.thumbnails.high.height  kind  \n0                            NaN                             NaN   NaN  \n1                            NaN                             NaN   NaN  \n2                            NaN                             NaN   NaN  \n3                            NaN                             NaN   NaN  \n4                            NaN                             NaN   NaN  \n\n[5 rows x 22 columns]",
      "text/html": "<div>\n<style scoped>\n    .dataframe tbody tr th:only-of-type {\n        vertical-align: middle;\n    }\n\n    .dataframe tbody tr th {\n        vertical-align: top;\n    }\n\n    .dataframe thead th {\n        text-align: right;\n    }\n</style>\n<table border=\"1\" class=\"dataframe\">\n  <thead>\n    <tr style=\"text-align: right;\">\n      <th></th>\n      <th>Unnamed: 0</th>\n      <th>etag</th>\n      <th>id.kind</th>\n      <th>id.channelId</th>\n      <th>snippet.publishedAt</th>\n      <th>snippet.channelId</th>\n      <th>snippet.title</th>\n      <th>snippet.description</th>\n      <th>snippet.thumbnails.default.url</th>\n      <th>snippet.thumbnails.medium.url</th>\n      <th>...</th>\n      <th>snippet.liveBroadcastContent</th>\n      <th>snippet.publishTime</th>\n      <th>id.videoId</th>\n      <th>snippet.thumbnails.default.width</th>\n      <th>snippet.thumbnails.default.height</th>\n      <th>snippet.thumbnails.medium.width</th>\n      <th>snippet.thumbnails.medium.height</th>\n      <th>snippet.thumbnails.high.width</th>\n      <th>snippet.thumbnails.high.height</th>\n      <th>kind</th>\n    </tr>\n  </thead>\n  <tbody>\n    <tr>\n      <th>0</th>\n      <td>youtube#searchResult</td>\n      <td>3DyCGRAji4vs67_K6Xodsfy_yRc</td>\n      <td>youtube#channel</td>\n      <td>UClTe1W6iuivE5R1XBacrENg</td>\n      <td>2022</td>\n      <td>UClTe1W6iuivE5R1XBacrENg</td>\n      <td>Корейская косметика</td>\n      <td>Корейская косметика на прямую от производителя...</td>\n      <td>https://yt3.ggpht.com/tnzcStGWX_50UZA6gPqMmGJJ...</td>\n      <td>https://yt3.ggpht.com/tnzcStGWX_50UZA6gPqMmGJJ...</td>\n      <td>...</td>\n      <td>none</td>\n      <td>2022-10-20T13:03:39Z</td>\n      <td>NaN</td>\n      <td>NaN</td>\n      <td>NaN</td>\n      <td>NaN</td>\n      <td>NaN</td>\n      <td>NaN</td>\n      <td>NaN</td>\n      <td>NaN</td>\n    </tr>\n    <tr>\n      <th>1</th>\n      <td>youtube#searchResult</td>\n      <td>KD4wB0kFCleorLAZUqunFeeNnGU</td>\n      <td>youtube#channel</td>\n      <td>UCyBkYEimyewSS9Tf_XasxqA</td>\n      <td>2019</td>\n      <td>UCyBkYEimyewSS9Tf_XasxqA</td>\n      <td>Chok - Chok Корейская косметика</td>\n      <td>1.</td>\n      <td>https://yt3.ggpht.com/ytc/AL5GRJXSaaDeBjL92F2Y...</td>\n      <td>https://yt3.ggpht.com/ytc/AL5GRJXSaaDeBjL92F2Y...</td>\n      <td>...</td>\n      <td>none</td>\n      <td>2019-09-26T16:51:01Z</td>\n      <td>NaN</td>\n      <td>NaN</td>\n      <td>NaN</td>\n      <td>NaN</td>\n      <td>NaN</td>\n      <td>NaN</td>\n      <td>NaN</td>\n      <td>NaN</td>\n    </tr>\n    <tr>\n      <th>2</th>\n      <td>youtube#searchResult</td>\n      <td>rYW08nw-AIqP6rHhabVqo3r4GOo</td>\n      <td>youtube#channel</td>\n      <td>UCPmSyu4_Xxw2d8uOThJ5tCQ</td>\n      <td>2015</td>\n      <td>UCPmSyu4_Xxw2d8uOThJ5tCQ</td>\n      <td>Корейская косметика</td>\n      <td>NaN</td>\n      <td>https://yt3.ggpht.com/ytc/AL5GRJX9KQ-jcjyvtAC8...</td>\n      <td>https://yt3.ggpht.com/ytc/AL5GRJX9KQ-jcjyvtAC8...</td>\n      <td>...</td>\n      <td>none</td>\n      <td>2015-04-01T11:37:55Z</td>\n      <td>NaN</td>\n      <td>NaN</td>\n      <td>NaN</td>\n      <td>NaN</td>\n      <td>NaN</td>\n      <td>NaN</td>\n      <td>NaN</td>\n      <td>NaN</td>\n    </tr>\n    <tr>\n      <th>3</th>\n      <td>youtube#searchResult</td>\n      <td>hq-V8AVxdQs4HTDfyp9T7YaCWak</td>\n      <td>youtube#channel</td>\n      <td>UCIH9WX73cmksrcE4lKzns2w</td>\n      <td>2021</td>\n      <td>UCIH9WX73cmksrcE4lKzns2w</td>\n      <td>Корейская люкс косметика</td>\n      <td>Корейская люкс косметика Здоровая кожа - залог...</td>\n      <td>https://yt3.ggpht.com/HE9yWbxQN3MDaXFmyJeytKHc...</td>\n      <td>https://yt3.ggpht.com/HE9yWbxQN3MDaXFmyJeytKHc...</td>\n      <td>...</td>\n      <td>none</td>\n      <td>2021-01-11T04:37:21Z</td>\n      <td>NaN</td>\n      <td>NaN</td>\n      <td>NaN</td>\n      <td>NaN</td>\n      <td>NaN</td>\n      <td>NaN</td>\n      <td>NaN</td>\n      <td>NaN</td>\n    </tr>\n    <tr>\n      <th>4</th>\n      <td>youtube#searchResult</td>\n      <td>26Gb5w9PCwul3ZBjH3XPbWR_beY</td>\n      <td>youtube#channel</td>\n      <td>UCFmgLIGI4CTB_g7LEw_VXfg</td>\n      <td>2018</td>\n      <td>UCFmgLIGI4CTB_g7LEw_VXfg</td>\n      <td>Корейская Косметика</td>\n      <td>NaN</td>\n      <td>https://yt3.ggpht.com/ytc/AL5GRJX5-fC0j0POMv5F...</td>\n      <td>https://yt3.ggpht.com/ytc/AL5GRJX5-fC0j0POMv5F...</td>\n      <td>...</td>\n      <td>none</td>\n      <td>2018-05-16T08:08:08Z</td>\n      <td>NaN</td>\n      <td>NaN</td>\n      <td>NaN</td>\n      <td>NaN</td>\n      <td>NaN</td>\n      <td>NaN</td>\n      <td>NaN</td>\n      <td>NaN</td>\n    </tr>\n  </tbody>\n</table>\n<p>5 rows × 22 columns</p>\n</div>"
     },
     "execution_count": 62,
     "metadata": {},
     "output_type": "execute_result"
    }
   ],
   "source": [
    "# 7\n",
    "import pandas as pd\n",
    "\n",
    "data = pd.read_excel(DATA_PATH / 'Channel_Not_sorted+Sorted+Date.xlsx')\n",
    "data.head()"
   ],
   "metadata": {
    "collapsed": false
   }
  },
  {
   "cell_type": "code",
   "execution_count": 79,
   "outputs": [],
   "source": [
    "# 8\n",
    "\n",
    "search_parts = [\n",
    "    \"brandingSettings\",\n",
    "    \"contentDetails\",\n",
    "    \"contentOwnerDetails\",\n",
    "    \"localizations\",\n",
    "    \"snippet\",\n",
    "    \"statistics\",\n",
    "    \"topicDetails\",\n",
    "]\n",
    "\n",
    "channel_ids = list(data['id.channelId'])"
   ],
   "metadata": {
    "collapsed": false
   }
  },
  {
   "cell_type": "code",
   "execution_count": 85,
   "outputs": [
    {
     "data": {
      "text/plain": "              kind                         etag                        id  \\\n0  youtube#channel  M7HU1NBc0yOLV9d82rWNL2HjMes  UChzXOCsMyxz-JGpt_wfS0lA   \n1  youtube#channel  nvDVzAcauMEf_ZMjCfm_n6g5KXY  UClfGcpJdnc7ClcovZoalhBw   \n2  youtube#channel  Z7aWOD_b18D5-hwxQoMqx4HfQP0  UC_faj8TvjRJj9IbQHkUyXNw   \n3  youtube#channel  _Um5kwe_xtezX930hwlQDyLfaKY  UCIH9WX73cmksrcE4lKzns2w   \n4  youtube#channel  Ea2ayVIENjzeynyJpijJsdZpKjM  UCheZqVGVn9dNroNDLtvxTww   \n\n                                snippet.title  \\\n0                  FERIKA корейская косметика   \n1          LuckyCosmetics Корейская косметика   \n2                         Корейская Косметика   \n3                    Корейская люкс косметика   \n4  Atomy. Атоми Корейская косметика. Здоровье   \n\n                                 snippet.description    snippet.customUrl  \\\n0  www.ferika.ru - это надежный и удобный интерне...          @ferika5494   \n1  Всем привет!\\nСпасибо, что зашли на канал инте...  @luckycosmetics8244   \n2                                                        @user-bf5in5qi7e   \n3  • ────── 🇰🇷 ────── •\\nКорейская люкс косметика...     @user-ym2ll1io4l   \n4                                                            @atomy..3946   \n\n           snippet.publishedAt  \\\n0  2020-02-27T09:56:08.649894Z   \n1         2017-12-29T16:25:58Z   \n2         2019-03-02T13:34:25Z   \n3  2021-01-11T04:37:21.874233Z   \n4  2020-09-27T10:10:01.503234Z   \n\n                      snippet.thumbnails.default.url  \\\n0  https://yt3.ggpht.com/ytc/AL5GRJX98EYaRoFqrP8Q...   \n1  https://yt3.ggpht.com/ytc/AL5GRJXjRWvsJE8CJBOu...   \n2  https://yt3.ggpht.com/ytc/AL5GRJUiv0F7HNErt8Ml...   \n3  https://yt3.ggpht.com/HE9yWbxQN3MDaXFmyJeytKHc...   \n4  https://yt3.ggpht.com/ytc/AL5GRJUlzJHyU9EBXaRL...   \n\n   snippet.thumbnails.default.width  snippet.thumbnails.default.height  ...  \\\n0                                88                                 88  ...   \n1                                88                                 88  ...   \n2                                88                                 88  ...   \n3                                88                                 88  ...   \n4                                88                                 88  ...   \n\n  brandingSettings.channel.trackingAnalyticsAccountId  \\\n0                                                NaN    \n1                                      UA-15256516-4    \n2                                                NaN    \n3                                                NaN    \n4                                                NaN    \n\n   brandingSettings.channel.unsubscribedTrailer  \\\n0                                           NaN   \n1                                   -2Buo_2kXJg   \n2                                           NaN   \n3                                           NaN   \n4                                           NaN   \n\n   brandingSettings.channel.country  \\\n0                               NaN   \n1                                RU   \n2                               NaN   \n3                               NaN   \n4                                RU   \n\n            brandingSettings.image.bannerExternalUrl  snippet.defaultLanguage  \\\n0                                                NaN                      NaN   \n1  https://lh3.googleusercontent.com/6hx_JISaHdoa...                      NaN   \n2                                                NaN                      NaN   \n3                                                NaN                      NaN   \n4  https://yt3.googleusercontent.com/IZo3G6McI3Ez...                      NaN   \n\n   brandingSettings.channel.defaultLanguage localizations.en_US.title  \\\n0                                       NaN                       NaN   \n1                                       NaN                       NaN   \n2                                       NaN                       NaN   \n3                                       NaN                       NaN   \n4                                       NaN                       NaN   \n\n  localizations.en_US.description localizations.ru_RU.title  \\\n0                             NaN                       NaN   \n1                             NaN                       NaN   \n2                             NaN                       NaN   \n3                             NaN                       NaN   \n4                             NaN                       NaN   \n\n  localizations.ru_RU.description  \n0                             NaN  \n1                             NaN  \n2                             NaN  \n3                             NaN  \n4                             NaN  \n\n[5 rows x 40 columns]",
      "text/html": "<div>\n<style scoped>\n    .dataframe tbody tr th:only-of-type {\n        vertical-align: middle;\n    }\n\n    .dataframe tbody tr th {\n        vertical-align: top;\n    }\n\n    .dataframe thead th {\n        text-align: right;\n    }\n</style>\n<table border=\"1\" class=\"dataframe\">\n  <thead>\n    <tr style=\"text-align: right;\">\n      <th></th>\n      <th>kind</th>\n      <th>etag</th>\n      <th>id</th>\n      <th>snippet.title</th>\n      <th>snippet.description</th>\n      <th>snippet.customUrl</th>\n      <th>snippet.publishedAt</th>\n      <th>snippet.thumbnails.default.url</th>\n      <th>snippet.thumbnails.default.width</th>\n      <th>snippet.thumbnails.default.height</th>\n      <th>...</th>\n      <th>brandingSettings.channel.trackingAnalyticsAccountId</th>\n      <th>brandingSettings.channel.unsubscribedTrailer</th>\n      <th>brandingSettings.channel.country</th>\n      <th>brandingSettings.image.bannerExternalUrl</th>\n      <th>snippet.defaultLanguage</th>\n      <th>brandingSettings.channel.defaultLanguage</th>\n      <th>localizations.en_US.title</th>\n      <th>localizations.en_US.description</th>\n      <th>localizations.ru_RU.title</th>\n      <th>localizations.ru_RU.description</th>\n    </tr>\n  </thead>\n  <tbody>\n    <tr>\n      <th>0</th>\n      <td>youtube#channel</td>\n      <td>M7HU1NBc0yOLV9d82rWNL2HjMes</td>\n      <td>UChzXOCsMyxz-JGpt_wfS0lA</td>\n      <td>FERIKA корейская косметика</td>\n      <td>www.ferika.ru - это надежный и удобный интерне...</td>\n      <td>@ferika5494</td>\n      <td>2020-02-27T09:56:08.649894Z</td>\n      <td>https://yt3.ggpht.com/ytc/AL5GRJX98EYaRoFqrP8Q...</td>\n      <td>88</td>\n      <td>88</td>\n      <td>...</td>\n      <td>NaN</td>\n      <td>NaN</td>\n      <td>NaN</td>\n      <td>NaN</td>\n      <td>NaN</td>\n      <td>NaN</td>\n      <td>NaN</td>\n      <td>NaN</td>\n      <td>NaN</td>\n      <td>NaN</td>\n    </tr>\n    <tr>\n      <th>1</th>\n      <td>youtube#channel</td>\n      <td>nvDVzAcauMEf_ZMjCfm_n6g5KXY</td>\n      <td>UClfGcpJdnc7ClcovZoalhBw</td>\n      <td>LuckyCosmetics Корейская косметика</td>\n      <td>Всем привет!\\nСпасибо, что зашли на канал инте...</td>\n      <td>@luckycosmetics8244</td>\n      <td>2017-12-29T16:25:58Z</td>\n      <td>https://yt3.ggpht.com/ytc/AL5GRJXjRWvsJE8CJBOu...</td>\n      <td>88</td>\n      <td>88</td>\n      <td>...</td>\n      <td>UA-15256516-4</td>\n      <td>-2Buo_2kXJg</td>\n      <td>RU</td>\n      <td>https://lh3.googleusercontent.com/6hx_JISaHdoa...</td>\n      <td>NaN</td>\n      <td>NaN</td>\n      <td>NaN</td>\n      <td>NaN</td>\n      <td>NaN</td>\n      <td>NaN</td>\n    </tr>\n    <tr>\n      <th>2</th>\n      <td>youtube#channel</td>\n      <td>Z7aWOD_b18D5-hwxQoMqx4HfQP0</td>\n      <td>UC_faj8TvjRJj9IbQHkUyXNw</td>\n      <td>Корейская Косметика</td>\n      <td></td>\n      <td>@user-bf5in5qi7e</td>\n      <td>2019-03-02T13:34:25Z</td>\n      <td>https://yt3.ggpht.com/ytc/AL5GRJUiv0F7HNErt8Ml...</td>\n      <td>88</td>\n      <td>88</td>\n      <td>...</td>\n      <td>NaN</td>\n      <td>NaN</td>\n      <td>NaN</td>\n      <td>NaN</td>\n      <td>NaN</td>\n      <td>NaN</td>\n      <td>NaN</td>\n      <td>NaN</td>\n      <td>NaN</td>\n      <td>NaN</td>\n    </tr>\n    <tr>\n      <th>3</th>\n      <td>youtube#channel</td>\n      <td>_Um5kwe_xtezX930hwlQDyLfaKY</td>\n      <td>UCIH9WX73cmksrcE4lKzns2w</td>\n      <td>Корейская люкс косметика</td>\n      <td>• ────── 🇰🇷 ────── •\\nКорейская люкс косметика...</td>\n      <td>@user-ym2ll1io4l</td>\n      <td>2021-01-11T04:37:21.874233Z</td>\n      <td>https://yt3.ggpht.com/HE9yWbxQN3MDaXFmyJeytKHc...</td>\n      <td>88</td>\n      <td>88</td>\n      <td>...</td>\n      <td>NaN</td>\n      <td>NaN</td>\n      <td>NaN</td>\n      <td>NaN</td>\n      <td>NaN</td>\n      <td>NaN</td>\n      <td>NaN</td>\n      <td>NaN</td>\n      <td>NaN</td>\n      <td>NaN</td>\n    </tr>\n    <tr>\n      <th>4</th>\n      <td>youtube#channel</td>\n      <td>Ea2ayVIENjzeynyJpijJsdZpKjM</td>\n      <td>UCheZqVGVn9dNroNDLtvxTww</td>\n      <td>Atomy. Атоми Корейская косметика. Здоровье</td>\n      <td></td>\n      <td>@atomy..3946</td>\n      <td>2020-09-27T10:10:01.503234Z</td>\n      <td>https://yt3.ggpht.com/ytc/AL5GRJUlzJHyU9EBXaRL...</td>\n      <td>88</td>\n      <td>88</td>\n      <td>...</td>\n      <td>NaN</td>\n      <td>NaN</td>\n      <td>RU</td>\n      <td>https://yt3.googleusercontent.com/IZo3G6McI3Ez...</td>\n      <td>NaN</td>\n      <td>NaN</td>\n      <td>NaN</td>\n      <td>NaN</td>\n      <td>NaN</td>\n      <td>NaN</td>\n    </tr>\n  </tbody>\n</table>\n<p>5 rows × 40 columns</p>\n</div>"
     },
     "execution_count": 85,
     "metadata": {},
     "output_type": "execute_result"
    }
   ],
   "source": [
    "# 9 Одиночный вызов API для одного канала\n",
    "request = youtube.channels().list(\n",
    "    part=search_parts,\n",
    "    maxResults=50,\n",
    "    id=channel_ids[:50],\n",
    ")\n",
    "response = request.execute()\n",
    "\n",
    "df_supplemented = pd.json_normalize(response['items'])\n",
    "df_supplemented.head()"
   ],
   "metadata": {
    "collapsed": false
   }
  },
  {
   "cell_type": "code",
   "execution_count": 90,
   "outputs": [
    {
     "name": "stdout",
     "output_type": "stream",
     "text": [
      "Итерация 0 завершена\n",
      "Итерация 1 завершена\n",
      "Итерация 2 завершена\n",
      "Итерация 3 завершена\n",
      "Итерация 4 завершена\n",
      "Итерация 5 завершена\n",
      "Итерация 6 завершена\n",
      "Итерация 7 завершена\n",
      "Итерация 8 завершена\n",
      "Итерация 9 завершена\n",
      "Итерация 10 завершена\n",
      "Итерация 11 завершена\n",
      "Итерация 12 завершена\n",
      "Итерация 13 завершена\n",
      "Итерация 14 завершена\n",
      "Итерация 15 завершена\n",
      "Итерация 16 завершена\n",
      "Итерация 17 завершена\n",
      "Итерация 18 завершена\n",
      "Итерация 19 завершена\n",
      "Итерация 20 завершена\n",
      "Итерация 21 завершена\n",
      "Итерация 22 завершена\n",
      "Итерация 23 завершена\n",
      "Итерация 24 завершена\n",
      "Итерация 25 завершена\n",
      "Итерация 26 завершена\n",
      "Итерация 27 завершена\n",
      "Итерация 28 завершена\n",
      "Итерация 29 завершена\n",
      "Итерация 30 завершена\n",
      "Итерация 31 завершена\n",
      "Итерация 32 завершена\n",
      "Итерация 33 завершена\n",
      "Итерация 34 завершена\n",
      "Итерация 35 завершена\n"
     ]
    }
   ],
   "source": [
    "# 10 Множественный вызов по 50 элементов\n",
    "\n",
    "df_supplemented = pd.DataFrame()\n",
    "\n",
    "for i in range(0, len(data), 50):\n",
    "    # границы интервала\n",
    "    s, e = i, i+50\n",
    "    if e > len(data): e = len(data)\n",
    "\n",
    "    request = youtube.channels().list(\n",
    "    part=search_parts,\n",
    "    maxResults=50,\n",
    "    id=channel_ids[s:e],\n",
    "    )\n",
    "    response = request.execute()\n",
    "\n",
    "    df_additional = pd.json_normalize(response['items'])\n",
    "    df_supplemented = pd.concat([df_supplemented, df_additional])\n",
    "    print(f\"Итерация {i // 50} завершена\")"
   ],
   "metadata": {
    "collapsed": false
   }
  },
  {
   "cell_type": "code",
   "execution_count": 91,
   "outputs": [
    {
     "name": "stdout",
     "output_type": "stream",
     "text": [
      "<class 'pandas.core.frame.DataFrame'>\n",
      "Int64Index: 1757 entries, 0 to 16\n",
      "Data columns (total 50 columns):\n",
      " #   Column                                               Non-Null Count  Dtype \n",
      "---  ------                                               --------------  ----- \n",
      " 0   kind                                                 1757 non-null   object\n",
      " 1   etag                                                 1757 non-null   object\n",
      " 2   id                                                   1757 non-null   object\n",
      " 3   snippet.title                                        1757 non-null   object\n",
      " 4   snippet.description                                  1757 non-null   object\n",
      " 5   snippet.customUrl                                    1757 non-null   object\n",
      " 6   snippet.publishedAt                                  1757 non-null   object\n",
      " 7   snippet.thumbnails.default.url                       1757 non-null   object\n",
      " 8   snippet.thumbnails.default.width                     1757 non-null   int64 \n",
      " 9   snippet.thumbnails.default.height                    1757 non-null   int64 \n",
      " 10  snippet.thumbnails.medium.url                        1757 non-null   object\n",
      " 11  snippet.thumbnails.medium.width                      1757 non-null   int64 \n",
      " 12  snippet.thumbnails.medium.height                     1757 non-null   int64 \n",
      " 13  snippet.thumbnails.high.url                          1757 non-null   object\n",
      " 14  snippet.thumbnails.high.width                        1757 non-null   int64 \n",
      " 15  snippet.thumbnails.high.height                       1757 non-null   int64 \n",
      " 16  snippet.localized.title                              1757 non-null   object\n",
      " 17  snippet.localized.description                        1757 non-null   object\n",
      " 18  contentDetails.relatedPlaylists.likes                1757 non-null   object\n",
      " 19  contentDetails.relatedPlaylists.uploads              1757 non-null   object\n",
      " 20  statistics.viewCount                                 1757 non-null   object\n",
      " 21  statistics.subscriberCount                           1757 non-null   object\n",
      " 22  statistics.hiddenSubscriberCount                     1757 non-null   bool  \n",
      " 23  statistics.videoCount                                1757 non-null   object\n",
      " 24  topicDetails.topicIds                                1601 non-null   object\n",
      " 25  topicDetails.topicCategories                         1601 non-null   object\n",
      " 26  brandingSettings.channel.title                       1757 non-null   object\n",
      " 27  brandingSettings.channel.description                 1405 non-null   object\n",
      " 28  brandingSettings.image.bannerExternalUrl             1048 non-null   object\n",
      " 29  snippet.country                                      764 non-null    object\n",
      " 30  brandingSettings.channel.keywords                    637 non-null    object\n",
      " 31  brandingSettings.channel.country                     764 non-null    object\n",
      " 32  brandingSettings.channel.unsubscribedTrailer         429 non-null    object\n",
      " 33  snippet.defaultLanguage                              65 non-null     object\n",
      " 34  brandingSettings.channel.defaultLanguage             65 non-null     object\n",
      " 35  localizations.en_US.title                            34 non-null     object\n",
      " 36  localizations.en_US.description                      34 non-null     object\n",
      " 37  localizations.ru_RU.title                            63 non-null     object\n",
      " 38  localizations.ru_RU.description                      63 non-null     object\n",
      " 39  brandingSettings.channel.trackingAnalyticsAccountId  43 non-null     object\n",
      " 40  localizations.ko_KR.title                            2 non-null      object\n",
      " 41  localizations.ko_KR.description                      2 non-null      object\n",
      " 42  localizations.uk_UA.title                            15 non-null     object\n",
      " 43  localizations.uk_UA.description                      15 non-null     object\n",
      " 44  localizations.kk_KZ.title                            1 non-null      object\n",
      " 45  localizations.kk_KZ.description                      1 non-null      object\n",
      " 46  localizations.pt_BR.title                            7 non-null      object\n",
      " 47  localizations.pt_BR.description                      7 non-null      object\n",
      " 48  localizations.de_DE.title                            2 non-null      object\n",
      " 49  localizations.de_DE.description                      2 non-null      object\n",
      "dtypes: bool(1), int64(6), object(43)\n",
      "memory usage: 688.0+ KB\n"
     ]
    }
   ],
   "source": [
    "# 11 Просмотр параметров датафрейма\n",
    "df_supplemented.info()"
   ],
   "metadata": {
    "collapsed": false
   }
  },
  {
   "cell_type": "code",
   "execution_count": 93,
   "outputs": [
    {
     "name": "stdout",
     "output_type": "stream",
     "text": [
      "Не досчитались: 10 каналов\n"
     ]
    }
   ],
   "source": [
    "# 12 Валидация количества каналов\n",
    "\n",
    "if len(data) == len(df_supplemented): print('Всё ок')\n",
    "else: print(\"Не досчитались:\", abs(len(data) - len(df_supplemented)), \"каналов\")"
   ],
   "metadata": {
    "collapsed": false
   }
  },
  {
   "cell_type": "code",
   "execution_count": 107,
   "outputs": [],
   "source": [
    "# 13 Просмотр статистики по каналам\n",
    "\n",
    "list_of_col = [x for x in df_supplemented.columns if x.startswith('stat')]\n",
    "\n",
    "for col in list_of_col:\n",
    "    df_supplemented[col] = pd.to_numeric(df_supplemented[col],downcast=\"integer\")"
   ],
   "metadata": {
    "collapsed": false
   }
  },
  {
   "cell_type": "code",
   "execution_count": 113,
   "outputs": [
    {
     "name": "stdout",
     "output_type": "stream",
     "text": [
      "Параметр statistics.viewCount\n",
      "Average - 3108456.5702902675\n",
      "Minimal - 0,\n",
      "Maximum - 447355047\n",
      "Median - 2840.0\n",
      "===============\n",
      "Параметр statistics.subscriberCount\n",
      "Average - 21112.29766647695\n",
      "Minimal - 0,\n",
      "Maximum - 3030000\n",
      "Median - 29.0\n",
      "===============\n",
      "Параметр statistics.hiddenSubscriberCount\n",
      "Average - 0.0\n",
      "Minimal - False,\n",
      "Maximum - False\n",
      "Median - 0.0\n",
      "===============\n",
      "Параметр statistics.videoCount\n",
      "Average - 48.64484917472965\n",
      "Minimal - 0,\n",
      "Maximum - 953\n",
      "Median - 13.0\n",
      "===============\n"
     ]
    }
   ],
   "source": [
    "for col in list_of_col:\n",
    "    print(f\"Параметр {col}\")\n",
    "    print(f\"Average - {df_supplemented[col].mean()}\\n\"\n",
    "          f\"Minimal - {df_supplemented[col].min()},\\n\"\n",
    "          f\"Maximum - {df_supplemented[col].max()}\\n\"\n",
    "          f\"Median - {df_supplemented[col].median()}\")\n",
    "    print(\"=\"*15)"
   ],
   "metadata": {
    "collapsed": false
   }
  },
  {
   "cell_type": "code",
   "execution_count": 114,
   "outputs": [],
   "source": [
    "# 13 сохранение файлов в специальной директории\n",
    "import os\n",
    "\n",
    "if not os.path.exists(DATA_PATH):\n",
    "    os.makedirs(DATA_PATH)\n",
    "\n",
    "df_supplemented.to_excel(DATA_PATH / f'{type_query.capitalize()}_characteristics.xlsx', index=False)"
   ],
   "metadata": {
    "collapsed": false
   }
  },
  {
   "cell_type": "code",
   "execution_count": null,
   "outputs": [],
   "source": [],
   "metadata": {
    "collapsed": false
   }
  }
 ],
 "metadata": {
  "kernelspec": {
   "display_name": "Python 3",
   "language": "python",
   "name": "python3"
  },
  "language_info": {
   "codemirror_mode": {
    "name": "ipython",
    "version": 2
   },
   "file_extension": ".py",
   "mimetype": "text/x-python",
   "name": "python",
   "nbconvert_exporter": "python",
   "pygments_lexer": "ipython2",
   "version": "2.7.6"
  }
 },
 "nbformat": 4,
 "nbformat_minor": 0
}
