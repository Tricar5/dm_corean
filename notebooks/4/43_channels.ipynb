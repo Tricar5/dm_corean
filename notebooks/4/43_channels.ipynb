{
 "cells": [
  {
   "cell_type": "markdown",
   "source": [
    "# Семинар 4\n",
    "## Сбор характеристик каналов"
   ],
   "metadata": {
    "collapsed": false
   }
  },
  {
   "cell_type": "code",
   "execution_count": 1,
   "outputs": [],
   "source": [
    "import pathlib\n",
    "import yaml\n",
    "\n",
    "ROOT = pathlib.Path().resolve().parent.parent\n",
    "\n",
    "with open(ROOT / \"config.yml\", \"r\") as f:\n",
    "    config = yaml.safe_load(f)"
   ],
   "metadata": {
    "collapsed": false
   }
  },
  {
   "cell_type": "code",
   "execution_count": 2,
   "outputs": [],
   "source": [
    "# 3\n",
    "DATA_PATH = ROOT / config['api']['DATA_PATH'] / 'seminar4'\n",
    "\n",
    "query = \"корейская косметика\"\n",
    "type_query = \"channel\"\n",
    "\n",
    "# Для поиска видео с учетом даты:\n",
    "publishedAfter = '2020-01-01T00:00:00Z'\n",
    "publishedBefore = '2022-01-01T00:00:00Z'"
   ],
   "metadata": {
    "collapsed": false
   }
  },
  {
   "cell_type": "code",
   "execution_count": 3,
   "outputs": [],
   "source": [
    "# 3.1\n",
    "class KeyStorage:\n",
    "    \"\"\"\n",
    "    Class to use in iteration\n",
    "    \"\"\"\n",
    "\n",
    "    def __init__(self, key_arr: list[str]):\n",
    "        self.key_gen = iter(key_arr)\n",
    "\n",
    "    def get_next_key(self):\n",
    "        \"\"\"\n",
    "        Returns API key to use\n",
    "        :return:\n",
    "        \"\"\"\n",
    "        return next(self.key_gen)\n",
    "\n",
    "\n",
    "key_storage = KeyStorage(config['api']['keys'])"
   ],
   "metadata": {
    "collapsed": false
   }
  },
  {
   "cell_type": "code",
   "execution_count": 4,
   "outputs": [],
   "source": [
    "# 3.2 Просмотр API ключа\n",
    "API_KEY = key_storage.get_next_key()"
   ],
   "metadata": {
    "collapsed": false
   }
  },
  {
   "cell_type": "code",
   "execution_count": 5,
   "outputs": [],
   "source": [
    "#4\n",
    "import googleapiclient.discovery as api"
   ],
   "metadata": {
    "collapsed": false
   }
  },
  {
   "cell_type": "code",
   "execution_count": 6,
   "outputs": [],
   "source": [
    "#5\n",
    "api_service_name = \"youtube\"\n",
    "api_version = \"v3\"\n",
    "\n",
    "youtube = api.build(api_service_name,\n",
    "                    api_version,\n",
    "                    developerKey=API_KEY)"
   ],
   "metadata": {
    "collapsed": false
   }
  },
  {
   "cell_type": "code",
   "execution_count": 7,
   "outputs": [],
   "source": [
    "# Открываем свой датафрейм"
   ],
   "metadata": {
    "collapsed": false
   }
  },
  {
   "cell_type": "code",
   "execution_count": 10,
   "outputs": [
    {
     "data": {
      "text/plain": "                      kind                         etag          id.kind  \\\n0     youtube#searchResult  3DyCGRAji4vs67_K6Xodsfy_yRc  youtube#channel   \n1     youtube#searchResult  KD4wB0kFCleorLAZUqunFeeNnGU  youtube#channel   \n2     youtube#searchResult  rYW08nw-AIqP6rHhabVqo3r4GOo  youtube#channel   \n3     youtube#searchResult  hq-V8AVxdQs4HTDfyp9T7YaCWak  youtube#channel   \n4     youtube#searchResult  26Gb5w9PCwul3ZBjH3XPbWR_beY  youtube#channel   \n...                    ...                          ...              ...   \n1761  youtube#searchResult  aldAac2HHrPQ8b1u4Kyp133JIDo  youtube#channel   \n1762  youtube#searchResult  sIg77XyDexcJihEFPmK-S8hiuvk  youtube#channel   \n1763  youtube#searchResult  xGpkdtgjF5I8J-ab87pxbxyxPFM  youtube#channel   \n1764  youtube#searchResult  A6okpBDOCwV95b9mDom26YEVyJA  youtube#channel   \n1765  youtube#searchResult  Ds-Di91-QHKeMG2JPk6yvnKs26U  youtube#channel   \n\n                  id.channelId   snippet.publishedAt  \\\n0     UClTe1W6iuivE5R1XBacrENg                  2022   \n1     UCyBkYEimyewSS9Tf_XasxqA                  2019   \n2     UCPmSyu4_Xxw2d8uOThJ5tCQ                  2015   \n3     UCIH9WX73cmksrcE4lKzns2w                  2021   \n4     UCFmgLIGI4CTB_g7LEw_VXfg                  2018   \n...                        ...                   ...   \n1761  UCpnNG2U8xdKSUCho_-ryllg  2022-11-07T06:53:13Z   \n1762  UCQUpEMcFLJ3zvLwwsshhYJQ  2022-12-03T10:36:20Z   \n1763  UCO8khDkI4kBIiJd1dTWYpZw  2022-12-04T15:12:31Z   \n1764  UC5T_VQrxIsEQ2b8FYtn6bzQ  2022-01-31T16:54:02Z   \n1765  UC8KXeGGXSjCy0xxXw-pi4xw  2022-11-08T12:24:27Z   \n\n             snippet.channelId  \\\n0     UClTe1W6iuivE5R1XBacrENg   \n1     UCyBkYEimyewSS9Tf_XasxqA   \n2     UCPmSyu4_Xxw2d8uOThJ5tCQ   \n3     UCIH9WX73cmksrcE4lKzns2w   \n4     UCFmgLIGI4CTB_g7LEw_VXfg   \n...                        ...   \n1761  UCpnNG2U8xdKSUCho_-ryllg   \n1762  UCQUpEMcFLJ3zvLwwsshhYJQ   \n1763  UCO8khDkI4kBIiJd1dTWYpZw   \n1764  UC5T_VQrxIsEQ2b8FYtn6bzQ   \n1765  UC8KXeGGXSjCy0xxXw-pi4xw   \n\n                                          snippet.title  \\\n0                                   Корейская косметика   \n1                       Chok - Chok Корейская косметика   \n2                                   Корейская косметика   \n3                              Корейская люкс косметика   \n4                                   Корейская Косметика   \n...                                                 ...   \n1761                                  Cosmetician Nadya   \n1762  Магазин корейского постельного белья Koreanbed...   \n1763                                      LUX_COSMETICS   \n1764                                      Ольга Величко   \n1765                                 Екатерина Гусакова   \n\n                                    snippet.description  \\\n0     Корейская косметика на прямую от производителя...   \n1                                                    1.   \n2                                                   NaN   \n3     Корейская люкс косметика Здоровая кожа - залог...   \n4                                                   NaN   \n...                                                 ...   \n1761  Здравствуйте, дорогие гости и подписчики моего...   \n1762  Москва, ул.Гарибальди 23, ТЦ Панорама, 2 этаж,...   \n1763  Наш интернет-магазин в Inst @lux_cosmetics.ru ...   \n1764  Приходите на мой инстограм там много интересно...   \n1765                                                NaN   \n\n                         snippet.thumbnails.default.url  \\\n0     https://yt3.ggpht.com/tnzcStGWX_50UZA6gPqMmGJJ...   \n1     https://yt3.ggpht.com/ytc/AL5GRJXSaaDeBjL92F2Y...   \n2     https://yt3.ggpht.com/ytc/AL5GRJX9KQ-jcjyvtAC8...   \n3     https://yt3.ggpht.com/HE9yWbxQN3MDaXFmyJeytKHc...   \n4     https://yt3.ggpht.com/ytc/AL5GRJX5-fC0j0POMv5F...   \n...                                                 ...   \n1761  https://yt3.ggpht.com/jfK0MWdu5xy-736Sw54NYKUp...   \n1762  https://yt3.ggpht.com/pF1zQXSb-H7hDlUgVtx1OAsI...   \n1763  https://yt3.ggpht.com/XpEHisdTGsFNBi4pnHKftmR2...   \n1764  https://yt3.ggpht.com/5DJKBoE3lxS0rmZfses3aNEh...   \n1765  https://yt3.ggpht.com/ytc/AL5GRJVlfpR9ZWD8Cz1I...   \n\n                          snippet.thumbnails.medium.url  \\\n0     https://yt3.ggpht.com/tnzcStGWX_50UZA6gPqMmGJJ...   \n1     https://yt3.ggpht.com/ytc/AL5GRJXSaaDeBjL92F2Y...   \n2     https://yt3.ggpht.com/ytc/AL5GRJX9KQ-jcjyvtAC8...   \n3     https://yt3.ggpht.com/HE9yWbxQN3MDaXFmyJeytKHc...   \n4     https://yt3.ggpht.com/ytc/AL5GRJX5-fC0j0POMv5F...   \n...                                                 ...   \n1761  https://yt3.ggpht.com/jfK0MWdu5xy-736Sw54NYKUp...   \n1762  https://yt3.ggpht.com/pF1zQXSb-H7hDlUgVtx1OAsI...   \n1763  https://yt3.ggpht.com/XpEHisdTGsFNBi4pnHKftmR2...   \n1764  https://yt3.ggpht.com/5DJKBoE3lxS0rmZfses3aNEh...   \n1765  https://yt3.ggpht.com/ytc/AL5GRJVlfpR9ZWD8Cz1I...   \n\n                            snippet.thumbnails.high.url  \\\n0     https://yt3.ggpht.com/tnzcStGWX_50UZA6gPqMmGJJ...   \n1     https://yt3.ggpht.com/ytc/AL5GRJXSaaDeBjL92F2Y...   \n2     https://yt3.ggpht.com/ytc/AL5GRJX9KQ-jcjyvtAC8...   \n3     https://yt3.ggpht.com/HE9yWbxQN3MDaXFmyJeytKHc...   \n4     https://yt3.ggpht.com/ytc/AL5GRJX5-fC0j0POMv5F...   \n...                                                 ...   \n1761  https://yt3.ggpht.com/jfK0MWdu5xy-736Sw54NYKUp...   \n1762  https://yt3.ggpht.com/pF1zQXSb-H7hDlUgVtx1OAsI...   \n1763  https://yt3.ggpht.com/XpEHisdTGsFNBi4pnHKftmR2...   \n1764  https://yt3.ggpht.com/5DJKBoE3lxS0rmZfses3aNEh...   \n1765  https://yt3.ggpht.com/ytc/AL5GRJVlfpR9ZWD8Cz1I...   \n\n                                   snippet.channelTitle  \\\n0                                   Корейская косметика   \n1                       Chok - Chok Корейская косметика   \n2                                   Корейская косметика   \n3                              Корейская люкс косметика   \n4                                   Корейская Косметика   \n...                                                 ...   \n1761                                  Cosmetician Nadya   \n1762  Магазин корейского постельного белья Koreanbed...   \n1763                                      LUX_COSMETICS   \n1764                                      Ольга Величко   \n1765                                 Екатерина Гусакова   \n\n     snippet.liveBroadcastContent   snippet.publishTime  \n0                            none  2022-10-20T13:03:39Z  \n1                            none  2019-09-26T16:51:01Z  \n2                            none  2015-04-01T11:37:55Z  \n3                            none  2021-01-11T04:37:21Z  \n4                            none  2018-05-16T08:08:08Z  \n...                           ...                   ...  \n1761                         none  2022-11-07T06:53:13Z  \n1762                         none  2022-12-03T10:36:20Z  \n1763                         none  2022-12-04T15:12:31Z  \n1764                         none  2022-01-31T16:54:02Z  \n1765                         none  2022-11-08T12:24:27Z  \n\n[1766 rows x 14 columns]",
      "text/html": "<div>\n<style scoped>\n    .dataframe tbody tr th:only-of-type {\n        vertical-align: middle;\n    }\n\n    .dataframe tbody tr th {\n        vertical-align: top;\n    }\n\n    .dataframe thead th {\n        text-align: right;\n    }\n</style>\n<table border=\"1\" class=\"dataframe\">\n  <thead>\n    <tr style=\"text-align: right;\">\n      <th></th>\n      <th>kind</th>\n      <th>etag</th>\n      <th>id.kind</th>\n      <th>id.channelId</th>\n      <th>snippet.publishedAt</th>\n      <th>snippet.channelId</th>\n      <th>snippet.title</th>\n      <th>snippet.description</th>\n      <th>snippet.thumbnails.default.url</th>\n      <th>snippet.thumbnails.medium.url</th>\n      <th>snippet.thumbnails.high.url</th>\n      <th>snippet.channelTitle</th>\n      <th>snippet.liveBroadcastContent</th>\n      <th>snippet.publishTime</th>\n    </tr>\n  </thead>\n  <tbody>\n    <tr>\n      <th>0</th>\n      <td>youtube#searchResult</td>\n      <td>3DyCGRAji4vs67_K6Xodsfy_yRc</td>\n      <td>youtube#channel</td>\n      <td>UClTe1W6iuivE5R1XBacrENg</td>\n      <td>2022</td>\n      <td>UClTe1W6iuivE5R1XBacrENg</td>\n      <td>Корейская косметика</td>\n      <td>Корейская косметика на прямую от производителя...</td>\n      <td>https://yt3.ggpht.com/tnzcStGWX_50UZA6gPqMmGJJ...</td>\n      <td>https://yt3.ggpht.com/tnzcStGWX_50UZA6gPqMmGJJ...</td>\n      <td>https://yt3.ggpht.com/tnzcStGWX_50UZA6gPqMmGJJ...</td>\n      <td>Корейская косметика</td>\n      <td>none</td>\n      <td>2022-10-20T13:03:39Z</td>\n    </tr>\n    <tr>\n      <th>1</th>\n      <td>youtube#searchResult</td>\n      <td>KD4wB0kFCleorLAZUqunFeeNnGU</td>\n      <td>youtube#channel</td>\n      <td>UCyBkYEimyewSS9Tf_XasxqA</td>\n      <td>2019</td>\n      <td>UCyBkYEimyewSS9Tf_XasxqA</td>\n      <td>Chok - Chok Корейская косметика</td>\n      <td>1.</td>\n      <td>https://yt3.ggpht.com/ytc/AL5GRJXSaaDeBjL92F2Y...</td>\n      <td>https://yt3.ggpht.com/ytc/AL5GRJXSaaDeBjL92F2Y...</td>\n      <td>https://yt3.ggpht.com/ytc/AL5GRJXSaaDeBjL92F2Y...</td>\n      <td>Chok - Chok Корейская косметика</td>\n      <td>none</td>\n      <td>2019-09-26T16:51:01Z</td>\n    </tr>\n    <tr>\n      <th>2</th>\n      <td>youtube#searchResult</td>\n      <td>rYW08nw-AIqP6rHhabVqo3r4GOo</td>\n      <td>youtube#channel</td>\n      <td>UCPmSyu4_Xxw2d8uOThJ5tCQ</td>\n      <td>2015</td>\n      <td>UCPmSyu4_Xxw2d8uOThJ5tCQ</td>\n      <td>Корейская косметика</td>\n      <td>NaN</td>\n      <td>https://yt3.ggpht.com/ytc/AL5GRJX9KQ-jcjyvtAC8...</td>\n      <td>https://yt3.ggpht.com/ytc/AL5GRJX9KQ-jcjyvtAC8...</td>\n      <td>https://yt3.ggpht.com/ytc/AL5GRJX9KQ-jcjyvtAC8...</td>\n      <td>Корейская косметика</td>\n      <td>none</td>\n      <td>2015-04-01T11:37:55Z</td>\n    </tr>\n    <tr>\n      <th>3</th>\n      <td>youtube#searchResult</td>\n      <td>hq-V8AVxdQs4HTDfyp9T7YaCWak</td>\n      <td>youtube#channel</td>\n      <td>UCIH9WX73cmksrcE4lKzns2w</td>\n      <td>2021</td>\n      <td>UCIH9WX73cmksrcE4lKzns2w</td>\n      <td>Корейская люкс косметика</td>\n      <td>Корейская люкс косметика Здоровая кожа - залог...</td>\n      <td>https://yt3.ggpht.com/HE9yWbxQN3MDaXFmyJeytKHc...</td>\n      <td>https://yt3.ggpht.com/HE9yWbxQN3MDaXFmyJeytKHc...</td>\n      <td>https://yt3.ggpht.com/HE9yWbxQN3MDaXFmyJeytKHc...</td>\n      <td>Корейская люкс косметика</td>\n      <td>none</td>\n      <td>2021-01-11T04:37:21Z</td>\n    </tr>\n    <tr>\n      <th>4</th>\n      <td>youtube#searchResult</td>\n      <td>26Gb5w9PCwul3ZBjH3XPbWR_beY</td>\n      <td>youtube#channel</td>\n      <td>UCFmgLIGI4CTB_g7LEw_VXfg</td>\n      <td>2018</td>\n      <td>UCFmgLIGI4CTB_g7LEw_VXfg</td>\n      <td>Корейская Косметика</td>\n      <td>NaN</td>\n      <td>https://yt3.ggpht.com/ytc/AL5GRJX5-fC0j0POMv5F...</td>\n      <td>https://yt3.ggpht.com/ytc/AL5GRJX5-fC0j0POMv5F...</td>\n      <td>https://yt3.ggpht.com/ytc/AL5GRJX5-fC0j0POMv5F...</td>\n      <td>Корейская Косметика</td>\n      <td>none</td>\n      <td>2018-05-16T08:08:08Z</td>\n    </tr>\n    <tr>\n      <th>...</th>\n      <td>...</td>\n      <td>...</td>\n      <td>...</td>\n      <td>...</td>\n      <td>...</td>\n      <td>...</td>\n      <td>...</td>\n      <td>...</td>\n      <td>...</td>\n      <td>...</td>\n      <td>...</td>\n      <td>...</td>\n      <td>...</td>\n      <td>...</td>\n    </tr>\n    <tr>\n      <th>1761</th>\n      <td>youtube#searchResult</td>\n      <td>aldAac2HHrPQ8b1u4Kyp133JIDo</td>\n      <td>youtube#channel</td>\n      <td>UCpnNG2U8xdKSUCho_-ryllg</td>\n      <td>2022-11-07T06:53:13Z</td>\n      <td>UCpnNG2U8xdKSUCho_-ryllg</td>\n      <td>Cosmetician Nadya</td>\n      <td>Здравствуйте, дорогие гости и подписчики моего...</td>\n      <td>https://yt3.ggpht.com/jfK0MWdu5xy-736Sw54NYKUp...</td>\n      <td>https://yt3.ggpht.com/jfK0MWdu5xy-736Sw54NYKUp...</td>\n      <td>https://yt3.ggpht.com/jfK0MWdu5xy-736Sw54NYKUp...</td>\n      <td>Cosmetician Nadya</td>\n      <td>none</td>\n      <td>2022-11-07T06:53:13Z</td>\n    </tr>\n    <tr>\n      <th>1762</th>\n      <td>youtube#searchResult</td>\n      <td>sIg77XyDexcJihEFPmK-S8hiuvk</td>\n      <td>youtube#channel</td>\n      <td>UCQUpEMcFLJ3zvLwwsshhYJQ</td>\n      <td>2022-12-03T10:36:20Z</td>\n      <td>UCQUpEMcFLJ3zvLwwsshhYJQ</td>\n      <td>Магазин корейского постельного белья Koreanbed...</td>\n      <td>Москва, ул.Гарибальди 23, ТЦ Панорама, 2 этаж,...</td>\n      <td>https://yt3.ggpht.com/pF1zQXSb-H7hDlUgVtx1OAsI...</td>\n      <td>https://yt3.ggpht.com/pF1zQXSb-H7hDlUgVtx1OAsI...</td>\n      <td>https://yt3.ggpht.com/pF1zQXSb-H7hDlUgVtx1OAsI...</td>\n      <td>Магазин корейского постельного белья Koreanbed...</td>\n      <td>none</td>\n      <td>2022-12-03T10:36:20Z</td>\n    </tr>\n    <tr>\n      <th>1763</th>\n      <td>youtube#searchResult</td>\n      <td>xGpkdtgjF5I8J-ab87pxbxyxPFM</td>\n      <td>youtube#channel</td>\n      <td>UCO8khDkI4kBIiJd1dTWYpZw</td>\n      <td>2022-12-04T15:12:31Z</td>\n      <td>UCO8khDkI4kBIiJd1dTWYpZw</td>\n      <td>LUX_COSMETICS</td>\n      <td>Наш интернет-магазин в Inst @lux_cosmetics.ru ...</td>\n      <td>https://yt3.ggpht.com/XpEHisdTGsFNBi4pnHKftmR2...</td>\n      <td>https://yt3.ggpht.com/XpEHisdTGsFNBi4pnHKftmR2...</td>\n      <td>https://yt3.ggpht.com/XpEHisdTGsFNBi4pnHKftmR2...</td>\n      <td>LUX_COSMETICS</td>\n      <td>none</td>\n      <td>2022-12-04T15:12:31Z</td>\n    </tr>\n    <tr>\n      <th>1764</th>\n      <td>youtube#searchResult</td>\n      <td>A6okpBDOCwV95b9mDom26YEVyJA</td>\n      <td>youtube#channel</td>\n      <td>UC5T_VQrxIsEQ2b8FYtn6bzQ</td>\n      <td>2022-01-31T16:54:02Z</td>\n      <td>UC5T_VQrxIsEQ2b8FYtn6bzQ</td>\n      <td>Ольга Величко</td>\n      <td>Приходите на мой инстограм там много интересно...</td>\n      <td>https://yt3.ggpht.com/5DJKBoE3lxS0rmZfses3aNEh...</td>\n      <td>https://yt3.ggpht.com/5DJKBoE3lxS0rmZfses3aNEh...</td>\n      <td>https://yt3.ggpht.com/5DJKBoE3lxS0rmZfses3aNEh...</td>\n      <td>Ольга Величко</td>\n      <td>none</td>\n      <td>2022-01-31T16:54:02Z</td>\n    </tr>\n    <tr>\n      <th>1765</th>\n      <td>youtube#searchResult</td>\n      <td>Ds-Di91-QHKeMG2JPk6yvnKs26U</td>\n      <td>youtube#channel</td>\n      <td>UC8KXeGGXSjCy0xxXw-pi4xw</td>\n      <td>2022-11-08T12:24:27Z</td>\n      <td>UC8KXeGGXSjCy0xxXw-pi4xw</td>\n      <td>Екатерина Гусакова</td>\n      <td>NaN</td>\n      <td>https://yt3.ggpht.com/ytc/AL5GRJVlfpR9ZWD8Cz1I...</td>\n      <td>https://yt3.ggpht.com/ytc/AL5GRJVlfpR9ZWD8Cz1I...</td>\n      <td>https://yt3.ggpht.com/ytc/AL5GRJVlfpR9ZWD8Cz1I...</td>\n      <td>Екатерина Гусакова</td>\n      <td>none</td>\n      <td>2022-11-08T12:24:27Z</td>\n    </tr>\n  </tbody>\n</table>\n<p>1766 rows × 14 columns</p>\n</div>"
     },
     "execution_count": 10,
     "metadata": {},
     "output_type": "execute_result"
    }
   ],
   "source": [
    "# 7\n",
    "import pandas as pd\n",
    "\n",
    "data = pd.read_excel(DATA_PATH / 'Channel_Not_sorted+Sorted+Date.xlsx')\n",
    "data"
   ],
   "metadata": {
    "collapsed": false
   }
  },
  {
   "cell_type": "code",
   "execution_count": 11,
   "outputs": [],
   "source": [
    "# 8\n",
    "\n",
    "search_parts = [\n",
    "    \"brandingSettings\",\n",
    "    \"contentDetails\",\n",
    "    \"contentOwnerDetails\",\n",
    "    \"localizations\",\n",
    "    \"snippet\",\n",
    "    \"statistics\",\n",
    "    \"topicDetails\",\n",
    "]\n",
    "\n",
    "# список каналов\n",
    "channel_ids = list(data['id.channelId'])"
   ],
   "metadata": {
    "collapsed": false
   }
  },
  {
   "cell_type": "code",
   "execution_count": 12,
   "outputs": [
    {
     "data": {
      "text/plain": "              kind                         etag                        id  \\\n0  youtube#channel  fGl8nZLlVDzq1i_uC_7ujY9Aqqc  UCGlTQCQauXBoDLMc8tsd78w   \n1  youtube#channel  GhJ-PUaunfBen3ZnHq0TfVUeBFA  UCFmgLIGI4CTB_g7LEw_VXfg   \n2  youtube#channel  hUKSqmqJhF5REkH0BtEAy-UKNl8  UC23ZS2SYyzQvVyDRmu7AgHQ   \n3  youtube#channel  RsEutqIflqUuXPV9qNXgsxMz5s4  UCc8uavWnpknp67zNA9CmjvA   \n4  youtube#channel  MaVp3tQcltdZpHFpUZoiUGn31y4  UCtd0aXp8CqB19q-EMY2HBNQ   \n\n                           snippet.title  \\\n0       Olesia Корейская косметика Atomy   \n1                    Корейская Косметика   \n2  Корейская косметика_Pon Pon cosmetics   \n3                 Корейская Косметика АМ   \n4              Корейская косметика оптом   \n\n                                 snippet.description   snippet.customUrl  \\\n0  Я - Олеся - ценитель продукции высокого качест...       @olesia_atomy   \n1                                                       @user-nf2ed2xg9k   \n2  Корейская косметика в Новокузнецке. Доставка п...  @pon_pon_cosmetics   \n3  Всем привете 👋\\nМеня зовут Ани 🥰\\nЛюблю тестир...    @user-ld2iy9hr4s   \n4                                                       @user-ix5lf8vz8m   \n\n           snippet.publishedAt  \\\n0  2019-12-15T06:20:17.852033Z   \n1         2018-05-16T08:08:08Z   \n2         2013-06-10T08:00:32Z   \n3  2021-10-19T18:52:31.962001Z   \n4  2021-05-07T14:57:56.697732Z   \n\n                      snippet.thumbnails.default.url  \\\n0  https://yt3.ggpht.com/MxltVIlQq7i9emLzY6otvvnE...   \n1  https://yt3.ggpht.com/ytc/AL5GRJX5-fC0j0POMv5F...   \n2  https://yt3.ggpht.com/1IhdxRVc0GwUdPIxqdS4KUhB...   \n3  https://yt3.ggpht.com/_5w1uQnh7TC4X3lGWf7vxF7c...   \n4  https://yt3.ggpht.com/pGCga2t5u_RdOFDKGiq3-0mg...   \n\n   snippet.thumbnails.default.width  snippet.thumbnails.default.height  ...  \\\n0                                88                                 88  ...   \n1                                88                                 88  ...   \n2                                88                                 88  ...   \n3                                88                                 88  ...   \n4                                88                                 88  ...   \n\n  snippet.defaultLanguage  brandingSettings.channel.defaultLanguage  \\\n0                     NaN                                       NaN   \n1                     NaN                                       NaN   \n2                     NaN                                       NaN   \n3                     NaN                                       NaN   \n4                     NaN                                       NaN   \n\n   localizations.ru_RU.title localizations.ru_RU.description  \\\n0                        NaN                             NaN   \n1                        NaN                             NaN   \n2                        NaN                             NaN   \n3                        NaN                             NaN   \n4                        NaN                             NaN   \n\n   localizations.en_US.title  localizations.en_US.description snippet.country  \\\n0                        NaN                              NaN             NaN   \n1                        NaN                              NaN             NaN   \n2                        NaN                              NaN             NaN   \n3                        NaN                              NaN             NaN   \n4                        NaN                              NaN             NaN   \n\n  brandingSettings.channel.keywords brandingSettings.channel.country  \\\n0                               NaN                              NaN   \n1                               NaN                              NaN   \n2                               NaN                              NaN   \n3                               NaN                              NaN   \n4                               NaN                              NaN   \n\n  brandingSettings.channel.trackingAnalyticsAccountId  \n0                                                NaN   \n1                                                NaN   \n2                                                NaN   \n3                                                NaN   \n4                                                NaN   \n\n[5 rows x 40 columns]",
      "text/html": "<div>\n<style scoped>\n    .dataframe tbody tr th:only-of-type {\n        vertical-align: middle;\n    }\n\n    .dataframe tbody tr th {\n        vertical-align: top;\n    }\n\n    .dataframe thead th {\n        text-align: right;\n    }\n</style>\n<table border=\"1\" class=\"dataframe\">\n  <thead>\n    <tr style=\"text-align: right;\">\n      <th></th>\n      <th>kind</th>\n      <th>etag</th>\n      <th>id</th>\n      <th>snippet.title</th>\n      <th>snippet.description</th>\n      <th>snippet.customUrl</th>\n      <th>snippet.publishedAt</th>\n      <th>snippet.thumbnails.default.url</th>\n      <th>snippet.thumbnails.default.width</th>\n      <th>snippet.thumbnails.default.height</th>\n      <th>...</th>\n      <th>snippet.defaultLanguage</th>\n      <th>brandingSettings.channel.defaultLanguage</th>\n      <th>localizations.ru_RU.title</th>\n      <th>localizations.ru_RU.description</th>\n      <th>localizations.en_US.title</th>\n      <th>localizations.en_US.description</th>\n      <th>snippet.country</th>\n      <th>brandingSettings.channel.keywords</th>\n      <th>brandingSettings.channel.country</th>\n      <th>brandingSettings.channel.trackingAnalyticsAccountId</th>\n    </tr>\n  </thead>\n  <tbody>\n    <tr>\n      <th>0</th>\n      <td>youtube#channel</td>\n      <td>fGl8nZLlVDzq1i_uC_7ujY9Aqqc</td>\n      <td>UCGlTQCQauXBoDLMc8tsd78w</td>\n      <td>Olesia Корейская косметика Atomy</td>\n      <td>Я - Олеся - ценитель продукции высокого качест...</td>\n      <td>@olesia_atomy</td>\n      <td>2019-12-15T06:20:17.852033Z</td>\n      <td>https://yt3.ggpht.com/MxltVIlQq7i9emLzY6otvvnE...</td>\n      <td>88</td>\n      <td>88</td>\n      <td>...</td>\n      <td>NaN</td>\n      <td>NaN</td>\n      <td>NaN</td>\n      <td>NaN</td>\n      <td>NaN</td>\n      <td>NaN</td>\n      <td>NaN</td>\n      <td>NaN</td>\n      <td>NaN</td>\n      <td>NaN</td>\n    </tr>\n    <tr>\n      <th>1</th>\n      <td>youtube#channel</td>\n      <td>GhJ-PUaunfBen3ZnHq0TfVUeBFA</td>\n      <td>UCFmgLIGI4CTB_g7LEw_VXfg</td>\n      <td>Корейская Косметика</td>\n      <td></td>\n      <td>@user-nf2ed2xg9k</td>\n      <td>2018-05-16T08:08:08Z</td>\n      <td>https://yt3.ggpht.com/ytc/AL5GRJX5-fC0j0POMv5F...</td>\n      <td>88</td>\n      <td>88</td>\n      <td>...</td>\n      <td>NaN</td>\n      <td>NaN</td>\n      <td>NaN</td>\n      <td>NaN</td>\n      <td>NaN</td>\n      <td>NaN</td>\n      <td>NaN</td>\n      <td>NaN</td>\n      <td>NaN</td>\n      <td>NaN</td>\n    </tr>\n    <tr>\n      <th>2</th>\n      <td>youtube#channel</td>\n      <td>hUKSqmqJhF5REkH0BtEAy-UKNl8</td>\n      <td>UC23ZS2SYyzQvVyDRmu7AgHQ</td>\n      <td>Корейская косметика_Pon Pon cosmetics</td>\n      <td>Корейская косметика в Новокузнецке. Доставка п...</td>\n      <td>@pon_pon_cosmetics</td>\n      <td>2013-06-10T08:00:32Z</td>\n      <td>https://yt3.ggpht.com/1IhdxRVc0GwUdPIxqdS4KUhB...</td>\n      <td>88</td>\n      <td>88</td>\n      <td>...</td>\n      <td>NaN</td>\n      <td>NaN</td>\n      <td>NaN</td>\n      <td>NaN</td>\n      <td>NaN</td>\n      <td>NaN</td>\n      <td>NaN</td>\n      <td>NaN</td>\n      <td>NaN</td>\n      <td>NaN</td>\n    </tr>\n    <tr>\n      <th>3</th>\n      <td>youtube#channel</td>\n      <td>RsEutqIflqUuXPV9qNXgsxMz5s4</td>\n      <td>UCc8uavWnpknp67zNA9CmjvA</td>\n      <td>Корейская Косметика АМ</td>\n      <td>Всем привете 👋\\nМеня зовут Ани 🥰\\nЛюблю тестир...</td>\n      <td>@user-ld2iy9hr4s</td>\n      <td>2021-10-19T18:52:31.962001Z</td>\n      <td>https://yt3.ggpht.com/_5w1uQnh7TC4X3lGWf7vxF7c...</td>\n      <td>88</td>\n      <td>88</td>\n      <td>...</td>\n      <td>NaN</td>\n      <td>NaN</td>\n      <td>NaN</td>\n      <td>NaN</td>\n      <td>NaN</td>\n      <td>NaN</td>\n      <td>NaN</td>\n      <td>NaN</td>\n      <td>NaN</td>\n      <td>NaN</td>\n    </tr>\n    <tr>\n      <th>4</th>\n      <td>youtube#channel</td>\n      <td>MaVp3tQcltdZpHFpUZoiUGn31y4</td>\n      <td>UCtd0aXp8CqB19q-EMY2HBNQ</td>\n      <td>Корейская косметика оптом</td>\n      <td></td>\n      <td>@user-ix5lf8vz8m</td>\n      <td>2021-05-07T14:57:56.697732Z</td>\n      <td>https://yt3.ggpht.com/pGCga2t5u_RdOFDKGiq3-0mg...</td>\n      <td>88</td>\n      <td>88</td>\n      <td>...</td>\n      <td>NaN</td>\n      <td>NaN</td>\n      <td>NaN</td>\n      <td>NaN</td>\n      <td>NaN</td>\n      <td>NaN</td>\n      <td>NaN</td>\n      <td>NaN</td>\n      <td>NaN</td>\n      <td>NaN</td>\n    </tr>\n  </tbody>\n</table>\n<p>5 rows × 40 columns</p>\n</div>"
     },
     "execution_count": 12,
     "metadata": {},
     "output_type": "execute_result"
    }
   ],
   "source": [
    "# 9 Одиночный вызов API для одного канала\n",
    "request = youtube.channels().list(\n",
    "    part=search_parts,\n",
    "    maxResults=50,\n",
    "    id=channel_ids[:50],\n",
    ")\n",
    "response = request.execute()\n",
    "\n",
    "df_supplemented = pd.json_normalize(response['items'])\n",
    "df_supplemented.head()"
   ],
   "metadata": {
    "collapsed": false
   }
  },
  {
   "cell_type": "code",
   "execution_count": 13,
   "outputs": [
    {
     "name": "stdout",
     "output_type": "stream",
     "text": [
      "Итерация 0 завершена\n",
      "Итерация 1 завершена\n",
      "Итерация 2 завершена\n",
      "Итерация 3 завершена\n",
      "Итерация 4 завершена\n",
      "Итерация 5 завершена\n",
      "Итерация 6 завершена\n",
      "Итерация 7 завершена\n",
      "Итерация 8 завершена\n",
      "Итерация 9 завершена\n",
      "Итерация 10 завершена\n",
      "Итерация 11 завершена\n",
      "Итерация 12 завершена\n",
      "Итерация 13 завершена\n",
      "Итерация 14 завершена\n",
      "Итерация 15 завершена\n",
      "Итерация 16 завершена\n",
      "Итерация 17 завершена\n",
      "Итерация 18 завершена\n",
      "Итерация 19 завершена\n",
      "Итерация 20 завершена\n",
      "Итерация 21 завершена\n",
      "Итерация 22 завершена\n",
      "Итерация 23 завершена\n",
      "Итерация 24 завершена\n",
      "Итерация 25 завершена\n",
      "Итерация 26 завершена\n",
      "Итерация 27 завершена\n",
      "Итерация 28 завершена\n",
      "Итерация 29 завершена\n",
      "Итерация 30 завершена\n",
      "Итерация 31 завершена\n",
      "Итерация 32 завершена\n",
      "Итерация 33 завершена\n",
      "Итерация 34 завершена\n",
      "Итерация 35 завершена\n"
     ]
    }
   ],
   "source": [
    "# 10 Множественный вызов по 50 элементов\n",
    "\n",
    "df_supplemented = pd.DataFrame()\n",
    "\n",
    "for i in range(0, len(data), 50):\n",
    "    # границы интервала\n",
    "    s, e = i, i+50\n",
    "    if e > len(data): e = len(data)\n",
    "\n",
    "    request = youtube.channels().list(\n",
    "    part=search_parts,\n",
    "    maxResults=50,\n",
    "    id=channel_ids[s:e],\n",
    "    )\n",
    "    response = request.execute()\n",
    "\n",
    "    df_additional = pd.json_normalize(response['items'])\n",
    "    df_supplemented = pd.concat([df_supplemented, df_additional])\n",
    "    print(f\"Итерация {i // 50} завершена\")"
   ],
   "metadata": {
    "collapsed": false
   }
  },
  {
   "cell_type": "code",
   "execution_count": 14,
   "outputs": [
    {
     "name": "stdout",
     "output_type": "stream",
     "text": [
      "<class 'pandas.core.frame.DataFrame'>\n",
      "Int64Index: 1758 entries, 0 to 15\n",
      "Data columns (total 50 columns):\n",
      " #   Column                                               Non-Null Count  Dtype \n",
      "---  ------                                               --------------  ----- \n",
      " 0   kind                                                 1758 non-null   object\n",
      " 1   etag                                                 1758 non-null   object\n",
      " 2   id                                                   1758 non-null   object\n",
      " 3   snippet.title                                        1758 non-null   object\n",
      " 4   snippet.description                                  1758 non-null   object\n",
      " 5   snippet.customUrl                                    1758 non-null   object\n",
      " 6   snippet.publishedAt                                  1758 non-null   object\n",
      " 7   snippet.thumbnails.default.url                       1758 non-null   object\n",
      " 8   snippet.thumbnails.default.width                     1758 non-null   int64 \n",
      " 9   snippet.thumbnails.default.height                    1758 non-null   int64 \n",
      " 10  snippet.thumbnails.medium.url                        1758 non-null   object\n",
      " 11  snippet.thumbnails.medium.width                      1758 non-null   int64 \n",
      " 12  snippet.thumbnails.medium.height                     1758 non-null   int64 \n",
      " 13  snippet.thumbnails.high.url                          1758 non-null   object\n",
      " 14  snippet.thumbnails.high.width                        1758 non-null   int64 \n",
      " 15  snippet.thumbnails.high.height                       1758 non-null   int64 \n",
      " 16  snippet.localized.title                              1758 non-null   object\n",
      " 17  snippet.localized.description                        1758 non-null   object\n",
      " 18  snippet.country                                      764 non-null    object\n",
      " 19  contentDetails.relatedPlaylists.likes                1758 non-null   object\n",
      " 20  contentDetails.relatedPlaylists.uploads              1758 non-null   object\n",
      " 21  statistics.viewCount                                 1758 non-null   object\n",
      " 22  statistics.subscriberCount                           1758 non-null   object\n",
      " 23  statistics.hiddenSubscriberCount                     1758 non-null   bool  \n",
      " 24  statistics.videoCount                                1758 non-null   object\n",
      " 25  topicDetails.topicIds                                1608 non-null   object\n",
      " 26  topicDetails.topicCategories                         1608 non-null   object\n",
      " 27  brandingSettings.channel.title                       1758 non-null   object\n",
      " 28  brandingSettings.channel.description                 1405 non-null   object\n",
      " 29  brandingSettings.channel.unsubscribedTrailer         429 non-null    object\n",
      " 30  brandingSettings.channel.country                     764 non-null    object\n",
      " 31  brandingSettings.image.bannerExternalUrl             1051 non-null   object\n",
      " 32  brandingSettings.channel.keywords                    637 non-null    object\n",
      " 33  snippet.defaultLanguage                              65 non-null     object\n",
      " 34  brandingSettings.channel.defaultLanguage             65 non-null     object\n",
      " 35  localizations.en_US.title                            34 non-null     object\n",
      " 36  localizations.en_US.description                      34 non-null     object\n",
      " 37  localizations.ru_RU.title                            63 non-null     object\n",
      " 38  localizations.ru_RU.description                      63 non-null     object\n",
      " 39  brandingSettings.channel.trackingAnalyticsAccountId  43 non-null     object\n",
      " 40  localizations.uk_UA.title                            15 non-null     object\n",
      " 41  localizations.uk_UA.description                      15 non-null     object\n",
      " 42  localizations.ko_KR.title                            2 non-null      object\n",
      " 43  localizations.ko_KR.description                      2 non-null      object\n",
      " 44  localizations.kk_KZ.title                            1 non-null      object\n",
      " 45  localizations.kk_KZ.description                      1 non-null      object\n",
      " 46  localizations.pt_BR.title                            7 non-null      object\n",
      " 47  localizations.pt_BR.description                      7 non-null      object\n",
      " 48  localizations.de_DE.title                            2 non-null      object\n",
      " 49  localizations.de_DE.description                      2 non-null      object\n",
      "dtypes: bool(1), int64(6), object(43)\n",
      "memory usage: 688.4+ KB\n"
     ]
    }
   ],
   "source": [
    "# 11 Просмотр параметров датафрейма\n",
    "df_supplemented.info()"
   ],
   "metadata": {
    "collapsed": false
   }
  },
  {
   "cell_type": "code",
   "execution_count": 15,
   "outputs": [
    {
     "name": "stdout",
     "output_type": "stream",
     "text": [
      "Не досчитались: 8 каналов\n"
     ]
    }
   ],
   "source": [
    "# 12 Валидация количества каналов\n",
    "\n",
    "if len(data) == len(df_supplemented): print('Всё ок')\n",
    "else: print(\"Не досчитались:\", abs(len(data) - len(df_supplemented)), \"каналов\")"
   ],
   "metadata": {
    "collapsed": false
   }
  },
  {
   "cell_type": "code",
   "execution_count": 16,
   "outputs": [],
   "source": [
    "# 13 Просмотр статистики по каналам\n",
    "\n",
    "list_of_col = [x for x in df_supplemented.columns if x.startswith('stat')]\n",
    "\n",
    "for col in list_of_col:\n",
    "    df_supplemented[col] = pd.to_numeric(df_supplemented[col],downcast=\"integer\")"
   ],
   "metadata": {
    "collapsed": false
   }
  },
  {
   "cell_type": "code",
   "execution_count": 17,
   "outputs": [
    {
     "name": "stdout",
     "output_type": "stream",
     "text": [
      "Параметр statistics.viewCount\n",
      "Average - 3161932.323663254\n",
      "Minimal - 0,\n",
      "Maximum - 454369420\n",
      "Median - 2867.0\n",
      "===============\n",
      "Параметр statistics.subscriberCount\n",
      "Average - 21190.13651877133\n",
      "Minimal - 0,\n",
      "Maximum - 3040000\n",
      "Median - 31.0\n",
      "===============\n",
      "Параметр statistics.hiddenSubscriberCount\n",
      "Average - 0.0\n",
      "Minimal - False,\n",
      "Maximum - False\n",
      "Median - 0.0\n",
      "===============\n",
      "Параметр statistics.videoCount\n",
      "Average - 49.050625711035266\n",
      "Minimal - 0,\n",
      "Maximum - 953\n",
      "Median - 14.0\n",
      "===============\n"
     ]
    }
   ],
   "source": [
    "for col in list_of_col:\n",
    "    print(f\"Параметр {col}\")\n",
    "    print(f\"Average - {df_supplemented[col].mean()}\\n\"\n",
    "          f\"Minimal - {df_supplemented[col].min()},\\n\"\n",
    "          f\"Maximum - {df_supplemented[col].max()}\\n\"\n",
    "          f\"Median - {df_supplemented[col].median()}\")\n",
    "    print(\"=\"*15)"
   ],
   "metadata": {
    "collapsed": false
   }
  },
  {
   "cell_type": "code",
   "execution_count": null,
   "outputs": [],
   "source": [],
   "metadata": {
    "collapsed": false
   }
  },
  {
   "cell_type": "code",
   "execution_count": 18,
   "outputs": [],
   "source": [
    "# 13 сохранение файлов в специальной директории\n",
    "import os\n",
    "\n",
    "if not os.path.exists(DATA_PATH):\n",
    "    os.makedirs(DATA_PATH)\n",
    "\n",
    "df_supplemented.to_excel(DATA_PATH / f'{type_query.capitalize()}_characteristics.xlsx', index=False)"
   ],
   "metadata": {
    "collapsed": false
   }
  },
  {
   "cell_type": "code",
   "execution_count": null,
   "outputs": [],
   "source": [],
   "metadata": {
    "collapsed": false
   }
  }
 ],
 "metadata": {
  "kernelspec": {
   "display_name": "Python 3",
   "language": "python",
   "name": "python3"
  },
  "language_info": {
   "codemirror_mode": {
    "name": "ipython",
    "version": 2
   },
   "file_extension": ".py",
   "mimetype": "text/x-python",
   "name": "python",
   "nbconvert_exporter": "python",
   "pygments_lexer": "ipython2",
   "version": "2.7.6"
  }
 },
 "nbformat": 4,
 "nbformat_minor": 0
}
