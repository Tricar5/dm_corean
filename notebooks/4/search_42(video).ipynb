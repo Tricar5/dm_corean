{
 "cells": [
  {
   "cell_type": "code",
   "execution_count": 6,
   "outputs": [],
   "source": [
    "import pathlib\n",
    "import yaml\n",
    "ROOT = pathlib.Path().resolve().parent.parent\n",
    "\n",
    "with open(ROOT / \"config.yml\", \"r\") as f:\n",
    "    config = yaml.safe_load(f)"
   ],
   "metadata": {
    "collapsed": false
   }
  },
  {
   "cell_type": "code",
   "execution_count": 7,
   "outputs": [],
   "source": [
    "# 3\n",
    "DATA_PATH = ROOT / config['api']['DATA_PATH'] / 'seminar4'\n",
    "\n",
    "query = \"корейская косметика\"\n",
    "type_query = \"video\"\n",
    "\n",
    "# Для поиска видео с учетом даты:\n",
    "publishedAfter = '2020-01-01T00:00:00Z'\n",
    "publishedBefore = '2022-01-01T00:00:00Z'"
   ],
   "metadata": {
    "collapsed": false
   }
  },
  {
   "cell_type": "code",
   "execution_count": 8,
   "outputs": [],
   "source": [
    "# 3.1\n",
    "class KeyStorage:\n",
    "    \"\"\"\n",
    "    Class to use in iteration\n",
    "    \"\"\"\n",
    "\n",
    "    def __init__(self, key_arr: list[str]):\n",
    "        self.key_gen = iter(key_arr)\n",
    "\n",
    "    def get_next_key(self):\n",
    "        \"\"\"\n",
    "        Returns API key to use\n",
    "        :return:\n",
    "        \"\"\"\n",
    "        return next(self.key_gen)\n",
    "\n",
    "key_storage = KeyStorage(config['api']['keys'])"
   ],
   "metadata": {
    "collapsed": false
   }
  },
  {
   "cell_type": "code",
   "execution_count": 37,
   "outputs": [],
   "source": [
    "# 3.2 Просмотр API ключа\n",
    "API_KEY = key_storage.get_next_key()"
   ],
   "metadata": {
    "collapsed": false
   }
  },
  {
   "cell_type": "code",
   "execution_count": 38,
   "id": "3a893ff6",
   "metadata": {},
   "outputs": [],
   "source": [
    "#4\n",
    "import googleapiclient.discovery as api"
   ]
  },
  {
   "cell_type": "code",
   "execution_count": 39,
   "id": "5f468de9",
   "metadata": {},
   "outputs": [],
   "source": [
    "#5\n",
    "api_service_name = \"youtube\"\n",
    "api_version = \"v3\"\n",
    "    \n",
    "youtube = api.build(api_service_name,\n",
    "                        api_version, \n",
    "                       developerKey = API_KEY)"
   ]
  },
  {
   "cell_type": "code",
   "execution_count": 15,
   "id": "7cbbb17e",
   "metadata": {},
   "outputs": [],
   "source": [
    "#8\n",
    "import pandas as pd"
   ]
  },
  {
   "cell_type": "code",
   "execution_count": 16,
   "id": "4f6272c7",
   "metadata": {},
   "outputs": [
    {
     "name": "stdout",
     "output_type": "stream",
     "text": [
      "Итерация БЕЗ включения аргумента order №0\n",
      "Итерация БЕЗ включения аргумента order №1\n",
      "Итерация БЕЗ включения аргумента order №2\n",
      "Итерация БЕЗ включения аргумента order №3\n",
      "Итерация БЕЗ включения аргумента order №4\n",
      "Итерация БЕЗ включения аргумента order №5\n",
      "Итерация БЕЗ включения аргумента order №6\n",
      "Итерация БЕЗ включения аргумента order №7\n",
      "Итерация БЕЗ включения аргумента order №8\n",
      "Итерация БЕЗ включения аргумента order №9\n",
      "Итерация БЕЗ включения аргумента order №10\n",
      "Искомых объектов 807031 а найденных БЕЗ включения каких-либо значений аргумента order 557\n"
     ]
    }
   ],
   "source": [
    "# 18.1\n",
    "# Первый заход БЕЗ аргумента order для видео\n",
    "request = youtube.search().list(\n",
    "        part =\"snippet\",\n",
    "        maxResults=50,\n",
    "        q = query,\n",
    "        regionCode =\"RU\",\n",
    "        type = type_query\n",
    ")\n",
    "response = request.execute()  \n",
    "   \n",
    "df_supplemented = pd.json_normalize(response['items'])\n",
    "   \n",
    "    # Цикл для прохода по всем следующим страницам с выдачей:\n",
    "i = 0\n",
    "while 'nextPageToken' in response.keys():\n",
    "    request = youtube.search().list(\n",
    "            part =\"snippet\",\n",
    "            maxResults=50,\n",
    "            q = query,\n",
    "            regionCode =\"RU\",\n",
    "            type = type_query,\n",
    "            pageToken = response['nextPageToken']\n",
    "        )\n",
    "    response = request.execute()  \n",
    "\n",
    "    print(f'Итерация БЕЗ включения аргумента order №{i}')\n",
    "    i += 1\n",
    "        \n",
    "    df_additional = pd.json_normalize(response['items'])\n",
    "    df_supplemented = pd.concat([df_supplemented, df_additional])\n",
    "    \n",
    "    \n",
    "\n",
    "print(f\"Искомых объектов {response['pageInfo']['totalResults']}\", \\\n",
    "      f\"а найденных БЕЗ включения каких-либо значений аргумента order {len(df_supplemented.drop_duplicates(f'id.{type_query}Id'))}\")"
   ]
  },
  {
   "cell_type": "code",
   "execution_count": 19,
   "outputs": [
    {
     "data": {
      "text/plain": "599"
     },
     "execution_count": 19,
     "metadata": {},
     "output_type": "execute_result"
    }
   ],
   "source": [
    "len(df_supplemented)"
   ],
   "metadata": {
    "collapsed": false
   }
  },
  {
   "cell_type": "code",
   "execution_count": 20,
   "id": "0f3d2541",
   "metadata": {},
   "outputs": [
    {
     "data": {
      "text/plain": "['date', 'rating', 'title', 'videoCount', 'viewCount']"
     },
     "execution_count": 20,
     "metadata": {},
     "output_type": "execute_result"
    }
   ],
   "source": [
    "# Значения аргумента order:\n",
    "order_list = ['date', 'rating', 'title', 'videoCount', 'viewCount']\n",
    "order_list"
   ]
  },
  {
   "cell_type": "code",
   "execution_count": 21,
   "id": "64e2e3f0",
   "metadata": {},
   "outputs": [
    {
     "name": "stdout",
     "output_type": "stream",
     "text": [
      "Итерация №0, \"order\" date, \"items\" 50\n",
      "Итерация №1, \"order\" date, \"items\" 50\n",
      "Итерация №2, \"order\" date, \"items\" 50\n",
      "Итерация №3, \"order\" date, \"items\" 50\n",
      "Итерация №4, \"order\" date, \"items\" 50\n",
      "Итерация №5, \"order\" date, \"items\" 50\n",
      "Итерация №6, \"order\" date, \"items\" 50\n",
      "Итерация №7, \"order\" date, \"items\" 50\n",
      "Итерация №8, \"order\" date, \"items\" 50\n",
      "Итерация №9, \"order\" date, \"items\" 50\n",
      "Итерация №10, \"order\" date, \"items\" 50\n",
      "Итерация №11, \"order\" date, \"items\" 29\n",
      "Итерация №12, \"order\" rating, \"items\" 50\n",
      "Итерация №13, \"order\" rating, \"items\" 50\n",
      "Итерация №14, \"order\" rating, \"items\" 50\n",
      "Итерация №15, \"order\" rating, \"items\" 50\n",
      "Итерация №16, \"order\" rating, \"items\" 50\n",
      "Итерация №17, \"order\" rating, \"items\" 50\n",
      "Итерация №18, \"order\" rating, \"items\" 50\n",
      "Итерация №19, \"order\" rating, \"items\" 50\n",
      "Итерация №20, \"order\" rating, \"items\" 50\n",
      "Итерация №21, \"order\" rating, \"items\" 50\n",
      "Итерация №22, \"order\" rating, \"items\" 50\n",
      "Итерация №23, \"order\" rating, \"items\" 30\n",
      "Итерация №24, \"order\" title, \"items\" 50\n",
      "Итерация №25, \"order\" title, \"items\" 50\n",
      "Итерация №26, \"order\" title, \"items\" 50\n",
      "Итерация №27, \"order\" title, \"items\" 50\n",
      "Итерация №28, \"order\" title, \"items\" 50\n",
      "Итерация №29, \"order\" title, \"items\" 50\n",
      "Итерация №30, \"order\" title, \"items\" 50\n",
      "Итерация №31, \"order\" title, \"items\" 50\n",
      "Итерация №32, \"order\" title, \"items\" 50\n",
      "Итерация №33, \"order\" title, \"items\" 50\n",
      "Итерация №34, \"order\" title, \"items\" 50\n",
      "Итерация №35, \"order\" title, \"items\" 29\n",
      "Итерация №36, \"order\" videoCount, \"items\" 50\n",
      "Итерация №37, \"order\" videoCount, \"items\" 50\n",
      "Итерация №38, \"order\" videoCount, \"items\" 50\n",
      "Итерация №39, \"order\" videoCount, \"items\" 50\n",
      "Итерация №40, \"order\" videoCount, \"items\" 50\n",
      "Итерация №41, \"order\" videoCount, \"items\" 50\n",
      "Итерация №42, \"order\" videoCount, \"items\" 50\n",
      "Итерация №43, \"order\" videoCount, \"items\" 50\n",
      "Итерация №44, \"order\" videoCount, \"items\" 50\n",
      "Итерация №45, \"order\" videoCount, \"items\" 50\n",
      "Итерация №46, \"order\" videoCount, \"items\" 50\n",
      "Итерация №47, \"order\" videoCount, \"items\" 29\n",
      "Итерация №48, \"order\" viewCount, \"items\" 50\n",
      "Итерация №49, \"order\" viewCount, \"items\" 50\n",
      "Итерация №50, \"order\" viewCount, \"items\" 50\n",
      "Итерация №51, \"order\" viewCount, \"items\" 50\n",
      "Итерация №52, \"order\" viewCount, \"items\" 50\n",
      "Итерация №53, \"order\" viewCount, \"items\" 50\n",
      "Итерация №54, \"order\" viewCount, \"items\" 50\n",
      "Итерация №55, \"order\" viewCount, \"items\" 50\n",
      "Итерация №56, \"order\" viewCount, \"items\" 50\n",
      "Итерация №57, \"order\" viewCount, \"items\" 50\n",
      "Итерация №58, \"order\" viewCount, \"items\" 50\n",
      "Итерация №59, \"order\" viewCount, \"items\" 29\n"
     ]
    }
   ],
   "source": [
    "# 18.2\n",
    "# Цикл для прохода по значениям аргумента order, внутри которых проход по всем страницам выдачи:\n",
    "i = 0\n",
    "for order in order_list:\n",
    "    # Для остановки алгоритма, если все искомые объекты найдены\n",
    "    # БЕЗ включения каких-либо значений аргумента order (в т.ч. вообще БЕЗ них):\n",
    "    if len(df_supplemented.drop_duplicates(f'id.{type_query}Id')) < response['pageInfo']['totalResults']:\n",
    "        \n",
    "        # Первый заход с каждым значение аргумента order:\n",
    "        request = youtube.search().list(\n",
    "            part =\"snippet\",\n",
    "            maxResults=50,\n",
    "            q = query,\n",
    "            regionCode =\"RU\",\n",
    "            type = type_query,\n",
    "            order = order\n",
    "        )\n",
    "        response = request.execute()\n",
    "    \n",
    "        # Визуализация процесса:\n",
    "        print(f'Итерация №{i}, \"order\" {order}, \"items\" {len(response[\"items\"])}')\n",
    "        i += 1\n",
    "    \n",
    "        # Занесение собранных данных в итоговую таблицу df_supplemented:\n",
    "        df = pd.json_normalize(response[\"items\"])\n",
    "        df_supplemented = pd.concat([df, df_supplemented])\n",
    "        \n",
    "        # Заходы с тем же значением аргумента order на следующие страницы:\n",
    "        while ('nextPageToken' in response.keys())\\\n",
    "        & (len(df_supplemented.drop_duplicates(f'id.{type_query}Id')) < response['pageInfo']['totalResults'])\\\n",
    "        & (len(response[\"items\"]) > 0):\n",
    "        # второе условие -- для остановки алгоритма, если все искомые объекты найдены\n",
    "        # БЕЗ какой-то из следующих страниц ( в т.ч. вообще БЕЗ них)\n",
    "        # третье условие -- для остановки алгоритма, если предыдущая страница выдачи содержит 0 объектов    \n",
    "        \n",
    "            request = youtube.search().list(\n",
    "                part =\"snippet\",\n",
    "                maxResults=50,\n",
    "                q = query,\n",
    "                regionCode =\"RU\",\n",
    "                type = type_query,\n",
    "                pageToken = response['nextPageToken'],\n",
    "                order = order\n",
    "            )\n",
    "            response = request.execute()  \n",
    "    \n",
    "            # Визуализация процесса:\n",
    "            print(f'Итерация №{i}, \"order\" {order}, \"items\" {len(response[\"items\"])}')\n",
    "            \n",
    "            i += 1\n",
    "        \n",
    "            # Занесение собранных данных в итоговую таблицу df_supplemented:\n",
    "            df_additional = pd.json_normalize(response[\"items\"])\n",
    "            df_supplemented = pd.concat([df_supplemented, df_additional])\n",
    "    \n",
    "        # Сохранение составленных для каждого значения аргумента order таблиц в Excel -- на всякий случай:\n",
    "        df_supplemented.to_excel(DATA_PATH / f'{type_query.capitalize()}_Sorted_by_{order}.xlsx')\n",
    "    else:\n",
    "        print('Все искомые объекты найдены БЕЗ включения некоторых значений аргумента order (в т.ч. вообще БЕЗ них)')"
   ]
  },
  {
   "cell_type": "code",
   "execution_count": 22,
   "id": "61e07622",
   "metadata": {},
   "outputs": [
    {
     "data": {
      "text/plain": "                      kind                         etag        id.kind  \\\n1     youtube#searchResult  EQDFH4sq29F4tLopSvBzT1Owm1M  youtube#video   \n2     youtube#searchResult  KC_LG8xTt9DjwtELdwXsHef8Y2g  youtube#video   \n3     youtube#searchResult  ZkrSJlyz8XsSTJv1_ejDaFtSKyM  youtube#video   \n4     youtube#searchResult  dltiYtp7e0SGjSrmXCopbsnWyVQ  youtube#video   \n5     youtube#searchResult  uSLsO6jgTFGew3isXWNKN2IEIu0  youtube#video   \n...                    ...                          ...            ...   \n3151  youtube#searchResult  A31Yk_hjB6xoE6RepwZu_LGVs1c  youtube#video   \n3206  youtube#searchResult  OTBbtH3lMeTQW02mNg43VUW5sjo  youtube#video   \n3259  youtube#searchResult  xTx6R13Hh9_FzQml23sbPOlf-a0  youtube#video   \n3300  youtube#searchResult  35FZtVIIO9_Dg-B53obAXwcGzh4  youtube#video   \n3303  youtube#searchResult  9aJQqvF7m1VIDo3jw426Y7WGRgs  youtube#video   \n\n       id.videoId   snippet.publishedAt         snippet.channelId  \\\n1     AAjsSrjZXsw  2021-03-10T13:46:47Z  UCh29SdTOPdjBb-n3Vop1lYg   \n2     Wi49rKRM85U  2022-06-20T12:57:48Z  UCphnZS52v_lkv5RSl5n70tQ   \n3     aiY0ymL25Pw  2021-08-20T08:51:18Z  UCiT7bPorr4rKJU8WFBZA9Og   \n4     4nqfUzIz7kQ  2021-11-12T14:59:32Z  UCphnZS52v_lkv5RSl5n70tQ   \n5     JA9E4TCVsDU  2015-12-06T14:30:40Z  UCNazbf-kLY6E8TO_o48ZExQ   \n...           ...                   ...                       ...   \n3151  MGVgc5nQU90  2019-09-08T18:11:56Z  UCmPL5o-GQhJIXZK2v413kLA   \n3206  6AqDISrJdzI  2023-02-24T15:03:28Z  UCzUsVYz2Bkn3Z_dDzria3Jg   \n3259  0IXPgRJDpXQ  2023-02-15T12:45:00Z  UCrBHPQpoBA_XUDA9fgn_28g   \n3300  4JLuaxyc6Ws  2022-05-05T14:24:28Z  UCaDIT22PM6ig15mQzZDk7pw   \n3303  jRxxVWl8PdA  2022-12-11T15:06:43Z  UCR125JSWxh0p2LnJU__ofGA   \n\n                                          snippet.title  \\\n1     Расследование | Паленая косметика на Ozon и Wi...   \n2     한국인들은 절대 안사는 화장품 КОСМЕТИКА КОТОРАЯ КОРЕЯНКИ ВО...   \n3     РЕАКЦИЯ дерматолога: 10 этапов корейского уход...   \n4     Кореянка в Золотом Яблоке. Почему русские поку...   \n5     КАК Я ИСПОРТИЛА КОЖУ: КОРЕЙСКАЯ КОСМЕТИКА\\Tony...   \n...                                                 ...   \n3151   Корейская косметика/ Макияж 40+/ Вечерний уход 👌   \n3206  #корейскаякосметика #косметика #корейскиетовар...   \n3259  Теперь официально на OZON и Wildberries! Насто...   \n3300  Пенка для умывания / КОРЕЙСКАЯ КОСМЕТИКА / Обз...   \n3303  Стенд Ап | Чебатков в Корее | Домашний влог | ...   \n\n                                    snippet.description  \\\n1     На российских маркетплейсах продается огромное...   \n2     подписаться: https://goo.gl/3QbeUf -----------...   \n3     Мой телеграм: https://t.me/dr_amina_pirmanova ...   \n4     кореянка#золотоеяблоко#корейскаякосметика прив...   \n5     Привет! Корейская косметика снова набирает обо...   \n...                                                 ...   \n3151  корейскаякосметика #макияж #ССС-крем Привет! Э...   \n3206                                                      \n3259  уходзакожей #косметика #bohicare #ozon #wildbe...   \n3300    FarmStay #Ecel #Etude #EtudeHause #WILDBERRIES.   \n3303                                                      \n\n                      snippet.thumbnails.default.url  \\\n1     https://i.ytimg.com/vi/AAjsSrjZXsw/default.jpg   \n2     https://i.ytimg.com/vi/Wi49rKRM85U/default.jpg   \n3     https://i.ytimg.com/vi/aiY0ymL25Pw/default.jpg   \n4     https://i.ytimg.com/vi/4nqfUzIz7kQ/default.jpg   \n5     https://i.ytimg.com/vi/JA9E4TCVsDU/default.jpg   \n...                                              ...   \n3151  https://i.ytimg.com/vi/MGVgc5nQU90/default.jpg   \n3206  https://i.ytimg.com/vi/6AqDISrJdzI/default.jpg   \n3259  https://i.ytimg.com/vi/0IXPgRJDpXQ/default.jpg   \n3300  https://i.ytimg.com/vi/4JLuaxyc6Ws/default.jpg   \n3303  https://i.ytimg.com/vi/jRxxVWl8PdA/default.jpg   \n\n      snippet.thumbnails.default.width  snippet.thumbnails.default.height  \\\n1                                  120                                 90   \n2                                  120                                 90   \n3                                  120                                 90   \n4                                  120                                 90   \n5                                  120                                 90   \n...                                ...                                ...   \n3151                               120                                 90   \n3206                               120                                 90   \n3259                               120                                 90   \n3300                               120                                 90   \n3303                               120                                 90   \n\n                         snippet.thumbnails.medium.url  \\\n1     https://i.ytimg.com/vi/AAjsSrjZXsw/mqdefault.jpg   \n2     https://i.ytimg.com/vi/Wi49rKRM85U/mqdefault.jpg   \n3     https://i.ytimg.com/vi/aiY0ymL25Pw/mqdefault.jpg   \n4     https://i.ytimg.com/vi/4nqfUzIz7kQ/mqdefault.jpg   \n5     https://i.ytimg.com/vi/JA9E4TCVsDU/mqdefault.jpg   \n...                                                ...   \n3151  https://i.ytimg.com/vi/MGVgc5nQU90/mqdefault.jpg   \n3206  https://i.ytimg.com/vi/6AqDISrJdzI/mqdefault.jpg   \n3259  https://i.ytimg.com/vi/0IXPgRJDpXQ/mqdefault.jpg   \n3300  https://i.ytimg.com/vi/4JLuaxyc6Ws/mqdefault.jpg   \n3303  https://i.ytimg.com/vi/jRxxVWl8PdA/mqdefault.jpg   \n\n      snippet.thumbnails.medium.width  snippet.thumbnails.medium.height  \\\n1                                 320                               180   \n2                                 320                               180   \n3                                 320                               180   \n4                                 320                               180   \n5                                 320                               180   \n...                               ...                               ...   \n3151                              320                               180   \n3206                              320                               180   \n3259                              320                               180   \n3300                              320                               180   \n3303                              320                               180   \n\n                           snippet.thumbnails.high.url  \\\n1     https://i.ytimg.com/vi/AAjsSrjZXsw/hqdefault.jpg   \n2     https://i.ytimg.com/vi/Wi49rKRM85U/hqdefault.jpg   \n3     https://i.ytimg.com/vi/aiY0ymL25Pw/hqdefault.jpg   \n4     https://i.ytimg.com/vi/4nqfUzIz7kQ/hqdefault.jpg   \n5     https://i.ytimg.com/vi/JA9E4TCVsDU/hqdefault.jpg   \n...                                                ...   \n3151  https://i.ytimg.com/vi/MGVgc5nQU90/hqdefault.jpg   \n3206  https://i.ytimg.com/vi/6AqDISrJdzI/hqdefault.jpg   \n3259  https://i.ytimg.com/vi/0IXPgRJDpXQ/hqdefault.jpg   \n3300  https://i.ytimg.com/vi/4JLuaxyc6Ws/hqdefault.jpg   \n3303  https://i.ytimg.com/vi/jRxxVWl8PdA/hqdefault.jpg   \n\n      snippet.thumbnails.high.width  snippet.thumbnails.high.height  \\\n1                               480                             360   \n2                               480                             360   \n3                               480                             360   \n4                               480                             360   \n5                               480                             360   \n...                             ...                             ...   \n3151                            480                             360   \n3206                            480                             360   \n3259                            480                             360   \n3300                            480                             360   \n3303                            480                             360   \n\n                    snippet.channelTitle snippet.liveBroadcastContent  \\\n1                          katyakonasova                         none   \n2         Kyunghamin твоя корейская онни                         none   \n3                        Amina Pirmanova                         none   \n4         Kyunghamin твоя корейская онни                         none   \n5                              Julie Art                         none   \n...                                  ...                          ...   \n3151  Наталья Замула. Жизнь Женщины 50+.                         none   \n3206                   Людмила PRO Atomy                         none   \n3259                       Svetlana Song                         none   \n3300               Купили и показали Вам                         none   \n3303                         Nastya Jang                         none   \n\n       snippet.publishTime  \n1     2021-03-10T13:46:47Z  \n2     2022-06-20T12:57:48Z  \n3     2021-08-20T08:51:18Z  \n4     2021-11-12T14:59:32Z  \n5     2015-12-06T14:30:40Z  \n...                    ...  \n3151  2019-09-08T18:11:56Z  \n3206  2023-02-24T15:03:28Z  \n3259  2023-02-15T12:45:00Z  \n3300  2022-05-05T14:24:28Z  \n3303  2022-12-11T15:06:43Z  \n\n[836 rows x 20 columns]",
      "text/html": "<div>\n<style scoped>\n    .dataframe tbody tr th:only-of-type {\n        vertical-align: middle;\n    }\n\n    .dataframe tbody tr th {\n        vertical-align: top;\n    }\n\n    .dataframe thead th {\n        text-align: right;\n    }\n</style>\n<table border=\"1\" class=\"dataframe\">\n  <thead>\n    <tr style=\"text-align: right;\">\n      <th></th>\n      <th>kind</th>\n      <th>etag</th>\n      <th>id.kind</th>\n      <th>id.videoId</th>\n      <th>snippet.publishedAt</th>\n      <th>snippet.channelId</th>\n      <th>snippet.title</th>\n      <th>snippet.description</th>\n      <th>snippet.thumbnails.default.url</th>\n      <th>snippet.thumbnails.default.width</th>\n      <th>snippet.thumbnails.default.height</th>\n      <th>snippet.thumbnails.medium.url</th>\n      <th>snippet.thumbnails.medium.width</th>\n      <th>snippet.thumbnails.medium.height</th>\n      <th>snippet.thumbnails.high.url</th>\n      <th>snippet.thumbnails.high.width</th>\n      <th>snippet.thumbnails.high.height</th>\n      <th>snippet.channelTitle</th>\n      <th>snippet.liveBroadcastContent</th>\n      <th>snippet.publishTime</th>\n    </tr>\n  </thead>\n  <tbody>\n    <tr>\n      <th>1</th>\n      <td>youtube#searchResult</td>\n      <td>EQDFH4sq29F4tLopSvBzT1Owm1M</td>\n      <td>youtube#video</td>\n      <td>AAjsSrjZXsw</td>\n      <td>2021-03-10T13:46:47Z</td>\n      <td>UCh29SdTOPdjBb-n3Vop1lYg</td>\n      <td>Расследование | Паленая косметика на Ozon и Wi...</td>\n      <td>На российских маркетплейсах продается огромное...</td>\n      <td>https://i.ytimg.com/vi/AAjsSrjZXsw/default.jpg</td>\n      <td>120</td>\n      <td>90</td>\n      <td>https://i.ytimg.com/vi/AAjsSrjZXsw/mqdefault.jpg</td>\n      <td>320</td>\n      <td>180</td>\n      <td>https://i.ytimg.com/vi/AAjsSrjZXsw/hqdefault.jpg</td>\n      <td>480</td>\n      <td>360</td>\n      <td>katyakonasova</td>\n      <td>none</td>\n      <td>2021-03-10T13:46:47Z</td>\n    </tr>\n    <tr>\n      <th>2</th>\n      <td>youtube#searchResult</td>\n      <td>KC_LG8xTt9DjwtELdwXsHef8Y2g</td>\n      <td>youtube#video</td>\n      <td>Wi49rKRM85U</td>\n      <td>2022-06-20T12:57:48Z</td>\n      <td>UCphnZS52v_lkv5RSl5n70tQ</td>\n      <td>한국인들은 절대 안사는 화장품 КОСМЕТИКА КОТОРАЯ КОРЕЯНКИ ВО...</td>\n      <td>подписаться: https://goo.gl/3QbeUf -----------...</td>\n      <td>https://i.ytimg.com/vi/Wi49rKRM85U/default.jpg</td>\n      <td>120</td>\n      <td>90</td>\n      <td>https://i.ytimg.com/vi/Wi49rKRM85U/mqdefault.jpg</td>\n      <td>320</td>\n      <td>180</td>\n      <td>https://i.ytimg.com/vi/Wi49rKRM85U/hqdefault.jpg</td>\n      <td>480</td>\n      <td>360</td>\n      <td>Kyunghamin твоя корейская онни</td>\n      <td>none</td>\n      <td>2022-06-20T12:57:48Z</td>\n    </tr>\n    <tr>\n      <th>3</th>\n      <td>youtube#searchResult</td>\n      <td>ZkrSJlyz8XsSTJv1_ejDaFtSKyM</td>\n      <td>youtube#video</td>\n      <td>aiY0ymL25Pw</td>\n      <td>2021-08-20T08:51:18Z</td>\n      <td>UCiT7bPorr4rKJU8WFBZA9Og</td>\n      <td>РЕАКЦИЯ дерматолога: 10 этапов корейского уход...</td>\n      <td>Мой телеграм: https://t.me/dr_amina_pirmanova ...</td>\n      <td>https://i.ytimg.com/vi/aiY0ymL25Pw/default.jpg</td>\n      <td>120</td>\n      <td>90</td>\n      <td>https://i.ytimg.com/vi/aiY0ymL25Pw/mqdefault.jpg</td>\n      <td>320</td>\n      <td>180</td>\n      <td>https://i.ytimg.com/vi/aiY0ymL25Pw/hqdefault.jpg</td>\n      <td>480</td>\n      <td>360</td>\n      <td>Amina Pirmanova</td>\n      <td>none</td>\n      <td>2021-08-20T08:51:18Z</td>\n    </tr>\n    <tr>\n      <th>4</th>\n      <td>youtube#searchResult</td>\n      <td>dltiYtp7e0SGjSrmXCopbsnWyVQ</td>\n      <td>youtube#video</td>\n      <td>4nqfUzIz7kQ</td>\n      <td>2021-11-12T14:59:32Z</td>\n      <td>UCphnZS52v_lkv5RSl5n70tQ</td>\n      <td>Кореянка в Золотом Яблоке. Почему русские поку...</td>\n      <td>кореянка#золотоеяблоко#корейскаякосметика прив...</td>\n      <td>https://i.ytimg.com/vi/4nqfUzIz7kQ/default.jpg</td>\n      <td>120</td>\n      <td>90</td>\n      <td>https://i.ytimg.com/vi/4nqfUzIz7kQ/mqdefault.jpg</td>\n      <td>320</td>\n      <td>180</td>\n      <td>https://i.ytimg.com/vi/4nqfUzIz7kQ/hqdefault.jpg</td>\n      <td>480</td>\n      <td>360</td>\n      <td>Kyunghamin твоя корейская онни</td>\n      <td>none</td>\n      <td>2021-11-12T14:59:32Z</td>\n    </tr>\n    <tr>\n      <th>5</th>\n      <td>youtube#searchResult</td>\n      <td>uSLsO6jgTFGew3isXWNKN2IEIu0</td>\n      <td>youtube#video</td>\n      <td>JA9E4TCVsDU</td>\n      <td>2015-12-06T14:30:40Z</td>\n      <td>UCNazbf-kLY6E8TO_o48ZExQ</td>\n      <td>КАК Я ИСПОРТИЛА КОЖУ: КОРЕЙСКАЯ КОСМЕТИКА\\Tony...</td>\n      <td>Привет! Корейская косметика снова набирает обо...</td>\n      <td>https://i.ytimg.com/vi/JA9E4TCVsDU/default.jpg</td>\n      <td>120</td>\n      <td>90</td>\n      <td>https://i.ytimg.com/vi/JA9E4TCVsDU/mqdefault.jpg</td>\n      <td>320</td>\n      <td>180</td>\n      <td>https://i.ytimg.com/vi/JA9E4TCVsDU/hqdefault.jpg</td>\n      <td>480</td>\n      <td>360</td>\n      <td>Julie Art</td>\n      <td>none</td>\n      <td>2015-12-06T14:30:40Z</td>\n    </tr>\n    <tr>\n      <th>...</th>\n      <td>...</td>\n      <td>...</td>\n      <td>...</td>\n      <td>...</td>\n      <td>...</td>\n      <td>...</td>\n      <td>...</td>\n      <td>...</td>\n      <td>...</td>\n      <td>...</td>\n      <td>...</td>\n      <td>...</td>\n      <td>...</td>\n      <td>...</td>\n      <td>...</td>\n      <td>...</td>\n      <td>...</td>\n      <td>...</td>\n      <td>...</td>\n      <td>...</td>\n    </tr>\n    <tr>\n      <th>3151</th>\n      <td>youtube#searchResult</td>\n      <td>A31Yk_hjB6xoE6RepwZu_LGVs1c</td>\n      <td>youtube#video</td>\n      <td>MGVgc5nQU90</td>\n      <td>2019-09-08T18:11:56Z</td>\n      <td>UCmPL5o-GQhJIXZK2v413kLA</td>\n      <td>Корейская косметика/ Макияж 40+/ Вечерний уход 👌</td>\n      <td>корейскаякосметика #макияж #ССС-крем Привет! Э...</td>\n      <td>https://i.ytimg.com/vi/MGVgc5nQU90/default.jpg</td>\n      <td>120</td>\n      <td>90</td>\n      <td>https://i.ytimg.com/vi/MGVgc5nQU90/mqdefault.jpg</td>\n      <td>320</td>\n      <td>180</td>\n      <td>https://i.ytimg.com/vi/MGVgc5nQU90/hqdefault.jpg</td>\n      <td>480</td>\n      <td>360</td>\n      <td>Наталья Замула. Жизнь Женщины 50+.</td>\n      <td>none</td>\n      <td>2019-09-08T18:11:56Z</td>\n    </tr>\n    <tr>\n      <th>3206</th>\n      <td>youtube#searchResult</td>\n      <td>OTBbtH3lMeTQW02mNg43VUW5sjo</td>\n      <td>youtube#video</td>\n      <td>6AqDISrJdzI</td>\n      <td>2023-02-24T15:03:28Z</td>\n      <td>UCzUsVYz2Bkn3Z_dDzria3Jg</td>\n      <td>#корейскаякосметика #косметика #корейскиетовар...</td>\n      <td></td>\n      <td>https://i.ytimg.com/vi/6AqDISrJdzI/default.jpg</td>\n      <td>120</td>\n      <td>90</td>\n      <td>https://i.ytimg.com/vi/6AqDISrJdzI/mqdefault.jpg</td>\n      <td>320</td>\n      <td>180</td>\n      <td>https://i.ytimg.com/vi/6AqDISrJdzI/hqdefault.jpg</td>\n      <td>480</td>\n      <td>360</td>\n      <td>Людмила PRO Atomy</td>\n      <td>none</td>\n      <td>2023-02-24T15:03:28Z</td>\n    </tr>\n    <tr>\n      <th>3259</th>\n      <td>youtube#searchResult</td>\n      <td>xTx6R13Hh9_FzQml23sbPOlf-a0</td>\n      <td>youtube#video</td>\n      <td>0IXPgRJDpXQ</td>\n      <td>2023-02-15T12:45:00Z</td>\n      <td>UCrBHPQpoBA_XUDA9fgn_28g</td>\n      <td>Теперь официально на OZON и Wildberries! Насто...</td>\n      <td>уходзакожей #косметика #bohicare #ozon #wildbe...</td>\n      <td>https://i.ytimg.com/vi/0IXPgRJDpXQ/default.jpg</td>\n      <td>120</td>\n      <td>90</td>\n      <td>https://i.ytimg.com/vi/0IXPgRJDpXQ/mqdefault.jpg</td>\n      <td>320</td>\n      <td>180</td>\n      <td>https://i.ytimg.com/vi/0IXPgRJDpXQ/hqdefault.jpg</td>\n      <td>480</td>\n      <td>360</td>\n      <td>Svetlana Song</td>\n      <td>none</td>\n      <td>2023-02-15T12:45:00Z</td>\n    </tr>\n    <tr>\n      <th>3300</th>\n      <td>youtube#searchResult</td>\n      <td>35FZtVIIO9_Dg-B53obAXwcGzh4</td>\n      <td>youtube#video</td>\n      <td>4JLuaxyc6Ws</td>\n      <td>2022-05-05T14:24:28Z</td>\n      <td>UCaDIT22PM6ig15mQzZDk7pw</td>\n      <td>Пенка для умывания / КОРЕЙСКАЯ КОСМЕТИКА / Обз...</td>\n      <td>FarmStay #Ecel #Etude #EtudeHause #WILDBERRIES.</td>\n      <td>https://i.ytimg.com/vi/4JLuaxyc6Ws/default.jpg</td>\n      <td>120</td>\n      <td>90</td>\n      <td>https://i.ytimg.com/vi/4JLuaxyc6Ws/mqdefault.jpg</td>\n      <td>320</td>\n      <td>180</td>\n      <td>https://i.ytimg.com/vi/4JLuaxyc6Ws/hqdefault.jpg</td>\n      <td>480</td>\n      <td>360</td>\n      <td>Купили и показали Вам</td>\n      <td>none</td>\n      <td>2022-05-05T14:24:28Z</td>\n    </tr>\n    <tr>\n      <th>3303</th>\n      <td>youtube#searchResult</td>\n      <td>9aJQqvF7m1VIDo3jw426Y7WGRgs</td>\n      <td>youtube#video</td>\n      <td>jRxxVWl8PdA</td>\n      <td>2022-12-11T15:06:43Z</td>\n      <td>UCR125JSWxh0p2LnJU__ofGA</td>\n      <td>Стенд Ап | Чебатков в Корее | Домашний влог | ...</td>\n      <td></td>\n      <td>https://i.ytimg.com/vi/jRxxVWl8PdA/default.jpg</td>\n      <td>120</td>\n      <td>90</td>\n      <td>https://i.ytimg.com/vi/jRxxVWl8PdA/mqdefault.jpg</td>\n      <td>320</td>\n      <td>180</td>\n      <td>https://i.ytimg.com/vi/jRxxVWl8PdA/hqdefault.jpg</td>\n      <td>480</td>\n      <td>360</td>\n      <td>Nastya Jang</td>\n      <td>none</td>\n      <td>2022-12-11T15:06:43Z</td>\n    </tr>\n  </tbody>\n</table>\n<p>836 rows × 20 columns</p>\n</div>"
     },
     "metadata": {},
     "output_type": "display_data"
    }
   ],
   "source": [
    "# 19\n",
    "# Удаление дубликатов каналов (по их ID) и запись в Excel:\n",
    "df_supplemented.index = range(1,len(df_supplemented)+1) # сквозной индекс для итоговой таблицы\n",
    "df_supplemented = df_supplemented.drop_duplicates(f'id.{type_query}Id')\n",
    "display(df_supplemented)\n"
   ]
  },
  {
   "cell_type": "code",
   "execution_count": 15,
   "outputs": [],
   "source": [
    "# 20\n",
    "\n",
    "df_supplemented.to_excel(DATA_PATH /f'{type_query.capitalize()}_Not_sorted+Sorted.xlsx', index=False)"
   ],
   "metadata": {
    "collapsed": false
   }
  },
  {
   "cell_type": "code",
   "execution_count": 16,
   "id": "cee89af6",
   "metadata": {},
   "outputs": [
    {
     "data": {
      "text/plain": "                     kind                         etag        id.kind  \\\n0    youtube#searchResult  KC_LG8xTt9DjwtELdwXsHef8Y2g  youtube#video   \n1    youtube#searchResult  NjKFlYBBEw9zdA5NO0pNPxZQWW4  youtube#video   \n2    youtube#searchResult  ZkrSJlyz8XsSTJv1_ejDaFtSKyM  youtube#video   \n3    youtube#searchResult  uSLsO6jgTFGew3isXWNKN2IEIu0  youtube#video   \n4    youtube#searchResult  6kkxWnMmA0vx1FI_Ur5fXgKuR6k  youtube#video   \n..                    ...                          ...            ...   \n839  youtube#searchResult  f3HYyDBsKLbApf-tmZUweUTgh9A  youtube#video   \n840  youtube#searchResult  Vdhvbu-ZRFBIpsWL777-JEt1ksA  youtube#video   \n841  youtube#searchResult  Ey17lP7m-oTNxjDLaIQMYZXgtSE  youtube#video   \n842  youtube#searchResult  vbnVvWSJEnukOHrkKJCy6ahWST8  youtube#video   \n843  youtube#searchResult  1aC4MeJ9At6CSZDUO9CLHFdnUYE  youtube#video   \n\n      id.videoId   snippet.publishedAt         snippet.channelId  \\\n0    Wi49rKRM85U  2022-06-20T12:57:48Z  UCphnZS52v_lkv5RSl5n70tQ   \n1    1ErvLvQoYxc  2019-03-21T10:23:49Z  UC6C0oFYlpKkFGG-ykqM4fYw   \n2    aiY0ymL25Pw  2021-08-20T08:51:18Z  UCiT7bPorr4rKJU8WFBZA9Og   \n3    JA9E4TCVsDU  2015-12-06T14:30:40Z  UCNazbf-kLY6E8TO_o48ZExQ   \n4    NAeXVpMTiT4  2018-04-20T15:19:56Z  UCmXGqfEsluA1fID55bVexjw   \n..           ...                   ...                       ...   \n839  qlD9m8J3TQY  2016-07-04T17:27:38Z  UCxR38MntpUPDYMBR634MzbA   \n840  PpeHjrD4Xuk  2022-11-13T07:15:00Z  UCO3qqEPXZqY3-smnCt1iy4Q   \n841  xfYJyH41Jzo  2023-02-03T13:09:20Z  UCzUsVYz2Bkn3Z_dDzria3Jg   \n842  pHSkyQ59FlE  2023-01-29T10:30:25Z  UCBj3TQv9sO7Rq7NuJ7mSlaQ   \n843  CzytPTIJlec  2023-01-23T17:12:15Z  UCkDqOaRxiGAL24Q_9GB7mlw   \n\n                                         snippet.title  \\\n0    한국인들은 절대 안사는 화장품 КОСМЕТИКА КОТОРАЯ КОРЕЯНКИ ВО...   \n1    ТЫ ДОЛЖНА ЭТО ПОПРОБОВАТЬ! ЛУЧШАЯ КОРЕЙСКАЯ КО...   \n2    РЕАКЦИЯ дерматолога: 10 этапов корейского уход...   \n3    КАК Я ИСПОРТИЛА КОЖУ: КОРЕЙСКАЯ КОСМЕТИКА\\Tony...   \n4    🇰🇷 НЕВЕРОЯТНАЯ КОРЕЙСКАЯ КОСМЕТИКА! Топовые шт...   \n..                                                 ...   \n839  КОРЕЙСКАЯ КОСМЕТИКА //ТЕСТ-ОБЗОР  на ВВ крем и...   \n840  Собираем заказы в самом большом магазине корей...   \n841           #корейскаякосметика #патчидляглаз #патчи   \n842  Крем для рук Атоми  #крем #уходзаруками #корей...   \n843  видео шпаргалка📌 #косметика #shorts #корейская...   \n\n                                   snippet.description  \\\n0    подписаться: https://goo.gl/3QbeUf -----------...   \n1    Хорошие мои, сегодня я расскажу вам про свой к...   \n2    Мой телеграм: https://t.me/dr_amina_pirmanova ...   \n3    Привет! Корейская косметика снова набирает обо...   \n4    Магазин корейской косметики https://goo.gl/UJG...   \n..                                                 ...   \n839  Всем привет. Сегодня будем проверять на прочно...   \n840  Оформить заказ можно на сайте https://hollysho...   \n841                                                NaN   \n842  Корейский крем для рук Цена для зарегистрирова...   \n843                                                NaN   \n\n                     snippet.thumbnails.default.url  \\\n0    https://i.ytimg.com/vi/Wi49rKRM85U/default.jpg   \n1    https://i.ytimg.com/vi/1ErvLvQoYxc/default.jpg   \n2    https://i.ytimg.com/vi/aiY0ymL25Pw/default.jpg   \n3    https://i.ytimg.com/vi/JA9E4TCVsDU/default.jpg   \n4    https://i.ytimg.com/vi/NAeXVpMTiT4/default.jpg   \n..                                              ...   \n839  https://i.ytimg.com/vi/qlD9m8J3TQY/default.jpg   \n840  https://i.ytimg.com/vi/PpeHjrD4Xuk/default.jpg   \n841  https://i.ytimg.com/vi/xfYJyH41Jzo/default.jpg   \n842  https://i.ytimg.com/vi/pHSkyQ59FlE/default.jpg   \n843  https://i.ytimg.com/vi/CzytPTIJlec/default.jpg   \n\n     snippet.thumbnails.default.width  snippet.thumbnails.default.height  \\\n0                                 120                                 90   \n1                                 120                                 90   \n2                                 120                                 90   \n3                                 120                                 90   \n4                                 120                                 90   \n..                                ...                                ...   \n839                               120                                 90   \n840                               120                                 90   \n841                               120                                 90   \n842                               120                                 90   \n843                               120                                 90   \n\n                        snippet.thumbnails.medium.url  \\\n0    https://i.ytimg.com/vi/Wi49rKRM85U/mqdefault.jpg   \n1    https://i.ytimg.com/vi/1ErvLvQoYxc/mqdefault.jpg   \n2    https://i.ytimg.com/vi/aiY0ymL25Pw/mqdefault.jpg   \n3    https://i.ytimg.com/vi/JA9E4TCVsDU/mqdefault.jpg   \n4    https://i.ytimg.com/vi/NAeXVpMTiT4/mqdefault.jpg   \n..                                                ...   \n839  https://i.ytimg.com/vi/qlD9m8J3TQY/mqdefault.jpg   \n840  https://i.ytimg.com/vi/PpeHjrD4Xuk/mqdefault.jpg   \n841  https://i.ytimg.com/vi/xfYJyH41Jzo/mqdefault.jpg   \n842  https://i.ytimg.com/vi/pHSkyQ59FlE/mqdefault.jpg   \n843  https://i.ytimg.com/vi/CzytPTIJlec/mqdefault.jpg   \n\n     snippet.thumbnails.medium.width  snippet.thumbnails.medium.height  \\\n0                                320                               180   \n1                                320                               180   \n2                                320                               180   \n3                                320                               180   \n4                                320                               180   \n..                               ...                               ...   \n839                              320                               180   \n840                              320                               180   \n841                              320                               180   \n842                              320                               180   \n843                              320                               180   \n\n                          snippet.thumbnails.high.url  \\\n0    https://i.ytimg.com/vi/Wi49rKRM85U/hqdefault.jpg   \n1    https://i.ytimg.com/vi/1ErvLvQoYxc/hqdefault.jpg   \n2    https://i.ytimg.com/vi/aiY0ymL25Pw/hqdefault.jpg   \n3    https://i.ytimg.com/vi/JA9E4TCVsDU/hqdefault.jpg   \n4    https://i.ytimg.com/vi/NAeXVpMTiT4/hqdefault.jpg   \n..                                                ...   \n839  https://i.ytimg.com/vi/qlD9m8J3TQY/hqdefault.jpg   \n840  https://i.ytimg.com/vi/PpeHjrD4Xuk/hqdefault.jpg   \n841  https://i.ytimg.com/vi/xfYJyH41Jzo/hqdefault.jpg   \n842  https://i.ytimg.com/vi/pHSkyQ59FlE/hqdefault.jpg   \n843  https://i.ytimg.com/vi/CzytPTIJlec/hqdefault.jpg   \n\n     snippet.thumbnails.high.width  snippet.thumbnails.high.height  \\\n0                              480                             360   \n1                              480                             360   \n2                              480                             360   \n3                              480                             360   \n4                              480                             360   \n..                             ...                             ...   \n839                            480                             360   \n840                            480                             360   \n841                            480                             360   \n842                            480                             360   \n843                            480                             360   \n\n               snippet.channelTitle snippet.liveBroadcastContent  \\\n0    Kyunghamin твоя корейская онни                         none   \n1                    Pineapple Soul                         none   \n2                   Amina Pirmanova                         none   \n3                         Julie Art                         none   \n4                    Tanya StreLove                         none   \n..                              ...                          ...   \n839                      BLACK JULI                         none   \n840                       HollyShop                         none   \n841               Людмила PRO Atomy                         none   \n842   Ольга Алфеева, Атоми, Россия.                         none   \n843                    umi•umi shop                         none   \n\n      snippet.publishTime  \n0    2022-06-20T12:57:48Z  \n1    2019-03-21T10:23:49Z  \n2    2021-08-20T08:51:18Z  \n3    2015-12-06T14:30:40Z  \n4    2018-04-20T15:19:56Z  \n..                    ...  \n839  2016-07-04T17:27:38Z  \n840  2022-11-13T07:15:00Z  \n841  2023-02-03T13:09:20Z  \n842  2023-01-29T10:30:25Z  \n843  2023-01-23T17:12:15Z  \n\n[844 rows x 20 columns]",
      "text/html": "<div>\n<style scoped>\n    .dataframe tbody tr th:only-of-type {\n        vertical-align: middle;\n    }\n\n    .dataframe tbody tr th {\n        vertical-align: top;\n    }\n\n    .dataframe thead th {\n        text-align: right;\n    }\n</style>\n<table border=\"1\" class=\"dataframe\">\n  <thead>\n    <tr style=\"text-align: right;\">\n      <th></th>\n      <th>kind</th>\n      <th>etag</th>\n      <th>id.kind</th>\n      <th>id.videoId</th>\n      <th>snippet.publishedAt</th>\n      <th>snippet.channelId</th>\n      <th>snippet.title</th>\n      <th>snippet.description</th>\n      <th>snippet.thumbnails.default.url</th>\n      <th>snippet.thumbnails.default.width</th>\n      <th>snippet.thumbnails.default.height</th>\n      <th>snippet.thumbnails.medium.url</th>\n      <th>snippet.thumbnails.medium.width</th>\n      <th>snippet.thumbnails.medium.height</th>\n      <th>snippet.thumbnails.high.url</th>\n      <th>snippet.thumbnails.high.width</th>\n      <th>snippet.thumbnails.high.height</th>\n      <th>snippet.channelTitle</th>\n      <th>snippet.liveBroadcastContent</th>\n      <th>snippet.publishTime</th>\n    </tr>\n  </thead>\n  <tbody>\n    <tr>\n      <th>0</th>\n      <td>youtube#searchResult</td>\n      <td>KC_LG8xTt9DjwtELdwXsHef8Y2g</td>\n      <td>youtube#video</td>\n      <td>Wi49rKRM85U</td>\n      <td>2022-06-20T12:57:48Z</td>\n      <td>UCphnZS52v_lkv5RSl5n70tQ</td>\n      <td>한국인들은 절대 안사는 화장품 КОСМЕТИКА КОТОРАЯ КОРЕЯНКИ ВО...</td>\n      <td>подписаться: https://goo.gl/3QbeUf -----------...</td>\n      <td>https://i.ytimg.com/vi/Wi49rKRM85U/default.jpg</td>\n      <td>120</td>\n      <td>90</td>\n      <td>https://i.ytimg.com/vi/Wi49rKRM85U/mqdefault.jpg</td>\n      <td>320</td>\n      <td>180</td>\n      <td>https://i.ytimg.com/vi/Wi49rKRM85U/hqdefault.jpg</td>\n      <td>480</td>\n      <td>360</td>\n      <td>Kyunghamin твоя корейская онни</td>\n      <td>none</td>\n      <td>2022-06-20T12:57:48Z</td>\n    </tr>\n    <tr>\n      <th>1</th>\n      <td>youtube#searchResult</td>\n      <td>NjKFlYBBEw9zdA5NO0pNPxZQWW4</td>\n      <td>youtube#video</td>\n      <td>1ErvLvQoYxc</td>\n      <td>2019-03-21T10:23:49Z</td>\n      <td>UC6C0oFYlpKkFGG-ykqM4fYw</td>\n      <td>ТЫ ДОЛЖНА ЭТО ПОПРОБОВАТЬ! ЛУЧШАЯ КОРЕЙСКАЯ КО...</td>\n      <td>Хорошие мои, сегодня я расскажу вам про свой к...</td>\n      <td>https://i.ytimg.com/vi/1ErvLvQoYxc/default.jpg</td>\n      <td>120</td>\n      <td>90</td>\n      <td>https://i.ytimg.com/vi/1ErvLvQoYxc/mqdefault.jpg</td>\n      <td>320</td>\n      <td>180</td>\n      <td>https://i.ytimg.com/vi/1ErvLvQoYxc/hqdefault.jpg</td>\n      <td>480</td>\n      <td>360</td>\n      <td>Pineapple Soul</td>\n      <td>none</td>\n      <td>2019-03-21T10:23:49Z</td>\n    </tr>\n    <tr>\n      <th>2</th>\n      <td>youtube#searchResult</td>\n      <td>ZkrSJlyz8XsSTJv1_ejDaFtSKyM</td>\n      <td>youtube#video</td>\n      <td>aiY0ymL25Pw</td>\n      <td>2021-08-20T08:51:18Z</td>\n      <td>UCiT7bPorr4rKJU8WFBZA9Og</td>\n      <td>РЕАКЦИЯ дерматолога: 10 этапов корейского уход...</td>\n      <td>Мой телеграм: https://t.me/dr_amina_pirmanova ...</td>\n      <td>https://i.ytimg.com/vi/aiY0ymL25Pw/default.jpg</td>\n      <td>120</td>\n      <td>90</td>\n      <td>https://i.ytimg.com/vi/aiY0ymL25Pw/mqdefault.jpg</td>\n      <td>320</td>\n      <td>180</td>\n      <td>https://i.ytimg.com/vi/aiY0ymL25Pw/hqdefault.jpg</td>\n      <td>480</td>\n      <td>360</td>\n      <td>Amina Pirmanova</td>\n      <td>none</td>\n      <td>2021-08-20T08:51:18Z</td>\n    </tr>\n    <tr>\n      <th>3</th>\n      <td>youtube#searchResult</td>\n      <td>uSLsO6jgTFGew3isXWNKN2IEIu0</td>\n      <td>youtube#video</td>\n      <td>JA9E4TCVsDU</td>\n      <td>2015-12-06T14:30:40Z</td>\n      <td>UCNazbf-kLY6E8TO_o48ZExQ</td>\n      <td>КАК Я ИСПОРТИЛА КОЖУ: КОРЕЙСКАЯ КОСМЕТИКА\\Tony...</td>\n      <td>Привет! Корейская косметика снова набирает обо...</td>\n      <td>https://i.ytimg.com/vi/JA9E4TCVsDU/default.jpg</td>\n      <td>120</td>\n      <td>90</td>\n      <td>https://i.ytimg.com/vi/JA9E4TCVsDU/mqdefault.jpg</td>\n      <td>320</td>\n      <td>180</td>\n      <td>https://i.ytimg.com/vi/JA9E4TCVsDU/hqdefault.jpg</td>\n      <td>480</td>\n      <td>360</td>\n      <td>Julie Art</td>\n      <td>none</td>\n      <td>2015-12-06T14:30:40Z</td>\n    </tr>\n    <tr>\n      <th>4</th>\n      <td>youtube#searchResult</td>\n      <td>6kkxWnMmA0vx1FI_Ur5fXgKuR6k</td>\n      <td>youtube#video</td>\n      <td>NAeXVpMTiT4</td>\n      <td>2018-04-20T15:19:56Z</td>\n      <td>UCmXGqfEsluA1fID55bVexjw</td>\n      <td>🇰🇷 НЕВЕРОЯТНАЯ КОРЕЙСКАЯ КОСМЕТИКА! Топовые шт...</td>\n      <td>Магазин корейской косметики https://goo.gl/UJG...</td>\n      <td>https://i.ytimg.com/vi/NAeXVpMTiT4/default.jpg</td>\n      <td>120</td>\n      <td>90</td>\n      <td>https://i.ytimg.com/vi/NAeXVpMTiT4/mqdefault.jpg</td>\n      <td>320</td>\n      <td>180</td>\n      <td>https://i.ytimg.com/vi/NAeXVpMTiT4/hqdefault.jpg</td>\n      <td>480</td>\n      <td>360</td>\n      <td>Tanya StreLove</td>\n      <td>none</td>\n      <td>2018-04-20T15:19:56Z</td>\n    </tr>\n    <tr>\n      <th>...</th>\n      <td>...</td>\n      <td>...</td>\n      <td>...</td>\n      <td>...</td>\n      <td>...</td>\n      <td>...</td>\n      <td>...</td>\n      <td>...</td>\n      <td>...</td>\n      <td>...</td>\n      <td>...</td>\n      <td>...</td>\n      <td>...</td>\n      <td>...</td>\n      <td>...</td>\n      <td>...</td>\n      <td>...</td>\n      <td>...</td>\n      <td>...</td>\n      <td>...</td>\n    </tr>\n    <tr>\n      <th>839</th>\n      <td>youtube#searchResult</td>\n      <td>f3HYyDBsKLbApf-tmZUweUTgh9A</td>\n      <td>youtube#video</td>\n      <td>qlD9m8J3TQY</td>\n      <td>2016-07-04T17:27:38Z</td>\n      <td>UCxR38MntpUPDYMBR634MzbA</td>\n      <td>КОРЕЙСКАЯ КОСМЕТИКА //ТЕСТ-ОБЗОР  на ВВ крем и...</td>\n      <td>Всем привет. Сегодня будем проверять на прочно...</td>\n      <td>https://i.ytimg.com/vi/qlD9m8J3TQY/default.jpg</td>\n      <td>120</td>\n      <td>90</td>\n      <td>https://i.ytimg.com/vi/qlD9m8J3TQY/mqdefault.jpg</td>\n      <td>320</td>\n      <td>180</td>\n      <td>https://i.ytimg.com/vi/qlD9m8J3TQY/hqdefault.jpg</td>\n      <td>480</td>\n      <td>360</td>\n      <td>BLACK JULI</td>\n      <td>none</td>\n      <td>2016-07-04T17:27:38Z</td>\n    </tr>\n    <tr>\n      <th>840</th>\n      <td>youtube#searchResult</td>\n      <td>Vdhvbu-ZRFBIpsWL777-JEt1ksA</td>\n      <td>youtube#video</td>\n      <td>PpeHjrD4Xuk</td>\n      <td>2022-11-13T07:15:00Z</td>\n      <td>UCO3qqEPXZqY3-smnCt1iy4Q</td>\n      <td>Собираем заказы в самом большом магазине корей...</td>\n      <td>Оформить заказ можно на сайте https://hollysho...</td>\n      <td>https://i.ytimg.com/vi/PpeHjrD4Xuk/default.jpg</td>\n      <td>120</td>\n      <td>90</td>\n      <td>https://i.ytimg.com/vi/PpeHjrD4Xuk/mqdefault.jpg</td>\n      <td>320</td>\n      <td>180</td>\n      <td>https://i.ytimg.com/vi/PpeHjrD4Xuk/hqdefault.jpg</td>\n      <td>480</td>\n      <td>360</td>\n      <td>HollyShop</td>\n      <td>none</td>\n      <td>2022-11-13T07:15:00Z</td>\n    </tr>\n    <tr>\n      <th>841</th>\n      <td>youtube#searchResult</td>\n      <td>Ey17lP7m-oTNxjDLaIQMYZXgtSE</td>\n      <td>youtube#video</td>\n      <td>xfYJyH41Jzo</td>\n      <td>2023-02-03T13:09:20Z</td>\n      <td>UCzUsVYz2Bkn3Z_dDzria3Jg</td>\n      <td>#корейскаякосметика #патчидляглаз #патчи</td>\n      <td>NaN</td>\n      <td>https://i.ytimg.com/vi/xfYJyH41Jzo/default.jpg</td>\n      <td>120</td>\n      <td>90</td>\n      <td>https://i.ytimg.com/vi/xfYJyH41Jzo/mqdefault.jpg</td>\n      <td>320</td>\n      <td>180</td>\n      <td>https://i.ytimg.com/vi/xfYJyH41Jzo/hqdefault.jpg</td>\n      <td>480</td>\n      <td>360</td>\n      <td>Людмила PRO Atomy</td>\n      <td>none</td>\n      <td>2023-02-03T13:09:20Z</td>\n    </tr>\n    <tr>\n      <th>842</th>\n      <td>youtube#searchResult</td>\n      <td>vbnVvWSJEnukOHrkKJCy6ahWST8</td>\n      <td>youtube#video</td>\n      <td>pHSkyQ59FlE</td>\n      <td>2023-01-29T10:30:25Z</td>\n      <td>UCBj3TQv9sO7Rq7NuJ7mSlaQ</td>\n      <td>Крем для рук Атоми  #крем #уходзаруками #корей...</td>\n      <td>Корейский крем для рук Цена для зарегистрирова...</td>\n      <td>https://i.ytimg.com/vi/pHSkyQ59FlE/default.jpg</td>\n      <td>120</td>\n      <td>90</td>\n      <td>https://i.ytimg.com/vi/pHSkyQ59FlE/mqdefault.jpg</td>\n      <td>320</td>\n      <td>180</td>\n      <td>https://i.ytimg.com/vi/pHSkyQ59FlE/hqdefault.jpg</td>\n      <td>480</td>\n      <td>360</td>\n      <td>Ольга Алфеева, Атоми, Россия.</td>\n      <td>none</td>\n      <td>2023-01-29T10:30:25Z</td>\n    </tr>\n    <tr>\n      <th>843</th>\n      <td>youtube#searchResult</td>\n      <td>1aC4MeJ9At6CSZDUO9CLHFdnUYE</td>\n      <td>youtube#video</td>\n      <td>CzytPTIJlec</td>\n      <td>2023-01-23T17:12:15Z</td>\n      <td>UCkDqOaRxiGAL24Q_9GB7mlw</td>\n      <td>видео шпаргалка📌 #косметика #shorts #корейская...</td>\n      <td>NaN</td>\n      <td>https://i.ytimg.com/vi/CzytPTIJlec/default.jpg</td>\n      <td>120</td>\n      <td>90</td>\n      <td>https://i.ytimg.com/vi/CzytPTIJlec/mqdefault.jpg</td>\n      <td>320</td>\n      <td>180</td>\n      <td>https://i.ytimg.com/vi/CzytPTIJlec/hqdefault.jpg</td>\n      <td>480</td>\n      <td>360</td>\n      <td>umi•umi shop</td>\n      <td>none</td>\n      <td>2023-01-23T17:12:15Z</td>\n    </tr>\n  </tbody>\n</table>\n<p>844 rows × 20 columns</p>\n</div>"
     },
     "execution_count": 16,
     "metadata": {},
     "output_type": "execute_result"
    }
   ],
   "source": [
    "df_supplemented = pd.read_excel(DATA_PATH / f'{type_query.capitalize()}_Not_sorted+Sorted.xlsx')\n",
    "# возврат к выдаче без учета date; указание, что индекс в первом столбце\n",
    "df_supplemented"
   ]
  },
  {
   "cell_type": "code",
   "execution_count": 24,
   "id": "168e7407",
   "metadata": {},
   "outputs": [
    {
     "name": "stdout",
     "output_type": "stream",
     "text": [
      "Итерация №0, \"date\" 2020-01-01T - 2022-01-01T\n",
      "Итерация №1, \"date\" 2020-01-01T - 2022-01-01T\n",
      "Итерация №2, \"date\" 2020-01-01T - 2022-01-01T\n",
      "Итерация №3, \"date\" 2020-01-01T - 2022-01-01T\n",
      "Итерация №4, \"date\" 2020-01-01T - 2022-01-01T\n",
      "Итерация №5, \"date\" 2020-01-01T - 2022-01-01T\n",
      "Итерация №6, \"date\" 2020-01-01T - 2022-01-01T\n",
      "Итерация №7, \"date\" 2020-01-01T - 2022-01-01T\n",
      "Итерация №8, \"date\" 2020-01-01T - 2022-01-01T\n",
      "Итерация №9, \"date\" 2020-01-01T - 2022-01-01T\n",
      "Искомых объектов 434141 а найденных БЕЗ включения каких-либо значений аргумента order 465\n"
     ]
    }
   ],
   "source": [
    "#19.1 Запросы БЕЗ включения аргумента order, но с учетом даты\n",
    "# Первый заход:\n",
    "request = youtube.search().list(\n",
    "        part =\"snippet\",\n",
    "        maxResults=50,\n",
    "        q = query,\n",
    "        regionCode =\"RU\",\n",
    "        type = type_query,\n",
    "        publishedAfter=publishedAfter,\n",
    "        publishedBefore=publishedBefore\n",
    ")\n",
    "response = request.execute()  \n",
    "   \n",
    "df_supplemented = pd.json_normalize(response['items'])\n",
    "   \n",
    "    # Цикл для прохода по всем следующим страницам с выдачей:\n",
    "i = 0\n",
    "while 'nextPageToken' in response.keys():\n",
    "    request = youtube.search().list(\n",
    "            part =\"snippet\",\n",
    "            maxResults=50,\n",
    "            q = query,\n",
    "            regionCode =\"RU\",\n",
    "            type = type_query,\n",
    "            pageToken = response['nextPageToken'],\n",
    "            publishedAfter=publishedAfter,\n",
    "            publishedBefore=publishedBefore\n",
    "    )\n",
    "    response = request.execute()  \n",
    "    \n",
    "    print(f'Итерация №{i}, \"date\" {publishedAfter[:11]} - {publishedBefore[:11]}')\n",
    "    i += 1\n",
    "        \n",
    "    df_additional = pd.json_normalize(response['items'])\n",
    "    df_supplemented = pd.concat([df_supplemented, df_additional])\n",
    "    \n",
    "    \n",
    "\n",
    "print(f\"Искомых объектов {response['pageInfo']['totalResults']}\", \\\n",
    "      f\"а найденных БЕЗ включения каких-либо значений аргумента order {len(df_supplemented.drop_duplicates(f'id.{type_query}Id'))}\")"
   ]
  },
  {
   "cell_type": "code",
   "execution_count": 25,
   "id": "ce726c8a",
   "metadata": {},
   "outputs": [],
   "source": [
    "# 19.2\n",
    "# Цикл для прохода по значениям аргумента order, внутри которых проход по всем страницам выдачи:\n",
    "# Думаю, можно не выполнять, так как большинство включено в искомые объекты"
   ]
  },
  {
   "cell_type": "code",
   "execution_count": 26,
   "id": "1abc7849",
   "metadata": {},
   "outputs": [
    {
     "data": {
      "text/plain": "                                             etag        id.kind   id.videoId  \\\nkind                                                                            \nyoutube#searchResult  KC_LG8xTt9DjwtELdwXsHef8Y2g  youtube#video  Wi49rKRM85U   \nyoutube#searchResult  NjKFlYBBEw9zdA5NO0pNPxZQWW4  youtube#video  1ErvLvQoYxc   \nyoutube#searchResult  ZkrSJlyz8XsSTJv1_ejDaFtSKyM  youtube#video  aiY0ymL25Pw   \nyoutube#searchResult  uSLsO6jgTFGew3isXWNKN2IEIu0  youtube#video  JA9E4TCVsDU   \nyoutube#searchResult  6kkxWnMmA0vx1FI_Ur5fXgKuR6k  youtube#video  NAeXVpMTiT4   \n...                                           ...            ...          ...   \nyoutube#searchResult  f3HYyDBsKLbApf-tmZUweUTgh9A  youtube#video  qlD9m8J3TQY   \nyoutube#searchResult  Vdhvbu-ZRFBIpsWL777-JEt1ksA  youtube#video  PpeHjrD4Xuk   \nyoutube#searchResult  Ey17lP7m-oTNxjDLaIQMYZXgtSE  youtube#video  xfYJyH41Jzo   \nyoutube#searchResult  vbnVvWSJEnukOHrkKJCy6ahWST8  youtube#video  pHSkyQ59FlE   \nyoutube#searchResult  1aC4MeJ9At6CSZDUO9CLHFdnUYE  youtube#video  CzytPTIJlec   \n\n                       snippet.publishedAt         snippet.channelId  \\\nkind                                                                   \nyoutube#searchResult  2022-06-20T12:57:48Z  UCphnZS52v_lkv5RSl5n70tQ   \nyoutube#searchResult  2019-03-21T10:23:49Z  UC6C0oFYlpKkFGG-ykqM4fYw   \nyoutube#searchResult  2021-08-20T08:51:18Z  UCiT7bPorr4rKJU8WFBZA9Og   \nyoutube#searchResult  2015-12-06T14:30:40Z  UCNazbf-kLY6E8TO_o48ZExQ   \nyoutube#searchResult  2018-04-20T15:19:56Z  UCmXGqfEsluA1fID55bVexjw   \n...                                    ...                       ...   \nyoutube#searchResult  2016-07-04T17:27:38Z  UCxR38MntpUPDYMBR634MzbA   \nyoutube#searchResult  2022-11-13T07:15:00Z  UCO3qqEPXZqY3-smnCt1iy4Q   \nyoutube#searchResult  2023-02-03T13:09:20Z  UCzUsVYz2Bkn3Z_dDzria3Jg   \nyoutube#searchResult  2023-01-29T10:30:25Z  UCBj3TQv9sO7Rq7NuJ7mSlaQ   \nyoutube#searchResult  2023-01-23T17:12:15Z  UCkDqOaRxiGAL24Q_9GB7mlw   \n\n                                                          snippet.title  \\\nkind                                                                      \nyoutube#searchResult  한국인들은 절대 안사는 화장품 КОСМЕТИКА КОТОРАЯ КОРЕЯНКИ ВО...   \nyoutube#searchResult  ТЫ ДОЛЖНА ЭТО ПОПРОБОВАТЬ! ЛУЧШАЯ КОРЕЙСКАЯ КО...   \nyoutube#searchResult  РЕАКЦИЯ дерматолога: 10 этапов корейского уход...   \nyoutube#searchResult  КАК Я ИСПОРТИЛА КОЖУ: КОРЕЙСКАЯ КОСМЕТИКА\\Tony...   \nyoutube#searchResult  🇰🇷 НЕВЕРОЯТНАЯ КОРЕЙСКАЯ КОСМЕТИКА! Топовые шт...   \n...                                                                 ...   \nyoutube#searchResult  КОРЕЙСКАЯ КОСМЕТИКА //ТЕСТ-ОБЗОР  на ВВ крем и...   \nyoutube#searchResult  Собираем заказы в самом большом магазине корей...   \nyoutube#searchResult           #корейскаякосметика #патчидляглаз #патчи   \nyoutube#searchResult  Крем для рук Атоми  #крем #уходзаруками #корей...   \nyoutube#searchResult  видео шпаргалка📌 #косметика #shorts #корейская...   \n\n                                                    snippet.description  \\\nkind                                                                      \nyoutube#searchResult  подписаться: https://goo.gl/3QbeUf -----------...   \nyoutube#searchResult  Хорошие мои, сегодня я расскажу вам про свой к...   \nyoutube#searchResult  Мой телеграм: https://t.me/dr_amina_pirmanova ...   \nyoutube#searchResult  Привет! Корейская косметика снова набирает обо...   \nyoutube#searchResult  Магазин корейской косметики https://goo.gl/UJG...   \n...                                                                 ...   \nyoutube#searchResult  Всем привет. Сегодня будем проверять на прочно...   \nyoutube#searchResult  Оформить заказ можно на сайте https://hollysho...   \nyoutube#searchResult                                                NaN   \nyoutube#searchResult  Корейский крем для рук Цена для зарегистрирова...   \nyoutube#searchResult                                                NaN   \n\n                                      snippet.thumbnails.default.url  \\\nkind                                                                   \nyoutube#searchResult  https://i.ytimg.com/vi/Wi49rKRM85U/default.jpg   \nyoutube#searchResult  https://i.ytimg.com/vi/1ErvLvQoYxc/default.jpg   \nyoutube#searchResult  https://i.ytimg.com/vi/aiY0ymL25Pw/default.jpg   \nyoutube#searchResult  https://i.ytimg.com/vi/JA9E4TCVsDU/default.jpg   \nyoutube#searchResult  https://i.ytimg.com/vi/NAeXVpMTiT4/default.jpg   \n...                                                              ...   \nyoutube#searchResult  https://i.ytimg.com/vi/qlD9m8J3TQY/default.jpg   \nyoutube#searchResult  https://i.ytimg.com/vi/PpeHjrD4Xuk/default.jpg   \nyoutube#searchResult  https://i.ytimg.com/vi/xfYJyH41Jzo/default.jpg   \nyoutube#searchResult  https://i.ytimg.com/vi/pHSkyQ59FlE/default.jpg   \nyoutube#searchResult  https://i.ytimg.com/vi/CzytPTIJlec/default.jpg   \n\n                      snippet.thumbnails.default.width  \\\nkind                                                     \nyoutube#searchResult                               120   \nyoutube#searchResult                               120   \nyoutube#searchResult                               120   \nyoutube#searchResult                               120   \nyoutube#searchResult                               120   \n...                                                ...   \nyoutube#searchResult                               120   \nyoutube#searchResult                               120   \nyoutube#searchResult                               120   \nyoutube#searchResult                               120   \nyoutube#searchResult                               120   \n\n                      snippet.thumbnails.default.height  \\\nkind                                                      \nyoutube#searchResult                                 90   \nyoutube#searchResult                                 90   \nyoutube#searchResult                                 90   \nyoutube#searchResult                                 90   \nyoutube#searchResult                                 90   \n...                                                 ...   \nyoutube#searchResult                                 90   \nyoutube#searchResult                                 90   \nyoutube#searchResult                                 90   \nyoutube#searchResult                                 90   \nyoutube#searchResult                                 90   \n\n                                         snippet.thumbnails.medium.url  \\\nkind                                                                     \nyoutube#searchResult  https://i.ytimg.com/vi/Wi49rKRM85U/mqdefault.jpg   \nyoutube#searchResult  https://i.ytimg.com/vi/1ErvLvQoYxc/mqdefault.jpg   \nyoutube#searchResult  https://i.ytimg.com/vi/aiY0ymL25Pw/mqdefault.jpg   \nyoutube#searchResult  https://i.ytimg.com/vi/JA9E4TCVsDU/mqdefault.jpg   \nyoutube#searchResult  https://i.ytimg.com/vi/NAeXVpMTiT4/mqdefault.jpg   \n...                                                                ...   \nyoutube#searchResult  https://i.ytimg.com/vi/qlD9m8J3TQY/mqdefault.jpg   \nyoutube#searchResult  https://i.ytimg.com/vi/PpeHjrD4Xuk/mqdefault.jpg   \nyoutube#searchResult  https://i.ytimg.com/vi/xfYJyH41Jzo/mqdefault.jpg   \nyoutube#searchResult  https://i.ytimg.com/vi/pHSkyQ59FlE/mqdefault.jpg   \nyoutube#searchResult  https://i.ytimg.com/vi/CzytPTIJlec/mqdefault.jpg   \n\n                      snippet.thumbnails.medium.width  \\\nkind                                                    \nyoutube#searchResult                              320   \nyoutube#searchResult                              320   \nyoutube#searchResult                              320   \nyoutube#searchResult                              320   \nyoutube#searchResult                              320   \n...                                               ...   \nyoutube#searchResult                              320   \nyoutube#searchResult                              320   \nyoutube#searchResult                              320   \nyoutube#searchResult                              320   \nyoutube#searchResult                              320   \n\n                      snippet.thumbnails.medium.height  \\\nkind                                                     \nyoutube#searchResult                               180   \nyoutube#searchResult                               180   \nyoutube#searchResult                               180   \nyoutube#searchResult                               180   \nyoutube#searchResult                               180   \n...                                                ...   \nyoutube#searchResult                               180   \nyoutube#searchResult                               180   \nyoutube#searchResult                               180   \nyoutube#searchResult                               180   \nyoutube#searchResult                               180   \n\n                                           snippet.thumbnails.high.url  \\\nkind                                                                     \nyoutube#searchResult  https://i.ytimg.com/vi/Wi49rKRM85U/hqdefault.jpg   \nyoutube#searchResult  https://i.ytimg.com/vi/1ErvLvQoYxc/hqdefault.jpg   \nyoutube#searchResult  https://i.ytimg.com/vi/aiY0ymL25Pw/hqdefault.jpg   \nyoutube#searchResult  https://i.ytimg.com/vi/JA9E4TCVsDU/hqdefault.jpg   \nyoutube#searchResult  https://i.ytimg.com/vi/NAeXVpMTiT4/hqdefault.jpg   \n...                                                                ...   \nyoutube#searchResult  https://i.ytimg.com/vi/qlD9m8J3TQY/hqdefault.jpg   \nyoutube#searchResult  https://i.ytimg.com/vi/PpeHjrD4Xuk/hqdefault.jpg   \nyoutube#searchResult  https://i.ytimg.com/vi/xfYJyH41Jzo/hqdefault.jpg   \nyoutube#searchResult  https://i.ytimg.com/vi/pHSkyQ59FlE/hqdefault.jpg   \nyoutube#searchResult  https://i.ytimg.com/vi/CzytPTIJlec/hqdefault.jpg   \n\n                      snippet.thumbnails.high.width  \\\nkind                                                  \nyoutube#searchResult                            480   \nyoutube#searchResult                            480   \nyoutube#searchResult                            480   \nyoutube#searchResult                            480   \nyoutube#searchResult                            480   \n...                                             ...   \nyoutube#searchResult                            480   \nyoutube#searchResult                            480   \nyoutube#searchResult                            480   \nyoutube#searchResult                            480   \nyoutube#searchResult                            480   \n\n                      snippet.thumbnails.high.height  \\\nkind                                                   \nyoutube#searchResult                             360   \nyoutube#searchResult                             360   \nyoutube#searchResult                             360   \nyoutube#searchResult                             360   \nyoutube#searchResult                             360   \n...                                              ...   \nyoutube#searchResult                             360   \nyoutube#searchResult                             360   \nyoutube#searchResult                             360   \nyoutube#searchResult                             360   \nyoutube#searchResult                             360   \n\n                                snippet.channelTitle  \\\nkind                                                   \nyoutube#searchResult  Kyunghamin твоя корейская онни   \nyoutube#searchResult                  Pineapple Soul   \nyoutube#searchResult                 Amina Pirmanova   \nyoutube#searchResult                       Julie Art   \nyoutube#searchResult                  Tanya StreLove   \n...                                              ...   \nyoutube#searchResult                      BLACK JULI   \nyoutube#searchResult                       HollyShop   \nyoutube#searchResult               Людмила PRO Atomy   \nyoutube#searchResult   Ольга Алфеева, Атоми, Россия.   \nyoutube#searchResult                    umi•umi shop   \n\n                     snippet.liveBroadcastContent   snippet.publishTime  \nkind                                                                     \nyoutube#searchResult                         none  2022-06-20T12:57:48Z  \nyoutube#searchResult                         none  2019-03-21T10:23:49Z  \nyoutube#searchResult                         none  2021-08-20T08:51:18Z  \nyoutube#searchResult                         none  2015-12-06T14:30:40Z  \nyoutube#searchResult                         none  2018-04-20T15:19:56Z  \n...                                           ...                   ...  \nyoutube#searchResult                         none  2016-07-04T17:27:38Z  \nyoutube#searchResult                         none  2022-11-13T07:15:00Z  \nyoutube#searchResult                         none  2023-02-03T13:09:20Z  \nyoutube#searchResult                         none  2023-01-29T10:30:25Z  \nyoutube#searchResult                         none  2023-01-23T17:12:15Z  \n\n[844 rows x 19 columns]",
      "text/html": "<div>\n<style scoped>\n    .dataframe tbody tr th:only-of-type {\n        vertical-align: middle;\n    }\n\n    .dataframe tbody tr th {\n        vertical-align: top;\n    }\n\n    .dataframe thead th {\n        text-align: right;\n    }\n</style>\n<table border=\"1\" class=\"dataframe\">\n  <thead>\n    <tr style=\"text-align: right;\">\n      <th></th>\n      <th>etag</th>\n      <th>id.kind</th>\n      <th>id.videoId</th>\n      <th>snippet.publishedAt</th>\n      <th>snippet.channelId</th>\n      <th>snippet.title</th>\n      <th>snippet.description</th>\n      <th>snippet.thumbnails.default.url</th>\n      <th>snippet.thumbnails.default.width</th>\n      <th>snippet.thumbnails.default.height</th>\n      <th>snippet.thumbnails.medium.url</th>\n      <th>snippet.thumbnails.medium.width</th>\n      <th>snippet.thumbnails.medium.height</th>\n      <th>snippet.thumbnails.high.url</th>\n      <th>snippet.thumbnails.high.width</th>\n      <th>snippet.thumbnails.high.height</th>\n      <th>snippet.channelTitle</th>\n      <th>snippet.liveBroadcastContent</th>\n      <th>snippet.publishTime</th>\n    </tr>\n    <tr>\n      <th>kind</th>\n      <th></th>\n      <th></th>\n      <th></th>\n      <th></th>\n      <th></th>\n      <th></th>\n      <th></th>\n      <th></th>\n      <th></th>\n      <th></th>\n      <th></th>\n      <th></th>\n      <th></th>\n      <th></th>\n      <th></th>\n      <th></th>\n      <th></th>\n      <th></th>\n      <th></th>\n    </tr>\n  </thead>\n  <tbody>\n    <tr>\n      <th>youtube#searchResult</th>\n      <td>KC_LG8xTt9DjwtELdwXsHef8Y2g</td>\n      <td>youtube#video</td>\n      <td>Wi49rKRM85U</td>\n      <td>2022-06-20T12:57:48Z</td>\n      <td>UCphnZS52v_lkv5RSl5n70tQ</td>\n      <td>한국인들은 절대 안사는 화장품 КОСМЕТИКА КОТОРАЯ КОРЕЯНКИ ВО...</td>\n      <td>подписаться: https://goo.gl/3QbeUf -----------...</td>\n      <td>https://i.ytimg.com/vi/Wi49rKRM85U/default.jpg</td>\n      <td>120</td>\n      <td>90</td>\n      <td>https://i.ytimg.com/vi/Wi49rKRM85U/mqdefault.jpg</td>\n      <td>320</td>\n      <td>180</td>\n      <td>https://i.ytimg.com/vi/Wi49rKRM85U/hqdefault.jpg</td>\n      <td>480</td>\n      <td>360</td>\n      <td>Kyunghamin твоя корейская онни</td>\n      <td>none</td>\n      <td>2022-06-20T12:57:48Z</td>\n    </tr>\n    <tr>\n      <th>youtube#searchResult</th>\n      <td>NjKFlYBBEw9zdA5NO0pNPxZQWW4</td>\n      <td>youtube#video</td>\n      <td>1ErvLvQoYxc</td>\n      <td>2019-03-21T10:23:49Z</td>\n      <td>UC6C0oFYlpKkFGG-ykqM4fYw</td>\n      <td>ТЫ ДОЛЖНА ЭТО ПОПРОБОВАТЬ! ЛУЧШАЯ КОРЕЙСКАЯ КО...</td>\n      <td>Хорошие мои, сегодня я расскажу вам про свой к...</td>\n      <td>https://i.ytimg.com/vi/1ErvLvQoYxc/default.jpg</td>\n      <td>120</td>\n      <td>90</td>\n      <td>https://i.ytimg.com/vi/1ErvLvQoYxc/mqdefault.jpg</td>\n      <td>320</td>\n      <td>180</td>\n      <td>https://i.ytimg.com/vi/1ErvLvQoYxc/hqdefault.jpg</td>\n      <td>480</td>\n      <td>360</td>\n      <td>Pineapple Soul</td>\n      <td>none</td>\n      <td>2019-03-21T10:23:49Z</td>\n    </tr>\n    <tr>\n      <th>youtube#searchResult</th>\n      <td>ZkrSJlyz8XsSTJv1_ejDaFtSKyM</td>\n      <td>youtube#video</td>\n      <td>aiY0ymL25Pw</td>\n      <td>2021-08-20T08:51:18Z</td>\n      <td>UCiT7bPorr4rKJU8WFBZA9Og</td>\n      <td>РЕАКЦИЯ дерматолога: 10 этапов корейского уход...</td>\n      <td>Мой телеграм: https://t.me/dr_amina_pirmanova ...</td>\n      <td>https://i.ytimg.com/vi/aiY0ymL25Pw/default.jpg</td>\n      <td>120</td>\n      <td>90</td>\n      <td>https://i.ytimg.com/vi/aiY0ymL25Pw/mqdefault.jpg</td>\n      <td>320</td>\n      <td>180</td>\n      <td>https://i.ytimg.com/vi/aiY0ymL25Pw/hqdefault.jpg</td>\n      <td>480</td>\n      <td>360</td>\n      <td>Amina Pirmanova</td>\n      <td>none</td>\n      <td>2021-08-20T08:51:18Z</td>\n    </tr>\n    <tr>\n      <th>youtube#searchResult</th>\n      <td>uSLsO6jgTFGew3isXWNKN2IEIu0</td>\n      <td>youtube#video</td>\n      <td>JA9E4TCVsDU</td>\n      <td>2015-12-06T14:30:40Z</td>\n      <td>UCNazbf-kLY6E8TO_o48ZExQ</td>\n      <td>КАК Я ИСПОРТИЛА КОЖУ: КОРЕЙСКАЯ КОСМЕТИКА\\Tony...</td>\n      <td>Привет! Корейская косметика снова набирает обо...</td>\n      <td>https://i.ytimg.com/vi/JA9E4TCVsDU/default.jpg</td>\n      <td>120</td>\n      <td>90</td>\n      <td>https://i.ytimg.com/vi/JA9E4TCVsDU/mqdefault.jpg</td>\n      <td>320</td>\n      <td>180</td>\n      <td>https://i.ytimg.com/vi/JA9E4TCVsDU/hqdefault.jpg</td>\n      <td>480</td>\n      <td>360</td>\n      <td>Julie Art</td>\n      <td>none</td>\n      <td>2015-12-06T14:30:40Z</td>\n    </tr>\n    <tr>\n      <th>youtube#searchResult</th>\n      <td>6kkxWnMmA0vx1FI_Ur5fXgKuR6k</td>\n      <td>youtube#video</td>\n      <td>NAeXVpMTiT4</td>\n      <td>2018-04-20T15:19:56Z</td>\n      <td>UCmXGqfEsluA1fID55bVexjw</td>\n      <td>🇰🇷 НЕВЕРОЯТНАЯ КОРЕЙСКАЯ КОСМЕТИКА! Топовые шт...</td>\n      <td>Магазин корейской косметики https://goo.gl/UJG...</td>\n      <td>https://i.ytimg.com/vi/NAeXVpMTiT4/default.jpg</td>\n      <td>120</td>\n      <td>90</td>\n      <td>https://i.ytimg.com/vi/NAeXVpMTiT4/mqdefault.jpg</td>\n      <td>320</td>\n      <td>180</td>\n      <td>https://i.ytimg.com/vi/NAeXVpMTiT4/hqdefault.jpg</td>\n      <td>480</td>\n      <td>360</td>\n      <td>Tanya StreLove</td>\n      <td>none</td>\n      <td>2018-04-20T15:19:56Z</td>\n    </tr>\n    <tr>\n      <th>...</th>\n      <td>...</td>\n      <td>...</td>\n      <td>...</td>\n      <td>...</td>\n      <td>...</td>\n      <td>...</td>\n      <td>...</td>\n      <td>...</td>\n      <td>...</td>\n      <td>...</td>\n      <td>...</td>\n      <td>...</td>\n      <td>...</td>\n      <td>...</td>\n      <td>...</td>\n      <td>...</td>\n      <td>...</td>\n      <td>...</td>\n      <td>...</td>\n    </tr>\n    <tr>\n      <th>youtube#searchResult</th>\n      <td>f3HYyDBsKLbApf-tmZUweUTgh9A</td>\n      <td>youtube#video</td>\n      <td>qlD9m8J3TQY</td>\n      <td>2016-07-04T17:27:38Z</td>\n      <td>UCxR38MntpUPDYMBR634MzbA</td>\n      <td>КОРЕЙСКАЯ КОСМЕТИКА //ТЕСТ-ОБЗОР  на ВВ крем и...</td>\n      <td>Всем привет. Сегодня будем проверять на прочно...</td>\n      <td>https://i.ytimg.com/vi/qlD9m8J3TQY/default.jpg</td>\n      <td>120</td>\n      <td>90</td>\n      <td>https://i.ytimg.com/vi/qlD9m8J3TQY/mqdefault.jpg</td>\n      <td>320</td>\n      <td>180</td>\n      <td>https://i.ytimg.com/vi/qlD9m8J3TQY/hqdefault.jpg</td>\n      <td>480</td>\n      <td>360</td>\n      <td>BLACK JULI</td>\n      <td>none</td>\n      <td>2016-07-04T17:27:38Z</td>\n    </tr>\n    <tr>\n      <th>youtube#searchResult</th>\n      <td>Vdhvbu-ZRFBIpsWL777-JEt1ksA</td>\n      <td>youtube#video</td>\n      <td>PpeHjrD4Xuk</td>\n      <td>2022-11-13T07:15:00Z</td>\n      <td>UCO3qqEPXZqY3-smnCt1iy4Q</td>\n      <td>Собираем заказы в самом большом магазине корей...</td>\n      <td>Оформить заказ можно на сайте https://hollysho...</td>\n      <td>https://i.ytimg.com/vi/PpeHjrD4Xuk/default.jpg</td>\n      <td>120</td>\n      <td>90</td>\n      <td>https://i.ytimg.com/vi/PpeHjrD4Xuk/mqdefault.jpg</td>\n      <td>320</td>\n      <td>180</td>\n      <td>https://i.ytimg.com/vi/PpeHjrD4Xuk/hqdefault.jpg</td>\n      <td>480</td>\n      <td>360</td>\n      <td>HollyShop</td>\n      <td>none</td>\n      <td>2022-11-13T07:15:00Z</td>\n    </tr>\n    <tr>\n      <th>youtube#searchResult</th>\n      <td>Ey17lP7m-oTNxjDLaIQMYZXgtSE</td>\n      <td>youtube#video</td>\n      <td>xfYJyH41Jzo</td>\n      <td>2023-02-03T13:09:20Z</td>\n      <td>UCzUsVYz2Bkn3Z_dDzria3Jg</td>\n      <td>#корейскаякосметика #патчидляглаз #патчи</td>\n      <td>NaN</td>\n      <td>https://i.ytimg.com/vi/xfYJyH41Jzo/default.jpg</td>\n      <td>120</td>\n      <td>90</td>\n      <td>https://i.ytimg.com/vi/xfYJyH41Jzo/mqdefault.jpg</td>\n      <td>320</td>\n      <td>180</td>\n      <td>https://i.ytimg.com/vi/xfYJyH41Jzo/hqdefault.jpg</td>\n      <td>480</td>\n      <td>360</td>\n      <td>Людмила PRO Atomy</td>\n      <td>none</td>\n      <td>2023-02-03T13:09:20Z</td>\n    </tr>\n    <tr>\n      <th>youtube#searchResult</th>\n      <td>vbnVvWSJEnukOHrkKJCy6ahWST8</td>\n      <td>youtube#video</td>\n      <td>pHSkyQ59FlE</td>\n      <td>2023-01-29T10:30:25Z</td>\n      <td>UCBj3TQv9sO7Rq7NuJ7mSlaQ</td>\n      <td>Крем для рук Атоми  #крем #уходзаруками #корей...</td>\n      <td>Корейский крем для рук Цена для зарегистрирова...</td>\n      <td>https://i.ytimg.com/vi/pHSkyQ59FlE/default.jpg</td>\n      <td>120</td>\n      <td>90</td>\n      <td>https://i.ytimg.com/vi/pHSkyQ59FlE/mqdefault.jpg</td>\n      <td>320</td>\n      <td>180</td>\n      <td>https://i.ytimg.com/vi/pHSkyQ59FlE/hqdefault.jpg</td>\n      <td>480</td>\n      <td>360</td>\n      <td>Ольга Алфеева, Атоми, Россия.</td>\n      <td>none</td>\n      <td>2023-01-29T10:30:25Z</td>\n    </tr>\n    <tr>\n      <th>youtube#searchResult</th>\n      <td>1aC4MeJ9At6CSZDUO9CLHFdnUYE</td>\n      <td>youtube#video</td>\n      <td>CzytPTIJlec</td>\n      <td>2023-01-23T17:12:15Z</td>\n      <td>UCkDqOaRxiGAL24Q_9GB7mlw</td>\n      <td>видео шпаргалка📌 #косметика #shorts #корейская...</td>\n      <td>NaN</td>\n      <td>https://i.ytimg.com/vi/CzytPTIJlec/default.jpg</td>\n      <td>120</td>\n      <td>90</td>\n      <td>https://i.ytimg.com/vi/CzytPTIJlec/mqdefault.jpg</td>\n      <td>320</td>\n      <td>180</td>\n      <td>https://i.ytimg.com/vi/CzytPTIJlec/hqdefault.jpg</td>\n      <td>480</td>\n      <td>360</td>\n      <td>umi•umi shop</td>\n      <td>none</td>\n      <td>2023-01-23T17:12:15Z</td>\n    </tr>\n  </tbody>\n</table>\n<p>844 rows × 19 columns</p>\n</div>"
     },
     "metadata": {},
     "output_type": "display_data"
    },
    {
     "data": {
      "text/plain": "'Совпадений двух столбцов: 844'"
     },
     "metadata": {},
     "output_type": "display_data"
    }
   ],
   "source": [
    "# 21 Проверка совпадения двух столбцов из выдачи:\n",
    "df_supplemented = pd.read_excel(DATA_PATH / f'{type_query.capitalize()}_Not_sorted+Sorted.xlsx', index_col=0)\n",
    "# возврат к выдаче без учета date; указание, что индекс в первом столбце\n",
    "\n",
    "display(\n",
    "    df_supplemented,\n",
    "    # df_supplemented['snippet.publishedAt'] == df_supplemented['snippet.publishTime'],\n",
    "    f\"Совпадений двух столбцов: {sum(df_supplemented['snippet.publishedAt'] == df_supplemented['snippet.publishTime'])}\"\n",
    "    )"
   ]
  },
  {
   "cell_type": "code",
   "execution_count": 28,
   "id": "0d0dd752",
   "metadata": {},
   "outputs": [
    {
     "data": {
      "text/plain": "'2019'"
     },
     "execution_count": 28,
     "metadata": {},
     "output_type": "execute_result"
    }
   ],
   "source": [
    "# 22 Проверка индексирования содержимого столбца snippet.publishedAt и строчки №1:\n",
    "df_supplemented['snippet.publishedAt'][1][:4]"
   ]
  },
  {
   "cell_type": "code",
   "execution_count": 29,
   "id": "1fa03349",
   "metadata": {},
   "outputs": [
    {
     "data": {
      "text/plain": "kind\nyoutube#searchResult    2022\nyoutube#searchResult    2019\nyoutube#searchResult    2021\nyoutube#searchResult    2015\nyoutube#searchResult    2018\n                        ... \nyoutube#searchResult    2016\nyoutube#searchResult    2022\nyoutube#searchResult    2023\nyoutube#searchResult    2023\nyoutube#searchResult    2023\nName: snippet.publishedAt, Length: 844, dtype: int64"
     },
     "execution_count": 29,
     "metadata": {},
     "output_type": "execute_result"
    }
   ],
   "source": [
    "# 23 Lambda-функция для перезаписи в столбец snippet.publishedAt только года:\n",
    "df_supplemented['snippet.publishedAt'] = df_supplemented['snippet.publishedAt'].apply(lambda yyyy: int(yyyy[:4]))\n",
    "df_supplemented['snippet.publishedAt']"
   ]
  },
  {
   "cell_type": "code",
   "execution_count": 30,
   "id": "94b33468",
   "metadata": {},
   "outputs": [
    {
     "name": "stdout",
     "output_type": "stream",
     "text": [
      "Минимальный год с видео 2013\n",
      "Максимальный год с видео 2023\n"
     ]
    }
   ],
   "source": [
    "# 24 Поиск самого раннего года:\n",
    "min_date = min(df_supplemented['snippet.publishedAt'])\n",
    "max_date = max(df_supplemented['snippet.publishedAt'])\n",
    "\n",
    "print(\"Минимальный год с видео\", min_date)\n",
    "print(\"Максимальный год с видео\", max_date)"
   ]
  },
  {
   "cell_type": "code",
   "execution_count": 30,
   "outputs": [],
   "source": [],
   "metadata": {
    "collapsed": false
   }
  },
  {
   "cell_type": "code",
   "execution_count": 40,
   "id": "6bb16b87",
   "metadata": {},
   "outputs": [
    {
     "name": "stdout",
     "output_type": "stream",
     "text": [
      "Итерация №0, \"date\" 2020\n",
      "Итерация №1, \"date\" 2020\n",
      "Итерация №2, \"date\" 2020\n",
      "Итерация №3, \"date\" 2020\n",
      "Итерация №4, \"date\" 2020\n",
      "Итерация №5, \"date\" 2020\n",
      "Итерация №6, \"date\" 2020\n",
      "Итерация №7, \"date\" 2020\n",
      "Итерация №8, \"date\" 2020\n",
      "Итерация №9, \"date\" 2020\n",
      "Итерация №10, \"date\" 2020\n",
      "Искомых объектов с 2020 года 527905,       а найденных 1253\n",
      "Итерация №11, \"date\" 2021\n",
      "Итерация №12, \"date\" 2021\n",
      "Итерация №13, \"date\" 2021\n",
      "Итерация №14, \"date\" 2021\n",
      "Итерация №15, \"date\" 2021\n",
      "Итерация №16, \"date\" 2021\n",
      "Итерация №17, \"date\" 2021\n",
      "Итерация №18, \"date\" 2021\n",
      "Итерация №19, \"date\" 2021\n",
      "Итерация №20, \"date\" 2021\n",
      "Итерация №21, \"date\" 2021\n",
      "Искомых объектов с 2021 года 365764,       а найденных 1282\n",
      "Итерация №22, \"date\" 2022\n",
      "Итерация №23, \"date\" 2022\n",
      "Итерация №24, \"date\" 2022\n",
      "Итерация №25, \"date\" 2022\n",
      "Итерация №26, \"date\" 2022\n",
      "Итерация №27, \"date\" 2022\n",
      "Итерация №28, \"date\" 2022\n",
      "Итерация №29, \"date\" 2022\n",
      "Итерация №30, \"date\" 2022\n",
      "Итерация №31, \"date\" 2022\n",
      "Итерация №32, \"date\" 2022\n",
      "Искомых объектов с 2022 года 207258,       а найденных 1334\n"
     ]
    }
   ],
   "source": [
    "#25.1 Запросы БЕЗ включения аргумента order, но с учетом даты\n",
    "\n",
    "# На всякий случай получим следующий ключ\n",
    "\n",
    "i = 0\n",
    "year = 2020\n",
    "\n",
    "while year < max_date:\n",
    "     \n",
    "    # Первый заход С включением аргумента date:\n",
    "    request = youtube.search().list(\n",
    "        part =\"snippet\",\n",
    "        maxResults=50,\n",
    "        q = query,\n",
    "        regionCode =\"RU\",\n",
    "        type = type_query,\n",
    "        publishedAfter=f'{year}-01-01T00:00:00Z'\n",
    "    )\n",
    "    response = request.execute()  \n",
    "   \n",
    "    df_additional = pd.json_normalize(response['items'])\n",
    "    df_supplemented = pd.concat([df_supplemented, df_additional])\n",
    "   \n",
    "    # Цикл для прохода по всем следующим страницам с выдачей:\n",
    "    while 'nextPageToken' in response.keys():\n",
    "        request = youtube.search().list(\n",
    "            part =\"snippet\",\n",
    "            maxResults=50,\n",
    "            q = query,\n",
    "            regionCode =\"RU\",\n",
    "            type = type_query,\n",
    "            pageToken = response['nextPageToken'],\n",
    "            publishedAfter=f'{year}-01-01T00:00:00Z'\n",
    "        )\n",
    "        response = request.execute()  \n",
    "    \n",
    "        # Визуализация процесса:\n",
    "        print(f'Итерация №{i}, \"date\" {year}')\n",
    "        i += 1\n",
    "        \n",
    "        df_additional = pd.json_normalize(response['items'])\n",
    "        df_supplemented = pd.concat([df_supplemented, df_additional])\n",
    "    \n",
    "\n",
    "    print(f\"Искомых объектов с {year} года {response['pageInfo']['totalResults']}, \\\n",
    "      а найденных {len(df_supplemented.drop_duplicates(f'id.{type_query}Id'))}\")\n",
    "\n",
    "    year += 1"
   ]
  },
  {
   "cell_type": "code",
   "execution_count": 41,
   "id": "96b00b89",
   "metadata": {},
   "outputs": [
    {
     "data": {
      "text/plain": "                             etag        id.kind   id.videoId  \\\n1     KC_LG8xTt9DjwtELdwXsHef8Y2g  youtube#video  Wi49rKRM85U   \n2     NjKFlYBBEw9zdA5NO0pNPxZQWW4  youtube#video  1ErvLvQoYxc   \n3     ZkrSJlyz8XsSTJv1_ejDaFtSKyM  youtube#video  aiY0ymL25Pw   \n4     uSLsO6jgTFGew3isXWNKN2IEIu0  youtube#video  JA9E4TCVsDU   \n5     6kkxWnMmA0vx1FI_Ur5fXgKuR6k  youtube#video  NAeXVpMTiT4   \n...                           ...            ...          ...   \n2952  MI4zzroSFGOKd9QwNcTRLQRDalY  youtube#video  QdFBJTWrXGQ   \n2953  0XBsR0bQQCUhrSKnAZNqBWR7PdQ  youtube#video  WDaSYoc6Cbo   \n2954  e8D4Y8oX952ZQDkCSIc1A5TkBIs  youtube#video  E2xdveEfT2Y   \n2955  g6ZpDhmHFaupxIplC2t3_qgA50c  youtube#video  VcnXkDXeF-Y   \n3025  6yA-OcDDRox4jfohOaVbH1V97l0  youtube#video  mw1vV8n1Ey0   \n\n       snippet.publishedAt         snippet.channelId  \\\n1                     2022  UCphnZS52v_lkv5RSl5n70tQ   \n2                     2019  UC6C0oFYlpKkFGG-ykqM4fYw   \n3                     2021  UCiT7bPorr4rKJU8WFBZA9Og   \n4                     2015  UCNazbf-kLY6E8TO_o48ZExQ   \n5                     2018  UCmXGqfEsluA1fID55bVexjw   \n...                    ...                       ...   \n2952  2022-04-06T09:05:51Z  UCBXqiEMJMVTXeQfcZ2M6sow   \n2953  2023-01-05T04:42:56Z  UCM7-Frn5Zz4aXplhkaGI5zg   \n2954  2022-10-17T14:14:46Z  UCbOs6A4SJYanjQXsooKi0Fg   \n2955  2022-11-18T16:07:00Z  UCM7-Frn5Zz4aXplhkaGI5zg   \n3025  2023-02-28T10:34:33Z  UC5miehRccdKBd8yxSl3By0w   \n\n                                          snippet.title  \\\n1     한국인들은 절대 안사는 화장품 КОСМЕТИКА КОТОРАЯ КОРЕЯНКИ ВО...   \n2     ТЫ ДОЛЖНА ЭТО ПОПРОБОВАТЬ! ЛУЧШАЯ КОРЕЙСКАЯ КО...   \n3     РЕАКЦИЯ дерматолога: 10 этапов корейского уход...   \n4     КАК Я ИСПОРТИЛА КОЖУ: КОРЕЙСКАЯ КОСМЕТИКА\\Tony...   \n5     🇰🇷 НЕВЕРОЯТНАЯ КОРЕЙСКАЯ КОСМЕТИКА! Топовые шт...   \n...                                                 ...   \n2952               Atomy The Fame | Корейская косметика   \n2953  ПЕНКА ДЛЯ УМЫВАНИЯ ЛИЦА КОРЕЙСКАЯ КОСМЕТИКА ☎️...   \n2954  КОРЕЙСКИЙ МАКИЯЖ ДЛЯ НАЧИНАЮЩИХ 🤩😍    #тень #м...   \n2955  КОРЕЙСКАЯ КОСМЕТИКА №1 📱+998935594555✍🏻 ТЕЛЕГР...   \n3025            АСМР СТАНДОФФ 2 #6 100 ПОДПИСЧИКОВ УРА!   \n\n                                    snippet.description  \\\n1     подписаться: https://goo.gl/3QbeUf -----------...   \n2     Хорошие мои, сегодня я расскажу вам про свой к...   \n3     Мой телеграм: https://t.me/dr_amina_pirmanova ...   \n4     Привет! Корейская косметика снова набирает обо...   \n5     Магазин корейской косметики https://goo.gl/UJG...   \n...                                                 ...   \n2952  Для заказа заполняйте анкету для регистрации н...   \n2953                                                      \n2954                                                      \n2955                                                      \n3025  АСМР СТАНДОФФ 2 #6 100 ПОДПИСЧИКОВ УРА! если х...   \n\n                      snippet.thumbnails.default.url  \\\n1     https://i.ytimg.com/vi/Wi49rKRM85U/default.jpg   \n2     https://i.ytimg.com/vi/1ErvLvQoYxc/default.jpg   \n3     https://i.ytimg.com/vi/aiY0ymL25Pw/default.jpg   \n4     https://i.ytimg.com/vi/JA9E4TCVsDU/default.jpg   \n5     https://i.ytimg.com/vi/NAeXVpMTiT4/default.jpg   \n...                                              ...   \n2952  https://i.ytimg.com/vi/QdFBJTWrXGQ/default.jpg   \n2953  https://i.ytimg.com/vi/WDaSYoc6Cbo/default.jpg   \n2954  https://i.ytimg.com/vi/E2xdveEfT2Y/default.jpg   \n2955  https://i.ytimg.com/vi/VcnXkDXeF-Y/default.jpg   \n3025  https://i.ytimg.com/vi/mw1vV8n1Ey0/default.jpg   \n\n      snippet.thumbnails.default.width  snippet.thumbnails.default.height  \\\n1                                  120                                 90   \n2                                  120                                 90   \n3                                  120                                 90   \n4                                  120                                 90   \n5                                  120                                 90   \n...                                ...                                ...   \n2952                               120                                 90   \n2953                               120                                 90   \n2954                               120                                 90   \n2955                               120                                 90   \n3025                               120                                 90   \n\n                         snippet.thumbnails.medium.url  \\\n1     https://i.ytimg.com/vi/Wi49rKRM85U/mqdefault.jpg   \n2     https://i.ytimg.com/vi/1ErvLvQoYxc/mqdefault.jpg   \n3     https://i.ytimg.com/vi/aiY0ymL25Pw/mqdefault.jpg   \n4     https://i.ytimg.com/vi/JA9E4TCVsDU/mqdefault.jpg   \n5     https://i.ytimg.com/vi/NAeXVpMTiT4/mqdefault.jpg   \n...                                                ...   \n2952  https://i.ytimg.com/vi/QdFBJTWrXGQ/mqdefault.jpg   \n2953  https://i.ytimg.com/vi/WDaSYoc6Cbo/mqdefault.jpg   \n2954  https://i.ytimg.com/vi/E2xdveEfT2Y/mqdefault.jpg   \n2955  https://i.ytimg.com/vi/VcnXkDXeF-Y/mqdefault.jpg   \n3025  https://i.ytimg.com/vi/mw1vV8n1Ey0/mqdefault.jpg   \n\n      snippet.thumbnails.medium.width  snippet.thumbnails.medium.height  \\\n1                                 320                               180   \n2                                 320                               180   \n3                                 320                               180   \n4                                 320                               180   \n5                                 320                               180   \n...                               ...                               ...   \n2952                              320                               180   \n2953                              320                               180   \n2954                              320                               180   \n2955                              320                               180   \n3025                              320                               180   \n\n                           snippet.thumbnails.high.url  \\\n1     https://i.ytimg.com/vi/Wi49rKRM85U/hqdefault.jpg   \n2     https://i.ytimg.com/vi/1ErvLvQoYxc/hqdefault.jpg   \n3     https://i.ytimg.com/vi/aiY0ymL25Pw/hqdefault.jpg   \n4     https://i.ytimg.com/vi/JA9E4TCVsDU/hqdefault.jpg   \n5     https://i.ytimg.com/vi/NAeXVpMTiT4/hqdefault.jpg   \n...                                                ...   \n2952  https://i.ytimg.com/vi/QdFBJTWrXGQ/hqdefault.jpg   \n2953  https://i.ytimg.com/vi/WDaSYoc6Cbo/hqdefault.jpg   \n2954  https://i.ytimg.com/vi/E2xdveEfT2Y/hqdefault.jpg   \n2955  https://i.ytimg.com/vi/VcnXkDXeF-Y/hqdefault.jpg   \n3025  https://i.ytimg.com/vi/mw1vV8n1Ey0/hqdefault.jpg   \n\n      snippet.thumbnails.high.width  snippet.thumbnails.high.height  \\\n1                               480                             360   \n2                               480                             360   \n3                               480                             360   \n4                               480                             360   \n5                               480                             360   \n...                             ...                             ...   \n2952                            480                             360   \n2953                            480                             360   \n2954                            480                             360   \n2955                            480                             360   \n3025                            480                             360   \n\n                 snippet.channelTitle snippet.liveBroadcastContent  \\\n1      Kyunghamin твоя корейская онни                         none   \n2                      Pineapple Soul                         none   \n3                     Amina Pirmanova                         none   \n4                           Julie Art                         none   \n5                      Tanya StreLove                         none   \n...                               ...                          ...   \n2952                     Атоми Феникс                         none   \n2953  АТОМИ БИЛАН МАҚСАДЛАР САРИ ОЛҒА                         none   \n2954                       Sua.Beauty                         none   \n2955  АТОМИ БИЛАН МАҚСАДЛАР САРИ ОЛҒА                         none   \n3025                     daikson asmr                         none   \n\n       snippet.publishTime                  kind  \n1     2022-06-20T12:57:48Z                   NaN  \n2     2019-03-21T10:23:49Z                   NaN  \n3     2021-08-20T08:51:18Z                   NaN  \n4     2015-12-06T14:30:40Z                   NaN  \n5     2018-04-20T15:19:56Z                   NaN  \n...                    ...                   ...  \n2952  2022-04-06T09:05:51Z  youtube#searchResult  \n2953  2023-01-05T04:42:56Z  youtube#searchResult  \n2954  2022-10-17T14:14:46Z  youtube#searchResult  \n2955  2022-11-18T16:07:00Z  youtube#searchResult  \n3025  2023-02-28T10:34:33Z  youtube#searchResult  \n\n[1334 rows x 20 columns]",
      "text/html": "<div>\n<style scoped>\n    .dataframe tbody tr th:only-of-type {\n        vertical-align: middle;\n    }\n\n    .dataframe tbody tr th {\n        vertical-align: top;\n    }\n\n    .dataframe thead th {\n        text-align: right;\n    }\n</style>\n<table border=\"1\" class=\"dataframe\">\n  <thead>\n    <tr style=\"text-align: right;\">\n      <th></th>\n      <th>etag</th>\n      <th>id.kind</th>\n      <th>id.videoId</th>\n      <th>snippet.publishedAt</th>\n      <th>snippet.channelId</th>\n      <th>snippet.title</th>\n      <th>snippet.description</th>\n      <th>snippet.thumbnails.default.url</th>\n      <th>snippet.thumbnails.default.width</th>\n      <th>snippet.thumbnails.default.height</th>\n      <th>snippet.thumbnails.medium.url</th>\n      <th>snippet.thumbnails.medium.width</th>\n      <th>snippet.thumbnails.medium.height</th>\n      <th>snippet.thumbnails.high.url</th>\n      <th>snippet.thumbnails.high.width</th>\n      <th>snippet.thumbnails.high.height</th>\n      <th>snippet.channelTitle</th>\n      <th>snippet.liveBroadcastContent</th>\n      <th>snippet.publishTime</th>\n      <th>kind</th>\n    </tr>\n  </thead>\n  <tbody>\n    <tr>\n      <th>1</th>\n      <td>KC_LG8xTt9DjwtELdwXsHef8Y2g</td>\n      <td>youtube#video</td>\n      <td>Wi49rKRM85U</td>\n      <td>2022</td>\n      <td>UCphnZS52v_lkv5RSl5n70tQ</td>\n      <td>한국인들은 절대 안사는 화장품 КОСМЕТИКА КОТОРАЯ КОРЕЯНКИ ВО...</td>\n      <td>подписаться: https://goo.gl/3QbeUf -----------...</td>\n      <td>https://i.ytimg.com/vi/Wi49rKRM85U/default.jpg</td>\n      <td>120</td>\n      <td>90</td>\n      <td>https://i.ytimg.com/vi/Wi49rKRM85U/mqdefault.jpg</td>\n      <td>320</td>\n      <td>180</td>\n      <td>https://i.ytimg.com/vi/Wi49rKRM85U/hqdefault.jpg</td>\n      <td>480</td>\n      <td>360</td>\n      <td>Kyunghamin твоя корейская онни</td>\n      <td>none</td>\n      <td>2022-06-20T12:57:48Z</td>\n      <td>NaN</td>\n    </tr>\n    <tr>\n      <th>2</th>\n      <td>NjKFlYBBEw9zdA5NO0pNPxZQWW4</td>\n      <td>youtube#video</td>\n      <td>1ErvLvQoYxc</td>\n      <td>2019</td>\n      <td>UC6C0oFYlpKkFGG-ykqM4fYw</td>\n      <td>ТЫ ДОЛЖНА ЭТО ПОПРОБОВАТЬ! ЛУЧШАЯ КОРЕЙСКАЯ КО...</td>\n      <td>Хорошие мои, сегодня я расскажу вам про свой к...</td>\n      <td>https://i.ytimg.com/vi/1ErvLvQoYxc/default.jpg</td>\n      <td>120</td>\n      <td>90</td>\n      <td>https://i.ytimg.com/vi/1ErvLvQoYxc/mqdefault.jpg</td>\n      <td>320</td>\n      <td>180</td>\n      <td>https://i.ytimg.com/vi/1ErvLvQoYxc/hqdefault.jpg</td>\n      <td>480</td>\n      <td>360</td>\n      <td>Pineapple Soul</td>\n      <td>none</td>\n      <td>2019-03-21T10:23:49Z</td>\n      <td>NaN</td>\n    </tr>\n    <tr>\n      <th>3</th>\n      <td>ZkrSJlyz8XsSTJv1_ejDaFtSKyM</td>\n      <td>youtube#video</td>\n      <td>aiY0ymL25Pw</td>\n      <td>2021</td>\n      <td>UCiT7bPorr4rKJU8WFBZA9Og</td>\n      <td>РЕАКЦИЯ дерматолога: 10 этапов корейского уход...</td>\n      <td>Мой телеграм: https://t.me/dr_amina_pirmanova ...</td>\n      <td>https://i.ytimg.com/vi/aiY0ymL25Pw/default.jpg</td>\n      <td>120</td>\n      <td>90</td>\n      <td>https://i.ytimg.com/vi/aiY0ymL25Pw/mqdefault.jpg</td>\n      <td>320</td>\n      <td>180</td>\n      <td>https://i.ytimg.com/vi/aiY0ymL25Pw/hqdefault.jpg</td>\n      <td>480</td>\n      <td>360</td>\n      <td>Amina Pirmanova</td>\n      <td>none</td>\n      <td>2021-08-20T08:51:18Z</td>\n      <td>NaN</td>\n    </tr>\n    <tr>\n      <th>4</th>\n      <td>uSLsO6jgTFGew3isXWNKN2IEIu0</td>\n      <td>youtube#video</td>\n      <td>JA9E4TCVsDU</td>\n      <td>2015</td>\n      <td>UCNazbf-kLY6E8TO_o48ZExQ</td>\n      <td>КАК Я ИСПОРТИЛА КОЖУ: КОРЕЙСКАЯ КОСМЕТИКА\\Tony...</td>\n      <td>Привет! Корейская косметика снова набирает обо...</td>\n      <td>https://i.ytimg.com/vi/JA9E4TCVsDU/default.jpg</td>\n      <td>120</td>\n      <td>90</td>\n      <td>https://i.ytimg.com/vi/JA9E4TCVsDU/mqdefault.jpg</td>\n      <td>320</td>\n      <td>180</td>\n      <td>https://i.ytimg.com/vi/JA9E4TCVsDU/hqdefault.jpg</td>\n      <td>480</td>\n      <td>360</td>\n      <td>Julie Art</td>\n      <td>none</td>\n      <td>2015-12-06T14:30:40Z</td>\n      <td>NaN</td>\n    </tr>\n    <tr>\n      <th>5</th>\n      <td>6kkxWnMmA0vx1FI_Ur5fXgKuR6k</td>\n      <td>youtube#video</td>\n      <td>NAeXVpMTiT4</td>\n      <td>2018</td>\n      <td>UCmXGqfEsluA1fID55bVexjw</td>\n      <td>🇰🇷 НЕВЕРОЯТНАЯ КОРЕЙСКАЯ КОСМЕТИКА! Топовые шт...</td>\n      <td>Магазин корейской косметики https://goo.gl/UJG...</td>\n      <td>https://i.ytimg.com/vi/NAeXVpMTiT4/default.jpg</td>\n      <td>120</td>\n      <td>90</td>\n      <td>https://i.ytimg.com/vi/NAeXVpMTiT4/mqdefault.jpg</td>\n      <td>320</td>\n      <td>180</td>\n      <td>https://i.ytimg.com/vi/NAeXVpMTiT4/hqdefault.jpg</td>\n      <td>480</td>\n      <td>360</td>\n      <td>Tanya StreLove</td>\n      <td>none</td>\n      <td>2018-04-20T15:19:56Z</td>\n      <td>NaN</td>\n    </tr>\n    <tr>\n      <th>...</th>\n      <td>...</td>\n      <td>...</td>\n      <td>...</td>\n      <td>...</td>\n      <td>...</td>\n      <td>...</td>\n      <td>...</td>\n      <td>...</td>\n      <td>...</td>\n      <td>...</td>\n      <td>...</td>\n      <td>...</td>\n      <td>...</td>\n      <td>...</td>\n      <td>...</td>\n      <td>...</td>\n      <td>...</td>\n      <td>...</td>\n      <td>...</td>\n      <td>...</td>\n    </tr>\n    <tr>\n      <th>2952</th>\n      <td>MI4zzroSFGOKd9QwNcTRLQRDalY</td>\n      <td>youtube#video</td>\n      <td>QdFBJTWrXGQ</td>\n      <td>2022-04-06T09:05:51Z</td>\n      <td>UCBXqiEMJMVTXeQfcZ2M6sow</td>\n      <td>Atomy The Fame | Корейская косметика</td>\n      <td>Для заказа заполняйте анкету для регистрации н...</td>\n      <td>https://i.ytimg.com/vi/QdFBJTWrXGQ/default.jpg</td>\n      <td>120</td>\n      <td>90</td>\n      <td>https://i.ytimg.com/vi/QdFBJTWrXGQ/mqdefault.jpg</td>\n      <td>320</td>\n      <td>180</td>\n      <td>https://i.ytimg.com/vi/QdFBJTWrXGQ/hqdefault.jpg</td>\n      <td>480</td>\n      <td>360</td>\n      <td>Атоми Феникс</td>\n      <td>none</td>\n      <td>2022-04-06T09:05:51Z</td>\n      <td>youtube#searchResult</td>\n    </tr>\n    <tr>\n      <th>2953</th>\n      <td>0XBsR0bQQCUhrSKnAZNqBWR7PdQ</td>\n      <td>youtube#video</td>\n      <td>WDaSYoc6Cbo</td>\n      <td>2023-01-05T04:42:56Z</td>\n      <td>UCM7-Frn5Zz4aXplhkaGI5zg</td>\n      <td>ПЕНКА ДЛЯ УМЫВАНИЯ ЛИЦА КОРЕЙСКАЯ КОСМЕТИКА ☎️...</td>\n      <td></td>\n      <td>https://i.ytimg.com/vi/WDaSYoc6Cbo/default.jpg</td>\n      <td>120</td>\n      <td>90</td>\n      <td>https://i.ytimg.com/vi/WDaSYoc6Cbo/mqdefault.jpg</td>\n      <td>320</td>\n      <td>180</td>\n      <td>https://i.ytimg.com/vi/WDaSYoc6Cbo/hqdefault.jpg</td>\n      <td>480</td>\n      <td>360</td>\n      <td>АТОМИ БИЛАН МАҚСАДЛАР САРИ ОЛҒА</td>\n      <td>none</td>\n      <td>2023-01-05T04:42:56Z</td>\n      <td>youtube#searchResult</td>\n    </tr>\n    <tr>\n      <th>2954</th>\n      <td>e8D4Y8oX952ZQDkCSIc1A5TkBIs</td>\n      <td>youtube#video</td>\n      <td>E2xdveEfT2Y</td>\n      <td>2022-10-17T14:14:46Z</td>\n      <td>UCbOs6A4SJYanjQXsooKi0Fg</td>\n      <td>КОРЕЙСКИЙ МАКИЯЖ ДЛЯ НАЧИНАЮЩИХ 🤩😍    #тень #м...</td>\n      <td></td>\n      <td>https://i.ytimg.com/vi/E2xdveEfT2Y/default.jpg</td>\n      <td>120</td>\n      <td>90</td>\n      <td>https://i.ytimg.com/vi/E2xdveEfT2Y/mqdefault.jpg</td>\n      <td>320</td>\n      <td>180</td>\n      <td>https://i.ytimg.com/vi/E2xdveEfT2Y/hqdefault.jpg</td>\n      <td>480</td>\n      <td>360</td>\n      <td>Sua.Beauty</td>\n      <td>none</td>\n      <td>2022-10-17T14:14:46Z</td>\n      <td>youtube#searchResult</td>\n    </tr>\n    <tr>\n      <th>2955</th>\n      <td>g6ZpDhmHFaupxIplC2t3_qgA50c</td>\n      <td>youtube#video</td>\n      <td>VcnXkDXeF-Y</td>\n      <td>2022-11-18T16:07:00Z</td>\n      <td>UCM7-Frn5Zz4aXplhkaGI5zg</td>\n      <td>КОРЕЙСКАЯ КОСМЕТИКА №1 📱+998935594555✍🏻 ТЕЛЕГР...</td>\n      <td></td>\n      <td>https://i.ytimg.com/vi/VcnXkDXeF-Y/default.jpg</td>\n      <td>120</td>\n      <td>90</td>\n      <td>https://i.ytimg.com/vi/VcnXkDXeF-Y/mqdefault.jpg</td>\n      <td>320</td>\n      <td>180</td>\n      <td>https://i.ytimg.com/vi/VcnXkDXeF-Y/hqdefault.jpg</td>\n      <td>480</td>\n      <td>360</td>\n      <td>АТОМИ БИЛАН МАҚСАДЛАР САРИ ОЛҒА</td>\n      <td>none</td>\n      <td>2022-11-18T16:07:00Z</td>\n      <td>youtube#searchResult</td>\n    </tr>\n    <tr>\n      <th>3025</th>\n      <td>6yA-OcDDRox4jfohOaVbH1V97l0</td>\n      <td>youtube#video</td>\n      <td>mw1vV8n1Ey0</td>\n      <td>2023-02-28T10:34:33Z</td>\n      <td>UC5miehRccdKBd8yxSl3By0w</td>\n      <td>АСМР СТАНДОФФ 2 #6 100 ПОДПИСЧИКОВ УРА!</td>\n      <td>АСМР СТАНДОФФ 2 #6 100 ПОДПИСЧИКОВ УРА! если х...</td>\n      <td>https://i.ytimg.com/vi/mw1vV8n1Ey0/default.jpg</td>\n      <td>120</td>\n      <td>90</td>\n      <td>https://i.ytimg.com/vi/mw1vV8n1Ey0/mqdefault.jpg</td>\n      <td>320</td>\n      <td>180</td>\n      <td>https://i.ytimg.com/vi/mw1vV8n1Ey0/hqdefault.jpg</td>\n      <td>480</td>\n      <td>360</td>\n      <td>daikson asmr</td>\n      <td>none</td>\n      <td>2023-02-28T10:34:33Z</td>\n      <td>youtube#searchResult</td>\n    </tr>\n  </tbody>\n</table>\n<p>1334 rows × 20 columns</p>\n</div>"
     },
     "metadata": {},
     "output_type": "display_data"
    }
   ],
   "source": [
    "# 20\n",
    "# Удаление дубликатов каналов (по их ID) и запись в Excel:\n",
    "df_supplemented.index = range(1,len(df_supplemented)+1) # сквозной индекс для итоговой таблицы\n",
    "df_supplemented = df_supplemented.drop_duplicates(f'id.{type_query}Id')\n",
    "display(df_supplemented)\n"
   ]
  },
  {
   "cell_type": "code",
   "execution_count": 42,
   "outputs": [],
   "source": [
    "import os\n",
    "\n",
    "# сохранение файлов в специальной директории\n",
    "\n",
    "if not os.path.exists(DATA_PATH):\n",
    "    os.makedirs(DATA_PATH)\n",
    "\n",
    "df_supplemented.to_excel(DATA_PATH / f'{type_query.capitalize()}_Not_sorted+Sorted+Date.xlsx')"
   ],
   "metadata": {
    "collapsed": false
   }
  },
  {
   "cell_type": "code",
   "execution_count": null,
   "outputs": [],
   "source": [],
   "metadata": {
    "collapsed": false
   }
  }
 ],
 "metadata": {
  "kernelspec": {
   "display_name": "Python 3 (ipykernel)",
   "language": "python",
   "name": "python3"
  },
  "language_info": {
   "codemirror_mode": {
    "name": "ipython",
    "version": 3
   },
   "file_extension": ".py",
   "mimetype": "text/x-python",
   "name": "python",
   "nbconvert_exporter": "python",
   "pygments_lexer": "ipython3",
   "version": "3.9.7"
  }
 },
 "nbformat": 4,
 "nbformat_minor": 5
}
