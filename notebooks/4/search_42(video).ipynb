{
 "cells": [
  {
   "cell_type": "markdown",
   "source": [
    "# Занятие 4. Видео поиск (2)"
   ],
   "metadata": {
    "collapsed": false
   }
  },
  {
   "cell_type": "code",
   "execution_count": 2,
   "outputs": [],
   "source": [
    "import pathlib\n",
    "import yaml\n",
    "ROOT = pathlib.Path().resolve().parent.parent\n",
    "\n",
    "with open(ROOT / \"config.yml\", \"r\") as f:\n",
    "    config = yaml.safe_load(f)"
   ],
   "metadata": {
    "collapsed": false,
    "ExecuteTime": {
     "start_time": "2023-04-08T11:56:46.165058Z",
     "end_time": "2023-04-08T11:56:46.174688Z"
    }
   }
  },
  {
   "cell_type": "code",
   "execution_count": 3,
   "outputs": [],
   "source": [
    "# 3\n",
    "DATA_PATH = ROOT / config['api']['DATA_PATH'] / 'seminar4'\n",
    "\n",
    "query = \"корейская косметика\"\n",
    "type_query = \"video\"\n",
    "\n",
    "# Для поиска видео с учетом даты:\n",
    "publishedAfter = '2020-01-01T00:00:00Z'\n",
    "publishedBefore = '2022-01-01T00:00:00Z'"
   ],
   "metadata": {
    "collapsed": false,
    "ExecuteTime": {
     "start_time": "2023-04-08T11:56:46.499731Z",
     "end_time": "2023-04-08T11:56:46.508860Z"
    }
   }
  },
  {
   "cell_type": "code",
   "execution_count": 29,
   "outputs": [],
   "source": [
    "# 3.1\n",
    "class KeyStorage:\n",
    "    \"\"\"\n",
    "    Class to use in iteration\n",
    "    \"\"\"\n",
    "\n",
    "    def __init__(self, key_arr: list[str]):\n",
    "        self.key_gen = iter(key_arr)\n",
    "\n",
    "    def get_next_key(self):\n",
    "        \"\"\"\n",
    "        Returns API key to use\n",
    "        :return:\n",
    "        \"\"\"\n",
    "        return next(self.key_gen)\n",
    "\n",
    "key_storage = KeyStorage(config['api']['keys'])"
   ],
   "metadata": {
    "collapsed": false,
    "ExecuteTime": {
     "start_time": "2023-04-08T12:00:09.345484Z",
     "end_time": "2023-04-08T12:00:09.349719Z"
    }
   }
  },
  {
   "cell_type": "code",
   "execution_count": 53,
   "outputs": [],
   "source": [
    "# 3.2 Просмотр API ключа\n",
    "API_KEY = key_storage.get_next_key()"
   ],
   "metadata": {
    "collapsed": false,
    "ExecuteTime": {
     "start_time": "2023-04-08T12:02:15.941110Z",
     "end_time": "2023-04-08T12:02:15.951620Z"
    }
   }
  },
  {
   "cell_type": "code",
   "execution_count": 54,
   "id": "3a893ff6",
   "metadata": {
    "ExecuteTime": {
     "start_time": "2023-04-08T12:02:17.034522Z",
     "end_time": "2023-04-08T12:02:17.044287Z"
    }
   },
   "outputs": [],
   "source": [
    "#4\n",
    "import googleapiclient.discovery as api"
   ]
  },
  {
   "cell_type": "code",
   "execution_count": 55,
   "id": "5f468de9",
   "metadata": {
    "ExecuteTime": {
     "start_time": "2023-04-08T12:02:17.348220Z",
     "end_time": "2023-04-08T12:02:17.405389Z"
    }
   },
   "outputs": [],
   "source": [
    "#5\n",
    "api_service_name = \"youtube\"\n",
    "api_version = \"v3\"\n",
    "    \n",
    "youtube = api.build(api_service_name,\n",
    "                        api_version, \n",
    "                       developerKey = API_KEY)"
   ]
  },
  {
   "cell_type": "code",
   "execution_count": 35,
   "id": "7cbbb17e",
   "metadata": {
    "ExecuteTime": {
     "start_time": "2023-04-08T12:00:15.352342Z",
     "end_time": "2023-04-08T12:00:15.360660Z"
    }
   },
   "outputs": [],
   "source": [
    "#8\n",
    "import pandas as pd"
   ]
  },
  {
   "cell_type": "code",
   "execution_count": 36,
   "id": "4f6272c7",
   "metadata": {
    "ExecuteTime": {
     "start_time": "2023-04-08T12:00:18.668585Z",
     "end_time": "2023-04-08T12:00:26.480738Z"
    }
   },
   "outputs": [
    {
     "name": "stdout",
     "output_type": "stream",
     "text": [
      "Итерация БЕЗ включения аргумента order №0\n",
      "Итерация БЕЗ включения аргумента order №1\n",
      "Итерация БЕЗ включения аргумента order №2\n",
      "Итерация БЕЗ включения аргумента order №3\n",
      "Итерация БЕЗ включения аргумента order №4\n",
      "Итерация БЕЗ включения аргумента order №5\n",
      "Итерация БЕЗ включения аргумента order №6\n",
      "Итерация БЕЗ включения аргумента order №7\n",
      "Итерация БЕЗ включения аргумента order №8\n",
      "Итерация БЕЗ включения аргумента order №9\n",
      "Итерация БЕЗ включения аргумента order №10\n",
      "Искомых объектов 947437 а найденных БЕЗ включения каких-либо значений аргумента order 536\n"
     ]
    }
   ],
   "source": [
    "# 18.1\n",
    "# Первый заход БЕЗ аргумента order для видео\n",
    "request = youtube.search().list(\n",
    "        part =\"snippet\",\n",
    "        maxResults=50,\n",
    "        q = query,\n",
    "        regionCode =\"RU\",\n",
    "        type = type_query\n",
    ")\n",
    "response = request.execute()  \n",
    "   \n",
    "df_supplemented = pd.json_normalize(response['items'])\n",
    "   \n",
    "    # Цикл для прохода по всем следующим страницам с выдачей:\n",
    "i = 0\n",
    "while 'nextPageToken' in response.keys():\n",
    "    request = youtube.search().list(\n",
    "            part =\"snippet\",\n",
    "            maxResults=50,\n",
    "            q = query,\n",
    "            type = type_query,\n",
    "            pageToken = response['nextPageToken']\n",
    "        )\n",
    "    response = request.execute()  \n",
    "\n",
    "    print(f'Итерация БЕЗ включения аргумента order №{i}')\n",
    "    i += 1\n",
    "        \n",
    "    df_additional = pd.json_normalize(response['items'])\n",
    "    df_supplemented = pd.concat([df_supplemented, df_additional])\n",
    "\n",
    "    \n",
    "\n",
    "print(f\"Искомых объектов {response['pageInfo']['totalResults']}\", \\\n",
    "      f\"а найденных БЕЗ включения каких-либо значений аргумента order {len(df_supplemented.drop_duplicates(f'id.{type_query}Id'))}\")"
   ]
  },
  {
   "cell_type": "code",
   "execution_count": 37,
   "outputs": [
    {
     "data": {
      "text/plain": "599"
     },
     "execution_count": 37,
     "metadata": {},
     "output_type": "execute_result"
    }
   ],
   "source": [
    "len(df_supplemented)"
   ],
   "metadata": {
    "collapsed": false,
    "ExecuteTime": {
     "start_time": "2023-04-08T12:00:26.482440Z",
     "end_time": "2023-04-08T12:00:26.485672Z"
    }
   }
  },
  {
   "cell_type": "code",
   "execution_count": 38,
   "id": "0f3d2541",
   "metadata": {
    "ExecuteTime": {
     "start_time": "2023-04-08T12:00:30.474051Z",
     "end_time": "2023-04-08T12:00:30.486517Z"
    }
   },
   "outputs": [
    {
     "data": {
      "text/plain": "['date', 'rating', 'title', 'videoCount', 'viewCount']"
     },
     "execution_count": 38,
     "metadata": {},
     "output_type": "execute_result"
    }
   ],
   "source": [
    "# Значения аргумента order:\n",
    "order_list = ['date', 'rating', 'title', 'videoCount', 'viewCount']\n",
    "order_list"
   ]
  },
  {
   "cell_type": "code",
   "execution_count": 39,
   "id": "64e2e3f0",
   "metadata": {
    "ExecuteTime": {
     "start_time": "2023-04-08T12:00:30.866454Z",
     "end_time": "2023-04-08T12:01:05.099732Z"
    }
   },
   "outputs": [
    {
     "name": "stdout",
     "output_type": "stream",
     "text": [
      "Итерация №0, \"order\" date, \"items\" 50\n",
      "Итерация №1, \"order\" date, \"items\" 50\n",
      "Итерация №2, \"order\" date, \"items\" 50\n",
      "Итерация №3, \"order\" date, \"items\" 50\n",
      "Итерация №4, \"order\" date, \"items\" 50\n",
      "Итерация №5, \"order\" date, \"items\" 50\n",
      "Итерация №6, \"order\" date, \"items\" 50\n",
      "Итерация №7, \"order\" date, \"items\" 50\n",
      "Итерация №8, \"order\" date, \"items\" 50\n",
      "Итерация №9, \"order\" date, \"items\" 50\n",
      "Итерация №10, \"order\" date, \"items\" 50\n",
      "Итерация №11, \"order\" date, \"items\" 17\n",
      "Итерация №12, \"order\" rating, \"items\" 50\n",
      "Итерация №13, \"order\" rating, \"items\" 50\n",
      "Итерация №14, \"order\" rating, \"items\" 50\n",
      "Итерация №15, \"order\" rating, \"items\" 50\n",
      "Итерация №16, \"order\" rating, \"items\" 50\n",
      "Итерация №17, \"order\" rating, \"items\" 50\n",
      "Итерация №18, \"order\" rating, \"items\" 50\n",
      "Итерация №19, \"order\" rating, \"items\" 50\n",
      "Итерация №20, \"order\" rating, \"items\" 50\n",
      "Итерация №21, \"order\" rating, \"items\" 50\n",
      "Итерация №22, \"order\" rating, \"items\" 50\n",
      "Итерация №23, \"order\" rating, \"items\" 18\n",
      "Итерация №24, \"order\" title, \"items\" 50\n",
      "Итерация №25, \"order\" title, \"items\" 50\n",
      "Итерация №26, \"order\" title, \"items\" 50\n",
      "Итерация №27, \"order\" title, \"items\" 50\n",
      "Итерация №28, \"order\" title, \"items\" 50\n",
      "Итерация №29, \"order\" title, \"items\" 50\n",
      "Итерация №30, \"order\" title, \"items\" 50\n",
      "Итерация №31, \"order\" title, \"items\" 50\n",
      "Итерация №32, \"order\" title, \"items\" 50\n",
      "Итерация №33, \"order\" title, \"items\" 50\n",
      "Итерация №34, \"order\" title, \"items\" 50\n",
      "Итерация №35, \"order\" title, \"items\" 17\n",
      "Итерация №36, \"order\" videoCount, \"items\" 50\n",
      "Итерация №37, \"order\" videoCount, \"items\" 50\n",
      "Итерация №38, \"order\" videoCount, \"items\" 50\n",
      "Итерация №39, \"order\" videoCount, \"items\" 50\n",
      "Итерация №40, \"order\" videoCount, \"items\" 50\n",
      "Итерация №41, \"order\" videoCount, \"items\" 50\n",
      "Итерация №42, \"order\" videoCount, \"items\" 50\n",
      "Итерация №43, \"order\" videoCount, \"items\" 50\n",
      "Итерация №44, \"order\" videoCount, \"items\" 50\n",
      "Итерация №45, \"order\" videoCount, \"items\" 50\n",
      "Итерация №46, \"order\" videoCount, \"items\" 50\n",
      "Итерация №47, \"order\" videoCount, \"items\" 17\n",
      "Итерация №48, \"order\" viewCount, \"items\" 50\n",
      "Итерация №49, \"order\" viewCount, \"items\" 50\n",
      "Итерация №50, \"order\" viewCount, \"items\" 50\n",
      "Итерация №51, \"order\" viewCount, \"items\" 50\n",
      "Итерация №52, \"order\" viewCount, \"items\" 50\n",
      "Итерация №53, \"order\" viewCount, \"items\" 50\n",
      "Итерация №54, \"order\" viewCount, \"items\" 50\n",
      "Итерация №55, \"order\" viewCount, \"items\" 50\n",
      "Итерация №56, \"order\" viewCount, \"items\" 50\n",
      "Итерация №57, \"order\" viewCount, \"items\" 50\n",
      "Итерация №58, \"order\" viewCount, \"items\" 50\n",
      "Итерация №59, \"order\" viewCount, \"items\" 19\n"
     ]
    }
   ],
   "source": [
    "# 18.2\n",
    "# Цикл для прохода по значениям аргумента order, внутри которых проход по всем страницам выдачи:\n",
    "i = 0\n",
    "for order in order_list:\n",
    "    # Для остановки алгоритма, если все искомые объекты найдены\n",
    "    # БЕЗ включения каких-либо значений аргумента order (в т.ч. вообще БЕЗ них):\n",
    "    if len(df_supplemented.drop_duplicates(f'id.{type_query}Id')) < response['pageInfo']['totalResults']:\n",
    "        \n",
    "        # Первый заход с каждым значение аргумента order:\n",
    "        request = youtube.search().list(\n",
    "            part =\"snippet\",\n",
    "            maxResults=50,\n",
    "            q = query,\n",
    "            type = type_query,\n",
    "            order = order\n",
    "        )\n",
    "        response = request.execute()\n",
    "    \n",
    "        # Визуализация процесса:\n",
    "        print(f'Итерация №{i}, \"order\" {order}, \"items\" {len(response[\"items\"])}')\n",
    "        i += 1\n",
    "    \n",
    "        # Занесение собранных данных в итоговую таблицу df_supplemented:\n",
    "        df = pd.json_normalize(response[\"items\"])\n",
    "        df_supplemented = pd.concat([df, df_supplemented])\n",
    "        \n",
    "        # Заходы с тем же значением аргумента order на следующие страницы:\n",
    "        while ('nextPageToken' in response.keys())\\\n",
    "        & (len(df_supplemented.drop_duplicates(f'id.{type_query}Id')) < response['pageInfo']['totalResults'])\\\n",
    "        & (len(response[\"items\"]) > 0):\n",
    "        # второе условие -- для остановки алгоритма, если все искомые объекты найдены\n",
    "        # БЕЗ какой-то из следующих страниц ( в т.ч. вообще БЕЗ них)\n",
    "        # третье условие -- для остановки алгоритма, если предыдущая страница выдачи содержит 0 объектов    \n",
    "        \n",
    "            request = youtube.search().list(\n",
    "                part =\"snippet\",\n",
    "                maxResults=50,\n",
    "                q = query,\n",
    "                type = type_query,\n",
    "                pageToken = response['nextPageToken'],\n",
    "                order = order\n",
    "            )\n",
    "            response = request.execute()  \n",
    "    \n",
    "            # Визуализация процесса:\n",
    "            print(f'Итерация №{i}, \"order\" {order}, \"items\" {len(response[\"items\"])}')\n",
    "            \n",
    "            i += 1\n",
    "        \n",
    "            # Занесение собранных данных в итоговую таблицу df_supplemented:\n",
    "            df_additional = pd.json_normalize(response[\"items\"])\n",
    "            df_supplemented = pd.concat([df_supplemented, df_additional])\n",
    "    \n",
    "        # Сохранение составленных для каждого значения аргумента order таблиц в Excel -- на всякий случай:\n",
    "        df_supplemented.to_excel(DATA_PATH / f'{type_query.capitalize()}_Sorted_by_{order}.xlsx')\n",
    "    else:\n",
    "        print('Все искомые объекты найдены БЕЗ включения некоторых значений аргумента order (в т.ч. вообще БЕЗ них)')"
   ]
  },
  {
   "cell_type": "code",
   "execution_count": 42,
   "id": "61e07622",
   "metadata": {
    "ExecuteTime": {
     "start_time": "2023-04-08T12:01:10.892662Z",
     "end_time": "2023-04-08T12:01:10.933474Z"
    }
   },
   "outputs": [
    {
     "data": {
      "text/plain": "                     kind                         etag        id.kind  \\\n1    youtube#searchResult  EQDFH4sq29F4tLopSvBzT1Owm1M  youtube#video   \n2    youtube#searchResult  P1X20DCj2WrucSb9ldNXa1bYGQU  youtube#video   \n3    youtube#searchResult  KC_LG8xTt9DjwtELdwXsHef8Y2g  youtube#video   \n4    youtube#searchResult  jLZGccW4KN5uL3WAMK7JggpPUsc  youtube#video   \n5    youtube#searchResult  dltiYtp7e0SGjSrmXCopbsnWyVQ  youtube#video   \n..                    ...                          ...            ...   \n823  youtube#searchResult  mBOUDV2CcPUuRmwdRamWekcdljo  youtube#video   \n824  youtube#searchResult  kd7-kiciAX96a0us39wBpxi_hI0  youtube#video   \n825  youtube#searchResult  tHOYnpvWStjOBH1OdVwpJCNOJMc  youtube#video   \n826  youtube#searchResult  3_OQBRon3OK8B7SJjgP_Fq1DYew  youtube#video   \n827  youtube#searchResult  3ro0ddBCnnljqOclv7kVrJK-4ig  youtube#video   \n\n      id.videoId   snippet.publishedAt         snippet.channelId  \\\n1    AAjsSrjZXsw  2021-03-10T13:46:47Z  UCh29SdTOPdjBb-n3Vop1lYg   \n2    yk4Wjr3j7QY  2023-02-05T04:32:39Z  UCfcMgRNXey6TQkov9mgVgoA   \n3    Wi49rKRM85U  2022-06-20T12:57:48Z  UCphnZS52v_lkv5RSl5n70tQ   \n4    kSiaxefvCgM  2023-02-11T12:43:25Z  UCfcMgRNXey6TQkov9mgVgoA   \n5    4nqfUzIz7kQ  2021-11-12T14:59:32Z  UCphnZS52v_lkv5RSl5n70tQ   \n..           ...                   ...                       ...   \n823  h2B_zgdX__Y  2019-02-23T18:27:23Z  UCaqikEbNbRJaUv-DKPFPOHQ   \n824  VlWKjch_m5c  2020-12-05T12:11:49Z  UCaRfOL6s_IPjQ3LKcMqDxZg   \n825  AZj6WbmSH7c  2022-06-28T09:01:32Z  UCYfIVot-gXDXDnPa6oBur3w   \n826  dxXgiu8cHgw  2022-06-09T11:15:15Z  UCBUFHAAQQUrOJ3UcnJZ02zg   \n827  13uidr0mxAs  2023-03-13T23:28:01Z  UCKKP0IoVSVpcDQJGpkp1BTg   \n\n                                         snippet.title  \\\n1    Расследование | Паленая косметика на Ozon и Wi...   \n2    Пляжная мода в Корее #этокореядетка #корейская...   \n3    한국인들은 절대 안사는 화장품 КОСМЕТИКА КОТОРАЯ КОРЕЯНКИ ВО...   \n4    Жилищный вопрос: Корея #дорамы #корейскийязык ...   \n5    Кореянка в Золотом Яблоке. Почему русские поку...   \n..                                                 ...   \n823     Корейская косметика#крем#farm stay#зеленый чай   \n824  Самые лучшие шампуни для жирной кожи головы | ...   \n825  Обзор на набор Atomy Absolute CellActive. Прем...   \n826  Покупки уходовой косметики за весну 2022 | Кор...   \n827  Экскурсия по корейскому сайту Атоми.Обзор на п...   \n\n                                   snippet.description  \\\n1    На российских маркетплейсах продается огромное...   \n2                                                        \n3    подписаться: https://goo.gl/3QbeUf -----------...   \n4                                                        \n5    кореянка#золотоеяблоко#корейскаякосметика прив...   \n..                                                 ...   \n823  Питательный корейский крем от Farm stay . Подр...   \n824  Шампунь против перхоти La'Dor Anti-Dandruff Sh...   \n825  Всем привет! В этом видео я сделала обзор на н...   \n826  Видео о моих покупках уходовой косметики за ве...   \n827                                                      \n\n                     snippet.thumbnails.default.url  \\\n1    https://i.ytimg.com/vi/AAjsSrjZXsw/default.jpg   \n2    https://i.ytimg.com/vi/yk4Wjr3j7QY/default.jpg   \n3    https://i.ytimg.com/vi/Wi49rKRM85U/default.jpg   \n4    https://i.ytimg.com/vi/kSiaxefvCgM/default.jpg   \n5    https://i.ytimg.com/vi/4nqfUzIz7kQ/default.jpg   \n..                                              ...   \n823  https://i.ytimg.com/vi/h2B_zgdX__Y/default.jpg   \n824  https://i.ytimg.com/vi/VlWKjch_m5c/default.jpg   \n825  https://i.ytimg.com/vi/AZj6WbmSH7c/default.jpg   \n826  https://i.ytimg.com/vi/dxXgiu8cHgw/default.jpg   \n827  https://i.ytimg.com/vi/13uidr0mxAs/default.jpg   \n\n     snippet.thumbnails.default.width  snippet.thumbnails.default.height  \\\n1                                 120                                 90   \n2                                 120                                 90   \n3                                 120                                 90   \n4                                 120                                 90   \n5                                 120                                 90   \n..                                ...                                ...   \n823                               120                                 90   \n824                               120                                 90   \n825                               120                                 90   \n826                               120                                 90   \n827                               120                                 90   \n\n                        snippet.thumbnails.medium.url  \\\n1    https://i.ytimg.com/vi/AAjsSrjZXsw/mqdefault.jpg   \n2    https://i.ytimg.com/vi/yk4Wjr3j7QY/mqdefault.jpg   \n3    https://i.ytimg.com/vi/Wi49rKRM85U/mqdefault.jpg   \n4    https://i.ytimg.com/vi/kSiaxefvCgM/mqdefault.jpg   \n5    https://i.ytimg.com/vi/4nqfUzIz7kQ/mqdefault.jpg   \n..                                                ...   \n823  https://i.ytimg.com/vi/h2B_zgdX__Y/mqdefault.jpg   \n824  https://i.ytimg.com/vi/VlWKjch_m5c/mqdefault.jpg   \n825  https://i.ytimg.com/vi/AZj6WbmSH7c/mqdefault.jpg   \n826  https://i.ytimg.com/vi/dxXgiu8cHgw/mqdefault.jpg   \n827  https://i.ytimg.com/vi/13uidr0mxAs/mqdefault.jpg   \n\n     snippet.thumbnails.medium.width  snippet.thumbnails.medium.height  \\\n1                                320                               180   \n2                                320                               180   \n3                                320                               180   \n4                                320                               180   \n5                                320                               180   \n..                               ...                               ...   \n823                              320                               180   \n824                              320                               180   \n825                              320                               180   \n826                              320                               180   \n827                              320                               180   \n\n                          snippet.thumbnails.high.url  \\\n1    https://i.ytimg.com/vi/AAjsSrjZXsw/hqdefault.jpg   \n2    https://i.ytimg.com/vi/yk4Wjr3j7QY/hqdefault.jpg   \n3    https://i.ytimg.com/vi/Wi49rKRM85U/hqdefault.jpg   \n4    https://i.ytimg.com/vi/kSiaxefvCgM/hqdefault.jpg   \n5    https://i.ytimg.com/vi/4nqfUzIz7kQ/hqdefault.jpg   \n..                                                ...   \n823  https://i.ytimg.com/vi/h2B_zgdX__Y/hqdefault.jpg   \n824  https://i.ytimg.com/vi/VlWKjch_m5c/hqdefault.jpg   \n825  https://i.ytimg.com/vi/AZj6WbmSH7c/hqdefault.jpg   \n826  https://i.ytimg.com/vi/dxXgiu8cHgw/hqdefault.jpg   \n827  https://i.ytimg.com/vi/13uidr0mxAs/hqdefault.jpg   \n\n     snippet.thumbnails.high.width  snippet.thumbnails.high.height  \\\n1                              480                             360   \n2                              480                             360   \n3                              480                             360   \n4                              480                             360   \n5                              480                             360   \n..                             ...                             ...   \n823                            480                             360   \n824                            480                             360   \n825                            480                             360   \n826                            480                             360   \n827                            480                             360   \n\n                snippet.channelTitle snippet.liveBroadcastContent  \\\n1                      katyakonasova                         none   \n2                       altyshkorea                          none   \n3     Kyunghamin твоя корейская онни                         none   \n4                       altyshkorea                          none   \n5     Kyunghamin твоя корейская онни                         none   \n..                               ...                          ...   \n823              Корейская косметика                         none   \n824  Lotus Fresh Корейская Косметика                         none   \n825             Кореянка о косметике                         none   \n826                          Juliana                         none   \n827                 Наталия Дорохова                         none   \n\n      snippet.publishTime  \n1    2021-03-10T13:46:47Z  \n2    2023-02-05T04:32:39Z  \n3    2022-06-20T12:57:48Z  \n4    2023-02-11T12:43:25Z  \n5    2021-11-12T14:59:32Z  \n..                    ...  \n823  2019-02-23T18:27:23Z  \n824  2020-12-05T12:11:49Z  \n825  2022-06-28T09:01:32Z  \n826  2022-06-09T11:15:15Z  \n827  2023-03-13T23:28:01Z  \n\n[827 rows x 20 columns]",
      "text/html": "<div>\n<style scoped>\n    .dataframe tbody tr th:only-of-type {\n        vertical-align: middle;\n    }\n\n    .dataframe tbody tr th {\n        vertical-align: top;\n    }\n\n    .dataframe thead th {\n        text-align: right;\n    }\n</style>\n<table border=\"1\" class=\"dataframe\">\n  <thead>\n    <tr style=\"text-align: right;\">\n      <th></th>\n      <th>kind</th>\n      <th>etag</th>\n      <th>id.kind</th>\n      <th>id.videoId</th>\n      <th>snippet.publishedAt</th>\n      <th>snippet.channelId</th>\n      <th>snippet.title</th>\n      <th>snippet.description</th>\n      <th>snippet.thumbnails.default.url</th>\n      <th>snippet.thumbnails.default.width</th>\n      <th>snippet.thumbnails.default.height</th>\n      <th>snippet.thumbnails.medium.url</th>\n      <th>snippet.thumbnails.medium.width</th>\n      <th>snippet.thumbnails.medium.height</th>\n      <th>snippet.thumbnails.high.url</th>\n      <th>snippet.thumbnails.high.width</th>\n      <th>snippet.thumbnails.high.height</th>\n      <th>snippet.channelTitle</th>\n      <th>snippet.liveBroadcastContent</th>\n      <th>snippet.publishTime</th>\n    </tr>\n  </thead>\n  <tbody>\n    <tr>\n      <th>1</th>\n      <td>youtube#searchResult</td>\n      <td>EQDFH4sq29F4tLopSvBzT1Owm1M</td>\n      <td>youtube#video</td>\n      <td>AAjsSrjZXsw</td>\n      <td>2021-03-10T13:46:47Z</td>\n      <td>UCh29SdTOPdjBb-n3Vop1lYg</td>\n      <td>Расследование | Паленая косметика на Ozon и Wi...</td>\n      <td>На российских маркетплейсах продается огромное...</td>\n      <td>https://i.ytimg.com/vi/AAjsSrjZXsw/default.jpg</td>\n      <td>120</td>\n      <td>90</td>\n      <td>https://i.ytimg.com/vi/AAjsSrjZXsw/mqdefault.jpg</td>\n      <td>320</td>\n      <td>180</td>\n      <td>https://i.ytimg.com/vi/AAjsSrjZXsw/hqdefault.jpg</td>\n      <td>480</td>\n      <td>360</td>\n      <td>katyakonasova</td>\n      <td>none</td>\n      <td>2021-03-10T13:46:47Z</td>\n    </tr>\n    <tr>\n      <th>2</th>\n      <td>youtube#searchResult</td>\n      <td>P1X20DCj2WrucSb9ldNXa1bYGQU</td>\n      <td>youtube#video</td>\n      <td>yk4Wjr3j7QY</td>\n      <td>2023-02-05T04:32:39Z</td>\n      <td>UCfcMgRNXey6TQkov9mgVgoA</td>\n      <td>Пляжная мода в Корее #этокореядетка #корейская...</td>\n      <td></td>\n      <td>https://i.ytimg.com/vi/yk4Wjr3j7QY/default.jpg</td>\n      <td>120</td>\n      <td>90</td>\n      <td>https://i.ytimg.com/vi/yk4Wjr3j7QY/mqdefault.jpg</td>\n      <td>320</td>\n      <td>180</td>\n      <td>https://i.ytimg.com/vi/yk4Wjr3j7QY/hqdefault.jpg</td>\n      <td>480</td>\n      <td>360</td>\n      <td>altyshkorea</td>\n      <td>none</td>\n      <td>2023-02-05T04:32:39Z</td>\n    </tr>\n    <tr>\n      <th>3</th>\n      <td>youtube#searchResult</td>\n      <td>KC_LG8xTt9DjwtELdwXsHef8Y2g</td>\n      <td>youtube#video</td>\n      <td>Wi49rKRM85U</td>\n      <td>2022-06-20T12:57:48Z</td>\n      <td>UCphnZS52v_lkv5RSl5n70tQ</td>\n      <td>한국인들은 절대 안사는 화장품 КОСМЕТИКА КОТОРАЯ КОРЕЯНКИ ВО...</td>\n      <td>подписаться: https://goo.gl/3QbeUf -----------...</td>\n      <td>https://i.ytimg.com/vi/Wi49rKRM85U/default.jpg</td>\n      <td>120</td>\n      <td>90</td>\n      <td>https://i.ytimg.com/vi/Wi49rKRM85U/mqdefault.jpg</td>\n      <td>320</td>\n      <td>180</td>\n      <td>https://i.ytimg.com/vi/Wi49rKRM85U/hqdefault.jpg</td>\n      <td>480</td>\n      <td>360</td>\n      <td>Kyunghamin твоя корейская онни</td>\n      <td>none</td>\n      <td>2022-06-20T12:57:48Z</td>\n    </tr>\n    <tr>\n      <th>4</th>\n      <td>youtube#searchResult</td>\n      <td>jLZGccW4KN5uL3WAMK7JggpPUsc</td>\n      <td>youtube#video</td>\n      <td>kSiaxefvCgM</td>\n      <td>2023-02-11T12:43:25Z</td>\n      <td>UCfcMgRNXey6TQkov9mgVgoA</td>\n      <td>Жилищный вопрос: Корея #дорамы #корейскийязык ...</td>\n      <td></td>\n      <td>https://i.ytimg.com/vi/kSiaxefvCgM/default.jpg</td>\n      <td>120</td>\n      <td>90</td>\n      <td>https://i.ytimg.com/vi/kSiaxefvCgM/mqdefault.jpg</td>\n      <td>320</td>\n      <td>180</td>\n      <td>https://i.ytimg.com/vi/kSiaxefvCgM/hqdefault.jpg</td>\n      <td>480</td>\n      <td>360</td>\n      <td>altyshkorea</td>\n      <td>none</td>\n      <td>2023-02-11T12:43:25Z</td>\n    </tr>\n    <tr>\n      <th>5</th>\n      <td>youtube#searchResult</td>\n      <td>dltiYtp7e0SGjSrmXCopbsnWyVQ</td>\n      <td>youtube#video</td>\n      <td>4nqfUzIz7kQ</td>\n      <td>2021-11-12T14:59:32Z</td>\n      <td>UCphnZS52v_lkv5RSl5n70tQ</td>\n      <td>Кореянка в Золотом Яблоке. Почему русские поку...</td>\n      <td>кореянка#золотоеяблоко#корейскаякосметика прив...</td>\n      <td>https://i.ytimg.com/vi/4nqfUzIz7kQ/default.jpg</td>\n      <td>120</td>\n      <td>90</td>\n      <td>https://i.ytimg.com/vi/4nqfUzIz7kQ/mqdefault.jpg</td>\n      <td>320</td>\n      <td>180</td>\n      <td>https://i.ytimg.com/vi/4nqfUzIz7kQ/hqdefault.jpg</td>\n      <td>480</td>\n      <td>360</td>\n      <td>Kyunghamin твоя корейская онни</td>\n      <td>none</td>\n      <td>2021-11-12T14:59:32Z</td>\n    </tr>\n    <tr>\n      <th>...</th>\n      <td>...</td>\n      <td>...</td>\n      <td>...</td>\n      <td>...</td>\n      <td>...</td>\n      <td>...</td>\n      <td>...</td>\n      <td>...</td>\n      <td>...</td>\n      <td>...</td>\n      <td>...</td>\n      <td>...</td>\n      <td>...</td>\n      <td>...</td>\n      <td>...</td>\n      <td>...</td>\n      <td>...</td>\n      <td>...</td>\n      <td>...</td>\n      <td>...</td>\n    </tr>\n    <tr>\n      <th>823</th>\n      <td>youtube#searchResult</td>\n      <td>mBOUDV2CcPUuRmwdRamWekcdljo</td>\n      <td>youtube#video</td>\n      <td>h2B_zgdX__Y</td>\n      <td>2019-02-23T18:27:23Z</td>\n      <td>UCaqikEbNbRJaUv-DKPFPOHQ</td>\n      <td>Корейская косметика#крем#farm stay#зеленый чай</td>\n      <td>Питательный корейский крем от Farm stay . Подр...</td>\n      <td>https://i.ytimg.com/vi/h2B_zgdX__Y/default.jpg</td>\n      <td>120</td>\n      <td>90</td>\n      <td>https://i.ytimg.com/vi/h2B_zgdX__Y/mqdefault.jpg</td>\n      <td>320</td>\n      <td>180</td>\n      <td>https://i.ytimg.com/vi/h2B_zgdX__Y/hqdefault.jpg</td>\n      <td>480</td>\n      <td>360</td>\n      <td>Корейская косметика</td>\n      <td>none</td>\n      <td>2019-02-23T18:27:23Z</td>\n    </tr>\n    <tr>\n      <th>824</th>\n      <td>youtube#searchResult</td>\n      <td>kd7-kiciAX96a0us39wBpxi_hI0</td>\n      <td>youtube#video</td>\n      <td>VlWKjch_m5c</td>\n      <td>2020-12-05T12:11:49Z</td>\n      <td>UCaRfOL6s_IPjQ3LKcMqDxZg</td>\n      <td>Самые лучшие шампуни для жирной кожи головы | ...</td>\n      <td>Шампунь против перхоти La'Dor Anti-Dandruff Sh...</td>\n      <td>https://i.ytimg.com/vi/VlWKjch_m5c/default.jpg</td>\n      <td>120</td>\n      <td>90</td>\n      <td>https://i.ytimg.com/vi/VlWKjch_m5c/mqdefault.jpg</td>\n      <td>320</td>\n      <td>180</td>\n      <td>https://i.ytimg.com/vi/VlWKjch_m5c/hqdefault.jpg</td>\n      <td>480</td>\n      <td>360</td>\n      <td>Lotus Fresh Корейская Косметика</td>\n      <td>none</td>\n      <td>2020-12-05T12:11:49Z</td>\n    </tr>\n    <tr>\n      <th>825</th>\n      <td>youtube#searchResult</td>\n      <td>tHOYnpvWStjOBH1OdVwpJCNOJMc</td>\n      <td>youtube#video</td>\n      <td>AZj6WbmSH7c</td>\n      <td>2022-06-28T09:01:32Z</td>\n      <td>UCYfIVot-gXDXDnPa6oBur3w</td>\n      <td>Обзор на набор Atomy Absolute CellActive. Прем...</td>\n      <td>Всем привет! В этом видео я сделала обзор на н...</td>\n      <td>https://i.ytimg.com/vi/AZj6WbmSH7c/default.jpg</td>\n      <td>120</td>\n      <td>90</td>\n      <td>https://i.ytimg.com/vi/AZj6WbmSH7c/mqdefault.jpg</td>\n      <td>320</td>\n      <td>180</td>\n      <td>https://i.ytimg.com/vi/AZj6WbmSH7c/hqdefault.jpg</td>\n      <td>480</td>\n      <td>360</td>\n      <td>Кореянка о косметике</td>\n      <td>none</td>\n      <td>2022-06-28T09:01:32Z</td>\n    </tr>\n    <tr>\n      <th>826</th>\n      <td>youtube#searchResult</td>\n      <td>3_OQBRon3OK8B7SJjgP_Fq1DYew</td>\n      <td>youtube#video</td>\n      <td>dxXgiu8cHgw</td>\n      <td>2022-06-09T11:15:15Z</td>\n      <td>UCBUFHAAQQUrOJ3UcnJZ02zg</td>\n      <td>Покупки уходовой косметики за весну 2022 | Кор...</td>\n      <td>Видео о моих покупках уходовой косметики за ве...</td>\n      <td>https://i.ytimg.com/vi/dxXgiu8cHgw/default.jpg</td>\n      <td>120</td>\n      <td>90</td>\n      <td>https://i.ytimg.com/vi/dxXgiu8cHgw/mqdefault.jpg</td>\n      <td>320</td>\n      <td>180</td>\n      <td>https://i.ytimg.com/vi/dxXgiu8cHgw/hqdefault.jpg</td>\n      <td>480</td>\n      <td>360</td>\n      <td>Juliana</td>\n      <td>none</td>\n      <td>2022-06-09T11:15:15Z</td>\n    </tr>\n    <tr>\n      <th>827</th>\n      <td>youtube#searchResult</td>\n      <td>3ro0ddBCnnljqOclv7kVrJK-4ig</td>\n      <td>youtube#video</td>\n      <td>13uidr0mxAs</td>\n      <td>2023-03-13T23:28:01Z</td>\n      <td>UCKKP0IoVSVpcDQJGpkp1BTg</td>\n      <td>Экскурсия по корейскому сайту Атоми.Обзор на п...</td>\n      <td></td>\n      <td>https://i.ytimg.com/vi/13uidr0mxAs/default.jpg</td>\n      <td>120</td>\n      <td>90</td>\n      <td>https://i.ytimg.com/vi/13uidr0mxAs/mqdefault.jpg</td>\n      <td>320</td>\n      <td>180</td>\n      <td>https://i.ytimg.com/vi/13uidr0mxAs/hqdefault.jpg</td>\n      <td>480</td>\n      <td>360</td>\n      <td>Наталия Дорохова</td>\n      <td>none</td>\n      <td>2023-03-13T23:28:01Z</td>\n    </tr>\n  </tbody>\n</table>\n<p>827 rows × 20 columns</p>\n</div>"
     },
     "metadata": {},
     "output_type": "display_data"
    }
   ],
   "source": [
    "# 19\n",
    "# Удаление дубликатов каналов (по их ID) и запись в Excel:\n",
    "df_supplemented.index = range(1,len(df_supplemented)+1) # сквозной индекс для итоговой таблицы\n",
    "df_supplemented = df_supplemented.drop_duplicates()\n",
    "display(df_supplemented)\n"
   ]
  },
  {
   "cell_type": "code",
   "execution_count": 43,
   "outputs": [],
   "source": [
    "# 20\n",
    "\n",
    "df_supplemented.to_excel(DATA_PATH /f'{query}_{type_query.capitalize()}_Not_sorted+Sorted.xlsx', index=False)"
   ],
   "metadata": {
    "collapsed": false,
    "ExecuteTime": {
     "start_time": "2023-04-08T12:01:14.425057Z",
     "end_time": "2023-04-08T12:01:14.750117Z"
    }
   }
  },
  {
   "cell_type": "code",
   "execution_count": 44,
   "id": "cee89af6",
   "metadata": {
    "ExecuteTime": {
     "start_time": "2023-04-08T12:01:14.812554Z",
     "end_time": "2023-04-08T12:01:14.962794Z"
    }
   },
   "outputs": [
    {
     "data": {
      "text/plain": "                     kind                         etag        id.kind  \\\n0    youtube#searchResult  EQDFH4sq29F4tLopSvBzT1Owm1M  youtube#video   \n1    youtube#searchResult  P1X20DCj2WrucSb9ldNXa1bYGQU  youtube#video   \n2    youtube#searchResult  KC_LG8xTt9DjwtELdwXsHef8Y2g  youtube#video   \n3    youtube#searchResult  jLZGccW4KN5uL3WAMK7JggpPUsc  youtube#video   \n4    youtube#searchResult  dltiYtp7e0SGjSrmXCopbsnWyVQ  youtube#video   \n..                    ...                          ...            ...   \n822  youtube#searchResult  mBOUDV2CcPUuRmwdRamWekcdljo  youtube#video   \n823  youtube#searchResult  kd7-kiciAX96a0us39wBpxi_hI0  youtube#video   \n824  youtube#searchResult  tHOYnpvWStjOBH1OdVwpJCNOJMc  youtube#video   \n825  youtube#searchResult  3_OQBRon3OK8B7SJjgP_Fq1DYew  youtube#video   \n826  youtube#searchResult  3ro0ddBCnnljqOclv7kVrJK-4ig  youtube#video   \n\n      id.videoId   snippet.publishedAt         snippet.channelId  \\\n0    AAjsSrjZXsw  2021-03-10T13:46:47Z  UCh29SdTOPdjBb-n3Vop1lYg   \n1    yk4Wjr3j7QY  2023-02-05T04:32:39Z  UCfcMgRNXey6TQkov9mgVgoA   \n2    Wi49rKRM85U  2022-06-20T12:57:48Z  UCphnZS52v_lkv5RSl5n70tQ   \n3    kSiaxefvCgM  2023-02-11T12:43:25Z  UCfcMgRNXey6TQkov9mgVgoA   \n4    4nqfUzIz7kQ  2021-11-12T14:59:32Z  UCphnZS52v_lkv5RSl5n70tQ   \n..           ...                   ...                       ...   \n822  h2B_zgdX__Y  2019-02-23T18:27:23Z  UCaqikEbNbRJaUv-DKPFPOHQ   \n823  VlWKjch_m5c  2020-12-05T12:11:49Z  UCaRfOL6s_IPjQ3LKcMqDxZg   \n824  AZj6WbmSH7c  2022-06-28T09:01:32Z  UCYfIVot-gXDXDnPa6oBur3w   \n825  dxXgiu8cHgw  2022-06-09T11:15:15Z  UCBUFHAAQQUrOJ3UcnJZ02zg   \n826  13uidr0mxAs  2023-03-13T23:28:01Z  UCKKP0IoVSVpcDQJGpkp1BTg   \n\n                                         snippet.title  \\\n0    Расследование | Паленая косметика на Ozon и Wi...   \n1    Пляжная мода в Корее #этокореядетка #корейская...   \n2    한국인들은 절대 안사는 화장품 КОСМЕТИКА КОТОРАЯ КОРЕЯНКИ ВО...   \n3    Жилищный вопрос: Корея #дорамы #корейскийязык ...   \n4    Кореянка в Золотом Яблоке. Почему русские поку...   \n..                                                 ...   \n822     Корейская косметика#крем#farm stay#зеленый чай   \n823  Самые лучшие шампуни для жирной кожи головы | ...   \n824  Обзор на набор Atomy Absolute CellActive. Прем...   \n825  Покупки уходовой косметики за весну 2022 | Кор...   \n826  Экскурсия по корейскому сайту Атоми.Обзор на п...   \n\n                                   snippet.description  \\\n0    На российских маркетплейсах продается огромное...   \n1                                                  NaN   \n2    подписаться: https://goo.gl/3QbeUf -----------...   \n3                                                  NaN   \n4    кореянка#золотоеяблоко#корейскаякосметика прив...   \n..                                                 ...   \n822  Питательный корейский крем от Farm stay . Подр...   \n823  Шампунь против перхоти La'Dor Anti-Dandruff Sh...   \n824  Всем привет! В этом видео я сделала обзор на н...   \n825  Видео о моих покупках уходовой косметики за ве...   \n826                                                NaN   \n\n                     snippet.thumbnails.default.url  \\\n0    https://i.ytimg.com/vi/AAjsSrjZXsw/default.jpg   \n1    https://i.ytimg.com/vi/yk4Wjr3j7QY/default.jpg   \n2    https://i.ytimg.com/vi/Wi49rKRM85U/default.jpg   \n3    https://i.ytimg.com/vi/kSiaxefvCgM/default.jpg   \n4    https://i.ytimg.com/vi/4nqfUzIz7kQ/default.jpg   \n..                                              ...   \n822  https://i.ytimg.com/vi/h2B_zgdX__Y/default.jpg   \n823  https://i.ytimg.com/vi/VlWKjch_m5c/default.jpg   \n824  https://i.ytimg.com/vi/AZj6WbmSH7c/default.jpg   \n825  https://i.ytimg.com/vi/dxXgiu8cHgw/default.jpg   \n826  https://i.ytimg.com/vi/13uidr0mxAs/default.jpg   \n\n     snippet.thumbnails.default.width  snippet.thumbnails.default.height  \\\n0                                 120                                 90   \n1                                 120                                 90   \n2                                 120                                 90   \n3                                 120                                 90   \n4                                 120                                 90   \n..                                ...                                ...   \n822                               120                                 90   \n823                               120                                 90   \n824                               120                                 90   \n825                               120                                 90   \n826                               120                                 90   \n\n                        snippet.thumbnails.medium.url  \\\n0    https://i.ytimg.com/vi/AAjsSrjZXsw/mqdefault.jpg   \n1    https://i.ytimg.com/vi/yk4Wjr3j7QY/mqdefault.jpg   \n2    https://i.ytimg.com/vi/Wi49rKRM85U/mqdefault.jpg   \n3    https://i.ytimg.com/vi/kSiaxefvCgM/mqdefault.jpg   \n4    https://i.ytimg.com/vi/4nqfUzIz7kQ/mqdefault.jpg   \n..                                                ...   \n822  https://i.ytimg.com/vi/h2B_zgdX__Y/mqdefault.jpg   \n823  https://i.ytimg.com/vi/VlWKjch_m5c/mqdefault.jpg   \n824  https://i.ytimg.com/vi/AZj6WbmSH7c/mqdefault.jpg   \n825  https://i.ytimg.com/vi/dxXgiu8cHgw/mqdefault.jpg   \n826  https://i.ytimg.com/vi/13uidr0mxAs/mqdefault.jpg   \n\n     snippet.thumbnails.medium.width  snippet.thumbnails.medium.height  \\\n0                                320                               180   \n1                                320                               180   \n2                                320                               180   \n3                                320                               180   \n4                                320                               180   \n..                               ...                               ...   \n822                              320                               180   \n823                              320                               180   \n824                              320                               180   \n825                              320                               180   \n826                              320                               180   \n\n                          snippet.thumbnails.high.url  \\\n0    https://i.ytimg.com/vi/AAjsSrjZXsw/hqdefault.jpg   \n1    https://i.ytimg.com/vi/yk4Wjr3j7QY/hqdefault.jpg   \n2    https://i.ytimg.com/vi/Wi49rKRM85U/hqdefault.jpg   \n3    https://i.ytimg.com/vi/kSiaxefvCgM/hqdefault.jpg   \n4    https://i.ytimg.com/vi/4nqfUzIz7kQ/hqdefault.jpg   \n..                                                ...   \n822  https://i.ytimg.com/vi/h2B_zgdX__Y/hqdefault.jpg   \n823  https://i.ytimg.com/vi/VlWKjch_m5c/hqdefault.jpg   \n824  https://i.ytimg.com/vi/AZj6WbmSH7c/hqdefault.jpg   \n825  https://i.ytimg.com/vi/dxXgiu8cHgw/hqdefault.jpg   \n826  https://i.ytimg.com/vi/13uidr0mxAs/hqdefault.jpg   \n\n     snippet.thumbnails.high.width  snippet.thumbnails.high.height  \\\n0                              480                             360   \n1                              480                             360   \n2                              480                             360   \n3                              480                             360   \n4                              480                             360   \n..                             ...                             ...   \n822                            480                             360   \n823                            480                             360   \n824                            480                             360   \n825                            480                             360   \n826                            480                             360   \n\n                snippet.channelTitle snippet.liveBroadcastContent  \\\n0                      katyakonasova                         none   \n1                       altyshkorea                          none   \n2     Kyunghamin твоя корейская онни                         none   \n3                       altyshkorea                          none   \n4     Kyunghamin твоя корейская онни                         none   \n..                               ...                          ...   \n822              Корейская косметика                         none   \n823  Lotus Fresh Корейская Косметика                         none   \n824             Кореянка о косметике                         none   \n825                          Juliana                         none   \n826                 Наталия Дорохова                         none   \n\n      snippet.publishTime  \n0    2021-03-10T13:46:47Z  \n1    2023-02-05T04:32:39Z  \n2    2022-06-20T12:57:48Z  \n3    2023-02-11T12:43:25Z  \n4    2021-11-12T14:59:32Z  \n..                    ...  \n822  2019-02-23T18:27:23Z  \n823  2020-12-05T12:11:49Z  \n824  2022-06-28T09:01:32Z  \n825  2022-06-09T11:15:15Z  \n826  2023-03-13T23:28:01Z  \n\n[827 rows x 20 columns]",
      "text/html": "<div>\n<style scoped>\n    .dataframe tbody tr th:only-of-type {\n        vertical-align: middle;\n    }\n\n    .dataframe tbody tr th {\n        vertical-align: top;\n    }\n\n    .dataframe thead th {\n        text-align: right;\n    }\n</style>\n<table border=\"1\" class=\"dataframe\">\n  <thead>\n    <tr style=\"text-align: right;\">\n      <th></th>\n      <th>kind</th>\n      <th>etag</th>\n      <th>id.kind</th>\n      <th>id.videoId</th>\n      <th>snippet.publishedAt</th>\n      <th>snippet.channelId</th>\n      <th>snippet.title</th>\n      <th>snippet.description</th>\n      <th>snippet.thumbnails.default.url</th>\n      <th>snippet.thumbnails.default.width</th>\n      <th>snippet.thumbnails.default.height</th>\n      <th>snippet.thumbnails.medium.url</th>\n      <th>snippet.thumbnails.medium.width</th>\n      <th>snippet.thumbnails.medium.height</th>\n      <th>snippet.thumbnails.high.url</th>\n      <th>snippet.thumbnails.high.width</th>\n      <th>snippet.thumbnails.high.height</th>\n      <th>snippet.channelTitle</th>\n      <th>snippet.liveBroadcastContent</th>\n      <th>snippet.publishTime</th>\n    </tr>\n  </thead>\n  <tbody>\n    <tr>\n      <th>0</th>\n      <td>youtube#searchResult</td>\n      <td>EQDFH4sq29F4tLopSvBzT1Owm1M</td>\n      <td>youtube#video</td>\n      <td>AAjsSrjZXsw</td>\n      <td>2021-03-10T13:46:47Z</td>\n      <td>UCh29SdTOPdjBb-n3Vop1lYg</td>\n      <td>Расследование | Паленая косметика на Ozon и Wi...</td>\n      <td>На российских маркетплейсах продается огромное...</td>\n      <td>https://i.ytimg.com/vi/AAjsSrjZXsw/default.jpg</td>\n      <td>120</td>\n      <td>90</td>\n      <td>https://i.ytimg.com/vi/AAjsSrjZXsw/mqdefault.jpg</td>\n      <td>320</td>\n      <td>180</td>\n      <td>https://i.ytimg.com/vi/AAjsSrjZXsw/hqdefault.jpg</td>\n      <td>480</td>\n      <td>360</td>\n      <td>katyakonasova</td>\n      <td>none</td>\n      <td>2021-03-10T13:46:47Z</td>\n    </tr>\n    <tr>\n      <th>1</th>\n      <td>youtube#searchResult</td>\n      <td>P1X20DCj2WrucSb9ldNXa1bYGQU</td>\n      <td>youtube#video</td>\n      <td>yk4Wjr3j7QY</td>\n      <td>2023-02-05T04:32:39Z</td>\n      <td>UCfcMgRNXey6TQkov9mgVgoA</td>\n      <td>Пляжная мода в Корее #этокореядетка #корейская...</td>\n      <td>NaN</td>\n      <td>https://i.ytimg.com/vi/yk4Wjr3j7QY/default.jpg</td>\n      <td>120</td>\n      <td>90</td>\n      <td>https://i.ytimg.com/vi/yk4Wjr3j7QY/mqdefault.jpg</td>\n      <td>320</td>\n      <td>180</td>\n      <td>https://i.ytimg.com/vi/yk4Wjr3j7QY/hqdefault.jpg</td>\n      <td>480</td>\n      <td>360</td>\n      <td>altyshkorea</td>\n      <td>none</td>\n      <td>2023-02-05T04:32:39Z</td>\n    </tr>\n    <tr>\n      <th>2</th>\n      <td>youtube#searchResult</td>\n      <td>KC_LG8xTt9DjwtELdwXsHef8Y2g</td>\n      <td>youtube#video</td>\n      <td>Wi49rKRM85U</td>\n      <td>2022-06-20T12:57:48Z</td>\n      <td>UCphnZS52v_lkv5RSl5n70tQ</td>\n      <td>한국인들은 절대 안사는 화장품 КОСМЕТИКА КОТОРАЯ КОРЕЯНКИ ВО...</td>\n      <td>подписаться: https://goo.gl/3QbeUf -----------...</td>\n      <td>https://i.ytimg.com/vi/Wi49rKRM85U/default.jpg</td>\n      <td>120</td>\n      <td>90</td>\n      <td>https://i.ytimg.com/vi/Wi49rKRM85U/mqdefault.jpg</td>\n      <td>320</td>\n      <td>180</td>\n      <td>https://i.ytimg.com/vi/Wi49rKRM85U/hqdefault.jpg</td>\n      <td>480</td>\n      <td>360</td>\n      <td>Kyunghamin твоя корейская онни</td>\n      <td>none</td>\n      <td>2022-06-20T12:57:48Z</td>\n    </tr>\n    <tr>\n      <th>3</th>\n      <td>youtube#searchResult</td>\n      <td>jLZGccW4KN5uL3WAMK7JggpPUsc</td>\n      <td>youtube#video</td>\n      <td>kSiaxefvCgM</td>\n      <td>2023-02-11T12:43:25Z</td>\n      <td>UCfcMgRNXey6TQkov9mgVgoA</td>\n      <td>Жилищный вопрос: Корея #дорамы #корейскийязык ...</td>\n      <td>NaN</td>\n      <td>https://i.ytimg.com/vi/kSiaxefvCgM/default.jpg</td>\n      <td>120</td>\n      <td>90</td>\n      <td>https://i.ytimg.com/vi/kSiaxefvCgM/mqdefault.jpg</td>\n      <td>320</td>\n      <td>180</td>\n      <td>https://i.ytimg.com/vi/kSiaxefvCgM/hqdefault.jpg</td>\n      <td>480</td>\n      <td>360</td>\n      <td>altyshkorea</td>\n      <td>none</td>\n      <td>2023-02-11T12:43:25Z</td>\n    </tr>\n    <tr>\n      <th>4</th>\n      <td>youtube#searchResult</td>\n      <td>dltiYtp7e0SGjSrmXCopbsnWyVQ</td>\n      <td>youtube#video</td>\n      <td>4nqfUzIz7kQ</td>\n      <td>2021-11-12T14:59:32Z</td>\n      <td>UCphnZS52v_lkv5RSl5n70tQ</td>\n      <td>Кореянка в Золотом Яблоке. Почему русские поку...</td>\n      <td>кореянка#золотоеяблоко#корейскаякосметика прив...</td>\n      <td>https://i.ytimg.com/vi/4nqfUzIz7kQ/default.jpg</td>\n      <td>120</td>\n      <td>90</td>\n      <td>https://i.ytimg.com/vi/4nqfUzIz7kQ/mqdefault.jpg</td>\n      <td>320</td>\n      <td>180</td>\n      <td>https://i.ytimg.com/vi/4nqfUzIz7kQ/hqdefault.jpg</td>\n      <td>480</td>\n      <td>360</td>\n      <td>Kyunghamin твоя корейская онни</td>\n      <td>none</td>\n      <td>2021-11-12T14:59:32Z</td>\n    </tr>\n    <tr>\n      <th>...</th>\n      <td>...</td>\n      <td>...</td>\n      <td>...</td>\n      <td>...</td>\n      <td>...</td>\n      <td>...</td>\n      <td>...</td>\n      <td>...</td>\n      <td>...</td>\n      <td>...</td>\n      <td>...</td>\n      <td>...</td>\n      <td>...</td>\n      <td>...</td>\n      <td>...</td>\n      <td>...</td>\n      <td>...</td>\n      <td>...</td>\n      <td>...</td>\n      <td>...</td>\n    </tr>\n    <tr>\n      <th>822</th>\n      <td>youtube#searchResult</td>\n      <td>mBOUDV2CcPUuRmwdRamWekcdljo</td>\n      <td>youtube#video</td>\n      <td>h2B_zgdX__Y</td>\n      <td>2019-02-23T18:27:23Z</td>\n      <td>UCaqikEbNbRJaUv-DKPFPOHQ</td>\n      <td>Корейская косметика#крем#farm stay#зеленый чай</td>\n      <td>Питательный корейский крем от Farm stay . Подр...</td>\n      <td>https://i.ytimg.com/vi/h2B_zgdX__Y/default.jpg</td>\n      <td>120</td>\n      <td>90</td>\n      <td>https://i.ytimg.com/vi/h2B_zgdX__Y/mqdefault.jpg</td>\n      <td>320</td>\n      <td>180</td>\n      <td>https://i.ytimg.com/vi/h2B_zgdX__Y/hqdefault.jpg</td>\n      <td>480</td>\n      <td>360</td>\n      <td>Корейская косметика</td>\n      <td>none</td>\n      <td>2019-02-23T18:27:23Z</td>\n    </tr>\n    <tr>\n      <th>823</th>\n      <td>youtube#searchResult</td>\n      <td>kd7-kiciAX96a0us39wBpxi_hI0</td>\n      <td>youtube#video</td>\n      <td>VlWKjch_m5c</td>\n      <td>2020-12-05T12:11:49Z</td>\n      <td>UCaRfOL6s_IPjQ3LKcMqDxZg</td>\n      <td>Самые лучшие шампуни для жирной кожи головы | ...</td>\n      <td>Шампунь против перхоти La'Dor Anti-Dandruff Sh...</td>\n      <td>https://i.ytimg.com/vi/VlWKjch_m5c/default.jpg</td>\n      <td>120</td>\n      <td>90</td>\n      <td>https://i.ytimg.com/vi/VlWKjch_m5c/mqdefault.jpg</td>\n      <td>320</td>\n      <td>180</td>\n      <td>https://i.ytimg.com/vi/VlWKjch_m5c/hqdefault.jpg</td>\n      <td>480</td>\n      <td>360</td>\n      <td>Lotus Fresh Корейская Косметика</td>\n      <td>none</td>\n      <td>2020-12-05T12:11:49Z</td>\n    </tr>\n    <tr>\n      <th>824</th>\n      <td>youtube#searchResult</td>\n      <td>tHOYnpvWStjOBH1OdVwpJCNOJMc</td>\n      <td>youtube#video</td>\n      <td>AZj6WbmSH7c</td>\n      <td>2022-06-28T09:01:32Z</td>\n      <td>UCYfIVot-gXDXDnPa6oBur3w</td>\n      <td>Обзор на набор Atomy Absolute CellActive. Прем...</td>\n      <td>Всем привет! В этом видео я сделала обзор на н...</td>\n      <td>https://i.ytimg.com/vi/AZj6WbmSH7c/default.jpg</td>\n      <td>120</td>\n      <td>90</td>\n      <td>https://i.ytimg.com/vi/AZj6WbmSH7c/mqdefault.jpg</td>\n      <td>320</td>\n      <td>180</td>\n      <td>https://i.ytimg.com/vi/AZj6WbmSH7c/hqdefault.jpg</td>\n      <td>480</td>\n      <td>360</td>\n      <td>Кореянка о косметике</td>\n      <td>none</td>\n      <td>2022-06-28T09:01:32Z</td>\n    </tr>\n    <tr>\n      <th>825</th>\n      <td>youtube#searchResult</td>\n      <td>3_OQBRon3OK8B7SJjgP_Fq1DYew</td>\n      <td>youtube#video</td>\n      <td>dxXgiu8cHgw</td>\n      <td>2022-06-09T11:15:15Z</td>\n      <td>UCBUFHAAQQUrOJ3UcnJZ02zg</td>\n      <td>Покупки уходовой косметики за весну 2022 | Кор...</td>\n      <td>Видео о моих покупках уходовой косметики за ве...</td>\n      <td>https://i.ytimg.com/vi/dxXgiu8cHgw/default.jpg</td>\n      <td>120</td>\n      <td>90</td>\n      <td>https://i.ytimg.com/vi/dxXgiu8cHgw/mqdefault.jpg</td>\n      <td>320</td>\n      <td>180</td>\n      <td>https://i.ytimg.com/vi/dxXgiu8cHgw/hqdefault.jpg</td>\n      <td>480</td>\n      <td>360</td>\n      <td>Juliana</td>\n      <td>none</td>\n      <td>2022-06-09T11:15:15Z</td>\n    </tr>\n    <tr>\n      <th>826</th>\n      <td>youtube#searchResult</td>\n      <td>3ro0ddBCnnljqOclv7kVrJK-4ig</td>\n      <td>youtube#video</td>\n      <td>13uidr0mxAs</td>\n      <td>2023-03-13T23:28:01Z</td>\n      <td>UCKKP0IoVSVpcDQJGpkp1BTg</td>\n      <td>Экскурсия по корейскому сайту Атоми.Обзор на п...</td>\n      <td>NaN</td>\n      <td>https://i.ytimg.com/vi/13uidr0mxAs/default.jpg</td>\n      <td>120</td>\n      <td>90</td>\n      <td>https://i.ytimg.com/vi/13uidr0mxAs/mqdefault.jpg</td>\n      <td>320</td>\n      <td>180</td>\n      <td>https://i.ytimg.com/vi/13uidr0mxAs/hqdefault.jpg</td>\n      <td>480</td>\n      <td>360</td>\n      <td>Наталия Дорохова</td>\n      <td>none</td>\n      <td>2023-03-13T23:28:01Z</td>\n    </tr>\n  </tbody>\n</table>\n<p>827 rows × 20 columns</p>\n</div>"
     },
     "execution_count": 44,
     "metadata": {},
     "output_type": "execute_result"
    }
   ],
   "source": [
    "df_supplemented = pd.read_excel(DATA_PATH / f'{query}_{type_query.capitalize()}_Not_sorted+Sorted.xlsx')\n",
    "# возврат к выдаче без учета date; указание, что индекс в первом столбце\n",
    "df_supplemented"
   ]
  },
  {
   "cell_type": "code",
   "execution_count": 45,
   "id": "168e7407",
   "metadata": {
    "ExecuteTime": {
     "start_time": "2023-04-08T12:01:20.206477Z",
     "end_time": "2023-04-08T12:01:26.970688Z"
    }
   },
   "outputs": [
    {
     "name": "stdout",
     "output_type": "stream",
     "text": [
      "Итерация №0, \"date\" 2020-01-01T - 2022-01-01T\n",
      "Итерация №1, \"date\" 2020-01-01T - 2022-01-01T\n",
      "Итерация №2, \"date\" 2020-01-01T - 2022-01-01T\n",
      "Итерация №3, \"date\" 2020-01-01T - 2022-01-01T\n",
      "Итерация №4, \"date\" 2020-01-01T - 2022-01-01T\n",
      "Итерация №5, \"date\" 2020-01-01T - 2022-01-01T\n",
      "Итерация №6, \"date\" 2020-01-01T - 2022-01-01T\n",
      "Итерация №7, \"date\" 2020-01-01T - 2022-01-01T\n",
      "Итерация №8, \"date\" 2020-01-01T - 2022-01-01T\n",
      "Итерация №9, \"date\" 2020-01-01T - 2022-01-01T\n",
      "Искомых объектов 420428 а найденных БЕЗ включения каких-либо значений аргумента order 435\n"
     ]
    }
   ],
   "source": [
    "#19.1 Запросы БЕЗ включения аргумента order, но с учетом даты\n",
    "# Первый заход:\n",
    "request = youtube.search().list(\n",
    "        part =\"snippet\",\n",
    "        maxResults=50,\n",
    "        q = query,\n",
    "        type = type_query,\n",
    "        publishedAfter=publishedAfter,\n",
    "        publishedBefore=publishedBefore\n",
    ")\n",
    "response = request.execute()  \n",
    "   \n",
    "df_supplemented = pd.json_normalize(response['items'])\n",
    "   \n",
    "    # Цикл для прохода по всем следующим страницам с выдачей:\n",
    "i = 0\n",
    "while 'nextPageToken' in response.keys():\n",
    "    request = youtube.search().list(\n",
    "            part =\"snippet\",\n",
    "            maxResults=50,\n",
    "            q = query,\n",
    "            type = type_query,\n",
    "            pageToken = response['nextPageToken'],\n",
    "            publishedAfter=publishedAfter,\n",
    "            publishedBefore=publishedBefore\n",
    "    )\n",
    "    response = request.execute()  \n",
    "    \n",
    "    print(f'Итерация №{i}, \"date\" {publishedAfter[:11]} - {publishedBefore[:11]}')\n",
    "    i += 1\n",
    "        \n",
    "    df_additional = pd.json_normalize(response['items'])\n",
    "    df_supplemented = pd.concat([df_supplemented, df_additional])\n",
    "    \n",
    "    \n",
    "\n",
    "print(f\"Искомых объектов {response['pageInfo']['totalResults']}\", \\\n",
    "      f\"а найденных БЕЗ включения каких-либо значений аргумента order {len(df_supplemented.drop_duplicates(f'id.{type_query}Id'))}\")"
   ]
  },
  {
   "cell_type": "code",
   "execution_count": 46,
   "id": "ce726c8a",
   "metadata": {
    "ExecuteTime": {
     "start_time": "2023-04-08T12:01:26.971886Z",
     "end_time": "2023-04-08T12:01:26.974476Z"
    }
   },
   "outputs": [],
   "source": [
    "# 19.2\n",
    "# Цикл для прохода по значениям аргумента order, внутри которых проход по всем страницам выдачи:\n",
    "# Думаю, можно не выполнять, так как большинство включено в искомые объекты"
   ]
  },
  {
   "cell_type": "code",
   "execution_count": 47,
   "id": "1abc7849",
   "metadata": {
    "ExecuteTime": {
     "start_time": "2023-04-08T12:01:29.512514Z",
     "end_time": "2023-04-08T12:01:29.688603Z"
    }
   },
   "outputs": [
    {
     "data": {
      "text/plain": "                                             etag        id.kind   id.videoId  \\\nkind                                                                            \nyoutube#searchResult  EQDFH4sq29F4tLopSvBzT1Owm1M  youtube#video  AAjsSrjZXsw   \nyoutube#searchResult  P1X20DCj2WrucSb9ldNXa1bYGQU  youtube#video  yk4Wjr3j7QY   \nyoutube#searchResult  KC_LG8xTt9DjwtELdwXsHef8Y2g  youtube#video  Wi49rKRM85U   \nyoutube#searchResult  jLZGccW4KN5uL3WAMK7JggpPUsc  youtube#video  kSiaxefvCgM   \nyoutube#searchResult  dltiYtp7e0SGjSrmXCopbsnWyVQ  youtube#video  4nqfUzIz7kQ   \n...                                           ...            ...          ...   \nyoutube#searchResult  mBOUDV2CcPUuRmwdRamWekcdljo  youtube#video  h2B_zgdX__Y   \nyoutube#searchResult  kd7-kiciAX96a0us39wBpxi_hI0  youtube#video  VlWKjch_m5c   \nyoutube#searchResult  tHOYnpvWStjOBH1OdVwpJCNOJMc  youtube#video  AZj6WbmSH7c   \nyoutube#searchResult  3_OQBRon3OK8B7SJjgP_Fq1DYew  youtube#video  dxXgiu8cHgw   \nyoutube#searchResult  3ro0ddBCnnljqOclv7kVrJK-4ig  youtube#video  13uidr0mxAs   \n\n                       snippet.publishedAt         snippet.channelId  \\\nkind                                                                   \nyoutube#searchResult  2021-03-10T13:46:47Z  UCh29SdTOPdjBb-n3Vop1lYg   \nyoutube#searchResult  2023-02-05T04:32:39Z  UCfcMgRNXey6TQkov9mgVgoA   \nyoutube#searchResult  2022-06-20T12:57:48Z  UCphnZS52v_lkv5RSl5n70tQ   \nyoutube#searchResult  2023-02-11T12:43:25Z  UCfcMgRNXey6TQkov9mgVgoA   \nyoutube#searchResult  2021-11-12T14:59:32Z  UCphnZS52v_lkv5RSl5n70tQ   \n...                                    ...                       ...   \nyoutube#searchResult  2019-02-23T18:27:23Z  UCaqikEbNbRJaUv-DKPFPOHQ   \nyoutube#searchResult  2020-12-05T12:11:49Z  UCaRfOL6s_IPjQ3LKcMqDxZg   \nyoutube#searchResult  2022-06-28T09:01:32Z  UCYfIVot-gXDXDnPa6oBur3w   \nyoutube#searchResult  2022-06-09T11:15:15Z  UCBUFHAAQQUrOJ3UcnJZ02zg   \nyoutube#searchResult  2023-03-13T23:28:01Z  UCKKP0IoVSVpcDQJGpkp1BTg   \n\n                                                          snippet.title  \\\nkind                                                                      \nyoutube#searchResult  Расследование | Паленая косметика на Ozon и Wi...   \nyoutube#searchResult  Пляжная мода в Корее #этокореядетка #корейская...   \nyoutube#searchResult  한국인들은 절대 안사는 화장품 КОСМЕТИКА КОТОРАЯ КОРЕЯНКИ ВО...   \nyoutube#searchResult  Жилищный вопрос: Корея #дорамы #корейскийязык ...   \nyoutube#searchResult  Кореянка в Золотом Яблоке. Почему русские поку...   \n...                                                                 ...   \nyoutube#searchResult     Корейская косметика#крем#farm stay#зеленый чай   \nyoutube#searchResult  Самые лучшие шампуни для жирной кожи головы | ...   \nyoutube#searchResult  Обзор на набор Atomy Absolute CellActive. Прем...   \nyoutube#searchResult  Покупки уходовой косметики за весну 2022 | Кор...   \nyoutube#searchResult  Экскурсия по корейскому сайту Атоми.Обзор на п...   \n\n                                                    snippet.description  \\\nkind                                                                      \nyoutube#searchResult  На российских маркетплейсах продается огромное...   \nyoutube#searchResult                                                NaN   \nyoutube#searchResult  подписаться: https://goo.gl/3QbeUf -----------...   \nyoutube#searchResult                                                NaN   \nyoutube#searchResult  кореянка#золотоеяблоко#корейскаякосметика прив...   \n...                                                                 ...   \nyoutube#searchResult  Питательный корейский крем от Farm stay . Подр...   \nyoutube#searchResult  Шампунь против перхоти La'Dor Anti-Dandruff Sh...   \nyoutube#searchResult  Всем привет! В этом видео я сделала обзор на н...   \nyoutube#searchResult  Видео о моих покупках уходовой косметики за ве...   \nyoutube#searchResult                                                NaN   \n\n                                      snippet.thumbnails.default.url  \\\nkind                                                                   \nyoutube#searchResult  https://i.ytimg.com/vi/AAjsSrjZXsw/default.jpg   \nyoutube#searchResult  https://i.ytimg.com/vi/yk4Wjr3j7QY/default.jpg   \nyoutube#searchResult  https://i.ytimg.com/vi/Wi49rKRM85U/default.jpg   \nyoutube#searchResult  https://i.ytimg.com/vi/kSiaxefvCgM/default.jpg   \nyoutube#searchResult  https://i.ytimg.com/vi/4nqfUzIz7kQ/default.jpg   \n...                                                              ...   \nyoutube#searchResult  https://i.ytimg.com/vi/h2B_zgdX__Y/default.jpg   \nyoutube#searchResult  https://i.ytimg.com/vi/VlWKjch_m5c/default.jpg   \nyoutube#searchResult  https://i.ytimg.com/vi/AZj6WbmSH7c/default.jpg   \nyoutube#searchResult  https://i.ytimg.com/vi/dxXgiu8cHgw/default.jpg   \nyoutube#searchResult  https://i.ytimg.com/vi/13uidr0mxAs/default.jpg   \n\n                      snippet.thumbnails.default.width  \\\nkind                                                     \nyoutube#searchResult                               120   \nyoutube#searchResult                               120   \nyoutube#searchResult                               120   \nyoutube#searchResult                               120   \nyoutube#searchResult                               120   \n...                                                ...   \nyoutube#searchResult                               120   \nyoutube#searchResult                               120   \nyoutube#searchResult                               120   \nyoutube#searchResult                               120   \nyoutube#searchResult                               120   \n\n                      snippet.thumbnails.default.height  \\\nkind                                                      \nyoutube#searchResult                                 90   \nyoutube#searchResult                                 90   \nyoutube#searchResult                                 90   \nyoutube#searchResult                                 90   \nyoutube#searchResult                                 90   \n...                                                 ...   \nyoutube#searchResult                                 90   \nyoutube#searchResult                                 90   \nyoutube#searchResult                                 90   \nyoutube#searchResult                                 90   \nyoutube#searchResult                                 90   \n\n                                         snippet.thumbnails.medium.url  \\\nkind                                                                     \nyoutube#searchResult  https://i.ytimg.com/vi/AAjsSrjZXsw/mqdefault.jpg   \nyoutube#searchResult  https://i.ytimg.com/vi/yk4Wjr3j7QY/mqdefault.jpg   \nyoutube#searchResult  https://i.ytimg.com/vi/Wi49rKRM85U/mqdefault.jpg   \nyoutube#searchResult  https://i.ytimg.com/vi/kSiaxefvCgM/mqdefault.jpg   \nyoutube#searchResult  https://i.ytimg.com/vi/4nqfUzIz7kQ/mqdefault.jpg   \n...                                                                ...   \nyoutube#searchResult  https://i.ytimg.com/vi/h2B_zgdX__Y/mqdefault.jpg   \nyoutube#searchResult  https://i.ytimg.com/vi/VlWKjch_m5c/mqdefault.jpg   \nyoutube#searchResult  https://i.ytimg.com/vi/AZj6WbmSH7c/mqdefault.jpg   \nyoutube#searchResult  https://i.ytimg.com/vi/dxXgiu8cHgw/mqdefault.jpg   \nyoutube#searchResult  https://i.ytimg.com/vi/13uidr0mxAs/mqdefault.jpg   \n\n                      snippet.thumbnails.medium.width  \\\nkind                                                    \nyoutube#searchResult                              320   \nyoutube#searchResult                              320   \nyoutube#searchResult                              320   \nyoutube#searchResult                              320   \nyoutube#searchResult                              320   \n...                                               ...   \nyoutube#searchResult                              320   \nyoutube#searchResult                              320   \nyoutube#searchResult                              320   \nyoutube#searchResult                              320   \nyoutube#searchResult                              320   \n\n                      snippet.thumbnails.medium.height  \\\nkind                                                     \nyoutube#searchResult                               180   \nyoutube#searchResult                               180   \nyoutube#searchResult                               180   \nyoutube#searchResult                               180   \nyoutube#searchResult                               180   \n...                                                ...   \nyoutube#searchResult                               180   \nyoutube#searchResult                               180   \nyoutube#searchResult                               180   \nyoutube#searchResult                               180   \nyoutube#searchResult                               180   \n\n                                           snippet.thumbnails.high.url  \\\nkind                                                                     \nyoutube#searchResult  https://i.ytimg.com/vi/AAjsSrjZXsw/hqdefault.jpg   \nyoutube#searchResult  https://i.ytimg.com/vi/yk4Wjr3j7QY/hqdefault.jpg   \nyoutube#searchResult  https://i.ytimg.com/vi/Wi49rKRM85U/hqdefault.jpg   \nyoutube#searchResult  https://i.ytimg.com/vi/kSiaxefvCgM/hqdefault.jpg   \nyoutube#searchResult  https://i.ytimg.com/vi/4nqfUzIz7kQ/hqdefault.jpg   \n...                                                                ...   \nyoutube#searchResult  https://i.ytimg.com/vi/h2B_zgdX__Y/hqdefault.jpg   \nyoutube#searchResult  https://i.ytimg.com/vi/VlWKjch_m5c/hqdefault.jpg   \nyoutube#searchResult  https://i.ytimg.com/vi/AZj6WbmSH7c/hqdefault.jpg   \nyoutube#searchResult  https://i.ytimg.com/vi/dxXgiu8cHgw/hqdefault.jpg   \nyoutube#searchResult  https://i.ytimg.com/vi/13uidr0mxAs/hqdefault.jpg   \n\n                      snippet.thumbnails.high.width  \\\nkind                                                  \nyoutube#searchResult                            480   \nyoutube#searchResult                            480   \nyoutube#searchResult                            480   \nyoutube#searchResult                            480   \nyoutube#searchResult                            480   \n...                                             ...   \nyoutube#searchResult                            480   \nyoutube#searchResult                            480   \nyoutube#searchResult                            480   \nyoutube#searchResult                            480   \nyoutube#searchResult                            480   \n\n                      snippet.thumbnails.high.height  \\\nkind                                                   \nyoutube#searchResult                             360   \nyoutube#searchResult                             360   \nyoutube#searchResult                             360   \nyoutube#searchResult                             360   \nyoutube#searchResult                             360   \n...                                              ...   \nyoutube#searchResult                             360   \nyoutube#searchResult                             360   \nyoutube#searchResult                             360   \nyoutube#searchResult                             360   \nyoutube#searchResult                             360   \n\n                                 snippet.channelTitle  \\\nkind                                                    \nyoutube#searchResult                    katyakonasova   \nyoutube#searchResult                     altyshkorea    \nyoutube#searchResult   Kyunghamin твоя корейская онни   \nyoutube#searchResult                     altyshkorea    \nyoutube#searchResult   Kyunghamin твоя корейская онни   \n...                                               ...   \nyoutube#searchResult              Корейская косметика   \nyoutube#searchResult  Lotus Fresh Корейская Косметика   \nyoutube#searchResult             Кореянка о косметике   \nyoutube#searchResult                          Juliana   \nyoutube#searchResult                 Наталия Дорохова   \n\n                     snippet.liveBroadcastContent   snippet.publishTime  \nkind                                                                     \nyoutube#searchResult                         none  2021-03-10T13:46:47Z  \nyoutube#searchResult                         none  2023-02-05T04:32:39Z  \nyoutube#searchResult                         none  2022-06-20T12:57:48Z  \nyoutube#searchResult                         none  2023-02-11T12:43:25Z  \nyoutube#searchResult                         none  2021-11-12T14:59:32Z  \n...                                           ...                   ...  \nyoutube#searchResult                         none  2019-02-23T18:27:23Z  \nyoutube#searchResult                         none  2020-12-05T12:11:49Z  \nyoutube#searchResult                         none  2022-06-28T09:01:32Z  \nyoutube#searchResult                         none  2022-06-09T11:15:15Z  \nyoutube#searchResult                         none  2023-03-13T23:28:01Z  \n\n[827 rows x 19 columns]",
      "text/html": "<div>\n<style scoped>\n    .dataframe tbody tr th:only-of-type {\n        vertical-align: middle;\n    }\n\n    .dataframe tbody tr th {\n        vertical-align: top;\n    }\n\n    .dataframe thead th {\n        text-align: right;\n    }\n</style>\n<table border=\"1\" class=\"dataframe\">\n  <thead>\n    <tr style=\"text-align: right;\">\n      <th></th>\n      <th>etag</th>\n      <th>id.kind</th>\n      <th>id.videoId</th>\n      <th>snippet.publishedAt</th>\n      <th>snippet.channelId</th>\n      <th>snippet.title</th>\n      <th>snippet.description</th>\n      <th>snippet.thumbnails.default.url</th>\n      <th>snippet.thumbnails.default.width</th>\n      <th>snippet.thumbnails.default.height</th>\n      <th>snippet.thumbnails.medium.url</th>\n      <th>snippet.thumbnails.medium.width</th>\n      <th>snippet.thumbnails.medium.height</th>\n      <th>snippet.thumbnails.high.url</th>\n      <th>snippet.thumbnails.high.width</th>\n      <th>snippet.thumbnails.high.height</th>\n      <th>snippet.channelTitle</th>\n      <th>snippet.liveBroadcastContent</th>\n      <th>snippet.publishTime</th>\n    </tr>\n    <tr>\n      <th>kind</th>\n      <th></th>\n      <th></th>\n      <th></th>\n      <th></th>\n      <th></th>\n      <th></th>\n      <th></th>\n      <th></th>\n      <th></th>\n      <th></th>\n      <th></th>\n      <th></th>\n      <th></th>\n      <th></th>\n      <th></th>\n      <th></th>\n      <th></th>\n      <th></th>\n      <th></th>\n    </tr>\n  </thead>\n  <tbody>\n    <tr>\n      <th>youtube#searchResult</th>\n      <td>EQDFH4sq29F4tLopSvBzT1Owm1M</td>\n      <td>youtube#video</td>\n      <td>AAjsSrjZXsw</td>\n      <td>2021-03-10T13:46:47Z</td>\n      <td>UCh29SdTOPdjBb-n3Vop1lYg</td>\n      <td>Расследование | Паленая косметика на Ozon и Wi...</td>\n      <td>На российских маркетплейсах продается огромное...</td>\n      <td>https://i.ytimg.com/vi/AAjsSrjZXsw/default.jpg</td>\n      <td>120</td>\n      <td>90</td>\n      <td>https://i.ytimg.com/vi/AAjsSrjZXsw/mqdefault.jpg</td>\n      <td>320</td>\n      <td>180</td>\n      <td>https://i.ytimg.com/vi/AAjsSrjZXsw/hqdefault.jpg</td>\n      <td>480</td>\n      <td>360</td>\n      <td>katyakonasova</td>\n      <td>none</td>\n      <td>2021-03-10T13:46:47Z</td>\n    </tr>\n    <tr>\n      <th>youtube#searchResult</th>\n      <td>P1X20DCj2WrucSb9ldNXa1bYGQU</td>\n      <td>youtube#video</td>\n      <td>yk4Wjr3j7QY</td>\n      <td>2023-02-05T04:32:39Z</td>\n      <td>UCfcMgRNXey6TQkov9mgVgoA</td>\n      <td>Пляжная мода в Корее #этокореядетка #корейская...</td>\n      <td>NaN</td>\n      <td>https://i.ytimg.com/vi/yk4Wjr3j7QY/default.jpg</td>\n      <td>120</td>\n      <td>90</td>\n      <td>https://i.ytimg.com/vi/yk4Wjr3j7QY/mqdefault.jpg</td>\n      <td>320</td>\n      <td>180</td>\n      <td>https://i.ytimg.com/vi/yk4Wjr3j7QY/hqdefault.jpg</td>\n      <td>480</td>\n      <td>360</td>\n      <td>altyshkorea</td>\n      <td>none</td>\n      <td>2023-02-05T04:32:39Z</td>\n    </tr>\n    <tr>\n      <th>youtube#searchResult</th>\n      <td>KC_LG8xTt9DjwtELdwXsHef8Y2g</td>\n      <td>youtube#video</td>\n      <td>Wi49rKRM85U</td>\n      <td>2022-06-20T12:57:48Z</td>\n      <td>UCphnZS52v_lkv5RSl5n70tQ</td>\n      <td>한국인들은 절대 안사는 화장품 КОСМЕТИКА КОТОРАЯ КОРЕЯНКИ ВО...</td>\n      <td>подписаться: https://goo.gl/3QbeUf -----------...</td>\n      <td>https://i.ytimg.com/vi/Wi49rKRM85U/default.jpg</td>\n      <td>120</td>\n      <td>90</td>\n      <td>https://i.ytimg.com/vi/Wi49rKRM85U/mqdefault.jpg</td>\n      <td>320</td>\n      <td>180</td>\n      <td>https://i.ytimg.com/vi/Wi49rKRM85U/hqdefault.jpg</td>\n      <td>480</td>\n      <td>360</td>\n      <td>Kyunghamin твоя корейская онни</td>\n      <td>none</td>\n      <td>2022-06-20T12:57:48Z</td>\n    </tr>\n    <tr>\n      <th>youtube#searchResult</th>\n      <td>jLZGccW4KN5uL3WAMK7JggpPUsc</td>\n      <td>youtube#video</td>\n      <td>kSiaxefvCgM</td>\n      <td>2023-02-11T12:43:25Z</td>\n      <td>UCfcMgRNXey6TQkov9mgVgoA</td>\n      <td>Жилищный вопрос: Корея #дорамы #корейскийязык ...</td>\n      <td>NaN</td>\n      <td>https://i.ytimg.com/vi/kSiaxefvCgM/default.jpg</td>\n      <td>120</td>\n      <td>90</td>\n      <td>https://i.ytimg.com/vi/kSiaxefvCgM/mqdefault.jpg</td>\n      <td>320</td>\n      <td>180</td>\n      <td>https://i.ytimg.com/vi/kSiaxefvCgM/hqdefault.jpg</td>\n      <td>480</td>\n      <td>360</td>\n      <td>altyshkorea</td>\n      <td>none</td>\n      <td>2023-02-11T12:43:25Z</td>\n    </tr>\n    <tr>\n      <th>youtube#searchResult</th>\n      <td>dltiYtp7e0SGjSrmXCopbsnWyVQ</td>\n      <td>youtube#video</td>\n      <td>4nqfUzIz7kQ</td>\n      <td>2021-11-12T14:59:32Z</td>\n      <td>UCphnZS52v_lkv5RSl5n70tQ</td>\n      <td>Кореянка в Золотом Яблоке. Почему русские поку...</td>\n      <td>кореянка#золотоеяблоко#корейскаякосметика прив...</td>\n      <td>https://i.ytimg.com/vi/4nqfUzIz7kQ/default.jpg</td>\n      <td>120</td>\n      <td>90</td>\n      <td>https://i.ytimg.com/vi/4nqfUzIz7kQ/mqdefault.jpg</td>\n      <td>320</td>\n      <td>180</td>\n      <td>https://i.ytimg.com/vi/4nqfUzIz7kQ/hqdefault.jpg</td>\n      <td>480</td>\n      <td>360</td>\n      <td>Kyunghamin твоя корейская онни</td>\n      <td>none</td>\n      <td>2021-11-12T14:59:32Z</td>\n    </tr>\n    <tr>\n      <th>...</th>\n      <td>...</td>\n      <td>...</td>\n      <td>...</td>\n      <td>...</td>\n      <td>...</td>\n      <td>...</td>\n      <td>...</td>\n      <td>...</td>\n      <td>...</td>\n      <td>...</td>\n      <td>...</td>\n      <td>...</td>\n      <td>...</td>\n      <td>...</td>\n      <td>...</td>\n      <td>...</td>\n      <td>...</td>\n      <td>...</td>\n      <td>...</td>\n    </tr>\n    <tr>\n      <th>youtube#searchResult</th>\n      <td>mBOUDV2CcPUuRmwdRamWekcdljo</td>\n      <td>youtube#video</td>\n      <td>h2B_zgdX__Y</td>\n      <td>2019-02-23T18:27:23Z</td>\n      <td>UCaqikEbNbRJaUv-DKPFPOHQ</td>\n      <td>Корейская косметика#крем#farm stay#зеленый чай</td>\n      <td>Питательный корейский крем от Farm stay . Подр...</td>\n      <td>https://i.ytimg.com/vi/h2B_zgdX__Y/default.jpg</td>\n      <td>120</td>\n      <td>90</td>\n      <td>https://i.ytimg.com/vi/h2B_zgdX__Y/mqdefault.jpg</td>\n      <td>320</td>\n      <td>180</td>\n      <td>https://i.ytimg.com/vi/h2B_zgdX__Y/hqdefault.jpg</td>\n      <td>480</td>\n      <td>360</td>\n      <td>Корейская косметика</td>\n      <td>none</td>\n      <td>2019-02-23T18:27:23Z</td>\n    </tr>\n    <tr>\n      <th>youtube#searchResult</th>\n      <td>kd7-kiciAX96a0us39wBpxi_hI0</td>\n      <td>youtube#video</td>\n      <td>VlWKjch_m5c</td>\n      <td>2020-12-05T12:11:49Z</td>\n      <td>UCaRfOL6s_IPjQ3LKcMqDxZg</td>\n      <td>Самые лучшие шампуни для жирной кожи головы | ...</td>\n      <td>Шампунь против перхоти La'Dor Anti-Dandruff Sh...</td>\n      <td>https://i.ytimg.com/vi/VlWKjch_m5c/default.jpg</td>\n      <td>120</td>\n      <td>90</td>\n      <td>https://i.ytimg.com/vi/VlWKjch_m5c/mqdefault.jpg</td>\n      <td>320</td>\n      <td>180</td>\n      <td>https://i.ytimg.com/vi/VlWKjch_m5c/hqdefault.jpg</td>\n      <td>480</td>\n      <td>360</td>\n      <td>Lotus Fresh Корейская Косметика</td>\n      <td>none</td>\n      <td>2020-12-05T12:11:49Z</td>\n    </tr>\n    <tr>\n      <th>youtube#searchResult</th>\n      <td>tHOYnpvWStjOBH1OdVwpJCNOJMc</td>\n      <td>youtube#video</td>\n      <td>AZj6WbmSH7c</td>\n      <td>2022-06-28T09:01:32Z</td>\n      <td>UCYfIVot-gXDXDnPa6oBur3w</td>\n      <td>Обзор на набор Atomy Absolute CellActive. Прем...</td>\n      <td>Всем привет! В этом видео я сделала обзор на н...</td>\n      <td>https://i.ytimg.com/vi/AZj6WbmSH7c/default.jpg</td>\n      <td>120</td>\n      <td>90</td>\n      <td>https://i.ytimg.com/vi/AZj6WbmSH7c/mqdefault.jpg</td>\n      <td>320</td>\n      <td>180</td>\n      <td>https://i.ytimg.com/vi/AZj6WbmSH7c/hqdefault.jpg</td>\n      <td>480</td>\n      <td>360</td>\n      <td>Кореянка о косметике</td>\n      <td>none</td>\n      <td>2022-06-28T09:01:32Z</td>\n    </tr>\n    <tr>\n      <th>youtube#searchResult</th>\n      <td>3_OQBRon3OK8B7SJjgP_Fq1DYew</td>\n      <td>youtube#video</td>\n      <td>dxXgiu8cHgw</td>\n      <td>2022-06-09T11:15:15Z</td>\n      <td>UCBUFHAAQQUrOJ3UcnJZ02zg</td>\n      <td>Покупки уходовой косметики за весну 2022 | Кор...</td>\n      <td>Видео о моих покупках уходовой косметики за ве...</td>\n      <td>https://i.ytimg.com/vi/dxXgiu8cHgw/default.jpg</td>\n      <td>120</td>\n      <td>90</td>\n      <td>https://i.ytimg.com/vi/dxXgiu8cHgw/mqdefault.jpg</td>\n      <td>320</td>\n      <td>180</td>\n      <td>https://i.ytimg.com/vi/dxXgiu8cHgw/hqdefault.jpg</td>\n      <td>480</td>\n      <td>360</td>\n      <td>Juliana</td>\n      <td>none</td>\n      <td>2022-06-09T11:15:15Z</td>\n    </tr>\n    <tr>\n      <th>youtube#searchResult</th>\n      <td>3ro0ddBCnnljqOclv7kVrJK-4ig</td>\n      <td>youtube#video</td>\n      <td>13uidr0mxAs</td>\n      <td>2023-03-13T23:28:01Z</td>\n      <td>UCKKP0IoVSVpcDQJGpkp1BTg</td>\n      <td>Экскурсия по корейскому сайту Атоми.Обзор на п...</td>\n      <td>NaN</td>\n      <td>https://i.ytimg.com/vi/13uidr0mxAs/default.jpg</td>\n      <td>120</td>\n      <td>90</td>\n      <td>https://i.ytimg.com/vi/13uidr0mxAs/mqdefault.jpg</td>\n      <td>320</td>\n      <td>180</td>\n      <td>https://i.ytimg.com/vi/13uidr0mxAs/hqdefault.jpg</td>\n      <td>480</td>\n      <td>360</td>\n      <td>Наталия Дорохова</td>\n      <td>none</td>\n      <td>2023-03-13T23:28:01Z</td>\n    </tr>\n  </tbody>\n</table>\n<p>827 rows × 19 columns</p>\n</div>"
     },
     "metadata": {},
     "output_type": "display_data"
    },
    {
     "data": {
      "text/plain": "'Совпадений двух столбцов: 827'"
     },
     "metadata": {},
     "output_type": "display_data"
    }
   ],
   "source": [
    "# 21 Проверка совпадения двух столбцов из выдачи:\n",
    "df_supplemented = pd.read_excel(DATA_PATH / f'{query}_{type_query.capitalize()}_Not_sorted+Sorted.xlsx', index_col=0)\n",
    "# возврат к выдаче без учета date; указание, что индекс в первом столбце\n",
    "\n",
    "display(\n",
    "    df_supplemented,\n",
    "    # df_supplemented['snippet.publishedAt'] == df_supplemented['snippet.publishTime'],\n",
    "    f\"Совпадений двух столбцов: {sum(df_supplemented['snippet.publishedAt'] == df_supplemented['snippet.publishTime'])}\"\n",
    "    )"
   ]
  },
  {
   "cell_type": "code",
   "execution_count": 48,
   "id": "0d0dd752",
   "metadata": {
    "ExecuteTime": {
     "start_time": "2023-04-08T12:01:32.081623Z",
     "end_time": "2023-04-08T12:01:32.085979Z"
    }
   },
   "outputs": [
    {
     "data": {
      "text/plain": "'2023'"
     },
     "execution_count": 48,
     "metadata": {},
     "output_type": "execute_result"
    }
   ],
   "source": [
    "# 22 Проверка индексирования содержимого столбца snippet.publishedAt и строчки №1:\n",
    "df_supplemented['snippet.publishedAt'][1][:4]"
   ]
  },
  {
   "cell_type": "code",
   "execution_count": 59,
   "id": "1fa03349",
   "metadata": {
    "ExecuteTime": {
     "start_time": "2023-04-08T12:01:34.771415Z",
     "end_time": "2023-04-08T12:01:34.782580Z"
    }
   },
   "outputs": [
    {
     "ename": "TypeError",
     "evalue": "'int' object is not subscriptable",
     "output_type": "error",
     "traceback": [
      "\u001B[0;31m---------------------------------------------------------------------------\u001B[0m",
      "\u001B[0;31mTypeError\u001B[0m                                 Traceback (most recent call last)",
      "Cell \u001B[0;32mIn[59], line 2\u001B[0m\n\u001B[1;32m      1\u001B[0m \u001B[38;5;66;03m# 23 Lambda-функция для перезаписи в столбец snippet.publishedAt только года:\u001B[39;00m\n\u001B[0;32m----> 2\u001B[0m df_supplemented[\u001B[38;5;124m'\u001B[39m\u001B[38;5;124myear\u001B[39m\u001B[38;5;124m'\u001B[39m] \u001B[38;5;241m=\u001B[39m \u001B[43mdf_supplemented\u001B[49m\u001B[43m[\u001B[49m\u001B[38;5;124;43m'\u001B[39;49m\u001B[38;5;124;43msnippet.publishedAt\u001B[39;49m\u001B[38;5;124;43m'\u001B[39;49m\u001B[43m]\u001B[49m\u001B[38;5;241;43m.\u001B[39;49m\u001B[43mapply\u001B[49m\u001B[43m(\u001B[49m\u001B[38;5;28;43;01mlambda\u001B[39;49;00m\u001B[43m \u001B[49m\u001B[43myyyy\u001B[49m\u001B[43m:\u001B[49m\u001B[43m \u001B[49m\u001B[38;5;28;43mint\u001B[39;49m\u001B[43m(\u001B[49m\u001B[43myyyy\u001B[49m\u001B[43m[\u001B[49m\u001B[43m:\u001B[49m\u001B[38;5;241;43m4\u001B[39;49m\u001B[43m]\u001B[49m\u001B[43m)\u001B[49m\u001B[43m)\u001B[49m\n\u001B[1;32m      3\u001B[0m df_supplemented[\u001B[38;5;124m'\u001B[39m\u001B[38;5;124myear\u001B[39m\u001B[38;5;124m'\u001B[39m]\n",
      "File \u001B[0;32m~/PycharmProjects/DataMiningProjects/.venv/lib/python3.10/site-packages/pandas/core/series.py:4771\u001B[0m, in \u001B[0;36mSeries.apply\u001B[0;34m(self, func, convert_dtype, args, **kwargs)\u001B[0m\n\u001B[1;32m   4661\u001B[0m \u001B[38;5;28;01mdef\u001B[39;00m \u001B[38;5;21mapply\u001B[39m(\n\u001B[1;32m   4662\u001B[0m     \u001B[38;5;28mself\u001B[39m,\n\u001B[1;32m   4663\u001B[0m     func: AggFuncType,\n\u001B[0;32m   (...)\u001B[0m\n\u001B[1;32m   4666\u001B[0m     \u001B[38;5;241m*\u001B[39m\u001B[38;5;241m*\u001B[39mkwargs,\n\u001B[1;32m   4667\u001B[0m ) \u001B[38;5;241m-\u001B[39m\u001B[38;5;241m>\u001B[39m DataFrame \u001B[38;5;241m|\u001B[39m Series:\n\u001B[1;32m   4668\u001B[0m \u001B[38;5;250m    \u001B[39m\u001B[38;5;124;03m\"\"\"\u001B[39;00m\n\u001B[1;32m   4669\u001B[0m \u001B[38;5;124;03m    Invoke function on values of Series.\u001B[39;00m\n\u001B[1;32m   4670\u001B[0m \n\u001B[0;32m   (...)\u001B[0m\n\u001B[1;32m   4769\u001B[0m \u001B[38;5;124;03m    dtype: float64\u001B[39;00m\n\u001B[1;32m   4770\u001B[0m \u001B[38;5;124;03m    \"\"\"\u001B[39;00m\n\u001B[0;32m-> 4771\u001B[0m     \u001B[38;5;28;01mreturn\u001B[39;00m \u001B[43mSeriesApply\u001B[49m\u001B[43m(\u001B[49m\u001B[38;5;28;43mself\u001B[39;49m\u001B[43m,\u001B[49m\u001B[43m \u001B[49m\u001B[43mfunc\u001B[49m\u001B[43m,\u001B[49m\u001B[43m \u001B[49m\u001B[43mconvert_dtype\u001B[49m\u001B[43m,\u001B[49m\u001B[43m \u001B[49m\u001B[43margs\u001B[49m\u001B[43m,\u001B[49m\u001B[43m \u001B[49m\u001B[43mkwargs\u001B[49m\u001B[43m)\u001B[49m\u001B[38;5;241;43m.\u001B[39;49m\u001B[43mapply\u001B[49m\u001B[43m(\u001B[49m\u001B[43m)\u001B[49m\n",
      "File \u001B[0;32m~/PycharmProjects/DataMiningProjects/.venv/lib/python3.10/site-packages/pandas/core/apply.py:1123\u001B[0m, in \u001B[0;36mSeriesApply.apply\u001B[0;34m(self)\u001B[0m\n\u001B[1;32m   1120\u001B[0m     \u001B[38;5;28;01mreturn\u001B[39;00m \u001B[38;5;28mself\u001B[39m\u001B[38;5;241m.\u001B[39mapply_str()\n\u001B[1;32m   1122\u001B[0m \u001B[38;5;66;03m# self.f is Callable\u001B[39;00m\n\u001B[0;32m-> 1123\u001B[0m \u001B[38;5;28;01mreturn\u001B[39;00m \u001B[38;5;28;43mself\u001B[39;49m\u001B[38;5;241;43m.\u001B[39;49m\u001B[43mapply_standard\u001B[49m\u001B[43m(\u001B[49m\u001B[43m)\u001B[49m\n",
      "File \u001B[0;32m~/PycharmProjects/DataMiningProjects/.venv/lib/python3.10/site-packages/pandas/core/apply.py:1174\u001B[0m, in \u001B[0;36mSeriesApply.apply_standard\u001B[0;34m(self)\u001B[0m\n\u001B[1;32m   1172\u001B[0m     \u001B[38;5;28;01melse\u001B[39;00m:\n\u001B[1;32m   1173\u001B[0m         values \u001B[38;5;241m=\u001B[39m obj\u001B[38;5;241m.\u001B[39mastype(\u001B[38;5;28mobject\u001B[39m)\u001B[38;5;241m.\u001B[39m_values\n\u001B[0;32m-> 1174\u001B[0m         mapped \u001B[38;5;241m=\u001B[39m \u001B[43mlib\u001B[49m\u001B[38;5;241;43m.\u001B[39;49m\u001B[43mmap_infer\u001B[49m\u001B[43m(\u001B[49m\n\u001B[1;32m   1175\u001B[0m \u001B[43m            \u001B[49m\u001B[43mvalues\u001B[49m\u001B[43m,\u001B[49m\n\u001B[1;32m   1176\u001B[0m \u001B[43m            \u001B[49m\u001B[43mf\u001B[49m\u001B[43m,\u001B[49m\n\u001B[1;32m   1177\u001B[0m \u001B[43m            \u001B[49m\u001B[43mconvert\u001B[49m\u001B[38;5;241;43m=\u001B[39;49m\u001B[38;5;28;43mself\u001B[39;49m\u001B[38;5;241;43m.\u001B[39;49m\u001B[43mconvert_dtype\u001B[49m\u001B[43m,\u001B[49m\n\u001B[1;32m   1178\u001B[0m \u001B[43m        \u001B[49m\u001B[43m)\u001B[49m\n\u001B[1;32m   1180\u001B[0m \u001B[38;5;28;01mif\u001B[39;00m \u001B[38;5;28mlen\u001B[39m(mapped) \u001B[38;5;129;01mand\u001B[39;00m \u001B[38;5;28misinstance\u001B[39m(mapped[\u001B[38;5;241m0\u001B[39m], ABCSeries):\n\u001B[1;32m   1181\u001B[0m     \u001B[38;5;66;03m# GH#43986 Need to do list(mapped) in order to get treated as nested\u001B[39;00m\n\u001B[1;32m   1182\u001B[0m     \u001B[38;5;66;03m#  See also GH#25959 regarding EA support\u001B[39;00m\n\u001B[1;32m   1183\u001B[0m     \u001B[38;5;28;01mreturn\u001B[39;00m obj\u001B[38;5;241m.\u001B[39m_constructor_expanddim(\u001B[38;5;28mlist\u001B[39m(mapped), index\u001B[38;5;241m=\u001B[39mobj\u001B[38;5;241m.\u001B[39mindex)\n",
      "File \u001B[0;32m~/PycharmProjects/DataMiningProjects/.venv/lib/python3.10/site-packages/pandas/_libs/lib.pyx:2924\u001B[0m, in \u001B[0;36mpandas._libs.lib.map_infer\u001B[0;34m()\u001B[0m\n",
      "Cell \u001B[0;32mIn[59], line 2\u001B[0m, in \u001B[0;36m<lambda>\u001B[0;34m(yyyy)\u001B[0m\n\u001B[1;32m      1\u001B[0m \u001B[38;5;66;03m# 23 Lambda-функция для перезаписи в столбец snippet.publishedAt только года:\u001B[39;00m\n\u001B[0;32m----> 2\u001B[0m df_supplemented[\u001B[38;5;124m'\u001B[39m\u001B[38;5;124myear\u001B[39m\u001B[38;5;124m'\u001B[39m] \u001B[38;5;241m=\u001B[39m df_supplemented[\u001B[38;5;124m'\u001B[39m\u001B[38;5;124msnippet.publishedAt\u001B[39m\u001B[38;5;124m'\u001B[39m]\u001B[38;5;241m.\u001B[39mapply(\u001B[38;5;28;01mlambda\u001B[39;00m yyyy: \u001B[38;5;28mint\u001B[39m(\u001B[43myyyy\u001B[49m\u001B[43m[\u001B[49m\u001B[43m:\u001B[49m\u001B[38;5;241;43m4\u001B[39;49m\u001B[43m]\u001B[49m))\n\u001B[1;32m      3\u001B[0m df_supplemented[\u001B[38;5;124m'\u001B[39m\u001B[38;5;124myear\u001B[39m\u001B[38;5;124m'\u001B[39m]\n",
      "\u001B[0;31mTypeError\u001B[0m: 'int' object is not subscriptable"
     ]
    }
   ],
   "source": [
    "# 23 Lambda-функция для перезаписи в столбец snippet.publishedAt только года:\n",
    "df_supplemented['year'] = df_supplemented['snippet.publishedAt'].apply(lambda yyyy: int(yyyy[:4]))\n",
    "df_supplemented['year']"
   ]
  },
  {
   "cell_type": "code",
   "execution_count": 50,
   "id": "94b33468",
   "metadata": {
    "ExecuteTime": {
     "start_time": "2023-04-08T12:01:37.329067Z",
     "end_time": "2023-04-08T12:01:37.344662Z"
    }
   },
   "outputs": [
    {
     "name": "stdout",
     "output_type": "stream",
     "text": [
      "Минимальный год с видео 2013\n",
      "Максимальный год с видео 2023\n"
     ]
    }
   ],
   "source": [
    "# 24 Поиск самого раннего года:\n",
    "min_date = min(df_supplemented['snippet.publishedAt'])\n",
    "max_date = max(df_supplemented['snippet.publishedAt'])\n",
    "\n",
    "print(\"Минимальный год с видео\", min_date)\n",
    "print(\"Максимальный год с видео\", max_date)"
   ]
  },
  {
   "cell_type": "code",
   "execution_count": 32,
   "outputs": [],
   "source": [],
   "metadata": {
    "collapsed": false
   }
  },
  {
   "cell_type": "code",
   "execution_count": 56,
   "id": "6bb16b87",
   "metadata": {
    "ExecuteTime": {
     "start_time": "2023-04-08T12:02:21.482203Z",
     "end_time": "2023-04-08T12:03:08.170794Z"
    }
   },
   "outputs": [
    {
     "name": "stdout",
     "output_type": "stream",
     "text": [
      "Итерация №0, \"date\" 2018\n",
      "Итерация №1, \"date\" 2018\n",
      "Итерация №2, \"date\" 2018\n",
      "Итерация №3, \"date\" 2018\n",
      "Итерация №4, \"date\" 2018\n",
      "Итерация №5, \"date\" 2018\n",
      "Итерация №6, \"date\" 2018\n",
      "Итерация №7, \"date\" 2018\n",
      "Итерация №8, \"date\" 2018\n",
      "Итерация №9, \"date\" 2018\n",
      "Итерация №10, \"date\" 2018\n",
      "Искомых объектов с 2018 года 830595,       а найденных 1007\n",
      "Итерация №11, \"date\" 2019\n",
      "Итерация №12, \"date\" 2019\n",
      "Итерация №13, \"date\" 2019\n",
      "Итерация №14, \"date\" 2019\n",
      "Итерация №15, \"date\" 2019\n",
      "Итерация №16, \"date\" 2019\n",
      "Итерация №17, \"date\" 2019\n",
      "Итерация №18, \"date\" 2019\n",
      "Итерация №19, \"date\" 2019\n",
      "Итерация №20, \"date\" 2019\n",
      "Итерация №21, \"date\" 2019\n",
      "Искомых объектов с 2019 года 776840,       а найденных 1031\n",
      "Итерация №22, \"date\" 2020\n",
      "Итерация №23, \"date\" 2020\n",
      "Итерация №24, \"date\" 2020\n",
      "Итерация №25, \"date\" 2020\n",
      "Итерация №26, \"date\" 2020\n",
      "Итерация №27, \"date\" 2020\n",
      "Итерация №28, \"date\" 2020\n",
      "Итерация №29, \"date\" 2020\n",
      "Итерация №30, \"date\" 2020\n",
      "Итерация №31, \"date\" 2020\n",
      "Итерация №32, \"date\" 2020\n",
      "Искомых объектов с 2020 года 592828,       а найденных 1047\n",
      "Итерация №33, \"date\" 2021\n",
      "Итерация №34, \"date\" 2021\n",
      "Итерация №35, \"date\" 2021\n",
      "Итерация №36, \"date\" 2021\n",
      "Итерация №37, \"date\" 2021\n",
      "Итерация №38, \"date\" 2021\n",
      "Итерация №39, \"date\" 2021\n",
      "Итерация №40, \"date\" 2021\n",
      "Итерация №41, \"date\" 2021\n",
      "Итерация №42, \"date\" 2021\n",
      "Итерация №43, \"date\" 2021\n",
      "Искомых объектов с 2021 года 404439,       а найденных 1086\n",
      "Итерация №44, \"date\" 2022\n",
      "Итерация №45, \"date\" 2022\n",
      "Итерация №46, \"date\" 2022\n",
      "Итерация №47, \"date\" 2022\n",
      "Итерация №48, \"date\" 2022\n",
      "Итерация №49, \"date\" 2022\n",
      "Итерация №50, \"date\" 2022\n",
      "Итерация №51, \"date\" 2022\n",
      "Итерация №52, \"date\" 2022\n",
      "Итерация №53, \"date\" 2022\n",
      "Итерация №54, \"date\" 2022\n",
      "Искомых объектов с 2022 года 240060,       а найденных 1134\n",
      "Итерация №55, \"date\" 2023\n",
      "Итерация №56, \"date\" 2023\n",
      "Итерация №57, \"date\" 2023\n",
      "Итерация №58, \"date\" 2023\n",
      "Итерация №59, \"date\" 2023\n",
      "Итерация №60, \"date\" 2023\n",
      "Итерация №61, \"date\" 2023\n",
      "Итерация №62, \"date\" 2023\n",
      "Итерация №63, \"date\" 2023\n",
      "Итерация №64, \"date\" 2023\n",
      "Искомых объектов с 2023 года 83163,       а найденных 1300\n"
     ]
    }
   ],
   "source": [
    "#25.1 Запросы БЕЗ включения аргумента order, но с учетом даты\n",
    "\n",
    "# На всякий случай получим следующий ключ\n",
    "\n",
    "i = 0\n",
    "year = 2018\n",
    "\n",
    "while year <= max_date:\n",
    "     \n",
    "    # Первый заход С включением аргумента date:\n",
    "    request = youtube.search().list(\n",
    "        part =\"snippet\",\n",
    "        maxResults=50,\n",
    "        q = query,\n",
    "        regionCode =\"RU\",\n",
    "        type = type_query,\n",
    "        publishedAfter=f'{year}-01-01T00:00:00Z'\n",
    "    )\n",
    "    response = request.execute()  \n",
    "   \n",
    "    df_additional = pd.json_normalize(response['items'])\n",
    "    df_supplemented = pd.concat([df_supplemented, df_additional])\n",
    "   \n",
    "    # Цикл для прохода по всем следующим страницам с выдачей:\n",
    "    while 'nextPageToken' in response.keys():\n",
    "        request = youtube.search().list(\n",
    "            part =\"snippet\",\n",
    "            maxResults=50,\n",
    "            q = query,\n",
    "            regionCode =\"RU\",\n",
    "            type = type_query,\n",
    "            pageToken = response['nextPageToken'],\n",
    "            publishedAfter=f'{year}-01-01T00:00:00Z'\n",
    "        )\n",
    "        response = request.execute()  \n",
    "    \n",
    "        # Визуализация процесса:\n",
    "        print(f'Итерация №{i}, \"date\" {year}')\n",
    "        i += 1\n",
    "        \n",
    "        df_additional = pd.json_normalize(response['items'])\n",
    "        df_supplemented = pd.concat([df_supplemented, df_additional])\n",
    "    \n",
    "\n",
    "    print(f\"Искомых объектов с {year} года {response['pageInfo']['totalResults']}, \\\n",
    "      а найденных {len(df_supplemented.drop_duplicates(f'id.{type_query}Id'))}\")\n",
    "\n",
    "    year += 1"
   ]
  },
  {
   "cell_type": "code",
   "execution_count": 58,
   "id": "96b00b89",
   "metadata": {
    "ExecuteTime": {
     "start_time": "2023-04-08T12:03:32.971653Z",
     "end_time": "2023-04-08T12:03:32.982590Z"
    }
   },
   "outputs": [
    {
     "data": {
      "text/plain": "                             etag        id.kind   id.videoId  \\\n1     EQDFH4sq29F4tLopSvBzT1Owm1M  youtube#video  AAjsSrjZXsw   \n2     P1X20DCj2WrucSb9ldNXa1bYGQU  youtube#video  yk4Wjr3j7QY   \n3     KC_LG8xTt9DjwtELdwXsHef8Y2g  youtube#video  Wi49rKRM85U   \n4     jLZGccW4KN5uL3WAMK7JggpPUsc  youtube#video  kSiaxefvCgM   \n5     dltiYtp7e0SGjSrmXCopbsnWyVQ  youtube#video  4nqfUzIz7kQ   \n...                           ...            ...          ...   \n1973  T5xiMJIvrxeWR1zTaA0zegMQxnM  youtube#video  SNRrXxyiwk0   \n1974  1B0Q8RCO3FKkXFfQr5-DYSM-z5M  youtube#video  NPGuTcFkdHw   \n1975  n-lXr1sktVRV6D35_-xOKaej5yU  youtube#video  oqFLCIng4Bo   \n1976  spiZ5extV7ieubjGA-UBsCNLSRY  youtube#video  6glsQ1LyRXM   \n1977  ae5T7TtOSHI9OHeFt0V1SpnzU8w  youtube#video  KsAVjAwf3Go   \n\n       snippet.publishedAt         snippet.channelId  \\\n1                     2021  UCh29SdTOPdjBb-n3Vop1lYg   \n2                     2023  UCfcMgRNXey6TQkov9mgVgoA   \n3                     2022  UCphnZS52v_lkv5RSl5n70tQ   \n4                     2023  UCfcMgRNXey6TQkov9mgVgoA   \n5                     2021  UCphnZS52v_lkv5RSl5n70tQ   \n...                    ...                       ...   \n1973  2023-03-20T15:43:32Z  UC2wyUPnUdd_o2JYPIUuDgoA   \n1974  2023-03-13T22:15:57Z  UCXdscmYnR_wgN0uT0C-ug8w   \n1975  2023-03-29T15:32:24Z  UC2wyUPnUdd_o2JYPIUuDgoA   \n1976  2023-03-19T17:00:07Z  UCbkr6G0g-d2HH5p5QYPyfag   \n1977  2023-03-06T12:57:45Z  UCoMjXgLQIYVuZ3Gm2kI4T8A   \n\n                                          snippet.title  \\\n1     Расследование | Паленая косметика на Ozon и Wi...   \n2     Пляжная мода в Корее #этокореядетка #корейская...   \n3     한국인들은 절대 안사는 화장품 КОСМЕТИКА КОТОРАЯ КОРЕЯНКИ ВО...   \n4     Жилищный вопрос: Корея #дорамы #корейскийязык ...   \n5     Кореянка в Золотом Яблоке. Почему русские поку...   \n...                                                 ...   \n1973  #атоми #корейскаякосметика #атомибизнес #уходз...   \n1974  Немного закулисья, когда работаю и консультиру...   \n1975  #фриланс #работаудаленно #атомибизнес #атомикр...   \n1976             Toner | Luon #luon #корейскаякосметика   \n1977  #КорейскаяКосметика #Красота #Атоми #Atomy #ух...   \n\n                                    snippet.description  \\\n1     На российских маркетплейсах продается огромное...   \n2                                                   NaN   \n3     подписаться: https://goo.gl/3QbeUf -----------...   \n4                                                   NaN   \n5     кореянка#золотоеяблоко#корейскаякосметика прив...   \n...                                                 ...   \n1973                                                      \n1974                                                      \n1975                                                      \n1976                                                      \n1977  В набор Атоми Гидра Сияние входят капсульная э...   \n\n                      snippet.thumbnails.default.url  \\\n1     https://i.ytimg.com/vi/AAjsSrjZXsw/default.jpg   \n2     https://i.ytimg.com/vi/yk4Wjr3j7QY/default.jpg   \n3     https://i.ytimg.com/vi/Wi49rKRM85U/default.jpg   \n4     https://i.ytimg.com/vi/kSiaxefvCgM/default.jpg   \n5     https://i.ytimg.com/vi/4nqfUzIz7kQ/default.jpg   \n...                                              ...   \n1973  https://i.ytimg.com/vi/SNRrXxyiwk0/default.jpg   \n1974  https://i.ytimg.com/vi/NPGuTcFkdHw/default.jpg   \n1975  https://i.ytimg.com/vi/oqFLCIng4Bo/default.jpg   \n1976  https://i.ytimg.com/vi/6glsQ1LyRXM/default.jpg   \n1977  https://i.ytimg.com/vi/KsAVjAwf3Go/default.jpg   \n\n      snippet.thumbnails.default.width  snippet.thumbnails.default.height  \\\n1                                  120                                 90   \n2                                  120                                 90   \n3                                  120                                 90   \n4                                  120                                 90   \n5                                  120                                 90   \n...                                ...                                ...   \n1973                               120                                 90   \n1974                               120                                 90   \n1975                               120                                 90   \n1976                               120                                 90   \n1977                               120                                 90   \n\n                         snippet.thumbnails.medium.url  \\\n1     https://i.ytimg.com/vi/AAjsSrjZXsw/mqdefault.jpg   \n2     https://i.ytimg.com/vi/yk4Wjr3j7QY/mqdefault.jpg   \n3     https://i.ytimg.com/vi/Wi49rKRM85U/mqdefault.jpg   \n4     https://i.ytimg.com/vi/kSiaxefvCgM/mqdefault.jpg   \n5     https://i.ytimg.com/vi/4nqfUzIz7kQ/mqdefault.jpg   \n...                                                ...   \n1973  https://i.ytimg.com/vi/SNRrXxyiwk0/mqdefault.jpg   \n1974  https://i.ytimg.com/vi/NPGuTcFkdHw/mqdefault.jpg   \n1975  https://i.ytimg.com/vi/oqFLCIng4Bo/mqdefault.jpg   \n1976  https://i.ytimg.com/vi/6glsQ1LyRXM/mqdefault.jpg   \n1977  https://i.ytimg.com/vi/KsAVjAwf3Go/mqdefault.jpg   \n\n      snippet.thumbnails.medium.width  snippet.thumbnails.medium.height  \\\n1                                 320                               180   \n2                                 320                               180   \n3                                 320                               180   \n4                                 320                               180   \n5                                 320                               180   \n...                               ...                               ...   \n1973                              320                               180   \n1974                              320                               180   \n1975                              320                               180   \n1976                              320                               180   \n1977                              320                               180   \n\n                           snippet.thumbnails.high.url  \\\n1     https://i.ytimg.com/vi/AAjsSrjZXsw/hqdefault.jpg   \n2     https://i.ytimg.com/vi/yk4Wjr3j7QY/hqdefault.jpg   \n3     https://i.ytimg.com/vi/Wi49rKRM85U/hqdefault.jpg   \n4     https://i.ytimg.com/vi/kSiaxefvCgM/hqdefault.jpg   \n5     https://i.ytimg.com/vi/4nqfUzIz7kQ/hqdefault.jpg   \n...                                                ...   \n1973  https://i.ytimg.com/vi/SNRrXxyiwk0/hqdefault.jpg   \n1974  https://i.ytimg.com/vi/NPGuTcFkdHw/hqdefault.jpg   \n1975  https://i.ytimg.com/vi/oqFLCIng4Bo/hqdefault.jpg   \n1976  https://i.ytimg.com/vi/6glsQ1LyRXM/hqdefault.jpg   \n1977  https://i.ytimg.com/vi/KsAVjAwf3Go/hqdefault.jpg   \n\n      snippet.thumbnails.high.width  snippet.thumbnails.high.height  \\\n1                               480                             360   \n2                               480                             360   \n3                               480                             360   \n4                               480                             360   \n5                               480                             360   \n...                             ...                             ...   \n1973                            480                             360   \n1974                            480                             360   \n1975                            480                             360   \n1976                            480                             360   \n1977                            480                             360   \n\n                               snippet.channelTitle  \\\n1                                     katyakonasova   \n2                                      altyshkorea    \n3                    Kyunghamin твоя корейская онни   \n4                                      altyshkorea    \n5                    Kyunghamin твоя корейская онни   \n...                                             ...   \n1973                               Ксения Харенская   \n1974                                PRO. beauty-bar   \n1975                               Ксения Харенская   \n1976                                           LUON   \n1977  НОРКИНА  ОЛЬГА              ЭКСПЕРТНОЕ МНЕНИЕ   \n\n     snippet.liveBroadcastContent   snippet.publishTime                  kind  \n1                            none  2021-03-10T13:46:47Z                   NaN  \n2                            none  2023-02-05T04:32:39Z                   NaN  \n3                            none  2022-06-20T12:57:48Z                   NaN  \n4                            none  2023-02-11T12:43:25Z                   NaN  \n5                            none  2021-11-12T14:59:32Z                   NaN  \n...                           ...                   ...                   ...  \n1973                         none  2023-03-20T15:43:32Z  youtube#searchResult  \n1974                         none  2023-03-13T22:15:57Z  youtube#searchResult  \n1975                         none  2023-03-29T15:32:24Z  youtube#searchResult  \n1976                         none  2023-03-19T17:00:07Z  youtube#searchResult  \n1977                         none  2023-03-06T12:57:45Z  youtube#searchResult  \n\n[1300 rows x 20 columns]",
      "text/html": "<div>\n<style scoped>\n    .dataframe tbody tr th:only-of-type {\n        vertical-align: middle;\n    }\n\n    .dataframe tbody tr th {\n        vertical-align: top;\n    }\n\n    .dataframe thead th {\n        text-align: right;\n    }\n</style>\n<table border=\"1\" class=\"dataframe\">\n  <thead>\n    <tr style=\"text-align: right;\">\n      <th></th>\n      <th>etag</th>\n      <th>id.kind</th>\n      <th>id.videoId</th>\n      <th>snippet.publishedAt</th>\n      <th>snippet.channelId</th>\n      <th>snippet.title</th>\n      <th>snippet.description</th>\n      <th>snippet.thumbnails.default.url</th>\n      <th>snippet.thumbnails.default.width</th>\n      <th>snippet.thumbnails.default.height</th>\n      <th>snippet.thumbnails.medium.url</th>\n      <th>snippet.thumbnails.medium.width</th>\n      <th>snippet.thumbnails.medium.height</th>\n      <th>snippet.thumbnails.high.url</th>\n      <th>snippet.thumbnails.high.width</th>\n      <th>snippet.thumbnails.high.height</th>\n      <th>snippet.channelTitle</th>\n      <th>snippet.liveBroadcastContent</th>\n      <th>snippet.publishTime</th>\n      <th>kind</th>\n    </tr>\n  </thead>\n  <tbody>\n    <tr>\n      <th>1</th>\n      <td>EQDFH4sq29F4tLopSvBzT1Owm1M</td>\n      <td>youtube#video</td>\n      <td>AAjsSrjZXsw</td>\n      <td>2021</td>\n      <td>UCh29SdTOPdjBb-n3Vop1lYg</td>\n      <td>Расследование | Паленая косметика на Ozon и Wi...</td>\n      <td>На российских маркетплейсах продается огромное...</td>\n      <td>https://i.ytimg.com/vi/AAjsSrjZXsw/default.jpg</td>\n      <td>120</td>\n      <td>90</td>\n      <td>https://i.ytimg.com/vi/AAjsSrjZXsw/mqdefault.jpg</td>\n      <td>320</td>\n      <td>180</td>\n      <td>https://i.ytimg.com/vi/AAjsSrjZXsw/hqdefault.jpg</td>\n      <td>480</td>\n      <td>360</td>\n      <td>katyakonasova</td>\n      <td>none</td>\n      <td>2021-03-10T13:46:47Z</td>\n      <td>NaN</td>\n    </tr>\n    <tr>\n      <th>2</th>\n      <td>P1X20DCj2WrucSb9ldNXa1bYGQU</td>\n      <td>youtube#video</td>\n      <td>yk4Wjr3j7QY</td>\n      <td>2023</td>\n      <td>UCfcMgRNXey6TQkov9mgVgoA</td>\n      <td>Пляжная мода в Корее #этокореядетка #корейская...</td>\n      <td>NaN</td>\n      <td>https://i.ytimg.com/vi/yk4Wjr3j7QY/default.jpg</td>\n      <td>120</td>\n      <td>90</td>\n      <td>https://i.ytimg.com/vi/yk4Wjr3j7QY/mqdefault.jpg</td>\n      <td>320</td>\n      <td>180</td>\n      <td>https://i.ytimg.com/vi/yk4Wjr3j7QY/hqdefault.jpg</td>\n      <td>480</td>\n      <td>360</td>\n      <td>altyshkorea</td>\n      <td>none</td>\n      <td>2023-02-05T04:32:39Z</td>\n      <td>NaN</td>\n    </tr>\n    <tr>\n      <th>3</th>\n      <td>KC_LG8xTt9DjwtELdwXsHef8Y2g</td>\n      <td>youtube#video</td>\n      <td>Wi49rKRM85U</td>\n      <td>2022</td>\n      <td>UCphnZS52v_lkv5RSl5n70tQ</td>\n      <td>한국인들은 절대 안사는 화장품 КОСМЕТИКА КОТОРАЯ КОРЕЯНКИ ВО...</td>\n      <td>подписаться: https://goo.gl/3QbeUf -----------...</td>\n      <td>https://i.ytimg.com/vi/Wi49rKRM85U/default.jpg</td>\n      <td>120</td>\n      <td>90</td>\n      <td>https://i.ytimg.com/vi/Wi49rKRM85U/mqdefault.jpg</td>\n      <td>320</td>\n      <td>180</td>\n      <td>https://i.ytimg.com/vi/Wi49rKRM85U/hqdefault.jpg</td>\n      <td>480</td>\n      <td>360</td>\n      <td>Kyunghamin твоя корейская онни</td>\n      <td>none</td>\n      <td>2022-06-20T12:57:48Z</td>\n      <td>NaN</td>\n    </tr>\n    <tr>\n      <th>4</th>\n      <td>jLZGccW4KN5uL3WAMK7JggpPUsc</td>\n      <td>youtube#video</td>\n      <td>kSiaxefvCgM</td>\n      <td>2023</td>\n      <td>UCfcMgRNXey6TQkov9mgVgoA</td>\n      <td>Жилищный вопрос: Корея #дорамы #корейскийязык ...</td>\n      <td>NaN</td>\n      <td>https://i.ytimg.com/vi/kSiaxefvCgM/default.jpg</td>\n      <td>120</td>\n      <td>90</td>\n      <td>https://i.ytimg.com/vi/kSiaxefvCgM/mqdefault.jpg</td>\n      <td>320</td>\n      <td>180</td>\n      <td>https://i.ytimg.com/vi/kSiaxefvCgM/hqdefault.jpg</td>\n      <td>480</td>\n      <td>360</td>\n      <td>altyshkorea</td>\n      <td>none</td>\n      <td>2023-02-11T12:43:25Z</td>\n      <td>NaN</td>\n    </tr>\n    <tr>\n      <th>5</th>\n      <td>dltiYtp7e0SGjSrmXCopbsnWyVQ</td>\n      <td>youtube#video</td>\n      <td>4nqfUzIz7kQ</td>\n      <td>2021</td>\n      <td>UCphnZS52v_lkv5RSl5n70tQ</td>\n      <td>Кореянка в Золотом Яблоке. Почему русские поку...</td>\n      <td>кореянка#золотоеяблоко#корейскаякосметика прив...</td>\n      <td>https://i.ytimg.com/vi/4nqfUzIz7kQ/default.jpg</td>\n      <td>120</td>\n      <td>90</td>\n      <td>https://i.ytimg.com/vi/4nqfUzIz7kQ/mqdefault.jpg</td>\n      <td>320</td>\n      <td>180</td>\n      <td>https://i.ytimg.com/vi/4nqfUzIz7kQ/hqdefault.jpg</td>\n      <td>480</td>\n      <td>360</td>\n      <td>Kyunghamin твоя корейская онни</td>\n      <td>none</td>\n      <td>2021-11-12T14:59:32Z</td>\n      <td>NaN</td>\n    </tr>\n    <tr>\n      <th>...</th>\n      <td>...</td>\n      <td>...</td>\n      <td>...</td>\n      <td>...</td>\n      <td>...</td>\n      <td>...</td>\n      <td>...</td>\n      <td>...</td>\n      <td>...</td>\n      <td>...</td>\n      <td>...</td>\n      <td>...</td>\n      <td>...</td>\n      <td>...</td>\n      <td>...</td>\n      <td>...</td>\n      <td>...</td>\n      <td>...</td>\n      <td>...</td>\n      <td>...</td>\n    </tr>\n    <tr>\n      <th>1973</th>\n      <td>T5xiMJIvrxeWR1zTaA0zegMQxnM</td>\n      <td>youtube#video</td>\n      <td>SNRrXxyiwk0</td>\n      <td>2023-03-20T15:43:32Z</td>\n      <td>UC2wyUPnUdd_o2JYPIUuDgoA</td>\n      <td>#атоми #корейскаякосметика #атомибизнес #уходз...</td>\n      <td></td>\n      <td>https://i.ytimg.com/vi/SNRrXxyiwk0/default.jpg</td>\n      <td>120</td>\n      <td>90</td>\n      <td>https://i.ytimg.com/vi/SNRrXxyiwk0/mqdefault.jpg</td>\n      <td>320</td>\n      <td>180</td>\n      <td>https://i.ytimg.com/vi/SNRrXxyiwk0/hqdefault.jpg</td>\n      <td>480</td>\n      <td>360</td>\n      <td>Ксения Харенская</td>\n      <td>none</td>\n      <td>2023-03-20T15:43:32Z</td>\n      <td>youtube#searchResult</td>\n    </tr>\n    <tr>\n      <th>1974</th>\n      <td>1B0Q8RCO3FKkXFfQr5-DYSM-z5M</td>\n      <td>youtube#video</td>\n      <td>NPGuTcFkdHw</td>\n      <td>2023-03-13T22:15:57Z</td>\n      <td>UCXdscmYnR_wgN0uT0C-ug8w</td>\n      <td>Немного закулисья, когда работаю и консультиру...</td>\n      <td></td>\n      <td>https://i.ytimg.com/vi/NPGuTcFkdHw/default.jpg</td>\n      <td>120</td>\n      <td>90</td>\n      <td>https://i.ytimg.com/vi/NPGuTcFkdHw/mqdefault.jpg</td>\n      <td>320</td>\n      <td>180</td>\n      <td>https://i.ytimg.com/vi/NPGuTcFkdHw/hqdefault.jpg</td>\n      <td>480</td>\n      <td>360</td>\n      <td>PRO. beauty-bar</td>\n      <td>none</td>\n      <td>2023-03-13T22:15:57Z</td>\n      <td>youtube#searchResult</td>\n    </tr>\n    <tr>\n      <th>1975</th>\n      <td>n-lXr1sktVRV6D35_-xOKaej5yU</td>\n      <td>youtube#video</td>\n      <td>oqFLCIng4Bo</td>\n      <td>2023-03-29T15:32:24Z</td>\n      <td>UC2wyUPnUdd_o2JYPIUuDgoA</td>\n      <td>#фриланс #работаудаленно #атомибизнес #атомикр...</td>\n      <td></td>\n      <td>https://i.ytimg.com/vi/oqFLCIng4Bo/default.jpg</td>\n      <td>120</td>\n      <td>90</td>\n      <td>https://i.ytimg.com/vi/oqFLCIng4Bo/mqdefault.jpg</td>\n      <td>320</td>\n      <td>180</td>\n      <td>https://i.ytimg.com/vi/oqFLCIng4Bo/hqdefault.jpg</td>\n      <td>480</td>\n      <td>360</td>\n      <td>Ксения Харенская</td>\n      <td>none</td>\n      <td>2023-03-29T15:32:24Z</td>\n      <td>youtube#searchResult</td>\n    </tr>\n    <tr>\n      <th>1976</th>\n      <td>spiZ5extV7ieubjGA-UBsCNLSRY</td>\n      <td>youtube#video</td>\n      <td>6glsQ1LyRXM</td>\n      <td>2023-03-19T17:00:07Z</td>\n      <td>UCbkr6G0g-d2HH5p5QYPyfag</td>\n      <td>Toner | Luon #luon #корейскаякосметика</td>\n      <td></td>\n      <td>https://i.ytimg.com/vi/6glsQ1LyRXM/default.jpg</td>\n      <td>120</td>\n      <td>90</td>\n      <td>https://i.ytimg.com/vi/6glsQ1LyRXM/mqdefault.jpg</td>\n      <td>320</td>\n      <td>180</td>\n      <td>https://i.ytimg.com/vi/6glsQ1LyRXM/hqdefault.jpg</td>\n      <td>480</td>\n      <td>360</td>\n      <td>LUON</td>\n      <td>none</td>\n      <td>2023-03-19T17:00:07Z</td>\n      <td>youtube#searchResult</td>\n    </tr>\n    <tr>\n      <th>1977</th>\n      <td>ae5T7TtOSHI9OHeFt0V1SpnzU8w</td>\n      <td>youtube#video</td>\n      <td>KsAVjAwf3Go</td>\n      <td>2023-03-06T12:57:45Z</td>\n      <td>UCoMjXgLQIYVuZ3Gm2kI4T8A</td>\n      <td>#КорейскаяКосметика #Красота #Атоми #Atomy #ух...</td>\n      <td>В набор Атоми Гидра Сияние входят капсульная э...</td>\n      <td>https://i.ytimg.com/vi/KsAVjAwf3Go/default.jpg</td>\n      <td>120</td>\n      <td>90</td>\n      <td>https://i.ytimg.com/vi/KsAVjAwf3Go/mqdefault.jpg</td>\n      <td>320</td>\n      <td>180</td>\n      <td>https://i.ytimg.com/vi/KsAVjAwf3Go/hqdefault.jpg</td>\n      <td>480</td>\n      <td>360</td>\n      <td>НОРКИНА  ОЛЬГА              ЭКСПЕРТНОЕ МНЕНИЕ</td>\n      <td>none</td>\n      <td>2023-03-06T12:57:45Z</td>\n      <td>youtube#searchResult</td>\n    </tr>\n  </tbody>\n</table>\n<p>1300 rows × 20 columns</p>\n</div>"
     },
     "metadata": {},
     "output_type": "display_data"
    }
   ],
   "source": [
    "# 20\n",
    "# Удаление дубликатов каналов (по их ID) и запись в Excel:\n",
    "df_supplemented.index = range(1,len(df_supplemented)+1) # сквозной индекс для итоговой таблицы\n",
    "df_supplemented = df_supplemented.drop_duplicates(subset=['id.videoId'])\n",
    "display(df_supplemented)\n"
   ]
  },
  {
   "cell_type": "code",
   "execution_count": 60,
   "outputs": [],
   "source": [
    "import os\n",
    "\n",
    "# сохранение файлов в специальной директории\n",
    "\n",
    "if not os.path.exists(DATA_PATH):\n",
    "    os.makedirs(DATA_PATH)\n",
    "\n",
    "df_supplemented.to_excel(DATA_PATH / f'{query}_{type_query.capitalize()}_Not_sorted+Sorted+Date.xlsx')"
   ],
   "metadata": {
    "collapsed": false,
    "ExecuteTime": {
     "start_time": "2023-04-08T12:04:29.122360Z",
     "end_time": "2023-04-08T12:04:29.644280Z"
    }
   }
  },
  {
   "cell_type": "code",
   "execution_count": null,
   "outputs": [],
   "source": [],
   "metadata": {
    "collapsed": false
   }
  }
 ],
 "metadata": {
  "kernelspec": {
   "display_name": "Python 3 (ipykernel)",
   "language": "python",
   "name": "python3"
  },
  "language_info": {
   "codemirror_mode": {
    "name": "ipython",
    "version": 3
   },
   "file_extension": ".py",
   "mimetype": "text/x-python",
   "name": "python",
   "nbconvert_exporter": "python",
   "pygments_lexer": "ipython3",
   "version": "3.9.7"
  }
 },
 "nbformat": 4,
 "nbformat_minor": 5
}
