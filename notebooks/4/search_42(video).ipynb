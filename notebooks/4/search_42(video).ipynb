{
 "cells": [
  {
   "cell_type": "code",
   "execution_count": 1,
   "outputs": [],
   "source": [
    "import pathlib\n",
    "import yaml\n",
    "ROOT = pathlib.Path().resolve().parent.parent\n",
    "\n",
    "with open(ROOT / \"config.yml\", \"r\") as f:\n",
    "    config = yaml.safe_load(f)"
   ],
   "metadata": {
    "collapsed": false
   }
  },
  {
   "cell_type": "code",
   "execution_count": 25,
   "outputs": [],
   "source": [
    "# 3\n",
    "DATA_PATH = ROOT / config['api']['DATA_PATH'] / 'seminar4'\n",
    "\n",
    "query = \"k_beauty | kbeauty\"\n",
    "type_query = \"video\"\n",
    "\n",
    "# Для поиска видео с учетом даты:\n",
    "publishedAfter = '2020-01-01T00:00:00Z'\n",
    "publishedBefore = '2022-01-01T00:00:00Z'"
   ],
   "metadata": {
    "collapsed": false
   }
  },
  {
   "cell_type": "code",
   "execution_count": 26,
   "outputs": [],
   "source": [
    "# 3.1\n",
    "class KeyStorage:\n",
    "    \"\"\"\n",
    "    Class to use in iteration\n",
    "    \"\"\"\n",
    "\n",
    "    def __init__(self, key_arr: list[str]):\n",
    "        self.key_gen = iter(key_arr)\n",
    "\n",
    "    def get_next_key(self):\n",
    "        \"\"\"\n",
    "        Returns API key to use\n",
    "        :return:\n",
    "        \"\"\"\n",
    "        return next(self.key_gen)\n",
    "\n",
    "key_storage = KeyStorage(config['api']['keys'])"
   ],
   "metadata": {
    "collapsed": false
   }
  },
  {
   "cell_type": "code",
   "execution_count": 29,
   "outputs": [],
   "source": [
    "# 3.2 Просмотр API ключа\n",
    "API_KEY = key_storage.get_next_key()"
   ],
   "metadata": {
    "collapsed": false
   }
  },
  {
   "cell_type": "code",
   "execution_count": 30,
   "id": "3a893ff6",
   "metadata": {},
   "outputs": [],
   "source": [
    "#4\n",
    "import googleapiclient.discovery as api"
   ]
  },
  {
   "cell_type": "code",
   "execution_count": 31,
   "id": "5f468de9",
   "metadata": {},
   "outputs": [],
   "source": [
    "#5\n",
    "api_service_name = \"youtube\"\n",
    "api_version = \"v3\"\n",
    "    \n",
    "youtube = api.build(api_service_name,\n",
    "                        api_version, \n",
    "                       developerKey = API_KEY)"
   ]
  },
  {
   "cell_type": "code",
   "execution_count": 8,
   "id": "7cbbb17e",
   "metadata": {},
   "outputs": [],
   "source": [
    "#8\n",
    "import pandas as pd"
   ]
  },
  {
   "cell_type": "code",
   "execution_count": 10,
   "id": "4f6272c7",
   "metadata": {},
   "outputs": [
    {
     "name": "stdout",
     "output_type": "stream",
     "text": [
      "Итерация БЕЗ включения аргумента order №0\n",
      "Итерация БЕЗ включения аргумента order №1\n",
      "Итерация БЕЗ включения аргумента order №2\n",
      "Итерация БЕЗ включения аргумента order №3\n",
      "Итерация БЕЗ включения аргумента order №4\n",
      "Итерация БЕЗ включения аргумента order №5\n",
      "Итерация БЕЗ включения аргумента order №6\n",
      "Итерация БЕЗ включения аргумента order №7\n",
      "Итерация БЕЗ включения аргумента order №8\n",
      "Итерация БЕЗ включения аргумента order №9\n",
      "Искомых объектов 1000000 а найденных БЕЗ включения каких-либо значений аргумента order 498\n"
     ]
    }
   ],
   "source": [
    "# 18.1\n",
    "# Первый заход БЕЗ аргумента order для видео\n",
    "request = youtube.search().list(\n",
    "        part =\"snippet\",\n",
    "        maxResults=50,\n",
    "        q = query,\n",
    "        regionCode =\"RU\",\n",
    "        type = type_query\n",
    ")\n",
    "response = request.execute()  \n",
    "   \n",
    "df_supplemented = pd.json_normalize(response['items'])\n",
    "   \n",
    "    # Цикл для прохода по всем следующим страницам с выдачей:\n",
    "i = 0\n",
    "while 'nextPageToken' in response.keys():\n",
    "    request = youtube.search().list(\n",
    "            part =\"snippet\",\n",
    "            maxResults=50,\n",
    "            q = query,\n",
    "            type = type_query,\n",
    "            pageToken = response['nextPageToken']\n",
    "        )\n",
    "    response = request.execute()  \n",
    "\n",
    "    print(f'Итерация БЕЗ включения аргумента order №{i}')\n",
    "    i += 1\n",
    "        \n",
    "    df_additional = pd.json_normalize(response['items'])\n",
    "    df_supplemented = pd.concat([df_supplemented, df_additional])\n",
    "\n",
    "    \n",
    "\n",
    "print(f\"Искомых объектов {response['pageInfo']['totalResults']}\", \\\n",
    "      f\"а найденных БЕЗ включения каких-либо значений аргумента order {len(df_supplemented.drop_duplicates(f'id.{type_query}Id'))}\")"
   ]
  },
  {
   "cell_type": "code",
   "execution_count": 11,
   "outputs": [
    {
     "data": {
      "text/plain": "523"
     },
     "execution_count": 11,
     "metadata": {},
     "output_type": "execute_result"
    }
   ],
   "source": [
    "len(df_supplemented)"
   ],
   "metadata": {
    "collapsed": false
   }
  },
  {
   "cell_type": "code",
   "execution_count": 12,
   "id": "0f3d2541",
   "metadata": {},
   "outputs": [
    {
     "data": {
      "text/plain": "['date', 'rating', 'title', 'videoCount', 'viewCount']"
     },
     "execution_count": 12,
     "metadata": {},
     "output_type": "execute_result"
    }
   ],
   "source": [
    "# Значения аргумента order:\n",
    "order_list = ['date', 'rating', 'title', 'videoCount', 'viewCount']\n",
    "order_list"
   ]
  },
  {
   "cell_type": "code",
   "execution_count": 14,
   "id": "64e2e3f0",
   "metadata": {},
   "outputs": [
    {
     "name": "stdout",
     "output_type": "stream",
     "text": [
      "Итерация №0, \"order\" date, \"items\" 50\n",
      "Итерация №1, \"order\" date, \"items\" 50\n",
      "Итерация №2, \"order\" date, \"items\" 50\n",
      "Итерация №3, \"order\" date, \"items\" 50\n",
      "Итерация №4, \"order\" date, \"items\" 50\n",
      "Итерация №5, \"order\" date, \"items\" 50\n",
      "Итерация №6, \"order\" date, \"items\" 50\n",
      "Итерация №7, \"order\" date, \"items\" 50\n",
      "Итерация №8, \"order\" date, \"items\" 50\n",
      "Итерация №9, \"order\" date, \"items\" 50\n",
      "Итерация №10, \"order\" date, \"items\" 50\n",
      "Итерация №11, \"order\" date, \"items\" 15\n",
      "Итерация №12, \"order\" rating, \"items\" 50\n",
      "Итерация №13, \"order\" rating, \"items\" 50\n",
      "Итерация №14, \"order\" rating, \"items\" 50\n",
      "Итерация №15, \"order\" rating, \"items\" 50\n",
      "Итерация №16, \"order\" rating, \"items\" 50\n",
      "Итерация №17, \"order\" rating, \"items\" 50\n",
      "Итерация №18, \"order\" rating, \"items\" 50\n",
      "Итерация №19, \"order\" rating, \"items\" 50\n",
      "Итерация №20, \"order\" rating, \"items\" 50\n",
      "Итерация №21, \"order\" rating, \"items\" 50\n",
      "Итерация №22, \"order\" rating, \"items\" 50\n",
      "Итерация №23, \"order\" rating, \"items\" 16\n",
      "Итерация №24, \"order\" title, \"items\" 50\n",
      "Итерация №25, \"order\" title, \"items\" 50\n",
      "Итерация №26, \"order\" title, \"items\" 50\n",
      "Итерация №27, \"order\" title, \"items\" 50\n",
      "Итерация №28, \"order\" title, \"items\" 50\n",
      "Итерация №29, \"order\" title, \"items\" 50\n",
      "Итерация №30, \"order\" title, \"items\" 50\n",
      "Итерация №31, \"order\" title, \"items\" 50\n",
      "Итерация №32, \"order\" title, \"items\" 50\n",
      "Итерация №33, \"order\" title, \"items\" 50\n",
      "Итерация №34, \"order\" title, \"items\" 50\n",
      "Итерация №35, \"order\" title, \"items\" 20\n",
      "Итерация №36, \"order\" videoCount, \"items\" 50\n",
      "Итерация №37, \"order\" videoCount, \"items\" 50\n",
      "Итерация №38, \"order\" videoCount, \"items\" 50\n",
      "Итерация №39, \"order\" videoCount, \"items\" 50\n",
      "Итерация №40, \"order\" videoCount, \"items\" 50\n",
      "Итерация №41, \"order\" videoCount, \"items\" 50\n",
      "Итерация №42, \"order\" videoCount, \"items\" 50\n",
      "Итерация №43, \"order\" videoCount, \"items\" 50\n",
      "Итерация №44, \"order\" videoCount, \"items\" 50\n",
      "Итерация №45, \"order\" videoCount, \"items\" 50\n",
      "Итерация №46, \"order\" videoCount, \"items\" 50\n",
      "Итерация №47, \"order\" videoCount, \"items\" 17\n",
      "Итерация №48, \"order\" viewCount, \"items\" 50\n",
      "Итерация №49, \"order\" viewCount, \"items\" 50\n",
      "Итерация №50, \"order\" viewCount, \"items\" 50\n",
      "Итерация №51, \"order\" viewCount, \"items\" 50\n",
      "Итерация №52, \"order\" viewCount, \"items\" 50\n",
      "Итерация №53, \"order\" viewCount, \"items\" 50\n",
      "Итерация №54, \"order\" viewCount, \"items\" 50\n",
      "Итерация №55, \"order\" viewCount, \"items\" 50\n",
      "Итерация №56, \"order\" viewCount, \"items\" 50\n",
      "Итерация №57, \"order\" viewCount, \"items\" 50\n",
      "Итерация №58, \"order\" viewCount, \"items\" 50\n",
      "Итерация №59, \"order\" viewCount, \"items\" 20\n"
     ]
    }
   ],
   "source": [
    "# 18.2\n",
    "# Цикл для прохода по значениям аргумента order, внутри которых проход по всем страницам выдачи:\n",
    "i = 0\n",
    "for order in order_list:\n",
    "    # Для остановки алгоритма, если все искомые объекты найдены\n",
    "    # БЕЗ включения каких-либо значений аргумента order (в т.ч. вообще БЕЗ них):\n",
    "    if len(df_supplemented.drop_duplicates(f'id.{type_query}Id')) < response['pageInfo']['totalResults']:\n",
    "        \n",
    "        # Первый заход с каждым значение аргумента order:\n",
    "        request = youtube.search().list(\n",
    "            part =\"snippet\",\n",
    "            maxResults=50,\n",
    "            q = query,\n",
    "            type = type_query,\n",
    "            order = order\n",
    "        )\n",
    "        response = request.execute()\n",
    "    \n",
    "        # Визуализация процесса:\n",
    "        print(f'Итерация №{i}, \"order\" {order}, \"items\" {len(response[\"items\"])}')\n",
    "        i += 1\n",
    "    \n",
    "        # Занесение собранных данных в итоговую таблицу df_supplemented:\n",
    "        df = pd.json_normalize(response[\"items\"])\n",
    "        df_supplemented = pd.concat([df, df_supplemented])\n",
    "        \n",
    "        # Заходы с тем же значением аргумента order на следующие страницы:\n",
    "        while ('nextPageToken' in response.keys())\\\n",
    "        & (len(df_supplemented.drop_duplicates(f'id.{type_query}Id')) < response['pageInfo']['totalResults'])\\\n",
    "        & (len(response[\"items\"]) > 0):\n",
    "        # второе условие -- для остановки алгоритма, если все искомые объекты найдены\n",
    "        # БЕЗ какой-то из следующих страниц ( в т.ч. вообще БЕЗ них)\n",
    "        # третье условие -- для остановки алгоритма, если предыдущая страница выдачи содержит 0 объектов    \n",
    "        \n",
    "            request = youtube.search().list(\n",
    "                part =\"snippet\",\n",
    "                maxResults=50,\n",
    "                q = query,\n",
    "                type = type_query,\n",
    "                pageToken = response['nextPageToken'],\n",
    "                order = order\n",
    "            )\n",
    "            response = request.execute()  \n",
    "    \n",
    "            # Визуализация процесса:\n",
    "            print(f'Итерация №{i}, \"order\" {order}, \"items\" {len(response[\"items\"])}')\n",
    "            \n",
    "            i += 1\n",
    "        \n",
    "            # Занесение собранных данных в итоговую таблицу df_supplemented:\n",
    "            df_additional = pd.json_normalize(response[\"items\"])\n",
    "            df_supplemented = pd.concat([df_supplemented, df_additional])\n",
    "    \n",
    "        # Сохранение составленных для каждого значения аргумента order таблиц в Excel -- на всякий случай:\n",
    "        df_supplemented.to_excel(DATA_PATH / f'{type_query.capitalize()}_Sorted_by_{order}.xlsx')\n",
    "    else:\n",
    "        print('Все искомые объекты найдены БЕЗ включения некоторых значений аргумента order (в т.ч. вообще БЕЗ них)')"
   ]
  },
  {
   "cell_type": "code",
   "execution_count": 15,
   "id": "61e07622",
   "metadata": {},
   "outputs": [
    {
     "data": {
      "text/plain": "                      kind                         etag        id.kind  \\\n1     youtube#searchResult  xUPXCyswbDfQ0O_cEo1y9jBHY-I  youtube#video   \n2     youtube#searchResult  ry0zlUewmQ1_rgpvH5UeqQjwyOE  youtube#video   \n3     youtube#searchResult  FAWm2FVeXAKFMi8_98auJXmRjZo  youtube#video   \n4     youtube#searchResult  6Lv9z7Od-sjYY5pxt54NruY3weY  youtube#video   \n5     youtube#searchResult  a5HhfVq4RM98pKJBdn9oqGBOICE  youtube#video   \n...                    ...                          ...            ...   \n3212  youtube#searchResult  yrLbtJF5skD__0R2g-TTUhPyM8c  youtube#video   \n3216  youtube#searchResult  xW4tKawA4C8AaI2gRu4UMfrhIIc  youtube#video   \n3269  youtube#searchResult  r1fvc4bljLvRM3LA8vuAlRthlKM  youtube#video   \n3281  youtube#searchResult  XqD468Q_82WhDFB0_OkgigCleIU  youtube#video   \n3317  youtube#searchResult  aIVz6IIUEQa_DUFOn2MkS78gUQM  youtube#video   \n\n       id.videoId   snippet.publishedAt         snippet.channelId  \\\n1     AOVTUmDU7Bs  2018-07-12T06:00:04Z  UCgln4bTPN2cXnAjXVgM-Cfw   \n2     oNJWU8cm0eU  2020-08-25T06:38:17Z  UChhOtjq-3QyyLmP2jv9amrg   \n3     fgeqSoLgccU  2018-07-10T06:00:30Z  UCgln4bTPN2cXnAjXVgM-Cfw   \n4     gvsV9ds9uFk  2022-04-15T04:52:25Z  UCJ9E_Ob8i8-2cyd67mbkRfw   \n5     o5hc2PaPFZ8  2021-09-24T16:54:57Z  UCJ9E_Ob8i8-2cyd67mbkRfw   \n...           ...                   ...                       ...   \n3212  DsOeHUYwjpw  2023-02-02T21:22:27Z  UCpjNgaKGfDCGPbP7JmgjZHw   \n3216  YGPP1BjvgCU  2023-02-02T10:48:45Z  UC8_stYIOMyTQs_cEKkopaFQ   \n3269  7JlZiPmfJUM  2023-02-20T08:03:00Z  UCnaasPYchRGCIsh9sCoTEhA   \n3281  5c1f97i8XZM  2023-02-13T03:40:15Z  UC8J8CPTDZsFRh9dRfm-xayg   \n3317  RwKrwWJpQo4  2023-02-05T00:21:40Z  UC8XWBoFOgMgRAjivVShi2Zw   \n\n                                          snippet.title  \\\n1     Annoying Moments While Getting Ready ENG SUB •...   \n2                                    Rhythm of K-Beauty   \n3       Short Hair VS Long Hair ENG SUB • dingo kbeauty   \n4                        Pretty duo 💓 #lipbalm #kbeauty   \n5     #kajabeauty #kbeauty #kbeautyreview #review #a...   \n...                                                 ...   \n3212  Trying one of the TOP sunscreens in Korea 🫣 #k...   \n3216  Let&#39;s do an Eye Mask, and Sheet Mask #revi...   \n3269  come on rest~ 4F solaria hotel #myeongdongkyoj...   \n3281  Are you into Vegan Products? #skincareroutine ...   \n3317  New Korean Skincare Haul #kbeauty #skincarehau...   \n\n                                    snippet.description  \\\n1     ANNOYING MOMENTS WHILE GETTING READY!! UGH!! M...   \n2     Rhythm of K-Beauty Want to learn about Korean ...   \n3     WORLD'S FIRST PROBLEM This is #1 thing I ask m...   \n4                                                         \n5                                                         \n...                                                 ...   \n3212  Follow for more glow ✨ Instagram: https://www....   \n3216  Stylevana Makeup and Skincare. I have a code y...   \n3269                                                      \n3281  [ Unboxing ] Melixir, is a Vegan Skincare Bran...   \n3317                                                      \n\n                      snippet.thumbnails.default.url  \\\n1     https://i.ytimg.com/vi/AOVTUmDU7Bs/default.jpg   \n2     https://i.ytimg.com/vi/oNJWU8cm0eU/default.jpg   \n3     https://i.ytimg.com/vi/fgeqSoLgccU/default.jpg   \n4     https://i.ytimg.com/vi/gvsV9ds9uFk/default.jpg   \n5     https://i.ytimg.com/vi/o5hc2PaPFZ8/default.jpg   \n...                                              ...   \n3212  https://i.ytimg.com/vi/DsOeHUYwjpw/default.jpg   \n3216  https://i.ytimg.com/vi/YGPP1BjvgCU/default.jpg   \n3269  https://i.ytimg.com/vi/7JlZiPmfJUM/default.jpg   \n3281  https://i.ytimg.com/vi/5c1f97i8XZM/default.jpg   \n3317  https://i.ytimg.com/vi/RwKrwWJpQo4/default.jpg   \n\n      snippet.thumbnails.default.width  snippet.thumbnails.default.height  \\\n1                                  120                                 90   \n2                                  120                                 90   \n3                                  120                                 90   \n4                                  120                                 90   \n5                                  120                                 90   \n...                                ...                                ...   \n3212                               120                                 90   \n3216                               120                                 90   \n3269                               120                                 90   \n3281                               120                                 90   \n3317                               120                                 90   \n\n                         snippet.thumbnails.medium.url  \\\n1     https://i.ytimg.com/vi/AOVTUmDU7Bs/mqdefault.jpg   \n2     https://i.ytimg.com/vi/oNJWU8cm0eU/mqdefault.jpg   \n3     https://i.ytimg.com/vi/fgeqSoLgccU/mqdefault.jpg   \n4     https://i.ytimg.com/vi/gvsV9ds9uFk/mqdefault.jpg   \n5     https://i.ytimg.com/vi/o5hc2PaPFZ8/mqdefault.jpg   \n...                                                ...   \n3212  https://i.ytimg.com/vi/DsOeHUYwjpw/mqdefault.jpg   \n3216  https://i.ytimg.com/vi/YGPP1BjvgCU/mqdefault.jpg   \n3269  https://i.ytimg.com/vi/7JlZiPmfJUM/mqdefault.jpg   \n3281  https://i.ytimg.com/vi/5c1f97i8XZM/mqdefault.jpg   \n3317  https://i.ytimg.com/vi/RwKrwWJpQo4/mqdefault.jpg   \n\n      snippet.thumbnails.medium.width  snippet.thumbnails.medium.height  \\\n1                                 320                               180   \n2                                 320                               180   \n3                                 320                               180   \n4                                 320                               180   \n5                                 320                               180   \n...                               ...                               ...   \n3212                              320                               180   \n3216                              320                               180   \n3269                              320                               180   \n3281                              320                               180   \n3317                              320                               180   \n\n                           snippet.thumbnails.high.url  \\\n1     https://i.ytimg.com/vi/AOVTUmDU7Bs/hqdefault.jpg   \n2     https://i.ytimg.com/vi/oNJWU8cm0eU/hqdefault.jpg   \n3     https://i.ytimg.com/vi/fgeqSoLgccU/hqdefault.jpg   \n4     https://i.ytimg.com/vi/gvsV9ds9uFk/hqdefault.jpg   \n5     https://i.ytimg.com/vi/o5hc2PaPFZ8/hqdefault.jpg   \n...                                                ...   \n3212  https://i.ytimg.com/vi/DsOeHUYwjpw/hqdefault.jpg   \n3216  https://i.ytimg.com/vi/YGPP1BjvgCU/hqdefault.jpg   \n3269  https://i.ytimg.com/vi/7JlZiPmfJUM/hqdefault.jpg   \n3281  https://i.ytimg.com/vi/5c1f97i8XZM/hqdefault.jpg   \n3317  https://i.ytimg.com/vi/RwKrwWJpQo4/hqdefault.jpg   \n\n      snippet.thumbnails.high.width  snippet.thumbnails.high.height  \\\n1                               480                             360   \n2                               480                             360   \n3                               480                             360   \n4                               480                             360   \n5                               480                             360   \n...                             ...                             ...   \n3212                            480                             360   \n3216                            480                             360   \n3269                            480                             360   \n3281                            480                             360   \n3317                            480                             360   \n\n     snippet.channelTitle snippet.liveBroadcastContent   snippet.publishTime  \n1                     DGG                         none  2018-07-12T06:00:04Z  \n2      Imagine Your Korea                         none  2020-08-25T06:38:17Z  \n3                     DGG                         none  2018-07-10T06:00:30Z  \n4                 Kerbom3                         none  2022-04-15T04:52:25Z  \n5                 Kerbom3                         none  2021-09-24T16:54:57Z  \n...                   ...                          ...                   ...  \n3212             vpofglow                         none  2023-02-02T21:22:27Z  \n3216  Life with Christine                         none  2023-02-02T10:48:45Z  \n3269  MyeongDongHairSalon                         none  2023-02-20T08:03:00Z  \n3281       Euphoric Seoul                         none  2023-02-13T03:40:15Z  \n3317        Alluka Sakura                         none  2023-02-05T00:21:40Z  \n\n[947 rows x 20 columns]",
      "text/html": "<div>\n<style scoped>\n    .dataframe tbody tr th:only-of-type {\n        vertical-align: middle;\n    }\n\n    .dataframe tbody tr th {\n        vertical-align: top;\n    }\n\n    .dataframe thead th {\n        text-align: right;\n    }\n</style>\n<table border=\"1\" class=\"dataframe\">\n  <thead>\n    <tr style=\"text-align: right;\">\n      <th></th>\n      <th>kind</th>\n      <th>etag</th>\n      <th>id.kind</th>\n      <th>id.videoId</th>\n      <th>snippet.publishedAt</th>\n      <th>snippet.channelId</th>\n      <th>snippet.title</th>\n      <th>snippet.description</th>\n      <th>snippet.thumbnails.default.url</th>\n      <th>snippet.thumbnails.default.width</th>\n      <th>snippet.thumbnails.default.height</th>\n      <th>snippet.thumbnails.medium.url</th>\n      <th>snippet.thumbnails.medium.width</th>\n      <th>snippet.thumbnails.medium.height</th>\n      <th>snippet.thumbnails.high.url</th>\n      <th>snippet.thumbnails.high.width</th>\n      <th>snippet.thumbnails.high.height</th>\n      <th>snippet.channelTitle</th>\n      <th>snippet.liveBroadcastContent</th>\n      <th>snippet.publishTime</th>\n    </tr>\n  </thead>\n  <tbody>\n    <tr>\n      <th>1</th>\n      <td>youtube#searchResult</td>\n      <td>xUPXCyswbDfQ0O_cEo1y9jBHY-I</td>\n      <td>youtube#video</td>\n      <td>AOVTUmDU7Bs</td>\n      <td>2018-07-12T06:00:04Z</td>\n      <td>UCgln4bTPN2cXnAjXVgM-Cfw</td>\n      <td>Annoying Moments While Getting Ready ENG SUB •...</td>\n      <td>ANNOYING MOMENTS WHILE GETTING READY!! UGH!! M...</td>\n      <td>https://i.ytimg.com/vi/AOVTUmDU7Bs/default.jpg</td>\n      <td>120</td>\n      <td>90</td>\n      <td>https://i.ytimg.com/vi/AOVTUmDU7Bs/mqdefault.jpg</td>\n      <td>320</td>\n      <td>180</td>\n      <td>https://i.ytimg.com/vi/AOVTUmDU7Bs/hqdefault.jpg</td>\n      <td>480</td>\n      <td>360</td>\n      <td>DGG</td>\n      <td>none</td>\n      <td>2018-07-12T06:00:04Z</td>\n    </tr>\n    <tr>\n      <th>2</th>\n      <td>youtube#searchResult</td>\n      <td>ry0zlUewmQ1_rgpvH5UeqQjwyOE</td>\n      <td>youtube#video</td>\n      <td>oNJWU8cm0eU</td>\n      <td>2020-08-25T06:38:17Z</td>\n      <td>UChhOtjq-3QyyLmP2jv9amrg</td>\n      <td>Rhythm of K-Beauty</td>\n      <td>Rhythm of K-Beauty Want to learn about Korean ...</td>\n      <td>https://i.ytimg.com/vi/oNJWU8cm0eU/default.jpg</td>\n      <td>120</td>\n      <td>90</td>\n      <td>https://i.ytimg.com/vi/oNJWU8cm0eU/mqdefault.jpg</td>\n      <td>320</td>\n      <td>180</td>\n      <td>https://i.ytimg.com/vi/oNJWU8cm0eU/hqdefault.jpg</td>\n      <td>480</td>\n      <td>360</td>\n      <td>Imagine Your Korea</td>\n      <td>none</td>\n      <td>2020-08-25T06:38:17Z</td>\n    </tr>\n    <tr>\n      <th>3</th>\n      <td>youtube#searchResult</td>\n      <td>FAWm2FVeXAKFMi8_98auJXmRjZo</td>\n      <td>youtube#video</td>\n      <td>fgeqSoLgccU</td>\n      <td>2018-07-10T06:00:30Z</td>\n      <td>UCgln4bTPN2cXnAjXVgM-Cfw</td>\n      <td>Short Hair VS Long Hair ENG SUB • dingo kbeauty</td>\n      <td>WORLD'S FIRST PROBLEM This is #1 thing I ask m...</td>\n      <td>https://i.ytimg.com/vi/fgeqSoLgccU/default.jpg</td>\n      <td>120</td>\n      <td>90</td>\n      <td>https://i.ytimg.com/vi/fgeqSoLgccU/mqdefault.jpg</td>\n      <td>320</td>\n      <td>180</td>\n      <td>https://i.ytimg.com/vi/fgeqSoLgccU/hqdefault.jpg</td>\n      <td>480</td>\n      <td>360</td>\n      <td>DGG</td>\n      <td>none</td>\n      <td>2018-07-10T06:00:30Z</td>\n    </tr>\n    <tr>\n      <th>4</th>\n      <td>youtube#searchResult</td>\n      <td>6Lv9z7Od-sjYY5pxt54NruY3weY</td>\n      <td>youtube#video</td>\n      <td>gvsV9ds9uFk</td>\n      <td>2022-04-15T04:52:25Z</td>\n      <td>UCJ9E_Ob8i8-2cyd67mbkRfw</td>\n      <td>Pretty duo 💓 #lipbalm #kbeauty</td>\n      <td></td>\n      <td>https://i.ytimg.com/vi/gvsV9ds9uFk/default.jpg</td>\n      <td>120</td>\n      <td>90</td>\n      <td>https://i.ytimg.com/vi/gvsV9ds9uFk/mqdefault.jpg</td>\n      <td>320</td>\n      <td>180</td>\n      <td>https://i.ytimg.com/vi/gvsV9ds9uFk/hqdefault.jpg</td>\n      <td>480</td>\n      <td>360</td>\n      <td>Kerbom3</td>\n      <td>none</td>\n      <td>2022-04-15T04:52:25Z</td>\n    </tr>\n    <tr>\n      <th>5</th>\n      <td>youtube#searchResult</td>\n      <td>a5HhfVq4RM98pKJBdn9oqGBOICE</td>\n      <td>youtube#video</td>\n      <td>o5hc2PaPFZ8</td>\n      <td>2021-09-24T16:54:57Z</td>\n      <td>UCJ9E_Ob8i8-2cyd67mbkRfw</td>\n      <td>#kajabeauty #kbeauty #kbeautyreview #review #a...</td>\n      <td></td>\n      <td>https://i.ytimg.com/vi/o5hc2PaPFZ8/default.jpg</td>\n      <td>120</td>\n      <td>90</td>\n      <td>https://i.ytimg.com/vi/o5hc2PaPFZ8/mqdefault.jpg</td>\n      <td>320</td>\n      <td>180</td>\n      <td>https://i.ytimg.com/vi/o5hc2PaPFZ8/hqdefault.jpg</td>\n      <td>480</td>\n      <td>360</td>\n      <td>Kerbom3</td>\n      <td>none</td>\n      <td>2021-09-24T16:54:57Z</td>\n    </tr>\n    <tr>\n      <th>...</th>\n      <td>...</td>\n      <td>...</td>\n      <td>...</td>\n      <td>...</td>\n      <td>...</td>\n      <td>...</td>\n      <td>...</td>\n      <td>...</td>\n      <td>...</td>\n      <td>...</td>\n      <td>...</td>\n      <td>...</td>\n      <td>...</td>\n      <td>...</td>\n      <td>...</td>\n      <td>...</td>\n      <td>...</td>\n      <td>...</td>\n      <td>...</td>\n      <td>...</td>\n    </tr>\n    <tr>\n      <th>3212</th>\n      <td>youtube#searchResult</td>\n      <td>yrLbtJF5skD__0R2g-TTUhPyM8c</td>\n      <td>youtube#video</td>\n      <td>DsOeHUYwjpw</td>\n      <td>2023-02-02T21:22:27Z</td>\n      <td>UCpjNgaKGfDCGPbP7JmgjZHw</td>\n      <td>Trying one of the TOP sunscreens in Korea 🫣 #k...</td>\n      <td>Follow for more glow ✨ Instagram: https://www....</td>\n      <td>https://i.ytimg.com/vi/DsOeHUYwjpw/default.jpg</td>\n      <td>120</td>\n      <td>90</td>\n      <td>https://i.ytimg.com/vi/DsOeHUYwjpw/mqdefault.jpg</td>\n      <td>320</td>\n      <td>180</td>\n      <td>https://i.ytimg.com/vi/DsOeHUYwjpw/hqdefault.jpg</td>\n      <td>480</td>\n      <td>360</td>\n      <td>vpofglow</td>\n      <td>none</td>\n      <td>2023-02-02T21:22:27Z</td>\n    </tr>\n    <tr>\n      <th>3216</th>\n      <td>youtube#searchResult</td>\n      <td>xW4tKawA4C8AaI2gRu4UMfrhIIc</td>\n      <td>youtube#video</td>\n      <td>YGPP1BjvgCU</td>\n      <td>2023-02-02T10:48:45Z</td>\n      <td>UC8_stYIOMyTQs_cEKkopaFQ</td>\n      <td>Let&amp;#39;s do an Eye Mask, and Sheet Mask #revi...</td>\n      <td>Stylevana Makeup and Skincare. I have a code y...</td>\n      <td>https://i.ytimg.com/vi/YGPP1BjvgCU/default.jpg</td>\n      <td>120</td>\n      <td>90</td>\n      <td>https://i.ytimg.com/vi/YGPP1BjvgCU/mqdefault.jpg</td>\n      <td>320</td>\n      <td>180</td>\n      <td>https://i.ytimg.com/vi/YGPP1BjvgCU/hqdefault.jpg</td>\n      <td>480</td>\n      <td>360</td>\n      <td>Life with Christine</td>\n      <td>none</td>\n      <td>2023-02-02T10:48:45Z</td>\n    </tr>\n    <tr>\n      <th>3269</th>\n      <td>youtube#searchResult</td>\n      <td>r1fvc4bljLvRM3LA8vuAlRthlKM</td>\n      <td>youtube#video</td>\n      <td>7JlZiPmfJUM</td>\n      <td>2023-02-20T08:03:00Z</td>\n      <td>UCnaasPYchRGCIsh9sCoTEhA</td>\n      <td>come on rest~ 4F solaria hotel #myeongdongkyoj...</td>\n      <td></td>\n      <td>https://i.ytimg.com/vi/7JlZiPmfJUM/default.jpg</td>\n      <td>120</td>\n      <td>90</td>\n      <td>https://i.ytimg.com/vi/7JlZiPmfJUM/mqdefault.jpg</td>\n      <td>320</td>\n      <td>180</td>\n      <td>https://i.ytimg.com/vi/7JlZiPmfJUM/hqdefault.jpg</td>\n      <td>480</td>\n      <td>360</td>\n      <td>MyeongDongHairSalon</td>\n      <td>none</td>\n      <td>2023-02-20T08:03:00Z</td>\n    </tr>\n    <tr>\n      <th>3281</th>\n      <td>youtube#searchResult</td>\n      <td>XqD468Q_82WhDFB0_OkgigCleIU</td>\n      <td>youtube#video</td>\n      <td>5c1f97i8XZM</td>\n      <td>2023-02-13T03:40:15Z</td>\n      <td>UC8J8CPTDZsFRh9dRfm-xayg</td>\n      <td>Are you into Vegan Products? #skincareroutine ...</td>\n      <td>[ Unboxing ] Melixir, is a Vegan Skincare Bran...</td>\n      <td>https://i.ytimg.com/vi/5c1f97i8XZM/default.jpg</td>\n      <td>120</td>\n      <td>90</td>\n      <td>https://i.ytimg.com/vi/5c1f97i8XZM/mqdefault.jpg</td>\n      <td>320</td>\n      <td>180</td>\n      <td>https://i.ytimg.com/vi/5c1f97i8XZM/hqdefault.jpg</td>\n      <td>480</td>\n      <td>360</td>\n      <td>Euphoric Seoul</td>\n      <td>none</td>\n      <td>2023-02-13T03:40:15Z</td>\n    </tr>\n    <tr>\n      <th>3317</th>\n      <td>youtube#searchResult</td>\n      <td>aIVz6IIUEQa_DUFOn2MkS78gUQM</td>\n      <td>youtube#video</td>\n      <td>RwKrwWJpQo4</td>\n      <td>2023-02-05T00:21:40Z</td>\n      <td>UC8XWBoFOgMgRAjivVShi2Zw</td>\n      <td>New Korean Skincare Haul #kbeauty #skincarehau...</td>\n      <td></td>\n      <td>https://i.ytimg.com/vi/RwKrwWJpQo4/default.jpg</td>\n      <td>120</td>\n      <td>90</td>\n      <td>https://i.ytimg.com/vi/RwKrwWJpQo4/mqdefault.jpg</td>\n      <td>320</td>\n      <td>180</td>\n      <td>https://i.ytimg.com/vi/RwKrwWJpQo4/hqdefault.jpg</td>\n      <td>480</td>\n      <td>360</td>\n      <td>Alluka Sakura</td>\n      <td>none</td>\n      <td>2023-02-05T00:21:40Z</td>\n    </tr>\n  </tbody>\n</table>\n<p>947 rows × 20 columns</p>\n</div>"
     },
     "metadata": {},
     "output_type": "display_data"
    }
   ],
   "source": [
    "# 19\n",
    "# Удаление дубликатов каналов (по их ID) и запись в Excel:\n",
    "df_supplemented.index = range(1,len(df_supplemented)+1) # сквозной индекс для итоговой таблицы\n",
    "df_supplemented = df_supplemented.drop_duplicates(f'id.{type_query}Id')\n",
    "display(df_supplemented)\n"
   ]
  },
  {
   "cell_type": "code",
   "execution_count": 17,
   "outputs": [],
   "source": [
    "# 20\n",
    "\n",
    "df_supplemented.to_excel(DATA_PATH /f'{query}_{type_query.capitalize()}_Not_sorted+Sorted.xlsx', index=False)"
   ],
   "metadata": {
    "collapsed": false
   }
  },
  {
   "cell_type": "code",
   "execution_count": 19,
   "id": "cee89af6",
   "metadata": {},
   "outputs": [
    {
     "data": {
      "text/plain": "                     kind                         etag        id.kind  \\\n0    youtube#searchResult  xUPXCyswbDfQ0O_cEo1y9jBHY-I  youtube#video   \n1    youtube#searchResult  ry0zlUewmQ1_rgpvH5UeqQjwyOE  youtube#video   \n2    youtube#searchResult  FAWm2FVeXAKFMi8_98auJXmRjZo  youtube#video   \n3    youtube#searchResult  6Lv9z7Od-sjYY5pxt54NruY3weY  youtube#video   \n4    youtube#searchResult  a5HhfVq4RM98pKJBdn9oqGBOICE  youtube#video   \n..                    ...                          ...            ...   \n942  youtube#searchResult  yrLbtJF5skD__0R2g-TTUhPyM8c  youtube#video   \n943  youtube#searchResult  xW4tKawA4C8AaI2gRu4UMfrhIIc  youtube#video   \n944  youtube#searchResult  r1fvc4bljLvRM3LA8vuAlRthlKM  youtube#video   \n945  youtube#searchResult  XqD468Q_82WhDFB0_OkgigCleIU  youtube#video   \n946  youtube#searchResult  aIVz6IIUEQa_DUFOn2MkS78gUQM  youtube#video   \n\n      id.videoId   snippet.publishedAt         snippet.channelId  \\\n0    AOVTUmDU7Bs  2018-07-12T06:00:04Z  UCgln4bTPN2cXnAjXVgM-Cfw   \n1    oNJWU8cm0eU  2020-08-25T06:38:17Z  UChhOtjq-3QyyLmP2jv9amrg   \n2    fgeqSoLgccU  2018-07-10T06:00:30Z  UCgln4bTPN2cXnAjXVgM-Cfw   \n3    gvsV9ds9uFk  2022-04-15T04:52:25Z  UCJ9E_Ob8i8-2cyd67mbkRfw   \n4    o5hc2PaPFZ8  2021-09-24T16:54:57Z  UCJ9E_Ob8i8-2cyd67mbkRfw   \n..           ...                   ...                       ...   \n942  DsOeHUYwjpw  2023-02-02T21:22:27Z  UCpjNgaKGfDCGPbP7JmgjZHw   \n943  YGPP1BjvgCU  2023-02-02T10:48:45Z  UC8_stYIOMyTQs_cEKkopaFQ   \n944  7JlZiPmfJUM  2023-02-20T08:03:00Z  UCnaasPYchRGCIsh9sCoTEhA   \n945  5c1f97i8XZM  2023-02-13T03:40:15Z  UC8J8CPTDZsFRh9dRfm-xayg   \n946  RwKrwWJpQo4  2023-02-05T00:21:40Z  UC8XWBoFOgMgRAjivVShi2Zw   \n\n                                         snippet.title  \\\n0    Annoying Moments While Getting Ready ENG SUB •...   \n1                                   Rhythm of K-Beauty   \n2      Short Hair VS Long Hair ENG SUB • dingo kbeauty   \n3                       Pretty duo 💓 #lipbalm #kbeauty   \n4    #kajabeauty #kbeauty #kbeautyreview #review #a...   \n..                                                 ...   \n942  Trying one of the TOP sunscreens in Korea 🫣 #k...   \n943  Let&#39;s do an Eye Mask, and Sheet Mask #revi...   \n944  come on rest~ 4F solaria hotel #myeongdongkyoj...   \n945  Are you into Vegan Products? #skincareroutine ...   \n946  New Korean Skincare Haul #kbeauty #skincarehau...   \n\n                                   snippet.description  \\\n0    ANNOYING MOMENTS WHILE GETTING READY!! UGH!! M...   \n1    Rhythm of K-Beauty Want to learn about Korean ...   \n2    WORLD'S FIRST PROBLEM This is #1 thing I ask m...   \n3                                                  NaN   \n4                                                  NaN   \n..                                                 ...   \n942  Follow for more glow ✨ Instagram: https://www....   \n943  Stylevana Makeup and Skincare. I have a code y...   \n944                                                NaN   \n945  [ Unboxing ] Melixir, is a Vegan Skincare Bran...   \n946                                                NaN   \n\n                     snippet.thumbnails.default.url  \\\n0    https://i.ytimg.com/vi/AOVTUmDU7Bs/default.jpg   \n1    https://i.ytimg.com/vi/oNJWU8cm0eU/default.jpg   \n2    https://i.ytimg.com/vi/fgeqSoLgccU/default.jpg   \n3    https://i.ytimg.com/vi/gvsV9ds9uFk/default.jpg   \n4    https://i.ytimg.com/vi/o5hc2PaPFZ8/default.jpg   \n..                                              ...   \n942  https://i.ytimg.com/vi/DsOeHUYwjpw/default.jpg   \n943  https://i.ytimg.com/vi/YGPP1BjvgCU/default.jpg   \n944  https://i.ytimg.com/vi/7JlZiPmfJUM/default.jpg   \n945  https://i.ytimg.com/vi/5c1f97i8XZM/default.jpg   \n946  https://i.ytimg.com/vi/RwKrwWJpQo4/default.jpg   \n\n     snippet.thumbnails.default.width  snippet.thumbnails.default.height  \\\n0                                 120                                 90   \n1                                 120                                 90   \n2                                 120                                 90   \n3                                 120                                 90   \n4                                 120                                 90   \n..                                ...                                ...   \n942                               120                                 90   \n943                               120                                 90   \n944                               120                                 90   \n945                               120                                 90   \n946                               120                                 90   \n\n                        snippet.thumbnails.medium.url  \\\n0    https://i.ytimg.com/vi/AOVTUmDU7Bs/mqdefault.jpg   \n1    https://i.ytimg.com/vi/oNJWU8cm0eU/mqdefault.jpg   \n2    https://i.ytimg.com/vi/fgeqSoLgccU/mqdefault.jpg   \n3    https://i.ytimg.com/vi/gvsV9ds9uFk/mqdefault.jpg   \n4    https://i.ytimg.com/vi/o5hc2PaPFZ8/mqdefault.jpg   \n..                                                ...   \n942  https://i.ytimg.com/vi/DsOeHUYwjpw/mqdefault.jpg   \n943  https://i.ytimg.com/vi/YGPP1BjvgCU/mqdefault.jpg   \n944  https://i.ytimg.com/vi/7JlZiPmfJUM/mqdefault.jpg   \n945  https://i.ytimg.com/vi/5c1f97i8XZM/mqdefault.jpg   \n946  https://i.ytimg.com/vi/RwKrwWJpQo4/mqdefault.jpg   \n\n     snippet.thumbnails.medium.width  snippet.thumbnails.medium.height  \\\n0                                320                               180   \n1                                320                               180   \n2                                320                               180   \n3                                320                               180   \n4                                320                               180   \n..                               ...                               ...   \n942                              320                               180   \n943                              320                               180   \n944                              320                               180   \n945                              320                               180   \n946                              320                               180   \n\n                          snippet.thumbnails.high.url  \\\n0    https://i.ytimg.com/vi/AOVTUmDU7Bs/hqdefault.jpg   \n1    https://i.ytimg.com/vi/oNJWU8cm0eU/hqdefault.jpg   \n2    https://i.ytimg.com/vi/fgeqSoLgccU/hqdefault.jpg   \n3    https://i.ytimg.com/vi/gvsV9ds9uFk/hqdefault.jpg   \n4    https://i.ytimg.com/vi/o5hc2PaPFZ8/hqdefault.jpg   \n..                                                ...   \n942  https://i.ytimg.com/vi/DsOeHUYwjpw/hqdefault.jpg   \n943  https://i.ytimg.com/vi/YGPP1BjvgCU/hqdefault.jpg   \n944  https://i.ytimg.com/vi/7JlZiPmfJUM/hqdefault.jpg   \n945  https://i.ytimg.com/vi/5c1f97i8XZM/hqdefault.jpg   \n946  https://i.ytimg.com/vi/RwKrwWJpQo4/hqdefault.jpg   \n\n     snippet.thumbnails.high.width  snippet.thumbnails.high.height  \\\n0                              480                             360   \n1                              480                             360   \n2                              480                             360   \n3                              480                             360   \n4                              480                             360   \n..                             ...                             ...   \n942                            480                             360   \n943                            480                             360   \n944                            480                             360   \n945                            480                             360   \n946                            480                             360   \n\n    snippet.channelTitle snippet.liveBroadcastContent   snippet.publishTime  \n0                    DGG                         none  2018-07-12T06:00:04Z  \n1     Imagine Your Korea                         none  2020-08-25T06:38:17Z  \n2                    DGG                         none  2018-07-10T06:00:30Z  \n3                Kerbom3                         none  2022-04-15T04:52:25Z  \n4                Kerbom3                         none  2021-09-24T16:54:57Z  \n..                   ...                          ...                   ...  \n942             vpofglow                         none  2023-02-02T21:22:27Z  \n943  Life with Christine                         none  2023-02-02T10:48:45Z  \n944  MyeongDongHairSalon                         none  2023-02-20T08:03:00Z  \n945       Euphoric Seoul                         none  2023-02-13T03:40:15Z  \n946        Alluka Sakura                         none  2023-02-05T00:21:40Z  \n\n[947 rows x 20 columns]",
      "text/html": "<div>\n<style scoped>\n    .dataframe tbody tr th:only-of-type {\n        vertical-align: middle;\n    }\n\n    .dataframe tbody tr th {\n        vertical-align: top;\n    }\n\n    .dataframe thead th {\n        text-align: right;\n    }\n</style>\n<table border=\"1\" class=\"dataframe\">\n  <thead>\n    <tr style=\"text-align: right;\">\n      <th></th>\n      <th>kind</th>\n      <th>etag</th>\n      <th>id.kind</th>\n      <th>id.videoId</th>\n      <th>snippet.publishedAt</th>\n      <th>snippet.channelId</th>\n      <th>snippet.title</th>\n      <th>snippet.description</th>\n      <th>snippet.thumbnails.default.url</th>\n      <th>snippet.thumbnails.default.width</th>\n      <th>snippet.thumbnails.default.height</th>\n      <th>snippet.thumbnails.medium.url</th>\n      <th>snippet.thumbnails.medium.width</th>\n      <th>snippet.thumbnails.medium.height</th>\n      <th>snippet.thumbnails.high.url</th>\n      <th>snippet.thumbnails.high.width</th>\n      <th>snippet.thumbnails.high.height</th>\n      <th>snippet.channelTitle</th>\n      <th>snippet.liveBroadcastContent</th>\n      <th>snippet.publishTime</th>\n    </tr>\n  </thead>\n  <tbody>\n    <tr>\n      <th>0</th>\n      <td>youtube#searchResult</td>\n      <td>xUPXCyswbDfQ0O_cEo1y9jBHY-I</td>\n      <td>youtube#video</td>\n      <td>AOVTUmDU7Bs</td>\n      <td>2018-07-12T06:00:04Z</td>\n      <td>UCgln4bTPN2cXnAjXVgM-Cfw</td>\n      <td>Annoying Moments While Getting Ready ENG SUB •...</td>\n      <td>ANNOYING MOMENTS WHILE GETTING READY!! UGH!! M...</td>\n      <td>https://i.ytimg.com/vi/AOVTUmDU7Bs/default.jpg</td>\n      <td>120</td>\n      <td>90</td>\n      <td>https://i.ytimg.com/vi/AOVTUmDU7Bs/mqdefault.jpg</td>\n      <td>320</td>\n      <td>180</td>\n      <td>https://i.ytimg.com/vi/AOVTUmDU7Bs/hqdefault.jpg</td>\n      <td>480</td>\n      <td>360</td>\n      <td>DGG</td>\n      <td>none</td>\n      <td>2018-07-12T06:00:04Z</td>\n    </tr>\n    <tr>\n      <th>1</th>\n      <td>youtube#searchResult</td>\n      <td>ry0zlUewmQ1_rgpvH5UeqQjwyOE</td>\n      <td>youtube#video</td>\n      <td>oNJWU8cm0eU</td>\n      <td>2020-08-25T06:38:17Z</td>\n      <td>UChhOtjq-3QyyLmP2jv9amrg</td>\n      <td>Rhythm of K-Beauty</td>\n      <td>Rhythm of K-Beauty Want to learn about Korean ...</td>\n      <td>https://i.ytimg.com/vi/oNJWU8cm0eU/default.jpg</td>\n      <td>120</td>\n      <td>90</td>\n      <td>https://i.ytimg.com/vi/oNJWU8cm0eU/mqdefault.jpg</td>\n      <td>320</td>\n      <td>180</td>\n      <td>https://i.ytimg.com/vi/oNJWU8cm0eU/hqdefault.jpg</td>\n      <td>480</td>\n      <td>360</td>\n      <td>Imagine Your Korea</td>\n      <td>none</td>\n      <td>2020-08-25T06:38:17Z</td>\n    </tr>\n    <tr>\n      <th>2</th>\n      <td>youtube#searchResult</td>\n      <td>FAWm2FVeXAKFMi8_98auJXmRjZo</td>\n      <td>youtube#video</td>\n      <td>fgeqSoLgccU</td>\n      <td>2018-07-10T06:00:30Z</td>\n      <td>UCgln4bTPN2cXnAjXVgM-Cfw</td>\n      <td>Short Hair VS Long Hair ENG SUB • dingo kbeauty</td>\n      <td>WORLD'S FIRST PROBLEM This is #1 thing I ask m...</td>\n      <td>https://i.ytimg.com/vi/fgeqSoLgccU/default.jpg</td>\n      <td>120</td>\n      <td>90</td>\n      <td>https://i.ytimg.com/vi/fgeqSoLgccU/mqdefault.jpg</td>\n      <td>320</td>\n      <td>180</td>\n      <td>https://i.ytimg.com/vi/fgeqSoLgccU/hqdefault.jpg</td>\n      <td>480</td>\n      <td>360</td>\n      <td>DGG</td>\n      <td>none</td>\n      <td>2018-07-10T06:00:30Z</td>\n    </tr>\n    <tr>\n      <th>3</th>\n      <td>youtube#searchResult</td>\n      <td>6Lv9z7Od-sjYY5pxt54NruY3weY</td>\n      <td>youtube#video</td>\n      <td>gvsV9ds9uFk</td>\n      <td>2022-04-15T04:52:25Z</td>\n      <td>UCJ9E_Ob8i8-2cyd67mbkRfw</td>\n      <td>Pretty duo 💓 #lipbalm #kbeauty</td>\n      <td>NaN</td>\n      <td>https://i.ytimg.com/vi/gvsV9ds9uFk/default.jpg</td>\n      <td>120</td>\n      <td>90</td>\n      <td>https://i.ytimg.com/vi/gvsV9ds9uFk/mqdefault.jpg</td>\n      <td>320</td>\n      <td>180</td>\n      <td>https://i.ytimg.com/vi/gvsV9ds9uFk/hqdefault.jpg</td>\n      <td>480</td>\n      <td>360</td>\n      <td>Kerbom3</td>\n      <td>none</td>\n      <td>2022-04-15T04:52:25Z</td>\n    </tr>\n    <tr>\n      <th>4</th>\n      <td>youtube#searchResult</td>\n      <td>a5HhfVq4RM98pKJBdn9oqGBOICE</td>\n      <td>youtube#video</td>\n      <td>o5hc2PaPFZ8</td>\n      <td>2021-09-24T16:54:57Z</td>\n      <td>UCJ9E_Ob8i8-2cyd67mbkRfw</td>\n      <td>#kajabeauty #kbeauty #kbeautyreview #review #a...</td>\n      <td>NaN</td>\n      <td>https://i.ytimg.com/vi/o5hc2PaPFZ8/default.jpg</td>\n      <td>120</td>\n      <td>90</td>\n      <td>https://i.ytimg.com/vi/o5hc2PaPFZ8/mqdefault.jpg</td>\n      <td>320</td>\n      <td>180</td>\n      <td>https://i.ytimg.com/vi/o5hc2PaPFZ8/hqdefault.jpg</td>\n      <td>480</td>\n      <td>360</td>\n      <td>Kerbom3</td>\n      <td>none</td>\n      <td>2021-09-24T16:54:57Z</td>\n    </tr>\n    <tr>\n      <th>...</th>\n      <td>...</td>\n      <td>...</td>\n      <td>...</td>\n      <td>...</td>\n      <td>...</td>\n      <td>...</td>\n      <td>...</td>\n      <td>...</td>\n      <td>...</td>\n      <td>...</td>\n      <td>...</td>\n      <td>...</td>\n      <td>...</td>\n      <td>...</td>\n      <td>...</td>\n      <td>...</td>\n      <td>...</td>\n      <td>...</td>\n      <td>...</td>\n      <td>...</td>\n    </tr>\n    <tr>\n      <th>942</th>\n      <td>youtube#searchResult</td>\n      <td>yrLbtJF5skD__0R2g-TTUhPyM8c</td>\n      <td>youtube#video</td>\n      <td>DsOeHUYwjpw</td>\n      <td>2023-02-02T21:22:27Z</td>\n      <td>UCpjNgaKGfDCGPbP7JmgjZHw</td>\n      <td>Trying one of the TOP sunscreens in Korea 🫣 #k...</td>\n      <td>Follow for more glow ✨ Instagram: https://www....</td>\n      <td>https://i.ytimg.com/vi/DsOeHUYwjpw/default.jpg</td>\n      <td>120</td>\n      <td>90</td>\n      <td>https://i.ytimg.com/vi/DsOeHUYwjpw/mqdefault.jpg</td>\n      <td>320</td>\n      <td>180</td>\n      <td>https://i.ytimg.com/vi/DsOeHUYwjpw/hqdefault.jpg</td>\n      <td>480</td>\n      <td>360</td>\n      <td>vpofglow</td>\n      <td>none</td>\n      <td>2023-02-02T21:22:27Z</td>\n    </tr>\n    <tr>\n      <th>943</th>\n      <td>youtube#searchResult</td>\n      <td>xW4tKawA4C8AaI2gRu4UMfrhIIc</td>\n      <td>youtube#video</td>\n      <td>YGPP1BjvgCU</td>\n      <td>2023-02-02T10:48:45Z</td>\n      <td>UC8_stYIOMyTQs_cEKkopaFQ</td>\n      <td>Let&amp;#39;s do an Eye Mask, and Sheet Mask #revi...</td>\n      <td>Stylevana Makeup and Skincare. I have a code y...</td>\n      <td>https://i.ytimg.com/vi/YGPP1BjvgCU/default.jpg</td>\n      <td>120</td>\n      <td>90</td>\n      <td>https://i.ytimg.com/vi/YGPP1BjvgCU/mqdefault.jpg</td>\n      <td>320</td>\n      <td>180</td>\n      <td>https://i.ytimg.com/vi/YGPP1BjvgCU/hqdefault.jpg</td>\n      <td>480</td>\n      <td>360</td>\n      <td>Life with Christine</td>\n      <td>none</td>\n      <td>2023-02-02T10:48:45Z</td>\n    </tr>\n    <tr>\n      <th>944</th>\n      <td>youtube#searchResult</td>\n      <td>r1fvc4bljLvRM3LA8vuAlRthlKM</td>\n      <td>youtube#video</td>\n      <td>7JlZiPmfJUM</td>\n      <td>2023-02-20T08:03:00Z</td>\n      <td>UCnaasPYchRGCIsh9sCoTEhA</td>\n      <td>come on rest~ 4F solaria hotel #myeongdongkyoj...</td>\n      <td>NaN</td>\n      <td>https://i.ytimg.com/vi/7JlZiPmfJUM/default.jpg</td>\n      <td>120</td>\n      <td>90</td>\n      <td>https://i.ytimg.com/vi/7JlZiPmfJUM/mqdefault.jpg</td>\n      <td>320</td>\n      <td>180</td>\n      <td>https://i.ytimg.com/vi/7JlZiPmfJUM/hqdefault.jpg</td>\n      <td>480</td>\n      <td>360</td>\n      <td>MyeongDongHairSalon</td>\n      <td>none</td>\n      <td>2023-02-20T08:03:00Z</td>\n    </tr>\n    <tr>\n      <th>945</th>\n      <td>youtube#searchResult</td>\n      <td>XqD468Q_82WhDFB0_OkgigCleIU</td>\n      <td>youtube#video</td>\n      <td>5c1f97i8XZM</td>\n      <td>2023-02-13T03:40:15Z</td>\n      <td>UC8J8CPTDZsFRh9dRfm-xayg</td>\n      <td>Are you into Vegan Products? #skincareroutine ...</td>\n      <td>[ Unboxing ] Melixir, is a Vegan Skincare Bran...</td>\n      <td>https://i.ytimg.com/vi/5c1f97i8XZM/default.jpg</td>\n      <td>120</td>\n      <td>90</td>\n      <td>https://i.ytimg.com/vi/5c1f97i8XZM/mqdefault.jpg</td>\n      <td>320</td>\n      <td>180</td>\n      <td>https://i.ytimg.com/vi/5c1f97i8XZM/hqdefault.jpg</td>\n      <td>480</td>\n      <td>360</td>\n      <td>Euphoric Seoul</td>\n      <td>none</td>\n      <td>2023-02-13T03:40:15Z</td>\n    </tr>\n    <tr>\n      <th>946</th>\n      <td>youtube#searchResult</td>\n      <td>aIVz6IIUEQa_DUFOn2MkS78gUQM</td>\n      <td>youtube#video</td>\n      <td>RwKrwWJpQo4</td>\n      <td>2023-02-05T00:21:40Z</td>\n      <td>UC8XWBoFOgMgRAjivVShi2Zw</td>\n      <td>New Korean Skincare Haul #kbeauty #skincarehau...</td>\n      <td>NaN</td>\n      <td>https://i.ytimg.com/vi/RwKrwWJpQo4/default.jpg</td>\n      <td>120</td>\n      <td>90</td>\n      <td>https://i.ytimg.com/vi/RwKrwWJpQo4/mqdefault.jpg</td>\n      <td>320</td>\n      <td>180</td>\n      <td>https://i.ytimg.com/vi/RwKrwWJpQo4/hqdefault.jpg</td>\n      <td>480</td>\n      <td>360</td>\n      <td>Alluka Sakura</td>\n      <td>none</td>\n      <td>2023-02-05T00:21:40Z</td>\n    </tr>\n  </tbody>\n</table>\n<p>947 rows × 20 columns</p>\n</div>"
     },
     "execution_count": 19,
     "metadata": {},
     "output_type": "execute_result"
    }
   ],
   "source": [
    "df_supplemented = pd.read_excel(DATA_PATH / f'{type_query.capitalize()}_Not_sorted+Sorted.xlsx')\n",
    "# возврат к выдаче без учета date; указание, что индекс в первом столбце\n",
    "df_supplemented"
   ]
  },
  {
   "cell_type": "code",
   "execution_count": 20,
   "id": "168e7407",
   "metadata": {},
   "outputs": [
    {
     "name": "stdout",
     "output_type": "stream",
     "text": [
      "Итерация №0, \"date\" 2020-01-01T - 2022-01-01T\n",
      "Итерация №1, \"date\" 2020-01-01T - 2022-01-01T\n",
      "Итерация №2, \"date\" 2020-01-01T - 2022-01-01T\n",
      "Итерация №3, \"date\" 2020-01-01T - 2022-01-01T\n",
      "Итерация №4, \"date\" 2020-01-01T - 2022-01-01T\n",
      "Итерация №5, \"date\" 2020-01-01T - 2022-01-01T\n",
      "Итерация №6, \"date\" 2020-01-01T - 2022-01-01T\n",
      "Итерация №7, \"date\" 2020-01-01T - 2022-01-01T\n",
      "Итерация №8, \"date\" 2020-01-01T - 2022-01-01T\n",
      "Итерация №9, \"date\" 2020-01-01T - 2022-01-01T\n",
      "Искомых объектов 1000000 а найденных БЕЗ включения каких-либо значений аргумента order 481\n"
     ]
    }
   ],
   "source": [
    "#19.1 Запросы БЕЗ включения аргумента order, но с учетом даты\n",
    "# Первый заход:\n",
    "request = youtube.search().list(\n",
    "        part =\"snippet\",\n",
    "        maxResults=50,\n",
    "        q = query,\n",
    "        type = type_query,\n",
    "        publishedAfter=publishedAfter,\n",
    "        publishedBefore=publishedBefore\n",
    ")\n",
    "response = request.execute()  \n",
    "   \n",
    "df_supplemented = pd.json_normalize(response['items'])\n",
    "   \n",
    "    # Цикл для прохода по всем следующим страницам с выдачей:\n",
    "i = 0\n",
    "while 'nextPageToken' in response.keys():\n",
    "    request = youtube.search().list(\n",
    "            part =\"snippet\",\n",
    "            maxResults=50,\n",
    "            q = query,\n",
    "            type = type_query,\n",
    "            pageToken = response['nextPageToken'],\n",
    "            publishedAfter=publishedAfter,\n",
    "            publishedBefore=publishedBefore\n",
    "    )\n",
    "    response = request.execute()  \n",
    "    \n",
    "    print(f'Итерация №{i}, \"date\" {publishedAfter[:11]} - {publishedBefore[:11]}')\n",
    "    i += 1\n",
    "        \n",
    "    df_additional = pd.json_normalize(response['items'])\n",
    "    df_supplemented = pd.concat([df_supplemented, df_additional])\n",
    "    \n",
    "    \n",
    "\n",
    "print(f\"Искомых объектов {response['pageInfo']['totalResults']}\", \\\n",
    "      f\"а найденных БЕЗ включения каких-либо значений аргумента order {len(df_supplemented.drop_duplicates(f'id.{type_query}Id'))}\")"
   ]
  },
  {
   "cell_type": "code",
   "execution_count": 25,
   "id": "ce726c8a",
   "metadata": {},
   "outputs": [],
   "source": [
    "# 19.2\n",
    "# Цикл для прохода по значениям аргумента order, внутри которых проход по всем страницам выдачи:\n",
    "# Думаю, можно не выполнять, так как большинство включено в искомые объекты"
   ]
  },
  {
   "cell_type": "code",
   "execution_count": 21,
   "id": "1abc7849",
   "metadata": {},
   "outputs": [
    {
     "data": {
      "text/plain": "                                             etag        id.kind   id.videoId  \\\nkind                                                                            \nyoutube#searchResult  xUPXCyswbDfQ0O_cEo1y9jBHY-I  youtube#video  AOVTUmDU7Bs   \nyoutube#searchResult  ry0zlUewmQ1_rgpvH5UeqQjwyOE  youtube#video  oNJWU8cm0eU   \nyoutube#searchResult  FAWm2FVeXAKFMi8_98auJXmRjZo  youtube#video  fgeqSoLgccU   \nyoutube#searchResult  6Lv9z7Od-sjYY5pxt54NruY3weY  youtube#video  gvsV9ds9uFk   \nyoutube#searchResult  a5HhfVq4RM98pKJBdn9oqGBOICE  youtube#video  o5hc2PaPFZ8   \n...                                           ...            ...          ...   \nyoutube#searchResult  yrLbtJF5skD__0R2g-TTUhPyM8c  youtube#video  DsOeHUYwjpw   \nyoutube#searchResult  xW4tKawA4C8AaI2gRu4UMfrhIIc  youtube#video  YGPP1BjvgCU   \nyoutube#searchResult  r1fvc4bljLvRM3LA8vuAlRthlKM  youtube#video  7JlZiPmfJUM   \nyoutube#searchResult  XqD468Q_82WhDFB0_OkgigCleIU  youtube#video  5c1f97i8XZM   \nyoutube#searchResult  aIVz6IIUEQa_DUFOn2MkS78gUQM  youtube#video  RwKrwWJpQo4   \n\n                       snippet.publishedAt         snippet.channelId  \\\nkind                                                                   \nyoutube#searchResult  2018-07-12T06:00:04Z  UCgln4bTPN2cXnAjXVgM-Cfw   \nyoutube#searchResult  2020-08-25T06:38:17Z  UChhOtjq-3QyyLmP2jv9amrg   \nyoutube#searchResult  2018-07-10T06:00:30Z  UCgln4bTPN2cXnAjXVgM-Cfw   \nyoutube#searchResult  2022-04-15T04:52:25Z  UCJ9E_Ob8i8-2cyd67mbkRfw   \nyoutube#searchResult  2021-09-24T16:54:57Z  UCJ9E_Ob8i8-2cyd67mbkRfw   \n...                                    ...                       ...   \nyoutube#searchResult  2023-02-02T21:22:27Z  UCpjNgaKGfDCGPbP7JmgjZHw   \nyoutube#searchResult  2023-02-02T10:48:45Z  UC8_stYIOMyTQs_cEKkopaFQ   \nyoutube#searchResult  2023-02-20T08:03:00Z  UCnaasPYchRGCIsh9sCoTEhA   \nyoutube#searchResult  2023-02-13T03:40:15Z  UC8J8CPTDZsFRh9dRfm-xayg   \nyoutube#searchResult  2023-02-05T00:21:40Z  UC8XWBoFOgMgRAjivVShi2Zw   \n\n                                                          snippet.title  \\\nkind                                                                      \nyoutube#searchResult  Annoying Moments While Getting Ready ENG SUB •...   \nyoutube#searchResult                                 Rhythm of K-Beauty   \nyoutube#searchResult    Short Hair VS Long Hair ENG SUB • dingo kbeauty   \nyoutube#searchResult                     Pretty duo 💓 #lipbalm #kbeauty   \nyoutube#searchResult  #kajabeauty #kbeauty #kbeautyreview #review #a...   \n...                                                                 ...   \nyoutube#searchResult  Trying one of the TOP sunscreens in Korea 🫣 #k...   \nyoutube#searchResult  Let&#39;s do an Eye Mask, and Sheet Mask #revi...   \nyoutube#searchResult  come on rest~ 4F solaria hotel #myeongdongkyoj...   \nyoutube#searchResult  Are you into Vegan Products? #skincareroutine ...   \nyoutube#searchResult  New Korean Skincare Haul #kbeauty #skincarehau...   \n\n                                                    snippet.description  \\\nkind                                                                      \nyoutube#searchResult  ANNOYING MOMENTS WHILE GETTING READY!! UGH!! M...   \nyoutube#searchResult  Rhythm of K-Beauty Want to learn about Korean ...   \nyoutube#searchResult  WORLD'S FIRST PROBLEM This is #1 thing I ask m...   \nyoutube#searchResult                                                NaN   \nyoutube#searchResult                                                NaN   \n...                                                                 ...   \nyoutube#searchResult  Follow for more glow ✨ Instagram: https://www....   \nyoutube#searchResult  Stylevana Makeup and Skincare. I have a code y...   \nyoutube#searchResult                                                NaN   \nyoutube#searchResult  [ Unboxing ] Melixir, is a Vegan Skincare Bran...   \nyoutube#searchResult                                                NaN   \n\n                                      snippet.thumbnails.default.url  \\\nkind                                                                   \nyoutube#searchResult  https://i.ytimg.com/vi/AOVTUmDU7Bs/default.jpg   \nyoutube#searchResult  https://i.ytimg.com/vi/oNJWU8cm0eU/default.jpg   \nyoutube#searchResult  https://i.ytimg.com/vi/fgeqSoLgccU/default.jpg   \nyoutube#searchResult  https://i.ytimg.com/vi/gvsV9ds9uFk/default.jpg   \nyoutube#searchResult  https://i.ytimg.com/vi/o5hc2PaPFZ8/default.jpg   \n...                                                              ...   \nyoutube#searchResult  https://i.ytimg.com/vi/DsOeHUYwjpw/default.jpg   \nyoutube#searchResult  https://i.ytimg.com/vi/YGPP1BjvgCU/default.jpg   \nyoutube#searchResult  https://i.ytimg.com/vi/7JlZiPmfJUM/default.jpg   \nyoutube#searchResult  https://i.ytimg.com/vi/5c1f97i8XZM/default.jpg   \nyoutube#searchResult  https://i.ytimg.com/vi/RwKrwWJpQo4/default.jpg   \n\n                      snippet.thumbnails.default.width  \\\nkind                                                     \nyoutube#searchResult                               120   \nyoutube#searchResult                               120   \nyoutube#searchResult                               120   \nyoutube#searchResult                               120   \nyoutube#searchResult                               120   \n...                                                ...   \nyoutube#searchResult                               120   \nyoutube#searchResult                               120   \nyoutube#searchResult                               120   \nyoutube#searchResult                               120   \nyoutube#searchResult                               120   \n\n                      snippet.thumbnails.default.height  \\\nkind                                                      \nyoutube#searchResult                                 90   \nyoutube#searchResult                                 90   \nyoutube#searchResult                                 90   \nyoutube#searchResult                                 90   \nyoutube#searchResult                                 90   \n...                                                 ...   \nyoutube#searchResult                                 90   \nyoutube#searchResult                                 90   \nyoutube#searchResult                                 90   \nyoutube#searchResult                                 90   \nyoutube#searchResult                                 90   \n\n                                         snippet.thumbnails.medium.url  \\\nkind                                                                     \nyoutube#searchResult  https://i.ytimg.com/vi/AOVTUmDU7Bs/mqdefault.jpg   \nyoutube#searchResult  https://i.ytimg.com/vi/oNJWU8cm0eU/mqdefault.jpg   \nyoutube#searchResult  https://i.ytimg.com/vi/fgeqSoLgccU/mqdefault.jpg   \nyoutube#searchResult  https://i.ytimg.com/vi/gvsV9ds9uFk/mqdefault.jpg   \nyoutube#searchResult  https://i.ytimg.com/vi/o5hc2PaPFZ8/mqdefault.jpg   \n...                                                                ...   \nyoutube#searchResult  https://i.ytimg.com/vi/DsOeHUYwjpw/mqdefault.jpg   \nyoutube#searchResult  https://i.ytimg.com/vi/YGPP1BjvgCU/mqdefault.jpg   \nyoutube#searchResult  https://i.ytimg.com/vi/7JlZiPmfJUM/mqdefault.jpg   \nyoutube#searchResult  https://i.ytimg.com/vi/5c1f97i8XZM/mqdefault.jpg   \nyoutube#searchResult  https://i.ytimg.com/vi/RwKrwWJpQo4/mqdefault.jpg   \n\n                      snippet.thumbnails.medium.width  \\\nkind                                                    \nyoutube#searchResult                              320   \nyoutube#searchResult                              320   \nyoutube#searchResult                              320   \nyoutube#searchResult                              320   \nyoutube#searchResult                              320   \n...                                               ...   \nyoutube#searchResult                              320   \nyoutube#searchResult                              320   \nyoutube#searchResult                              320   \nyoutube#searchResult                              320   \nyoutube#searchResult                              320   \n\n                      snippet.thumbnails.medium.height  \\\nkind                                                     \nyoutube#searchResult                               180   \nyoutube#searchResult                               180   \nyoutube#searchResult                               180   \nyoutube#searchResult                               180   \nyoutube#searchResult                               180   \n...                                                ...   \nyoutube#searchResult                               180   \nyoutube#searchResult                               180   \nyoutube#searchResult                               180   \nyoutube#searchResult                               180   \nyoutube#searchResult                               180   \n\n                                           snippet.thumbnails.high.url  \\\nkind                                                                     \nyoutube#searchResult  https://i.ytimg.com/vi/AOVTUmDU7Bs/hqdefault.jpg   \nyoutube#searchResult  https://i.ytimg.com/vi/oNJWU8cm0eU/hqdefault.jpg   \nyoutube#searchResult  https://i.ytimg.com/vi/fgeqSoLgccU/hqdefault.jpg   \nyoutube#searchResult  https://i.ytimg.com/vi/gvsV9ds9uFk/hqdefault.jpg   \nyoutube#searchResult  https://i.ytimg.com/vi/o5hc2PaPFZ8/hqdefault.jpg   \n...                                                                ...   \nyoutube#searchResult  https://i.ytimg.com/vi/DsOeHUYwjpw/hqdefault.jpg   \nyoutube#searchResult  https://i.ytimg.com/vi/YGPP1BjvgCU/hqdefault.jpg   \nyoutube#searchResult  https://i.ytimg.com/vi/7JlZiPmfJUM/hqdefault.jpg   \nyoutube#searchResult  https://i.ytimg.com/vi/5c1f97i8XZM/hqdefault.jpg   \nyoutube#searchResult  https://i.ytimg.com/vi/RwKrwWJpQo4/hqdefault.jpg   \n\n                      snippet.thumbnails.high.width  \\\nkind                                                  \nyoutube#searchResult                            480   \nyoutube#searchResult                            480   \nyoutube#searchResult                            480   \nyoutube#searchResult                            480   \nyoutube#searchResult                            480   \n...                                             ...   \nyoutube#searchResult                            480   \nyoutube#searchResult                            480   \nyoutube#searchResult                            480   \nyoutube#searchResult                            480   \nyoutube#searchResult                            480   \n\n                      snippet.thumbnails.high.height snippet.channelTitle  \\\nkind                                                                        \nyoutube#searchResult                             360                  DGG   \nyoutube#searchResult                             360   Imagine Your Korea   \nyoutube#searchResult                             360                  DGG   \nyoutube#searchResult                             360              Kerbom3   \nyoutube#searchResult                             360              Kerbom3   \n...                                              ...                  ...   \nyoutube#searchResult                             360             vpofglow   \nyoutube#searchResult                             360  Life with Christine   \nyoutube#searchResult                             360  MyeongDongHairSalon   \nyoutube#searchResult                             360       Euphoric Seoul   \nyoutube#searchResult                             360        Alluka Sakura   \n\n                     snippet.liveBroadcastContent   snippet.publishTime  \nkind                                                                     \nyoutube#searchResult                         none  2018-07-12T06:00:04Z  \nyoutube#searchResult                         none  2020-08-25T06:38:17Z  \nyoutube#searchResult                         none  2018-07-10T06:00:30Z  \nyoutube#searchResult                         none  2022-04-15T04:52:25Z  \nyoutube#searchResult                         none  2021-09-24T16:54:57Z  \n...                                           ...                   ...  \nyoutube#searchResult                         none  2023-02-02T21:22:27Z  \nyoutube#searchResult                         none  2023-02-02T10:48:45Z  \nyoutube#searchResult                         none  2023-02-20T08:03:00Z  \nyoutube#searchResult                         none  2023-02-13T03:40:15Z  \nyoutube#searchResult                         none  2023-02-05T00:21:40Z  \n\n[947 rows x 19 columns]",
      "text/html": "<div>\n<style scoped>\n    .dataframe tbody tr th:only-of-type {\n        vertical-align: middle;\n    }\n\n    .dataframe tbody tr th {\n        vertical-align: top;\n    }\n\n    .dataframe thead th {\n        text-align: right;\n    }\n</style>\n<table border=\"1\" class=\"dataframe\">\n  <thead>\n    <tr style=\"text-align: right;\">\n      <th></th>\n      <th>etag</th>\n      <th>id.kind</th>\n      <th>id.videoId</th>\n      <th>snippet.publishedAt</th>\n      <th>snippet.channelId</th>\n      <th>snippet.title</th>\n      <th>snippet.description</th>\n      <th>snippet.thumbnails.default.url</th>\n      <th>snippet.thumbnails.default.width</th>\n      <th>snippet.thumbnails.default.height</th>\n      <th>snippet.thumbnails.medium.url</th>\n      <th>snippet.thumbnails.medium.width</th>\n      <th>snippet.thumbnails.medium.height</th>\n      <th>snippet.thumbnails.high.url</th>\n      <th>snippet.thumbnails.high.width</th>\n      <th>snippet.thumbnails.high.height</th>\n      <th>snippet.channelTitle</th>\n      <th>snippet.liveBroadcastContent</th>\n      <th>snippet.publishTime</th>\n    </tr>\n    <tr>\n      <th>kind</th>\n      <th></th>\n      <th></th>\n      <th></th>\n      <th></th>\n      <th></th>\n      <th></th>\n      <th></th>\n      <th></th>\n      <th></th>\n      <th></th>\n      <th></th>\n      <th></th>\n      <th></th>\n      <th></th>\n      <th></th>\n      <th></th>\n      <th></th>\n      <th></th>\n      <th></th>\n    </tr>\n  </thead>\n  <tbody>\n    <tr>\n      <th>youtube#searchResult</th>\n      <td>xUPXCyswbDfQ0O_cEo1y9jBHY-I</td>\n      <td>youtube#video</td>\n      <td>AOVTUmDU7Bs</td>\n      <td>2018-07-12T06:00:04Z</td>\n      <td>UCgln4bTPN2cXnAjXVgM-Cfw</td>\n      <td>Annoying Moments While Getting Ready ENG SUB •...</td>\n      <td>ANNOYING MOMENTS WHILE GETTING READY!! UGH!! M...</td>\n      <td>https://i.ytimg.com/vi/AOVTUmDU7Bs/default.jpg</td>\n      <td>120</td>\n      <td>90</td>\n      <td>https://i.ytimg.com/vi/AOVTUmDU7Bs/mqdefault.jpg</td>\n      <td>320</td>\n      <td>180</td>\n      <td>https://i.ytimg.com/vi/AOVTUmDU7Bs/hqdefault.jpg</td>\n      <td>480</td>\n      <td>360</td>\n      <td>DGG</td>\n      <td>none</td>\n      <td>2018-07-12T06:00:04Z</td>\n    </tr>\n    <tr>\n      <th>youtube#searchResult</th>\n      <td>ry0zlUewmQ1_rgpvH5UeqQjwyOE</td>\n      <td>youtube#video</td>\n      <td>oNJWU8cm0eU</td>\n      <td>2020-08-25T06:38:17Z</td>\n      <td>UChhOtjq-3QyyLmP2jv9amrg</td>\n      <td>Rhythm of K-Beauty</td>\n      <td>Rhythm of K-Beauty Want to learn about Korean ...</td>\n      <td>https://i.ytimg.com/vi/oNJWU8cm0eU/default.jpg</td>\n      <td>120</td>\n      <td>90</td>\n      <td>https://i.ytimg.com/vi/oNJWU8cm0eU/mqdefault.jpg</td>\n      <td>320</td>\n      <td>180</td>\n      <td>https://i.ytimg.com/vi/oNJWU8cm0eU/hqdefault.jpg</td>\n      <td>480</td>\n      <td>360</td>\n      <td>Imagine Your Korea</td>\n      <td>none</td>\n      <td>2020-08-25T06:38:17Z</td>\n    </tr>\n    <tr>\n      <th>youtube#searchResult</th>\n      <td>FAWm2FVeXAKFMi8_98auJXmRjZo</td>\n      <td>youtube#video</td>\n      <td>fgeqSoLgccU</td>\n      <td>2018-07-10T06:00:30Z</td>\n      <td>UCgln4bTPN2cXnAjXVgM-Cfw</td>\n      <td>Short Hair VS Long Hair ENG SUB • dingo kbeauty</td>\n      <td>WORLD'S FIRST PROBLEM This is #1 thing I ask m...</td>\n      <td>https://i.ytimg.com/vi/fgeqSoLgccU/default.jpg</td>\n      <td>120</td>\n      <td>90</td>\n      <td>https://i.ytimg.com/vi/fgeqSoLgccU/mqdefault.jpg</td>\n      <td>320</td>\n      <td>180</td>\n      <td>https://i.ytimg.com/vi/fgeqSoLgccU/hqdefault.jpg</td>\n      <td>480</td>\n      <td>360</td>\n      <td>DGG</td>\n      <td>none</td>\n      <td>2018-07-10T06:00:30Z</td>\n    </tr>\n    <tr>\n      <th>youtube#searchResult</th>\n      <td>6Lv9z7Od-sjYY5pxt54NruY3weY</td>\n      <td>youtube#video</td>\n      <td>gvsV9ds9uFk</td>\n      <td>2022-04-15T04:52:25Z</td>\n      <td>UCJ9E_Ob8i8-2cyd67mbkRfw</td>\n      <td>Pretty duo 💓 #lipbalm #kbeauty</td>\n      <td>NaN</td>\n      <td>https://i.ytimg.com/vi/gvsV9ds9uFk/default.jpg</td>\n      <td>120</td>\n      <td>90</td>\n      <td>https://i.ytimg.com/vi/gvsV9ds9uFk/mqdefault.jpg</td>\n      <td>320</td>\n      <td>180</td>\n      <td>https://i.ytimg.com/vi/gvsV9ds9uFk/hqdefault.jpg</td>\n      <td>480</td>\n      <td>360</td>\n      <td>Kerbom3</td>\n      <td>none</td>\n      <td>2022-04-15T04:52:25Z</td>\n    </tr>\n    <tr>\n      <th>youtube#searchResult</th>\n      <td>a5HhfVq4RM98pKJBdn9oqGBOICE</td>\n      <td>youtube#video</td>\n      <td>o5hc2PaPFZ8</td>\n      <td>2021-09-24T16:54:57Z</td>\n      <td>UCJ9E_Ob8i8-2cyd67mbkRfw</td>\n      <td>#kajabeauty #kbeauty #kbeautyreview #review #a...</td>\n      <td>NaN</td>\n      <td>https://i.ytimg.com/vi/o5hc2PaPFZ8/default.jpg</td>\n      <td>120</td>\n      <td>90</td>\n      <td>https://i.ytimg.com/vi/o5hc2PaPFZ8/mqdefault.jpg</td>\n      <td>320</td>\n      <td>180</td>\n      <td>https://i.ytimg.com/vi/o5hc2PaPFZ8/hqdefault.jpg</td>\n      <td>480</td>\n      <td>360</td>\n      <td>Kerbom3</td>\n      <td>none</td>\n      <td>2021-09-24T16:54:57Z</td>\n    </tr>\n    <tr>\n      <th>...</th>\n      <td>...</td>\n      <td>...</td>\n      <td>...</td>\n      <td>...</td>\n      <td>...</td>\n      <td>...</td>\n      <td>...</td>\n      <td>...</td>\n      <td>...</td>\n      <td>...</td>\n      <td>...</td>\n      <td>...</td>\n      <td>...</td>\n      <td>...</td>\n      <td>...</td>\n      <td>...</td>\n      <td>...</td>\n      <td>...</td>\n      <td>...</td>\n    </tr>\n    <tr>\n      <th>youtube#searchResult</th>\n      <td>yrLbtJF5skD__0R2g-TTUhPyM8c</td>\n      <td>youtube#video</td>\n      <td>DsOeHUYwjpw</td>\n      <td>2023-02-02T21:22:27Z</td>\n      <td>UCpjNgaKGfDCGPbP7JmgjZHw</td>\n      <td>Trying one of the TOP sunscreens in Korea 🫣 #k...</td>\n      <td>Follow for more glow ✨ Instagram: https://www....</td>\n      <td>https://i.ytimg.com/vi/DsOeHUYwjpw/default.jpg</td>\n      <td>120</td>\n      <td>90</td>\n      <td>https://i.ytimg.com/vi/DsOeHUYwjpw/mqdefault.jpg</td>\n      <td>320</td>\n      <td>180</td>\n      <td>https://i.ytimg.com/vi/DsOeHUYwjpw/hqdefault.jpg</td>\n      <td>480</td>\n      <td>360</td>\n      <td>vpofglow</td>\n      <td>none</td>\n      <td>2023-02-02T21:22:27Z</td>\n    </tr>\n    <tr>\n      <th>youtube#searchResult</th>\n      <td>xW4tKawA4C8AaI2gRu4UMfrhIIc</td>\n      <td>youtube#video</td>\n      <td>YGPP1BjvgCU</td>\n      <td>2023-02-02T10:48:45Z</td>\n      <td>UC8_stYIOMyTQs_cEKkopaFQ</td>\n      <td>Let&amp;#39;s do an Eye Mask, and Sheet Mask #revi...</td>\n      <td>Stylevana Makeup and Skincare. I have a code y...</td>\n      <td>https://i.ytimg.com/vi/YGPP1BjvgCU/default.jpg</td>\n      <td>120</td>\n      <td>90</td>\n      <td>https://i.ytimg.com/vi/YGPP1BjvgCU/mqdefault.jpg</td>\n      <td>320</td>\n      <td>180</td>\n      <td>https://i.ytimg.com/vi/YGPP1BjvgCU/hqdefault.jpg</td>\n      <td>480</td>\n      <td>360</td>\n      <td>Life with Christine</td>\n      <td>none</td>\n      <td>2023-02-02T10:48:45Z</td>\n    </tr>\n    <tr>\n      <th>youtube#searchResult</th>\n      <td>r1fvc4bljLvRM3LA8vuAlRthlKM</td>\n      <td>youtube#video</td>\n      <td>7JlZiPmfJUM</td>\n      <td>2023-02-20T08:03:00Z</td>\n      <td>UCnaasPYchRGCIsh9sCoTEhA</td>\n      <td>come on rest~ 4F solaria hotel #myeongdongkyoj...</td>\n      <td>NaN</td>\n      <td>https://i.ytimg.com/vi/7JlZiPmfJUM/default.jpg</td>\n      <td>120</td>\n      <td>90</td>\n      <td>https://i.ytimg.com/vi/7JlZiPmfJUM/mqdefault.jpg</td>\n      <td>320</td>\n      <td>180</td>\n      <td>https://i.ytimg.com/vi/7JlZiPmfJUM/hqdefault.jpg</td>\n      <td>480</td>\n      <td>360</td>\n      <td>MyeongDongHairSalon</td>\n      <td>none</td>\n      <td>2023-02-20T08:03:00Z</td>\n    </tr>\n    <tr>\n      <th>youtube#searchResult</th>\n      <td>XqD468Q_82WhDFB0_OkgigCleIU</td>\n      <td>youtube#video</td>\n      <td>5c1f97i8XZM</td>\n      <td>2023-02-13T03:40:15Z</td>\n      <td>UC8J8CPTDZsFRh9dRfm-xayg</td>\n      <td>Are you into Vegan Products? #skincareroutine ...</td>\n      <td>[ Unboxing ] Melixir, is a Vegan Skincare Bran...</td>\n      <td>https://i.ytimg.com/vi/5c1f97i8XZM/default.jpg</td>\n      <td>120</td>\n      <td>90</td>\n      <td>https://i.ytimg.com/vi/5c1f97i8XZM/mqdefault.jpg</td>\n      <td>320</td>\n      <td>180</td>\n      <td>https://i.ytimg.com/vi/5c1f97i8XZM/hqdefault.jpg</td>\n      <td>480</td>\n      <td>360</td>\n      <td>Euphoric Seoul</td>\n      <td>none</td>\n      <td>2023-02-13T03:40:15Z</td>\n    </tr>\n    <tr>\n      <th>youtube#searchResult</th>\n      <td>aIVz6IIUEQa_DUFOn2MkS78gUQM</td>\n      <td>youtube#video</td>\n      <td>RwKrwWJpQo4</td>\n      <td>2023-02-05T00:21:40Z</td>\n      <td>UC8XWBoFOgMgRAjivVShi2Zw</td>\n      <td>New Korean Skincare Haul #kbeauty #skincarehau...</td>\n      <td>NaN</td>\n      <td>https://i.ytimg.com/vi/RwKrwWJpQo4/default.jpg</td>\n      <td>120</td>\n      <td>90</td>\n      <td>https://i.ytimg.com/vi/RwKrwWJpQo4/mqdefault.jpg</td>\n      <td>320</td>\n      <td>180</td>\n      <td>https://i.ytimg.com/vi/RwKrwWJpQo4/hqdefault.jpg</td>\n      <td>480</td>\n      <td>360</td>\n      <td>Alluka Sakura</td>\n      <td>none</td>\n      <td>2023-02-05T00:21:40Z</td>\n    </tr>\n  </tbody>\n</table>\n<p>947 rows × 19 columns</p>\n</div>"
     },
     "metadata": {},
     "output_type": "display_data"
    },
    {
     "data": {
      "text/plain": "'Совпадений двух столбцов: 947'"
     },
     "metadata": {},
     "output_type": "display_data"
    }
   ],
   "source": [
    "# 21 Проверка совпадения двух столбцов из выдачи:\n",
    "df_supplemented = pd.read_excel(DATA_PATH / f'{type_query.capitalize()}_Not_sorted+Sorted.xlsx', index_col=0)\n",
    "# возврат к выдаче без учета date; указание, что индекс в первом столбце\n",
    "\n",
    "display(\n",
    "    df_supplemented,\n",
    "    # df_supplemented['snippet.publishedAt'] == df_supplemented['snippet.publishTime'],\n",
    "    f\"Совпадений двух столбцов: {sum(df_supplemented['snippet.publishedAt'] == df_supplemented['snippet.publishTime'])}\"\n",
    "    )"
   ]
  },
  {
   "cell_type": "code",
   "execution_count": 22,
   "id": "0d0dd752",
   "metadata": {},
   "outputs": [
    {
     "data": {
      "text/plain": "'2020'"
     },
     "execution_count": 22,
     "metadata": {},
     "output_type": "execute_result"
    }
   ],
   "source": [
    "# 22 Проверка индексирования содержимого столбца snippet.publishedAt и строчки №1:\n",
    "df_supplemented['snippet.publishedAt'][1][:4]"
   ]
  },
  {
   "cell_type": "code",
   "execution_count": 23,
   "id": "1fa03349",
   "metadata": {},
   "outputs": [
    {
     "data": {
      "text/plain": "kind\nyoutube#searchResult    2018\nyoutube#searchResult    2020\nyoutube#searchResult    2018\nyoutube#searchResult    2022\nyoutube#searchResult    2021\n                        ... \nyoutube#searchResult    2023\nyoutube#searchResult    2023\nyoutube#searchResult    2023\nyoutube#searchResult    2023\nyoutube#searchResult    2023\nName: snippet.publishedAt, Length: 947, dtype: int64"
     },
     "execution_count": 23,
     "metadata": {},
     "output_type": "execute_result"
    }
   ],
   "source": [
    "# 23 Lambda-функция для перезаписи в столбец snippet.publishedAt только года:\n",
    "df_supplemented['snippet.publishedAt'] = df_supplemented['snippet.publishedAt'].apply(lambda yyyy: int(yyyy[:4]))\n",
    "df_supplemented['snippet.publishedAt']"
   ]
  },
  {
   "cell_type": "code",
   "execution_count": 32,
   "id": "94b33468",
   "metadata": {},
   "outputs": [
    {
     "name": "stdout",
     "output_type": "stream",
     "text": [
      "Минимальный год с видео 2016\n",
      "Максимальный год с видео 2023\n"
     ]
    }
   ],
   "source": [
    "# 24 Поиск самого раннего года:\n",
    "min_date = min(df_supplemented['snippet.publishedAt'])\n",
    "max_date = max(df_supplemented['snippet.publishedAt'])\n",
    "\n",
    "print(\"Минимальный год с видео\", min_date)\n",
    "print(\"Максимальный год с видео\", max_date)"
   ]
  },
  {
   "cell_type": "code",
   "execution_count": 32,
   "outputs": [],
   "source": [],
   "metadata": {
    "collapsed": false
   }
  },
  {
   "cell_type": "code",
   "execution_count": 33,
   "id": "6bb16b87",
   "metadata": {},
   "outputs": [
    {
     "name": "stdout",
     "output_type": "stream",
     "text": [
      "Итерация №0, \"date\" 2018\n",
      "Итерация №1, \"date\" 2018\n",
      "Итерация №2, \"date\" 2018\n",
      "Итерация №3, \"date\" 2018\n",
      "Итерация №4, \"date\" 2018\n",
      "Итерация №5, \"date\" 2018\n",
      "Итерация №6, \"date\" 2018\n",
      "Итерация №7, \"date\" 2018\n",
      "Итерация №8, \"date\" 2018\n",
      "Итерация №9, \"date\" 2018\n",
      "Итерация №10, \"date\" 2018\n",
      "Искомых объектов с 2018 года 1000000,       а найденных 1021\n",
      "Итерация №11, \"date\" 2019\n",
      "Итерация №12, \"date\" 2019\n",
      "Итерация №13, \"date\" 2019\n",
      "Итерация №14, \"date\" 2019\n",
      "Итерация №15, \"date\" 2019\n",
      "Итерация №16, \"date\" 2019\n",
      "Итерация №17, \"date\" 2019\n",
      "Итерация №18, \"date\" 2019\n",
      "Итерация №19, \"date\" 2019\n",
      "Итерация №20, \"date\" 2019\n",
      "Итерация №21, \"date\" 2019\n",
      "Искомых объектов с 2019 года 1000000,       а найденных 1054\n",
      "Итерация №22, \"date\" 2020\n",
      "Итерация №23, \"date\" 2020\n",
      "Итерация №24, \"date\" 2020\n",
      "Итерация №25, \"date\" 2020\n",
      "Итерация №26, \"date\" 2020\n",
      "Итерация №27, \"date\" 2020\n",
      "Итерация №28, \"date\" 2020\n",
      "Итерация №29, \"date\" 2020\n",
      "Искомых объектов с 2020 года 1000000,       а найденных 1093\n",
      "Итерация №30, \"date\" 2021\n",
      "Итерация №31, \"date\" 2021\n",
      "Итерация №32, \"date\" 2021\n",
      "Итерация №33, \"date\" 2021\n",
      "Итерация №34, \"date\" 2021\n",
      "Итерация №35, \"date\" 2021\n",
      "Итерация №36, \"date\" 2021\n",
      "Итерация №37, \"date\" 2021\n",
      "Итерация №38, \"date\" 2021\n",
      "Итерация №39, \"date\" 2021\n",
      "Итерация №40, \"date\" 2021\n",
      "Искомых объектов с 2021 года 1000000,       а найденных 1135\n",
      "Итерация №41, \"date\" 2022\n",
      "Итерация №42, \"date\" 2022\n",
      "Итерация №43, \"date\" 2022\n",
      "Итерация №44, \"date\" 2022\n",
      "Итерация №45, \"date\" 2022\n",
      "Итерация №46, \"date\" 2022\n",
      "Итерация №47, \"date\" 2022\n",
      "Итерация №48, \"date\" 2022\n",
      "Итерация №49, \"date\" 2022\n",
      "Итерация №50, \"date\" 2022\n",
      "Итерация №51, \"date\" 2022\n",
      "Искомых объектов с 2022 года 1000000,       а найденных 1196\n"
     ]
    }
   ],
   "source": [
    "#25.1 Запросы БЕЗ включения аргумента order, но с учетом даты\n",
    "\n",
    "# На всякий случай получим следующий ключ\n",
    "\n",
    "i = 0\n",
    "year = 2018\n",
    "\n",
    "while year < max_date:\n",
    "     \n",
    "    # Первый заход С включением аргумента date:\n",
    "    request = youtube.search().list(\n",
    "        part =\"snippet\",\n",
    "        maxResults=50,\n",
    "        q = query,\n",
    "        regionCode =\"RU\",\n",
    "        type = type_query,\n",
    "        publishedAfter=f'{year}-01-01T00:00:00Z'\n",
    "    )\n",
    "    response = request.execute()  \n",
    "   \n",
    "    df_additional = pd.json_normalize(response['items'])\n",
    "    df_supplemented = pd.concat([df_supplemented, df_additional])\n",
    "   \n",
    "    # Цикл для прохода по всем следующим страницам с выдачей:\n",
    "    while 'nextPageToken' in response.keys():\n",
    "        request = youtube.search().list(\n",
    "            part =\"snippet\",\n",
    "            maxResults=50,\n",
    "            q = query,\n",
    "            regionCode =\"RU\",\n",
    "            type = type_query,\n",
    "            pageToken = response['nextPageToken'],\n",
    "            publishedAfter=f'{year}-01-01T00:00:00Z'\n",
    "        )\n",
    "        response = request.execute()  \n",
    "    \n",
    "        # Визуализация процесса:\n",
    "        print(f'Итерация №{i}, \"date\" {year}')\n",
    "        i += 1\n",
    "        \n",
    "        df_additional = pd.json_normalize(response['items'])\n",
    "        df_supplemented = pd.concat([df_supplemented, df_additional])\n",
    "    \n",
    "\n",
    "    print(f\"Искомых объектов с {year} года {response['pageInfo']['totalResults']}, \\\n",
    "      а найденных {len(df_supplemented.drop_duplicates(f'id.{type_query}Id'))}\")\n",
    "\n",
    "    year += 1"
   ]
  },
  {
   "cell_type": "code",
   "execution_count": 35,
   "id": "96b00b89",
   "metadata": {},
   "outputs": [
    {
     "data": {
      "text/plain": "                             etag        id.kind   id.videoId  \\\n1     xUPXCyswbDfQ0O_cEo1y9jBHY-I  youtube#video  AOVTUmDU7Bs   \n2     ry0zlUewmQ1_rgpvH5UeqQjwyOE  youtube#video  oNJWU8cm0eU   \n3     FAWm2FVeXAKFMi8_98auJXmRjZo  youtube#video  fgeqSoLgccU   \n4     6Lv9z7Od-sjYY5pxt54NruY3weY  youtube#video  gvsV9ds9uFk   \n5     a5HhfVq4RM98pKJBdn9oqGBOICE  youtube#video  o5hc2PaPFZ8   \n...                           ...            ...          ...   \n1192  C5ZSuAtTkMrjeBvqJGVNQxk_HH8  youtube#video  Hu61nOX01-0   \n1193  v90hbzRjX48mvAZCws9D9BTuliQ  youtube#video  vQ2EZey0n_M   \n1194  Frp6d0X8Z2VsF1dZvT4WL66U8U4  youtube#video  6A5uJXxPbQs   \n1195  SvvmimKVFGdfwOpVyswXecrzVuE  youtube#video  lP4oNCbXmUg   \n1196  DzNctlEMd1Hl_rZR2l0qNbCq7U8  youtube#video  1ysfvMA0lww   \n\n       snippet.publishedAt         snippet.channelId  \\\n1                     2018  UCgln4bTPN2cXnAjXVgM-Cfw   \n2                     2020  UChhOtjq-3QyyLmP2jv9amrg   \n3                     2018  UCgln4bTPN2cXnAjXVgM-Cfw   \n4                     2022  UCJ9E_Ob8i8-2cyd67mbkRfw   \n5                     2021  UCJ9E_Ob8i8-2cyd67mbkRfw   \n...                    ...                       ...   \n1192  2022-11-12T00:54:24Z  UC4hwR9831LIKr9wKQOO_ZYA   \n1193  2023-01-31T10:56:50Z  UCQTWwkU4zxqmxv-ywGkGPSA   \n1194  2022-10-15T06:06:44Z  UCdIEHk1dbkXvWPh8LvyJQgg   \n1195  2023-02-25T20:18:44Z  UCV5d39R6e3nfAaW5aldP_ww   \n1196  2023-02-16T03:30:01Z  UCLId2yKE3iTLMFbvryVVmAg   \n\n                                          snippet.title  \\\n1     Annoying Moments While Getting Ready ENG SUB •...   \n2                                    Rhythm of K-Beauty   \n3       Short Hair VS Long Hair ENG SUB • dingo kbeauty   \n4                        Pretty duo 💓 #lipbalm #kbeauty   \n5     #kajabeauty #kbeauty #kbeautyreview #review #a...   \n...                                                 ...   \n1192  How do get IDOL’S CURTAIN BANGS? CELEBRITY #sh...   \n1193  #exosome ampoule korean skin care ~ #피부역행템 #kb...   \n1194  Makeup look for selfies #shorts #makeup #makeu...   \n1195  Types of Vitamin C Serums #jumiso #serums #kbe...   \n1196  TREND ALAT ROLL UNTUK EYE BAGS.. 😱👀 #kbeauty #...   \n\n                                    snippet.description  \\\n1     ANNOYING MOMENTS WHILE GETTING READY!! UGH!! M...   \n2     Rhythm of K-Beauty Want to learn about Korean ...   \n3     WORLD'S FIRST PROBLEM This is #1 thing I ask m...   \n4                                                   NaN   \n5                                                   NaN   \n...                                                 ...   \n1192                                                      \n1193                                                      \n1194                                                      \n1195                                                      \n1196  kbeauty #beautytips #faceroller Face Roller .....   \n\n                      snippet.thumbnails.default.url  \\\n1     https://i.ytimg.com/vi/AOVTUmDU7Bs/default.jpg   \n2     https://i.ytimg.com/vi/oNJWU8cm0eU/default.jpg   \n3     https://i.ytimg.com/vi/fgeqSoLgccU/default.jpg   \n4     https://i.ytimg.com/vi/gvsV9ds9uFk/default.jpg   \n5     https://i.ytimg.com/vi/o5hc2PaPFZ8/default.jpg   \n...                                              ...   \n1192  https://i.ytimg.com/vi/Hu61nOX01-0/default.jpg   \n1193  https://i.ytimg.com/vi/vQ2EZey0n_M/default.jpg   \n1194  https://i.ytimg.com/vi/6A5uJXxPbQs/default.jpg   \n1195  https://i.ytimg.com/vi/lP4oNCbXmUg/default.jpg   \n1196  https://i.ytimg.com/vi/1ysfvMA0lww/default.jpg   \n\n      snippet.thumbnails.default.width  snippet.thumbnails.default.height  \\\n1                                  120                                 90   \n2                                  120                                 90   \n3                                  120                                 90   \n4                                  120                                 90   \n5                                  120                                 90   \n...                                ...                                ...   \n1192                               120                                 90   \n1193                               120                                 90   \n1194                               120                                 90   \n1195                               120                                 90   \n1196                               120                                 90   \n\n                         snippet.thumbnails.medium.url  \\\n1     https://i.ytimg.com/vi/AOVTUmDU7Bs/mqdefault.jpg   \n2     https://i.ytimg.com/vi/oNJWU8cm0eU/mqdefault.jpg   \n3     https://i.ytimg.com/vi/fgeqSoLgccU/mqdefault.jpg   \n4     https://i.ytimg.com/vi/gvsV9ds9uFk/mqdefault.jpg   \n5     https://i.ytimg.com/vi/o5hc2PaPFZ8/mqdefault.jpg   \n...                                                ...   \n1192  https://i.ytimg.com/vi/Hu61nOX01-0/mqdefault.jpg   \n1193  https://i.ytimg.com/vi/vQ2EZey0n_M/mqdefault.jpg   \n1194  https://i.ytimg.com/vi/6A5uJXxPbQs/mqdefault.jpg   \n1195  https://i.ytimg.com/vi/lP4oNCbXmUg/mqdefault.jpg   \n1196  https://i.ytimg.com/vi/1ysfvMA0lww/mqdefault.jpg   \n\n      snippet.thumbnails.medium.width  snippet.thumbnails.medium.height  \\\n1                                 320                               180   \n2                                 320                               180   \n3                                 320                               180   \n4                                 320                               180   \n5                                 320                               180   \n...                               ...                               ...   \n1192                              320                               180   \n1193                              320                               180   \n1194                              320                               180   \n1195                              320                               180   \n1196                              320                               180   \n\n                           snippet.thumbnails.high.url  \\\n1     https://i.ytimg.com/vi/AOVTUmDU7Bs/hqdefault.jpg   \n2     https://i.ytimg.com/vi/oNJWU8cm0eU/hqdefault.jpg   \n3     https://i.ytimg.com/vi/fgeqSoLgccU/hqdefault.jpg   \n4     https://i.ytimg.com/vi/gvsV9ds9uFk/hqdefault.jpg   \n5     https://i.ytimg.com/vi/o5hc2PaPFZ8/hqdefault.jpg   \n...                                                ...   \n1192  https://i.ytimg.com/vi/Hu61nOX01-0/hqdefault.jpg   \n1193  https://i.ytimg.com/vi/vQ2EZey0n_M/hqdefault.jpg   \n1194  https://i.ytimg.com/vi/6A5uJXxPbQs/hqdefault.jpg   \n1195  https://i.ytimg.com/vi/lP4oNCbXmUg/hqdefault.jpg   \n1196  https://i.ytimg.com/vi/1ysfvMA0lww/hqdefault.jpg   \n\n      snippet.thumbnails.high.width  snippet.thumbnails.high.height  \\\n1                               480                             360   \n2                               480                             360   \n3                               480                             360   \n4                               480                             360   \n5                               480                             360   \n...                             ...                             ...   \n1192                            480                             360   \n1193                            480                             360   \n1194                            480                             360   \n1195                            480                             360   \n1196                            480                             360   \n\n                     snippet.channelTitle snippet.liveBroadcastContent  \\\n1                                     DGG                         none   \n2                      Imagine Your Korea                         none   \n3                                     DGG                         none   \n4                                 Kerbom3                         none   \n5                                 Kerbom3                         none   \n...                                   ...                          ...   \n1192  Kyurin Diary, Multilingual Traveler                         none   \n1193                        Joyful_yeonsu                         none   \n1194                               minana                         none   \n1195                 fightingmothernature                         none   \n1196                             babyiviy                         none   \n\n       snippet.publishTime                  kind  \n1     2018-07-12T06:00:04Z                   NaN  \n2     2020-08-25T06:38:17Z                   NaN  \n3     2018-07-10T06:00:30Z                   NaN  \n4     2022-04-15T04:52:25Z                   NaN  \n5     2021-09-24T16:54:57Z                   NaN  \n...                    ...                   ...  \n1192  2022-11-12T00:54:24Z  youtube#searchResult  \n1193  2023-01-31T10:56:50Z  youtube#searchResult  \n1194  2022-10-15T06:06:44Z  youtube#searchResult  \n1195  2023-02-25T20:18:44Z  youtube#searchResult  \n1196  2023-02-16T03:30:01Z  youtube#searchResult  \n\n[1196 rows x 20 columns]",
      "text/html": "<div>\n<style scoped>\n    .dataframe tbody tr th:only-of-type {\n        vertical-align: middle;\n    }\n\n    .dataframe tbody tr th {\n        vertical-align: top;\n    }\n\n    .dataframe thead th {\n        text-align: right;\n    }\n</style>\n<table border=\"1\" class=\"dataframe\">\n  <thead>\n    <tr style=\"text-align: right;\">\n      <th></th>\n      <th>etag</th>\n      <th>id.kind</th>\n      <th>id.videoId</th>\n      <th>snippet.publishedAt</th>\n      <th>snippet.channelId</th>\n      <th>snippet.title</th>\n      <th>snippet.description</th>\n      <th>snippet.thumbnails.default.url</th>\n      <th>snippet.thumbnails.default.width</th>\n      <th>snippet.thumbnails.default.height</th>\n      <th>snippet.thumbnails.medium.url</th>\n      <th>snippet.thumbnails.medium.width</th>\n      <th>snippet.thumbnails.medium.height</th>\n      <th>snippet.thumbnails.high.url</th>\n      <th>snippet.thumbnails.high.width</th>\n      <th>snippet.thumbnails.high.height</th>\n      <th>snippet.channelTitle</th>\n      <th>snippet.liveBroadcastContent</th>\n      <th>snippet.publishTime</th>\n      <th>kind</th>\n    </tr>\n  </thead>\n  <tbody>\n    <tr>\n      <th>1</th>\n      <td>xUPXCyswbDfQ0O_cEo1y9jBHY-I</td>\n      <td>youtube#video</td>\n      <td>AOVTUmDU7Bs</td>\n      <td>2018</td>\n      <td>UCgln4bTPN2cXnAjXVgM-Cfw</td>\n      <td>Annoying Moments While Getting Ready ENG SUB •...</td>\n      <td>ANNOYING MOMENTS WHILE GETTING READY!! UGH!! M...</td>\n      <td>https://i.ytimg.com/vi/AOVTUmDU7Bs/default.jpg</td>\n      <td>120</td>\n      <td>90</td>\n      <td>https://i.ytimg.com/vi/AOVTUmDU7Bs/mqdefault.jpg</td>\n      <td>320</td>\n      <td>180</td>\n      <td>https://i.ytimg.com/vi/AOVTUmDU7Bs/hqdefault.jpg</td>\n      <td>480</td>\n      <td>360</td>\n      <td>DGG</td>\n      <td>none</td>\n      <td>2018-07-12T06:00:04Z</td>\n      <td>NaN</td>\n    </tr>\n    <tr>\n      <th>2</th>\n      <td>ry0zlUewmQ1_rgpvH5UeqQjwyOE</td>\n      <td>youtube#video</td>\n      <td>oNJWU8cm0eU</td>\n      <td>2020</td>\n      <td>UChhOtjq-3QyyLmP2jv9amrg</td>\n      <td>Rhythm of K-Beauty</td>\n      <td>Rhythm of K-Beauty Want to learn about Korean ...</td>\n      <td>https://i.ytimg.com/vi/oNJWU8cm0eU/default.jpg</td>\n      <td>120</td>\n      <td>90</td>\n      <td>https://i.ytimg.com/vi/oNJWU8cm0eU/mqdefault.jpg</td>\n      <td>320</td>\n      <td>180</td>\n      <td>https://i.ytimg.com/vi/oNJWU8cm0eU/hqdefault.jpg</td>\n      <td>480</td>\n      <td>360</td>\n      <td>Imagine Your Korea</td>\n      <td>none</td>\n      <td>2020-08-25T06:38:17Z</td>\n      <td>NaN</td>\n    </tr>\n    <tr>\n      <th>3</th>\n      <td>FAWm2FVeXAKFMi8_98auJXmRjZo</td>\n      <td>youtube#video</td>\n      <td>fgeqSoLgccU</td>\n      <td>2018</td>\n      <td>UCgln4bTPN2cXnAjXVgM-Cfw</td>\n      <td>Short Hair VS Long Hair ENG SUB • dingo kbeauty</td>\n      <td>WORLD'S FIRST PROBLEM This is #1 thing I ask m...</td>\n      <td>https://i.ytimg.com/vi/fgeqSoLgccU/default.jpg</td>\n      <td>120</td>\n      <td>90</td>\n      <td>https://i.ytimg.com/vi/fgeqSoLgccU/mqdefault.jpg</td>\n      <td>320</td>\n      <td>180</td>\n      <td>https://i.ytimg.com/vi/fgeqSoLgccU/hqdefault.jpg</td>\n      <td>480</td>\n      <td>360</td>\n      <td>DGG</td>\n      <td>none</td>\n      <td>2018-07-10T06:00:30Z</td>\n      <td>NaN</td>\n    </tr>\n    <tr>\n      <th>4</th>\n      <td>6Lv9z7Od-sjYY5pxt54NruY3weY</td>\n      <td>youtube#video</td>\n      <td>gvsV9ds9uFk</td>\n      <td>2022</td>\n      <td>UCJ9E_Ob8i8-2cyd67mbkRfw</td>\n      <td>Pretty duo 💓 #lipbalm #kbeauty</td>\n      <td>NaN</td>\n      <td>https://i.ytimg.com/vi/gvsV9ds9uFk/default.jpg</td>\n      <td>120</td>\n      <td>90</td>\n      <td>https://i.ytimg.com/vi/gvsV9ds9uFk/mqdefault.jpg</td>\n      <td>320</td>\n      <td>180</td>\n      <td>https://i.ytimg.com/vi/gvsV9ds9uFk/hqdefault.jpg</td>\n      <td>480</td>\n      <td>360</td>\n      <td>Kerbom3</td>\n      <td>none</td>\n      <td>2022-04-15T04:52:25Z</td>\n      <td>NaN</td>\n    </tr>\n    <tr>\n      <th>5</th>\n      <td>a5HhfVq4RM98pKJBdn9oqGBOICE</td>\n      <td>youtube#video</td>\n      <td>o5hc2PaPFZ8</td>\n      <td>2021</td>\n      <td>UCJ9E_Ob8i8-2cyd67mbkRfw</td>\n      <td>#kajabeauty #kbeauty #kbeautyreview #review #a...</td>\n      <td>NaN</td>\n      <td>https://i.ytimg.com/vi/o5hc2PaPFZ8/default.jpg</td>\n      <td>120</td>\n      <td>90</td>\n      <td>https://i.ytimg.com/vi/o5hc2PaPFZ8/mqdefault.jpg</td>\n      <td>320</td>\n      <td>180</td>\n      <td>https://i.ytimg.com/vi/o5hc2PaPFZ8/hqdefault.jpg</td>\n      <td>480</td>\n      <td>360</td>\n      <td>Kerbom3</td>\n      <td>none</td>\n      <td>2021-09-24T16:54:57Z</td>\n      <td>NaN</td>\n    </tr>\n    <tr>\n      <th>...</th>\n      <td>...</td>\n      <td>...</td>\n      <td>...</td>\n      <td>...</td>\n      <td>...</td>\n      <td>...</td>\n      <td>...</td>\n      <td>...</td>\n      <td>...</td>\n      <td>...</td>\n      <td>...</td>\n      <td>...</td>\n      <td>...</td>\n      <td>...</td>\n      <td>...</td>\n      <td>...</td>\n      <td>...</td>\n      <td>...</td>\n      <td>...</td>\n      <td>...</td>\n    </tr>\n    <tr>\n      <th>1192</th>\n      <td>C5ZSuAtTkMrjeBvqJGVNQxk_HH8</td>\n      <td>youtube#video</td>\n      <td>Hu61nOX01-0</td>\n      <td>2022-11-12T00:54:24Z</td>\n      <td>UC4hwR9831LIKr9wKQOO_ZYA</td>\n      <td>How do get IDOL’S CURTAIN BANGS? CELEBRITY #sh...</td>\n      <td></td>\n      <td>https://i.ytimg.com/vi/Hu61nOX01-0/default.jpg</td>\n      <td>120</td>\n      <td>90</td>\n      <td>https://i.ytimg.com/vi/Hu61nOX01-0/mqdefault.jpg</td>\n      <td>320</td>\n      <td>180</td>\n      <td>https://i.ytimg.com/vi/Hu61nOX01-0/hqdefault.jpg</td>\n      <td>480</td>\n      <td>360</td>\n      <td>Kyurin Diary, Multilingual Traveler</td>\n      <td>none</td>\n      <td>2022-11-12T00:54:24Z</td>\n      <td>youtube#searchResult</td>\n    </tr>\n    <tr>\n      <th>1193</th>\n      <td>v90hbzRjX48mvAZCws9D9BTuliQ</td>\n      <td>youtube#video</td>\n      <td>vQ2EZey0n_M</td>\n      <td>2023-01-31T10:56:50Z</td>\n      <td>UCQTWwkU4zxqmxv-ywGkGPSA</td>\n      <td>#exosome ampoule korean skin care ~ #피부역행템 #kb...</td>\n      <td></td>\n      <td>https://i.ytimg.com/vi/vQ2EZey0n_M/default.jpg</td>\n      <td>120</td>\n      <td>90</td>\n      <td>https://i.ytimg.com/vi/vQ2EZey0n_M/mqdefault.jpg</td>\n      <td>320</td>\n      <td>180</td>\n      <td>https://i.ytimg.com/vi/vQ2EZey0n_M/hqdefault.jpg</td>\n      <td>480</td>\n      <td>360</td>\n      <td>Joyful_yeonsu</td>\n      <td>none</td>\n      <td>2023-01-31T10:56:50Z</td>\n      <td>youtube#searchResult</td>\n    </tr>\n    <tr>\n      <th>1194</th>\n      <td>Frp6d0X8Z2VsF1dZvT4WL66U8U4</td>\n      <td>youtube#video</td>\n      <td>6A5uJXxPbQs</td>\n      <td>2022-10-15T06:06:44Z</td>\n      <td>UCdIEHk1dbkXvWPh8LvyJQgg</td>\n      <td>Makeup look for selfies #shorts #makeup #makeu...</td>\n      <td></td>\n      <td>https://i.ytimg.com/vi/6A5uJXxPbQs/default.jpg</td>\n      <td>120</td>\n      <td>90</td>\n      <td>https://i.ytimg.com/vi/6A5uJXxPbQs/mqdefault.jpg</td>\n      <td>320</td>\n      <td>180</td>\n      <td>https://i.ytimg.com/vi/6A5uJXxPbQs/hqdefault.jpg</td>\n      <td>480</td>\n      <td>360</td>\n      <td>minana</td>\n      <td>none</td>\n      <td>2022-10-15T06:06:44Z</td>\n      <td>youtube#searchResult</td>\n    </tr>\n    <tr>\n      <th>1195</th>\n      <td>SvvmimKVFGdfwOpVyswXecrzVuE</td>\n      <td>youtube#video</td>\n      <td>lP4oNCbXmUg</td>\n      <td>2023-02-25T20:18:44Z</td>\n      <td>UCV5d39R6e3nfAaW5aldP_ww</td>\n      <td>Types of Vitamin C Serums #jumiso #serums #kbe...</td>\n      <td></td>\n      <td>https://i.ytimg.com/vi/lP4oNCbXmUg/default.jpg</td>\n      <td>120</td>\n      <td>90</td>\n      <td>https://i.ytimg.com/vi/lP4oNCbXmUg/mqdefault.jpg</td>\n      <td>320</td>\n      <td>180</td>\n      <td>https://i.ytimg.com/vi/lP4oNCbXmUg/hqdefault.jpg</td>\n      <td>480</td>\n      <td>360</td>\n      <td>fightingmothernature</td>\n      <td>none</td>\n      <td>2023-02-25T20:18:44Z</td>\n      <td>youtube#searchResult</td>\n    </tr>\n    <tr>\n      <th>1196</th>\n      <td>DzNctlEMd1Hl_rZR2l0qNbCq7U8</td>\n      <td>youtube#video</td>\n      <td>1ysfvMA0lww</td>\n      <td>2023-02-16T03:30:01Z</td>\n      <td>UCLId2yKE3iTLMFbvryVVmAg</td>\n      <td>TREND ALAT ROLL UNTUK EYE BAGS.. 😱👀 #kbeauty #...</td>\n      <td>kbeauty #beautytips #faceroller Face Roller .....</td>\n      <td>https://i.ytimg.com/vi/1ysfvMA0lww/default.jpg</td>\n      <td>120</td>\n      <td>90</td>\n      <td>https://i.ytimg.com/vi/1ysfvMA0lww/mqdefault.jpg</td>\n      <td>320</td>\n      <td>180</td>\n      <td>https://i.ytimg.com/vi/1ysfvMA0lww/hqdefault.jpg</td>\n      <td>480</td>\n      <td>360</td>\n      <td>babyiviy</td>\n      <td>none</td>\n      <td>2023-02-16T03:30:01Z</td>\n      <td>youtube#searchResult</td>\n    </tr>\n  </tbody>\n</table>\n<p>1196 rows × 20 columns</p>\n</div>"
     },
     "metadata": {},
     "output_type": "display_data"
    }
   ],
   "source": [
    "# 20\n",
    "# Удаление дубликатов каналов (по их ID) и запись в Excel:\n",
    "df_supplemented.index = range(1,len(df_supplemented)+1) # сквозной индекс для итоговой таблицы\n",
    "df_supplemented = df_supplemented.drop_duplicates(f'id.{type_query}Id')\n",
    "display(df_supplemented)\n"
   ]
  },
  {
   "cell_type": "code",
   "execution_count": 36,
   "outputs": [],
   "source": [
    "import os\n",
    "\n",
    "# сохранение файлов в специальной директории\n",
    "\n",
    "if not os.path.exists(DATA_PATH):\n",
    "    os.makedirs(DATA_PATH)\n",
    "\n",
    "df_supplemented.to_excel(DATA_PATH / f'{query}_{type_query.capitalize()}_Not_sorted+Sorted+Date.xlsx')"
   ],
   "metadata": {
    "collapsed": false
   }
  },
  {
   "cell_type": "code",
   "execution_count": null,
   "outputs": [],
   "source": [],
   "metadata": {
    "collapsed": false
   }
  }
 ],
 "metadata": {
  "kernelspec": {
   "display_name": "Python 3 (ipykernel)",
   "language": "python",
   "name": "python3"
  },
  "language_info": {
   "codemirror_mode": {
    "name": "ipython",
    "version": 3
   },
   "file_extension": ".py",
   "mimetype": "text/x-python",
   "name": "python",
   "nbconvert_exporter": "python",
   "pygments_lexer": "ipython3",
   "version": "3.9.7"
  }
 },
 "nbformat": 4,
 "nbformat_minor": 5
}
