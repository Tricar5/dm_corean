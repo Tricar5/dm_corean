{
 "cells": [
  {
   "cell_type": "markdown",
   "source": [
    "# Проверка видео на релевантность"
   ],
   "metadata": {
    "collapsed": false
   }
  },
  {
   "cell_type": "code",
   "execution_count": 56,
   "outputs": [],
   "source": [
    "# 0 инициализация конфига\n",
    "import pandas as pd\n",
    "# 1\n",
    "import yaml\n",
    "import os\n",
    "import pathlib\n",
    "ROOT = pathlib.Path().resolve().parent.parent\n",
    "\n",
    "with open(ROOT / \"config.yml\", \"r\") as f:\n",
    "    config = yaml.load(f, Loader=yaml.FullLoader)\n"
   ],
   "metadata": {
    "collapsed": false
   }
  },
  {
   "cell_type": "code",
   "execution_count": 57,
   "outputs": [],
   "source": [
    "# 1\n",
    "\n",
    "DATA_PATH = ROOT / config['api']['DATA_PATH']"
   ],
   "metadata": {
    "collapsed": false
   }
  },
  {
   "cell_type": "code",
   "execution_count": 67,
   "outputs": [
    {
     "data": {
      "text/plain": "            kind                         etag           id  \\\n0  youtube#video  hFWHeWO-R7oU4c2XL_XGUFSW0Ro  Wi49rKRM85U   \n1  youtube#video  dH5eRX5ktvZc5h6hZepKAsK6zSo  1ErvLvQoYxc   \n2  youtube#video  VAaYvq0w2V6n-a6E6upg2A1iJbE  aiY0ymL25Pw   \n3  youtube#video  Xu0qxfp0-q2X2DrGsPlfAAn6nqM  JA9E4TCVsDU   \n4  youtube#video  1G4hAX30sQ9cKXA2lX2UD6wUbuY  NAeXVpMTiT4   \n\n    snippet.publishedAt         snippet.channelId  \\\n0  2022-06-20T12:57:48Z  UCphnZS52v_lkv5RSl5n70tQ   \n1  2019-03-21T10:23:49Z  UC6C0oFYlpKkFGG-ykqM4fYw   \n2  2021-08-20T08:51:18Z  UCiT7bPorr4rKJU8WFBZA9Og   \n3  2015-12-06T14:30:40Z  UCNazbf-kLY6E8TO_o48ZExQ   \n4  2018-04-20T15:19:56Z  UCmXGqfEsluA1fID55bVexjw   \n\n                                       snippet.title  \\\n0  한국인들은 절대 안사는 화장품 КОСМЕТИКА КОТОРАЯ КОРЕЯНКИ ВО...   \n1  ТЫ ДОЛЖНА ЭТО ПОПРОБОВАТЬ! ЛУЧШАЯ КОРЕЙСКАЯ КО...   \n2  РЕАКЦИЯ дерматолога: 10 этапов корейского уход...   \n3  КАК Я ИСПОРТИЛА КОЖУ: КОРЕЙСКАЯ КОСМЕТИКА\\Tony...   \n4  🇰🇷 НЕВЕРОЯТНАЯ КОРЕЙСКАЯ КОСМЕТИКА! Топовые шт...   \n\n                                 snippet.description  \\\n0  ⚫подписаться: https://goo.gl/3QbeUf\\n---------...   \n1  Хорошие мои, сегодня я расскажу вам про свой к...   \n2  Мой телеграм:\\nhttps://t.me/dr_amina_pirmanova...   \n3  Привет! Корейская косметика снова набирает обо...   \n4  Магазин корейской косметики https://goo.gl/UJG...   \n\n                   snippet.thumbnails.default.url  \\\n0  https://i.ytimg.com/vi/Wi49rKRM85U/default.jpg   \n1  https://i.ytimg.com/vi/1ErvLvQoYxc/default.jpg   \n2  https://i.ytimg.com/vi/aiY0ymL25Pw/default.jpg   \n3  https://i.ytimg.com/vi/JA9E4TCVsDU/default.jpg   \n4  https://i.ytimg.com/vi/NAeXVpMTiT4/default.jpg   \n\n   snippet.thumbnails.default.width  snippet.thumbnails.default.height  ...  \\\n0                               120                                 90  ...   \n1                               120                                 90  ...   \n2                               120                                 90  ...   \n3                               120                                 90  ...   \n4                               120                                 90  ...   \n\n  statistics.viewCount  statistics.likeCount  statistics.favoriteCount  \\\n0              1038480               54006.0                         0   \n1               389038               11041.0                         0   \n2               390710               31842.0                         0   \n3               329051                2955.0                         0   \n4               296601               12749.0                         0   \n\n  statistics.commentCount                                   player.embedHtml  \\\n0                  1065.0  <iframe width=\"480\" height=\"270\" src=\"//www.yo...   \n1                   378.0  <iframe width=\"480\" height=\"270\" src=\"//www.yo...   \n2                  1777.0  <iframe width=\"480\" height=\"270\" src=\"//www.yo...   \n3                   324.0  <iframe width=\"480\" height=\"270\" src=\"//www.yo...   \n4                   687.0  <iframe width=\"480\" height=\"270\" src=\"//www.yo...   \n\n                        topicDetails.topicCategories snippet.defaultLanguage  \\\n0  ['https://en.wikipedia.org/wiki/Lifestyle_(soc...                     NaN   \n1  ['https://en.wikipedia.org/wiki/Lifestyle_(soc...                     NaN   \n2  ['https://en.wikipedia.org/wiki/Health', 'http...                     NaN   \n3  ['https://en.wikipedia.org/wiki/Lifestyle_(soc...                     NaN   \n4  ['https://en.wikipedia.org/wiki/Lifestyle_(soc...                     NaN   \n\n   liveStreamingDetails.actualStartTime  liveStreamingDetails.actualEndTime  \\\n0                                   NaN                                 NaN   \n1                                   NaN                                 NaN   \n2                                   NaN                                 NaN   \n3                                   NaN                                 NaN   \n4                                   NaN                                 NaN   \n\n  liveStreamingDetails.scheduledStartTime  \n0                                     NaN  \n1                                     NaN  \n2                                     NaN  \n3                                     NaN  \n4                                     NaN  \n\n[5 rows x 39 columns]",
      "text/html": "<div>\n<style scoped>\n    .dataframe tbody tr th:only-of-type {\n        vertical-align: middle;\n    }\n\n    .dataframe tbody tr th {\n        vertical-align: top;\n    }\n\n    .dataframe thead th {\n        text-align: right;\n    }\n</style>\n<table border=\"1\" class=\"dataframe\">\n  <thead>\n    <tr style=\"text-align: right;\">\n      <th></th>\n      <th>kind</th>\n      <th>etag</th>\n      <th>id</th>\n      <th>snippet.publishedAt</th>\n      <th>snippet.channelId</th>\n      <th>snippet.title</th>\n      <th>snippet.description</th>\n      <th>snippet.thumbnails.default.url</th>\n      <th>snippet.thumbnails.default.width</th>\n      <th>snippet.thumbnails.default.height</th>\n      <th>...</th>\n      <th>statistics.viewCount</th>\n      <th>statistics.likeCount</th>\n      <th>statistics.favoriteCount</th>\n      <th>statistics.commentCount</th>\n      <th>player.embedHtml</th>\n      <th>topicDetails.topicCategories</th>\n      <th>snippet.defaultLanguage</th>\n      <th>liveStreamingDetails.actualStartTime</th>\n      <th>liveStreamingDetails.actualEndTime</th>\n      <th>liveStreamingDetails.scheduledStartTime</th>\n    </tr>\n  </thead>\n  <tbody>\n    <tr>\n      <th>0</th>\n      <td>youtube#video</td>\n      <td>hFWHeWO-R7oU4c2XL_XGUFSW0Ro</td>\n      <td>Wi49rKRM85U</td>\n      <td>2022-06-20T12:57:48Z</td>\n      <td>UCphnZS52v_lkv5RSl5n70tQ</td>\n      <td>한국인들은 절대 안사는 화장품 КОСМЕТИКА КОТОРАЯ КОРЕЯНКИ ВО...</td>\n      <td>⚫подписаться: https://goo.gl/3QbeUf\\n---------...</td>\n      <td>https://i.ytimg.com/vi/Wi49rKRM85U/default.jpg</td>\n      <td>120</td>\n      <td>90</td>\n      <td>...</td>\n      <td>1038480</td>\n      <td>54006.0</td>\n      <td>0</td>\n      <td>1065.0</td>\n      <td>&lt;iframe width=\"480\" height=\"270\" src=\"//www.yo...</td>\n      <td>['https://en.wikipedia.org/wiki/Lifestyle_(soc...</td>\n      <td>NaN</td>\n      <td>NaN</td>\n      <td>NaN</td>\n      <td>NaN</td>\n    </tr>\n    <tr>\n      <th>1</th>\n      <td>youtube#video</td>\n      <td>dH5eRX5ktvZc5h6hZepKAsK6zSo</td>\n      <td>1ErvLvQoYxc</td>\n      <td>2019-03-21T10:23:49Z</td>\n      <td>UC6C0oFYlpKkFGG-ykqM4fYw</td>\n      <td>ТЫ ДОЛЖНА ЭТО ПОПРОБОВАТЬ! ЛУЧШАЯ КОРЕЙСКАЯ КО...</td>\n      <td>Хорошие мои, сегодня я расскажу вам про свой к...</td>\n      <td>https://i.ytimg.com/vi/1ErvLvQoYxc/default.jpg</td>\n      <td>120</td>\n      <td>90</td>\n      <td>...</td>\n      <td>389038</td>\n      <td>11041.0</td>\n      <td>0</td>\n      <td>378.0</td>\n      <td>&lt;iframe width=\"480\" height=\"270\" src=\"//www.yo...</td>\n      <td>['https://en.wikipedia.org/wiki/Lifestyle_(soc...</td>\n      <td>NaN</td>\n      <td>NaN</td>\n      <td>NaN</td>\n      <td>NaN</td>\n    </tr>\n    <tr>\n      <th>2</th>\n      <td>youtube#video</td>\n      <td>VAaYvq0w2V6n-a6E6upg2A1iJbE</td>\n      <td>aiY0ymL25Pw</td>\n      <td>2021-08-20T08:51:18Z</td>\n      <td>UCiT7bPorr4rKJU8WFBZA9Og</td>\n      <td>РЕАКЦИЯ дерматолога: 10 этапов корейского уход...</td>\n      <td>Мой телеграм:\\nhttps://t.me/dr_amina_pirmanova...</td>\n      <td>https://i.ytimg.com/vi/aiY0ymL25Pw/default.jpg</td>\n      <td>120</td>\n      <td>90</td>\n      <td>...</td>\n      <td>390710</td>\n      <td>31842.0</td>\n      <td>0</td>\n      <td>1777.0</td>\n      <td>&lt;iframe width=\"480\" height=\"270\" src=\"//www.yo...</td>\n      <td>['https://en.wikipedia.org/wiki/Health', 'http...</td>\n      <td>NaN</td>\n      <td>NaN</td>\n      <td>NaN</td>\n      <td>NaN</td>\n    </tr>\n    <tr>\n      <th>3</th>\n      <td>youtube#video</td>\n      <td>Xu0qxfp0-q2X2DrGsPlfAAn6nqM</td>\n      <td>JA9E4TCVsDU</td>\n      <td>2015-12-06T14:30:40Z</td>\n      <td>UCNazbf-kLY6E8TO_o48ZExQ</td>\n      <td>КАК Я ИСПОРТИЛА КОЖУ: КОРЕЙСКАЯ КОСМЕТИКА\\Tony...</td>\n      <td>Привет! Корейская косметика снова набирает обо...</td>\n      <td>https://i.ytimg.com/vi/JA9E4TCVsDU/default.jpg</td>\n      <td>120</td>\n      <td>90</td>\n      <td>...</td>\n      <td>329051</td>\n      <td>2955.0</td>\n      <td>0</td>\n      <td>324.0</td>\n      <td>&lt;iframe width=\"480\" height=\"270\" src=\"//www.yo...</td>\n      <td>['https://en.wikipedia.org/wiki/Lifestyle_(soc...</td>\n      <td>NaN</td>\n      <td>NaN</td>\n      <td>NaN</td>\n      <td>NaN</td>\n    </tr>\n    <tr>\n      <th>4</th>\n      <td>youtube#video</td>\n      <td>1G4hAX30sQ9cKXA2lX2UD6wUbuY</td>\n      <td>NAeXVpMTiT4</td>\n      <td>2018-04-20T15:19:56Z</td>\n      <td>UCmXGqfEsluA1fID55bVexjw</td>\n      <td>🇰🇷 НЕВЕРОЯТНАЯ КОРЕЙСКАЯ КОСМЕТИКА! Топовые шт...</td>\n      <td>Магазин корейской косметики https://goo.gl/UJG...</td>\n      <td>https://i.ytimg.com/vi/NAeXVpMTiT4/default.jpg</td>\n      <td>120</td>\n      <td>90</td>\n      <td>...</td>\n      <td>296601</td>\n      <td>12749.0</td>\n      <td>0</td>\n      <td>687.0</td>\n      <td>&lt;iframe width=\"480\" height=\"270\" src=\"//www.yo...</td>\n      <td>['https://en.wikipedia.org/wiki/Lifestyle_(soc...</td>\n      <td>NaN</td>\n      <td>NaN</td>\n      <td>NaN</td>\n      <td>NaN</td>\n    </tr>\n  </tbody>\n</table>\n<p>5 rows × 39 columns</p>\n</div>"
     },
     "execution_count": 67,
     "metadata": {},
     "output_type": "execute_result"
    }
   ],
   "source": [
    "# 2 Загрузка характеристик отобранных видео\n",
    "\n",
    "video_df = pd.read_excel(DATA_PATH / 'seminar5' / 'Video_characteristics.xlsx')\n",
    "\n",
    "video_df.head()"
   ],
   "metadata": {
    "collapsed": false
   }
  },
  {
   "cell_type": "code",
   "execution_count": 68,
   "outputs": [
    {
     "name": "stdout",
     "output_type": "stream",
     "text": [
      "<class 'pandas.core.frame.DataFrame'>\n",
      "RangeIndex: 1315 entries, 0 to 1314\n",
      "Data columns (total 39 columns):\n",
      " #   Column                                   Non-Null Count  Dtype  \n",
      "---  ------                                   --------------  -----  \n",
      " 0   kind                                     1315 non-null   object \n",
      " 1   etag                                     1315 non-null   object \n",
      " 2   id                                       1315 non-null   object \n",
      " 3   snippet.publishedAt                      1315 non-null   object \n",
      " 4   snippet.channelId                        1315 non-null   object \n",
      " 5   snippet.title                            1315 non-null   object \n",
      " 6   snippet.description                      1045 non-null   object \n",
      " 7   snippet.thumbnails.default.url           1315 non-null   object \n",
      " 8   snippet.thumbnails.default.width         1315 non-null   int64  \n",
      " 9   snippet.thumbnails.default.height        1315 non-null   int64  \n",
      " 10  snippet.thumbnails.medium.url            1315 non-null   object \n",
      " 11  snippet.thumbnails.medium.width          1315 non-null   int64  \n",
      " 12  snippet.thumbnails.medium.height         1315 non-null   int64  \n",
      " 13  snippet.thumbnails.high.url              1315 non-null   object \n",
      " 14  snippet.thumbnails.high.width            1315 non-null   int64  \n",
      " 15  snippet.thumbnails.high.height           1315 non-null   int64  \n",
      " 16  snippet.thumbnails.standard.url          1286 non-null   object \n",
      " 17  snippet.thumbnails.standard.width        1286 non-null   float64\n",
      " 18  snippet.thumbnails.standard.height       1286 non-null   float64\n",
      " 19  snippet.thumbnails.maxres.url            1135 non-null   object \n",
      " 20  snippet.thumbnails.maxres.width          1135 non-null   float64\n",
      " 21  snippet.thumbnails.maxres.height         1135 non-null   float64\n",
      " 22  snippet.channelTitle                     1315 non-null   object \n",
      " 23  snippet.tags                             835 non-null    object \n",
      " 24  snippet.categoryId                       1315 non-null   int64  \n",
      " 25  snippet.liveBroadcastContent             1315 non-null   object \n",
      " 26  snippet.localized.title                  1315 non-null   object \n",
      " 27  snippet.localized.description            1045 non-null   object \n",
      " 28  snippet.defaultAudioLanguage             690 non-null    object \n",
      " 29  statistics.viewCount                     1315 non-null   int64  \n",
      " 30  statistics.likeCount                     1284 non-null   float64\n",
      " 31  statistics.favoriteCount                 1315 non-null   int64  \n",
      " 32  statistics.commentCount                  1299 non-null   float64\n",
      " 33  player.embedHtml                         1315 non-null   object \n",
      " 34  topicDetails.topicCategories             1250 non-null   object \n",
      " 35  snippet.defaultLanguage                  227 non-null    object \n",
      " 36  liveStreamingDetails.actualStartTime     41 non-null     object \n",
      " 37  liveStreamingDetails.actualEndTime       41 non-null     object \n",
      " 38  liveStreamingDetails.scheduledStartTime  40 non-null     object \n",
      "dtypes: float64(6), int64(9), object(24)\n",
      "memory usage: 400.8+ KB\n"
     ]
    }
   ],
   "source": [
    "# 3 Информация о pd.DataFrame\n",
    "video_df.info()"
   ],
   "metadata": {
    "collapsed": false
   }
  },
  {
   "cell_type": "code",
   "execution_count": 69,
   "outputs": [
    {
     "data": {
      "text/plain": "              kind                         etag                        id  \\\n0  youtube#channel  AbINH4P8C3KuSGZNXMKcuJNQiUw  UCvGowJMOfZJ8ozZmOTg5EZQ   \n1  youtube#channel  PgUoocZZ4stQ_yK7FKJHuv4JzCY  UCSoadOaxY49VhoAvchaw5eg   \n2  youtube#channel  0ScIKieZR7jwO1NLcgyqPh97Nho  UCXNXpk6BPZO-M-fYyvfF06Q   \n3  youtube#channel  UdR-B20fBqnZ8YZ6Cg_acTOtkiM  UCIyBPZOkOrXIsRPhhdunEiQ   \n4  youtube#channel  LIec9POKYATeYNY-CyRm4rHhQCQ  UCohziQCjyBd7h1xFakUpXzQ   \n\n                                       snippet.title  \\\n0                  AVOCADOKOREAN Корейская косметика   \n1                                       Mark Kaufman   \n2                                        Bo Hyun Kim   \n3  bb-mania.kz - лучший интернет-магазин Корейско...   \n4                 LuckyCosmetics Корейская косметика   \n\n                                 snippet.description     snippet.customUrl  \\\n0  Привет! \\nРады видеть тебя на нашем канале AVO...    @avocadokorean6502   \n1                               INSTAGRAM @KAUFMANMK     @kaufmanlifestyle   \n2  Здесь я делюсь с Вами полезной информацией о к...        @bohyunkim8050   \n3  Корейская косметика от известных брендов:\\n*Mi...            @bbmaniakz   \n4  Инстаграм @luckycosmetics.ru\\n\\nВсем привет! С...  @luckycosmetics_shop   \n\n    snippet.publishedAt                     snippet.thumbnails.default.url  \\\n0  2015-11-04T16:13:22Z  https://yt3.ggpht.com/3uaGBOEEMEiKZHwA_akaHRJs...   \n1  2014-01-24T16:19:56Z  https://yt3.ggpht.com/ytc/AL5GRJVSRHeb4AIhdqya...   \n2  2016-08-08T18:44:38Z  https://yt3.ggpht.com/ytc/AL5GRJVedf_bXWhv_yh8...   \n3  2014-07-06T16:25:52Z  https://yt3.ggpht.com/ytc/AL5GRJXPTP9me76i5FJb...   \n4  2018-07-13T15:24:25Z  https://yt3.ggpht.com/ytc/AL5GRJXu8OyMkOVzMkiy...   \n\n   snippet.thumbnails.default.width  snippet.thumbnails.default.height  ...  \\\n0                                88                                 88  ...   \n1                                88                                 88  ...   \n2                                88                                 88  ...   \n3                                88                                 88  ...   \n4                                88                                 88  ...   \n\n        topicDetails.topicIds  \\\n0               ['/m/019_rr']   \n1               ['/m/019_rr']   \n2               ['/m/019_rr']   \n3  ['/m/019_rr', '/m/041xxh']   \n4  ['/m/019_rr', '/m/041xxh']   \n\n                        topicDetails.topicCategories  \\\n0  ['https://en.wikipedia.org/wiki/Lifestyle_(soc...   \n1  ['https://en.wikipedia.org/wiki/Lifestyle_(soc...   \n2  ['https://en.wikipedia.org/wiki/Lifestyle_(soc...   \n3  ['https://en.wikipedia.org/wiki/Lifestyle_(soc...   \n4  ['https://en.wikipedia.org/wiki/Lifestyle_(soc...   \n\n            brandingSettings.image.bannerExternalUrl snippet.country  \\\n0  https://yt3.googleusercontent.com/rsumaOZ4k8kS...              RU   \n1  https://lh3.googleusercontent.com/d-t_MV0NLYCH...              RU   \n2  https://yt3.googleusercontent.com/j4gHcr7pjMA9...             NaN   \n3  https://yt3.googleusercontent.com/n8KPZef6z5Cf...              KZ   \n4  https://lh3.googleusercontent.com/pWG4BBdA4jgC...              RU   \n\n   brandingSettings.channel.unsubscribedTrailer  \\\n0                                   lR_qufVQCB0   \n1                                   eCM-sNaHPAo   \n2                                   oIDxY1nZfAs   \n3                                   XhwKaBR2lXM   \n4                                   HNMJ4wpEeiU   \n\n   brandingSettings.channel.country  \\\n0                                RU   \n1                                RU   \n2                               NaN   \n3                                KZ   \n4                                RU   \n\n                   brandingSettings.channel.keywords snippet.defaultLanguage  \\\n0    \"корейская косметика\" косметика санкт-петербург                     NaN   \n1                                                NaN                     NaN   \n2  корея \"корейская культура\" \"корейская косметик...                     NaN   \n3  \"лучшие корейские интернет магазины\" \"корейска...                     NaN   \n4  \"Корейская косметика\" \"корейская косметика отз...                     NaN   \n\n   brandingSettings.channel.defaultLanguage  \\\n0                                       NaN   \n1                                       NaN   \n2                                       NaN   \n3                                       NaN   \n4                                       NaN   \n\n   brandingSettings.channel.trackingAnalyticsAccountId  \n0                                                NaN    \n1                                                NaN    \n2                                                NaN    \n3                                                NaN    \n4                                      UA-15256516-4    \n\n[5 rows x 36 columns]",
      "text/html": "<div>\n<style scoped>\n    .dataframe tbody tr th:only-of-type {\n        vertical-align: middle;\n    }\n\n    .dataframe tbody tr th {\n        vertical-align: top;\n    }\n\n    .dataframe thead th {\n        text-align: right;\n    }\n</style>\n<table border=\"1\" class=\"dataframe\">\n  <thead>\n    <tr style=\"text-align: right;\">\n      <th></th>\n      <th>kind</th>\n      <th>etag</th>\n      <th>id</th>\n      <th>snippet.title</th>\n      <th>snippet.description</th>\n      <th>snippet.customUrl</th>\n      <th>snippet.publishedAt</th>\n      <th>snippet.thumbnails.default.url</th>\n      <th>snippet.thumbnails.default.width</th>\n      <th>snippet.thumbnails.default.height</th>\n      <th>...</th>\n      <th>topicDetails.topicIds</th>\n      <th>topicDetails.topicCategories</th>\n      <th>brandingSettings.image.bannerExternalUrl</th>\n      <th>snippet.country</th>\n      <th>brandingSettings.channel.unsubscribedTrailer</th>\n      <th>brandingSettings.channel.country</th>\n      <th>brandingSettings.channel.keywords</th>\n      <th>snippet.defaultLanguage</th>\n      <th>brandingSettings.channel.defaultLanguage</th>\n      <th>brandingSettings.channel.trackingAnalyticsAccountId</th>\n    </tr>\n  </thead>\n  <tbody>\n    <tr>\n      <th>0</th>\n      <td>youtube#channel</td>\n      <td>AbINH4P8C3KuSGZNXMKcuJNQiUw</td>\n      <td>UCvGowJMOfZJ8ozZmOTg5EZQ</td>\n      <td>AVOCADOKOREAN Корейская косметика</td>\n      <td>Привет! \\nРады видеть тебя на нашем канале AVO...</td>\n      <td>@avocadokorean6502</td>\n      <td>2015-11-04T16:13:22Z</td>\n      <td>https://yt3.ggpht.com/3uaGBOEEMEiKZHwA_akaHRJs...</td>\n      <td>88</td>\n      <td>88</td>\n      <td>...</td>\n      <td>['/m/019_rr']</td>\n      <td>['https://en.wikipedia.org/wiki/Lifestyle_(soc...</td>\n      <td>https://yt3.googleusercontent.com/rsumaOZ4k8kS...</td>\n      <td>RU</td>\n      <td>lR_qufVQCB0</td>\n      <td>RU</td>\n      <td>\"корейская косметика\" косметика санкт-петербург</td>\n      <td>NaN</td>\n      <td>NaN</td>\n      <td>NaN</td>\n    </tr>\n    <tr>\n      <th>1</th>\n      <td>youtube#channel</td>\n      <td>PgUoocZZ4stQ_yK7FKJHuv4JzCY</td>\n      <td>UCSoadOaxY49VhoAvchaw5eg</td>\n      <td>Mark Kaufman</td>\n      <td>INSTAGRAM @KAUFMANMK</td>\n      <td>@kaufmanlifestyle</td>\n      <td>2014-01-24T16:19:56Z</td>\n      <td>https://yt3.ggpht.com/ytc/AL5GRJVSRHeb4AIhdqya...</td>\n      <td>88</td>\n      <td>88</td>\n      <td>...</td>\n      <td>['/m/019_rr']</td>\n      <td>['https://en.wikipedia.org/wiki/Lifestyle_(soc...</td>\n      <td>https://lh3.googleusercontent.com/d-t_MV0NLYCH...</td>\n      <td>RU</td>\n      <td>eCM-sNaHPAo</td>\n      <td>RU</td>\n      <td>NaN</td>\n      <td>NaN</td>\n      <td>NaN</td>\n      <td>NaN</td>\n    </tr>\n    <tr>\n      <th>2</th>\n      <td>youtube#channel</td>\n      <td>0ScIKieZR7jwO1NLcgyqPh97Nho</td>\n      <td>UCXNXpk6BPZO-M-fYyvfF06Q</td>\n      <td>Bo Hyun Kim</td>\n      <td>Здесь я делюсь с Вами полезной информацией о к...</td>\n      <td>@bohyunkim8050</td>\n      <td>2016-08-08T18:44:38Z</td>\n      <td>https://yt3.ggpht.com/ytc/AL5GRJVedf_bXWhv_yh8...</td>\n      <td>88</td>\n      <td>88</td>\n      <td>...</td>\n      <td>['/m/019_rr']</td>\n      <td>['https://en.wikipedia.org/wiki/Lifestyle_(soc...</td>\n      <td>https://yt3.googleusercontent.com/j4gHcr7pjMA9...</td>\n      <td>NaN</td>\n      <td>oIDxY1nZfAs</td>\n      <td>NaN</td>\n      <td>корея \"корейская культура\" \"корейская косметик...</td>\n      <td>NaN</td>\n      <td>NaN</td>\n      <td>NaN</td>\n    </tr>\n    <tr>\n      <th>3</th>\n      <td>youtube#channel</td>\n      <td>UdR-B20fBqnZ8YZ6Cg_acTOtkiM</td>\n      <td>UCIyBPZOkOrXIsRPhhdunEiQ</td>\n      <td>bb-mania.kz - лучший интернет-магазин Корейско...</td>\n      <td>Корейская косметика от известных брендов:\\n*Mi...</td>\n      <td>@bbmaniakz</td>\n      <td>2014-07-06T16:25:52Z</td>\n      <td>https://yt3.ggpht.com/ytc/AL5GRJXPTP9me76i5FJb...</td>\n      <td>88</td>\n      <td>88</td>\n      <td>...</td>\n      <td>['/m/019_rr', '/m/041xxh']</td>\n      <td>['https://en.wikipedia.org/wiki/Lifestyle_(soc...</td>\n      <td>https://yt3.googleusercontent.com/n8KPZef6z5Cf...</td>\n      <td>KZ</td>\n      <td>XhwKaBR2lXM</td>\n      <td>KZ</td>\n      <td>\"лучшие корейские интернет магазины\" \"корейска...</td>\n      <td>NaN</td>\n      <td>NaN</td>\n      <td>NaN</td>\n    </tr>\n    <tr>\n      <th>4</th>\n      <td>youtube#channel</td>\n      <td>LIec9POKYATeYNY-CyRm4rHhQCQ</td>\n      <td>UCohziQCjyBd7h1xFakUpXzQ</td>\n      <td>LuckyCosmetics Корейская косметика</td>\n      <td>Инстаграм @luckycosmetics.ru\\n\\nВсем привет! С...</td>\n      <td>@luckycosmetics_shop</td>\n      <td>2018-07-13T15:24:25Z</td>\n      <td>https://yt3.ggpht.com/ytc/AL5GRJXu8OyMkOVzMkiy...</td>\n      <td>88</td>\n      <td>88</td>\n      <td>...</td>\n      <td>['/m/019_rr', '/m/041xxh']</td>\n      <td>['https://en.wikipedia.org/wiki/Lifestyle_(soc...</td>\n      <td>https://lh3.googleusercontent.com/pWG4BBdA4jgC...</td>\n      <td>RU</td>\n      <td>HNMJ4wpEeiU</td>\n      <td>RU</td>\n      <td>\"Корейская косметика\" \"корейская косметика отз...</td>\n      <td>NaN</td>\n      <td>NaN</td>\n      <td>UA-15256516-4</td>\n    </tr>\n  </tbody>\n</table>\n<p>5 rows × 36 columns</p>\n</div>"
     },
     "execution_count": 69,
     "metadata": {},
     "output_type": "execute_result"
    }
   ],
   "source": [
    "# 4 Загрузка сортировочного датафрейма\n",
    "channel_df = pd.read_excel(DATA_PATH / 'channels'/ 'channels_union_base.xlsx')\n",
    "\n",
    "channel_df.head()"
   ],
   "metadata": {
    "collapsed": false
   }
  },
  {
   "cell_type": "markdown",
   "source": [
    "## Метод 1. Фильтрация посредством каналов"
   ],
   "metadata": {
    "collapsed": false
   }
  },
  {
   "cell_type": "code",
   "execution_count": 70,
   "outputs": [],
   "source": [
    "# 5 Создание сета каналов, которые будут использоваться при извлечении релевантных видео\n",
    "channel_subset = list(channel_df['id'].values)"
   ],
   "metadata": {
    "collapsed": false
   }
  },
  {
   "cell_type": "code",
   "execution_count": 71,
   "outputs": [
    {
     "name": "stdout",
     "output_type": "stream",
     "text": [
      "Размер полного массива поиска видео по тегам: 1315\n",
      " Размер массива  видео после фильтра по каналам: 237\n"
     ]
    }
   ],
   "source": [
    "# 6 Фильтрация\n",
    "\n",
    "video_filtered_df = video_df.query('`snippet.channelId` in @channel_subset').copy(deep=True)\n",
    "\n",
    "print(\n",
    "    f\"Размер полного массива поиска видео по тегам: {len(video_df)}\\n\",\n",
    "    f\"Размер массива  видео после фильтра по каналам: {len(video_filtered_df)}\"\n",
    ")"
   ],
   "metadata": {
    "collapsed": false
   }
  },
  {
   "cell_type": "code",
   "execution_count": 72,
   "outputs": [],
   "source": [
    "video_filtered_df.to_excel(DATA_PATH / 'seminar6'/ 'Video_filtered_channels.xlsx', index=False)"
   ],
   "metadata": {
    "collapsed": false
   }
  },
  {
   "cell_type": "markdown",
   "source": [
    "# Метод 2. Умная фильтрация\n",
    "\n",
    "В рамках нашего проекта мы ориентируемся на видео, которые размещены на больших бьюти-блогах, потому что на таких каналах выше вероятность встретить сравнительные обзоры европейской и корейской косметик.\n",
    "\n",
    "Однако видео обзоры той или иной косметики также нам могут быть полезны, поскольку расширят нашу выборку каналов для выгрузки.\n",
    "\n",
    "Поэтому мы предлагаем следующий фильтр по релевантности:\n",
    "\n",
    "1)\n"
   ],
   "metadata": {
    "collapsed": false
   }
  },
  {
   "cell_type": "code",
   "execution_count": 74,
   "outputs": [
    {
     "name": "stdout",
     "output_type": "stream",
     "text": [
      "<class 'pandas.core.frame.DataFrame'>\n",
      "RangeIndex: 1315 entries, 0 to 1314\n",
      "Data columns (total 39 columns):\n",
      " #   Column                                   Non-Null Count  Dtype  \n",
      "---  ------                                   --------------  -----  \n",
      " 0   kind                                     1315 non-null   object \n",
      " 1   etag                                     1315 non-null   object \n",
      " 2   id                                       1315 non-null   object \n",
      " 3   snippet.publishedAt                      1315 non-null   object \n",
      " 4   snippet.channelId                        1315 non-null   object \n",
      " 5   snippet.title                            1315 non-null   object \n",
      " 6   snippet.description                      1045 non-null   object \n",
      " 7   snippet.thumbnails.default.url           1315 non-null   object \n",
      " 8   snippet.thumbnails.default.width         1315 non-null   int64  \n",
      " 9   snippet.thumbnails.default.height        1315 non-null   int64  \n",
      " 10  snippet.thumbnails.medium.url            1315 non-null   object \n",
      " 11  snippet.thumbnails.medium.width          1315 non-null   int64  \n",
      " 12  snippet.thumbnails.medium.height         1315 non-null   int64  \n",
      " 13  snippet.thumbnails.high.url              1315 non-null   object \n",
      " 14  snippet.thumbnails.high.width            1315 non-null   int64  \n",
      " 15  snippet.thumbnails.high.height           1315 non-null   int64  \n",
      " 16  snippet.thumbnails.standard.url          1286 non-null   object \n",
      " 17  snippet.thumbnails.standard.width        1286 non-null   float64\n",
      " 18  snippet.thumbnails.standard.height       1286 non-null   float64\n",
      " 19  snippet.thumbnails.maxres.url            1135 non-null   object \n",
      " 20  snippet.thumbnails.maxres.width          1135 non-null   float64\n",
      " 21  snippet.thumbnails.maxres.height         1135 non-null   float64\n",
      " 22  snippet.channelTitle                     1315 non-null   object \n",
      " 23  snippet.tags                             835 non-null    object \n",
      " 24  snippet.categoryId                       1315 non-null   int64  \n",
      " 25  snippet.liveBroadcastContent             1315 non-null   object \n",
      " 26  snippet.localized.title                  1315 non-null   object \n",
      " 27  snippet.localized.description            1045 non-null   object \n",
      " 28  snippet.defaultAudioLanguage             690 non-null    object \n",
      " 29  statistics.viewCount                     1315 non-null   int64  \n",
      " 30  statistics.likeCount                     1284 non-null   float64\n",
      " 31  statistics.favoriteCount                 1315 non-null   int64  \n",
      " 32  statistics.commentCount                  1299 non-null   float64\n",
      " 33  player.embedHtml                         1315 non-null   object \n",
      " 34  topicDetails.topicCategories             1250 non-null   object \n",
      " 35  snippet.defaultLanguage                  227 non-null    object \n",
      " 36  liveStreamingDetails.actualStartTime     41 non-null     object \n",
      " 37  liveStreamingDetails.actualEndTime       41 non-null     object \n",
      " 38  liveStreamingDetails.scheduledStartTime  40 non-null     object \n",
      "dtypes: float64(6), int64(9), object(24)\n",
      "memory usage: 400.8+ KB\n"
     ]
    }
   ],
   "source": [
    "video_df.info()"
   ],
   "metadata": {
    "collapsed": false
   }
  },
  {
   "cell_type": "code",
   "execution_count": 75,
   "outputs": [
    {
     "data": {
      "text/plain": "count     1299.000000\nmean        68.354119\nstd        431.534288\nmin          0.000000\n25%          0.000000\n50%          4.000000\n75%         36.500000\nmax      13022.000000\nName: statistics.commentCount, dtype: float64"
     },
     "execution_count": 75,
     "metadata": {},
     "output_type": "execute_result"
    }
   ],
   "source": [
    "video_df['statistics.commentCount'].describe()"
   ],
   "metadata": {
    "collapsed": false
   }
  },
  {
   "cell_type": "code",
   "execution_count": 79,
   "outputs": [
    {
     "data": {
      "text/plain": "4.0"
     },
     "execution_count": 79,
     "metadata": {},
     "output_type": "execute_result"
    }
   ],
   "source": [
    "import numpy as np\n",
    "\n",
    "median_c = np.nanmedian(video_df['statistics.commentCount'])\n",
    "median_c"
   ],
   "metadata": {
    "collapsed": false
   }
  },
  {
   "cell_type": "code",
   "execution_count": 82,
   "outputs": [],
   "source": [
    "filtered_by_comments = video_df[video_df['statistics.commentCount'] >= median_c]"
   ],
   "metadata": {
    "collapsed": false
   }
  },
  {
   "cell_type": "code",
   "execution_count": 83,
   "outputs": [
    {
     "data": {
      "text/plain": "            kind                         etag           id  \\\n0  youtube#video  hFWHeWO-R7oU4c2XL_XGUFSW0Ro  Wi49rKRM85U   \n1  youtube#video  dH5eRX5ktvZc5h6hZepKAsK6zSo  1ErvLvQoYxc   \n2  youtube#video  VAaYvq0w2V6n-a6E6upg2A1iJbE  aiY0ymL25Pw   \n3  youtube#video  Xu0qxfp0-q2X2DrGsPlfAAn6nqM  JA9E4TCVsDU   \n4  youtube#video  1G4hAX30sQ9cKXA2lX2UD6wUbuY  NAeXVpMTiT4   \n\n    snippet.publishedAt         snippet.channelId  \\\n0  2022-06-20T12:57:48Z  UCphnZS52v_lkv5RSl5n70tQ   \n1  2019-03-21T10:23:49Z  UC6C0oFYlpKkFGG-ykqM4fYw   \n2  2021-08-20T08:51:18Z  UCiT7bPorr4rKJU8WFBZA9Og   \n3  2015-12-06T14:30:40Z  UCNazbf-kLY6E8TO_o48ZExQ   \n4  2018-04-20T15:19:56Z  UCmXGqfEsluA1fID55bVexjw   \n\n                                       snippet.title  \\\n0  한국인들은 절대 안사는 화장품 КОСМЕТИКА КОТОРАЯ КОРЕЯНКИ ВО...   \n1  ТЫ ДОЛЖНА ЭТО ПОПРОБОВАТЬ! ЛУЧШАЯ КОРЕЙСКАЯ КО...   \n2  РЕАКЦИЯ дерматолога: 10 этапов корейского уход...   \n3  КАК Я ИСПОРТИЛА КОЖУ: КОРЕЙСКАЯ КОСМЕТИКА\\Tony...   \n4  🇰🇷 НЕВЕРОЯТНАЯ КОРЕЙСКАЯ КОСМЕТИКА! Топовые шт...   \n\n                                 snippet.description  \\\n0  ⚫подписаться: https://goo.gl/3QbeUf\\n---------...   \n1  Хорошие мои, сегодня я расскажу вам про свой к...   \n2  Мой телеграм:\\nhttps://t.me/dr_amina_pirmanova...   \n3  Привет! Корейская косметика снова набирает обо...   \n4  Магазин корейской косметики https://goo.gl/UJG...   \n\n                   snippet.thumbnails.default.url  \\\n0  https://i.ytimg.com/vi/Wi49rKRM85U/default.jpg   \n1  https://i.ytimg.com/vi/1ErvLvQoYxc/default.jpg   \n2  https://i.ytimg.com/vi/aiY0ymL25Pw/default.jpg   \n3  https://i.ytimg.com/vi/JA9E4TCVsDU/default.jpg   \n4  https://i.ytimg.com/vi/NAeXVpMTiT4/default.jpg   \n\n   snippet.thumbnails.default.width  snippet.thumbnails.default.height  ...  \\\n0                               120                                 90  ...   \n1                               120                                 90  ...   \n2                               120                                 90  ...   \n3                               120                                 90  ...   \n4                               120                                 90  ...   \n\n  statistics.viewCount  statistics.likeCount  statistics.favoriteCount  \\\n0              1038480               54006.0                         0   \n1               389038               11041.0                         0   \n2               390710               31842.0                         0   \n3               329051                2955.0                         0   \n4               296601               12749.0                         0   \n\n  statistics.commentCount                                   player.embedHtml  \\\n0                  1065.0  <iframe width=\"480\" height=\"270\" src=\"//www.yo...   \n1                   378.0  <iframe width=\"480\" height=\"270\" src=\"//www.yo...   \n2                  1777.0  <iframe width=\"480\" height=\"270\" src=\"//www.yo...   \n3                   324.0  <iframe width=\"480\" height=\"270\" src=\"//www.yo...   \n4                   687.0  <iframe width=\"480\" height=\"270\" src=\"//www.yo...   \n\n                        topicDetails.topicCategories snippet.defaultLanguage  \\\n0  ['https://en.wikipedia.org/wiki/Lifestyle_(soc...                     NaN   \n1  ['https://en.wikipedia.org/wiki/Lifestyle_(soc...                     NaN   \n2  ['https://en.wikipedia.org/wiki/Health', 'http...                     NaN   \n3  ['https://en.wikipedia.org/wiki/Lifestyle_(soc...                     NaN   \n4  ['https://en.wikipedia.org/wiki/Lifestyle_(soc...                     NaN   \n\n   liveStreamingDetails.actualStartTime  liveStreamingDetails.actualEndTime  \\\n0                                   NaN                                 NaN   \n1                                   NaN                                 NaN   \n2                                   NaN                                 NaN   \n3                                   NaN                                 NaN   \n4                                   NaN                                 NaN   \n\n  liveStreamingDetails.scheduledStartTime  \n0                                     NaN  \n1                                     NaN  \n2                                     NaN  \n3                                     NaN  \n4                                     NaN  \n\n[5 rows x 39 columns]",
      "text/html": "<div>\n<style scoped>\n    .dataframe tbody tr th:only-of-type {\n        vertical-align: middle;\n    }\n\n    .dataframe tbody tr th {\n        vertical-align: top;\n    }\n\n    .dataframe thead th {\n        text-align: right;\n    }\n</style>\n<table border=\"1\" class=\"dataframe\">\n  <thead>\n    <tr style=\"text-align: right;\">\n      <th></th>\n      <th>kind</th>\n      <th>etag</th>\n      <th>id</th>\n      <th>snippet.publishedAt</th>\n      <th>snippet.channelId</th>\n      <th>snippet.title</th>\n      <th>snippet.description</th>\n      <th>snippet.thumbnails.default.url</th>\n      <th>snippet.thumbnails.default.width</th>\n      <th>snippet.thumbnails.default.height</th>\n      <th>...</th>\n      <th>statistics.viewCount</th>\n      <th>statistics.likeCount</th>\n      <th>statistics.favoriteCount</th>\n      <th>statistics.commentCount</th>\n      <th>player.embedHtml</th>\n      <th>topicDetails.topicCategories</th>\n      <th>snippet.defaultLanguage</th>\n      <th>liveStreamingDetails.actualStartTime</th>\n      <th>liveStreamingDetails.actualEndTime</th>\n      <th>liveStreamingDetails.scheduledStartTime</th>\n    </tr>\n  </thead>\n  <tbody>\n    <tr>\n      <th>0</th>\n      <td>youtube#video</td>\n      <td>hFWHeWO-R7oU4c2XL_XGUFSW0Ro</td>\n      <td>Wi49rKRM85U</td>\n      <td>2022-06-20T12:57:48Z</td>\n      <td>UCphnZS52v_lkv5RSl5n70tQ</td>\n      <td>한국인들은 절대 안사는 화장품 КОСМЕТИКА КОТОРАЯ КОРЕЯНКИ ВО...</td>\n      <td>⚫подписаться: https://goo.gl/3QbeUf\\n---------...</td>\n      <td>https://i.ytimg.com/vi/Wi49rKRM85U/default.jpg</td>\n      <td>120</td>\n      <td>90</td>\n      <td>...</td>\n      <td>1038480</td>\n      <td>54006.0</td>\n      <td>0</td>\n      <td>1065.0</td>\n      <td>&lt;iframe width=\"480\" height=\"270\" src=\"//www.yo...</td>\n      <td>['https://en.wikipedia.org/wiki/Lifestyle_(soc...</td>\n      <td>NaN</td>\n      <td>NaN</td>\n      <td>NaN</td>\n      <td>NaN</td>\n    </tr>\n    <tr>\n      <th>1</th>\n      <td>youtube#video</td>\n      <td>dH5eRX5ktvZc5h6hZepKAsK6zSo</td>\n      <td>1ErvLvQoYxc</td>\n      <td>2019-03-21T10:23:49Z</td>\n      <td>UC6C0oFYlpKkFGG-ykqM4fYw</td>\n      <td>ТЫ ДОЛЖНА ЭТО ПОПРОБОВАТЬ! ЛУЧШАЯ КОРЕЙСКАЯ КО...</td>\n      <td>Хорошие мои, сегодня я расскажу вам про свой к...</td>\n      <td>https://i.ytimg.com/vi/1ErvLvQoYxc/default.jpg</td>\n      <td>120</td>\n      <td>90</td>\n      <td>...</td>\n      <td>389038</td>\n      <td>11041.0</td>\n      <td>0</td>\n      <td>378.0</td>\n      <td>&lt;iframe width=\"480\" height=\"270\" src=\"//www.yo...</td>\n      <td>['https://en.wikipedia.org/wiki/Lifestyle_(soc...</td>\n      <td>NaN</td>\n      <td>NaN</td>\n      <td>NaN</td>\n      <td>NaN</td>\n    </tr>\n    <tr>\n      <th>2</th>\n      <td>youtube#video</td>\n      <td>VAaYvq0w2V6n-a6E6upg2A1iJbE</td>\n      <td>aiY0ymL25Pw</td>\n      <td>2021-08-20T08:51:18Z</td>\n      <td>UCiT7bPorr4rKJU8WFBZA9Og</td>\n      <td>РЕАКЦИЯ дерматолога: 10 этапов корейского уход...</td>\n      <td>Мой телеграм:\\nhttps://t.me/dr_amina_pirmanova...</td>\n      <td>https://i.ytimg.com/vi/aiY0ymL25Pw/default.jpg</td>\n      <td>120</td>\n      <td>90</td>\n      <td>...</td>\n      <td>390710</td>\n      <td>31842.0</td>\n      <td>0</td>\n      <td>1777.0</td>\n      <td>&lt;iframe width=\"480\" height=\"270\" src=\"//www.yo...</td>\n      <td>['https://en.wikipedia.org/wiki/Health', 'http...</td>\n      <td>NaN</td>\n      <td>NaN</td>\n      <td>NaN</td>\n      <td>NaN</td>\n    </tr>\n    <tr>\n      <th>3</th>\n      <td>youtube#video</td>\n      <td>Xu0qxfp0-q2X2DrGsPlfAAn6nqM</td>\n      <td>JA9E4TCVsDU</td>\n      <td>2015-12-06T14:30:40Z</td>\n      <td>UCNazbf-kLY6E8TO_o48ZExQ</td>\n      <td>КАК Я ИСПОРТИЛА КОЖУ: КОРЕЙСКАЯ КОСМЕТИКА\\Tony...</td>\n      <td>Привет! Корейская косметика снова набирает обо...</td>\n      <td>https://i.ytimg.com/vi/JA9E4TCVsDU/default.jpg</td>\n      <td>120</td>\n      <td>90</td>\n      <td>...</td>\n      <td>329051</td>\n      <td>2955.0</td>\n      <td>0</td>\n      <td>324.0</td>\n      <td>&lt;iframe width=\"480\" height=\"270\" src=\"//www.yo...</td>\n      <td>['https://en.wikipedia.org/wiki/Lifestyle_(soc...</td>\n      <td>NaN</td>\n      <td>NaN</td>\n      <td>NaN</td>\n      <td>NaN</td>\n    </tr>\n    <tr>\n      <th>4</th>\n      <td>youtube#video</td>\n      <td>1G4hAX30sQ9cKXA2lX2UD6wUbuY</td>\n      <td>NAeXVpMTiT4</td>\n      <td>2018-04-20T15:19:56Z</td>\n      <td>UCmXGqfEsluA1fID55bVexjw</td>\n      <td>🇰🇷 НЕВЕРОЯТНАЯ КОРЕЙСКАЯ КОСМЕТИКА! Топовые шт...</td>\n      <td>Магазин корейской косметики https://goo.gl/UJG...</td>\n      <td>https://i.ytimg.com/vi/NAeXVpMTiT4/default.jpg</td>\n      <td>120</td>\n      <td>90</td>\n      <td>...</td>\n      <td>296601</td>\n      <td>12749.0</td>\n      <td>0</td>\n      <td>687.0</td>\n      <td>&lt;iframe width=\"480\" height=\"270\" src=\"//www.yo...</td>\n      <td>['https://en.wikipedia.org/wiki/Lifestyle_(soc...</td>\n      <td>NaN</td>\n      <td>NaN</td>\n      <td>NaN</td>\n      <td>NaN</td>\n    </tr>\n  </tbody>\n</table>\n<p>5 rows × 39 columns</p>\n</div>"
     },
     "execution_count": 83,
     "metadata": {},
     "output_type": "execute_result"
    }
   ],
   "source": [
    "filtered_by_comments.head()"
   ],
   "metadata": {
    "collapsed": false
   }
  },
  {
   "cell_type": "code",
   "execution_count": null,
   "outputs": [],
   "source": [],
   "metadata": {
    "collapsed": false
   }
  }
 ],
 "metadata": {
  "kernelspec": {
   "display_name": "Python 3",
   "language": "python",
   "name": "python3"
  },
  "language_info": {
   "codemirror_mode": {
    "name": "ipython",
    "version": 2
   },
   "file_extension": ".py",
   "mimetype": "text/x-python",
   "name": "python",
   "nbconvert_exporter": "python",
   "pygments_lexer": "ipython2",
   "version": "2.7.6"
  }
 },
 "nbformat": 4,
 "nbformat_minor": 0
}
