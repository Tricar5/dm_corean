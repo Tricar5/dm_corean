{
 "cells": [
  {
   "cell_type": "code",
   "execution_count": 1,
   "outputs": [],
   "source": [
    "import pandas as pd\n",
    "# 1\n",
    "import yaml\n",
    "import pathlib\n",
    "ROOT = pathlib.Path().resolve().parent.parent\n",
    "\n",
    "with open(ROOT / \"config.yml\", \"r\") as f:\n",
    "    config = yaml.load(f, Loader=yaml.FullLoader)\n",
    "\n",
    "DATA_PATH = ROOT / config['api']['DATA_PATH']"
   ],
   "metadata": {
    "collapsed": false,
    "ExecuteTime": {
     "start_time": "2023-04-08T12:41:40.935804Z",
     "end_time": "2023-04-08T12:41:41.185929Z"
    }
   }
  },
  {
   "cell_type": "code",
   "execution_count": 3,
   "outputs": [
    {
     "data": {
      "text/plain": "            kind                         etag           id  \\\n0  youtube#video  JlUeGRM73VkN0w8nCEaEyWoBan4  AAjsSrjZXsw   \n1  youtube#video  7WDv-DyXw9u2r1vYjW2NooOtj7s  yk4Wjr3j7QY   \n2  youtube#video  fDjV0KNgOssPF9NpbdoSpb40mR0  Wi49rKRM85U   \n3  youtube#video  UpqzTW3rCzeEURxHPRyg8n66jgM  kSiaxefvCgM   \n4  youtube#video  qVkdqXUraasWK3i8x412EgtkBc0  4nqfUzIz7kQ   \n\n    snippet.publishedAt         snippet.channelId  \\\n0  2021-03-10T13:46:47Z  UCh29SdTOPdjBb-n3Vop1lYg   \n1  2023-02-05T04:32:39Z  UCfcMgRNXey6TQkov9mgVgoA   \n2  2022-06-20T12:57:48Z  UCphnZS52v_lkv5RSl5n70tQ   \n3  2023-02-11T12:43:25Z  UCfcMgRNXey6TQkov9mgVgoA   \n4  2021-11-12T14:59:32Z  UCphnZS52v_lkv5RSl5n70tQ   \n\n                                       snippet.title  \\\n0  Расследование | Паленая косметика на Ozon и Wi...   \n1  Пляжная мода в Корее #этокореядетка #корейская...   \n2  한국인들은 절대 안사는 화장품 КОСМЕТИКА КОТОРАЯ КОРЕЯНКИ ВО...   \n3  Жилищный вопрос: Корея #дорамы #корейскийязык ...   \n4  Кореянка в Золотом Яблоке. Почему русские поку...   \n\n                                 snippet.description  \\\n0  На российских маркетплейсах продается огромное...   \n1                                                NaN   \n2  ⚫подписаться: https://goo.gl/3QbeUf\\n---------...   \n3                                                NaN   \n4  #кореянка#золотоеяблоко#корейскаякосметика\\nпр...   \n\n                   snippet.thumbnails.default.url  \\\n0  https://i.ytimg.com/vi/AAjsSrjZXsw/default.jpg   \n1  https://i.ytimg.com/vi/yk4Wjr3j7QY/default.jpg   \n2  https://i.ytimg.com/vi/Wi49rKRM85U/default.jpg   \n3  https://i.ytimg.com/vi/kSiaxefvCgM/default.jpg   \n4  https://i.ytimg.com/vi/4nqfUzIz7kQ/default.jpg   \n\n   snippet.thumbnails.default.width  snippet.thumbnails.default.height  ...  \\\n0                               120                                 90  ...   \n1                               120                                 90  ...   \n2                               120                                 90  ...   \n3                               120                                 90  ...   \n4                               120                                 90  ...   \n\n  statistics.commentCount                                   player.embedHtml  \\\n0                  5690.0  <iframe width=\"480\" height=\"270\" src=\"//www.yo...   \n1                   774.0  <iframe width=\"480\" height=\"270\" src=\"//www.yo...   \n2                  1138.0  <iframe width=\"480\" height=\"270\" src=\"//www.yo...   \n3                   701.0  <iframe width=\"480\" height=\"270\" src=\"//www.yo...   \n4                   766.0  <iframe width=\"480\" height=\"270\" src=\"//www.yo...   \n\n                        topicDetails.topicCategories  \\\n0  ['https://en.wikipedia.org/wiki/Lifestyle_(soc...   \n1  ['https://en.wikipedia.org/wiki/Lifestyle_(soc...   \n2  ['https://en.wikipedia.org/wiki/Lifestyle_(soc...   \n3  ['https://en.wikipedia.org/wiki/Lifestyle_(soc...   \n4  ['https://en.wikipedia.org/wiki/Lifestyle_(soc...   \n\n                                        snippet.tags  \\\n0                                                NaN   \n1                                                NaN   \n2  ['КОРЕЯНКА', 'АЗИАТКА', '#КОРЕЙСКАЯДЕВУШКА', '...   \n3                                                NaN   \n4  ['КОРЕЯНКА', 'АЗИАТКА', '#КОРЕЙСКАЯДЕВУШКА', '...   \n\n   liveStreamingDetails.actualStartTime  liveStreamingDetails.actualEndTime  \\\n0                                   NaN                                 NaN   \n1                                   NaN                                 NaN   \n2                                   NaN                                 NaN   \n3                                   NaN                                 NaN   \n4                                   NaN                                 NaN   \n\n  liveStreamingDetails.scheduledStartTime  \\\n0                                     NaN   \n1                                     NaN   \n2                                     NaN   \n3                                     NaN   \n4                                     NaN   \n\n   liveStreamingDetails.activeLiveChatId  \\\n0                                    NaN   \n1                                    NaN   \n2                                    NaN   \n3                                    NaN   \n4                                    NaN   \n\n   contentDetails.contentRating.ytRating statistics.dislikesCount  \n0                                    NaN                      756  \n1                                    NaN                     5790  \n2                                    NaN                      569  \n3                                    NaN                     2881  \n4                                    NaN                      154  \n\n[5 rows x 48 columns]",
      "text/html": "<div>\n<style scoped>\n    .dataframe tbody tr th:only-of-type {\n        vertical-align: middle;\n    }\n\n    .dataframe tbody tr th {\n        vertical-align: top;\n    }\n\n    .dataframe thead th {\n        text-align: right;\n    }\n</style>\n<table border=\"1\" class=\"dataframe\">\n  <thead>\n    <tr style=\"text-align: right;\">\n      <th></th>\n      <th>kind</th>\n      <th>etag</th>\n      <th>id</th>\n      <th>snippet.publishedAt</th>\n      <th>snippet.channelId</th>\n      <th>snippet.title</th>\n      <th>snippet.description</th>\n      <th>snippet.thumbnails.default.url</th>\n      <th>snippet.thumbnails.default.width</th>\n      <th>snippet.thumbnails.default.height</th>\n      <th>...</th>\n      <th>statistics.commentCount</th>\n      <th>player.embedHtml</th>\n      <th>topicDetails.topicCategories</th>\n      <th>snippet.tags</th>\n      <th>liveStreamingDetails.actualStartTime</th>\n      <th>liveStreamingDetails.actualEndTime</th>\n      <th>liveStreamingDetails.scheduledStartTime</th>\n      <th>liveStreamingDetails.activeLiveChatId</th>\n      <th>contentDetails.contentRating.ytRating</th>\n      <th>statistics.dislikesCount</th>\n    </tr>\n  </thead>\n  <tbody>\n    <tr>\n      <th>0</th>\n      <td>youtube#video</td>\n      <td>JlUeGRM73VkN0w8nCEaEyWoBan4</td>\n      <td>AAjsSrjZXsw</td>\n      <td>2021-03-10T13:46:47Z</td>\n      <td>UCh29SdTOPdjBb-n3Vop1lYg</td>\n      <td>Расследование | Паленая косметика на Ozon и Wi...</td>\n      <td>На российских маркетплейсах продается огромное...</td>\n      <td>https://i.ytimg.com/vi/AAjsSrjZXsw/default.jpg</td>\n      <td>120</td>\n      <td>90</td>\n      <td>...</td>\n      <td>5690.0</td>\n      <td>&lt;iframe width=\"480\" height=\"270\" src=\"//www.yo...</td>\n      <td>['https://en.wikipedia.org/wiki/Lifestyle_(soc...</td>\n      <td>NaN</td>\n      <td>NaN</td>\n      <td>NaN</td>\n      <td>NaN</td>\n      <td>NaN</td>\n      <td>NaN</td>\n      <td>756</td>\n    </tr>\n    <tr>\n      <th>1</th>\n      <td>youtube#video</td>\n      <td>7WDv-DyXw9u2r1vYjW2NooOtj7s</td>\n      <td>yk4Wjr3j7QY</td>\n      <td>2023-02-05T04:32:39Z</td>\n      <td>UCfcMgRNXey6TQkov9mgVgoA</td>\n      <td>Пляжная мода в Корее #этокореядетка #корейская...</td>\n      <td>NaN</td>\n      <td>https://i.ytimg.com/vi/yk4Wjr3j7QY/default.jpg</td>\n      <td>120</td>\n      <td>90</td>\n      <td>...</td>\n      <td>774.0</td>\n      <td>&lt;iframe width=\"480\" height=\"270\" src=\"//www.yo...</td>\n      <td>['https://en.wikipedia.org/wiki/Lifestyle_(soc...</td>\n      <td>NaN</td>\n      <td>NaN</td>\n      <td>NaN</td>\n      <td>NaN</td>\n      <td>NaN</td>\n      <td>NaN</td>\n      <td>5790</td>\n    </tr>\n    <tr>\n      <th>2</th>\n      <td>youtube#video</td>\n      <td>fDjV0KNgOssPF9NpbdoSpb40mR0</td>\n      <td>Wi49rKRM85U</td>\n      <td>2022-06-20T12:57:48Z</td>\n      <td>UCphnZS52v_lkv5RSl5n70tQ</td>\n      <td>한국인들은 절대 안사는 화장품 КОСМЕТИКА КОТОРАЯ КОРЕЯНКИ ВО...</td>\n      <td>⚫подписаться: https://goo.gl/3QbeUf\\n---------...</td>\n      <td>https://i.ytimg.com/vi/Wi49rKRM85U/default.jpg</td>\n      <td>120</td>\n      <td>90</td>\n      <td>...</td>\n      <td>1138.0</td>\n      <td>&lt;iframe width=\"480\" height=\"270\" src=\"//www.yo...</td>\n      <td>['https://en.wikipedia.org/wiki/Lifestyle_(soc...</td>\n      <td>['КОРЕЯНКА', 'АЗИАТКА', '#КОРЕЙСКАЯДЕВУШКА', '...</td>\n      <td>NaN</td>\n      <td>NaN</td>\n      <td>NaN</td>\n      <td>NaN</td>\n      <td>NaN</td>\n      <td>569</td>\n    </tr>\n    <tr>\n      <th>3</th>\n      <td>youtube#video</td>\n      <td>UpqzTW3rCzeEURxHPRyg8n66jgM</td>\n      <td>kSiaxefvCgM</td>\n      <td>2023-02-11T12:43:25Z</td>\n      <td>UCfcMgRNXey6TQkov9mgVgoA</td>\n      <td>Жилищный вопрос: Корея #дорамы #корейскийязык ...</td>\n      <td>NaN</td>\n      <td>https://i.ytimg.com/vi/kSiaxefvCgM/default.jpg</td>\n      <td>120</td>\n      <td>90</td>\n      <td>...</td>\n      <td>701.0</td>\n      <td>&lt;iframe width=\"480\" height=\"270\" src=\"//www.yo...</td>\n      <td>['https://en.wikipedia.org/wiki/Lifestyle_(soc...</td>\n      <td>NaN</td>\n      <td>NaN</td>\n      <td>NaN</td>\n      <td>NaN</td>\n      <td>NaN</td>\n      <td>NaN</td>\n      <td>2881</td>\n    </tr>\n    <tr>\n      <th>4</th>\n      <td>youtube#video</td>\n      <td>qVkdqXUraasWK3i8x412EgtkBc0</td>\n      <td>4nqfUzIz7kQ</td>\n      <td>2021-11-12T14:59:32Z</td>\n      <td>UCphnZS52v_lkv5RSl5n70tQ</td>\n      <td>Кореянка в Золотом Яблоке. Почему русские поку...</td>\n      <td>#кореянка#золотоеяблоко#корейскаякосметика\\nпр...</td>\n      <td>https://i.ytimg.com/vi/4nqfUzIz7kQ/default.jpg</td>\n      <td>120</td>\n      <td>90</td>\n      <td>...</td>\n      <td>766.0</td>\n      <td>&lt;iframe width=\"480\" height=\"270\" src=\"//www.yo...</td>\n      <td>['https://en.wikipedia.org/wiki/Lifestyle_(soc...</td>\n      <td>['КОРЕЯНКА', 'АЗИАТКА', '#КОРЕЙСКАЯДЕВУШКА', '...</td>\n      <td>NaN</td>\n      <td>NaN</td>\n      <td>NaN</td>\n      <td>NaN</td>\n      <td>NaN</td>\n      <td>154</td>\n    </tr>\n  </tbody>\n</table>\n<p>5 rows × 48 columns</p>\n</div>"
     },
     "execution_count": 2,
     "metadata": {},
     "output_type": "execute_result"
    },
    {
     "data": {
      "text/plain": "            kind                         etag           id  \\\n0  youtube#video  JlUeGRM73VkN0w8nCEaEyWoBan4  AAjsSrjZXsw   \n1  youtube#video  7WDv-DyXw9u2r1vYjW2NooOtj7s  yk4Wjr3j7QY   \n2  youtube#video  fDjV0KNgOssPF9NpbdoSpb40mR0  Wi49rKRM85U   \n3  youtube#video  UpqzTW3rCzeEURxHPRyg8n66jgM  kSiaxefvCgM   \n4  youtube#video  qVkdqXUraasWK3i8x412EgtkBc0  4nqfUzIz7kQ   \n\n    snippet.publishedAt         snippet.channelId  \\\n0  2021-03-10T13:46:47Z  UCh29SdTOPdjBb-n3Vop1lYg   \n1  2023-02-05T04:32:39Z  UCfcMgRNXey6TQkov9mgVgoA   \n2  2022-06-20T12:57:48Z  UCphnZS52v_lkv5RSl5n70tQ   \n3  2023-02-11T12:43:25Z  UCfcMgRNXey6TQkov9mgVgoA   \n4  2021-11-12T14:59:32Z  UCphnZS52v_lkv5RSl5n70tQ   \n\n                                       snippet.title  \\\n0  Расследование | Паленая косметика на Ozon и Wi...   \n1  Пляжная мода в Корее #этокореядетка #корейская...   \n2  한국인들은 절대 안사는 화장품 КОСМЕТИКА КОТОРАЯ КОРЕЯНКИ ВО...   \n3  Жилищный вопрос: Корея #дорамы #корейскийязык ...   \n4  Кореянка в Золотом Яблоке. Почему русские поку...   \n\n                                 snippet.description  \\\n0  На российских маркетплейсах продается огромное...   \n1                                                NaN   \n2  ⚫подписаться: https://goo.gl/3QbeUf\\n---------...   \n3                                                NaN   \n4  #кореянка#золотоеяблоко#корейскаякосметика\\nпр...   \n\n                   snippet.thumbnails.default.url  \\\n0  https://i.ytimg.com/vi/AAjsSrjZXsw/default.jpg   \n1  https://i.ytimg.com/vi/yk4Wjr3j7QY/default.jpg   \n2  https://i.ytimg.com/vi/Wi49rKRM85U/default.jpg   \n3  https://i.ytimg.com/vi/kSiaxefvCgM/default.jpg   \n4  https://i.ytimg.com/vi/4nqfUzIz7kQ/default.jpg   \n\n   snippet.thumbnails.default.width  snippet.thumbnails.default.height  ...  \\\n0                               120                                 90  ...   \n1                               120                                 90  ...   \n2                               120                                 90  ...   \n3                               120                                 90  ...   \n4                               120                                 90  ...   \n\n  statistics.commentCount                                   player.embedHtml  \\\n0                  5690.0  <iframe width=\"480\" height=\"270\" src=\"//www.yo...   \n1                   774.0  <iframe width=\"480\" height=\"270\" src=\"//www.yo...   \n2                  1138.0  <iframe width=\"480\" height=\"270\" src=\"//www.yo...   \n3                   701.0  <iframe width=\"480\" height=\"270\" src=\"//www.yo...   \n4                   766.0  <iframe width=\"480\" height=\"270\" src=\"//www.yo...   \n\n                        topicDetails.topicCategories  \\\n0  ['https://en.wikipedia.org/wiki/Lifestyle_(soc...   \n1  ['https://en.wikipedia.org/wiki/Lifestyle_(soc...   \n2  ['https://en.wikipedia.org/wiki/Lifestyle_(soc...   \n3  ['https://en.wikipedia.org/wiki/Lifestyle_(soc...   \n4  ['https://en.wikipedia.org/wiki/Lifestyle_(soc...   \n\n                                        snippet.tags  \\\n0                                                NaN   \n1                                                NaN   \n2  ['КОРЕЯНКА', 'АЗИАТКА', '#КОРЕЙСКАЯДЕВУШКА', '...   \n3                                                NaN   \n4  ['КОРЕЯНКА', 'АЗИАТКА', '#КОРЕЙСКАЯДЕВУШКА', '...   \n\n   liveStreamingDetails.actualStartTime  liveStreamingDetails.actualEndTime  \\\n0                                   NaN                                 NaN   \n1                                   NaN                                 NaN   \n2                                   NaN                                 NaN   \n3                                   NaN                                 NaN   \n4                                   NaN                                 NaN   \n\n  liveStreamingDetails.scheduledStartTime  \\\n0                                     NaN   \n1                                     NaN   \n2                                     NaN   \n3                                     NaN   \n4                                     NaN   \n\n   liveStreamingDetails.activeLiveChatId  \\\n0                                    NaN   \n1                                    NaN   \n2                                    NaN   \n3                                    NaN   \n4                                    NaN   \n\n   contentDetails.contentRating.ytRating statistics.dislikesCount  \n0                                    NaN                      756  \n1                                    NaN                     5790  \n2                                    NaN                      569  \n3                                    NaN                     2881  \n4                                    NaN                      154  \n\n[5 rows x 48 columns]",
      "text/html": "<div>\n<style scoped>\n    .dataframe tbody tr th:only-of-type {\n        vertical-align: middle;\n    }\n\n    .dataframe tbody tr th {\n        vertical-align: top;\n    }\n\n    .dataframe thead th {\n        text-align: right;\n    }\n</style>\n<table border=\"1\" class=\"dataframe\">\n  <thead>\n    <tr style=\"text-align: right;\">\n      <th></th>\n      <th>kind</th>\n      <th>etag</th>\n      <th>id</th>\n      <th>snippet.publishedAt</th>\n      <th>snippet.channelId</th>\n      <th>snippet.title</th>\n      <th>snippet.description</th>\n      <th>snippet.thumbnails.default.url</th>\n      <th>snippet.thumbnails.default.width</th>\n      <th>snippet.thumbnails.default.height</th>\n      <th>...</th>\n      <th>statistics.commentCount</th>\n      <th>player.embedHtml</th>\n      <th>topicDetails.topicCategories</th>\n      <th>snippet.tags</th>\n      <th>liveStreamingDetails.actualStartTime</th>\n      <th>liveStreamingDetails.actualEndTime</th>\n      <th>liveStreamingDetails.scheduledStartTime</th>\n      <th>liveStreamingDetails.activeLiveChatId</th>\n      <th>contentDetails.contentRating.ytRating</th>\n      <th>statistics.dislikesCount</th>\n    </tr>\n  </thead>\n  <tbody>\n    <tr>\n      <th>0</th>\n      <td>youtube#video</td>\n      <td>JlUeGRM73VkN0w8nCEaEyWoBan4</td>\n      <td>AAjsSrjZXsw</td>\n      <td>2021-03-10T13:46:47Z</td>\n      <td>UCh29SdTOPdjBb-n3Vop1lYg</td>\n      <td>Расследование | Паленая косметика на Ozon и Wi...</td>\n      <td>На российских маркетплейсах продается огромное...</td>\n      <td>https://i.ytimg.com/vi/AAjsSrjZXsw/default.jpg</td>\n      <td>120</td>\n      <td>90</td>\n      <td>...</td>\n      <td>5690.0</td>\n      <td>&lt;iframe width=\"480\" height=\"270\" src=\"//www.yo...</td>\n      <td>['https://en.wikipedia.org/wiki/Lifestyle_(soc...</td>\n      <td>NaN</td>\n      <td>NaN</td>\n      <td>NaN</td>\n      <td>NaN</td>\n      <td>NaN</td>\n      <td>NaN</td>\n      <td>756</td>\n    </tr>\n    <tr>\n      <th>1</th>\n      <td>youtube#video</td>\n      <td>7WDv-DyXw9u2r1vYjW2NooOtj7s</td>\n      <td>yk4Wjr3j7QY</td>\n      <td>2023-02-05T04:32:39Z</td>\n      <td>UCfcMgRNXey6TQkov9mgVgoA</td>\n      <td>Пляжная мода в Корее #этокореядетка #корейская...</td>\n      <td>NaN</td>\n      <td>https://i.ytimg.com/vi/yk4Wjr3j7QY/default.jpg</td>\n      <td>120</td>\n      <td>90</td>\n      <td>...</td>\n      <td>774.0</td>\n      <td>&lt;iframe width=\"480\" height=\"270\" src=\"//www.yo...</td>\n      <td>['https://en.wikipedia.org/wiki/Lifestyle_(soc...</td>\n      <td>NaN</td>\n      <td>NaN</td>\n      <td>NaN</td>\n      <td>NaN</td>\n      <td>NaN</td>\n      <td>NaN</td>\n      <td>5790</td>\n    </tr>\n    <tr>\n      <th>2</th>\n      <td>youtube#video</td>\n      <td>fDjV0KNgOssPF9NpbdoSpb40mR0</td>\n      <td>Wi49rKRM85U</td>\n      <td>2022-06-20T12:57:48Z</td>\n      <td>UCphnZS52v_lkv5RSl5n70tQ</td>\n      <td>한국인들은 절대 안사는 화장품 КОСМЕТИКА КОТОРАЯ КОРЕЯНКИ ВО...</td>\n      <td>⚫подписаться: https://goo.gl/3QbeUf\\n---------...</td>\n      <td>https://i.ytimg.com/vi/Wi49rKRM85U/default.jpg</td>\n      <td>120</td>\n      <td>90</td>\n      <td>...</td>\n      <td>1138.0</td>\n      <td>&lt;iframe width=\"480\" height=\"270\" src=\"//www.yo...</td>\n      <td>['https://en.wikipedia.org/wiki/Lifestyle_(soc...</td>\n      <td>['КОРЕЯНКА', 'АЗИАТКА', '#КОРЕЙСКАЯДЕВУШКА', '...</td>\n      <td>NaN</td>\n      <td>NaN</td>\n      <td>NaN</td>\n      <td>NaN</td>\n      <td>NaN</td>\n      <td>569</td>\n    </tr>\n    <tr>\n      <th>3</th>\n      <td>youtube#video</td>\n      <td>UpqzTW3rCzeEURxHPRyg8n66jgM</td>\n      <td>kSiaxefvCgM</td>\n      <td>2023-02-11T12:43:25Z</td>\n      <td>UCfcMgRNXey6TQkov9mgVgoA</td>\n      <td>Жилищный вопрос: Корея #дорамы #корейскийязык ...</td>\n      <td>NaN</td>\n      <td>https://i.ytimg.com/vi/kSiaxefvCgM/default.jpg</td>\n      <td>120</td>\n      <td>90</td>\n      <td>...</td>\n      <td>701.0</td>\n      <td>&lt;iframe width=\"480\" height=\"270\" src=\"//www.yo...</td>\n      <td>['https://en.wikipedia.org/wiki/Lifestyle_(soc...</td>\n      <td>NaN</td>\n      <td>NaN</td>\n      <td>NaN</td>\n      <td>NaN</td>\n      <td>NaN</td>\n      <td>NaN</td>\n      <td>2881</td>\n    </tr>\n    <tr>\n      <th>4</th>\n      <td>youtube#video</td>\n      <td>qVkdqXUraasWK3i8x412EgtkBc0</td>\n      <td>4nqfUzIz7kQ</td>\n      <td>2021-11-12T14:59:32Z</td>\n      <td>UCphnZS52v_lkv5RSl5n70tQ</td>\n      <td>Кореянка в Золотом Яблоке. Почему русские поку...</td>\n      <td>#кореянка#золотоеяблоко#корейскаякосметика\\nпр...</td>\n      <td>https://i.ytimg.com/vi/4nqfUzIz7kQ/default.jpg</td>\n      <td>120</td>\n      <td>90</td>\n      <td>...</td>\n      <td>766.0</td>\n      <td>&lt;iframe width=\"480\" height=\"270\" src=\"//www.yo...</td>\n      <td>['https://en.wikipedia.org/wiki/Lifestyle_(soc...</td>\n      <td>['КОРЕЯНКА', 'АЗИАТКА', '#КОРЕЙСКАЯДЕВУШКА', '...</td>\n      <td>NaN</td>\n      <td>NaN</td>\n      <td>NaN</td>\n      <td>NaN</td>\n      <td>NaN</td>\n      <td>154</td>\n    </tr>\n  </tbody>\n</table>\n<p>5 rows × 48 columns</p>\n</div>"
     },
     "execution_count": 3,
     "metadata": {},
     "output_type": "execute_result"
    }
   ],
   "source": [
    "## 5 Загрузка данных о видео, ранее собранных с помощью .search() and .videos()\n",
    "import pandas as pd\n",
    "\n",
    "df = pd.read_excel(DATA_PATH / \"seminar6\" / \"Video_characteristics_КорейскаяКосметика.xlsx\")\n",
    "\n",
    "DF_NAME = \"КорейскаяКосметика\"\n",
    "\n",
    "df.head()"
   ],
   "metadata": {
    "collapsed": false,
    "ExecuteTime": {
     "start_time": "2023-04-08T12:41:41.850785Z",
     "end_time": "2023-04-08T12:41:42.659900Z"
    }
   }
  },
  {
   "cell_type": "code",
   "execution_count": 7,
   "outputs": [],
   "source": [
    "def convert_YouTube_duration_to_seconds(duration):\n",
    "   day_time = duration.split('T')\n",
    "   day_duration = day_time[0].replace('P', '')\n",
    "   day_list = day_duration.split('D')\n",
    "   if len(day_list) == 2:\n",
    "      day = int(day_list[0]) * 60 * 60 * 24\n",
    "      day_list = day_list[1]\n",
    "   else:\n",
    "      day = 0\n",
    "      day_list = day_list[0]\n",
    "   hour_list = day_time[1].split('H')\n",
    "   if len(hour_list) == 2:\n",
    "      hour = int(hour_list[0]) * 60 * 60\n",
    "      hour_list = hour_list[1]\n",
    "   else:\n",
    "      hour = 0\n",
    "      hour_list = hour_list[0]\n",
    "   minute_list = hour_list.split('M')\n",
    "   if len(minute_list) == 2:\n",
    "      minute = int(minute_list[0]) * 60\n",
    "      minute_list = minute_list[1]\n",
    "   else:\n",
    "      minute = 0\n",
    "      minute_list = minute_list[0]\n",
    "   second_list = minute_list.split('S')\n",
    "   if len(second_list) == 2:\n",
    "      second = int(second_list[0])\n",
    "   else:\n",
    "      second = 0\n",
    "   return day + hour + minute + second\n"
   ],
   "metadata": {
    "collapsed": false,
    "ExecuteTime": {
     "start_time": "2023-04-08T12:44:52.582030Z",
     "end_time": "2023-04-08T12:44:52.592242Z"
    }
   }
  },
  {
   "cell_type": "code",
   "execution_count": 9,
   "outputs": [],
   "source": [
    "df['durationSec'] = df['contentDetails.duration'].apply(convert_YouTube_duration_to_seconds)"
   ],
   "metadata": {
    "collapsed": false,
    "ExecuteTime": {
     "start_time": "2023-04-08T12:45:05.265241Z",
     "end_time": "2023-04-08T12:45:05.274607Z"
    }
   }
  },
  {
   "cell_type": "code",
   "execution_count": 13,
   "outputs": [],
   "source": [
    "df.to_excel(DATA_PATH / 'video' / 'Video_characteristics_КорейскаяКосметика.xlsx', index= False)"
   ],
   "metadata": {
    "collapsed": false,
    "ExecuteTime": {
     "start_time": "2023-04-08T12:46:00.184460Z",
     "end_time": "2023-04-08T12:46:01.252005Z"
    }
   }
  },
  {
   "cell_type": "code",
   "execution_count": null,
   "outputs": [],
   "source": [],
   "metadata": {
    "collapsed": false
   }
  }
 ],
 "metadata": {
  "kernelspec": {
   "display_name": "Python 3",
   "language": "python",
   "name": "python3"
  },
  "language_info": {
   "codemirror_mode": {
    "name": "ipython",
    "version": 2
   },
   "file_extension": ".py",
   "mimetype": "text/x-python",
   "name": "python",
   "nbconvert_exporter": "python",
   "pygments_lexer": "ipython2",
   "version": "2.7.6"
  }
 },
 "nbformat": 4,
 "nbformat_minor": 0
}
