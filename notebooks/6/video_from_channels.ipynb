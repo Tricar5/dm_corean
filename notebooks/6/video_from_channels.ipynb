{
 "cells": [
  {
   "cell_type": "markdown",
   "source": [
    "# Найти все видео с определенного канала\n",
    "\n",
    "Воспользовавшись методом search обеспечить поиск и сбор видео с определенных каналов"
   ],
   "metadata": {
    "collapsed": false
   }
  },
  {
   "cell_type": "code",
   "execution_count": 1,
   "outputs": [],
   "source": [
    "import pandas as pd\n",
    "# 1\n",
    "import yaml\n",
    "import pathlib\n",
    "ROOT = pathlib.Path().resolve().parent.parent\n",
    "\n",
    "with open(ROOT / \"config.yml\", \"r\") as f:\n",
    "    config = yaml.load(f, Loader=yaml.FullLoader)\n"
   ],
   "metadata": {
    "collapsed": false,
    "ExecuteTime": {
     "start_time": "2023-04-08T13:51:40.820649Z",
     "end_time": "2023-04-08T13:51:41.173406Z"
    }
   }
  },
  {
   "cell_type": "code",
   "execution_count": 2,
   "outputs": [],
   "source": [
    "DATA_PATH = ROOT / config['api']['DATA_PATH']"
   ],
   "metadata": {
    "collapsed": false,
    "ExecuteTime": {
     "start_time": "2023-04-08T13:51:41.173804Z",
     "end_time": "2023-04-08T13:51:41.176439Z"
    }
   }
  },
  {
   "cell_type": "markdown",
   "source": [],
   "metadata": {
    "collapsed": false
   }
  },
  {
   "cell_type": "code",
   "execution_count": 3,
   "outputs": [],
   "source": [
    "#3\n",
    "# Variables from config\n",
    "API_KEY = config['api']['keys']\n",
    "API_VERSION = config['api']['api_version']\n",
    "API_SERVICE_NAME = config['api']['api_service_name']\n",
    "\n",
    "publishedAfter = config['api']['parameters']['date_after']\n",
    "publishedBefore = config['api']['parameters']['date_before']\n",
    "\n"
   ],
   "metadata": {
    "collapsed": false,
    "ExecuteTime": {
     "start_time": "2023-04-08T13:51:41.180204Z",
     "end_time": "2023-04-08T13:51:41.181608Z"
    }
   }
  },
  {
   "cell_type": "code",
   "execution_count": 4,
   "outputs": [],
   "source": [
    "# 3.1\n",
    "class KeyStorage:\n",
    "    \"\"\"\n",
    "    Class to use in iteration\n",
    "    \"\"\"\n",
    "\n",
    "    def __init__(self, key_arr: list[str]):\n",
    "        self.key_gen = iter(key_arr)\n",
    "\n",
    "    def get_next_key(self):\n",
    "        \"\"\"\n",
    "        Returns API key to use\n",
    "        :return:\n",
    "        \"\"\"\n",
    "        return next(self.key_gen)\n",
    "\n",
    "key_storage = KeyStorage(config['api']['keys'])"
   ],
   "metadata": {
    "collapsed": false,
    "ExecuteTime": {
     "start_time": "2023-04-08T13:51:41.183401Z",
     "end_time": "2023-04-08T13:51:41.184893Z"
    }
   }
  },
  {
   "cell_type": "code",
   "execution_count": 5,
   "outputs": [],
   "source": [
    "# 3.2 Просмотр API ключа\n",
    "API_KEY = key_storage.get_next_key()"
   ],
   "metadata": {
    "collapsed": false,
    "ExecuteTime": {
     "start_time": "2023-04-08T13:51:41.185591Z",
     "end_time": "2023-04-08T13:51:41.187007Z"
    }
   }
  },
  {
   "cell_type": "code",
   "execution_count": 6,
   "outputs": [],
   "source": [
    "# 4 импортируем и создаем клиент API Youtube\n",
    "import googleapiclient.discovery as api\n",
    "\n",
    "youtube = api.build(API_SERVICE_NAME,\n",
    "                    API_VERSION,\n",
    "                    developerKey=API_KEY)"
   ],
   "metadata": {
    "collapsed": false,
    "ExecuteTime": {
     "start_time": "2023-04-08T13:51:41.188090Z",
     "end_time": "2023-04-08T13:51:41.278225Z"
    }
   }
  },
  {
   "cell_type": "markdown",
   "source": [
    "## Выделение целевого канала для поиска видео по нему"
   ],
   "metadata": {
    "collapsed": false
   }
  },
  {
   "cell_type": "code",
   "execution_count": 7,
   "outputs": [
    {
     "data": {
      "text/plain": "                kind                         etag                        id  \\\n0    youtube#channel  VxEXEnQr6AYIhtXUCAdHl7PlS-M  UC3JMMioc1t_C1aJj8b-Q6Wg   \n1    youtube#channel  PPq95XNKTeNsoOj6otQCMUcw1Us  UCGrHcYaBQ3UXZdVsNf2B_5A   \n2    youtube#channel  HbHwnb2h_5prqpy6qKaiHTPCotc  UC8Z_BW7bk4c9C6m73SNoLUA   \n3    youtube#channel  myqAoVALnKOKg7W3XXGAbD_616s  UCAjbB3aOl7cLLSZazK5qlgQ   \n4    youtube#channel  eXrtJNQfAcgmdSEH1As74ccLd4M  UCoId7gBXx2MPU2GFuOyE6Rg   \n..               ...                          ...                       ...   \n164  youtube#channel  2Uv7Lpv-P_xlz4LmGN_O41mGAA4  UCCz7PAUdGLfoXYgapfe8JSA   \n165  youtube#channel  rfyJbO4Dh9oZxtmQm80wmCCmxsA  UCHX4WAfPLgGwqq35KaqGy0A   \n166  youtube#channel  PALuvDlrxG0Ke_UNJx6uONL1S9o  UCFKyV7bEwQcEeOhgBFP_PoA   \n167  youtube#channel  D9UzGjiqLCRhd_zkE6lEgY-qjSA  UCM-jV4jamMGK90C16TFmUNw   \n168  youtube#channel  KrTmFT3zDTsZtc1uYlUwng6NdBU  UCLrO7FSc_7lPoFTrDDlQsqQ   \n\n                snippet.title  \\\n0    Джеймс Чарльз на русском   \n1              Beauty Sisters   \n2                 Nastya Nami   \n3                Natalina Mua   \n4                 TheBeSSTija   \n..                        ...   \n164         Секреты юной леди   \n165              Бабушка Шошо   \n166               Точка Любви   \n167                LAV Parfum   \n168                  Kate ART   \n\n                                   snippet.description   snippet.customUrl  \\\n0    Original: https://www.youtube.com/channel/UCuc...   @jamescharles_rus   \n1                                       три маковки \\n  @beautysisters5332   \n2                                                  NaN        @nastya_nami   \n3    Меня зовут Наталина, я блоггер и визажист. Все...        @natalinamua   \n4    Всем-всем большой привет! Очень рада видеть Ва...        @thebesstija   \n..                                                 ...                 ...   \n164  Привет, подружка! Если у тебя есть вопросы, о ...       @sekrety_ledi   \n165  Всем привет!!!\\nМеня зовут бабушка Шошо. \\nНа ...      @cartoonshosho   \n166  Добро пожаловать на канал сети магазинов для в...       @tochka_lubvi   \n167  Приветствую вас на своем Канале, Мои дорогие з...          @lavparfum   \n168  Всем привет! Меня зовут Катя и это мой канал н...        @kateart2812   \n\n             snippet.publishedAt  \\\n0    2021-01-27T12:32:17.098809Z   \n1           2018-03-11T17:25:47Z   \n2           2017-10-24T17:29:05Z   \n3           2016-05-14T21:48:05Z   \n4           2011-10-26T15:22:23Z   \n..                           ...   \n164         2019-09-19T10:44:26Z   \n165         2012-10-11T19:30:40Z   \n166         2018-10-02T14:32:47Z   \n167         2016-02-09T17:07:40Z   \n168         2017-03-16T07:59:10Z   \n\n                        snippet.thumbnails.default.url  \\\n0    https://yt3.ggpht.com/ytc/AL5GRJWrSbUlgElc6lmm...   \n1    https://yt3.ggpht.com/J2bcIGlZ34Sp449revGqEvMm...   \n2    https://yt3.ggpht.com/y826GjjNkgK8cAYx015OODbF...   \n3    https://yt3.ggpht.com/ytc/AL5GRJXLEUrlak31-jbh...   \n4    https://yt3.ggpht.com/XiZy8TfU1H-IsILUrkw4E5SP...   \n..                                                 ...   \n164  https://yt3.ggpht.com/EDNjbGT1_xRQnx1HXXe5JkQY...   \n165  https://yt3.ggpht.com/ytc/AL5GRJWt8By4ipmlWzKt...   \n166  https://yt3.ggpht.com/Qb7LudPEoZdj98BSdtouNUW2...   \n167  https://yt3.ggpht.com/ytc/AL5GRJXzMl1_NG8X85d-...   \n168  https://yt3.ggpht.com/ytc/AL5GRJUEGmbuqklELnDr...   \n\n     snippet.thumbnails.default.width  snippet.thumbnails.default.height  ...  \\\n0                                  88                                 88  ...   \n1                                  88                                 88  ...   \n2                                  88                                 88  ...   \n3                                  88                                 88  ...   \n4                                  88                                 88  ...   \n..                                ...                                ...  ...   \n164                                88                                 88  ...   \n165                                88                                 88  ...   \n166                                88                                 88  ...   \n167                                88                                 88  ...   \n168                                88                                 88  ...   \n\n                          topicDetails.topicCategories  \\\n0    ['https://en.wikipedia.org/wiki/Lifestyle_(soc...   \n1    ['https://en.wikipedia.org/wiki/Lifestyle_(soc...   \n2    ['https://en.wikipedia.org/wiki/Lifestyle_(soc...   \n3    ['https://en.wikipedia.org/wiki/Lifestyle_(soc...   \n4    ['https://en.wikipedia.org/wiki/Lifestyle_(soc...   \n..                                                 ...   \n164  ['https://en.wikipedia.org/wiki/Lifestyle_(soc...   \n165  ['https://en.wikipedia.org/wiki/Film', 'https:...   \n166  ['https://en.wikipedia.org/wiki/Lifestyle_(soc...   \n167  ['https://en.wikipedia.org/wiki/Lifestyle_(soc...   \n168  ['https://en.wikipedia.org/wiki/Lifestyle_(soc...   \n\n     brandingSettings.channel.title  \\\n0          Джеймс Чарльз на русском   \n1                    Beauty Sisters   \n2                       Nastya Nami   \n3                      Natalina Mua   \n4                       TheBeSSTija   \n..                              ...   \n164               Секреты юной леди   \n165                    Бабушка Шошо   \n166                     Точка Любви   \n167                      LAV Parfum   \n168                        Kate ART   \n\n                  brandingSettings.channel.description  \\\n0    Original: https://www.youtube.com/channel/UCuc...   \n1                                       три маковки \\n   \n2                                                  NaN   \n3    Меня зовут Наталина, я блоггер и визажист. Все...   \n4    Всем-всем большой привет! Очень рада видеть Ва...   \n..                                                 ...   \n164  Привет, подружка! Если у тебя есть вопросы, о ...   \n165  Всем привет!!!\\nМеня зовут бабушка Шошо. \\nНа ...   \n166  Добро пожаловать на канал сети магазинов для в...   \n167  Приветствую вас на своем Канале, Мои дорогие з...   \n168  Всем привет! Меня зовут Катя и это мой канал н...   \n\n                     brandingSettings.channel.keywords  \\\n0    \"Джеймс Чарльз\" \"джеймс чарльз\" \"джеймс чарльз...   \n1                                                  NaN   \n2    \"бьюти блог\" макияж \"макияж глаз\" \"макияж на х...   \n3                             makeup mua макияж beauty   \n4    красота макияж косметика волосы обзоры ревью m...   \n..                                                 ...   \n164  \"секреты юной леди\" \"советы юной леди\" секреты...   \n165  \"тесты на логику\" \"загадки с ответами\" \"тесты ...   \n166  «точка любви» Точка Любви отзывы «кондом шоп» ...   \n167  lavparfum парфюмерия \"мужская парфюмерия\" \"жен...   \n168  рисунки \"как научиться рисовать\" дизайн \"стиль...   \n\n     brandingSettings.channel.unsubscribedTrailer  \\\n0                                     BNLQn7lTAMU   \n1                                             NaN   \n2                                     vgI3TnXv8Nw   \n3                                     RSojIJBmKBE   \n4                                     IkPRBRg2ZRE   \n..                                            ...   \n164                                   zG_y7rXiOL4   \n165                                   mJ0cPfnrey8   \n166                                   aLLhmgcWayI   \n167                                   Hbc0ovTWIF0   \n168                                   L88Tw_WFR_w   \n\n     brandingSettings.channel.country  \\\n0                                  RU   \n1                                  RU   \n2                                  RU   \n3                                  TR   \n4                                  EE   \n..                                ...   \n164                                UA   \n165                                RU   \n166                                RU   \n167                                RU   \n168                                RU   \n\n              brandingSettings.image.bannerExternalUrl  \\\n0    https://yt3.googleusercontent.com/SJu2ZsUL0i0H...   \n1    https://yt3.googleusercontent.com/9d67cAAZptVO...   \n2    https://yt3.googleusercontent.com/d-8hE101pbO-...   \n3    https://yt3.googleusercontent.com/CKbDdW_p_MVP...   \n4    https://lh3.googleusercontent.com/gPqgYUaEPeAH...   \n..                                                 ...   \n164  https://yt3.googleusercontent.com/SuMnDc3AAHlW...   \n165  https://lh3.googleusercontent.com/PgIzqRQHqcp3...   \n166  https://yt3.googleusercontent.com/jzpIcNvbpnX6...   \n167  https://yt3.googleusercontent.com/8X2e_XwrSSzX...   \n168  https://lh3.googleusercontent.com/Juxa7wJkFKeP...   \n\n    snippet.defaultLanguage brandingSettings.channel.defaultLanguage  \\\n0                       NaN                                      NaN   \n1                       NaN                                      NaN   \n2                       NaN                                      NaN   \n3                       NaN                                      NaN   \n4                        ru                                       ru   \n..                      ...                                      ...   \n164                      ru                                       ru   \n165                     NaN                                      NaN   \n166                     NaN                                      NaN   \n167                     NaN                                      NaN   \n168                     NaN                                      NaN   \n\n     brandingSettings.channel.trackingAnalyticsAccountId  \n0                                                  NaN    \n1                                                  NaN    \n2                                                  NaN    \n3                                                  NaN    \n4                                                  NaN    \n..                                                 ...    \n164                                                NaN    \n165                                                NaN    \n166                                                NaN    \n167                                                NaN    \n168                                                NaN    \n\n[169 rows x 36 columns]",
      "text/html": "<div>\n<style scoped>\n    .dataframe tbody tr th:only-of-type {\n        vertical-align: middle;\n    }\n\n    .dataframe tbody tr th {\n        vertical-align: top;\n    }\n\n    .dataframe thead th {\n        text-align: right;\n    }\n</style>\n<table border=\"1\" class=\"dataframe\">\n  <thead>\n    <tr style=\"text-align: right;\">\n      <th></th>\n      <th>kind</th>\n      <th>etag</th>\n      <th>id</th>\n      <th>snippet.title</th>\n      <th>snippet.description</th>\n      <th>snippet.customUrl</th>\n      <th>snippet.publishedAt</th>\n      <th>snippet.thumbnails.default.url</th>\n      <th>snippet.thumbnails.default.width</th>\n      <th>snippet.thumbnails.default.height</th>\n      <th>...</th>\n      <th>topicDetails.topicCategories</th>\n      <th>brandingSettings.channel.title</th>\n      <th>brandingSettings.channel.description</th>\n      <th>brandingSettings.channel.keywords</th>\n      <th>brandingSettings.channel.unsubscribedTrailer</th>\n      <th>brandingSettings.channel.country</th>\n      <th>brandingSettings.image.bannerExternalUrl</th>\n      <th>snippet.defaultLanguage</th>\n      <th>brandingSettings.channel.defaultLanguage</th>\n      <th>brandingSettings.channel.trackingAnalyticsAccountId</th>\n    </tr>\n  </thead>\n  <tbody>\n    <tr>\n      <th>0</th>\n      <td>youtube#channel</td>\n      <td>VxEXEnQr6AYIhtXUCAdHl7PlS-M</td>\n      <td>UC3JMMioc1t_C1aJj8b-Q6Wg</td>\n      <td>Джеймс Чарльз на русском</td>\n      <td>Original: https://www.youtube.com/channel/UCuc...</td>\n      <td>@jamescharles_rus</td>\n      <td>2021-01-27T12:32:17.098809Z</td>\n      <td>https://yt3.ggpht.com/ytc/AL5GRJWrSbUlgElc6lmm...</td>\n      <td>88</td>\n      <td>88</td>\n      <td>...</td>\n      <td>['https://en.wikipedia.org/wiki/Lifestyle_(soc...</td>\n      <td>Джеймс Чарльз на русском</td>\n      <td>Original: https://www.youtube.com/channel/UCuc...</td>\n      <td>\"Джеймс Чарльз\" \"джеймс чарльз\" \"джеймс чарльз...</td>\n      <td>BNLQn7lTAMU</td>\n      <td>RU</td>\n      <td>https://yt3.googleusercontent.com/SJu2ZsUL0i0H...</td>\n      <td>NaN</td>\n      <td>NaN</td>\n      <td>NaN</td>\n    </tr>\n    <tr>\n      <th>1</th>\n      <td>youtube#channel</td>\n      <td>PPq95XNKTeNsoOj6otQCMUcw1Us</td>\n      <td>UCGrHcYaBQ3UXZdVsNf2B_5A</td>\n      <td>Beauty Sisters</td>\n      <td>три маковки \\n</td>\n      <td>@beautysisters5332</td>\n      <td>2018-03-11T17:25:47Z</td>\n      <td>https://yt3.ggpht.com/J2bcIGlZ34Sp449revGqEvMm...</td>\n      <td>88</td>\n      <td>88</td>\n      <td>...</td>\n      <td>['https://en.wikipedia.org/wiki/Lifestyle_(soc...</td>\n      <td>Beauty Sisters</td>\n      <td>три маковки \\n</td>\n      <td>NaN</td>\n      <td>NaN</td>\n      <td>RU</td>\n      <td>https://yt3.googleusercontent.com/9d67cAAZptVO...</td>\n      <td>NaN</td>\n      <td>NaN</td>\n      <td>NaN</td>\n    </tr>\n    <tr>\n      <th>2</th>\n      <td>youtube#channel</td>\n      <td>HbHwnb2h_5prqpy6qKaiHTPCotc</td>\n      <td>UC8Z_BW7bk4c9C6m73SNoLUA</td>\n      <td>Nastya Nami</td>\n      <td>NaN</td>\n      <td>@nastya_nami</td>\n      <td>2017-10-24T17:29:05Z</td>\n      <td>https://yt3.ggpht.com/y826GjjNkgK8cAYx015OODbF...</td>\n      <td>88</td>\n      <td>88</td>\n      <td>...</td>\n      <td>['https://en.wikipedia.org/wiki/Lifestyle_(soc...</td>\n      <td>Nastya Nami</td>\n      <td>NaN</td>\n      <td>\"бьюти блог\" макияж \"макияж глаз\" \"макияж на х...</td>\n      <td>vgI3TnXv8Nw</td>\n      <td>RU</td>\n      <td>https://yt3.googleusercontent.com/d-8hE101pbO-...</td>\n      <td>NaN</td>\n      <td>NaN</td>\n      <td>NaN</td>\n    </tr>\n    <tr>\n      <th>3</th>\n      <td>youtube#channel</td>\n      <td>myqAoVALnKOKg7W3XXGAbD_616s</td>\n      <td>UCAjbB3aOl7cLLSZazK5qlgQ</td>\n      <td>Natalina Mua</td>\n      <td>Меня зовут Наталина, я блоггер и визажист. Все...</td>\n      <td>@natalinamua</td>\n      <td>2016-05-14T21:48:05Z</td>\n      <td>https://yt3.ggpht.com/ytc/AL5GRJXLEUrlak31-jbh...</td>\n      <td>88</td>\n      <td>88</td>\n      <td>...</td>\n      <td>['https://en.wikipedia.org/wiki/Lifestyle_(soc...</td>\n      <td>Natalina Mua</td>\n      <td>Меня зовут Наталина, я блоггер и визажист. Все...</td>\n      <td>makeup mua макияж beauty</td>\n      <td>RSojIJBmKBE</td>\n      <td>TR</td>\n      <td>https://yt3.googleusercontent.com/CKbDdW_p_MVP...</td>\n      <td>NaN</td>\n      <td>NaN</td>\n      <td>NaN</td>\n    </tr>\n    <tr>\n      <th>4</th>\n      <td>youtube#channel</td>\n      <td>eXrtJNQfAcgmdSEH1As74ccLd4M</td>\n      <td>UCoId7gBXx2MPU2GFuOyE6Rg</td>\n      <td>TheBeSSTija</td>\n      <td>Всем-всем большой привет! Очень рада видеть Ва...</td>\n      <td>@thebesstija</td>\n      <td>2011-10-26T15:22:23Z</td>\n      <td>https://yt3.ggpht.com/XiZy8TfU1H-IsILUrkw4E5SP...</td>\n      <td>88</td>\n      <td>88</td>\n      <td>...</td>\n      <td>['https://en.wikipedia.org/wiki/Lifestyle_(soc...</td>\n      <td>TheBeSSTija</td>\n      <td>Всем-всем большой привет! Очень рада видеть Ва...</td>\n      <td>красота макияж косметика волосы обзоры ревью m...</td>\n      <td>IkPRBRg2ZRE</td>\n      <td>EE</td>\n      <td>https://lh3.googleusercontent.com/gPqgYUaEPeAH...</td>\n      <td>ru</td>\n      <td>ru</td>\n      <td>NaN</td>\n    </tr>\n    <tr>\n      <th>...</th>\n      <td>...</td>\n      <td>...</td>\n      <td>...</td>\n      <td>...</td>\n      <td>...</td>\n      <td>...</td>\n      <td>...</td>\n      <td>...</td>\n      <td>...</td>\n      <td>...</td>\n      <td>...</td>\n      <td>...</td>\n      <td>...</td>\n      <td>...</td>\n      <td>...</td>\n      <td>...</td>\n      <td>...</td>\n      <td>...</td>\n      <td>...</td>\n      <td>...</td>\n      <td>...</td>\n    </tr>\n    <tr>\n      <th>164</th>\n      <td>youtube#channel</td>\n      <td>2Uv7Lpv-P_xlz4LmGN_O41mGAA4</td>\n      <td>UCCz7PAUdGLfoXYgapfe8JSA</td>\n      <td>Секреты юной леди</td>\n      <td>Привет, подружка! Если у тебя есть вопросы, о ...</td>\n      <td>@sekrety_ledi</td>\n      <td>2019-09-19T10:44:26Z</td>\n      <td>https://yt3.ggpht.com/EDNjbGT1_xRQnx1HXXe5JkQY...</td>\n      <td>88</td>\n      <td>88</td>\n      <td>...</td>\n      <td>['https://en.wikipedia.org/wiki/Lifestyle_(soc...</td>\n      <td>Секреты юной леди</td>\n      <td>Привет, подружка! Если у тебя есть вопросы, о ...</td>\n      <td>\"секреты юной леди\" \"советы юной леди\" секреты...</td>\n      <td>zG_y7rXiOL4</td>\n      <td>UA</td>\n      <td>https://yt3.googleusercontent.com/SuMnDc3AAHlW...</td>\n      <td>ru</td>\n      <td>ru</td>\n      <td>NaN</td>\n    </tr>\n    <tr>\n      <th>165</th>\n      <td>youtube#channel</td>\n      <td>rfyJbO4Dh9oZxtmQm80wmCCmxsA</td>\n      <td>UCHX4WAfPLgGwqq35KaqGy0A</td>\n      <td>Бабушка Шошо</td>\n      <td>Всем привет!!!\\nМеня зовут бабушка Шошо. \\nНа ...</td>\n      <td>@cartoonshosho</td>\n      <td>2012-10-11T19:30:40Z</td>\n      <td>https://yt3.ggpht.com/ytc/AL5GRJWt8By4ipmlWzKt...</td>\n      <td>88</td>\n      <td>88</td>\n      <td>...</td>\n      <td>['https://en.wikipedia.org/wiki/Film', 'https:...</td>\n      <td>Бабушка Шошо</td>\n      <td>Всем привет!!!\\nМеня зовут бабушка Шошо. \\nНа ...</td>\n      <td>\"тесты на логику\" \"загадки с ответами\" \"тесты ...</td>\n      <td>mJ0cPfnrey8</td>\n      <td>RU</td>\n      <td>https://lh3.googleusercontent.com/PgIzqRQHqcp3...</td>\n      <td>NaN</td>\n      <td>NaN</td>\n      <td>NaN</td>\n    </tr>\n    <tr>\n      <th>166</th>\n      <td>youtube#channel</td>\n      <td>PALuvDlrxG0Ke_UNJx6uONL1S9o</td>\n      <td>UCFKyV7bEwQcEeOhgBFP_PoA</td>\n      <td>Точка Любви</td>\n      <td>Добро пожаловать на канал сети магазинов для в...</td>\n      <td>@tochka_lubvi</td>\n      <td>2018-10-02T14:32:47Z</td>\n      <td>https://yt3.ggpht.com/Qb7LudPEoZdj98BSdtouNUW2...</td>\n      <td>88</td>\n      <td>88</td>\n      <td>...</td>\n      <td>['https://en.wikipedia.org/wiki/Lifestyle_(soc...</td>\n      <td>Точка Любви</td>\n      <td>Добро пожаловать на канал сети магазинов для в...</td>\n      <td>«точка любви» Точка Любви отзывы «кондом шоп» ...</td>\n      <td>aLLhmgcWayI</td>\n      <td>RU</td>\n      <td>https://yt3.googleusercontent.com/jzpIcNvbpnX6...</td>\n      <td>NaN</td>\n      <td>NaN</td>\n      <td>NaN</td>\n    </tr>\n    <tr>\n      <th>167</th>\n      <td>youtube#channel</td>\n      <td>D9UzGjiqLCRhd_zkE6lEgY-qjSA</td>\n      <td>UCM-jV4jamMGK90C16TFmUNw</td>\n      <td>LAV Parfum</td>\n      <td>Приветствую вас на своем Канале, Мои дорогие з...</td>\n      <td>@lavparfum</td>\n      <td>2016-02-09T17:07:40Z</td>\n      <td>https://yt3.ggpht.com/ytc/AL5GRJXzMl1_NG8X85d-...</td>\n      <td>88</td>\n      <td>88</td>\n      <td>...</td>\n      <td>['https://en.wikipedia.org/wiki/Lifestyle_(soc...</td>\n      <td>LAV Parfum</td>\n      <td>Приветствую вас на своем Канале, Мои дорогие з...</td>\n      <td>lavparfum парфюмерия \"мужская парфюмерия\" \"жен...</td>\n      <td>Hbc0ovTWIF0</td>\n      <td>RU</td>\n      <td>https://yt3.googleusercontent.com/8X2e_XwrSSzX...</td>\n      <td>NaN</td>\n      <td>NaN</td>\n      <td>NaN</td>\n    </tr>\n    <tr>\n      <th>168</th>\n      <td>youtube#channel</td>\n      <td>KrTmFT3zDTsZtc1uYlUwng6NdBU</td>\n      <td>UCLrO7FSc_7lPoFTrDDlQsqQ</td>\n      <td>Kate ART</td>\n      <td>Всем привет! Меня зовут Катя и это мой канал н...</td>\n      <td>@kateart2812</td>\n      <td>2017-03-16T07:59:10Z</td>\n      <td>https://yt3.ggpht.com/ytc/AL5GRJUEGmbuqklELnDr...</td>\n      <td>88</td>\n      <td>88</td>\n      <td>...</td>\n      <td>['https://en.wikipedia.org/wiki/Lifestyle_(soc...</td>\n      <td>Kate ART</td>\n      <td>Всем привет! Меня зовут Катя и это мой канал н...</td>\n      <td>рисунки \"как научиться рисовать\" дизайн \"стиль...</td>\n      <td>L88Tw_WFR_w</td>\n      <td>RU</td>\n      <td>https://lh3.googleusercontent.com/Juxa7wJkFKeP...</td>\n      <td>NaN</td>\n      <td>NaN</td>\n      <td>NaN</td>\n    </tr>\n  </tbody>\n</table>\n<p>169 rows × 36 columns</p>\n</div>"
     },
     "execution_count": 7,
     "metadata": {},
     "output_type": "execute_result"
    }
   ],
   "source": [
    "# 5 Загрузка существующей базы каналов\n",
    "import pandas as pd\n",
    "\n",
    "channel_df = pd.read_excel(DATA_PATH / 'channels' / 'channels_union_base.xlsx')\n",
    "\n",
    "channel_df"
   ],
   "metadata": {
    "collapsed": false,
    "ExecuteTime": {
     "start_time": "2023-04-08T13:51:47.350205Z",
     "end_time": "2023-04-08T13:51:47.504077Z"
    }
   }
  },
  {
   "cell_type": "code",
   "execution_count": 8,
   "outputs": [
    {
     "name": "stdout",
     "output_type": "stream",
     "text": [
      "<class 'pandas.core.frame.DataFrame'>\n",
      "RangeIndex: 169 entries, 0 to 168\n",
      "Data columns (total 36 columns):\n",
      " #   Column                                               Non-Null Count  Dtype  \n",
      "---  ------                                               --------------  -----  \n",
      " 0   kind                                                 169 non-null    object \n",
      " 1   etag                                                 169 non-null    object \n",
      " 2   id                                                   169 non-null    object \n",
      " 3   snippet.title                                        169 non-null    object \n",
      " 4   snippet.description                                  161 non-null    object \n",
      " 5   snippet.customUrl                                    169 non-null    object \n",
      " 6   snippet.publishedAt                                  169 non-null    object \n",
      " 7   snippet.thumbnails.default.url                       169 non-null    object \n",
      " 8   snippet.thumbnails.default.width                     169 non-null    int64  \n",
      " 9   snippet.thumbnails.default.height                    169 non-null    int64  \n",
      " 10  snippet.thumbnails.medium.url                        169 non-null    object \n",
      " 11  snippet.thumbnails.medium.width                      169 non-null    int64  \n",
      " 12  snippet.thumbnails.medium.height                     169 non-null    int64  \n",
      " 13  snippet.thumbnails.high.url                          169 non-null    object \n",
      " 14  snippet.thumbnails.high.width                        169 non-null    int64  \n",
      " 15  snippet.thumbnails.high.height                       169 non-null    int64  \n",
      " 16  snippet.localized.title                              169 non-null    object \n",
      " 17  snippet.localized.description                        161 non-null    object \n",
      " 18  snippet.country                                      150 non-null    object \n",
      " 19  contentDetails.relatedPlaylists.likes                0 non-null      float64\n",
      " 20  contentDetails.relatedPlaylists.uploads              0 non-null      float64\n",
      " 21  statistics.viewCount                                 169 non-null    int64  \n",
      " 22  statistics.subscriberCount                           169 non-null    int64  \n",
      " 23  statistics.hiddenSubscriberCount                     169 non-null    bool   \n",
      " 24  statistics.videoCount                                169 non-null    int64  \n",
      " 25  topicDetails.topicIds                                166 non-null    object \n",
      " 26  topicDetails.topicCategories                         166 non-null    object \n",
      " 27  brandingSettings.channel.title                       169 non-null    object \n",
      " 28  brandingSettings.channel.description                 161 non-null    object \n",
      " 29  brandingSettings.channel.keywords                    140 non-null    object \n",
      " 30  brandingSettings.channel.unsubscribedTrailer         123 non-null    object \n",
      " 31  brandingSettings.channel.country                     150 non-null    object \n",
      " 32  brandingSettings.image.bannerExternalUrl             166 non-null    object \n",
      " 33  snippet.defaultLanguage                              26 non-null     object \n",
      " 34  brandingSettings.channel.defaultLanguage             26 non-null     object \n",
      " 35  brandingSettings.channel.trackingAnalyticsAccountId  19 non-null     object \n",
      "dtypes: bool(1), float64(2), int64(9), object(24)\n",
      "memory usage: 46.5+ KB\n"
     ]
    }
   ],
   "source": [
    "# 6 просмотр информации о DataFrame с каналами\n",
    "\n",
    "channel_df.info()"
   ],
   "metadata": {
    "collapsed": false,
    "ExecuteTime": {
     "start_time": "2023-04-08T13:51:48.361079Z",
     "end_time": "2023-04-08T13:51:48.365969Z"
    }
   }
  },
  {
   "cell_type": "code",
   "execution_count": 9,
   "outputs": [],
   "source": [
    "QUERY = 'redautumn'"
   ],
   "metadata": {
    "collapsed": false,
    "ExecuteTime": {
     "start_time": "2023-04-08T13:51:49.063217Z",
     "end_time": "2023-04-08T13:51:49.069557Z"
    }
   }
  },
  {
   "cell_type": "code",
   "execution_count": 10,
   "outputs": [
    {
     "data": {
      "text/plain": "['UCaEh6lSHDzZXju9cfYrmI0g']"
     },
     "execution_count": 10,
     "metadata": {},
     "output_type": "execute_result"
    }
   ],
   "source": [
    "# 7 Сбор id каналов посредством поиска\n",
    "\n",
    "def get_id_by_word(df: pd.DataFrame, query: str) -> list[str]:\n",
    "\n",
    "    ids = df.loc[df['snippet.title'].str.contains(query, case=False, regex=True), 'id']\n",
    "    return list(ids)\n",
    "\n",
    "\n",
    "targets = get_id_by_word(channel_df, QUERY)\n",
    "targets"
   ],
   "metadata": {
    "collapsed": false
   }
  },
  {
   "cell_type": "markdown",
   "source": [
    "## Сбор видео с определенного канала"
   ],
   "metadata": {
    "collapsed": false
   }
  },
  {
   "cell_type": "code",
   "execution_count": 12,
   "outputs": [],
   "source": [
    "# 8\n",
    "CONTENT_TYPE = 'video'\n",
    "TARGET_ID = targets[0]\n"
   ],
   "metadata": {
    "collapsed": false
   }
  },
  {
   "cell_type": "code",
   "execution_count": 14,
   "outputs": [
    {
     "name": "stdout",
     "output_type": "stream",
     "text": [
      "Итерация БЕЗ включения аргумента order №0\n",
      "Итерация БЕЗ включения аргумента order №1\n",
      "Итерация БЕЗ включения аргумента order №2\n",
      "Итерация БЕЗ включения аргумента order №3\n",
      "Итерация БЕЗ включения аргумента order №4\n",
      "Итерация БЕЗ включения аргумента order №5\n",
      "Итерация БЕЗ включения аргумента order №6\n",
      "Итерация БЕЗ включения аргумента order №7\n",
      "Итерация БЕЗ включения аргумента order №8\n",
      "Итерация БЕЗ включения аргумента order №9\n",
      "Искомых объектов 1589,       а найденных БЕЗ включения каких-либо значений аргумента order 396\n"
     ]
    }
   ],
   "source": [
    "# 9 Поиск видео с определенного канал\n",
    "\n",
    "# 18.1 Итоговый собранный код из прошлых видео без промежуточных шагов\n",
    "# Первый заход БЕЗ аргумента order:\n",
    "request = youtube.search().list(\n",
    "    part=\"snippet\"\n",
    "    , maxResults=50\n",
    "    , type=CONTENT_TYPE\n",
    "    , channelId = TARGET_ID\n",
    ")\n",
    "response = request.execute()\n",
    "\n",
    "# Занести собранные данные в итоговую таблицу df_supplemented:\n",
    "df_supplemented = pd.json_normalize(response['items'])\n",
    "\n",
    "# Цикл для прохода по всем следующим страницам с выдачей:\n",
    "i = 0\n",
    "while 'nextPageToken' in response.keys():\n",
    "    request = youtube.search().list(\n",
    "        part=\"snippet\"\n",
    "        , maxResults=50\n",
    "        , type=CONTENT_TYPE\n",
    "        , channelId = TARGET_ID\n",
    "        , pageToken=response['nextPageToken']\n",
    "    )\n",
    "    response = request.execute()\n",
    "\n",
    "    # Для визуализации процесса:\n",
    "    print(f'Итерация БЕЗ включения аргумента order №{i}')\n",
    "    i += 1\n",
    "\n",
    "    # Занести собранные данные в итоговую таблицу df_supplemented:\n",
    "    df_additional = pd.json_normalize(response['items'])\n",
    "    df_supplemented = pd.concat([df_supplemented, df_additional])\n",
    "\n",
    "print(f\"Искомых объектов {response['pageInfo']['totalResults']}, \\\n",
    "      а найденных БЕЗ включения каких-либо значений аргумента order {len(df_supplemented.drop_duplicates('snippet.description'))}\")"
   ],
   "metadata": {
    "collapsed": false
   }
  },
  {
   "cell_type": "code",
   "execution_count": 15,
   "outputs": [
    {
     "data": {
      "text/plain": "['date', 'rating', 'title', 'videoCount', 'viewCount']"
     },
     "execution_count": 15,
     "metadata": {},
     "output_type": "execute_result"
    }
   ],
   "source": [
    "# 10 Значения аргумента order:\n",
    "order_list = ['date', 'rating', 'title', 'videoCount', 'viewCount']\n",
    "order_list"
   ],
   "metadata": {
    "collapsed": false
   }
  },
  {
   "cell_type": "code",
   "execution_count": null,
   "outputs": [],
   "source": [],
   "metadata": {
    "collapsed": false
   }
  },
  {
   "cell_type": "code",
   "execution_count": null,
   "outputs": [],
   "source": [
    "# 11 Ротация аргументов ордер для сбора оставшихся видео с каналов\n",
    "\n",
    "# 18.2 Итоговый собранный код из прошлых видео без промежуточных шагов\n",
    "# Цикл для прохода по значениям аргумента order, внутри которых проход по всем страницам выдачи:\n",
    "# Для остановки алгоритма, если все искомые объекты найдены\n",
    "# БЕЗ включения каких-либо значений аргумента order (в т.ч. вообще БЕЗ них):\n",
    "if len(df_supplemented.drop_duplicates('snippet.description')) < response['pageInfo']['totalResults']: # !!!\n",
    "    i = 0\n",
    "    for order in order_list:\n",
    "        # Первый заход с каждым значением аргумента order:\n",
    "        request = youtube.search().list(\n",
    "            part=\"snippet\"\n",
    "            , maxResults=50\n",
    "        #     ,q=q\n",
    "            , type=CONTENT_TYPE\n",
    "            , channelId = TARGET_ID\n",
    "            , order=order\n",
    "        )\n",
    "        response = request.execute()\n",
    "\n",
    "        # Для визуализации процесса:\n",
    "        print(f'Итерация №{i}, \"order\" {order}, \"items\" {len(response[\"items\"])}')\n",
    "        i += 1\n",
    "\n",
    "        # Занести собранные данные в итоговую таблицу df_supplemented:\n",
    "        df_additional = pd.json_normalize(response['items'])\n",
    "        df_supplemented = pd.concat([df_additional, df_supplemented])\n",
    "\n",
    "        # Заходы с тем же значением аргумента order на следующие страницы:\n",
    "        while ('nextPageToken' in response.keys())\\\n",
    "        & (len(df_supplemented.drop_duplicates('snippet.description')) < response['pageInfo']['totalResults'])\\\n",
    "        & (len(response[\"items\"]) > 0): # !!!\n",
    "        # второе условие -- для остановки алгоритма, если все искомые объекты найдены\n",
    "        # БЕЗ какой-то из следующих страниц (в т.ч. вообще БЕЗ них)\n",
    "        # третье условие -- для остановки алгоритма, если предыдущая страница выдачи содержит 0 объектов\n",
    "\n",
    "            request = youtube.search().list(\n",
    "                part=\"snippet\"\n",
    "                , maxResults=50\n",
    "            #     ,q=q\n",
    "                , type=CONTENT_TYPE\n",
    "                , channelId = TARGET_ID\n",
    "                , order=order\n",
    "                , pageToken=response['nextPageToken']\n",
    "            )\n",
    "            response = request.execute()\n",
    "\n",
    "            # Для визуализации процесса:\n",
    "            print(f'Итерация №{i}, \"order\" {order}, \"items\" {len(response[\"items\"])}')\n",
    "            i+=1\n",
    "\n",
    "            # Занести собранные данные в итоговую таблицу df_supplemented:\n",
    "            df_additional = pd.json_normalize(response['items'])\n",
    "            df_supplemented = pd.concat([df_supplemented, df_additional])\n",
    "\n",
    "else:\n",
    "    print('Все искомые объекты найдены БЕЗ включения некоторых значений аргумента order (в т.ч. вообще БЕЗ них)')"
   ],
   "metadata": {
    "collapsed": false
   }
  },
  {
   "cell_type": "code",
   "execution_count": 25,
   "outputs": [
    {
     "data": {
      "text/plain": "                    kind                         etag        id.kind  \\\n0   youtube#searchResult  5qk2AqqnhQHhtnSIjszH9fHp5EM  youtube#video   \n1   youtube#searchResult  1tVBZ9KMS7h2GvwkDJcCWnWjbus  youtube#video   \n2   youtube#searchResult  OoxzUDOTArUdRIfHSYRt9c4jttY  youtube#video   \n3   youtube#searchResult  H03C-aiimmJTMVKfMLCHYwtlG4g  youtube#video   \n4   youtube#searchResult  MLWUaTo3mFZyqXDgAAFUIQlUjf8  youtube#video   \n..                   ...                          ...            ...   \n48  youtube#searchResult  sPpGwUomQt3ydyr8JjDLnoy8-P4  youtube#video   \n14  youtube#searchResult  ozeXi7su0Iw3Wucpg7Zw23vQJoE  youtube#video   \n25  youtube#searchResult  C8VcoR70KagQ1MMguIniD-5MO5s  youtube#video   \n24  youtube#searchResult  zEAxwhNB9YeKrt8e0v0kJsSqPas  youtube#video   \n26  youtube#searchResult  SVspRM4UFZfv7dnQK6bEC5ifJZE  youtube#video   \n\n     id.videoId   snippet.publishedAt         snippet.channelId  \\\n0   DWERqf7DdqQ  2017-02-02T05:30:00Z  UCaEh6lSHDzZXju9cfYrmI0g   \n1   BHD_SB04izE  2021-11-14T07:00:04Z  UCaEh6lSHDzZXju9cfYrmI0g   \n2   6G-pOUjeV8E  2021-07-12T04:00:00Z  UCaEh6lSHDzZXju9cfYrmI0g   \n3   wTf3Nu3Q5sA  2021-11-06T07:00:30Z  UCaEh6lSHDzZXju9cfYrmI0g   \n4   cCfnUOkSUB4  2019-12-22T04:00:06Z  UCaEh6lSHDzZXju9cfYrmI0g   \n..          ...                   ...                       ...   \n48  YhkNzKcgEJ8  2018-12-29T04:00:02Z  UCaEh6lSHDzZXju9cfYrmI0g   \n14  HbNWNEbm0Wg  2018-11-29T04:00:02Z  UCaEh6lSHDzZXju9cfYrmI0g   \n25  wwqaYpv4Keg  2018-10-19T04:00:03Z  UCaEh6lSHDzZXju9cfYrmI0g   \n24  3-BAcFN0cmU  2019-03-22T04:00:00Z  UCaEh6lSHDzZXju9cfYrmI0g   \n26  xdIirls52TI  2019-11-16T04:00:07Z  UCaEh6lSHDzZXju9cfYrmI0g   \n\n                                        snippet.title  \\\n0            МАКИЯЖ ДЛЯ НАЧИНАЮЩИХ: ЧТО, ЗАЧЕМ и КАК?   \n1   ЭТО ПОЗОР ЛЮКСА!!! (АД🤬)ВЕНТ КАЛЕНДАРЬ CHANEL ...   \n2     Работает ли ВОЛШЕБНАЯ ЗЕЛЕНАЯ МАСКА из ТИК ТОК?   \n3   НЕРЕАЛЬНЫЕ АДВЕНТ КАЛЕНДАРИ DIOR!!! | DIOR ADV...   \n4   МЫ ДОЖДАЛИСЬ! 😱MAC - ЛУЧШИЙ АДВЕНТ КАЛЕНДАРЬ? ...   \n..                                                ...   \n48  ТАК ЧТО ДАРИТЬ-ТО?! 😱 ГИД ПО ПОДАРКАМ 2019 В С...   \n14  КАК КРАСИТЬСЯ, ЧТОБЫ НЕ БЫЛО СТЫДНО? МАКИЯЖ ДЛ...   \n25                 ГОРЯЧО! 🔥БЮДЖЕТНЫЕ НОВИНКИ CATRICE   \n24  АНТИПОКУПКИ: КРУТЫЕ НОВИНКИ КОСМЕТИКИ, КОТОРЫЕ...   \n26  НОВЕНЬКОЕ и КРУТОЕ с IHERB - ЛЕГКИЙ УХОД ЗА ЛИЦОМ   \n\n                                  snippet.description  \\\n0   Новое видео! МАКИЯЖ ДЛЯ НАЧИНАЮЩИХ: БЮДЖЕТНАЯ ...   \n1   адвент_календарь #chanel #адвент_календарь_шан...   \n2   тик_ток #зеленая_маска #green_mask #зеленая_ма...   \n3   адвент_календарь #dior #адвент_календарь_диор ...   \n4   адвент #адвент_календарь #redautumn #адвент_ма...   \n..                                                ...   \n48  В этом видео я расскажу вам о гиде по новогодн...   \n14  Скидка на пудры L'Oreal на Wildberries - https...   \n25  В этом видео я покажу вам бюджетные новинки от...   \n24  В этом видео я расскажу вам о той косметике, к...   \n26  В этом видео я расскажу вам про новый уход за ...   \n\n                    snippet.thumbnails.default.url  \\\n0   https://i.ytimg.com/vi/DWERqf7DdqQ/default.jpg   \n1   https://i.ytimg.com/vi/BHD_SB04izE/default.jpg   \n2   https://i.ytimg.com/vi/6G-pOUjeV8E/default.jpg   \n3   https://i.ytimg.com/vi/wTf3Nu3Q5sA/default.jpg   \n4   https://i.ytimg.com/vi/cCfnUOkSUB4/default.jpg   \n..                                             ...   \n48  https://i.ytimg.com/vi/YhkNzKcgEJ8/default.jpg   \n14  https://i.ytimg.com/vi/HbNWNEbm0Wg/default.jpg   \n25  https://i.ytimg.com/vi/wwqaYpv4Keg/default.jpg   \n24  https://i.ytimg.com/vi/3-BAcFN0cmU/default.jpg   \n26  https://i.ytimg.com/vi/xdIirls52TI/default.jpg   \n\n    snippet.thumbnails.default.width  snippet.thumbnails.default.height  \\\n0                                120                                 90   \n1                                120                                 90   \n2                                120                                 90   \n3                                120                                 90   \n4                                120                                 90   \n..                               ...                                ...   \n48                               120                                 90   \n14                               120                                 90   \n25                               120                                 90   \n24                               120                                 90   \n26                               120                                 90   \n\n                       snippet.thumbnails.medium.url  \\\n0   https://i.ytimg.com/vi/DWERqf7DdqQ/mqdefault.jpg   \n1   https://i.ytimg.com/vi/BHD_SB04izE/mqdefault.jpg   \n2   https://i.ytimg.com/vi/6G-pOUjeV8E/mqdefault.jpg   \n3   https://i.ytimg.com/vi/wTf3Nu3Q5sA/mqdefault.jpg   \n4   https://i.ytimg.com/vi/cCfnUOkSUB4/mqdefault.jpg   \n..                                               ...   \n48  https://i.ytimg.com/vi/YhkNzKcgEJ8/mqdefault.jpg   \n14  https://i.ytimg.com/vi/HbNWNEbm0Wg/mqdefault.jpg   \n25  https://i.ytimg.com/vi/wwqaYpv4Keg/mqdefault.jpg   \n24  https://i.ytimg.com/vi/3-BAcFN0cmU/mqdefault.jpg   \n26  https://i.ytimg.com/vi/xdIirls52TI/mqdefault.jpg   \n\n    snippet.thumbnails.medium.width  snippet.thumbnails.medium.height  \\\n0                               320                               180   \n1                               320                               180   \n2                               320                               180   \n3                               320                               180   \n4                               320                               180   \n..                              ...                               ...   \n48                              320                               180   \n14                              320                               180   \n25                              320                               180   \n24                              320                               180   \n26                              320                               180   \n\n                         snippet.thumbnails.high.url  \\\n0   https://i.ytimg.com/vi/DWERqf7DdqQ/hqdefault.jpg   \n1   https://i.ytimg.com/vi/BHD_SB04izE/hqdefault.jpg   \n2   https://i.ytimg.com/vi/6G-pOUjeV8E/hqdefault.jpg   \n3   https://i.ytimg.com/vi/wTf3Nu3Q5sA/hqdefault.jpg   \n4   https://i.ytimg.com/vi/cCfnUOkSUB4/hqdefault.jpg   \n..                                               ...   \n48  https://i.ytimg.com/vi/YhkNzKcgEJ8/hqdefault.jpg   \n14  https://i.ytimg.com/vi/HbNWNEbm0Wg/hqdefault.jpg   \n25  https://i.ytimg.com/vi/wwqaYpv4Keg/hqdefault.jpg   \n24  https://i.ytimg.com/vi/3-BAcFN0cmU/hqdefault.jpg   \n26  https://i.ytimg.com/vi/xdIirls52TI/hqdefault.jpg   \n\n    snippet.thumbnails.high.width  snippet.thumbnails.high.height  \\\n0                             480                             360   \n1                             480                             360   \n2                             480                             360   \n3                             480                             360   \n4                             480                             360   \n..                            ...                             ...   \n48                            480                             360   \n14                            480                             360   \n25                            480                             360   \n24                            480                             360   \n26                            480                             360   \n\n   snippet.channelTitle snippet.liveBroadcastContent   snippet.publishTime  \n0             RedAutumn                         none  2017-02-02T05:30:00Z  \n1             RedAutumn                         none  2021-11-14T07:00:04Z  \n2             RedAutumn                         none  2021-07-12T04:00:00Z  \n3             RedAutumn                         none  2021-11-06T07:00:30Z  \n4             RedAutumn                         none  2019-12-22T04:00:06Z  \n..                  ...                          ...                   ...  \n48            RedAutumn                         none  2018-12-29T04:00:02Z  \n14            RedAutumn                         none  2018-11-29T04:00:02Z  \n25            RedAutumn                         none  2018-10-19T04:00:03Z  \n24            RedAutumn                         none  2019-03-22T04:00:00Z  \n26            RedAutumn                         none  2019-11-16T04:00:07Z  \n\n[427 rows x 20 columns]",
      "text/html": "<div>\n<style scoped>\n    .dataframe tbody tr th:only-of-type {\n        vertical-align: middle;\n    }\n\n    .dataframe tbody tr th {\n        vertical-align: top;\n    }\n\n    .dataframe thead th {\n        text-align: right;\n    }\n</style>\n<table border=\"1\" class=\"dataframe\">\n  <thead>\n    <tr style=\"text-align: right;\">\n      <th></th>\n      <th>kind</th>\n      <th>etag</th>\n      <th>id.kind</th>\n      <th>id.videoId</th>\n      <th>snippet.publishedAt</th>\n      <th>snippet.channelId</th>\n      <th>snippet.title</th>\n      <th>snippet.description</th>\n      <th>snippet.thumbnails.default.url</th>\n      <th>snippet.thumbnails.default.width</th>\n      <th>snippet.thumbnails.default.height</th>\n      <th>snippet.thumbnails.medium.url</th>\n      <th>snippet.thumbnails.medium.width</th>\n      <th>snippet.thumbnails.medium.height</th>\n      <th>snippet.thumbnails.high.url</th>\n      <th>snippet.thumbnails.high.width</th>\n      <th>snippet.thumbnails.high.height</th>\n      <th>snippet.channelTitle</th>\n      <th>snippet.liveBroadcastContent</th>\n      <th>snippet.publishTime</th>\n    </tr>\n  </thead>\n  <tbody>\n    <tr>\n      <th>0</th>\n      <td>youtube#searchResult</td>\n      <td>5qk2AqqnhQHhtnSIjszH9fHp5EM</td>\n      <td>youtube#video</td>\n      <td>DWERqf7DdqQ</td>\n      <td>2017-02-02T05:30:00Z</td>\n      <td>UCaEh6lSHDzZXju9cfYrmI0g</td>\n      <td>МАКИЯЖ ДЛЯ НАЧИНАЮЩИХ: ЧТО, ЗАЧЕМ и КАК?</td>\n      <td>Новое видео! МАКИЯЖ ДЛЯ НАЧИНАЮЩИХ: БЮДЖЕТНАЯ ...</td>\n      <td>https://i.ytimg.com/vi/DWERqf7DdqQ/default.jpg</td>\n      <td>120</td>\n      <td>90</td>\n      <td>https://i.ytimg.com/vi/DWERqf7DdqQ/mqdefault.jpg</td>\n      <td>320</td>\n      <td>180</td>\n      <td>https://i.ytimg.com/vi/DWERqf7DdqQ/hqdefault.jpg</td>\n      <td>480</td>\n      <td>360</td>\n      <td>RedAutumn</td>\n      <td>none</td>\n      <td>2017-02-02T05:30:00Z</td>\n    </tr>\n    <tr>\n      <th>1</th>\n      <td>youtube#searchResult</td>\n      <td>1tVBZ9KMS7h2GvwkDJcCWnWjbus</td>\n      <td>youtube#video</td>\n      <td>BHD_SB04izE</td>\n      <td>2021-11-14T07:00:04Z</td>\n      <td>UCaEh6lSHDzZXju9cfYrmI0g</td>\n      <td>ЭТО ПОЗОР ЛЮКСА!!! (АД🤬)ВЕНТ КАЛЕНДАРЬ CHANEL ...</td>\n      <td>адвент_календарь #chanel #адвент_календарь_шан...</td>\n      <td>https://i.ytimg.com/vi/BHD_SB04izE/default.jpg</td>\n      <td>120</td>\n      <td>90</td>\n      <td>https://i.ytimg.com/vi/BHD_SB04izE/mqdefault.jpg</td>\n      <td>320</td>\n      <td>180</td>\n      <td>https://i.ytimg.com/vi/BHD_SB04izE/hqdefault.jpg</td>\n      <td>480</td>\n      <td>360</td>\n      <td>RedAutumn</td>\n      <td>none</td>\n      <td>2021-11-14T07:00:04Z</td>\n    </tr>\n    <tr>\n      <th>2</th>\n      <td>youtube#searchResult</td>\n      <td>OoxzUDOTArUdRIfHSYRt9c4jttY</td>\n      <td>youtube#video</td>\n      <td>6G-pOUjeV8E</td>\n      <td>2021-07-12T04:00:00Z</td>\n      <td>UCaEh6lSHDzZXju9cfYrmI0g</td>\n      <td>Работает ли ВОЛШЕБНАЯ ЗЕЛЕНАЯ МАСКА из ТИК ТОК?</td>\n      <td>тик_ток #зеленая_маска #green_mask #зеленая_ма...</td>\n      <td>https://i.ytimg.com/vi/6G-pOUjeV8E/default.jpg</td>\n      <td>120</td>\n      <td>90</td>\n      <td>https://i.ytimg.com/vi/6G-pOUjeV8E/mqdefault.jpg</td>\n      <td>320</td>\n      <td>180</td>\n      <td>https://i.ytimg.com/vi/6G-pOUjeV8E/hqdefault.jpg</td>\n      <td>480</td>\n      <td>360</td>\n      <td>RedAutumn</td>\n      <td>none</td>\n      <td>2021-07-12T04:00:00Z</td>\n    </tr>\n    <tr>\n      <th>3</th>\n      <td>youtube#searchResult</td>\n      <td>H03C-aiimmJTMVKfMLCHYwtlG4g</td>\n      <td>youtube#video</td>\n      <td>wTf3Nu3Q5sA</td>\n      <td>2021-11-06T07:00:30Z</td>\n      <td>UCaEh6lSHDzZXju9cfYrmI0g</td>\n      <td>НЕРЕАЛЬНЫЕ АДВЕНТ КАЛЕНДАРИ DIOR!!! | DIOR ADV...</td>\n      <td>адвент_календарь #dior #адвент_календарь_диор ...</td>\n      <td>https://i.ytimg.com/vi/wTf3Nu3Q5sA/default.jpg</td>\n      <td>120</td>\n      <td>90</td>\n      <td>https://i.ytimg.com/vi/wTf3Nu3Q5sA/mqdefault.jpg</td>\n      <td>320</td>\n      <td>180</td>\n      <td>https://i.ytimg.com/vi/wTf3Nu3Q5sA/hqdefault.jpg</td>\n      <td>480</td>\n      <td>360</td>\n      <td>RedAutumn</td>\n      <td>none</td>\n      <td>2021-11-06T07:00:30Z</td>\n    </tr>\n    <tr>\n      <th>4</th>\n      <td>youtube#searchResult</td>\n      <td>MLWUaTo3mFZyqXDgAAFUIQlUjf8</td>\n      <td>youtube#video</td>\n      <td>cCfnUOkSUB4</td>\n      <td>2019-12-22T04:00:06Z</td>\n      <td>UCaEh6lSHDzZXju9cfYrmI0g</td>\n      <td>МЫ ДОЖДАЛИСЬ! 😱MAC - ЛУЧШИЙ АДВЕНТ КАЛЕНДАРЬ? ...</td>\n      <td>адвент #адвент_календарь #redautumn #адвент_ма...</td>\n      <td>https://i.ytimg.com/vi/cCfnUOkSUB4/default.jpg</td>\n      <td>120</td>\n      <td>90</td>\n      <td>https://i.ytimg.com/vi/cCfnUOkSUB4/mqdefault.jpg</td>\n      <td>320</td>\n      <td>180</td>\n      <td>https://i.ytimg.com/vi/cCfnUOkSUB4/hqdefault.jpg</td>\n      <td>480</td>\n      <td>360</td>\n      <td>RedAutumn</td>\n      <td>none</td>\n      <td>2019-12-22T04:00:06Z</td>\n    </tr>\n    <tr>\n      <th>...</th>\n      <td>...</td>\n      <td>...</td>\n      <td>...</td>\n      <td>...</td>\n      <td>...</td>\n      <td>...</td>\n      <td>...</td>\n      <td>...</td>\n      <td>...</td>\n      <td>...</td>\n      <td>...</td>\n      <td>...</td>\n      <td>...</td>\n      <td>...</td>\n      <td>...</td>\n      <td>...</td>\n      <td>...</td>\n      <td>...</td>\n      <td>...</td>\n      <td>...</td>\n    </tr>\n    <tr>\n      <th>48</th>\n      <td>youtube#searchResult</td>\n      <td>sPpGwUomQt3ydyr8JjDLnoy8-P4</td>\n      <td>youtube#video</td>\n      <td>YhkNzKcgEJ8</td>\n      <td>2018-12-29T04:00:02Z</td>\n      <td>UCaEh6lSHDzZXju9cfYrmI0g</td>\n      <td>ТАК ЧТО ДАРИТЬ-ТО?! 😱 ГИД ПО ПОДАРКАМ 2019 В С...</td>\n      <td>В этом видео я расскажу вам о гиде по новогодн...</td>\n      <td>https://i.ytimg.com/vi/YhkNzKcgEJ8/default.jpg</td>\n      <td>120</td>\n      <td>90</td>\n      <td>https://i.ytimg.com/vi/YhkNzKcgEJ8/mqdefault.jpg</td>\n      <td>320</td>\n      <td>180</td>\n      <td>https://i.ytimg.com/vi/YhkNzKcgEJ8/hqdefault.jpg</td>\n      <td>480</td>\n      <td>360</td>\n      <td>RedAutumn</td>\n      <td>none</td>\n      <td>2018-12-29T04:00:02Z</td>\n    </tr>\n    <tr>\n      <th>14</th>\n      <td>youtube#searchResult</td>\n      <td>ozeXi7su0Iw3Wucpg7Zw23vQJoE</td>\n      <td>youtube#video</td>\n      <td>HbNWNEbm0Wg</td>\n      <td>2018-11-29T04:00:02Z</td>\n      <td>UCaEh6lSHDzZXju9cfYrmI0g</td>\n      <td>КАК КРАСИТЬСЯ, ЧТОБЫ НЕ БЫЛО СТЫДНО? МАКИЯЖ ДЛ...</td>\n      <td>Скидка на пудры L'Oreal на Wildberries - https...</td>\n      <td>https://i.ytimg.com/vi/HbNWNEbm0Wg/default.jpg</td>\n      <td>120</td>\n      <td>90</td>\n      <td>https://i.ytimg.com/vi/HbNWNEbm0Wg/mqdefault.jpg</td>\n      <td>320</td>\n      <td>180</td>\n      <td>https://i.ytimg.com/vi/HbNWNEbm0Wg/hqdefault.jpg</td>\n      <td>480</td>\n      <td>360</td>\n      <td>RedAutumn</td>\n      <td>none</td>\n      <td>2018-11-29T04:00:02Z</td>\n    </tr>\n    <tr>\n      <th>25</th>\n      <td>youtube#searchResult</td>\n      <td>C8VcoR70KagQ1MMguIniD-5MO5s</td>\n      <td>youtube#video</td>\n      <td>wwqaYpv4Keg</td>\n      <td>2018-10-19T04:00:03Z</td>\n      <td>UCaEh6lSHDzZXju9cfYrmI0g</td>\n      <td>ГОРЯЧО! 🔥БЮДЖЕТНЫЕ НОВИНКИ CATRICE</td>\n      <td>В этом видео я покажу вам бюджетные новинки от...</td>\n      <td>https://i.ytimg.com/vi/wwqaYpv4Keg/default.jpg</td>\n      <td>120</td>\n      <td>90</td>\n      <td>https://i.ytimg.com/vi/wwqaYpv4Keg/mqdefault.jpg</td>\n      <td>320</td>\n      <td>180</td>\n      <td>https://i.ytimg.com/vi/wwqaYpv4Keg/hqdefault.jpg</td>\n      <td>480</td>\n      <td>360</td>\n      <td>RedAutumn</td>\n      <td>none</td>\n      <td>2018-10-19T04:00:03Z</td>\n    </tr>\n    <tr>\n      <th>24</th>\n      <td>youtube#searchResult</td>\n      <td>zEAxwhNB9YeKrt8e0v0kJsSqPas</td>\n      <td>youtube#video</td>\n      <td>3-BAcFN0cmU</td>\n      <td>2019-03-22T04:00:00Z</td>\n      <td>UCaEh6lSHDzZXju9cfYrmI0g</td>\n      <td>АНТИПОКУПКИ: КРУТЫЕ НОВИНКИ КОСМЕТИКИ, КОТОРЫЕ...</td>\n      <td>В этом видео я расскажу вам о той косметике, к...</td>\n      <td>https://i.ytimg.com/vi/3-BAcFN0cmU/default.jpg</td>\n      <td>120</td>\n      <td>90</td>\n      <td>https://i.ytimg.com/vi/3-BAcFN0cmU/mqdefault.jpg</td>\n      <td>320</td>\n      <td>180</td>\n      <td>https://i.ytimg.com/vi/3-BAcFN0cmU/hqdefault.jpg</td>\n      <td>480</td>\n      <td>360</td>\n      <td>RedAutumn</td>\n      <td>none</td>\n      <td>2019-03-22T04:00:00Z</td>\n    </tr>\n    <tr>\n      <th>26</th>\n      <td>youtube#searchResult</td>\n      <td>SVspRM4UFZfv7dnQK6bEC5ifJZE</td>\n      <td>youtube#video</td>\n      <td>xdIirls52TI</td>\n      <td>2019-11-16T04:00:07Z</td>\n      <td>UCaEh6lSHDzZXju9cfYrmI0g</td>\n      <td>НОВЕНЬКОЕ и КРУТОЕ с IHERB - ЛЕГКИЙ УХОД ЗА ЛИЦОМ</td>\n      <td>В этом видео я расскажу вам про новый уход за ...</td>\n      <td>https://i.ytimg.com/vi/xdIirls52TI/default.jpg</td>\n      <td>120</td>\n      <td>90</td>\n      <td>https://i.ytimg.com/vi/xdIirls52TI/mqdefault.jpg</td>\n      <td>320</td>\n      <td>180</td>\n      <td>https://i.ytimg.com/vi/xdIirls52TI/hqdefault.jpg</td>\n      <td>480</td>\n      <td>360</td>\n      <td>RedAutumn</td>\n      <td>none</td>\n      <td>2019-11-16T04:00:07Z</td>\n    </tr>\n  </tbody>\n</table>\n<p>427 rows × 20 columns</p>\n</div>"
     },
     "execution_count": 25,
     "metadata": {},
     "output_type": "execute_result"
    }
   ],
   "source": [
    "# 12\n",
    "df_supplemented = df_supplemented.drop_duplicates('snippet.description')\n",
    "df_supplemented"
   ],
   "metadata": {
    "collapsed": false
   }
  },
  {
   "cell_type": "code",
   "execution_count": 26,
   "outputs": [
    {
     "data": {
      "text/plain": "['DWERqf7DdqQ',\n 'BHD_SB04izE',\n '6G-pOUjeV8E',\n 'wTf3Nu3Q5sA',\n 'cCfnUOkSUB4',\n 'DCk5YkaX8uU',\n 'bXD518tCy0k',\n 'qqItDCDLDbk',\n 'kvBI84RLhZU',\n 'Hrh57HILRIQ',\n 'QbACOmOaRUw',\n 'TE3PY43WcRg',\n 'wY5oNjVN5tI',\n '0PeLvdFrb6c',\n 'tIJRcnqlhW8',\n 'j6U67ZdSStw',\n 'k-2tk-HBhqU',\n 'Ut4bs712gsI',\n 'LluMqTfw_i0',\n 'LwUl3FR3bZM',\n 'bZPIk78nx-8',\n 'bGWke49V1ZI',\n 'T-etDi9Qlb0',\n 'efkf_C41mOc',\n 'RKi-c8BYGsw',\n 'VGJlQ1FJje4',\n '0Y7kwCA47i0',\n 'Okq-6FEdPj0',\n '2u78UJ4VvYY',\n 'jhaBRS5V9Kc',\n 'Xn_cl9bhmqg',\n 'Fl4Ah6oxltQ',\n 'Ytew78-7q5o',\n 'R-Di5YpHvW4',\n '0okpTBNvnzk',\n '2O48egkHoUE',\n '2PNuRDhNt8w',\n 'FSyXRWmpvBE',\n 'CJ6ynCJrWOo',\n 'O-ALzYrdluo',\n 'Kpx0CHuhenw',\n 'bOWsp5V-KJs',\n '9RpNNJht7i0',\n 'sqwW3CR99s0',\n '7eTNmtQj6VU',\n '8qxsIlg8s08',\n 'JigCnhI1CjE',\n 'ZdPWYo5hm3E',\n '-LO4zybhqZw',\n 'AuughuJKvdI',\n 'K_ND2ICXCSM',\n 'PZ_81aZViPk',\n 'xG3C3SFIjO8',\n 'tmDwp-qOTM0',\n 'StS_ZmsDHIQ',\n 'KDgEi79NQBU',\n 'q7vcBu-ih5c',\n 'LqEffqSmNEI',\n 'lwBP-s9Bj5c',\n 'T4N-cMfZHGs',\n 'WpjfX8mrgZ8',\n '7mwQeCj8z5I',\n 'cGdwAbtrhkw',\n 'Gqs2SJ4AdNY',\n 'ZHvBoonLycw',\n 'ZqOKEG_J5dg',\n 'jyEai21Avhw',\n 'Y09HSMOJ9gw',\n '2eenAtgMO68',\n '1wVfCl79cLU',\n 'IjmPcdvdyLo',\n '3sfMlmP2k_Q',\n 'dxDjSRgnST0',\n '81QC1Y2tjsg',\n 'R1lUuMk3g8U',\n 'l5aH7KsfyMM',\n 'wbEs1_DJmKU',\n 'pEYjgYRJl8A',\n '0MOG3LJ12I0',\n 'hLMOAl7Ulkk',\n 'GWwJjnKP5oo',\n '0Vmo1RtUFrk',\n 'rw9s_DKImxk',\n 'htiazkU7X8c',\n 'OusMI0DMH4E',\n 'iX6F3hr5_0U',\n 'bA8QhWpcvrc',\n 'YGI7XhqAzMA',\n 'QRPf3X27gB8',\n '1IcVdnyWLjk',\n 'wm0McjSWS1I',\n 'cKKoJi0NsW4',\n 'dgKawapMQoo',\n 'K1IN12H0GGY',\n 'FOJHZ3bOCpU',\n '8bT1v2Ecgyg',\n '5c7tMt6cgpY',\n 'o-jGf2zLoT4',\n 'tmkiSoPWdUc',\n 'VHFcpwSqPfM',\n 'WHRqST_DqkM',\n 'f-8OPlRexdk',\n '_X3OAWsVSVM',\n '5Ngb053Lsuk',\n 'qaSFpYiFRBg',\n 'XCIFYuzGFsI',\n '6Opj0m1uB_w',\n 'jiz2G6sduOs',\n 'eAFi32xvNBU',\n 'sXY90LPEIPk',\n 'ZvGIOh7Cz3M',\n '1U7AipfOXg4',\n 'a3mBe4MJsts',\n 'tu8jDiHF-9c',\n 'Zi58Nvl1R9E',\n 'fYHHBItI51Q',\n 'z1v_IIhVsno',\n 'Dgt4DK5FfE0',\n 'lPPaDs6pPZ0',\n 'kZfmKm99DzM',\n 'EGpX71HMUWc',\n '1SMdwOg5Q_Y',\n 'MqrayO1cdeg',\n '24bzb43qP_Y',\n 'gbqb_4Upzzg',\n 'kDeAxbGdJyY',\n 'xqh-XWjfp-Q',\n 'yBXe7OTxAKM',\n '_qH04VFK_8U',\n '3obz9lLXThY',\n 'gsd8uUMcQqo',\n 'NBDwvRpZ-Rw',\n 'jkb5j2R9Dyg',\n 'xJRaWS5-xGA',\n '6-OJQm3tx5U',\n '06EdR9BtLhY',\n 'RofXkgHRkao',\n 'DWZMqLzMG6Q',\n 'nI77TKQWsMI',\n '-FVSjk_cA8g',\n 'AHtkszyrr9I',\n '8D1Io8cJKbI',\n 'YE9OcRvcrJo',\n 'nQYxnh5YpsI',\n 's8gDuzX1UrE',\n 'ak_vUblRNi4',\n 'FTaVRlRFZ_U',\n 'QodfyZ6UEc8',\n 'zKzw9bfICXQ',\n 'T7qn2zSsV1Y',\n 'BjKmQm_-ZUM',\n 'SwkQSE5eyj8',\n '90CfRNOnoxQ',\n 'TPk8zPgwTu4',\n 'V8IhalJcdF0',\n 'bTy-prTq2EA',\n '0iAJHXQi72M',\n '187YTyB4OI4',\n 'H5J4aIJw0w0',\n 'T4B1YvCCZvQ',\n 'zYB5jzAX200',\n 'qiLFQ-q-Xb0',\n 'PVFaOt-P0_o',\n 'Am5JMZnfymA',\n 'rUUlSnKzMPo',\n 'q3lrOcNMhZc',\n 'UPPcsF28_u4',\n 'FRkyDoaAUqo',\n 'nW6nUmBB1_g',\n 'JkLEY-114Wk',\n 'FFtvPIh0Qqg',\n 'SB-1fLLauFo',\n 'DJWDORleWC8',\n '4-GcfFOThAs',\n 'BWvJOHryzcI',\n 'LoyfgyTUspM',\n 'eEPfKfsI6JU',\n '7JqHBgOTJRc',\n 'Uc4LLsKZ8Fk',\n '_bnSJsP73So',\n '1704P9csxd8',\n 'xoVka7VypXQ',\n 'TII6O6yl9Yg',\n 'dg0OVA8cwmw',\n '7glyubGJSbI',\n 'bLiozkMtqFI',\n '9fceZmk-9XE',\n '6EyCUD52KkA',\n 'zWgMbB6Qlb0',\n 'DvAeXKSXZ2w',\n '1TDm9cojuVQ',\n 'Z7ERAyfBQGw',\n 'NEIX3gmaJAM',\n 'p4fhPBzXtSs',\n 'lSlQ0PFKTbk',\n 'ZyGgce7kyPs',\n 'f3Xk1zdo6Zg',\n 'J3giFe91HAs',\n '0g-xkH7XRys',\n 'rtjg3f-pYpU',\n 'qu0yQYrC9Nk',\n 'KJIreXSTyLI',\n 'HOqutxeBnyY',\n 'c403BF_bWvM',\n 'cUxI6hz1JDU',\n 'HO4_ly6N-yk',\n 'ZKSD29UW23c',\n 'CtglkaArWWk',\n 'qEJKkQbsDwI',\n 'Ukxvon-dbWY',\n 'IEyPxzXbG8Q',\n 'LCMIjZ-H1s8',\n 'p7IytHcGKMA',\n 'OOuxDF9CKsg',\n 'Hwta833MP1g',\n 'EAsuZ0XUmRg',\n '2SVkp8S-YYU',\n '2YiLpnyJsTI',\n '-nb2BIFShUU',\n '-kw1AW3LcvU',\n 'MgBNk97EDa4',\n 'zXei1jibNW0',\n '9qgmbytUeRI',\n 'xWTGSF-uGzI',\n 'oCt4P5qImIs',\n 'h3_ro0EbJio',\n 'qJV-HLFyIEg',\n 'ja23uAQX3_A',\n 'ziBZ2_7dd8w',\n 'FldRVh5n1RM',\n 'F073KYsqZAo',\n 'CLUVv4eWq7g',\n 'JqRLl-ZG4vQ',\n '1nIxERHBTDg',\n 'wP0M4vMcbVg',\n 'gkvVXrZwj7Y',\n 'fc3OwuUS7SY',\n 'AaGgcEnU9H4',\n 'vJZ2rxTF_jg',\n '_RnoFV1PfXU',\n '3WowETfum_s',\n 'FNeiZaSkHSc',\n 'fqSyZrBhl_w',\n 'WX0DNCn334Q',\n 'fzzt27SvAug',\n 'Pp58irPuL24',\n 'gwgyc3_1fWw',\n 'YjYBSXGKo1o',\n 'yfs94arsSV8',\n 'E8xibubq9MY',\n 'Cbuc3PMDGts',\n 'fNpPLXi1wa4',\n '2Nfl_VXoIqg',\n 'W-5sDvvPFZE',\n 'TaO0fQvNGxw',\n 'oskvUWez8UU',\n 'ac4rZFgiF80',\n '4OOuqKxyJpM',\n 'YHJvFf1HZtw',\n 'HVCsYtQeOEM',\n 'KuifEEUEdp4',\n '5jIBgfNSPyw',\n 'kVWRhlb2ZQY',\n 'QEeM5CuPPsM',\n 'R5PtjrJcqAs',\n '71hUYtmwJEM',\n 'V7zF-0HYXig',\n '67UNDVgbjMY',\n 'QyVSEwc7irg',\n 'pTGdFJGprP0',\n 'rsqDOlXHIHk',\n '-5SvlX7AHtE',\n 'gZ1-JINX6AE',\n 'aA6sRw2avoM',\n 'aJlU7_kYUT4',\n 'q5NYntiSdi0',\n 'GmO8fWrb1ys',\n 'LmZLi5JEYoE',\n 'Bre7JkxtX54',\n 'r9jQDx2nX3U',\n '3ZX0eamY0mo',\n 'eZHUdr5ik2c',\n '1BWFu0mNoU8',\n 'IFttycyJ7MA',\n 'B1FqsgZ0Amc',\n 'SBeVbN70Hss',\n 'UGh5AGnQAY8',\n 'Rba_MWLPuag',\n 'at8b99g4rpc',\n '1iG3aOW6fcA',\n 'C-wK5hRwE_A',\n 'mznTDnqfdDw',\n '4U7xRK_ZG_s',\n 'RQW-1JQ2ahM',\n 's-QQGJWHezw',\n '_2sVizzPgc8',\n 'GTPStD0ZlMs',\n 'FbkMCjJpH9Q',\n '8qv1CyNKpT4',\n 'PVvxbkFBZYo',\n 'IAAyzND5PbQ',\n 'N5mjteKZGdY',\n 'wav9CU7IpX8',\n 'uVqkRzdWYIE',\n 'T3o9pWwRvXs',\n 'Yjw0u1bw9B8',\n 'HJfg6tqXPdo',\n 'DdEQki2oT1I',\n 'WtmO0QH7A2M',\n 'tk4BCys2iro',\n '3SxRkDdMK28',\n 'oJ3ycnihRh0',\n 'o_ZE86wunjk',\n 'dlmpsaTtx8Y',\n '_q9m-nC20j0',\n 'bwXDZXpekXk',\n 'g_t0F-PyA7w',\n 'Blex5Nf5-EI',\n 'z-EXxvu_dd0',\n 'Q4Zf6EPg4gE',\n 'RUtcDKOa_hs',\n 'Uikp6Ztm25o',\n 'G3cCcwEnUNk',\n 'Kz0WO2jS3Js',\n 'bEOXnpQ8kfE',\n 'CE2UTuUuR7Y',\n 'J-hik6V-Fj0',\n 'nwmqtJakR3k',\n 'S4ya6r4vIK8',\n 'obHCb-IF6QE',\n 'wTdsQGBsw3g',\n 'UYkbN8pm9C0',\n '4tq0bBr0hBo',\n 'W2zaDDcljb0',\n 'A7wOlN3lexU',\n 'h0s1ZjEMT_c',\n 'Ul8Em_fETJM',\n 'SzEUlOe0gkU',\n 'zyz4jXcbKS8',\n 'VFDwuk1HxB0',\n 'r1P9v2dmMS8',\n 'LX1N2iJwFqA',\n 'DWCeoHQ4NG4',\n 'ggvXUw6SdRE',\n 'bgh1x2KWIpU',\n 'L-LYcVJoIlE',\n '3cNd3OY9hmU',\n 'tamoDt7SeIk',\n 'JF6fTiZ-DFg',\n 'mbG_2LUjyQI',\n 'TcR2Ti2Utuk',\n 'KZPVstVeYUo',\n 'IawVzQn2mIc',\n '0v2U5A-jw9o',\n 'O_DWaZnB8nk',\n 'JYI2MHu35NI',\n 'XgjP4I6_0zc',\n '6WOt24sI1Jc',\n 'CqpSY1f1bUI',\n 'jFpBvSfGmsY',\n 'giHb8qbw-UU',\n 'F1KRPcf904U',\n 'noim7ezkAhE',\n '5zH4zLjbteg',\n 'njEC0WNavDw',\n 'UI0NeEVV1i8',\n 'PrOtkZ9-Qss',\n '6A5luugKPws',\n 'Ij1QWFRq-DA',\n 'cYq6hozKAaQ',\n '9h2Fo5WaWt8',\n 'w8AgJifUn78',\n 'XbQhSUghsKQ',\n 'RrS-xTIcKbI',\n '0cXGdapRjA8',\n 'w6GiiKFAMHg',\n 'F1jjxc_0h7w',\n '92-qzAWxw_w',\n 'XSH0QRSLTj0',\n 'ngEHfxlXuHI',\n 'n2yNkl1QxtA',\n 'LQloWqlC3yU',\n 'kwIzf_xdDPs',\n '2Vbxo7eegmQ',\n 'BUZRzGW38a8',\n 'dqeNiUGzKPU',\n 'ZcpI9XftZLg',\n 'jratY0yCSAc',\n 'ggnEozgLH1A',\n 'W_s_QMdj9mc',\n 'y3vLyn6sZ50',\n 'r3HD5gMh1as',\n 'boWN33-DT08',\n 'wgJAzm2O1AQ',\n 'noeo0Y3snGA',\n 'j39t31siTm0',\n 'HOT-Uoa61s4',\n 'zGdgae-xEFI',\n '1cY17Ho33ec',\n 'mDZ04qsFujg',\n 'TLE2Lnci4pU',\n 'bRfRigC9BrU',\n 'Ly5Y2gIHx64',\n 'lmOCX0HZKBo',\n '_viOUBe5XZE',\n 'L2bjma4oTSw',\n 'EUyxm5fnqR0',\n 'p2txW8uWejo',\n 'HH-Of0KSwMc',\n 'xAF3V6tOYCg',\n 'aA8uvypcOfk',\n 'myFsAyR9S2I',\n 'dluftoxk5a8',\n 'XAuh2ibRtr0',\n '_VTjBP7goec',\n 'CEl-v-0PRTk',\n 'lRYiSvlLc5Q',\n 'b0HE3PbZqZg',\n 'PquOeigRNso',\n 'V3gceUt9l1U',\n 'dR6IcXFfqwM',\n '6Qn8Nwux5qk',\n 'YhkNzKcgEJ8',\n 'HbNWNEbm0Wg',\n 'wwqaYpv4Keg',\n '3-BAcFN0cmU',\n 'xdIirls52TI']"
     },
     "execution_count": 26,
     "metadata": {},
     "output_type": "execute_result"
    }
   ],
   "source": [
    "# 13 Взять из таблицы с найденными ранее видео их id (как в предыдущем чанке)\n",
    "videoId_list = df_supplemented[f'id.{CONTENT_TYPE}Id'].to_list()\n",
    "videoId_list"
   ],
   "metadata": {
    "collapsed": false
   }
  },
  {
   "cell_type": "code",
   "execution_count": 27,
   "outputs": [
    {
     "name": "stdout",
     "output_type": "stream",
     "text": [
      "До удаления дубликатов id в списке было 427 элементов,\n",
      "после удаления -- 427 элементов\n"
     ]
    }
   ],
   "source": [
    "# 14\n",
    "print(f'До удаления дубликатов id в списке было {len(videoId_list)} элементов,',\\\n",
    "      f'после удаления -- {len(list(dict.fromkeys(videoId_list)))} элементов',\n",
    "      sep='\\n')\n",
    "videoId_list = list(dict.fromkeys(videoId_list))"
   ],
   "metadata": {
    "collapsed": false
   }
  },
  {
   "cell_type": "code",
   "execution_count": 28,
   "outputs": [
    {
     "name": "stdout",
     "output_type": "stream",
     "text": [
      "Итерация №0\n",
      "Итерация №50\n",
      "Итерация №100\n",
      "Итерация №150\n",
      "Итерация №200\n",
      "Итерация №250\n",
      "Итерация №300\n",
      "Итерация №350\n",
      "Итерация №400\n"
     ]
    }
   ],
   "source": [
    "# 15 Цикл для прохода по всем порциям по 50 объектов\n",
    "df_supplemented = pd.DataFrame()\n",
    "for i in range(0, len(videoId_list), 50):\n",
    "    request = youtube.videos().list(\n",
    "        part=[\"snippet\",\n",
    "              \"contentDetails\",\n",
    "              \"localizations\",\n",
    "              \"statistics\",\n",
    "              \"status\",\n",
    "              \"topicDetails\"],\n",
    "        id=videoId_list[i:i + 50],\n",
    "        maxResults=50\n",
    "    )\n",
    "    response = request.execute()\n",
    "\n",
    "    print(f'Итерация №{i}')\n",
    "\n",
    "    df_additional = pd.json_normalize(response['items'])\n",
    "    df_supplemented = pd.concat([df_supplemented, df_additional]) # соединить две таблицы"
   ],
   "metadata": {
    "collapsed": false
   }
  },
  {
   "cell_type": "code",
   "execution_count": 29,
   "outputs": [
    {
     "data": {
      "text/plain": "              kind                         etag           id  \\\n1    youtube#video  tLftXEDLmRbEvz2SzulwaRRdycs  DWERqf7DdqQ   \n2    youtube#video  ZxpoBb8SZGTRI7PbhQ_p-2JLpOY  BHD_SB04izE   \n3    youtube#video  Me4oVZYgI0Gmv4bGXUYScze_AeU  6G-pOUjeV8E   \n4    youtube#video  GTOI01rZHpi_tjNpURuitEnxTBQ  wTf3Nu3Q5sA   \n5    youtube#video  Qnmow1YaXHw62JBCeaWvI2bdTcU  cCfnUOkSUB4   \n..             ...                          ...          ...   \n423  youtube#video  6hglPsl-DogbL8cg_mbeTR8wGV0  YhkNzKcgEJ8   \n424  youtube#video  QlM2oG-R1201pZ7Fi7E0e_DA1zU  HbNWNEbm0Wg   \n425  youtube#video  CUFWq1kyUjxbLgizB92nc7IwW-c  wwqaYpv4Keg   \n426  youtube#video  eWzyXIaUb51GuAPAZhGUTVH-qyE  3-BAcFN0cmU   \n427  youtube#video  rpSsXbN5FkYVjr2AAK9ZKvI9A5U  xdIirls52TI   \n\n      snippet.publishedAt         snippet.channelId  \\\n1    2017-02-02T05:30:00Z  UCaEh6lSHDzZXju9cfYrmI0g   \n2    2021-11-14T07:00:04Z  UCaEh6lSHDzZXju9cfYrmI0g   \n3    2021-07-12T04:00:00Z  UCaEh6lSHDzZXju9cfYrmI0g   \n4    2021-11-06T07:00:30Z  UCaEh6lSHDzZXju9cfYrmI0g   \n5    2019-12-22T04:00:06Z  UCaEh6lSHDzZXju9cfYrmI0g   \n..                    ...                       ...   \n423  2018-12-29T04:00:02Z  UCaEh6lSHDzZXju9cfYrmI0g   \n424  2018-11-29T04:00:02Z  UCaEh6lSHDzZXju9cfYrmI0g   \n425  2018-10-19T04:00:03Z  UCaEh6lSHDzZXju9cfYrmI0g   \n426  2019-03-22T04:00:00Z  UCaEh6lSHDzZXju9cfYrmI0g   \n427  2019-11-16T04:00:07Z  UCaEh6lSHDzZXju9cfYrmI0g   \n\n                                         snippet.title  \\\n1             МАКИЯЖ ДЛЯ НАЧИНАЮЩИХ: ЧТО, ЗАЧЕМ и КАК?   \n2    ЭТО ПОЗОР ЛЮКСА!!! (АД🤬)ВЕНТ КАЛЕНДАРЬ CHANEL ...   \n3      Работает ли ВОЛШЕБНАЯ ЗЕЛЕНАЯ МАСКА из ТИК ТОК?   \n4    НЕРЕАЛЬНЫЕ АДВЕНТ КАЛЕНДАРИ DIOR!!! | DIOR ADV...   \n5    МЫ ДОЖДАЛИСЬ! 😱MAC - ЛУЧШИЙ АДВЕНТ КАЛЕНДАРЬ? ...   \n..                                                 ...   \n423  ТАК ЧТО ДАРИТЬ-ТО?! 😱 ГИД ПО ПОДАРКАМ 2019 В С...   \n424  КАК КРАСИТЬСЯ, ЧТОБЫ НЕ БЫЛО СТЫДНО? МАКИЯЖ ДЛ...   \n425                 ГОРЯЧО! 🔥БЮДЖЕТНЫЕ НОВИНКИ CATRICE   \n426  АНТИПОКУПКИ: КРУТЫЕ НОВИНКИ КОСМЕТИКИ, КОТОРЫЕ...   \n427  НОВЕНЬКОЕ и КРУТОЕ с IHERB - ЛЕГКИЙ УХОД ЗА ЛИЦОМ   \n\n                                   snippet.description  \\\n1    Новое видео! МАКИЯЖ ДЛЯ НАЧИНАЮЩИХ: БЮДЖЕТНАЯ ...   \n2    #адвент_календарь #chanel #адвент_календарь_ша...   \n3    #тик_ток #зеленая_маска #green_mask #зеленая_м...   \n4    #адвент_календарь #dior #адвент_календарь_диор...   \n5    #адвент #адвент_календарь #redautumn #адвент_м...   \n..                                                 ...   \n423  В этом видео я расскажу вам о гиде по новогодн...   \n424  Скидка на пудры L’Oreal на Wildberries - https...   \n425  В этом видео я покажу вам бюджетные новинки от...   \n426  В этом видео я расскажу вам о той косметике, к...   \n427  В этом видео я расскажу вам про новый уход за ...   \n\n                     snippet.thumbnails.default.url  \\\n1    https://i.ytimg.com/vi/DWERqf7DdqQ/default.jpg   \n2    https://i.ytimg.com/vi/BHD_SB04izE/default.jpg   \n3    https://i.ytimg.com/vi/6G-pOUjeV8E/default.jpg   \n4    https://i.ytimg.com/vi/wTf3Nu3Q5sA/default.jpg   \n5    https://i.ytimg.com/vi/cCfnUOkSUB4/default.jpg   \n..                                              ...   \n423  https://i.ytimg.com/vi/YhkNzKcgEJ8/default.jpg   \n424  https://i.ytimg.com/vi/HbNWNEbm0Wg/default.jpg   \n425  https://i.ytimg.com/vi/wwqaYpv4Keg/default.jpg   \n426  https://i.ytimg.com/vi/3-BAcFN0cmU/default.jpg   \n427  https://i.ytimg.com/vi/xdIirls52TI/default.jpg   \n\n     snippet.thumbnails.default.width  snippet.thumbnails.default.height  ...  \\\n1                                 120                                 90  ...   \n2                                 120                                 90  ...   \n3                                 120                                 90  ...   \n4                                 120                                 90  ...   \n5                                 120                                 90  ...   \n..                                ...                                ...  ...   \n423                               120                                 90  ...   \n424                               120                                 90  ...   \n425                               120                                 90  ...   \n426                               120                                 90  ...   \n427                               120                                 90  ...   \n\n    status.license  status.embeddable  status.publicStatsViewable  \\\n1          youtube               True                        True   \n2          youtube               True                        True   \n3          youtube               True                        True   \n4          youtube               True                        True   \n5          youtube               True                        True   \n..             ...                ...                         ...   \n423        youtube               True                        True   \n424        youtube               True                        True   \n425        youtube               True                        True   \n426        youtube               True                        True   \n427        youtube               True                        True   \n\n    status.madeForKids  statistics.viewCount  statistics.likeCount  \\\n1                False               3721739                 89228   \n2                False               2344271                118385   \n3                False               1331241                 32005   \n4                False                911996                 39333   \n5                False                904637                 35289   \n..                 ...                   ...                   ...   \n423              False                 73723                  3204   \n424              False                 54444                  2449   \n425              False                 76703                  2734   \n426              False                122365                  4759   \n427              False                 59525                  2274   \n\n    statistics.favoriteCount  statistics.commentCount  \\\n1                          0                     2015   \n2                          0                    14761   \n3                          0                      898   \n4                          0                     1659   \n5                          0                      807   \n..                       ...                      ...   \n423                        0                      149   \n424                        0                       64   \n425                        0                       86   \n426                        0                      333   \n427                        0                       82   \n\n                          topicDetails.topicCategories  \\\n1    [https://en.wikipedia.org/wiki/Lifestyle_(soci...   \n2    [https://en.wikipedia.org/wiki/Lifestyle_(soci...   \n3    [https://en.wikipedia.org/wiki/Lifestyle_(soci...   \n4    [https://en.wikipedia.org/wiki/Lifestyle_(soci...   \n5    [https://en.wikipedia.org/wiki/Lifestyle_(soci...   \n..                                                 ...   \n423  [https://en.wikipedia.org/wiki/Lifestyle_(soci...   \n424  [https://en.wikipedia.org/wiki/Lifestyle_(soci...   \n425  [https://en.wikipedia.org/wiki/Lifestyle_(soci...   \n426  [https://en.wikipedia.org/wiki/Lifestyle_(soci...   \n427  [https://en.wikipedia.org/wiki/Lifestyle_(soci...   \n\n    contentDetails.regionRestriction.blocked  \n1                                        NaN  \n2                                        NaN  \n3                                        NaN  \n4                                        NaN  \n5                                        NaN  \n..                                       ...  \n423                                      NaN  \n424                                      NaN  \n425                                      NaN  \n426                                      NaN  \n427                                      NaN  \n\n[427 rows x 47 columns]",
      "text/html": "<div>\n<style scoped>\n    .dataframe tbody tr th:only-of-type {\n        vertical-align: middle;\n    }\n\n    .dataframe tbody tr th {\n        vertical-align: top;\n    }\n\n    .dataframe thead th {\n        text-align: right;\n    }\n</style>\n<table border=\"1\" class=\"dataframe\">\n  <thead>\n    <tr style=\"text-align: right;\">\n      <th></th>\n      <th>kind</th>\n      <th>etag</th>\n      <th>id</th>\n      <th>snippet.publishedAt</th>\n      <th>snippet.channelId</th>\n      <th>snippet.title</th>\n      <th>snippet.description</th>\n      <th>snippet.thumbnails.default.url</th>\n      <th>snippet.thumbnails.default.width</th>\n      <th>snippet.thumbnails.default.height</th>\n      <th>...</th>\n      <th>status.license</th>\n      <th>status.embeddable</th>\n      <th>status.publicStatsViewable</th>\n      <th>status.madeForKids</th>\n      <th>statistics.viewCount</th>\n      <th>statistics.likeCount</th>\n      <th>statistics.favoriteCount</th>\n      <th>statistics.commentCount</th>\n      <th>topicDetails.topicCategories</th>\n      <th>contentDetails.regionRestriction.blocked</th>\n    </tr>\n  </thead>\n  <tbody>\n    <tr>\n      <th>1</th>\n      <td>youtube#video</td>\n      <td>tLftXEDLmRbEvz2SzulwaRRdycs</td>\n      <td>DWERqf7DdqQ</td>\n      <td>2017-02-02T05:30:00Z</td>\n      <td>UCaEh6lSHDzZXju9cfYrmI0g</td>\n      <td>МАКИЯЖ ДЛЯ НАЧИНАЮЩИХ: ЧТО, ЗАЧЕМ и КАК?</td>\n      <td>Новое видео! МАКИЯЖ ДЛЯ НАЧИНАЮЩИХ: БЮДЖЕТНАЯ ...</td>\n      <td>https://i.ytimg.com/vi/DWERqf7DdqQ/default.jpg</td>\n      <td>120</td>\n      <td>90</td>\n      <td>...</td>\n      <td>youtube</td>\n      <td>True</td>\n      <td>True</td>\n      <td>False</td>\n      <td>3721739</td>\n      <td>89228</td>\n      <td>0</td>\n      <td>2015</td>\n      <td>[https://en.wikipedia.org/wiki/Lifestyle_(soci...</td>\n      <td>NaN</td>\n    </tr>\n    <tr>\n      <th>2</th>\n      <td>youtube#video</td>\n      <td>ZxpoBb8SZGTRI7PbhQ_p-2JLpOY</td>\n      <td>BHD_SB04izE</td>\n      <td>2021-11-14T07:00:04Z</td>\n      <td>UCaEh6lSHDzZXju9cfYrmI0g</td>\n      <td>ЭТО ПОЗОР ЛЮКСА!!! (АД🤬)ВЕНТ КАЛЕНДАРЬ CHANEL ...</td>\n      <td>#адвент_календарь #chanel #адвент_календарь_ша...</td>\n      <td>https://i.ytimg.com/vi/BHD_SB04izE/default.jpg</td>\n      <td>120</td>\n      <td>90</td>\n      <td>...</td>\n      <td>youtube</td>\n      <td>True</td>\n      <td>True</td>\n      <td>False</td>\n      <td>2344271</td>\n      <td>118385</td>\n      <td>0</td>\n      <td>14761</td>\n      <td>[https://en.wikipedia.org/wiki/Lifestyle_(soci...</td>\n      <td>NaN</td>\n    </tr>\n    <tr>\n      <th>3</th>\n      <td>youtube#video</td>\n      <td>Me4oVZYgI0Gmv4bGXUYScze_AeU</td>\n      <td>6G-pOUjeV8E</td>\n      <td>2021-07-12T04:00:00Z</td>\n      <td>UCaEh6lSHDzZXju9cfYrmI0g</td>\n      <td>Работает ли ВОЛШЕБНАЯ ЗЕЛЕНАЯ МАСКА из ТИК ТОК?</td>\n      <td>#тик_ток #зеленая_маска #green_mask #зеленая_м...</td>\n      <td>https://i.ytimg.com/vi/6G-pOUjeV8E/default.jpg</td>\n      <td>120</td>\n      <td>90</td>\n      <td>...</td>\n      <td>youtube</td>\n      <td>True</td>\n      <td>True</td>\n      <td>False</td>\n      <td>1331241</td>\n      <td>32005</td>\n      <td>0</td>\n      <td>898</td>\n      <td>[https://en.wikipedia.org/wiki/Lifestyle_(soci...</td>\n      <td>NaN</td>\n    </tr>\n    <tr>\n      <th>4</th>\n      <td>youtube#video</td>\n      <td>GTOI01rZHpi_tjNpURuitEnxTBQ</td>\n      <td>wTf3Nu3Q5sA</td>\n      <td>2021-11-06T07:00:30Z</td>\n      <td>UCaEh6lSHDzZXju9cfYrmI0g</td>\n      <td>НЕРЕАЛЬНЫЕ АДВЕНТ КАЛЕНДАРИ DIOR!!! | DIOR ADV...</td>\n      <td>#адвент_календарь #dior #адвент_календарь_диор...</td>\n      <td>https://i.ytimg.com/vi/wTf3Nu3Q5sA/default.jpg</td>\n      <td>120</td>\n      <td>90</td>\n      <td>...</td>\n      <td>youtube</td>\n      <td>True</td>\n      <td>True</td>\n      <td>False</td>\n      <td>911996</td>\n      <td>39333</td>\n      <td>0</td>\n      <td>1659</td>\n      <td>[https://en.wikipedia.org/wiki/Lifestyle_(soci...</td>\n      <td>NaN</td>\n    </tr>\n    <tr>\n      <th>5</th>\n      <td>youtube#video</td>\n      <td>Qnmow1YaXHw62JBCeaWvI2bdTcU</td>\n      <td>cCfnUOkSUB4</td>\n      <td>2019-12-22T04:00:06Z</td>\n      <td>UCaEh6lSHDzZXju9cfYrmI0g</td>\n      <td>МЫ ДОЖДАЛИСЬ! 😱MAC - ЛУЧШИЙ АДВЕНТ КАЛЕНДАРЬ? ...</td>\n      <td>#адвент #адвент_календарь #redautumn #адвент_м...</td>\n      <td>https://i.ytimg.com/vi/cCfnUOkSUB4/default.jpg</td>\n      <td>120</td>\n      <td>90</td>\n      <td>...</td>\n      <td>youtube</td>\n      <td>True</td>\n      <td>True</td>\n      <td>False</td>\n      <td>904637</td>\n      <td>35289</td>\n      <td>0</td>\n      <td>807</td>\n      <td>[https://en.wikipedia.org/wiki/Lifestyle_(soci...</td>\n      <td>NaN</td>\n    </tr>\n    <tr>\n      <th>...</th>\n      <td>...</td>\n      <td>...</td>\n      <td>...</td>\n      <td>...</td>\n      <td>...</td>\n      <td>...</td>\n      <td>...</td>\n      <td>...</td>\n      <td>...</td>\n      <td>...</td>\n      <td>...</td>\n      <td>...</td>\n      <td>...</td>\n      <td>...</td>\n      <td>...</td>\n      <td>...</td>\n      <td>...</td>\n      <td>...</td>\n      <td>...</td>\n      <td>...</td>\n      <td>...</td>\n    </tr>\n    <tr>\n      <th>423</th>\n      <td>youtube#video</td>\n      <td>6hglPsl-DogbL8cg_mbeTR8wGV0</td>\n      <td>YhkNzKcgEJ8</td>\n      <td>2018-12-29T04:00:02Z</td>\n      <td>UCaEh6lSHDzZXju9cfYrmI0g</td>\n      <td>ТАК ЧТО ДАРИТЬ-ТО?! 😱 ГИД ПО ПОДАРКАМ 2019 В С...</td>\n      <td>В этом видео я расскажу вам о гиде по новогодн...</td>\n      <td>https://i.ytimg.com/vi/YhkNzKcgEJ8/default.jpg</td>\n      <td>120</td>\n      <td>90</td>\n      <td>...</td>\n      <td>youtube</td>\n      <td>True</td>\n      <td>True</td>\n      <td>False</td>\n      <td>73723</td>\n      <td>3204</td>\n      <td>0</td>\n      <td>149</td>\n      <td>[https://en.wikipedia.org/wiki/Lifestyle_(soci...</td>\n      <td>NaN</td>\n    </tr>\n    <tr>\n      <th>424</th>\n      <td>youtube#video</td>\n      <td>QlM2oG-R1201pZ7Fi7E0e_DA1zU</td>\n      <td>HbNWNEbm0Wg</td>\n      <td>2018-11-29T04:00:02Z</td>\n      <td>UCaEh6lSHDzZXju9cfYrmI0g</td>\n      <td>КАК КРАСИТЬСЯ, ЧТОБЫ НЕ БЫЛО СТЫДНО? МАКИЯЖ ДЛ...</td>\n      <td>Скидка на пудры L’Oreal на Wildberries - https...</td>\n      <td>https://i.ytimg.com/vi/HbNWNEbm0Wg/default.jpg</td>\n      <td>120</td>\n      <td>90</td>\n      <td>...</td>\n      <td>youtube</td>\n      <td>True</td>\n      <td>True</td>\n      <td>False</td>\n      <td>54444</td>\n      <td>2449</td>\n      <td>0</td>\n      <td>64</td>\n      <td>[https://en.wikipedia.org/wiki/Lifestyle_(soci...</td>\n      <td>NaN</td>\n    </tr>\n    <tr>\n      <th>425</th>\n      <td>youtube#video</td>\n      <td>CUFWq1kyUjxbLgizB92nc7IwW-c</td>\n      <td>wwqaYpv4Keg</td>\n      <td>2018-10-19T04:00:03Z</td>\n      <td>UCaEh6lSHDzZXju9cfYrmI0g</td>\n      <td>ГОРЯЧО! 🔥БЮДЖЕТНЫЕ НОВИНКИ CATRICE</td>\n      <td>В этом видео я покажу вам бюджетные новинки от...</td>\n      <td>https://i.ytimg.com/vi/wwqaYpv4Keg/default.jpg</td>\n      <td>120</td>\n      <td>90</td>\n      <td>...</td>\n      <td>youtube</td>\n      <td>True</td>\n      <td>True</td>\n      <td>False</td>\n      <td>76703</td>\n      <td>2734</td>\n      <td>0</td>\n      <td>86</td>\n      <td>[https://en.wikipedia.org/wiki/Lifestyle_(soci...</td>\n      <td>NaN</td>\n    </tr>\n    <tr>\n      <th>426</th>\n      <td>youtube#video</td>\n      <td>eWzyXIaUb51GuAPAZhGUTVH-qyE</td>\n      <td>3-BAcFN0cmU</td>\n      <td>2019-03-22T04:00:00Z</td>\n      <td>UCaEh6lSHDzZXju9cfYrmI0g</td>\n      <td>АНТИПОКУПКИ: КРУТЫЕ НОВИНКИ КОСМЕТИКИ, КОТОРЫЕ...</td>\n      <td>В этом видео я расскажу вам о той косметике, к...</td>\n      <td>https://i.ytimg.com/vi/3-BAcFN0cmU/default.jpg</td>\n      <td>120</td>\n      <td>90</td>\n      <td>...</td>\n      <td>youtube</td>\n      <td>True</td>\n      <td>True</td>\n      <td>False</td>\n      <td>122365</td>\n      <td>4759</td>\n      <td>0</td>\n      <td>333</td>\n      <td>[https://en.wikipedia.org/wiki/Lifestyle_(soci...</td>\n      <td>NaN</td>\n    </tr>\n    <tr>\n      <th>427</th>\n      <td>youtube#video</td>\n      <td>rpSsXbN5FkYVjr2AAK9ZKvI9A5U</td>\n      <td>xdIirls52TI</td>\n      <td>2019-11-16T04:00:07Z</td>\n      <td>UCaEh6lSHDzZXju9cfYrmI0g</td>\n      <td>НОВЕНЬКОЕ и КРУТОЕ с IHERB - ЛЕГКИЙ УХОД ЗА ЛИЦОМ</td>\n      <td>В этом видео я расскажу вам про новый уход за ...</td>\n      <td>https://i.ytimg.com/vi/xdIirls52TI/default.jpg</td>\n      <td>120</td>\n      <td>90</td>\n      <td>...</td>\n      <td>youtube</td>\n      <td>True</td>\n      <td>True</td>\n      <td>False</td>\n      <td>59525</td>\n      <td>2274</td>\n      <td>0</td>\n      <td>82</td>\n      <td>[https://en.wikipedia.org/wiki/Lifestyle_(soci...</td>\n      <td>NaN</td>\n    </tr>\n  </tbody>\n</table>\n<p>427 rows × 47 columns</p>\n</div>"
     },
     "metadata": {},
     "output_type": "display_data"
    }
   ],
   "source": [
    "# 16 Удалить дубликаты видео (по их id) и записать в Excel:\n",
    "df_supplemented = df_supplemented.drop_duplicates('id')\n",
    "df_supplemented.index = range(1, len(df_supplemented) + 1)\n",
    "display(df_supplemented)\n"
   ],
   "metadata": {
    "collapsed": false
   }
  },
  {
   "cell_type": "code",
   "execution_count": 30,
   "outputs": [],
   "source": [
    "#17\n",
    "import os\n",
    "\n",
    "SAVE_PATH = DATA_PATH / 'channels_video'\n",
    "\n",
    "if not os.path.exists(SAVE_PATH):\n",
    "    os.makedirs(SAVE_PATH)\n",
    "\n",
    "df_supplemented.to_excel(SAVE_PATH /  f'{CONTENT_TYPE}_{QUERY}.xlsx', index=False)"
   ],
   "metadata": {
    "collapsed": false
   }
  },
  {
   "cell_type": "code",
   "execution_count": null,
   "outputs": [],
   "source": [],
   "metadata": {
    "collapsed": false
   }
  }
 ],
 "metadata": {
  "kernelspec": {
   "display_name": "Python 3",
   "language": "python",
   "name": "python3"
  },
  "language_info": {
   "codemirror_mode": {
    "name": "ipython",
    "version": 2
   },
   "file_extension": ".py",
   "mimetype": "text/x-python",
   "name": "python",
   "nbconvert_exporter": "python",
   "pygments_lexer": "ipython2",
   "version": "2.7.6"
  }
 },
 "nbformat": 4,
 "nbformat_minor": 0
}
