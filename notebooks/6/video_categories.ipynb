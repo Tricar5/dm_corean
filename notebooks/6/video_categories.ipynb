{
 "cells": [
  {
   "cell_type": "markdown",
   "source": [
    "# Занятие 6. категорий (videoCategories) найденных видео\n",
    "\n",
    "## План:\n",
    "\n",
    "1. Разберитесь с устройством метода .videoCategories() на сайте https://developers.google.com .\n",
    "\n",
    "2. В API Explorer на сайте https://developers.google.com методом .videoCategories() подайте запрос на выяснение категории одного видео из ранее собранных методом .search() .\n",
    "\n",
    "3. Перенесите в новый скрипт Python код из API Explorer и обеспечьте его работоспособность.\n",
    "\n",
    "4. Усовершенствуйте скрипт, чтобы он проходился по категориям всех видео из датафрейма \"Про видео\" (из пункта 1.4.), записывал номера этих категорий и их расшифровки в новый датафрейм (можно назвать его \"Имена категорий\" или в этом роде).\n",
    "5. Выберите любую категорию из датафрейма \"Имена категорий\" и выведите на экран те строчки датафрейма \"Про видео\", в которых видео относятся к этой категории (другими словами, проиндексируйте датафрейм). Добавьте в датафрейм \"Про видео\" столбец categoryName. Запишите в этот столбец только в те строки, в которых видео относятся к выбранной категории, расшифровку этой категории.\n",
    "6. Усовершенствуйте скрипт, чтобы он проходился по каждой категории из датафрейма \"Имена категорий\" и записывал в датафрейм \"Про видео\" в строки видео, относящихся к соответствующей категории, в столбец categoryName расшифровки этих категорий. Т.е. чтобы каждое видео получило расшифровку своей категории в столбце categoryName."
   ],
   "metadata": {
    "collapsed": false
   }
  },
  {
   "cell_type": "code",
   "execution_count": 1,
   "outputs": [],
   "source": [
    "import pandas as pd\n",
    "# 1\n",
    "import yaml\n",
    "import pathlib\n",
    "ROOT = pathlib.Path().resolve().parent.parent\n",
    "\n",
    "with open(ROOT / \"config.yml\", \"r\") as f:\n",
    "    config = yaml.load(f, Loader=yaml.FullLoader)\n"
   ],
   "metadata": {
    "collapsed": false,
    "ExecuteTime": {
     "start_time": "2023-04-08T12:34:11.426872Z",
     "end_time": "2023-04-08T12:34:11.677654Z"
    }
   }
  },
  {
   "cell_type": "code",
   "execution_count": 2,
   "outputs": [],
   "source": [
    "DATA_PATH = ROOT / config['api']['DATA_PATH']"
   ],
   "metadata": {
    "collapsed": false,
    "ExecuteTime": {
     "start_time": "2023-04-08T12:34:11.680404Z",
     "end_time": "2023-04-08T12:34:11.684371Z"
    }
   }
  },
  {
   "cell_type": "code",
   "execution_count": 6,
   "outputs": [],
   "source": [
    "#3\n",
    "# Variables from config\n",
    "API_KEY = config['api']['keys']\n",
    "API_VERSION = config['api']['api_version']\n",
    "API_SERVICE_NAME = config['api']['api_service_name']\n",
    "\n",
    "publishedAfter = config['api']['parameters']['date_after']\n",
    "publishedBefore = config['api']['parameters']['date_before']\n",
    "\n"
   ],
   "metadata": {
    "collapsed": false
   }
  },
  {
   "cell_type": "code",
   "execution_count": 4,
   "outputs": [],
   "source": [
    "# 3.1\n",
    "class KeyStorage:\n",
    "    \"\"\"\n",
    "    Class to use in iteration\n",
    "    \"\"\"\n",
    "\n",
    "    def __init__(self, key_arr: list[str]):\n",
    "        self.key_gen = iter(key_arr)\n",
    "\n",
    "    def get_next_key(self):\n",
    "        \"\"\"\n",
    "        Returns API key to use\n",
    "        :return:\n",
    "        \"\"\"\n",
    "        return next(self.key_gen)\n",
    "\n",
    "key_storage = KeyStorage(config['api']['keys'])"
   ],
   "metadata": {
    "collapsed": false
   }
  },
  {
   "cell_type": "code",
   "execution_count": 6,
   "outputs": [],
   "source": [
    "# 3.2 Просмотр API ключа\n",
    "API_KEY = key_storage.get_next_key()"
   ],
   "metadata": {
    "collapsed": false
   }
  },
  {
   "cell_type": "code",
   "execution_count": 8,
   "outputs": [],
   "source": [
    "# 4 импортируем и создаем клиент API Youtube\n",
    "import googleapiclient.discovery as api\n",
    "\n",
    "youtube = api.build(API_SERVICE_NAME,\n",
    "                    API_VERSION,\n",
    "                    developerKey=API_KEY)"
   ],
   "metadata": {
    "collapsed": false
   }
  },
  {
   "cell_type": "code",
   "execution_count": 9,
   "outputs": [],
   "source": [
    "# 6 получаем список видео для загрузки категорий\n",
    "\n",
    "search_part = [\n",
    "    'id',\n",
    "    'snippet',\n",
    "]\n"
   ],
   "metadata": {
    "collapsed": false
   }
  },
  {
   "cell_type": "code",
   "execution_count": 10,
   "outputs": [
    {
     "data": {
      "text/plain": "                    kind                         etag  id     snippet.title  \\\n0  youtube#videoCategory  grPOPYEUUZN3ltuDUGEWlrTR90U   1  Film & Animation   \n1  youtube#videoCategory  Q0xgUf8BFM8rW3W0R9wNq809xyA   2  Autos & Vehicles   \n2  youtube#videoCategory  qnpwjh5QlWM5hrnZCvHisquztC4  10             Music   \n3  youtube#videoCategory  HyFIixS5BZaoBdkQdLzPdoXWipg  15    Pets & Animals   \n4  youtube#videoCategory  PNU8SwXhjsF90fmkilVohofOi4I  17            Sports   \n\n   snippet.assignable         snippet.channelId  \n0                True  UCBR8-60-B28hp2BmDPdntcQ  \n1                True  UCBR8-60-B28hp2BmDPdntcQ  \n2                True  UCBR8-60-B28hp2BmDPdntcQ  \n3                True  UCBR8-60-B28hp2BmDPdntcQ  \n4                True  UCBR8-60-B28hp2BmDPdntcQ  ",
      "text/html": "<div>\n<style scoped>\n    .dataframe tbody tr th:only-of-type {\n        vertical-align: middle;\n    }\n\n    .dataframe tbody tr th {\n        vertical-align: top;\n    }\n\n    .dataframe thead th {\n        text-align: right;\n    }\n</style>\n<table border=\"1\" class=\"dataframe\">\n  <thead>\n    <tr style=\"text-align: right;\">\n      <th></th>\n      <th>kind</th>\n      <th>etag</th>\n      <th>id</th>\n      <th>snippet.title</th>\n      <th>snippet.assignable</th>\n      <th>snippet.channelId</th>\n    </tr>\n  </thead>\n  <tbody>\n    <tr>\n      <th>0</th>\n      <td>youtube#videoCategory</td>\n      <td>grPOPYEUUZN3ltuDUGEWlrTR90U</td>\n      <td>1</td>\n      <td>Film &amp; Animation</td>\n      <td>True</td>\n      <td>UCBR8-60-B28hp2BmDPdntcQ</td>\n    </tr>\n    <tr>\n      <th>1</th>\n      <td>youtube#videoCategory</td>\n      <td>Q0xgUf8BFM8rW3W0R9wNq809xyA</td>\n      <td>2</td>\n      <td>Autos &amp; Vehicles</td>\n      <td>True</td>\n      <td>UCBR8-60-B28hp2BmDPdntcQ</td>\n    </tr>\n    <tr>\n      <th>2</th>\n      <td>youtube#videoCategory</td>\n      <td>qnpwjh5QlWM5hrnZCvHisquztC4</td>\n      <td>10</td>\n      <td>Music</td>\n      <td>True</td>\n      <td>UCBR8-60-B28hp2BmDPdntcQ</td>\n    </tr>\n    <tr>\n      <th>3</th>\n      <td>youtube#videoCategory</td>\n      <td>HyFIixS5BZaoBdkQdLzPdoXWipg</td>\n      <td>15</td>\n      <td>Pets &amp; Animals</td>\n      <td>True</td>\n      <td>UCBR8-60-B28hp2BmDPdntcQ</td>\n    </tr>\n    <tr>\n      <th>4</th>\n      <td>youtube#videoCategory</td>\n      <td>PNU8SwXhjsF90fmkilVohofOi4I</td>\n      <td>17</td>\n      <td>Sports</td>\n      <td>True</td>\n      <td>UCBR8-60-B28hp2BmDPdntcQ</td>\n    </tr>\n  </tbody>\n</table>\n</div>"
     },
     "execution_count": 10,
     "metadata": {},
     "output_type": "execute_result"
    }
   ],
   "source": [
    "# 7 Одиночный вызов API\n",
    "\n",
    "request = youtube.videoCategories().list(\n",
    "    part=search_part,\n",
    "    regionCode=\"RU\",\n",
    ")\n",
    "response = request.execute()\n",
    "\n",
    "df_supplemented = pd.json_normalize(response['items'])\n",
    "df_supplemented.head()"
   ],
   "metadata": {
    "collapsed": false
   }
  },
  {
   "cell_type": "code",
   "execution_count": 11,
   "outputs": [
    {
     "data": {
      "text/plain": "                     kind                         etag  id  \\\n0   youtube#videoCategory  grPOPYEUUZN3ltuDUGEWlrTR90U   1   \n1   youtube#videoCategory  Q0xgUf8BFM8rW3W0R9wNq809xyA   2   \n2   youtube#videoCategory  qnpwjh5QlWM5hrnZCvHisquztC4  10   \n3   youtube#videoCategory  HyFIixS5BZaoBdkQdLzPdoXWipg  15   \n4   youtube#videoCategory  PNU8SwXhjsF90fmkilVohofOi4I  17   \n5   youtube#videoCategory  5kFljz9YJ4lEgSfVwHWi5kTAwAs  18   \n6   youtube#videoCategory  ANnLQyzEA_9m3bMyJXMhKTCOiyg  19   \n7   youtube#videoCategory  0Hh6gbZ9zWjnV3sfdZjKB5LQr6E  20   \n8   youtube#videoCategory  q8Cp4pUfCD8Fuh8VJ_yl5cBCVNw  21   \n9   youtube#videoCategory  cHDaaqPDZsJT1FPr1-MwtyIhR28  22   \n10  youtube#videoCategory  3Uz364xBbKY50a2s0XQlv-gXJds  23   \n11  youtube#videoCategory  0srcLUqQzO7-NGLF7QnhdVzJQmY  24   \n12  youtube#videoCategory  bQlQMjmYX7DyFkX4w3kT0osJyIc  25   \n13  youtube#videoCategory  Y06N41HP_WlZmeREZvkGF0HW5pg  26   \n14  youtube#videoCategory  yBaNkLx4sX9NcDmFgAmxQcV4Y30  27   \n15  youtube#videoCategory  Mxy3A-SkmnR7MhJDZRS4DuAIbQA  28   \n16  youtube#videoCategory  4pIHL_AdN2kO7btAGAP1TvPucNk  30   \n17  youtube#videoCategory  Iqol1myDwh2AuOnxjtn2AfYwJTU  31   \n18  youtube#videoCategory  tzhBKCBcYWZLPai5INY4id91ss8  32   \n19  youtube#videoCategory  ii8nBGYpKyl6FyzP3cmBCevdrbs  33   \n20  youtube#videoCategory  Y0u9UAQCCGp60G11Arac5Mp46z4  34   \n21  youtube#videoCategory  _YDnyT205AMuX8etu8loOiQjbD4  35   \n22  youtube#videoCategory  eAl2b-uqIGRDgnlMa0EsGZjXmWg  36   \n23  youtube#videoCategory  HDAW2HFOt3SqeDI00X-eL7OELfY  37   \n24  youtube#videoCategory  QHiWh3niw5hjDrim85M8IGF45eE  38   \n25  youtube#videoCategory  ztKcSS7GpH9uEyZk9nQCdNujvGg  39   \n26  youtube#videoCategory  Ids1sm8QFeSo_cDlpcUNrnEBYWA  40   \n27  youtube#videoCategory  qhfgS7MzzZHIy_UZ1dlawl1GbnY  41   \n28  youtube#videoCategory  TxVSfGoUyT7CJ7h7ebjg4vhIt6g  42   \n29  youtube#videoCategory  o9w6eNqzjHPnNbKDujnQd8pklXM  43   \n30  youtube#videoCategory  mLdyKd0VgXKDI6GevTLBAcvRlIU  44   \n\n           snippet.title  snippet.assignable         snippet.channelId  \n0       Film & Animation                True  UCBR8-60-B28hp2BmDPdntcQ  \n1       Autos & Vehicles                True  UCBR8-60-B28hp2BmDPdntcQ  \n2                  Music                True  UCBR8-60-B28hp2BmDPdntcQ  \n3         Pets & Animals                True  UCBR8-60-B28hp2BmDPdntcQ  \n4                 Sports                True  UCBR8-60-B28hp2BmDPdntcQ  \n5           Short Movies               False  UCBR8-60-B28hp2BmDPdntcQ  \n6        Travel & Events                True  UCBR8-60-B28hp2BmDPdntcQ  \n7                 Gaming                True  UCBR8-60-B28hp2BmDPdntcQ  \n8          Videoblogging               False  UCBR8-60-B28hp2BmDPdntcQ  \n9         People & Blogs                True  UCBR8-60-B28hp2BmDPdntcQ  \n10                Comedy                True  UCBR8-60-B28hp2BmDPdntcQ  \n11         Entertainment                True  UCBR8-60-B28hp2BmDPdntcQ  \n12       News & Politics                True  UCBR8-60-B28hp2BmDPdntcQ  \n13         Howto & Style                True  UCBR8-60-B28hp2BmDPdntcQ  \n14             Education                True  UCBR8-60-B28hp2BmDPdntcQ  \n15  Science & Technology                True  UCBR8-60-B28hp2BmDPdntcQ  \n16                Movies               False  UCBR8-60-B28hp2BmDPdntcQ  \n17       Anime/Animation               False  UCBR8-60-B28hp2BmDPdntcQ  \n18      Action/Adventure               False  UCBR8-60-B28hp2BmDPdntcQ  \n19              Classics               False  UCBR8-60-B28hp2BmDPdntcQ  \n20                Comedy               False  UCBR8-60-B28hp2BmDPdntcQ  \n21           Documentary               False  UCBR8-60-B28hp2BmDPdntcQ  \n22                 Drama               False  UCBR8-60-B28hp2BmDPdntcQ  \n23                Family               False  UCBR8-60-B28hp2BmDPdntcQ  \n24               Foreign               False  UCBR8-60-B28hp2BmDPdntcQ  \n25                Horror               False  UCBR8-60-B28hp2BmDPdntcQ  \n26        Sci-Fi/Fantasy               False  UCBR8-60-B28hp2BmDPdntcQ  \n27              Thriller               False  UCBR8-60-B28hp2BmDPdntcQ  \n28                Shorts               False  UCBR8-60-B28hp2BmDPdntcQ  \n29                 Shows               False  UCBR8-60-B28hp2BmDPdntcQ  \n30              Trailers               False  UCBR8-60-B28hp2BmDPdntcQ  ",
      "text/html": "<div>\n<style scoped>\n    .dataframe tbody tr th:only-of-type {\n        vertical-align: middle;\n    }\n\n    .dataframe tbody tr th {\n        vertical-align: top;\n    }\n\n    .dataframe thead th {\n        text-align: right;\n    }\n</style>\n<table border=\"1\" class=\"dataframe\">\n  <thead>\n    <tr style=\"text-align: right;\">\n      <th></th>\n      <th>kind</th>\n      <th>etag</th>\n      <th>id</th>\n      <th>snippet.title</th>\n      <th>snippet.assignable</th>\n      <th>snippet.channelId</th>\n    </tr>\n  </thead>\n  <tbody>\n    <tr>\n      <th>0</th>\n      <td>youtube#videoCategory</td>\n      <td>grPOPYEUUZN3ltuDUGEWlrTR90U</td>\n      <td>1</td>\n      <td>Film &amp; Animation</td>\n      <td>True</td>\n      <td>UCBR8-60-B28hp2BmDPdntcQ</td>\n    </tr>\n    <tr>\n      <th>1</th>\n      <td>youtube#videoCategory</td>\n      <td>Q0xgUf8BFM8rW3W0R9wNq809xyA</td>\n      <td>2</td>\n      <td>Autos &amp; Vehicles</td>\n      <td>True</td>\n      <td>UCBR8-60-B28hp2BmDPdntcQ</td>\n    </tr>\n    <tr>\n      <th>2</th>\n      <td>youtube#videoCategory</td>\n      <td>qnpwjh5QlWM5hrnZCvHisquztC4</td>\n      <td>10</td>\n      <td>Music</td>\n      <td>True</td>\n      <td>UCBR8-60-B28hp2BmDPdntcQ</td>\n    </tr>\n    <tr>\n      <th>3</th>\n      <td>youtube#videoCategory</td>\n      <td>HyFIixS5BZaoBdkQdLzPdoXWipg</td>\n      <td>15</td>\n      <td>Pets &amp; Animals</td>\n      <td>True</td>\n      <td>UCBR8-60-B28hp2BmDPdntcQ</td>\n    </tr>\n    <tr>\n      <th>4</th>\n      <td>youtube#videoCategory</td>\n      <td>PNU8SwXhjsF90fmkilVohofOi4I</td>\n      <td>17</td>\n      <td>Sports</td>\n      <td>True</td>\n      <td>UCBR8-60-B28hp2BmDPdntcQ</td>\n    </tr>\n    <tr>\n      <th>5</th>\n      <td>youtube#videoCategory</td>\n      <td>5kFljz9YJ4lEgSfVwHWi5kTAwAs</td>\n      <td>18</td>\n      <td>Short Movies</td>\n      <td>False</td>\n      <td>UCBR8-60-B28hp2BmDPdntcQ</td>\n    </tr>\n    <tr>\n      <th>6</th>\n      <td>youtube#videoCategory</td>\n      <td>ANnLQyzEA_9m3bMyJXMhKTCOiyg</td>\n      <td>19</td>\n      <td>Travel &amp; Events</td>\n      <td>True</td>\n      <td>UCBR8-60-B28hp2BmDPdntcQ</td>\n    </tr>\n    <tr>\n      <th>7</th>\n      <td>youtube#videoCategory</td>\n      <td>0Hh6gbZ9zWjnV3sfdZjKB5LQr6E</td>\n      <td>20</td>\n      <td>Gaming</td>\n      <td>True</td>\n      <td>UCBR8-60-B28hp2BmDPdntcQ</td>\n    </tr>\n    <tr>\n      <th>8</th>\n      <td>youtube#videoCategory</td>\n      <td>q8Cp4pUfCD8Fuh8VJ_yl5cBCVNw</td>\n      <td>21</td>\n      <td>Videoblogging</td>\n      <td>False</td>\n      <td>UCBR8-60-B28hp2BmDPdntcQ</td>\n    </tr>\n    <tr>\n      <th>9</th>\n      <td>youtube#videoCategory</td>\n      <td>cHDaaqPDZsJT1FPr1-MwtyIhR28</td>\n      <td>22</td>\n      <td>People &amp; Blogs</td>\n      <td>True</td>\n      <td>UCBR8-60-B28hp2BmDPdntcQ</td>\n    </tr>\n    <tr>\n      <th>10</th>\n      <td>youtube#videoCategory</td>\n      <td>3Uz364xBbKY50a2s0XQlv-gXJds</td>\n      <td>23</td>\n      <td>Comedy</td>\n      <td>True</td>\n      <td>UCBR8-60-B28hp2BmDPdntcQ</td>\n    </tr>\n    <tr>\n      <th>11</th>\n      <td>youtube#videoCategory</td>\n      <td>0srcLUqQzO7-NGLF7QnhdVzJQmY</td>\n      <td>24</td>\n      <td>Entertainment</td>\n      <td>True</td>\n      <td>UCBR8-60-B28hp2BmDPdntcQ</td>\n    </tr>\n    <tr>\n      <th>12</th>\n      <td>youtube#videoCategory</td>\n      <td>bQlQMjmYX7DyFkX4w3kT0osJyIc</td>\n      <td>25</td>\n      <td>News &amp; Politics</td>\n      <td>True</td>\n      <td>UCBR8-60-B28hp2BmDPdntcQ</td>\n    </tr>\n    <tr>\n      <th>13</th>\n      <td>youtube#videoCategory</td>\n      <td>Y06N41HP_WlZmeREZvkGF0HW5pg</td>\n      <td>26</td>\n      <td>Howto &amp; Style</td>\n      <td>True</td>\n      <td>UCBR8-60-B28hp2BmDPdntcQ</td>\n    </tr>\n    <tr>\n      <th>14</th>\n      <td>youtube#videoCategory</td>\n      <td>yBaNkLx4sX9NcDmFgAmxQcV4Y30</td>\n      <td>27</td>\n      <td>Education</td>\n      <td>True</td>\n      <td>UCBR8-60-B28hp2BmDPdntcQ</td>\n    </tr>\n    <tr>\n      <th>15</th>\n      <td>youtube#videoCategory</td>\n      <td>Mxy3A-SkmnR7MhJDZRS4DuAIbQA</td>\n      <td>28</td>\n      <td>Science &amp; Technology</td>\n      <td>True</td>\n      <td>UCBR8-60-B28hp2BmDPdntcQ</td>\n    </tr>\n    <tr>\n      <th>16</th>\n      <td>youtube#videoCategory</td>\n      <td>4pIHL_AdN2kO7btAGAP1TvPucNk</td>\n      <td>30</td>\n      <td>Movies</td>\n      <td>False</td>\n      <td>UCBR8-60-B28hp2BmDPdntcQ</td>\n    </tr>\n    <tr>\n      <th>17</th>\n      <td>youtube#videoCategory</td>\n      <td>Iqol1myDwh2AuOnxjtn2AfYwJTU</td>\n      <td>31</td>\n      <td>Anime/Animation</td>\n      <td>False</td>\n      <td>UCBR8-60-B28hp2BmDPdntcQ</td>\n    </tr>\n    <tr>\n      <th>18</th>\n      <td>youtube#videoCategory</td>\n      <td>tzhBKCBcYWZLPai5INY4id91ss8</td>\n      <td>32</td>\n      <td>Action/Adventure</td>\n      <td>False</td>\n      <td>UCBR8-60-B28hp2BmDPdntcQ</td>\n    </tr>\n    <tr>\n      <th>19</th>\n      <td>youtube#videoCategory</td>\n      <td>ii8nBGYpKyl6FyzP3cmBCevdrbs</td>\n      <td>33</td>\n      <td>Classics</td>\n      <td>False</td>\n      <td>UCBR8-60-B28hp2BmDPdntcQ</td>\n    </tr>\n    <tr>\n      <th>20</th>\n      <td>youtube#videoCategory</td>\n      <td>Y0u9UAQCCGp60G11Arac5Mp46z4</td>\n      <td>34</td>\n      <td>Comedy</td>\n      <td>False</td>\n      <td>UCBR8-60-B28hp2BmDPdntcQ</td>\n    </tr>\n    <tr>\n      <th>21</th>\n      <td>youtube#videoCategory</td>\n      <td>_YDnyT205AMuX8etu8loOiQjbD4</td>\n      <td>35</td>\n      <td>Documentary</td>\n      <td>False</td>\n      <td>UCBR8-60-B28hp2BmDPdntcQ</td>\n    </tr>\n    <tr>\n      <th>22</th>\n      <td>youtube#videoCategory</td>\n      <td>eAl2b-uqIGRDgnlMa0EsGZjXmWg</td>\n      <td>36</td>\n      <td>Drama</td>\n      <td>False</td>\n      <td>UCBR8-60-B28hp2BmDPdntcQ</td>\n    </tr>\n    <tr>\n      <th>23</th>\n      <td>youtube#videoCategory</td>\n      <td>HDAW2HFOt3SqeDI00X-eL7OELfY</td>\n      <td>37</td>\n      <td>Family</td>\n      <td>False</td>\n      <td>UCBR8-60-B28hp2BmDPdntcQ</td>\n    </tr>\n    <tr>\n      <th>24</th>\n      <td>youtube#videoCategory</td>\n      <td>QHiWh3niw5hjDrim85M8IGF45eE</td>\n      <td>38</td>\n      <td>Foreign</td>\n      <td>False</td>\n      <td>UCBR8-60-B28hp2BmDPdntcQ</td>\n    </tr>\n    <tr>\n      <th>25</th>\n      <td>youtube#videoCategory</td>\n      <td>ztKcSS7GpH9uEyZk9nQCdNujvGg</td>\n      <td>39</td>\n      <td>Horror</td>\n      <td>False</td>\n      <td>UCBR8-60-B28hp2BmDPdntcQ</td>\n    </tr>\n    <tr>\n      <th>26</th>\n      <td>youtube#videoCategory</td>\n      <td>Ids1sm8QFeSo_cDlpcUNrnEBYWA</td>\n      <td>40</td>\n      <td>Sci-Fi/Fantasy</td>\n      <td>False</td>\n      <td>UCBR8-60-B28hp2BmDPdntcQ</td>\n    </tr>\n    <tr>\n      <th>27</th>\n      <td>youtube#videoCategory</td>\n      <td>qhfgS7MzzZHIy_UZ1dlawl1GbnY</td>\n      <td>41</td>\n      <td>Thriller</td>\n      <td>False</td>\n      <td>UCBR8-60-B28hp2BmDPdntcQ</td>\n    </tr>\n    <tr>\n      <th>28</th>\n      <td>youtube#videoCategory</td>\n      <td>TxVSfGoUyT7CJ7h7ebjg4vhIt6g</td>\n      <td>42</td>\n      <td>Shorts</td>\n      <td>False</td>\n      <td>UCBR8-60-B28hp2BmDPdntcQ</td>\n    </tr>\n    <tr>\n      <th>29</th>\n      <td>youtube#videoCategory</td>\n      <td>o9w6eNqzjHPnNbKDujnQd8pklXM</td>\n      <td>43</td>\n      <td>Shows</td>\n      <td>False</td>\n      <td>UCBR8-60-B28hp2BmDPdntcQ</td>\n    </tr>\n    <tr>\n      <th>30</th>\n      <td>youtube#videoCategory</td>\n      <td>mLdyKd0VgXKDI6GevTLBAcvRlIU</td>\n      <td>44</td>\n      <td>Trailers</td>\n      <td>False</td>\n      <td>UCBR8-60-B28hp2BmDPdntcQ</td>\n    </tr>\n  </tbody>\n</table>\n</div>"
     },
     "metadata": {},
     "output_type": "display_data"
    }
   ],
   "source": [
    "display(df_supplemented)"
   ],
   "metadata": {
    "collapsed": false
   }
  },
  {
   "cell_type": "code",
   "execution_count": 12,
   "outputs": [],
   "source": [
    "df_supplemented = df_supplemented[['id', 'snippet.title']]\n",
    "\n",
    "df_supplemented.columns = ['category_id', 'category_name']"
   ],
   "metadata": {
    "collapsed": false
   }
  },
  {
   "cell_type": "code",
   "execution_count": 13,
   "outputs": [],
   "source": [
    "df_supplemented.to_excel(DATA_PATH / \"YOUTUBE_VIDEO_CATEGORIES_RU.xlsx\", index=False)"
   ],
   "metadata": {
    "collapsed": false
   }
  },
  {
   "cell_type": "markdown",
   "source": [
    "## Mapping"
   ],
   "metadata": {
    "collapsed": false
   }
  },
  {
   "cell_type": "code",
   "execution_count": 3,
   "outputs": [],
   "source": [
    "category_df = pd.read_excel(DATA_PATH / \"YOUTUBE_VIDEO_CATEGORIES_RU.xlsx\")"
   ],
   "metadata": {
    "collapsed": false,
    "ExecuteTime": {
     "start_time": "2023-04-08T12:34:11.685237Z",
     "end_time": "2023-04-08T12:34:11.799209Z"
    }
   }
  },
  {
   "cell_type": "code",
   "execution_count": 5,
   "outputs": [
    {
     "data": {
      "text/plain": "            kind                         etag           id  \\\n0  youtube#video  JlUeGRM73VkN0w8nCEaEyWoBan4  AAjsSrjZXsw   \n1  youtube#video  7WDv-DyXw9u2r1vYjW2NooOtj7s  yk4Wjr3j7QY   \n2  youtube#video  fDjV0KNgOssPF9NpbdoSpb40mR0  Wi49rKRM85U   \n3  youtube#video  UpqzTW3rCzeEURxHPRyg8n66jgM  kSiaxefvCgM   \n4  youtube#video  qVkdqXUraasWK3i8x412EgtkBc0  4nqfUzIz7kQ   \n\n    snippet.publishedAt         snippet.channelId  \\\n0  2021-03-10T13:46:47Z  UCh29SdTOPdjBb-n3Vop1lYg   \n1  2023-02-05T04:32:39Z  UCfcMgRNXey6TQkov9mgVgoA   \n2  2022-06-20T12:57:48Z  UCphnZS52v_lkv5RSl5n70tQ   \n3  2023-02-11T12:43:25Z  UCfcMgRNXey6TQkov9mgVgoA   \n4  2021-11-12T14:59:32Z  UCphnZS52v_lkv5RSl5n70tQ   \n\n                                       snippet.title  \\\n0  Расследование | Паленая косметика на Ozon и Wi...   \n1  Пляжная мода в Корее #этокореядетка #корейская...   \n2  한국인들은 절대 안사는 화장품 КОСМЕТИКА КОТОРАЯ КОРЕЯНКИ ВО...   \n3  Жилищный вопрос: Корея #дорамы #корейскийязык ...   \n4  Кореянка в Золотом Яблоке. Почему русские поку...   \n\n                                 snippet.description  \\\n0  На российских маркетплейсах продается огромное...   \n1                                                NaN   \n2  ⚫подписаться: https://goo.gl/3QbeUf\\n---------...   \n3                                                NaN   \n4  #кореянка#золотоеяблоко#корейскаякосметика\\nпр...   \n\n                   snippet.thumbnails.default.url  \\\n0  https://i.ytimg.com/vi/AAjsSrjZXsw/default.jpg   \n1  https://i.ytimg.com/vi/yk4Wjr3j7QY/default.jpg   \n2  https://i.ytimg.com/vi/Wi49rKRM85U/default.jpg   \n3  https://i.ytimg.com/vi/kSiaxefvCgM/default.jpg   \n4  https://i.ytimg.com/vi/4nqfUzIz7kQ/default.jpg   \n\n   snippet.thumbnails.default.width  snippet.thumbnails.default.height  ...  \\\n0                               120                                 90  ...   \n1                               120                                 90  ...   \n2                               120                                 90  ...   \n3                               120                                 90  ...   \n4                               120                                 90  ...   \n\n  statistics.commentCount                                   player.embedHtml  \\\n0                  5690.0  <iframe width=\"480\" height=\"270\" src=\"//www.yo...   \n1                   774.0  <iframe width=\"480\" height=\"270\" src=\"//www.yo...   \n2                  1138.0  <iframe width=\"480\" height=\"270\" src=\"//www.yo...   \n3                   701.0  <iframe width=\"480\" height=\"270\" src=\"//www.yo...   \n4                   766.0  <iframe width=\"480\" height=\"270\" src=\"//www.yo...   \n\n                        topicDetails.topicCategories  \\\n0  ['https://en.wikipedia.org/wiki/Lifestyle_(soc...   \n1  ['https://en.wikipedia.org/wiki/Lifestyle_(soc...   \n2  ['https://en.wikipedia.org/wiki/Lifestyle_(soc...   \n3  ['https://en.wikipedia.org/wiki/Lifestyle_(soc...   \n4  ['https://en.wikipedia.org/wiki/Lifestyle_(soc...   \n\n                                        snippet.tags  \\\n0                                                NaN   \n1                                                NaN   \n2  ['КОРЕЯНКА', 'АЗИАТКА', '#КОРЕЙСКАЯДЕВУШКА', '...   \n3                                                NaN   \n4  ['КОРЕЯНКА', 'АЗИАТКА', '#КОРЕЙСКАЯДЕВУШКА', '...   \n\n   liveStreamingDetails.actualStartTime  liveStreamingDetails.actualEndTime  \\\n0                                   NaN                                 NaN   \n1                                   NaN                                 NaN   \n2                                   NaN                                 NaN   \n3                                   NaN                                 NaN   \n4                                   NaN                                 NaN   \n\n  liveStreamingDetails.scheduledStartTime  \\\n0                                     NaN   \n1                                     NaN   \n2                                     NaN   \n3                                     NaN   \n4                                     NaN   \n\n   liveStreamingDetails.activeLiveChatId  \\\n0                                    NaN   \n1                                    NaN   \n2                                    NaN   \n3                                    NaN   \n4                                    NaN   \n\n   contentDetails.contentRating.ytRating statistics.dislikesCount  \n0                                    NaN                      756  \n1                                    NaN                     5790  \n2                                    NaN                      569  \n3                                    NaN                     2881  \n4                                    NaN                      154  \n\n[5 rows x 48 columns]",
      "text/html": "<div>\n<style scoped>\n    .dataframe tbody tr th:only-of-type {\n        vertical-align: middle;\n    }\n\n    .dataframe tbody tr th {\n        vertical-align: top;\n    }\n\n    .dataframe thead th {\n        text-align: right;\n    }\n</style>\n<table border=\"1\" class=\"dataframe\">\n  <thead>\n    <tr style=\"text-align: right;\">\n      <th></th>\n      <th>kind</th>\n      <th>etag</th>\n      <th>id</th>\n      <th>snippet.publishedAt</th>\n      <th>snippet.channelId</th>\n      <th>snippet.title</th>\n      <th>snippet.description</th>\n      <th>snippet.thumbnails.default.url</th>\n      <th>snippet.thumbnails.default.width</th>\n      <th>snippet.thumbnails.default.height</th>\n      <th>...</th>\n      <th>statistics.commentCount</th>\n      <th>player.embedHtml</th>\n      <th>topicDetails.topicCategories</th>\n      <th>snippet.tags</th>\n      <th>liveStreamingDetails.actualStartTime</th>\n      <th>liveStreamingDetails.actualEndTime</th>\n      <th>liveStreamingDetails.scheduledStartTime</th>\n      <th>liveStreamingDetails.activeLiveChatId</th>\n      <th>contentDetails.contentRating.ytRating</th>\n      <th>statistics.dislikesCount</th>\n    </tr>\n  </thead>\n  <tbody>\n    <tr>\n      <th>0</th>\n      <td>youtube#video</td>\n      <td>JlUeGRM73VkN0w8nCEaEyWoBan4</td>\n      <td>AAjsSrjZXsw</td>\n      <td>2021-03-10T13:46:47Z</td>\n      <td>UCh29SdTOPdjBb-n3Vop1lYg</td>\n      <td>Расследование | Паленая косметика на Ozon и Wi...</td>\n      <td>На российских маркетплейсах продается огромное...</td>\n      <td>https://i.ytimg.com/vi/AAjsSrjZXsw/default.jpg</td>\n      <td>120</td>\n      <td>90</td>\n      <td>...</td>\n      <td>5690.0</td>\n      <td>&lt;iframe width=\"480\" height=\"270\" src=\"//www.yo...</td>\n      <td>['https://en.wikipedia.org/wiki/Lifestyle_(soc...</td>\n      <td>NaN</td>\n      <td>NaN</td>\n      <td>NaN</td>\n      <td>NaN</td>\n      <td>NaN</td>\n      <td>NaN</td>\n      <td>756</td>\n    </tr>\n    <tr>\n      <th>1</th>\n      <td>youtube#video</td>\n      <td>7WDv-DyXw9u2r1vYjW2NooOtj7s</td>\n      <td>yk4Wjr3j7QY</td>\n      <td>2023-02-05T04:32:39Z</td>\n      <td>UCfcMgRNXey6TQkov9mgVgoA</td>\n      <td>Пляжная мода в Корее #этокореядетка #корейская...</td>\n      <td>NaN</td>\n      <td>https://i.ytimg.com/vi/yk4Wjr3j7QY/default.jpg</td>\n      <td>120</td>\n      <td>90</td>\n      <td>...</td>\n      <td>774.0</td>\n      <td>&lt;iframe width=\"480\" height=\"270\" src=\"//www.yo...</td>\n      <td>['https://en.wikipedia.org/wiki/Lifestyle_(soc...</td>\n      <td>NaN</td>\n      <td>NaN</td>\n      <td>NaN</td>\n      <td>NaN</td>\n      <td>NaN</td>\n      <td>NaN</td>\n      <td>5790</td>\n    </tr>\n    <tr>\n      <th>2</th>\n      <td>youtube#video</td>\n      <td>fDjV0KNgOssPF9NpbdoSpb40mR0</td>\n      <td>Wi49rKRM85U</td>\n      <td>2022-06-20T12:57:48Z</td>\n      <td>UCphnZS52v_lkv5RSl5n70tQ</td>\n      <td>한국인들은 절대 안사는 화장품 КОСМЕТИКА КОТОРАЯ КОРЕЯНКИ ВО...</td>\n      <td>⚫подписаться: https://goo.gl/3QbeUf\\n---------...</td>\n      <td>https://i.ytimg.com/vi/Wi49rKRM85U/default.jpg</td>\n      <td>120</td>\n      <td>90</td>\n      <td>...</td>\n      <td>1138.0</td>\n      <td>&lt;iframe width=\"480\" height=\"270\" src=\"//www.yo...</td>\n      <td>['https://en.wikipedia.org/wiki/Lifestyle_(soc...</td>\n      <td>['КОРЕЯНКА', 'АЗИАТКА', '#КОРЕЙСКАЯДЕВУШКА', '...</td>\n      <td>NaN</td>\n      <td>NaN</td>\n      <td>NaN</td>\n      <td>NaN</td>\n      <td>NaN</td>\n      <td>569</td>\n    </tr>\n    <tr>\n      <th>3</th>\n      <td>youtube#video</td>\n      <td>UpqzTW3rCzeEURxHPRyg8n66jgM</td>\n      <td>kSiaxefvCgM</td>\n      <td>2023-02-11T12:43:25Z</td>\n      <td>UCfcMgRNXey6TQkov9mgVgoA</td>\n      <td>Жилищный вопрос: Корея #дорамы #корейскийязык ...</td>\n      <td>NaN</td>\n      <td>https://i.ytimg.com/vi/kSiaxefvCgM/default.jpg</td>\n      <td>120</td>\n      <td>90</td>\n      <td>...</td>\n      <td>701.0</td>\n      <td>&lt;iframe width=\"480\" height=\"270\" src=\"//www.yo...</td>\n      <td>['https://en.wikipedia.org/wiki/Lifestyle_(soc...</td>\n      <td>NaN</td>\n      <td>NaN</td>\n      <td>NaN</td>\n      <td>NaN</td>\n      <td>NaN</td>\n      <td>NaN</td>\n      <td>2881</td>\n    </tr>\n    <tr>\n      <th>4</th>\n      <td>youtube#video</td>\n      <td>qVkdqXUraasWK3i8x412EgtkBc0</td>\n      <td>4nqfUzIz7kQ</td>\n      <td>2021-11-12T14:59:32Z</td>\n      <td>UCphnZS52v_lkv5RSl5n70tQ</td>\n      <td>Кореянка в Золотом Яблоке. Почему русские поку...</td>\n      <td>#кореянка#золотоеяблоко#корейскаякосметика\\nпр...</td>\n      <td>https://i.ytimg.com/vi/4nqfUzIz7kQ/default.jpg</td>\n      <td>120</td>\n      <td>90</td>\n      <td>...</td>\n      <td>766.0</td>\n      <td>&lt;iframe width=\"480\" height=\"270\" src=\"//www.yo...</td>\n      <td>['https://en.wikipedia.org/wiki/Lifestyle_(soc...</td>\n      <td>['КОРЕЯНКА', 'АЗИАТКА', '#КОРЕЙСКАЯДЕВУШКА', '...</td>\n      <td>NaN</td>\n      <td>NaN</td>\n      <td>NaN</td>\n      <td>NaN</td>\n      <td>NaN</td>\n      <td>154</td>\n    </tr>\n  </tbody>\n</table>\n<p>5 rows × 48 columns</p>\n</div>"
     },
     "execution_count": 5,
     "metadata": {},
     "output_type": "execute_result"
    }
   ],
   "source": [
    "## 5 Загрузка данных о видео, ранее собранных с помощью .search() and .videos()\n",
    "import pandas as pd\n",
    "\n",
    "df = pd.read_excel(DATA_PATH / \"seminar6\" / \"Video_characteristics_КорейскаяКосметика.xlsx\")\n",
    "\n",
    "DF_NAME = \"корейская_косметика\"\n",
    "\n",
    "df.head()"
   ],
   "metadata": {
    "collapsed": false,
    "ExecuteTime": {
     "start_time": "2023-04-08T12:35:27.576033Z",
     "end_time": "2023-04-08T12:35:28.194358Z"
    }
   }
  },
  {
   "cell_type": "code",
   "execution_count": 6,
   "outputs": [],
   "source": [
    "category_name_mapper = dict(zip([int(num) for num in category_df.category_id], category_df.category_name))"
   ],
   "metadata": {
    "collapsed": false,
    "ExecuteTime": {
     "start_time": "2023-04-08T12:35:28.773803Z",
     "end_time": "2023-04-08T12:35:28.782714Z"
    }
   }
  },
  {
   "cell_type": "code",
   "execution_count": 7,
   "outputs": [],
   "source": [
    "df['snippet.categoryId'] = df['snippet.categoryId'].apply(int)\n",
    "\n",
    "df['categoryName'] = df['snippet.categoryId'].map(category_name_mapper)"
   ],
   "metadata": {
    "collapsed": false,
    "ExecuteTime": {
     "start_time": "2023-04-08T12:35:29.424608Z",
     "end_time": "2023-04-08T12:35:29.437014Z"
    }
   }
  },
  {
   "cell_type": "code",
   "execution_count": 8,
   "outputs": [],
   "source": [
    "df.to_excel(DATA_PATH / 'video'/ f'Video_characteristics_КорейскаяКосметика.xlsx', index=False)"
   ],
   "metadata": {
    "collapsed": false,
    "ExecuteTime": {
     "start_time": "2023-04-08T12:35:35.100230Z",
     "end_time": "2023-04-08T12:35:36.214235Z"
    }
   }
  },
  {
   "cell_type": "code",
   "execution_count": null,
   "outputs": [],
   "source": [],
   "metadata": {
    "collapsed": false
   }
  }
 ],
 "metadata": {
  "kernelspec": {
   "display_name": "Python 3",
   "language": "python",
   "name": "python3"
  },
  "language_info": {
   "codemirror_mode": {
    "name": "ipython",
    "version": 2
   },
   "file_extension": ".py",
   "mimetype": "text/x-python",
   "name": "python",
   "nbconvert_exporter": "python",
   "pygments_lexer": "ipython2",
   "version": "2.7.6"
  }
 },
 "nbformat": 4,
 "nbformat_minor": 0
}
