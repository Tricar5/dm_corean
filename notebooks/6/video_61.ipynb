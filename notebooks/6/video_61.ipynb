{
 "cells": [
  {
   "cell_type": "markdown",
   "source": [
    "# Занятие 6. категорий (videoCategories) найденных видео\n",
    "\n",
    "## План:\n",
    "\n",
    "1. Разберитесь с устройством метода .videoCategories() на сайте https://developers.google.com .\n",
    "\n",
    "2. В API Explorer на сайте https://developers.google.com методом .videoCategories() подайте запрос на выяснение категории одного видео из ранее собранных методом .search() .\n",
    "\n",
    "3. Перенесите в новый скрипт Python код из API Explorer и обеспечьте его работоспособность.\n",
    "\n",
    "4. Усовершенствуйте скрипт, чтобы он проходился по категориям всех видео из датафрейма \"Про видео\" (из пункта 1.4.), записывал номера этих категорий и их расшифровки в новый датафрейм (можно назвать его \"Имена категорий\" или в этом роде).\n",
    "5. Выберите любую категорию из датафрейма \"Имена категорий\" и выведите на экран те строчки датафрейма \"Про видео\", в которых видео относятся к этой категории (другими словами, проиндексируйте датафрейм). Добавьте в датафрейм \"Про видео\" столбец categoryName. Запишите в этот столбец только в те строки, в которых видео относятся к выбранной категории, расшифровку этой категории.\n",
    "6. Усовершенствуйте скрипт, чтобы он проходился по каждой категории из датафрейма \"Имена категорий\" и записывал в датафрейм \"Про видео\" в строки видео, относящихся к соответствующей категории, в столбец categoryName расшифровки этих категорий. Т.е. чтобы каждое видео получило расшифровку своей категории в столбце categoryName."
   ],
   "metadata": {
    "collapsed": false
   }
  },
  {
   "cell_type": "code",
   "execution_count": 1,
   "outputs": [],
   "source": [
    "import pandas as pd\n",
    "# 1\n",
    "import yaml\n",
    "import os\n",
    "import pathlib\n",
    "ROOT = pathlib.Path().resolve().parent.parent\n",
    "\n",
    "with open(ROOT / \"config.yml\", \"r\") as f:\n",
    "    config = yaml.load(f, Loader=yaml.FullLoader)\n"
   ],
   "metadata": {
    "collapsed": false
   }
  },
  {
   "cell_type": "code",
   "execution_count": 2,
   "outputs": [],
   "source": [
    "DATA_PATH = ROOT / config['api']['DATA_PATH']"
   ],
   "metadata": {
    "collapsed": false
   }
  },
  {
   "cell_type": "code",
   "execution_count": 3,
   "outputs": [],
   "source": [
    "#3\n",
    "# Variables from config\n",
    "API_KEY = config['api']['keys']\n",
    "API_VERSION = config['api']['api_version']\n",
    "API_SERVICE_NAME = config['api']['api_service_name']\n",
    "\n",
    "publishedAfter = config['api']['parameters']['date_after']\n",
    "publishedBefore = config['api']['parameters']['date_before']\n",
    "\n"
   ],
   "metadata": {
    "collapsed": false
   }
  },
  {
   "cell_type": "code",
   "execution_count": 4,
   "outputs": [],
   "source": [
    "# 3.1\n",
    "class KeyStorage:\n",
    "    \"\"\"\n",
    "    Class to use in iteration\n",
    "    \"\"\"\n",
    "\n",
    "    def __init__(self, key_arr: list[str]):\n",
    "        self.key_gen = iter(key_arr)\n",
    "\n",
    "    def get_next_key(self):\n",
    "        \"\"\"\n",
    "        Returns API key to use\n",
    "        :return:\n",
    "        \"\"\"\n",
    "        return next(self.key_gen)\n",
    "\n",
    "key_storage = KeyStorage(config['api']['keys'])"
   ],
   "metadata": {
    "collapsed": false
   }
  },
  {
   "cell_type": "code",
   "execution_count": 5,
   "outputs": [],
   "source": [
    "# 3.2 Просмотр API ключа\n",
    "API_KEY = key_storage.get_next_key()"
   ],
   "metadata": {
    "collapsed": false
   }
  },
  {
   "cell_type": "code",
   "execution_count": 6,
   "outputs": [],
   "source": [
    "# 4 импортируем и создаем клиент API Youtube\n",
    "import googleapiclient.discovery as api\n",
    "\n",
    "api_service_name = \"youtube\"\n",
    "api_version = \"v3\"\n",
    "\n",
    "youtube = api.build(api_service_name,\n",
    "                    api_version,\n",
    "                    developerKey=API_KEY)"
   ],
   "metadata": {
    "collapsed": false
   }
  },
  {
   "cell_type": "code",
   "execution_count": 8,
   "outputs": [],
   "source": [
    "# 6 получаем список видео для загрузки категорий\n",
    "\n",
    "search_part = [\n",
    "    'id',\n",
    "    'snippet',\n",
    "]\n"
   ],
   "metadata": {
    "collapsed": false
   }
  },
  {
   "cell_type": "code",
   "execution_count": 9,
   "outputs": [
    {
     "data": {
      "text/plain": "                    kind                         etag  id     snippet.title  \\\n0  youtube#videoCategory  grPOPYEUUZN3ltuDUGEWlrTR90U   1  Film & Animation   \n1  youtube#videoCategory  Q0xgUf8BFM8rW3W0R9wNq809xyA   2  Autos & Vehicles   \n2  youtube#videoCategory  qnpwjh5QlWM5hrnZCvHisquztC4  10             Music   \n3  youtube#videoCategory  HyFIixS5BZaoBdkQdLzPdoXWipg  15    Pets & Animals   \n4  youtube#videoCategory  PNU8SwXhjsF90fmkilVohofOi4I  17            Sports   \n\n   snippet.assignable         snippet.channelId  \n0                True  UCBR8-60-B28hp2BmDPdntcQ  \n1                True  UCBR8-60-B28hp2BmDPdntcQ  \n2                True  UCBR8-60-B28hp2BmDPdntcQ  \n3                True  UCBR8-60-B28hp2BmDPdntcQ  \n4                True  UCBR8-60-B28hp2BmDPdntcQ  ",
      "text/html": "<div>\n<style scoped>\n    .dataframe tbody tr th:only-of-type {\n        vertical-align: middle;\n    }\n\n    .dataframe tbody tr th {\n        vertical-align: top;\n    }\n\n    .dataframe thead th {\n        text-align: right;\n    }\n</style>\n<table border=\"1\" class=\"dataframe\">\n  <thead>\n    <tr style=\"text-align: right;\">\n      <th></th>\n      <th>kind</th>\n      <th>etag</th>\n      <th>id</th>\n      <th>snippet.title</th>\n      <th>snippet.assignable</th>\n      <th>snippet.channelId</th>\n    </tr>\n  </thead>\n  <tbody>\n    <tr>\n      <th>0</th>\n      <td>youtube#videoCategory</td>\n      <td>grPOPYEUUZN3ltuDUGEWlrTR90U</td>\n      <td>1</td>\n      <td>Film &amp; Animation</td>\n      <td>True</td>\n      <td>UCBR8-60-B28hp2BmDPdntcQ</td>\n    </tr>\n    <tr>\n      <th>1</th>\n      <td>youtube#videoCategory</td>\n      <td>Q0xgUf8BFM8rW3W0R9wNq809xyA</td>\n      <td>2</td>\n      <td>Autos &amp; Vehicles</td>\n      <td>True</td>\n      <td>UCBR8-60-B28hp2BmDPdntcQ</td>\n    </tr>\n    <tr>\n      <th>2</th>\n      <td>youtube#videoCategory</td>\n      <td>qnpwjh5QlWM5hrnZCvHisquztC4</td>\n      <td>10</td>\n      <td>Music</td>\n      <td>True</td>\n      <td>UCBR8-60-B28hp2BmDPdntcQ</td>\n    </tr>\n    <tr>\n      <th>3</th>\n      <td>youtube#videoCategory</td>\n      <td>HyFIixS5BZaoBdkQdLzPdoXWipg</td>\n      <td>15</td>\n      <td>Pets &amp; Animals</td>\n      <td>True</td>\n      <td>UCBR8-60-B28hp2BmDPdntcQ</td>\n    </tr>\n    <tr>\n      <th>4</th>\n      <td>youtube#videoCategory</td>\n      <td>PNU8SwXhjsF90fmkilVohofOi4I</td>\n      <td>17</td>\n      <td>Sports</td>\n      <td>True</td>\n      <td>UCBR8-60-B28hp2BmDPdntcQ</td>\n    </tr>\n  </tbody>\n</table>\n</div>"
     },
     "execution_count": 9,
     "metadata": {},
     "output_type": "execute_result"
    }
   ],
   "source": [
    "# 7 Одиночный вызов API\n",
    "\n",
    "request = youtube.videoCategories().list(\n",
    "    part=search_part,\n",
    "    regionCode=\"RU\",\n",
    ")\n",
    "response = request.execute()\n",
    "\n",
    "df_supplemented = pd.json_normalize(response['items'])\n",
    "df_supplemented.head()"
   ],
   "metadata": {
    "collapsed": false
   }
  },
  {
   "cell_type": "code",
   "execution_count": 10,
   "outputs": [
    {
     "data": {
      "text/plain": "                     kind                         etag  id  \\\n0   youtube#videoCategory  grPOPYEUUZN3ltuDUGEWlrTR90U   1   \n1   youtube#videoCategory  Q0xgUf8BFM8rW3W0R9wNq809xyA   2   \n2   youtube#videoCategory  qnpwjh5QlWM5hrnZCvHisquztC4  10   \n3   youtube#videoCategory  HyFIixS5BZaoBdkQdLzPdoXWipg  15   \n4   youtube#videoCategory  PNU8SwXhjsF90fmkilVohofOi4I  17   \n5   youtube#videoCategory  5kFljz9YJ4lEgSfVwHWi5kTAwAs  18   \n6   youtube#videoCategory  ANnLQyzEA_9m3bMyJXMhKTCOiyg  19   \n7   youtube#videoCategory  0Hh6gbZ9zWjnV3sfdZjKB5LQr6E  20   \n8   youtube#videoCategory  q8Cp4pUfCD8Fuh8VJ_yl5cBCVNw  21   \n9   youtube#videoCategory  cHDaaqPDZsJT1FPr1-MwtyIhR28  22   \n10  youtube#videoCategory  3Uz364xBbKY50a2s0XQlv-gXJds  23   \n11  youtube#videoCategory  0srcLUqQzO7-NGLF7QnhdVzJQmY  24   \n12  youtube#videoCategory  bQlQMjmYX7DyFkX4w3kT0osJyIc  25   \n13  youtube#videoCategory  Y06N41HP_WlZmeREZvkGF0HW5pg  26   \n14  youtube#videoCategory  yBaNkLx4sX9NcDmFgAmxQcV4Y30  27   \n15  youtube#videoCategory  Mxy3A-SkmnR7MhJDZRS4DuAIbQA  28   \n16  youtube#videoCategory  4pIHL_AdN2kO7btAGAP1TvPucNk  30   \n17  youtube#videoCategory  Iqol1myDwh2AuOnxjtn2AfYwJTU  31   \n18  youtube#videoCategory  tzhBKCBcYWZLPai5INY4id91ss8  32   \n19  youtube#videoCategory  ii8nBGYpKyl6FyzP3cmBCevdrbs  33   \n20  youtube#videoCategory  Y0u9UAQCCGp60G11Arac5Mp46z4  34   \n21  youtube#videoCategory  _YDnyT205AMuX8etu8loOiQjbD4  35   \n22  youtube#videoCategory  eAl2b-uqIGRDgnlMa0EsGZjXmWg  36   \n23  youtube#videoCategory  HDAW2HFOt3SqeDI00X-eL7OELfY  37   \n24  youtube#videoCategory  QHiWh3niw5hjDrim85M8IGF45eE  38   \n25  youtube#videoCategory  ztKcSS7GpH9uEyZk9nQCdNujvGg  39   \n26  youtube#videoCategory  Ids1sm8QFeSo_cDlpcUNrnEBYWA  40   \n27  youtube#videoCategory  qhfgS7MzzZHIy_UZ1dlawl1GbnY  41   \n28  youtube#videoCategory  TxVSfGoUyT7CJ7h7ebjg4vhIt6g  42   \n29  youtube#videoCategory  o9w6eNqzjHPnNbKDujnQd8pklXM  43   \n30  youtube#videoCategory  mLdyKd0VgXKDI6GevTLBAcvRlIU  44   \n\n           snippet.title  snippet.assignable         snippet.channelId  \n0       Film & Animation                True  UCBR8-60-B28hp2BmDPdntcQ  \n1       Autos & Vehicles                True  UCBR8-60-B28hp2BmDPdntcQ  \n2                  Music                True  UCBR8-60-B28hp2BmDPdntcQ  \n3         Pets & Animals                True  UCBR8-60-B28hp2BmDPdntcQ  \n4                 Sports                True  UCBR8-60-B28hp2BmDPdntcQ  \n5           Short Movies               False  UCBR8-60-B28hp2BmDPdntcQ  \n6        Travel & Events                True  UCBR8-60-B28hp2BmDPdntcQ  \n7                 Gaming                True  UCBR8-60-B28hp2BmDPdntcQ  \n8          Videoblogging               False  UCBR8-60-B28hp2BmDPdntcQ  \n9         People & Blogs                True  UCBR8-60-B28hp2BmDPdntcQ  \n10                Comedy                True  UCBR8-60-B28hp2BmDPdntcQ  \n11         Entertainment                True  UCBR8-60-B28hp2BmDPdntcQ  \n12       News & Politics                True  UCBR8-60-B28hp2BmDPdntcQ  \n13         Howto & Style                True  UCBR8-60-B28hp2BmDPdntcQ  \n14             Education                True  UCBR8-60-B28hp2BmDPdntcQ  \n15  Science & Technology                True  UCBR8-60-B28hp2BmDPdntcQ  \n16                Movies               False  UCBR8-60-B28hp2BmDPdntcQ  \n17       Anime/Animation               False  UCBR8-60-B28hp2BmDPdntcQ  \n18      Action/Adventure               False  UCBR8-60-B28hp2BmDPdntcQ  \n19              Classics               False  UCBR8-60-B28hp2BmDPdntcQ  \n20                Comedy               False  UCBR8-60-B28hp2BmDPdntcQ  \n21           Documentary               False  UCBR8-60-B28hp2BmDPdntcQ  \n22                 Drama               False  UCBR8-60-B28hp2BmDPdntcQ  \n23                Family               False  UCBR8-60-B28hp2BmDPdntcQ  \n24               Foreign               False  UCBR8-60-B28hp2BmDPdntcQ  \n25                Horror               False  UCBR8-60-B28hp2BmDPdntcQ  \n26        Sci-Fi/Fantasy               False  UCBR8-60-B28hp2BmDPdntcQ  \n27              Thriller               False  UCBR8-60-B28hp2BmDPdntcQ  \n28                Shorts               False  UCBR8-60-B28hp2BmDPdntcQ  \n29                 Shows               False  UCBR8-60-B28hp2BmDPdntcQ  \n30              Trailers               False  UCBR8-60-B28hp2BmDPdntcQ  ",
      "text/html": "<div>\n<style scoped>\n    .dataframe tbody tr th:only-of-type {\n        vertical-align: middle;\n    }\n\n    .dataframe tbody tr th {\n        vertical-align: top;\n    }\n\n    .dataframe thead th {\n        text-align: right;\n    }\n</style>\n<table border=\"1\" class=\"dataframe\">\n  <thead>\n    <tr style=\"text-align: right;\">\n      <th></th>\n      <th>kind</th>\n      <th>etag</th>\n      <th>id</th>\n      <th>snippet.title</th>\n      <th>snippet.assignable</th>\n      <th>snippet.channelId</th>\n    </tr>\n  </thead>\n  <tbody>\n    <tr>\n      <th>0</th>\n      <td>youtube#videoCategory</td>\n      <td>grPOPYEUUZN3ltuDUGEWlrTR90U</td>\n      <td>1</td>\n      <td>Film &amp; Animation</td>\n      <td>True</td>\n      <td>UCBR8-60-B28hp2BmDPdntcQ</td>\n    </tr>\n    <tr>\n      <th>1</th>\n      <td>youtube#videoCategory</td>\n      <td>Q0xgUf8BFM8rW3W0R9wNq809xyA</td>\n      <td>2</td>\n      <td>Autos &amp; Vehicles</td>\n      <td>True</td>\n      <td>UCBR8-60-B28hp2BmDPdntcQ</td>\n    </tr>\n    <tr>\n      <th>2</th>\n      <td>youtube#videoCategory</td>\n      <td>qnpwjh5QlWM5hrnZCvHisquztC4</td>\n      <td>10</td>\n      <td>Music</td>\n      <td>True</td>\n      <td>UCBR8-60-B28hp2BmDPdntcQ</td>\n    </tr>\n    <tr>\n      <th>3</th>\n      <td>youtube#videoCategory</td>\n      <td>HyFIixS5BZaoBdkQdLzPdoXWipg</td>\n      <td>15</td>\n      <td>Pets &amp; Animals</td>\n      <td>True</td>\n      <td>UCBR8-60-B28hp2BmDPdntcQ</td>\n    </tr>\n    <tr>\n      <th>4</th>\n      <td>youtube#videoCategory</td>\n      <td>PNU8SwXhjsF90fmkilVohofOi4I</td>\n      <td>17</td>\n      <td>Sports</td>\n      <td>True</td>\n      <td>UCBR8-60-B28hp2BmDPdntcQ</td>\n    </tr>\n    <tr>\n      <th>5</th>\n      <td>youtube#videoCategory</td>\n      <td>5kFljz9YJ4lEgSfVwHWi5kTAwAs</td>\n      <td>18</td>\n      <td>Short Movies</td>\n      <td>False</td>\n      <td>UCBR8-60-B28hp2BmDPdntcQ</td>\n    </tr>\n    <tr>\n      <th>6</th>\n      <td>youtube#videoCategory</td>\n      <td>ANnLQyzEA_9m3bMyJXMhKTCOiyg</td>\n      <td>19</td>\n      <td>Travel &amp; Events</td>\n      <td>True</td>\n      <td>UCBR8-60-B28hp2BmDPdntcQ</td>\n    </tr>\n    <tr>\n      <th>7</th>\n      <td>youtube#videoCategory</td>\n      <td>0Hh6gbZ9zWjnV3sfdZjKB5LQr6E</td>\n      <td>20</td>\n      <td>Gaming</td>\n      <td>True</td>\n      <td>UCBR8-60-B28hp2BmDPdntcQ</td>\n    </tr>\n    <tr>\n      <th>8</th>\n      <td>youtube#videoCategory</td>\n      <td>q8Cp4pUfCD8Fuh8VJ_yl5cBCVNw</td>\n      <td>21</td>\n      <td>Videoblogging</td>\n      <td>False</td>\n      <td>UCBR8-60-B28hp2BmDPdntcQ</td>\n    </tr>\n    <tr>\n      <th>9</th>\n      <td>youtube#videoCategory</td>\n      <td>cHDaaqPDZsJT1FPr1-MwtyIhR28</td>\n      <td>22</td>\n      <td>People &amp; Blogs</td>\n      <td>True</td>\n      <td>UCBR8-60-B28hp2BmDPdntcQ</td>\n    </tr>\n    <tr>\n      <th>10</th>\n      <td>youtube#videoCategory</td>\n      <td>3Uz364xBbKY50a2s0XQlv-gXJds</td>\n      <td>23</td>\n      <td>Comedy</td>\n      <td>True</td>\n      <td>UCBR8-60-B28hp2BmDPdntcQ</td>\n    </tr>\n    <tr>\n      <th>11</th>\n      <td>youtube#videoCategory</td>\n      <td>0srcLUqQzO7-NGLF7QnhdVzJQmY</td>\n      <td>24</td>\n      <td>Entertainment</td>\n      <td>True</td>\n      <td>UCBR8-60-B28hp2BmDPdntcQ</td>\n    </tr>\n    <tr>\n      <th>12</th>\n      <td>youtube#videoCategory</td>\n      <td>bQlQMjmYX7DyFkX4w3kT0osJyIc</td>\n      <td>25</td>\n      <td>News &amp; Politics</td>\n      <td>True</td>\n      <td>UCBR8-60-B28hp2BmDPdntcQ</td>\n    </tr>\n    <tr>\n      <th>13</th>\n      <td>youtube#videoCategory</td>\n      <td>Y06N41HP_WlZmeREZvkGF0HW5pg</td>\n      <td>26</td>\n      <td>Howto &amp; Style</td>\n      <td>True</td>\n      <td>UCBR8-60-B28hp2BmDPdntcQ</td>\n    </tr>\n    <tr>\n      <th>14</th>\n      <td>youtube#videoCategory</td>\n      <td>yBaNkLx4sX9NcDmFgAmxQcV4Y30</td>\n      <td>27</td>\n      <td>Education</td>\n      <td>True</td>\n      <td>UCBR8-60-B28hp2BmDPdntcQ</td>\n    </tr>\n    <tr>\n      <th>15</th>\n      <td>youtube#videoCategory</td>\n      <td>Mxy3A-SkmnR7MhJDZRS4DuAIbQA</td>\n      <td>28</td>\n      <td>Science &amp; Technology</td>\n      <td>True</td>\n      <td>UCBR8-60-B28hp2BmDPdntcQ</td>\n    </tr>\n    <tr>\n      <th>16</th>\n      <td>youtube#videoCategory</td>\n      <td>4pIHL_AdN2kO7btAGAP1TvPucNk</td>\n      <td>30</td>\n      <td>Movies</td>\n      <td>False</td>\n      <td>UCBR8-60-B28hp2BmDPdntcQ</td>\n    </tr>\n    <tr>\n      <th>17</th>\n      <td>youtube#videoCategory</td>\n      <td>Iqol1myDwh2AuOnxjtn2AfYwJTU</td>\n      <td>31</td>\n      <td>Anime/Animation</td>\n      <td>False</td>\n      <td>UCBR8-60-B28hp2BmDPdntcQ</td>\n    </tr>\n    <tr>\n      <th>18</th>\n      <td>youtube#videoCategory</td>\n      <td>tzhBKCBcYWZLPai5INY4id91ss8</td>\n      <td>32</td>\n      <td>Action/Adventure</td>\n      <td>False</td>\n      <td>UCBR8-60-B28hp2BmDPdntcQ</td>\n    </tr>\n    <tr>\n      <th>19</th>\n      <td>youtube#videoCategory</td>\n      <td>ii8nBGYpKyl6FyzP3cmBCevdrbs</td>\n      <td>33</td>\n      <td>Classics</td>\n      <td>False</td>\n      <td>UCBR8-60-B28hp2BmDPdntcQ</td>\n    </tr>\n    <tr>\n      <th>20</th>\n      <td>youtube#videoCategory</td>\n      <td>Y0u9UAQCCGp60G11Arac5Mp46z4</td>\n      <td>34</td>\n      <td>Comedy</td>\n      <td>False</td>\n      <td>UCBR8-60-B28hp2BmDPdntcQ</td>\n    </tr>\n    <tr>\n      <th>21</th>\n      <td>youtube#videoCategory</td>\n      <td>_YDnyT205AMuX8etu8loOiQjbD4</td>\n      <td>35</td>\n      <td>Documentary</td>\n      <td>False</td>\n      <td>UCBR8-60-B28hp2BmDPdntcQ</td>\n    </tr>\n    <tr>\n      <th>22</th>\n      <td>youtube#videoCategory</td>\n      <td>eAl2b-uqIGRDgnlMa0EsGZjXmWg</td>\n      <td>36</td>\n      <td>Drama</td>\n      <td>False</td>\n      <td>UCBR8-60-B28hp2BmDPdntcQ</td>\n    </tr>\n    <tr>\n      <th>23</th>\n      <td>youtube#videoCategory</td>\n      <td>HDAW2HFOt3SqeDI00X-eL7OELfY</td>\n      <td>37</td>\n      <td>Family</td>\n      <td>False</td>\n      <td>UCBR8-60-B28hp2BmDPdntcQ</td>\n    </tr>\n    <tr>\n      <th>24</th>\n      <td>youtube#videoCategory</td>\n      <td>QHiWh3niw5hjDrim85M8IGF45eE</td>\n      <td>38</td>\n      <td>Foreign</td>\n      <td>False</td>\n      <td>UCBR8-60-B28hp2BmDPdntcQ</td>\n    </tr>\n    <tr>\n      <th>25</th>\n      <td>youtube#videoCategory</td>\n      <td>ztKcSS7GpH9uEyZk9nQCdNujvGg</td>\n      <td>39</td>\n      <td>Horror</td>\n      <td>False</td>\n      <td>UCBR8-60-B28hp2BmDPdntcQ</td>\n    </tr>\n    <tr>\n      <th>26</th>\n      <td>youtube#videoCategory</td>\n      <td>Ids1sm8QFeSo_cDlpcUNrnEBYWA</td>\n      <td>40</td>\n      <td>Sci-Fi/Fantasy</td>\n      <td>False</td>\n      <td>UCBR8-60-B28hp2BmDPdntcQ</td>\n    </tr>\n    <tr>\n      <th>27</th>\n      <td>youtube#videoCategory</td>\n      <td>qhfgS7MzzZHIy_UZ1dlawl1GbnY</td>\n      <td>41</td>\n      <td>Thriller</td>\n      <td>False</td>\n      <td>UCBR8-60-B28hp2BmDPdntcQ</td>\n    </tr>\n    <tr>\n      <th>28</th>\n      <td>youtube#videoCategory</td>\n      <td>TxVSfGoUyT7CJ7h7ebjg4vhIt6g</td>\n      <td>42</td>\n      <td>Shorts</td>\n      <td>False</td>\n      <td>UCBR8-60-B28hp2BmDPdntcQ</td>\n    </tr>\n    <tr>\n      <th>29</th>\n      <td>youtube#videoCategory</td>\n      <td>o9w6eNqzjHPnNbKDujnQd8pklXM</td>\n      <td>43</td>\n      <td>Shows</td>\n      <td>False</td>\n      <td>UCBR8-60-B28hp2BmDPdntcQ</td>\n    </tr>\n    <tr>\n      <th>30</th>\n      <td>youtube#videoCategory</td>\n      <td>mLdyKd0VgXKDI6GevTLBAcvRlIU</td>\n      <td>44</td>\n      <td>Trailers</td>\n      <td>False</td>\n      <td>UCBR8-60-B28hp2BmDPdntcQ</td>\n    </tr>\n  </tbody>\n</table>\n</div>"
     },
     "metadata": {},
     "output_type": "display_data"
    }
   ],
   "source": [
    "display(df_supplemented)"
   ],
   "metadata": {
    "collapsed": false
   }
  },
  {
   "cell_type": "code",
   "execution_count": 11,
   "outputs": [],
   "source": [
    "df_supplemented = df_supplemented[['id', 'snippet.title']]\n",
    "\n",
    "df_supplemented.columns = ['category_id', 'category_name']"
   ],
   "metadata": {
    "collapsed": false
   }
  },
  {
   "cell_type": "code",
   "execution_count": 12,
   "outputs": [],
   "source": [
    "df_supplemented.to_excel(DATA_PATH / \"YOUTUBE_VIDEO_CATEGORIES_RU.xlsx\", index=False)"
   ],
   "metadata": {
    "collapsed": false
   }
  },
  {
   "cell_type": "code",
   "execution_count": 13,
   "outputs": [
    {
     "data": {
      "text/plain": "            kind                         etag           id  \\\n0  youtube#video  y2TYUQDAVbQ1RjOlZYW1d4Jw4dI  Wi49rKRM85U   \n1  youtube#video  o66jMxQvLcxHppuMKbr9O4YKTdc  1ErvLvQoYxc   \n2  youtube#video  r5AI8SEX9ALW3uMkVcN7-JFZM4M  aiY0ymL25Pw   \n3  youtube#video  QWhr34_5_ubMXZ65kTQSHrRq4So  JA9E4TCVsDU   \n4  youtube#video  jG76vdNVH6uxysegxqbblE-qQKQ  NAeXVpMTiT4   \n\n    snippet.publishedAt         snippet.channelId  \\\n0  2022-06-20T12:57:48Z  UCphnZS52v_lkv5RSl5n70tQ   \n1  2019-03-21T10:23:49Z  UC6C0oFYlpKkFGG-ykqM4fYw   \n2  2021-08-20T08:51:18Z  UCiT7bPorr4rKJU8WFBZA9Og   \n3  2015-12-06T14:30:40Z  UCNazbf-kLY6E8TO_o48ZExQ   \n4  2018-04-20T15:19:56Z  UCmXGqfEsluA1fID55bVexjw   \n\n                                       snippet.title  \\\n0  한국인들은 절대 안사는 화장품 КОСМЕТИКА КОТОРАЯ КОРЕЯНКИ ВО...   \n1  ТЫ ДОЛЖНА ЭТО ПОПРОБОВАТЬ! ЛУЧШАЯ КОРЕЙСКАЯ КО...   \n2  РЕАКЦИЯ дерматолога: 10 этапов корейского уход...   \n3  КАК Я ИСПОРТИЛА КОЖУ: КОРЕЙСКАЯ КОСМЕТИКА\\Tony...   \n4  🇰🇷 НЕВЕРОЯТНАЯ КОРЕЙСКАЯ КОСМЕТИКА! Топовые шт...   \n\n                                 snippet.description  \\\n0  ⚫подписаться: https://goo.gl/3QbeUf\\n---------...   \n1  Хорошие мои, сегодня я расскажу вам про свой к...   \n2  Мой телеграм:\\nhttps://t.me/dr_amina_pirmanova...   \n3  Привет! Корейская косметика снова набирает обо...   \n4  Магазин корейской косметики https://goo.gl/UJG...   \n\n                   snippet.thumbnails.default.url  \\\n0  https://i.ytimg.com/vi/Wi49rKRM85U/default.jpg   \n1  https://i.ytimg.com/vi/1ErvLvQoYxc/default.jpg   \n2  https://i.ytimg.com/vi/aiY0ymL25Pw/default.jpg   \n3  https://i.ytimg.com/vi/JA9E4TCVsDU/default.jpg   \n4  https://i.ytimg.com/vi/NAeXVpMTiT4/default.jpg   \n\n   snippet.thumbnails.default.width  snippet.thumbnails.default.height  ...  \\\n0                               120                                 90  ...   \n1                               120                                 90  ...   \n2                               120                                 90  ...   \n3                               120                                 90  ...   \n4                               120                                 90  ...   \n\n  statistics.viewCount  statistics.likeCount  statistics.favoriteCount  \\\n0               901509               48917.0                         0   \n1               388492               11034.0                         0   \n2               384852               31567.0                         0   \n3               329029                2954.0                         0   \n4               296580               12750.0                         0   \n\n  statistics.commentCount                                   player.embedHtml  \\\n0                   984.0  <iframe width=\"480\" height=\"270\" src=\"//www.yo...   \n1                   378.0  <iframe width=\"480\" height=\"270\" src=\"//www.yo...   \n2                  1767.0  <iframe width=\"480\" height=\"270\" src=\"//www.yo...   \n3                   324.0  <iframe width=\"480\" height=\"270\" src=\"//www.yo...   \n4                   687.0  <iframe width=\"480\" height=\"270\" src=\"//www.yo...   \n\n                        topicDetails.topicCategories snippet.defaultLanguage  \\\n0  ['https://en.wikipedia.org/wiki/Lifestyle_(soc...                     NaN   \n1  ['https://en.wikipedia.org/wiki/Lifestyle_(soc...                     NaN   \n2  ['https://en.wikipedia.org/wiki/Health', 'http...                     NaN   \n3  ['https://en.wikipedia.org/wiki/Lifestyle_(soc...                     NaN   \n4  ['https://en.wikipedia.org/wiki/Lifestyle_(soc...                     NaN   \n\n   liveStreamingDetails.actualStartTime  liveStreamingDetails.actualEndTime  \\\n0                                   NaN                                 NaN   \n1                                   NaN                                 NaN   \n2                                   NaN                                 NaN   \n3                                   NaN                                 NaN   \n4                                   NaN                                 NaN   \n\n  liveStreamingDetails.scheduledStartTime  \n0                                     NaN  \n1                                     NaN  \n2                                     NaN  \n3                                     NaN  \n4                                     NaN  \n\n[5 rows x 39 columns]",
      "text/html": "<div>\n<style scoped>\n    .dataframe tbody tr th:only-of-type {\n        vertical-align: middle;\n    }\n\n    .dataframe tbody tr th {\n        vertical-align: top;\n    }\n\n    .dataframe thead th {\n        text-align: right;\n    }\n</style>\n<table border=\"1\" class=\"dataframe\">\n  <thead>\n    <tr style=\"text-align: right;\">\n      <th></th>\n      <th>kind</th>\n      <th>etag</th>\n      <th>id</th>\n      <th>snippet.publishedAt</th>\n      <th>snippet.channelId</th>\n      <th>snippet.title</th>\n      <th>snippet.description</th>\n      <th>snippet.thumbnails.default.url</th>\n      <th>snippet.thumbnails.default.width</th>\n      <th>snippet.thumbnails.default.height</th>\n      <th>...</th>\n      <th>statistics.viewCount</th>\n      <th>statistics.likeCount</th>\n      <th>statistics.favoriteCount</th>\n      <th>statistics.commentCount</th>\n      <th>player.embedHtml</th>\n      <th>topicDetails.topicCategories</th>\n      <th>snippet.defaultLanguage</th>\n      <th>liveStreamingDetails.actualStartTime</th>\n      <th>liveStreamingDetails.actualEndTime</th>\n      <th>liveStreamingDetails.scheduledStartTime</th>\n    </tr>\n  </thead>\n  <tbody>\n    <tr>\n      <th>0</th>\n      <td>youtube#video</td>\n      <td>y2TYUQDAVbQ1RjOlZYW1d4Jw4dI</td>\n      <td>Wi49rKRM85U</td>\n      <td>2022-06-20T12:57:48Z</td>\n      <td>UCphnZS52v_lkv5RSl5n70tQ</td>\n      <td>한국인들은 절대 안사는 화장품 КОСМЕТИКА КОТОРАЯ КОРЕЯНКИ ВО...</td>\n      <td>⚫подписаться: https://goo.gl/3QbeUf\\n---------...</td>\n      <td>https://i.ytimg.com/vi/Wi49rKRM85U/default.jpg</td>\n      <td>120</td>\n      <td>90</td>\n      <td>...</td>\n      <td>901509</td>\n      <td>48917.0</td>\n      <td>0</td>\n      <td>984.0</td>\n      <td>&lt;iframe width=\"480\" height=\"270\" src=\"//www.yo...</td>\n      <td>['https://en.wikipedia.org/wiki/Lifestyle_(soc...</td>\n      <td>NaN</td>\n      <td>NaN</td>\n      <td>NaN</td>\n      <td>NaN</td>\n    </tr>\n    <tr>\n      <th>1</th>\n      <td>youtube#video</td>\n      <td>o66jMxQvLcxHppuMKbr9O4YKTdc</td>\n      <td>1ErvLvQoYxc</td>\n      <td>2019-03-21T10:23:49Z</td>\n      <td>UC6C0oFYlpKkFGG-ykqM4fYw</td>\n      <td>ТЫ ДОЛЖНА ЭТО ПОПРОБОВАТЬ! ЛУЧШАЯ КОРЕЙСКАЯ КО...</td>\n      <td>Хорошие мои, сегодня я расскажу вам про свой к...</td>\n      <td>https://i.ytimg.com/vi/1ErvLvQoYxc/default.jpg</td>\n      <td>120</td>\n      <td>90</td>\n      <td>...</td>\n      <td>388492</td>\n      <td>11034.0</td>\n      <td>0</td>\n      <td>378.0</td>\n      <td>&lt;iframe width=\"480\" height=\"270\" src=\"//www.yo...</td>\n      <td>['https://en.wikipedia.org/wiki/Lifestyle_(soc...</td>\n      <td>NaN</td>\n      <td>NaN</td>\n      <td>NaN</td>\n      <td>NaN</td>\n    </tr>\n    <tr>\n      <th>2</th>\n      <td>youtube#video</td>\n      <td>r5AI8SEX9ALW3uMkVcN7-JFZM4M</td>\n      <td>aiY0ymL25Pw</td>\n      <td>2021-08-20T08:51:18Z</td>\n      <td>UCiT7bPorr4rKJU8WFBZA9Og</td>\n      <td>РЕАКЦИЯ дерматолога: 10 этапов корейского уход...</td>\n      <td>Мой телеграм:\\nhttps://t.me/dr_amina_pirmanova...</td>\n      <td>https://i.ytimg.com/vi/aiY0ymL25Pw/default.jpg</td>\n      <td>120</td>\n      <td>90</td>\n      <td>...</td>\n      <td>384852</td>\n      <td>31567.0</td>\n      <td>0</td>\n      <td>1767.0</td>\n      <td>&lt;iframe width=\"480\" height=\"270\" src=\"//www.yo...</td>\n      <td>['https://en.wikipedia.org/wiki/Health', 'http...</td>\n      <td>NaN</td>\n      <td>NaN</td>\n      <td>NaN</td>\n      <td>NaN</td>\n    </tr>\n    <tr>\n      <th>3</th>\n      <td>youtube#video</td>\n      <td>QWhr34_5_ubMXZ65kTQSHrRq4So</td>\n      <td>JA9E4TCVsDU</td>\n      <td>2015-12-06T14:30:40Z</td>\n      <td>UCNazbf-kLY6E8TO_o48ZExQ</td>\n      <td>КАК Я ИСПОРТИЛА КОЖУ: КОРЕЙСКАЯ КОСМЕТИКА\\Tony...</td>\n      <td>Привет! Корейская косметика снова набирает обо...</td>\n      <td>https://i.ytimg.com/vi/JA9E4TCVsDU/default.jpg</td>\n      <td>120</td>\n      <td>90</td>\n      <td>...</td>\n      <td>329029</td>\n      <td>2954.0</td>\n      <td>0</td>\n      <td>324.0</td>\n      <td>&lt;iframe width=\"480\" height=\"270\" src=\"//www.yo...</td>\n      <td>['https://en.wikipedia.org/wiki/Lifestyle_(soc...</td>\n      <td>NaN</td>\n      <td>NaN</td>\n      <td>NaN</td>\n      <td>NaN</td>\n    </tr>\n    <tr>\n      <th>4</th>\n      <td>youtube#video</td>\n      <td>jG76vdNVH6uxysegxqbblE-qQKQ</td>\n      <td>NAeXVpMTiT4</td>\n      <td>2018-04-20T15:19:56Z</td>\n      <td>UCmXGqfEsluA1fID55bVexjw</td>\n      <td>🇰🇷 НЕВЕРОЯТНАЯ КОРЕЙСКАЯ КОСМЕТИКА! Топовые шт...</td>\n      <td>Магазин корейской косметики https://goo.gl/UJG...</td>\n      <td>https://i.ytimg.com/vi/NAeXVpMTiT4/default.jpg</td>\n      <td>120</td>\n      <td>90</td>\n      <td>...</td>\n      <td>296580</td>\n      <td>12750.0</td>\n      <td>0</td>\n      <td>687.0</td>\n      <td>&lt;iframe width=\"480\" height=\"270\" src=\"//www.yo...</td>\n      <td>['https://en.wikipedia.org/wiki/Lifestyle_(soc...</td>\n      <td>NaN</td>\n      <td>NaN</td>\n      <td>NaN</td>\n      <td>NaN</td>\n    </tr>\n  </tbody>\n</table>\n<p>5 rows × 39 columns</p>\n</div>"
     },
     "execution_count": 13,
     "metadata": {},
     "output_type": "execute_result"
    }
   ],
   "source": [
    "## 5 Загрузка данных о видео, ранее собранных с помощью .search() and .videos()\n",
    "import pandas as pd\n",
    "\n",
    "df = pd.read_excel(DATA_PATH / \"seminar5\" / \"Video_characteristics.xlsx\")\n",
    "\n",
    "df.head()"
   ],
   "metadata": {
    "collapsed": false
   }
  },
  {
   "cell_type": "code",
   "execution_count": 14,
   "outputs": [],
   "source": [
    "category_name_mapper = dict(zip([int(num) for num in df_supplemented.category_id], df_supplemented.category_name))"
   ],
   "metadata": {
    "collapsed": false
   }
  },
  {
   "cell_type": "code",
   "execution_count": 15,
   "outputs": [],
   "source": [
    "df['snippet.categoryId'] = df['snippet.categoryId'].apply(int)\n",
    "\n",
    "df['category_name'] = df['snippet.categoryId'].map(category_name_mapper)"
   ],
   "metadata": {
    "collapsed": false
   }
  },
  {
   "cell_type": "code",
   "execution_count": 16,
   "outputs": [],
   "source": [
    "df.to_excel(DATA_PATH / 'seminar6'/ 'VideoCharacteristics_корейскаякосметика.xlsx', index=False)"
   ],
   "metadata": {
    "collapsed": false
   }
  }
 ],
 "metadata": {
  "kernelspec": {
   "display_name": "Python 3",
   "language": "python",
   "name": "python3"
  },
  "language_info": {
   "codemirror_mode": {
    "name": "ipython",
    "version": 2
   },
   "file_extension": ".py",
   "mimetype": "text/x-python",
   "name": "python",
   "nbconvert_exporter": "python",
   "pygments_lexer": "ipython2",
   "version": "2.7.6"
  }
 },
 "nbformat": 4,
 "nbformat_minor": 0
}
