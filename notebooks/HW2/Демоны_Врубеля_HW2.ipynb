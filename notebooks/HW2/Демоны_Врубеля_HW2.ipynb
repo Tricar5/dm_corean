{
 "cells": [
  {
   "cell_type": "markdown",
   "source": [
    "## Домашняя работа №2.\n",
    "\n",
    "Содержание"
   ],
   "metadata": {
    "collapsed": false
   }
  },
  {
   "cell_type": "raw",
   "source": [
    "!pip install randan\n",
    "!pip install plotly"
   ],
   "metadata": {
    "collapsed": false
   }
  },
  {
   "cell_type": "code",
   "execution_count": null,
   "id": "5a18b71d",
   "metadata": {
    "ExecuteTime": {
     "start_time": "2023-04-08T15:05:44.627559Z",
     "end_time": "2023-04-08T15:05:44.632352Z"
    },
    "pycharm": {
     "is_executing": true
    }
   },
   "outputs": [],
   "source": [
    "# 1 Загрузка путей и данных о видео\n",
    "import pathlib\n",
    "\n",
    "DATA_PATH = pathlib.Path().resolve()\n",
    "print(DATA_PATH)"
   ]
  },
  {
   "cell_type": "code",
   "execution_count": null,
   "id": "23026141",
   "metadata": {
    "ExecuteTime": {
     "start_time": "2023-04-08T15:05:44.630752Z",
     "end_time": "2023-04-08T15:05:44.693844Z"
    },
    "pycharm": {
     "is_executing": true
    }
   },
   "outputs": [],
   "source": [
    "# 2 импорт необходимых библиотек\n",
    "\n",
    "import googleapiclient.discovery as api\n",
    "import pandas as pd\n",
    "import numpy as np"
   ]
  },
  {
   "cell_type": "code",
   "execution_count": null,
   "id": "f7805374",
   "metadata": {
    "ExecuteTime": {
     "start_time": "2023-04-08T15:05:44.693992Z",
     "end_time": "2023-04-08T15:05:45.373140Z"
    },
    "pycharm": {
     "is_executing": true
    }
   },
   "outputs": [],
   "source": [
    "# 3 загрузка данных\n",
    "\n",
    "df_korean = pd.read_excel('Video_characteristics_КорейскаяКосметика.xlsx')"
   ]
  },
  {
   "cell_type": "code",
   "execution_count": null,
   "id": "f3dd6a25",
   "metadata": {
    "ExecuteTime": {
     "start_time": "2023-04-08T15:05:45.379180Z",
     "end_time": "2023-04-08T15:05:45.388176Z"
    },
    "pycharm": {
     "is_executing": true
    }
   },
   "outputs": [],
   "source": [
    "# 4 просмотр данных\n",
    "\n",
    "df_korean.head()"
   ]
  },
  {
   "cell_type": "code",
   "execution_count": null,
   "id": "a1444c0f",
   "metadata": {
    "ExecuteTime": {
     "start_time": "2023-04-08T15:05:45.398389Z",
     "end_time": "2023-04-08T15:05:47.276828Z"
    },
    "pycharm": {
     "is_executing": true
    }
   },
   "outputs": [],
   "source": [
    "# 6 импорт описательных статистик\n",
    "from randan.descriptive_statistics import ScaleStatistics, OrdinalStatistics, NominalStatistics"
   ]
  },
  {
   "cell_type": "code",
   "execution_count": null,
   "outputs": [],
   "source": [
    "# 7 Выделение необходимых переменных\n",
    "\n",
    "var_list = ['statistics.viewCount',\n",
    "           'statistics.likeCount',\n",
    "            'statistics.dislikesCount',\n",
    "           'statistics.commentCount']"
   ],
   "metadata": {
    "collapsed": false,
    "ExecuteTime": {
     "start_time": "2023-04-08T15:05:47.277391Z",
     "end_time": "2023-04-08T15:05:47.279005Z"
    },
    "pycharm": {
     "is_executing": true
    }
   }
  },
  {
   "cell_type": "code",
   "execution_count": null,
   "outputs": [],
   "source": [
    "# 8 копирование в отдельный DF для манипуляций и срезов данных\n",
    "\n",
    "data = df_korean.copy()\n"
   ],
   "metadata": {
    "collapsed": false,
    "ExecuteTime": {
     "start_time": "2023-04-08T15:05:47.280648Z",
     "end_time": "2023-04-08T15:05:47.283766Z"
    },
    "pycharm": {
     "is_executing": true
    }
   }
  },
  {
   "cell_type": "code",
   "execution_count": null,
   "outputs": [],
   "source": [
    "# 9 сокращение датасета\n",
    "\n",
    "data = data[data['statistics.viewCount'] > 0]"
   ],
   "metadata": {
    "collapsed": false,
    "ExecuteTime": {
     "start_time": "2023-04-08T15:05:47.285299Z",
     "end_time": "2023-04-08T15:05:47.287944Z"
    },
    "pycharm": {
     "is_executing": true
    }
   }
  },
  {
   "cell_type": "markdown",
   "source": [
    "### Задача 1. Комментарии аудитории и длительность видео\n",
    "\n",
    "#### Исследовательский вопрос\n",
    "\n",
    "Видео какой длительности вызывают наибольшую вовлеченность по комментариям?\n",
    "\n",
    "#### Содержательная гипотеза:\n",
    "\n",
    "**Видео с бОльшей длительностью будут вызывать более сильную реакцию по разрезу комментариев, поскольку люди потратили время на изучение материала и могут его откомментировать**\n",
    "\n",
    "#### Статистические гипотезы:\n",
    "\n",
    "\n",
    "**H0** Связь между длительностью видео и количеством комментариев отсутствует\n",
    "**H1** Между длительностью и количеством комментариев есть связь и она положительная"
   ],
   "metadata": {
    "collapsed": false
   }
  },
  {
   "cell_type": "code",
   "execution_count": null,
   "outputs": [],
   "source": [
    "# 10 Оценка диапазона длительности видео\n",
    "import plotly.express as px\n",
    "\n",
    "fig = px.histogram(data, x='durationSec', nbins=500)\n",
    "\n",
    "fig.show()"
   ],
   "metadata": {
    "collapsed": false,
    "ExecuteTime": {
     "start_time": "2023-04-08T15:17:49.006262Z",
     "end_time": "2023-04-08T15:17:49.035648Z"
    },
    "pycharm": {
     "is_executing": true
    }
   }
  },
  {
   "cell_type": "code",
   "execution_count": null,
   "outputs": [],
   "source": [
    "# 11 Оценка связи между категориями с помощью диаграммы рассеивания\n",
    "\n",
    "vars = ['durationSec', 'statistics.commentCount']\n",
    "\n",
    "\n",
    "fig = px.scatter(data, x=vars[0], y=vars[1], trendline='ols')\n",
    "\n",
    "fig.show()"
   ],
   "metadata": {
    "collapsed": false,
    "ExecuteTime": {
     "start_time": "2023-04-08T15:08:58.114013Z",
     "end_time": "2023-04-08T15:08:58.148834Z"
    },
    "pycharm": {
     "is_executing": true
    }
   }
  },
  {
   "cell_type": "code",
   "execution_count": null,
   "outputs": [],
   "source": [
    "# 12 Подсчет статистик\n",
    "\n",
    "from randan.descriptive_statistics import ScaleStatistics\n",
    "\n",
    "ss = ScaleStatistics(data, vars)\n",
    "ss.summary()"
   ],
   "metadata": {
    "collapsed": false,
    "ExecuteTime": {
     "start_time": "2023-04-08T15:10:56.364973Z",
     "end_time": "2023-04-08T15:10:56.469453Z"
    },
    "pycharm": {
     "is_executing": true
    }
   }
  },
  {
   "cell_type": "code",
   "execution_count": null,
   "outputs": [],
   "source": [
    "# 13 Проверка на связь между признаками\n",
    "\n",
    "from randan.bivariate_association import Correlation\n",
    "\n",
    "corr = Correlation(data, vars, show_results=False)\n",
    "corr.show_results()"
   ],
   "metadata": {
    "collapsed": false,
    "ExecuteTime": {
     "start_time": "2023-04-08T15:11:25.679014Z",
     "end_time": "2023-04-08T15:11:25.697764Z"
    },
    "pycharm": {
     "is_executing": true
    }
   }
  },
  {
   "cell_type": "markdown",
   "source": [
    "### Интерпретация\n",
    "\n",
    "\n",
    "Корреляция между признаками низкая (0.235) - связи нет.\n",
    "\n",
    "Содержательно - длительные обзоры не влияют на количество комментариев к ним."
   ],
   "metadata": {
    "collapsed": false
   }
  },
  {
   "cell_type": "markdown",
   "source": [
    "### Задача 2. Оценка влияния категории видео на вовлеченность\n",
    "\n",
    "#### Исследовательский вопрос\n",
    "\n",
    "Какая категория видео генерирует наибольшую вовлеченность?\n",
    "\n",
    "#### Содержательная гипотеза:\n",
    "\n",
    "**Категории блогов и лайфстайл видео направлены на создание пользовательской реакции, следовательно, они должны вызывать большую вовлеченность аудитории**\n",
    "\n",
    "#### Статистические гипотезы:\n",
    "\n",
    "**H0: Вовлеченность в разных категориях видео не отличается**\n",
    "**H1: Вовлеченность в разных категориях видео отличатся на статистически значимом уровне**"
   ],
   "metadata": {
    "collapsed": false
   }
  },
  {
   "cell_type": "markdown",
   "source": [
    "# Построение метрики вовлеченности\n",
    "\n",
    "### Формула для вовлеченности\n",
    "\n",
    "$$\n",
    "{involvement} = \\frac{likesCount + dislikesCount + commentCount}{viewCount}\n",
    "$$\n"
   ],
   "metadata": {
    "collapsed": false
   }
  },
  {
   "cell_type": "code",
   "execution_count": null,
   "outputs": [],
   "source": [
    "# 14 Проверка на связь между признаками\n",
    "\n",
    "from randan.bivariate_association import Correlation\n",
    "\n",
    "corr = Correlation(data, var_list)\n",
    "\n",
    "corr.sort_correlations()"
   ],
   "metadata": {
    "collapsed": false,
    "ExecuteTime": {
     "start_time": "2023-04-08T15:05:47.483453Z",
     "end_time": "2023-04-08T15:05:47.549948Z"
    },
    "pycharm": {
     "is_executing": true
    }
   }
  },
  {
   "cell_type": "markdown",
   "source": [
    "**Корреляция везде не отрицательная и статистически значимая (p-value < 0.05)- переменные можно использовать в расчетах вовлеченности**"
   ],
   "metadata": {
    "collapsed": false
   }
  },
  {
   "cell_type": "code",
   "execution_count": null,
   "outputs": [],
   "source": [
    "# 15 Визуализация взаимосвязи пар переменных с помощью диаграммы рассеяния\n",
    "import plotly.express as px\n",
    "from itertools import combinations\n",
    "\n",
    "comb_list = combinations(var_list, r=2)\n",
    "\n",
    "for pair in comb_list:\n",
    "\n",
    "    fig = px.scatter(data, x=pair[0], y=pair[1], trendline=\"ols\")\n",
    "    fig.show()"
   ],
   "metadata": {
    "collapsed": false,
    "ExecuteTime": {
     "start_time": "2023-04-08T15:07:32.684357Z",
     "end_time": "2023-04-08T15:07:32.916213Z"
    },
    "pycharm": {
     "is_executing": true
    }
   }
  },
  {
   "cell_type": "markdown",
   "source": [
    "\n",
    "### Расчет вовлеченности"
   ],
   "metadata": {
    "collapsed": false
   }
  },
  {
   "cell_type": "code",
   "execution_count": null,
   "outputs": [],
   "source": [
    "# 16 Переменная \"вовлечённость\"\n",
    "\n",
    "data['involvement.nominator'] = data['statistics.likeCount']\\\n",
    "                                    + data['statistics.commentCount'] + data['statistics.dislikesCount']\n",
    "\n",
    "data['involvement'] = data['involvement.nominator'] / data['statistics.viewCount']\n",
    "\n",
    "\n",
    "data[['involvement'] + var_list]"
   ],
   "metadata": {
    "collapsed": false,
    "ExecuteTime": {
     "start_time": "2023-04-08T15:07:28.495597Z",
     "end_time": "2023-04-08T15:07:28.502294Z"
    },
    "pycharm": {
     "is_executing": true
    }
   }
  },
  {
   "cell_type": "markdown",
   "source": [
    "### Статистическая оценка"
   ],
   "metadata": {
    "collapsed": false
   }
  },
  {
   "cell_type": "code",
   "execution_count": null,
   "id": "e9169e97",
   "metadata": {
    "ExecuteTime": {
     "start_time": "2023-04-08T15:20:56.459841Z",
     "end_time": "2023-04-08T15:20:56.484240Z"
    },
    "pycharm": {
     "is_executing": true
    }
   },
   "outputs": [],
   "source": [
    "# 17 Статистика по вовлеченности\n",
    "\n",
    "ss = ScaleStatistics(data[['involvement']],\n",
    "                     normality_test=True)"
   ]
  },
  {
   "cell_type": "code",
   "execution_count": null,
   "id": "1ae263c4",
   "metadata": {
    "ExecuteTime": {
     "start_time": "2023-04-08T15:20:56.696109Z",
     "end_time": "2023-04-08T15:20:56.746723Z"
    },
    "pycharm": {
     "is_executing": true
    }
   },
   "outputs": [],
   "source": [
    "# 18 График распределения Involvement\n",
    "\n",
    "import plotly.express as px\n",
    "\n",
    "fig = px.histogram(data, y=\"involvement\",\n",
    "                   marginal=\"box\")\n",
    "fig.show()"
   ]
  },
  {
   "cell_type": "code",
   "execution_count": null,
   "outputs": [],
   "source": [
    "# 19 Типичные видео по вовлеченности - 1%\n",
    "\n",
    "var = 'involvement'\n",
    "\n",
    "involvement_lower = np.nanpercentile(data[var], 49.5)\n",
    "involvement_upper = np.nanpercentile(data[var], 50.5)\n",
    "\n",
    "\n",
    "\n",
    "data[(data[var] >= involvement_lower) & (data[var] <= involvement_upper)]"
   ],
   "metadata": {
    "collapsed": false,
    "ExecuteTime": {
     "start_time": "2023-04-08T15:20:56.900085Z",
     "end_time": "2023-04-08T15:20:56.916088Z"
    },
    "pycharm": {
     "is_executing": true
    }
   }
  },
  {
   "cell_type": "markdown",
   "source": [],
   "metadata": {
    "collapsed": false
   }
  },
  {
   "cell_type": "code",
   "execution_count": null,
   "outputs": [],
   "source": [
    "# 20 Первичный анализ номинальной переменной - categoryName\n",
    "\n",
    "from randan.descriptive_statistics import NominalStatistics\n",
    "\n",
    "var = 'categoryName'\n",
    "\n",
    "ns = NominalStatistics(data, [var])\n",
    "\n",
    "freq_table = ns.frequencies()[var]"
   ],
   "metadata": {
    "collapsed": false,
    "ExecuteTime": {
     "start_time": "2023-04-08T15:20:57.500906Z",
     "end_time": "2023-04-08T15:20:57.513835Z"
    },
    "pycharm": {
     "is_executing": true
    }
   }
  },
  {
   "cell_type": "code",
   "execution_count": null,
   "outputs": [],
   "source": [
    "# 21 Частотный график появления категорий\n",
    "\n",
    "px.bar(freq_table, freq_table['N'])"
   ],
   "metadata": {
    "collapsed": false,
    "ExecuteTime": {
     "start_time": "2023-04-08T15:20:57.845601Z",
     "end_time": "2023-04-08T15:20:57.878308Z"
    },
    "pycharm": {
     "is_executing": true
    }
   }
  },
  {
   "cell_type": "code",
   "execution_count": null,
   "outputs": [],
   "source": [
    "# 22 Для анализа возьмем ограниченный список категорий с выборкой от 10 видео (не включительно)\n",
    "\n",
    "categories = ['People & Blogs', 'Howto & Style', 'Entertainment', 'Film & Animation']\n",
    "\n",
    "data_estim = data.query('categoryName in @categories')"
   ],
   "metadata": {
    "collapsed": false,
    "ExecuteTime": {
     "start_time": "2023-04-08T15:20:58.257661Z",
     "end_time": "2023-04-08T15:20:58.265295Z"
    },
    "pycharm": {
     "is_executing": true
    }
   }
  },
  {
   "cell_type": "code",
   "execution_count": null,
   "outputs": [],
   "source": [
    "# 23\n",
    "\n",
    "inv_borders = [\n",
    "                       np.nanpercentile(data['involvement'], 25),\n",
    "                       np.nanpercentile(data['involvement'], 50),\n",
    "                       np.nanpercentile(data['involvement'], 75),\n",
    "                       np.nanpercentile(data['involvement'], 100)]\n",
    "\n",
    "\n",
    "def make_group_from_borders(involvement):\n",
    "    if involvement < inv_borders[0]:\n",
    "        return '1 Low involvement'\n",
    "    elif inv_borders[0] <= involvement < inv_borders[1]:\n",
    "        return '2 Lower medium involvement'\n",
    "    elif inv_borders[1] <= involvement < inv_borders[2]:\n",
    "        return '3 Higher medium involvement'\n",
    "    else:\n",
    "        return '4 High involvement'\n",
    "\n",
    "data_estim['involvement.group'] = data_estim['involvement'].apply(make_group_from_borders)"
   ],
   "metadata": {
    "collapsed": false,
    "ExecuteTime": {
     "start_time": "2023-04-08T15:20:58.709245Z",
     "end_time": "2023-04-08T15:20:58.717453Z"
    },
    "pycharm": {
     "is_executing": true
    }
   }
  },
  {
   "cell_type": "code",
   "execution_count": null,
   "outputs": [],
   "source": [
    "# 24\n",
    "\n",
    "var = 'involvement.group'\n",
    "\n",
    "ns = NominalStatistics(data_estim, [var])\n",
    "\n",
    "freq_table = ns.frequencies()[var]"
   ],
   "metadata": {
    "collapsed": false,
    "ExecuteTime": {
     "start_time": "2023-04-08T15:20:59.123149Z",
     "end_time": "2023-04-08T15:20:59.139291Z"
    },
    "pycharm": {
     "is_executing": true
    }
   }
  },
  {
   "cell_type": "code",
   "execution_count": null,
   "outputs": [],
   "source": [
    "# 25\n",
    "\n",
    "from randan.bivariate_association import Crosstab\n",
    "\n",
    "ctab = Crosstab(data_estim, 'categoryName', 'involvement.group')"
   ],
   "metadata": {
    "collapsed": false,
    "ExecuteTime": {
     "start_time": "2023-04-08T15:20:59.774817Z",
     "end_time": "2023-04-08T15:20:59.806319Z"
    },
    "pycharm": {
     "is_executing": true
    }
   }
  },
  {
   "cell_type": "code",
   "execution_count": null,
   "outputs": [],
   "source": [
    "# 26 P-value\n",
    "\n",
    "print('P-value', ctab.pvalue)\n",
    "print('Level of Significance', ctab.sig_level)\n",
    "\n",
    "ctab.pvalue < ctab.sig_level"
   ],
   "metadata": {
    "collapsed": false,
    "ExecuteTime": {
     "start_time": "2023-04-08T15:21:00.263404Z",
     "end_time": "2023-04-08T15:21:00.282568Z"
    },
    "pycharm": {
     "is_executing": true
    }
   }
  },
  {
   "cell_type": "markdown",
   "source": [
    "#### Интерпретация\n",
    "\n",
    "Основываясь на данных теста и наблюдаемых частотах, мы имеем основания отклонить нулевую гипотезу (p-value < level of significance)\n",
    "\n",
    "Таким образом, мы принимаем ***альтернативную гипотезу о разности уровня вовлеченности в разных группах***\n",
    "\n",
    "Соответственно, мы можем судить об общем уровне вовлеченности в нашей теме на основе различий средних значений нашей выборки"
   ],
   "metadata": {
    "collapsed": false
   }
  },
  {
   "cell_type": "code",
   "execution_count": null,
   "outputs": [],
   "source": [
    "# 27 Сводная таблица для значений просмотров в категориях\n",
    "\n",
    "view_korean = data_estim.pivot_table(index='categoryName', values='involvement', aggfunc=[np.mean])\n",
    "\n",
    "display(view_korean.sort_values(by=[('mean', 'involvement')] ,ascending=False))"
   ],
   "metadata": {
    "collapsed": false,
    "ExecuteTime": {
     "start_time": "2023-04-08T15:24:29.360936Z",
     "end_time": "2023-04-08T15:24:29.376181Z"
    },
    "pycharm": {
     "is_executing": true
    }
   }
  },
  {
   "cell_type": "raw",
   "source": [
    "Наибольшую вовлеченность демонстрирует категория People & Blogs, Howto & Style\n",
    "\n",
    "Соответственно, наша гипотеза оправдалась, но другие категории имеют близкую вовлеченность."
   ],
   "metadata": {
    "collapsed": false
   }
  },
  {
   "cell_type": "markdown",
   "source": [],
   "metadata": {
    "collapsed": false
   }
  }
 ],
 "metadata": {
  "kernelspec": {
   "display_name": "Python 3",
   "language": "python",
   "name": "python3"
  },
  "language_info": {
   "codemirror_mode": {
    "name": "ipython",
    "version": 3
   },
   "file_extension": ".py",
   "mimetype": "text/x-python",
   "name": "python",
   "nbconvert_exporter": "python",
   "pygments_lexer": "ipython3",
   "version": "3.8.8"
  }
 },
 "nbformat": 4,
 "nbformat_minor": 5
}
