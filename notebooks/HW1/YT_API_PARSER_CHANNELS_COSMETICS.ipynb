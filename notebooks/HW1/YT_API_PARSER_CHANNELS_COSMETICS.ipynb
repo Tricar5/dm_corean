{
 "cells": [
  {
   "cell_type": "markdown",
   "source": [
    "# Скрипт по сбору данных\n",
    "\n",
    "Данный скрипт - шаблонный для нашей группы.\n",
    "\n",
    "Мы используем конфигурационные файлы, которые удобно редактировать. почти все библиотеки встроенные.\n",
    "\n",
    "Файлы проекта (required):\n",
    "\n",
    "1) .ipynb (парсинг каналов по тематикам и исполнителям - шаблон)\n",
    "4) config.yml (YAML файл с конфигурацией для создания клиента и создания запроса)\n",
    "5) Сведенный датасет\n",
    "\n",
    "\n",
    "## Инициализация скрипта"
   ],
   "metadata": {
    "collapsed": false
   }
  },
  {
   "cell_type": "raw",
   "source": [
    "#0\n",
    "\n",
    "! pip install json\n",
    "! pip install yaml\n",
    "! pip install numpy\n",
    "! pip install tqdm"
   ],
   "metadata": {
    "collapsed": false
   }
  },
  {
   "cell_type": "code",
   "execution_count": 1,
   "outputs": [],
   "source": [
    "import pathlib\n",
    "\n",
    "#1\n",
    "# Loading Libraries\n",
    "\n",
    "import pandas as pd\n",
    "import googleapiclient.discovery as api\n",
    "import numpy as np\n",
    "import requests\n",
    "\n",
    "from tqdm import tqdm\n",
    "\n",
    "from pathlib import Path\n",
    "import os\n",
    "import yaml\n",
    "import json"
   ],
   "metadata": {
    "collapsed": false
   }
  },
  {
   "cell_type": "code",
   "execution_count": 2,
   "outputs": [
    {
     "name": "stdout",
     "output_type": "stream",
     "text": [
      "Current Path\n",
      "/Users/andrey/PycharmProjects/DataMiningProjects/notebooks/HW1\n",
      "Loaded with Pathlib \n",
      "ПУТЬ ДАННЫХ: /Users/andrey/PycharmProjects/DataMiningProjects/notebooks/HW1/data\n"
     ]
    }
   ],
   "source": [
    "#2\n",
    "\n",
    "# Defining variables\n",
    "\n",
    "# Determine path to the working directory\n",
    "path = Path().resolve()\n",
    "print('Current Path')\n",
    "print(path)\n",
    "\n",
    "# Opening and parsing yaml file\n",
    "if path:\n",
    "\n",
    "    cnf_path = str(path) + '/' + 'config.yml'\n",
    "\n",
    "    with open(cnf_path, 'r') as f:\n",
    "        config = yaml.safe_load(f)\n",
    "\n",
    "    print('Loaded with Pathlib ')\n",
    "else:\n",
    "    try:\n",
    "        with open('config.yml', 'r') as f:\n",
    "            config = yaml.safe_load(f)\n",
    "    except:\n",
    "        print('Попробуете распаковать проект целиком?')\n",
    "\n",
    "DATA_PATH = pathlib.Path().resolve() / config['api']['DATA_PATH']\n",
    "\n",
    "if not os.path.exists(DATA_PATH):\n",
    "    os.makedirs(DATA_PATH)\n",
    "print('ПУТЬ ДАННЫХ:', DATA_PATH)"
   ],
   "metadata": {
    "collapsed": false
   }
  },
  {
   "cell_type": "markdown",
   "source": [
    "# Создание клиента запроса"
   ],
   "metadata": {
    "collapsed": false
   }
  },
  {
   "cell_type": "code",
   "execution_count": 3,
   "outputs": [],
   "source": [
    "# 6 Определение API-Key Storage\n",
    "\n",
    "# 3.1\n",
    "class KeyStorage:\n",
    "    \"\"\"\n",
    "    Class to use in iteration\n",
    "    \"\"\"\n",
    "\n",
    "    def __init__(self, key_arr: list[str]):\n",
    "        self.key_gen = iter(key_arr)\n",
    "\n",
    "    def get_next_key(self):\n",
    "        \"\"\"\n",
    "        Returns API key to use\n",
    "        :return:\n",
    "        \"\"\"\n",
    "        return next(self.key_gen)\n",
    "\n",
    "key_storage = KeyStorage(config['api']['keys'])"
   ],
   "metadata": {
    "collapsed": false
   }
  },
  {
   "cell_type": "markdown",
   "source": [],
   "metadata": {
    "collapsed": false
   }
  },
  {
   "cell_type": "markdown",
   "source": [
    "# Запрос: поиск бьюти блоггеров\n",
    "## Парсинг данных из Youtube\n"
   ],
   "metadata": {
    "collapsed": false
   }
  },
  {
   "cell_type": "code",
   "execution_count": 4,
   "outputs": [
    {
     "data": {
      "text/plain": "{'type': 'channel', 'maxResults': 50, 'part': 'snippet', 'regionCode': 'RU'}"
     },
     "metadata": {},
     "output_type": "display_data"
    }
   ],
   "source": [
    "#6\n",
    "\n",
    "# Создаем параметры нашего поиска\n",
    "\n",
    "query_params = {\n",
    "    \"type\": \"channel\",\n",
    "    \"maxResults\": 50,\n",
    "    \"part\": \"snippet\",\n",
    "    \"regionCode\": \"RU\",\n",
    "}\n",
    "\n",
    "display(query_params)"
   ],
   "metadata": {
    "collapsed": false
   }
  },
  {
   "cell_type": "markdown",
   "source": [],
   "metadata": {
    "collapsed": false
   }
  },
  {
   "cell_type": "code",
   "execution_count": 7,
   "outputs": [],
   "source": [
    "# 7 Создание клиента\n",
    "api_name = \"youtube\"\n",
    "api_version = \"v3\"\n",
    "cur_key = key_storage.get_next_key()\n",
    "\n",
    "def get_api(cur_key):\n",
    "    api_client = api.build(\n",
    "            api_name,\n",
    "            api_version,\n",
    "            developerKey=cur_key\n",
    "        )\n",
    "    return api_client\n",
    "\n",
    "\n",
    "youtube = get_api(cur_key)\n",
    "\n",
    "query = 'корейская косметика'\n"
   ],
   "metadata": {
    "collapsed": false
   }
  },
  {
   "cell_type": "code",
   "execution_count": 8,
   "outputs": [
    {
     "name": "stdout",
     "output_type": "stream",
     "text": [
      "Итерация БЕЗ включения аргумента order №0\n",
      "Итерация БЕЗ включения аргумента order №1\n",
      "Итерация БЕЗ включения аргумента order №2\n",
      "Итерация БЕЗ включения аргумента order №3\n",
      "Итерация БЕЗ включения аргумента order №4\n",
      "Итерация БЕЗ включения аргумента order №5\n",
      "Итерация БЕЗ включения аргумента order №6\n",
      "Итерация БЕЗ включения аргумента order №7\n",
      "Итерация БЕЗ включения аргумента order №8\n",
      "Итерация БЕЗ включения аргумента order №9\n",
      "Искомых объектов 6265 а найденных БЕЗ включения каких-либо значений аргумента order 470\n",
      "Размер получившегося датафрейма (509, 14)\n"
     ]
    }
   ],
   "source": [
    "# 8 Поиск без order\n",
    "\n",
    "request = youtube.search().list(\n",
    "        q = query,\n",
    "        **query_params\n",
    ")\n",
    "response = request.execute()\n",
    "\n",
    "df_supplemented = pd.json_normalize(response['items'])\n",
    "\n",
    "    # Цикл для прохода по всем следующим страницам с выдачей:\n",
    "i = 0\n",
    "while 'nextPageToken' in response.keys():\n",
    "    request = youtube.search().list(\n",
    "            q = query,\n",
    "            pageToken = response['nextPageToken'],\n",
    "            **query_params\n",
    "        )\n",
    "    response = request.execute()\n",
    "\n",
    "    print(f'Итерация БЕЗ включения аргумента order №{i}')\n",
    "    i += 1\n",
    "\n",
    "    df_additional = pd.json_normalize(response['items'])\n",
    "    df_supplemented = pd.concat([df_supplemented, df_additional])\n",
    "\n",
    "\n",
    "\n",
    "print(f\"Искомых объектов {response['pageInfo']['totalResults']}\", \\\n",
    "      f\"а найденных БЕЗ включения каких-либо значений аргумента order {len(df_supplemented.drop_duplicates('id.channelId'))}\")\n",
    "\n",
    "\n",
    "print('Размер получившегося датафрейма', df_supplemented.shape)"
   ],
   "metadata": {
    "collapsed": false
   }
  },
  {
   "cell_type": "code",
   "execution_count": 9,
   "outputs": [],
   "source": [
    "# 9 Варьирование значения аргумента order:\n",
    "order_list = ['date', 'rating', 'title', 'videoCount', 'viewCount']"
   ],
   "metadata": {
    "collapsed": false
   }
  },
  {
   "cell_type": "code",
   "execution_count": 10,
   "outputs": [
    {
     "name": "stdout",
     "output_type": "stream",
     "text": [
      "Итерация №0, \"order\" date, \"items\" 50\n",
      "Итерация №1, \"order\" date, \"items\" 50\n",
      "Итерация №2, \"order\" date, \"items\" 50\n",
      "Итерация №3, \"order\" date, \"items\" 50\n",
      "Итерация №4, \"order\" date, \"items\" 50\n",
      "Итерация №5, \"order\" date, \"items\" 50\n",
      "Итерация №6, \"order\" date, \"items\" 50\n",
      "Итерация №7, \"order\" date, \"items\" 50\n",
      "Итерация №8, \"order\" date, \"items\" 50\n",
      "Итерация №9, \"order\" date, \"items\" 50\n",
      "Итерация №10, \"order\" date, \"items\" 8\n",
      "Итерация №11, \"order\" rating, \"items\" 50\n",
      "Итерация №12, \"order\" rating, \"items\" 50\n",
      "Итерация №13, \"order\" rating, \"items\" 50\n",
      "Итерация №14, \"order\" rating, \"items\" 50\n",
      "Итерация №15, \"order\" rating, \"items\" 50\n",
      "Итерация №16, \"order\" rating, \"items\" 50\n",
      "Итерация №17, \"order\" rating, \"items\" 50\n",
      "Итерация №18, \"order\" rating, \"items\" 50\n",
      "Итерация №19, \"order\" rating, \"items\" 50\n",
      "Итерация №20, \"order\" rating, \"items\" 50\n",
      "Итерация №21, \"order\" rating, \"items\" 9\n",
      "Итерация №22, \"order\" title, \"items\" 50\n",
      "Итерация №23, \"order\" title, \"items\" 50\n",
      "Итерация №24, \"order\" title, \"items\" 50\n",
      "Итерация №25, \"order\" title, \"items\" 50\n",
      "Итерация №26, \"order\" title, \"items\" 50\n",
      "Итерация №27, \"order\" title, \"items\" 50\n",
      "Итерация №28, \"order\" title, \"items\" 50\n",
      "Итерация №29, \"order\" title, \"items\" 50\n",
      "Итерация №30, \"order\" title, \"items\" 50\n",
      "Итерация №31, \"order\" title, \"items\" 50\n",
      "Итерация №32, \"order\" title, \"items\" 9\n",
      "Итерация №33, \"order\" videoCount, \"items\" 50\n",
      "Итерация №34, \"order\" videoCount, \"items\" 50\n",
      "Итерация №35, \"order\" videoCount, \"items\" 50\n",
      "Итерация №36, \"order\" videoCount, \"items\" 50\n",
      "Итерация №37, \"order\" videoCount, \"items\" 50\n",
      "Итерация №38, \"order\" videoCount, \"items\" 50\n",
      "Итерация №39, \"order\" videoCount, \"items\" 50\n",
      "Итерация №40, \"order\" videoCount, \"items\" 50\n",
      "Итерация №41, \"order\" videoCount, \"items\" 50\n",
      "Итерация №42, \"order\" videoCount, \"items\" 50\n",
      "Итерация №43, \"order\" videoCount, \"items\" 8\n",
      "Итерация №44, \"order\" viewCount, \"items\" 50\n",
      "Итерация №45, \"order\" viewCount, \"items\" 50\n",
      "Итерация №46, \"order\" viewCount, \"items\" 50\n",
      "Итерация №47, \"order\" viewCount, \"items\" 50\n",
      "Итерация №48, \"order\" viewCount, \"items\" 50\n",
      "Итерация №49, \"order\" viewCount, \"items\" 50\n",
      "Итерация №50, \"order\" viewCount, \"items\" 50\n",
      "Итерация №51, \"order\" viewCount, \"items\" 50\n",
      "Итерация №52, \"order\" viewCount, \"items\" 50\n",
      "Итерация №53, \"order\" viewCount, \"items\" 50\n",
      "Итерация №54, \"order\" viewCount, \"items\" 9\n"
     ]
    }
   ],
   "source": [
    "# 10\n",
    "# Цикл для прохода по значениям аргумента order, внутри которых проход по всем страницам выдачи:\n",
    "i = 0\n",
    "for order in order_list:\n",
    "    # Для остановки алгоритма, если все искомые объекты найдены\n",
    "    # БЕЗ включения каких-либо значений аргумента order (в т.ч. вообще БЕЗ них):\n",
    "    if len(df_supplemented.drop_duplicates('id.channelId')) < response['pageInfo']['totalResults']:\n",
    "\n",
    "        # Первый заход с каждым значение аргумента order:\n",
    "        request = youtube.search().list(q = query,\n",
    "                                        order=order,\n",
    "                                        **query_params\n",
    "        )\n",
    "        response = request.execute()\n",
    "\n",
    "        # Визуализация процесса:\n",
    "        print(f'Итерация №{i}, \"order\" {order}, \"items\" {len(response[\"items\"])}')\n",
    "        i += 1\n",
    "\n",
    "        # Занесение собранных данных в итоговую таблицу df_supplemented:\n",
    "        df = pd.json_normalize(response[\"items\"])\n",
    "        df_supplemented = pd.concat([df, df_supplemented])\n",
    "\n",
    "        # Заходы с тем же значением аргумента order на следующие страницы:\n",
    "        while ('nextPageToken' in response.keys())\\\n",
    "        & (len(df_supplemented.drop_duplicates('id.channelId')) < response['pageInfo']['totalResults'])\\\n",
    "        & (len(response[\"items\"]) > 0):\n",
    "        # второе условие -- для остановки алгоритма, если все искомые объекты найдены\n",
    "        # БЕЗ какой-то из следующих страниц ( в т.ч. вообще БЕЗ них)\n",
    "        # третье условие -- для остановки алгоритма, если предыдущая страница выдачи содержит 0 объектов\n",
    "\n",
    "            request = youtube.search().list(\n",
    "                                            q = query,\n",
    "                                            pageToken = response['nextPageToken'],\n",
    "                                            **query_params\n",
    "            )\n",
    "            response = request.execute()\n",
    "\n",
    "            # Визуализация процесса:\n",
    "            print(f'Итерация №{i}, \"order\" {order}, \"items\" {len(response[\"items\"])}')\n",
    "\n",
    "            i += 1\n",
    "\n",
    "            # Занесение собранных данных в итоговую таблицу df_supplemented:\n",
    "            df_additional = pd.json_normalize(response[\"items\"])\n",
    "            df_supplemented = pd.concat([df_supplemented, df_additional])\n",
    "\n",
    "        # Сохранение составленных для каждого значения аргумента order таблиц в Excel -- на всякий случай:\n",
    "        df_supplemented.to_excel(DATA_PATH / f'Каналы_{query}_Sorted_by_{order}.xlsx')\n",
    "    else:\n",
    "        print('Все искомые объекты найдены БЕЗ включения некоторых значений аргумента order (в т.ч. вообще БЕЗ них)')"
   ],
   "metadata": {
    "collapsed": false
   }
  },
  {
   "cell_type": "markdown",
   "source": [
    "# Просмотр полученного DataFrame и его преобразование"
   ],
   "metadata": {
    "collapsed": false
   }
  },
  {
   "cell_type": "code",
   "execution_count": 11,
   "outputs": [
    {
     "data": {
      "text/plain": "                   kind                         etag          id.kind  \\\n0  youtube#searchResult  KD4wB0kFCleorLAZUqunFeeNnGU  youtube#channel   \n1  youtube#searchResult  rYW08nw-AIqP6rHhabVqo3r4GOo  youtube#channel   \n2  youtube#searchResult  hq-V8AVxdQs4HTDfyp9T7YaCWak  youtube#channel   \n3  youtube#searchResult  zpmgla_nnagIcn9rP_2JLgLaiYo  youtube#channel   \n4  youtube#searchResult  26Gb5w9PCwul3ZBjH3XPbWR_beY  youtube#channel   \n\n               id.channelId   snippet.publishedAt         snippet.channelId  \\\n0  UCyBkYEimyewSS9Tf_XasxqA  2019-09-26T16:51:01Z  UCyBkYEimyewSS9Tf_XasxqA   \n1  UCPmSyu4_Xxw2d8uOThJ5tCQ  2015-04-01T11:37:55Z  UCPmSyu4_Xxw2d8uOThJ5tCQ   \n2  UCIH9WX73cmksrcE4lKzns2w  2021-01-11T04:37:21Z  UCIH9WX73cmksrcE4lKzns2w   \n3  UCmMHjFuHh8lseNR114GP_ZQ  2021-07-02T19:14:44Z  UCmMHjFuHh8lseNR114GP_ZQ   \n4  UCFmgLIGI4CTB_g7LEw_VXfg  2018-05-16T08:08:08Z  UCFmgLIGI4CTB_g7LEw_VXfg   \n\n                     snippet.title  \\\n0  Chok - Chok Корейская косметика   \n1              Корейская косметика   \n2         Корейская люкс косметика   \n3                  EandE Cosmetics   \n4              Корейская Косметика   \n\n                                 snippet.description  \\\n0                                                 1.   \n1                                                      \n2  Корейская люкс косметика Здоровая кожа - залог...   \n3  EandE Cosmetics. Волоколамск ⭐️Наш первый Шоу-...   \n4                                                      \n\n                      snippet.thumbnails.default.url  \\\n0  https://yt3.ggpht.com/ytc/AL5GRJXSaaDeBjL92F2Y...   \n1  https://yt3.ggpht.com/ytc/AL5GRJX9KQ-jcjyvtAC8...   \n2  https://yt3.ggpht.com/HE9yWbxQN3MDaXFmyJeytKHc...   \n3  https://yt3.ggpht.com/ArUV5fa3-ey0FC-X11THKv-r...   \n4  https://yt3.ggpht.com/ytc/AL5GRJX5-fC0j0POMv5F...   \n\n                       snippet.thumbnails.medium.url  \\\n0  https://yt3.ggpht.com/ytc/AL5GRJXSaaDeBjL92F2Y...   \n1  https://yt3.ggpht.com/ytc/AL5GRJX9KQ-jcjyvtAC8...   \n2  https://yt3.ggpht.com/HE9yWbxQN3MDaXFmyJeytKHc...   \n3  https://yt3.ggpht.com/ArUV5fa3-ey0FC-X11THKv-r...   \n4  https://yt3.ggpht.com/ytc/AL5GRJX5-fC0j0POMv5F...   \n\n                         snippet.thumbnails.high.url  \\\n0  https://yt3.ggpht.com/ytc/AL5GRJXSaaDeBjL92F2Y...   \n1  https://yt3.ggpht.com/ytc/AL5GRJX9KQ-jcjyvtAC8...   \n2  https://yt3.ggpht.com/HE9yWbxQN3MDaXFmyJeytKHc...   \n3  https://yt3.ggpht.com/ArUV5fa3-ey0FC-X11THKv-r...   \n4  https://yt3.ggpht.com/ytc/AL5GRJX5-fC0j0POMv5F...   \n\n              snippet.channelTitle snippet.liveBroadcastContent  \\\n0  Chok - Chok Корейская косметика                         none   \n1              Корейская косметика                         none   \n2         Корейская люкс косметика                         none   \n3                  EandE Cosmetics                         none   \n4              Корейская Косметика                         none   \n\n    snippet.publishTime  \n0  2019-09-26T16:51:01Z  \n1  2015-04-01T11:37:55Z  \n2  2021-01-11T04:37:21Z  \n3  2021-07-02T19:14:44Z  \n4  2018-05-16T08:08:08Z  ",
      "text/html": "<div>\n<style scoped>\n    .dataframe tbody tr th:only-of-type {\n        vertical-align: middle;\n    }\n\n    .dataframe tbody tr th {\n        vertical-align: top;\n    }\n\n    .dataframe thead th {\n        text-align: right;\n    }\n</style>\n<table border=\"1\" class=\"dataframe\">\n  <thead>\n    <tr style=\"text-align: right;\">\n      <th></th>\n      <th>kind</th>\n      <th>etag</th>\n      <th>id.kind</th>\n      <th>id.channelId</th>\n      <th>snippet.publishedAt</th>\n      <th>snippet.channelId</th>\n      <th>snippet.title</th>\n      <th>snippet.description</th>\n      <th>snippet.thumbnails.default.url</th>\n      <th>snippet.thumbnails.medium.url</th>\n      <th>snippet.thumbnails.high.url</th>\n      <th>snippet.channelTitle</th>\n      <th>snippet.liveBroadcastContent</th>\n      <th>snippet.publishTime</th>\n    </tr>\n  </thead>\n  <tbody>\n    <tr>\n      <th>0</th>\n      <td>youtube#searchResult</td>\n      <td>KD4wB0kFCleorLAZUqunFeeNnGU</td>\n      <td>youtube#channel</td>\n      <td>UCyBkYEimyewSS9Tf_XasxqA</td>\n      <td>2019-09-26T16:51:01Z</td>\n      <td>UCyBkYEimyewSS9Tf_XasxqA</td>\n      <td>Chok - Chok Корейская косметика</td>\n      <td>1.</td>\n      <td>https://yt3.ggpht.com/ytc/AL5GRJXSaaDeBjL92F2Y...</td>\n      <td>https://yt3.ggpht.com/ytc/AL5GRJXSaaDeBjL92F2Y...</td>\n      <td>https://yt3.ggpht.com/ytc/AL5GRJXSaaDeBjL92F2Y...</td>\n      <td>Chok - Chok Корейская косметика</td>\n      <td>none</td>\n      <td>2019-09-26T16:51:01Z</td>\n    </tr>\n    <tr>\n      <th>1</th>\n      <td>youtube#searchResult</td>\n      <td>rYW08nw-AIqP6rHhabVqo3r4GOo</td>\n      <td>youtube#channel</td>\n      <td>UCPmSyu4_Xxw2d8uOThJ5tCQ</td>\n      <td>2015-04-01T11:37:55Z</td>\n      <td>UCPmSyu4_Xxw2d8uOThJ5tCQ</td>\n      <td>Корейская косметика</td>\n      <td></td>\n      <td>https://yt3.ggpht.com/ytc/AL5GRJX9KQ-jcjyvtAC8...</td>\n      <td>https://yt3.ggpht.com/ytc/AL5GRJX9KQ-jcjyvtAC8...</td>\n      <td>https://yt3.ggpht.com/ytc/AL5GRJX9KQ-jcjyvtAC8...</td>\n      <td>Корейская косметика</td>\n      <td>none</td>\n      <td>2015-04-01T11:37:55Z</td>\n    </tr>\n    <tr>\n      <th>2</th>\n      <td>youtube#searchResult</td>\n      <td>hq-V8AVxdQs4HTDfyp9T7YaCWak</td>\n      <td>youtube#channel</td>\n      <td>UCIH9WX73cmksrcE4lKzns2w</td>\n      <td>2021-01-11T04:37:21Z</td>\n      <td>UCIH9WX73cmksrcE4lKzns2w</td>\n      <td>Корейская люкс косметика</td>\n      <td>Корейская люкс косметика Здоровая кожа - залог...</td>\n      <td>https://yt3.ggpht.com/HE9yWbxQN3MDaXFmyJeytKHc...</td>\n      <td>https://yt3.ggpht.com/HE9yWbxQN3MDaXFmyJeytKHc...</td>\n      <td>https://yt3.ggpht.com/HE9yWbxQN3MDaXFmyJeytKHc...</td>\n      <td>Корейская люкс косметика</td>\n      <td>none</td>\n      <td>2021-01-11T04:37:21Z</td>\n    </tr>\n    <tr>\n      <th>3</th>\n      <td>youtube#searchResult</td>\n      <td>zpmgla_nnagIcn9rP_2JLgLaiYo</td>\n      <td>youtube#channel</td>\n      <td>UCmMHjFuHh8lseNR114GP_ZQ</td>\n      <td>2021-07-02T19:14:44Z</td>\n      <td>UCmMHjFuHh8lseNR114GP_ZQ</td>\n      <td>EandE Cosmetics</td>\n      <td>EandE Cosmetics. Волоколамск ⭐️Наш первый Шоу-...</td>\n      <td>https://yt3.ggpht.com/ArUV5fa3-ey0FC-X11THKv-r...</td>\n      <td>https://yt3.ggpht.com/ArUV5fa3-ey0FC-X11THKv-r...</td>\n      <td>https://yt3.ggpht.com/ArUV5fa3-ey0FC-X11THKv-r...</td>\n      <td>EandE Cosmetics</td>\n      <td>none</td>\n      <td>2021-07-02T19:14:44Z</td>\n    </tr>\n    <tr>\n      <th>4</th>\n      <td>youtube#searchResult</td>\n      <td>26Gb5w9PCwul3ZBjH3XPbWR_beY</td>\n      <td>youtube#channel</td>\n      <td>UCFmgLIGI4CTB_g7LEw_VXfg</td>\n      <td>2018-05-16T08:08:08Z</td>\n      <td>UCFmgLIGI4CTB_g7LEw_VXfg</td>\n      <td>Корейская Косметика</td>\n      <td></td>\n      <td>https://yt3.ggpht.com/ytc/AL5GRJX5-fC0j0POMv5F...</td>\n      <td>https://yt3.ggpht.com/ytc/AL5GRJX5-fC0j0POMv5F...</td>\n      <td>https://yt3.ggpht.com/ytc/AL5GRJX5-fC0j0POMv5F...</td>\n      <td>Корейская Косметика</td>\n      <td>none</td>\n      <td>2018-05-16T08:08:08Z</td>\n    </tr>\n  </tbody>\n</table>\n</div>"
     },
     "execution_count": 11,
     "metadata": {},
     "output_type": "execute_result"
    }
   ],
   "source": [
    "# 11\n",
    "\n",
    "df_search = df_supplemented.copy(deep=True)\n",
    "df_search = df_search.drop_duplicates(subset=['id.channelId'],)\n",
    "\n",
    "df_search.head()\n"
   ],
   "metadata": {
    "collapsed": false
   }
  },
  {
   "cell_type": "code",
   "execution_count": 12,
   "outputs": [
    {
     "name": "stdout",
     "output_type": "stream",
     "text": [
      "<class 'pandas.core.frame.DataFrame'>\n",
      "Int64Index: 669 entries, 0 to 17\n",
      "Data columns (total 14 columns):\n",
      " #   Column                          Non-Null Count  Dtype \n",
      "---  ------                          --------------  ----- \n",
      " 0   kind                            669 non-null    object\n",
      " 1   etag                            669 non-null    object\n",
      " 2   id.kind                         669 non-null    object\n",
      " 3   id.channelId                    669 non-null    object\n",
      " 4   snippet.publishedAt             669 non-null    object\n",
      " 5   snippet.channelId               669 non-null    object\n",
      " 6   snippet.title                   669 non-null    object\n",
      " 7   snippet.description             669 non-null    object\n",
      " 8   snippet.thumbnails.default.url  669 non-null    object\n",
      " 9   snippet.thumbnails.medium.url   669 non-null    object\n",
      " 10  snippet.thumbnails.high.url     669 non-null    object\n",
      " 11  snippet.channelTitle            669 non-null    object\n",
      " 12  snippet.liveBroadcastContent    669 non-null    object\n",
      " 13  snippet.publishTime             669 non-null    object\n",
      "dtypes: object(14)\n",
      "memory usage: 78.4+ KB\n"
     ]
    }
   ],
   "source": [
    "# 12\n",
    "\n",
    "df_search.info()"
   ],
   "metadata": {
    "collapsed": false
   }
  },
  {
   "cell_type": "code",
   "execution_count": 13,
   "outputs": [],
   "source": [
    "df_search.to_excel(DATA_PATH / 'Channels_search.xlsx', index=False)"
   ],
   "metadata": {
    "collapsed": false
   }
  },
  {
   "cell_type": "code",
   "execution_count": 14,
   "outputs": [],
   "source": [
    "# 13\n",
    "# Загрузка характеристик видео\n",
    "\n",
    "search_parts = [\n",
    "    \"brandingSettings\",\n",
    "    \"contentDetails\",\n",
    "    \"contentOwnerDetails\",\n",
    "    \"snippet\",\n",
    "    \"statistics\",\n",
    "    \"topicDetails\",\n",
    "]\n",
    "\n",
    "# список каналов\n",
    "channel_ids = list(df_search['id.channelId'])"
   ],
   "metadata": {
    "collapsed": false
   }
  },
  {
   "cell_type": "code",
   "execution_count": 15,
   "outputs": [
    {
     "name": "stdout",
     "output_type": "stream",
     "text": [
      "Итерация 0 завершена\n",
      "Итерация 1 завершена\n",
      "Итерация 2 завершена\n",
      "Итерация 3 завершена\n",
      "Итерация 4 завершена\n",
      "Итерация 5 завершена\n",
      "Итерация 6 завершена\n",
      "Итерация 7 завершена\n",
      "Итерация 8 завершена\n",
      "Итерация 9 завершена\n",
      "Итерация 10 завершена\n",
      "Итерация 11 завершена\n",
      "Итерация 12 завершена\n",
      "Итерация 13 завершена\n"
     ]
    }
   ],
   "source": [
    "# 14 Множественный вызов по 50 элементов\n",
    "\n",
    "df_supplemented = pd.DataFrame()\n",
    "\n",
    "for i in range(0, len(df_search), 50):\n",
    "    # границы интервала\n",
    "    s, e = i, i+50\n",
    "    #if e > len(df_search): e = len(df_search)\n",
    "\n",
    "    request = youtube.channels().list(\n",
    "    part=search_parts,\n",
    "    maxResults=50,\n",
    "    id=channel_ids[s:e],\n",
    "    )\n",
    "    response = request.execute()\n",
    "\n",
    "    df_additional = pd.json_normalize(response['items'])\n",
    "    df_supplemented = pd.concat([df_supplemented, df_additional])\n",
    "    print(f\"Итерация {i // 50} завершена\")#"
   ],
   "metadata": {
    "collapsed": false
   }
  },
  {
   "cell_type": "code",
   "execution_count": 16,
   "outputs": [
    {
     "name": "stdout",
     "output_type": "stream",
     "text": [
      "Всё ок\n"
     ]
    }
   ],
   "source": [
    "# 15 Валидация количества каналов\n",
    "\n",
    "if len(df_search) == len(df_supplemented): print('Всё ок')\n",
    "else: print(\"Не досчитались:\", abs(len(df_search) - len(df_supplemented)), \"каналов\")"
   ],
   "metadata": {
    "collapsed": false
   }
  },
  {
   "cell_type": "code",
   "execution_count": 17,
   "outputs": [
    {
     "name": "stdout",
     "output_type": "stream",
     "text": [
      "<class 'pandas.core.frame.DataFrame'>\n",
      "Int64Index: 669 entries, 0 to 18\n",
      "Data columns (total 36 columns):\n",
      " #   Column                                               Non-Null Count  Dtype \n",
      "---  ------                                               --------------  ----- \n",
      " 0   kind                                                 669 non-null    object\n",
      " 1   etag                                                 669 non-null    object\n",
      " 2   id                                                   669 non-null    object\n",
      " 3   snippet.title                                        669 non-null    object\n",
      " 4   snippet.description                                  669 non-null    object\n",
      " 5   snippet.customUrl                                    669 non-null    object\n",
      " 6   snippet.publishedAt                                  669 non-null    object\n",
      " 7   snippet.thumbnails.default.url                       669 non-null    object\n",
      " 8   snippet.thumbnails.default.width                     669 non-null    int64 \n",
      " 9   snippet.thumbnails.default.height                    669 non-null    int64 \n",
      " 10  snippet.thumbnails.medium.url                        669 non-null    object\n",
      " 11  snippet.thumbnails.medium.width                      669 non-null    int64 \n",
      " 12  snippet.thumbnails.medium.height                     669 non-null    int64 \n",
      " 13  snippet.thumbnails.high.url                          669 non-null    object\n",
      " 14  snippet.thumbnails.high.width                        669 non-null    int64 \n",
      " 15  snippet.thumbnails.high.height                       669 non-null    int64 \n",
      " 16  snippet.localized.title                              669 non-null    object\n",
      " 17  snippet.localized.description                        669 non-null    object\n",
      " 18  contentDetails.relatedPlaylists.likes                669 non-null    object\n",
      " 19  contentDetails.relatedPlaylists.uploads              669 non-null    object\n",
      " 20  statistics.viewCount                                 669 non-null    object\n",
      " 21  statistics.subscriberCount                           669 non-null    object\n",
      " 22  statistics.hiddenSubscriberCount                     669 non-null    bool  \n",
      " 23  statistics.videoCount                                669 non-null    object\n",
      " 24  brandingSettings.channel.title                       669 non-null    object\n",
      " 25  brandingSettings.channel.description                 469 non-null    object\n",
      " 26  topicDetails.topicIds                                549 non-null    object\n",
      " 27  topicDetails.topicCategories                         549 non-null    object\n",
      " 28  brandingSettings.image.bannerExternalUrl             328 non-null    object\n",
      " 29  snippet.country                                      230 non-null    object\n",
      " 30  brandingSettings.channel.unsubscribedTrailer         98 non-null     object\n",
      " 31  brandingSettings.channel.country                     230 non-null    object\n",
      " 32  brandingSettings.channel.keywords                    174 non-null    object\n",
      " 33  snippet.defaultLanguage                              13 non-null     object\n",
      " 34  brandingSettings.channel.defaultLanguage             13 non-null     object\n",
      " 35  brandingSettings.channel.trackingAnalyticsAccountId  3 non-null      object\n",
      "dtypes: bool(1), int64(6), object(29)\n",
      "memory usage: 188.8+ KB\n"
     ]
    }
   ],
   "source": [
    "# 16\n",
    "df_channel = df_supplemented.copy(deep=True)\n",
    "df_channel.info()"
   ],
   "metadata": {
    "collapsed": false
   }
  },
  {
   "cell_type": "code",
   "execution_count": 34,
   "outputs": [],
   "source": [
    "# 17 Преобразование числовых колонок для корректного отображения\n",
    "\n",
    "numeric_columns = [\n",
    "    \"contentDetails.relatedPlaylists.likes\",\n",
    "    \"contentDetails.relatedPlaylists.uploads\",\n",
    "    'statistics.viewCount',\n",
    "       'statistics.subscriberCount', 'statistics.hiddenSubscriberCount',\n",
    "       'statistics.videoCount'\n",
    "]\n",
    "\n",
    "\n",
    "\n",
    "for num_col in numeric_columns:\n",
    "\n",
    "    df_channel[num_col] = pd.to_numeric(df_channel[num_col], errors='coerce')\n"
   ],
   "metadata": {
    "collapsed": false
   }
  },
  {
   "cell_type": "code",
   "execution_count": 35,
   "outputs": [
    {
     "data": {
      "text/plain": "       contentDetails.relatedPlaylists.likes  \\\ncount                               0.000000   \nmean                                     NaN   \nstd                                      NaN   \nmin                                      NaN   \n25%                                      NaN   \n50%                                      NaN   \n75%                                      NaN   \nmax                                      NaN   \n\n       contentDetails.relatedPlaylists.uploads  statistics.viewCount  \\\ncount                                 0.000000            669.000000   \nmean                                       NaN         903640.536622   \nstd                                        NaN       17795462.588440   \nmin                                        NaN              0.000000   \n25%                                        NaN            143.000000   \n50%                                        NaN           1072.000000   \n75%                                        NaN           9231.000000   \nmax                                        NaN      458127984.000000   \n\n       statistics.subscriberCount  statistics.videoCount  \ncount                  669.000000             669.000000  \nmean                  6358.892377              36.451420  \nstd                 118337.944930              95.796095  \nmin                      0.000000               0.000000  \n25%                      2.000000               3.000000  \n50%                     11.000000              10.000000  \n75%                     52.000000              26.000000  \nmax                3040000.000000            1213.000000  ",
      "text/html": "<div>\n<style scoped>\n    .dataframe tbody tr th:only-of-type {\n        vertical-align: middle;\n    }\n\n    .dataframe tbody tr th {\n        vertical-align: top;\n    }\n\n    .dataframe thead th {\n        text-align: right;\n    }\n</style>\n<table border=\"1\" class=\"dataframe\">\n  <thead>\n    <tr style=\"text-align: right;\">\n      <th></th>\n      <th>contentDetails.relatedPlaylists.likes</th>\n      <th>contentDetails.relatedPlaylists.uploads</th>\n      <th>statistics.viewCount</th>\n      <th>statistics.subscriberCount</th>\n      <th>statistics.videoCount</th>\n    </tr>\n  </thead>\n  <tbody>\n    <tr>\n      <th>count</th>\n      <td>0.000000</td>\n      <td>0.000000</td>\n      <td>669.000000</td>\n      <td>669.000000</td>\n      <td>669.000000</td>\n    </tr>\n    <tr>\n      <th>mean</th>\n      <td>NaN</td>\n      <td>NaN</td>\n      <td>903640.536622</td>\n      <td>6358.892377</td>\n      <td>36.451420</td>\n    </tr>\n    <tr>\n      <th>std</th>\n      <td>NaN</td>\n      <td>NaN</td>\n      <td>17795462.588440</td>\n      <td>118337.944930</td>\n      <td>95.796095</td>\n    </tr>\n    <tr>\n      <th>min</th>\n      <td>NaN</td>\n      <td>NaN</td>\n      <td>0.000000</td>\n      <td>0.000000</td>\n      <td>0.000000</td>\n    </tr>\n    <tr>\n      <th>25%</th>\n      <td>NaN</td>\n      <td>NaN</td>\n      <td>143.000000</td>\n      <td>2.000000</td>\n      <td>3.000000</td>\n    </tr>\n    <tr>\n      <th>50%</th>\n      <td>NaN</td>\n      <td>NaN</td>\n      <td>1072.000000</td>\n      <td>11.000000</td>\n      <td>10.000000</td>\n    </tr>\n    <tr>\n      <th>75%</th>\n      <td>NaN</td>\n      <td>NaN</td>\n      <td>9231.000000</td>\n      <td>52.000000</td>\n      <td>26.000000</td>\n    </tr>\n    <tr>\n      <th>max</th>\n      <td>NaN</td>\n      <td>NaN</td>\n      <td>458127984.000000</td>\n      <td>3040000.000000</td>\n      <td>1213.000000</td>\n    </tr>\n  </tbody>\n</table>\n</div>"
     },
     "execution_count": 35,
     "metadata": {},
     "output_type": "execute_result"
    }
   ],
   "source": [
    "# 18 Отображение числовых характеристик для фильтрации\n",
    "pd.set_option('float_format', '{:f}'.format)\n",
    "\n",
    "df_channel[numeric_columns].describe()"
   ],
   "metadata": {
    "collapsed": false
   }
  },
  {
   "cell_type": "markdown",
   "source": [
    "# Фильтрация\n",
    "\n",
    "\n"
   ],
   "metadata": {
    "collapsed": false
   }
  },
  {
   "cell_type": "code",
   "execution_count": 30,
   "outputs": [
    {
     "name": "stdout",
     "output_type": "stream",
     "text": [
      "Отсев по просмотрам 451379.2000000006\n",
      "Отсев по подписчикам 3698.0000000000223\n"
     ]
    }
   ],
   "source": [
    "# 19 Вывод характеристик для фильтрации\n",
    "\n",
    "view_filter = np.percentile(df_channel['statistics.viewCount'], 95)\n",
    "sub_filter = np.percentile(df_channel['statistics.subscriberCount'], 95)\n",
    "\n",
    "print('Отсев по просмотрам', view_filter)\n",
    "print('Отсев по подписчикам', sub_filter)"
   ],
   "metadata": {
    "collapsed": false
   }
  },
  {
   "cell_type": "markdown",
   "source": [
    "1. Количество просмотров - 95% (медиана)\n",
    "2. Количество видео - 95% (медиана)"
   ],
   "metadata": {
    "collapsed": false
   }
  },
  {
   "cell_type": "code",
   "execution_count": 31,
   "outputs": [
    {
     "name": "stdout",
     "output_type": "stream",
     "text": [
      "<class 'pandas.core.frame.DataFrame'>\n",
      "Int64Index: 40 entries, 43 to 14\n",
      "Data columns (total 36 columns):\n",
      " #   Column                                               Non-Null Count  Dtype  \n",
      "---  ------                                               --------------  -----  \n",
      " 0   kind                                                 40 non-null     object \n",
      " 1   etag                                                 40 non-null     object \n",
      " 2   id                                                   40 non-null     object \n",
      " 3   snippet.title                                        40 non-null     object \n",
      " 4   snippet.description                                  40 non-null     object \n",
      " 5   snippet.customUrl                                    40 non-null     object \n",
      " 6   snippet.publishedAt                                  40 non-null     object \n",
      " 7   snippet.thumbnails.default.url                       40 non-null     object \n",
      " 8   snippet.thumbnails.default.width                     40 non-null     int64  \n",
      " 9   snippet.thumbnails.default.height                    40 non-null     int64  \n",
      " 10  snippet.thumbnails.medium.url                        40 non-null     object \n",
      " 11  snippet.thumbnails.medium.width                      40 non-null     int64  \n",
      " 12  snippet.thumbnails.medium.height                     40 non-null     int64  \n",
      " 13  snippet.thumbnails.high.url                          40 non-null     object \n",
      " 14  snippet.thumbnails.high.width                        40 non-null     int64  \n",
      " 15  snippet.thumbnails.high.height                       40 non-null     int64  \n",
      " 16  snippet.localized.title                              40 non-null     object \n",
      " 17  snippet.localized.description                        40 non-null     object \n",
      " 18  contentDetails.relatedPlaylists.likes                0 non-null      float64\n",
      " 19  contentDetails.relatedPlaylists.uploads              0 non-null      float64\n",
      " 20  statistics.viewCount                                 40 non-null     int64  \n",
      " 21  statistics.subscriberCount                           40 non-null     int64  \n",
      " 22  statistics.hiddenSubscriberCount                     40 non-null     bool   \n",
      " 23  statistics.videoCount                                40 non-null     int64  \n",
      " 24  brandingSettings.channel.title                       40 non-null     object \n",
      " 25  brandingSettings.channel.description                 37 non-null     object \n",
      " 26  topicDetails.topicIds                                40 non-null     object \n",
      " 27  topicDetails.topicCategories                         40 non-null     object \n",
      " 28  brandingSettings.image.bannerExternalUrl             36 non-null     object \n",
      " 29  snippet.country                                      32 non-null     object \n",
      " 30  brandingSettings.channel.unsubscribedTrailer         24 non-null     object \n",
      " 31  brandingSettings.channel.country                     32 non-null     object \n",
      " 32  brandingSettings.channel.keywords                    32 non-null     object \n",
      " 33  snippet.defaultLanguage                              5 non-null      object \n",
      " 34  brandingSettings.channel.defaultLanguage             5 non-null      object \n",
      " 35  brandingSettings.channel.trackingAnalyticsAccountId  2 non-null      object \n",
      "dtypes: bool(1), float64(2), int64(9), object(24)\n",
      "memory usage: 11.3+ KB\n"
     ]
    }
   ],
   "source": [
    "# 20 Статистика после фильтра\n",
    "df_final_channels = df_channel[(df_channel['statistics.viewCount'] >= view_filter) | (df_channel['statistics.subscriberCount'] >= sub_filter)]\n",
    "\n",
    "df_final_channels.info()"
   ],
   "metadata": {
    "collapsed": false
   }
  },
  {
   "cell_type": "code",
   "execution_count": 32,
   "outputs": [],
   "source": [
    "# 21 Сохранение\n",
    "\n",
    "df_final_channels.to_excel(DATA_PATH / f'{query}_channels.xlsx', index=False)"
   ],
   "metadata": {
    "collapsed": false
   }
  },
  {
   "cell_type": "markdown",
   "source": [
    "# Общее сведение 2-х датасетов"
   ],
   "metadata": {
    "collapsed": false
   }
  },
  {
   "cell_type": "code",
   "execution_count": 36,
   "outputs": [
    {
     "name": "stdout",
     "output_type": "stream",
     "text": [
      "<class 'pandas.core.frame.DataFrame'>\n",
      "Int64Index: 205 entries, 0 to 168\n",
      "Data columns (total 36 columns):\n",
      " #   Column                                               Non-Null Count  Dtype  \n",
      "---  ------                                               --------------  -----  \n",
      " 0   kind                                                 205 non-null    object \n",
      " 1   etag                                                 205 non-null    object \n",
      " 2   id                                                   205 non-null    object \n",
      " 3   snippet.title                                        205 non-null    object \n",
      " 4   snippet.description                                  194 non-null    object \n",
      " 5   snippet.customUrl                                    205 non-null    object \n",
      " 6   snippet.publishedAt                                  205 non-null    object \n",
      " 7   snippet.thumbnails.default.url                       205 non-null    object \n",
      " 8   snippet.thumbnails.default.width                     205 non-null    int64  \n",
      " 9   snippet.thumbnails.default.height                    205 non-null    int64  \n",
      " 10  snippet.thumbnails.medium.url                        205 non-null    object \n",
      " 11  snippet.thumbnails.medium.width                      205 non-null    int64  \n",
      " 12  snippet.thumbnails.medium.height                     205 non-null    int64  \n",
      " 13  snippet.thumbnails.high.url                          205 non-null    object \n",
      " 14  snippet.thumbnails.high.width                        205 non-null    int64  \n",
      " 15  snippet.thumbnails.high.height                       205 non-null    int64  \n",
      " 16  snippet.localized.title                              205 non-null    object \n",
      " 17  snippet.localized.description                        194 non-null    object \n",
      " 18  contentDetails.relatedPlaylists.likes                0 non-null      float64\n",
      " 19  contentDetails.relatedPlaylists.uploads              0 non-null      float64\n",
      " 20  statistics.viewCount                                 205 non-null    int64  \n",
      " 21  statistics.subscriberCount                           205 non-null    int64  \n",
      " 22  statistics.hiddenSubscriberCount                     205 non-null    bool   \n",
      " 23  statistics.videoCount                                205 non-null    int64  \n",
      " 24  brandingSettings.channel.title                       205 non-null    object \n",
      " 25  brandingSettings.channel.description                 194 non-null    object \n",
      " 26  topicDetails.topicIds                                202 non-null    object \n",
      " 27  topicDetails.topicCategories                         202 non-null    object \n",
      " 28  brandingSettings.image.bannerExternalUrl             198 non-null    object \n",
      " 29  snippet.country                                      178 non-null    object \n",
      " 30  brandingSettings.channel.unsubscribedTrailer         143 non-null    object \n",
      " 31  brandingSettings.channel.country                     178 non-null    object \n",
      " 32  brandingSettings.channel.keywords                    169 non-null    object \n",
      " 33  snippet.defaultLanguage                              30 non-null     object \n",
      " 34  brandingSettings.channel.defaultLanguage             30 non-null     object \n",
      " 35  brandingSettings.channel.trackingAnalyticsAccountId  21 non-null     object \n",
      "dtypes: bool(1), float64(2), int64(9), object(24)\n",
      "memory usage: 57.9+ KB\n"
     ]
    }
   ],
   "source": [
    "query2 = 'бьюти блогеры'\n",
    "\n",
    "df1 = pd.read_excel(DATA_PATH / f'{query}_channels.xlsx')\n",
    "df2= pd.read_excel(DATA_PATH / f'{query2}_channels.xlsx')\n",
    "\n",
    "df = pd.concat([df1, df2])\n",
    "\n",
    "df = df.drop_duplicates(subset=['id'])\n",
    "\n",
    "df.info()"
   ],
   "metadata": {
    "collapsed": false
   }
  },
  {
   "cell_type": "markdown",
   "source": [
    "Общий массив для работы - 205 каналов"
   ],
   "metadata": {
    "collapsed": false
   }
  },
  {
   "cell_type": "code",
   "execution_count": 37,
   "outputs": [],
   "source": [
    "df.to_excel(DATA_PATH / 'channels_union_base.xlsx', index=False)"
   ],
   "metadata": {
    "collapsed": false
   }
  },
  {
   "cell_type": "code",
   "execution_count": null,
   "outputs": [],
   "source": [],
   "metadata": {
    "collapsed": false
   }
  }
 ],
 "metadata": {
  "kernelspec": {
   "display_name": "Python 3",
   "language": "python",
   "name": "python3"
  },
  "language_info": {
   "codemirror_mode": {
    "name": "ipython",
    "version": 2
   },
   "file_extension": ".py",
   "mimetype": "text/x-python",
   "name": "python",
   "nbconvert_exporter": "python",
   "pygments_lexer": "ipython2",
   "version": "2.7.6"
  }
 },
 "nbformat": 4,
 "nbformat_minor": 0
}
