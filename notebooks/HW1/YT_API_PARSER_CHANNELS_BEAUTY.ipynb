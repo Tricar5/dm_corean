{
 "cells": [
  {
   "cell_type": "markdown",
   "source": [
    "# Скрипт по сбору данных\n",
    "\n",
    "Данный скрипт - шаблонный для нашей группы.\n",
    "\n",
    "Мы используем конфигурационные файлы, которые удобно редактировать. почти все библиотеки встроенные.\n",
    "\n",
    "Файлы проекта (required):\n",
    "\n",
    "1) .ipynb (парсинг каналов по тематикам и исполнителям - шаблон)\n",
    "4) config.yml (YAML файл с конфигурацией для создания клиента и создания запроса)\n",
    "5) Сведенный датасет\n",
    "\n",
    "\n",
    "## Инициализация скрипта"
   ],
   "metadata": {
    "collapsed": false
   }
  },
  {
   "cell_type": "raw",
   "source": [
    "#0\n",
    "\n",
    "! pip install json\n",
    "! pip install yaml\n",
    "! pip install numpy\n",
    "! pip install tqdm"
   ],
   "metadata": {
    "collapsed": false
   }
  },
  {
   "cell_type": "code",
   "execution_count": 2,
   "outputs": [],
   "source": [
    "#1\n",
    "# Loading Libraries\n",
    "import pathlib\n",
    "\n",
    "import pandas as pd\n",
    "import googleapiclient.discovery as api\n",
    "import numpy as np\n",
    "import requests\n",
    "\n",
    "from tqdm import tqdm\n",
    "\n",
    "from pathlib import Path\n",
    "import os\n",
    "import yaml\n",
    "import json"
   ],
   "metadata": {
    "collapsed": false
   }
  },
  {
   "cell_type": "code",
   "execution_count": 3,
   "outputs": [
    {
     "name": "stdout",
     "output_type": "stream",
     "text": [
      "Current Path\n",
      "/Users/andrey/PycharmProjects/DataMiningProjects/notebooks/HW1\n",
      "Loaded with Pathlib \n",
      "ПУТЬ ДАННЫХ: /Users/andrey/PycharmProjects/DataMiningProjects/notebooks/HW1/data\n"
     ]
    }
   ],
   "source": [
    "#2\n",
    "\n",
    "# Defining variables\n",
    "\n",
    "# Determine path to the working directory\n",
    "path = Path().resolve()\n",
    "print('Current Path')\n",
    "print(path)\n",
    "\n",
    "# Opening and parsing yaml file\n",
    "if path:\n",
    "\n",
    "    cnf_path = str(path) + '/' + 'config.yml'\n",
    "\n",
    "    with open(cnf_path, 'r') as f:\n",
    "        config = yaml.safe_load(f)\n",
    "\n",
    "    print('Loaded with Pathlib ')\n",
    "else:\n",
    "    try:\n",
    "        with open('config.yml', 'r') as f:\n",
    "            config = yaml.safe_load(f)\n",
    "    except:\n",
    "        print('Попробуете распаковать проект целиком?')\n",
    "\n",
    "DATA_PATH = pathlib.Path().resolve() / config['api']['DATA_PATH']\n",
    "\n",
    "if not os.path.exists(DATA_PATH):\n",
    "    os.makedirs(DATA_PATH)\n",
    "print('ПУТЬ ДАННЫХ:', DATA_PATH)"
   ],
   "metadata": {
    "collapsed": false
   }
  },
  {
   "cell_type": "markdown",
   "source": [
    "# Создание клиента запроса"
   ],
   "metadata": {
    "collapsed": false
   }
  },
  {
   "cell_type": "code",
   "execution_count": 13,
   "outputs": [],
   "source": [
    "# 6 Определение API-Key Storage\n",
    "\n",
    "# 3.1\n",
    "class KeyStorage:\n",
    "    \"\"\"\n",
    "    Class to use in iteration\n",
    "    \"\"\"\n",
    "\n",
    "    def __init__(self, key_arr: list[str]):\n",
    "        self.key_gen = iter(key_arr)\n",
    "\n",
    "    def get_next_key(self):\n",
    "        \"\"\"\n",
    "        Returns API key to use\n",
    "        :return:\n",
    "        \"\"\"\n",
    "        return next(self.key_gen)\n",
    "\n",
    "key_storage = KeyStorage(config['api']['keys'])"
   ],
   "metadata": {
    "collapsed": false
   }
  },
  {
   "cell_type": "markdown",
   "source": [
    "# Запрос: поиск бьюти блоггеров\n",
    "## Парсинг данных из Youtube\n"
   ],
   "metadata": {
    "collapsed": false
   }
  },
  {
   "cell_type": "code",
   "execution_count": 15,
   "outputs": [
    {
     "data": {
      "text/plain": "{'type': 'channel', 'maxResults': 50, 'part': 'snippet', 'regionCode': 'RU'}"
     },
     "metadata": {},
     "output_type": "display_data"
    }
   ],
   "source": [
    "#6\n",
    "\n",
    "# Создаем параметры нашего поиска\n",
    "\n",
    "query_params = {\n",
    "    \"type\": \"channel\",\n",
    "    \"maxResults\": 50,\n",
    "    \"part\": \"snippet\",\n",
    "    \"regionCode\": \"RU\",\n",
    "}\n",
    "\n",
    "display(query_params)"
   ],
   "metadata": {
    "collapsed": false
   }
  },
  {
   "cell_type": "markdown",
   "source": [],
   "metadata": {
    "collapsed": false
   }
  },
  {
   "cell_type": "code",
   "execution_count": 16,
   "outputs": [],
   "source": [
    "# 7 Создание клиента\n",
    "api_name = \"youtube\"\n",
    "api_version = \"v3\"\n",
    "cur_key = key_storage.get_next_key()\n",
    "\n",
    "def get_api(cur_key: str):\n",
    "    api_client = api.build(\n",
    "            api_name,\n",
    "            api_version,\n",
    "            developerKey=cur_key\n",
    "        )\n",
    "    return api_client\n",
    "\n",
    "\n",
    "youtube = get_api(cur_key)\n",
    "\n",
    "query = 'бьюти блогеры'\n"
   ],
   "metadata": {
    "collapsed": false
   }
  },
  {
   "cell_type": "code",
   "execution_count": 19,
   "outputs": [
    {
     "name": "stdout",
     "output_type": "stream",
     "text": [
      "Итерация БЕЗ включения аргумента order №0\n",
      "Итерация БЕЗ включения аргумента order №1\n",
      "Итерация БЕЗ включения аргумента order №2\n",
      "Итерация БЕЗ включения аргумента order №3\n",
      "Итерация БЕЗ включения аргумента order №4\n",
      "Итерация БЕЗ включения аргумента order №5\n",
      "Искомых объектов 399 а найденных БЕЗ включения каких-либо значений аргумента order 328\n",
      "Размер получившегося датафрейма (338, 14)\n"
     ]
    }
   ],
   "source": [
    "# 8 Поиск без order\n",
    "\n",
    "request = youtube.search().list(\n",
    "        q = query,\n",
    "        **query_params # using\n",
    ")\n",
    "response = request.execute()\n",
    "\n",
    "df_supplemented = pd.json_normalize(response['items'])\n",
    "\n",
    "    # Цикл для прохода по всем следующим страницам с выдачей:\n",
    "i = 0\n",
    "while 'nextPageToken' in response.keys():\n",
    "    request = youtube.search().list(\n",
    "            q = query,\n",
    "            pageToken = response['nextPageToken'],\n",
    "            **query_params\n",
    "        )\n",
    "    response = request.execute()\n",
    "\n",
    "    print(f'Итерация БЕЗ включения аргумента order №{i}')\n",
    "    i += 1\n",
    "\n",
    "    df_additional = pd.json_normalize(response['items'])\n",
    "    df_supplemented = pd.concat([df_supplemented, df_additional])\n",
    "\n",
    "\n",
    "print(f\"Искомых объектов {response['pageInfo']['totalResults']}\", \\\n",
    "      f\"а найденных БЕЗ включения каких-либо значений аргумента order {len(df_supplemented.drop_duplicates('id.channelId'))}\")\n",
    "\n",
    "\n",
    "print('Размер получившегося датафрейма', df_supplemented.shape)"
   ],
   "metadata": {
    "collapsed": false
   }
  },
  {
   "cell_type": "code",
   "execution_count": 20,
   "outputs": [],
   "source": [
    "# 9 Варьирование значения аргумента order:\n",
    "order_list = ['date', 'rating', 'title', 'videoCount', 'viewCount']"
   ],
   "metadata": {
    "collapsed": false
   }
  },
  {
   "cell_type": "code",
   "execution_count": 21,
   "outputs": [
    {
     "name": "stdout",
     "output_type": "stream",
     "text": [
      "Итерация №0, \"order\" date, \"items\" 4\n",
      "Итерация №1, \"order\" rating, \"items\" 4\n",
      "Итерация №2, \"order\" title, \"items\" 4\n",
      "Итерация №3, \"order\" videoCount, \"items\" 4\n",
      "Итерация №4, \"order\" viewCount, \"items\" 4\n"
     ]
    }
   ],
   "source": [
    "# 10\n",
    "# Цикл для прохода по значениям аргумента order, внутри которых проход по всем страницам выдачи:\n",
    "i = 0\n",
    "for order in order_list:\n",
    "    # Для остановки алгоритма, если все искомые объекты найдены\n",
    "    # БЕЗ включения каких-либо значений аргумента order (в т.ч. вообще БЕЗ них):\n",
    "    if len(df_supplemented.drop_duplicates('id.channelId')) < response['pageInfo']['totalResults']:\n",
    "\n",
    "        # Первый заход с каждым значение аргумента order:\n",
    "        request = youtube.search().list(q = query,\n",
    "                                        order=order,\n",
    "                                        **query_params\n",
    "        )\n",
    "        response = request.execute()\n",
    "\n",
    "        # Визуализация процесса:\n",
    "        print(f'Итерация №{i}, \"order\" {order}, \"items\" {len(response[\"items\"])}')\n",
    "        i += 1\n",
    "\n",
    "        # Занесение собранных данных в итоговую таблицу df_supplemented:\n",
    "        df = pd.json_normalize(response[\"items\"])\n",
    "        df_supplemented = pd.concat([df, df_supplemented])\n",
    "\n",
    "        # Заходы с тем же значением аргумента order на следующие страницы:\n",
    "        while ('nextPageToken' in response.keys())\\\n",
    "        & (len(df_supplemented.drop_duplicates('id.channelId')) < response['pageInfo']['totalResults'])\\\n",
    "        & (len(response[\"items\"]) > 0):\n",
    "        # второе условие -- для остановки алгоритма, если все искомые объекты найдены\n",
    "        # БЕЗ какой-то из следующих страниц ( в т.ч. вообще БЕЗ них)\n",
    "        # третье условие -- для остановки алгоритма, если предыдущая страница выдачи содержит 0 объектов\n",
    "\n",
    "            request = youtube.search().list(\n",
    "                                            q = query,\n",
    "                                            pageToken = response['nextPageToken'],\n",
    "                                            **query_params\n",
    "            )\n",
    "            response = request.execute()\n",
    "\n",
    "            # Визуализация процесса:\n",
    "            print(f'Итерация №{i}, \"order\" {order}, \"items\" {len(response[\"items\"])}')\n",
    "\n",
    "            i += 1\n",
    "\n",
    "            # Занесение собранных данных в итоговую таблицу df_supplemented:\n",
    "            df_additional = pd.json_normalize(response[\"items\"])\n",
    "            df_supplemented = pd.concat([df_supplemented, df_additional])\n",
    "\n",
    "        # Сохранение составленных для каждого значения аргумента order таблиц в Excel -- на всякий случай:\n",
    "        df_supplemented.to_excel(DATA_PATH / f'Каналы_Sorted_by_{order}.xlsx', index=False)\n",
    "    else:\n",
    "        print('Все искомые объекты найдены БЕЗ включения некоторых значений аргумента order (в т.ч. вообще БЕЗ них)')"
   ],
   "metadata": {
    "collapsed": false
   }
  },
  {
   "cell_type": "markdown",
   "source": [
    "# Просмотр полученного DataFrame и его преобразование"
   ],
   "metadata": {
    "collapsed": false
   }
  },
  {
   "cell_type": "code",
   "execution_count": 22,
   "outputs": [
    {
     "data": {
      "text/plain": "                   kind                         etag          id.kind  \\\n0  youtube#searchResult  AEuDg6Fnte0mIzQw9_LOjaGh3Bw  youtube#channel   \n1  youtube#searchResult  5UGJ_G5MWV86j79xh9961nr3nUc  youtube#channel   \n2  youtube#searchResult  PpuKcoyHU6xRUQrCip5SFsLR_wM  youtube#channel   \n3  youtube#searchResult  _mQOJAn6oezgLxtHn5UXRF7x6_8  youtube#channel   \n0  youtube#searchResult  sxvnNUa20E3mL2YLxQcBVCvBxmI  youtube#channel   \n\n               id.channelId   snippet.publishedAt         snippet.channelId  \\\n0  UCfZBBpWbMLxx_MJs6U2yB2g  2021-06-19T16:12:54Z  UCfZBBpWbMLxx_MJs6U2yB2g   \n1  UCkb6cE2MJvzNVs_wic2Aipg  2016-12-10T09:36:55Z  UCkb6cE2MJvzNVs_wic2Aipg   \n2  UCZI_KsziUHl_aRUTqOmq3hg  2021-11-30T11:21:15Z  UCZI_KsziUHl_aRUTqOmq3hg   \n3  UCYnxTYxldRW3wFJIc_6vMTg  2018-03-20T05:05:30Z  UCYnxTYxldRW3wFJIc_6vMTg   \n0  UCW0-JsQvk2drCyC_gt3Pipg  2016-04-13T18:50:40Z  UCW0-JsQvk2drCyC_gt3Pipg   \n\n       snippet.title                                snippet.description  \\\n0  ❤️Бьюти Блогеры❤️                                                      \n1      Бьюти Блогеры                                                      \n2      Бьюти блогеры                                                      \n3      Бьюти Блогеры                                                      \n0              Лисса  Всем привет! Авеми Лисса бьюти канал для девуш...   \n\n                      snippet.thumbnails.default.url  \\\n0  https://yt3.ggpht.com/S1ZsXkLCFV7DMix7BJOcslL6...   \n1  https://yt3.ggpht.com/ytc/AL5GRJXSDB42IlNPfgej...   \n2  https://yt3.ggpht.com/CR5Fr0mKRli1NpBtvMPxIXmO...   \n3  https://yt3.ggpht.com/ytc/AL5GRJV7fogwOeRwam_Q...   \n0  https://yt3.ggpht.com/sMUsuVWPx1cDR7X6GibF12gL...   \n\n                       snippet.thumbnails.medium.url  \\\n0  https://yt3.ggpht.com/S1ZsXkLCFV7DMix7BJOcslL6...   \n1  https://yt3.ggpht.com/ytc/AL5GRJXSDB42IlNPfgej...   \n2  https://yt3.ggpht.com/CR5Fr0mKRli1NpBtvMPxIXmO...   \n3  https://yt3.ggpht.com/ytc/AL5GRJV7fogwOeRwam_Q...   \n0  https://yt3.ggpht.com/sMUsuVWPx1cDR7X6GibF12gL...   \n\n                         snippet.thumbnails.high.url snippet.channelTitle  \\\n0  https://yt3.ggpht.com/S1ZsXkLCFV7DMix7BJOcslL6...    ❤️Бьюти Блогеры❤️   \n1  https://yt3.ggpht.com/ytc/AL5GRJXSDB42IlNPfgej...        Бьюти Блогеры   \n2  https://yt3.ggpht.com/CR5Fr0mKRli1NpBtvMPxIXmO...        Бьюти блогеры   \n3  https://yt3.ggpht.com/ytc/AL5GRJV7fogwOeRwam_Q...        Бьюти Блогеры   \n0  https://yt3.ggpht.com/sMUsuVWPx1cDR7X6GibF12gL...                Лисса   \n\n  snippet.liveBroadcastContent   snippet.publishTime  \n0                         none  2021-06-19T16:12:54Z  \n1                         none  2016-12-10T09:36:55Z  \n2                         none  2021-11-30T11:21:15Z  \n3                         none  2018-03-20T05:05:30Z  \n0                         none  2016-04-13T18:50:40Z  ",
      "text/html": "<div>\n<style scoped>\n    .dataframe tbody tr th:only-of-type {\n        vertical-align: middle;\n    }\n\n    .dataframe tbody tr th {\n        vertical-align: top;\n    }\n\n    .dataframe thead th {\n        text-align: right;\n    }\n</style>\n<table border=\"1\" class=\"dataframe\">\n  <thead>\n    <tr style=\"text-align: right;\">\n      <th></th>\n      <th>kind</th>\n      <th>etag</th>\n      <th>id.kind</th>\n      <th>id.channelId</th>\n      <th>snippet.publishedAt</th>\n      <th>snippet.channelId</th>\n      <th>snippet.title</th>\n      <th>snippet.description</th>\n      <th>snippet.thumbnails.default.url</th>\n      <th>snippet.thumbnails.medium.url</th>\n      <th>snippet.thumbnails.high.url</th>\n      <th>snippet.channelTitle</th>\n      <th>snippet.liveBroadcastContent</th>\n      <th>snippet.publishTime</th>\n    </tr>\n  </thead>\n  <tbody>\n    <tr>\n      <th>0</th>\n      <td>youtube#searchResult</td>\n      <td>AEuDg6Fnte0mIzQw9_LOjaGh3Bw</td>\n      <td>youtube#channel</td>\n      <td>UCfZBBpWbMLxx_MJs6U2yB2g</td>\n      <td>2021-06-19T16:12:54Z</td>\n      <td>UCfZBBpWbMLxx_MJs6U2yB2g</td>\n      <td>❤️Бьюти Блогеры❤️</td>\n      <td></td>\n      <td>https://yt3.ggpht.com/S1ZsXkLCFV7DMix7BJOcslL6...</td>\n      <td>https://yt3.ggpht.com/S1ZsXkLCFV7DMix7BJOcslL6...</td>\n      <td>https://yt3.ggpht.com/S1ZsXkLCFV7DMix7BJOcslL6...</td>\n      <td>❤️Бьюти Блогеры❤️</td>\n      <td>none</td>\n      <td>2021-06-19T16:12:54Z</td>\n    </tr>\n    <tr>\n      <th>1</th>\n      <td>youtube#searchResult</td>\n      <td>5UGJ_G5MWV86j79xh9961nr3nUc</td>\n      <td>youtube#channel</td>\n      <td>UCkb6cE2MJvzNVs_wic2Aipg</td>\n      <td>2016-12-10T09:36:55Z</td>\n      <td>UCkb6cE2MJvzNVs_wic2Aipg</td>\n      <td>Бьюти Блогеры</td>\n      <td></td>\n      <td>https://yt3.ggpht.com/ytc/AL5GRJXSDB42IlNPfgej...</td>\n      <td>https://yt3.ggpht.com/ytc/AL5GRJXSDB42IlNPfgej...</td>\n      <td>https://yt3.ggpht.com/ytc/AL5GRJXSDB42IlNPfgej...</td>\n      <td>Бьюти Блогеры</td>\n      <td>none</td>\n      <td>2016-12-10T09:36:55Z</td>\n    </tr>\n    <tr>\n      <th>2</th>\n      <td>youtube#searchResult</td>\n      <td>PpuKcoyHU6xRUQrCip5SFsLR_wM</td>\n      <td>youtube#channel</td>\n      <td>UCZI_KsziUHl_aRUTqOmq3hg</td>\n      <td>2021-11-30T11:21:15Z</td>\n      <td>UCZI_KsziUHl_aRUTqOmq3hg</td>\n      <td>Бьюти блогеры</td>\n      <td></td>\n      <td>https://yt3.ggpht.com/CR5Fr0mKRli1NpBtvMPxIXmO...</td>\n      <td>https://yt3.ggpht.com/CR5Fr0mKRli1NpBtvMPxIXmO...</td>\n      <td>https://yt3.ggpht.com/CR5Fr0mKRli1NpBtvMPxIXmO...</td>\n      <td>Бьюти блогеры</td>\n      <td>none</td>\n      <td>2021-11-30T11:21:15Z</td>\n    </tr>\n    <tr>\n      <th>3</th>\n      <td>youtube#searchResult</td>\n      <td>_mQOJAn6oezgLxtHn5UXRF7x6_8</td>\n      <td>youtube#channel</td>\n      <td>UCYnxTYxldRW3wFJIc_6vMTg</td>\n      <td>2018-03-20T05:05:30Z</td>\n      <td>UCYnxTYxldRW3wFJIc_6vMTg</td>\n      <td>Бьюти Блогеры</td>\n      <td></td>\n      <td>https://yt3.ggpht.com/ytc/AL5GRJV7fogwOeRwam_Q...</td>\n      <td>https://yt3.ggpht.com/ytc/AL5GRJV7fogwOeRwam_Q...</td>\n      <td>https://yt3.ggpht.com/ytc/AL5GRJV7fogwOeRwam_Q...</td>\n      <td>Бьюти Блогеры</td>\n      <td>none</td>\n      <td>2018-03-20T05:05:30Z</td>\n    </tr>\n    <tr>\n      <th>0</th>\n      <td>youtube#searchResult</td>\n      <td>sxvnNUa20E3mL2YLxQcBVCvBxmI</td>\n      <td>youtube#channel</td>\n      <td>UCW0-JsQvk2drCyC_gt3Pipg</td>\n      <td>2016-04-13T18:50:40Z</td>\n      <td>UCW0-JsQvk2drCyC_gt3Pipg</td>\n      <td>Лисса</td>\n      <td>Всем привет! Авеми Лисса бьюти канал для девуш...</td>\n      <td>https://yt3.ggpht.com/sMUsuVWPx1cDR7X6GibF12gL...</td>\n      <td>https://yt3.ggpht.com/sMUsuVWPx1cDR7X6GibF12gL...</td>\n      <td>https://yt3.ggpht.com/sMUsuVWPx1cDR7X6GibF12gL...</td>\n      <td>Лисса</td>\n      <td>none</td>\n      <td>2016-04-13T18:50:40Z</td>\n    </tr>\n  </tbody>\n</table>\n</div>"
     },
     "execution_count": 22,
     "metadata": {},
     "output_type": "execute_result"
    }
   ],
   "source": [
    "# 11\n",
    "\n",
    "df_search = df_supplemented.copy(deep=True)\n",
    "df_search = df_search.drop_duplicates(subset=['id.channelId'],)\n",
    "\n",
    "df_search.head()\n"
   ],
   "metadata": {
    "collapsed": false
   }
  },
  {
   "cell_type": "code",
   "execution_count": 23,
   "outputs": [
    {
     "name": "stdout",
     "output_type": "stream",
     "text": [
      "<class 'pandas.core.frame.DataFrame'>\n",
      "Int64Index: 328 entries, 0 to 37\n",
      "Data columns (total 14 columns):\n",
      " #   Column                          Non-Null Count  Dtype \n",
      "---  ------                          --------------  ----- \n",
      " 0   kind                            328 non-null    object\n",
      " 1   etag                            328 non-null    object\n",
      " 2   id.kind                         328 non-null    object\n",
      " 3   id.channelId                    328 non-null    object\n",
      " 4   snippet.publishedAt             328 non-null    object\n",
      " 5   snippet.channelId               328 non-null    object\n",
      " 6   snippet.title                   328 non-null    object\n",
      " 7   snippet.description             328 non-null    object\n",
      " 8   snippet.thumbnails.default.url  328 non-null    object\n",
      " 9   snippet.thumbnails.medium.url   328 non-null    object\n",
      " 10  snippet.thumbnails.high.url     328 non-null    object\n",
      " 11  snippet.channelTitle            328 non-null    object\n",
      " 12  snippet.liveBroadcastContent    328 non-null    object\n",
      " 13  snippet.publishTime             328 non-null    object\n",
      "dtypes: object(14)\n",
      "memory usage: 38.4+ KB\n"
     ]
    }
   ],
   "source": [
    "# 12\n",
    "\n",
    "df_search.info()"
   ],
   "metadata": {
    "collapsed": false
   }
  },
  {
   "cell_type": "code",
   "execution_count": 66,
   "outputs": [],
   "source": [
    "df_search.to_excel(DATA_PATH / 'Channels_search.xlsx', index=False)"
   ],
   "metadata": {
    "collapsed": false
   }
  },
  {
   "cell_type": "code",
   "execution_count": 25,
   "outputs": [],
   "source": [
    "# 13\n",
    "# Загрузка характеристик видео\n",
    "\n",
    "search_parts = [\n",
    "    \"brandingSettings\",\n",
    "    \"contentDetails\",\n",
    "    \"contentOwnerDetails\",\n",
    "    \"snippet\",\n",
    "    \"statistics\",\n",
    "    \"topicDetails\",\n",
    "]\n",
    "\n",
    "# список каналов\n",
    "channel_ids = list(df_search['id.channelId'])"
   ],
   "metadata": {
    "collapsed": false
   }
  },
  {
   "cell_type": "code",
   "execution_count": 29,
   "outputs": [
    {
     "name": "stdout",
     "output_type": "stream",
     "text": [
      "Итерация 0 завершена\n",
      "Итерация 1 завершена\n",
      "Итерация 2 завершена\n",
      "Итерация 3 завершена\n",
      "Итерация 4 завершена\n",
      "Итерация 5 завершена\n",
      "Итерация 6 завершена\n"
     ]
    }
   ],
   "source": [
    "# 14 Множественный вызов по 50 элементов\n",
    "\n",
    "df_supplemented = pd.DataFrame()\n",
    "\n",
    "for i in range(0, len(df_search), 50):\n",
    "    # границы интервала\n",
    "    s, e = i, i+50\n",
    "    #if e > len(df_search): e = len(df_search)\n",
    "\n",
    "    request = youtube.channels().list(\n",
    "    part=search_parts,\n",
    "    maxResults=50,\n",
    "    id=channel_ids[s:e],\n",
    "    )\n",
    "    response = request.execute()\n",
    "\n",
    "    df_additional = pd.json_normalize(response['items'])\n",
    "    df_supplemented = pd.concat([df_supplemented, df_additional])\n",
    "    print(f\"Итерация {i // 50} завершена\")#"
   ],
   "metadata": {
    "collapsed": false
   }
  },
  {
   "cell_type": "code",
   "execution_count": 30,
   "outputs": [
    {
     "name": "stdout",
     "output_type": "stream",
     "text": [
      "Всё ок\n"
     ]
    }
   ],
   "source": [
    "# 15 Валидация количества каналов\n",
    "\n",
    "if len(df_search) == len(df_supplemented): print('Всё ок')\n",
    "else: print(\"Не досчитались:\", abs(len(df_search) - len(df_supplemented)), \"каналов\")"
   ],
   "metadata": {
    "collapsed": false
   }
  },
  {
   "cell_type": "code",
   "execution_count": 31,
   "outputs": [
    {
     "name": "stdout",
     "output_type": "stream",
     "text": [
      "<class 'pandas.core.frame.DataFrame'>\n",
      "Int64Index: 328 entries, 0 to 27\n",
      "Data columns (total 36 columns):\n",
      " #   Column                                               Non-Null Count  Dtype \n",
      "---  ------                                               --------------  ----- \n",
      " 0   kind                                                 328 non-null    object\n",
      " 1   etag                                                 328 non-null    object\n",
      " 2   id                                                   328 non-null    object\n",
      " 3   snippet.title                                        328 non-null    object\n",
      " 4   snippet.description                                  328 non-null    object\n",
      " 5   snippet.customUrl                                    328 non-null    object\n",
      " 6   snippet.publishedAt                                  328 non-null    object\n",
      " 7   snippet.thumbnails.default.url                       328 non-null    object\n",
      " 8   snippet.thumbnails.default.width                     328 non-null    int64 \n",
      " 9   snippet.thumbnails.default.height                    328 non-null    int64 \n",
      " 10  snippet.thumbnails.medium.url                        328 non-null    object\n",
      " 11  snippet.thumbnails.medium.width                      328 non-null    int64 \n",
      " 12  snippet.thumbnails.medium.height                     328 non-null    int64 \n",
      " 13  snippet.thumbnails.high.url                          328 non-null    object\n",
      " 14  snippet.thumbnails.high.width                        328 non-null    int64 \n",
      " 15  snippet.thumbnails.high.height                       328 non-null    int64 \n",
      " 16  snippet.localized.title                              328 non-null    object\n",
      " 17  snippet.localized.description                        328 non-null    object\n",
      " 18  snippet.country                                      209 non-null    object\n",
      " 19  contentDetails.relatedPlaylists.likes                328 non-null    object\n",
      " 20  contentDetails.relatedPlaylists.uploads              328 non-null    object\n",
      " 21  statistics.viewCount                                 328 non-null    object\n",
      " 22  statistics.subscriberCount                           328 non-null    object\n",
      " 23  statistics.hiddenSubscriberCount                     328 non-null    bool  \n",
      " 24  statistics.videoCount                                328 non-null    object\n",
      " 25  topicDetails.topicIds                                288 non-null    object\n",
      " 26  topicDetails.topicCategories                         288 non-null    object\n",
      " 27  brandingSettings.channel.title                       328 non-null    object\n",
      " 28  brandingSettings.channel.description                 260 non-null    object\n",
      " 29  brandingSettings.channel.keywords                    179 non-null    object\n",
      " 30  brandingSettings.channel.unsubscribedTrailer         153 non-null    object\n",
      " 31  brandingSettings.channel.country                     209 non-null    object\n",
      " 32  brandingSettings.image.bannerExternalUrl             262 non-null    object\n",
      " 33  snippet.defaultLanguage                              29 non-null     object\n",
      " 34  brandingSettings.channel.trackingAnalyticsAccountId  22 non-null     object\n",
      " 35  brandingSettings.channel.defaultLanguage             29 non-null     object\n",
      "dtypes: bool(1), int64(6), object(29)\n",
      "memory usage: 92.6+ KB\n"
     ]
    }
   ],
   "source": [
    "# 16\n",
    "df_channel = df_supplemented.copy(deep=True)\n",
    "df_channel.info()"
   ],
   "metadata": {
    "collapsed": false
   }
  },
  {
   "cell_type": "code",
   "execution_count": 32,
   "outputs": [],
   "source": [
    "# 17 Преобразование числовых колонок для корректного отображения\n",
    "numeric_columns = [\n",
    "    \"contentDetails.relatedPlaylists.likes\",\n",
    "    \"contentDetails.relatedPlaylists.uploads\",\n",
    "    'statistics.viewCount',\n",
    "       'statistics.subscriberCount', 'statistics.hiddenSubscriberCount',\n",
    "       'statistics.videoCount'\n",
    "]\n",
    "\n",
    "\n",
    "for num_col in numeric_columns:\n",
    "\n",
    "    df_channel[num_col] = pd.to_numeric(df_channel[num_col], errors='coerce')\n"
   ],
   "metadata": {
    "collapsed": false
   }
  },
  {
   "cell_type": "code",
   "execution_count": 33,
   "outputs": [
    {
     "data": {
      "text/plain": "       contentDetails.relatedPlaylists.likes  \\\ncount                               0.000000   \nmean                                     NaN   \nstd                                      NaN   \nmin                                      NaN   \n25%                                      NaN   \n50%                                      NaN   \n75%                                      NaN   \nmax                                      NaN   \n\n       contentDetails.relatedPlaylists.uploads  statistics.viewCount  \\\ncount                                 0.000000            328.000000   \nmean                                       NaN       41590835.024390   \nstd                                        NaN      170636457.395853   \nmin                                        NaN              0.000000   \n25%                                        NaN           1306.250000   \n50%                                        NaN         462090.000000   \n75%                                        NaN       12037736.500000   \nmax                                        NaN     2201759391.000000   \n\n       statistics.subscriberCount  statistics.videoCount  \ncount                  328.000000             328.000000  \nmean                217742.640244             250.582317  \nstd                 691658.252380             515.857167  \nmin                      0.000000               0.000000  \n25%                     28.750000               6.750000  \n50%                   5685.000000              52.000000  \n75%                 128000.000000             294.500000  \nmax                9210000.000000            5152.000000  ",
      "text/html": "<div>\n<style scoped>\n    .dataframe tbody tr th:only-of-type {\n        vertical-align: middle;\n    }\n\n    .dataframe tbody tr th {\n        vertical-align: top;\n    }\n\n    .dataframe thead th {\n        text-align: right;\n    }\n</style>\n<table border=\"1\" class=\"dataframe\">\n  <thead>\n    <tr style=\"text-align: right;\">\n      <th></th>\n      <th>contentDetails.relatedPlaylists.likes</th>\n      <th>contentDetails.relatedPlaylists.uploads</th>\n      <th>statistics.viewCount</th>\n      <th>statistics.subscriberCount</th>\n      <th>statistics.videoCount</th>\n    </tr>\n  </thead>\n  <tbody>\n    <tr>\n      <th>count</th>\n      <td>0.000000</td>\n      <td>0.000000</td>\n      <td>328.000000</td>\n      <td>328.000000</td>\n      <td>328.000000</td>\n    </tr>\n    <tr>\n      <th>mean</th>\n      <td>NaN</td>\n      <td>NaN</td>\n      <td>41590835.024390</td>\n      <td>217742.640244</td>\n      <td>250.582317</td>\n    </tr>\n    <tr>\n      <th>std</th>\n      <td>NaN</td>\n      <td>NaN</td>\n      <td>170636457.395853</td>\n      <td>691658.252380</td>\n      <td>515.857167</td>\n    </tr>\n    <tr>\n      <th>min</th>\n      <td>NaN</td>\n      <td>NaN</td>\n      <td>0.000000</td>\n      <td>0.000000</td>\n      <td>0.000000</td>\n    </tr>\n    <tr>\n      <th>25%</th>\n      <td>NaN</td>\n      <td>NaN</td>\n      <td>1306.250000</td>\n      <td>28.750000</td>\n      <td>6.750000</td>\n    </tr>\n    <tr>\n      <th>50%</th>\n      <td>NaN</td>\n      <td>NaN</td>\n      <td>462090.000000</td>\n      <td>5685.000000</td>\n      <td>52.000000</td>\n    </tr>\n    <tr>\n      <th>75%</th>\n      <td>NaN</td>\n      <td>NaN</td>\n      <td>12037736.500000</td>\n      <td>128000.000000</td>\n      <td>294.500000</td>\n    </tr>\n    <tr>\n      <th>max</th>\n      <td>NaN</td>\n      <td>NaN</td>\n      <td>2201759391.000000</td>\n      <td>9210000.000000</td>\n      <td>5152.000000</td>\n    </tr>\n  </tbody>\n</table>\n</div>"
     },
     "execution_count": 33,
     "metadata": {},
     "output_type": "execute_result"
    }
   ],
   "source": [
    "# 18 Отображение числовых характеристик для фильтрации\n",
    "\n",
    "pd.set_option('float_format', '{:f}'.format)\n",
    "\n",
    "df_channel[numeric_columns].describe()"
   ],
   "metadata": {
    "collapsed": false
   }
  },
  {
   "cell_type": "markdown",
   "source": [
    "# Фильтрация\n",
    "\n",
    "1. Количество просмотров - 50% (медиана)\n",
    "2. Количество видео - 50% (медиана)\n"
   ],
   "metadata": {
    "collapsed": false
   }
  },
  {
   "cell_type": "code",
   "execution_count": 34,
   "outputs": [
    {
     "name": "stdout",
     "output_type": "stream",
     "text": [
      "Отсев по просмотрам 462090.0\n",
      "Отсев по подписчикам 5685.0\n"
     ]
    }
   ],
   "source": [
    "# 19 Вывод характеристик для фильтрации\n",
    "\n",
    "view_median = np.median(df_channel['statistics.viewCount'])\n",
    "sub_median = np.median(df_channel['statistics.subscriberCount'])\n",
    "\n",
    "print('Отсев по просмотрам', view_median)\n",
    "print('Отсев по подписчикам', sub_median)"
   ],
   "metadata": {
    "collapsed": false
   }
  },
  {
   "cell_type": "code",
   "execution_count": 35,
   "outputs": [
    {
     "name": "stdout",
     "output_type": "stream",
     "text": [
      "<class 'pandas.core.frame.DataFrame'>\n",
      "Int64Index: 173 entries, 0 to 27\n",
      "Data columns (total 36 columns):\n",
      " #   Column                                               Non-Null Count  Dtype  \n",
      "---  ------                                               --------------  -----  \n",
      " 0   kind                                                 173 non-null    object \n",
      " 1   etag                                                 173 non-null    object \n",
      " 2   id                                                   173 non-null    object \n",
      " 3   snippet.title                                        173 non-null    object \n",
      " 4   snippet.description                                  173 non-null    object \n",
      " 5   snippet.customUrl                                    173 non-null    object \n",
      " 6   snippet.publishedAt                                  173 non-null    object \n",
      " 7   snippet.thumbnails.default.url                       173 non-null    object \n",
      " 8   snippet.thumbnails.default.width                     173 non-null    int64  \n",
      " 9   snippet.thumbnails.default.height                    173 non-null    int64  \n",
      " 10  snippet.thumbnails.medium.url                        173 non-null    object \n",
      " 11  snippet.thumbnails.medium.width                      173 non-null    int64  \n",
      " 12  snippet.thumbnails.medium.height                     173 non-null    int64  \n",
      " 13  snippet.thumbnails.high.url                          173 non-null    object \n",
      " 14  snippet.thumbnails.high.width                        173 non-null    int64  \n",
      " 15  snippet.thumbnails.high.height                       173 non-null    int64  \n",
      " 16  snippet.localized.title                              173 non-null    object \n",
      " 17  snippet.localized.description                        173 non-null    object \n",
      " 18  snippet.country                                      152 non-null    object \n",
      " 19  contentDetails.relatedPlaylists.likes                0 non-null      float64\n",
      " 20  contentDetails.relatedPlaylists.uploads              0 non-null      float64\n",
      " 21  statistics.viewCount                                 173 non-null    int64  \n",
      " 22  statistics.subscriberCount                           173 non-null    int64  \n",
      " 23  statistics.hiddenSubscriberCount                     173 non-null    bool   \n",
      " 24  statistics.videoCount                                173 non-null    int64  \n",
      " 25  topicDetails.topicIds                                172 non-null    object \n",
      " 26  topicDetails.topicCategories                         172 non-null    object \n",
      " 27  brandingSettings.channel.title                       173 non-null    object \n",
      " 28  brandingSettings.channel.description                 162 non-null    object \n",
      " 29  brandingSettings.channel.keywords                    140 non-null    object \n",
      " 30  brandingSettings.channel.unsubscribedTrailer         123 non-null    object \n",
      " 31  brandingSettings.channel.country                     152 non-null    object \n",
      " 32  brandingSettings.image.bannerExternalUrl             170 non-null    object \n",
      " 33  snippet.defaultLanguage                              26 non-null     object \n",
      " 34  brandingSettings.channel.trackingAnalyticsAccountId  17 non-null     object \n",
      " 35  brandingSettings.channel.defaultLanguage             26 non-null     object \n",
      "dtypes: bool(1), float64(2), int64(9), object(24)\n",
      "memory usage: 48.8+ KB\n"
     ]
    }
   ],
   "source": [
    "# 20 Статистика после фильтра\n",
    "\n",
    "df_final_channels = df_channel[(df_channel['statistics.viewCount'] >= view_median) | (df_channel['statistics.subscriberCount'] >= sub_median)]\n",
    "\n",
    "df_final_channels.info()"
   ],
   "metadata": {
    "collapsed": false
   }
  },
  {
   "cell_type": "code",
   "execution_count": 107,
   "outputs": [],
   "source": [
    "# 21 Сохранение\n",
    "\n",
    "df_final_channels.to_excel(DATA_PATH / f'{query}_channels.xlsx', index=False)"
   ],
   "metadata": {
    "collapsed": false
   }
  },
  {
   "cell_type": "code",
   "execution_count": null,
   "outputs": [],
   "source": [],
   "metadata": {
    "collapsed": false
   }
  }
 ],
 "metadata": {
  "kernelspec": {
   "display_name": "Python 3",
   "language": "python",
   "name": "python3"
  },
  "language_info": {
   "codemirror_mode": {
    "name": "ipython",
    "version": 2
   },
   "file_extension": ".py",
   "mimetype": "text/x-python",
   "name": "python",
   "nbconvert_exporter": "python",
   "pygments_lexer": "ipython2",
   "version": "2.7.6"
  }
 },
 "nbformat": 4,
 "nbformat_minor": 0
}
