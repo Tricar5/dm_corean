{
 "cells": [
  {
   "cell_type": "markdown",
   "metadata": {},
   "source": [
    "# Выгрузка комментариев\n"
   ]
  },
  {
   "cell_type": "code",
   "execution_count": 1,
   "metadata": {
    "ExecuteTime": {
     "start_time": "2023-04-15T13:07:46.878501Z",
     "end_time": "2023-04-15T13:07:47.950771Z"
    }
   },
   "outputs": [],
   "source": [
    "import pandas as pd\n",
    "# 1\n",
    "import yaml\n",
    "import pathlib\n",
    "ROOT = pathlib.Path().resolve().parent.parent\n",
    "\n",
    "with open(ROOT / \"config.yml\", \"r\") as f:\n",
    "    config = yaml.load(f, Loader=yaml.FullLoader)\n"
   ]
  },
  {
   "cell_type": "code",
   "execution_count": 2,
   "metadata": {
    "ExecuteTime": {
     "start_time": "2023-04-15T13:07:47.950393Z",
     "end_time": "2023-04-15T13:07:47.953740Z"
    }
   },
   "outputs": [],
   "source": [
    "DATA_PATH = ROOT / config['api']['DATA_PATH']"
   ]
  },
  {
   "cell_type": "markdown",
   "metadata": {},
   "source": []
  },
  {
   "cell_type": "code",
   "execution_count": 3,
   "metadata": {
    "ExecuteTime": {
     "start_time": "2023-04-15T13:07:47.953222Z",
     "end_time": "2023-04-15T13:07:47.955751Z"
    }
   },
   "outputs": [],
   "source": [
    "#3\n",
    "# Variables from config\n",
    "API_KEY = config['api']['keys']\n",
    "API_VERSION = config['api']['api_version']\n",
    "API_SERVICE_NAME = config['api']['api_service_name']\n",
    "\n",
    "publishedAfter = config['api']['parameters']['date_after']\n",
    "publishedBefore = config['api']['parameters']['date_before']\n",
    "\n"
   ]
  },
  {
   "cell_type": "code",
   "execution_count": 4,
   "metadata": {
    "ExecuteTime": {
     "start_time": "2023-04-15T13:07:47.956737Z",
     "end_time": "2023-04-15T13:07:47.958385Z"
    }
   },
   "outputs": [],
   "source": [
    "# 3.1\n",
    "class KeyStorage:\n",
    "    \"\"\"\n",
    "    Class to use in iteration\n",
    "    \"\"\"\n",
    "\n",
    "    def __init__(self, key_arr: list[str]):\n",
    "        self.key_gen = iter(key_arr)\n",
    "\n",
    "    def get_next_key(self):\n",
    "        \"\"\"\n",
    "        Returns API key to use\n",
    "        :return:\n",
    "        \"\"\"\n",
    "        return next(self.key_gen)\n",
    "\n",
    "key_storage = KeyStorage(config['api']['keys'])"
   ]
  },
  {
   "cell_type": "code",
   "execution_count": 6,
   "metadata": {
    "ExecuteTime": {
     "start_time": "2023-04-15T13:07:47.961802Z",
     "end_time": "2023-04-15T13:07:47.965807Z"
    }
   },
   "outputs": [],
   "source": [
    "# 3.2 Просмотр API ключа\n",
    "API_KEY = key_storage.get_next_key()"
   ]
  },
  {
   "cell_type": "code",
   "execution_count": 7,
   "metadata": {
    "ExecuteTime": {
     "start_time": "2023-04-15T13:07:47.966711Z",
     "end_time": "2023-04-15T13:07:48.073769Z"
    }
   },
   "outputs": [],
   "source": [
    "# 4 импортируем и создаем клиент API Youtube\n",
    "import googleapiclient.discovery as api\n",
    "\n",
    "youtube = api.build(API_SERVICE_NAME,\n",
    "                    API_VERSION,\n",
    "                    developerKey=API_KEY)"
   ]
  },
  {
   "cell_type": "markdown",
   "metadata": {},
   "source": [
    "## Комментарии"
   ]
  },
  {
   "cell_type": "code",
   "execution_count": 8,
   "metadata": {
    "ExecuteTime": {
     "start_time": "2023-04-15T13:07:48.074623Z",
     "end_time": "2023-04-15T13:07:48.722265Z"
    }
   },
   "outputs": [
    {
     "data": {
      "text/plain": "            kind                         etag           id  \\\n0  youtube#video  JlUeGRM73VkN0w8nCEaEyWoBan4  AAjsSrjZXsw   \n1  youtube#video  7WDv-DyXw9u2r1vYjW2NooOtj7s  yk4Wjr3j7QY   \n2  youtube#video  fDjV0KNgOssPF9NpbdoSpb40mR0  Wi49rKRM85U   \n3  youtube#video  UpqzTW3rCzeEURxHPRyg8n66jgM  kSiaxefvCgM   \n4  youtube#video  qVkdqXUraasWK3i8x412EgtkBc0  4nqfUzIz7kQ   \n\n    snippet.publishedAt         snippet.channelId  \\\n0  2021-03-10T13:46:47Z  UCh29SdTOPdjBb-n3Vop1lYg   \n1  2023-02-05T04:32:39Z  UCfcMgRNXey6TQkov9mgVgoA   \n2  2022-06-20T12:57:48Z  UCphnZS52v_lkv5RSl5n70tQ   \n3  2023-02-11T12:43:25Z  UCfcMgRNXey6TQkov9mgVgoA   \n4  2021-11-12T14:59:32Z  UCphnZS52v_lkv5RSl5n70tQ   \n\n                                       snippet.title  \\\n0  Расследование | Паленая косметика на Ozon и Wi...   \n1  Пляжная мода в Корее #этокореядетка #корейская...   \n2  한국인들은 절대 안사는 화장품 КОСМЕТИКА КОТОРАЯ КОРЕЯНКИ ВО...   \n3  Жилищный вопрос: Корея #дорамы #корейскийязык ...   \n4  Кореянка в Золотом Яблоке. Почему русские поку...   \n\n                                 snippet.description  \\\n0  На российских маркетплейсах продается огромное...   \n1                                                NaN   \n2  ⚫подписаться: https://goo.gl/3QbeUf\\n---------...   \n3                                                NaN   \n4  #кореянка#золотоеяблоко#корейскаякосметика\\nпр...   \n\n                   snippet.thumbnails.default.url  \\\n0  https://i.ytimg.com/vi/AAjsSrjZXsw/default.jpg   \n1  https://i.ytimg.com/vi/yk4Wjr3j7QY/default.jpg   \n2  https://i.ytimg.com/vi/Wi49rKRM85U/default.jpg   \n3  https://i.ytimg.com/vi/kSiaxefvCgM/default.jpg   \n4  https://i.ytimg.com/vi/4nqfUzIz7kQ/default.jpg   \n\n   snippet.thumbnails.default.width  snippet.thumbnails.default.height  ...  \\\n0                               120                                 90  ...   \n1                               120                                 90  ...   \n2                               120                                 90  ...   \n3                               120                                 90  ...   \n4                               120                                 90  ...   \n\n                        topicDetails.topicCategories  \\\n0  ['https://en.wikipedia.org/wiki/Lifestyle_(soc...   \n1  ['https://en.wikipedia.org/wiki/Lifestyle_(soc...   \n2  ['https://en.wikipedia.org/wiki/Lifestyle_(soc...   \n3  ['https://en.wikipedia.org/wiki/Lifestyle_(soc...   \n4  ['https://en.wikipedia.org/wiki/Lifestyle_(soc...   \n\n                                        snippet.tags  \\\n0                                                NaN   \n1                                                NaN   \n2  ['КОРЕЯНКА', 'АЗИАТКА', '#КОРЕЙСКАЯДЕВУШКА', '...   \n3                                                NaN   \n4  ['КОРЕЯНКА', 'АЗИАТКА', '#КОРЕЙСКАЯДЕВУШКА', '...   \n\n   liveStreamingDetails.actualStartTime liveStreamingDetails.actualEndTime  \\\n0                                   NaN                                NaN   \n1                                   NaN                                NaN   \n2                                   NaN                                NaN   \n3                                   NaN                                NaN   \n4                                   NaN                                NaN   \n\n   liveStreamingDetails.scheduledStartTime  \\\n0                                      NaN   \n1                                      NaN   \n2                                      NaN   \n3                                      NaN   \n4                                      NaN   \n\n   liveStreamingDetails.activeLiveChatId  \\\n0                                    NaN   \n1                                    NaN   \n2                                    NaN   \n3                                    NaN   \n4                                    NaN   \n\n  contentDetails.contentRating.ytRating  statistics.dislikesCount  \\\n0                                   NaN                       756   \n1                                   NaN                      5790   \n2                                   NaN                       569   \n3                                   NaN                      2881   \n4                                   NaN                       154   \n\n   durationSec    categoryName  \n0         1597   Howto & Style  \n1           49  People & Blogs  \n2          469  People & Blogs  \n3           57  People & Blogs  \n4          730  People & Blogs  \n\n[5 rows x 50 columns]",
      "text/html": "<div>\n<style scoped>\n    .dataframe tbody tr th:only-of-type {\n        vertical-align: middle;\n    }\n\n    .dataframe tbody tr th {\n        vertical-align: top;\n    }\n\n    .dataframe thead th {\n        text-align: right;\n    }\n</style>\n<table border=\"1\" class=\"dataframe\">\n  <thead>\n    <tr style=\"text-align: right;\">\n      <th></th>\n      <th>kind</th>\n      <th>etag</th>\n      <th>id</th>\n      <th>snippet.publishedAt</th>\n      <th>snippet.channelId</th>\n      <th>snippet.title</th>\n      <th>snippet.description</th>\n      <th>snippet.thumbnails.default.url</th>\n      <th>snippet.thumbnails.default.width</th>\n      <th>snippet.thumbnails.default.height</th>\n      <th>...</th>\n      <th>topicDetails.topicCategories</th>\n      <th>snippet.tags</th>\n      <th>liveStreamingDetails.actualStartTime</th>\n      <th>liveStreamingDetails.actualEndTime</th>\n      <th>liveStreamingDetails.scheduledStartTime</th>\n      <th>liveStreamingDetails.activeLiveChatId</th>\n      <th>contentDetails.contentRating.ytRating</th>\n      <th>statistics.dislikesCount</th>\n      <th>durationSec</th>\n      <th>categoryName</th>\n    </tr>\n  </thead>\n  <tbody>\n    <tr>\n      <th>0</th>\n      <td>youtube#video</td>\n      <td>JlUeGRM73VkN0w8nCEaEyWoBan4</td>\n      <td>AAjsSrjZXsw</td>\n      <td>2021-03-10T13:46:47Z</td>\n      <td>UCh29SdTOPdjBb-n3Vop1lYg</td>\n      <td>Расследование | Паленая косметика на Ozon и Wi...</td>\n      <td>На российских маркетплейсах продается огромное...</td>\n      <td>https://i.ytimg.com/vi/AAjsSrjZXsw/default.jpg</td>\n      <td>120</td>\n      <td>90</td>\n      <td>...</td>\n      <td>['https://en.wikipedia.org/wiki/Lifestyle_(soc...</td>\n      <td>NaN</td>\n      <td>NaN</td>\n      <td>NaN</td>\n      <td>NaN</td>\n      <td>NaN</td>\n      <td>NaN</td>\n      <td>756</td>\n      <td>1597</td>\n      <td>Howto &amp; Style</td>\n    </tr>\n    <tr>\n      <th>1</th>\n      <td>youtube#video</td>\n      <td>7WDv-DyXw9u2r1vYjW2NooOtj7s</td>\n      <td>yk4Wjr3j7QY</td>\n      <td>2023-02-05T04:32:39Z</td>\n      <td>UCfcMgRNXey6TQkov9mgVgoA</td>\n      <td>Пляжная мода в Корее #этокореядетка #корейская...</td>\n      <td>NaN</td>\n      <td>https://i.ytimg.com/vi/yk4Wjr3j7QY/default.jpg</td>\n      <td>120</td>\n      <td>90</td>\n      <td>...</td>\n      <td>['https://en.wikipedia.org/wiki/Lifestyle_(soc...</td>\n      <td>NaN</td>\n      <td>NaN</td>\n      <td>NaN</td>\n      <td>NaN</td>\n      <td>NaN</td>\n      <td>NaN</td>\n      <td>5790</td>\n      <td>49</td>\n      <td>People &amp; Blogs</td>\n    </tr>\n    <tr>\n      <th>2</th>\n      <td>youtube#video</td>\n      <td>fDjV0KNgOssPF9NpbdoSpb40mR0</td>\n      <td>Wi49rKRM85U</td>\n      <td>2022-06-20T12:57:48Z</td>\n      <td>UCphnZS52v_lkv5RSl5n70tQ</td>\n      <td>한국인들은 절대 안사는 화장품 КОСМЕТИКА КОТОРАЯ КОРЕЯНКИ ВО...</td>\n      <td>⚫подписаться: https://goo.gl/3QbeUf\\n---------...</td>\n      <td>https://i.ytimg.com/vi/Wi49rKRM85U/default.jpg</td>\n      <td>120</td>\n      <td>90</td>\n      <td>...</td>\n      <td>['https://en.wikipedia.org/wiki/Lifestyle_(soc...</td>\n      <td>['КОРЕЯНКА', 'АЗИАТКА', '#КОРЕЙСКАЯДЕВУШКА', '...</td>\n      <td>NaN</td>\n      <td>NaN</td>\n      <td>NaN</td>\n      <td>NaN</td>\n      <td>NaN</td>\n      <td>569</td>\n      <td>469</td>\n      <td>People &amp; Blogs</td>\n    </tr>\n    <tr>\n      <th>3</th>\n      <td>youtube#video</td>\n      <td>UpqzTW3rCzeEURxHPRyg8n66jgM</td>\n      <td>kSiaxefvCgM</td>\n      <td>2023-02-11T12:43:25Z</td>\n      <td>UCfcMgRNXey6TQkov9mgVgoA</td>\n      <td>Жилищный вопрос: Корея #дорамы #корейскийязык ...</td>\n      <td>NaN</td>\n      <td>https://i.ytimg.com/vi/kSiaxefvCgM/default.jpg</td>\n      <td>120</td>\n      <td>90</td>\n      <td>...</td>\n      <td>['https://en.wikipedia.org/wiki/Lifestyle_(soc...</td>\n      <td>NaN</td>\n      <td>NaN</td>\n      <td>NaN</td>\n      <td>NaN</td>\n      <td>NaN</td>\n      <td>NaN</td>\n      <td>2881</td>\n      <td>57</td>\n      <td>People &amp; Blogs</td>\n    </tr>\n    <tr>\n      <th>4</th>\n      <td>youtube#video</td>\n      <td>qVkdqXUraasWK3i8x412EgtkBc0</td>\n      <td>4nqfUzIz7kQ</td>\n      <td>2021-11-12T14:59:32Z</td>\n      <td>UCphnZS52v_lkv5RSl5n70tQ</td>\n      <td>Кореянка в Золотом Яблоке. Почему русские поку...</td>\n      <td>#кореянка#золотоеяблоко#корейскаякосметика\\nпр...</td>\n      <td>https://i.ytimg.com/vi/4nqfUzIz7kQ/default.jpg</td>\n      <td>120</td>\n      <td>90</td>\n      <td>...</td>\n      <td>['https://en.wikipedia.org/wiki/Lifestyle_(soc...</td>\n      <td>['КОРЕЯНКА', 'АЗИАТКА', '#КОРЕЙСКАЯДЕВУШКА', '...</td>\n      <td>NaN</td>\n      <td>NaN</td>\n      <td>NaN</td>\n      <td>NaN</td>\n      <td>NaN</td>\n      <td>154</td>\n      <td>730</td>\n      <td>People &amp; Blogs</td>\n    </tr>\n  </tbody>\n</table>\n<p>5 rows × 50 columns</p>\n</div>"
     },
     "execution_count": 8,
     "metadata": {},
     "output_type": "execute_result"
    }
   ],
   "source": [
    "# 5 Загрузка данных\n",
    "\n",
    "df_korean = pd.read_excel(DATA_PATH / \"video\" / \"Video_characteristics_КорейскаяКосметика.xlsx\")\n",
    "\n",
    "df_korean.head()"
   ]
  },
  {
   "cell_type": "code",
   "execution_count": 9,
   "metadata": {
    "ExecuteTime": {
     "start_time": "2023-04-15T13:07:48.722507Z",
     "end_time": "2023-04-15T13:07:48.733733Z"
    }
   },
   "outputs": [
    {
     "data": {
      "text/plain": "               kind                         etag           id  \\\n0     youtube#video  JlUeGRM73VkN0w8nCEaEyWoBan4  AAjsSrjZXsw   \n1     youtube#video  7WDv-DyXw9u2r1vYjW2NooOtj7s  yk4Wjr3j7QY   \n2     youtube#video  fDjV0KNgOssPF9NpbdoSpb40mR0  Wi49rKRM85U   \n3     youtube#video  UpqzTW3rCzeEURxHPRyg8n66jgM  kSiaxefvCgM   \n4     youtube#video  qVkdqXUraasWK3i8x412EgtkBc0  4nqfUzIz7kQ   \n...             ...                          ...          ...   \n1282  youtube#video  kTv9rIwBS-YxmSIs6x39Gu9fJFo  oj8p3eWa-Bg   \n1287  youtube#video  05IQHvdJcDodV4eU4iR4D9TzfH8  CYssI6BTq8w   \n1291  youtube#video  kSwkjwL9ODhHC7ZSyZ_SDETbsNU  NIUJvRivwpY   \n1295  youtube#video  KCxvZ7MDU48c4aZdjLE93Ngpf2I  SNRrXxyiwk0   \n1299  youtube#video  uDij3N4VcdicVfm5DbK2uuqq0YM  KsAVjAwf3Go   \n\n       snippet.publishedAt         snippet.channelId  \\\n0     2021-03-10T13:46:47Z  UCh29SdTOPdjBb-n3Vop1lYg   \n1     2023-02-05T04:32:39Z  UCfcMgRNXey6TQkov9mgVgoA   \n2     2022-06-20T12:57:48Z  UCphnZS52v_lkv5RSl5n70tQ   \n3     2023-02-11T12:43:25Z  UCfcMgRNXey6TQkov9mgVgoA   \n4     2021-11-12T14:59:32Z  UCphnZS52v_lkv5RSl5n70tQ   \n...                    ...                       ...   \n1282  2023-03-12T23:10:38Z  UCPQ5P9lA9Bu5y17RE7GoRJA   \n1287  2023-03-03T12:30:58Z  UCfeHsdZzW6IMSczgNgC3QWg   \n1291  2023-04-02T14:47:08Z  UCd9l3fylqVDlMYUKepXi-cw   \n1295  2023-03-20T15:43:32Z  UC2wyUPnUdd_o2JYPIUuDgoA   \n1299  2023-03-06T12:57:45Z  UCoMjXgLQIYVuZ3Gm2kI4T8A   \n\n                                          snippet.title  \\\n0     Расследование | Паленая косметика на Ozon и Wi...   \n1     Пляжная мода в Корее #этокореядетка #корейская...   \n2     한국인들은 절대 안사는 화장품 КОСМЕТИКА КОТОРАЯ КОРЕЯНКИ ВО...   \n3     Жилищный вопрос: Корея #дорамы #корейскийязык ...   \n4     Кореянка в Золотом Яблоке. Почему русские поку...   \n...                                                 ...   \n1282  Лучший Антивозрастной уход за кожей лица и шеи...   \n1287  Атоми. Идеи подарка #8марта #атоми #корейскаяк...   \n1291  #Атоми #длямужчин #кремдлялица #Atomy #корейск...   \n1295  #атоми #корейскаякосметика #атомибизнес #уходз...   \n1299  #КорейскаяКосметика #Красота #Атоми #Atomy #ух...   \n\n                                    snippet.description  \\\n0     На российских маркетплейсах продается огромное...   \n1                                                   NaN   \n2     ⚫подписаться: https://goo.gl/3QbeUf\\n---------...   \n3                                                   NaN   \n4     #кореянка#золотоеяблоко#корейскаякосметика\\nпр...   \n...                                                 ...   \n1282                                                NaN   \n1287                                                NaN   \n1291                                                NaN   \n1295                                                NaN   \n1299  🙂В набор Атоми Гидра Сияние входят капсульная ...   \n\n                      snippet.thumbnails.default.url  \\\n0     https://i.ytimg.com/vi/AAjsSrjZXsw/default.jpg   \n1     https://i.ytimg.com/vi/yk4Wjr3j7QY/default.jpg   \n2     https://i.ytimg.com/vi/Wi49rKRM85U/default.jpg   \n3     https://i.ytimg.com/vi/kSiaxefvCgM/default.jpg   \n4     https://i.ytimg.com/vi/4nqfUzIz7kQ/default.jpg   \n...                                              ...   \n1282  https://i.ytimg.com/vi/oj8p3eWa-Bg/default.jpg   \n1287  https://i.ytimg.com/vi/CYssI6BTq8w/default.jpg   \n1291  https://i.ytimg.com/vi/NIUJvRivwpY/default.jpg   \n1295  https://i.ytimg.com/vi/SNRrXxyiwk0/default.jpg   \n1299  https://i.ytimg.com/vi/KsAVjAwf3Go/default.jpg   \n\n      snippet.thumbnails.default.width  snippet.thumbnails.default.height  \\\n0                                  120                                 90   \n1                                  120                                 90   \n2                                  120                                 90   \n3                                  120                                 90   \n4                                  120                                 90   \n...                                ...                                ...   \n1282                               120                                 90   \n1287                               120                                 90   \n1291                               120                                 90   \n1295                               120                                 90   \n1299                               120                                 90   \n\n      ...                       topicDetails.topicCategories  \\\n0     ...  ['https://en.wikipedia.org/wiki/Lifestyle_(soc...   \n1     ...  ['https://en.wikipedia.org/wiki/Lifestyle_(soc...   \n2     ...  ['https://en.wikipedia.org/wiki/Lifestyle_(soc...   \n3     ...  ['https://en.wikipedia.org/wiki/Lifestyle_(soc...   \n4     ...  ['https://en.wikipedia.org/wiki/Lifestyle_(soc...   \n...   ...                                                ...   \n1282  ...  ['https://en.wikipedia.org/wiki/Lifestyle_(soc...   \n1287  ...  ['https://en.wikipedia.org/wiki/Lifestyle_(soc...   \n1291  ...  ['https://en.wikipedia.org/wiki/Lifestyle_(soc...   \n1295  ...  ['https://en.wikipedia.org/wiki/Lifestyle_(soc...   \n1299  ...                                                NaN   \n\n                                           snippet.tags  \\\n0                                                   NaN   \n1                                                   NaN   \n2     ['КОРЕЯНКА', 'АЗИАТКА', '#КОРЕЙСКАЯДЕВУШКА', '...   \n3                                                   NaN   \n4     ['КОРЕЯНКА', 'АЗИАТКА', '#КОРЕЙСКАЯДЕВУШКА', '...   \n...                                                 ...   \n1282                                                NaN   \n1287                                                NaN   \n1291                                                NaN   \n1295                                                NaN   \n1299  ['косметика', 'корейская косметика', 'уход за ...   \n\n      liveStreamingDetails.actualStartTime liveStreamingDetails.actualEndTime  \\\n0                                      NaN                                NaN   \n1                                      NaN                                NaN   \n2                                      NaN                                NaN   \n3                                      NaN                                NaN   \n4                                      NaN                                NaN   \n...                                    ...                                ...   \n1282                                   NaN                                NaN   \n1287                                   NaN                                NaN   \n1291                                   NaN                                NaN   \n1295                                   NaN                                NaN   \n1299                                   NaN                                NaN   \n\n      liveStreamingDetails.scheduledStartTime  \\\n0                                         NaN   \n1                                         NaN   \n2                                         NaN   \n3                                         NaN   \n4                                         NaN   \n...                                       ...   \n1282                                      NaN   \n1287                                      NaN   \n1291                                      NaN   \n1295                                      NaN   \n1299                                      NaN   \n\n      liveStreamingDetails.activeLiveChatId  \\\n0                                       NaN   \n1                                       NaN   \n2                                       NaN   \n3                                       NaN   \n4                                       NaN   \n...                                     ...   \n1282                                    NaN   \n1287                                    NaN   \n1291                                    NaN   \n1295                                    NaN   \n1299                                    NaN   \n\n     contentDetails.contentRating.ytRating  statistics.dislikesCount  \\\n0                                      NaN                       756   \n1                                      NaN                      5790   \n2                                      NaN                       569   \n3                                      NaN                      2881   \n4                                      NaN                       154   \n...                                    ...                       ...   \n1282                                   NaN                         0   \n1287                                   NaN                         0   \n1291                                   NaN                         0   \n1295                                   NaN                         0   \n1299                                   NaN                         0   \n\n      durationSec    categoryName  \n0            1597   Howto & Style  \n1              49  People & Blogs  \n2             469  People & Blogs  \n3              57  People & Blogs  \n4             730  People & Blogs  \n...           ...             ...  \n1282           50  People & Blogs  \n1287            8  People & Blogs  \n1291           31  People & Blogs  \n1295            4  People & Blogs  \n1299           20  People & Blogs  \n\n[884 rows x 50 columns]",
      "text/html": "<div>\n<style scoped>\n    .dataframe tbody tr th:only-of-type {\n        vertical-align: middle;\n    }\n\n    .dataframe tbody tr th {\n        vertical-align: top;\n    }\n\n    .dataframe thead th {\n        text-align: right;\n    }\n</style>\n<table border=\"1\" class=\"dataframe\">\n  <thead>\n    <tr style=\"text-align: right;\">\n      <th></th>\n      <th>kind</th>\n      <th>etag</th>\n      <th>id</th>\n      <th>snippet.publishedAt</th>\n      <th>snippet.channelId</th>\n      <th>snippet.title</th>\n      <th>snippet.description</th>\n      <th>snippet.thumbnails.default.url</th>\n      <th>snippet.thumbnails.default.width</th>\n      <th>snippet.thumbnails.default.height</th>\n      <th>...</th>\n      <th>topicDetails.topicCategories</th>\n      <th>snippet.tags</th>\n      <th>liveStreamingDetails.actualStartTime</th>\n      <th>liveStreamingDetails.actualEndTime</th>\n      <th>liveStreamingDetails.scheduledStartTime</th>\n      <th>liveStreamingDetails.activeLiveChatId</th>\n      <th>contentDetails.contentRating.ytRating</th>\n      <th>statistics.dislikesCount</th>\n      <th>durationSec</th>\n      <th>categoryName</th>\n    </tr>\n  </thead>\n  <tbody>\n    <tr>\n      <th>0</th>\n      <td>youtube#video</td>\n      <td>JlUeGRM73VkN0w8nCEaEyWoBan4</td>\n      <td>AAjsSrjZXsw</td>\n      <td>2021-03-10T13:46:47Z</td>\n      <td>UCh29SdTOPdjBb-n3Vop1lYg</td>\n      <td>Расследование | Паленая косметика на Ozon и Wi...</td>\n      <td>На российских маркетплейсах продается огромное...</td>\n      <td>https://i.ytimg.com/vi/AAjsSrjZXsw/default.jpg</td>\n      <td>120</td>\n      <td>90</td>\n      <td>...</td>\n      <td>['https://en.wikipedia.org/wiki/Lifestyle_(soc...</td>\n      <td>NaN</td>\n      <td>NaN</td>\n      <td>NaN</td>\n      <td>NaN</td>\n      <td>NaN</td>\n      <td>NaN</td>\n      <td>756</td>\n      <td>1597</td>\n      <td>Howto &amp; Style</td>\n    </tr>\n    <tr>\n      <th>1</th>\n      <td>youtube#video</td>\n      <td>7WDv-DyXw9u2r1vYjW2NooOtj7s</td>\n      <td>yk4Wjr3j7QY</td>\n      <td>2023-02-05T04:32:39Z</td>\n      <td>UCfcMgRNXey6TQkov9mgVgoA</td>\n      <td>Пляжная мода в Корее #этокореядетка #корейская...</td>\n      <td>NaN</td>\n      <td>https://i.ytimg.com/vi/yk4Wjr3j7QY/default.jpg</td>\n      <td>120</td>\n      <td>90</td>\n      <td>...</td>\n      <td>['https://en.wikipedia.org/wiki/Lifestyle_(soc...</td>\n      <td>NaN</td>\n      <td>NaN</td>\n      <td>NaN</td>\n      <td>NaN</td>\n      <td>NaN</td>\n      <td>NaN</td>\n      <td>5790</td>\n      <td>49</td>\n      <td>People &amp; Blogs</td>\n    </tr>\n    <tr>\n      <th>2</th>\n      <td>youtube#video</td>\n      <td>fDjV0KNgOssPF9NpbdoSpb40mR0</td>\n      <td>Wi49rKRM85U</td>\n      <td>2022-06-20T12:57:48Z</td>\n      <td>UCphnZS52v_lkv5RSl5n70tQ</td>\n      <td>한국인들은 절대 안사는 화장품 КОСМЕТИКА КОТОРАЯ КОРЕЯНКИ ВО...</td>\n      <td>⚫подписаться: https://goo.gl/3QbeUf\\n---------...</td>\n      <td>https://i.ytimg.com/vi/Wi49rKRM85U/default.jpg</td>\n      <td>120</td>\n      <td>90</td>\n      <td>...</td>\n      <td>['https://en.wikipedia.org/wiki/Lifestyle_(soc...</td>\n      <td>['КОРЕЯНКА', 'АЗИАТКА', '#КОРЕЙСКАЯДЕВУШКА', '...</td>\n      <td>NaN</td>\n      <td>NaN</td>\n      <td>NaN</td>\n      <td>NaN</td>\n      <td>NaN</td>\n      <td>569</td>\n      <td>469</td>\n      <td>People &amp; Blogs</td>\n    </tr>\n    <tr>\n      <th>3</th>\n      <td>youtube#video</td>\n      <td>UpqzTW3rCzeEURxHPRyg8n66jgM</td>\n      <td>kSiaxefvCgM</td>\n      <td>2023-02-11T12:43:25Z</td>\n      <td>UCfcMgRNXey6TQkov9mgVgoA</td>\n      <td>Жилищный вопрос: Корея #дорамы #корейскийязык ...</td>\n      <td>NaN</td>\n      <td>https://i.ytimg.com/vi/kSiaxefvCgM/default.jpg</td>\n      <td>120</td>\n      <td>90</td>\n      <td>...</td>\n      <td>['https://en.wikipedia.org/wiki/Lifestyle_(soc...</td>\n      <td>NaN</td>\n      <td>NaN</td>\n      <td>NaN</td>\n      <td>NaN</td>\n      <td>NaN</td>\n      <td>NaN</td>\n      <td>2881</td>\n      <td>57</td>\n      <td>People &amp; Blogs</td>\n    </tr>\n    <tr>\n      <th>4</th>\n      <td>youtube#video</td>\n      <td>qVkdqXUraasWK3i8x412EgtkBc0</td>\n      <td>4nqfUzIz7kQ</td>\n      <td>2021-11-12T14:59:32Z</td>\n      <td>UCphnZS52v_lkv5RSl5n70tQ</td>\n      <td>Кореянка в Золотом Яблоке. Почему русские поку...</td>\n      <td>#кореянка#золотоеяблоко#корейскаякосметика\\nпр...</td>\n      <td>https://i.ytimg.com/vi/4nqfUzIz7kQ/default.jpg</td>\n      <td>120</td>\n      <td>90</td>\n      <td>...</td>\n      <td>['https://en.wikipedia.org/wiki/Lifestyle_(soc...</td>\n      <td>['КОРЕЯНКА', 'АЗИАТКА', '#КОРЕЙСКАЯДЕВУШКА', '...</td>\n      <td>NaN</td>\n      <td>NaN</td>\n      <td>NaN</td>\n      <td>NaN</td>\n      <td>NaN</td>\n      <td>154</td>\n      <td>730</td>\n      <td>People &amp; Blogs</td>\n    </tr>\n    <tr>\n      <th>...</th>\n      <td>...</td>\n      <td>...</td>\n      <td>...</td>\n      <td>...</td>\n      <td>...</td>\n      <td>...</td>\n      <td>...</td>\n      <td>...</td>\n      <td>...</td>\n      <td>...</td>\n      <td>...</td>\n      <td>...</td>\n      <td>...</td>\n      <td>...</td>\n      <td>...</td>\n      <td>...</td>\n      <td>...</td>\n      <td>...</td>\n      <td>...</td>\n      <td>...</td>\n      <td>...</td>\n    </tr>\n    <tr>\n      <th>1282</th>\n      <td>youtube#video</td>\n      <td>kTv9rIwBS-YxmSIs6x39Gu9fJFo</td>\n      <td>oj8p3eWa-Bg</td>\n      <td>2023-03-12T23:10:38Z</td>\n      <td>UCPQ5P9lA9Bu5y17RE7GoRJA</td>\n      <td>Лучший Антивозрастной уход за кожей лица и шеи...</td>\n      <td>NaN</td>\n      <td>https://i.ytimg.com/vi/oj8p3eWa-Bg/default.jpg</td>\n      <td>120</td>\n      <td>90</td>\n      <td>...</td>\n      <td>['https://en.wikipedia.org/wiki/Lifestyle_(soc...</td>\n      <td>NaN</td>\n      <td>NaN</td>\n      <td>NaN</td>\n      <td>NaN</td>\n      <td>NaN</td>\n      <td>NaN</td>\n      <td>0</td>\n      <td>50</td>\n      <td>People &amp; Blogs</td>\n    </tr>\n    <tr>\n      <th>1287</th>\n      <td>youtube#video</td>\n      <td>05IQHvdJcDodV4eU4iR4D9TzfH8</td>\n      <td>CYssI6BTq8w</td>\n      <td>2023-03-03T12:30:58Z</td>\n      <td>UCfeHsdZzW6IMSczgNgC3QWg</td>\n      <td>Атоми. Идеи подарка #8марта #атоми #корейскаяк...</td>\n      <td>NaN</td>\n      <td>https://i.ytimg.com/vi/CYssI6BTq8w/default.jpg</td>\n      <td>120</td>\n      <td>90</td>\n      <td>...</td>\n      <td>['https://en.wikipedia.org/wiki/Lifestyle_(soc...</td>\n      <td>NaN</td>\n      <td>NaN</td>\n      <td>NaN</td>\n      <td>NaN</td>\n      <td>NaN</td>\n      <td>NaN</td>\n      <td>0</td>\n      <td>8</td>\n      <td>People &amp; Blogs</td>\n    </tr>\n    <tr>\n      <th>1291</th>\n      <td>youtube#video</td>\n      <td>kSwkjwL9ODhHC7ZSyZ_SDETbsNU</td>\n      <td>NIUJvRivwpY</td>\n      <td>2023-04-02T14:47:08Z</td>\n      <td>UCd9l3fylqVDlMYUKepXi-cw</td>\n      <td>#Атоми #длямужчин #кремдлялица #Atomy #корейск...</td>\n      <td>NaN</td>\n      <td>https://i.ytimg.com/vi/NIUJvRivwpY/default.jpg</td>\n      <td>120</td>\n      <td>90</td>\n      <td>...</td>\n      <td>['https://en.wikipedia.org/wiki/Lifestyle_(soc...</td>\n      <td>NaN</td>\n      <td>NaN</td>\n      <td>NaN</td>\n      <td>NaN</td>\n      <td>NaN</td>\n      <td>NaN</td>\n      <td>0</td>\n      <td>31</td>\n      <td>People &amp; Blogs</td>\n    </tr>\n    <tr>\n      <th>1295</th>\n      <td>youtube#video</td>\n      <td>KCxvZ7MDU48c4aZdjLE93Ngpf2I</td>\n      <td>SNRrXxyiwk0</td>\n      <td>2023-03-20T15:43:32Z</td>\n      <td>UC2wyUPnUdd_o2JYPIUuDgoA</td>\n      <td>#атоми #корейскаякосметика #атомибизнес #уходз...</td>\n      <td>NaN</td>\n      <td>https://i.ytimg.com/vi/SNRrXxyiwk0/default.jpg</td>\n      <td>120</td>\n      <td>90</td>\n      <td>...</td>\n      <td>['https://en.wikipedia.org/wiki/Lifestyle_(soc...</td>\n      <td>NaN</td>\n      <td>NaN</td>\n      <td>NaN</td>\n      <td>NaN</td>\n      <td>NaN</td>\n      <td>NaN</td>\n      <td>0</td>\n      <td>4</td>\n      <td>People &amp; Blogs</td>\n    </tr>\n    <tr>\n      <th>1299</th>\n      <td>youtube#video</td>\n      <td>uDij3N4VcdicVfm5DbK2uuqq0YM</td>\n      <td>KsAVjAwf3Go</td>\n      <td>2023-03-06T12:57:45Z</td>\n      <td>UCoMjXgLQIYVuZ3Gm2kI4T8A</td>\n      <td>#КорейскаяКосметика #Красота #Атоми #Atomy #ух...</td>\n      <td>🙂В набор Атоми Гидра Сияние входят капсульная ...</td>\n      <td>https://i.ytimg.com/vi/KsAVjAwf3Go/default.jpg</td>\n      <td>120</td>\n      <td>90</td>\n      <td>...</td>\n      <td>NaN</td>\n      <td>['косметика', 'корейская косметика', 'уход за ...</td>\n      <td>NaN</td>\n      <td>NaN</td>\n      <td>NaN</td>\n      <td>NaN</td>\n      <td>NaN</td>\n      <td>0</td>\n      <td>20</td>\n      <td>People &amp; Blogs</td>\n    </tr>\n  </tbody>\n</table>\n<p>884 rows × 50 columns</p>\n</div>"
     },
     "execution_count": 9,
     "metadata": {},
     "output_type": "execute_result"
    }
   ],
   "source": [
    "# 5 Отбор видео с комментариями\n",
    "\n",
    "work_df_korean = df_korean[df_korean[\"statistics.commentCount\"] > 0]\n",
    "work_df_korean"
   ]
  },
  {
   "cell_type": "markdown",
   "source": [
    "## Тест метода"
   ],
   "metadata": {
    "collapsed": false
   }
  },
  {
   "cell_type": "code",
   "execution_count": 10,
   "outputs": [],
   "source": [
    "# 6 Определение тела ответа\n",
    "search_part = [\n",
    "    'id',\n",
    "    'replies',\n",
    "    'snippet',\n",
    "]"
   ],
   "metadata": {
    "collapsed": false,
    "ExecuteTime": {
     "start_time": "2023-04-15T13:07:48.733360Z",
     "end_time": "2023-04-15T13:07:48.736503Z"
    }
   }
  },
  {
   "cell_type": "raw",
   "source": [
    "# 7 Тест метода\n",
    "video_id = \"AAjsSrjZXsw\"\n",
    "\n",
    "\n",
    "# Единичный запуск\n",
    "request = youtube.commentThreads().list(\n",
    "                                part =search_part,\n",
    "                                videoId = video_id,\n",
    "                                textFormat=\"plainText\",\n",
    "                                maxResults=50\n",
    ")\n",
    "\n",
    "response = request.execute()\n",
    "df_supplemented = pd.json_normalize(response['items'])\n",
    "\n",
    "# Итерация по threads к видео\n",
    "while response['nextPageToken']:\n",
    "    request = youtube.commentThreads().list(\n",
    "                                    part =search_part,\n",
    "                                    videoId = video_id,\n",
    "                                    textFormat=\"plainText\",\n",
    "                                    maxResults=50,\n",
    "                                    pageToken=response['nextPageToken']\n",
    "    )\n",
    "    response = request.execute()\n",
    "    \n",
    "    df_additional = pd.json_normalize(response['items'])\n",
    "    df_supplemented = pd.concat([df_supplemented, df_additional])\n",
    "    \n",
    "    if not response.get('nextPageToken'):\n",
    "        break"
   ],
   "metadata": {
    "collapsed": false
   }
  },
  {
   "cell_type": "raw",
   "source": [
    "# 8 Просмотр результата теста в формате pd.DataFrame\n",
    "\n",
    "df_supplemented\n",
    "comments = comments.drop_duplicates('id')\n",
    "comments = comments.drop(['snippet.topLevelComment.kind',\n",
    "                          'snippet.topLevelComment.etag',\n",
    "                          'snippet.topLevelComment.id',\n",
    "                          'snippet.topLevelComment.snippet.videoId'], axis = 1)\n",
    "df_supplemented"
   ],
   "metadata": {
    "collapsed": false
   }
  },
  {
   "cell_type": "markdown",
   "source": [
    "## Итеративный сбор комментариев к видео"
   ],
   "metadata": {
    "collapsed": false
   }
  },
  {
   "cell_type": "code",
   "execution_count": 11,
   "metadata": {
    "scrolled": true,
    "ExecuteTime": {
     "start_time": "2023-04-15T13:07:48.736666Z",
     "end_time": "2023-04-15T13:07:48.740332Z"
    }
   },
   "outputs": [
    {
     "data": {
      "text/plain": "884"
     },
     "execution_count": 11,
     "metadata": {},
     "output_type": "execute_result"
    }
   ],
   "source": [
    "# 9 Создание списка видео с наличествующими комментариями\n",
    "video_ids = list(work_df_korean['id'])\n",
    "len(video_ids)"
   ]
  },
  {
   "cell_type": "code",
   "execution_count": 12,
   "metadata": {
    "ExecuteTime": {
     "start_time": "2023-04-15T13:07:48.743546Z",
     "end_time": "2023-04-15T13:12:37.463655Z"
    }
   },
   "outputs": [
    {
     "name": "stdout",
     "output_type": "stream",
     "text": [
      "Видео #0: AAjsSrjZXsw. Тотал итераций внутри: 71\n",
      "Видео #1: yk4Wjr3j7QY. Тотал итераций внутри: 22\n",
      "Видео #2: Wi49rKRM85U. Тотал итераций внутри: 18\n",
      "Видео #3: kSiaxefvCgM. Тотал итераций внутри: 7\n",
      "Видео #4: 4nqfUzIz7kQ. Тотал итераций внутри: 8\n",
      "Видео #5: zLfVp4bgmQE. Тотал итераций внутри: 5\n",
      "Видео #6: JA9E4TCVsDU. Тотал итераций внутри: 3\n",
      "Видео #7: Ba0mq3L5mpc. Тотал итераций внутри: 4\n",
      "Видео #8: SzEUlOe0gkU. Тотал итераций внутри: 9\n",
      "Видео #9: _R2lYO63vYw. Тотал итераций внутри: 6\n",
      "Видео #10: IoQ05AUHH3I. Тотал итераций внутри: 5\n",
      "Видео #11: 6FMK2owSPgk. Тотал итераций внутри: 1\n",
      "Видео #12: W_s_QMdj9mc. Тотал итераций внутри: 5\n",
      "Видео #13: 3KAxahn86Vc. Тотал итераций внутри: 3\n",
      "Видео #14: rSKgy8VcbxY. Тотал итераций внутри: 9\n",
      "Видео #15: h-nzC4gyYgI. Тотал итераций внутри: 1\n",
      "Видео #16: Qr1Sr5o4110. Тотал итераций внутри: 6\n",
      "Видео #17: V9GtOW2YiUw. Тотал итераций внутри: 4\n",
      "Видео #18: A7wOlN3lexU. Тотал итераций внутри: 5\n",
      "Видео #19: GEgipfY_w1k. Тотал итераций внутри: 5\n",
      "Видео #20: Avp_BJFxVB4. Тотал итераций внутри: 2\n",
      "Видео #21: RrS-xTIcKbI. Тотал итераций внутри: 5\n",
      "Видео #22: HRE9pGurgrA. Тотал итераций внутри: 4\n",
      "Видео #23: YGI7XhqAzMA. Тотал итераций внутри: 4\n",
      "Видео #24: 84mFypitEQo. Тотал итераций внутри: 5\n",
      "Видео #25: _F2MLvKc1Zo. Тотал итераций внутри: 3\n",
      "Видео #26: mxjJh5utRT8. Тотал итераций внутри: 3\n",
      "Видео #27: mZ16LfIFtgw. Тотал итераций внутри: 4\n",
      "Видео #28: obHCb-IF6QE. Тотал итераций внутри: 6\n",
      "Видео #29: 2VlCp0y-DC4. Тотал итераций внутри: 3\n",
      "Видео #30: r7DJloutT-k. Тотал итераций внутри: 1\n",
      "Видео #31: u4p97ueZC04. Тотал итераций внутри: 2\n",
      "Видео #32: 3xhN3rgJlHw. Тотал итераций внутри: 2\n",
      "Видео #33: bERKG6_K8bQ. Тотал итераций внутри: 3\n",
      "Видео #34: scteJcUfBTg. Тотал итераций внутри: 4\n",
      "Видео #35: gatnW5NmlXI. Тотал итераций внутри: 2\n",
      "Видео #36: umV2NWiuxa4. Тотал итераций внутри: 3\n",
      "Видео #37: 6ciVfHhKZvA. Тотал итераций внутри: 2\n",
      "Видео #38: u3KpQte8z8o. Тотал итераций внутри: 3\n",
      "Видео #39: otq72f0gTPY. Тотал итераций внутри: 3\n",
      "Видео #40: 0bmSRY0__6M. Тотал итераций внутри: 2\n",
      "Видео #41: jolZ6v_ZgFQ. Тотал итераций внутри: 0\n",
      "Видео #42: g8xaOE3BaUc. Тотал итераций внутри: 1\n",
      "Видео #43: yxEAfAJuK38. Тотал итераций внутри: 0\n",
      "Видео #44: 1Awgc3ubmbw. Тотал итераций внутри: 1\n",
      "Видео #45: mO0cHVMdpoc. Тотал итераций внутри: 1\n",
      "Видео #46: dhqaZNhp2Aw. Тотал итераций внутри: 1\n",
      "Видео #47: mza5QyT9eHo. Тотал итераций внутри: 1\n",
      "Видео #48: Z3rcOIUezH0. Тотал итераций внутри: 0\n",
      "Видео #49: lFHbVABdICo. Тотал итераций внутри: 0\n",
      "Видео #50: UZ6nZKtZpI4. Тотал итераций внутри: 0\n",
      "Видео #51: kCUhN1DYxXQ. Тотал итераций внутри: 0\n",
      "Видео #52: ic9HTdg9gHM. Тотал итераций внутри: 1\n",
      "Видео #53: XDV5CT16hXo. Тотал итераций внутри: 0\n",
      "Видео #54: -jmx4bIqciU. Тотал итераций внутри: 0\n",
      "Видео #55: wufJMun8xWc. Тотал итераций внутри: 0\n",
      "Видео #56: Ndfdd5Iu7O0. Тотал итераций внутри: 0\n",
      "Видео #57: ObW-mZE9jrI. Тотал итераций внутри: 0\n",
      "Видео #58: zvnPI1lcE64. Тотал итераций внутри: 0\n",
      "Видео #59: yyMSov8oLvY. Тотал итераций внутри: 0\n",
      "Видео #60: kGfgCN1DhbA. Тотал итераций внутри: 0\n",
      "Видео #61: wBw1Prg9CBI. Тотал итераций внутри: 0\n",
      "Видео #62: cMC6vu0NdAk. Тотал итераций внутри: 0\n",
      "Видео #63: 4MTW3zq8FSo. Тотал итераций внутри: 0\n",
      "Видео #64: 7qE8Nt8SYiI. Тотал итераций внутри: 0\n",
      "Видео #65: EbdLPmWluog. Тотал итераций внутри: 0\n",
      "Видео #66: CkdF3pbJ9Hs. Тотал итераций внутри: 0\n",
      "Видео #67: MHf8g1RP-c4. Тотал итераций внутри: 0\n",
      "Видео #68: WcSXHzepXsc. Тотал итераций внутри: 0\n",
      "Видео #69: 8ykdT3vIQHs. Тотал итераций внутри: 1\n",
      "Видео #70: GItELmsZq2M. Тотал итераций внутри: 0\n",
      "Видео #71: hrL444ee7EM. Тотал итераций внутри: 0\n",
      "Видео #72: kugASFfLmJw. Тотал итераций внутри: 5\n",
      "Видео #73: zIPVFKM5GIk. Тотал итераций внутри: 0\n",
      "Видео #74: MXxQmt91nvg. Тотал итераций внутри: 0\n",
      "Видео #75: fPbdTueDyVc. Тотал итераций внутри: 0\n",
      "Видео #76: Dd8itUk9zmw. Тотал итераций внутри: 0\n",
      "Видео #77: 95p5xrE7h7w. Тотал итераций внутри: 0\n",
      "Видео #78: BDSKH6EfnLg. Тотал итераций внутри: 1\n",
      "Видео #79: _kg1mvM6vpE. Тотал итераций внутри: 0\n",
      "Видео #80: t6uIgTiXxqU. Тотал итераций внутри: 0\n",
      "Видео #81: _R8K_ozoXg0. Тотал итераций внутри: 2\n",
      "Видео #82: ui5cjop5Oak. Тотал итераций внутри: 1\n",
      "Видео #83: fCyaWHxzMiY. Тотал итераций внутри: 0\n",
      "Видео #84: c7ApqSWvZOo. Тотал итераций внутри: 1\n",
      "Видео #85: mnCtRa8km7Q. Тотал итераций внутри: 0\n",
      "Видео #86: BNkI413hQ00. Тотал итераций внутри: 0\n",
      "Видео #87: C8Uqqf9sjX0. Тотал итераций внутри: 1\n",
      "Видео #88: jD30QfYNWnk. Тотал итераций внутри: 0\n",
      "Видео #89: _xzI3ThCXHI. Тотал итераций внутри: 0\n",
      "Видео #90: sYztkWDAuRw. Тотал итераций внутри: 0\n",
      "Видео #91: 0cN0uadOoYU. Тотал итераций внутри: 0\n",
      "Видео #92: -m-NasRQRyg. Тотал итераций внутри: 0\n",
      "Видео #93: 2nwZjv6Xlcw. Тотал итераций внутри: 0\n",
      "Видео #94: SSahv5Q6AjY. Тотал итераций внутри: 0\n",
      "Видео #95: AUhAbJy4HNY. Тотал итераций внутри: 0\n",
      "Видео #96: 3X3wqG_XIz0. Тотал итераций внутри: 0\n",
      "Видео #97: Cj-b6gQT8BM. Тотал итераций внутри: 0\n",
      "Видео #98: YlEO0C1bMB0. Тотал итераций внутри: 0\n",
      "Видео #99: uUP6muNifXQ. Тотал итераций внутри: 0\n",
      "Видео #100: 1eIGFrUBCuY. Тотал итераций внутри: 0\n",
      "Видео #101: tRclXLRSNmw. Тотал итераций внутри: 0\n",
      "Видео #102: 5c3_YmXAVXY. Тотал итераций внутри: 0\n",
      "Видео #103: QB7mrhkiC_Y. Тотал итераций внутри: 0\n",
      "Видео #104: 8z_4zwAh-7g. Тотал итераций внутри: 0\n",
      "Видео #105: BZRDNW-0lcE. Тотал итераций внутри: 0\n",
      "Видео #106: yO-I0d502V0. Тотал итераций внутри: 0\n",
      "Видео #107: 4_DQzo3_L1g. Тотал итераций внутри: 0\n",
      "Видео #108: DQdi0Vka1Fo. Тотал итераций внутри: 0\n",
      "Видео #109: JKHXw1SG6is. Тотал итераций внутри: 0\n",
      "Видео #110: ifvwC12HGrw. Тотал итераций внутри: 0\n",
      "Видео #111: h9B8e1MCXnk. Тотал итераций внутри: 0\n",
      "Видео #112: FQ4D4wPVEr0. Тотал итераций внутри: 0\n",
      "Видео #113: YizMmAi-qXU. Тотал итераций внутри: 0\n",
      "Видео #114: j_0frOkrseo. Тотал итераций внутри: 0\n",
      "Видео #115: wdO6prd2ZqU. Тотал итераций внутри: 1\n",
      "Видео #116: fXO2F2preBY. Тотал итераций внутри: 0\n",
      "Видео #117: 7UQrSqAa2Qs. Тотал итераций внутри: 0\n",
      "Видео #118: 6aHeFLay_d8. Тотал итераций внутри: 2\n",
      "Видео #119: OrRi93EixDY. Тотал итераций внутри: 0\n",
      "Видео #120: aABAsdVEUjM. Тотал итераций внутри: 1\n",
      "Видео #121: 0X2eM6OtTMI. Тотал итераций внутри: 0\n",
      "Видео #122: 75vr3r7UbGY. Тотал итераций внутри: 0\n",
      "Видео #123: MtFwDVKPXes. Тотал итераций внутри: 0\n",
      "Видео #124: pHEG7qJw6vY. Тотал итераций внутри: 1\n",
      "Видео #125: MBi350qxtfM. Тотал итераций внутри: 1\n",
      "Видео #126: gRPlMBnsxTw. Тотал итераций внутри: 0\n",
      "Видео #127: uuqCvXV6Mcg. Тотал итераций внутри: 1\n",
      "Видео #128: mkVuSin0Xt0. Тотал итераций внутри: 0\n",
      "Видео #129: 2aXR5ultrL4. Тотал итераций внутри: 0\n",
      "Видео #130: CqcbmtybFSM. Тотал итераций внутри: 0\n",
      "Видео #131: j1IdDdQcJng. Тотал итераций внутри: 39\n",
      "Видео #132: PKBK5BeQ3Fc. Тотал итераций внутри: 0\n",
      "Видео #133: hdYPRv_hfgk. Тотал итераций внутри: 3\n",
      "Видео #134: f6Ifufmwdog. Тотал итераций внутри: 0\n",
      "Видео #135: s91I_2lZM3I. Тотал итераций внутри: 0\n",
      "Видео #136: uSmDos_rsdA. Тотал итераций внутри: 0\n",
      "Видео #137: Mg_8D5ktC7U. Тотал итераций внутри: 0\n",
      "Видео #138: ogPfLk-pAk8. Тотал итераций внутри: 0\n",
      "Видео #139: KzSqKV-ePyE. Тотал итераций внутри: 0\n",
      "Видео #140: anzOkVXikUY. Тотал итераций внутри: 0\n",
      "Видео #141: 7TM3OHKYMbM. Тотал итераций внутри: 0\n",
      "Видео #142: Cs1uC7a_Dws. Тотал итераций внутри: 0\n",
      "Видео #143: MIlNOVUWZn4. Тотал итераций внутри: 0\n",
      "Видео #144: FMzC-mAewGw. Тотал итераций внутри: 0\n",
      "Видео #145: J8N3KcKPfVo. Тотал итераций внутри: 0\n",
      "Видео #146: GXURih1bn8M. Тотал итераций внутри: 1\n",
      "Видео #147: ZdA8OuRWw3A. Тотал итераций внутри: 1\n",
      "Видео #148: QhqRM69B-Lw. Тотал итераций внутри: 0\n",
      "Видео #149: AHojmrAbrtI. Тотал итераций внутри: 0\n",
      "Видео #150: P1X2F3v11AE. Тотал итераций внутри: 1\n",
      "Видео #151: rYzz5onkbxo. Тотал итераций внутри: 0\n",
      "Видео #152: jCP9YSqFKR4. Тотал итераций внутри: 0\n",
      "Видео #153: s0Y0SkWPAVk. Тотал итераций внутри: 0\n",
      "Видео #154: khJf25uTeFo. Тотал итераций внутри: 0\n",
      "Видео #155: 3XZgQJ6kbf8. Тотал итераций внутри: 0\n",
      "Видео #156: WgrS-sAZlxw. Тотал итераций внутри: 0\n",
      "Видео #157: JuVoHNpozIA. Тотал итераций внутри: 0\n",
      "Видео #158: w9E74hDKVuQ. Тотал итераций внутри: 5\n",
      "Видео #159: S-_2GVj6QyA. Тотал итераций внутри: 0\n",
      "Видео #160: r7zxONCyfq4. Тотал итераций внутри: 0\n",
      "Видео #161: SH8-P_EnhqM. Тотал итераций внутри: 0\n",
      "Видео #162: Tc45DneHmbE. Тотал итераций внутри: 0\n",
      "Видео #163: sWwckAwVHG4. Тотал итераций внутри: 2\n",
      "Видео #164: 22x2Xe7N_eg. Тотал итераций внутри: 0\n",
      "Видео #165: q8duRJlP-PI. Тотал итераций внутри: 1\n",
      "Видео #166: S-QLiF_3R3U. Тотал итераций внутри: 0\n",
      "Видео #167: rG8QwwtAQI0. Тотал итераций внутри: 0\n",
      "Видео #168: h0SNvnGQD9c. Тотал итераций внутри: 0\n",
      "Видео #169: ew3CImgtRxs. Тотал итераций внутри: 0\n",
      "Видео #170: wbi-q7db-XA. Тотал итераций внутри: 0\n",
      "Видео #171: PKvn5ITqPrI. Тотал итераций внутри: 0\n",
      "Видео #172: 1cioRgl5idk. Тотал итераций внутри: 0\n",
      "Видео #173: jdWI_QN7RwE. Тотал итераций внутри: 0\n",
      "Видео #174: TUycBnse5TY. Тотал итераций внутри: 0\n",
      "Видео #175: SZaVp3G2Fcc. Тотал итераций внутри: 0\n",
      "Видео #176: H3eF1P1w6SU. Тотал итераций внутри: 0\n",
      "Видео #177: exPqNd0Ouxo. Тотал итераций внутри: 0\n",
      "Видео #178: WiAt1nxMXts. Тотал итераций внутри: 0\n",
      "Видео #179: bSR6qGw-88A. Тотал итераций внутри: 0\n",
      "Видео #180: beHWQNCu8Nk. Тотал итераций внутри: 0\n",
      "Видео #181: Wpw_yvh2XnI. Тотал итераций внутри: 0\n",
      "Видео #182: 6lu-0tpT-ps. Тотал итераций внутри: 4\n",
      "Видео #183: U3xMRBNPo88. Тотал итераций внутри: 0\n",
      "Видео #184: U8RCbkcN-mw. Тотал итераций внутри: 0\n",
      "Видео #185: mFU-6pKlcoU. Тотал итераций внутри: 0\n",
      "Видео #186: WLGfuVhK9jk. Тотал итераций внутри: 0\n",
      "Видео #187: vR832dCCPNk. Тотал итераций внутри: 0\n",
      "Видео #188: mxBhMdBXL1k. Тотал итераций внутри: 0\n",
      "Видео #189: g2VbwFHDzlQ. Тотал итераций внутри: 1\n",
      "Видео #190: tpdqUc7iLM4. Тотал итераций внутри: 4\n",
      "Видео #191: 7gHC-BbQDps. Тотал итераций внутри: 0\n",
      "Видео #192: _7FYlr6BdHo. Тотал итераций внутри: 0\n",
      "Видео #193: ralXzbIKGtA. Тотал итераций внутри: 0\n",
      "Видео #194: w7IpoGgtmvc. Тотал итераций внутри: 0\n",
      "Видео #195: jZTo7Sd899g. Тотал итераций внутри: 0\n",
      "Видео #196: aJhwhHpcEG0. Тотал итераций внутри: 0\n",
      "Видео #197: bdr5VBdjrCA. Тотал итераций внутри: 0\n",
      "Видео #198: vU4ESCYlUIA. Тотал итераций внутри: 0\n",
      "Видео #199: WQYrdT8Fl9g. Тотал итераций внутри: 2\n",
      "Видео #200: O_r8GjszxpE. Тотал итераций внутри: 0\n",
      "Видео #201: BAziDrlreEw. Тотал итераций внутри: 0\n",
      "Видео #202: bWq6XuxL4Lk. Тотал итераций внутри: 0\n",
      "Видео #203: wNhqaTVjIa0. Тотал итераций внутри: 0\n",
      "Видео #204: sXPxwqLiwt8. Тотал итераций внутри: 0\n",
      "Видео #205: ieGdK8bhwLc. Тотал итераций внутри: 0\n",
      "Видео #206: tMriURsHue4. Тотал итераций внутри: 0\n",
      "Видео #207: 0qVMBA4AEhY. Тотал итераций внутри: 0\n",
      "Видео #208: YXxEvsIGmZE. Тотал итераций внутри: 3\n",
      "Видео #209: a-4XmGRyiVE. Тотал итераций внутри: 0\n",
      "Видео #210: jobU8FWRVTs. Тотал итераций внутри: 3\n",
      "Видео #211: auvTboHRthA. Тотал итераций внутри: 0\n",
      "Видео #212: TvFBSyZKZRM. Тотал итераций внутри: 0\n",
      "Видео #213: a6yRUBBAcOI. Тотал итераций внутри: 0\n",
      "Видео #214: gVT_T7nBPTQ. Тотал итераций внутри: 0\n",
      "Видео #215: PhSQgHWb21k. Тотал итераций внутри: 0\n",
      "Видео #216: e555csIbmXk. Тотал итераций внутри: 1\n",
      "Видео #217: 448b95ZVYZI. Тотал итераций внутри: 0\n",
      "Видео #218: mvQdLVq4oIo. Тотал итераций внутри: 0\n",
      "Видео #219: zqSpSG6emzY. Тотал итераций внутри: 0\n",
      "Видео #220: 64lJA3bZe1A. Тотал итераций внутри: 0\n",
      "Видео #221: QJkfFuQxgKI. Тотал итераций внутри: 1\n",
      "Видео #222: hgpFtBo74oc. Тотал итераций внутри: 0\n",
      "Видео #223: AdnW4Ha6tFk. Тотал итераций внутри: 0\n",
      "Видео #224: V5ZnrzTIY-0. Тотал итераций внутри: 3\n",
      "Видео #225: xGx-nKY9SL0. Тотал итераций внутри: 0\n",
      "Видео #226: BDnURw1fpFI. Тотал итераций внутри: 0\n",
      "Видео #227: zfbaWxXNaH0. Тотал итераций внутри: 0\n",
      "Видео #228: XuxIPhH5vP0. Тотал итераций внутри: 1\n",
      "Видео #229: UZfqHS7Dx1c. Тотал итераций внутри: 0\n",
      "Видео #230: MDrRaRCnIVA. Тотал итераций внутри: 0\n",
      "Видео #231: a1yWaZstuuw. Тотал итераций внутри: 0\n",
      "Видео #232: ICBtjoK1DHw. Тотал итераций внутри: 0\n",
      "Видео #233: ishkm71MS7c. Тотал итераций внутри: 0\n",
      "Видео #234: bah8lw-hp-k. Тотал итераций внутри: 0\n",
      "Видео #235: r44DcGlWwXE. Тотал итераций внутри: 0\n",
      "Видео #236: 8izHf0ltzVI. Тотал итераций внутри: 0\n",
      "Видео #237: SsCnsUqqmWs. Тотал итераций внутри: 0\n",
      "Видео #238: nNKsKSR42qM. Тотал итераций внутри: 0\n",
      "Видео #239: A9-ZtdUHbB4. Тотал итераций внутри: 2\n",
      "Видео #240: x1V2Q0XPB-M. Тотал итераций внутри: 0\n",
      "Видео #241: aBurqg_NvFE. Тотал итераций внутри: 0\n",
      "Видео #242: EJMWpWD47hs. Тотал итераций внутри: 0\n",
      "Видео #243: ZxfnGkL8964. Тотал итераций внутри: 1\n",
      "Видео #244: 5UyoWPHdQRU. Тотал итераций внутри: 0\n",
      "Видео #245: 9qVPQzCmzdA. Тотал итераций внутри: 0\n",
      "Видео #246: Ep1jsX08B9w. Тотал итераций внутри: 0\n",
      "Видео #247: DfX_VNkcgMI. Тотал итераций внутри: 0\n",
      "Видео #248: r9OfjGxwvfs. Тотал итераций внутри: 0\n",
      "Видео #249: rjf2JVuInoY. Тотал итераций внутри: 0\n",
      "Видео #250: adpz99pEvQ4. Тотал итераций внутри: 0\n",
      "Видео #251: BXGuElg4ISU. Тотал итераций внутри: 0\n",
      "Видео #252: kcUpsqi_cKE. Тотал итераций внутри: 1\n",
      "Видео #253: v9boIrO0vF4. Тотал итераций внутри: 0\n",
      "Видео #254: u1meVKkjqVE. Тотал итераций внутри: 0\n",
      "Видео #255: _32ls-ByRME. Тотал итераций внутри: 0\n",
      "Видео #256: 9iOM8KReNrk. Тотал итераций внутри: 1\n",
      "Видео #257: gJX-la1X9ck. Тотал итераций внутри: 0\n",
      "Видео #258: ZhiDRNwjyU0. Тотал итераций внутри: 0\n",
      "Видео #259: aAQSl9BYzy0. Тотал итераций внутри: 1\n",
      "Видео #260: TE07v5yKD1Q. Тотал итераций внутри: 0\n",
      "Видео #261: WtKIVeULhMs. Тотал итераций внутри: 1\n",
      "Видео #262: lkHQzaSBnFw. Тотал итераций внутри: 0\n",
      "Видео #263: D97D0iZfi0A. Тотал итераций внутри: 0\n",
      "Видео #264: DQxwtS31eJ8. Тотал итераций внутри: 0\n",
      "Видео #265: jtYmMILQOyQ. Тотал итераций внутри: 0\n",
      "Видео #266: ItEDTfvjrgA. Тотал итераций внутри: 0\n",
      "Видео #267: QLu6M-Vzw4Y. Тотал итераций внутри: 0\n",
      "Видео #268: 5v0nHT5kwc0. Тотал итераций внутри: 0\n",
      "Видео #269: qyUub7xGQpw. Тотал итераций внутри: 0\n",
      "Видео #270: VX9mpl5XIug. Тотал итераций внутри: 0\n",
      "Видео #271: WHE5xzX86wU. Тотал итераций внутри: 0\n",
      "Видео #272: 8fhHL9iZdKk. Тотал итераций внутри: 0\n",
      "Видео #273: yrCknTTyIc0. Тотал итераций внутри: 0\n",
      "Видео #274: WYwZBjuD4E0. Тотал итераций внутри: 0\n",
      "Видео #275: KXOcvZzqJns. Тотал итераций внутри: 1\n",
      "Видео #276: lq6byVFEht8. Тотал итераций внутри: 0\n",
      "Видео #277: EBpc5jGekFQ. Тотал итераций внутри: 0\n",
      "Видео #278: UTftax2LVnI. Тотал итераций внутри: 0\n",
      "Видео #279: R3LhTseFvKM. Тотал итераций внутри: 2\n",
      "Видео #280: 4FJUw6sYkEE. Тотал итераций внутри: 0\n",
      "Видео #281: SkDDYsbpV7s. Тотал итераций внутри: 0\n",
      "Видео #282: sZJG3er_n-Q. Тотал итераций внутри: 0\n",
      "Видео #283: _YVuQSenfvo. Тотал итераций внутри: 0\n",
      "Видео #284: N1H_ET3f1OY. Тотал итераций внутри: 0\n",
      "Видео #285: rFfbjkS_wdQ. Тотал итераций внутри: 0\n",
      "Видео #286: zWgDXy8gXL0. Тотал итераций внутри: 0\n",
      "Видео #287: 7MZNvXM07Aw. Тотал итераций внутри: 0\n",
      "Видео #288: jaAy-7qmHxs. Тотал итераций внутри: 0\n",
      "Видео #289: kQDfOX7w5Ms. Тотал итераций внутри: 0\n",
      "Видео #290: Iq1O3qEm8sc. Тотал итераций внутри: 0\n",
      "Видео #291: A1iEnWZKmuw. Тотал итераций внутри: 0\n",
      "Видео #292: 8Wkb2Ino0OI. Тотал итераций внутри: 0\n",
      "Видео #293: vWo2cMciNTQ. Тотал итераций внутри: 0\n",
      "Видео #294: ABb86atyceM. Тотал итераций внутри: 0\n",
      "Видео #295: _KKBCwLvwX0. Тотал итераций внутри: 0\n",
      "Видео #296: 7Wq9hDRUGC4. Тотал итераций внутри: 0\n",
      "Видео #297: DOcJgAZl49I. Тотал итераций внутри: 0\n",
      "Видео #298: eQ67ZhgPXzI. Тотал итераций внутри: 0\n",
      "Видео #299: JHmRbDISeOI. Тотал итераций внутри: 3\n",
      "Видео #300: BsxKW0K4KUg. Тотал итераций внутри: 0\n",
      "Видео #301: omPIZZ6qKRI. Тотал итераций внутри: 0\n",
      "Видео #302: q-D2gu-IMsQ. Тотал итераций внутри: 0\n",
      "Видео #303: yNxwMpZBUk8. Тотал итераций внутри: 0\n",
      "Видео #304: XKM5IiJHhFQ. Тотал итераций внутри: 0\n",
      "Видео #305: my61XlBlxWQ. Тотал итераций внутри: 0\n",
      "Видео #306: ZgoOgY4zyaM. Тотал итераций внутри: 0\n",
      "Видео #307: mhhLrBKPAu4. Тотал итераций внутри: 0\n",
      "Видео #308: KAHveRq1Kwo. Тотал итераций внутри: 0\n",
      "Видео #309: NAeXVpMTiT4. Тотал итераций внутри: 12\n",
      "Видео #310: LwojEkb5aSU. Тотал итераций внутри: 0\n",
      "Видео #311: a3mlbKo1KD4. Тотал итераций внутри: 0\n",
      "Видео #312: u0q2SAlWHow. Тотал итераций внутри: 0\n",
      "Видео #313: QZghz-rGeE4. Тотал итераций внутри: 0\n",
      "Видео #314: w8-8lkoSrf8. Тотал итераций внутри: 0\n",
      "Видео #315: aK2APS-7clk. Тотал итераций внутри: 0\n",
      "Видео #316: rXLNJ0g9QJM. Тотал итераций внутри: 0\n",
      "Видео #317: l7FqNAmJXS4. Тотал итераций внутри: 0\n",
      "Видео #318: GwaRjjyH3j0. Тотал итераций внутри: 0\n",
      "Видео #319: qsmAlKscXnM. Тотал итераций внутри: 0\n",
      "Видео #320: vYCTPAAaUbg. Тотал итераций внутри: 0\n",
      "Видео #321: xLh9smEkhOQ. Тотал итераций внутри: 0\n",
      "Видео #322: -Of5tSJGjIg. Тотал итераций внутри: 1\n",
      "Видео #323: zkYJWU9WE44. Тотал итераций внутри: 0\n",
      "Видео #324: _5b-t6n2gOc. Тотал итераций внутри: 0\n",
      "Видео #325: 5CDyRcuYfqA. Тотал итераций внутри: 0\n",
      "Видео #326: DbBPfzwvHhw. Тотал итераций внутри: 0\n",
      "Видео #327: 2-WT3JXsTnA. Тотал итераций внутри: 0\n",
      "Видео #328: DVN9Eoqvvag. Тотал итераций внутри: 0\n",
      "Видео #329: -Ts7Aqi68i8. Тотал итераций внутри: 4\n",
      "Видео #330: gq0ZvbLyqP0. Тотал итераций внутри: 0\n",
      "Видео #331: Lmt27lYmCMM. Тотал итераций внутри: 0\n",
      "Видео #332: TsAS2PAPH-U. Тотал итераций внутри: 0\n",
      "Видео #333: DqRho-pJBxk. Тотал итераций внутри: 0\n",
      "Видео #334: Mw5EPO7ICVU. Тотал итераций внутри: 0\n",
      "Видео #335: PU0Wn-Ae1X0. Тотал итераций внутри: 0\n",
      "Видео #336: UqMhZwiv6Dw. Тотал итераций внутри: 0\n",
      "Видео #337: oRYqWgACg54. Тотал итераций внутри: 0\n",
      "Видео #338: BKCejFmuTTo. Тотал итераций внутри: 0\n",
      "Видео #339: M1MRUv2y4jk. Тотал итераций внутри: 0\n",
      "Видео #340: tVOjvywNqJE. Тотал итераций внутри: 0\n",
      "Видео #341: eyFwS2-iPso. Тотал итераций внутри: 0\n",
      "Видео #342: 9W66nhdFoKE. Тотал итераций внутри: 0\n",
      "Видео #343: 1hfYwq0GNvY. Тотал итераций внутри: 0\n",
      "Видео #344: 75v9bpGzeNA. Тотал итераций внутри: 0\n",
      "Видео #345: LoZrrLZWIP0. Тотал итераций внутри: 0\n",
      "Видео #346: YNwydCBEirA. Тотал итераций внутри: 0\n",
      "Видео #347: 7ijmgeQHytU. Тотал итераций внутри: 0\n",
      "Видео #348: c0o0mlwdP1U. Тотал итераций внутри: 0\n",
      "Видео #349: b7Sq8eNZxLs. Тотал итераций внутри: 0\n",
      "Видео #350: Vn3gfVKOxc8. Тотал итераций внутри: 0\n",
      "Видео #351: i_MtmObxWNQ. Тотал итераций внутри: 0\n",
      "Видео #352: p6rVbVh2IG4. Тотал итераций внутри: 0\n",
      "Видео #353: Gxp5vbhKsdE. Тотал итераций внутри: 0\n",
      "Видео #354: MMA26RUApPI. Тотал итераций внутри: 0\n",
      "Видео #355: Kc_SuW5bk2Y. Тотал итераций внутри: 0\n",
      "Видео #356: 9e8nlQ8CNa4. Тотал итераций внутри: 0\n",
      "Видео #357: XBr3kPto4x0. Тотал итераций внутри: 0\n",
      "Видео #358: QSC-IU7t-FE. Тотал итераций внутри: 0\n",
      "Видео #359: M9D9j3fkyxE. Тотал итераций внутри: 0\n",
      "Видео #360: AqMJ_kqaw3k. Тотал итераций внутри: 0\n",
      "Видео #361: zNf7Bg52-nw. Тотал итераций внутри: 0\n",
      "Видео #362: Nv_eKY_ywss. Тотал итераций внутри: 0\n",
      "Видео #363: LYq9eFbN3so. Тотал итераций внутри: 0\n",
      "Видео #364: bzgy5ZRSlQ4. Тотал итераций внутри: 0\n",
      "Видео #365: Sftdh05KKbI. Тотал итераций внутри: 0\n",
      "Видео #366: 7iFx2BbpvGg. Тотал итераций внутри: 0\n",
      "Видео #367: A6xSu03u4cw. Тотал итераций внутри: 0\n",
      "Видео #368: zqaN2OqaZ10. Тотал итераций внутри: 0\n",
      "Видео #369: eiNv_eQqrCc. Тотал итераций внутри: 0\n",
      "Видео #370: Evfvp70gZ0k. Тотал итераций внутри: 0\n",
      "Видео #371: 8OtkbXuNIQI. Тотал итераций внутри: 0\n",
      "Видео #372: qrDTJ7Rewz8. Тотал итераций внутри: 0\n",
      "Видео #373: IzaiNI94Sdg. Тотал итераций внутри: 0\n",
      "Видео #374: fqXxNhaGPco. Тотал итераций внутри: 0\n",
      "Видео #375: JoaRNyQXm-w. Тотал итераций внутри: 0\n",
      "Видео #376: ncTqD1NXYW8. Тотал итераций внутри: 0\n",
      "Видео #377: cl0rIlYU2aY. Тотал итераций внутри: 0\n",
      "Видео #378: EoWvwxyLrZk. Тотал итераций внутри: 0\n",
      "Видео #379: M3bINLezUX8. Тотал итераций внутри: 0\n",
      "Видео #380: O3nH5TNwLE0. Тотал итераций внутри: 0\n",
      "Видео #381: Cnl8ttKEWdA. Тотал итераций внутри: 0\n",
      "Видео #382: pphvtaYsuyc. Тотал итераций внутри: 0\n",
      "Видео #383: lubA8xzXzHY. Тотал итераций внутри: 0\n",
      "Видео #384: 5q6_ZRib6Cs. Тотал итераций внутри: 0\n",
      "Видео #385: SJ6oxfLSCWY. Тотал итераций внутри: 0\n",
      "Видео #386: _tLuhQrMEcg. Тотал итераций внутри: 0\n",
      "Видео #387: o4cohXPxGYg. Тотал итераций внутри: 0\n",
      "Видео #388: 6WwnIvAgtc8. Тотал итераций внутри: 0\n",
      "Видео #389: 6XKYxv_t_94. Тотал итераций внутри: 0\n",
      "Видео #390: -c7ompFn3Ng. Тотал итераций внутри: 0\n",
      "Видео #391: Rp1VI5AfgCU. Тотал итераций внутри: 0\n",
      "Видео #392: XWv2fi3ZDdk. Тотал итераций внутри: 0\n",
      "Видео #393: dUaBO8pCb44. Тотал итераций внутри: 0\n",
      "Видео #394: Lq1Mmo4ZUBY. Тотал итераций внутри: 1\n",
      "Видео #395: ZRAYqD0lOFY. Тотал итераций внутри: 0\n",
      "Видео #396: IfUOV5HcGfI. Тотал итераций внутри: 0\n",
      "Видео #397: mpScUFjuWhE. Тотал итераций внутри: 0\n",
      "Видео #398: Kcia1sYh7wk. Тотал итераций внутри: 1\n",
      "Видео #399: SM7W3u5HDkg. Тотал итераций внутри: 0\n",
      "Видео #400: -v6KRJgKBpo. Тотал итераций внутри: 0\n",
      "Видео #401: FkWzpGNgkDQ. Тотал итераций внутри: 0\n",
      "Видео #402: 9g9Fec7FTVc. Тотал итераций внутри: 0\n",
      "Видео #403: a0iegvtamkA. Тотал итераций внутри: 0\n",
      "Видео #404: pNYvRhfrRhk. Тотал итераций внутри: 0\n",
      "Видео #405: CvhkXxkOFK4. Тотал итераций внутри: 0\n",
      "Видео #406: knLq55gTjYw. Тотал итераций внутри: 0\n",
      "Видео #407: _ydvu7hRgDQ. Тотал итераций внутри: 0\n",
      "Видео #408: -70I18Q7594. Тотал итераций внутри: 0\n",
      "Видео #409: sUmfyZ6_jHE. Тотал итераций внутри: 0\n",
      "Видео #410: sYS8-gGNc-A. Тотал итераций внутри: 0\n",
      "Видео #411: _UU3RJeYexQ. Тотал итераций внутри: 0\n",
      "Видео #412: p6leFIWLqY0. Тотал итераций внутри: 0\n",
      "Видео #413: UtQqdUzKP7Q. Тотал итераций внутри: 0\n",
      "Видео #414: Gz1oHvQNFZY. Тотал итераций внутри: 0\n",
      "Видео #415: cNGvUFeWpV8. Тотал итераций внутри: 0\n",
      "Видео #416: ef1EVxLb-E4. Тотал итераций внутри: 0\n",
      "Видео #417: I3ZhTtbcVo0. Тотал итераций внутри: 0\n",
      "Видео #418: IE6NvU-8ubc. Тотал итераций внутри: 0\n",
      "Видео #419: VHuX5tCOXkM. Тотал итераций внутри: 0\n",
      "Видео #420: 9u7o4GI-Wdo. Тотал итераций внутри: 0\n",
      "Видео #421: ebcTl_DkinU. Тотал итераций внутри: 0\n",
      "Видео #422: LUjcmEWW-KM. Тотал итераций внутри: 0\n",
      "Видео #423: hmx6D_kglP8. Тотал итераций внутри: 0\n",
      "Видео #424: eF2pVHY7dMo. Тотал итераций внутри: 0\n",
      "Видео #425: tarRrzhoR5g. Тотал итераций внутри: 0\n",
      "Видео #426: ay-K0pkN3xo. Тотал итераций внутри: 0\n",
      "Видео #427: tsjxa5U6LAo. Тотал итераций внутри: 0\n",
      "Видео #428: Ae5wkmu9uPQ. Тотал итераций внутри: 0\n",
      "Видео #429: cVWJekTcW3Q. Тотал итераций внутри: 0\n",
      "Видео #430: nAoSI1AwhOE. Тотал итераций внутри: 0\n",
      "Видео #431: -vCltjmIR4A. Тотал итераций внутри: 0\n",
      "Видео #432: i0ay2o8MoNk. Тотал итераций внутри: 0\n",
      "Видео #433: xgO8ug0mM8A. Тотал итераций внутри: 0\n",
      "Видео #434: -gLn71SEmdY. Тотал итераций внутри: 0\n",
      "Видео #435: n_5gom_svF0. Тотал итераций внутри: 0\n",
      "Видео #436: HOE6kGjWcQA. Тотал итераций внутри: 0\n",
      "Видео #437: 2CQ9dRTxEAg. Тотал итераций внутри: 0\n",
      "Видео #438: axF8jXSIlM0. Тотал итераций внутри: 0\n",
      "Видео #439: OE6dMEFyIeA. Тотал итераций внутри: 0\n",
      "Видео #440: 7QnPNBj9Ye8. Тотал итераций внутри: 0\n",
      "Видео #441: e1YQe5vGmJc. Тотал итераций внутри: 0\n",
      "Видео #442: YAoUsT3iTZ8. Тотал итераций внутри: 0\n",
      "Видео #443: flbC7XvvvdY. Тотал итераций внутри: 1\n",
      "Видео #444: 5s42ZO42GDM. Тотал итераций внутри: 0\n",
      "Видео #445: QG_ey-24m9c. Тотал итераций внутри: 0\n",
      "Видео #446: 4wJT_FKc2KE. Тотал итераций внутри: 0\n",
      "Видео #447: AQt_2zkSauA. Тотал итераций внутри: 0\n",
      "Видео #448: fsSaJvypbGQ. Тотал итераций внутри: 0\n",
      "Видео #449: xHvnUFg4UFI. Тотал итераций внутри: 0\n",
      "Видео #450: l1DPbK0hG6g. Тотал итераций внутри: 0\n",
      "Видео #451: G-NfBYPmyBU. Тотал итераций внутри: 1\n",
      "Видео #452: aICMQpQROvI. Тотал итераций внутри: 0\n",
      "Видео #453: gdB2LYBTlvI. Тотал итераций внутри: 0\n",
      "Видео #454: z7FIwDBfevY. Тотал итераций внутри: 0\n",
      "Видео #455: rXdmqVuNhn4. Тотал итераций внутри: 0\n",
      "Видео #456: P2AfItjlw5k. Тотал итераций внутри: 0\n",
      "Видео #457: JKnft8MAOvY. Тотал итераций внутри: 0\n",
      "Видео #458: xNFm6jsXRMA. Тотал итераций внутри: 0\n",
      "Видео #459: khCb4BuAWf8. Тотал итераций внутри: 0\n",
      "Видео #460: 6YE4GCJk1V8. Тотал итераций внутри: 1\n",
      "Видео #461: RufK5yNkwDA. Тотал итераций внутри: 0\n",
      "Видео #462: 2QiKAF7bEAE. Тотал итераций внутри: 1\n",
      "Видео #463: xuuYg_AcJGg. Тотал итераций внутри: 0\n",
      "Видео #464: X_m7yJhMyOA. Тотал итераций внутри: 0\n",
      "Видео #465: stXvOmuOVpE. Тотал итераций внутри: 0\n",
      "Видео #466: vv_FW8m4QRE. Тотал итераций внутри: 2\n",
      "Видео #467: 41tYptTDVks. Тотал итераций внутри: 0\n",
      "Видео #468: 75aEZBx06aM. Тотал итераций внутри: 0\n",
      "Видео #469: 2wywrjBdJig. Тотал итераций внутри: 1\n",
      "Видео #470: bWhp_RMMl1U. Тотал итераций внутри: 3\n",
      "Видео #471: kiZLCBZxVLA. Тотал итераций внутри: 0\n",
      "Видео #472: R37TXIz7VKM. Тотал итераций внутри: 0\n",
      "Видео #473: lojg9YRuwsc. Тотал итераций внутри: 0\n",
      "Видео #474: 4wHKGHkuL3M. Тотал итераций внутри: 1\n",
      "Видео #475: 24C_mxUHFWY. Тотал итераций внутри: 1\n",
      "Видео #476: 6Fapb5G4t70. Тотал итераций внутри: 1\n",
      "Видео #477: C6aVTO_EIWQ. Тотал итераций внутри: 0\n",
      "Видео #478: QtLIbc4vWT4. Тотал итераций внутри: 0\n",
      "Видео #479: OjfVjQ0Vdcs. Тотал итераций внутри: 0\n",
      "Видео #480: wy5ThxC2CFg. Тотал итераций внутри: 1\n",
      "Видео #481: O8j-QrvnZuU. Тотал итераций внутри: 23\n",
      "Видео #482: Mxbr2pWfFt0. Тотал итераций внутри: 0\n",
      "Видео #483: CDEV5-f9j0U. Тотал итераций внутри: 0\n",
      "Видео #484: 6f4oqZA9_FA. Тотал итераций внутри: 0\n",
      "Видео #485: OqVZS-alWfg. Тотал итераций внутри: 0\n",
      "Видео #486: R8J_M-x0Bz4. Тотал итераций внутри: 0\n",
      "Видео #487: wieYjNKkpz8. Тотал итераций внутри: 0\n",
      "Видео #488: fxF2rkTO8LU. Тотал итераций внутри: 1\n",
      "Видео #489: qVAD74dhrCU. Тотал итераций внутри: 0\n",
      "Видео #490: wUVpk6biudM. Тотал итераций внутри: 0\n",
      "Видео #491: nKbRJ95SlB8. Тотал итераций внутри: 0\n",
      "Видео #492: gOaYdijxHKA. Тотал итераций внутри: 0\n",
      "Видео #493: 4TXeUkU-aE0. Тотал итераций внутри: 0\n",
      "Видео #494: qIaWLeadfo4. Тотал итераций внутри: 0\n",
      "Видео #495: Opoz4orSyck. Тотал итераций внутри: 2\n",
      "Видео #496: KKkunQVxGcU. Тотал итераций внутри: 1\n",
      "Видео #497: IkzWyECzlco. Тотал итераций внутри: 4\n",
      "Видео #498: gBgRzgQ2JgA. Тотал итераций внутри: 0\n",
      "Видео #499: 3WowETfum_s. Тотал итераций внутри: 3\n",
      "Видео #500: I-HQQ14qN8g. Тотал итераций внутри: 0\n",
      "Видео #501: -wyLjBGbRFc. Тотал итераций внутри: 0\n",
      "Видео #502: t4CQi2PN-io. Тотал итераций внутри: 1\n",
      "Видео #503: pMS4RRaQmz4. Тотал итераций внутри: 0\n",
      "Видео #504: wmtKRI3Loxc. Тотал итераций внутри: 0\n",
      "Видео #505: Ysuu_aFc40Q. Тотал итераций внутри: 0\n",
      "Видео #506: 873iPtsaQPs. Тотал итераций внутри: 0\n",
      "Видео #507: uGqxk2Skep0. Тотал итераций внутри: 1\n",
      "Видео #508: GQwV5sOO6-M. Тотал итераций внутри: 4\n",
      "Видео #509: sgm_XBaBvi4. Тотал итераций внутри: 4\n",
      "Видео #510: 7x8ziCf_NeY. Тотал итераций внутри: 0\n",
      "Видео #511: r1VO7M9A3CY. Тотал итераций внутри: 2\n",
      "Видео #512: QyyJmQogkdo. Тотал итераций внутри: 0\n",
      "Видео #513: fol4movJE94. Тотал итераций внутри: 0\n",
      "Видео #514: aTmdPYYtjsY. Тотал итераций внутри: 0\n",
      "Видео #515: 2Qh61V8oXLI. Тотал итераций внутри: 20\n",
      "Видео #516: 3EZ3SYZDs7Q. Тотал итераций внутри: 0\n",
      "Видео #517: 3VSqHAS8AgA. Тотал итераций внутри: 0\n",
      "Видео #518: 6zJDfNacDpY. Тотал итераций внутри: 0\n",
      "Видео #519: tpl6NVaO4wI. Тотал итераций внутри: 0\n",
      "Видео #520: p_mEpwnwilI. Тотал итераций внутри: 0\n",
      "Видео #521: AgeGxe_kJfY. Тотал итераций внутри: 0\n",
      "Видео #522: 2x65xag7JCc. Тотал итераций внутри: 16\n",
      "Видео #523: aiY0ymL25Pw. Тотал итераций внутри: 22\n",
      "Видео #524: hBHtSnorWIM. Тотал итераций внутри: 3\n",
      "Видео #525: uZTYSWoo68o. Тотал итераций внутри: 2\n",
      "Видео #526: etdaxndcN9E. Тотал итераций внутри: 0\n",
      "Видео #527: rCNL3P4Idw0. Тотал итераций внутри: 1\n",
      "Видео #528: LHAZOV9RmIo. Тотал итераций внутри: 2\n",
      "Видео #529: SqgfhdyM3_U. Тотал итераций внутри: 0\n",
      "Видео #530: cF6-GqT26To. Тотал итераций внутри: 0\n",
      "Видео #531: QW42liJBgzE. Тотал итераций внутри: 6\n",
      "Видео #532: Q7CbcKBZYhc. Тотал итераций внутри: 0\n",
      "Видео #533: 4WQMnvnyeFE. Тотал итераций внутри: 0\n",
      "Видео #534: cpA0v39fUok. Тотал итераций внутри: 0\n",
      "Видео #535: -zskbzY_rmQ. Тотал итераций внутри: 0\n",
      "Видео #536: wmds-iMyscg. Тотал итераций внутри: 0\n",
      "Видео #537: 9w5tUHeq4rI. Тотал итераций внутри: 1\n",
      "Видео #538: f331S2pajJQ. Тотал итераций внутри: 1\n",
      "Видео #539: KOnIECyV0s4. Тотал итераций внутри: 0\n",
      "Видео #540: L_5a2edR4EM. Тотал итераций внутри: 4\n",
      "Видео #541: IhRsTRm3kBs. Тотал итераций внутри: 0\n",
      "Видео #542: AMOFOGujLLE. Тотал итераций внутри: 0\n",
      "Видео #543: vpEa3z5Iq0o. Тотал итераций внутри: 1\n",
      "Видео #544: H2JhJwFiJKY. Тотал итераций внутри: 0\n",
      "Видео #545: t3ma2HRWl5A. Тотал итераций внутри: 0\n",
      "Видео #546: y1CcArlqOyk. Тотал итераций внутри: 0\n",
      "Видео #547: 5pvobUt9toI. Тотал итераций внутри: 5\n",
      "Видео #548: PtkYmGIfB3c. Тотал итераций внутри: 0\n",
      "Видео #549: TQ_idQruzDE. Тотал итераций внутри: 0\n",
      "Видео #550: dK1aViRQnmM. Тотал итераций внутри: 0\n",
      "Видео #551: HM0nPKM30bE. Тотал итераций внутри: 0\n",
      "Видео #552: bWLUc8lJ9WU. Тотал итераций внутри: 0\n",
      "Видео #553: kIzBjo0NXrw. Тотал итераций внутри: 1\n",
      "Видео #554: 5IzSypYF1Gk. Тотал итераций внутри: 0\n",
      "Видео #555: ev81sD95AQA. Тотал итераций внутри: 6\n",
      "Видео #556: wRwgGlbgjuo. Тотал итераций внутри: 0\n",
      "Видео #557: PkxkxzKWptg. Тотал итераций внутри: 0\n",
      "Видео #558: cuXi5bdOCyE. Тотал итераций внутри: 0\n",
      "Видео #559: zv9Hjz4Lo5g. Тотал итераций внутри: 0\n",
      "Видео #560: nuAq4qDateY. Тотал итераций внутри: 0\n",
      "Видео #561: LiW9s4YrMFk. Тотал итераций внутри: 1\n",
      "Видео #562: CytApRmhv34. Тотал итераций внутри: 0\n",
      "Видео #563: Nje2cd3wfb8. Тотал итераций внутри: 0\n",
      "Видео #564: _z6Vb9oBdNA. Тотал итераций внутри: 1\n",
      "Видео #565: yfMO2GaKcVU. Тотал итераций внутри: 0\n",
      "Видео #566: YOMlabp3bi0. Тотал итераций внутри: 0\n",
      "Видео #567: QSZWFC8E60k. Тотал итераций внутри: 0\n",
      "Видео #568: h2B_zgdX__Y. Тотал итераций внутри: 0\n",
      "Видео #569: VlWKjch_m5c. Тотал итераций внутри: 0\n",
      "Видео #570: AZj6WbmSH7c. Тотал итераций внутри: 0\n",
      "Видео #571: dxXgiu8cHgw. Тотал итераций внутри: 0\n",
      "Видео #572: eb5GNhv74Qo. Тотал итераций внутри: 1\n",
      "Видео #573: jQO7jFCRI_Q. Тотал итераций внутри: 1\n",
      "Видео #574: RF7_z29fsWw. Тотал итераций внутри: 4\n",
      "Видео #575: HLNcjqIq7gs. Тотал итераций внутри: 3\n",
      "Видео #576: MN0VgSOl3AY. Тотал итераций внутри: 5\n",
      "Видео #577: 7ad9R4QKI4g. Тотал итераций внутри: 1\n",
      "Видео #578: lCHozwsJW88. Тотал итераций внутри: 2\n",
      "Видео #579: YsyyM1IaltE. Тотал итераций внутри: 0\n",
      "Видео #580: N7etI1Dlo_A. Тотал итераций внутри: 0\n",
      "Видео #581: to_PEj97FcU. Тотал итераций внутри: 0\n",
      "Видео #582: zcPvExQcy0Q. Тотал итераций внутри: 0\n",
      "Видео #583: 8uaySdC-a3Q. Тотал итераций внутри: 1\n",
      "Видео #584: 5kUZUvwg9jM. Тотал итераций внутри: 0\n",
      "Видео #585: kOm-Mh-ohMg. Тотал итераций внутри: 72\n",
      "Видео #586: fi5kr7uVZtU. Тотал итераций внутри: 0\n",
      "Видео #587: dhH27er9VpY. Тотал итераций внутри: 1\n",
      "Видео #588: WVrz8unci68. Тотал итераций внутри: 0\n",
      "Видео #589: 05EaLkq64k4. Тотал итераций внутри: 0\n",
      "Видео #590: 6c7sPyIw-v4. Тотал итераций внутри: 8\n",
      "Видео #591: EHqwXnEdsxQ. Тотал итераций внутри: 1\n",
      "Видео #592: E8XFBSJau9I. Тотал итераций внутри: 0\n",
      "Видео #593: B0BftLjCGIc. Тотал итераций внутри: 0\n",
      "Видео #594: hFAgBQCL5fE. Тотал итераций внутри: 1\n",
      "Видео #595: fdDKSLZ1gUA. Тотал итераций внутри: 0\n",
      "Видео #596: JdJ878zeTnA. Тотал итераций внутри: 0\n",
      "Видео #597: oVPHLXa95Nc. Тотал итераций внутри: 1\n",
      "Видео #598: 0h53q-evE8k. Тотал итераций внутри: 0\n",
      "Видео #599: dRGrSxDHVc4. Тотал итераций внутри: 2\n",
      "Видео #600: MZzJUnRPIKI. Тотал итераций внутри: 2\n",
      "Видео #601: Xv0Ffh_sIq0. Тотал итераций внутри: 0\n",
      "Видео #602: 9o1ifJoMLOg. Тотал итераций внутри: 2\n",
      "Видео #603: SlPOJC-W_sA. Тотал итераций внутри: 0\n",
      "Видео #604: _MZPx5ZjvxE. Тотал итераций внутри: 7\n",
      "Видео #605: MPji2-_RR9A. Тотал итераций внутри: 0\n",
      "Видео #606: YdUpBwxvn_Q. Тотал итераций внутри: 2\n",
      "Видео #607: N-0-W5vNqdM. Тотал итераций внутри: 0\n",
      "Видео #608: HVewAY2lOFQ. Тотал итераций внутри: 0\n",
      "Видео #609: 0gPCzrDp3as. Тотал итераций внутри: 0\n",
      "Видео #610: am5NAQD6MwQ. Тотал итераций внутри: 0\n",
      "Видео #611: l2HgCM7EGt4. Тотал итераций внутри: 0\n",
      "Видео #612: 0pb_nvNs3DM. Тотал итераций внутри: 0\n",
      "Видео #613: pZXyFsoqkuI. Тотал итераций внутри: 0\n",
      "Видео #614: 4kdM60wrU3U. Тотал итераций внутри: 0\n",
      "Видео #615: rRF4wVxnvdE. Тотал итераций внутри: 5\n",
      "Видео #616: IaSYTjI7-LU. Тотал итераций внутри: 0\n",
      "Видео #617: 7mnihQ73ba4. Тотал итераций внутри: 0\n",
      "Видео #618: 4bVLj52MbVc. Тотал итераций внутри: 0\n",
      "Видео #619: ug-v5XbWOMQ. Тотал итераций внутри: 0\n",
      "Видео #620: rBnVvy24E-c. Тотал итераций внутри: 0\n",
      "Видео #621: -7DBNCMCoZ0. Тотал итераций внутри: 0\n",
      "Видео #622: rXZwDZ5eMXQ. Тотал итераций внутри: 1\n",
      "Видео #623: jlSNAkstg9A. Тотал итераций внутри: 0\n",
      "Видео #624: lbCOT0D3c1U. Тотал итераций внутри: 0\n",
      "Видео #625: Gh-bjxcRlmM. Тотал итераций внутри: 0\n",
      "Видео #626: e3EBvmMzavw. Тотал итераций внутри: 0\n",
      "Видео #627: jgoauUxcHoc. Тотал итераций внутри: 0\n",
      "Видео #628: R3b-q7Jx7q8. Тотал итераций внутри: 0\n",
      "Видео #629: 6CeuuxLWPX4. Тотал итераций внутри: 3\n",
      "Видео #630: mExH5BmPl68. Тотал итераций внутри: 0\n",
      "Видео #631: UGZdR2blJOc. Тотал итераций внутри: 0\n",
      "Видео #632: 92fKK01Ym_M. Тотал итераций внутри: 4\n",
      "Видео #633: D-63jBfKTkg. Тотал итераций внутри: 1\n",
      "Видео #634: 3qWFeTSpFa8. Тотал итераций внутри: 0\n",
      "Видео #635: kOszT8lHgQ4. Тотал итераций внутри: 1\n",
      "Видео #636: oSWecERQPUA. Тотал итераций внутри: 0\n",
      "Видео #637: VY1Vekj837w. Тотал итераций внутри: 0\n",
      "Видео #638: pn66qljcTSA. Тотал итераций внутри: 1\n",
      "Видео #639: mZ8hl9YZRwQ. Тотал итераций внутри: 2\n",
      "Видео #640: GT3RwbvNtfA. Тотал итераций внутри: 0\n",
      "Видео #641: q1_AM_H-9N4. Тотал итераций внутри: 0\n",
      "Видео #642: UgVQ74SZ7mw. Тотал итераций внутри: 0\n",
      "Видео #643: dUgVp2fCq2U. Тотал итераций внутри: 0\n",
      "Видео #644: lsKVhgthjQU. Тотал итераций внутри: 0\n",
      "Видео #645: mPCHyLivIR4. Тотал итераций внутри: 0\n",
      "Видео #646: EyNdJqrrr9A. Тотал итераций внутри: 0\n",
      "Видео #647: GO-FuwSNPdI. Тотал итераций внутри: 0\n",
      "Видео #648: waPkBGLEP3M. Тотал итераций внутри: 0\n",
      "Видео #649: 2XPnul7asr0. Тотал итераций внутри: 1\n",
      "Видео #650: htiJThW4m9M. Тотал итераций внутри: 2\n",
      "Видео #651: Xv1849VQNt8. Тотал итераций внутри: 0\n",
      "Видео #652: B6pfCmyGdhY. Тотал итераций внутри: 0\n",
      "Видео #653: q4TCNIQgefg. Тотал итераций внутри: 0\n",
      "Видео #654: Z7csDFQH-TI. Тотал итераций внутри: 0\n",
      "Видео #655: WWTve24aYkM. Тотал итераций внутри: 0\n",
      "Видео #656: TZkg2jlm7LI. Тотал итераций внутри: 0\n",
      "Видео #657: cczpL179_SU. Тотал итераций внутри: 5\n",
      "Видео #658: 6PhDc0aA350. Тотал итераций внутри: 0\n",
      "Видео #659: c9P-PP6tGy4. Тотал итераций внутри: 0\n",
      "Видео #660: zXUWbxihA7g. Тотал итераций внутри: 0\n",
      "Видео #661: vD1ku8eNLtk. Тотал итераций внутри: 2\n",
      "Видео #662: WwP-A80LLoM. Тотал итераций внутри: 0\n",
      "Видео #663: DsCRg1BuyqA. Тотал итераций внутри: 0\n",
      "Видео #664: Jr0GELe7-fE. Тотал итераций внутри: 0\n",
      "Видео #665: nkUDFoDGRII. Тотал итераций внутри: 4\n",
      "Видео #666: wC6JzgignlY. Тотал итераций внутри: 3\n",
      "Видео #667: ZnQuLqgOazg. Тотал итераций внутри: 1\n",
      "Видео #668: isw4vCR2IOo. Тотал итераций внутри: 0\n",
      "Видео #669: cqrN_Sq1nD4. Тотал итераций внутри: 1\n",
      "Видео #670: tcM6bVr8-eA. Тотал итераций внутри: 0\n",
      "Видео #671: BkQ1rU0yZ4c. Тотал итераций внутри: 0\n",
      "Видео #672: fFtk0ZXnOKs. Тотал итераций внутри: 1\n",
      "Видео #673: 9RFC0TF-gPg. Тотал итераций внутри: 6\n",
      "Видео #674: dRZ84ksyrZw. Тотал итераций внутри: 0\n",
      "Видео #675: wa3DQ7a0ctE. Тотал итераций внутри: 0\n",
      "Видео #676: NyxyitoGfso. Тотал итераций внутри: 2\n",
      "Видео #677: J_wCzk135wA. Тотал итераций внутри: 0\n",
      "Видео #678: gghA0urlVZ8. Тотал итераций внутри: 1\n",
      "Видео #679: ckKN87CpkBk. Тотал итераций внутри: 0\n",
      "Видео #680: OaEj4Tt0wpY. Тотал итераций внутри: 3\n",
      "Видео #681: gs5ToGCKPlQ. Тотал итераций внутри: 0\n",
      "Видео #682: 2Jt5MKn2pJM. Тотал итераций внутри: 0\n",
      "Видео #683: 7oj6fkqNrHc. Тотал итераций внутри: 0\n",
      "Видео #684: RM-waT6CLRE. Тотал итераций внутри: 1\n",
      "Видео #685: lG8_Dl-2lp8. Тотал итераций внутри: 0\n",
      "Видео #686: 7d8n6RdQo28. Тотал итераций внутри: 2\n",
      "Видео #687: -6-3kroyiZs. Тотал итераций внутри: 0\n",
      "Видео #688: fYMT0ErjIpA. Тотал итераций внутри: 0\n",
      "Видео #689: sSUT7q48uJQ. Тотал итераций внутри: 0\n",
      "Видео #690: JkNoGlxQXCc. Тотал итераций внутри: 0\n",
      "Видео #691: okgGOgfJWB8. Тотал итераций внутри: 0\n",
      "Видео #692: vkLtnY8m9G4. Тотал итераций внутри: 2\n",
      "Видео #693: 4AQh0-mdYPY. Тотал итераций внутри: 0\n",
      "Видео #694: gJMtkR3MHdI. Тотал итераций внутри: 2\n",
      "Видео #695: sja_FZ8SPI0. Тотал итераций внутри: 0\n",
      "Видео #696: XEeNd-1XPTA. Тотал итераций внутри: 11\n",
      "Видео #697: 88B8_c8VmtU. Тотал итераций внутри: 0\n",
      "Видео #698: UsK-iwRupQo. Тотал итераций внутри: 0\n",
      "Видео #699: bcI2gj6Fc3U. Тотал итераций внутри: 0\n",
      "Видео #700: R2PcSoSvVfs. Тотал итераций внутри: 0\n",
      "Видео #701: XWFYLQBgpaA. Тотал итераций внутри: 0\n",
      "Видео #702: qV_HW3qC0GQ. Тотал итераций внутри: 0\n",
      "Видео #703: rLseJAehmy4. Тотал итераций внутри: 0\n",
      "Видео #704: 6nCsBZmHqY8. Тотал итераций внутри: 0\n",
      "Видео #705: enQxOG3NCg8. Тотал итераций внутри: 0\n",
      "Видео #706: QNwtXALnLVk. Тотал итераций внутри: 0\n",
      "Видео #707: PpeHjrD4Xuk. Тотал итераций внутри: 0\n",
      "Видео #708: 8qv1CyNKpT4. Тотал итераций внутри: 3\n",
      "Видео #709: 6bf0rC7U7yM. Тотал итераций внутри: 32\n",
      "Видео #710: RgCGkB7yfnI. Тотал итераций внутри: 0\n",
      "Видео #711: Li9V9D0b_hM. Тотал итераций внутри: 2\n",
      "Видео #712: OL5TeGgLOBU. Тотал итераций внутри: 1\n",
      "Видео #713: 7Hp5Xlo56gs. Тотал итераций внутри: 0\n",
      "Видео #714: FvUHgabaCfM. Тотал итераций внутри: 1\n",
      "Видео #715: eUsG5EQGgaI. Тотал итераций внутри: 0\n",
      "Видео #716: 8h7jnT5TJIQ. Тотал итераций внутри: 0\n",
      "Видео #717: nSV2PUzQkEk. Тотал итераций внутри: 0\n",
      "Видео #718: l9ZQ8Kc4OgA. Тотал итераций внутри: 0\n",
      "Видео #719: MSvWxw5NUZc. Тотал итераций внутри: 0\n",
      "Видео #720: yXa6hAo1he4. Тотал итераций внутри: 0\n",
      "Видео #721: HCmfqZNjO1w. Тотал итераций внутри: 0\n",
      "Видео #722: LgKW2s1yqmQ. Тотал итераций внутри: 0\n",
      "Видео #723: bwXDZXpekXk. Тотал итераций внутри: 4\n",
      "Видео #724: W1xiK5uRZHI. Тотал итераций внутри: 0\n",
      "Видео #725: xEnqrnQMZ70. Тотал итераций внутри: 0\n",
      "Видео #726: uCoOIwsow_I. Тотал итераций внутри: 0\n",
      "Видео #727: sYVf5ZgoXlI. Тотал итераций внутри: 2\n",
      "Видео #728: JhD5dYwfhH4. Тотал итераций внутри: 0\n",
      "Видео #729: ZJZH9LH-ZbI. Тотал итераций внутри: 0\n",
      "Видео #730: jBSSUQ6DVCU. Тотал итераций внутри: 1\n",
      "Видео #731: yMBQW7YRHTc. Тотал итераций внутри: 0\n",
      "Видео #732: ja3Q6OyFLjE. Тотал итераций внутри: 0\n",
      "Видео #733: H9NTwe53FxY. Тотал итераций внутри: 1\n",
      "Видео #734: 5B37kw7UnIk. Тотал итераций внутри: 0\n",
      "Видео #735: LhTX843eKcM. Тотал итераций внутри: 0\n",
      "Видео #736: D8xtKwFRi68. Тотал итераций внутри: 1\n",
      "Видео #737: hgTvGgFT1LA. Тотал итераций внутри: 0\n",
      "Видео #738: SWgwzcoRcfE. Тотал итераций внутри: 0\n",
      "Видео #739: B1TV2RWRH00. Тотал итераций внутри: 0\n",
      "Видео #740: NrKZNZKNZCk. Тотал итераций внутри: 0\n",
      "Видео #741: 08KnxyZa4tI. Тотал итераций внутри: 0\n",
      "Видео #742: Ap8R3YttZf0. Тотал итераций внутри: 0\n",
      "Видео #743: STH7-RUSec0. Тотал итераций внутри: 0\n",
      "Видео #744: MBRmXi2dDIU. Тотал итераций внутри: 0\n",
      "Видео #745: Ib7We1BGJfo. Тотал итераций внутри: 0\n",
      "Видео #746: nOedQws3hlg. Тотал итераций внутри: 0\n",
      "Видео #747: -ZKJcUJt4gI. Тотал итераций внутри: 3\n",
      "Видео #748: rPsGDuRDQ0k. Тотал итераций внутри: 0\n",
      "Видео #749: yeHZGG78LFE. Тотал итераций внутри: 0\n",
      "Видео #750: DRdcmcI_7yI. Тотал итераций внутри: 0\n",
      "Видео #751: 3nrFvIOMFDU. Тотал итераций внутри: 0\n",
      "Видео #752: pIKW1cakJgI. Тотал итераций внутри: 0\n",
      "Видео #753: jRxxVWl8PdA. Тотал итераций внутри: 0\n",
      "Видео #754: 5h10VyxeZGs. Тотал итераций внутри: 0\n",
      "Видео #755: 4cvJpAEJdGE. Тотал итераций внутри: 0\n",
      "Видео #756: zDhEPXcZDxQ. Тотал итераций внутри: 0\n",
      "Видео #757: U8q0OF6CGag. Тотал итераций внутри: 0\n",
      "Видео #758: To2mO54geYc. Тотал итераций внутри: 0\n",
      "Видео #759: Qv79S03eh7c. Тотал итераций внутри: 1\n",
      "Видео #760: QuPvJDlrBSs. Тотал итераций внутри: 1\n",
      "Видео #761: xe3_7h0zZVk. Тотал итераций внутри: 0\n",
      "Видео #762: FFOjcmeb_ro. Тотал итераций внутри: 0\n",
      "Видео #763: cnNBDWp0F8k. Тотал итераций внутри: 0\n",
      "Видео #764: nPNpeLjwmlw. Тотал итераций внутри: 0\n",
      "Видео #765: rgq3TGz90qk. Тотал итераций внутри: 0\n",
      "Видео #766: pB4pDaR5B7A. Тотал итераций внутри: 0\n",
      "Видео #767: b8q8i9HIms4. Тотал итераций внутри: 0\n",
      "Видео #768: Rh_V5jYtL38. Тотал итераций внутри: 0\n",
      "Видео #769: y5ZDXKLV23g. Тотал итераций внутри: 0\n",
      "Видео #770: fDkSX9RegYc. Тотал итераций внутри: 0\n",
      "Видео #771: FEs0xyGyWJs. Тотал итераций внутри: 1\n",
      "Видео #772: bm6-YpWlkPM. Тотал итераций внутри: 0\n",
      "Видео #773: 6HrG9Y7SQN0. Тотал итераций внутри: 0\n",
      "Видео #774: mjw22Fkf-0M. Тотал итераций внутри: 0\n",
      "Видео #775: ynGxo7XAd-w. Тотал итераций внутри: 0\n",
      "Видео #776: Q570wXqYnqI. Тотал итераций внутри: 0\n",
      "Видео #777: BiMsID1Dap0. Тотал итераций внутри: 0\n",
      "Видео #778: PjamlL7FYZI. Тотал итераций внутри: 0\n",
      "Видео #779: WB4VGSsACV0. Тотал итераций внутри: 0\n",
      "Видео #780: KME7lKeeSXo. Тотал итераций внутри: 0\n",
      "Видео #781: 3nu_xxgNIRo. Тотал итераций внутри: 2\n",
      "Видео #782: iSTm4mPcsKY. Тотал итераций внутри: 0\n",
      "Видео #783: FJsYfHsTmu4. Тотал итераций внутри: 3\n",
      "Видео #784: BUMzStMEAOU. Тотал итераций внутри: 0\n",
      "Видео #785: UD8veumoDrg. Тотал итераций внутри: 1\n",
      "Видео #786: q_RYBO1IShI. Тотал итераций внутри: 0\n",
      "Видео #787: u2GtqmDYJCc. Тотал итераций внутри: 1\n",
      "Видео #788: FDu_kZWYK3Y. Тотал итераций внутри: 0\n",
      "Видео #789: wt-O-_l7DOw. Тотал итераций внутри: 0\n",
      "Видео #790: AcRzoR1fTHM. Тотал итераций внутри: 0\n",
      "Видео #791: GBUBhGCFvXE. Тотал итераций внутри: 0\n",
      "Видео #792: 4jvlLLM6mI8. Тотал итераций внутри: 0\n",
      "Видео #793: 4ilpWmtxxBI. Тотал итераций внутри: 0\n",
      "Видео #794: 2Jr2sb_Vf-4. Тотал итераций внутри: 0\n",
      "Видео #795: YWoPrj6o7E0. Тотал итераций внутри: 0\n",
      "Видео #796: td_SZ-B4h5A. Тотал итераций внутри: 0\n",
      "Видео #797: wjDcKqmtfOI. Тотал итераций внутри: 0\n",
      "Видео #798: UYPnBJhMJcs. Тотал итераций внутри: 0\n",
      "Видео #799: RYI3X89kPDM. Тотал итераций внутри: 0\n",
      "Видео #800: c6sbaUp_yzA. Тотал итераций внутри: 0\n",
      "Видео #801: hOIlgL4Zr6M. Тотал итераций внутри: 0\n",
      "Видео #802: Cq8Cw0MrP-M. Тотал итераций внутри: 0\n",
      "Видео #803: SDBsDdAHjKU. Тотал итераций внутри: 0\n",
      "Видео #804: yL8EF00a1ek. Тотал итераций внутри: 0\n",
      "Видео #805: D-3yp_PrOuc. Тотал итераций внутри: 0\n",
      "Видео #806: gOg4bDmHCnA. Тотал итераций внутри: 0\n",
      "Видео #807: 7C2W4TVovJw. Тотал итераций внутри: 0\n",
      "Видео #808: bGpDaxvJz-Y. Тотал итераций внутри: 0\n",
      "Видео #809: 6Jt2yHqsMVI. Тотал итераций внутри: 0\n",
      "Видео #810: 68gf7ZQKTKQ. Тотал итераций внутри: 0\n",
      "Видео #811: rqQz_Q9LUoM. Тотал итераций внутри: 0\n",
      "Видео #812: YIwSICbHp9A. Тотал итераций внутри: 0\n",
      "Видео #813: boB2LEXG_zA. Тотал итераций внутри: 1\n",
      "Видео #814: vmqqRVgtc4w. Тотал итераций внутри: 0\n",
      "Видео #815: PkFdeEdqYL0. Тотал итераций внутри: 0\n",
      "Видео #816: o_uktu8teHU. Тотал итераций внутри: 0\n",
      "Видео #817: lSQFSVqi4RA. Тотал итераций внутри: 0\n",
      "Видео #818: DFwimvl3aKA. Тотал итераций внутри: 0\n",
      "Видео #819: GDAhpBPSAl4. Тотал итераций внутри: 0\n",
      "Видео #820: Vi7wRye4L3U. Тотал итераций внутри: 0\n",
      "Видео #821: 14x4GpFZXuA. Тотал итераций внутри: 0\n",
      "Видео #822: IphWpmC-YfQ. Тотал итераций внутри: 0\n",
      "Видео #823: f-e9PFnKAu0. Тотал итераций внутри: 0\n",
      "Видео #824: U8zv40IeOtk. Тотал итераций внутри: 0\n",
      "Видео #825: f_6kzV-urN0. Тотал итераций внутри: 0\n",
      "Видео #826: W_LaGoAYGPg. Тотал итераций внутри: 0\n",
      "Видео #827: Nqx-N3chNNQ. Тотал итераций внутри: 0\n",
      "Видео #828: l-am6kngSk8. Тотал итераций внутри: 0\n",
      "Видео #829: LH10qkyI8tA. Тотал итераций внутри: 0\n",
      "Видео #830: CzytPTIJlec. Тотал итераций внутри: 0\n",
      "Видео #831: rV2Ftz8o8as. Тотал итераций внутри: 0\n",
      "Видео #832: Vbm9q5yR22g. Тотал итераций внутри: 0\n",
      "Видео #833: zt5k3m_ivkM. Тотал итераций внутри: 0\n",
      "Видео #834: sjPCimhnD10. Тотал итераций внутри: 0\n",
      "Видео #835: sO-PPtdJyQg. Тотал итераций внутри: 0\n",
      "Видео #836: ECrmYUAO-ts. Тотал итераций внутри: 0\n",
      "Видео #837: F9FIIQQdtRE. Тотал итераций внутри: 0\n",
      "Видео #838: IlxaCbT6a6k. Тотал итераций внутри: 0\n",
      "Видео #839: ATiB6sbsYw0. Тотал итераций внутри: 0\n",
      "Видео #840: pOTUVxc4PtI. Тотал итераций внутри: 0\n",
      "Видео #841: h0AMqiYrJOg. Тотал итераций внутри: 0\n",
      "Видео #842: 3CRpz6Au4rI. Тотал итераций внутри: 0\n",
      "Видео #843: UALr8ZjBmJM. Тотал итераций внутри: 0\n",
      "Видео #844: srTbY7pKma8. Тотал итераций внутри: 0\n",
      "Видео #845: 3hx4Gbf5kEg. Тотал итераций внутри: 0\n",
      "Видео #846: dGkUEAJl3YI. Тотал итераций внутри: 0\n",
      "Видео #847: obrBYVV8mYw. Тотал итераций внутри: 0\n",
      "Видео #848: x6VqTMab2-c. Тотал итераций внутри: 0\n",
      "Видео #849: EeV-BHTxCfg. Тотал итераций внутри: 0\n",
      "Видео #850: XbO8wBt4kQM. Тотал итераций внутри: 0\n",
      "Видео #851: 5H8THyoAEuE. Тотал итераций внутри: 0\n",
      "Видео #852: k0MVkd8yPTU. Тотал итераций внутри: 0\n",
      "Видео #853: xqCj26LkmYE. Тотал итераций внутри: 0\n",
      "Видео #854: MWx3NaXfDwg. Тотал итераций внутри: 0\n",
      "Видео #855: 91rdWwSGVcw. Тотал итераций внутри: 0\n",
      "Видео #856: EHAeBRWgWg8. Тотал итераций внутри: 0\n",
      "Видео #857: qElE9LAj3Ng. Тотал итераций внутри: 0\n",
      "Видео #858: 9iziStmaFlQ. Тотал итераций внутри: 0\n",
      "Видео #859: JOBebWK_4-Q. Тотал итераций внутри: 0\n",
      "Видео #860: BNzlbcenRdU. Тотал итераций внутри: 0\n",
      "Видео #861: MnQ6U_M_Cik. Тотал итераций внутри: 0\n",
      "Видео #862: -fL_nJFw-rk. Тотал итераций внутри: 0\n",
      "Видео #863: G3bgRfjI-Fg. Тотал итераций внутри: 0\n",
      "Видео #864: E1fl1I-MHiY. Тотал итераций внутри: 0\n",
      "Видео #865: SUtZRP4-DZE. Тотал итераций внутри: 0\n",
      "Видео #866: vzLxgcin4GM. Тотал итераций внутри: 0\n",
      "Видео #867: D2wljESCgNY. Тотал итераций внутри: 0\n",
      "Видео #868: E6usSnVFbSk. Тотал итераций внутри: 0\n",
      "Видео #869: UwTrs5dv8w8. Тотал итераций внутри: 0\n",
      "Видео #870: AuzmxEpuaoM. Тотал итераций внутри: 0\n",
      "Видео #871: jCzHFlPl818. Тотал итераций внутри: 0\n",
      "Видео #872: O_98gNFOqX0. Тотал итераций внутри: 0\n",
      "Видео #873: zVSiblToK9s. Тотал итераций внутри: 0\n",
      "Видео #874: D1ju9MzB8O0. Тотал итераций внутри: 0\n",
      "Видео #875: 0pFpxh4BRXg. Тотал итераций внутри: 0\n",
      "Видео #876: xfYJyH41Jzo. Тотал итераций внутри: 0\n",
      "Видео #877: 9hTPdgbv9xs. Тотал итераций внутри: 0\n",
      "Видео #878: a3kYIzV-uyg. Тотал итераций внутри: 0\n",
      "Видео #879: oj8p3eWa-Bg. Тотал итераций внутри: 0\n",
      "Видео #880: CYssI6BTq8w. Тотал итераций внутри: 0\n",
      "Видео #881: NIUJvRivwpY. Тотал итераций внутри: 0\n",
      "Видео #882: SNRrXxyiwk0. Тотал итераций внутри: 0\n",
      "Видео #883: KsAVjAwf3Go. Тотал итераций внутри: 0\n"
     ]
    }
   ],
   "source": [
    "# 10 Итеративный сбор комментариев к видео\n",
    "\n",
    "problem_videos_ids = []\n",
    "comment_df = pd.DataFrame()\n",
    "\n",
    "for i, video_id in enumerate(video_ids):\n",
    "    \n",
    "    try:\n",
    "        request = youtube.commentThreads().list(\n",
    "                                    part =search_part,\n",
    "                                    videoId = video_id,\n",
    "                                    textFormat=\"plainText\",\n",
    "                                    maxResults=50\n",
    "        )\n",
    "        response = request.execute()\n",
    "    \n",
    "        comment_add = pd.json_normalize(response['items'])\n",
    "        comment_df = pd.concat([comment_df, comment_add])\n",
    "\n",
    "        j = 0\n",
    "    \n",
    "        while 'nextPageToken' in response.keys():\n",
    "            request = youtube.commentThreads().list(\n",
    "                                    part =search_part,\n",
    "                                    videoId = video_id,\n",
    "                                    textFormat=\"plainText\",\n",
    "                                    maxResults=50,\n",
    "                                    pageToken=response['nextPageToken']\n",
    "                )\n",
    "            response = request.execute()\n",
    "        \n",
    "            comment_add = pd.json_normalize(response['items'])\n",
    "            comment_df = pd.concat([comment_df, comment_add])\n",
    "            j += 1\n",
    "\n",
    "        print(f\"Видео #{i}: {video_id}. Тотал итераций внутри: {j}\")\n",
    "\n",
    "    except:\n",
    "        print(f\"Видео № {video_ids.index(video_id)} проблема\")\n",
    "        problem_videos_ids.append(video_ids)\n",
    "\n"
   ]
  },
  {
   "cell_type": "code",
   "execution_count": 27,
   "outputs": [
    {
     "name": "stdout",
     "output_type": "stream",
     "text": [
      "Ошибок всего: 0\n"
     ]
    }
   ],
   "source": [
    "print(f'Ошибок всего: {len(problem_videos_ids)}')"
   ],
   "metadata": {
    "collapsed": false,
    "ExecuteTime": {
     "start_time": "2023-04-15T13:14:46.253835Z",
     "end_time": "2023-04-15T13:14:46.257262Z"
    }
   }
  },
  {
   "cell_type": "markdown",
   "source": [
    "## Обработка комментариев"
   ],
   "metadata": {
    "collapsed": false
   }
  },
  {
   "cell_type": "code",
   "execution_count": 13,
   "outputs": [
    {
     "data": {
      "text/plain": "(50168, 20)"
     },
     "execution_count": 13,
     "metadata": {},
     "output_type": "execute_result"
    }
   ],
   "source": [
    "# 11 Обработка - удаление дубликатов\n",
    "\n",
    "comment_df = comment_df.drop_duplicates('id')\n",
    "\n",
    "\n",
    "# Удаление  несущественных переменных\n",
    "\n",
    "comment_df = comment_df.drop(['snippet.topLevelComment.kind',\n",
    "                          'snippet.topLevelComment.etag',\n",
    "                          'snippet.topLevelComment.id',\n",
    "                          'snippet.topLevelComment.snippet.videoId'], axis = 1)\n",
    "comment_df.shape"
   ],
   "metadata": {
    "collapsed": false,
    "ExecuteTime": {
     "start_time": "2023-04-15T13:12:37.475889Z",
     "end_time": "2023-04-15T13:12:37.563711Z"
    }
   }
  },
  {
   "cell_type": "code",
   "execution_count": 14,
   "outputs": [],
   "source": [
    "comment_df  = comment_df.reset_index(drop=True)"
   ],
   "metadata": {
    "collapsed": false,
    "ExecuteTime": {
     "start_time": "2023-04-15T13:12:37.564437Z",
     "end_time": "2023-04-15T13:12:37.579221Z"
    }
   }
  },
  {
   "cell_type": "code",
   "execution_count": 15,
   "outputs": [],
   "source": [
    "# 12 Сохранение массива родительских комментариев\n",
    "\n",
    "comment_df.to_excel(DATA_PATH / 'comment' / 'Parent_Comments.xlsx', index=False)"
   ],
   "metadata": {
    "collapsed": false,
    "ExecuteTime": {
     "start_time": "2023-04-15T13:12:37.581331Z",
     "end_time": "2023-04-15T13:12:52.163650Z"
    }
   }
  },
  {
   "cell_type": "markdown",
   "source": [
    "### Парсинг ответных комментариев"
   ],
   "metadata": {
    "collapsed": false
   }
  },
  {
   "cell_type": "code",
   "execution_count": 16,
   "outputs": [
    {
     "data": {
      "text/plain": "24218"
     },
     "execution_count": 16,
     "metadata": {},
     "output_type": "execute_result"
    }
   ],
   "source": [
    "# 13 Количество комментариев с ответами на них\n",
    "\n",
    "comment_df.drop_duplicates('id')['snippet.totalReplyCount'].sum()"
   ],
   "metadata": {
    "collapsed": false,
    "ExecuteTime": {
     "start_time": "2023-04-15T13:12:52.167876Z",
     "end_time": "2023-04-15T13:12:52.190921Z"
    }
   }
  },
  {
   "cell_type": "code",
   "execution_count": 17,
   "outputs": [
    {
     "name": "stderr",
     "output_type": "stream",
     "text": [
      "100%|██████████| 10915/10915 [00:29<00:00, 365.42it/s]\n"
     ]
    },
    {
     "data": {
      "text/plain": "(19364, 17)"
     },
     "execution_count": 17,
     "metadata": {},
     "output_type": "execute_result"
    }
   ],
   "source": [
    "# 14 Парсинг ответов из строчки датафрейма\n",
    "\n",
    "from tqdm import tqdm\n",
    "\n",
    "# Список строчек для парсинга\n",
    "replies_videos = list(comment_df[comment_df['snippet.totalReplyCount'] > 0]['replies.comments'])\n",
    "\n",
    "# Пустой датафрейм для сохранения\n",
    "replies_df = pd.DataFrame()\n",
    "\n",
    "for reply_video in tqdm(replies_videos):\n",
    "\n",
    "    # Добавление одного массива ответов в replies_df\n",
    "    temp = pd.json_normalize(reply_video)\n",
    "    replies_df = pd.concat([replies_df, temp])\n",
    "\n",
    "replies_df.shape"
   ],
   "metadata": {
    "collapsed": false,
    "ExecuteTime": {
     "start_time": "2023-04-15T13:12:52.188590Z",
     "end_time": "2023-04-15T13:13:22.139363Z"
    }
   }
  },
  {
   "cell_type": "code",
   "execution_count": 18,
   "metadata": {
    "ExecuteTime": {
     "start_time": "2023-04-15T13:13:22.143228Z",
     "end_time": "2023-04-15T13:13:22.175587Z"
    }
   },
   "outputs": [
    {
     "data": {
      "text/plain": "                  kind                         etag  \\\n0      youtube#comment  Dlbrs7HXV-HETOjbQYppuqhAMDw   \n1      youtube#comment  4ZdEGp3joEJoNQ4PEwWaPxvZUuo   \n2      youtube#comment  2Hn396xXKiC1-ilVjmymWTuP3TE   \n3      youtube#comment  v1-mTWgB_gBJdF17-sOC-4e-AAM   \n4      youtube#comment  3aZA3iVk-nQyz34QA_7HQmN5BHw   \n...                ...                          ...   \n19359  youtube#comment  YXzqHKyGT6IHAGgxsdmCPbHbmIY   \n19360  youtube#comment  E57V0dBOAp-m5DVnlyNUqwtCI2I   \n19361  youtube#comment  4xNm94k5j4Qs5YfBCYv_Do6aHvA   \n19362  youtube#comment  Cv-a2OD6XXM_oqEEfrE0ORAkB00   \n19363  youtube#comment  TewE9xqDQ0UgeQW45eRtUCDoecQ   \n\n                                                      id snippet.videoId  \\\n0      UgxM6QDdUYSoU4nzkIt4AaABAg.9o06XeoQcvN9oFNedUmJL9     AAjsSrjZXsw   \n1      UgzlVHBgVOkve5jU6_x4AaABAg.9mn9D-xh3jd9n6NGp2n4XH     AAjsSrjZXsw   \n2      UgxJ5mzitJXl6cFH9uh4AaABAg.9mhXpE1jki49n2BhzLRbS9     AAjsSrjZXsw   \n3      UgxJ5mzitJXl6cFH9uh4AaABAg.9mhXpE1jki49mhoigbe6aV     AAjsSrjZXsw   \n4      UgyKzwcKp0Rw0-FH8wV4AaABAg.9m9zLCNh8Lo9mEZNYxUsAX     AAjsSrjZXsw   \n...                                                  ...             ...   \n19359  Ugz0TAfUZPBszOTKKT94AaABAg.9lfS7ZusFkR9lfUD5jdi9J     xfYJyH41Jzo   \n19360  Ugz0TAfUZPBszOTKKT94AaABAg.9lfS7ZusFkR9lfTqq3wIop     xfYJyH41Jzo   \n19361  Ugz0TAfUZPBszOTKKT94AaABAg.9lfS7ZusFkR9lfTL3oE6Tg     xfYJyH41Jzo   \n19362  UgxDV8TUXBzEVdMHRmJ4AaABAg.9nN1nTLl6er9nN24Qtemhn     9hTPdgbv9xs   \n19363  UgznQT_EEfXvR-LJnyV4AaABAg.9mVN8cvBfmW9mYlVlShANe     a3kYIzV-uyg   \n\n                                     snippet.textDisplay  \\\n0                        Конечно, в фиксе тоже оригинал.   \n1      Я тоже чуть лореаль не купила, но потом в отзы...   \n2      @Ksenia Orlova beautynetkorea, когда я начинал...   \n3      Подскажите, где вы заказывали? На roseroseshop...   \n4      Какая разница, эти хрен пойми кто пользуются л...   \n...                                                  ...   \n19359  @Людмила PRO Atomy Доступно всё объясняете, по...   \n19360  Ещё их можно использовать против морщин и не т...   \n19361  Мне очень нравятся как убирают отеки и темные ...   \n19362  В интернет-магазине Атоми.\\nНапишите мне Ватса...   \n19363                                                😀🫶🏻   \n\n                                    snippet.textOriginal  \\\n0                        Конечно, в фиксе тоже оригинал.   \n1      Я тоже чуть лореаль не купила, но потом в отзы...   \n2      @Ksenia Orlova beautynetkorea, когда я начинал...   \n3      Подскажите, где вы заказывали? На roseroseshop...   \n4      Какая разница, эти хрен пойми кто пользуются л...   \n...                                                  ...   \n19359  @Людмила PRO Atomy Доступно всё объясняете, по...   \n19360  Ещё их можно использовать против морщин и не т...   \n19361  Мне очень нравятся как убирают отеки и темные ...   \n19362  В интернет-магазине Атоми.\\nНапишите мне Ватса...   \n19363                                                😀🫶🏻   \n\n                 snippet.parentId snippet.authorDisplayName  \\\n0      UgxM6QDdUYSoU4nzkIt4AaABAg                   мур мяу   \n1      UgzlVHBgVOkve5jU6_x4AaABAg                      lisa   \n2      UgxJ5mzitJXl6cFH9uh4AaABAg              TheAvesscita   \n3      UgxJ5mzitJXl6cFH9uh4AaABAg             Ksenia Orlova   \n4      UgyKzwcKp0Rw0-FH8wV4AaABAg                 Etot User   \n...                           ...                       ...   \n19359  Ugz0TAfUZPBszOTKKT94AaABAg            Ирина Семёнова   \n19360  Ugz0TAfUZPBszOTKKT94AaABAg         Людмила PRO Atomy   \n19361  Ugz0TAfUZPBszOTKKT94AaABAg         Людмила PRO Atomy   \n19362  UgxDV8TUXBzEVdMHRmJ4AaABAg         Людмила PRO Atomy   \n19363  UgznQT_EEfXvR-LJnyV4AaABAg                  Анна Ким   \n\n                           snippet.authorProfileImageUrl  \\\n0      https://yt3.ggpht.com/gWOx6vsaqqDyktf-ywWdv-R1...   \n1      https://yt3.ggpht.com/ytc/AGIKgqNX2LlwOA6wkl-t...   \n2      https://yt3.ggpht.com/ytc/AGIKgqPsUz5TYQOBXTeS...   \n3      https://yt3.ggpht.com/FY2IBq_bsDopjzXgYPD4JhG_...   \n4      https://yt3.ggpht.com/ytc/AGIKgqMaYTJxLBVfm3T_...   \n...                                                  ...   \n19359  https://yt3.ggpht.com/ytc/AGIKgqOTUhFUV5-CDq-s...   \n19360  https://yt3.ggpht.com/QcCXI4rzhA6UondTyoZ7Ctu6...   \n19361  https://yt3.ggpht.com/QcCXI4rzhA6UondTyoZ7Ctu6...   \n19362  https://yt3.ggpht.com/QcCXI4rzhA6UondTyoZ7Ctu6...   \n19363  https://yt3.ggpht.com/iwxT8yUFiNULFSLKYxpIGZss...   \n\n                                snippet.authorChannelUrl  \\\n0      http://www.youtube.com/channel/UCVPSlJCAYvFfwh...   \n1      http://www.youtube.com/channel/UCylugz6URbtF13...   \n2      http://www.youtube.com/channel/UCnitnj2vTlfk-E...   \n3      http://www.youtube.com/channel/UC9i6-hSdasxnY1...   \n4      http://www.youtube.com/channel/UCzuZycAMyCF-iA...   \n...                                                  ...   \n19359  http://www.youtube.com/channel/UCGs6guyWyzBE9W...   \n19360  http://www.youtube.com/channel/UCzUsVYz2Bkn3Z_...   \n19361  http://www.youtube.com/channel/UCzUsVYz2Bkn3Z_...   \n19362  http://www.youtube.com/channel/UCzUsVYz2Bkn3Z_...   \n19363  http://www.youtube.com/channel/UCE0AvN-0fMzou-...   \n\n      snippet.authorChannelId.value  snippet.canRate snippet.viewerRating  \\\n0          UCVPSlJCAYvFfwh8KNLLS-ww             True                 none   \n1          UCylugz6URbtF13V7yZLM7lA             True                 none   \n2          UCnitnj2vTlfk-ESQDhClbig             True                 none   \n3          UC9i6-hSdasxnY1Mjq9lOYfQ             True                 none   \n4          UCzuZycAMyCF-iADZqRrPRcA             True                 none   \n...                             ...              ...                  ...   \n19359      UCGs6guyWyzBE9Ws2RQVPBzQ             True                 none   \n19360      UCzUsVYz2Bkn3Z_dDzria3Jg             True                 none   \n19361      UCzUsVYz2Bkn3Z_dDzria3Jg             True                 none   \n19362      UCzUsVYz2Bkn3Z_dDzria3Jg             True                 none   \n19363      UCE0AvN-0fMzou-s9buvsYMQ             True                 none   \n\n       snippet.likeCount   snippet.publishedAt     snippet.updatedAt  \\\n0                      0  2023-04-08T14:54:19Z  2023-04-08T14:54:19Z   \n1                      0  2023-03-11T06:26:22Z  2023-03-11T06:26:22Z   \n2                      1  2023-03-09T15:28:24Z  2023-03-09T15:28:24Z   \n3                      0  2023-03-01T08:14:44Z  2023-03-01T08:14:44Z   \n4                      0  2023-02-17T14:14:41Z  2023-02-17T14:14:41Z   \n...                  ...                   ...                   ...   \n19359                  0  2023-02-03T13:56:54Z  2023-02-03T13:56:54Z   \n19360                  1  2023-02-03T13:53:44Z  2023-02-03T13:53:44Z   \n19361                  1  2023-02-03T13:49:15Z  2023-02-03T13:49:15Z   \n19362                  0  2023-03-17T17:48:16Z  2023-03-17T17:48:16Z   \n19363                  0  2023-02-25T10:34:12Z  2023-02-25T10:34:12Z   \n\n      snippet.moderationStatus  \n0                          NaN  \n1                          NaN  \n2                          NaN  \n3                          NaN  \n4                          NaN  \n...                        ...  \n19359                      NaN  \n19360                      NaN  \n19361                      NaN  \n19362                      NaN  \n19363                      NaN  \n\n[19364 rows x 17 columns]",
      "text/html": "<div>\n<style scoped>\n    .dataframe tbody tr th:only-of-type {\n        vertical-align: middle;\n    }\n\n    .dataframe tbody tr th {\n        vertical-align: top;\n    }\n\n    .dataframe thead th {\n        text-align: right;\n    }\n</style>\n<table border=\"1\" class=\"dataframe\">\n  <thead>\n    <tr style=\"text-align: right;\">\n      <th></th>\n      <th>kind</th>\n      <th>etag</th>\n      <th>id</th>\n      <th>snippet.videoId</th>\n      <th>snippet.textDisplay</th>\n      <th>snippet.textOriginal</th>\n      <th>snippet.parentId</th>\n      <th>snippet.authorDisplayName</th>\n      <th>snippet.authorProfileImageUrl</th>\n      <th>snippet.authorChannelUrl</th>\n      <th>snippet.authorChannelId.value</th>\n      <th>snippet.canRate</th>\n      <th>snippet.viewerRating</th>\n      <th>snippet.likeCount</th>\n      <th>snippet.publishedAt</th>\n      <th>snippet.updatedAt</th>\n      <th>snippet.moderationStatus</th>\n    </tr>\n  </thead>\n  <tbody>\n    <tr>\n      <th>0</th>\n      <td>youtube#comment</td>\n      <td>Dlbrs7HXV-HETOjbQYppuqhAMDw</td>\n      <td>UgxM6QDdUYSoU4nzkIt4AaABAg.9o06XeoQcvN9oFNedUmJL9</td>\n      <td>AAjsSrjZXsw</td>\n      <td>Конечно, в фиксе тоже оригинал.</td>\n      <td>Конечно, в фиксе тоже оригинал.</td>\n      <td>UgxM6QDdUYSoU4nzkIt4AaABAg</td>\n      <td>мур мяу</td>\n      <td>https://yt3.ggpht.com/gWOx6vsaqqDyktf-ywWdv-R1...</td>\n      <td>http://www.youtube.com/channel/UCVPSlJCAYvFfwh...</td>\n      <td>UCVPSlJCAYvFfwh8KNLLS-ww</td>\n      <td>True</td>\n      <td>none</td>\n      <td>0</td>\n      <td>2023-04-08T14:54:19Z</td>\n      <td>2023-04-08T14:54:19Z</td>\n      <td>NaN</td>\n    </tr>\n    <tr>\n      <th>1</th>\n      <td>youtube#comment</td>\n      <td>4ZdEGp3joEJoNQ4PEwWaPxvZUuo</td>\n      <td>UgzlVHBgVOkve5jU6_x4AaABAg.9mn9D-xh3jd9n6NGp2n4XH</td>\n      <td>AAjsSrjZXsw</td>\n      <td>Я тоже чуть лореаль не купила, но потом в отзы...</td>\n      <td>Я тоже чуть лореаль не купила, но потом в отзы...</td>\n      <td>UgzlVHBgVOkve5jU6_x4AaABAg</td>\n      <td>lisa</td>\n      <td>https://yt3.ggpht.com/ytc/AGIKgqNX2LlwOA6wkl-t...</td>\n      <td>http://www.youtube.com/channel/UCylugz6URbtF13...</td>\n      <td>UCylugz6URbtF13V7yZLM7lA</td>\n      <td>True</td>\n      <td>none</td>\n      <td>0</td>\n      <td>2023-03-11T06:26:22Z</td>\n      <td>2023-03-11T06:26:22Z</td>\n      <td>NaN</td>\n    </tr>\n    <tr>\n      <th>2</th>\n      <td>youtube#comment</td>\n      <td>2Hn396xXKiC1-ilVjmymWTuP3TE</td>\n      <td>UgxJ5mzitJXl6cFH9uh4AaABAg.9mhXpE1jki49n2BhzLRbS9</td>\n      <td>AAjsSrjZXsw</td>\n      <td>@Ksenia Orlova beautynetkorea, когда я начинал...</td>\n      <td>@Ksenia Orlova beautynetkorea, когда я начинал...</td>\n      <td>UgxJ5mzitJXl6cFH9uh4AaABAg</td>\n      <td>TheAvesscita</td>\n      <td>https://yt3.ggpht.com/ytc/AGIKgqPsUz5TYQOBXTeS...</td>\n      <td>http://www.youtube.com/channel/UCnitnj2vTlfk-E...</td>\n      <td>UCnitnj2vTlfk-ESQDhClbig</td>\n      <td>True</td>\n      <td>none</td>\n      <td>1</td>\n      <td>2023-03-09T15:28:24Z</td>\n      <td>2023-03-09T15:28:24Z</td>\n      <td>NaN</td>\n    </tr>\n    <tr>\n      <th>3</th>\n      <td>youtube#comment</td>\n      <td>v1-mTWgB_gBJdF17-sOC-4e-AAM</td>\n      <td>UgxJ5mzitJXl6cFH9uh4AaABAg.9mhXpE1jki49mhoigbe6aV</td>\n      <td>AAjsSrjZXsw</td>\n      <td>Подскажите, где вы заказывали? На roseroseshop...</td>\n      <td>Подскажите, где вы заказывали? На roseroseshop...</td>\n      <td>UgxJ5mzitJXl6cFH9uh4AaABAg</td>\n      <td>Ksenia Orlova</td>\n      <td>https://yt3.ggpht.com/FY2IBq_bsDopjzXgYPD4JhG_...</td>\n      <td>http://www.youtube.com/channel/UC9i6-hSdasxnY1...</td>\n      <td>UC9i6-hSdasxnY1Mjq9lOYfQ</td>\n      <td>True</td>\n      <td>none</td>\n      <td>0</td>\n      <td>2023-03-01T08:14:44Z</td>\n      <td>2023-03-01T08:14:44Z</td>\n      <td>NaN</td>\n    </tr>\n    <tr>\n      <th>4</th>\n      <td>youtube#comment</td>\n      <td>3aZA3iVk-nQyz34QA_7HQmN5BHw</td>\n      <td>UgyKzwcKp0Rw0-FH8wV4AaABAg.9m9zLCNh8Lo9mEZNYxUsAX</td>\n      <td>AAjsSrjZXsw</td>\n      <td>Какая разница, эти хрен пойми кто пользуются л...</td>\n      <td>Какая разница, эти хрен пойми кто пользуются л...</td>\n      <td>UgyKzwcKp0Rw0-FH8wV4AaABAg</td>\n      <td>Etot User</td>\n      <td>https://yt3.ggpht.com/ytc/AGIKgqMaYTJxLBVfm3T_...</td>\n      <td>http://www.youtube.com/channel/UCzuZycAMyCF-iA...</td>\n      <td>UCzuZycAMyCF-iADZqRrPRcA</td>\n      <td>True</td>\n      <td>none</td>\n      <td>0</td>\n      <td>2023-02-17T14:14:41Z</td>\n      <td>2023-02-17T14:14:41Z</td>\n      <td>NaN</td>\n    </tr>\n    <tr>\n      <th>...</th>\n      <td>...</td>\n      <td>...</td>\n      <td>...</td>\n      <td>...</td>\n      <td>...</td>\n      <td>...</td>\n      <td>...</td>\n      <td>...</td>\n      <td>...</td>\n      <td>...</td>\n      <td>...</td>\n      <td>...</td>\n      <td>...</td>\n      <td>...</td>\n      <td>...</td>\n      <td>...</td>\n      <td>...</td>\n    </tr>\n    <tr>\n      <th>19359</th>\n      <td>youtube#comment</td>\n      <td>YXzqHKyGT6IHAGgxsdmCPbHbmIY</td>\n      <td>Ugz0TAfUZPBszOTKKT94AaABAg.9lfS7ZusFkR9lfUD5jdi9J</td>\n      <td>xfYJyH41Jzo</td>\n      <td>@Людмила PRO Atomy Доступно всё объясняете, по...</td>\n      <td>@Людмила PRO Atomy Доступно всё объясняете, по...</td>\n      <td>Ugz0TAfUZPBszOTKKT94AaABAg</td>\n      <td>Ирина Семёнова</td>\n      <td>https://yt3.ggpht.com/ytc/AGIKgqOTUhFUV5-CDq-s...</td>\n      <td>http://www.youtube.com/channel/UCGs6guyWyzBE9W...</td>\n      <td>UCGs6guyWyzBE9Ws2RQVPBzQ</td>\n      <td>True</td>\n      <td>none</td>\n      <td>0</td>\n      <td>2023-02-03T13:56:54Z</td>\n      <td>2023-02-03T13:56:54Z</td>\n      <td>NaN</td>\n    </tr>\n    <tr>\n      <th>19360</th>\n      <td>youtube#comment</td>\n      <td>E57V0dBOAp-m5DVnlyNUqwtCI2I</td>\n      <td>Ugz0TAfUZPBszOTKKT94AaABAg.9lfS7ZusFkR9lfTqq3wIop</td>\n      <td>xfYJyH41Jzo</td>\n      <td>Ещё их можно использовать против морщин и не т...</td>\n      <td>Ещё их можно использовать против морщин и не т...</td>\n      <td>Ugz0TAfUZPBszOTKKT94AaABAg</td>\n      <td>Людмила PRO Atomy</td>\n      <td>https://yt3.ggpht.com/QcCXI4rzhA6UondTyoZ7Ctu6...</td>\n      <td>http://www.youtube.com/channel/UCzUsVYz2Bkn3Z_...</td>\n      <td>UCzUsVYz2Bkn3Z_dDzria3Jg</td>\n      <td>True</td>\n      <td>none</td>\n      <td>1</td>\n      <td>2023-02-03T13:53:44Z</td>\n      <td>2023-02-03T13:53:44Z</td>\n      <td>NaN</td>\n    </tr>\n    <tr>\n      <th>19361</th>\n      <td>youtube#comment</td>\n      <td>4xNm94k5j4Qs5YfBCYv_Do6aHvA</td>\n      <td>Ugz0TAfUZPBszOTKKT94AaABAg.9lfS7ZusFkR9lfTL3oE6Tg</td>\n      <td>xfYJyH41Jzo</td>\n      <td>Мне очень нравятся как убирают отеки и темные ...</td>\n      <td>Мне очень нравятся как убирают отеки и темные ...</td>\n      <td>Ugz0TAfUZPBszOTKKT94AaABAg</td>\n      <td>Людмила PRO Atomy</td>\n      <td>https://yt3.ggpht.com/QcCXI4rzhA6UondTyoZ7Ctu6...</td>\n      <td>http://www.youtube.com/channel/UCzUsVYz2Bkn3Z_...</td>\n      <td>UCzUsVYz2Bkn3Z_dDzria3Jg</td>\n      <td>True</td>\n      <td>none</td>\n      <td>1</td>\n      <td>2023-02-03T13:49:15Z</td>\n      <td>2023-02-03T13:49:15Z</td>\n      <td>NaN</td>\n    </tr>\n    <tr>\n      <th>19362</th>\n      <td>youtube#comment</td>\n      <td>Cv-a2OD6XXM_oqEEfrE0ORAkB00</td>\n      <td>UgxDV8TUXBzEVdMHRmJ4AaABAg.9nN1nTLl6er9nN24Qtemhn</td>\n      <td>9hTPdgbv9xs</td>\n      <td>В интернет-магазине Атоми.\\nНапишите мне Ватса...</td>\n      <td>В интернет-магазине Атоми.\\nНапишите мне Ватса...</td>\n      <td>UgxDV8TUXBzEVdMHRmJ4AaABAg</td>\n      <td>Людмила PRO Atomy</td>\n      <td>https://yt3.ggpht.com/QcCXI4rzhA6UondTyoZ7Ctu6...</td>\n      <td>http://www.youtube.com/channel/UCzUsVYz2Bkn3Z_...</td>\n      <td>UCzUsVYz2Bkn3Z_dDzria3Jg</td>\n      <td>True</td>\n      <td>none</td>\n      <td>0</td>\n      <td>2023-03-17T17:48:16Z</td>\n      <td>2023-03-17T17:48:16Z</td>\n      <td>NaN</td>\n    </tr>\n    <tr>\n      <th>19363</th>\n      <td>youtube#comment</td>\n      <td>TewE9xqDQ0UgeQW45eRtUCDoecQ</td>\n      <td>UgznQT_EEfXvR-LJnyV4AaABAg.9mVN8cvBfmW9mYlVlShANe</td>\n      <td>a3kYIzV-uyg</td>\n      <td>😀🫶🏻</td>\n      <td>😀🫶🏻</td>\n      <td>UgznQT_EEfXvR-LJnyV4AaABAg</td>\n      <td>Анна Ким</td>\n      <td>https://yt3.ggpht.com/iwxT8yUFiNULFSLKYxpIGZss...</td>\n      <td>http://www.youtube.com/channel/UCE0AvN-0fMzou-...</td>\n      <td>UCE0AvN-0fMzou-s9buvsYMQ</td>\n      <td>True</td>\n      <td>none</td>\n      <td>0</td>\n      <td>2023-02-25T10:34:12Z</td>\n      <td>2023-02-25T10:34:12Z</td>\n      <td>NaN</td>\n    </tr>\n  </tbody>\n</table>\n<p>19364 rows × 17 columns</p>\n</div>"
     },
     "metadata": {},
     "output_type": "display_data"
    }
   ],
   "source": [
    "# 15 Обработка реплаев\n",
    "\n",
    "replies_df = replies_df.drop_duplicates('id')\n",
    "replies_df = replies_df.reset_index(drop=True)\n",
    "\n",
    "display(replies_df)"
   ]
  },
  {
   "cell_type": "code",
   "execution_count": 19,
   "outputs": [],
   "source": [
    "# 16 Сохранение результатов по реплаям\n",
    "\n",
    "replies_df.to_excel(DATA_PATH / 'comment' / 'REPLY_TO_PARENT.xlsx', index=False)"
   ],
   "metadata": {
    "collapsed": false,
    "ExecuteTime": {
     "start_time": "2023-04-15T13:13:22.172518Z",
     "end_time": "2023-04-15T13:13:27.670937Z"
    }
   }
  },
  {
   "cell_type": "markdown",
   "source": [
    "### Проверка на соответствие количества ответов и заявленного числа комментариев"
   ],
   "metadata": {
    "collapsed": false
   }
  },
  {
   "cell_type": "code",
   "execution_count": 20,
   "outputs": [
    {
     "data": {
      "text/plain": "10915"
     },
     "execution_count": 20,
     "metadata": {},
     "output_type": "execute_result"
    }
   ],
   "source": [
    "# 17 Аггрегационный результат по реплаям\n",
    "\n",
    "agg_reply = replies_df.pivot_table(index='snippet.parentId', values='id', aggfunc='count')\n",
    "\n",
    "agg_reply = agg_reply.reset_index()\n",
    "\n",
    "# Делаем словарь, чтобы потом легко получать\n",
    "agg_reply_dict = dict(zip(agg_reply['snippet.parentId'].values, agg_reply['id'].values))\n",
    "len(agg_reply_dict.keys())"
   ],
   "metadata": {
    "collapsed": false,
    "ExecuteTime": {
     "start_time": "2023-04-15T13:13:27.670260Z",
     "end_time": "2023-04-15T13:13:27.701418Z"
    }
   }
  },
  {
   "cell_type": "code",
   "execution_count": 21,
   "outputs": [
    {
     "data": {
      "text/plain": "                 id\ncount  10915.000000\nmean       1.774072\nstd        1.236874\nmin        1.000000\n25%        1.000000\n50%        1.000000\n75%        2.000000\nmax        5.000000",
      "text/html": "<div>\n<style scoped>\n    .dataframe tbody tr th:only-of-type {\n        vertical-align: middle;\n    }\n\n    .dataframe tbody tr th {\n        vertical-align: top;\n    }\n\n    .dataframe thead th {\n        text-align: right;\n    }\n</style>\n<table border=\"1\" class=\"dataframe\">\n  <thead>\n    <tr style=\"text-align: right;\">\n      <th></th>\n      <th>id</th>\n    </tr>\n  </thead>\n  <tbody>\n    <tr>\n      <th>count</th>\n      <td>10915.000000</td>\n    </tr>\n    <tr>\n      <th>mean</th>\n      <td>1.774072</td>\n    </tr>\n    <tr>\n      <th>std</th>\n      <td>1.236874</td>\n    </tr>\n    <tr>\n      <th>min</th>\n      <td>1.000000</td>\n    </tr>\n    <tr>\n      <th>25%</th>\n      <td>1.000000</td>\n    </tr>\n    <tr>\n      <th>50%</th>\n      <td>1.000000</td>\n    </tr>\n    <tr>\n      <th>75%</th>\n      <td>2.000000</td>\n    </tr>\n    <tr>\n      <th>max</th>\n      <td>5.000000</td>\n    </tr>\n  </tbody>\n</table>\n</div>"
     },
     "metadata": {},
     "output_type": "display_data"
    }
   ],
   "source": [
    "# 18\n",
    "display(agg_reply.describe())"
   ],
   "metadata": {
    "collapsed": false,
    "ExecuteTime": {
     "start_time": "2023-04-15T13:13:27.689180Z",
     "end_time": "2023-04-15T13:13:27.721647Z"
    }
   }
  },
  {
   "cell_type": "code",
   "execution_count": 22,
   "outputs": [],
   "source": [
    "# 18 столбец для хранения настоящего результата\n",
    "comment_df['real_comments_cnt'] = None\n",
    "\n",
    "comment_df['real_comments_cnt'] = comment_df['id'].apply(lambda x: agg_reply_dict.get(x) if agg_reply_dict.get(x) else 0)"
   ],
   "metadata": {
    "collapsed": false,
    "ExecuteTime": {
     "start_time": "2023-04-15T13:13:27.719578Z",
     "end_time": "2023-04-15T13:13:27.755898Z"
    }
   }
  },
  {
   "cell_type": "code",
   "execution_count": 23,
   "outputs": [
    {
     "name": "stdout",
     "output_type": "stream",
     "text": [
      "Количество родительских комментариев, где кол-вол ответных комментариев совпало: 49525\n",
      "Количество родительских комментариев, где кол-вол ответных комментариев не совпало: 643\n"
     ]
    }
   ],
   "source": [
    "# 19\n",
    "\n",
    "len_similar = comment_df[comment_df['real_comments_cnt'] == comment_df['snippet.totalReplyCount']].shape[0]\n",
    "\n",
    "len_diff = comment_df[comment_df['real_comments_cnt'] != comment_df['snippet.totalReplyCount']].shape[0]\n",
    "\n",
    "print(\n",
    "    f'Количество родительских комментариев, где кол-вол ответных комментариев совпало: {len_similar}\\n'\n",
    "    f'Количество родительских комментариев, где кол-вол ответных комментариев не совпало: {len_diff}'\n",
    ")"
   ],
   "metadata": {
    "collapsed": false,
    "ExecuteTime": {
     "start_time": "2023-04-15T13:13:27.722677Z",
     "end_time": "2023-04-15T13:13:27.827733Z"
    }
   }
  },
  {
   "cell_type": "code",
   "execution_count": 24,
   "outputs": [
    {
     "data": {
      "text/plain": "                        kind                         etag  \\\n106    youtube#commentThread  H_yZPMNmJ8L6O9KH8Hx5tnMOTRs   \n163    youtube#commentThread  LYqXDRrpLDD6y3_AR3dkKxy4jG0   \n252    youtube#commentThread  IrpayY025P-P6ryCA9aj8BmgMtc   \n255    youtube#commentThread  uJPvtp6QeK_0sSEGucTf3_bEE0g   \n452    youtube#commentThread  vmRI8RDNOgbFEyl9anN75PQO8bs   \n...                      ...                          ...   \n50022  youtube#commentThread  -mG2uWPrhx-eclsvopR0e7tqIw8   \n50035  youtube#commentThread  _AJ7HVuqEkkujC9TB-E9MUYJHFE   \n50037  youtube#commentThread  OXaBC8m0E09FtJ6hGbypuKyMx7g   \n50042  youtube#commentThread  q_jjWuOEk2gCjeOIzCoYZ9nwDgk   \n50048  youtube#commentThread  f_EjknSA4sYyVKsJC-SGXVvklsU   \n\n                               id snippet.videoId  \\\n106    UgxuXTt18K16WoOsgap4AaABAg     AAjsSrjZXsw   \n163    Ugwb7hh4ArHLSCoSP_B4AaABAg     AAjsSrjZXsw   \n252    Ugwz-JAhzRnJk7jBA-94AaABAg     AAjsSrjZXsw   \n255    Ugyo0_Zg6m2kddzYqZ54AaABAg     AAjsSrjZXsw   \n452    Ugz7OQG44wVNQAfIGqt4AaABAg     AAjsSrjZXsw   \n...                           ...             ...   \n50022  UgxlPF5lifpv200K8DV4AaABAg     boB2LEXG_zA   \n50035  UgyNMcGbdzS3PJkhNp14AaABAg     boB2LEXG_zA   \n50037  UgwoVmpp_lEq_VXswT14AaABAg     boB2LEXG_zA   \n50042  UgxNv_ouG4lw2jlo6j14AaABAg     boB2LEXG_zA   \n50048  Ugwz6GshlUZMMumE9n54AaABAg     boB2LEXG_zA   \n\n             snippet.topLevelComment.snippet.textDisplay  \\\n106    Как можно быть уверенным, что и в том же Летуа...   \n163    Меня всегда удивляли эти люди. Патчи, скрабы, ...   \n252    На OZON столкнулся с глюком: в зависимости от ...   \n255    На Озон и Вайлдберриз 90% всех товаров подделк...   \n452    Меня смущает то, что в комментах ругают людей,...   \n...                                                  ...   \n50022  Нет там никакой жены Никколеты, а есть две под...   \n50035  про корейскую косметику. Я в россии всегда зак...   \n50037  Гуляй Россия!!!\\nКранты еуропе, \\nА в незалежн...   \n50042  Тут, Витюся, ты не совсем прав или совсем не п...   \n50048  Привет 🙋 марципан, кондитерское изделие из мин...   \n\n            snippet.topLevelComment.snippet.textOriginal  \\\n106    Как можно быть уверенным, что и в том же Летуа...   \n163    Меня всегда удивляли эти люди. Патчи, скрабы, ...   \n252    На OZON столкнулся с глюком: в зависимости от ...   \n255    На Озон и Вайлдберриз 90% всех товаров подделк...   \n452    Меня смущает то, что в комментах ругают людей,...   \n...                                                  ...   \n50022  Нет там никакой жены Никколеты, а есть две под...   \n50035  про корейскую косметику. Я в россии всегда зак...   \n50037  Гуляй Россия!!!\\nКранты еуропе, \\nА в незалежн...   \n50042  Тут, Витюся, ты не совсем прав или совсем не п...   \n50048  Привет 🙋 марципан, кондитерское изделие из мин...   \n\n      snippet.topLevelComment.snippet.authorDisplayName  \\\n106                                   Людмила Анисимова   \n163                                  Ярослава Приокская   \n252                                          Yoshitoshi   \n255                                                χ. ų   \n452                                         тоня клятис   \n...                                                 ...   \n50022                                           mila ya   \n50035                                     Марина Марина   \n50037                                     Марьям Варвар   \n50042                                          Luna Tu.   \n50048                                        jana elste   \n\n      snippet.topLevelComment.snippet.authorProfileImageUrl  \\\n106    https://yt3.ggpht.com/ytc/AGIKgqNcFf1UC0t1iGjf...      \n163    https://yt3.ggpht.com/rNoMi3RjKO9wE9jbyqtnRe5l...      \n252    https://yt3.ggpht.com/ytc/AGIKgqNlnmPaGKQWI4Hu...      \n255    https://yt3.ggpht.com/t8-Qzj-CXPWUWCl3rkudQhPP...      \n452    https://yt3.ggpht.com/u3pqNt_GXWfL5QKSPxPndjw7...      \n...                                                  ...      \n50022  https://yt3.ggpht.com/ytc/AGIKgqM5aYeMRQRhpADy...      \n50035  https://yt3.ggpht.com/ytc/AGIKgqPUKd0eJf_TkKkF...      \n50037  https://yt3.ggpht.com/ZORFihiVrXB7Oj_mUirDh_8d...      \n50042  https://yt3.ggpht.com/ytc/AGIKgqM0KwJO8BX9ePle...      \n50048  https://yt3.ggpht.com/ytc/AGIKgqMA5rlIXbthp2uR...      \n\n        snippet.topLevelComment.snippet.authorChannelUrl  \\\n106    http://www.youtube.com/channel/UC48SHdLsy0z_Lz...   \n163    http://www.youtube.com/channel/UCkMJe8Ppt3tgKU...   \n252    http://www.youtube.com/channel/UCNYkbVFuQ5FrA-...   \n255    http://www.youtube.com/channel/UC8Gd2U-q4n7m4_...   \n452    http://www.youtube.com/channel/UCZTYHjwempIget...   \n...                                                  ...   \n50022  http://www.youtube.com/channel/UC-_oX_k-j1GW0E...   \n50035  http://www.youtube.com/channel/UCy1Ot7WRtOLW5m...   \n50037  http://www.youtube.com/channel/UCT73eg1_GSh5BN...   \n50042  http://www.youtube.com/channel/UCPaDu5ZsrKT7Yc...   \n50048  http://www.youtube.com/channel/UCygEuiywjWNLST...   \n\n      snippet.topLevelComment.snippet.authorChannelId.value  ...  \\\n106                             UC48SHdLsy0z_LzaebG_z3Mg     ...   \n163                             UCkMJe8Ppt3tgKUu2qOAWUsQ     ...   \n252                             UCNYkbVFuQ5FrA-WBmO-dGwA     ...   \n255                             UC8Gd2U-q4n7m4_pMwkTt64A     ...   \n452                             UCZTYHjwempIgetpCAvSAx4w     ...   \n...                                                  ...     ...   \n50022                           UC-_oX_k-j1GW0E0ujDsJDww     ...   \n50035                           UCy1Ot7WRtOLW5mwPH3QNjyg     ...   \n50037                           UCT73eg1_GSh5BNbMw5D8PAA     ...   \n50042                           UCPaDu5ZsrKT7YcaVR-R7Vmg     ...   \n50048                           UCygEuiywjWNLSTlOewS404w     ...   \n\n       snippet.topLevelComment.snippet.viewerRating  \\\n106                                            none   \n163                                            none   \n252                                            none   \n255                                            none   \n452                                            none   \n...                                             ...   \n50022                                          none   \n50035                                          none   \n50037                                          none   \n50042                                          none   \n50048                                          none   \n\n      snippet.topLevelComment.snippet.likeCount  \\\n106                                          53   \n163                                           0   \n252                                           1   \n255                                           0   \n452                                         274   \n...                                         ...   \n50022                                        12   \n50035                                        12   \n50037                                        29   \n50042                                        11   \n50048                                         9   \n\n       snippet.topLevelComment.snippet.publishedAt  \\\n106                           2023-02-13T09:12:22Z   \n163                           2022-09-21T10:07:57Z   \n252                           2022-02-17T21:46:49Z   \n255                           2022-02-17T15:18:17Z   \n452                           2021-07-23T06:19:21Z   \n...                                            ...   \n50022                         2023-01-02T15:12:23Z   \n50035                         2023-01-02T14:42:16Z   \n50037                         2023-01-02T14:34:48Z   \n50042                         2023-01-02T14:28:05Z   \n50048                         2023-01-02T14:18:23Z   \n\n      snippet.topLevelComment.snippet.updatedAt snippet.canReply  \\\n106                        2023-02-13T09:12:22Z             True   \n163                        2022-09-21T10:07:57Z             True   \n252                        2022-02-17T21:46:49Z             True   \n255                        2022-02-17T15:24:03Z             True   \n452                        2021-07-23T06:19:21Z             True   \n...                                         ...              ...   \n50022                      2023-01-02T15:13:25Z             True   \n50035                      2023-01-02T14:42:16Z             True   \n50037                      2023-01-02T14:34:48Z             True   \n50042                      2023-01-02T14:28:05Z             True   \n50048                      2023-01-02T14:18:23Z             True   \n\n       snippet.totalReplyCount  snippet.isPublic  \\\n106                         12              True   \n163                         10              True   \n252                          8              True   \n255                          7              True   \n452                         13              True   \n...                        ...               ...   \n50022                        7              True   \n50035                       30              True   \n50037                       33              True   \n50042                       15              True   \n50048                       13              True   \n\n                                        replies.comments  \\\n106    [{'kind': 'youtube#comment', 'etag': 'JeHC1I1m...   \n163    [{'kind': 'youtube#comment', 'etag': 'RmHAwfIP...   \n252    [{'kind': 'youtube#comment', 'etag': 'UlDKXevO...   \n255    [{'kind': 'youtube#comment', 'etag': 'MPzW-v9w...   \n452    [{'kind': 'youtube#comment', 'etag': 'T8G3lgrC...   \n...                                                  ...   \n50022  [{'kind': 'youtube#comment', 'etag': 'ZvmeoCn3...   \n50035  [{'kind': 'youtube#comment', 'etag': 'w2VoXU5p...   \n50037  [{'kind': 'youtube#comment', 'etag': '6Dq0vM8d...   \n50042  [{'kind': 'youtube#comment', 'etag': '7D3dZWHq...   \n50048  [{'kind': 'youtube#comment', 'etag': 'dZF9a10H...   \n\n      snippet.topLevelComment.snippet.moderationStatus real_comments_cnt  \n106                                                NaN                 5  \n163                                                NaN                 5  \n252                                                NaN                 5  \n255                                                NaN                 5  \n452                                                NaN                 5  \n...                                                ...               ...  \n50022                                              NaN                 5  \n50035                                              NaN                 5  \n50037                                              NaN                 5  \n50042                                              NaN                 5  \n50048                                              NaN                 5  \n\n[643 rows x 21 columns]",
      "text/html": "<div>\n<style scoped>\n    .dataframe tbody tr th:only-of-type {\n        vertical-align: middle;\n    }\n\n    .dataframe tbody tr th {\n        vertical-align: top;\n    }\n\n    .dataframe thead th {\n        text-align: right;\n    }\n</style>\n<table border=\"1\" class=\"dataframe\">\n  <thead>\n    <tr style=\"text-align: right;\">\n      <th></th>\n      <th>kind</th>\n      <th>etag</th>\n      <th>id</th>\n      <th>snippet.videoId</th>\n      <th>snippet.topLevelComment.snippet.textDisplay</th>\n      <th>snippet.topLevelComment.snippet.textOriginal</th>\n      <th>snippet.topLevelComment.snippet.authorDisplayName</th>\n      <th>snippet.topLevelComment.snippet.authorProfileImageUrl</th>\n      <th>snippet.topLevelComment.snippet.authorChannelUrl</th>\n      <th>snippet.topLevelComment.snippet.authorChannelId.value</th>\n      <th>...</th>\n      <th>snippet.topLevelComment.snippet.viewerRating</th>\n      <th>snippet.topLevelComment.snippet.likeCount</th>\n      <th>snippet.topLevelComment.snippet.publishedAt</th>\n      <th>snippet.topLevelComment.snippet.updatedAt</th>\n      <th>snippet.canReply</th>\n      <th>snippet.totalReplyCount</th>\n      <th>snippet.isPublic</th>\n      <th>replies.comments</th>\n      <th>snippet.topLevelComment.snippet.moderationStatus</th>\n      <th>real_comments_cnt</th>\n    </tr>\n  </thead>\n  <tbody>\n    <tr>\n      <th>106</th>\n      <td>youtube#commentThread</td>\n      <td>H_yZPMNmJ8L6O9KH8Hx5tnMOTRs</td>\n      <td>UgxuXTt18K16WoOsgap4AaABAg</td>\n      <td>AAjsSrjZXsw</td>\n      <td>Как можно быть уверенным, что и в том же Летуа...</td>\n      <td>Как можно быть уверенным, что и в том же Летуа...</td>\n      <td>Людмила Анисимова</td>\n      <td>https://yt3.ggpht.com/ytc/AGIKgqNcFf1UC0t1iGjf...</td>\n      <td>http://www.youtube.com/channel/UC48SHdLsy0z_Lz...</td>\n      <td>UC48SHdLsy0z_LzaebG_z3Mg</td>\n      <td>...</td>\n      <td>none</td>\n      <td>53</td>\n      <td>2023-02-13T09:12:22Z</td>\n      <td>2023-02-13T09:12:22Z</td>\n      <td>True</td>\n      <td>12</td>\n      <td>True</td>\n      <td>[{'kind': 'youtube#comment', 'etag': 'JeHC1I1m...</td>\n      <td>NaN</td>\n      <td>5</td>\n    </tr>\n    <tr>\n      <th>163</th>\n      <td>youtube#commentThread</td>\n      <td>LYqXDRrpLDD6y3_AR3dkKxy4jG0</td>\n      <td>Ugwb7hh4ArHLSCoSP_B4AaABAg</td>\n      <td>AAjsSrjZXsw</td>\n      <td>Меня всегда удивляли эти люди. Патчи, скрабы, ...</td>\n      <td>Меня всегда удивляли эти люди. Патчи, скрабы, ...</td>\n      <td>Ярослава Приокская</td>\n      <td>https://yt3.ggpht.com/rNoMi3RjKO9wE9jbyqtnRe5l...</td>\n      <td>http://www.youtube.com/channel/UCkMJe8Ppt3tgKU...</td>\n      <td>UCkMJe8Ppt3tgKUu2qOAWUsQ</td>\n      <td>...</td>\n      <td>none</td>\n      <td>0</td>\n      <td>2022-09-21T10:07:57Z</td>\n      <td>2022-09-21T10:07:57Z</td>\n      <td>True</td>\n      <td>10</td>\n      <td>True</td>\n      <td>[{'kind': 'youtube#comment', 'etag': 'RmHAwfIP...</td>\n      <td>NaN</td>\n      <td>5</td>\n    </tr>\n    <tr>\n      <th>252</th>\n      <td>youtube#commentThread</td>\n      <td>IrpayY025P-P6ryCA9aj8BmgMtc</td>\n      <td>Ugwz-JAhzRnJk7jBA-94AaABAg</td>\n      <td>AAjsSrjZXsw</td>\n      <td>На OZON столкнулся с глюком: в зависимости от ...</td>\n      <td>На OZON столкнулся с глюком: в зависимости от ...</td>\n      <td>Yoshitoshi</td>\n      <td>https://yt3.ggpht.com/ytc/AGIKgqNlnmPaGKQWI4Hu...</td>\n      <td>http://www.youtube.com/channel/UCNYkbVFuQ5FrA-...</td>\n      <td>UCNYkbVFuQ5FrA-WBmO-dGwA</td>\n      <td>...</td>\n      <td>none</td>\n      <td>1</td>\n      <td>2022-02-17T21:46:49Z</td>\n      <td>2022-02-17T21:46:49Z</td>\n      <td>True</td>\n      <td>8</td>\n      <td>True</td>\n      <td>[{'kind': 'youtube#comment', 'etag': 'UlDKXevO...</td>\n      <td>NaN</td>\n      <td>5</td>\n    </tr>\n    <tr>\n      <th>255</th>\n      <td>youtube#commentThread</td>\n      <td>uJPvtp6QeK_0sSEGucTf3_bEE0g</td>\n      <td>Ugyo0_Zg6m2kddzYqZ54AaABAg</td>\n      <td>AAjsSrjZXsw</td>\n      <td>На Озон и Вайлдберриз 90% всех товаров подделк...</td>\n      <td>На Озон и Вайлдберриз 90% всех товаров подделк...</td>\n      <td>χ. ų</td>\n      <td>https://yt3.ggpht.com/t8-Qzj-CXPWUWCl3rkudQhPP...</td>\n      <td>http://www.youtube.com/channel/UC8Gd2U-q4n7m4_...</td>\n      <td>UC8Gd2U-q4n7m4_pMwkTt64A</td>\n      <td>...</td>\n      <td>none</td>\n      <td>0</td>\n      <td>2022-02-17T15:18:17Z</td>\n      <td>2022-02-17T15:24:03Z</td>\n      <td>True</td>\n      <td>7</td>\n      <td>True</td>\n      <td>[{'kind': 'youtube#comment', 'etag': 'MPzW-v9w...</td>\n      <td>NaN</td>\n      <td>5</td>\n    </tr>\n    <tr>\n      <th>452</th>\n      <td>youtube#commentThread</td>\n      <td>vmRI8RDNOgbFEyl9anN75PQO8bs</td>\n      <td>Ugz7OQG44wVNQAfIGqt4AaABAg</td>\n      <td>AAjsSrjZXsw</td>\n      <td>Меня смущает то, что в комментах ругают людей,...</td>\n      <td>Меня смущает то, что в комментах ругают людей,...</td>\n      <td>тоня клятис</td>\n      <td>https://yt3.ggpht.com/u3pqNt_GXWfL5QKSPxPndjw7...</td>\n      <td>http://www.youtube.com/channel/UCZTYHjwempIget...</td>\n      <td>UCZTYHjwempIgetpCAvSAx4w</td>\n      <td>...</td>\n      <td>none</td>\n      <td>274</td>\n      <td>2021-07-23T06:19:21Z</td>\n      <td>2021-07-23T06:19:21Z</td>\n      <td>True</td>\n      <td>13</td>\n      <td>True</td>\n      <td>[{'kind': 'youtube#comment', 'etag': 'T8G3lgrC...</td>\n      <td>NaN</td>\n      <td>5</td>\n    </tr>\n    <tr>\n      <th>...</th>\n      <td>...</td>\n      <td>...</td>\n      <td>...</td>\n      <td>...</td>\n      <td>...</td>\n      <td>...</td>\n      <td>...</td>\n      <td>...</td>\n      <td>...</td>\n      <td>...</td>\n      <td>...</td>\n      <td>...</td>\n      <td>...</td>\n      <td>...</td>\n      <td>...</td>\n      <td>...</td>\n      <td>...</td>\n      <td>...</td>\n      <td>...</td>\n      <td>...</td>\n      <td>...</td>\n    </tr>\n    <tr>\n      <th>50022</th>\n      <td>youtube#commentThread</td>\n      <td>-mG2uWPrhx-eclsvopR0e7tqIw8</td>\n      <td>UgxlPF5lifpv200K8DV4AaABAg</td>\n      <td>boB2LEXG_zA</td>\n      <td>Нет там никакой жены Никколеты, а есть две под...</td>\n      <td>Нет там никакой жены Никколеты, а есть две под...</td>\n      <td>mila ya</td>\n      <td>https://yt3.ggpht.com/ytc/AGIKgqM5aYeMRQRhpADy...</td>\n      <td>http://www.youtube.com/channel/UC-_oX_k-j1GW0E...</td>\n      <td>UC-_oX_k-j1GW0E0ujDsJDww</td>\n      <td>...</td>\n      <td>none</td>\n      <td>12</td>\n      <td>2023-01-02T15:12:23Z</td>\n      <td>2023-01-02T15:13:25Z</td>\n      <td>True</td>\n      <td>7</td>\n      <td>True</td>\n      <td>[{'kind': 'youtube#comment', 'etag': 'ZvmeoCn3...</td>\n      <td>NaN</td>\n      <td>5</td>\n    </tr>\n    <tr>\n      <th>50035</th>\n      <td>youtube#commentThread</td>\n      <td>_AJ7HVuqEkkujC9TB-E9MUYJHFE</td>\n      <td>UgyNMcGbdzS3PJkhNp14AaABAg</td>\n      <td>boB2LEXG_zA</td>\n      <td>про корейскую косметику. Я в россии всегда зак...</td>\n      <td>про корейскую косметику. Я в россии всегда зак...</td>\n      <td>Марина Марина</td>\n      <td>https://yt3.ggpht.com/ytc/AGIKgqPUKd0eJf_TkKkF...</td>\n      <td>http://www.youtube.com/channel/UCy1Ot7WRtOLW5m...</td>\n      <td>UCy1Ot7WRtOLW5mwPH3QNjyg</td>\n      <td>...</td>\n      <td>none</td>\n      <td>12</td>\n      <td>2023-01-02T14:42:16Z</td>\n      <td>2023-01-02T14:42:16Z</td>\n      <td>True</td>\n      <td>30</td>\n      <td>True</td>\n      <td>[{'kind': 'youtube#comment', 'etag': 'w2VoXU5p...</td>\n      <td>NaN</td>\n      <td>5</td>\n    </tr>\n    <tr>\n      <th>50037</th>\n      <td>youtube#commentThread</td>\n      <td>OXaBC8m0E09FtJ6hGbypuKyMx7g</td>\n      <td>UgwoVmpp_lEq_VXswT14AaABAg</td>\n      <td>boB2LEXG_zA</td>\n      <td>Гуляй Россия!!!\\nКранты еуропе, \\nА в незалежн...</td>\n      <td>Гуляй Россия!!!\\nКранты еуропе, \\nА в незалежн...</td>\n      <td>Марьям Варвар</td>\n      <td>https://yt3.ggpht.com/ZORFihiVrXB7Oj_mUirDh_8d...</td>\n      <td>http://www.youtube.com/channel/UCT73eg1_GSh5BN...</td>\n      <td>UCT73eg1_GSh5BNbMw5D8PAA</td>\n      <td>...</td>\n      <td>none</td>\n      <td>29</td>\n      <td>2023-01-02T14:34:48Z</td>\n      <td>2023-01-02T14:34:48Z</td>\n      <td>True</td>\n      <td>33</td>\n      <td>True</td>\n      <td>[{'kind': 'youtube#comment', 'etag': '6Dq0vM8d...</td>\n      <td>NaN</td>\n      <td>5</td>\n    </tr>\n    <tr>\n      <th>50042</th>\n      <td>youtube#commentThread</td>\n      <td>q_jjWuOEk2gCjeOIzCoYZ9nwDgk</td>\n      <td>UgxNv_ouG4lw2jlo6j14AaABAg</td>\n      <td>boB2LEXG_zA</td>\n      <td>Тут, Витюся, ты не совсем прав или совсем не п...</td>\n      <td>Тут, Витюся, ты не совсем прав или совсем не п...</td>\n      <td>Luna Tu.</td>\n      <td>https://yt3.ggpht.com/ytc/AGIKgqM0KwJO8BX9ePle...</td>\n      <td>http://www.youtube.com/channel/UCPaDu5ZsrKT7Yc...</td>\n      <td>UCPaDu5ZsrKT7YcaVR-R7Vmg</td>\n      <td>...</td>\n      <td>none</td>\n      <td>11</td>\n      <td>2023-01-02T14:28:05Z</td>\n      <td>2023-01-02T14:28:05Z</td>\n      <td>True</td>\n      <td>15</td>\n      <td>True</td>\n      <td>[{'kind': 'youtube#comment', 'etag': '7D3dZWHq...</td>\n      <td>NaN</td>\n      <td>5</td>\n    </tr>\n    <tr>\n      <th>50048</th>\n      <td>youtube#commentThread</td>\n      <td>f_EjknSA4sYyVKsJC-SGXVvklsU</td>\n      <td>Ugwz6GshlUZMMumE9n54AaABAg</td>\n      <td>boB2LEXG_zA</td>\n      <td>Привет 🙋 марципан, кондитерское изделие из мин...</td>\n      <td>Привет 🙋 марципан, кондитерское изделие из мин...</td>\n      <td>jana elste</td>\n      <td>https://yt3.ggpht.com/ytc/AGIKgqMA5rlIXbthp2uR...</td>\n      <td>http://www.youtube.com/channel/UCygEuiywjWNLST...</td>\n      <td>UCygEuiywjWNLSTlOewS404w</td>\n      <td>...</td>\n      <td>none</td>\n      <td>9</td>\n      <td>2023-01-02T14:18:23Z</td>\n      <td>2023-01-02T14:18:23Z</td>\n      <td>True</td>\n      <td>13</td>\n      <td>True</td>\n      <td>[{'kind': 'youtube#comment', 'etag': 'dZF9a10H...</td>\n      <td>NaN</td>\n      <td>5</td>\n    </tr>\n  </tbody>\n</table>\n<p>643 rows × 21 columns</p>\n</div>"
     },
     "metadata": {},
     "output_type": "display_data"
    }
   ],
   "source": [
    "# 20\n",
    "display(comment_df[comment_df['real_comments_cnt'] != comment_df['snippet.totalReplyCount']])"
   ],
   "metadata": {
    "collapsed": false,
    "ExecuteTime": {
     "start_time": "2023-04-15T13:13:27.773106Z",
     "end_time": "2023-04-15T13:13:27.828489Z"
    }
   }
  },
  {
   "cell_type": "code",
   "execution_count": 25,
   "outputs": [],
   "source": [
    "# 21 Сохранение массива родительских комментариев\n",
    "\n",
    "comment_df = comment_df.drop(columns=['replies.comments'])\n",
    "\n",
    "comment_df.to_excel(DATA_PATH / 'comment' / 'Parent_Comments_V2.xlsx', index=False)"
   ],
   "metadata": {
    "collapsed": false,
    "ExecuteTime": {
     "start_time": "2023-04-15T13:13:27.778185Z",
     "end_time": "2023-04-15T13:13:42.299687Z"
    }
   }
  }
 ],
 "metadata": {
  "kernelspec": {
   "display_name": "Python 3 (ipykernel)",
   "language": "python",
   "name": "python3"
  },
  "language_info": {
   "codemirror_mode": {
    "name": "ipython",
    "version": 3
   },
   "file_extension": ".py",
   "mimetype": "text/x-python",
   "name": "python",
   "nbconvert_exporter": "python",
   "pygments_lexer": "ipython3",
   "version": "3.9.13"
  }
 },
 "nbformat": 4,
 "nbformat_minor": 1
}
