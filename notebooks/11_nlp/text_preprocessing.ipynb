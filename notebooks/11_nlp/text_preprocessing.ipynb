{
 "cells": [
  {
   "cell_type": "markdown",
   "source": [
    "# Text Preprocessing"
   ],
   "metadata": {
    "collapsed": false
   }
  },
  {
   "cell_type": "code",
   "execution_count": 79,
   "outputs": [],
   "source": [
    "# 1\n",
    "import pandas as pd\n",
    "import yaml\n",
    "import os\n",
    "import pathlib\n",
    "\n",
    "ROOT = pathlib.Path().resolve().parent.parent\n",
    "\n",
    "with open(ROOT / \"config.yml\", \"r\") as f:\n",
    "    config = yaml.load(f, Loader=yaml.FullLoader)\n",
    "\n",
    "DATA_PATH = ROOT / config['api']['DATA_PATH']"
   ],
   "metadata": {
    "collapsed": false,
    "ExecuteTime": {
     "end_time": "2023-05-13T10:42:45.061236Z",
     "start_time": "2023-05-13T10:42:45.055016Z"
    }
   }
  },
  {
   "cell_type": "code",
   "execution_count": 80,
   "outputs": [],
   "source": [
    "# 2\n",
    "\n",
    "comments = pd.read_excel(DATA_PATH / 'comment' / 'Parent_Comments_UNION.xlsx')"
   ],
   "metadata": {
    "collapsed": false,
    "ExecuteTime": {
     "end_time": "2023-05-13T10:42:59.885162Z",
     "start_time": "2023-05-13T10:42:45.339053Z"
    }
   }
  },
  {
   "cell_type": "code",
   "execution_count": 80,
   "outputs": [],
   "source": [],
   "metadata": {
    "collapsed": false,
    "ExecuteTime": {
     "end_time": "2023-05-13T10:42:59.887505Z",
     "start_time": "2023-05-13T10:42:59.884529Z"
    }
   }
  },
  {
   "cell_type": "code",
   "execution_count": 81,
   "outputs": [],
   "source": [
    "# 3\n",
    "comments = comments.dropna(subset=['snippet.textOriginal'])"
   ],
   "metadata": {
    "collapsed": false,
    "ExecuteTime": {
     "end_time": "2023-05-13T10:42:59.991982Z",
     "start_time": "2023-05-13T10:42:59.895159Z"
    }
   }
  },
  {
   "cell_type": "code",
   "execution_count": 82,
   "outputs": [
    {
     "name": "stdout",
     "output_type": "stream",
     "text": [
      "<class 'pandas.core.frame.DataFrame'>\n",
      "Int64Index: 74949 entries, 0 to 74962\n",
      "Data columns (total 20 columns):\n",
      " #   Column                         Non-Null Count  Dtype  \n",
      "---  ------                         --------------  -----  \n",
      " 0   kind                           74949 non-null  object \n",
      " 1   etag                           74949 non-null  object \n",
      " 2   id                             74949 non-null  object \n",
      " 3   snippet.videoId                74949 non-null  object \n",
      " 4   snippet.textDisplay            74949 non-null  object \n",
      " 5   snippet.textOriginal           74949 non-null  object \n",
      " 6   snippet.authorDisplayName      74939 non-null  object \n",
      " 7   snippet.authorProfileImageUrl  74949 non-null  object \n",
      " 8   snippet.authorChannelUrl       74943 non-null  object \n",
      " 9   snippet.authorChannelId.value  74943 non-null  object \n",
      " 10  snippet.canRate                74949 non-null  bool   \n",
      " 11  snippet.viewerRating           74949 non-null  object \n",
      " 12  snippet.likeCount              74949 non-null  int64  \n",
      " 13  snippet.publishedAt            74949 non-null  object \n",
      " 14  snippet.updatedAt              74949 non-null  object \n",
      " 15  snippet.canReply               50540 non-null  float64\n",
      " 16  snippet.totalReplyCount        50540 non-null  float64\n",
      " 17  snippet.isPublic               50540 non-null  float64\n",
      " 18  snippet.moderationStatus       445 non-null    object \n",
      " 19  snippet.parentId               74949 non-null  object \n",
      "dtypes: bool(1), float64(3), int64(1), object(15)\n",
      "memory usage: 11.5+ MB\n"
     ]
    }
   ],
   "source": [
    "comments.info()"
   ],
   "metadata": {
    "collapsed": false,
    "ExecuteTime": {
     "end_time": "2023-05-13T10:43:00.069333Z",
     "start_time": "2023-05-13T10:42:59.975230Z"
    }
   }
  },
  {
   "cell_type": "markdown",
   "source": [
    "# Текст процессинг"
   ],
   "metadata": {
    "collapsed": false
   }
  },
  {
   "cell_type": "code",
   "execution_count": 93,
   "outputs": [],
   "source": [
    "corpora = list(comments['snippet.textOriginal'].values)"
   ],
   "metadata": {
    "collapsed": false,
    "ExecuteTime": {
     "end_time": "2023-05-13T10:46:04.037896Z",
     "start_time": "2023-05-13T10:46:04.036035Z"
    }
   }
  },
  {
   "cell_type": "code",
   "execution_count": 94,
   "outputs": [
    {
     "name": "stderr",
     "output_type": "stream",
     "text": [
      "[nltk_data] Downloading package stopwords to\n",
      "[nltk_data]     /Users/andrey/nltk_data...\n",
      "[nltk_data]   Package stopwords is already up-to-date!\n"
     ]
    },
    {
     "data": {
      "text/plain": "'и, в, во, не, что, он, на, я, с, со, как, а, то, все, она, так, его, но, да, ты, к, у, же, вы, за, бы, по, только, ее, мне, было, вот, от, меня, еще, нет, о, из, ему, теперь, когда, даже, ну, вдруг, ли, если, уже, или, ни, быть, был, него, до, вас, нибудь, опять, уж, вам, ведь, там, потом, себя, ничего, ей, может, они, тут, где, есть, надо, ней, для, мы, тебя, их, чем, была, сам, чтоб, без, будто, чего, раз, тоже, себе, под, будет, ж, тогда, кто, этот, того, потому, этого, какой, совсем, ним, здесь, этом, один, почти, мой, тем, чтобы, нее, сейчас, были, куда, зачем, всех, никогда, можно, при, наконец, два, об, другой, хоть, после, над, больше, тот, через, эти, нас, про, всего, них, какая, много, разве, три, эту, моя, впрочем, хорошо, свою, этой, перед, иногда, лучше, чуть, том, нельзя, такой, им, более, всегда, конечно, всю, между'"
     },
     "execution_count": 94,
     "metadata": {},
     "output_type": "execute_result"
    }
   ],
   "source": [
    "# download stopwords corpus, you need to run it once\n",
    "import nltk\n",
    "nltk.download(\"stopwords\")\n",
    "#--------#\n",
    "\n",
    "from nltk.corpus import stopwords\n",
    "from pymystem3 import Mystem\n",
    "from string import punctuation\n",
    "\n",
    "\n",
    "#Create lemmatizer and stopwords list\n",
    "mystem = Mystem()\n",
    "russian_stopwords = stopwords.words(\"russian\")\n",
    "\n",
    "\", \".join(russian_stopwords)"
   ],
   "metadata": {
    "collapsed": false,
    "ExecuteTime": {
     "end_time": "2023-05-13T10:46:04.468899Z",
     "start_time": "2023-05-13T10:46:04.259484Z"
    }
   }
  },
  {
   "cell_type": "code",
   "execution_count": 95,
   "outputs": [],
   "source": [
    "#Preprocess functions\n",
    "import string\n",
    "import re\n",
    "\n",
    "PUNCT_TO_REMOVE = string.punctuation\n",
    "\n",
    "def remove_tabs(text): #убираем дичь со специальными символами\n",
    "    return text.translate(str.maketrans(\"\\n\\t\\r\", \"   \"))\n",
    "\n",
    "def remove_punct(text):\n",
    "    return re.sub(r'[^a-zA-Zа-яА-ЯёЁ]+',' ', text)\n",
    "\n",
    "def remove_urls(text):\n",
    "    return re.sub(r'http\\S+', '', text, flags=re.MULTILINE)\n",
    "\n",
    "def remove_mentions(text):\n",
    "    return re.sub(\"@[A-Za-z0-9_]+\",\"\", text)\n",
    "\n",
    "def remove_hashtags(text):\n",
    "    return re.sub(\"#[A-Za-z0-9_]+\",\"\", text)\n",
    "\n",
    "\n",
    "def preprocess_text(text):\n",
    "    text = remove_urls(text)\n",
    "    text = remove_tabs(text)\n",
    "    text = remove_mentions(text)\n",
    "    text = remove_hashtags(text)\n",
    "\n",
    "    text = remove_punct(text)\n",
    "\n",
    "    tokens = mystem.lemmatize(text.lower())\n",
    "\n",
    "    tokens = [token for token in tokens if token not in russian_stopwords\\\n",
    "              and token != \" \" \\\n",
    "              and token.strip() not in punctuation]\n",
    "\n",
    "    text = \" \".join(tokens)\n",
    "\n",
    "    return text"
   ],
   "metadata": {
    "collapsed": false,
    "ExecuteTime": {
     "end_time": "2023-05-13T10:46:04.568094Z",
     "start_time": "2023-05-13T10:46:04.563410Z"
    }
   }
  },
  {
   "cell_type": "code",
   "execution_count": 96,
   "outputs": [
    {
     "name": "stdout",
     "output_type": "stream",
     "text": [
      "У нас в стране сейчас оригинал вообще не купить по ходу😂😂😂😂😂\n",
      "==========After==========\n",
      "страна оригинал вообще купить ход\n"
     ]
    }
   ],
   "source": [
    "import numpy as np\n",
    "\n",
    "test = corpora[14]\n",
    "\n",
    "print(test)\n",
    "print('='*10 + 'After' + '='*10)\n",
    "print(preprocess_text(test))"
   ],
   "metadata": {
    "collapsed": false,
    "ExecuteTime": {
     "end_time": "2023-05-13T10:46:05.695304Z",
     "start_time": "2023-05-13T10:46:04.774352Z"
    }
   }
  },
  {
   "cell_type": "code",
   "execution_count": 97,
   "outputs": [],
   "source": [
    "preprocessed_corpora = [preprocess_text(t) for t in corpora]"
   ],
   "metadata": {
    "collapsed": false,
    "ExecuteTime": {
     "end_time": "2023-05-13T10:46:48.753199Z",
     "start_time": "2023-05-13T10:46:05.694384Z"
    }
   }
  },
  {
   "cell_type": "code",
   "execution_count": 98,
   "outputs": [],
   "source": [
    "comments['preprocessed_text'] = preprocessed_corpora\n",
    "\n",
    "comments.to_csv(DATA_PATH / 'comment' / 'comments.csv', sep='\\t', index=False)"
   ],
   "metadata": {
    "collapsed": false,
    "ExecuteTime": {
     "end_time": "2023-05-13T10:46:49.585279Z",
     "start_time": "2023-05-13T10:46:48.762322Z"
    }
   }
  },
  {
   "cell_type": "markdown",
   "source": [
    "# Оценка количества слов"
   ],
   "metadata": {
    "collapsed": false
   }
  },
  {
   "cell_type": "code",
   "execution_count": 72,
   "outputs": [],
   "source": [
    "comments['word_count'] = comments['preprocessed_text'].apply(lambda x: len(x.split()))\n",
    "comments['sym_count'] = comments['preprocessed_text'].apply(lambda x: len(x))"
   ],
   "metadata": {
    "collapsed": false,
    "ExecuteTime": {
     "end_time": "2023-05-13T10:26:23.666591Z",
     "start_time": "2023-05-13T10:26:23.659011Z"
    }
   }
  },
  {
   "cell_type": "code",
   "execution_count": 73,
   "outputs": [
    {
     "data": {
      "text/plain": "count    382.000000\nmean      12.965969\nstd       15.728383\nmin        0.000000\n25%        4.000000\n50%        9.000000\n75%       15.000000\nmax      124.000000\nName: word_count, dtype: float64"
     },
     "execution_count": 73,
     "metadata": {},
     "output_type": "execute_result"
    }
   ],
   "source": [
    "comments['word_count'].describe()"
   ],
   "metadata": {
    "collapsed": false,
    "ExecuteTime": {
     "end_time": "2023-05-13T10:26:23.993058Z",
     "start_time": "2023-05-13T10:26:23.981068Z"
    }
   }
  },
  {
   "cell_type": "code",
   "execution_count": 74,
   "outputs": [
    {
     "data": {
      "text/plain": "<AxesSubplot: >"
     },
     "execution_count": 74,
     "metadata": {},
     "output_type": "execute_result"
    },
    {
     "data": {
      "text/plain": "<Figure size 640x480 with 1 Axes>",
      "image/png": "[encoded data removed]"
     },
     "metadata": {},
     "output_type": "display_data"
    }
   ],
   "source": [
    "comments['word_count'].hist(bins=100)"
   ],
   "metadata": {
    "collapsed": false,
    "ExecuteTime": {
     "end_time": "2023-05-13T10:26:24.587201Z",
     "start_time": "2023-05-13T10:26:24.482442Z"
    }
   }
  },
  {
   "cell_type": "code",
   "execution_count": 75,
   "outputs": [
    {
     "data": {
      "text/plain": "count    382.000000\nmean     102.604712\nstd      124.485791\nmin        0.000000\n25%       33.250000\n50%       69.500000\n75%      121.500000\nmax      959.000000\nName: sym_count, dtype: float64"
     },
     "execution_count": 75,
     "metadata": {},
     "output_type": "execute_result"
    }
   ],
   "source": [
    "comments['sym_count'].describe()"
   ],
   "metadata": {
    "collapsed": false,
    "ExecuteTime": {
     "end_time": "2023-05-13T10:26:25.438565Z",
     "start_time": "2023-05-13T10:26:25.428894Z"
    }
   }
  },
  {
   "cell_type": "code",
   "execution_count": 76,
   "outputs": [
    {
     "data": {
      "text/plain": "<AxesSubplot: >"
     },
     "execution_count": 76,
     "metadata": {},
     "output_type": "execute_result"
    },
    {
     "data": {
      "text/plain": "<Figure size 640x480 with 1 Axes>",
      "image/png": "[encoded data removed]"
     },
     "metadata": {},
     "output_type": "display_data"
    }
   ],
   "source": [
    "comments['sym_count'].hist(bins=100)"
   ],
   "metadata": {
    "collapsed": false,
    "ExecuteTime": {
     "end_time": "2023-05-13T10:26:26.664160Z",
     "start_time": "2023-05-13T10:26:26.540594Z"
    }
   }
  },
  {
   "cell_type": "markdown",
   "source": [
    "Большинство наблюдений не превышает 50 слов в комментариях\n",
    "Большинство наблюдений не превышает 200 символов в комментариях"
   ],
   "metadata": {
    "collapsed": false
   }
  },
  {
   "cell_type": "markdown",
   "source": [
    "# Оценка токенов"
   ],
   "metadata": {
    "collapsed": false
   }
  },
  {
   "cell_type": "code",
   "execution_count": 89,
   "outputs": [],
   "source": [
    "from nltk import word_tokenize\n",
    "\n",
    "all_text = [word_tokenize(line) for line in preprocessed_corpora]"
   ],
   "metadata": {
    "collapsed": false,
    "ExecuteTime": {
     "end_time": "2023-05-13T10:45:10.956568Z",
     "start_time": "2023-05-13T10:45:10.709839Z"
    }
   }
  },
  {
   "cell_type": "code",
   "execution_count": 90,
   "outputs": [
    {
     "name": "stdout",
     "output_type": "stream",
     "text": [
      "('это', 1145)\n",
      "('косметика', 887)\n",
      "('озон', 759)\n",
      "('заказывать', 595)\n",
      "('покупать', 515)\n",
      "('видео', 505)\n",
      "('спасибо', 503)\n",
      "('очень', 479)\n",
      "('весь', 462)\n",
      "('оригинал', 456)\n"
     ]
    }
   ],
   "source": [
    "from nltk import FreqDist\n",
    "\n",
    "\n",
    "n_types = []\n",
    "n_tokens = []\n",
    "fd = FreqDist()\n",
    "for line in all_text:\n",
    "    fd.update(line)\n",
    "    n_types.append(len(fd))\n",
    "    n_tokens.append(sum(list(fd.values())))\n",
    "for i in fd.most_common(10):\n",
    "    print(i)"
   ],
   "metadata": {
    "collapsed": false,
    "ExecuteTime": {
     "end_time": "2023-05-13T10:45:11.580321Z",
     "start_time": "2023-05-13T10:45:11.361739Z"
    }
   }
  },
  {
   "cell_type": "markdown",
   "source": [
    "## Закон Ципфа\n",
    "В любом достаточно большом тексте ранг типа обратно пропорционален его частоте: f=a/r\n",
    "\n",
    "f – частота типа, r – ранг типа, a – параметр, для славянских языков – около 0.07"
   ],
   "metadata": {
    "collapsed": false
   }
  },
  {
   "cell_type": "code",
   "execution_count": 91,
   "outputs": [
    {
     "data": {
      "text/plain": "<Figure size 640x480 with 1 Axes>",
      "image/png": "[encoded data removed]"
     },
     "metadata": {},
     "output_type": "display_data"
    }
   ],
   "source": [
    "import matplotlib.pyplot as plt\n",
    "\n",
    "freqs = list(fd.values())\n",
    "freqs = sorted(freqs, reverse = True)\n",
    "\n",
    "fig, ax = plt.subplots()\n",
    "ax.plot(freqs[:300], range(300))\n",
    "plt.show()"
   ],
   "metadata": {
    "collapsed": false,
    "ExecuteTime": {
     "end_time": "2023-05-13T10:45:13.117533Z",
     "start_time": "2023-05-13T10:45:13.025768Z"
    }
   }
  },
  {
   "cell_type": "markdown",
   "source": [
    "## Закон Хипса\n",
    "С увеличением длины текста (количества токенов), количество типов увеличивается в соответствии с законом: |V|=K∗N^b\n",
    "\n",
    "N – число токенов, |V| – количество типов в словаре, K,b – параметры, обычно K∈[10,100],b∈[0.4,0.6]"
   ],
   "metadata": {
    "collapsed": false
   }
  },
  {
   "cell_type": "code",
   "execution_count": 92,
   "outputs": [
    {
     "data": {
      "text/plain": "<Figure size 640x480 with 1 Axes>",
      "image/png": "[encoded data removed]"
     },
     "metadata": {},
     "output_type": "display_data"
    }
   ],
   "source": [
    "fig, ax = plt.subplots()\n",
    "ax.plot(n_types, n_tokens)\n",
    "plt.show()"
   ],
   "metadata": {
    "collapsed": false,
    "ExecuteTime": {
     "end_time": "2023-05-13T10:45:18.632167Z",
     "start_time": "2023-05-13T10:45:18.553753Z"
    }
   }
  },
  {
   "cell_type": "code",
   "execution_count": null,
   "outputs": [],
   "source": [],
   "metadata": {
    "collapsed": false
   }
  }
 ],
 "metadata": {
  "kernelspec": {
   "display_name": "Python 3",
   "language": "python",
   "name": "python3"
  },
  "language_info": {
   "codemirror_mode": {
    "name": "ipython",
    "version": 2
   },
   "file_extension": ".py",
   "mimetype": "text/x-python",
   "name": "python",
   "nbconvert_exporter": "python",
   "pygments_lexer": "ipython2",
   "version": "2.7.6"
  }
 },
 "nbformat": 4,
 "nbformat_minor": 0
}
