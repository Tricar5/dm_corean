{
 "cells": [
  {
   "cell_type": "markdown",
   "source": [
    "# Text Preprocessing"
   ],
   "metadata": {
    "collapsed": false
   }
  },
  {
   "cell_type": "code",
   "execution_count": 1,
   "outputs": [],
   "source": [
    "# 1\n",
    "import pandas as pd\n",
    "import yaml\n",
    "import os\n",
    "import pathlib\n",
    "\n",
    "ROOT = pathlib.Path().resolve().parent.parent\n",
    "\n",
    "with open(ROOT / \"config.yml\", \"r\") as f:\n",
    "    config = yaml.load(f, Loader=yaml.FullLoader)\n",
    "\n",
    "DATA_PATH = ROOT / config['api']['DATA_PATH']"
   ],
   "metadata": {
    "collapsed": false,
    "ExecuteTime": {
     "end_time": "2023-05-20T08:27:54.063996Z",
     "start_time": "2023-05-20T08:27:53.671534Z"
    }
   }
  },
  {
   "cell_type": "code",
   "execution_count": 2,
   "outputs": [],
   "source": [
    "# 2\n",
    "\n",
    "comments = pd.read_excel(DATA_PATH / 'comment' / 'Parent_Comments_UNION.xlsx')"
   ],
   "metadata": {
    "collapsed": false,
    "ExecuteTime": {
     "end_time": "2023-05-20T08:28:07.162711Z",
     "start_time": "2023-05-20T08:27:54.064739Z"
    }
   }
  },
  {
   "cell_type": "code",
   "execution_count": 3,
   "outputs": [
    {
     "name": "stdout",
     "output_type": "stream",
     "text": [
      "(74963, 20)\n"
     ]
    }
   ],
   "source": [
    "print(comments.shape)"
   ],
   "metadata": {
    "collapsed": false,
    "ExecuteTime": {
     "end_time": "2023-05-20T08:28:07.163211Z",
     "start_time": "2023-05-20T08:28:07.157044Z"
    }
   }
  },
  {
   "cell_type": "code",
   "execution_count": 4,
   "outputs": [],
   "source": [
    "# 3\n",
    "comments = comments.dropna(subset=['snippet.textOriginal'])"
   ],
   "metadata": {
    "collapsed": false,
    "ExecuteTime": {
     "end_time": "2023-05-20T08:28:07.207125Z",
     "start_time": "2023-05-20T08:28:07.165225Z"
    }
   }
  },
  {
   "cell_type": "code",
   "execution_count": 5,
   "outputs": [
    {
     "name": "stdout",
     "output_type": "stream",
     "text": [
      "<class 'pandas.core.frame.DataFrame'>\n",
      "Index: 74949 entries, 0 to 74962\n",
      "Data columns (total 20 columns):\n",
      " #   Column                         Non-Null Count  Dtype  \n",
      "---  ------                         --------------  -----  \n",
      " 0   kind                           74949 non-null  object \n",
      " 1   etag                           74949 non-null  object \n",
      " 2   id                             74949 non-null  object \n",
      " 3   snippet.videoId                74949 non-null  object \n",
      " 4   snippet.textDisplay            74949 non-null  object \n",
      " 5   snippet.textOriginal           74949 non-null  object \n",
      " 6   snippet.authorDisplayName      74939 non-null  object \n",
      " 7   snippet.authorProfileImageUrl  74949 non-null  object \n",
      " 8   snippet.authorChannelUrl       74943 non-null  object \n",
      " 9   snippet.authorChannelId.value  74943 non-null  object \n",
      " 10  snippet.canRate                74949 non-null  bool   \n",
      " 11  snippet.viewerRating           74949 non-null  object \n",
      " 12  snippet.likeCount              74949 non-null  int64  \n",
      " 13  snippet.publishedAt            74949 non-null  object \n",
      " 14  snippet.updatedAt              74949 non-null  object \n",
      " 15  snippet.canReply               50540 non-null  float64\n",
      " 16  snippet.totalReplyCount        50540 non-null  float64\n",
      " 17  snippet.isPublic               50540 non-null  float64\n",
      " 18  snippet.moderationStatus       445 non-null    object \n",
      " 19  snippet.parentId               74949 non-null  object \n",
      "dtypes: bool(1), float64(3), int64(1), object(15)\n",
      "memory usage: 11.5+ MB\n"
     ]
    }
   ],
   "source": [
    "# 4\n",
    "\n",
    "comments.info()"
   ],
   "metadata": {
    "collapsed": false,
    "ExecuteTime": {
     "end_time": "2023-05-20T08:28:07.252957Z",
     "start_time": "2023-05-20T08:28:07.244339Z"
    }
   }
  },
  {
   "cell_type": "markdown",
   "source": [
    "# Текст процессинг"
   ],
   "metadata": {
    "collapsed": false
   }
  },
  {
   "cell_type": "code",
   "execution_count": 6,
   "outputs": [],
   "source": [
    "# 5\n",
    "\n",
    "corpora = list(comments['snippet.textOriginal'].values)"
   ],
   "metadata": {
    "collapsed": false,
    "ExecuteTime": {
     "end_time": "2023-05-20T08:28:07.264600Z",
     "start_time": "2023-05-20T08:28:07.257325Z"
    }
   }
  },
  {
   "cell_type": "code",
   "execution_count": 7,
   "outputs": [
    {
     "name": "stderr",
     "output_type": "stream",
     "text": [
      "[nltk_data] Downloading package stopwords to\n",
      "[nltk_data]     /Users/andrey/nltk_data...\n",
      "[nltk_data]   Package stopwords is already up-to-date!\n"
     ]
    },
    {
     "data": {
      "text/plain": "'и, в, во, не, что, он, на, я, с, со, как, а, то, все, она, так, его, но, да, ты, к, у, же, вы, за, бы, по, только, ее, мне, было, вот, от, меня, еще, нет, о, из, ему, теперь, когда, даже, ну, вдруг, ли, если, уже, или, ни, быть, был, него, до, вас, нибудь, опять, уж, вам, ведь, там, потом, себя, ничего, ей, может, они, тут, где, есть, надо, ней, для, мы, тебя, их, чем, была, сам, чтоб, без, будто, чего, раз, тоже, себе, под, будет, ж, тогда, кто, этот, того, потому, этого, какой, совсем, ним, здесь, этом, один, почти, мой, тем, чтобы, нее, сейчас, были, куда, зачем, всех, никогда, можно, при, наконец, два, об, другой, хоть, после, над, больше, тот, через, эти, нас, про, всего, них, какая, много, разве, три, эту, моя, впрочем, хорошо, свою, этой, перед, иногда, лучше, чуть, том, нельзя, такой, им, более, всегда, конечно, всю, между'"
     },
     "execution_count": 7,
     "metadata": {},
     "output_type": "execute_result"
    }
   ],
   "source": [
    "# 6\n",
    "\n",
    "# download stopwords corpus, you need to run it once\n",
    "import nltk\n",
    "nltk.download(\"stopwords\")\n",
    "#--------#\n",
    "\n",
    "from nltk.corpus import stopwords\n",
    "from pymystem3 import Mystem\n",
    "from string import punctuation\n",
    "\n",
    "\n",
    "#Create lemmatizer and stopwords list\n",
    "mystem = Mystem()\n",
    "russian_stopwords = stopwords.words(\"russian\")\n",
    "\n",
    "\", \".join(russian_stopwords)"
   ],
   "metadata": {
    "collapsed": false,
    "ExecuteTime": {
     "end_time": "2023-05-20T08:28:08.195155Z",
     "start_time": "2023-05-20T08:28:07.259470Z"
    }
   }
  },
  {
   "cell_type": "code",
   "execution_count": 8,
   "outputs": [],
   "source": [
    "# 7 Preprocess functions\n",
    "\n",
    "import string\n",
    "import re\n",
    "\n",
    "PUNCT_TO_REMOVE = string.punctuation\n",
    "\n",
    "def remove_tabs(text): #убираем дичь со специальными символами\n",
    "    return text.translate(str.maketrans(\"\\n\\t\\r\", \"   \"))\n",
    "\n",
    "def remove_punct(text):\n",
    "    return re.sub(r'[^a-zA-Zа-яА-ЯёЁ]+',' ', text)\n",
    "\n",
    "def remove_urls(text):\n",
    "    return re.sub(r'http\\S+', '', text, flags=re.MULTILINE)\n",
    "\n",
    "def remove_mentions(text):\n",
    "    return re.sub(\"@[A-Za-z0-9_]+\",\"\", text)\n",
    "\n",
    "def remove_hashtags(text):\n",
    "    return re.sub(\"#[A-Za-z0-9_]+\",\"\", text)\n",
    "\n",
    "def clean_text(text: str)->str:\n",
    "    text = remove_urls(text)\n",
    "    text = remove_tabs(text)\n",
    "    text = remove_mentions(text)\n",
    "    text = remove_hashtags(text)\n",
    "\n",
    "    return text\n",
    "\n",
    "\n",
    "def preprocess_text(text: str) -> str:\n",
    "\n",
    "    text = remove_punct(text)\n",
    "\n",
    "    tokens = mystem.lemmatize(text.lower())\n",
    "\n",
    "    tokens = [token for token in tokens if token not in russian_stopwords\\\n",
    "              and token != \" \" \\\n",
    "              and token.strip() not in punctuation]\n",
    "\n",
    "    text = \" \".join(tokens)\n",
    "\n",
    "    return text"
   ],
   "metadata": {
    "collapsed": false,
    "ExecuteTime": {
     "end_time": "2023-05-20T08:28:08.198838Z",
     "start_time": "2023-05-20T08:28:08.193983Z"
    }
   }
  },
  {
   "cell_type": "code",
   "execution_count": 9,
   "outputs": [
    {
     "name": "stdout",
     "output_type": "stream",
     "text": [
      "У нас в стране сейчас оригинал вообще не купить по ходу😂😂😂😂😂\n",
      "\n",
      "==========After==========\n",
      "\n",
      "страна оригинал вообще купить ход\n"
     ]
    }
   ],
   "source": [
    "# 7 Preprocessing example\n",
    "\n",
    "test = corpora[14]\n",
    "\n",
    "print(test)\n",
    "print()\n",
    "print('='*10 + 'After' + '='*10)\n",
    "print()\n",
    "print(preprocess_text(clean_text(test)))"
   ],
   "metadata": {
    "collapsed": false,
    "ExecuteTime": {
     "end_time": "2023-05-20T08:28:08.952300Z",
     "start_time": "2023-05-20T08:28:08.204913Z"
    }
   }
  },
  {
   "cell_type": "code",
   "execution_count": 10,
   "outputs": [],
   "source": [
    "# 8 Preprocessing example\n",
    "\n",
    "cleaned_text = [clean_text(t) for t in corpora]\n",
    "\n",
    "comments['cleaned_text'] = cleaned_text"
   ],
   "metadata": {
    "collapsed": false,
    "ExecuteTime": {
     "end_time": "2023-05-20T08:28:09.431364Z",
     "start_time": "2023-05-20T08:28:08.996796Z"
    }
   }
  },
  {
   "cell_type": "code",
   "execution_count": 11,
   "outputs": [],
   "source": [
    "# 9 Preprocessing example\n",
    "\n",
    "lemmatized = [preprocess_text(s) for s in cleaned_text]\n",
    "\n",
    "comments['lemmatized_text'] = lemmatized"
   ],
   "metadata": {
    "collapsed": false,
    "ExecuteTime": {
     "end_time": "2023-05-20T08:29:34.035603Z",
     "start_time": "2023-05-20T08:28:50.964203Z"
    }
   }
  },
  {
   "cell_type": "code",
   "execution_count": 12,
   "outputs": [
    {
     "data": {
      "text/plain": "                        kind                         etag   \n0      youtube#commentThread  0k0BN3l02ihEAO1Tpx9iNp6S9ZU  \\\n1      youtube#commentThread  yBrfmxWp6CtzE_M6ugZXhSlRhuY   \n2      youtube#commentThread  p9eZKWW9vGjkVEnbGTNXI46m9rA   \n3      youtube#commentThread  PtN9_fEasELRW9S1Y7AAtR6OYy8   \n4      youtube#commentThread  XzPn7hMxSpX2yOI5d2m3PsKJZXE   \n...                      ...                          ...   \n74958        youtube#comment  HFVkPR1jfBXwuy8JwXHh_e-kQ_k   \n74959        youtube#comment  76ZikfK-4FYaTjhUiQ7t2XpvUQM   \n74960        youtube#comment  EpQVpJK1kawzMPVjx2yo7dLgZPU   \n74961        youtube#comment  1MYi23swom0QiqL-3I5J3HUvhFs   \n74962        youtube#comment  kzWOwUlRaSdBg8Yyz-kRU-JlQLI   \n\n                                                      id snippet.videoId   \n0                             UgyKlKuQTfZlkw5sqeN4AaABAg     AAjsSrjZXsw  \\\n1                             UgwWFRz63uP9kl_Ob-14AaABAg     AAjsSrjZXsw   \n2                             UgwbiFK59dfmyltqrB94AaABAg     AAjsSrjZXsw   \n3                             UgxQi90tx9SVF0IauDN4AaABAg     AAjsSrjZXsw   \n4                             UgwYIO4Dwr8lwOl5_jl4AaABAg     AAjsSrjZXsw   \n...                                                  ...             ...   \n74958  Ugwz6GshlUZMMumE9n54AaABAg.9kO7ERtCXa_9kOBOzHra8u     boB2LEXG_zA   \n74959  Ugwz6GshlUZMMumE9n54AaABAg.9kO7ERtCXa_9kOAgUwU2Jj     boB2LEXG_zA   \n74960  Ugwz6GshlUZMMumE9n54AaABAg.9kO7ERtCXa_9kOABWk8eEa     boB2LEXG_zA   \n74961  Ugwz6GshlUZMMumE9n54AaABAg.9kO7ERtCXa_9kO9mW3prUk     boB2LEXG_zA   \n74962  Ugwz6GshlUZMMumE9n54AaABAg.9kO7ERtCXa_9kO8EO8-PUw     boB2LEXG_zA   \n\n                                     snippet.textDisplay   \n0      Люди тупые, они не понимают, что оригинал стои...  \\\n1        А где покупать можно качественный оригинальнал?   \n2                           Садовод типо рынка Черкизон?   \n3      Не понимаю маниакального желания покупать коре...   \n4      Пару лет назад на Озон купила духи D&G The One...   \n...                                                  ...   \n74958                       @Nadeschda Schmunk на Мальте   \n74959  @Elena CamilleriУ вас итальянская фамилия...в ...   \n74960  и вообще невкусный... я только батончики марци...   \n74961  А у нас это каштаны называют и кулинарные изде...   \n74962  Марципан - миндальный орех перетёртый с сахаро...   \n\n                                    snippet.textOriginal   \n0      Люди тупые, они не понимают, что оригинал стои...  \\\n1        А где покупать можно качественный оригинальнал?   \n2                           Садовод типо рынка Черкизон?   \n3      Не понимаю маниакального желания покупать коре...   \n4      Пару лет назад на Озон купила духи D&G The One...   \n...                                                  ...   \n74958                       @Nadeschda Schmunk на Мальте   \n74959  @Elena CamilleriУ вас итальянская фамилия...в ...   \n74960  и вообще невкусный... я только батончики марци...   \n74961  А у нас это каштаны называют и кулинарные изде...   \n74962  Марципан - миндальный орех перетёртый с сахаро...   \n\n      snippet.authorDisplayName   \n0                 Елена Марьина  \\\n1         badrobotturbolovechic   \n2                        Qwertу   \n3           Glapfira Nikolaevna   \n4                Гурия Мирзаева   \n...                         ...   \n74958           Elena Camilleri   \n74959         Nadeschda Schmunk   \n74960             Марина Марина   \n74961           Elena Camilleri   \n74962         Nadeschda Schmunk   \n\n                           snippet.authorProfileImageUrl   \n0      https://yt3.ggpht.com/ytc/AGIKgqM3X8z1SO9ODCNk...  \\\n1      https://yt3.ggpht.com/3u-W9-y7JIuALnpvK02pBz8r...   \n2      https://yt3.ggpht.com/ytc/AGIKgqPCGuXz3r9n6Wwl...   \n3      https://yt3.ggpht.com/ytc/AGIKgqM0Fnoc1nMvlwuO...   \n4      https://yt3.ggpht.com/6ayZjUJzCfjZIzeL3xWnkfIt...   \n...                                                  ...   \n74958  https://yt3.ggpht.com/ytc/AGIKgqM5ErRkYk_c4aFA...   \n74959  https://yt3.ggpht.com/ytc/AGIKgqO0H2st_sGuf3x2...   \n74960  https://yt3.ggpht.com/ytc/AGIKgqPUKd0eJf_TkKkF...   \n74961  https://yt3.ggpht.com/ytc/AGIKgqM5ErRkYk_c4aFA...   \n74962  https://yt3.ggpht.com/ytc/AGIKgqO0H2st_sGuf3x2...   \n\n                                snippet.authorChannelUrl   \n0      http://www.youtube.com/channel/UCK3lFIDZOZ4rnc...  \\\n1      http://www.youtube.com/channel/UC9-VH4ePIUrD6K...   \n2      http://www.youtube.com/channel/UCwF8jRd-ZFcOu5...   \n3      http://www.youtube.com/channel/UCnAYp5V6juJLe5...   \n4      http://www.youtube.com/channel/UCPdpiRSh32Z_aF...   \n...                                                  ...   \n74958  http://www.youtube.com/channel/UCWh4RXTFaAC6FQ...   \n74959  http://www.youtube.com/channel/UCg_7OSCvXQr2UI...   \n74960  http://www.youtube.com/channel/UCy1Ot7WRtOLW5m...   \n74961  http://www.youtube.com/channel/UCWh4RXTFaAC6FQ...   \n74962  http://www.youtube.com/channel/UCg_7OSCvXQr2UI...   \n\n      snippet.authorChannelId.value  ...  snippet.likeCount   \n0          UCK3lFIDZOZ4rncDMhNB_CbA  ...                  0  \\\n1          UC9-VH4ePIUrD6KK8TlAWLDA  ...                  0   \n2          UCwF8jRd-ZFcOu5QkaCcRJcw  ...                  0   \n3          UCnAYp5V6juJLe5Kt61YcK1g  ...                  0   \n4          UCPdpiRSh32Z_aFnkpFfR9jQ  ...                  0   \n...                             ...  ...                ...   \n74958      UCWh4RXTFaAC6FQXddNqpAkA  ...                  0   \n74959      UCg_7OSCvXQr2UIs6VdastrA  ...                  3   \n74960      UCy1Ot7WRtOLW5mwPH3QNjyg  ...                  0   \n74961      UCWh4RXTFaAC6FQXddNqpAkA  ...                  0   \n74962      UCg_7OSCvXQr2UIs6VdastrA  ...                  3   \n\n        snippet.publishedAt     snippet.updatedAt snippet.canReply   \n0      2023-04-21T12:49:12Z  2023-04-21T12:49:12Z              1.0  \\\n1      2023-04-20T15:33:12Z  2023-04-20T15:33:12Z              1.0   \n2      2023-04-20T12:31:53Z  2023-04-20T12:31:53Z              1.0   \n3      2023-04-15T08:11:42Z  2023-04-15T08:11:42Z              1.0   \n4      2023-04-14T08:32:11Z  2023-04-14T08:32:11Z              1.0   \n...                     ...                   ...              ...   \n74958  2023-01-02T14:54:47Z  2023-01-02T14:54:47Z              NaN   \n74959  2023-01-02T14:48:34Z  2023-01-02T14:48:34Z              NaN   \n74960  2023-01-02T14:44:12Z  2023-01-02T14:44:12Z              NaN   \n74961  2023-01-02T14:40:39Z  2023-01-02T14:41:49Z              NaN   \n74962  2023-01-02T14:27:07Z  2023-01-02T14:27:07Z              NaN   \n\n      snippet.totalReplyCount  snippet.isPublic  snippet.moderationStatus   \n0                         0.0               1.0                       NaN  \\\n1                         0.0               1.0                       NaN   \n2                         0.0               1.0                       NaN   \n3                         0.0               1.0                       NaN   \n4                         0.0               1.0                       NaN   \n...                       ...               ...                       ...   \n74958                     NaN               NaN                       NaN   \n74959                     NaN               NaN                       NaN   \n74960                     NaN               NaN                       NaN   \n74961                     NaN               NaN                       NaN   \n74962                     NaN               NaN                       NaN   \n\n                 snippet.parentId   \n0                              -1  \\\n1                              -1   \n2                              -1   \n3                              -1   \n4                              -1   \n...                           ...   \n74958  Ugwz6GshlUZMMumE9n54AaABAg   \n74959  Ugwz6GshlUZMMumE9n54AaABAg   \n74960  Ugwz6GshlUZMMumE9n54AaABAg   \n74961  Ugwz6GshlUZMMumE9n54AaABAg   \n74962  Ugwz6GshlUZMMumE9n54AaABAg   \n\n                                            cleaned_text   \n0      Люди тупые, они не понимают, что оригинал стои...  \\\n1        А где покупать можно качественный оригинальнал?   \n2                           Садовод типо рынка Черкизон?   \n3      Не понимаю маниакального желания покупать коре...   \n4      Пару лет назад на Озон купила духи D&G The One...   \n...                                                  ...   \n74958                                  Schmunk на Мальте   \n74959   CamilleriУ вас итальянская фамилия...в Италии...   \n74960  и вообще невкусный... я только батончики марци...   \n74961  А у нас это каштаны называют и кулинарные изде...   \n74962  Марципан - миндальный орех перетёртый с сахаро...   \n\n                                         lemmatized_text  \n0      человек тупой понимать оригинал стоять офигенн...  \n1                     покупать качественный оригинальнал  \n2                            садовод типо рынок черкизон  \n3      понимать маниакальный желание покупать корейск...  \n4      пара год назад озон купить дух d g the one жен...  \n...                                                  ...  \n74958                                     schmunk мальта  \n74959  camilleriу итальянский фамилия италия марципан...  \n74960  вообще невкусный батончик марципановый шоколад...  \n74961  это каштан называть кулинарный изделие миндаль...  \n74962  марципан миндальный орех перетирать сахар плох...  \n\n[74949 rows x 22 columns]",
      "text/html": "<div>\n<style scoped>\n    .dataframe tbody tr th:only-of-type {\n        vertical-align: middle;\n    }\n\n    .dataframe tbody tr th {\n        vertical-align: top;\n    }\n\n    .dataframe thead th {\n        text-align: right;\n    }\n</style>\n<table border=\"1\" class=\"dataframe\">\n  <thead>\n    <tr style=\"text-align: right;\">\n      <th></th>\n      <th>kind</th>\n      <th>etag</th>\n      <th>id</th>\n      <th>snippet.videoId</th>\n      <th>snippet.textDisplay</th>\n      <th>snippet.textOriginal</th>\n      <th>snippet.authorDisplayName</th>\n      <th>snippet.authorProfileImageUrl</th>\n      <th>snippet.authorChannelUrl</th>\n      <th>snippet.authorChannelId.value</th>\n      <th>...</th>\n      <th>snippet.likeCount</th>\n      <th>snippet.publishedAt</th>\n      <th>snippet.updatedAt</th>\n      <th>snippet.canReply</th>\n      <th>snippet.totalReplyCount</th>\n      <th>snippet.isPublic</th>\n      <th>snippet.moderationStatus</th>\n      <th>snippet.parentId</th>\n      <th>cleaned_text</th>\n      <th>lemmatized_text</th>\n    </tr>\n  </thead>\n  <tbody>\n    <tr>\n      <th>0</th>\n      <td>youtube#commentThread</td>\n      <td>0k0BN3l02ihEAO1Tpx9iNp6S9ZU</td>\n      <td>UgyKlKuQTfZlkw5sqeN4AaABAg</td>\n      <td>AAjsSrjZXsw</td>\n      <td>Люди тупые, они не понимают, что оригинал стои...</td>\n      <td>Люди тупые, они не понимают, что оригинал стои...</td>\n      <td>Елена Марьина</td>\n      <td>https://yt3.ggpht.com/ytc/AGIKgqM3X8z1SO9ODCNk...</td>\n      <td>http://www.youtube.com/channel/UCK3lFIDZOZ4rnc...</td>\n      <td>UCK3lFIDZOZ4rncDMhNB_CbA</td>\n      <td>...</td>\n      <td>0</td>\n      <td>2023-04-21T12:49:12Z</td>\n      <td>2023-04-21T12:49:12Z</td>\n      <td>1.0</td>\n      <td>0.0</td>\n      <td>1.0</td>\n      <td>NaN</td>\n      <td>-1</td>\n      <td>Люди тупые, они не понимают, что оригинал стои...</td>\n      <td>человек тупой понимать оригинал стоять офигенн...</td>\n    </tr>\n    <tr>\n      <th>1</th>\n      <td>youtube#commentThread</td>\n      <td>yBrfmxWp6CtzE_M6ugZXhSlRhuY</td>\n      <td>UgwWFRz63uP9kl_Ob-14AaABAg</td>\n      <td>AAjsSrjZXsw</td>\n      <td>А где покупать можно качественный оригинальнал?</td>\n      <td>А где покупать можно качественный оригинальнал?</td>\n      <td>badrobotturbolovechic</td>\n      <td>https://yt3.ggpht.com/3u-W9-y7JIuALnpvK02pBz8r...</td>\n      <td>http://www.youtube.com/channel/UC9-VH4ePIUrD6K...</td>\n      <td>UC9-VH4ePIUrD6KK8TlAWLDA</td>\n      <td>...</td>\n      <td>0</td>\n      <td>2023-04-20T15:33:12Z</td>\n      <td>2023-04-20T15:33:12Z</td>\n      <td>1.0</td>\n      <td>0.0</td>\n      <td>1.0</td>\n      <td>NaN</td>\n      <td>-1</td>\n      <td>А где покупать можно качественный оригинальнал?</td>\n      <td>покупать качественный оригинальнал</td>\n    </tr>\n    <tr>\n      <th>2</th>\n      <td>youtube#commentThread</td>\n      <td>p9eZKWW9vGjkVEnbGTNXI46m9rA</td>\n      <td>UgwbiFK59dfmyltqrB94AaABAg</td>\n      <td>AAjsSrjZXsw</td>\n      <td>Садовод типо рынка Черкизон?</td>\n      <td>Садовод типо рынка Черкизон?</td>\n      <td>Qwertу</td>\n      <td>https://yt3.ggpht.com/ytc/AGIKgqPCGuXz3r9n6Wwl...</td>\n      <td>http://www.youtube.com/channel/UCwF8jRd-ZFcOu5...</td>\n      <td>UCwF8jRd-ZFcOu5QkaCcRJcw</td>\n      <td>...</td>\n      <td>0</td>\n      <td>2023-04-20T12:31:53Z</td>\n      <td>2023-04-20T12:31:53Z</td>\n      <td>1.0</td>\n      <td>0.0</td>\n      <td>1.0</td>\n      <td>NaN</td>\n      <td>-1</td>\n      <td>Садовод типо рынка Черкизон?</td>\n      <td>садовод типо рынок черкизон</td>\n    </tr>\n    <tr>\n      <th>3</th>\n      <td>youtube#commentThread</td>\n      <td>PtN9_fEasELRW9S1Y7AAtR6OYy8</td>\n      <td>UgxQi90tx9SVF0IauDN4AaABAg</td>\n      <td>AAjsSrjZXsw</td>\n      <td>Не понимаю маниакального желания покупать коре...</td>\n      <td>Не понимаю маниакального желания покупать коре...</td>\n      <td>Glapfira Nikolaevna</td>\n      <td>https://yt3.ggpht.com/ytc/AGIKgqM0Fnoc1nMvlwuO...</td>\n      <td>http://www.youtube.com/channel/UCnAYp5V6juJLe5...</td>\n      <td>UCnAYp5V6juJLe5Kt61YcK1g</td>\n      <td>...</td>\n      <td>0</td>\n      <td>2023-04-15T08:11:42Z</td>\n      <td>2023-04-15T08:11:42Z</td>\n      <td>1.0</td>\n      <td>0.0</td>\n      <td>1.0</td>\n      <td>NaN</td>\n      <td>-1</td>\n      <td>Не понимаю маниакального желания покупать коре...</td>\n      <td>понимать маниакальный желание покупать корейск...</td>\n    </tr>\n    <tr>\n      <th>4</th>\n      <td>youtube#commentThread</td>\n      <td>XzPn7hMxSpX2yOI5d2m3PsKJZXE</td>\n      <td>UgwYIO4Dwr8lwOl5_jl4AaABAg</td>\n      <td>AAjsSrjZXsw</td>\n      <td>Пару лет назад на Озон купила духи D&amp;G The One...</td>\n      <td>Пару лет назад на Озон купила духи D&amp;G The One...</td>\n      <td>Гурия Мирзаева</td>\n      <td>https://yt3.ggpht.com/6ayZjUJzCfjZIzeL3xWnkfIt...</td>\n      <td>http://www.youtube.com/channel/UCPdpiRSh32Z_aF...</td>\n      <td>UCPdpiRSh32Z_aFnkpFfR9jQ</td>\n      <td>...</td>\n      <td>0</td>\n      <td>2023-04-14T08:32:11Z</td>\n      <td>2023-04-14T08:32:11Z</td>\n      <td>1.0</td>\n      <td>0.0</td>\n      <td>1.0</td>\n      <td>NaN</td>\n      <td>-1</td>\n      <td>Пару лет назад на Озон купила духи D&amp;G The One...</td>\n      <td>пара год назад озон купить дух d g the one жен...</td>\n    </tr>\n    <tr>\n      <th>...</th>\n      <td>...</td>\n      <td>...</td>\n      <td>...</td>\n      <td>...</td>\n      <td>...</td>\n      <td>...</td>\n      <td>...</td>\n      <td>...</td>\n      <td>...</td>\n      <td>...</td>\n      <td>...</td>\n      <td>...</td>\n      <td>...</td>\n      <td>...</td>\n      <td>...</td>\n      <td>...</td>\n      <td>...</td>\n      <td>...</td>\n      <td>...</td>\n      <td>...</td>\n      <td>...</td>\n    </tr>\n    <tr>\n      <th>74958</th>\n      <td>youtube#comment</td>\n      <td>HFVkPR1jfBXwuy8JwXHh_e-kQ_k</td>\n      <td>Ugwz6GshlUZMMumE9n54AaABAg.9kO7ERtCXa_9kOBOzHra8u</td>\n      <td>boB2LEXG_zA</td>\n      <td>@Nadeschda Schmunk на Мальте</td>\n      <td>@Nadeschda Schmunk на Мальте</td>\n      <td>Elena Camilleri</td>\n      <td>https://yt3.ggpht.com/ytc/AGIKgqM5ErRkYk_c4aFA...</td>\n      <td>http://www.youtube.com/channel/UCWh4RXTFaAC6FQ...</td>\n      <td>UCWh4RXTFaAC6FQXddNqpAkA</td>\n      <td>...</td>\n      <td>0</td>\n      <td>2023-01-02T14:54:47Z</td>\n      <td>2023-01-02T14:54:47Z</td>\n      <td>NaN</td>\n      <td>NaN</td>\n      <td>NaN</td>\n      <td>NaN</td>\n      <td>Ugwz6GshlUZMMumE9n54AaABAg</td>\n      <td>Schmunk на Мальте</td>\n      <td>schmunk мальта</td>\n    </tr>\n    <tr>\n      <th>74959</th>\n      <td>youtube#comment</td>\n      <td>76ZikfK-4FYaTjhUiQ7t2XpvUQM</td>\n      <td>Ugwz6GshlUZMMumE9n54AaABAg.9kO7ERtCXa_9kOAgUwU2Jj</td>\n      <td>boB2LEXG_zA</td>\n      <td>@Elena CamilleriУ вас итальянская фамилия...в ...</td>\n      <td>@Elena CamilleriУ вас итальянская фамилия...в ...</td>\n      <td>Nadeschda Schmunk</td>\n      <td>https://yt3.ggpht.com/ytc/AGIKgqO0H2st_sGuf3x2...</td>\n      <td>http://www.youtube.com/channel/UCg_7OSCvXQr2UI...</td>\n      <td>UCg_7OSCvXQr2UIs6VdastrA</td>\n      <td>...</td>\n      <td>3</td>\n      <td>2023-01-02T14:48:34Z</td>\n      <td>2023-01-02T14:48:34Z</td>\n      <td>NaN</td>\n      <td>NaN</td>\n      <td>NaN</td>\n      <td>NaN</td>\n      <td>Ugwz6GshlUZMMumE9n54AaABAg</td>\n      <td>CamilleriУ вас итальянская фамилия...в Италии...</td>\n      <td>camilleriу итальянский фамилия италия марципан...</td>\n    </tr>\n    <tr>\n      <th>74960</th>\n      <td>youtube#comment</td>\n      <td>EpQVpJK1kawzMPVjx2yo7dLgZPU</td>\n      <td>Ugwz6GshlUZMMumE9n54AaABAg.9kO7ERtCXa_9kOABWk8eEa</td>\n      <td>boB2LEXG_zA</td>\n      <td>и вообще невкусный... я только батончики марци...</td>\n      <td>и вообще невкусный... я только батончики марци...</td>\n      <td>Марина Марина</td>\n      <td>https://yt3.ggpht.com/ytc/AGIKgqPUKd0eJf_TkKkF...</td>\n      <td>http://www.youtube.com/channel/UCy1Ot7WRtOLW5m...</td>\n      <td>UCy1Ot7WRtOLW5mwPH3QNjyg</td>\n      <td>...</td>\n      <td>0</td>\n      <td>2023-01-02T14:44:12Z</td>\n      <td>2023-01-02T14:44:12Z</td>\n      <td>NaN</td>\n      <td>NaN</td>\n      <td>NaN</td>\n      <td>NaN</td>\n      <td>Ugwz6GshlUZMMumE9n54AaABAg</td>\n      <td>и вообще невкусный... я только батончики марци...</td>\n      <td>вообще невкусный батончик марципановый шоколад...</td>\n    </tr>\n    <tr>\n      <th>74961</th>\n      <td>youtube#comment</td>\n      <td>1MYi23swom0QiqL-3I5J3HUvhFs</td>\n      <td>Ugwz6GshlUZMMumE9n54AaABAg.9kO7ERtCXa_9kO9mW3prUk</td>\n      <td>boB2LEXG_zA</td>\n      <td>А у нас это каштаны называют и кулинарные изде...</td>\n      <td>А у нас это каштаны называют и кулинарные изде...</td>\n      <td>Elena Camilleri</td>\n      <td>https://yt3.ggpht.com/ytc/AGIKgqM5ErRkYk_c4aFA...</td>\n      <td>http://www.youtube.com/channel/UCWh4RXTFaAC6FQ...</td>\n      <td>UCWh4RXTFaAC6FQXddNqpAkA</td>\n      <td>...</td>\n      <td>0</td>\n      <td>2023-01-02T14:40:39Z</td>\n      <td>2023-01-02T14:41:49Z</td>\n      <td>NaN</td>\n      <td>NaN</td>\n      <td>NaN</td>\n      <td>NaN</td>\n      <td>Ugwz6GshlUZMMumE9n54AaABAg</td>\n      <td>А у нас это каштаны называют и кулинарные изде...</td>\n      <td>это каштан называть кулинарный изделие миндаль...</td>\n    </tr>\n    <tr>\n      <th>74962</th>\n      <td>youtube#comment</td>\n      <td>kzWOwUlRaSdBg8Yyz-kRU-JlQLI</td>\n      <td>Ugwz6GshlUZMMumE9n54AaABAg.9kO7ERtCXa_9kO8EO8-PUw</td>\n      <td>boB2LEXG_zA</td>\n      <td>Марципан - миндальный орех перетёртый с сахаро...</td>\n      <td>Марципан - миндальный орех перетёртый с сахаро...</td>\n      <td>Nadeschda Schmunk</td>\n      <td>https://yt3.ggpht.com/ytc/AGIKgqO0H2st_sGuf3x2...</td>\n      <td>http://www.youtube.com/channel/UCg_7OSCvXQr2UI...</td>\n      <td>UCg_7OSCvXQr2UIs6VdastrA</td>\n      <td>...</td>\n      <td>3</td>\n      <td>2023-01-02T14:27:07Z</td>\n      <td>2023-01-02T14:27:07Z</td>\n      <td>NaN</td>\n      <td>NaN</td>\n      <td>NaN</td>\n      <td>NaN</td>\n      <td>Ugwz6GshlUZMMumE9n54AaABAg</td>\n      <td>Марципан - миндальный орех перетёртый с сахаро...</td>\n      <td>марципан миндальный орех перетирать сахар плох...</td>\n    </tr>\n  </tbody>\n</table>\n<p>74949 rows × 22 columns</p>\n</div>"
     },
     "execution_count": 12,
     "metadata": {},
     "output_type": "execute_result"
    }
   ],
   "source": [
    "comments"
   ],
   "metadata": {
    "collapsed": false,
    "ExecuteTime": {
     "end_time": "2023-05-20T08:29:41.108306Z",
     "start_time": "2023-05-20T08:29:40.993977Z"
    }
   }
  },
  {
   "cell_type": "code",
   "execution_count": null,
   "outputs": [],
   "source": [],
   "metadata": {
    "collapsed": false
   }
  },
  {
   "cell_type": "markdown",
   "source": [
    "# Оценка количества слов"
   ],
   "metadata": {
    "collapsed": false
   }
  },
  {
   "cell_type": "code",
   "execution_count": 15,
   "outputs": [],
   "source": [
    "comments['lem_word_count'] = comments['lemmatized_text'].apply(lambda x: len(x.split()))\n",
    "comments['lem_sym_count'] = comments['lemmatized_text'].apply(lambda x: len(x))"
   ],
   "metadata": {
    "collapsed": false,
    "ExecuteTime": {
     "end_time": "2023-05-20T08:30:12.783933Z",
     "start_time": "2023-05-20T08:30:12.719162Z"
    }
   }
  },
  {
   "cell_type": "code",
   "execution_count": 16,
   "outputs": [
    {
     "data": {
      "text/plain": "count    74949.000000\nmean        10.212131\nstd         12.987554\nmin          0.000000\n25%          3.000000\n50%          6.000000\n75%         12.000000\nmax        366.000000\nName: lem_word_count, dtype: float64"
     },
     "execution_count": 16,
     "metadata": {},
     "output_type": "execute_result"
    }
   ],
   "source": [
    "comments['lem_word_count'].describe()"
   ],
   "metadata": {
    "collapsed": false,
    "ExecuteTime": {
     "end_time": "2023-05-20T08:30:12.882435Z",
     "start_time": "2023-05-20T08:30:12.872056Z"
    }
   }
  },
  {
   "cell_type": "code",
   "execution_count": 17,
   "outputs": [
    {
     "data": {
      "text/plain": "<AxesSubplot: >"
     },
     "execution_count": 17,
     "metadata": {},
     "output_type": "execute_result"
    },
    {
     "data": {
      "text/plain": "<Figure size 640x480 with 1 Axes>",
      "image/png": "[encoded data removed]"
     },
     "metadata": {},
     "output_type": "display_data"
    }
   ],
   "source": [
    "comments['lem_word_count'].hist(bins=100)"
   ],
   "metadata": {
    "collapsed": false,
    "ExecuteTime": {
     "end_time": "2023-05-20T08:30:13.727815Z",
     "start_time": "2023-05-20T08:30:13.123504Z"
    }
   }
  },
  {
   "cell_type": "code",
   "execution_count": 18,
   "outputs": [
    {
     "data": {
      "text/plain": "count    74949.000000\nmean        78.322526\nstd        102.385678\nmin          0.000000\n25%         23.000000\n50%         48.000000\n75%         95.000000\nmax       3244.000000\nName: lem_sym_count, dtype: float64"
     },
     "execution_count": 18,
     "metadata": {},
     "output_type": "execute_result"
    }
   ],
   "source": [
    "comments['lem_sym_count'].describe()"
   ],
   "metadata": {
    "collapsed": false,
    "ExecuteTime": {
     "end_time": "2023-05-20T08:30:13.837365Z",
     "start_time": "2023-05-20T08:30:13.830835Z"
    }
   }
  },
  {
   "cell_type": "code",
   "execution_count": 19,
   "outputs": [
    {
     "data": {
      "text/plain": "<AxesSubplot: >"
     },
     "execution_count": 19,
     "metadata": {},
     "output_type": "execute_result"
    },
    {
     "data": {
      "text/plain": "<Figure size 640x480 with 1 Axes>",
      "image/png": "[encoded data removed]"
     },
     "metadata": {},
     "output_type": "display_data"
    }
   ],
   "source": [
    "comments['lem_sym_count'].hist(bins=100)"
   ],
   "metadata": {
    "collapsed": false,
    "ExecuteTime": {
     "end_time": "2023-05-20T08:30:14.742455Z",
     "start_time": "2023-05-20T08:30:14.620924Z"
    }
   }
  },
  {
   "cell_type": "markdown",
   "source": [
    "Большинство наблюдений не превышает 50 слов в комментариях\n",
    "Большинство наблюдений не превышает 200 символов в комментариях"
   ],
   "metadata": {
    "collapsed": false
   }
  },
  {
   "cell_type": "markdown",
   "source": [
    "# Оценка токенов"
   ],
   "metadata": {
    "collapsed": false
   }
  },
  {
   "cell_type": "code",
   "execution_count": 20,
   "outputs": [],
   "source": [
    "from nltk import word_tokenize\n",
    "\n",
    "all_text = [word_tokenize(line) for line in lemmatized]"
   ],
   "metadata": {
    "collapsed": false,
    "ExecuteTime": {
     "end_time": "2023-05-20T08:30:30.352929Z",
     "start_time": "2023-05-20T08:30:26.902470Z"
    }
   }
  },
  {
   "cell_type": "code",
   "execution_count": 21,
   "outputs": [
    {
     "name": "stdout",
     "output_type": "stream",
     "text": [
      "('спасибо', 12689)\n",
      "('очень', 12263)\n",
      "('это', 10953)\n",
      "('косметика', 9995)\n",
      "('видео', 8963)\n",
      "('кожа', 8075)\n",
      "('корейский', 7264)\n",
      "('крем', 6370)\n",
      "('ваш', 5459)\n",
      "('весь', 5059)\n"
     ]
    }
   ],
   "source": [
    "from nltk import FreqDist\n",
    "\n",
    "\n",
    "n_types = []\n",
    "n_tokens = []\n",
    "fd = FreqDist()\n",
    "for line in all_text:\n",
    "    fd.update(line)\n",
    "    n_types.append(len(fd))\n",
    "    n_tokens.append(sum(list(fd.values())))\n",
    "for i in fd.most_common(10):\n",
    "    print(i)"
   ],
   "metadata": {
    "collapsed": false,
    "ExecuteTime": {
     "end_time": "2023-05-20T08:30:47.078870Z",
     "start_time": "2023-05-20T08:30:30.414172Z"
    }
   }
  },
  {
   "cell_type": "markdown",
   "source": [
    "## Закон Ципфа\n",
    "В любом достаточно большом тексте ранг типа обратно пропорционален его частоте: f=a/r\n",
    "\n",
    "f – частота типа, r – ранг типа, a – параметр, для славянских языков – около 0.07"
   ],
   "metadata": {
    "collapsed": false
   }
  },
  {
   "cell_type": "code",
   "execution_count": 22,
   "outputs": [
    {
     "data": {
      "text/plain": "<Figure size 640x480 with 1 Axes>",
      "image/png": "[encoded data removed]"
     },
     "metadata": {},
     "output_type": "display_data"
    }
   ],
   "source": [
    "import matplotlib.pyplot as plt\n",
    "\n",
    "freqs = list(fd.values())\n",
    "freqs = sorted(freqs, reverse = True)\n",
    "\n",
    "fig, ax = plt.subplots()\n",
    "ax.plot(freqs[:300], range(300))\n",
    "plt.show()"
   ],
   "metadata": {
    "collapsed": false,
    "ExecuteTime": {
     "end_time": "2023-05-20T08:30:47.141003Z",
     "start_time": "2023-05-20T08:30:47.086132Z"
    }
   }
  },
  {
   "cell_type": "markdown",
   "source": [
    "## Закон Хипса\n",
    "С увеличением длины текста (количества токенов), количество типов увеличивается в соответствии с законом: |V|=K∗N^b\n",
    "\n",
    "N – число токенов, |V| – количество типов в словаре, K,b – параметры, обычно K∈[10,100],b∈[0.4,0.6]"
   ],
   "metadata": {
    "collapsed": false
   }
  },
  {
   "cell_type": "code",
   "execution_count": 23,
   "outputs": [
    {
     "data": {
      "text/plain": "<Figure size 640x480 with 1 Axes>",
      "image/png": "[encoded data removed]"
     },
     "metadata": {},
     "output_type": "display_data"
    }
   ],
   "source": [
    "fig, ax = plt.subplots()\n",
    "ax.plot(n_types, n_tokens)\n",
    "plt.show()"
   ],
   "metadata": {
    "collapsed": false,
    "ExecuteTime": {
     "end_time": "2023-05-20T08:30:47.212629Z",
     "start_time": "2023-05-20T08:30:47.153181Z"
    }
   }
  },
  {
   "cell_type": "markdown",
   "source": [
    "# Фильтр для анализа\n",
    "\n",
    "Для улучшения параметров моделирования рекомендуется использоваться относительно большие тексты комментариев\n",
    "\n",
    "Одновременно с этим мы уменьшим количество текстов для анализа\n"
   ],
   "metadata": {
    "collapsed": false
   }
  },
  {
   "cell_type": "code",
   "execution_count": 24,
   "outputs": [
    {
     "data": {
      "text/plain": "count    74949.000000\nmean        10.212131\nstd         12.987554\nmin          0.000000\n25%          3.000000\n50%          6.000000\n75%         12.000000\nmax        366.000000\nName: lem_word_count, dtype: float64"
     },
     "execution_count": 24,
     "metadata": {},
     "output_type": "execute_result"
    }
   ],
   "source": [
    "comments['lem_word_count'].describe()"
   ],
   "metadata": {
    "collapsed": false,
    "ExecuteTime": {
     "end_time": "2023-05-20T08:32:05.227429Z",
     "start_time": "2023-05-20T08:32:05.215395Z"
    }
   }
  },
  {
   "cell_type": "code",
   "execution_count": 25,
   "outputs": [
    {
     "data": {
      "text/plain": "                        kind                         etag   \n0      youtube#commentThread  0k0BN3l02ihEAO1Tpx9iNp6S9ZU  \\\n3      youtube#commentThread  PtN9_fEasELRW9S1Y7AAtR6OYy8   \n4      youtube#commentThread  XzPn7hMxSpX2yOI5d2m3PsKJZXE   \n5      youtube#commentThread  ejjL-URwm0My3iMZ4dXw6JZipt4   \n6      youtube#commentThread  DpkPO14H9A20riVhLcdjFgZEA20   \n...                      ...                          ...   \n74955        youtube#comment  4JaIuAQDjUbqIJHEYBJjYuJb2nQ   \n74959        youtube#comment  76ZikfK-4FYaTjhUiQ7t2XpvUQM   \n74960        youtube#comment  EpQVpJK1kawzMPVjx2yo7dLgZPU   \n74961        youtube#comment  1MYi23swom0QiqL-3I5J3HUvhFs   \n74962        youtube#comment  kzWOwUlRaSdBg8Yyz-kRU-JlQLI   \n\n                                                      id snippet.videoId   \n0                             UgyKlKuQTfZlkw5sqeN4AaABAg     AAjsSrjZXsw  \\\n3                             UgxQi90tx9SVF0IauDN4AaABAg     AAjsSrjZXsw   \n4                             UgwYIO4Dwr8lwOl5_jl4AaABAg     AAjsSrjZXsw   \n5                             UgxvyL4Z2XXYCvnraL54AaABAg     AAjsSrjZXsw   \n6                             Ugwwha8cCeWK74_460h4AaABAg     AAjsSrjZXsw   \n...                                                  ...             ...   \n74955  Ugwz6GshlUZMMumE9n54AaABAg.9kO7ERtCXa_9kODjmNACUy     boB2LEXG_zA   \n74959  Ugwz6GshlUZMMumE9n54AaABAg.9kO7ERtCXa_9kOAgUwU2Jj     boB2LEXG_zA   \n74960  Ugwz6GshlUZMMumE9n54AaABAg.9kO7ERtCXa_9kOABWk8eEa     boB2LEXG_zA   \n74961  Ugwz6GshlUZMMumE9n54AaABAg.9kO7ERtCXa_9kO9mW3prUk     boB2LEXG_zA   \n74962  Ugwz6GshlUZMMumE9n54AaABAg.9kO7ERtCXa_9kO8EO8-PUw     boB2LEXG_zA   \n\n                                     snippet.textDisplay   \n0      Люди тупые, они не понимают, что оригинал стои...  \\\n3      Не понимаю маниакального желания покупать коре...   \n4      Пару лет назад на Озон купила духи D&G The One...   \n5      Я дико извиняюсь, но слово контрофакт, если я ...   \n6      Вайлдбериз вообще никого и ничего не уважает и...   \n...                                                  ...   \n74955  Марципану можно придать любую форму-...батончи...   \n74959  @Elena CamilleriУ вас итальянская фамилия...в ...   \n74960  и вообще невкусный... я только батончики марци...   \n74961  А у нас это каштаны называют и кулинарные изде...   \n74962  Марципан - миндальный орех перетёртый с сахаро...   \n\n                                    snippet.textOriginal   \n0      Люди тупые, они не понимают, что оригинал стои...  \\\n3      Не понимаю маниакального желания покупать коре...   \n4      Пару лет назад на Озон купила духи D&G The One...   \n5      Я дико извиняюсь, но слово контрофакт, если я ...   \n6      Вайлдбериз вообще никого и ничего не уважает и...   \n...                                                  ...   \n74955  Марципану можно придать любую форму-...батончи...   \n74959  @Elena CamilleriУ вас итальянская фамилия...в ...   \n74960  и вообще невкусный... я только батончики марци...   \n74961  А у нас это каштаны называют и кулинарные изде...   \n74962  Марципан - миндальный орех перетёртый с сахаро...   \n\n      snippet.authorDisplayName   \n0                 Елена Марьина  \\\n3           Glapfira Nikolaevna   \n4                Гурия Мирзаева   \n5                 thefallensun_   \n6              Наталья Пирогова   \n...                         ...   \n74955         Nadeschda Schmunk   \n74959         Nadeschda Schmunk   \n74960             Марина Марина   \n74961           Elena Camilleri   \n74962         Nadeschda Schmunk   \n\n                           snippet.authorProfileImageUrl   \n0      https://yt3.ggpht.com/ytc/AGIKgqM3X8z1SO9ODCNk...  \\\n3      https://yt3.ggpht.com/ytc/AGIKgqM0Fnoc1nMvlwuO...   \n4      https://yt3.ggpht.com/6ayZjUJzCfjZIzeL3xWnkfIt...   \n5      https://yt3.ggpht.com/xfB8w-1dm4mrr5R-0pzwzAje...   \n6      https://yt3.ggpht.com/ytc/AGIKgqPpYjVGUA-96Elq...   \n...                                                  ...   \n74955  https://yt3.ggpht.com/ytc/AGIKgqO0H2st_sGuf3x2...   \n74959  https://yt3.ggpht.com/ytc/AGIKgqO0H2st_sGuf3x2...   \n74960  https://yt3.ggpht.com/ytc/AGIKgqPUKd0eJf_TkKkF...   \n74961  https://yt3.ggpht.com/ytc/AGIKgqM5ErRkYk_c4aFA...   \n74962  https://yt3.ggpht.com/ytc/AGIKgqO0H2st_sGuf3x2...   \n\n                                snippet.authorChannelUrl   \n0      http://www.youtube.com/channel/UCK3lFIDZOZ4rnc...  \\\n3      http://www.youtube.com/channel/UCnAYp5V6juJLe5...   \n4      http://www.youtube.com/channel/UCPdpiRSh32Z_aF...   \n5      http://www.youtube.com/channel/UCaLhaN-DOPSyWu...   \n6      http://www.youtube.com/channel/UCLfU6hoVJVcc_1...   \n...                                                  ...   \n74955  http://www.youtube.com/channel/UCg_7OSCvXQr2UI...   \n74959  http://www.youtube.com/channel/UCg_7OSCvXQr2UI...   \n74960  http://www.youtube.com/channel/UCy1Ot7WRtOLW5m...   \n74961  http://www.youtube.com/channel/UCWh4RXTFaAC6FQ...   \n74962  http://www.youtube.com/channel/UCg_7OSCvXQr2UI...   \n\n      snippet.authorChannelId.value  ...     snippet.updatedAt   \n0          UCK3lFIDZOZ4rncDMhNB_CbA  ...  2023-04-21T12:49:12Z  \\\n3          UCnAYp5V6juJLe5Kt61YcK1g  ...  2023-04-15T08:11:42Z   \n4          UCPdpiRSh32Z_aFnkpFfR9jQ  ...  2023-04-14T08:32:11Z   \n5          UCaLhaN-DOPSyWumr-0IrJYA  ...  2023-04-14T03:33:15Z   \n6          UCLfU6hoVJVcc_1vq_qU6CEw  ...  2023-04-13T19:51:06Z   \n...                             ...  ...                   ...   \n74955      UCg_7OSCvXQr2UIs6VdastrA  ...  2023-01-02T15:15:14Z   \n74959      UCg_7OSCvXQr2UIs6VdastrA  ...  2023-01-02T14:48:34Z   \n74960      UCy1Ot7WRtOLW5mwPH3QNjyg  ...  2023-01-02T14:44:12Z   \n74961      UCWh4RXTFaAC6FQXddNqpAkA  ...  2023-01-02T14:41:49Z   \n74962      UCg_7OSCvXQr2UIs6VdastrA  ...  2023-01-02T14:27:07Z   \n\n      snippet.canReply  snippet.totalReplyCount snippet.isPublic   \n0                  1.0                      0.0              1.0  \\\n3                  1.0                      0.0              1.0   \n4                  1.0                      0.0              1.0   \n5                  1.0                      0.0              1.0   \n6                  1.0                      0.0              1.0   \n...                ...                      ...              ...   \n74955              NaN                      NaN              NaN   \n74959              NaN                      NaN              NaN   \n74960              NaN                      NaN              NaN   \n74961              NaN                      NaN              NaN   \n74962              NaN                      NaN              NaN   \n\n      snippet.moderationStatus            snippet.parentId   \n0                          NaN                          -1  \\\n3                          NaN                          -1   \n4                          NaN                          -1   \n5                          NaN                          -1   \n6                          NaN                          -1   \n...                        ...                         ...   \n74955                      NaN  Ugwz6GshlUZMMumE9n54AaABAg   \n74959                      NaN  Ugwz6GshlUZMMumE9n54AaABAg   \n74960                      NaN  Ugwz6GshlUZMMumE9n54AaABAg   \n74961                      NaN  Ugwz6GshlUZMMumE9n54AaABAg   \n74962                      NaN  Ugwz6GshlUZMMumE9n54AaABAg   \n\n                                            cleaned_text   \n0      Люди тупые, они не понимают, что оригинал стои...  \\\n3      Не понимаю маниакального желания покупать коре...   \n4      Пару лет назад на Озон купила духи D&G The One...   \n5      Я дико извиняюсь, но слово контрофакт, если я ...   \n6      Вайлдбериз вообще никого и ничего не уважает и...   \n...                                                  ...   \n74955  Марципану можно придать любую форму-...батончи...   \n74959   CamilleriУ вас итальянская фамилия...в Италии...   \n74960  и вообще невкусный... я только батончики марци...   \n74961  А у нас это каштаны называют и кулинарные изде...   \n74962  Марципан - миндальный орех перетёртый с сахаро...   \n\n                                         lemmatized_text lem_word_count   \n0      человек тупой понимать оригинал стоять офигенн...              9  \\\n3      понимать маниакальный желание покупать корейск...             25   \n4      пара год назад озон купить дух d g the one жен...             44   \n5      дико извиняться слово контрофакт ошибаться выл...              9   \n6      вайлдбериз вообще никто ничто уважать далеко э...              9   \n...                                                  ...            ...   \n74955  марципан придавать любой форма батончик шарик ...             19   \n74959  camilleriу итальянский фамилия италия марципан...             14   \n74960  вообще невкусный батончик марципановый шоколад...             14   \n74961  это каштан называть кулинарный изделие миндаль...              7   \n74962  марципан миндальный орех перетирать сахар плох...             12   \n\n      lem_sym_count  \n0                65  \n3               245  \n4               309  \n5                79  \n6                64  \n...             ...  \n74955           143  \n74959           111  \n74960           122  \n74961            54  \n74962            95  \n\n[41811 rows x 24 columns]",
      "text/html": "<div>\n<style scoped>\n    .dataframe tbody tr th:only-of-type {\n        vertical-align: middle;\n    }\n\n    .dataframe tbody tr th {\n        vertical-align: top;\n    }\n\n    .dataframe thead th {\n        text-align: right;\n    }\n</style>\n<table border=\"1\" class=\"dataframe\">\n  <thead>\n    <tr style=\"text-align: right;\">\n      <th></th>\n      <th>kind</th>\n      <th>etag</th>\n      <th>id</th>\n      <th>snippet.videoId</th>\n      <th>snippet.textDisplay</th>\n      <th>snippet.textOriginal</th>\n      <th>snippet.authorDisplayName</th>\n      <th>snippet.authorProfileImageUrl</th>\n      <th>snippet.authorChannelUrl</th>\n      <th>snippet.authorChannelId.value</th>\n      <th>...</th>\n      <th>snippet.updatedAt</th>\n      <th>snippet.canReply</th>\n      <th>snippet.totalReplyCount</th>\n      <th>snippet.isPublic</th>\n      <th>snippet.moderationStatus</th>\n      <th>snippet.parentId</th>\n      <th>cleaned_text</th>\n      <th>lemmatized_text</th>\n      <th>lem_word_count</th>\n      <th>lem_sym_count</th>\n    </tr>\n  </thead>\n  <tbody>\n    <tr>\n      <th>0</th>\n      <td>youtube#commentThread</td>\n      <td>0k0BN3l02ihEAO1Tpx9iNp6S9ZU</td>\n      <td>UgyKlKuQTfZlkw5sqeN4AaABAg</td>\n      <td>AAjsSrjZXsw</td>\n      <td>Люди тупые, они не понимают, что оригинал стои...</td>\n      <td>Люди тупые, они не понимают, что оригинал стои...</td>\n      <td>Елена Марьина</td>\n      <td>https://yt3.ggpht.com/ytc/AGIKgqM3X8z1SO9ODCNk...</td>\n      <td>http://www.youtube.com/channel/UCK3lFIDZOZ4rnc...</td>\n      <td>UCK3lFIDZOZ4rncDMhNB_CbA</td>\n      <td>...</td>\n      <td>2023-04-21T12:49:12Z</td>\n      <td>1.0</td>\n      <td>0.0</td>\n      <td>1.0</td>\n      <td>NaN</td>\n      <td>-1</td>\n      <td>Люди тупые, они не понимают, что оригинал стои...</td>\n      <td>человек тупой понимать оригинал стоять офигенн...</td>\n      <td>9</td>\n      <td>65</td>\n    </tr>\n    <tr>\n      <th>3</th>\n      <td>youtube#commentThread</td>\n      <td>PtN9_fEasELRW9S1Y7AAtR6OYy8</td>\n      <td>UgxQi90tx9SVF0IauDN4AaABAg</td>\n      <td>AAjsSrjZXsw</td>\n      <td>Не понимаю маниакального желания покупать коре...</td>\n      <td>Не понимаю маниакального желания покупать коре...</td>\n      <td>Glapfira Nikolaevna</td>\n      <td>https://yt3.ggpht.com/ytc/AGIKgqM0Fnoc1nMvlwuO...</td>\n      <td>http://www.youtube.com/channel/UCnAYp5V6juJLe5...</td>\n      <td>UCnAYp5V6juJLe5Kt61YcK1g</td>\n      <td>...</td>\n      <td>2023-04-15T08:11:42Z</td>\n      <td>1.0</td>\n      <td>0.0</td>\n      <td>1.0</td>\n      <td>NaN</td>\n      <td>-1</td>\n      <td>Не понимаю маниакального желания покупать коре...</td>\n      <td>понимать маниакальный желание покупать корейск...</td>\n      <td>25</td>\n      <td>245</td>\n    </tr>\n    <tr>\n      <th>4</th>\n      <td>youtube#commentThread</td>\n      <td>XzPn7hMxSpX2yOI5d2m3PsKJZXE</td>\n      <td>UgwYIO4Dwr8lwOl5_jl4AaABAg</td>\n      <td>AAjsSrjZXsw</td>\n      <td>Пару лет назад на Озон купила духи D&amp;G The One...</td>\n      <td>Пару лет назад на Озон купила духи D&amp;G The One...</td>\n      <td>Гурия Мирзаева</td>\n      <td>https://yt3.ggpht.com/6ayZjUJzCfjZIzeL3xWnkfIt...</td>\n      <td>http://www.youtube.com/channel/UCPdpiRSh32Z_aF...</td>\n      <td>UCPdpiRSh32Z_aFnkpFfR9jQ</td>\n      <td>...</td>\n      <td>2023-04-14T08:32:11Z</td>\n      <td>1.0</td>\n      <td>0.0</td>\n      <td>1.0</td>\n      <td>NaN</td>\n      <td>-1</td>\n      <td>Пару лет назад на Озон купила духи D&amp;G The One...</td>\n      <td>пара год назад озон купить дух d g the one жен...</td>\n      <td>44</td>\n      <td>309</td>\n    </tr>\n    <tr>\n      <th>5</th>\n      <td>youtube#commentThread</td>\n      <td>ejjL-URwm0My3iMZ4dXw6JZipt4</td>\n      <td>UgxvyL4Z2XXYCvnraL54AaABAg</td>\n      <td>AAjsSrjZXsw</td>\n      <td>Я дико извиняюсь, но слово контрофакт, если я ...</td>\n      <td>Я дико извиняюсь, но слово контрофакт, если я ...</td>\n      <td>thefallensun_</td>\n      <td>https://yt3.ggpht.com/xfB8w-1dm4mrr5R-0pzwzAje...</td>\n      <td>http://www.youtube.com/channel/UCaLhaN-DOPSyWu...</td>\n      <td>UCaLhaN-DOPSyWumr-0IrJYA</td>\n      <td>...</td>\n      <td>2023-04-14T03:33:15Z</td>\n      <td>1.0</td>\n      <td>0.0</td>\n      <td>1.0</td>\n      <td>NaN</td>\n      <td>-1</td>\n      <td>Я дико извиняюсь, но слово контрофакт, если я ...</td>\n      <td>дико извиняться слово контрофакт ошибаться выл...</td>\n      <td>9</td>\n      <td>79</td>\n    </tr>\n    <tr>\n      <th>6</th>\n      <td>youtube#commentThread</td>\n      <td>DpkPO14H9A20riVhLcdjFgZEA20</td>\n      <td>Ugwwha8cCeWK74_460h4AaABAg</td>\n      <td>AAjsSrjZXsw</td>\n      <td>Вайлдбериз вообще никого и ничего не уважает и...</td>\n      <td>Вайлдбериз вообще никого и ничего не уважает и...</td>\n      <td>Наталья Пирогова</td>\n      <td>https://yt3.ggpht.com/ytc/AGIKgqPpYjVGUA-96Elq...</td>\n      <td>http://www.youtube.com/channel/UCLfU6hoVJVcc_1...</td>\n      <td>UCLfU6hoVJVcc_1vq_qU6CEw</td>\n      <td>...</td>\n      <td>2023-04-13T19:51:06Z</td>\n      <td>1.0</td>\n      <td>0.0</td>\n      <td>1.0</td>\n      <td>NaN</td>\n      <td>-1</td>\n      <td>Вайлдбериз вообще никого и ничего не уважает и...</td>\n      <td>вайлдбериз вообще никто ничто уважать далеко э...</td>\n      <td>9</td>\n      <td>64</td>\n    </tr>\n    <tr>\n      <th>...</th>\n      <td>...</td>\n      <td>...</td>\n      <td>...</td>\n      <td>...</td>\n      <td>...</td>\n      <td>...</td>\n      <td>...</td>\n      <td>...</td>\n      <td>...</td>\n      <td>...</td>\n      <td>...</td>\n      <td>...</td>\n      <td>...</td>\n      <td>...</td>\n      <td>...</td>\n      <td>...</td>\n      <td>...</td>\n      <td>...</td>\n      <td>...</td>\n      <td>...</td>\n      <td>...</td>\n    </tr>\n    <tr>\n      <th>74955</th>\n      <td>youtube#comment</td>\n      <td>4JaIuAQDjUbqIJHEYBJjYuJb2nQ</td>\n      <td>Ugwz6GshlUZMMumE9n54AaABAg.9kO7ERtCXa_9kODjmNACUy</td>\n      <td>boB2LEXG_zA</td>\n      <td>Марципану можно придать любую форму-...батончи...</td>\n      <td>Марципану можно придать любую форму-...батончи...</td>\n      <td>Nadeschda Schmunk</td>\n      <td>https://yt3.ggpht.com/ytc/AGIKgqO0H2st_sGuf3x2...</td>\n      <td>http://www.youtube.com/channel/UCg_7OSCvXQr2UI...</td>\n      <td>UCg_7OSCvXQr2UIs6VdastrA</td>\n      <td>...</td>\n      <td>2023-01-02T15:15:14Z</td>\n      <td>NaN</td>\n      <td>NaN</td>\n      <td>NaN</td>\n      <td>NaN</td>\n      <td>Ugwz6GshlUZMMumE9n54AaABAg</td>\n      <td>Марципану можно придать любую форму-...батончи...</td>\n      <td>марципан придавать любой форма батончик шарик ...</td>\n      <td>19</td>\n      <td>143</td>\n    </tr>\n    <tr>\n      <th>74959</th>\n      <td>youtube#comment</td>\n      <td>76ZikfK-4FYaTjhUiQ7t2XpvUQM</td>\n      <td>Ugwz6GshlUZMMumE9n54AaABAg.9kO7ERtCXa_9kOAgUwU2Jj</td>\n      <td>boB2LEXG_zA</td>\n      <td>@Elena CamilleriУ вас итальянская фамилия...в ...</td>\n      <td>@Elena CamilleriУ вас итальянская фамилия...в ...</td>\n      <td>Nadeschda Schmunk</td>\n      <td>https://yt3.ggpht.com/ytc/AGIKgqO0H2st_sGuf3x2...</td>\n      <td>http://www.youtube.com/channel/UCg_7OSCvXQr2UI...</td>\n      <td>UCg_7OSCvXQr2UIs6VdastrA</td>\n      <td>...</td>\n      <td>2023-01-02T14:48:34Z</td>\n      <td>NaN</td>\n      <td>NaN</td>\n      <td>NaN</td>\n      <td>NaN</td>\n      <td>Ugwz6GshlUZMMumE9n54AaABAg</td>\n      <td>CamilleriУ вас итальянская фамилия...в Италии...</td>\n      <td>camilleriу итальянский фамилия италия марципан...</td>\n      <td>14</td>\n      <td>111</td>\n    </tr>\n    <tr>\n      <th>74960</th>\n      <td>youtube#comment</td>\n      <td>EpQVpJK1kawzMPVjx2yo7dLgZPU</td>\n      <td>Ugwz6GshlUZMMumE9n54AaABAg.9kO7ERtCXa_9kOABWk8eEa</td>\n      <td>boB2LEXG_zA</td>\n      <td>и вообще невкусный... я только батончики марци...</td>\n      <td>и вообще невкусный... я только батончики марци...</td>\n      <td>Марина Марина</td>\n      <td>https://yt3.ggpht.com/ytc/AGIKgqPUKd0eJf_TkKkF...</td>\n      <td>http://www.youtube.com/channel/UCy1Ot7WRtOLW5m...</td>\n      <td>UCy1Ot7WRtOLW5mwPH3QNjyg</td>\n      <td>...</td>\n      <td>2023-01-02T14:44:12Z</td>\n      <td>NaN</td>\n      <td>NaN</td>\n      <td>NaN</td>\n      <td>NaN</td>\n      <td>Ugwz6GshlUZMMumE9n54AaABAg</td>\n      <td>и вообще невкусный... я только батончики марци...</td>\n      <td>вообще невкусный батончик марципановый шоколад...</td>\n      <td>14</td>\n      <td>122</td>\n    </tr>\n    <tr>\n      <th>74961</th>\n      <td>youtube#comment</td>\n      <td>1MYi23swom0QiqL-3I5J3HUvhFs</td>\n      <td>Ugwz6GshlUZMMumE9n54AaABAg.9kO7ERtCXa_9kO9mW3prUk</td>\n      <td>boB2LEXG_zA</td>\n      <td>А у нас это каштаны называют и кулинарные изде...</td>\n      <td>А у нас это каштаны называют и кулинарные изде...</td>\n      <td>Elena Camilleri</td>\n      <td>https://yt3.ggpht.com/ytc/AGIKgqM5ErRkYk_c4aFA...</td>\n      <td>http://www.youtube.com/channel/UCWh4RXTFaAC6FQ...</td>\n      <td>UCWh4RXTFaAC6FQXddNqpAkA</td>\n      <td>...</td>\n      <td>2023-01-02T14:41:49Z</td>\n      <td>NaN</td>\n      <td>NaN</td>\n      <td>NaN</td>\n      <td>NaN</td>\n      <td>Ugwz6GshlUZMMumE9n54AaABAg</td>\n      <td>А у нас это каштаны называют и кулинарные изде...</td>\n      <td>это каштан называть кулинарный изделие миндаль...</td>\n      <td>7</td>\n      <td>54</td>\n    </tr>\n    <tr>\n      <th>74962</th>\n      <td>youtube#comment</td>\n      <td>kzWOwUlRaSdBg8Yyz-kRU-JlQLI</td>\n      <td>Ugwz6GshlUZMMumE9n54AaABAg.9kO7ERtCXa_9kO8EO8-PUw</td>\n      <td>boB2LEXG_zA</td>\n      <td>Марципан - миндальный орех перетёртый с сахаро...</td>\n      <td>Марципан - миндальный орех перетёртый с сахаро...</td>\n      <td>Nadeschda Schmunk</td>\n      <td>https://yt3.ggpht.com/ytc/AGIKgqO0H2st_sGuf3x2...</td>\n      <td>http://www.youtube.com/channel/UCg_7OSCvXQr2UI...</td>\n      <td>UCg_7OSCvXQr2UIs6VdastrA</td>\n      <td>...</td>\n      <td>2023-01-02T14:27:07Z</td>\n      <td>NaN</td>\n      <td>NaN</td>\n      <td>NaN</td>\n      <td>NaN</td>\n      <td>Ugwz6GshlUZMMumE9n54AaABAg</td>\n      <td>Марципан - миндальный орех перетёртый с сахаро...</td>\n      <td>марципан миндальный орех перетирать сахар плох...</td>\n      <td>12</td>\n      <td>95</td>\n    </tr>\n  </tbody>\n</table>\n<p>41811 rows × 24 columns</p>\n</div>"
     },
     "execution_count": 25,
     "metadata": {},
     "output_type": "execute_result"
    }
   ],
   "source": [
    "selected_cmts = comments[comments['lem_word_count'] >= 6]\n",
    "\n"
   ],
   "metadata": {
    "collapsed": false,
    "ExecuteTime": {
     "end_time": "2023-05-20T08:32:58.534727Z",
     "start_time": "2023-05-20T08:32:58.457804Z"
    }
   }
  },
  {
   "cell_type": "code",
   "execution_count": 27,
   "outputs": [],
   "source": [
    "vars = ['id',\n",
    "        'snippet.videoId',\n",
    "        'snippet.textDisplay',\n",
    "        'snippet.textOriginal',\n",
    "        'snippet.authorDisplayName',\n",
    "        'snippet.parentId',\n",
    "        'cleaned_text',\n",
    "        'lemmatized_text'\n",
    "        ]\n",
    "\n",
    "selected_cmts.to_csv(DATA_PATH / 'comment' / 'comments_all.csv', sep='\\t', index=False)\n",
    "selected_cmts[vars].to_csv(DATA_PATH / 'comment' / 'comments_text.csv', sep='\\t', index=False)"
   ],
   "metadata": {
    "collapsed": false,
    "ExecuteTime": {
     "end_time": "2023-05-20T08:35:58.170635Z",
     "start_time": "2023-05-20T08:35:56.892493Z"
    }
   }
  },
  {
   "cell_type": "code",
   "execution_count": null,
   "outputs": [],
   "source": [],
   "metadata": {
    "collapsed": false
   }
  }
 ],
 "metadata": {
  "kernelspec": {
   "display_name": "Python 3",
   "language": "python",
   "name": "python3"
  },
  "language_info": {
   "codemirror_mode": {
    "name": "ipython",
    "version": 2
   },
   "file_extension": ".py",
   "mimetype": "text/x-python",
   "name": "python",
   "nbconvert_exporter": "python",
   "pygments_lexer": "ipython2",
   "version": "2.7.6"
  }
 },
 "nbformat": 4,
 "nbformat_minor": 0
}
