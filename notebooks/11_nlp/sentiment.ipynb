{
 "cells": [
  {
   "cell_type": "markdown",
   "source": [
    "# Сентимент моделирование\n",
    "\n",
    "В предыдущих сериях:\n",
    "\n",
    "1) Сделали обычный процессинг - столбец `cleaned_text`\n",
    "2) Сделали лемматизацию - `lemmatized_text`\n",
    "3) По lemmatized_text сделали селекцию от 6 слов и больше\n"
   ],
   "metadata": {
    "collapsed": false
   }
  },
  {
   "cell_type": "code",
   "execution_count": 1,
   "outputs": [],
   "source": [
    "import numpy as np\n",
    "\n",
    "# 1\n",
    "import pandas as pd\n",
    "\n",
    "import yaml\n",
    "import pathlib\n",
    "\n",
    "ROOT = pathlib.Path().resolve().parent.parent\n",
    "\n",
    "with open(ROOT / \"config.yml\", \"r\") as f:\n",
    "    config = yaml.load(f, Loader=yaml.FullLoader)\n",
    "\n",
    "DATA_PATH = ROOT / config['api']['DATA_PATH']"
   ],
   "metadata": {
    "collapsed": false,
    "ExecuteTime": {
     "end_time": "2023-05-27T14:46:12.262528Z",
     "start_time": "2023-05-27T14:46:11.905363Z"
    }
   }
  },
  {
   "cell_type": "code",
   "execution_count": 2,
   "id": "dd18ee52",
   "metadata": {
    "ExecuteTime": {
     "end_time": "2023-05-27T14:46:12.382087Z",
     "start_time": "2023-05-27T14:46:12.264999Z"
    }
   },
   "outputs": [
    {
     "data": {
      "text/plain": "      index                                                 id   \n0     27894                         UgxhFoxSqx1yAYT7atp4AaABAg  \\\n1     20820                         UgwTTZmqC3dcnrL3f5B4AaABAg   \n2     10202                         UgySgzy2iZMjLLcDxhh4AaABAg   \n3     16470                         UgwVuVcwFxZwVSPmC3Z4AaABAg   \n4     29970  Ugw029ioXJAgbOWrCA94AaABAg.9cwNxc_Z_4M9dM4AHOpjsE   \n...     ...                                                ...   \n5447  41765  UgyNMcGbdzS3PJkhNp14AaABAg.9kO9yJDDrCh9kOOwLQ1tsf   \n5448  41769  UgyNMcGbdzS3PJkhNp14AaABAg.9kO9yJDDrCh9kONm9pHXJ_   \n5449  41771  UgyNMcGbdzS3PJkhNp14AaABAg.9kO9yJDDrCh9kOLqLSTzR5   \n5450  41777  UgyNMcGbdzS3PJkhNp14AaABAg.9kO9yJDDrCh9kOCWb6ImX5   \n5451  41810  Ugwz6GshlUZMMumE9n54AaABAg.9kO7ERtCXa_9kO8EO8-PUw   \n\n     snippet.videoId                                snippet.textDisplay   \n0        Li9V9D0b_hM  Ксюша спасибо за ваш труд и за полезную информ...  \\\n1        HLNcjqIq7gs  Макияж сегодня особенно красивый;) пока пробов...   \n2        j1IdDdQcJng  Никогда не смотрела Лиссу, но сейчас уже 3 ден...   \n3        IkzWyECzlco  Руки Кёнха столько всего повидали за несколько...   \n4        Wi49rKRM85U  А ретиноид как вы используете? Всё хочу начать...   \n...              ...                                                ...   \n5447     boB2LEXG_zA  @mila ya я как то помыла мылом лицо месяца два...   \n5448     boB2LEXG_zA  @Natali N во первых, я всю жизнь проработала в...   \n5449     boB2LEXG_zA  @ЗаноZa , Да-да, продажная цена три копейки, а...   \n5450     boB2LEXG_zA  А мне она не подходит , на лице скатывается . ...   \n5451     boB2LEXG_zA  Марципан - миндальный орех перетёртый с сахаро...   \n\n                                   snippet.textOriginal   \n0     Ксюша спасибо за ваш труд и за полезную информ...  \\\n1     Макияж сегодня особенно красивый;) пока пробов...   \n2     Никогда не смотрела Лиссу, но сейчас уже 3 ден...   \n3     Руки Кёнха столько всего повидали за несколько...   \n4     А ретиноид как вы используете? Всё хочу начать...   \n...                                                 ...   \n5447  @mila ya я как то помыла мылом лицо месяца два...   \n5448  @Natali N во первых, я всю жизнь проработала в...   \n5449  @ЗаноZa , Да-да, продажная цена три копейки, а...   \n5450  А мне она не подходит , на лице скатывается . ...   \n5451  Марципан - миндальный орех перетёртый с сахаро...   \n\n     snippet.authorDisplayName            snippet.parentId   \n0                   Natalja Sk                          -1  \\\n1               Diana Suvorova                          -1   \n2                      Призрак                          -1   \n3                 Zoro Roronoa                          -1   \n4                   brainbrain  Ugw029ioXJAgbOWrCA94AaABAg   \n...                        ...                         ...   \n5447             Марина Марина                         NaN   \n5448                   mila ya                         NaN   \n5449                  Natali N                         NaN   \n5450              черная мамба                         NaN   \n5451         Nadeschda Schmunk                         NaN   \n\n                                           cleaned_text   \n0     Ксюша спасибо за ваш труд и за полезную информ...  \\\n1     Макияж сегодня особенно красивый;) пока пробов...   \n2     Никогда не смотрела Лиссу, но сейчас уже 3 ден...   \n3     Руки Кёнха столько всего повидали за несколько...   \n4     А ретиноид как вы используете? Всё хочу начать...   \n...                                                 ...   \n5447   ya я как то помыла мылом лицо месяца два.. не...   \n5448   N во первых, я всю жизнь проработала в кабине...   \n5449  @ЗаноZa , Да-да, продажная цена три копейки, а...   \n5450  А мне она не подходит , на лице скатывается . ...   \n5451  Марципан - миндальный орех перетёртый с сахаро...   \n\n                                        lemmatized_text  Разметка даннных  \n0     ксюша спасибо ваш труд полезный информация дум...               NaN  \n1     макияж сегодня особенно красивый пока пробоват...               NaN  \n2      смотреть лисс день смотреть уютный веселый видео               NaN  \n3           рука кенх столько повидать несколько минута               NaN  \n4     ретиноид использовать хотеть начинать знать по...               NaN  \n...                                                 ...               ...  \n5447  ya помыть мыло лицо месяц спец средство мягко ...               0.0  \n5448  n первый весь жизнь прорабатывать кабинет пыль...               2.0  \n5449  заноza продажный цена копейка закупочный минус...               2.0  \n5450  подходить лицо скатываться просто нивея мазюка...               0.0  \n5451  марципан миндальный орех перетирать сахар плох...               3.0  \n\n[5452 rows x 10 columns]",
      "text/html": "<div>\n<style scoped>\n    .dataframe tbody tr th:only-of-type {\n        vertical-align: middle;\n    }\n\n    .dataframe tbody tr th {\n        vertical-align: top;\n    }\n\n    .dataframe thead th {\n        text-align: right;\n    }\n</style>\n<table border=\"1\" class=\"dataframe\">\n  <thead>\n    <tr style=\"text-align: right;\">\n      <th></th>\n      <th>index</th>\n      <th>id</th>\n      <th>snippet.videoId</th>\n      <th>snippet.textDisplay</th>\n      <th>snippet.textOriginal</th>\n      <th>snippet.authorDisplayName</th>\n      <th>snippet.parentId</th>\n      <th>cleaned_text</th>\n      <th>lemmatized_text</th>\n      <th>Разметка даннных</th>\n    </tr>\n  </thead>\n  <tbody>\n    <tr>\n      <th>0</th>\n      <td>27894</td>\n      <td>UgxhFoxSqx1yAYT7atp4AaABAg</td>\n      <td>Li9V9D0b_hM</td>\n      <td>Ксюша спасибо за ваш труд и за полезную информ...</td>\n      <td>Ксюша спасибо за ваш труд и за полезную информ...</td>\n      <td>Natalja Sk</td>\n      <td>-1</td>\n      <td>Ксюша спасибо за ваш труд и за полезную информ...</td>\n      <td>ксюша спасибо ваш труд полезный информация дум...</td>\n      <td>NaN</td>\n    </tr>\n    <tr>\n      <th>1</th>\n      <td>20820</td>\n      <td>UgwTTZmqC3dcnrL3f5B4AaABAg</td>\n      <td>HLNcjqIq7gs</td>\n      <td>Макияж сегодня особенно красивый;) пока пробов...</td>\n      <td>Макияж сегодня особенно красивый;) пока пробов...</td>\n      <td>Diana Suvorova</td>\n      <td>-1</td>\n      <td>Макияж сегодня особенно красивый;) пока пробов...</td>\n      <td>макияж сегодня особенно красивый пока пробоват...</td>\n      <td>NaN</td>\n    </tr>\n    <tr>\n      <th>2</th>\n      <td>10202</td>\n      <td>UgySgzy2iZMjLLcDxhh4AaABAg</td>\n      <td>j1IdDdQcJng</td>\n      <td>Никогда не смотрела Лиссу, но сейчас уже 3 ден...</td>\n      <td>Никогда не смотрела Лиссу, но сейчас уже 3 ден...</td>\n      <td>Призрак</td>\n      <td>-1</td>\n      <td>Никогда не смотрела Лиссу, но сейчас уже 3 ден...</td>\n      <td>смотреть лисс день смотреть уютный веселый видео</td>\n      <td>NaN</td>\n    </tr>\n    <tr>\n      <th>3</th>\n      <td>16470</td>\n      <td>UgwVuVcwFxZwVSPmC3Z4AaABAg</td>\n      <td>IkzWyECzlco</td>\n      <td>Руки Кёнха столько всего повидали за несколько...</td>\n      <td>Руки Кёнха столько всего повидали за несколько...</td>\n      <td>Zoro Roronoa</td>\n      <td>-1</td>\n      <td>Руки Кёнха столько всего повидали за несколько...</td>\n      <td>рука кенх столько повидать несколько минута</td>\n      <td>NaN</td>\n    </tr>\n    <tr>\n      <th>4</th>\n      <td>29970</td>\n      <td>Ugw029ioXJAgbOWrCA94AaABAg.9cwNxc_Z_4M9dM4AHOpjsE</td>\n      <td>Wi49rKRM85U</td>\n      <td>А ретиноид как вы используете? Всё хочу начать...</td>\n      <td>А ретиноид как вы используете? Всё хочу начать...</td>\n      <td>brainbrain</td>\n      <td>Ugw029ioXJAgbOWrCA94AaABAg</td>\n      <td>А ретиноид как вы используете? Всё хочу начать...</td>\n      <td>ретиноид использовать хотеть начинать знать по...</td>\n      <td>NaN</td>\n    </tr>\n    <tr>\n      <th>...</th>\n      <td>...</td>\n      <td>...</td>\n      <td>...</td>\n      <td>...</td>\n      <td>...</td>\n      <td>...</td>\n      <td>...</td>\n      <td>...</td>\n      <td>...</td>\n      <td>...</td>\n    </tr>\n    <tr>\n      <th>5447</th>\n      <td>41765</td>\n      <td>UgyNMcGbdzS3PJkhNp14AaABAg.9kO9yJDDrCh9kOOwLQ1tsf</td>\n      <td>boB2LEXG_zA</td>\n      <td>@mila ya я как то помыла мылом лицо месяца два...</td>\n      <td>@mila ya я как то помыла мылом лицо месяца два...</td>\n      <td>Марина Марина</td>\n      <td>NaN</td>\n      <td>ya я как то помыла мылом лицо месяца два.. не...</td>\n      <td>ya помыть мыло лицо месяц спец средство мягко ...</td>\n      <td>0.0</td>\n    </tr>\n    <tr>\n      <th>5448</th>\n      <td>41769</td>\n      <td>UgyNMcGbdzS3PJkhNp14AaABAg.9kO9yJDDrCh9kONm9pHXJ_</td>\n      <td>boB2LEXG_zA</td>\n      <td>@Natali N во первых, я всю жизнь проработала в...</td>\n      <td>@Natali N во первых, я всю жизнь проработала в...</td>\n      <td>mila ya</td>\n      <td>NaN</td>\n      <td>N во первых, я всю жизнь проработала в кабине...</td>\n      <td>n первый весь жизнь прорабатывать кабинет пыль...</td>\n      <td>2.0</td>\n    </tr>\n    <tr>\n      <th>5449</th>\n      <td>41771</td>\n      <td>UgyNMcGbdzS3PJkhNp14AaABAg.9kO9yJDDrCh9kOLqLSTzR5</td>\n      <td>boB2LEXG_zA</td>\n      <td>@ЗаноZa , Да-да, продажная цена три копейки, а...</td>\n      <td>@ЗаноZa , Да-да, продажная цена три копейки, а...</td>\n      <td>Natali N</td>\n      <td>NaN</td>\n      <td>@ЗаноZa , Да-да, продажная цена три копейки, а...</td>\n      <td>заноza продажный цена копейка закупочный минус...</td>\n      <td>2.0</td>\n    </tr>\n    <tr>\n      <th>5450</th>\n      <td>41777</td>\n      <td>UgyNMcGbdzS3PJkhNp14AaABAg.9kO9yJDDrCh9kOCWb6ImX5</td>\n      <td>boB2LEXG_zA</td>\n      <td>А мне она не подходит , на лице скатывается . ...</td>\n      <td>А мне она не подходит , на лице скатывается . ...</td>\n      <td>черная мамба</td>\n      <td>NaN</td>\n      <td>А мне она не подходит , на лице скатывается . ...</td>\n      <td>подходить лицо скатываться просто нивея мазюка...</td>\n      <td>0.0</td>\n    </tr>\n    <tr>\n      <th>5451</th>\n      <td>41810</td>\n      <td>Ugwz6GshlUZMMumE9n54AaABAg.9kO7ERtCXa_9kO8EO8-PUw</td>\n      <td>boB2LEXG_zA</td>\n      <td>Марципан - миндальный орех перетёртый с сахаро...</td>\n      <td>Марципан - миндальный орех перетёртый с сахаро...</td>\n      <td>Nadeschda Schmunk</td>\n      <td>NaN</td>\n      <td>Марципан - миндальный орех перетёртый с сахаро...</td>\n      <td>марципан миндальный орех перетирать сахар плох...</td>\n      <td>3.0</td>\n    </tr>\n  </tbody>\n</table>\n<p>5452 rows × 10 columns</p>\n</div>"
     },
     "execution_count": 2,
     "metadata": {},
     "output_type": "execute_result"
    }
   ],
   "source": [
    "# 2\n",
    "\n",
    "dataset = pd.read_csv(DATA_PATH / 'comment' / 'cm_dataset.csv')\n",
    "dataset"
   ]
  },
  {
   "cell_type": "code",
   "execution_count": 3,
   "outputs": [],
   "source": [
    "# !pip install transformers sentencepiece --quiet\n",
    "import torch\n",
    "from transformers import AutoTokenizer, AutoModelForSequenceClassification\n",
    "\n",
    "model_checkpoint = 'cointegrated/rubert-tiny2-cedr-emotion-detection'\n",
    "tokenizer = AutoTokenizer.from_pretrained(model_checkpoint)\n",
    "model = AutoModelForSequenceClassification.from_pretrained(model_checkpoint)\n",
    "\n",
    "if torch.cuda.is_available():\n",
    "    model.cuda()\n",
    "\n"
   ],
   "metadata": {
    "collapsed": false,
    "ExecuteTime": {
     "end_time": "2023-05-27T14:46:15.424670Z",
     "start_time": "2023-05-27T14:46:12.383057Z"
    }
   }
  },
  {
   "cell_type": "code",
   "execution_count": 4,
   "outputs": [
    {
     "name": "stdout",
     "output_type": "stream",
     "text": [
      "Ксюша спасибо за ваш труд и за полезную информацию .😊Я думаю  Вебинар отличная   идея👍🏻😊\n",
      "joy\n",
      "0.9943837854079902\n",
      "[0.3408624  0.63062835 0.00296949 0.01297583 0.00276205 0.00418568]\n"
     ]
    }
   ],
   "source": [
    "def get_sentiment(text, return_type='label'):\n",
    "    \"\"\" Calculate sentiment of a text. `return_type` can be 'label', 'score' or 'proba' \"\"\"\n",
    "    with torch.no_grad():\n",
    "        inputs = tokenizer(text, return_tensors='pt', truncation=True, padding=True).to(model.device)\n",
    "        proba = torch.sigmoid(model(**inputs).logits).cpu().numpy()[0]\n",
    "    if return_type == 'label':\n",
    "        return model.config.id2label[proba.argmax()]\n",
    "    elif return_type == 'score':\n",
    "        return proba.dot([1, 1, 1, 1, 1, 1])\n",
    "    return proba\n",
    "\n",
    "test_text = dataset['cleaned_text'][0]\n",
    "print(test_text)\n",
    "    # classify the text\n",
    "print(get_sentiment(test_text, 'label'))  # negative\n",
    "    # score the text on the scale from -1 (very negative) to +1 (very positive)\n",
    "print(get_sentiment(test_text, 'score'))  # -0.5894946306943893\n",
    "    # calculate probabilities of all labels\n",
    "print(get_sentiment(test_text, 'proba'))  # [0.7870447  0.4947824  0.19755007]"
   ],
   "metadata": {
    "collapsed": false,
    "ExecuteTime": {
     "end_time": "2023-05-27T14:46:15.461689Z",
     "start_time": "2023-05-27T14:46:15.427081Z"
    }
   }
  },
  {
   "cell_type": "code",
   "execution_count": 5,
   "outputs": [
    {
     "name": "stdout",
     "output_type": "stream",
     "text": [
      "huggingface/tokenizers: The current process just got forked, after parallelism has already been used. Disabling parallelism to avoid deadlocks...\n",
      "To disable this warning, you can either:\n",
      "\t- Avoid using `tokenizers` before the fork if possible\n",
      "\t- Explicitly set the environment variable TOKENIZERS_PARALLELISM=(true | false)\n"
     ]
    },
    {
     "name": "stderr",
     "output_type": "stream",
     "text": [
      "5452it [00:28, 190.55it/s]\n"
     ]
    }
   ],
   "source": [
    "from tqdm import tqdm\n",
    "\n",
    "sentiments = []\n",
    "\n",
    "for id, text in tqdm(zip(dataset['index'], dataset['cleaned_text'])):\n",
    "\n",
    "    with torch.no_grad():\n",
    "        inputs = tokenizer(text, return_tensors='pt', truncation=True, padding=True).to(model.device)\n",
    "        proba = torch.sigmoid(model(**inputs).logits).cpu().numpy()[0]\n",
    "        label = model.config.id2label[proba.argmax()]\n",
    "        score = proba.dot([1, 1, 1, 1, 1, 1])\n",
    "\n",
    "    sentiments.append({'index': id, 'label': label, 'score': np.max(score)})"
   ],
   "metadata": {
    "collapsed": false,
    "ExecuteTime": {
     "end_time": "2023-05-27T14:46:44.092993Z",
     "start_time": "2023-05-27T14:46:15.464984Z"
    }
   }
  },
  {
   "cell_type": "code",
   "execution_count": 10,
   "outputs": [
    {
     "data": {
      "text/plain": "      index       label     score\n3642  20741         joy  1.041032\n3838  32336         joy  1.000060\n3122   2726         joy  1.011882\n1392  11863     sadness  1.050631\n5326  28654         joy  1.077481\n4797  30318         joy  1.038943\n45    35327         joy  1.043720\n2851    861  no_emotion  1.018172\n2059  34837         joy  0.974486\n2399  28642  no_emotion  1.015934",
      "text/html": "<div>\n<style scoped>\n    .dataframe tbody tr th:only-of-type {\n        vertical-align: middle;\n    }\n\n    .dataframe tbody tr th {\n        vertical-align: top;\n    }\n\n    .dataframe thead th {\n        text-align: right;\n    }\n</style>\n<table border=\"1\" class=\"dataframe\">\n  <thead>\n    <tr style=\"text-align: right;\">\n      <th></th>\n      <th>index</th>\n      <th>label</th>\n      <th>score</th>\n    </tr>\n  </thead>\n  <tbody>\n    <tr>\n      <th>3642</th>\n      <td>20741</td>\n      <td>joy</td>\n      <td>1.041032</td>\n    </tr>\n    <tr>\n      <th>3838</th>\n      <td>32336</td>\n      <td>joy</td>\n      <td>1.000060</td>\n    </tr>\n    <tr>\n      <th>3122</th>\n      <td>2726</td>\n      <td>joy</td>\n      <td>1.011882</td>\n    </tr>\n    <tr>\n      <th>1392</th>\n      <td>11863</td>\n      <td>sadness</td>\n      <td>1.050631</td>\n    </tr>\n    <tr>\n      <th>5326</th>\n      <td>28654</td>\n      <td>joy</td>\n      <td>1.077481</td>\n    </tr>\n    <tr>\n      <th>4797</th>\n      <td>30318</td>\n      <td>joy</td>\n      <td>1.038943</td>\n    </tr>\n    <tr>\n      <th>45</th>\n      <td>35327</td>\n      <td>joy</td>\n      <td>1.043720</td>\n    </tr>\n    <tr>\n      <th>2851</th>\n      <td>861</td>\n      <td>no_emotion</td>\n      <td>1.018172</td>\n    </tr>\n    <tr>\n      <th>2059</th>\n      <td>34837</td>\n      <td>joy</td>\n      <td>0.974486</td>\n    </tr>\n    <tr>\n      <th>2399</th>\n      <td>28642</td>\n      <td>no_emotion</td>\n      <td>1.015934</td>\n    </tr>\n  </tbody>\n</table>\n</div>"
     },
     "metadata": {},
     "output_type": "display_data"
    }
   ],
   "source": [
    "sent_df = pd.DataFrame.from_records(sentiments)\n",
    "\n",
    "display(sent_df.sample(10))"
   ],
   "metadata": {
    "collapsed": false,
    "ExecuteTime": {
     "end_time": "2023-05-27T14:48:43.623556Z",
     "start_time": "2023-05-27T14:48:43.616700Z"
    }
   }
  },
  {
   "cell_type": "code",
   "execution_count": 11,
   "outputs": [],
   "source": [
    "sent_df['text'] = dataset['cleaned_text']\n",
    "sent_df['comment_id'] = dataset['id']\n",
    "sent_df['snippet.videoId'] = dataset['snippet.videoId']\n"
   ],
   "metadata": {
    "collapsed": false,
    "ExecuteTime": {
     "end_time": "2023-05-27T14:48:47.230033Z",
     "start_time": "2023-05-27T14:48:47.225488Z"
    }
   }
  },
  {
   "cell_type": "code",
   "execution_count": 13,
   "outputs": [
    {
     "data": {
      "text/plain": "      index       label     score   \n1299  30387         joy  0.994815  \\\n5180    245     sadness  1.045079   \n385   35681         joy  1.009018   \n1352  37280  no_emotion  1.015874   \n527    7122    surprise  1.138613   \n645   11713  no_emotion  1.002340   \n1588   3885  no_emotion  1.015201   \n2457  33704         joy  1.023280   \n1116  13611         joy  1.042304   \n4593  20948         joy  1.076311   \n\n                                                   text   \n1299  .Zhu , здрасьте, у них референдум по изменению...  \\\n5180  Я так купила фэйковый крем Академия за 50 евро...   \n385   Здравствуйте Сауле. Спасибо большое за Ваше вн...   \n1352   ТЭЦ это другое. В Южную Корею (точнее вообще ...   \n527   Кёнха, а разве в Корее бывают невежливые прода...   \n645   Спасибо за позновательный контент. Скажите вы ...   \n1588  Darling вроде как бренд самого золотого яблока...   \n2457  Ольга Солнечная на губах белордизайн million k...   \n1116   Доброе утро! Спасибо за видео😀 Волосы - шикарны👍   \n4593  Ооочень ждала обзор Purito,спасибо,Ксюша. Ещё ...   \n\n                                             comment_id snippet.videoId  \n1299  UgzjilKhMywWy0oGID14AaABAg.9Yx47jtqbKp9YxOmBQ_Zj9     SzEUlOe0gkU  \n5180                         Ugz-7c6UNXL_00wY4j54AaABAg     AAjsSrjZXsw  \n385   UgxemMoLSCT3_VDgc5N4AaABAg.9BrqQPBrmVI9BtOa9xtfgr     LiW9s4YrMFk  \n1352  Ugy-CJ7dtaRW632ZBZp4AaABAg.9STtvEPlckx9VRIaA7pYwu     2XPnul7asr0  \n527                          UgzOF8dvjmnvWmj8_Tx4AaABAg     _F2MLvKc1Zo  \n645                          Ugw73D9wEA4xVmCcApp4AaABAg     w9E74hDKVuQ  \n1588                         UgzN1iiV8UG8HOxqqsx4AaABAg     4nqfUzIz7kQ  \n2457  UgzFLmjJTU5ySG_5-hF4AaABAg.94wljQ8emiL94wp2-WQAxd     lkHQzaSBnFw  \n1116                         UgzTV_H2Fs56bp6vAD54AaABAg     WtKIVeULhMs  \n4593                         Ugwn0x2pxHjPUQ7KxTN4AaABAg     HLNcjqIq7gs  ",
      "text/html": "<div>\n<style scoped>\n    .dataframe tbody tr th:only-of-type {\n        vertical-align: middle;\n    }\n\n    .dataframe tbody tr th {\n        vertical-align: top;\n    }\n\n    .dataframe thead th {\n        text-align: right;\n    }\n</style>\n<table border=\"1\" class=\"dataframe\">\n  <thead>\n    <tr style=\"text-align: right;\">\n      <th></th>\n      <th>index</th>\n      <th>label</th>\n      <th>score</th>\n      <th>text</th>\n      <th>comment_id</th>\n      <th>snippet.videoId</th>\n    </tr>\n  </thead>\n  <tbody>\n    <tr>\n      <th>1299</th>\n      <td>30387</td>\n      <td>joy</td>\n      <td>0.994815</td>\n      <td>.Zhu , здрасьте, у них референдум по изменению...</td>\n      <td>UgzjilKhMywWy0oGID14AaABAg.9Yx47jtqbKp9YxOmBQ_Zj9</td>\n      <td>SzEUlOe0gkU</td>\n    </tr>\n    <tr>\n      <th>5180</th>\n      <td>245</td>\n      <td>sadness</td>\n      <td>1.045079</td>\n      <td>Я так купила фэйковый крем Академия за 50 евро...</td>\n      <td>Ugz-7c6UNXL_00wY4j54AaABAg</td>\n      <td>AAjsSrjZXsw</td>\n    </tr>\n    <tr>\n      <th>385</th>\n      <td>35681</td>\n      <td>joy</td>\n      <td>1.009018</td>\n      <td>Здравствуйте Сауле. Спасибо большое за Ваше вн...</td>\n      <td>UgxemMoLSCT3_VDgc5N4AaABAg.9BrqQPBrmVI9BtOa9xtfgr</td>\n      <td>LiW9s4YrMFk</td>\n    </tr>\n    <tr>\n      <th>1352</th>\n      <td>37280</td>\n      <td>no_emotion</td>\n      <td>1.015874</td>\n      <td>ТЭЦ это другое. В Южную Корею (точнее вообще ...</td>\n      <td>Ugy-CJ7dtaRW632ZBZp4AaABAg.9STtvEPlckx9VRIaA7pYwu</td>\n      <td>2XPnul7asr0</td>\n    </tr>\n    <tr>\n      <th>527</th>\n      <td>7122</td>\n      <td>surprise</td>\n      <td>1.138613</td>\n      <td>Кёнха, а разве в Корее бывают невежливые прода...</td>\n      <td>UgzOF8dvjmnvWmj8_Tx4AaABAg</td>\n      <td>_F2MLvKc1Zo</td>\n    </tr>\n    <tr>\n      <th>645</th>\n      <td>11713</td>\n      <td>no_emotion</td>\n      <td>1.002340</td>\n      <td>Спасибо за позновательный контент. Скажите вы ...</td>\n      <td>Ugw73D9wEA4xVmCcApp4AaABAg</td>\n      <td>w9E74hDKVuQ</td>\n    </tr>\n    <tr>\n      <th>1588</th>\n      <td>3885</td>\n      <td>no_emotion</td>\n      <td>1.015201</td>\n      <td>Darling вроде как бренд самого золотого яблока...</td>\n      <td>UgzN1iiV8UG8HOxqqsx4AaABAg</td>\n      <td>4nqfUzIz7kQ</td>\n    </tr>\n    <tr>\n      <th>2457</th>\n      <td>33704</td>\n      <td>joy</td>\n      <td>1.023280</td>\n      <td>Ольга Солнечная на губах белордизайн million k...</td>\n      <td>UgzFLmjJTU5ySG_5-hF4AaABAg.94wljQ8emiL94wp2-WQAxd</td>\n      <td>lkHQzaSBnFw</td>\n    </tr>\n    <tr>\n      <th>1116</th>\n      <td>13611</td>\n      <td>joy</td>\n      <td>1.042304</td>\n      <td>Доброе утро! Спасибо за видео😀 Волосы - шикарны👍</td>\n      <td>UgzTV_H2Fs56bp6vAD54AaABAg</td>\n      <td>WtKIVeULhMs</td>\n    </tr>\n    <tr>\n      <th>4593</th>\n      <td>20948</td>\n      <td>joy</td>\n      <td>1.076311</td>\n      <td>Ооочень ждала обзор Purito,спасибо,Ксюша. Ещё ...</td>\n      <td>Ugwn0x2pxHjPUQ7KxTN4AaABAg</td>\n      <td>HLNcjqIq7gs</td>\n    </tr>\n  </tbody>\n</table>\n</div>"
     },
     "execution_count": 13,
     "metadata": {},
     "output_type": "execute_result"
    }
   ],
   "source": [
    "sent_df.sample(10)"
   ],
   "metadata": {
    "collapsed": false,
    "ExecuteTime": {
     "end_time": "2023-05-27T14:49:03.624630Z",
     "start_time": "2023-05-27T14:49:03.609144Z"
    }
   }
  },
  {
   "cell_type": "code",
   "execution_count": 14,
   "outputs": [],
   "source": [
    "sent_df.to_excel(DATA_PATH / 'comment/cm_sentiment.xlsx')"
   ],
   "metadata": {
    "collapsed": false,
    "ExecuteTime": {
     "end_time": "2023-05-27T14:49:27.465712Z",
     "start_time": "2023-05-27T14:49:26.420386Z"
    }
   }
  },
  {
   "cell_type": "code",
   "execution_count": null,
   "outputs": [],
   "source": [],
   "metadata": {
    "collapsed": false,
    "is_executing": true
   }
  }
 ],
 "metadata": {
  "kernelspec": {
   "display_name": "Python 3 (ipykernel)",
   "language": "python",
   "name": "python3"
  },
  "language_info": {
   "codemirror_mode": {
    "name": "ipython",
    "version": 3
   },
   "file_extension": ".py",
   "mimetype": "text/x-python",
   "name": "python",
   "nbconvert_exporter": "python",
   "pygments_lexer": "ipython3",
   "version": "3.9.13"
  }
 },
 "nbformat": 4,
 "nbformat_minor": 5
}
