{
 "cells": [
  {
   "cell_type": "markdown",
   "source": [
    "# Тематическое моделирование\n",
    "\n",
    "В предыдущих сериях:\n",
    "\n",
    "1) Сделали обычный процессинг - столбец `cleaned_text`\n",
    "2) Сделали лемматизацию - `lemmatized_text`\n",
    "3) По lemmatized_text сделали селекцию от 6 слов и больше\n"
   ],
   "metadata": {
    "collapsed": false
   }
  },
  {
   "cell_type": "code",
   "execution_count": 1,
   "outputs": [],
   "source": [
    "# 1\n",
    "import pandas as pd\n",
    "\n",
    "import yaml\n",
    "import pathlib\n",
    "ROOT = pathlib.Path().resolve().parent.parent\n",
    "\n",
    "with open(ROOT / \"config.yml\", \"r\") as f:\n",
    "    config = yaml.load(f, Loader=yaml.FullLoader)\n",
    "\n",
    "DATA_PATH = ROOT / config['api']['DATA_PATH']"
   ],
   "metadata": {
    "collapsed": false,
    "ExecuteTime": {
     "end_time": "2023-05-26T08:56:41.216953Z",
     "start_time": "2023-05-26T08:56:40.718919Z"
    }
   }
  },
  {
   "cell_type": "code",
   "execution_count": 2,
   "id": "dd18ee52",
   "metadata": {
    "ExecuteTime": {
     "end_time": "2023-05-26T08:56:41.968854Z",
     "start_time": "2023-05-26T08:56:41.214323Z"
    }
   },
   "outputs": [
    {
     "data": {
      "text/plain": "                                                      id snippet.videoId   \n0                             UgyKlKuQTfZlkw5sqeN4AaABAg     AAjsSrjZXsw  \\\n1                             UgxQi90tx9SVF0IauDN4AaABAg     AAjsSrjZXsw   \n2                             UgwYIO4Dwr8lwOl5_jl4AaABAg     AAjsSrjZXsw   \n3                             UgxvyL4Z2XXYCvnraL54AaABAg     AAjsSrjZXsw   \n4                             Ugwwha8cCeWK74_460h4AaABAg     AAjsSrjZXsw   \n...                                                  ...             ...   \n41806  Ugwz6GshlUZMMumE9n54AaABAg.9kO7ERtCXa_9kODjmNACUy     boB2LEXG_zA   \n41807  Ugwz6GshlUZMMumE9n54AaABAg.9kO7ERtCXa_9kOAgUwU2Jj     boB2LEXG_zA   \n41808  Ugwz6GshlUZMMumE9n54AaABAg.9kO7ERtCXa_9kOABWk8eEa     boB2LEXG_zA   \n41809  Ugwz6GshlUZMMumE9n54AaABAg.9kO7ERtCXa_9kO9mW3prUk     boB2LEXG_zA   \n41810  Ugwz6GshlUZMMumE9n54AaABAg.9kO7ERtCXa_9kO8EO8-PUw     boB2LEXG_zA   \n\n                                     snippet.textDisplay   \n0      Люди тупые, они не понимают, что оригинал стои...  \\\n1      Не понимаю маниакального желания покупать коре...   \n2      Пару лет назад на Озон купила духи D&G The One...   \n3      Я дико извиняюсь, но слово контрофакт, если я ...   \n4      Вайлдбериз вообще никого и ничего не уважает и...   \n...                                                  ...   \n41806  Марципану можно придать любую форму-...батончи...   \n41807  @Elena CamilleriУ вас итальянская фамилия...в ...   \n41808  и вообще невкусный... я только батончики марци...   \n41809  А у нас это каштаны называют и кулинарные изде...   \n41810  Марципан - миндальный орех перетёртый с сахаро...   \n\n                                    snippet.textOriginal   \n0      Люди тупые, они не понимают, что оригинал стои...  \\\n1      Не понимаю маниакального желания покупать коре...   \n2      Пару лет назад на Озон купила духи D&G The One...   \n3      Я дико извиняюсь, но слово контрофакт, если я ...   \n4      Вайлдбериз вообще никого и ничего не уважает и...   \n...                                                  ...   \n41806  Марципану можно придать любую форму-...батончи...   \n41807  @Elena CamilleriУ вас итальянская фамилия...в ...   \n41808  и вообще невкусный... я только батончики марци...   \n41809  А у нас это каштаны называют и кулинарные изде...   \n41810  Марципан - миндальный орех перетёртый с сахаро...   \n\n      snippet.authorDisplayName            snippet.parentId   \n0                 Елена Марьина                          -1  \\\n1           Glapfira Nikolaevna                          -1   \n2                Гурия Мирзаева                          -1   \n3                 thefallensun_                          -1   \n4              Наталья Пирогова                          -1   \n...                         ...                         ...   \n41806         Nadeschda Schmunk  Ugwz6GshlUZMMumE9n54AaABAg   \n41807         Nadeschda Schmunk  Ugwz6GshlUZMMumE9n54AaABAg   \n41808             Марина Марина  Ugwz6GshlUZMMumE9n54AaABAg   \n41809           Elena Camilleri  Ugwz6GshlUZMMumE9n54AaABAg   \n41810         Nadeschda Schmunk  Ugwz6GshlUZMMumE9n54AaABAg   \n\n                                            cleaned_text   \n0      Люди тупые, они не понимают, что оригинал стои...  \\\n1      Не понимаю маниакального желания покупать коре...   \n2      Пару лет назад на Озон купила духи D&G The One...   \n3      Я дико извиняюсь, но слово контрофакт, если я ...   \n4      Вайлдбериз вообще никого и ничего не уважает и...   \n...                                                  ...   \n41806  Марципану можно придать любую форму-...батончи...   \n41807   CamilleriУ вас итальянская фамилия...в Италии...   \n41808  и вообще невкусный... я только батончики марци...   \n41809  А у нас это каштаны называют и кулинарные изде...   \n41810  Марципан - миндальный орех перетёртый с сахаро...   \n\n                                         lemmatized_text  \n0      человек тупой понимать оригинал стоять офигенн...  \n1      понимать маниакальный желание покупать корейск...  \n2      пара год назад озон купить дух d g the one жен...  \n3      дико извиняться слово контрофакт ошибаться выл...  \n4      вайлдбериз вообще никто ничто уважать далеко э...  \n...                                                  ...  \n41806  марципан придавать любой форма батончик шарик ...  \n41807  camilleriу итальянский фамилия италия марципан...  \n41808  вообще невкусный батончик марципановый шоколад...  \n41809  это каштан называть кулинарный изделие миндаль...  \n41810  марципан миндальный орех перетирать сахар плох...  \n\n[41811 rows x 8 columns]",
      "text/html": "<div>\n<style scoped>\n    .dataframe tbody tr th:only-of-type {\n        vertical-align: middle;\n    }\n\n    .dataframe tbody tr th {\n        vertical-align: top;\n    }\n\n    .dataframe thead th {\n        text-align: right;\n    }\n</style>\n<table border=\"1\" class=\"dataframe\">\n  <thead>\n    <tr style=\"text-align: right;\">\n      <th></th>\n      <th>id</th>\n      <th>snippet.videoId</th>\n      <th>snippet.textDisplay</th>\n      <th>snippet.textOriginal</th>\n      <th>snippet.authorDisplayName</th>\n      <th>snippet.parentId</th>\n      <th>cleaned_text</th>\n      <th>lemmatized_text</th>\n    </tr>\n  </thead>\n  <tbody>\n    <tr>\n      <th>0</th>\n      <td>UgyKlKuQTfZlkw5sqeN4AaABAg</td>\n      <td>AAjsSrjZXsw</td>\n      <td>Люди тупые, они не понимают, что оригинал стои...</td>\n      <td>Люди тупые, они не понимают, что оригинал стои...</td>\n      <td>Елена Марьина</td>\n      <td>-1</td>\n      <td>Люди тупые, они не понимают, что оригинал стои...</td>\n      <td>человек тупой понимать оригинал стоять офигенн...</td>\n    </tr>\n    <tr>\n      <th>1</th>\n      <td>UgxQi90tx9SVF0IauDN4AaABAg</td>\n      <td>AAjsSrjZXsw</td>\n      <td>Не понимаю маниакального желания покупать коре...</td>\n      <td>Не понимаю маниакального желания покупать коре...</td>\n      <td>Glapfira Nikolaevna</td>\n      <td>-1</td>\n      <td>Не понимаю маниакального желания покупать коре...</td>\n      <td>понимать маниакальный желание покупать корейск...</td>\n    </tr>\n    <tr>\n      <th>2</th>\n      <td>UgwYIO4Dwr8lwOl5_jl4AaABAg</td>\n      <td>AAjsSrjZXsw</td>\n      <td>Пару лет назад на Озон купила духи D&amp;G The One...</td>\n      <td>Пару лет назад на Озон купила духи D&amp;G The One...</td>\n      <td>Гурия Мирзаева</td>\n      <td>-1</td>\n      <td>Пару лет назад на Озон купила духи D&amp;G The One...</td>\n      <td>пара год назад озон купить дух d g the one жен...</td>\n    </tr>\n    <tr>\n      <th>3</th>\n      <td>UgxvyL4Z2XXYCvnraL54AaABAg</td>\n      <td>AAjsSrjZXsw</td>\n      <td>Я дико извиняюсь, но слово контрофакт, если я ...</td>\n      <td>Я дико извиняюсь, но слово контрофакт, если я ...</td>\n      <td>thefallensun_</td>\n      <td>-1</td>\n      <td>Я дико извиняюсь, но слово контрофакт, если я ...</td>\n      <td>дико извиняться слово контрофакт ошибаться выл...</td>\n    </tr>\n    <tr>\n      <th>4</th>\n      <td>Ugwwha8cCeWK74_460h4AaABAg</td>\n      <td>AAjsSrjZXsw</td>\n      <td>Вайлдбериз вообще никого и ничего не уважает и...</td>\n      <td>Вайлдбериз вообще никого и ничего не уважает и...</td>\n      <td>Наталья Пирогова</td>\n      <td>-1</td>\n      <td>Вайлдбериз вообще никого и ничего не уважает и...</td>\n      <td>вайлдбериз вообще никто ничто уважать далеко э...</td>\n    </tr>\n    <tr>\n      <th>...</th>\n      <td>...</td>\n      <td>...</td>\n      <td>...</td>\n      <td>...</td>\n      <td>...</td>\n      <td>...</td>\n      <td>...</td>\n      <td>...</td>\n    </tr>\n    <tr>\n      <th>41806</th>\n      <td>Ugwz6GshlUZMMumE9n54AaABAg.9kO7ERtCXa_9kODjmNACUy</td>\n      <td>boB2LEXG_zA</td>\n      <td>Марципану можно придать любую форму-...батончи...</td>\n      <td>Марципану можно придать любую форму-...батончи...</td>\n      <td>Nadeschda Schmunk</td>\n      <td>Ugwz6GshlUZMMumE9n54AaABAg</td>\n      <td>Марципану можно придать любую форму-...батончи...</td>\n      <td>марципан придавать любой форма батончик шарик ...</td>\n    </tr>\n    <tr>\n      <th>41807</th>\n      <td>Ugwz6GshlUZMMumE9n54AaABAg.9kO7ERtCXa_9kOAgUwU2Jj</td>\n      <td>boB2LEXG_zA</td>\n      <td>@Elena CamilleriУ вас итальянская фамилия...в ...</td>\n      <td>@Elena CamilleriУ вас итальянская фамилия...в ...</td>\n      <td>Nadeschda Schmunk</td>\n      <td>Ugwz6GshlUZMMumE9n54AaABAg</td>\n      <td>CamilleriУ вас итальянская фамилия...в Италии...</td>\n      <td>camilleriу итальянский фамилия италия марципан...</td>\n    </tr>\n    <tr>\n      <th>41808</th>\n      <td>Ugwz6GshlUZMMumE9n54AaABAg.9kO7ERtCXa_9kOABWk8eEa</td>\n      <td>boB2LEXG_zA</td>\n      <td>и вообще невкусный... я только батончики марци...</td>\n      <td>и вообще невкусный... я только батончики марци...</td>\n      <td>Марина Марина</td>\n      <td>Ugwz6GshlUZMMumE9n54AaABAg</td>\n      <td>и вообще невкусный... я только батончики марци...</td>\n      <td>вообще невкусный батончик марципановый шоколад...</td>\n    </tr>\n    <tr>\n      <th>41809</th>\n      <td>Ugwz6GshlUZMMumE9n54AaABAg.9kO7ERtCXa_9kO9mW3prUk</td>\n      <td>boB2LEXG_zA</td>\n      <td>А у нас это каштаны называют и кулинарные изде...</td>\n      <td>А у нас это каштаны называют и кулинарные изде...</td>\n      <td>Elena Camilleri</td>\n      <td>Ugwz6GshlUZMMumE9n54AaABAg</td>\n      <td>А у нас это каштаны называют и кулинарные изде...</td>\n      <td>это каштан называть кулинарный изделие миндаль...</td>\n    </tr>\n    <tr>\n      <th>41810</th>\n      <td>Ugwz6GshlUZMMumE9n54AaABAg.9kO7ERtCXa_9kO8EO8-PUw</td>\n      <td>boB2LEXG_zA</td>\n      <td>Марципан - миндальный орех перетёртый с сахаро...</td>\n      <td>Марципан - миндальный орех перетёртый с сахаро...</td>\n      <td>Nadeschda Schmunk</td>\n      <td>Ugwz6GshlUZMMumE9n54AaABAg</td>\n      <td>Марципан - миндальный орех перетёртый с сахаро...</td>\n      <td>марципан миндальный орех перетирать сахар плох...</td>\n    </tr>\n  </tbody>\n</table>\n<p>41811 rows × 8 columns</p>\n</div>"
     },
     "execution_count": 2,
     "metadata": {},
     "output_type": "execute_result"
    }
   ],
   "source": [
    "# 2\n",
    "\n",
    "cm_df = pd.read_csv(DATA_PATH / 'comment' / 'comments_text.csv', sep='\\t')\n",
    "\n",
    "cm_df\n"
   ]
  },
  {
   "cell_type": "code",
   "execution_count": 2,
   "outputs": [],
   "source": [],
   "metadata": {
    "collapsed": false,
    "ExecuteTime": {
     "end_time": "2023-05-26T08:56:41.969086Z",
     "start_time": "2023-05-26T08:56:41.966546Z"
    }
   }
  },
  {
   "cell_type": "markdown",
   "source": [
    "## Оценка токенов"
   ],
   "metadata": {
    "collapsed": false
   }
  },
  {
   "cell_type": "code",
   "execution_count": 3,
   "outputs": [
    {
     "name": "stdout",
     "output_type": "stream",
     "text": [
      "Всего токенов: 671325\n",
      "('очень', 10588)\n",
      "('это', 9672)\n",
      "('косметика', 8843)\n",
      "('спасибо', 8360)\n",
      "('кожа', 7743)\n",
      "('видео', 7236)\n",
      "('корейский', 6591)\n",
      "('крем', 5917)\n",
      "('ваш', 5019)\n",
      "('весь', 4687)\n"
     ]
    }
   ],
   "source": [
    "# 3 Токенизация и\n",
    "from nltk import word_tokenize\n",
    "\n",
    "all_text = [word_tokenize(line) for line in cm_df.lemmatized_text.values]\n",
    "\n",
    "from nltk import FreqDist\n",
    "\n",
    "\n",
    "n_types = []\n",
    "n_tokens = []\n",
    "fd = FreqDist()\n",
    "for line in all_text:\n",
    "    fd.update(line)\n",
    "    n_types.append(len(fd))\n",
    "    n_tokens.append(sum(list(fd.values())))\n",
    "\n",
    "print('Всего токенов:', fd.N())\n",
    "\n",
    "for i in fd.most_common(10):\n",
    "    print(i)"
   ],
   "metadata": {
    "collapsed": false,
    "ExecuteTime": {
     "end_time": "2023-05-26T08:56:54.281643Z",
     "start_time": "2023-05-26T08:56:41.971012Z"
    }
   }
  },
  {
   "cell_type": "code",
   "execution_count": 4,
   "outputs": [
    {
     "data": {
      "text/plain": "<Figure size 640x480 with 1 Axes>",
      "image/png": "[encoded data removed]"
     },
     "metadata": {},
     "output_type": "display_data"
    }
   ],
   "source": [
    "# 4\n",
    "\n",
    "import matplotlib.pyplot as plt\n",
    "\n",
    "freqs = list(fd.values())\n",
    "freqs = sorted(freqs, reverse = True)\n",
    "\n",
    "fig, ax = plt.subplots()\n",
    "ax.plot(freqs[:300], range(300))\n",
    "plt.show()"
   ],
   "metadata": {
    "collapsed": false,
    "ExecuteTime": {
     "end_time": "2023-05-26T08:56:54.630424Z",
     "start_time": "2023-05-26T08:56:54.277341Z"
    }
   }
  },
  {
   "cell_type": "markdown",
   "source": [
    "## Old Fashioned"
   ],
   "metadata": {
    "collapsed": false
   }
  },
  {
   "cell_type": "code",
   "execution_count": 5,
   "outputs": [],
   "source": [
    "test_df = cm_df.sample(5000)"
   ],
   "metadata": {
    "collapsed": false,
    "ExecuteTime": {
     "end_time": "2023-05-26T08:56:54.644404Z",
     "start_time": "2023-05-26T08:56:54.641259Z"
    }
   }
  },
  {
   "cell_type": "code",
   "execution_count": 6,
   "outputs": [],
   "source": [
    "# 5\n",
    "\n",
    "from sklearn.feature_extraction.text import CountVectorizer, TfidfVectorizer\n",
    "\n",
    "vectorization_params = {\n",
    "    'ngram_range' : (1,2), # Токены и словосочетания\n",
    "    'max_df': 0.95, # Токен не может быть встречаться чаще, чем в 95% текстов\n",
    "    'min_df': 5, # Токен не может быть встречаться чаще, чем в 0.01% текстов\n",
    "    'analyzer': 'word'\n",
    "}\n",
    "\n",
    "# Векторизация по частотам\n",
    "cnt_vect = CountVectorizer(**vectorization_params)\n",
    "# Векторизация по метрике TFIDF\n",
    "tfidf = TfidfVectorizer(**vectorization_params)\n"
   ],
   "metadata": {
    "collapsed": false,
    "ExecuteTime": {
     "end_time": "2023-05-26T08:56:54.697058Z",
     "start_time": "2023-05-26T08:56:54.649062Z"
    }
   }
  },
  {
   "cell_type": "code",
   "execution_count": 7,
   "outputs": [
    {
     "name": "stdout",
     "output_type": "stream",
     "text": [
      "Размер разряженной матрицы (5000, 3066)\n"
     ]
    }
   ],
   "source": [
    "# 6 Преобразование\n",
    "\n",
    "cnt_m_sparse = cnt_vect.fit_transform(test_df['lemmatized_text'])\n",
    "tfidf_m_sparse = cnt_vect.fit_transform(test_df['lemmatized_text'])\n",
    "\n",
    "print('Размер разряженной матрицы', cnt_m_sparse.shape)"
   ],
   "metadata": {
    "collapsed": false,
    "ExecuteTime": {
     "end_time": "2023-05-26T08:56:54.920157Z",
     "start_time": "2023-05-26T08:56:54.716662Z"
    }
   }
  },
  {
   "cell_type": "code",
   "execution_count": 8,
   "outputs": [
    {
     "data": {
      "text/plain": "3066"
     },
     "execution_count": 8,
     "metadata": {},
     "output_type": "execute_result"
    }
   ],
   "source": [
    "token_names = list(cnt_vect.vocabulary_.keys())\n",
    "\n",
    "len(token_names)"
   ],
   "metadata": {
    "collapsed": false,
    "ExecuteTime": {
     "end_time": "2023-05-26T08:56:54.925296Z",
     "start_time": "2023-05-26T08:56:54.921299Z"
    }
   }
  },
  {
   "cell_type": "code",
   "execution_count": 9,
   "outputs": [
    {
     "data": {
      "text/plain": "   наличие  свободный  время  уход  сестра  регистрация  компания  атомить   \n0        0          0      0     0       0            0         0        0  \\\n1        0          0      0     0       0            0         0        0   \n2        0          0      0     0       0            0         0        0   \n3        0          0      0     0       0            0         0        0   \n4        0          0      0     0       0            0         0        0   \n\n   сказать  пожалуйста  ...  свой видео  высыпать  перегружать   \n0        0           0  ...           0         0            0  \\\n1        0           0  ...           0         0            0   \n2        0           0  ...           0         0            0   \n3        0           0  ...           0         0            0   \n4        0           0  ...           0         0            0   \n\n   пожалуйста заказывать  упаковывать  кожа чувствительный  заказывать озон   \n0                      0            0                    0                0  \\\n1                      0            0                    0                0   \n2                      0            0                    0                0   \n3                      0            0                    0                0   \n4                      0            0                    0                0   \n\n   множество  зона вокруг  попытаться  \n0          0            0           0  \n1          0            0           0  \n2          0            0           0  \n3          0            0           0  \n4          0            0           0  \n\n[5 rows x 3066 columns]",
      "text/html": "<div>\n<style scoped>\n    .dataframe tbody tr th:only-of-type {\n        vertical-align: middle;\n    }\n\n    .dataframe tbody tr th {\n        vertical-align: top;\n    }\n\n    .dataframe thead th {\n        text-align: right;\n    }\n</style>\n<table border=\"1\" class=\"dataframe\">\n  <thead>\n    <tr style=\"text-align: right;\">\n      <th></th>\n      <th>наличие</th>\n      <th>свободный</th>\n      <th>время</th>\n      <th>уход</th>\n      <th>сестра</th>\n      <th>регистрация</th>\n      <th>компания</th>\n      <th>атомить</th>\n      <th>сказать</th>\n      <th>пожалуйста</th>\n      <th>...</th>\n      <th>свой видео</th>\n      <th>высыпать</th>\n      <th>перегружать</th>\n      <th>пожалуйста заказывать</th>\n      <th>упаковывать</th>\n      <th>кожа чувствительный</th>\n      <th>заказывать озон</th>\n      <th>множество</th>\n      <th>зона вокруг</th>\n      <th>попытаться</th>\n    </tr>\n  </thead>\n  <tbody>\n    <tr>\n      <th>0</th>\n      <td>0</td>\n      <td>0</td>\n      <td>0</td>\n      <td>0</td>\n      <td>0</td>\n      <td>0</td>\n      <td>0</td>\n      <td>0</td>\n      <td>0</td>\n      <td>0</td>\n      <td>...</td>\n      <td>0</td>\n      <td>0</td>\n      <td>0</td>\n      <td>0</td>\n      <td>0</td>\n      <td>0</td>\n      <td>0</td>\n      <td>0</td>\n      <td>0</td>\n      <td>0</td>\n    </tr>\n    <tr>\n      <th>1</th>\n      <td>0</td>\n      <td>0</td>\n      <td>0</td>\n      <td>0</td>\n      <td>0</td>\n      <td>0</td>\n      <td>0</td>\n      <td>0</td>\n      <td>0</td>\n      <td>0</td>\n      <td>...</td>\n      <td>0</td>\n      <td>0</td>\n      <td>0</td>\n      <td>0</td>\n      <td>0</td>\n      <td>0</td>\n      <td>0</td>\n      <td>0</td>\n      <td>0</td>\n      <td>0</td>\n    </tr>\n    <tr>\n      <th>2</th>\n      <td>0</td>\n      <td>0</td>\n      <td>0</td>\n      <td>0</td>\n      <td>0</td>\n      <td>0</td>\n      <td>0</td>\n      <td>0</td>\n      <td>0</td>\n      <td>0</td>\n      <td>...</td>\n      <td>0</td>\n      <td>0</td>\n      <td>0</td>\n      <td>0</td>\n      <td>0</td>\n      <td>0</td>\n      <td>0</td>\n      <td>0</td>\n      <td>0</td>\n      <td>0</td>\n    </tr>\n    <tr>\n      <th>3</th>\n      <td>0</td>\n      <td>0</td>\n      <td>0</td>\n      <td>0</td>\n      <td>0</td>\n      <td>0</td>\n      <td>0</td>\n      <td>0</td>\n      <td>0</td>\n      <td>0</td>\n      <td>...</td>\n      <td>0</td>\n      <td>0</td>\n      <td>0</td>\n      <td>0</td>\n      <td>0</td>\n      <td>0</td>\n      <td>0</td>\n      <td>0</td>\n      <td>0</td>\n      <td>0</td>\n    </tr>\n    <tr>\n      <th>4</th>\n      <td>0</td>\n      <td>0</td>\n      <td>0</td>\n      <td>0</td>\n      <td>0</td>\n      <td>0</td>\n      <td>0</td>\n      <td>0</td>\n      <td>0</td>\n      <td>0</td>\n      <td>...</td>\n      <td>0</td>\n      <td>0</td>\n      <td>0</td>\n      <td>0</td>\n      <td>0</td>\n      <td>0</td>\n      <td>0</td>\n      <td>0</td>\n      <td>0</td>\n      <td>0</td>\n    </tr>\n  </tbody>\n</table>\n<p>5 rows × 3066 columns</p>\n</div>"
     },
     "execution_count": 9,
     "metadata": {},
     "output_type": "execute_result"
    }
   ],
   "source": [
    "# 7 Ма\n",
    "# Извлекаем какие токены мы берем\n",
    "token_names = list(cnt_vect.vocabulary_.keys())\n",
    "\n",
    "# подставляем их, чтобы просмотреть матрицу частот\n",
    "cmatrix = pd.DataFrame.sparse.from_spmatrix(cnt_m_sparse, columns=token_names)\n",
    "cmatrix.head()"
   ],
   "metadata": {
    "collapsed": false,
    "ExecuteTime": {
     "end_time": "2023-05-26T08:56:55.078595Z",
     "start_time": "2023-05-26T08:56:54.930268Z"
    }
   }
  },
  {
   "cell_type": "code",
   "execution_count": 10,
   "outputs": [
    {
     "name": "stdout",
     "output_type": "stream",
     "text": [
      "\n",
      "SCALE STATISTICS SUMMARY\n",
      "------------------\n",
      "\n"
     ]
    },
    {
     "ename": "AttributeError",
     "evalue": "'Styler' object has no attribute 'set_precision'",
     "output_type": "error",
     "traceback": [
      "\u001B[0;31m---------------------------------------------------------------------------\u001B[0m",
      "\u001B[0;31mAttributeError\u001B[0m                            Traceback (most recent call last)",
      "Cell \u001B[0;32mIn[10], line 6\u001B[0m\n\u001B[1;32m      3\u001B[0m token_sum \u001B[38;5;241m=\u001B[39m pd\u001B[38;5;241m.\u001B[39mDataFrame(cmatrix\u001B[38;5;241m.\u001B[39msum(), columns\u001B[38;5;241m=\u001B[39m[\u001B[38;5;124m'\u001B[39m\u001B[38;5;124mТокены_в_корпусе\u001B[39m\u001B[38;5;124m'\u001B[39m])\n\u001B[1;32m      4\u001B[0m token_per_doc  \u001B[38;5;241m=\u001B[39m pd\u001B[38;5;241m.\u001B[39mDataFrame(cmatrix\u001B[38;5;241m.\u001B[39mT\u001B[38;5;241m.\u001B[39msum(), columns\u001B[38;5;241m=\u001B[39m[\u001B[38;5;124m'\u001B[39m\u001B[38;5;124mТокен_на_документ\u001B[39m\u001B[38;5;124m'\u001B[39m])\n\u001B[0;32m----> 6\u001B[0m ss \u001B[38;5;241m=\u001B[39m \u001B[43mScaleStatistics\u001B[49m\u001B[43m(\u001B[49m\u001B[43mtoken_sum\u001B[49m\u001B[43m,\u001B[49m\n\u001B[1;32m      7\u001B[0m \u001B[43m                     \u001B[49m\u001B[43mvariables\u001B[49m\u001B[38;5;241;43m=\u001B[39;49m\u001B[43m[\u001B[49m\u001B[38;5;124;43m'\u001B[39;49m\u001B[38;5;124;43mТокены_в_корпусе\u001B[39;49m\u001B[38;5;124;43m'\u001B[39;49m\u001B[43m]\u001B[49m\u001B[43m)\u001B[49m\n\u001B[1;32m      9\u001B[0m ss \u001B[38;5;241m=\u001B[39m ScaleStatistics(token_sum,\n\u001B[1;32m     10\u001B[0m                      variables\u001B[38;5;241m=\u001B[39m[\u001B[38;5;124m'\u001B[39m\u001B[38;5;124mТокены_в_корпусе\u001B[39m\u001B[38;5;124m'\u001B[39m])\n",
      "File \u001B[0;32m~/PycharmProjects/DataMiningProjects/.venv/lib/python3.10/site-packages/randan/descriptive_statistics.py:412\u001B[0m, in \u001B[0;36mScaleStatistics.__init__\u001B[0;34m(self, data, variables, frequencies, normality_test, normality_test_type, show_results, n_decimals)\u001B[0m\n\u001B[1;32m    409\u001B[0m             \u001B[38;5;28mprint\u001B[39m(\u001B[38;5;124mf\u001B[39m\u001B[38;5;124m'\u001B[39m\u001B[38;5;124mvariable: \u001B[39m\u001B[38;5;132;01m{\u001B[39;00mvar\u001B[38;5;132;01m}\u001B[39;00m\u001B[38;5;124m'\u001B[39m)\n\u001B[1;32m    410\u001B[0m             display(pd\u001B[38;5;241m.\u001B[39mDataFrame(\u001B[38;5;28mself\u001B[39m\u001B[38;5;241m.\u001B[39m_mappers[var][\u001B[38;5;241m0\u001B[39m], index\u001B[38;5;241m=\u001B[39m[\u001B[38;5;124m'\u001B[39m\u001B[38;5;124mEncoded value\u001B[39m\u001B[38;5;124m'\u001B[39m])\u001B[38;5;241m.\u001B[39mT)\n\u001B[0;32m--> 412\u001B[0m     \u001B[38;5;28;43mself\u001B[39;49m\u001B[38;5;241;43m.\u001B[39;49m\u001B[43mshow_results\u001B[49m\u001B[43m(\u001B[49m\u001B[43mn_decimals\u001B[49m\u001B[38;5;241;43m=\u001B[39;49m\u001B[43mn_decimals\u001B[49m\u001B[43m)\u001B[49m\n\u001B[1;32m    413\u001B[0m \u001B[38;5;28;01mif\u001B[39;00m normality_test:\n\u001B[1;32m    414\u001B[0m     \u001B[38;5;28mself\u001B[39m\u001B[38;5;241m.\u001B[39mshow_normality_test(n_decimals\u001B[38;5;241m=\u001B[39mn_decimals)\n",
      "File \u001B[0;32m~/PycharmProjects/DataMiningProjects/.venv/lib/python3.10/site-packages/randan/descriptive_statistics.py:491\u001B[0m, in \u001B[0;36mScaleStatistics.show_results\u001B[0;34m(self, n_decimals)\u001B[0m\n\u001B[1;32m    486\u001B[0m \u001B[38;5;28mprint\u001B[39m(\u001B[38;5;124m'\u001B[39m\u001B[38;5;130;01m\\n\u001B[39;00m\u001B[38;5;124mSCALE STATISTICS SUMMARY\u001B[39m\u001B[38;5;124m'\u001B[39m)\n\u001B[1;32m    487\u001B[0m \u001B[38;5;28mprint\u001B[39m(\u001B[38;5;124m'\u001B[39m\u001B[38;5;124m------------------\u001B[39m\u001B[38;5;130;01m\\n\u001B[39;00m\u001B[38;5;124m'\u001B[39m)\n\u001B[1;32m    488\u001B[0m display(\u001B[38;5;28;43mself\u001B[39;49m\u001B[38;5;241;43m.\u001B[39;49m\u001B[43msummary\u001B[49m\u001B[43m(\u001B[49m\u001B[43m)\u001B[49m\u001B[38;5;241;43m.\u001B[39;49m\u001B[43mstyle\u001B[49m\u001B[43m\\\u001B[49m\n\u001B[1;32m    489\u001B[0m \u001B[43m            \u001B[49m\u001B[38;5;241;43m.\u001B[39;49m\u001B[43mformat\u001B[49m\u001B[43m(\u001B[49m\u001B[38;5;28;43;01mNone\u001B[39;49;00m\u001B[43m,\u001B[49m\u001B[43m \u001B[49m\u001B[43mna_rep\u001B[49m\u001B[38;5;241;43m=\u001B[39;49m\u001B[38;5;124;43m\"\u001B[39;49m\u001B[38;5;124;43m\"\u001B[39;49m\u001B[43m)\u001B[49m\u001B[43m\\\u001B[49m\n\u001B[1;32m    490\u001B[0m \u001B[43m            \u001B[49m\u001B[38;5;241;43m.\u001B[39;49m\u001B[43mset_caption\u001B[49m\u001B[43m(\u001B[49m\u001B[38;5;124;43m\"\u001B[39;49m\u001B[38;5;124;43mmethod .summary()\u001B[39;49m\u001B[38;5;124;43m\"\u001B[39;49m\u001B[43m)\u001B[49m\u001B[43m\\\u001B[49m\n\u001B[0;32m--> 491\u001B[0m \u001B[43m            \u001B[49m\u001B[38;5;241;43m.\u001B[39;49m\u001B[43mset_precision\u001B[49m(n_decimals))\n\u001B[1;32m    492\u001B[0m \u001B[38;5;28;01mif\u001B[39;00m \u001B[38;5;28mlen\u001B[39m(\u001B[38;5;28mself\u001B[39m\u001B[38;5;241m.\u001B[39m_mult_modes) \u001B[38;5;241m>\u001B[39m \u001B[38;5;241m0\u001B[39m:\n\u001B[1;32m    493\u001B[0m     vars_ \u001B[38;5;241m=\u001B[39m \u001B[38;5;124m'\u001B[39m\u001B[38;5;124m, \u001B[39m\u001B[38;5;124m'\u001B[39m\u001B[38;5;241m.\u001B[39mjoin(\u001B[38;5;28mself\u001B[39m\u001B[38;5;241m.\u001B[39m_mult_modes)\n",
      "\u001B[0;31mAttributeError\u001B[0m: 'Styler' object has no attribute 'set_precision'"
     ]
    }
   ],
   "source": [
    "from randan.descriptive_statistics import ScaleStatistics\n",
    "\n",
    "token_sum = pd.DataFrame(cmatrix.sum(), columns=['Токены_в_корпусе'])\n",
    "token_per_doc  = pd.DataFrame(cmatrix.T.sum(), columns=['Токен_на_документ'])\n",
    "\n",
    "ss = ScaleStatistics(token_sum,\n",
    "                     variables=['Токены_в_корпусе'])\n",
    "\n",
    "ss = ScaleStatistics(token_sum,\n",
    "                     variables=['Токены_в_корпусе'])"
   ],
   "metadata": {
    "collapsed": false,
    "ExecuteTime": {
     "end_time": "2023-05-26T08:56:57.155043Z",
     "start_time": "2023-05-26T08:56:55.075584Z"
    }
   }
  },
  {
   "cell_type": "code",
   "execution_count": null,
   "outputs": [],
   "source": [
    "# Снижение размерности"
   ],
   "metadata": {
    "collapsed": false,
    "ExecuteTime": {
     "start_time": "2023-05-26T08:56:57.154626Z"
    }
   }
  },
  {
   "cell_type": "code",
   "execution_count": null,
   "outputs": [],
   "source": [
    "from randan.dimension_reduction import PCA\n",
    "\n",
    "pca = PCA()\n",
    "\n",
    "pca = pca.fit(cmatrix)"
   ],
   "metadata": {
    "collapsed": false
   }
  },
  {
   "cell_type": "code",
   "execution_count": null,
   "outputs": [],
   "source": [
    "pca = PCA(n_components=443, rotation='varimax')\n",
    "pca = pca.fit(cmatrix, show_results = True)"
   ],
   "metadata": {
    "collapsed": false
   }
  },
  {
   "cell_type": "raw",
   "source": [
    "break"
   ],
   "metadata": {
    "collapsed": false
   }
  },
  {
   "cell_type": "code",
   "execution_count": null,
   "id": "68873869",
   "metadata": {},
   "outputs": [],
   "source": [
    "component_loading_rotated = pca.component_loadings_rotated\n",
    "component_loading_rotated.to_csv(DATA_PATH / 'comment/component_loadings_rotated.xlsx')\n",
    "component_loading_rotated"
   ]
  },
  {
   "cell_type": "code",
   "execution_count": null,
   "id": "e9605899",
   "metadata": {},
   "outputs": [],
   "source": [
    "scores = pca.transform(test_df)\n",
    "scores = pd.concat([cmatrix[['snippet.textOriginal', 'Предобработанный текст']], scores], axis =1)\n",
    "scores.to_csv(f'{path}\\\\scores.xlsx')\n",
    "scores"
   ]
  },
  {
   "cell_type": "code",
   "execution_count": null,
   "id": "506bd743",
   "metadata": {},
   "outputs": [],
   "source": [
    "loadings_treshold = 0.50\n",
    "n_token = 15\n",
    "n_docs = 15\n",
    "\n",
    "summary = pandas.DataFrame()\n",
    "errors =[]\n",
    "for i in range [1:]:\n",
    "    try:\n",
    "        print(f'Topic PC{i}_vrmx')\n",
    "\n",
    "        data = scores[f'PC{i}_vrmx']\n",
    "        data.index = scores['snippet.textOriginal']\n",
    "        plt.figure(figsize=(8, 6))\n",
    "        plt.hist(data.dropna(), color = 'grey')\n",
    "        plt.title(f\"Distribution{data.name}\")\n",
    "        plt.xlable (f'{data name}')\n",
    "        plt.ylable ('Frequency');\n",
    "\n",
    "        plt.figure(figsize=(8, 6))\n",
    "        plt.hist(data.dropna())\n",
    "        plt.title(f\"Distribution{data.name}\")\n",
    "        plt.xlable ([])\n",
    "        plt.ylable (f'{data.name}')\n",
    "        plt.show()\n",
    "\n",
    "        topic_tokens = pd.concat([data[data.abs() > loadings_treshold].sort_values(ascending = False).head(n_tokens),\n",
    "                                     data[data.abs() > - loadings_treshold].sort_values().head(n_tokens)])\n",
    "        display(f'Токены на полюсах топика PC{i}_vrmx', topic_tokens)\n",
    "\n",
    "        summary_additional = pd.DataFrame()\n",
    "        summary_plus = pd.DataFrame()\n",
    "        if len(data[data > loadings_treshold].sort_values(ascending = False).head(n_tokens))>0:\n",
    "            summary_plus = topic_docs[topic_docs[f'PC{i}_vrmx']>0].round(3)\n",
    "            summary_plus.loc[:,'Topic'] = i\n",
    "            summary_plus.loc[:,'Токены'] = ','.join(list(data[data>loadings_treshold].sort_valoues(ascending = False).head(n_tokens).index))\n",
    "            summary_plus.loc[:,'Токны_mean_loading'] = data[data>loadingloadings_treshold].sort_valoues(ascending = False).head(n_tokens).mean()\n",
    "            summary_plus.loc[:,'Релевантность_теме_исследования']=''\n",
    "            summary_plus.loc[:,'Название_топика'] =''\n",
    "\n",
    "        summary_minus = pd.DataFrame()\n",
    "        if len(data[data < - loadings_treshold].sort_valoues(ascending = False).head(n_tokens))>0:\n",
    "            summary_minus = topic_docs[topic_docs[f'PC{i}_vrmx']<0].round(3)\n",
    "            summary_minus.loc[:,'Topic'] = i\n",
    "            summary_minus.loc[:,'Токены'] = ','.join(list(data[data>loadings_treshold].sort_valoues(ascending = False).head(n_tokens).index)\n",
    "            summary_minus.loc[:,'Токны_mean_loading'] = data[data>loadingloadings_treshold].sort_valoues(ascending = False).head(n_tokens).mean()\n",
    "            summary_minus.loc[:,'Релевантность_теме_исследования'] = ''\n",
    "            summary_minus.loc[:,'Название_топика'] = ''\n",
    "\n",
    "        summary_additional = pd.concat([summary_plus,summary_minus])\n",
    "        summary_additional.columns = ['Текс_на_предобработку',\n",
    "                                     'scores',\n",
    "                                     'Topic',\n",
    "                                     'Токены',\n",
    "                                     'Токны_mean_loading',\n",
    "                                     'Название_топика']\n",
    "        summary = pd.concat([summary,summary_additional])\n",
    "    except:\n",
    "        print(f'Ошибка при обработке топика {i}')\n",
    "        errors.append(i)\n",
    "    "
   ]
  },
  {
   "cell_type": "code",
   "execution_count": null,
   "id": "7aecb4f2",
   "metadata": {},
   "outputs": [],
   "source": [
    "errors"
   ]
  },
  {
   "cell_type": "code",
   "execution_count": null,
   "id": "959cd7d5",
   "metadata": {},
   "outputs": [],
   "source": [
    "summary.to_exel(f'Топики.xlsx')"
   ]
  }
 ],
 "metadata": {
  "kernelspec": {
   "display_name": "Python 3 (ipykernel)",
   "language": "python",
   "name": "python3"
  },
  "language_info": {
   "codemirror_mode": {
    "name": "ipython",
    "version": 3
   },
   "file_extension": ".py",
   "mimetype": "text/x-python",
   "name": "python",
   "nbconvert_exporter": "python",
   "pygments_lexer": "ipython3",
   "version": "3.9.13"
  }
 },
 "nbformat": 4,
 "nbformat_minor": 5
}
