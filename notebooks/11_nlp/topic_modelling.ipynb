{
 "cells": [
  {
   "cell_type": "markdown",
   "source": [
    "# Тематическое моделирование"
   ],
   "metadata": {
    "collapsed": false
   }
  },
  {
   "cell_type": "code",
   "execution_count": 1,
   "outputs": [],
   "source": [
    "# 1\n",
    "import pandas as pd\n",
    "\n",
    "import yaml\n",
    "import pathlib\n",
    "ROOT = pathlib.Path().resolve().parent.parent\n",
    "\n",
    "with open(ROOT / \"config.yml\", \"r\") as f:\n",
    "    config = yaml.load(f, Loader=yaml.FullLoader)\n",
    "\n",
    "DATA_PATH = ROOT / config['api']['DATA_PATH']"
   ],
   "metadata": {
    "collapsed": false,
    "ExecuteTime": {
     "end_time": "2023-05-19T21:35:23.529250Z",
     "start_time": "2023-05-19T21:35:23.298916Z"
    }
   }
  },
  {
   "cell_type": "code",
   "execution_count": 2,
   "id": "dd18ee52",
   "metadata": {
    "ExecuteTime": {
     "end_time": "2023-05-19T21:35:24.480250Z",
     "start_time": "2023-05-19T21:35:23.539820Z"
    }
   },
   "outputs": [
    {
     "name": "stderr",
     "output_type": "stream",
     "text": [
      "/var/folders/s5/4r_7wwf925g2bnv4060z0x400000gn/T/ipykernel_53411/2144707200.py:3: DtypeWarning: Columns (19) have mixed types. Specify dtype option on import or set low_memory=False.\n",
      "  cm_df = pd.read_csv(DATA_PATH / 'comment' / 'comments_preprocessed.csv', sep='\\t')\n"
     ]
    },
    {
     "data": {
      "text/plain": "                                                      id snippet.videoId   \n0                             UgyKlKuQTfZlkw5sqeN4AaABAg     AAjsSrjZXsw  \\\n1                             UgwWFRz63uP9kl_Ob-14AaABAg     AAjsSrjZXsw   \n2                             UgwbiFK59dfmyltqrB94AaABAg     AAjsSrjZXsw   \n3                             UgxQi90tx9SVF0IauDN4AaABAg     AAjsSrjZXsw   \n4                             UgwYIO4Dwr8lwOl5_jl4AaABAg     AAjsSrjZXsw   \n...                                                  ...             ...   \n74944  Ugwz6GshlUZMMumE9n54AaABAg.9kO7ERtCXa_9kOBOzHra8u     boB2LEXG_zA   \n74945  Ugwz6GshlUZMMumE9n54AaABAg.9kO7ERtCXa_9kOAgUwU2Jj     boB2LEXG_zA   \n74946  Ugwz6GshlUZMMumE9n54AaABAg.9kO7ERtCXa_9kOABWk8eEa     boB2LEXG_zA   \n74947  Ugwz6GshlUZMMumE9n54AaABAg.9kO7ERtCXa_9kO9mW3prUk     boB2LEXG_zA   \n74948  Ugwz6GshlUZMMumE9n54AaABAg.9kO7ERtCXa_9kO8EO8-PUw     boB2LEXG_zA   \n\n                                    snippet.textOriginal   \n0      Люди тупые, они не понимают, что оригинал стои...  \\\n1        А где покупать можно качественный оригинальнал?   \n2                           Садовод типо рынка Черкизон?   \n3      Не понимаю маниакального желания покупать коре...   \n4      Пару лет назад на Озон купила духи D&G The One...   \n...                                                  ...   \n74944                       @Nadeschda Schmunk на Мальте   \n74945  @Elena CamilleriУ вас итальянская фамилия...в ...   \n74946  и вообще невкусный... я только батончики марци...   \n74947  А у нас это каштаны называют и кулинарные изде...   \n74948  Марципан - миндальный орех перетёртый с сахаро...   \n\n                                       preprocessed_text  \n0      человек тупой понимать оригинал стоять офигенн...  \n1                     покупать качественный оригинальнал  \n2                            садовод типо рынок черкизон  \n3      понимать маниакальный желание покупать корейск...  \n4      пара год назад озон купить дух d g the one жен...  \n...                                                  ...  \n74944                                     schmunk мальта  \n74945  camilleriу итальянский фамилия италия марципан...  \n74946  вообще невкусный батончик марципановый шоколад...  \n74947  это каштан называть кулинарный изделие миндаль...  \n74948  марципан миндальный орех перетирать сахар плох...  \n\n[72700 rows x 4 columns]",
      "text/html": "<div>\n<style scoped>\n    .dataframe tbody tr th:only-of-type {\n        vertical-align: middle;\n    }\n\n    .dataframe tbody tr th {\n        vertical-align: top;\n    }\n\n    .dataframe thead th {\n        text-align: right;\n    }\n</style>\n<table border=\"1\" class=\"dataframe\">\n  <thead>\n    <tr style=\"text-align: right;\">\n      <th></th>\n      <th>id</th>\n      <th>snippet.videoId</th>\n      <th>snippet.textOriginal</th>\n      <th>preprocessed_text</th>\n    </tr>\n  </thead>\n  <tbody>\n    <tr>\n      <th>0</th>\n      <td>UgyKlKuQTfZlkw5sqeN4AaABAg</td>\n      <td>AAjsSrjZXsw</td>\n      <td>Люди тупые, они не понимают, что оригинал стои...</td>\n      <td>человек тупой понимать оригинал стоять офигенн...</td>\n    </tr>\n    <tr>\n      <th>1</th>\n      <td>UgwWFRz63uP9kl_Ob-14AaABAg</td>\n      <td>AAjsSrjZXsw</td>\n      <td>А где покупать можно качественный оригинальнал?</td>\n      <td>покупать качественный оригинальнал</td>\n    </tr>\n    <tr>\n      <th>2</th>\n      <td>UgwbiFK59dfmyltqrB94AaABAg</td>\n      <td>AAjsSrjZXsw</td>\n      <td>Садовод типо рынка Черкизон?</td>\n      <td>садовод типо рынок черкизон</td>\n    </tr>\n    <tr>\n      <th>3</th>\n      <td>UgxQi90tx9SVF0IauDN4AaABAg</td>\n      <td>AAjsSrjZXsw</td>\n      <td>Не понимаю маниакального желания покупать коре...</td>\n      <td>понимать маниакальный желание покупать корейск...</td>\n    </tr>\n    <tr>\n      <th>4</th>\n      <td>UgwYIO4Dwr8lwOl5_jl4AaABAg</td>\n      <td>AAjsSrjZXsw</td>\n      <td>Пару лет назад на Озон купила духи D&amp;G The One...</td>\n      <td>пара год назад озон купить дух d g the one жен...</td>\n    </tr>\n    <tr>\n      <th>...</th>\n      <td>...</td>\n      <td>...</td>\n      <td>...</td>\n      <td>...</td>\n    </tr>\n    <tr>\n      <th>74944</th>\n      <td>Ugwz6GshlUZMMumE9n54AaABAg.9kO7ERtCXa_9kOBOzHra8u</td>\n      <td>boB2LEXG_zA</td>\n      <td>@Nadeschda Schmunk на Мальте</td>\n      <td>schmunk мальта</td>\n    </tr>\n    <tr>\n      <th>74945</th>\n      <td>Ugwz6GshlUZMMumE9n54AaABAg.9kO7ERtCXa_9kOAgUwU2Jj</td>\n      <td>boB2LEXG_zA</td>\n      <td>@Elena CamilleriУ вас итальянская фамилия...в ...</td>\n      <td>camilleriу итальянский фамилия италия марципан...</td>\n    </tr>\n    <tr>\n      <th>74946</th>\n      <td>Ugwz6GshlUZMMumE9n54AaABAg.9kO7ERtCXa_9kOABWk8eEa</td>\n      <td>boB2LEXG_zA</td>\n      <td>и вообще невкусный... я только батончики марци...</td>\n      <td>вообще невкусный батончик марципановый шоколад...</td>\n    </tr>\n    <tr>\n      <th>74947</th>\n      <td>Ugwz6GshlUZMMumE9n54AaABAg.9kO7ERtCXa_9kO9mW3prUk</td>\n      <td>boB2LEXG_zA</td>\n      <td>А у нас это каштаны называют и кулинарные изде...</td>\n      <td>это каштан называть кулинарный изделие миндаль...</td>\n    </tr>\n    <tr>\n      <th>74948</th>\n      <td>Ugwz6GshlUZMMumE9n54AaABAg.9kO7ERtCXa_9kO8EO8-PUw</td>\n      <td>boB2LEXG_zA</td>\n      <td>Марципан - миндальный орех перетёртый с сахаро...</td>\n      <td>марципан миндальный орех перетирать сахар плох...</td>\n    </tr>\n  </tbody>\n</table>\n<p>72700 rows × 4 columns</p>\n</div>"
     },
     "metadata": {},
     "output_type": "display_data"
    }
   ],
   "source": [
    "# 2\n",
    "\n",
    "cm_df = pd.read_csv(DATA_PATH / 'comment' / 'comments_preprocessed.csv', sep='\\t')\n",
    "\n",
    "text_df = cm_df[['id', 'snippet.videoId', 'snippet.textOriginal', 'preprocessed_text']].copy(deep=True)\n",
    "\n",
    "\n",
    "text_df = text_df.dropna()\n",
    "\n",
    "display(text_df)"
   ]
  },
  {
   "cell_type": "markdown",
   "source": [
    "## Оценка токенов"
   ],
   "metadata": {
    "collapsed": false
   }
  },
  {
   "cell_type": "code",
   "execution_count": 3,
   "outputs": [
    {
     "name": "stdout",
     "output_type": "stream",
     "text": [
      "Всего токенов: 765394\n",
      "('спасибо', 12689)\n",
      "('очень', 12263)\n",
      "('это', 10953)\n",
      "('косметика', 9995)\n",
      "('видео', 8963)\n",
      "('кожа', 8075)\n",
      "('корейский', 7264)\n",
      "('крем', 6370)\n",
      "('ваш', 5459)\n",
      "('весь', 5059)\n"
     ]
    }
   ],
   "source": [
    "# 3 Токенизация и\n",
    "from nltk import word_tokenize\n",
    "\n",
    "all_text = [word_tokenize(line) for line in text_df.preprocessed_text.values]\n",
    "\n",
    "from nltk import FreqDist\n",
    "\n",
    "\n",
    "n_types = []\n",
    "n_tokens = []\n",
    "fd = FreqDist()\n",
    "for line in all_text:\n",
    "    fd.update(line)\n",
    "    n_types.append(len(fd))\n",
    "    n_tokens.append(sum(list(fd.values())))\n",
    "\n",
    "print('Всего токенов:', fd.N())\n",
    "\n",
    "for i in fd.most_common(10):\n",
    "    print(i)"
   ],
   "metadata": {
    "collapsed": false,
    "ExecuteTime": {
     "end_time": "2023-05-19T21:35:43.491157Z",
     "start_time": "2023-05-19T21:35:24.481091Z"
    }
   }
  },
  {
   "cell_type": "code",
   "execution_count": 4,
   "outputs": [
    {
     "data": {
      "text/plain": "<Figure size 640x480 with 1 Axes>",
      "image/png": "[encoded data removed]"
     },
     "metadata": {},
     "output_type": "display_data"
    }
   ],
   "source": [
    "# 4\n",
    "\n",
    "import matplotlib.pyplot as plt\n",
    "\n",
    "freqs = list(fd.values())\n",
    "freqs = sorted(freqs, reverse = True)\n",
    "\n",
    "fig, ax = plt.subplots()\n",
    "ax.plot(freqs[:300], range(300))\n",
    "plt.show()"
   ],
   "metadata": {
    "collapsed": false,
    "ExecuteTime": {
     "end_time": "2023-05-19T21:35:43.807298Z",
     "start_time": "2023-05-19T21:35:43.490705Z"
    }
   }
  },
  {
   "cell_type": "markdown",
   "source": [
    "# Gensim Pipeline"
   ],
   "metadata": {
    "collapsed": false
   }
  },
  {
   "cell_type": "code",
   "execution_count": 5,
   "outputs": [
    {
     "name": "stdout",
     "output_type": "stream",
     "text": [
      "[[(0, 1), (1, 1), (2, 1), (3, 1), (4, 1), (5, 1), (6, 1), (7, 1), (8, 1)]]\n"
     ]
    }
   ],
   "source": [
    "import gensim\n",
    "from gensim.utils import simple_preprocess\n",
    "from gensim.models import CoherenceModel# spaCy for preprocessing\n",
    "import pyLDAvis\n",
    "import pyLDAvis.gensim\n",
    "from gensim import corpora\n",
    "from pprint import pprint\n",
    "\n",
    "\n",
    "# Create Dictionary\n",
    "id2word = corpora.Dictionary(all_text)\n",
    "\n",
    "# Create Corpus\n",
    "texts = all_text\n",
    "# Term Document Frequency\n",
    "corpus = [id2word.doc2bow(text) for text in texts]\n",
    "# View\n",
    "print(corpus[:1])"
   ],
   "metadata": {
    "collapsed": false,
    "ExecuteTime": {
     "end_time": "2023-05-19T21:35:44.757305Z",
     "start_time": "2023-05-19T21:35:43.809952Z"
    }
   }
  },
  {
   "cell_type": "code",
   "execution_count": 6,
   "outputs": [
    {
     "name": "stdout",
     "output_type": "stream",
     "text": [
      "[(0,\n",
      "  '0.049*\"просто\" + 0.035*\"лицо\" + 0.033*\"пользоваться\" + 0.033*\"сказать\" + '\n",
      "  '0.032*\"знать\" + 0.029*\"говорить\" + 0.026*\"бренд\" + 0.026*\"покупать\" + '\n",
      "  '0.018*\"использовать\" + 0.016*\"здравствовать\"'),\n",
      " (1,\n",
      "  '0.099*\"очень\" + 0.051*\"хороший\" + 0.039*\"делать\" + 0.036*\"цена\" + '\n",
      "  '0.031*\"большой\" + 0.027*\"нравиться\" + 0.022*\"давать\" + 0.020*\"помогать\" + '\n",
      "  '0.017*\"т\" + 0.015*\"мало\"'),\n",
      " (2,\n",
      "  '0.056*\"год\" + 0.037*\"купить\" + 0.030*\"понимать\" + 0.023*\"день\" + '\n",
      "  '0.021*\"деньги\" + 0.020*\"сыворотка\" + 0.020*\"видеть\" + 0.019*\"именно\" + '\n",
      "  '0.018*\"находить\" + 0.017*\"маска\"'),\n",
      " (3,\n",
      "  '0.053*\"смотреть\" + 0.044*\"жить\" + 0.032*\"любить\" + 0.026*\"понравиться\" + '\n",
      "  '0.024*\"город\" + 0.018*\"тонер\" + 0.018*\"ссылка\" + 0.018*\"второй\" + '\n",
      "  '0.016*\"считать\" + 0.016*\"прямой\"'),\n",
      " (4,\n",
      "  '0.068*\"спасибо\" + 0.044*\"ваш\" + 0.042*\"видео\" + 0.031*\"хотеть\" + '\n",
      "  '0.025*\"написать\" + 0.018*\"посмотреть\" + 0.017*\"сделать\" + 0.016*\"канал\" + '\n",
      "  '0.012*\"оля\" + 0.012*\"результат\"'),\n",
      " (5,\n",
      "  '0.046*\"разный\" + 0.044*\"брать\" + 0.037*\"русский\" + 0.027*\"пробовать\" + '\n",
      "  '0.026*\"кстати\" + 0.022*\"добрый\" + 0.020*\"интересно\" + 0.017*\"питание\" + '\n",
      "  '0.017*\"выходить\" + 0.016*\"язык\"'),\n",
      " (6,\n",
      "  '0.094*\"кожа\" + 0.051*\"крем\" + 0.021*\"продукт\" + 0.019*\"подходить\" + '\n",
      "  '0.018*\"состав\" + 0.018*\"писать\" + 0.016*\"пожалуйста\" + 0.015*\"становиться\" '\n",
      "  '+ 0.014*\"наш\" + 0.012*\"вода\"'),\n",
      " (7,\n",
      "  '0.045*\"каждый\" + 0.031*\"согласный\" + 0.022*\"сколько\" + 0.022*\"пора\" + '\n",
      "  '0.022*\"квартира\" + 0.021*\"плохой\" + 0.021*\"ипотека\" + 0.020*\"рано\" + '\n",
      "  '0.020*\"случай\" + 0.019*\"рука\"'),\n",
      " (8,\n",
      "  '0.111*\"это\" + 0.045*\"мочь\" + 0.043*\"весь\" + 0.033*\"свой\" + 0.033*\"который\" '\n",
      "  '+ 0.032*\"человек\" + 0.024*\"средство\" + 0.023*\"вообще\" + 0.014*\"нужно\" + '\n",
      "  '0.014*\"ничто\"'),\n",
      " (9,\n",
      "  '0.078*\"косметика\" + 0.055*\"корейский\" + 0.039*\"корея\" + 0.031*\"уход\" + '\n",
      "  '0.028*\"самый\" + 0.027*\"магазин\" + 0.018*\"страна\" + 0.018*\"россия\" + '\n",
      "  '0.016*\"поэтому\" + 0.015*\"точно\"')]\n"
     ]
    }
   ],
   "source": [
    "\n",
    "lda_model = gensim.models.ldamodel.LdaModel(corpus=corpus,\n",
    "                                           id2word=id2word,\n",
    "                                           num_topics=10,\n",
    "                                           random_state=42,\n",
    "                                           chunksize=100,\n",
    "                                           alpha='auto',\n",
    "                                           per_word_topics=True)\n",
    "\n",
    "# Print the keyword of topics\n",
    "pprint(lda_model.print_topics())\n",
    "doc_lda = lda_model[corpus]"
   ],
   "metadata": {
    "collapsed": false,
    "ExecuteTime": {
     "end_time": "2023-05-19T21:36:30.577027Z",
     "start_time": "2023-05-19T21:36:15.320619Z"
    }
   }
  },
  {
   "cell_type": "code",
   "execution_count": 7,
   "outputs": [
    {
     "name": "stdout",
     "output_type": "stream",
     "text": [
      "\n",
      "Perplexity:  -9.390018714308084\n",
      "\n",
      "Coherence Score:  0.5921319157606397\n"
     ]
    }
   ],
   "source": [
    "# Compute Perplexity\n",
    "print('\\nPerplexity: ', lda_model.log_perplexity(corpus))\n",
    "# a measure of how good the model is. lower the better.\n",
    "\n",
    "# Compute Coherence Score\n",
    "coherence_model_lda = CoherenceModel(model=lda_model, texts=all_text, dictionary=id2word, coherence='c_v')\n",
    "coherence_lda = coherence_model_lda.get_coherence()\n",
    "print('\\nCoherence Score: ', coherence_lda)"
   ],
   "metadata": {
    "collapsed": false,
    "ExecuteTime": {
     "end_time": "2023-05-19T21:36:43.711093Z",
     "start_time": "2023-05-19T21:36:34.751532Z"
    }
   }
  },
  {
   "cell_type": "code",
   "execution_count": 8,
   "outputs": [
    {
     "data": {
      "text/plain": "PreparedData(topic_coordinates=              x         y  topics  cluster       Freq\ntopic                                                \n8      0.384897  0.110927       1        1  17.156659\n6      0.037888 -0.362074       2        1  12.974709\n0      0.053888 -0.183074       3        1  12.543857\n4     -0.109968  0.121320       4        1  11.829598\n2     -0.017522  0.049950       5        1  11.049742\n9      0.095310  0.116598       6        1  10.642976\n1     -0.105935  0.080750       7        1  10.345497\n3     -0.116920  0.016916       8        1   5.004164\n5     -0.107620  0.011741       9        1   4.378487\n7     -0.114018  0.036946      10        1   4.074310, topic_info=              Term          Freq         Total Category  logprob  loglift\n95             это  14642.000000  14642.000000  Default  30.0000  30.0000\n23            кожа   9322.000000   9322.000000  Default  29.0000  29.0000\n62           очень   7864.000000   7864.000000  Default  28.0000  28.0000\n25       косметика   6348.000000   6348.000000  Default  27.0000  27.0000\n149        спасибо   6147.000000   6147.000000  Default  26.0000  26.0000\n...            ...           ...           ...      ...      ...      ...\n1402           дом    317.929204    318.845210  Topic10  -4.5858   3.1976\n3591          душа    315.817237    316.733397  Topic10  -4.5925   3.1976\n351           цвет    313.652586    314.568577  Topic10  -4.5994   3.1976\n344   представлять    287.601670    288.517605  Topic10  -4.6861   3.1973\n523        красный    281.160575    282.076738  Topic10  -4.7088   3.1972\n\n[351 rows x 6 columns], token_table=       Topic      Freq         Term\nterm                               \n4067       9  0.997881            s\n1476       9  0.998213        адрес\n1660       9  0.998913     аллергия\n20326      7  0.998707          аня\n1249       7  0.998228  благодарить\n...      ...       ...          ...\n95         5  0.000546          это\n95         6  0.000068          это\n1740       5  0.999370       эффект\n127        9  0.999015       яблоко\n128        9  0.998625         язык\n\n[363 rows x 3 columns], R=30, lambda_step=0.01, plot_opts={'xlab': 'PC1', 'ylab': 'PC2'}, topic_order=[9, 7, 1, 5, 3, 10, 2, 4, 6, 8])",
      "text/html": "\n<link rel=\"stylesheet\" type=\"text/css\" href=\"https://cdn.jsdelivr.net/gh/bmabey/pyLDAvis@3.4.0/pyLDAvis/js/ldavis.v1.0.0.css\">\n\n\n<div id=\"ldavis_el53411111003210727394547039\" style=\"background-color:white;\"></div>\n<script type=\"text/javascript\">\n\nvar ldavis_el53411111003210727394547039_data = {\"mdsDat\": {\"x\": [0.3848967521696799, 0.03788787378492795, 0.05388768751773055, -0.10996775008542276, -0.0175218030952588, 0.09531021373670968, -0.10593528113410909, -0.11692045723257871, -0.10761953848340307, -0.11401769717827494], \"y\": [0.1109267495049247, -0.3620741505498843, -0.1830736990623472, 0.1213203293540028, 0.049949739978935995, 0.11659802349610973, 0.08075036371023354, 0.01691581774280188, 0.01174094162899726, 0.036945884196225506], \"topics\": [1, 2, 3, 4, 5, 6, 7, 8, 9, 10], \"cluster\": [1, 1, 1, 1, 1, 1, 1, 1, 1, 1], \"Freq\": [17.156659355707653, 12.974709208395064, 12.543856782580592, 11.829598247503709, 11.049741803001057, 10.642976292517263, 10.345496945536663, 5.004164175045467, 4.378487012953096, 4.074310176759437]}, \"tinfo\": {\"Term\": [\"\\u044d\\u0442\\u043e\", \"\\u043a\\u043e\\u0436\\u0430\", \"\\u043e\\u0447\\u0435\\u043d\\u044c\", \"\\u043a\\u043e\\u0441\\u043c\\u0435\\u0442\\u0438\\u043a\\u0430\", \"\\u0441\\u043f\\u0430\\u0441\\u0438\\u0431\\u043e\", \"\\u0433\\u043e\\u0434\", \"\\u043a\\u0440\\u0435\\u043c\", \"\\u043a\\u043e\\u0440\\u0435\\u0439\\u0441\\u043a\\u0438\\u0439\", \"\\u0432\\u0435\\u0441\\u044c\", \"\\u043c\\u043e\\u0447\\u044c\", \"\\u043f\\u0440\\u043e\\u0441\\u0442\\u043e\", \"\\u0445\\u043e\\u0440\\u043e\\u0448\\u0438\\u0439\", \"\\u0432\\u0430\\u0448\", \"\\u0432\\u0438\\u0434\\u0435\\u043e\", \"\\u0441\\u0432\\u043e\\u0439\", \"\\u043a\\u043e\\u0442\\u043e\\u0440\\u044b\\u0439\", \"\\u0447\\u0435\\u043b\\u043e\\u0432\\u0435\\u043a\", \"\\u043a\\u043e\\u0440\\u0435\\u044f\", \"\\u0434\\u0435\\u043b\\u0430\\u0442\\u044c\", \"\\u043a\\u0443\\u043f\\u0438\\u0442\\u044c\", \"\\u043b\\u0438\\u0446\\u043e\", \"\\u043f\\u043e\\u043b\\u044c\\u0437\\u043e\\u0432\\u0430\\u0442\\u044c\\u0441\\u044f\", \"\\u0441\\u043a\\u0430\\u0437\\u0430\\u0442\\u044c\", \"\\u0446\\u0435\\u043d\\u0430\", \"\\u0437\\u043d\\u0430\\u0442\\u044c\", \"\\u0441\\u043c\\u043e\\u0442\\u0440\\u0435\\u0442\\u044c\", \"\\u0445\\u043e\\u0442\\u0435\\u0442\\u044c\", \"\\u0433\\u043e\\u0432\\u043e\\u0440\\u0438\\u0442\\u044c\", \"\\u043f\\u043e\\u043d\\u0438\\u043c\\u0430\\u0442\\u044c\", \"\\u0443\\u0445\\u043e\\u0434\", \"\\u0441\\u0432\\u043e\\u0439\", \"\\u0447\\u0435\\u043b\\u043e\\u0432\\u0435\\u043a\", \"\\u0441\\u0440\\u0435\\u0434\\u0441\\u0442\\u0432\\u043e\", \"\\u0432\\u043e\\u043e\\u0431\\u0449\\u0435\", \"\\u043d\\u0443\\u0436\\u043d\\u043e\", \"\\u043d\\u0438\\u0447\\u0442\\u043e\", \"\\u0434\\u0443\\u043c\\u0430\\u0442\\u044c\", \"\\u0432\\u0435\\u0441\\u044c\", \"\\u0432\\u0440\\u0435\\u043c\\u044f\", \"\\u043b\\u0438\\u0431\\u043e\", \"\\u0441\\u0430\\u0439\\u0442\", \"\\u043f\\u0435\\u0440\\u0432\\u044b\\u0439\", \"\\u0438\\u043c\\u0435\\u0442\\u044c\", \"\\u0434\\u0435\\u043b\\u043e\", \"\\u043c\\u0435\\u0441\\u044f\\u0446\", \"\\u0432\\u043e\\u043f\\u0440\\u043e\\u0441\", \"\\u0442\\u043e\\u0432\\u0430\\u0440\", \"\\u0441\\u0442\\u043e\\u044f\\u0442\\u044c\", \"\\u043d\\u0438\\u043a\\u0442\\u043e\", \"\\u0433\\u043b\\u0430\\u0437\", \"\\u043f\\u0438\\u043b\\u0438\\u043d\\u0433\", \"\\u043d\\u0430\\u0447\\u0438\\u043d\\u0430\\u0442\\u044c\", \"\\u0434\\u043e\\u0441\\u0442\\u0430\\u0432\\u043a\\u0430\", \"\\u043c\\u0435\\u0441\\u0442\\u043e\", \"\\u0438\\u0434\\u0442\\u0438\", \"\\u0441\\u043a\\u043e\\u0440\\u043e\", \"\\u0434\\u043e\\u043b\\u0436\\u043d\\u044b\\u0439\", \"\\u0436\\u0435\\u043d\\u0449\\u0438\\u043d\\u0430\", \"\\u043d\\u0430\\u0432\\u0435\\u0440\\u043d\\u043e\\u0435\", \"\\u0442\\u043e\\u043d\\u0438\\u043a\", \"\\u044d\\u0442\\u043e\", \"\\u043a\\u043e\\u0442\\u043e\\u0440\\u044b\\u0439\", \"\\u043c\\u043e\\u0447\\u044c\", \"\\u0437\\u0430\\u043a\\u0430\\u0437\\u044b\\u0432\\u0430\\u0442\\u044c\", \"\\u0441\\u0442\\u043e\\u0438\\u0442\\u044c\", \"\\u043a\\u043e\\u0436\\u0430\", \"\\u043a\\u0440\\u0435\\u043c\", \"\\u043f\\u0440\\u043e\\u0434\\u0443\\u043a\\u0442\", \"\\u043f\\u043e\\u0434\\u0445\\u043e\\u0434\\u0438\\u0442\\u044c\", \"\\u043f\\u0438\\u0441\\u0430\\u0442\\u044c\", \"\\u043f\\u043e\\u0436\\u0430\\u043b\\u0443\\u0439\\u0441\\u0442\\u0430\", \"\\u0432\\u043e\\u0434\\u0430\", \"\\u0445\\u043e\\u0442\\u044f\", \"\\u0442\\u0438\\u043f\", \"\\u0432\\u0437\\u044f\\u0442\\u044c\", \"\\u043d\\u0430\\u043f\\u0440\\u0438\\u043c\\u0435\\u0440\", \"\\u0443\\u0432\\u043b\\u0430\\u0436\\u043d\\u044f\\u0442\\u044c\", \"\\u0434\\u0435\\u0439\\u0441\\u0442\\u0432\\u0438\\u0442\\u0435\\u043b\\u044c\\u043d\\u043e\", \"\\u043f\\u0438\\u0442\\u044c\", \"\\u043f\\u043e\\u043b\\u0443\\u0447\\u0430\\u0442\\u044c\", \"\\u0441\\u043e\\u0441\\u0442\\u0430\\u0432\", \"\\u0441\\u0443\\u0445\\u043e\\u0439\", \"\\u043d\\u043e\\u0440\\u043c\\u0430\\u043b\\u044c\\u043d\\u044b\\u0439\", \"\\u043c\\u043d\\u043e\\u0433\\u0438\\u0439\", \"\\u043e\\u0431\\u044f\\u0437\\u0430\\u0442\\u0435\\u043b\\u044c\\u043d\\u043e\", \"\\u0432\\u0441\\u044f\\u043a\\u0438\\u0439\", \"\\u043f\\u043b\\u043e\\u0445\\u043e\", \"\\u0441\\u043f\\u0440\\u0430\\u0448\\u0438\\u0432\\u0430\\u0442\\u044c\", \"\\u043f\\u043e\\u0434\\u0441\\u043a\\u0430\\u0437\\u044b\\u0432\\u0430\\u0442\\u044c\", \"\\u0441\\u043e\\u043b\\u043d\\u0446\\u0435\", \"\\u0443\\u0442\\u0440\\u043e\", \"\\u043e\\u0441\\u043e\\u0431\\u0435\\u043d\\u043d\\u043e\", \"\\u0440\\u0435\\u0431\\u0435\\u043d\\u043e\\u043a\", \"\\u043f\\u0440\\u0430\\u0432\\u0438\\u043b\\u044c\\u043d\\u043e\", \"\\u0441\\u0442\\u0430\\u043d\\u043e\\u0432\\u0438\\u0442\\u044c\\u0441\\u044f\", \"\\u043d\\u0430\\u0448\", \"\\u043f\\u043e\\u043b\\u044c\\u0437\\u043e\\u0432\\u0430\\u0442\\u044c\\u0441\\u044f\", \"\\u0441\\u043a\\u0430\\u0437\\u0430\\u0442\\u044c\", \"\\u0437\\u043d\\u0430\\u0442\\u044c\", \"\\u0433\\u043e\\u0432\\u043e\\u0440\\u0438\\u0442\\u044c\", \"\\u0438\\u0441\\u043f\\u043e\\u043b\\u044c\\u0437\\u043e\\u0432\\u0430\\u0442\\u044c\", \"\\u0437\\u0434\\u0440\\u0430\\u0432\\u0441\\u0442\\u0432\\u043e\\u0432\\u0430\\u0442\\u044c\", \"\\u043f\\u0440\\u043e\\u0431\\u043b\\u0435\\u043c\\u0430\", \"\\u043f\\u0440\\u043e\\u0434\\u0430\\u0432\\u0430\\u0442\\u044c\", \"\\u0436\\u0438\\u0437\\u043d\\u044c\", \"\\u0433\\u0435\\u043b\\u044c\", \"\\u043a\\u0430\\u0447\\u0435\\u0441\\u0442\\u0432\\u043e\", \"\\u043f\\u043e\\u043a\\u0430\", \"\\u0431\\u043b\\u043e\\u0433\\u0435\\u0440\", \"\\u043a\\u0438\\u0441\\u043b\\u043e\\u0442\\u0430\", \"\\u043d\\u0435\\u0434\\u0435\\u043b\\u044f\", \"\\u0432\\u043d\\u0438\\u043c\\u0430\\u043d\\u0438\\u0435\", \"\\u043d\\u0435\\u0441\\u043a\\u043e\\u043b\\u044c\\u043a\\u043e\", \"\\u0437\\u0430\\u043a\\u0430\\u0437\", \"\\u043f\\u0440\\u0430\\u0432\\u0434\\u0430\", \"\\u043e\\u0442\\u043f\\u0440\\u0430\\u0432\\u043b\\u044f\\u0442\\u044c\", \"\\u0438\\u043d\\u0444\\u043e\\u0440\\u043c\\u0430\\u0446\\u0438\\u044f\", \"\\u0432\\u0438\\u0434\", \"\\u0443\\u0437\\u043d\\u0430\\u0432\\u0430\\u0442\\u044c\", \"\\u0432\\u0440\\u043e\\u0434\\u0435\", \"\\u0441\\u043a\\u0438\\u0434\\u043a\\u0430\", \"\\u0432\\u043e\\u0437\\u043c\\u043e\\u0436\\u043d\\u043e\", \"\\u0443\\u0432\\u043b\\u0430\\u0436\\u043d\\u0435\\u043d\\u0438\\u0435\", \"\\u0440\\u0430\\u0432\\u043d\\u044b\\u0439\", \"\\u043a\\u043e\\u043b\\u0438\\u0447\\u0435\\u0441\\u0442\\u0432\\u043e\", \"\\u0441\\u0442\\u043e\\u043b\\u044c\\u043a\\u043e\", \"\\u043f\\u0440\\u043e\\u0441\\u0442\\u043e\", \"\\u043b\\u0438\\u0446\\u043e\", \"\\u0431\\u0440\\u0435\\u043d\\u0434\", \"\\u043f\\u043e\\u043a\\u0443\\u043f\\u0430\\u0442\\u044c\", \"\\u043a\\u043e\\u0441\\u043c\\u0435\\u0442\\u043e\\u043b\\u043e\\u0433\", \"\\u0441\\u043f\\u0430\\u0441\\u0438\\u0431\\u043e\", \"\\u0432\\u0430\\u0448\", \"\\u0432\\u0438\\u0434\\u0435\\u043e\", \"\\u0445\\u043e\\u0442\\u0435\\u0442\\u044c\", \"\\u043d\\u0430\\u043f\\u0438\\u0441\\u0430\\u0442\\u044c\", \"\\u043f\\u043e\\u0441\\u043c\\u043e\\u0442\\u0440\\u0435\\u0442\\u044c\", \"\\u0441\\u0434\\u0435\\u043b\\u0430\\u0442\\u044c\", \"\\u043a\\u0430\\u043d\\u0430\\u043b\", \"\\u043e\\u043b\\u044f\", \"\\u0440\\u0435\\u0437\\u0443\\u043b\\u044c\\u0442\\u0430\\u0442\", \"\\u0434\\u0435\\u0432\\u0443\\u0448\\u043a\\u0430\", \"\\u0445\\u043e\\u0434\\u0438\\u0442\\u044c\", \"\\u043c\\u043d\\u0435\\u043d\\u0438\\u0435\", \"\\u0434\\u0440\\u0443\\u0433\", \"\\u0441\\u043d\\u0438\\u043c\\u0430\\u0442\\u044c\", \"\\u0442\\u0432\\u043e\\u0439\", \"\\u0443\\u0432\\u0438\\u0434\\u0435\\u0442\\u044c\", \"\\u043f\\u043e\\u043a\\u0430\\u0437\\u044b\\u0432\\u0430\\u0442\\u044c\", \"\\u043c\\u0430\\u043a\\u0438\\u044f\\u0436\", \"\\u0440\\u0435\\u043a\\u043b\\u0430\\u043c\\u0430\", \"\\u0442\\u0435\\u043c\\u0430\", \"\\u0432\\u0435\\u0440\\u0438\\u0442\\u044c\", \"\\u043f\\u043e\\u0434\\u0434\\u0435\\u0440\\u0436\\u043a\\u0430\", \"\\u043f\\u043e\\u043b\\u0435\\u0437\\u043d\\u044b\\u0439\", \"\\u0441\\u043e\\u0432\\u0435\\u0442\", \"\\u0432\\u043e\\u043a\\u0440\\u0443\\u0433\", \"\\u0441\\u043c\\u043e\\u0447\\u044c\", \"\\u0438\\u0440\\u0438\\u043d\\u0430\", \"\\u043e\\u043b\\u044c\\u0433\\u0430\", \"\\u043f\\u0440\\u043e\\u0442\\u0438\\u0432\", \"\\u043b\\u0435\\u0442\\u043e\", \"\\u043c\\u0430\\u0440\\u0438\\u043d\\u0430\", \"\\u043a\\u0443\\u043f\\u0438\\u0442\\u044c\", \"\\u0434\\u0435\\u043d\\u044c\", \"\\u0434\\u0435\\u043d\\u044c\\u0433\\u0438\", \"\\u0441\\u044b\\u0432\\u043e\\u0440\\u043e\\u0442\\u043a\\u0430\", \"\\u0438\\u043c\\u0435\\u043d\\u043d\\u043e\", \"\\u043c\\u0430\\u0441\\u043a\\u0430\", \"\\u043d\\u0438\\u043a\\u0430\\u043a\\u043e\\u0439\", \"\\u043f\\u043e\\u0447\\u0435\\u043c\\u0443\", \"\\u0441\\u0440\\u0430\\u0437\\u0443\", \"\\u044d\\u0444\\u0444\\u0435\\u043a\\u0442\", \"\\u0441\\u043b\\u043e\\u0432\\u043e\", \"\\u043e\\u0440\\u0438\\u0433\\u0438\\u043d\\u0430\\u043b\", \"\\u0431\\u044b\\u0432\\u0430\\u0442\\u044c\", \"\\u043d\\u043e\\u0432\\u044b\\u0439\", \"\\u043f\\u0435\\u043d\\u043a\\u0430\", \"\\u043d\\u0430\\u0445\\u043e\\u0434\\u0438\\u0442\\u044c\", \"\\u043e\\u0442\\u0437\\u044b\\u0432\", \"\\u0432\\u043e\\u043b\\u043e\\u0441\", \"\\u043f\\u0440\\u0438\\u0445\\u043e\\u0434\\u0438\\u0442\\u044c\", \"\\u043f\\u0440\\u043e\\u0434\\u0430\\u0432\\u0435\\u0446\", \"\\u043a\\u0440\\u0430\\u0441\\u0438\\u0432\\u044b\\u0439\", \"\\u043a\\u0441\\u0435\\u043d\\u0438\\u044f\", \"\\u0433\\u043b\\u0430\\u0432\\u043d\\u043e\\u0435\", \"\\u043e\\u0433\\u0440\\u043e\\u043c\\u043d\\u044b\\u0439\", \"\\u0444\\u0438\\u0440\\u043c\\u0430\", \"\\u043a\\u0430\\u0437\\u0430\\u0442\\u044c\\u0441\\u044f\", \"\\u0435\\u043b\\u0435\\u043d\\u0430\", \"\\u0434\\u043e\\u043b\\u0433\\u043e\", \"\\u043e\\u0442\\u0432\\u0435\\u0442\", \"\\u0447\\u0438\\u0442\\u0430\\u0442\\u044c\", \"\\u0433\\u043e\\u0434\", \"\\u043f\\u043e\\u043d\\u0438\\u043c\\u0430\\u0442\\u044c\", \"\\u0432\\u0438\\u0434\\u0435\\u0442\\u044c\", \"\\u043a\\u043e\\u0441\\u043c\\u0435\\u0442\\u0438\\u043a\\u0430\", \"\\u043a\\u043e\\u0440\\u0435\\u0439\\u0441\\u043a\\u0438\\u0439\", \"\\u043a\\u043e\\u0440\\u0435\\u044f\", \"\\u0443\\u0445\\u043e\\u0434\", \"\\u0441\\u0430\\u043c\\u044b\\u0439\", \"\\u043c\\u0430\\u0433\\u0430\\u0437\\u0438\\u043d\", \"\\u0441\\u0442\\u0440\\u0430\\u043d\\u0430\", \"\\u0440\\u043e\\u0441\\u0441\\u0438\\u044f\", \"\\u043f\\u043e\\u044d\\u0442\\u043e\\u043c\\u0443\", \"\\u0434\\u043e\\u0440\\u043e\\u0433\\u043e\\u0439\", \"\\u043a\\u043e\\u0440\\u0435\\u0435\\u0446\", \"\\u043f\\u043e\\u043f\\u0440\\u043e\\u0431\\u043e\\u0432\\u0430\\u0442\\u044c\", \"\\u043b\\u044e\\u0431\\u043e\\u0439\", \"\\u0436\\u0438\\u0440\\u043d\\u044b\\u0439\", \"\\u043a\\u043e\\u043c\\u043c\\u0435\\u043d\\u0442\\u0430\\u0440\\u0438\\u0439\", \"\\u043c\\u0438\\u0440\", \"\\u043f\\u0440\\u043e\\u0434\\u0443\\u043a\\u0446\\u0438\\u044f\", \"\\u0434\\u0435\\u0448\\u0435\\u0432\\u044b\\u0439\", \"\\u043a\\u043e\\u0440\\u0435\\u044f\\u043d\\u043a\\u0430\", \"\\u043f\\u043b\\u0430\\u0442\\u0438\\u0442\\u044c\", \"\\u043c\\u043d\\u043e\\u0433\\u0438\\u0435\", \"\\u0434\\u0435\\u0448\\u0435\\u0432\\u043e\", \"\\u0438\\u0441\\u043a\\u0430\\u0442\\u044c\", \"\\u043f\\u043e\\u043b\\u0443\\u0447\\u0430\\u0442\\u044c\\u0441\\u044f\", \"\\u0431\\u043e\\u043b\\u044c\\u0448\\u0438\\u043d\\u0441\\u0442\\u0432\\u043e\", \"\\u043c\\u0430\\u0440\\u043a\\u0430\", \"\\u0437\\u0434\\u043e\\u0440\\u043e\\u0432\\u044c\\u0435\", \"\\u043f\\u043e\\u0434\\u0431\\u0438\\u0440\\u0430\\u0442\\u044c\", \"\\u043d\\u0430\\u0437\\u0432\\u0430\\u043d\\u0438\\u0435\", \"\\u043a\\u043e\\u043c\\u043f\\u0430\\u043d\\u0438\\u044f\", \"\\u043f\\u043e\\u0434\\u0434\\u0435\\u043b\\u043a\\u0430\", \"\\u0442\\u043e\\u0447\\u043d\\u043e\", \"\\u0440\\u0430\\u0431\\u043e\\u0442\\u0430\\u0442\\u044c\", \"\\u043e\\u0447\\u0435\\u043d\\u044c\", \"\\u0445\\u043e\\u0440\\u043e\\u0448\\u0438\\u0439\", \"\\u0434\\u0435\\u043b\\u0430\\u0442\\u044c\", \"\\u0431\\u043e\\u043b\\u044c\\u0448\\u043e\\u0439\", \"\\u043d\\u0440\\u0430\\u0432\\u0438\\u0442\\u044c\\u0441\\u044f\", \"\\u0434\\u0430\\u0432\\u0430\\u0442\\u044c\", \"\\u043f\\u043e\\u043c\\u043e\\u0433\\u0430\\u0442\\u044c\", \"\\u0442\", \"\\u043c\\u0430\\u043b\\u043e\", \"\\u0440\\u0430\\u0431\\u043e\\u0442\\u0430\", \"\\u043d\\u0430\\u043d\\u043e\\u0441\\u0438\\u0442\\u044c\", \"\\u0432\\u044b\\u0433\\u043b\\u044f\\u0434\\u0435\\u0442\\u044c\", \"\\u0440\\u0430\\u0441\\u0441\\u043a\\u0430\\u0437\\u044b\\u0432\\u0430\\u0442\\u044c\", \"\\u043d\\u0443\\u0436\\u043d\\u044b\\u0439\", \"\\u0434\", \"\\u0447\\u0430\\u0441\\u0442\\u043e\", \"\\u043f\\u0440\\u044b\\u0449\", \"\\u0445\\u043e\\u0442\\u0435\\u0442\\u044c\\u0441\\u044f\", \"\\u0436\\u0434\\u0430\\u0442\\u044c\", \"\\u043c\\u0430\\u0441\\u043b\\u043e\", \"\\u0432\\u044b\\u0441\\u043e\\u043a\\u0438\\u0439\", \"\\u043f\\u043e\\u0439\\u0442\\u0438\", \"\\u0431\\u043b\\u0430\\u0433\\u043e\\u0434\\u0430\\u0440\\u0438\\u0442\\u044c\", \"\\u0441\\u043c\\u044b\\u0441\\u043b\", \"\\u0441\\u043e\\u0436\\u0430\\u043b\\u0435\\u043d\\u0438\\u0435\", \"\\u0443\\u0440\\u043e\\u0432\\u0435\\u043d\\u044c\", \"\\u0430\\u043d\\u044f\", \"\\u043e\\u0441\\u0442\\u0430\\u0432\\u043b\\u044f\\u0442\\u044c\", \"\\u043f\\u0440\\u043e\\u0434\\u0430\\u0432\\u0430\\u0442\\u044c\\u0441\\u044f\", \"\\u043f\\u043e\\u043c\\u0430\\u0434\\u0430\", \"\\u0446\\u0435\\u043d\\u0430\", \"\\u0441\\u043c\\u043e\\u0442\\u0440\\u0435\\u0442\\u044c\", \"\\u0436\\u0438\\u0442\\u044c\", \"\\u043b\\u044e\\u0431\\u0438\\u0442\\u044c\", \"\\u043f\\u043e\\u043d\\u0440\\u0430\\u0432\\u0438\\u0442\\u044c\\u0441\\u044f\", \"\\u0433\\u043e\\u0440\\u043e\\u0434\", \"\\u0442\\u043e\\u043d\\u0435\\u0440\", \"\\u0441\\u0441\\u044b\\u043b\\u043a\\u0430\", \"\\u0432\\u0442\\u043e\\u0440\\u043e\\u0439\", \"\\u0441\\u0447\\u0438\\u0442\\u0430\\u0442\\u044c\", \"\\u043f\\u0440\\u044f\\u043c\\u043e\\u0439\", \"\\u0432\\u044b\\u0431\\u0438\\u0440\\u0430\\u0442\\u044c\", \"\\u043b\\u0438\\u0447\\u043d\\u043e\", \"\\u0432\\u0440\\u0430\\u0447\", \"\\u0437\\u043d\\u0430\\u0447\\u0438\\u0442\", \"\\u0441\\u0443\\u043f\\u0435\\u0440\", \"\\u043d\\u0435\\u043a\\u043e\\u0442\\u043e\\u0440\\u044b\\u0439\", \"\\u043b\\u0435\\u0442\\u0443\\u0430\\u043b\\u044c\", \"\\u043f\\u043e\\u043b\\u043d\\u043e\\u0441\\u0442\\u044c\\u044e\", \"\\u043c\\u0443\\u0436\", \"\\u0435\\u0434\\u0430\", \"\\u0440\\u0435\\u0447\\u044c\", \"\\u0437\\u0430\\u0445\\u043e\\u0434\\u0438\\u0442\\u044c\", \"\\u0432\\u044b\\u0437\\u044b\\u0432\\u0430\\u0442\\u044c\", \"\\u043c\\u0430\\u0437\\u0430\\u0442\\u044c\", \"\\u0445\\u0432\\u0430\\u0442\\u0430\\u0442\\u044c\", \"\\u0441\\u043e\\u0441\\u0442\\u043e\\u044f\\u043d\\u0438\\u0435\", \"\\u044d\\u0442\\u0430\\u043f\", \"\\u043f\\u043e\\u043d\\u044f\\u0442\\u043d\\u043e\", \"\\u0437\\u043d\\u0430\\u043a\\u043e\\u043c\\u044b\\u0439\", \"\\u0443\\u043b\\u0438\\u0446\\u0430\", \"\\u0440\\u0430\\u0437\\u043d\\u044b\\u0439\", \"\\u0440\\u0443\\u0441\\u0441\\u043a\\u0438\\u0439\", \"\\u043f\\u0440\\u043e\\u0431\\u043e\\u0432\\u0430\\u0442\\u044c\", \"\\u043a\\u0441\\u0442\\u0430\\u0442\\u0438\", \"\\u0434\\u043e\\u0431\\u0440\\u044b\\u0439\", \"\\u0438\\u043d\\u0442\\u0435\\u0440\\u0435\\u0441\\u043d\\u043e\", \"\\u043f\\u0438\\u0442\\u0430\\u043d\\u0438\\u0435\", \"\\u0432\\u044b\\u0445\\u043e\\u0434\\u0438\\u0442\\u044c\", \"\\u044f\\u0437\\u044b\\u043a\", \"\\u043f\\u043b\\u044e\\u0441\", \"\\u0438\\u043d\\u0442\\u0435\\u0440\\u0435\\u0441\\u043d\\u044b\\u0439\", \"\\u0442\\u0430\\u043a\\u0436\\u0435\", \"s\", \"\\u044f\\u0431\\u043b\\u043e\\u043a\\u043e\", \"\\u043a\\u043e\\u043d\\u0435\\u0446\", \"\\u0430\\u043b\\u043b\\u0435\\u0440\\u0433\\u0438\\u044f\", \"\\u0437\\u043e\\u043b\\u043e\\u0442\\u043e\\u0439\", \"\\u043f\\u043e\\u0445\\u043e\\u0436\\u0438\\u0439\", \"\\u043f\\u0440\\u043e\\u0441\\u0442\\u043e\\u0439\", \"\\u0447\\u0435\\u0441\\u0442\\u043d\\u043e\", \"\\u0434\\u0430\\u043d\\u043d\\u044b\\u0439\", \"\\u0442\\u0435\\u043d\\u044c\", \"\\u043f\\u0440\\u043e\\u0438\\u0441\\u0445\\u043e\\u0434\\u0438\\u0442\\u044c\", \"\\u0443\\u0441\\u043b\\u043e\\u0432\\u0438\\u0435\", \"\\u043c\\u043e\\u043c\\u0435\\u043d\\u0442\", \"\\u0441\\u043b\\u0443\\u0448\\u0430\\u0442\\u044c\", \"\\u0430\\u0434\\u0440\\u0435\\u0441\", \"\\u043b\\u043e\\u0436\\u0438\\u0442\\u044c\\u0441\\u044f\", \"\\u0438\\u043c\\u044f\", \"\\u0443\\u0447\\u0438\\u0442\\u044c\", \"\\u0431\\u0440\\u0430\\u0442\\u044c\", \"\\u043a\\u0430\\u0436\\u0434\\u044b\\u0439\", \"\\u0441\\u043e\\u0433\\u043b\\u0430\\u0441\\u043d\\u044b\\u0439\", \"\\u0441\\u043a\\u043e\\u043b\\u044c\\u043a\\u043e\", \"\\u043f\\u043e\\u0440\\u0430\", \"\\u043a\\u0432\\u0430\\u0440\\u0442\\u0438\\u0440\\u0430\", \"\\u043f\\u043b\\u043e\\u0445\\u043e\\u0439\", \"\\u0440\\u0430\\u043d\\u043e\", \"\\u0441\\u043b\\u0443\\u0447\\u0430\\u0439\", \"\\u0440\\u0443\\u043a\\u0430\", \"\\u043e\\u0431\\u044b\\u0447\\u043d\\u044b\\u0439\", \"\\u0440\\u044b\\u043d\\u043e\\u043a\", \"\\u043b\\u0438\\u043d\\u0435\\u0439\\u043a\\u0430\", \"\\u0434\\u043e\\u0440\\u043e\\u0433\\u043e\", \"\\u043f\\u0440\\u043e\\u0445\\u043e\\u0434\\u0438\\u0442\\u044c\", \"\\u0434\\u0430\\u0432\\u043d\\u043e\", \"\\u0438\\u043f\\u043e\\u0442\\u0435\\u043a\\u0430\", \"\\u0447\\u0438\\u0441\\u0442\\u044b\\u0439\", \"\\u0443\\u0445\\u043e\\u0434\\u0438\\u0442\\u044c\", \"\\u0444\\u0430\\u043a\\u0442\", \"\\u0433\\u043e\\u043b\\u043e\\u0432\\u0430\", \"\\u043a\\u0430\\u043c\\u0435\\u0440\\u0430\", \"\\u043f\\u0440\\u0438\\u0445\\u043e\\u0434\\u0438\\u0442\\u044c\\u0441\\u044f\", \"\\u0441\\u0440\\u0430\\u0432\\u043d\\u0438\\u0432\\u0430\\u0442\\u044c\", \"\\u043d\\u043e\\u0440\\u043c\\u0430\", \"\\u043c\\u043e\\u0441\\u043a\\u0432\\u0430\", \"\\u0434\\u043e\\u043c\", \"\\u0434\\u0443\\u0448\\u0430\", \"\\u0446\\u0432\\u0435\\u0442\", \"\\u043f\\u0440\\u0435\\u0434\\u0441\\u0442\\u0430\\u0432\\u043b\\u044f\\u0442\\u044c\", \"\\u043a\\u0440\\u0430\\u0441\\u043d\\u044b\\u0439\"], \"Freq\": [14642.0, 9322.0, 7864.0, 6348.0, 6147.0, 4766.0, 5037.0, 4501.0, 5638.0, 5985.0, 4673.0, 4062.0, 3997.0, 3808.0, 4394.0, 4323.0, 4210.0, 3151.0, 3100.0, 3167.0, 3342.0, 3204.0, 3139.0, 2891.0, 3071.0, 2038.0, 2831.0, 2800.0, 2586.0, 2511.0, 4393.440772156827, 4209.279674363983, 3149.847661504892, 3017.0026340578993, 1851.0944225397316, 1787.220468372806, 1728.63625202921, 5635.665861924851, 1606.9562611078463, 1200.9491626803074, 1200.7154519786131, 1191.1731822247166, 1118.5795319195906, 1069.2199784788709, 968.2803753361479, 960.0562290479033, 935.6942426249545, 931.6432571289203, 931.3283408249628, 855.00510310023, 845.5245936311873, 841.1031687236241, 814.0395061567043, 803.9489151411403, 778.8168207702224, 713.2525304110062, 697.6713277743456, 675.3087235631441, 669.1144727362923, 653.189246968357, 14610.479672632837, 4300.972050697779, 5897.418912680197, 1666.7015708066938, 733.446492540683, 9321.79997201405, 5036.986153228478, 2087.5272597934754, 1870.6216169023342, 1809.8649446256914, 1575.9541887806158, 1188.2366145664264, 1145.8160421716652, 1110.773286344847, 844.6266763668083, 844.3566130057072, 824.1555961329894, 769.9921231215841, 757.5249070212196, 753.3773072169122, 1815.9953829226858, 731.9346462952965, 695.1479008216967, 667.3895029921392, 656.9656584220785, 648.5749655188278, 642.7695743734051, 629.9164543777687, 604.041471029534, 603.0705377539042, 588.7274911433166, 559.2813822817823, 528.2414371524894, 525.5228609757069, 1489.451599395607, 1397.1796427278978, 3203.863731067786, 3138.2400996183696, 3070.8810783140793, 2799.302401809691, 1687.3531406234397, 1536.0156642367258, 1283.8560431281596, 1250.5285641051694, 1183.0266556930837, 1139.7714734133465, 1099.7506543771426, 1093.5731564946366, 883.1413099215293, 862.821833264445, 838.3530866761172, 837.4324573507986, 765.5565760651109, 749.5352473333119, 747.5656317094332, 734.399720312009, 729.5367748795971, 664.9761680741249, 658.790980397332, 631.4213930386094, 622.6398715035596, 619.995610555329, 605.2747512201338, 593.9315446092243, 525.5411072921571, 520.4501058094127, 4662.776868141508, 3336.329915777297, 2513.8964021829975, 2499.961958437951, 857.7741092286171, 6146.272129745151, 3996.5388735139895, 3807.420332726964, 2830.31782231718, 2249.7046591878748, 1635.0785930302688, 1542.166354097671, 1425.5595286268083, 1112.3944406454848, 1087.575973536307, 962.8430226920067, 958.6395170963102, 934.7335283528174, 800.8621332384852, 787.16660960071, 782.7444498693309, 746.6808526930682, 693.9277386609518, 693.7064282949283, 594.1696773792389, 579.334546600437, 551.9701037906822, 540.5421154539376, 533.9208921369826, 530.5016912524252, 523.6616451502422, 517.6482347951074, 492.9939480184302, 478.35470368667444, 473.99389022745464, 786.5412570861623, 633.8354601968778, 3166.715136270373, 1971.415063370447, 1796.8558657067897, 1714.2934678038011, 1641.7910292027123, 1411.2174236353248, 1238.0141780495114, 1151.2560083640856, 1103.2815337972022, 1031.7594922633755, 993.0641722962328, 975.2969073440813, 846.3700852037595, 845.2586219583077, 827.0045847818708, 1546.6557300813836, 817.7685150375806, 808.1476746920551, 738.2745149936965, 691.6773380180517, 687.5051171895079, 662.3318255123298, 653.7118219415428, 646.101043695961, 637.746992619559, 627.6177194734247, 589.1546008844686, 574.2298336718015, 564.1598711219272, 554.6275240763993, 4728.82170988902, 2575.4581204650913, 1681.1004855829221, 6348.037354771425, 4500.809713026505, 3150.2677042481837, 2510.8677521642594, 2307.3202797352114, 2174.8642834648576, 1480.7962164610462, 1473.3936487658746, 1297.828206931872, 1201.331495346584, 1182.4620563859683, 1100.8050751740006, 1051.8809412873484, 975.2867385819696, 911.7676186533212, 824.8997681304421, 812.089761824154, 765.3240210640278, 699.0397302153225, 683.2402166629622, 579.0469179602932, 569.6209230919203, 557.8246408262874, 552.8966765406418, 546.9449359440682, 544.7748214910731, 526.6476194075528, 511.42150252479837, 508.7453226464785, 507.4772192682753, 1077.5579294091697, 1237.9600715663494, 1088.242847846666, 7864.052091019729, 4061.5284612026603, 3099.2002364064997, 2461.9214024474018, 2139.327595014705, 1765.2902813288445, 1608.4003452580462, 1370.1894336683094, 1194.9208223231415, 1109.3208279005169, 1083.5623494290085, 1054.5826599807829, 989.9004780838862, 926.5352464072782, 882.7726469322506, 874.5226447990937, 848.7969094061946, 805.9129158738548, 720.0273044614677, 692.8891182023356, 674.9016637208115, 648.3143576355822, 642.2614603245252, 586.1400079520491, 582.2476744823466, 579.2183866184251, 574.8653270595047, 530.2857730240358, 507.0145148504149, 488.6229709561866, 2866.6060902203953, 2038.0107404712794, 1694.565639673568, 1241.1934222062443, 1010.3305821494343, 934.5206791893557, 700.695210015518, 675.1723816899745, 674.6123451217499, 612.3583234867042, 594.7499533459833, 557.5275330567981, 543.601100147643, 527.8256191142526, 469.59740429788656, 432.4681213003979, 414.19905069364785, 404.5793703363786, 403.4866926193175, 394.72889783921033, 391.8199180851516, 386.3094792938916, 360.84597203923715, 350.67970312560436, 350.377604418834, 347.29201695462996, 343.2711327503717, 320.3999170553366, 304.9969495176131, 279.04663850203104, 273.12699846921765, 1539.104728946044, 1226.567634238036, 896.6466989094982, 879.505743166789, 744.2090035091941, 672.2054662470636, 560.7436544840256, 554.7841422325728, 548.8600858049704, 525.3981307053189, 518.9582482206952, 516.8161047223228, 491.14693095464395, 451.54964215846377, 418.9217947934482, 393.5326471275177, 389.80959835654636, 366.0592525769847, 363.5297479608238, 359.2419965305866, 347.7542159697069, 317.21339327831026, 309.3640169511814, 306.9691882856496, 304.06234131882684, 296.4047884893959, 254.56047125113793, 249.0702961045715, 244.88986408481824, 239.0238135098796, 1485.01012806189, 1396.0930670322427, 952.4855642534563, 697.9915844387691, 689.200196748046, 678.5188744592135, 664.3791292681026, 619.4924710131123, 608.1712765930823, 577.2609103540768, 558.324912292846, 498.7415250172192, 481.480660615357, 481.2697223760284, 438.20108861580485, 436.1782539236341, 658.0591140870074, 381.64225306562474, 379.5418158709776, 366.69735286846856, 360.0509831513227, 356.13054654792364, 353.2952380508214, 348.0985713702068, 347.52764697137417, 343.177347104819, 317.92920447558095, 315.81723726840266, 313.6525863263845, 287.6016702050245, 281.1605753709263], \"Total\": [14642.0, 9322.0, 7864.0, 6348.0, 6147.0, 4766.0, 5037.0, 4501.0, 5638.0, 5985.0, 4673.0, 4062.0, 3997.0, 3808.0, 4394.0, 4323.0, 4210.0, 3151.0, 3100.0, 3167.0, 3342.0, 3204.0, 3139.0, 2891.0, 3071.0, 2038.0, 2831.0, 2800.0, 2586.0, 2511.0, 4394.345952316453, 4210.1807052134845, 3150.748727293323, 3017.903669407622, 1851.995469794593, 1788.1215082663266, 1729.5372620607827, 5638.724196215192, 1607.8572977728577, 1201.850199978532, 1201.616396919201, 1192.07423063409, 1119.48052298566, 1070.1209796134674, 969.1814218836131, 960.9571970918605, 936.595182839488, 932.5442761243695, 932.2293515578122, 855.9061317563916, 846.4257642179471, 842.0041952403037, 814.9404332484294, 804.8499687099878, 779.7178386037748, 714.1535031185147, 698.572341710249, 676.2098342474105, 670.0155054941534, 654.0904027629906, 14642.432193833503, 4323.646717405198, 5985.303411677597, 1700.939920932611, 736.4779393359265, 9322.696472228443, 5037.882663498704, 2088.4237836011393, 1871.5181144553314, 1810.7615070229763, 1576.8506810760002, 1189.1331947116812, 1146.712574961481, 1111.6697736527656, 845.5232540598482, 845.2531434066314, 825.052072336906, 770.8886466889425, 758.4215307446794, 754.2738290126888, 1818.2119875185338, 732.8312407489716, 696.0444601567816, 668.2860939773366, 657.8621675707525, 649.4715861961564, 643.6661654647775, 630.8130121469734, 604.9379471472822, 603.9671053781842, 589.6239860710162, 560.1779003086721, 529.1380760326118, 526.4194063673687, 1492.1021658192342, 1400.7099441257728, 3204.757420161689, 3139.1338237479044, 3071.7750332812725, 2800.196117058321, 1688.2468052362149, 1536.9092778418799, 1284.7497165998266, 1251.4222505214348, 1183.9204231433334, 1140.6651848168617, 1100.6443339201678, 1094.466828533434, 884.0350944432802, 863.7154967557448, 839.2467832889707, 838.3260918674184, 766.4502534167281, 750.4290560804077, 748.4593287270466, 735.2934315035702, 730.4304606500272, 665.8698935320378, 659.6846563444092, 632.3151048231313, 623.5335402877384, 620.8892928389008, 606.168474109993, 594.8252729036742, 526.4348322981256, 521.3438550172178, 4673.54354456113, 3342.6515809401867, 2555.2165412927316, 2548.8276026673316, 870.4726505930951, 6147.1390870257455, 3997.4059062721435, 3808.287325563762, 2831.184880045437, 2250.571678465715, 1635.9456465628562, 1543.0336705721254, 1426.4265353072458, 1113.2617026794044, 1088.443092230793, 963.7100868392051, 959.5066523787144, 935.6006350781486, 801.7292219510304, 788.0336121994221, 783.6115485073823, 747.5479203704602, 694.7947959371278, 694.5735070586659, 595.0367358696959, 580.2015794341438, 552.837196158956, 541.4090564905661, 534.7879663254616, 531.3687308361065, 524.5287895181435, 518.5153846212444, 493.86099421346506, 479.22175414850693, 474.8610179185485, 794.092698643006, 1133.4479699086148, 3167.606240338531, 1972.30613335834, 1797.7469923168956, 1715.1845721811312, 1642.6821519939072, 1412.108491957952, 1238.9053339434902, 1152.147112474486, 1104.1726537018708, 1032.6505633791915, 993.9553146094269, 976.1879627953383, 847.2612156500863, 846.149713722117, 827.8957139514333, 1548.3379186585314, 818.6595346246307, 809.0387804541208, 739.1655497034798, 692.5684179362108, 688.396311489369, 663.2251648221359, 654.6030376123663, 646.9921531004941, 638.6381031467922, 628.5088271114507, 590.0457507106457, 575.1209487896201, 565.0509355998443, 555.5186376090163, 4766.103396592035, 2586.3290886963987, 1718.066145752142, 6348.933891325009, 4501.705021150722, 3151.1630150430738, 2511.763172039525, 2308.2156274447143, 2175.759545296708, 1481.6915892510156, 1474.2889596316109, 1298.7235605636124, 1202.2268385977882, 1183.3574389932696, 1101.7003812635205, 1052.7762499095031, 976.1821339261268, 912.6629768395579, 825.7952263287082, 812.9850238115183, 766.2193645221673, 699.9352205322879, 684.1355846393702, 579.9422687319787, 570.5162629510797, 558.7200818242126, 553.7920480931791, 547.8403280997634, 545.6701932763783, 527.5429787826846, 512.3168441116389, 509.6406330757505, 508.37252260260266, 1088.3122803952563, 1261.2558327311344, 1660.2154107057854, 7864.930248962088, 4062.406631568604, 3100.0784263969244, 2462.7994976425707, 2140.2057655147423, 1766.1684507791713, 1609.2785387539682, 1371.06756534745, 1195.7989861797614, 1110.1990426466275, 1084.4404704394801, 1055.4608756271316, 990.7786687745158, 927.4134556701279, 883.6508065453863, 875.4007976909954, 849.6752658891647, 806.7911339008516, 720.9053848925181, 693.7672367759097, 675.7798351015443, 649.1926066924622, 643.139531319931, 587.0182075864102, 583.1258255290145, 580.0966862519626, 575.7442241416279, 531.1640035377663, 507.89263763888056, 489.5011669554996, 2891.3966551996864, 2038.91105930938, 1695.465957997036, 1242.0937386802166, 1011.2309052459477, 935.4209496160071, 701.5955328738313, 676.0725779835727, 675.5126991240966, 613.2586439525767, 595.6502354815506, 558.4278960233804, 544.5014192307856, 528.7260345979728, 470.49769871360206, 433.36837479506175, 415.09934250348186, 405.47990931020445, 404.38706793728625, 395.6294091783144, 392.7202976104109, 387.20997878843883, 361.7463265861841, 351.58010966759434, 351.27817165037675, 348.19232553013734, 344.1715632394173, 321.3005017353328, 305.89726552601815, 279.94692224560094, 274.0273604815931, 1540.0006963519395, 1227.4636552702304, 897.5426832204412, 880.4017751956104, 745.104909842706, 673.1014769494395, 561.6398557515588, 555.6800660405268, 549.7561151686498, 526.2941915121518, 519.8542063141756, 517.7120947562471, 492.04284929037647, 452.44552491618504, 419.8178116409405, 394.4287154594289, 390.7054780180402, 366.95531409661356, 364.42586018536355, 360.1380466683438, 348.6501161721843, 318.1094646822765, 310.26010414405994, 307.8651758303525, 304.9583071462225, 297.3008217629223, 255.45642063164703, 249.96656226369578, 245.78601025759235, 239.9199748495856, 1567.1619949383348, 1397.009082581951, 953.4016141183033, 698.9076123798733, 690.1161636880619, 679.4350968965539, 665.2951603036307, 620.4085497292784, 609.0872896676193, 578.1770156337859, 559.2409773229223, 499.6574963294367, 482.39674602354256, 482.18571735785895, 439.1171053376672, 437.09425841239283, 659.5562258387743, 382.55835158566333, 380.4579605677214, 367.6134432002974, 360.967127012167, 357.047074792085, 354.21124324778077, 349.0145826559617, 348.44369627833123, 344.09336521841857, 318.84520951229433, 316.73339701121733, 314.56857679916413, 288.5176048446643, 282.0767381927165], \"Category\": [\"Default\", \"Default\", \"Default\", \"Default\", \"Default\", \"Default\", \"Default\", \"Default\", \"Default\", \"Default\", \"Default\", \"Default\", \"Default\", \"Default\", \"Default\", \"Default\", \"Default\", \"Default\", \"Default\", \"Default\", \"Default\", \"Default\", \"Default\", \"Default\", \"Default\", \"Default\", \"Default\", \"Default\", \"Default\", \"Default\", \"Topic1\", \"Topic1\", \"Topic1\", \"Topic1\", \"Topic1\", \"Topic1\", \"Topic1\", \"Topic1\", \"Topic1\", \"Topic1\", \"Topic1\", \"Topic1\", \"Topic1\", \"Topic1\", \"Topic1\", \"Topic1\", \"Topic1\", \"Topic1\", \"Topic1\", \"Topic1\", \"Topic1\", \"Topic1\", \"Topic1\", \"Topic1\", \"Topic1\", \"Topic1\", \"Topic1\", \"Topic1\", \"Topic1\", \"Topic1\", \"Topic1\", \"Topic1\", \"Topic1\", \"Topic1\", \"Topic1\", \"Topic2\", \"Topic2\", \"Topic2\", \"Topic2\", \"Topic2\", \"Topic2\", \"Topic2\", \"Topic2\", \"Topic2\", \"Topic2\", \"Topic2\", \"Topic2\", \"Topic2\", \"Topic2\", \"Topic2\", \"Topic2\", \"Topic2\", \"Topic2\", \"Topic2\", \"Topic2\", \"Topic2\", \"Topic2\", \"Topic2\", \"Topic2\", \"Topic2\", \"Topic2\", \"Topic2\", \"Topic2\", \"Topic2\", \"Topic2\", \"Topic2\", \"Topic3\", \"Topic3\", \"Topic3\", \"Topic3\", \"Topic3\", \"Topic3\", \"Topic3\", \"Topic3\", \"Topic3\", \"Topic3\", \"Topic3\", \"Topic3\", \"Topic3\", \"Topic3\", \"Topic3\", \"Topic3\", \"Topic3\", \"Topic3\", \"Topic3\", \"Topic3\", \"Topic3\", \"Topic3\", \"Topic3\", \"Topic3\", \"Topic3\", \"Topic3\", \"Topic3\", \"Topic3\", \"Topic3\", \"Topic3\", \"Topic3\", \"Topic3\", \"Topic3\", \"Topic3\", \"Topic3\", \"Topic4\", \"Topic4\", \"Topic4\", \"Topic4\", \"Topic4\", \"Topic4\", \"Topic4\", \"Topic4\", \"Topic4\", \"Topic4\", \"Topic4\", \"Topic4\", \"Topic4\", \"Topic4\", \"Topic4\", \"Topic4\", \"Topic4\", \"Topic4\", \"Topic4\", \"Topic4\", \"Topic4\", \"Topic4\", \"Topic4\", \"Topic4\", \"Topic4\", \"Topic4\", \"Topic4\", \"Topic4\", \"Topic4\", \"Topic4\", \"Topic4\", \"Topic4\", \"Topic5\", \"Topic5\", \"Topic5\", \"Topic5\", \"Topic5\", \"Topic5\", \"Topic5\", \"Topic5\", \"Topic5\", \"Topic5\", \"Topic5\", \"Topic5\", \"Topic5\", \"Topic5\", \"Topic5\", \"Topic5\", \"Topic5\", \"Topic5\", \"Topic5\", \"Topic5\", \"Topic5\", \"Topic5\", \"Topic5\", \"Topic5\", \"Topic5\", \"Topic5\", \"Topic5\", \"Topic5\", \"Topic5\", \"Topic5\", \"Topic5\", \"Topic5\", \"Topic5\", \"Topic6\", \"Topic6\", \"Topic6\", \"Topic6\", \"Topic6\", \"Topic6\", \"Topic6\", \"Topic6\", \"Topic6\", \"Topic6\", \"Topic6\", \"Topic6\", \"Topic6\", \"Topic6\", \"Topic6\", \"Topic6\", \"Topic6\", \"Topic6\", \"Topic6\", \"Topic6\", \"Topic6\", \"Topic6\", \"Topic6\", \"Topic6\", \"Topic6\", \"Topic6\", \"Topic6\", \"Topic6\", \"Topic6\", \"Topic6\", \"Topic6\", \"Topic6\", \"Topic6\", \"Topic7\", \"Topic7\", \"Topic7\", \"Topic7\", \"Topic7\", \"Topic7\", \"Topic7\", \"Topic7\", \"Topic7\", \"Topic7\", \"Topic7\", \"Topic7\", \"Topic7\", \"Topic7\", \"Topic7\", \"Topic7\", \"Topic7\", \"Topic7\", \"Topic7\", \"Topic7\", \"Topic7\", \"Topic7\", \"Topic7\", \"Topic7\", \"Topic7\", \"Topic7\", \"Topic7\", \"Topic7\", \"Topic7\", \"Topic7\", \"Topic7\", \"Topic8\", \"Topic8\", \"Topic8\", \"Topic8\", \"Topic8\", \"Topic8\", \"Topic8\", \"Topic8\", \"Topic8\", \"Topic8\", \"Topic8\", \"Topic8\", \"Topic8\", \"Topic8\", \"Topic8\", \"Topic8\", \"Topic8\", \"Topic8\", \"Topic8\", \"Topic8\", \"Topic8\", \"Topic8\", \"Topic8\", \"Topic8\", \"Topic8\", \"Topic8\", \"Topic8\", \"Topic8\", \"Topic8\", \"Topic8\", \"Topic9\", \"Topic9\", \"Topic9\", \"Topic9\", \"Topic9\", \"Topic9\", \"Topic9\", \"Topic9\", \"Topic9\", \"Topic9\", \"Topic9\", \"Topic9\", \"Topic9\", \"Topic9\", \"Topic9\", \"Topic9\", \"Topic9\", \"Topic9\", \"Topic9\", \"Topic9\", \"Topic9\", \"Topic9\", \"Topic9\", \"Topic9\", \"Topic9\", \"Topic9\", \"Topic9\", \"Topic9\", \"Topic9\", \"Topic9\", \"Topic9\", \"Topic10\", \"Topic10\", \"Topic10\", \"Topic10\", \"Topic10\", \"Topic10\", \"Topic10\", \"Topic10\", \"Topic10\", \"Topic10\", \"Topic10\", \"Topic10\", \"Topic10\", \"Topic10\", \"Topic10\", \"Topic10\", \"Topic10\", \"Topic10\", \"Topic10\", \"Topic10\", \"Topic10\", \"Topic10\", \"Topic10\", \"Topic10\", \"Topic10\", \"Topic10\", \"Topic10\", \"Topic10\", \"Topic10\", \"Topic10\"], \"logprob\": [30.0, 29.0, 28.0, 27.0, 26.0, 25.0, 24.0, 23.0, 22.0, 21.0, 20.0, 19.0, 18.0, 17.0, 16.0, 15.0, 14.0, 13.0, 12.0, 11.0, 10.0, 9.0, 8.0, 7.0, 6.0, 5.0, 4.0, 3.0, 2.0, 1.0, -3.3975, -3.4403, -3.7303, -3.7733, -4.2618, -4.2969, -4.3303, -3.1485, -4.4033, -4.6945, -4.6947, -4.7027, -4.7655, -4.8107, -4.9098, -4.9184, -4.9441, -4.9484, -4.9488, -5.0343, -5.0454, -5.0506, -5.0834, -5.0958, -5.1276, -5.2155, -5.2376, -5.2702, -5.2794, -5.3035, -2.1959, -3.4188, -3.1031, -4.3668, -5.1876, -2.3659, -2.9814, -3.8622, -3.972, -4.005, -4.1434, -4.4258, -4.4621, -4.4932, -4.7671, -4.7674, -4.7916, -4.8596, -4.8759, -4.8814, -4.0016, -4.9103, -4.9619, -5.0026, -5.0183, -5.0312, -5.0402, -5.0604, -5.1023, -5.1039, -5.128, -5.1793, -5.2364, -5.2416, -4.1998, -4.2638, -3.4001, -3.4208, -3.4425, -3.5351, -4.0413, -4.1353, -4.3146, -4.3409, -4.3964, -4.4336, -4.4694, -4.475, -4.6887, -4.712, -4.7408, -4.7419, -4.8316, -4.8528, -4.8554, -4.8732, -4.8798, -4.9725, -4.9818, -5.0242, -5.0382, -5.0425, -5.0665, -5.0854, -5.2078, -5.2175, -3.0248, -3.3596, -3.6426, -3.6482, -4.7179, -2.69, -3.1204, -3.1689, -3.4654, -3.695, -4.0141, -4.0726, -4.1513, -4.3993, -4.4219, -4.5437, -4.5481, -4.5733, -4.7279, -4.7451, -4.7508, -4.7979, -4.8712, -4.8715, -5.0264, -5.0517, -5.1001, -5.121, -5.1333, -5.1398, -5.1527, -5.1643, -5.2131, -5.2432, -5.2524, -4.7459, -4.9618, -3.2849, -3.7589, -3.8516, -3.8986, -3.9418, -4.0932, -4.2241, -4.2968, -4.3393, -4.4064, -4.4446, -4.4626, -4.6044, -4.6057, -4.6276, -4.0015, -4.6388, -4.6506, -4.7411, -4.8063, -4.8123, -4.8496, -4.8627, -4.8744, -4.8874, -4.9035, -4.9667, -4.9924, -5.01, -5.0271, -2.884, -3.4916, -3.9182, -2.552, -2.8959, -3.2526, -3.4795, -3.564, -3.6232, -4.0075, -4.0126, -4.1394, -4.2167, -4.2325, -4.3041, -4.3495, -4.4251, -4.4925, -4.5926, -4.6083, -4.6676, -4.7582, -4.781, -4.9465, -4.9629, -4.9838, -4.9927, -5.0035, -5.0075, -5.0413, -5.0707, -5.0759, -5.0784, -4.3254, -4.1867, -4.3156, -2.3095, -2.9702, -3.2406, -3.4708, -3.6113, -3.8035, -3.8965, -4.0568, -4.1937, -4.268, -4.2915, -4.3186, -4.3819, -4.4481, -4.4965, -4.5058, -4.5357, -4.5876, -4.7002, -4.7387, -4.765, -4.8052, -4.8145, -4.906, -4.9126, -4.9178, -4.9254, -5.0061, -5.051, -5.0879, -3.3186, -2.9335, -3.1181, -3.4294, -3.6352, -3.7132, -4.0012, -4.0383, -4.0391, -4.1359, -4.1651, -4.2297, -4.255, -4.2845, -4.4014, -4.4837, -4.5269, -4.5504, -4.5531, -4.575, -4.5824, -4.5966, -4.6648, -4.6934, -4.6942, -4.7031, -4.7147, -4.7837, -4.8329, -4.9219, -4.9433, -3.0807, -3.3077, -3.621, -3.6403, -3.8074, -3.9091, -4.0904, -4.1011, -4.1118, -4.1555, -4.1679, -4.172, -4.2229, -4.307, -4.382, -4.4445, -4.454, -4.5169, -4.5238, -4.5357, -4.5682, -4.6601, -4.6852, -4.6929, -4.7024, -4.728, -4.8801, -4.9019, -4.9189, -4.9431, -3.1165, -3.1062, -3.4886, -3.7995, -3.8121, -3.8278, -3.8488, -3.9188, -3.9372, -3.9894, -4.0227, -4.1356, -4.1708, -4.1712, -4.265, -4.2696, -3.8584, -4.4032, -4.4087, -4.4431, -4.4614, -4.4724, -4.4804, -4.4952, -4.4968, -4.5094, -4.5858, -4.5925, -4.5994, -4.6861, -4.7088], \"loglift\": [30.0, 29.0, 28.0, 27.0, 26.0, 25.0, 24.0, 23.0, 22.0, 21.0, 20.0, 19.0, 18.0, 17.0, 16.0, 15.0, 14.0, 13.0, 12.0, 11.0, 10.0, 9.0, 8.0, 7.0, 6.0, 5.0, 4.0, 3.0, 2.0, 1.0, 1.7626, 1.7626, 1.7625, 1.7625, 1.7623, 1.7623, 1.7623, 1.7622, 1.7622, 1.762, 1.762, 1.762, 1.762, 1.7619, 1.7619, 1.7618, 1.7618, 1.7618, 1.7618, 1.7617, 1.7617, 1.7617, 1.7617, 1.7617, 1.7616, 1.7615, 1.7615, 1.7615, 1.7614, 1.7614, 1.7606, 1.7575, 1.748, 1.7424, 1.7587, 2.0421, 2.042, 2.0417, 2.0417, 2.0417, 2.0416, 2.0414, 2.0414, 2.0414, 2.0411, 2.0411, 2.0411, 2.041, 2.041, 2.041, 2.0409, 2.0409, 2.0409, 2.0408, 2.0408, 2.0408, 2.0408, 2.0407, 2.0407, 2.0407, 2.0406, 2.0406, 2.0405, 2.0405, 2.0404, 2.0396, 2.0757, 2.0757, 2.0756, 2.0756, 2.0754, 2.0754, 2.0752, 2.0752, 2.0752, 2.0752, 2.0751, 2.0751, 2.0749, 2.0749, 2.0749, 2.0749, 2.0748, 2.0747, 2.0747, 2.0747, 2.0747, 2.0746, 2.0746, 2.0745, 2.0745, 2.0745, 2.0745, 2.0744, 2.0742, 2.0742, 2.0736, 2.074, 2.0596, 2.0566, 2.0612, 2.1344, 2.1343, 2.1343, 2.1343, 2.1342, 2.134, 2.134, 2.134, 2.1338, 2.1338, 2.1337, 2.1337, 2.1336, 2.1335, 2.1335, 2.1335, 2.1334, 2.1333, 2.1333, 2.1331, 2.1331, 2.133, 2.133, 2.1329, 2.1329, 2.1329, 2.1329, 2.1328, 2.1328, 2.1327, 2.125, 1.5533, 2.2025, 2.2023, 2.2023, 2.2022, 2.2022, 2.2021, 2.202, 2.202, 2.202, 2.2019, 2.2019, 2.2018, 2.2017, 2.2017, 2.2017, 2.2017, 2.2017, 2.2017, 2.2016, 2.2015, 2.2015, 2.2014, 2.2014, 2.2014, 2.2014, 2.2013, 2.2013, 2.2012, 2.2012, 2.2012, 2.1949, 2.1986, 2.181, 2.2401, 2.2401, 2.24, 2.2399, 2.2399, 2.2399, 2.2397, 2.2397, 2.2396, 2.2395, 2.2395, 2.2395, 2.2394, 2.2394, 2.2393, 2.2392, 2.2392, 2.2391, 2.239, 2.239, 2.2387, 2.2387, 2.2387, 2.2387, 2.2386, 2.2386, 2.2386, 2.2385, 2.2385, 2.2385, 2.2303, 2.2216, 1.8179, 2.2685, 2.2684, 2.2683, 2.2683, 2.2682, 2.2681, 2.2681, 2.268, 2.2679, 2.2678, 2.2678, 2.2678, 2.2677, 2.2677, 2.2676, 2.2676, 2.2676, 2.2675, 2.2674, 2.2674, 2.2673, 2.2673, 2.2673, 2.2671, 2.2671, 2.2671, 2.2671, 2.267, 2.2669, 2.2668, 2.26, 2.9945, 2.9944, 2.9942, 2.994, 2.9939, 2.9936, 2.9936, 2.9936, 2.9934, 2.9934, 2.9933, 2.9932, 2.9932, 2.993, 2.9928, 2.9927, 2.9927, 2.9927, 2.9926, 2.9926, 2.9926, 2.9924, 2.9923, 2.9923, 2.9923, 2.9923, 2.9921, 2.992, 2.9917, 2.9916, 3.1279, 3.1277, 3.1275, 3.1274, 3.1273, 3.1271, 3.1269, 3.1269, 3.1268, 3.1268, 3.1267, 3.1267, 3.1266, 3.1265, 3.1263, 3.1262, 3.1262, 3.126, 3.126, 3.126, 3.1259, 3.1256, 3.1256, 3.1256, 3.1255, 3.1254, 3.125, 3.1249, 3.1248, 3.1247, 3.0746, 3.1998, 3.1995, 3.1992, 3.1991, 3.1991, 3.1991, 3.199, 3.199, 3.1989, 3.1988, 3.1986, 3.1986, 3.1986, 3.1984, 3.1984, 3.1982, 3.1981, 3.1981, 3.198, 3.1979, 3.1979, 3.1979, 3.1978, 3.1978, 3.1978, 3.1976, 3.1976, 3.1976, 3.1973, 3.1972]}, \"token.table\": {\"Topic\": [9, 9, 9, 7, 7, 3, 6, 7, 2, 9, 2, 3, 5, 4, 4, 1, 4, 6, 2, 3, 4, 3, 5, 6, 3, 2, 3, 4, 5, 1, 1, 8, 1, 3, 2, 8, 8, 7, 8, 7, 9, 3, 5, 1, 3, 2, 3, 5, 10, 8, 7, 7, 10, 9, 4, 2, 7, 1, 5, 5, 6, 6, 9, 5, 1, 10, 10, 6, 1, 4, 1, 10, 8, 5, 7, 1, 3, 6, 8, 3, 1, 5, 8, 6, 3, 8, 3, 8, 9, 1, 5, 1, 9, 9, 9, 3, 10, 4, 6, 3, 10, 5, 10, 4, 3, 10, 3, 2, 3, 6, 6, 9, 6, 6, 6, 6, 6, 2, 3, 1, 2, 3, 5, 10, 2, 5, 9, 5, 4, 5, 8, 1, 10, 3, 7, 8, 9, 8, 6, 6, 8, 4, 7, 1, 2, 3, 4, 5, 6, 7, 8, 6, 5, 7, 1, 1, 6, 4, 6, 2, 9, 10, 1, 2, 3, 6, 8, 1, 6, 7, 4, 2, 1, 5, 1, 2, 5, 3, 8, 3, 5, 1, 1, 5, 10, 2, 7, 1, 7, 10, 2, 5, 4, 4, 5, 2, 7, 5, 5, 3, 7, 5, 1, 1, 2, 9, 2, 6, 2, 10, 9, 6, 5, 6, 4, 2, 2, 2, 7, 3, 4, 3, 6, 4, 8, 2, 6, 3, 7, 7, 1, 5, 8, 8, 6, 10, 4, 9, 5, 6, 3, 2, 10, 5, 10, 3, 9, 3, 7, 5, 2, 6, 9, 1, 3, 5, 9, 4, 10, 7, 8, 7, 1, 6, 3, 9, 10, 7, 2, 4, 4, 8, 6, 10, 9, 10, 1, 6, 1, 4, 3, 3, 10, 1, 5, 10, 9, 8, 4, 7, 4, 4, 10, 7, 2, 2, 3, 8, 4, 2, 10, 5, 1, 8, 1, 2, 1, 3, 3, 1, 6, 8, 2, 8, 5, 7, 9, 4, 4, 9, 2, 1, 8, 1, 1, 6, 4, 3, 2, 3, 8, 7, 9, 2, 6, 10, 9, 10, 5, 8, 4, 7, 4, 7, 2, 10, 1, 7, 7, 1, 9, 10, 5, 8, 1, 2, 3, 4, 5, 6, 5, 9, 9], \"Freq\": [0.9978805722065051, 0.9982133131337295, 0.9989130723940078, 0.9987073701994362, 0.9982281740362121, 0.9988291251673306, 0.9984661076290638, 0.9996753703891299, 0.051685786320505564, 0.9475727492092687, 0.016045606835050207, 0.9838696483735663, 0.9985114205314843, 0.9998984575793249, 0.9984856370649936, 0.9995168772012256, 0.00017734508112158013, 0.00035469016224316027, 0.9993811476416103, 0.9986935983433286, 0.9996619673218666, 0.01862559254724789, 0.9784256584976156, 0.002910248835507483, 0.9984181670112826, 0.9990470413939155, 0.9985677111054135, 0.9989918770357118, 0.9987160313210972, 0.9997005638659767, 0.9990039128748323, 0.9986268226823276, 0.9994668073005949, 0.9979201749047271, 0.9992738924901728, 0.9992410222268784, 0.9992337488395056, 0.9995633418179923, 0.9983499929272369, 0.9988460219422984, 0.9987761554137212, 0.9994168448150116, 0.9990787735807554, 0.9989413187699309, 0.999572845255004, 0.00020981500332431776, 0.007553340119675439, 0.9922151507206987, 0.9973207338292209, 0.9995499891079199, 0.9992635025730009, 0.9993384261967448, 0.9974965161602274, 0.9981353335563977, 0.9992631738020569, 0.9988472437715106, 0.9996521293178451, 0.9989524739400284, 0.9993377633744331, 0.9995844841793156, 0.9990950951189204, 0.9984085960514353, 0.9985171083586885, 0.9980509338218696, 0.9991806980092458, 0.9973491541127836, 0.9975409529665124, 0.9989795281901882, 0.998846009830828, 0.9990904386031286, 0.9996893608061717, 0.9976844973781172, 0.9981658762870325, 0.9982276786005386, 0.9987441002501971, 0.9982108597270594, 0.9992225633367404, 0.9987890231904037, 0.9997251740768736, 0.9994282523085544, 0.9800463728818817, 0.019401037975466166, 0.9979368786043323, 0.9989707401964907, 0.9994083724687012, 0.9966174936377039, 0.999747692043566, 0.9989421867206517, 0.9981943482809125, 0.9990793610608419, 0.9995847328145137, 0.999570762531555, 0.9968020545320355, 0.9983635796575109, 0.9983568348513865, 0.9994106753849722, 0.9976404955668561, 0.9982566061633673, 0.9987111939455237, 0.9992614792858794, 0.9992776835923745, 0.9991904216941722, 0.9970674040875569, 0.9997009763232189, 0.9994145848024558, 0.99935961963322, 0.9991716059762361, 0.9999252928344801, 0.9991740054581356, 0.9992735797809463, 0.9973001636760853, 0.9980519844126101, 0.9988528918241099, 0.9998433879724661, 0.9996309251417582, 0.9986638470177617, 0.9998529058041877, 0.013785614047522137, 0.9856714043978327, 0.9947621258429762, 0.0032380073847481203, 0.0018502899341417832, 0.9994242974827805, 0.9961828181947394, 0.9998247947485759, 0.9981527166230726, 0.999543645632108, 0.9998086124686805, 0.9910681729537038, 0.008815091754353147, 0.9988164412115489, 0.9992925907250778, 0.9971045699726291, 0.9980100884644652, 0.0017949821734972394, 0.9990791222702524, 0.9961332337615776, 0.9991194395027072, 0.9992626639235357, 0.9996509056810299, 0.9963613689846664, 0.9991743032913902, 0.9993318390557313, 0.011469428103566267, 0.002646791100822985, 0.07146335972222059, 0.5593551859739241, 0.009704900703017612, 0.014116219204389253, 0.32643756910150146, 0.00529358220164597, 0.9987717979016698, 0.9992150093535553, 0.9988941005927647, 0.998943941426313, 0.9987810105962236, 0.999037017527646, 0.9993580219426653, 0.9983752370144722, 0.9980755338335976, 0.9968575797944634, 0.9968224751508227, 0.9852466273463576, 0.007351339936109841, 0.0058476567673601005, 0.0013366072611108802, 0.9984090940569317, 0.9984843552338323, 0.9987429709599798, 0.9995938269997415, 0.999745985221806, 0.9985174341954165, 0.0006458538462110342, 0.99913590008847, 0.9988073750154925, 0.9973513830316323, 0.0021417710444487452, 0.9985144020640929, 0.9973516158882554, 0.9994125471095862, 0.9992692468757007, 0.9986812777823849, 0.9993728008632847, 0.9986412407834312, 0.9987266342221992, 0.9984994347106126, 0.9994366123415931, 0.9994624879969586, 0.9995541840938365, 0.9977809613865157, 0.9986894404128206, 0.9984665144766601, 0.9974505453103276, 0.9988666612025118, 0.9987830593690824, 0.9978972745836224, 0.9978085797794775, 0.9981401046637882, 0.9991943725117266, 0.9982409315136607, 0.9998817219056443, 0.9989180835987685, 0.9990988559214817, 0.9994969857535699, 0.9995794548205146, 0.9988607365645329, 0.9994441999236684, 0.9983401175660687, 0.9989650450800122, 0.998053254583966, 0.9975409352164171, 0.9974296294826644, 0.009188539153824647, 0.9905245207822969, 0.9992444594606201, 0.9984495151086069, 0.9997231581936987, 0.9994605189405634, 0.9981629385791402, 0.99957346488604, 0.9988560709697663, 0.980843112882082, 0.018832187767335976, 0.9985265817948826, 0.9965699498147618, 0.9983111849255645, 0.9985697734449126, 0.9997636575683002, 0.9989761680066737, 0.999205520534091, 0.003866483984464774, 0.9956196259996793, 0.9987827654005014, 0.9970667749367579, 0.9993642724687839, 0.9983826437536298, 0.9994219572240417, 0.9973966473303012, 0.9990043697874464, 0.9994428679161727, 0.9993863010194184, 0.9992032847530018, 0.998205985229418, 0.9984231547263703, 0.9965804494609634, 0.9994164492973692, 0.999395367785191, 0.9996625834954918, 0.99824246785102, 0.9991792609632638, 0.9997970796902108, 0.998788386276908, 0.9959385556594964, 0.000213970403926964, 0.9977439935114331, 0.0019257336353426758, 0.9988314216089195, 0.9981868001666623, 0.9974560195353624, 0.9992052659218483, 0.9989083602375731, 0.9989199750670212, 0.3439312732058416, 0.6553366466689241, 0.9986125792879553, 0.9993501974678908, 0.9977296416532411, 0.9992140840340468, 0.9978491889278789, 0.9995929118996155, 0.9982576943452396, 0.9968751353148884, 0.9991257076008132, 0.9979642642271145, 0.9996222655813557, 0.9986841059440381, 0.9994870268741495, 0.9994733475372662, 0.9996937081579244, 0.999330104979665, 0.9996388099993294, 0.9991443278456325, 0.998701384326345, 0.9983847966669944, 0.9990388756965375, 0.9982148869528822, 0.9956245604865512, 0.9995531637806268, 0.9990060379372911, 0.998265458254529, 0.9986883653394717, 0.9993060735140996, 0.9985298806950317, 0.9980693265848873, 0.9983987449489014, 0.9987834270515659, 0.0005499908739270737, 0.9965959905914646, 0.9998146963962228, 0.9987111677607817, 0.9970930078386959, 0.9989379797643608, 0.9997623652794534, 0.9984135165091717, 0.0013403907894617296, 0.9979209427542578, 0.9952776055463894, 0.002715627845965592, 0.9974223250081783, 0.9994163535841628, 0.9995332434522591, 0.9968424673449953, 0.9988657132737381, 0.9979476131890055, 0.9993093616859993, 0.9992213619704587, 0.9986245352127955, 0.9992195769593402, 0.9979290310872375, 0.9965123179111172, 0.9993975066439337, 0.9993645249832659, 0.9991511735096261, 0.9983329479252645, 0.01744293221809013, 0.9815613675452537, 0.9992670431479648, 0.9980723608041335, 0.9987248412891976, 0.9989621460226116, 0.996250883562183, 0.9981094767855883, 0.9971897574059196, 0.9989417220368286, 0.9996961608291655, 0.9987962912721342, 0.9961654928891921, 0.9983312819167955, 0.9990008376517967, 0.9965756697011573, 0.9994719657467112, 0.9998999037749091, 0.999581489695785, 0.9990194067986017, 0.9993785932263758, 0.9981925187666563, 0.008300486879529334, 0.9915623284837751, 0.9995421552138717, 0.9997195594925362, 0.9968399710086954, 0.9985404799467872, 0.9990663902632528, 0.995952381872083, 0.9977850541901665, 0.00027317865960031936, 0.0008195359788009581, 0.0004780626543005589, 0.0005463573192006387, 6.829466490007984e-05, 0.9993700062709862, 0.9990152960043807, 0.9986246352741018], \"Term\": [\"s\", \"\\u0430\\u0434\\u0440\\u0435\\u0441\", \"\\u0430\\u043b\\u043b\\u0435\\u0440\\u0433\\u0438\\u044f\", \"\\u0430\\u043d\\u044f\", \"\\u0431\\u043b\\u0430\\u0433\\u043e\\u0434\\u0430\\u0440\\u0438\\u0442\\u044c\", \"\\u0431\\u043b\\u043e\\u0433\\u0435\\u0440\", \"\\u0431\\u043e\\u043b\\u044c\\u0448\\u0438\\u043d\\u0441\\u0442\\u0432\\u043e\", \"\\u0431\\u043e\\u043b\\u044c\\u0448\\u043e\\u0439\", \"\\u0431\\u0440\\u0430\\u0442\\u044c\", \"\\u0431\\u0440\\u0430\\u0442\\u044c\", \"\\u0431\\u0440\\u0435\\u043d\\u0434\", \"\\u0431\\u0440\\u0435\\u043d\\u0434\", \"\\u0431\\u044b\\u0432\\u0430\\u0442\\u044c\", \"\\u0432\\u0430\\u0448\", \"\\u0432\\u0435\\u0440\\u0438\\u0442\\u044c\", \"\\u0432\\u0435\\u0441\\u044c\", \"\\u0432\\u0435\\u0441\\u044c\", \"\\u0432\\u0435\\u0441\\u044c\", \"\\u0432\\u0437\\u044f\\u0442\\u044c\", \"\\u0432\\u0438\\u0434\", \"\\u0432\\u0438\\u0434\\u0435\\u043e\", \"\\u0432\\u0438\\u0434\\u0435\\u0442\\u044c\", \"\\u0432\\u0438\\u0434\\u0435\\u0442\\u044c\", \"\\u0432\\u0438\\u0434\\u0435\\u0442\\u044c\", \"\\u0432\\u043d\\u0438\\u043c\\u0430\\u043d\\u0438\\u0435\", \"\\u0432\\u043e\\u0434\\u0430\", \"\\u0432\\u043e\\u0437\\u043c\\u043e\\u0436\\u043d\\u043e\", \"\\u0432\\u043e\\u043a\\u0440\\u0443\\u0433\", \"\\u0432\\u043e\\u043b\\u043e\\u0441\", \"\\u0432\\u043e\\u043e\\u0431\\u0449\\u0435\", \"\\u0432\\u043e\\u043f\\u0440\\u043e\\u0441\", \"\\u0432\\u0440\\u0430\\u0447\", \"\\u0432\\u0440\\u0435\\u043c\\u044f\", \"\\u0432\\u0440\\u043e\\u0434\\u0435\", \"\\u0432\\u0441\\u044f\\u043a\\u0438\\u0439\", \"\\u0432\\u0442\\u043e\\u0440\\u043e\\u0439\", \"\\u0432\\u044b\\u0431\\u0438\\u0440\\u0430\\u0442\\u044c\", \"\\u0432\\u044b\\u0433\\u043b\\u044f\\u0434\\u0435\\u0442\\u044c\", \"\\u0432\\u044b\\u0437\\u044b\\u0432\\u0430\\u0442\\u044c\", \"\\u0432\\u044b\\u0441\\u043e\\u043a\\u0438\\u0439\", \"\\u0432\\u044b\\u0445\\u043e\\u0434\\u0438\\u0442\\u044c\", \"\\u0433\\u0435\\u043b\\u044c\", \"\\u0433\\u043b\\u0430\\u0432\\u043d\\u043e\\u0435\", \"\\u0433\\u043b\\u0430\\u0437\", \"\\u0433\\u043e\\u0432\\u043e\\u0440\\u0438\\u0442\\u044c\", \"\\u0433\\u043e\\u0434\", \"\\u0433\\u043e\\u0434\", \"\\u0433\\u043e\\u0434\", \"\\u0433\\u043e\\u043b\\u043e\\u0432\\u0430\", \"\\u0433\\u043e\\u0440\\u043e\\u0434\", \"\\u0434\", \"\\u0434\\u0430\\u0432\\u0430\\u0442\\u044c\", \"\\u0434\\u0430\\u0432\\u043d\\u043e\", \"\\u0434\\u0430\\u043d\\u043d\\u044b\\u0439\", \"\\u0434\\u0435\\u0432\\u0443\\u0448\\u043a\\u0430\", \"\\u0434\\u0435\\u0439\\u0441\\u0442\\u0432\\u0438\\u0442\\u0435\\u043b\\u044c\\u043d\\u043e\", \"\\u0434\\u0435\\u043b\\u0430\\u0442\\u044c\", \"\\u0434\\u0435\\u043b\\u043e\", \"\\u0434\\u0435\\u043d\\u044c\", \"\\u0434\\u0435\\u043d\\u044c\\u0433\\u0438\", \"\\u0434\\u0435\\u0448\\u0435\\u0432\\u043e\", \"\\u0434\\u0435\\u0448\\u0435\\u0432\\u044b\\u0439\", \"\\u0434\\u043e\\u0431\\u0440\\u044b\\u0439\", \"\\u0434\\u043e\\u043b\\u0433\\u043e\", \"\\u0434\\u043e\\u043b\\u0436\\u043d\\u044b\\u0439\", \"\\u0434\\u043e\\u043c\", \"\\u0434\\u043e\\u0440\\u043e\\u0433\\u043e\", \"\\u0434\\u043e\\u0440\\u043e\\u0433\\u043e\\u0439\", \"\\u0434\\u043e\\u0441\\u0442\\u0430\\u0432\\u043a\\u0430\", \"\\u0434\\u0440\\u0443\\u0433\", \"\\u0434\\u0443\\u043c\\u0430\\u0442\\u044c\", \"\\u0434\\u0443\\u0448\\u0430\", \"\\u0435\\u0434\\u0430\", \"\\u0435\\u043b\\u0435\\u043d\\u0430\", \"\\u0436\\u0434\\u0430\\u0442\\u044c\", \"\\u0436\\u0435\\u043d\\u0449\\u0438\\u043d\\u0430\", \"\\u0436\\u0438\\u0437\\u043d\\u044c\", \"\\u0436\\u0438\\u0440\\u043d\\u044b\\u0439\", \"\\u0436\\u0438\\u0442\\u044c\", \"\\u0437\\u0430\\u043a\\u0430\\u0437\", \"\\u0437\\u0430\\u043a\\u0430\\u0437\\u044b\\u0432\\u0430\\u0442\\u044c\", \"\\u0437\\u0430\\u043a\\u0430\\u0437\\u044b\\u0432\\u0430\\u0442\\u044c\", \"\\u0437\\u0430\\u0445\\u043e\\u0434\\u0438\\u0442\\u044c\", \"\\u0437\\u0434\\u043e\\u0440\\u043e\\u0432\\u044c\\u0435\", \"\\u0437\\u0434\\u0440\\u0430\\u0432\\u0441\\u0442\\u0432\\u043e\\u0432\\u0430\\u0442\\u044c\", \"\\u0437\\u043d\\u0430\\u043a\\u043e\\u043c\\u044b\\u0439\", \"\\u0437\\u043d\\u0430\\u0442\\u044c\", \"\\u0437\\u043d\\u0430\\u0447\\u0438\\u0442\", \"\\u0437\\u043e\\u043b\\u043e\\u0442\\u043e\\u0439\", \"\\u0438\\u0434\\u0442\\u0438\", \"\\u0438\\u043c\\u0435\\u043d\\u043d\\u043e\", \"\\u0438\\u043c\\u0435\\u0442\\u044c\", \"\\u0438\\u043c\\u044f\", \"\\u0438\\u043d\\u0442\\u0435\\u0440\\u0435\\u0441\\u043d\\u043e\", \"\\u0438\\u043d\\u0442\\u0435\\u0440\\u0435\\u0441\\u043d\\u044b\\u0439\", \"\\u0438\\u043d\\u0444\\u043e\\u0440\\u043c\\u0430\\u0446\\u0438\\u044f\", \"\\u0438\\u043f\\u043e\\u0442\\u0435\\u043a\\u0430\", \"\\u0438\\u0440\\u0438\\u043d\\u0430\", \"\\u0438\\u0441\\u043a\\u0430\\u0442\\u044c\", \"\\u0438\\u0441\\u043f\\u043e\\u043b\\u044c\\u0437\\u043e\\u0432\\u0430\\u0442\\u044c\", \"\\u043a\\u0430\\u0436\\u0434\\u044b\\u0439\", \"\\u043a\\u0430\\u0437\\u0430\\u0442\\u044c\\u0441\\u044f\", \"\\u043a\\u0430\\u043c\\u0435\\u0440\\u0430\", \"\\u043a\\u0430\\u043d\\u0430\\u043b\", \"\\u043a\\u0430\\u0447\\u0435\\u0441\\u0442\\u0432\\u043e\", \"\\u043a\\u0432\\u0430\\u0440\\u0442\\u0438\\u0440\\u0430\", \"\\u043a\\u0438\\u0441\\u043b\\u043e\\u0442\\u0430\", \"\\u043a\\u043e\\u0436\\u0430\", \"\\u043a\\u043e\\u043b\\u0438\\u0447\\u0435\\u0441\\u0442\\u0432\\u043e\", \"\\u043a\\u043e\\u043c\\u043c\\u0435\\u043d\\u0442\\u0430\\u0440\\u0438\\u0439\", \"\\u043a\\u043e\\u043c\\u043f\\u0430\\u043d\\u0438\\u044f\", \"\\u043a\\u043e\\u043d\\u0435\\u0446\", \"\\u043a\\u043e\\u0440\\u0435\\u0435\\u0446\", \"\\u043a\\u043e\\u0440\\u0435\\u0439\\u0441\\u043a\\u0438\\u0439\", \"\\u043a\\u043e\\u0440\\u0435\\u044f\", \"\\u043a\\u043e\\u0440\\u0435\\u044f\\u043d\\u043a\\u0430\", \"\\u043a\\u043e\\u0441\\u043c\\u0435\\u0442\\u0438\\u043a\\u0430\", \"\\u043a\\u043e\\u0441\\u043c\\u0435\\u0442\\u043e\\u043b\\u043e\\u0433\", \"\\u043a\\u043e\\u0441\\u043c\\u0435\\u0442\\u043e\\u043b\\u043e\\u0433\", \"\\u043a\\u043e\\u0442\\u043e\\u0440\\u044b\\u0439\", \"\\u043a\\u043e\\u0442\\u043e\\u0440\\u044b\\u0439\", \"\\u043a\\u043e\\u0442\\u043e\\u0440\\u044b\\u0439\", \"\\u043a\\u0440\\u0430\\u0441\\u0438\\u0432\\u044b\\u0439\", \"\\u043a\\u0440\\u0430\\u0441\\u043d\\u044b\\u0439\", \"\\u043a\\u0440\\u0435\\u043c\", \"\\u043a\\u0441\\u0435\\u043d\\u0438\\u044f\", \"\\u043a\\u0441\\u0442\\u0430\\u0442\\u0438\", \"\\u043a\\u0443\\u043f\\u0438\\u0442\\u044c\", \"\\u043b\\u0435\\u0442\\u043e\", \"\\u043b\\u0435\\u0442\\u043e\", \"\\u043b\\u0435\\u0442\\u0443\\u0430\\u043b\\u044c\", \"\\u043b\\u0438\\u0431\\u043e\", \"\\u043b\\u0438\\u043d\\u0435\\u0439\\u043a\\u0430\", \"\\u043b\\u0438\\u0446\\u043e\", \"\\u043b\\u0438\\u0446\\u043e\", \"\\u043b\\u0438\\u0447\\u043d\\u043e\", \"\\u043b\\u043e\\u0436\\u0438\\u0442\\u044c\\u0441\\u044f\", \"\\u043b\\u044e\\u0431\\u0438\\u0442\\u044c\", \"\\u043b\\u044e\\u0431\\u043e\\u0439\", \"\\u043c\\u0430\\u0433\\u0430\\u0437\\u0438\\u043d\", \"\\u043c\\u0430\\u0437\\u0430\\u0442\\u044c\", \"\\u043c\\u0430\\u043a\\u0438\\u044f\\u0436\", \"\\u043c\\u0430\\u043b\\u043e\", \"\\u043c\\u0430\\u0440\\u0438\\u043d\\u0430\", \"\\u043c\\u0430\\u0440\\u0438\\u043d\\u0430\", \"\\u043c\\u0430\\u0440\\u0438\\u043d\\u0430\", \"\\u043c\\u0430\\u0440\\u0438\\u043d\\u0430\", \"\\u043c\\u0430\\u0440\\u0438\\u043d\\u0430\", \"\\u043c\\u0430\\u0440\\u0438\\u043d\\u0430\", \"\\u043c\\u0430\\u0440\\u0438\\u043d\\u0430\", \"\\u043c\\u0430\\u0440\\u0438\\u043d\\u0430\", \"\\u043c\\u0430\\u0440\\u043a\\u0430\", \"\\u043c\\u0430\\u0441\\u043a\\u0430\", \"\\u043c\\u0430\\u0441\\u043b\\u043e\", \"\\u043c\\u0435\\u0441\\u0442\\u043e\", \"\\u043c\\u0435\\u0441\\u044f\\u0446\", \"\\u043c\\u0438\\u0440\", \"\\u043c\\u043d\\u0435\\u043d\\u0438\\u0435\", \"\\u043c\\u043d\\u043e\\u0433\\u0438\\u0435\", \"\\u043c\\u043d\\u043e\\u0433\\u0438\\u0439\", \"\\u043c\\u043e\\u043c\\u0435\\u043d\\u0442\", \"\\u043c\\u043e\\u0441\\u043a\\u0432\\u0430\", \"\\u043c\\u043e\\u0447\\u044c\", \"\\u043c\\u043e\\u0447\\u044c\", \"\\u043c\\u043e\\u0447\\u044c\", \"\\u043c\\u043e\\u0447\\u044c\", \"\\u043c\\u0443\\u0436\", \"\\u043d\\u0430\\u0432\\u0435\\u0440\\u043d\\u043e\\u0435\", \"\\u043d\\u0430\\u0437\\u0432\\u0430\\u043d\\u0438\\u0435\", \"\\u043d\\u0430\\u043d\\u043e\\u0441\\u0438\\u0442\\u044c\", \"\\u043d\\u0430\\u043f\\u0438\\u0441\\u0430\\u0442\\u044c\", \"\\u043d\\u0430\\u043f\\u0440\\u0438\\u043c\\u0435\\u0440\", \"\\u043d\\u0430\\u0445\\u043e\\u0434\\u0438\\u0442\\u044c\", \"\\u043d\\u0430\\u0445\\u043e\\u0434\\u0438\\u0442\\u044c\", \"\\u043d\\u0430\\u0447\\u0438\\u043d\\u0430\\u0442\\u044c\", \"\\u043d\\u0430\\u0448\", \"\\u043d\\u0430\\u0448\", \"\\u043d\\u0435\\u0434\\u0435\\u043b\\u044f\", \"\\u043d\\u0435\\u043a\\u043e\\u0442\\u043e\\u0440\\u044b\\u0439\", \"\\u043d\\u0435\\u0441\\u043a\\u043e\\u043b\\u044c\\u043a\\u043e\", \"\\u043d\\u0438\\u043a\\u0430\\u043a\\u043e\\u0439\", \"\\u043d\\u0438\\u043a\\u0442\\u043e\", \"\\u043d\\u0438\\u0447\\u0442\\u043e\", \"\\u043d\\u043e\\u0432\\u044b\\u0439\", \"\\u043d\\u043e\\u0440\\u043c\\u0430\", \"\\u043d\\u043e\\u0440\\u043c\\u0430\\u043b\\u044c\\u043d\\u044b\\u0439\", \"\\u043d\\u0440\\u0430\\u0432\\u0438\\u0442\\u044c\\u0441\\u044f\", \"\\u043d\\u0443\\u0436\\u043d\\u043e\", \"\\u043d\\u0443\\u0436\\u043d\\u044b\\u0439\", \"\\u043e\\u0431\\u044b\\u0447\\u043d\\u044b\\u0439\", \"\\u043e\\u0431\\u044f\\u0437\\u0430\\u0442\\u0435\\u043b\\u044c\\u043d\\u043e\", \"\\u043e\\u0433\\u0440\\u043e\\u043c\\u043d\\u044b\\u0439\", \"\\u043e\\u043b\\u044c\\u0433\\u0430\", \"\\u043e\\u043b\\u044f\", \"\\u043e\\u0440\\u0438\\u0433\\u0438\\u043d\\u0430\\u043b\", \"\\u043e\\u0441\\u043e\\u0431\\u0435\\u043d\\u043d\\u043e\", \"\\u043e\\u0441\\u0442\\u0430\\u0432\\u043b\\u044f\\u0442\\u044c\", \"\\u043e\\u0442\\u0432\\u0435\\u0442\", \"\\u043e\\u0442\\u0437\\u044b\\u0432\", \"\\u043e\\u0442\\u043f\\u0440\\u0430\\u0432\\u043b\\u044f\\u0442\\u044c\", \"\\u043e\\u0447\\u0435\\u043d\\u044c\", \"\\u043f\\u0435\\u043d\\u043a\\u0430\", \"\\u043f\\u0435\\u0440\\u0432\\u044b\\u0439\", \"\\u043f\\u0438\\u043b\\u0438\\u043d\\u0433\", \"\\u043f\\u0438\\u0441\\u0430\\u0442\\u044c\", \"\\u043f\\u0438\\u0442\\u0430\\u043d\\u0438\\u0435\", \"\\u043f\\u0438\\u0442\\u044c\", \"\\u043f\\u043b\\u0430\\u0442\\u0438\\u0442\\u044c\", \"\\u043f\\u043b\\u043e\\u0445\\u043e\", \"\\u043f\\u043b\\u043e\\u0445\\u043e\\u0439\", \"\\u043f\\u043b\\u044e\\u0441\", \"\\u043f\\u043e\\u0434\\u0431\\u0438\\u0440\\u0430\\u0442\\u044c\", \"\\u043f\\u043e\\u0434\\u0434\\u0435\\u043b\\u043a\\u0430\", \"\\u043f\\u043e\\u0434\\u0434\\u0435\\u043b\\u043a\\u0430\", \"\\u043f\\u043e\\u0434\\u0434\\u0435\\u0440\\u0436\\u043a\\u0430\", \"\\u043f\\u043e\\u0434\\u0441\\u043a\\u0430\\u0437\\u044b\\u0432\\u0430\\u0442\\u044c\", \"\\u043f\\u043e\\u0434\\u0445\\u043e\\u0434\\u0438\\u0442\\u044c\", \"\\u043f\\u043e\\u0436\\u0430\\u043b\\u0443\\u0439\\u0441\\u0442\\u0430\", \"\\u043f\\u043e\\u0439\\u0442\\u0438\", \"\\u043f\\u043e\\u043a\\u0430\", \"\\u043f\\u043e\\u043a\\u0430\\u0437\\u044b\\u0432\\u0430\\u0442\\u044c\", \"\\u043f\\u043e\\u043a\\u0443\\u043f\\u0430\\u0442\\u044c\", \"\\u043f\\u043e\\u043a\\u0443\\u043f\\u0430\\u0442\\u044c\", \"\\u043f\\u043e\\u043b\\u0435\\u0437\\u043d\\u044b\\u0439\", \"\\u043f\\u043e\\u043b\\u043d\\u043e\\u0441\\u0442\\u044c\\u044e\", \"\\u043f\\u043e\\u043b\\u0443\\u0447\\u0430\\u0442\\u044c\", \"\\u043f\\u043e\\u043b\\u0443\\u0447\\u0430\\u0442\\u044c\\u0441\\u044f\", \"\\u043f\\u043e\\u043b\\u044c\\u0437\\u043e\\u0432\\u0430\\u0442\\u044c\\u0441\\u044f\", \"\\u043f\\u043e\\u043c\\u0430\\u0434\\u0430\", \"\\u043f\\u043e\\u043c\\u043e\\u0433\\u0430\\u0442\\u044c\", \"\\u043f\\u043e\\u043d\\u0438\\u043c\\u0430\\u0442\\u044c\", \"\\u043f\\u043e\\u043d\\u0438\\u043c\\u0430\\u0442\\u044c\", \"\\u043f\\u043e\\u043d\\u0440\\u0430\\u0432\\u0438\\u0442\\u044c\\u0441\\u044f\", \"\\u043f\\u043e\\u043d\\u044f\\u0442\\u043d\\u043e\", \"\\u043f\\u043e\\u043f\\u0440\\u043e\\u0431\\u043e\\u0432\\u0430\\u0442\\u044c\", \"\\u043f\\u043e\\u0440\\u0430\", \"\\u043f\\u043e\\u0441\\u043c\\u043e\\u0442\\u0440\\u0435\\u0442\\u044c\", \"\\u043f\\u043e\\u0445\\u043e\\u0436\\u0438\\u0439\", \"\\u043f\\u043e\\u0447\\u0435\\u043c\\u0443\", \"\\u043f\\u043e\\u044d\\u0442\\u043e\\u043c\\u0443\", \"\\u043f\\u0440\\u0430\\u0432\\u0434\\u0430\", \"\\u043f\\u0440\\u0430\\u0432\\u0438\\u043b\\u044c\\u043d\\u043e\", \"\\u043f\\u0440\\u0435\\u0434\\u0441\\u0442\\u0430\\u0432\\u043b\\u044f\\u0442\\u044c\", \"\\u043f\\u0440\\u0438\\u0445\\u043e\\u0434\\u0438\\u0442\\u044c\", \"\\u043f\\u0440\\u0438\\u0445\\u043e\\u0434\\u0438\\u0442\\u044c\\u0441\\u044f\", \"\\u043f\\u0440\\u043e\\u0431\\u043b\\u0435\\u043c\\u0430\", \"\\u043f\\u0440\\u043e\\u0431\\u043e\\u0432\\u0430\\u0442\\u044c\", \"\\u043f\\u0440\\u043e\\u0434\\u0430\\u0432\\u0430\\u0442\\u044c\", \"\\u043f\\u0440\\u043e\\u0434\\u0430\\u0432\\u0430\\u0442\\u044c\\u0441\\u044f\", \"\\u043f\\u0440\\u043e\\u0434\\u0430\\u0432\\u0435\\u0446\", \"\\u043f\\u0440\\u043e\\u0434\\u0443\\u043a\\u0442\", \"\\u043f\\u0440\\u043e\\u0434\\u0443\\u043a\\u0446\\u0438\\u044f\", \"\\u043f\\u0440\\u043e\\u0438\\u0441\\u0445\\u043e\\u0434\\u0438\\u0442\\u044c\", \"\\u043f\\u0440\\u043e\\u0441\\u0442\\u043e\", \"\\u043f\\u0440\\u043e\\u0441\\u0442\\u043e\", \"\\u043f\\u0440\\u043e\\u0441\\u0442\\u043e\", \"\\u043f\\u0440\\u043e\\u0441\\u0442\\u043e\\u0439\", \"\\u043f\\u0440\\u043e\\u0442\\u0438\\u0432\", \"\\u043f\\u0440\\u043e\\u0445\\u043e\\u0434\\u0438\\u0442\\u044c\", \"\\u043f\\u0440\\u044b\\u0449\", \"\\u043f\\u0440\\u044f\\u043c\\u043e\\u0439\", \"\\u0440\\u0430\\u0431\\u043e\\u0442\\u0430\", \"\\u0440\\u0430\\u0431\\u043e\\u0442\\u0430\\u0442\\u044c\", \"\\u0440\\u0430\\u0431\\u043e\\u0442\\u0430\\u0442\\u044c\", \"\\u0440\\u0430\\u0432\\u043d\\u044b\\u0439\", \"\\u0440\\u0430\\u0437\\u043d\\u044b\\u0439\", \"\\u0440\\u0430\\u043d\\u043e\", \"\\u0440\\u0430\\u0441\\u0441\\u043a\\u0430\\u0437\\u044b\\u0432\\u0430\\u0442\\u044c\", \"\\u0440\\u0435\\u0431\\u0435\\u043d\\u043e\\u043a\", \"\\u0440\\u0435\\u0437\\u0443\\u043b\\u044c\\u0442\\u0430\\u0442\", \"\\u0440\\u0435\\u043a\\u043b\\u0430\\u043c\\u0430\", \"\\u0440\\u0435\\u0447\\u044c\", \"\\u0440\\u043e\\u0441\\u0441\\u0438\\u044f\", \"\\u0440\\u0443\\u043a\\u0430\", \"\\u0440\\u0443\\u0441\\u0441\\u043a\\u0438\\u0439\", \"\\u0440\\u044b\\u043d\\u043e\\u043a\", \"\\u0441\\u0430\\u0439\\u0442\", \"\\u0441\\u0430\\u043c\\u044b\\u0439\", \"\\u0441\\u0432\\u043e\\u0439\", \"\\u0441\\u0434\\u0435\\u043b\\u0430\\u0442\\u044c\", \"\\u0441\\u043a\\u0430\\u0437\\u0430\\u0442\\u044c\", \"\\u0441\\u043a\\u0438\\u0434\\u043a\\u0430\", \"\\u0441\\u043a\\u043e\\u043b\\u044c\\u043a\\u043e\", \"\\u0441\\u043a\\u043e\\u0440\\u043e\", \"\\u0441\\u043b\\u043e\\u0432\\u043e\", \"\\u0441\\u043b\\u0443\\u0447\\u0430\\u0439\", \"\\u0441\\u043b\\u0443\\u0448\\u0430\\u0442\\u044c\", \"\\u0441\\u043c\\u043e\\u0442\\u0440\\u0435\\u0442\\u044c\", \"\\u0441\\u043c\\u043e\\u0447\\u044c\", \"\\u0441\\u043c\\u044b\\u0441\\u043b\", \"\\u0441\\u043d\\u0438\\u043c\\u0430\\u0442\\u044c\", \"\\u0441\\u043e\\u0432\\u0435\\u0442\", \"\\u0441\\u043e\\u0433\\u043b\\u0430\\u0441\\u043d\\u044b\\u0439\", \"\\u0441\\u043e\\u0436\\u0430\\u043b\\u0435\\u043d\\u0438\\u0435\", \"\\u0441\\u043e\\u043b\\u043d\\u0446\\u0435\", \"\\u0441\\u043e\\u0441\\u0442\\u0430\\u0432\", \"\\u0441\\u043e\\u0441\\u0442\\u0430\\u0432\", \"\\u0441\\u043e\\u0441\\u0442\\u043e\\u044f\\u043d\\u0438\\u0435\", \"\\u0441\\u043f\\u0430\\u0441\\u0438\\u0431\\u043e\", \"\\u0441\\u043f\\u0440\\u0430\\u0448\\u0438\\u0432\\u0430\\u0442\\u044c\", \"\\u0441\\u0440\\u0430\\u0432\\u043d\\u0438\\u0432\\u0430\\u0442\\u044c\", \"\\u0441\\u0440\\u0430\\u0437\\u0443\", \"\\u0441\\u0440\\u0435\\u0434\\u0441\\u0442\\u0432\\u043e\", \"\\u0441\\u0441\\u044b\\u043b\\u043a\\u0430\", \"\\u0441\\u0442\\u0430\\u043d\\u043e\\u0432\\u0438\\u0442\\u044c\\u0441\\u044f\", \"\\u0441\\u0442\\u0430\\u043d\\u043e\\u0432\\u0438\\u0442\\u044c\\u0441\\u044f\", \"\\u0441\\u0442\\u043e\\u0438\\u0442\\u044c\", \"\\u0441\\u0442\\u043e\\u0438\\u0442\\u044c\", \"\\u0441\\u0442\\u043e\\u043b\\u044c\\u043a\\u043e\", \"\\u0441\\u0442\\u043e\\u044f\\u0442\\u044c\", \"\\u0441\\u0442\\u0440\\u0430\\u043d\\u0430\", \"\\u0441\\u0443\\u043f\\u0435\\u0440\", \"\\u0441\\u0443\\u0445\\u043e\\u0439\", \"\\u0441\\u0447\\u0438\\u0442\\u0430\\u0442\\u044c\", \"\\u0441\\u044b\\u0432\\u043e\\u0440\\u043e\\u0442\\u043a\\u0430\", \"\\u0442\", \"\\u0442\\u0430\\u043a\\u0436\\u0435\", \"\\u0442\\u0432\\u043e\\u0439\", \"\\u0442\\u0435\\u043c\\u0430\", \"\\u0442\\u0435\\u043d\\u044c\", \"\\u0442\\u0438\\u043f\", \"\\u0442\\u043e\\u0432\\u0430\\u0440\", \"\\u0442\\u043e\\u043d\\u0435\\u0440\", \"\\u0442\\u043e\\u043d\\u0438\\u043a\", \"\\u0442\\u043e\\u0447\\u043d\\u043e\", \"\\u0442\\u043e\\u0447\\u043d\\u043e\", \"\\u0443\\u0432\\u0438\\u0434\\u0435\\u0442\\u044c\", \"\\u0443\\u0432\\u043b\\u0430\\u0436\\u043d\\u0435\\u043d\\u0438\\u0435\", \"\\u0443\\u0432\\u043b\\u0430\\u0436\\u043d\\u044f\\u0442\\u044c\", \"\\u0443\\u0437\\u043d\\u0430\\u0432\\u0430\\u0442\\u044c\", \"\\u0443\\u043b\\u0438\\u0446\\u0430\", \"\\u0443\\u0440\\u043e\\u0432\\u0435\\u043d\\u044c\", \"\\u0443\\u0441\\u043b\\u043e\\u0432\\u0438\\u0435\", \"\\u0443\\u0442\\u0440\\u043e\", \"\\u0443\\u0445\\u043e\\u0434\", \"\\u0443\\u0445\\u043e\\u0434\\u0438\\u0442\\u044c\", \"\\u0443\\u0447\\u0438\\u0442\\u044c\", \"\\u0444\\u0430\\u043a\\u0442\", \"\\u0444\\u0438\\u0440\\u043c\\u0430\", \"\\u0445\\u0432\\u0430\\u0442\\u0430\\u0442\\u044c\", \"\\u0445\\u043e\\u0434\\u0438\\u0442\\u044c\", \"\\u0445\\u043e\\u0440\\u043e\\u0448\\u0438\\u0439\", \"\\u0445\\u043e\\u0442\\u0435\\u0442\\u044c\", \"\\u0445\\u043e\\u0442\\u0435\\u0442\\u044c\\u0441\\u044f\", \"\\u0445\\u043e\\u0442\\u044f\", \"\\u0446\\u0432\\u0435\\u0442\", \"\\u0446\\u0435\\u043d\\u0430\", \"\\u0446\\u0435\\u043d\\u0430\", \"\\u0447\\u0430\\u0441\\u0442\\u043e\", \"\\u0447\\u0435\\u043b\\u043e\\u0432\\u0435\\u043a\", \"\\u0447\\u0435\\u0441\\u0442\\u043d\\u043e\", \"\\u0447\\u0438\\u0441\\u0442\\u044b\\u0439\", \"\\u0447\\u0438\\u0442\\u0430\\u0442\\u044c\", \"\\u044d\\u0442\\u0430\\u043f\", \"\\u044d\\u0442\\u043e\", \"\\u044d\\u0442\\u043e\", \"\\u044d\\u0442\\u043e\", \"\\u044d\\u0442\\u043e\", \"\\u044d\\u0442\\u043e\", \"\\u044d\\u0442\\u043e\", \"\\u044d\\u0444\\u0444\\u0435\\u043a\\u0442\", \"\\u044f\\u0431\\u043b\\u043e\\u043a\\u043e\", \"\\u044f\\u0437\\u044b\\u043a\"]}, \"R\": 30, \"lambda.step\": 0.01, \"plot.opts\": {\"xlab\": \"PC1\", \"ylab\": \"PC2\"}, \"topic.order\": [9, 7, 1, 5, 3, 10, 2, 4, 6, 8]};\n\nfunction LDAvis_load_lib(url, callback){\n  var s = document.createElement('script');\n  s.src = url;\n  s.async = true;\n  s.onreadystatechange = s.onload = callback;\n  s.onerror = function(){console.warn(\"failed to load library \" + url);};\n  document.getElementsByTagName(\"head\")[0].appendChild(s);\n}\n\nif(typeof(LDAvis) !== \"undefined\"){\n   // already loaded: just create the visualization\n   !function(LDAvis){\n       new LDAvis(\"#\" + \"ldavis_el53411111003210727394547039\", ldavis_el53411111003210727394547039_data);\n   }(LDAvis);\n}else if(typeof define === \"function\" && define.amd){\n   // require.js is available: use it to load d3/LDAvis\n   require.config({paths: {d3: \"https://d3js.org/d3.v5\"}});\n   require([\"d3\"], function(d3){\n      window.d3 = d3;\n      LDAvis_load_lib(\"https://cdn.jsdelivr.net/gh/bmabey/pyLDAvis@3.4.0/pyLDAvis/js/ldavis.v3.0.0.js\", function(){\n        new LDAvis(\"#\" + \"ldavis_el53411111003210727394547039\", ldavis_el53411111003210727394547039_data);\n      });\n    });\n}else{\n    // require.js not available: dynamically load d3 & LDAvis\n    LDAvis_load_lib(\"https://d3js.org/d3.v5.js\", function(){\n         LDAvis_load_lib(\"https://cdn.jsdelivr.net/gh/bmabey/pyLDAvis@3.4.0/pyLDAvis/js/ldavis.v3.0.0.js\", function(){\n                 new LDAvis(\"#\" + \"ldavis_el53411111003210727394547039\", ldavis_el53411111003210727394547039_data);\n            })\n         });\n}\n</script>"
     },
     "execution_count": 8,
     "metadata": {},
     "output_type": "execute_result"
    }
   ],
   "source": [
    "# Visualize the topics\n",
    "pyLDAvis.enable_notebook()\n",
    "vis = pyLDAvis.gensim.prepare(lda_model, corpus, id2word)\n",
    "vis"
   ],
   "metadata": {
    "collapsed": false,
    "ExecuteTime": {
     "end_time": "2023-05-19T21:36:47.292632Z",
     "start_time": "2023-05-19T21:36:43.793781Z"
    }
   }
  },
  {
   "cell_type": "markdown",
   "source": [
    "## Old Fashioned"
   ],
   "metadata": {
    "collapsed": false
   }
  },
  {
   "cell_type": "code",
   "execution_count": null,
   "outputs": [],
   "source": [
    "# 5\n",
    "\n",
    "from sklearn.feature_extraction.text import CountVectorizer, TfidfVectorizer\n",
    "\n",
    "vectorization_params = {\n",
    "    'ngram_range' : (1,2), # Токены и словосочетания\n",
    "    'max_df': 0.95, # Токен не может быть встречаться чаще, чем в 95% текстов\n",
    "    'min_df': 0.0001, # Токен не может быть встречаться чаще, чем в 0.01% текстов\n",
    "    'analyzer': 'word'\n",
    "}\n",
    "\n",
    "# Векторизация по частотам\n",
    "cnt_vect = CountVectorizer(**vectorization_params)\n",
    "# Векторизация по метрике TFIDF\n",
    "tfidf = TfidfVectorizer(**vectorization_params)\n"
   ],
   "metadata": {
    "collapsed": false
   }
  },
  {
   "cell_type": "code",
   "execution_count": null,
   "outputs": [],
   "source": [
    "# 6 Преобразование\n",
    "\n",
    "cnt_m_sparse = cnt_vect.fit_transform(text_df['preprocessed_text'])\n",
    "tfidf_m_sparse = cnt_vect.fit_transform(text_df['preprocessed_text'])\n",
    "\n",
    "\n",
    "print('Размер разряженной матрицы', cnt_m_sparse.shape)"
   ],
   "metadata": {
    "collapsed": false
   }
  },
  {
   "cell_type": "code",
   "execution_count": null,
   "outputs": [],
   "source": [
    "token_names = list(cnt_vect.vocabulary_.keys())\n",
    "\n",
    "len(token_names)"
   ],
   "metadata": {
    "collapsed": false
   }
  },
  {
   "cell_type": "code",
   "execution_count": null,
   "outputs": [],
   "source": [],
   "metadata": {
    "collapsed": false
   }
  },
  {
   "cell_type": "code",
   "execution_count": null,
   "outputs": [],
   "source": [
    "# 7 Ма\n",
    "# Извлекаем какие токены мы берем\n",
    "token_names = list(cnt_vect.vocabulary_.keys())\n",
    "\n",
    "# подставляем их, чтобы просмотреть матрицу частот\n",
    "cmatrix = pd.DataFrame.sparse.from_spmatrix(cnt_m_sparse, columns=token_names)\n",
    "cmatrix.head()"
   ],
   "metadata": {
    "collapsed": false
   }
  },
  {
   "cell_type": "code",
   "execution_count": null,
   "outputs": [],
   "source": [
    "# Снижение размерности"
   ],
   "metadata": {
    "collapsed": false
   }
  },
  {
   "cell_type": "code",
   "execution_count": null,
   "outputs": [],
   "source": [
    "from sklearn.decomposition import (PCA,\n",
    "                                   TruncatedSVD)\n",
    "\n",
    "pca = PCA()\n",
    "\n",
    "pca = pca.fit(cnt_m_sparse.toarray(), show_results=True)"
   ],
   "metadata": {
    "collapsed": false
   }
  },
  {
   "cell_type": "code",
   "execution_count": null,
   "id": "36a05e8c",
   "metadata": {},
   "outputs": [],
   "source": [
    "data = cmatrix.drop(['snippet.textOriginal', 'Предобработанный текст'], axis=1).sum()\n",
    "\n",
    "data = pd.Dataframe(data, columns=['Токенов_в_корпусе'])\n",
    "ss = ScaleStatistics(data[['Токенов_в_корпусе']])\n",
    "\n",
    "data = cmatrix.drop(['snippet.textOriginal', 'Предобработанный текст']), axis =1).T.sum()\n",
    "\n",
    "data = pd.DataFrame(data, columns=['Токенов_в_документе'])\n",
    "ss = ScaleStatistics(data[['Токенов_в_документе']])"
   ]
  },
  {
   "cell_type": "code",
   "execution_count": null,
   "id": "7d79b75a",
   "metadata": {},
   "outputs": [],
   "source": [
    "data = pandas.DataFrame()\n",
    "data = cmatrix.drop(['snippet.textOriginal', 'Предобработанный текст'], axis=1)\n",
    "data"
   ]
  },
  {
   "cell_type": "code",
   "execution_count": null,
   "id": "ec809040",
   "metadata": {},
   "outputs": [],
   "source": []
  },
  {
   "cell_type": "code",
   "execution_count": null,
   "id": "c23ae26a",
   "metadata": {},
   "outputs": [],
   "source": [
    "from sklearn.decomposition import PCA\n",
    "\n",
    "pca = PCA()\n",
    "\n",
    "pca = pca.fit(data)"
   ]
  },
  {
   "cell_type": "code",
   "execution_count": null,
   "id": "9c4820da",
   "metadata": {},
   "outputs": [],
   "source": [
    "pca = PCA(n_components=133, rotation='varimax')"
   ]
  },
  {
   "cell_type": "code",
   "execution_count": null,
   "id": "9e5e08d6",
   "metadata": {},
   "outputs": [],
   "source": [
    "pca = pca.fit(data, show_results = False)"
   ]
  },
  {
   "cell_type": "code",
   "execution_count": null,
   "id": "ce0d525b",
   "metadata": {},
   "outputs": [],
   "source": [
    "break"
   ]
  },
  {
   "cell_type": "code",
   "execution_count": null,
   "id": "68873869",
   "metadata": {},
   "outputs": [],
   "source": [
    "component_loading_rotated = pca.component_loadings_rotated\n",
    "component_loadings_rotated.to_csv(f'{path}\\\\component_loadings_rotated.xlsx')\n",
    "component_loadings_rotated"
   ]
  },
  {
   "cell_type": "code",
   "execution_count": null,
   "id": "e9605899",
   "metadata": {},
   "outputs": [],
   "source": [
    "scores = pca.transform(data)\n",
    "scores = pandas.concat([cmatrix[['snippet.textOriginal', 'Предобработанный текст']], scores], axis =1)\n",
    "scores.to_csv(f'{path}\\\\scores.xlsx')\n",
    "scores"
   ]
  },
  {
   "cell_type": "code",
   "execution_count": null,
   "id": "506bd743",
   "metadata": {},
   "outputs": [],
   "source": [
    "loadings_treshold = 0.50\n",
    "n_token = 15\n",
    "n_docs = 15\n",
    "\n",
    "summary = pandas.DataFrame()\n",
    "errors =[]\n",
    "for i in range [1:]:\n",
    "    try:\n",
    "        print(f'Topic PC{i}_vrmx')\n",
    "\n",
    "        data = scores[f'PC{i}_vrmx']\n",
    "        data.index = scores['snippet.textOriginal']\n",
    "        plt.figure(figsize=(8, 6))\n",
    "        plt.hist(data.dropna(), color = 'grey')\n",
    "        plt.title(f\"Distribution{data.name}\")\n",
    "        plt.xlable (f'{data name}')\n",
    "        plt.ylable ('Frequency');\n",
    "\n",
    "        plt.figure(figsize=(8, 6))\n",
    "        plt.hist(data.dropna())\n",
    "        plt.title(f\"Distribution{data.name}\")\n",
    "        plt.xlable ([])\n",
    "        plt.ylable (f'{data.name}')\n",
    "        plt.show()\n",
    "\n",
    "        topic_tokens = pandas.concat([data[data.abs() > loadings_treshold].sort_values(ascending = False).head(n_tokens),\n",
    "                                     data[data.abs() > - loadings_treshold].sort_values().head(n_tokens)])\n",
    "        display(f'Токены на полюсах топика PC{i}_vrmx', topic_tokens)\n",
    "\n",
    "        summary_additional = pandas.DataFrame()\n",
    "        summary_plus = pandas.DataFrame()\n",
    "        if len(data[data > loadings_treshold].sort_values(ascending = False).head(n_tokens))>0:\n",
    "            summary_plus = topic_docs[topic_docs[f'PC{i}_vrmx']>0].round(3)\n",
    "            summary_plus.loc[:,'Topic'] = i\n",
    "            summary_plus.loc[:,'Токены'] = ','.join(list(data[data>loadings_treshold].sort_valoues(ascending = False).head(n_tokens).index))\n",
    "            summary_plus.loc[:,'Токны_mean_loading'] = data[data>loadingloadings_treshold].sort_valoues(ascending = False).head(n_tokens).mean()\n",
    "            summary_plus.loc[:,'Релевантность_теме_исследования']=''\n",
    "            summary_plus.loc[:,'Название_топика'] =''\n",
    "\n",
    "        summary_minus = pandas.DataFrame()\n",
    "        if len(data[data < - loadings_treshold].sort_valoues(ascending = False).head(n_tokens))>0:\n",
    "            summary_minus = topic_docs[topic_docs[f'PC{i}_vrmx']<0].round(3)\n",
    "            summary_minus.loc[:,'Topic'] = i\n",
    "            summary_minus.loc[:,'Токены'] = ','.join(list(data[data>loadings_treshold].sort_valoues(ascending = False).head(n_tokens).index)\n",
    "            summary_minus.loc[:,'Токны_mean_loading'] = data[data>loadingloadings_treshold].sort_valoues(ascending = False).head(n_tokens).mean()\n",
    "            summary_minus.loc[:,'Релевантность_теме_исследования'] = ''\n",
    "            summary_minus.loc[:,'Название_топика'] = ''\n",
    "\n",
    "        summary_additional = pd.concat([summary_plus,summary_minus])\n",
    "        summary_additional.columns = ['Текс_на_предобработку',\n",
    "                                     'scores',\n",
    "                                     'Topic',\n",
    "                                     'Токены',\n",
    "                                     'Токны_mean_loading',\n",
    "                                     'Название_топика']\n",
    "        summary = pandas.concat([summary,summary_additional])\n",
    "    except:\n",
    "        print(f'Ошибка при обработке топика {i}')\n",
    "        errors.append(i)\n",
    "    "
   ]
  },
  {
   "cell_type": "code",
   "execution_count": null,
   "id": "7aecb4f2",
   "metadata": {},
   "outputs": [],
   "source": [
    "errors"
   ]
  },
  {
   "cell_type": "code",
   "execution_count": null,
   "id": "959cd7d5",
   "metadata": {},
   "outputs": [],
   "source": [
    "summary.to_exel(f'Топики.xlsx')"
   ]
  }
 ],
 "metadata": {
  "kernelspec": {
   "display_name": "Python 3 (ipykernel)",
   "language": "python",
   "name": "python3"
  },
  "language_info": {
   "codemirror_mode": {
    "name": "ipython",
    "version": 3
   },
   "file_extension": ".py",
   "mimetype": "text/x-python",
   "name": "python",
   "nbconvert_exporter": "python",
   "pygments_lexer": "ipython3",
   "version": "3.9.13"
  }
 },
 "nbformat": 4,
 "nbformat_minor": 5
}
