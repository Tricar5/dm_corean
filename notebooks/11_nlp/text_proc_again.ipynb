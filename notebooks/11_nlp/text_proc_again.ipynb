{
 "cells": [
  {
   "cell_type": "code",
   "execution_count": 1,
   "metadata": {
    "collapsed": true,
    "ExecuteTime": {
     "end_time": "2023-05-27T10:06:34.291793Z",
     "start_time": "2023-05-27T10:06:34.028132Z"
    }
   },
   "outputs": [],
   "source": [
    "import numpy as np\n",
    "\n",
    "# 1\n",
    "import pandas as pd\n",
    "\n",
    "import yaml\n",
    "import pathlib\n",
    "ROOT = pathlib.Path().resolve().parent.parent\n",
    "\n",
    "with open(ROOT / \"config.yml\", \"r\") as f:\n",
    "    config = yaml.load(f, Loader=yaml.FullLoader)\n",
    "\n",
    "DATA_PATH = ROOT / config['api']['DATA_PATH']"
   ]
  },
  {
   "cell_type": "code",
   "execution_count": 3,
   "outputs": [],
   "source": [
    "# 2\n",
    "\n",
    "labeled = pd.read_excel(DATA_PATH / 'comment' / 'cm_labels.xlsx')\n",
    "\n",
    "labeled = labeled[labeled['Разметка даннных'].isnull() == False]"
   ],
   "metadata": {
    "collapsed": false,
    "ExecuteTime": {
     "end_time": "2023-05-27T10:15:51.427574Z",
     "start_time": "2023-05-27T10:15:48.303198Z"
    }
   }
  },
  {
   "cell_type": "code",
   "execution_count": 46,
   "outputs": [],
   "source": [
    "test_df = pd.read_csv(DATA_PATH / 'comment/cm_work_sample.csv', sep='\\t')\n",
    "test_df = test_df.rename(columns={'Unnamed: 0': 'index'})"
   ],
   "metadata": {
    "collapsed": false,
    "ExecuteTime": {
     "end_time": "2023-05-27T10:25:52.737017Z",
     "start_time": "2023-05-27T10:25:52.628149Z"
    }
   }
  },
  {
   "cell_type": "code",
   "execution_count": 47,
   "outputs": [],
   "source": [
    "id_set = set(test_df.id)"
   ],
   "metadata": {
    "collapsed": false,
    "ExecuteTime": {
     "end_time": "2023-05-27T10:25:56.065877Z",
     "start_time": "2023-05-27T10:25:56.055713Z"
    }
   }
  },
  {
   "cell_type": "code",
   "execution_count": 48,
   "outputs": [
    {
     "data": {
      "text/plain": "                                                      id snippet.videoId   \n0                             UgyKlKuQTfZlkw5sqeN4AaABAg     AAjsSrjZXsw  \\\n1                             UgxQi90tx9SVF0IauDN4AaABAg     AAjsSrjZXsw   \n2                             UgwYIO4Dwr8lwOl5_jl4AaABAg     AAjsSrjZXsw   \n3                             UgxvyL4Z2XXYCvnraL54AaABAg     AAjsSrjZXsw   \n4                             Ugwwha8cCeWK74_460h4AaABAg     AAjsSrjZXsw   \n...                                                  ...             ...   \n41765  UgyNMcGbdzS3PJkhNp14AaABAg.9kO9yJDDrCh9kOOwLQ1tsf     boB2LEXG_zA   \n41769  UgyNMcGbdzS3PJkhNp14AaABAg.9kO9yJDDrCh9kONm9pHXJ_     boB2LEXG_zA   \n41771  UgyNMcGbdzS3PJkhNp14AaABAg.9kO9yJDDrCh9kOLqLSTzR5     boB2LEXG_zA   \n41777  UgyNMcGbdzS3PJkhNp14AaABAg.9kO9yJDDrCh9kOCWb6ImX5     boB2LEXG_zA   \n41810  Ugwz6GshlUZMMumE9n54AaABAg.9kO7ERtCXa_9kO8EO8-PUw     boB2LEXG_zA   \n\n                                     snippet.textDisplay   \n0      Люди тупые, они не понимают, что оригинал стои...  \\\n1      Не понимаю маниакального желания покупать коре...   \n2      Пару лет назад на Озон купила духи D&G The One...   \n3      Я дико извиняюсь, но слово контрофакт, если я ...   \n4      Вайлдбериз вообще никого и ничего не уважает и...   \n...                                                  ...   \n41765  @mila ya я как то помыла мылом лицо месяца два...   \n41769  @Natali N во первых, я всю жизнь проработала в...   \n41771  @ЗаноZa , Да-да, продажная цена три копейки, а...   \n41777  А мне она не подходит , на лице скатывается . ...   \n41810  Марципан - миндальный орех перетёртый с сахаро...   \n\n                                    snippet.textOriginal   \n0      Люди тупые, они не понимают, что оригинал стои...  \\\n1      Не понимаю маниакального желания покупать коре...   \n2      Пару лет назад на Озон купила духи D&G The One...   \n3      Я дико извиняюсь, но слово контрофакт, если я ...   \n4      Вайлдбериз вообще никого и ничего не уважает и...   \n...                                                  ...   \n41765  @mila ya я как то помыла мылом лицо месяца два...   \n41769  @Natali N во первых, я всю жизнь проработала в...   \n41771  @ЗаноZa , Да-да, продажная цена три копейки, а...   \n41777  А мне она не подходит , на лице скатывается . ...   \n41810  Марципан - миндальный орех перетёртый с сахаро...   \n\n      snippet.authorDisplayName  snippet.parentId   \n0                 Елена Марьина              -1.0  \\\n1           Glapfira Nikolaevna              -1.0   \n2                Гурия Мирзаева              -1.0   \n3                 thefallensun_              -1.0   \n4              Наталья Пирогова              -1.0   \n...                         ...               ...   \n41765             Марина Марина               NaN   \n41769                   mila ya               NaN   \n41771                  Natali N               NaN   \n41777              черная мамба               NaN   \n41810         Nadeschda Schmunk               NaN   \n\n                                            cleaned_text   \n0      Люди тупые, они не понимают, что оригинал стои...  \\\n1      Не понимаю маниакального желания покупать коре...   \n2      Пару лет назад на Озон купила духи D&G The One...   \n3      Я дико извиняюсь, но слово контрофакт, если я ...   \n4      Вайлдбериз вообще никого и ничего не уважает и...   \n...                                                  ...   \n41765   ya я как то помыла мылом лицо месяца два.. не...   \n41769   N во первых, я всю жизнь проработала в кабине...   \n41771  @ЗаноZa , Да-да, продажная цена три копейки, а...   \n41777  А мне она не подходит , на лице скатывается . ...   \n41810  Марципан - миндальный орех перетёртый с сахаро...   \n\n                                         lemmatized_text  Разметка даннных  \n0      человек тупой понимать оригинал стоять офигенн...               3.0  \n1      понимать маниакальный желание покупать корейск...               2.0  \n2      пара год назад озон купить дух d g the one жен...               0.0  \n3      дико извиняться слово контрофакт ошибаться выл...               3.0  \n4      вайлдбериз вообще никто ничто уважать далеко э...               3.0  \n...                                                  ...               ...  \n41765  ya помыть мыло лицо месяц спец средство мягко ...               0.0  \n41769  n первый весь жизнь прорабатывать кабинет пыль...               2.0  \n41771  заноza продажный цена копейка закупочный минус...               2.0  \n41777  подходить лицо скатываться просто нивея мазюка...               0.0  \n41810  марципан миндальный орех перетирать сахар плох...               3.0  \n\n[526 rows x 9 columns]",
      "text/html": "<div>\n<style scoped>\n    .dataframe tbody tr th:only-of-type {\n        vertical-align: middle;\n    }\n\n    .dataframe tbody tr th {\n        vertical-align: top;\n    }\n\n    .dataframe thead th {\n        text-align: right;\n    }\n</style>\n<table border=\"1\" class=\"dataframe\">\n  <thead>\n    <tr style=\"text-align: right;\">\n      <th></th>\n      <th>id</th>\n      <th>snippet.videoId</th>\n      <th>snippet.textDisplay</th>\n      <th>snippet.textOriginal</th>\n      <th>snippet.authorDisplayName</th>\n      <th>snippet.parentId</th>\n      <th>cleaned_text</th>\n      <th>lemmatized_text</th>\n      <th>Разметка даннных</th>\n    </tr>\n  </thead>\n  <tbody>\n    <tr>\n      <th>0</th>\n      <td>UgyKlKuQTfZlkw5sqeN4AaABAg</td>\n      <td>AAjsSrjZXsw</td>\n      <td>Люди тупые, они не понимают, что оригинал стои...</td>\n      <td>Люди тупые, они не понимают, что оригинал стои...</td>\n      <td>Елена Марьина</td>\n      <td>-1.0</td>\n      <td>Люди тупые, они не понимают, что оригинал стои...</td>\n      <td>человек тупой понимать оригинал стоять офигенн...</td>\n      <td>3.0</td>\n    </tr>\n    <tr>\n      <th>1</th>\n      <td>UgxQi90tx9SVF0IauDN4AaABAg</td>\n      <td>AAjsSrjZXsw</td>\n      <td>Не понимаю маниакального желания покупать коре...</td>\n      <td>Не понимаю маниакального желания покупать коре...</td>\n      <td>Glapfira Nikolaevna</td>\n      <td>-1.0</td>\n      <td>Не понимаю маниакального желания покупать коре...</td>\n      <td>понимать маниакальный желание покупать корейск...</td>\n      <td>2.0</td>\n    </tr>\n    <tr>\n      <th>2</th>\n      <td>UgwYIO4Dwr8lwOl5_jl4AaABAg</td>\n      <td>AAjsSrjZXsw</td>\n      <td>Пару лет назад на Озон купила духи D&amp;G The One...</td>\n      <td>Пару лет назад на Озон купила духи D&amp;G The One...</td>\n      <td>Гурия Мирзаева</td>\n      <td>-1.0</td>\n      <td>Пару лет назад на Озон купила духи D&amp;G The One...</td>\n      <td>пара год назад озон купить дух d g the one жен...</td>\n      <td>0.0</td>\n    </tr>\n    <tr>\n      <th>3</th>\n      <td>UgxvyL4Z2XXYCvnraL54AaABAg</td>\n      <td>AAjsSrjZXsw</td>\n      <td>Я дико извиняюсь, но слово контрофакт, если я ...</td>\n      <td>Я дико извиняюсь, но слово контрофакт, если я ...</td>\n      <td>thefallensun_</td>\n      <td>-1.0</td>\n      <td>Я дико извиняюсь, но слово контрофакт, если я ...</td>\n      <td>дико извиняться слово контрофакт ошибаться выл...</td>\n      <td>3.0</td>\n    </tr>\n    <tr>\n      <th>4</th>\n      <td>Ugwwha8cCeWK74_460h4AaABAg</td>\n      <td>AAjsSrjZXsw</td>\n      <td>Вайлдбериз вообще никого и ничего не уважает и...</td>\n      <td>Вайлдбериз вообще никого и ничего не уважает и...</td>\n      <td>Наталья Пирогова</td>\n      <td>-1.0</td>\n      <td>Вайлдбериз вообще никого и ничего не уважает и...</td>\n      <td>вайлдбериз вообще никто ничто уважать далеко э...</td>\n      <td>3.0</td>\n    </tr>\n    <tr>\n      <th>...</th>\n      <td>...</td>\n      <td>...</td>\n      <td>...</td>\n      <td>...</td>\n      <td>...</td>\n      <td>...</td>\n      <td>...</td>\n      <td>...</td>\n      <td>...</td>\n    </tr>\n    <tr>\n      <th>41765</th>\n      <td>UgyNMcGbdzS3PJkhNp14AaABAg.9kO9yJDDrCh9kOOwLQ1tsf</td>\n      <td>boB2LEXG_zA</td>\n      <td>@mila ya я как то помыла мылом лицо месяца два...</td>\n      <td>@mila ya я как то помыла мылом лицо месяца два...</td>\n      <td>Марина Марина</td>\n      <td>NaN</td>\n      <td>ya я как то помыла мылом лицо месяца два.. не...</td>\n      <td>ya помыть мыло лицо месяц спец средство мягко ...</td>\n      <td>0.0</td>\n    </tr>\n    <tr>\n      <th>41769</th>\n      <td>UgyNMcGbdzS3PJkhNp14AaABAg.9kO9yJDDrCh9kONm9pHXJ_</td>\n      <td>boB2LEXG_zA</td>\n      <td>@Natali N во первых, я всю жизнь проработала в...</td>\n      <td>@Natali N во первых, я всю жизнь проработала в...</td>\n      <td>mila ya</td>\n      <td>NaN</td>\n      <td>N во первых, я всю жизнь проработала в кабине...</td>\n      <td>n первый весь жизнь прорабатывать кабинет пыль...</td>\n      <td>2.0</td>\n    </tr>\n    <tr>\n      <th>41771</th>\n      <td>UgyNMcGbdzS3PJkhNp14AaABAg.9kO9yJDDrCh9kOLqLSTzR5</td>\n      <td>boB2LEXG_zA</td>\n      <td>@ЗаноZa , Да-да, продажная цена три копейки, а...</td>\n      <td>@ЗаноZa , Да-да, продажная цена три копейки, а...</td>\n      <td>Natali N</td>\n      <td>NaN</td>\n      <td>@ЗаноZa , Да-да, продажная цена три копейки, а...</td>\n      <td>заноza продажный цена копейка закупочный минус...</td>\n      <td>2.0</td>\n    </tr>\n    <tr>\n      <th>41777</th>\n      <td>UgyNMcGbdzS3PJkhNp14AaABAg.9kO9yJDDrCh9kOCWb6ImX5</td>\n      <td>boB2LEXG_zA</td>\n      <td>А мне она не подходит , на лице скатывается . ...</td>\n      <td>А мне она не подходит , на лице скатывается . ...</td>\n      <td>черная мамба</td>\n      <td>NaN</td>\n      <td>А мне она не подходит , на лице скатывается . ...</td>\n      <td>подходить лицо скатываться просто нивея мазюка...</td>\n      <td>0.0</td>\n    </tr>\n    <tr>\n      <th>41810</th>\n      <td>Ugwz6GshlUZMMumE9n54AaABAg.9kO7ERtCXa_9kO8EO8-PUw</td>\n      <td>boB2LEXG_zA</td>\n      <td>Марципан - миндальный орех перетёртый с сахаро...</td>\n      <td>Марципан - миндальный орех перетёртый с сахаро...</td>\n      <td>Nadeschda Schmunk</td>\n      <td>NaN</td>\n      <td>Марципан - миндальный орех перетёртый с сахаро...</td>\n      <td>марципан миндальный орех перетирать сахар плох...</td>\n      <td>3.0</td>\n    </tr>\n  </tbody>\n</table>\n<p>526 rows × 9 columns</p>\n</div>"
     },
     "execution_count": 48,
     "metadata": {},
     "output_type": "execute_result"
    }
   ],
   "source": [
    "labeled"
   ],
   "metadata": {
    "collapsed": false,
    "ExecuteTime": {
     "end_time": "2023-05-27T10:25:56.316565Z",
     "start_time": "2023-05-27T10:25:56.312724Z"
    }
   }
  },
  {
   "cell_type": "code",
   "execution_count": 49,
   "outputs": [],
   "source": [
    "t_df = labeled.query('id in @id_set')\n",
    "\n",
    "l_mapping = dict(zip(t_df['id'], t_df['Разметка даннных']))\n"
   ],
   "metadata": {
    "collapsed": false,
    "ExecuteTime": {
     "end_time": "2023-05-27T10:25:56.643352Z",
     "start_time": "2023-05-27T10:25:56.635364Z"
    }
   }
  },
  {
   "cell_type": "code",
   "execution_count": 50,
   "outputs": [],
   "source": [
    "test_df['Разметка даннных'] = test_df['id'].map(l_mapping)"
   ],
   "metadata": {
    "collapsed": false,
    "ExecuteTime": {
     "end_time": "2023-05-27T10:25:56.960255Z",
     "start_time": "2023-05-27T10:25:56.951224Z"
    }
   }
  },
  {
   "cell_type": "code",
   "execution_count": 51,
   "outputs": [
    {
     "name": "stderr",
     "output_type": "stream",
     "text": [
      "/var/folders/s5/4r_7wwf925g2bnv4060z0x400000gn/T/ipykernel_5964/356571604.py:3: SettingWithCopyWarning: \n",
      "A value is trying to be set on a copy of a slice from a DataFrame.\n",
      "Try using .loc[row_indexer,col_indexer] = value instead\n",
      "\n",
      "See the caveats in the documentation: https://pandas.pydata.org/pandas-docs/stable/user_guide/indexing.html#returning-a-view-versus-a-copy\n",
      "  l['index'] = l.index\n"
     ]
    },
    {
     "data": {
      "text/plain": "       index                                                 id   \n0      27894                         UgxhFoxSqx1yAYT7atp4AaABAg  \\\n1      20820                         UgwTTZmqC3dcnrL3f5B4AaABAg   \n2      10202                         UgySgzy2iZMjLLcDxhh4AaABAg   \n3      16470                         UgwVuVcwFxZwVSPmC3Z4AaABAg   \n4      29970  Ugw029ioXJAgbOWrCA94AaABAg.9cwNxc_Z_4M9dM4AHOpjsE   \n...      ...                                                ...   \n41765  41765  UgyNMcGbdzS3PJkhNp14AaABAg.9kO9yJDDrCh9kOOwLQ1tsf   \n41769  41769  UgyNMcGbdzS3PJkhNp14AaABAg.9kO9yJDDrCh9kONm9pHXJ_   \n41771  41771  UgyNMcGbdzS3PJkhNp14AaABAg.9kO9yJDDrCh9kOLqLSTzR5   \n41777  41777  UgyNMcGbdzS3PJkhNp14AaABAg.9kO9yJDDrCh9kOCWb6ImX5   \n41810  41810  Ugwz6GshlUZMMumE9n54AaABAg.9kO7ERtCXa_9kO8EO8-PUw   \n\n      snippet.videoId                                snippet.textDisplay   \n0         Li9V9D0b_hM  Ксюша спасибо за ваш труд и за полезную информ...  \\\n1         HLNcjqIq7gs  Макияж сегодня особенно красивый;) пока пробов...   \n2         j1IdDdQcJng  Никогда не смотрела Лиссу, но сейчас уже 3 ден...   \n3         IkzWyECzlco  Руки Кёнха столько всего повидали за несколько...   \n4         Wi49rKRM85U  А ретиноид как вы используете? Всё хочу начать...   \n...               ...                                                ...   \n41765     boB2LEXG_zA  @mila ya я как то помыла мылом лицо месяца два...   \n41769     boB2LEXG_zA  @Natali N во первых, я всю жизнь проработала в...   \n41771     boB2LEXG_zA  @ЗаноZa , Да-да, продажная цена три копейки, а...   \n41777     boB2LEXG_zA  А мне она не подходит , на лице скатывается . ...   \n41810     boB2LEXG_zA  Марципан - миндальный орех перетёртый с сахаро...   \n\n                                    snippet.textOriginal   \n0      Ксюша спасибо за ваш труд и за полезную информ...  \\\n1      Макияж сегодня особенно красивый;) пока пробов...   \n2      Никогда не смотрела Лиссу, но сейчас уже 3 ден...   \n3      Руки Кёнха столько всего повидали за несколько...   \n4      А ретиноид как вы используете? Всё хочу начать...   \n...                                                  ...   \n41765  @mila ya я как то помыла мылом лицо месяца два...   \n41769  @Natali N во первых, я всю жизнь проработала в...   \n41771  @ЗаноZa , Да-да, продажная цена три копейки, а...   \n41777  А мне она не подходит , на лице скатывается . ...   \n41810  Марципан - миндальный орех перетёртый с сахаро...   \n\n      snippet.authorDisplayName            snippet.parentId   \n0                    Natalja Sk                          -1  \\\n1                Diana Suvorova                          -1   \n2                       Призрак                          -1   \n3                  Zoro Roronoa                          -1   \n4                    brainbrain  Ugw029ioXJAgbOWrCA94AaABAg   \n...                         ...                         ...   \n41765             Марина Марина                         NaN   \n41769                   mila ya                         NaN   \n41771                  Natali N                         NaN   \n41777              черная мамба                         NaN   \n41810         Nadeschda Schmunk                         NaN   \n\n                                            cleaned_text   \n0      Ксюша спасибо за ваш труд и за полезную информ...  \\\n1      Макияж сегодня особенно красивый;) пока пробов...   \n2      Никогда не смотрела Лиссу, но сейчас уже 3 ден...   \n3      Руки Кёнха столько всего повидали за несколько...   \n4      А ретиноид как вы используете? Всё хочу начать...   \n...                                                  ...   \n41765   ya я как то помыла мылом лицо месяца два.. не...   \n41769   N во первых, я всю жизнь проработала в кабине...   \n41771  @ЗаноZa , Да-да, продажная цена три копейки, а...   \n41777  А мне она не подходит , на лице скатывается . ...   \n41810  Марципан - миндальный орех перетёртый с сахаро...   \n\n                                         lemmatized_text  Разметка даннных  \n0      ксюша спасибо ваш труд полезный информация дум...               NaN  \n1      макияж сегодня особенно красивый пока пробоват...               NaN  \n2       смотреть лисс день смотреть уютный веселый видео               NaN  \n3            рука кенх столько повидать несколько минута               NaN  \n4      ретиноид использовать хотеть начинать знать по...               NaN  \n...                                                  ...               ...  \n41765  ya помыть мыло лицо месяц спец средство мягко ...               0.0  \n41769  n первый весь жизнь прорабатывать кабинет пыль...               2.0  \n41771  заноza продажный цена копейка закупочный минус...               2.0  \n41777  подходить лицо скатываться просто нивея мазюка...               0.0  \n41810  марципан миндальный орех перетирать сахар плох...               3.0  \n\n[5452 rows x 10 columns]",
      "text/html": "<div>\n<style scoped>\n    .dataframe tbody tr th:only-of-type {\n        vertical-align: middle;\n    }\n\n    .dataframe tbody tr th {\n        vertical-align: top;\n    }\n\n    .dataframe thead th {\n        text-align: right;\n    }\n</style>\n<table border=\"1\" class=\"dataframe\">\n  <thead>\n    <tr style=\"text-align: right;\">\n      <th></th>\n      <th>index</th>\n      <th>id</th>\n      <th>snippet.videoId</th>\n      <th>snippet.textDisplay</th>\n      <th>snippet.textOriginal</th>\n      <th>snippet.authorDisplayName</th>\n      <th>snippet.parentId</th>\n      <th>cleaned_text</th>\n      <th>lemmatized_text</th>\n      <th>Разметка даннных</th>\n    </tr>\n  </thead>\n  <tbody>\n    <tr>\n      <th>0</th>\n      <td>27894</td>\n      <td>UgxhFoxSqx1yAYT7atp4AaABAg</td>\n      <td>Li9V9D0b_hM</td>\n      <td>Ксюша спасибо за ваш труд и за полезную информ...</td>\n      <td>Ксюша спасибо за ваш труд и за полезную информ...</td>\n      <td>Natalja Sk</td>\n      <td>-1</td>\n      <td>Ксюша спасибо за ваш труд и за полезную информ...</td>\n      <td>ксюша спасибо ваш труд полезный информация дум...</td>\n      <td>NaN</td>\n    </tr>\n    <tr>\n      <th>1</th>\n      <td>20820</td>\n      <td>UgwTTZmqC3dcnrL3f5B4AaABAg</td>\n      <td>HLNcjqIq7gs</td>\n      <td>Макияж сегодня особенно красивый;) пока пробов...</td>\n      <td>Макияж сегодня особенно красивый;) пока пробов...</td>\n      <td>Diana Suvorova</td>\n      <td>-1</td>\n      <td>Макияж сегодня особенно красивый;) пока пробов...</td>\n      <td>макияж сегодня особенно красивый пока пробоват...</td>\n      <td>NaN</td>\n    </tr>\n    <tr>\n      <th>2</th>\n      <td>10202</td>\n      <td>UgySgzy2iZMjLLcDxhh4AaABAg</td>\n      <td>j1IdDdQcJng</td>\n      <td>Никогда не смотрела Лиссу, но сейчас уже 3 ден...</td>\n      <td>Никогда не смотрела Лиссу, но сейчас уже 3 ден...</td>\n      <td>Призрак</td>\n      <td>-1</td>\n      <td>Никогда не смотрела Лиссу, но сейчас уже 3 ден...</td>\n      <td>смотреть лисс день смотреть уютный веселый видео</td>\n      <td>NaN</td>\n    </tr>\n    <tr>\n      <th>3</th>\n      <td>16470</td>\n      <td>UgwVuVcwFxZwVSPmC3Z4AaABAg</td>\n      <td>IkzWyECzlco</td>\n      <td>Руки Кёнха столько всего повидали за несколько...</td>\n      <td>Руки Кёнха столько всего повидали за несколько...</td>\n      <td>Zoro Roronoa</td>\n      <td>-1</td>\n      <td>Руки Кёнха столько всего повидали за несколько...</td>\n      <td>рука кенх столько повидать несколько минута</td>\n      <td>NaN</td>\n    </tr>\n    <tr>\n      <th>4</th>\n      <td>29970</td>\n      <td>Ugw029ioXJAgbOWrCA94AaABAg.9cwNxc_Z_4M9dM4AHOpjsE</td>\n      <td>Wi49rKRM85U</td>\n      <td>А ретиноид как вы используете? Всё хочу начать...</td>\n      <td>А ретиноид как вы используете? Всё хочу начать...</td>\n      <td>brainbrain</td>\n      <td>Ugw029ioXJAgbOWrCA94AaABAg</td>\n      <td>А ретиноид как вы используете? Всё хочу начать...</td>\n      <td>ретиноид использовать хотеть начинать знать по...</td>\n      <td>NaN</td>\n    </tr>\n    <tr>\n      <th>...</th>\n      <td>...</td>\n      <td>...</td>\n      <td>...</td>\n      <td>...</td>\n      <td>...</td>\n      <td>...</td>\n      <td>...</td>\n      <td>...</td>\n      <td>...</td>\n      <td>...</td>\n    </tr>\n    <tr>\n      <th>41765</th>\n      <td>41765</td>\n      <td>UgyNMcGbdzS3PJkhNp14AaABAg.9kO9yJDDrCh9kOOwLQ1tsf</td>\n      <td>boB2LEXG_zA</td>\n      <td>@mila ya я как то помыла мылом лицо месяца два...</td>\n      <td>@mila ya я как то помыла мылом лицо месяца два...</td>\n      <td>Марина Марина</td>\n      <td>NaN</td>\n      <td>ya я как то помыла мылом лицо месяца два.. не...</td>\n      <td>ya помыть мыло лицо месяц спец средство мягко ...</td>\n      <td>0.0</td>\n    </tr>\n    <tr>\n      <th>41769</th>\n      <td>41769</td>\n      <td>UgyNMcGbdzS3PJkhNp14AaABAg.9kO9yJDDrCh9kONm9pHXJ_</td>\n      <td>boB2LEXG_zA</td>\n      <td>@Natali N во первых, я всю жизнь проработала в...</td>\n      <td>@Natali N во первых, я всю жизнь проработала в...</td>\n      <td>mila ya</td>\n      <td>NaN</td>\n      <td>N во первых, я всю жизнь проработала в кабине...</td>\n      <td>n первый весь жизнь прорабатывать кабинет пыль...</td>\n      <td>2.0</td>\n    </tr>\n    <tr>\n      <th>41771</th>\n      <td>41771</td>\n      <td>UgyNMcGbdzS3PJkhNp14AaABAg.9kO9yJDDrCh9kOLqLSTzR5</td>\n      <td>boB2LEXG_zA</td>\n      <td>@ЗаноZa , Да-да, продажная цена три копейки, а...</td>\n      <td>@ЗаноZa , Да-да, продажная цена три копейки, а...</td>\n      <td>Natali N</td>\n      <td>NaN</td>\n      <td>@ЗаноZa , Да-да, продажная цена три копейки, а...</td>\n      <td>заноza продажный цена копейка закупочный минус...</td>\n      <td>2.0</td>\n    </tr>\n    <tr>\n      <th>41777</th>\n      <td>41777</td>\n      <td>UgyNMcGbdzS3PJkhNp14AaABAg.9kO9yJDDrCh9kOCWb6ImX5</td>\n      <td>boB2LEXG_zA</td>\n      <td>А мне она не подходит , на лице скатывается . ...</td>\n      <td>А мне она не подходит , на лице скатывается . ...</td>\n      <td>черная мамба</td>\n      <td>NaN</td>\n      <td>А мне она не подходит , на лице скатывается . ...</td>\n      <td>подходить лицо скатываться просто нивея мазюка...</td>\n      <td>0.0</td>\n    </tr>\n    <tr>\n      <th>41810</th>\n      <td>41810</td>\n      <td>Ugwz6GshlUZMMumE9n54AaABAg.9kO7ERtCXa_9kO8EO8-PUw</td>\n      <td>boB2LEXG_zA</td>\n      <td>Марципан - миндальный орех перетёртый с сахаро...</td>\n      <td>Марципан - миндальный орех перетёртый с сахаро...</td>\n      <td>Nadeschda Schmunk</td>\n      <td>NaN</td>\n      <td>Марципан - миндальный орех перетёртый с сахаро...</td>\n      <td>марципан миндальный орех перетирать сахар плох...</td>\n      <td>3.0</td>\n    </tr>\n  </tbody>\n</table>\n<p>5452 rows × 10 columns</p>\n</div>"
     },
     "execution_count": 51,
     "metadata": {},
     "output_type": "execute_result"
    }
   ],
   "source": [
    "l = labeled.query('id not in @id_set')\n",
    "\n",
    "l['index'] = l.index\n",
    "\n",
    "test = pd.concat([test_df, l])\n",
    "\n",
    "test"
   ],
   "metadata": {
    "collapsed": false,
    "ExecuteTime": {
     "end_time": "2023-05-27T10:25:57.199057Z",
     "start_time": "2023-05-27T10:25:57.181847Z"
    }
   }
  },
  {
   "cell_type": "code",
   "execution_count": 87,
   "outputs": [],
   "source": [
    "test.to_csv(DATA_PATH / 'comment/cm_dataset.csv', index=False)"
   ],
   "metadata": {
    "collapsed": false,
    "ExecuteTime": {
     "end_time": "2023-05-27T10:35:46.632920Z",
     "start_time": "2023-05-27T10:35:46.550937Z"
    }
   }
  },
  {
   "cell_type": "markdown",
   "source": [
    "# Matrix"
   ],
   "metadata": {
    "collapsed": false
   }
  },
  {
   "cell_type": "code",
   "execution_count": 81,
   "outputs": [],
   "source": [
    "# 5\n",
    "\n",
    "from sklearn.feature_extraction.text import CountVectorizer, TfidfVectorizer\n",
    "\n",
    "vectorization_params = {\n",
    "    'ngram_range' : (1,1), # Токены и словосочетания\n",
    "    'max_df': 0.95, # Токен не может быть встречаться чаще, чем в 95% текстов\n",
    "    'min_df': 5, # Токен не может быть встречаться чаще, чем в 0.01% текстов\n",
    "    'analyzer': 'word'\n",
    "}\n",
    "\n",
    "# Векторизация по частотам\n",
    "cnt_vect = CountVectorizer(**vectorization_params)\n",
    "# Векторизация по метрике TFIDF\n",
    "tfidf = TfidfVectorizer(**vectorization_params)\n"
   ],
   "metadata": {
    "collapsed": false,
    "ExecuteTime": {
     "end_time": "2023-05-27T10:32:04.203819Z",
     "start_time": "2023-05-27T10:32:04.198542Z"
    }
   }
  },
  {
   "cell_type": "code",
   "execution_count": 82,
   "outputs": [
    {
     "name": "stdout",
     "output_type": "stream",
     "text": [
      "Размер разряженной матрицы (5452, 2371)\n"
     ]
    }
   ],
   "source": [
    "# 6 Преобразование\n",
    "\n",
    "cnt_m_sparse = cnt_vect.fit_transform(test['lemmatized_text'])\n",
    "tfidf_m_sparse = cnt_vect.fit_transform(test['lemmatized_text'])\n",
    "\n",
    "print('Размер разряженной матрицы', cnt_m_sparse.shape)"
   ],
   "metadata": {
    "collapsed": false,
    "ExecuteTime": {
     "end_time": "2023-05-27T10:32:04.722836Z",
     "start_time": "2023-05-27T10:32:04.632957Z"
    }
   }
  },
  {
   "cell_type": "code",
   "execution_count": 83,
   "outputs": [
    {
     "data": {
      "text/plain": "2371"
     },
     "execution_count": 83,
     "metadata": {},
     "output_type": "execute_result"
    }
   ],
   "source": [
    "token_names = list(cnt_vect.vocabulary_.keys())\n",
    "\n",
    "len(token_names)"
   ],
   "metadata": {
    "collapsed": false,
    "ExecuteTime": {
     "end_time": "2023-05-27T10:32:04.917402Z",
     "start_time": "2023-05-27T10:32:04.910268Z"
    }
   }
  },
  {
   "cell_type": "code",
   "execution_count": 84,
   "outputs": [
    {
     "data": {
      "text/plain": "   ксюша  спасибо  ваш  труд  полезный  информация  думать  отличный  идея   \n0      0        0    0     0         0           0       0         0     0  \\\n1      0        0    0     0         0           0       0         0     0   \n2      0        0    0     0         0           0       0         0     0   \n3      0        0    0     0         0           0       0         0     0   \n4      0        0    0     0         0           0       0         0     0   \n\n   макияж  ...  площадка  кремик  яна  духи  катюша  уничтожать   \n0       0  ...         0       0    0     0       0           0  \\\n1       0  ...         0       0    0     0       0           0   \n2       0  ...         0       0    0     0       0           0   \n3       0  ...         0       0    0     0       0           0   \n4       0  ...         0       0    0     0       0           0   \n\n   подозрительно  доплачивать  мошенник  палево  \n0              0            0         0       0  \n1              0            0         0       0  \n2              0            0         0       0  \n3              0            0         0       0  \n4              0            0         0       0  \n\n[5 rows x 2371 columns]",
      "text/html": "<div>\n<style scoped>\n    .dataframe tbody tr th:only-of-type {\n        vertical-align: middle;\n    }\n\n    .dataframe tbody tr th {\n        vertical-align: top;\n    }\n\n    .dataframe thead th {\n        text-align: right;\n    }\n</style>\n<table border=\"1\" class=\"dataframe\">\n  <thead>\n    <tr style=\"text-align: right;\">\n      <th></th>\n      <th>ксюша</th>\n      <th>спасибо</th>\n      <th>ваш</th>\n      <th>труд</th>\n      <th>полезный</th>\n      <th>информация</th>\n      <th>думать</th>\n      <th>отличный</th>\n      <th>идея</th>\n      <th>макияж</th>\n      <th>...</th>\n      <th>площадка</th>\n      <th>кремик</th>\n      <th>яна</th>\n      <th>духи</th>\n      <th>катюша</th>\n      <th>уничтожать</th>\n      <th>подозрительно</th>\n      <th>доплачивать</th>\n      <th>мошенник</th>\n      <th>палево</th>\n    </tr>\n  </thead>\n  <tbody>\n    <tr>\n      <th>0</th>\n      <td>0</td>\n      <td>0</td>\n      <td>0</td>\n      <td>0</td>\n      <td>0</td>\n      <td>0</td>\n      <td>0</td>\n      <td>0</td>\n      <td>0</td>\n      <td>0</td>\n      <td>...</td>\n      <td>0</td>\n      <td>0</td>\n      <td>0</td>\n      <td>0</td>\n      <td>0</td>\n      <td>0</td>\n      <td>0</td>\n      <td>0</td>\n      <td>0</td>\n      <td>0</td>\n    </tr>\n    <tr>\n      <th>1</th>\n      <td>0</td>\n      <td>0</td>\n      <td>0</td>\n      <td>0</td>\n      <td>0</td>\n      <td>0</td>\n      <td>0</td>\n      <td>0</td>\n      <td>0</td>\n      <td>0</td>\n      <td>...</td>\n      <td>0</td>\n      <td>0</td>\n      <td>0</td>\n      <td>0</td>\n      <td>0</td>\n      <td>0</td>\n      <td>0</td>\n      <td>0</td>\n      <td>0</td>\n      <td>0</td>\n    </tr>\n    <tr>\n      <th>2</th>\n      <td>0</td>\n      <td>0</td>\n      <td>0</td>\n      <td>0</td>\n      <td>0</td>\n      <td>0</td>\n      <td>0</td>\n      <td>0</td>\n      <td>0</td>\n      <td>0</td>\n      <td>...</td>\n      <td>0</td>\n      <td>0</td>\n      <td>0</td>\n      <td>0</td>\n      <td>0</td>\n      <td>0</td>\n      <td>0</td>\n      <td>0</td>\n      <td>0</td>\n      <td>0</td>\n    </tr>\n    <tr>\n      <th>3</th>\n      <td>0</td>\n      <td>0</td>\n      <td>0</td>\n      <td>0</td>\n      <td>0</td>\n      <td>0</td>\n      <td>0</td>\n      <td>0</td>\n      <td>0</td>\n      <td>0</td>\n      <td>...</td>\n      <td>0</td>\n      <td>0</td>\n      <td>0</td>\n      <td>0</td>\n      <td>0</td>\n      <td>0</td>\n      <td>0</td>\n      <td>0</td>\n      <td>0</td>\n      <td>0</td>\n    </tr>\n    <tr>\n      <th>4</th>\n      <td>0</td>\n      <td>0</td>\n      <td>0</td>\n      <td>0</td>\n      <td>0</td>\n      <td>0</td>\n      <td>0</td>\n      <td>0</td>\n      <td>0</td>\n      <td>0</td>\n      <td>...</td>\n      <td>0</td>\n      <td>0</td>\n      <td>0</td>\n      <td>0</td>\n      <td>0</td>\n      <td>0</td>\n      <td>0</td>\n      <td>0</td>\n      <td>0</td>\n      <td>0</td>\n    </tr>\n  </tbody>\n</table>\n<p>5 rows × 2371 columns</p>\n</div>"
     },
     "execution_count": 84,
     "metadata": {},
     "output_type": "execute_result"
    }
   ],
   "source": [
    "# 7 Ма\n",
    "# Извлекаем какие токены мы берем\n",
    "token_names = list(cnt_vect.vocabulary_.keys())\n",
    "\n",
    "# подставляем их, чтобы просмотреть матрицу частот\n",
    "cmatrix = pd.DataFrame.sparse.from_spmatrix(cnt_m_sparse, columns=token_names)\n",
    "cmatrix.head()"
   ],
   "metadata": {
    "collapsed": false,
    "ExecuteTime": {
     "end_time": "2023-05-27T10:32:05.896935Z",
     "start_time": "2023-05-27T10:32:05.843066Z"
    }
   }
  },
  {
   "cell_type": "code",
   "execution_count": 85,
   "outputs": [],
   "source": [
    "cmatrix['index'] = test['index'].values"
   ],
   "metadata": {
    "collapsed": false,
    "ExecuteTime": {
     "end_time": "2023-05-27T10:32:08.496691Z",
     "start_time": "2023-05-27T10:32:08.490847Z"
    }
   }
  },
  {
   "cell_type": "code",
   "execution_count": 86,
   "outputs": [],
   "source": [
    "cmatrix.to_excel(DATA_PATH / 'comment/cm_cmatrix.xlsx', index=False)"
   ],
   "metadata": {
    "collapsed": false,
    "ExecuteTime": {
     "end_time": "2023-05-27T10:35:46.548278Z",
     "start_time": "2023-05-27T10:32:27.558785Z"
    }
   }
  },
  {
   "cell_type": "code",
   "execution_count": null,
   "outputs": [],
   "source": [],
   "metadata": {
    "collapsed": false
   }
  }
 ],
 "metadata": {
  "kernelspec": {
   "display_name": "Python 3",
   "language": "python",
   "name": "python3"
  },
  "language_info": {
   "codemirror_mode": {
    "name": "ipython",
    "version": 2
   },
   "file_extension": ".py",
   "mimetype": "text/x-python",
   "name": "python",
   "nbconvert_exporter": "python",
   "pygments_lexer": "ipython2",
   "version": "2.7.6"
  }
 },
 "nbformat": 4,
 "nbformat_minor": 0
}
