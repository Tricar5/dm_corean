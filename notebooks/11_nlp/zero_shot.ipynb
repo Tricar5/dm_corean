{
 "cells": [
  {
   "cell_type": "markdown",
   "source": [
    "# Тематическое моделирование\n",
    "\n"
   ],
   "metadata": {
    "collapsed": false
   }
  },
  {
   "cell_type": "code",
   "execution_count": 1,
   "outputs": [],
   "source": [
    "# 1\n",
    "import pandas as pd\n",
    "\n",
    "import yaml\n",
    "import pathlib\n",
    "ROOT = pathlib.Path().resolve().parent.parent\n",
    "\n",
    "with open(ROOT / \"config.yml\", \"r\") as f:\n",
    "    config = yaml.load(f, Loader=yaml.FullLoader)\n",
    "\n",
    "DATA_PATH = ROOT / config['api']['DATA_PATH']"
   ],
   "metadata": {
    "collapsed": false,
    "ExecuteTime": {
     "end_time": "2023-05-23T12:48:35.205384Z",
     "start_time": "2023-05-23T12:48:34.850200Z"
    }
   }
  },
  {
   "cell_type": "code",
   "execution_count": 2,
   "id": "dd18ee52",
   "metadata": {
    "ExecuteTime": {
     "end_time": "2023-05-23T12:48:36.162923Z",
     "start_time": "2023-05-23T12:48:35.304710Z"
    }
   },
   "outputs": [
    {
     "data": {
      "text/plain": "                                                      id snippet.videoId   \n0                             UgyKlKuQTfZlkw5sqeN4AaABAg     AAjsSrjZXsw  \\\n1                             UgxQi90tx9SVF0IauDN4AaABAg     AAjsSrjZXsw   \n2                             UgwYIO4Dwr8lwOl5_jl4AaABAg     AAjsSrjZXsw   \n3                             UgxvyL4Z2XXYCvnraL54AaABAg     AAjsSrjZXsw   \n4                             Ugwwha8cCeWK74_460h4AaABAg     AAjsSrjZXsw   \n...                                                  ...             ...   \n41806  Ugwz6GshlUZMMumE9n54AaABAg.9kO7ERtCXa_9kODjmNACUy     boB2LEXG_zA   \n41807  Ugwz6GshlUZMMumE9n54AaABAg.9kO7ERtCXa_9kOAgUwU2Jj     boB2LEXG_zA   \n41808  Ugwz6GshlUZMMumE9n54AaABAg.9kO7ERtCXa_9kOABWk8eEa     boB2LEXG_zA   \n41809  Ugwz6GshlUZMMumE9n54AaABAg.9kO7ERtCXa_9kO9mW3prUk     boB2LEXG_zA   \n41810  Ugwz6GshlUZMMumE9n54AaABAg.9kO7ERtCXa_9kO8EO8-PUw     boB2LEXG_zA   \n\n                                     snippet.textDisplay   \n0      Люди тупые, они не понимают, что оригинал стои...  \\\n1      Не понимаю маниакального желания покупать коре...   \n2      Пару лет назад на Озон купила духи D&G The One...   \n3      Я дико извиняюсь, но слово контрофакт, если я ...   \n4      Вайлдбериз вообще никого и ничего не уважает и...   \n...                                                  ...   \n41806  Марципану можно придать любую форму-...батончи...   \n41807  @Elena CamilleriУ вас итальянская фамилия...в ...   \n41808  и вообще невкусный... я только батончики марци...   \n41809  А у нас это каштаны называют и кулинарные изде...   \n41810  Марципан - миндальный орех перетёртый с сахаро...   \n\n                                    snippet.textOriginal   \n0      Люди тупые, они не понимают, что оригинал стои...  \\\n1      Не понимаю маниакального желания покупать коре...   \n2      Пару лет назад на Озон купила духи D&G The One...   \n3      Я дико извиняюсь, но слово контрофакт, если я ...   \n4      Вайлдбериз вообще никого и ничего не уважает и...   \n...                                                  ...   \n41806  Марципану можно придать любую форму-...батончи...   \n41807  @Elena CamilleriУ вас итальянская фамилия...в ...   \n41808  и вообще невкусный... я только батончики марци...   \n41809  А у нас это каштаны называют и кулинарные изде...   \n41810  Марципан - миндальный орех перетёртый с сахаро...   \n\n      snippet.authorDisplayName            snippet.parentId   \n0                 Елена Марьина                          -1  \\\n1           Glapfira Nikolaevna                          -1   \n2                Гурия Мирзаева                          -1   \n3                 thefallensun_                          -1   \n4              Наталья Пирогова                          -1   \n...                         ...                         ...   \n41806         Nadeschda Schmunk  Ugwz6GshlUZMMumE9n54AaABAg   \n41807         Nadeschda Schmunk  Ugwz6GshlUZMMumE9n54AaABAg   \n41808             Марина Марина  Ugwz6GshlUZMMumE9n54AaABAg   \n41809           Elena Camilleri  Ugwz6GshlUZMMumE9n54AaABAg   \n41810         Nadeschda Schmunk  Ugwz6GshlUZMMumE9n54AaABAg   \n\n                                            cleaned_text   \n0      Люди тупые, они не понимают, что оригинал стои...  \\\n1      Не понимаю маниакального желания покупать коре...   \n2      Пару лет назад на Озон купила духи D&G The One...   \n3      Я дико извиняюсь, но слово контрофакт, если я ...   \n4      Вайлдбериз вообще никого и ничего не уважает и...   \n...                                                  ...   \n41806  Марципану можно придать любую форму-...батончи...   \n41807   CamilleriУ вас итальянская фамилия...в Италии...   \n41808  и вообще невкусный... я только батончики марци...   \n41809  А у нас это каштаны называют и кулинарные изде...   \n41810  Марципан - миндальный орех перетёртый с сахаро...   \n\n                                         lemmatized_text  \n0      человек тупой понимать оригинал стоять офигенн...  \n1      понимать маниакальный желание покупать корейск...  \n2      пара год назад озон купить дух d g the one жен...  \n3      дико извиняться слово контрофакт ошибаться выл...  \n4      вайлдбериз вообще никто ничто уважать далеко э...  \n...                                                  ...  \n41806  марципан придавать любой форма батончик шарик ...  \n41807  camilleriу итальянский фамилия италия марципан...  \n41808  вообще невкусный батончик марципановый шоколад...  \n41809  это каштан называть кулинарный изделие миндаль...  \n41810  марципан миндальный орех перетирать сахар плох...  \n\n[41811 rows x 8 columns]",
      "text/html": "<div>\n<style scoped>\n    .dataframe tbody tr th:only-of-type {\n        vertical-align: middle;\n    }\n\n    .dataframe tbody tr th {\n        vertical-align: top;\n    }\n\n    .dataframe thead th {\n        text-align: right;\n    }\n</style>\n<table border=\"1\" class=\"dataframe\">\n  <thead>\n    <tr style=\"text-align: right;\">\n      <th></th>\n      <th>id</th>\n      <th>snippet.videoId</th>\n      <th>snippet.textDisplay</th>\n      <th>snippet.textOriginal</th>\n      <th>snippet.authorDisplayName</th>\n      <th>snippet.parentId</th>\n      <th>cleaned_text</th>\n      <th>lemmatized_text</th>\n    </tr>\n  </thead>\n  <tbody>\n    <tr>\n      <th>0</th>\n      <td>UgyKlKuQTfZlkw5sqeN4AaABAg</td>\n      <td>AAjsSrjZXsw</td>\n      <td>Люди тупые, они не понимают, что оригинал стои...</td>\n      <td>Люди тупые, они не понимают, что оригинал стои...</td>\n      <td>Елена Марьина</td>\n      <td>-1</td>\n      <td>Люди тупые, они не понимают, что оригинал стои...</td>\n      <td>человек тупой понимать оригинал стоять офигенн...</td>\n    </tr>\n    <tr>\n      <th>1</th>\n      <td>UgxQi90tx9SVF0IauDN4AaABAg</td>\n      <td>AAjsSrjZXsw</td>\n      <td>Не понимаю маниакального желания покупать коре...</td>\n      <td>Не понимаю маниакального желания покупать коре...</td>\n      <td>Glapfira Nikolaevna</td>\n      <td>-1</td>\n      <td>Не понимаю маниакального желания покупать коре...</td>\n      <td>понимать маниакальный желание покупать корейск...</td>\n    </tr>\n    <tr>\n      <th>2</th>\n      <td>UgwYIO4Dwr8lwOl5_jl4AaABAg</td>\n      <td>AAjsSrjZXsw</td>\n      <td>Пару лет назад на Озон купила духи D&amp;G The One...</td>\n      <td>Пару лет назад на Озон купила духи D&amp;G The One...</td>\n      <td>Гурия Мирзаева</td>\n      <td>-1</td>\n      <td>Пару лет назад на Озон купила духи D&amp;G The One...</td>\n      <td>пара год назад озон купить дух d g the one жен...</td>\n    </tr>\n    <tr>\n      <th>3</th>\n      <td>UgxvyL4Z2XXYCvnraL54AaABAg</td>\n      <td>AAjsSrjZXsw</td>\n      <td>Я дико извиняюсь, но слово контрофакт, если я ...</td>\n      <td>Я дико извиняюсь, но слово контрофакт, если я ...</td>\n      <td>thefallensun_</td>\n      <td>-1</td>\n      <td>Я дико извиняюсь, но слово контрофакт, если я ...</td>\n      <td>дико извиняться слово контрофакт ошибаться выл...</td>\n    </tr>\n    <tr>\n      <th>4</th>\n      <td>Ugwwha8cCeWK74_460h4AaABAg</td>\n      <td>AAjsSrjZXsw</td>\n      <td>Вайлдбериз вообще никого и ничего не уважает и...</td>\n      <td>Вайлдбериз вообще никого и ничего не уважает и...</td>\n      <td>Наталья Пирогова</td>\n      <td>-1</td>\n      <td>Вайлдбериз вообще никого и ничего не уважает и...</td>\n      <td>вайлдбериз вообще никто ничто уважать далеко э...</td>\n    </tr>\n    <tr>\n      <th>...</th>\n      <td>...</td>\n      <td>...</td>\n      <td>...</td>\n      <td>...</td>\n      <td>...</td>\n      <td>...</td>\n      <td>...</td>\n      <td>...</td>\n    </tr>\n    <tr>\n      <th>41806</th>\n      <td>Ugwz6GshlUZMMumE9n54AaABAg.9kO7ERtCXa_9kODjmNACUy</td>\n      <td>boB2LEXG_zA</td>\n      <td>Марципану можно придать любую форму-...батончи...</td>\n      <td>Марципану можно придать любую форму-...батончи...</td>\n      <td>Nadeschda Schmunk</td>\n      <td>Ugwz6GshlUZMMumE9n54AaABAg</td>\n      <td>Марципану можно придать любую форму-...батончи...</td>\n      <td>марципан придавать любой форма батончик шарик ...</td>\n    </tr>\n    <tr>\n      <th>41807</th>\n      <td>Ugwz6GshlUZMMumE9n54AaABAg.9kO7ERtCXa_9kOAgUwU2Jj</td>\n      <td>boB2LEXG_zA</td>\n      <td>@Elena CamilleriУ вас итальянская фамилия...в ...</td>\n      <td>@Elena CamilleriУ вас итальянская фамилия...в ...</td>\n      <td>Nadeschda Schmunk</td>\n      <td>Ugwz6GshlUZMMumE9n54AaABAg</td>\n      <td>CamilleriУ вас итальянская фамилия...в Италии...</td>\n      <td>camilleriу итальянский фамилия италия марципан...</td>\n    </tr>\n    <tr>\n      <th>41808</th>\n      <td>Ugwz6GshlUZMMumE9n54AaABAg.9kO7ERtCXa_9kOABWk8eEa</td>\n      <td>boB2LEXG_zA</td>\n      <td>и вообще невкусный... я только батончики марци...</td>\n      <td>и вообще невкусный... я только батончики марци...</td>\n      <td>Марина Марина</td>\n      <td>Ugwz6GshlUZMMumE9n54AaABAg</td>\n      <td>и вообще невкусный... я только батончики марци...</td>\n      <td>вообще невкусный батончик марципановый шоколад...</td>\n    </tr>\n    <tr>\n      <th>41809</th>\n      <td>Ugwz6GshlUZMMumE9n54AaABAg.9kO7ERtCXa_9kO9mW3prUk</td>\n      <td>boB2LEXG_zA</td>\n      <td>А у нас это каштаны называют и кулинарные изде...</td>\n      <td>А у нас это каштаны называют и кулинарные изде...</td>\n      <td>Elena Camilleri</td>\n      <td>Ugwz6GshlUZMMumE9n54AaABAg</td>\n      <td>А у нас это каштаны называют и кулинарные изде...</td>\n      <td>это каштан называть кулинарный изделие миндаль...</td>\n    </tr>\n    <tr>\n      <th>41810</th>\n      <td>Ugwz6GshlUZMMumE9n54AaABAg.9kO7ERtCXa_9kO8EO8-PUw</td>\n      <td>boB2LEXG_zA</td>\n      <td>Марципан - миндальный орех перетёртый с сахаро...</td>\n      <td>Марципан - миндальный орех перетёртый с сахаро...</td>\n      <td>Nadeschda Schmunk</td>\n      <td>Ugwz6GshlUZMMumE9n54AaABAg</td>\n      <td>Марципан - миндальный орех перетёртый с сахаро...</td>\n      <td>марципан миндальный орех перетирать сахар плох...</td>\n    </tr>\n  </tbody>\n</table>\n<p>41811 rows × 8 columns</p>\n</div>"
     },
     "execution_count": 2,
     "metadata": {},
     "output_type": "execute_result"
    }
   ],
   "source": [
    "# 2\n",
    "\n",
    "cm_df = pd.read_csv(DATA_PATH / 'comment' / 'comments_text.csv', sep='\\t')\n",
    "\n",
    "cm_df\n"
   ]
  },
  {
   "cell_type": "markdown",
   "source": [
    "## Zero-Shot Classification"
   ],
   "metadata": {
    "collapsed": false
   }
  },
  {
   "cell_type": "code",
   "execution_count": 3,
   "outputs": [],
   "source": [
    "import torch\n",
    "from transformers import AutoTokenizer, AutoModelForSequenceClassification\n",
    "\n",
    "model_checkpoint = 'cointegrated/rubert-base-cased-nli-threeway'\n",
    "tokenizer = AutoTokenizer.from_pretrained(model_checkpoint)\n",
    "model = AutoModelForSequenceClassification.from_pretrained(model_checkpoint)\n",
    "if torch.cuda.is_available():\n",
    "    model.cuda()\n"
   ],
   "metadata": {
    "collapsed": false,
    "ExecuteTime": {
     "end_time": "2023-05-23T12:48:40.529289Z",
     "start_time": "2023-05-23T12:48:36.619043Z"
    }
   }
  },
  {
   "cell_type": "code",
   "execution_count": 4,
   "outputs": [
    {
     "name": "stdout",
     "output_type": "stream",
     "text": [
      "Текст:  ['Марципаны это у нас называют каштаны и кулинарные блюда из миндальной муки. Они продаются глазированные в коробках . Ну а что жрал рыжий я не знаю)))'\n",
      " 'Ну она вообще-то молодая женщина плюс генетика, азиатские женщины долго остаются моложавыми'] \n",
      "\n",
      "{'entailment': 0.0039037655, 'contradiction': 0.11682199, 'neutral': 0.87927425}\n"
     ]
    }
   ],
   "source": [
    "import numpy as np\n",
    "\n",
    "t = np.random.choice(cm_df.cleaned_text.values, size=2)\n",
    "print(\"Текст: \", t, '\\n')\n",
    "\n",
    "with torch.inference_mode():\n",
    "    out = model(**tokenizer(t[0], t[1], return_tensors='pt').to(model.device))\n",
    "    proba = torch.softmax(out.logits, -1).cpu().numpy()[0]\n",
    "\n",
    "print({v: proba[k] for k, v in model.config.id2label.items()})"
   ],
   "metadata": {
    "collapsed": false,
    "ExecuteTime": {
     "end_time": "2023-05-23T12:48:40.609962Z",
     "start_time": "2023-05-23T12:48:40.531957Z"
    }
   }
  },
  {
   "cell_type": "code",
   "execution_count": 5,
   "outputs": [],
   "source": [
    "def predict_zero_shot(text, label_texts, model, tokenizer, label='entailment', normalize=True):\n",
    "    label_texts\n",
    "    tokens = tokenizer([text] * len(label_texts), label_texts, truncation=True, return_tensors='pt', padding=True)\n",
    "    with torch.inference_mode():\n",
    "        result = torch.softmax(model(**tokens.to(model.device)).logits, -1)\n",
    "    proba = result[:, model.config.label2id[label]].cpu().numpy()\n",
    "    if normalize:\n",
    "        proba /= sum(proba)\n",
    "    return proba\n",
    "\n",
    "def get_prediction_labels(probas, classes):\n",
    "    res_dict = {}\n",
    "    for i in range(len(classes)):\n",
    "        res_dict[classes[i]] = probas[i]\n",
    "\n",
    "    return res_dict\n",
    "    #sorted(results, key= lambda x: x[1], reverse=True)\n",
    "\n",
    "classes = [\n",
    "    \"Продажа\",\n",
    "    \"Желание\",\n",
    "    \"Бренд\",\n",
    "    \"Просмотр\",\n",
    "    \"Сомнение\",\n",
    "    \"Реклама\",\n",
    "    \"Положительный отзыв\",\n",
    "    \"Негативный отзыв\",\n",
    "    \"Нейтральный отзыв\",\n",
    "]\n"
   ],
   "metadata": {
    "collapsed": false,
    "ExecuteTime": {
     "end_time": "2023-05-23T12:48:40.612415Z",
     "start_time": "2023-05-23T12:48:40.609470Z"
    }
   }
  },
  {
   "cell_type": "code",
   "execution_count": 10,
   "outputs": [
    {
     "name": "stdout",
     "output_type": "stream",
     "text": [
      "Text: какие красивые упаковки! очень приятно и хочется этой косметикой пользоваться!\n",
      "Classes\n",
      "====================\n",
      "Положительный отзыв\t0.313811719417572\n",
      "Желание\t0.23747612535953522\n",
      "Реклама\t0.13859137892723083\n",
      "Продажа\t0.12356521189212799\n",
      "Просмотр\t0.10475553572177887\n",
      "Бренд\t0.041187431663274765\n",
      "Нейтральный отзыв\t0.02754126861691475\n",
      "Сомнение\t0.007787048351019621\n",
      "Негативный отзыв\t0.0052842870354652405\n"
     ]
    }
   ],
   "source": [
    "text = np.random.choice(cm_df.cleaned_text.values, size=1)[0]\n",
    "\n",
    "res_1 = predict_zero_shot(text, classes, model, tokenizer)\n",
    "result = get_prediction_labels(res_1, classes)\n",
    "\n",
    "# Formattings Results\n",
    "result_flat = list(result.items())\n",
    "result_flat = sorted(result_flat, key= lambda x: x[1], reverse=True)\n",
    "\n",
    "print(\"Text:\", text)\n",
    "\n",
    "print(\"Classes\")\n",
    "print(\"=\" * 20)\n",
    "for el in result_flat:\n",
    "    print(f'{el[0]}\\t{el[1]}')"
   ],
   "metadata": {
    "collapsed": false,
    "ExecuteTime": {
     "end_time": "2023-05-23T12:49:59.285848Z",
     "start_time": "2023-05-23T12:49:59.154324Z"
    }
   }
  },
  {
   "cell_type": "markdown",
   "source": [
    "## Old Fashioned"
   ],
   "metadata": {
    "collapsed": false
   }
  },
  {
   "cell_type": "code",
   "execution_count": null,
   "outputs": [],
   "source": [],
   "metadata": {
    "collapsed": false
   }
  }
 ],
 "metadata": {
  "kernelspec": {
   "display_name": "Python 3 (ipykernel)",
   "language": "python",
   "name": "python3"
  },
  "language_info": {
   "codemirror_mode": {
    "name": "ipython",
    "version": 3
   },
   "file_extension": ".py",
   "mimetype": "text/x-python",
   "name": "python",
   "nbconvert_exporter": "python",
   "pygments_lexer": "ipython3",
   "version": "3.9.13"
  }
 },
 "nbformat": 4,
 "nbformat_minor": 5
}
