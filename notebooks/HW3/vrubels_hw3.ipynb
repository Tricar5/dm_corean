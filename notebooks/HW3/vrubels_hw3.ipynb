{
 "cells": [
  {
   "cell_type": "markdown",
   "source": [
    "# Домашняя работа №3\n",
    "\n",
    "В данном ноутбуке мы сосредоточимся на таком аспекте как Text Mining\n",
    "\n",
    "\n",
    "### Программа\n",
    "\n",
    "Цель: дать характеристику описанным текстам на небольшой выборке релевантных видео\n",
    "\n",
    "1. [Подготовительный этап](#preparing)\n",
    "\n",
    "    1.1 Загрузка данных\n",
    "\n",
    "    1.2 Предобработать тексты с помощью\n",
    "\n",
    "2. [Этап \"Тематическое моделирование\"](#themes)\n",
    "\n",
    "    2.1 Векторизовать тексты для получения тематического моделирования\n",
    "\n",
    "    2.1 Провести базовое тематическое моделирование\n",
    "\n",
    "3. [Этап \"Анализ сентиментов\"](#sentiment)\n",
    "\n",
    "    3.1 Провести классификацию сентиментов с помощью предобученной модели\n",
    "\n",
    "    3.2 Проанализировать данные применительно к данным\n",
    "\n",
    "4. [Заключительный этап](#end)\n",
    "\n",
    "\n",
    "### Описание данных:\n",
    "\n",
    "- `video_data.xlsx` - одни из самых популярных отобранных видео по тематике\n",
    "- `comments.xlsx` - собранный массив сырых комментариев к этим видео\n"
   ],
   "metadata": {
    "collapsed": false
   }
  },
  {
   "cell_type": "code",
   "execution_count": 1,
   "outputs": [
    {
     "name": "stderr",
     "output_type": "stream",
     "text": [
      "[nltk_data] Downloading package stopwords to\n",
      "[nltk_data]     /Users/andrey/nltk_data...\n",
      "[nltk_data]   Package stopwords is already up-to-date!\n"
     ]
    }
   ],
   "source": [
    "# 0 определение вспомогательных функций\n",
    "\n",
    "# download stopwords corpus, you need to run it once\n",
    "import nltk\n",
    "nltk.download(\"stopwords\")\n",
    "#--------#\n",
    "\n",
    "from nltk.corpus import stopwords\n",
    "from pymystem3 import Mystem\n",
    "from string import punctuation\n",
    "import string\n",
    "import re\n",
    "\n",
    "\n",
    "#Create lemmatizer and stopwords list\n",
    "mystem = Mystem()\n",
    "russian_stopwords = stopwords.words(\"russian\")\n",
    "\n",
    "\", \".join(russian_stopwords)\n",
    "\n",
    "\n",
    "\n",
    "PUNCT_TO_REMOVE = string.punctuation\n",
    "\n",
    "def remove_tabs(text): #убираем дичь со специальными символами\n",
    "    return text.translate(str.maketrans(\"\\n\\t\\r\", \"   \"))\n",
    "\n",
    "def remove_punct(text):\n",
    "    return re.sub(r'[^a-zA-Zа-яА-ЯёЁ]+',' ', text)\n",
    "\n",
    "def remove_urls(text):\n",
    "    return re.sub(r'http\\S+', '', text, flags=re.MULTILINE)\n",
    "\n",
    "def remove_mentions(text):\n",
    "    return re.sub(\"@[A-Za-z0-9_]+\",\"\", text)\n",
    "\n",
    "def remove_hashtags(text):\n",
    "    return re.sub(\"#[A-Za-z0-9_]+\",\"\", text)\n",
    "\n",
    "def clean_text(text: str)->str:\n",
    "    text = remove_urls(text)\n",
    "    text = remove_tabs(text)\n",
    "    text = remove_mentions(text)\n",
    "    text = remove_hashtags(text)\n",
    "\n",
    "    return text\n",
    "\n",
    "\n",
    "def preprocess_text(text: str) -> str:\n",
    "\n",
    "    text = remove_punct(text)\n",
    "\n",
    "    tokens = mystem.lemmatize(text.lower())\n",
    "\n",
    "    tokens = [token for token in tokens if token not in russian_stopwords\\\n",
    "              and token != \" \" \\\n",
    "              and token.strip() not in punctuation]\n",
    "\n",
    "    text = \" \".join(tokens)\n",
    "\n",
    "    return text"
   ],
   "metadata": {
    "collapsed": false,
    "ExecuteTime": {
     "end_time": "2023-06-02T23:09:31.389402Z",
     "start_time": "2023-06-02T23:09:30.521914Z"
    }
   }
  },
  {
   "cell_type": "markdown",
   "source": [
    "## <a id=\"preparing\">Этап 1. Подготовка данных</a>\n",
    "\n",
    "### Загрузка данных"
   ],
   "metadata": {
    "collapsed": false
   }
  },
  {
   "cell_type": "code",
   "execution_count": 2,
   "outputs": [
    {
     "data": {
      "text/plain": "            kind                         etag           id   \n0  youtube#video  39bfg2o1oxyiRqGPtZrCWyuwH7o  vzdPoXX2UBM  \\\n1  youtube#video  --pazyNlbv_hVjU7gHSLmO6X4NM  zAUlL_UD2wI   \n2  youtube#video  9NzoyyTqtOiPLU-vwWlBxWVXeys  MQhiHSFflM8   \n3  youtube#video  6YaZ-26bJMjogDeqhRnFnUsmV-w  DBQikr47VDY   \n4  youtube#video  K5YpiZT3XnNs5vFJ1WftANgcpzs  4kbxKnzhstc   \n\n    snippet.publishedAt         snippet.channelId   \n0  2023-05-23T12:19:23Z  UCXNXpk6BPZO-M-fYyvfF06Q  \\\n1  2023-03-12T06:00:28Z  UCtHLW7MItjNZXYsmGA1mg9g   \n2  2023-05-25T16:00:55Z  UCDiixmeeY6BQvVVJfkNxcMQ   \n3  2023-06-01T18:38:50Z  UCU0sNUPabsC4yQm0sHTVOcg   \n4  2023-05-16T08:30:03Z  UCKoFMFiKx297VCuHB29mMXw   \n\n                                       snippet.title   \n0  ЧТО НОВОГО K-BEAUTY? РЕТИНОЛ, БАКУЧИОЛ, ЭКОЛОГ...  \\\n1  Как всегда выглядеть хорошо без макияжа? 12 пр...   \n2  ЧЕСТНО О БЬЮТИ БОМБ x Дарья Граф 🍄 Новая колле...   \n3  ✨Милый макияж с розовыми тенями | Cute makeup ...   \n4                    КАК Я стала ЛИЦОМ BEAUTY BOMB?😳   \n\n                                 snippet.description   \n0  Дорогие, привет!\\nКак много всего происходит в...  \\\n1  ССЫЛКИ:\\n✨ Масло-термозашита для волос (промок...   \n2  #бьютибомб #дашаграф #beautybomb #косметика\\n\\...   \n3  Зайка привет, моя хорошая💖🥹 Спасибо что зашла ...   \n4  Beauty Bomb дарят новую коллекцию Acid Summer ...   \n\n                   snippet.thumbnails.default.url   \n0  https://i.ytimg.com/vi/vzdPoXX2UBM/default.jpg  \\\n1  https://i.ytimg.com/vi/zAUlL_UD2wI/default.jpg   \n2  https://i.ytimg.com/vi/MQhiHSFflM8/default.jpg   \n3  https://i.ytimg.com/vi/DBQikr47VDY/default.jpg   \n4  https://i.ytimg.com/vi/4kbxKnzhstc/default.jpg   \n\n   snippet.thumbnails.default.width  snippet.thumbnails.default.height  ...   \n0                               120                                 90  ...  \\\n1                               120                                 90  ...   \n2                               120                                 90  ...   \n3                               120                                 90  ...   \n4                               120                                 90  ...   \n\n  contentDetails.licensedContent  contentDetails.projection   \n0                           True                rectangular  \\\n1                           True                rectangular   \n2                           True                rectangular   \n3                          False                rectangular   \n4                           True                rectangular   \n\n   statistics.viewCount statistics.likeCount  statistics.favoriteCount   \n0                 10728                 1068                         0  \\\n1                345863                21823                         0   \n2                 45067                 3762                         0   \n3                   232                   24                         0   \n4                747714                45204                         0   \n\n   statistics.commentCount                                   player.embedHtml   \n0                       62  <iframe width=\"480\" height=\"270\" src=\"//www.yo...  \\\n1                      544  <iframe width=\"480\" height=\"270\" src=\"//www.yo...   \n2                      298  <iframe width=\"480\" height=\"270\" src=\"//www.yo...   \n3                        2  <iframe width=\"480\" height=\"270\" src=\"//www.yo...   \n4                     1116  <iframe width=\"480\" height=\"270\" src=\"//www.yo...   \n\n                        topicDetails.topicCategories  snippet.defaultLanguage   \n0  ['https://en.wikipedia.org/wiki/Lifestyle_(soc...                      NaN  \\\n1  ['https://en.wikipedia.org/wiki/Lifestyle_(soc...                       ru   \n2  ['https://en.wikipedia.org/wiki/Lifestyle_(soc...                      NaN   \n3  ['https://en.wikipedia.org/wiki/Lifestyle_(soc...                      NaN   \n4  ['https://en.wikipedia.org/wiki/Lifestyle_(soc...                      NaN   \n\n   origin  \n0  Европа  \n1  Европа  \n2  Европа  \n3  Европа  \n4  Европа  \n\n[5 rows x 43 columns]",
      "text/html": "<div>\n<style scoped>\n    .dataframe tbody tr th:only-of-type {\n        vertical-align: middle;\n    }\n\n    .dataframe tbody tr th {\n        vertical-align: top;\n    }\n\n    .dataframe thead th {\n        text-align: right;\n    }\n</style>\n<table border=\"1\" class=\"dataframe\">\n  <thead>\n    <tr style=\"text-align: right;\">\n      <th></th>\n      <th>kind</th>\n      <th>etag</th>\n      <th>id</th>\n      <th>snippet.publishedAt</th>\n      <th>snippet.channelId</th>\n      <th>snippet.title</th>\n      <th>snippet.description</th>\n      <th>snippet.thumbnails.default.url</th>\n      <th>snippet.thumbnails.default.width</th>\n      <th>snippet.thumbnails.default.height</th>\n      <th>...</th>\n      <th>contentDetails.licensedContent</th>\n      <th>contentDetails.projection</th>\n      <th>statistics.viewCount</th>\n      <th>statistics.likeCount</th>\n      <th>statistics.favoriteCount</th>\n      <th>statistics.commentCount</th>\n      <th>player.embedHtml</th>\n      <th>topicDetails.topicCategories</th>\n      <th>snippet.defaultLanguage</th>\n      <th>origin</th>\n    </tr>\n  </thead>\n  <tbody>\n    <tr>\n      <th>0</th>\n      <td>youtube#video</td>\n      <td>39bfg2o1oxyiRqGPtZrCWyuwH7o</td>\n      <td>vzdPoXX2UBM</td>\n      <td>2023-05-23T12:19:23Z</td>\n      <td>UCXNXpk6BPZO-M-fYyvfF06Q</td>\n      <td>ЧТО НОВОГО K-BEAUTY? РЕТИНОЛ, БАКУЧИОЛ, ЭКОЛОГ...</td>\n      <td>Дорогие, привет!\\nКак много всего происходит в...</td>\n      <td>https://i.ytimg.com/vi/vzdPoXX2UBM/default.jpg</td>\n      <td>120</td>\n      <td>90</td>\n      <td>...</td>\n      <td>True</td>\n      <td>rectangular</td>\n      <td>10728</td>\n      <td>1068</td>\n      <td>0</td>\n      <td>62</td>\n      <td>&lt;iframe width=\"480\" height=\"270\" src=\"//www.yo...</td>\n      <td>['https://en.wikipedia.org/wiki/Lifestyle_(soc...</td>\n      <td>NaN</td>\n      <td>Европа</td>\n    </tr>\n    <tr>\n      <th>1</th>\n      <td>youtube#video</td>\n      <td>--pazyNlbv_hVjU7gHSLmO6X4NM</td>\n      <td>zAUlL_UD2wI</td>\n      <td>2023-03-12T06:00:28Z</td>\n      <td>UCtHLW7MItjNZXYsmGA1mg9g</td>\n      <td>Как всегда выглядеть хорошо без макияжа? 12 пр...</td>\n      <td>ССЫЛКИ:\\n✨ Масло-термозашита для волос (промок...</td>\n      <td>https://i.ytimg.com/vi/zAUlL_UD2wI/default.jpg</td>\n      <td>120</td>\n      <td>90</td>\n      <td>...</td>\n      <td>True</td>\n      <td>rectangular</td>\n      <td>345863</td>\n      <td>21823</td>\n      <td>0</td>\n      <td>544</td>\n      <td>&lt;iframe width=\"480\" height=\"270\" src=\"//www.yo...</td>\n      <td>['https://en.wikipedia.org/wiki/Lifestyle_(soc...</td>\n      <td>ru</td>\n      <td>Европа</td>\n    </tr>\n    <tr>\n      <th>2</th>\n      <td>youtube#video</td>\n      <td>9NzoyyTqtOiPLU-vwWlBxWVXeys</td>\n      <td>MQhiHSFflM8</td>\n      <td>2023-05-25T16:00:55Z</td>\n      <td>UCDiixmeeY6BQvVVJfkNxcMQ</td>\n      <td>ЧЕСТНО О БЬЮТИ БОМБ x Дарья Граф 🍄 Новая колле...</td>\n      <td>#бьютибомб #дашаграф #beautybomb #косметика\\n\\...</td>\n      <td>https://i.ytimg.com/vi/MQhiHSFflM8/default.jpg</td>\n      <td>120</td>\n      <td>90</td>\n      <td>...</td>\n      <td>True</td>\n      <td>rectangular</td>\n      <td>45067</td>\n      <td>3762</td>\n      <td>0</td>\n      <td>298</td>\n      <td>&lt;iframe width=\"480\" height=\"270\" src=\"//www.yo...</td>\n      <td>['https://en.wikipedia.org/wiki/Lifestyle_(soc...</td>\n      <td>NaN</td>\n      <td>Европа</td>\n    </tr>\n    <tr>\n      <th>3</th>\n      <td>youtube#video</td>\n      <td>6YaZ-26bJMjogDeqhRnFnUsmV-w</td>\n      <td>DBQikr47VDY</td>\n      <td>2023-06-01T18:38:50Z</td>\n      <td>UCU0sNUPabsC4yQm0sHTVOcg</td>\n      <td>✨Милый макияж с розовыми тенями | Cute makeup ...</td>\n      <td>Зайка привет, моя хорошая💖🥹 Спасибо что зашла ...</td>\n      <td>https://i.ytimg.com/vi/DBQikr47VDY/default.jpg</td>\n      <td>120</td>\n      <td>90</td>\n      <td>...</td>\n      <td>False</td>\n      <td>rectangular</td>\n      <td>232</td>\n      <td>24</td>\n      <td>0</td>\n      <td>2</td>\n      <td>&lt;iframe width=\"480\" height=\"270\" src=\"//www.yo...</td>\n      <td>['https://en.wikipedia.org/wiki/Lifestyle_(soc...</td>\n      <td>NaN</td>\n      <td>Европа</td>\n    </tr>\n    <tr>\n      <th>4</th>\n      <td>youtube#video</td>\n      <td>K5YpiZT3XnNs5vFJ1WftANgcpzs</td>\n      <td>4kbxKnzhstc</td>\n      <td>2023-05-16T08:30:03Z</td>\n      <td>UCKoFMFiKx297VCuHB29mMXw</td>\n      <td>КАК Я стала ЛИЦОМ BEAUTY BOMB?😳</td>\n      <td>Beauty Bomb дарят новую коллекцию Acid Summer ...</td>\n      <td>https://i.ytimg.com/vi/4kbxKnzhstc/default.jpg</td>\n      <td>120</td>\n      <td>90</td>\n      <td>...</td>\n      <td>True</td>\n      <td>rectangular</td>\n      <td>747714</td>\n      <td>45204</td>\n      <td>0</td>\n      <td>1116</td>\n      <td>&lt;iframe width=\"480\" height=\"270\" src=\"//www.yo...</td>\n      <td>['https://en.wikipedia.org/wiki/Lifestyle_(soc...</td>\n      <td>NaN</td>\n      <td>Европа</td>\n    </tr>\n  </tbody>\n</table>\n<p>5 rows × 43 columns</p>\n</div>"
     },
     "execution_count": 2,
     "metadata": {},
     "output_type": "execute_result"
    }
   ],
   "source": [
    "# 1 загрузка данных\n",
    "\n",
    "import pandas as pd\n",
    "\n",
    "video_df = pd.read_excel('video_data.xlsx')\n",
    "\n",
    "video_df.head()"
   ],
   "metadata": {
    "collapsed": false,
    "ExecuteTime": {
     "end_time": "2023-06-02T23:09:34.041325Z",
     "start_time": "2023-06-02T23:09:33.675259Z"
    }
   }
  },
  {
   "cell_type": "code",
   "execution_count": 3,
   "outputs": [
    {
     "data": {
      "text/plain": "                       kind                         etag   \n0     youtube#commentThread  lqN0Zzupy-0f_AAASt7gKLOZalc  \\\n1     youtube#commentThread  FSr6OFvRbevOro7VVmOb-ANmVF0   \n2     youtube#commentThread  ycRzG8zBi19WCF6USiBGOR_9l5w   \n3     youtube#commentThread  taeWHMsCs91UCrTujiIuJEGrmcs   \n4     youtube#commentThread  6XEm3qL2GdKiNxA2Lkmnrnb4P3I   \n...                     ...                          ...   \n8492        youtube#comment  SrLNUEzqeGp81VWedKPEbMDJBq4   \n8493        youtube#comment  jQEOTB8DJ1NQkjRXIajt_wklkDQ   \n8494        youtube#comment  80_51kGA0llynKoz12AVpUyYvjk   \n8495        youtube#comment  sdw_wTTarV0WBX4404R5jUy912Y   \n8496        youtube#comment  9zuhjeMGPsP1CXZn0fE8lAua1Jw   \n\n                                                     id snippet.videoId   \n0                            Ugz57x-YZSYddlWifIt4AaABAg     vzdPoXX2UBM  \\\n1                            Ugzqfh0Visn0OYf_EZN4AaABAg     vzdPoXX2UBM   \n2                            UgxAyZkv4V1m1sm-aUt4AaABAg     vzdPoXX2UBM   \n3                            UgwHEEpAHbCqWdjzy494AaABAg     vzdPoXX2UBM   \n4                            Ugz2C__gg0nt3MuuZXZ4AaABAg     vzdPoXX2UBM   \n...                                                 ...             ...   \n8492  Ugw_CW1RnR68GyuxVEl4AaABAg.9kGNFIgGa7Z9mhGVoE-2yy     BFcjeM3V3dc   \n8493  Ugw_CW1RnR68GyuxVEl4AaABAg.9kGNFIgGa7Z9mhGUf7zXrY     BFcjeM3V3dc   \n8494  Ugw_CW1RnR68GyuxVEl4AaABAg.9kGNFIgGa7Z9mdL-sHQSpe     BFcjeM3V3dc   \n8495  Ugw_CW1RnR68GyuxVEl4AaABAg.9kGNFIgGa7Z9mbG4-_uJfw     BFcjeM3V3dc   \n8496  Ugw_CW1RnR68GyuxVEl4AaABAg.9kGNFIgGa7Z9m9UtQxuefW     BFcjeM3V3dc   \n\n                                    snippet.textDisplay   \n0     До Хян! Спасибо большое за новое видео 🫶🏻 обож...  \\\n1     Бо Хян онни❤на озоне продавали товары от вас-B...   \n2     Классные средства! В вашем магазине на Озон бу...   \n3                                     спасибо за видео)   \n4     А можно будет сделать обзор про средства для п...   \n...                                                 ...   \n8492                                       @🦋Полина 🦋 💖   \n8493                                    @Margo Aravin 💓   \n8494                                                И я   \n8495                                             Это  Я   \n8496                                          Сама знаю   \n\n                                   snippet.textOriginal   \n0     До Хян! Спасибо большое за новое видео 🫶🏻 обож...  \\\n1     Бо Хян онни❤на озоне продавали товары от вас-B...   \n2     Классные средства! В вашем магазине на Озон бу...   \n3                                     спасибо за видео)   \n4     А можно будет сделать обзор про средства для п...   \n...                                                 ...   \n8492                                       @🦋Полина 🦋 💖   \n8493                                    @Margo Aravin 💓   \n8494                                                И я   \n8495                                             Это  Я   \n8496                                          Сама знаю   \n\n     snippet.authorDisplayName   \n0                    Alex Yost  \\\n1                   Aska Yuska   \n2                Ирина Крылова   \n3                     Ustalaya   \n4                       Olga M   \n...                        ...   \n8492                    Марьям   \n8493                    Марьям   \n8494              Margo Aravin   \n8495                 🦋Полина 🦋   \n8496                    Марьям   \n\n                          snippet.authorProfileImageUrl   \n0     https://yt3.ggpht.com/ytc/AGIKgqNjg7gvFa7b6j1c...  \\\n1     https://yt3.ggpht.com/ytc/AGIKgqNbP5fGCsLeQA3b...   \n2     https://yt3.ggpht.com/ytc/AGIKgqP2ASGZlu-D33_F...   \n3     https://yt3.ggpht.com/ytc/AGIKgqNTnXNpcPMQpsvH...   \n4     https://yt3.ggpht.com/ytc/AGIKgqPJ5KmbaRTSJwLo...   \n...                                                 ...   \n8492  https://yt3.ggpht.com/gFdhsGyMU2GXNAZLOYO4gtqJ...   \n8493  https://yt3.ggpht.com/gFdhsGyMU2GXNAZLOYO4gtqJ...   \n8494  https://yt3.ggpht.com/ytc/AGIKgqOBhMBgYvBwoSyA...   \n8495  https://yt3.ggpht.com/432OqfqNjILbDGMPCCcTTnPq...   \n8496  https://yt3.ggpht.com/gFdhsGyMU2GXNAZLOYO4gtqJ...   \n\n                               snippet.authorChannelUrl   \n0     http://www.youtube.com/channel/UCTaEjHhPIMJXRN...  \\\n1     http://www.youtube.com/channel/UCIKYk4-5rFZs3r...   \n2     http://www.youtube.com/channel/UC1yEbLPPcFEZX6...   \n3     http://www.youtube.com/channel/UCJU-KEQgK7Y14P...   \n4     http://www.youtube.com/channel/UCURgXlOeRejxcY...   \n...                                                 ...   \n8492  http://www.youtube.com/channel/UCQUuAGFrJthPST...   \n8493  http://www.youtube.com/channel/UCQUuAGFrJthPST...   \n8494  http://www.youtube.com/channel/UC1ar9sOW7t0niW...   \n8495  http://www.youtube.com/channel/UCJoCrWbCSkZMgZ...   \n8496  http://www.youtube.com/channel/UCQUuAGFrJthPST...   \n\n     snippet.authorChannelId.value  ...  snippet.likeCount   \n0         UCTaEjHhPIMJXRNzqcx54jtg  ...                  0  \\\n1         UCIKYk4-5rFZs3ry8zgJesHA  ...                  1   \n2         UC1yEbLPPcFEZX6RRuWwjp4g  ...                  0   \n3         UCJU-KEQgK7Y14POdao_6uCg  ...                  0   \n4         UCURgXlOeRejxcYKwZU-vz7w  ...                  3   \n...                            ...  ...                ...   \n8492      UCQUuAGFrJthPSTu8GeF67oQ  ...                  0   \n8493      UCQUuAGFrJthPSTu8GeF67oQ  ...                  0   \n8494      UC1ar9sOW7t0niWfkWHeqcBQ  ...                  2   \n8495      UCJoCrWbCSkZMgZadzCLfzfQ  ...                  1   \n8496      UCQUuAGFrJthPSTu8GeF67oQ  ...                  0   \n\n       snippet.publishedAt     snippet.updatedAt snippet.canReply   \n0     2023-06-01T21:53:57Z  2023-06-01T21:53:57Z              1.0  \\\n1     2023-05-31T08:03:03Z  2023-05-31T08:09:51Z              1.0   \n2     2023-05-30T18:58:19Z  2023-05-30T18:58:19Z              1.0   \n3     2023-05-28T18:54:48Z  2023-05-28T18:54:48Z              1.0   \n4     2023-05-28T10:35:17Z  2023-05-28T10:35:17Z              1.0   \n...                    ...                   ...              ...   \n8492  2023-03-01T03:07:00Z  2023-03-01T03:07:00Z              NaN   \n8493  2023-03-01T03:06:51Z  2023-03-01T03:06:51Z              NaN   \n8494  2023-02-27T14:29:22Z  2023-02-27T14:29:22Z              NaN   \n8495  2023-02-26T19:07:46Z  2023-02-26T19:07:46Z              NaN   \n8496  2023-02-15T14:59:16Z  2023-02-15T14:59:16Z              NaN   \n\n     snippet.totalReplyCount  snippet.isPublic  replies.comments   \n0                        0.0               1.0               NaN  \\\n1                        0.0               1.0               NaN   \n2                        0.0               1.0               NaN   \n3                        0.0               1.0               NaN   \n4                        0.0               1.0               NaN   \n...                      ...               ...               ...   \n8492                     NaN               NaN               NaN   \n8493                     NaN               NaN               NaN   \n8494                     NaN               NaN               NaN   \n8495                     NaN               NaN               NaN   \n8496                     NaN               NaN               NaN   \n\n      snippet.moderationStatus real_comments_cnt            snippet.parentId  \n0                          NaN               0.0                          -1  \n1                          NaN               0.0                          -1  \n2                          NaN               0.0                          -1  \n3                          NaN               0.0                          -1  \n4                          NaN               0.0                          -1  \n...                        ...               ...                         ...  \n8492                       NaN               NaN  Ugw_CW1RnR68GyuxVEl4AaABAg  \n8493                       NaN               NaN  Ugw_CW1RnR68GyuxVEl4AaABAg  \n8494                       NaN               NaN  Ugw_CW1RnR68GyuxVEl4AaABAg  \n8495                       NaN               NaN  Ugw_CW1RnR68GyuxVEl4AaABAg  \n8496                       NaN               NaN  Ugw_CW1RnR68GyuxVEl4AaABAg  \n\n[8495 rows x 22 columns]",
      "text/html": "<div>\n<style scoped>\n    .dataframe tbody tr th:only-of-type {\n        vertical-align: middle;\n    }\n\n    .dataframe tbody tr th {\n        vertical-align: top;\n    }\n\n    .dataframe thead th {\n        text-align: right;\n    }\n</style>\n<table border=\"1\" class=\"dataframe\">\n  <thead>\n    <tr style=\"text-align: right;\">\n      <th></th>\n      <th>kind</th>\n      <th>etag</th>\n      <th>id</th>\n      <th>snippet.videoId</th>\n      <th>snippet.textDisplay</th>\n      <th>snippet.textOriginal</th>\n      <th>snippet.authorDisplayName</th>\n      <th>snippet.authorProfileImageUrl</th>\n      <th>snippet.authorChannelUrl</th>\n      <th>snippet.authorChannelId.value</th>\n      <th>...</th>\n      <th>snippet.likeCount</th>\n      <th>snippet.publishedAt</th>\n      <th>snippet.updatedAt</th>\n      <th>snippet.canReply</th>\n      <th>snippet.totalReplyCount</th>\n      <th>snippet.isPublic</th>\n      <th>replies.comments</th>\n      <th>snippet.moderationStatus</th>\n      <th>real_comments_cnt</th>\n      <th>snippet.parentId</th>\n    </tr>\n  </thead>\n  <tbody>\n    <tr>\n      <th>0</th>\n      <td>youtube#commentThread</td>\n      <td>lqN0Zzupy-0f_AAASt7gKLOZalc</td>\n      <td>Ugz57x-YZSYddlWifIt4AaABAg</td>\n      <td>vzdPoXX2UBM</td>\n      <td>До Хян! Спасибо большое за новое видео 🫶🏻 обож...</td>\n      <td>До Хян! Спасибо большое за новое видео 🫶🏻 обож...</td>\n      <td>Alex Yost</td>\n      <td>https://yt3.ggpht.com/ytc/AGIKgqNjg7gvFa7b6j1c...</td>\n      <td>http://www.youtube.com/channel/UCTaEjHhPIMJXRN...</td>\n      <td>UCTaEjHhPIMJXRNzqcx54jtg</td>\n      <td>...</td>\n      <td>0</td>\n      <td>2023-06-01T21:53:57Z</td>\n      <td>2023-06-01T21:53:57Z</td>\n      <td>1.0</td>\n      <td>0.0</td>\n      <td>1.0</td>\n      <td>NaN</td>\n      <td>NaN</td>\n      <td>0.0</td>\n      <td>-1</td>\n    </tr>\n    <tr>\n      <th>1</th>\n      <td>youtube#commentThread</td>\n      <td>FSr6OFvRbevOro7VVmOb-ANmVF0</td>\n      <td>Ugzqfh0Visn0OYf_EZN4AaABAg</td>\n      <td>vzdPoXX2UBM</td>\n      <td>Бо Хян онни❤на озоне продавали товары от вас-B...</td>\n      <td>Бо Хян онни❤на озоне продавали товары от вас-B...</td>\n      <td>Aska Yuska</td>\n      <td>https://yt3.ggpht.com/ytc/AGIKgqNbP5fGCsLeQA3b...</td>\n      <td>http://www.youtube.com/channel/UCIKYk4-5rFZs3r...</td>\n      <td>UCIKYk4-5rFZs3ry8zgJesHA</td>\n      <td>...</td>\n      <td>1</td>\n      <td>2023-05-31T08:03:03Z</td>\n      <td>2023-05-31T08:09:51Z</td>\n      <td>1.0</td>\n      <td>0.0</td>\n      <td>1.0</td>\n      <td>NaN</td>\n      <td>NaN</td>\n      <td>0.0</td>\n      <td>-1</td>\n    </tr>\n    <tr>\n      <th>2</th>\n      <td>youtube#commentThread</td>\n      <td>ycRzG8zBi19WCF6USiBGOR_9l5w</td>\n      <td>UgxAyZkv4V1m1sm-aUt4AaABAg</td>\n      <td>vzdPoXX2UBM</td>\n      <td>Классные средства! В вашем магазине на Озон бу...</td>\n      <td>Классные средства! В вашем магазине на Озон бу...</td>\n      <td>Ирина Крылова</td>\n      <td>https://yt3.ggpht.com/ytc/AGIKgqP2ASGZlu-D33_F...</td>\n      <td>http://www.youtube.com/channel/UC1yEbLPPcFEZX6...</td>\n      <td>UC1yEbLPPcFEZX6RRuWwjp4g</td>\n      <td>...</td>\n      <td>0</td>\n      <td>2023-05-30T18:58:19Z</td>\n      <td>2023-05-30T18:58:19Z</td>\n      <td>1.0</td>\n      <td>0.0</td>\n      <td>1.0</td>\n      <td>NaN</td>\n      <td>NaN</td>\n      <td>0.0</td>\n      <td>-1</td>\n    </tr>\n    <tr>\n      <th>3</th>\n      <td>youtube#commentThread</td>\n      <td>taeWHMsCs91UCrTujiIuJEGrmcs</td>\n      <td>UgwHEEpAHbCqWdjzy494AaABAg</td>\n      <td>vzdPoXX2UBM</td>\n      <td>спасибо за видео)</td>\n      <td>спасибо за видео)</td>\n      <td>Ustalaya</td>\n      <td>https://yt3.ggpht.com/ytc/AGIKgqNTnXNpcPMQpsvH...</td>\n      <td>http://www.youtube.com/channel/UCJU-KEQgK7Y14P...</td>\n      <td>UCJU-KEQgK7Y14POdao_6uCg</td>\n      <td>...</td>\n      <td>0</td>\n      <td>2023-05-28T18:54:48Z</td>\n      <td>2023-05-28T18:54:48Z</td>\n      <td>1.0</td>\n      <td>0.0</td>\n      <td>1.0</td>\n      <td>NaN</td>\n      <td>NaN</td>\n      <td>0.0</td>\n      <td>-1</td>\n    </tr>\n    <tr>\n      <th>4</th>\n      <td>youtube#commentThread</td>\n      <td>6XEm3qL2GdKiNxA2Lkmnrnb4P3I</td>\n      <td>Ugz2C__gg0nt3MuuZXZ4AaABAg</td>\n      <td>vzdPoXX2UBM</td>\n      <td>А можно будет сделать обзор про средства для п...</td>\n      <td>А можно будет сделать обзор про средства для п...</td>\n      <td>Olga M</td>\n      <td>https://yt3.ggpht.com/ytc/AGIKgqPJ5KmbaRTSJwLo...</td>\n      <td>http://www.youtube.com/channel/UCURgXlOeRejxcY...</td>\n      <td>UCURgXlOeRejxcYKwZU-vz7w</td>\n      <td>...</td>\n      <td>3</td>\n      <td>2023-05-28T10:35:17Z</td>\n      <td>2023-05-28T10:35:17Z</td>\n      <td>1.0</td>\n      <td>0.0</td>\n      <td>1.0</td>\n      <td>NaN</td>\n      <td>NaN</td>\n      <td>0.0</td>\n      <td>-1</td>\n    </tr>\n    <tr>\n      <th>...</th>\n      <td>...</td>\n      <td>...</td>\n      <td>...</td>\n      <td>...</td>\n      <td>...</td>\n      <td>...</td>\n      <td>...</td>\n      <td>...</td>\n      <td>...</td>\n      <td>...</td>\n      <td>...</td>\n      <td>...</td>\n      <td>...</td>\n      <td>...</td>\n      <td>...</td>\n      <td>...</td>\n      <td>...</td>\n      <td>...</td>\n      <td>...</td>\n      <td>...</td>\n      <td>...</td>\n    </tr>\n    <tr>\n      <th>8492</th>\n      <td>youtube#comment</td>\n      <td>SrLNUEzqeGp81VWedKPEbMDJBq4</td>\n      <td>Ugw_CW1RnR68GyuxVEl4AaABAg.9kGNFIgGa7Z9mhGVoE-2yy</td>\n      <td>BFcjeM3V3dc</td>\n      <td>@🦋Полина 🦋 💖</td>\n      <td>@🦋Полина 🦋 💖</td>\n      <td>Марьям</td>\n      <td>https://yt3.ggpht.com/gFdhsGyMU2GXNAZLOYO4gtqJ...</td>\n      <td>http://www.youtube.com/channel/UCQUuAGFrJthPST...</td>\n      <td>UCQUuAGFrJthPSTu8GeF67oQ</td>\n      <td>...</td>\n      <td>0</td>\n      <td>2023-03-01T03:07:00Z</td>\n      <td>2023-03-01T03:07:00Z</td>\n      <td>NaN</td>\n      <td>NaN</td>\n      <td>NaN</td>\n      <td>NaN</td>\n      <td>NaN</td>\n      <td>NaN</td>\n      <td>Ugw_CW1RnR68GyuxVEl4AaABAg</td>\n    </tr>\n    <tr>\n      <th>8493</th>\n      <td>youtube#comment</td>\n      <td>jQEOTB8DJ1NQkjRXIajt_wklkDQ</td>\n      <td>Ugw_CW1RnR68GyuxVEl4AaABAg.9kGNFIgGa7Z9mhGUf7zXrY</td>\n      <td>BFcjeM3V3dc</td>\n      <td>@Margo Aravin 💓</td>\n      <td>@Margo Aravin 💓</td>\n      <td>Марьям</td>\n      <td>https://yt3.ggpht.com/gFdhsGyMU2GXNAZLOYO4gtqJ...</td>\n      <td>http://www.youtube.com/channel/UCQUuAGFrJthPST...</td>\n      <td>UCQUuAGFrJthPSTu8GeF67oQ</td>\n      <td>...</td>\n      <td>0</td>\n      <td>2023-03-01T03:06:51Z</td>\n      <td>2023-03-01T03:06:51Z</td>\n      <td>NaN</td>\n      <td>NaN</td>\n      <td>NaN</td>\n      <td>NaN</td>\n      <td>NaN</td>\n      <td>NaN</td>\n      <td>Ugw_CW1RnR68GyuxVEl4AaABAg</td>\n    </tr>\n    <tr>\n      <th>8494</th>\n      <td>youtube#comment</td>\n      <td>80_51kGA0llynKoz12AVpUyYvjk</td>\n      <td>Ugw_CW1RnR68GyuxVEl4AaABAg.9kGNFIgGa7Z9mdL-sHQSpe</td>\n      <td>BFcjeM3V3dc</td>\n      <td>И я</td>\n      <td>И я</td>\n      <td>Margo Aravin</td>\n      <td>https://yt3.ggpht.com/ytc/AGIKgqOBhMBgYvBwoSyA...</td>\n      <td>http://www.youtube.com/channel/UC1ar9sOW7t0niW...</td>\n      <td>UC1ar9sOW7t0niWfkWHeqcBQ</td>\n      <td>...</td>\n      <td>2</td>\n      <td>2023-02-27T14:29:22Z</td>\n      <td>2023-02-27T14:29:22Z</td>\n      <td>NaN</td>\n      <td>NaN</td>\n      <td>NaN</td>\n      <td>NaN</td>\n      <td>NaN</td>\n      <td>NaN</td>\n      <td>Ugw_CW1RnR68GyuxVEl4AaABAg</td>\n    </tr>\n    <tr>\n      <th>8495</th>\n      <td>youtube#comment</td>\n      <td>sdw_wTTarV0WBX4404R5jUy912Y</td>\n      <td>Ugw_CW1RnR68GyuxVEl4AaABAg.9kGNFIgGa7Z9mbG4-_uJfw</td>\n      <td>BFcjeM3V3dc</td>\n      <td>Это  Я</td>\n      <td>Это  Я</td>\n      <td>🦋Полина 🦋</td>\n      <td>https://yt3.ggpht.com/432OqfqNjILbDGMPCCcTTnPq...</td>\n      <td>http://www.youtube.com/channel/UCJoCrWbCSkZMgZ...</td>\n      <td>UCJoCrWbCSkZMgZadzCLfzfQ</td>\n      <td>...</td>\n      <td>1</td>\n      <td>2023-02-26T19:07:46Z</td>\n      <td>2023-02-26T19:07:46Z</td>\n      <td>NaN</td>\n      <td>NaN</td>\n      <td>NaN</td>\n      <td>NaN</td>\n      <td>NaN</td>\n      <td>NaN</td>\n      <td>Ugw_CW1RnR68GyuxVEl4AaABAg</td>\n    </tr>\n    <tr>\n      <th>8496</th>\n      <td>youtube#comment</td>\n      <td>9zuhjeMGPsP1CXZn0fE8lAua1Jw</td>\n      <td>Ugw_CW1RnR68GyuxVEl4AaABAg.9kGNFIgGa7Z9m9UtQxuefW</td>\n      <td>BFcjeM3V3dc</td>\n      <td>Сама знаю</td>\n      <td>Сама знаю</td>\n      <td>Марьям</td>\n      <td>https://yt3.ggpht.com/gFdhsGyMU2GXNAZLOYO4gtqJ...</td>\n      <td>http://www.youtube.com/channel/UCQUuAGFrJthPST...</td>\n      <td>UCQUuAGFrJthPSTu8GeF67oQ</td>\n      <td>...</td>\n      <td>0</td>\n      <td>2023-02-15T14:59:16Z</td>\n      <td>2023-02-15T14:59:16Z</td>\n      <td>NaN</td>\n      <td>NaN</td>\n      <td>NaN</td>\n      <td>NaN</td>\n      <td>NaN</td>\n      <td>NaN</td>\n      <td>Ugw_CW1RnR68GyuxVEl4AaABAg</td>\n    </tr>\n  </tbody>\n</table>\n<p>8495 rows × 22 columns</p>\n</div>"
     },
     "execution_count": 3,
     "metadata": {},
     "output_type": "execute_result"
    }
   ],
   "source": [
    "# 2 загрузка данных комментариев\n",
    "\n",
    "cmt_df = pd.read_excel('comments.xlsx')\n",
    "\n",
    "cmt_df = cmt_df.dropna(subset=['snippet.textOriginal'])\n",
    "\n",
    "cmt_df"
   ],
   "metadata": {
    "collapsed": false,
    "ExecuteTime": {
     "end_time": "2023-06-02T23:09:36.137043Z",
     "start_time": "2023-06-02T23:09:34.538740Z"
    }
   }
  },
  {
   "cell_type": "markdown",
   "source": [
    "### Text Preprocessing"
   ],
   "metadata": {
    "collapsed": false
   }
  },
  {
   "cell_type": "code",
   "execution_count": 4,
   "outputs": [],
   "source": [
    "# 3 Формирование корпуса текстов\n",
    "\n",
    "corpora = list(cmt_df['snippet.textOriginal'].values)\n"
   ],
   "metadata": {
    "collapsed": false,
    "ExecuteTime": {
     "end_time": "2023-06-02T23:09:36.139230Z",
     "start_time": "2023-06-02T23:09:36.137554Z"
    }
   }
  },
  {
   "cell_type": "code",
   "execution_count": 5,
   "outputs": [],
   "source": [
    "# 4 Preprocessing with simple text clearance for\n",
    "\n",
    "cleaned_text = [clean_text(t) for t in corpora]\n",
    "\n",
    "cmt_df['cleaned_text'] = cleaned_text"
   ],
   "metadata": {
    "collapsed": false,
    "ExecuteTime": {
     "end_time": "2023-06-02T23:09:36.294629Z",
     "start_time": "2023-06-02T23:09:36.264112Z"
    }
   }
  },
  {
   "cell_type": "code",
   "execution_count": 6,
   "outputs": [],
   "source": [
    "# 5 Preprocessing with lemmatization\n",
    "\n",
    "lemmatized = [preprocess_text(s) for s in cleaned_text]\n",
    "\n",
    "cmt_df['lemmatized_text'] = lemmatized"
   ],
   "metadata": {
    "collapsed": false,
    "ExecuteTime": {
     "end_time": "2023-06-02T23:09:43.272093Z",
     "start_time": "2023-06-02T23:09:36.878298Z"
    }
   }
  },
  {
   "cell_type": "code",
   "execution_count": 7,
   "outputs": [
    {
     "data": {
      "text/plain": "count    8495.000000\nmean       10.296410\nstd        13.438203\nmin         0.000000\n25%         3.000000\n50%         6.000000\n75%        12.000000\nmax       295.000000\nName: lem_word_count, dtype: float64"
     },
     "execution_count": 7,
     "metadata": {},
     "output_type": "execute_result"
    }
   ],
   "source": [
    "## 6 Оценка количества слов в лемматизации\n",
    "\n",
    "cmt_df['lem_word_count'] = cmt_df['lemmatized_text'].apply(lambda x: len(x.split()))\n",
    "cmt_df['lem_sym_count'] = cmt_df['lemmatized_text'].apply(lambda x: len(x))\n",
    "\n",
    "cmt_df['lem_word_count'].describe()"
   ],
   "metadata": {
    "collapsed": false,
    "ExecuteTime": {
     "end_time": "2023-06-02T23:09:43.285448Z",
     "start_time": "2023-06-02T23:09:43.281242Z"
    }
   }
  },
  {
   "cell_type": "markdown",
   "source": [
    "***Предлагаем оставить больше 3 слов на каждый для более точного смыслового определения***"
   ],
   "metadata": {
    "collapsed": false
   }
  },
  {
   "cell_type": "code",
   "execution_count": 8,
   "outputs": [],
   "source": [
    "# 7 Фильтр\n",
    "cmt_df = cmt_df[cmt_df['lem_word_count'] >= 3]\n"
   ],
   "metadata": {
    "collapsed": false,
    "ExecuteTime": {
     "end_time": "2023-06-02T23:09:43.291794Z",
     "start_time": "2023-06-02T23:09:43.286086Z"
    }
   }
  },
  {
   "cell_type": "raw",
   "source": [
    "# 8 сохранение (раскомментировать при необходимости)\n",
    "\n",
    "cmt_df[['id','snippet.textOriginal', 'cleaned_text', 'lemmatized_text']].to_excel(\n",
    "    'cleared_comments.xlsx'\n",
    ")"
   ],
   "metadata": {
    "collapsed": false
   }
  },
  {
   "cell_type": "raw",
   "source": [
    "# 9 Матрица doc-term (она нам не нужна)\n",
    "\n",
    "\n",
    "from sklearn.feature_extraction.text import CountVectorizer, TfidfVectorizer\n",
    "\n",
    "vectorization_params = {\n",
    "    'ngram_range' : (1,1), # Токены и словосочетания\n",
    "    'max_df': 0.95, # Токен не может быть встречаться чаще, чем в 95% текстов\n",
    "    'min_df': 5, # Токен не может быть встречаться чаще, чем в 0.01% текстов\n",
    "    'analyzer': 'word'\n",
    "}\n",
    "\n",
    "# Векторизация по частотам\n",
    "cnt_vect = CountVectorizer(**vectorization_params)\n",
    "\n",
    "cnt_m_sparse = cnt_vect.fit_transform(cmt_df['lemmatized_text'])\n",
    "\n",
    "print('Размер разряженной матрицы', cnt_m_sparse.shape)\n",
    "\n",
    "\n",
    "\n",
    "# Извлечение имен токенов\n",
    "token_names = list(cnt_vect.vocabulary_.keys())\n",
    "\n",
    "\n",
    "# Подстановка для просмотра матрицу частот\n",
    "cmatrix = pd.DataFrame.sparse.from_spmatrix(cnt_m_sparse, columns=token_names)\n",
    "display(cmatrix.head())\n",
    "\n",
    "\n",
    "cmatrix['index'] = cmt_df.index\n",
    "cmatrix['text_original'] = cmt_df['snippet.textOriginal']\n",
    "cmatrix['lemmatized_text'] = cmt_df['lemmatized_text']\n",
    "\n",
    "\n",
    "cmatrix.to_excel('cm_cmatrix.xlsx', index=False)"
   ],
   "metadata": {
    "collapsed": false
   }
  },
  {
   "cell_type": "markdown",
   "source": [
    "## <a id=\"sentiment\">Этап 2. Сентимент анализ</a>\n",
    "\n",
    "### Содержательное предположение\n",
    "\n",
    "***Корейская косметика в обзорах воспринимается более позитивно, чем европейская***\n",
    "\n",
    "### Дизайн эксперимента\n",
    "\n",
    "Для нашей гипотезы о различии реакций на корейскую и европейскую косметику нами были выбраны отдельные видео и к ним загружены комментарии\n",
    "\n",
    "Давайте сравним реакцию на видео относительно их контента\n",
    "\n",
    "**Группы:**\n",
    "\n",
    "1. Видео о корейской косметике\n",
    "2. Видео о европейской косметике\n",
    "3. Видео о том и другом (мульти-обзоры)\n",
    "\n",
    "Для проведения sentiment анализа мы будем использовать предобученную модель из библиотеки `transformers`\n",
    "\n",
    "Итогом станет сравнение реакций в двух группах и верификация относительно контрольной\n",
    "\n",
    "\n"
   ],
   "metadata": {
    "collapsed": false
   }
  },
  {
   "cell_type": "code",
   "execution_count": 9,
   "outputs": [
    {
     "data": {
      "text/plain": "origin\nЕвропа      12\nКорея       12\nКонтроль     9\nName: count, dtype: int64"
     },
     "execution_count": 9,
     "metadata": {},
     "output_type": "execute_result"
    }
   ],
   "source": [
    "# 10 Статистика\n",
    "\n",
    "video_df['origin'] = video_df['origin'].map({'Европа': 'Европа', 'Корея': 'Корея', 'И то и т о': 'Контроль'})\n",
    "\n",
    "\n",
    "\n",
    "video_df['origin'].value_counts(ascending=False)\n"
   ],
   "metadata": {
    "collapsed": false,
    "ExecuteTime": {
     "end_time": "2023-06-02T23:09:43.302756Z",
     "start_time": "2023-06-02T23:09:43.294491Z"
    }
   }
  },
  {
   "cell_type": "code",
   "execution_count": 10,
   "outputs": [
    {
     "data": {
      "text/plain": "                            mean                                             \n         statistics.commentCount statistics.likeCount statistics.viewCount   \norigin                                                                       \nЕвропа                227.666667          7456.000000        134729.583333  \\\nКонтроль              293.555556          6034.888889        156458.777778   \nКорея                 263.250000          7523.416667        104419.833333   \n\n                             sum                                            \n         statistics.commentCount statistics.likeCount statistics.viewCount  \norigin                                                                      \nЕвропа                      2732                89472              1616755  \nКонтроль                    2642                54314              1408129  \nКорея                       3159                90281              1253038  ",
      "text/html": "<div>\n<style scoped>\n    .dataframe tbody tr th:only-of-type {\n        vertical-align: middle;\n    }\n\n    .dataframe tbody tr th {\n        vertical-align: top;\n    }\n\n    .dataframe thead tr th {\n        text-align: left;\n    }\n\n    .dataframe thead tr:last-of-type th {\n        text-align: right;\n    }\n</style>\n<table border=\"1\" class=\"dataframe\">\n  <thead>\n    <tr>\n      <th></th>\n      <th colspan=\"3\" halign=\"left\">mean</th>\n      <th colspan=\"3\" halign=\"left\">sum</th>\n    </tr>\n    <tr>\n      <th></th>\n      <th>statistics.commentCount</th>\n      <th>statistics.likeCount</th>\n      <th>statistics.viewCount</th>\n      <th>statistics.commentCount</th>\n      <th>statistics.likeCount</th>\n      <th>statistics.viewCount</th>\n    </tr>\n    <tr>\n      <th>origin</th>\n      <th></th>\n      <th></th>\n      <th></th>\n      <th></th>\n      <th></th>\n      <th></th>\n    </tr>\n  </thead>\n  <tbody>\n    <tr>\n      <th>Европа</th>\n      <td>227.666667</td>\n      <td>7456.000000</td>\n      <td>134729.583333</td>\n      <td>2732</td>\n      <td>89472</td>\n      <td>1616755</td>\n    </tr>\n    <tr>\n      <th>Контроль</th>\n      <td>293.555556</td>\n      <td>6034.888889</td>\n      <td>156458.777778</td>\n      <td>2642</td>\n      <td>54314</td>\n      <td>1408129</td>\n    </tr>\n    <tr>\n      <th>Корея</th>\n      <td>263.250000</td>\n      <td>7523.416667</td>\n      <td>104419.833333</td>\n      <td>3159</td>\n      <td>90281</td>\n      <td>1253038</td>\n    </tr>\n  </tbody>\n</table>\n</div>"
     },
     "execution_count": 10,
     "metadata": {},
     "output_type": "execute_result"
    }
   ],
   "source": [
    "# 11 Сравнение групп по статистике\n",
    "import numpy as np\n",
    "\n",
    "\n",
    "video_df.pivot_table(index=['origin'], values=['statistics.likeCount', 'statistics.viewCount', 'statistics.commentCount'], aggfunc=[np.mean, np.sum])"
   ],
   "metadata": {
    "collapsed": false,
    "ExecuteTime": {
     "end_time": "2023-06-02T23:09:43.312662Z",
     "start_time": "2023-06-02T23:09:43.301864Z"
    }
   }
  },
  {
   "cell_type": "markdown",
   "source": [
    "**В группах сопоставимое число просмотров, лайков и комментариях как по средним, так и по сумме**\n",
    "\n",
    "***Примечание: в рамках учебного скрипта такое утверждение принимается за верное, однако для верифицируемости может использоваться как большее число видео, так и статистические критерии на проверку неравенства средних в группах по критерию ${\\chi}^2$***\n"
   ],
   "metadata": {
    "collapsed": false
   }
  },
  {
   "cell_type": "markdown",
   "source": [
    "### Sentiment Transformers\n",
    "\n",
    "В качестве предобученной модели мы используем Bert Cased от cointegrated (Facebook AI Research)\n",
    "\n",
    "[source]https://huggingface.co/cointegrated/rubert-tiny-sentiment-balanced)\n",
    "\n",
    "Причины выбора модели:\n",
    "1) Она обучалась на значительно большем количестве текстов, чем можно сформировать в рамках учебной работы\n",
    "2) Она обучалась, в том числе на продуктовых отзывах\n",
    "3)"
   ],
   "metadata": {
    "collapsed": false
   }
  },
  {
   "cell_type": "code",
   "execution_count": 11,
   "outputs": [
    {
     "name": "stdout",
     "output_type": "stream",
     "text": [
      "Requirement already satisfied: torch in /Users/andrey/PycharmProjects/DataMiningProjects/.venv/lib/python3.10/site-packages (2.0.1)\r\n",
      "Requirement already satisfied: filelock in /Users/andrey/PycharmProjects/DataMiningProjects/.venv/lib/python3.10/site-packages (from torch) (3.9.0)\r\n",
      "Requirement already satisfied: typing-extensions in /Users/andrey/PycharmProjects/DataMiningProjects/.venv/lib/python3.10/site-packages (from torch) (4.5.0)\r\n",
      "Requirement already satisfied: sympy in /Users/andrey/PycharmProjects/DataMiningProjects/.venv/lib/python3.10/site-packages (from torch) (1.12)\r\n",
      "Requirement already satisfied: networkx in /Users/andrey/PycharmProjects/DataMiningProjects/.venv/lib/python3.10/site-packages (from torch) (3.1)\r\n",
      "Requirement already satisfied: jinja2 in /Users/andrey/PycharmProjects/DataMiningProjects/.venv/lib/python3.10/site-packages (from torch) (3.1.2)\r\n",
      "Requirement already satisfied: MarkupSafe>=2.0 in /Users/andrey/PycharmProjects/DataMiningProjects/.venv/lib/python3.10/site-packages (from jinja2->torch) (2.1.2)\r\n",
      "Requirement already satisfied: mpmath>=0.19 in /Users/andrey/PycharmProjects/DataMiningProjects/.venv/lib/python3.10/site-packages (from sympy->torch) (1.3.0)\r\n",
      "\r\n",
      "\u001B[1m[\u001B[0m\u001B[34;49mnotice\u001B[0m\u001B[1;39;49m]\u001B[0m\u001B[39;49m A new release of pip is available: \u001B[0m\u001B[31;49m23.1\u001B[0m\u001B[39;49m -> \u001B[0m\u001B[32;49m23.1.2\u001B[0m\r\n",
      "\u001B[1m[\u001B[0m\u001B[34;49mnotice\u001B[0m\u001B[1;39;49m]\u001B[0m\u001B[39;49m To update, run: \u001B[0m\u001B[32;49mpip install --upgrade pip\u001B[0m\r\n",
      "Requirement already satisfied: transformers in /Users/andrey/PycharmProjects/DataMiningProjects/.venv/lib/python3.10/site-packages (4.29.2)\r\n",
      "Requirement already satisfied: filelock in /Users/andrey/PycharmProjects/DataMiningProjects/.venv/lib/python3.10/site-packages (from transformers) (3.9.0)\r\n",
      "Requirement already satisfied: huggingface-hub<1.0,>=0.14.1 in /Users/andrey/PycharmProjects/DataMiningProjects/.venv/lib/python3.10/site-packages (from transformers) (0.14.1)\r\n",
      "Requirement already satisfied: numpy>=1.17 in /Users/andrey/PycharmProjects/DataMiningProjects/.venv/lib/python3.10/site-packages (from transformers) (1.24.3)\r\n",
      "Requirement already satisfied: packaging>=20.0 in /Users/andrey/PycharmProjects/DataMiningProjects/.venv/lib/python3.10/site-packages (from transformers) (23.0)\r\n",
      "Requirement already satisfied: pyyaml>=5.1 in /Users/andrey/PycharmProjects/DataMiningProjects/.venv/lib/python3.10/site-packages (from transformers) (6.0)\r\n",
      "Requirement already satisfied: regex!=2019.12.17 in /Users/andrey/PycharmProjects/DataMiningProjects/.venv/lib/python3.10/site-packages (from transformers) (2022.10.31)\r\n",
      "Requirement already satisfied: requests in /Users/andrey/PycharmProjects/DataMiningProjects/.venv/lib/python3.10/site-packages (from transformers) (2.28.2)\r\n",
      "Requirement already satisfied: tokenizers!=0.11.3,<0.14,>=0.11.1 in /Users/andrey/PycharmProjects/DataMiningProjects/.venv/lib/python3.10/site-packages (from transformers) (0.13.3)\r\n",
      "Requirement already satisfied: tqdm>=4.27 in /Users/andrey/PycharmProjects/DataMiningProjects/.venv/lib/python3.10/site-packages (from transformers) (4.64.1)\r\n",
      "Requirement already satisfied: fsspec in /Users/andrey/PycharmProjects/DataMiningProjects/.venv/lib/python3.10/site-packages (from huggingface-hub<1.0,>=0.14.1->transformers) (2023.5.0)\r\n",
      "Requirement already satisfied: typing-extensions>=3.7.4.3 in /Users/andrey/PycharmProjects/DataMiningProjects/.venv/lib/python3.10/site-packages (from huggingface-hub<1.0,>=0.14.1->transformers) (4.5.0)\r\n",
      "Requirement already satisfied: charset-normalizer<4,>=2 in /Users/andrey/PycharmProjects/DataMiningProjects/.venv/lib/python3.10/site-packages (from requests->transformers) (3.0.1)\r\n",
      "Requirement already satisfied: idna<4,>=2.5 in /Users/andrey/PycharmProjects/DataMiningProjects/.venv/lib/python3.10/site-packages (from requests->transformers) (3.4)\r\n",
      "Requirement already satisfied: urllib3<1.27,>=1.21.1 in /Users/andrey/PycharmProjects/DataMiningProjects/.venv/lib/python3.10/site-packages (from requests->transformers) (1.26.14)\r\n",
      "Requirement already satisfied: certifi>=2017.4.17 in /Users/andrey/PycharmProjects/DataMiningProjects/.venv/lib/python3.10/site-packages (from requests->transformers) (2022.12.7)\r\n",
      "\r\n",
      "\u001B[1m[\u001B[0m\u001B[34;49mnotice\u001B[0m\u001B[1;39;49m]\u001B[0m\u001B[39;49m A new release of pip is available: \u001B[0m\u001B[31;49m23.1\u001B[0m\u001B[39;49m -> \u001B[0m\u001B[32;49m23.1.2\u001B[0m\r\n",
      "\u001B[1m[\u001B[0m\u001B[34;49mnotice\u001B[0m\u001B[1;39;49m]\u001B[0m\u001B[39;49m To update, run: \u001B[0m\u001B[32;49mpip install --upgrade pip\u001B[0m\r\n",
      "Requirement already satisfied: tqdm in /Users/andrey/PycharmProjects/DataMiningProjects/.venv/lib/python3.10/site-packages (4.64.1)\r\n",
      "\r\n",
      "\u001B[1m[\u001B[0m\u001B[34;49mnotice\u001B[0m\u001B[1;39;49m]\u001B[0m\u001B[39;49m A new release of pip is available: \u001B[0m\u001B[31;49m23.1\u001B[0m\u001B[39;49m -> \u001B[0m\u001B[32;49m23.1.2\u001B[0m\r\n",
      "\u001B[1m[\u001B[0m\u001B[34;49mnotice\u001B[0m\u001B[1;39;49m]\u001B[0m\u001B[39;49m To update, run: \u001B[0m\u001B[32;49mpip install --upgrade pip\u001B[0m\r\n"
     ]
    }
   ],
   "source": [
    "!pip install torch\n",
    "!pip install transformers\n",
    "!pip install tqdm"
   ],
   "metadata": {
    "collapsed": false,
    "ExecuteTime": {
     "end_time": "2023-06-02T23:09:46.515719Z",
     "start_time": "2023-06-02T23:09:43.306960Z"
    }
   }
  },
  {
   "cell_type": "code",
   "execution_count": 12,
   "outputs": [],
   "source": [
    "# 12 Инициализация моделей и её зависимостей\n",
    "import torch\n",
    "from transformers import AutoTokenizer, AutoModelForSequenceClassification\n",
    "\n",
    "model_checkpoint = 'cointegrated/rubert-tiny-sentiment-balanced'\n",
    "tokenizer = AutoTokenizer.from_pretrained(model_checkpoint)\n",
    "model = AutoModelForSequenceClassification.from_pretrained(model_checkpoint)\n",
    "if torch.cuda.is_available():\n",
    "    model.cuda()\n",
    "\n",
    "def get_sentiment(text, return_type='label'):\n",
    "    \"\"\" Calculate sentiment of a text. `return_type` can be 'label', 'score' or 'proba' \"\"\"\n",
    "    with torch.no_grad():\n",
    "        inputs = tokenizer(text, return_tensors='pt', truncation=True, padding=True).to(model.device)\n",
    "        proba = torch.sigmoid(model(**inputs).logits).cpu().numpy()[0]\n",
    "    if return_type == 'label':\n",
    "        return model.config.id2label[proba.argmax()]\n",
    "    elif return_type == 'score':\n",
    "        return proba.dot([-1, 0, 1])\n",
    "    return proba\n",
    "\n"
   ],
   "metadata": {
    "collapsed": false,
    "ExecuteTime": {
     "end_time": "2023-06-02T23:09:51.920490Z",
     "start_time": "2023-06-02T23:09:50.071204Z"
    }
   }
  },
  {
   "cell_type": "code",
   "execution_count": 13,
   "outputs": [
    {
     "name": "stderr",
     "output_type": "stream",
     "text": [
      "100%|██████████| 6836/6836 [00:53<00:00, 128.96it/s]\n"
     ]
    }
   ],
   "source": [
    "# Классификация по сентименту\n",
    "\n",
    "from tqdm import tqdm\n",
    "\n",
    "sent_scores = []\n",
    "sent_labels = []\n",
    "\n",
    "\n",
    "for text in tqdm(cmt_df['cleaned_text']):\n",
    "\n",
    "    # Adding score\n",
    "    label = get_sentiment(text, 'label')\n",
    "    # Adding score\n",
    "    score = get_sentiment(text, 'score')\n",
    "\n",
    "    sent_scores.append(score)\n",
    "    sent_labels.append(label)\n"
   ],
   "metadata": {
    "collapsed": false,
    "ExecuteTime": {
     "end_time": "2023-06-02T23:10:45.498839Z",
     "start_time": "2023-06-02T23:09:52.471664Z"
    }
   }
  },
  {
   "cell_type": "code",
   "execution_count": 23,
   "outputs": [
    {
     "name": "stderr",
     "output_type": "stream",
     "text": [
      "/var/folders/s5/4r_7wwf925g2bnv4060z0x400000gn/T/ipykernel_15605/898512325.py:7: SettingWithCopyWarning: \n",
      "A value is trying to be set on a copy of a slice from a DataFrame.\n",
      "Try using .loc[row_indexer,col_indexer] = value instead\n",
      "\n",
      "See the caveats in the documentation: https://pandas.pydata.org/pandas-docs/stable/user_guide/indexing.html#returning-a-view-versus-a-copy\n",
      "  cmt_df['label'] = sent_labels\n",
      "/var/folders/s5/4r_7wwf925g2bnv4060z0x400000gn/T/ipykernel_15605/898512325.py:8: SettingWithCopyWarning: \n",
      "A value is trying to be set on a copy of a slice from a DataFrame.\n",
      "Try using .loc[row_indexer,col_indexer] = value instead\n",
      "\n",
      "See the caveats in the documentation: https://pandas.pydata.org/pandas-docs/stable/user_guide/indexing.html#returning-a-view-versus-a-copy\n",
      "  cmt_df['score'] = sent_scores\n"
     ]
    },
    {
     "data": {
      "text/plain": "                       kind                         etag   \n0     youtube#commentThread  lqN0Zzupy-0f_AAASt7gKLOZalc  \\\n1     youtube#commentThread  FSr6OFvRbevOro7VVmOb-ANmVF0   \n2     youtube#commentThread  ycRzG8zBi19WCF6USiBGOR_9l5w   \n3     youtube#commentThread  6XEm3qL2GdKiNxA2Lkmnrnb4P3I   \n4     youtube#commentThread  JR1nxqvPS4CNLG9TN9ndWcN3t_A   \n...                     ...                          ...   \n6831        youtube#comment  xS3P57mbgth2gH5i880K8yahTJ8   \n6832        youtube#comment  9m59SN263tMeHLpIRq2oYneXWLE   \n6833        youtube#comment  Y1uTlzueYFXyzYF3EwvGzZXy6lM   \n6834        youtube#comment  7ywfqO3KVdXzRwtW17DttCLbbNg   \n6835        youtube#comment  anpf5vSblsG_IOu6NOwwuB7NoB4   \n\n                                                     id snippet.videoId   \n0                            Ugz57x-YZSYddlWifIt4AaABAg     vzdPoXX2UBM  \\\n1                            Ugzqfh0Visn0OYf_EZN4AaABAg     vzdPoXX2UBM   \n2                            UgxAyZkv4V1m1sm-aUt4AaABAg     vzdPoXX2UBM   \n3                            Ugz2C__gg0nt3MuuZXZ4AaABAg     vzdPoXX2UBM   \n4                            Ugx7wn9TGfLnjUweill4AaABAg     vzdPoXX2UBM   \n...                                                 ...             ...   \n6831  UgyyAVRq5tzV5Sft8Eh4AaABAg.9qK84NHl_3M9qKAQ2uusLy     KDhOg88LRxE   \n6832  UgyyAVRq5tzV5Sft8Eh4AaABAg.9qK84NHl_3M9qKA-AK7mFh     KDhOg88LRxE   \n6833  UgyyAVRq5tzV5Sft8Eh4AaABAg.9qK84NHl_3M9qK9mo_XP32     KDhOg88LRxE   \n6834  Ugw_CW1RnR68GyuxVEl4AaABAg.9kGNFIgGa7Z9neWC1UOb8l     BFcjeM3V3dc   \n6835  Ugw_CW1RnR68GyuxVEl4AaABAg.9kGNFIgGa7Z9n6ix9jDbOi     BFcjeM3V3dc   \n\n                                    snippet.textDisplay   \n0     До Хян! Спасибо большое за новое видео 🫶🏻 обож...  \\\n1     Бо Хян онни❤на озоне продавали товары от вас-B...   \n2     Классные средства! В вашем магазине на Озон бу...   \n3     А можно будет сделать обзор про средства для п...   \n4     Спасибо! Очень полезная информация, особенно п...   \n...                                                 ...   \n6831  Мне вообще показалось что Миша далеко не всем ...   \n6832  Мне показалось, что жирновато выглядит на этом...   \n6833  Тоже вот подобное помню из старых видео...у ме...   \n6834  ❤❤❤❤❤❤ Маша ты красивая зделаешь сборник касме...   \n6835                              ❤ вау вау ты крутая ❤   \n\n                                   snippet.textOriginal   \n0     До Хян! Спасибо большое за новое видео 🫶🏻 обож...  \\\n1     Бо Хян онни❤на озоне продавали товары от вас-B...   \n2     Классные средства! В вашем магазине на Озон бу...   \n3     А можно будет сделать обзор про средства для п...   \n4     Спасибо! Очень полезная информация, особенно п...   \n...                                                 ...   \n6831  Мне вообще показалось что Миша далеко не всем ...   \n6832  Мне показалось, что жирновато выглядит на этом...   \n6833  Тоже вот подобное помню из старых видео...у ме...   \n6834  ❤❤❤❤❤❤ Маша ты красивая зделаешь сборник касме...   \n6835                              ❤ вау вау ты крутая ❤   \n\n     snippet.authorDisplayName   \n0                    Alex Yost  \\\n1                   Aska Yuska   \n2                Ирина Крылова   \n3                       Olga M   \n4                       Olga M   \n...                        ...   \n6831               mocco locco   \n6832                     Stacy   \n6833           Yana Evstifeeva   \n6834        Rustam Abdukarimov   \n6835                   Nothenz   \n\n                          snippet.authorProfileImageUrl   \n0     https://yt3.ggpht.com/ytc/AGIKgqNjg7gvFa7b6j1c...  \\\n1     https://yt3.ggpht.com/ytc/AGIKgqNbP5fGCsLeQA3b...   \n2     https://yt3.ggpht.com/ytc/AGIKgqP2ASGZlu-D33_F...   \n3     https://yt3.ggpht.com/ytc/AGIKgqPJ5KmbaRTSJwLo...   \n4     https://yt3.ggpht.com/ytc/AGIKgqPJ5KmbaRTSJwLo...   \n...                                                 ...   \n6831  https://yt3.ggpht.com/ytc/AGIKgqNvwyagHDeSqb7_...   \n6832  https://yt3.ggpht.com/ytc/AGIKgqNYYf3wYLXdLxe2...   \n6833  https://yt3.ggpht.com/ytc/AGIKgqNJOoEG7Gdo7h4V...   \n6834  https://yt3.ggpht.com/ytc/AGIKgqPx-S4l1k_st73k...   \n6835  https://yt3.ggpht.com/peYc8fdwLKTNRJBWVCxW-C08...   \n\n                               snippet.authorChannelUrl   \n0     http://www.youtube.com/channel/UCTaEjHhPIMJXRN...  \\\n1     http://www.youtube.com/channel/UCIKYk4-5rFZs3r...   \n2     http://www.youtube.com/channel/UC1yEbLPPcFEZX6...   \n3     http://www.youtube.com/channel/UCURgXlOeRejxcY...   \n4     http://www.youtube.com/channel/UCURgXlOeRejxcY...   \n...                                                 ...   \n6831  http://www.youtube.com/channel/UCADLBK7x0Ecelq...   \n6832  http://www.youtube.com/channel/UCqKn84x_Bc51na...   \n6833  http://www.youtube.com/channel/UCQCEsswPyZXCtX...   \n6834  http://www.youtube.com/channel/UCBG3_1W67sbLVu...   \n6835  http://www.youtube.com/channel/UCbLGHAxjwHVs_n...   \n\n     snippet.authorChannelId.value  ...  snippet.moderationStatus   \n0         UCTaEjHhPIMJXRNzqcx54jtg  ...                       NaN  \\\n1         UCIKYk4-5rFZs3ry8zgJesHA  ...                       NaN   \n2         UC1yEbLPPcFEZX6RRuWwjp4g  ...                       NaN   \n3         UCURgXlOeRejxcYKwZU-vz7w  ...                       NaN   \n4         UCURgXlOeRejxcYKwZU-vz7w  ...                       NaN   \n...                            ...  ...                       ...   \n6831      UCADLBK7x0EcelqRWng9ELZg  ...                       NaN   \n6832      UCqKn84x_Bc51naCD5v95aGw  ...                       NaN   \n6833      UCQCEsswPyZXCtXWGvOCwn0g  ...                       NaN   \n6834      UCBG3_1W67sbLVuUseCqL7Lw  ...                       NaN   \n6835      UCbLGHAxjwHVs_nnkOwgfhmA  ...                       NaN   \n\n     real_comments_cnt            snippet.parentId   \n0                  0.0                          -1  \\\n1                  0.0                          -1   \n2                  0.0                          -1   \n3                  0.0                          -1   \n4                  0.0                          -1   \n...                ...                         ...   \n6831               NaN  UgyyAVRq5tzV5Sft8Eh4AaABAg   \n6832               NaN  UgyyAVRq5tzV5Sft8Eh4AaABAg   \n6833               NaN  UgyyAVRq5tzV5Sft8Eh4AaABAg   \n6834               NaN  Ugw_CW1RnR68GyuxVEl4AaABAg   \n6835               NaN  Ugw_CW1RnR68GyuxVEl4AaABAg   \n\n                                           cleaned_text   \n0     До Хян! Спасибо большое за новое видео 🫶🏻 обож...  \\\n1     Бо Хян онни❤на озоне продавали товары от вас-B...   \n2     Классные средства! В вашем магазине на Озон бу...   \n3     А можно будет сделать обзор про средства для п...   \n4     Спасибо! Очень полезная информация, особенно п...   \n...                                                 ...   \n6831  Мне вообще показалось что Миша далеко не всем ...   \n6832  Мне показалось, что жирновато выглядит на этом...   \n6833  Тоже вот подобное помню из старых видео...у ме...   \n6834  ❤❤❤❤❤❤ Маша ты красивая зделаешь сборник касме...   \n6835                              ❤ вау вау ты крутая ❤   \n\n                                        lemmatized_text  lem_word_count   \n0     хян спасибо большой новый видео обожать просто...              50  \\\n1     бо хян онни озон продавать товар bonya s pouch...              26   \n2     классный средство ваш магазин озон новинка mix...               7   \n3     сделать обзор средство проблема мешок глаз тем...              15   \n4     спасибо очень полезный информация особенно кре...               9   \n...                                                 ...             ...   \n6831          вообще показываться миша далеко подходить               5   \n6832        показываться жирноватый выглядеть это видео               5   \n6833  подобный помнить старый видео комбинировать ск...              30   \n6834          маша красивый зделывать сборник касметика               5   \n6835                                     вау вау крутой               3   \n\n      lem_sym_count     label     score    origin  \n0               385  negative -0.102212    Европа  \n1               184  negative -0.963522    Европа  \n2                50  positive  0.862316    Европа  \n3               110   neutral -0.250969    Европа  \n4                66   neutral  0.357816    Европа  \n...             ...       ...       ...       ...  \n6831             41  negative -0.875127  Контроль  \n6832             43   neutral -0.083332  Контроль  \n6833            228  negative -0.658535  Контроль  \n6834             41   neutral  0.233378  Контроль  \n6835             14  positive  0.883776  Контроль  \n\n[6836 rows x 29 columns]",
      "text/html": "<div>\n<style scoped>\n    .dataframe tbody tr th:only-of-type {\n        vertical-align: middle;\n    }\n\n    .dataframe tbody tr th {\n        vertical-align: top;\n    }\n\n    .dataframe thead th {\n        text-align: right;\n    }\n</style>\n<table border=\"1\" class=\"dataframe\">\n  <thead>\n    <tr style=\"text-align: right;\">\n      <th></th>\n      <th>kind</th>\n      <th>etag</th>\n      <th>id</th>\n      <th>snippet.videoId</th>\n      <th>snippet.textDisplay</th>\n      <th>snippet.textOriginal</th>\n      <th>snippet.authorDisplayName</th>\n      <th>snippet.authorProfileImageUrl</th>\n      <th>snippet.authorChannelUrl</th>\n      <th>snippet.authorChannelId.value</th>\n      <th>...</th>\n      <th>snippet.moderationStatus</th>\n      <th>real_comments_cnt</th>\n      <th>snippet.parentId</th>\n      <th>cleaned_text</th>\n      <th>lemmatized_text</th>\n      <th>lem_word_count</th>\n      <th>lem_sym_count</th>\n      <th>label</th>\n      <th>score</th>\n      <th>origin</th>\n    </tr>\n  </thead>\n  <tbody>\n    <tr>\n      <th>0</th>\n      <td>youtube#commentThread</td>\n      <td>lqN0Zzupy-0f_AAASt7gKLOZalc</td>\n      <td>Ugz57x-YZSYddlWifIt4AaABAg</td>\n      <td>vzdPoXX2UBM</td>\n      <td>До Хян! Спасибо большое за новое видео 🫶🏻 обож...</td>\n      <td>До Хян! Спасибо большое за новое видео 🫶🏻 обож...</td>\n      <td>Alex Yost</td>\n      <td>https://yt3.ggpht.com/ytc/AGIKgqNjg7gvFa7b6j1c...</td>\n      <td>http://www.youtube.com/channel/UCTaEjHhPIMJXRN...</td>\n      <td>UCTaEjHhPIMJXRNzqcx54jtg</td>\n      <td>...</td>\n      <td>NaN</td>\n      <td>0.0</td>\n      <td>-1</td>\n      <td>До Хян! Спасибо большое за новое видео 🫶🏻 обож...</td>\n      <td>хян спасибо большой новый видео обожать просто...</td>\n      <td>50</td>\n      <td>385</td>\n      <td>negative</td>\n      <td>-0.102212</td>\n      <td>Европа</td>\n    </tr>\n    <tr>\n      <th>1</th>\n      <td>youtube#commentThread</td>\n      <td>FSr6OFvRbevOro7VVmOb-ANmVF0</td>\n      <td>Ugzqfh0Visn0OYf_EZN4AaABAg</td>\n      <td>vzdPoXX2UBM</td>\n      <td>Бо Хян онни❤на озоне продавали товары от вас-B...</td>\n      <td>Бо Хян онни❤на озоне продавали товары от вас-B...</td>\n      <td>Aska Yuska</td>\n      <td>https://yt3.ggpht.com/ytc/AGIKgqNbP5fGCsLeQA3b...</td>\n      <td>http://www.youtube.com/channel/UCIKYk4-5rFZs3r...</td>\n      <td>UCIKYk4-5rFZs3ry8zgJesHA</td>\n      <td>...</td>\n      <td>NaN</td>\n      <td>0.0</td>\n      <td>-1</td>\n      <td>Бо Хян онни❤на озоне продавали товары от вас-B...</td>\n      <td>бо хян онни озон продавать товар bonya s pouch...</td>\n      <td>26</td>\n      <td>184</td>\n      <td>negative</td>\n      <td>-0.963522</td>\n      <td>Европа</td>\n    </tr>\n    <tr>\n      <th>2</th>\n      <td>youtube#commentThread</td>\n      <td>ycRzG8zBi19WCF6USiBGOR_9l5w</td>\n      <td>UgxAyZkv4V1m1sm-aUt4AaABAg</td>\n      <td>vzdPoXX2UBM</td>\n      <td>Классные средства! В вашем магазине на Озон бу...</td>\n      <td>Классные средства! В вашем магазине на Озон бу...</td>\n      <td>Ирина Крылова</td>\n      <td>https://yt3.ggpht.com/ytc/AGIKgqP2ASGZlu-D33_F...</td>\n      <td>http://www.youtube.com/channel/UC1yEbLPPcFEZX6...</td>\n      <td>UC1yEbLPPcFEZX6RRuWwjp4g</td>\n      <td>...</td>\n      <td>NaN</td>\n      <td>0.0</td>\n      <td>-1</td>\n      <td>Классные средства! В вашем магазине на Озон бу...</td>\n      <td>классный средство ваш магазин озон новинка mix...</td>\n      <td>7</td>\n      <td>50</td>\n      <td>positive</td>\n      <td>0.862316</td>\n      <td>Европа</td>\n    </tr>\n    <tr>\n      <th>3</th>\n      <td>youtube#commentThread</td>\n      <td>6XEm3qL2GdKiNxA2Lkmnrnb4P3I</td>\n      <td>Ugz2C__gg0nt3MuuZXZ4AaABAg</td>\n      <td>vzdPoXX2UBM</td>\n      <td>А можно будет сделать обзор про средства для п...</td>\n      <td>А можно будет сделать обзор про средства для п...</td>\n      <td>Olga M</td>\n      <td>https://yt3.ggpht.com/ytc/AGIKgqPJ5KmbaRTSJwLo...</td>\n      <td>http://www.youtube.com/channel/UCURgXlOeRejxcY...</td>\n      <td>UCURgXlOeRejxcYKwZU-vz7w</td>\n      <td>...</td>\n      <td>NaN</td>\n      <td>0.0</td>\n      <td>-1</td>\n      <td>А можно будет сделать обзор про средства для п...</td>\n      <td>сделать обзор средство проблема мешок глаз тем...</td>\n      <td>15</td>\n      <td>110</td>\n      <td>neutral</td>\n      <td>-0.250969</td>\n      <td>Европа</td>\n    </tr>\n    <tr>\n      <th>4</th>\n      <td>youtube#commentThread</td>\n      <td>JR1nxqvPS4CNLG9TN9ndWcN3t_A</td>\n      <td>Ugx7wn9TGfLnjUweill4AaABAg</td>\n      <td>vzdPoXX2UBM</td>\n      <td>Спасибо! Очень полезная информация, особенно п...</td>\n      <td>Спасибо! Очень полезная информация, особенно п...</td>\n      <td>Olga M</td>\n      <td>https://yt3.ggpht.com/ytc/AGIKgqPJ5KmbaRTSJwLo...</td>\n      <td>http://www.youtube.com/channel/UCURgXlOeRejxcY...</td>\n      <td>UCURgXlOeRejxcYKwZU-vz7w</td>\n      <td>...</td>\n      <td>NaN</td>\n      <td>0.0</td>\n      <td>-1</td>\n      <td>Спасибо! Очень полезная информация, особенно п...</td>\n      <td>спасибо очень полезный информация особенно кре...</td>\n      <td>9</td>\n      <td>66</td>\n      <td>neutral</td>\n      <td>0.357816</td>\n      <td>Европа</td>\n    </tr>\n    <tr>\n      <th>...</th>\n      <td>...</td>\n      <td>...</td>\n      <td>...</td>\n      <td>...</td>\n      <td>...</td>\n      <td>...</td>\n      <td>...</td>\n      <td>...</td>\n      <td>...</td>\n      <td>...</td>\n      <td>...</td>\n      <td>...</td>\n      <td>...</td>\n      <td>...</td>\n      <td>...</td>\n      <td>...</td>\n      <td>...</td>\n      <td>...</td>\n      <td>...</td>\n      <td>...</td>\n      <td>...</td>\n    </tr>\n    <tr>\n      <th>6831</th>\n      <td>youtube#comment</td>\n      <td>xS3P57mbgth2gH5i880K8yahTJ8</td>\n      <td>UgyyAVRq5tzV5Sft8Eh4AaABAg.9qK84NHl_3M9qKAQ2uusLy</td>\n      <td>KDhOg88LRxE</td>\n      <td>Мне вообще показалось что Миша далеко не всем ...</td>\n      <td>Мне вообще показалось что Миша далеко не всем ...</td>\n      <td>mocco locco</td>\n      <td>https://yt3.ggpht.com/ytc/AGIKgqNvwyagHDeSqb7_...</td>\n      <td>http://www.youtube.com/channel/UCADLBK7x0Ecelq...</td>\n      <td>UCADLBK7x0EcelqRWng9ELZg</td>\n      <td>...</td>\n      <td>NaN</td>\n      <td>NaN</td>\n      <td>UgyyAVRq5tzV5Sft8Eh4AaABAg</td>\n      <td>Мне вообще показалось что Миша далеко не всем ...</td>\n      <td>вообще показываться миша далеко подходить</td>\n      <td>5</td>\n      <td>41</td>\n      <td>negative</td>\n      <td>-0.875127</td>\n      <td>Контроль</td>\n    </tr>\n    <tr>\n      <th>6832</th>\n      <td>youtube#comment</td>\n      <td>9m59SN263tMeHLpIRq2oYneXWLE</td>\n      <td>UgyyAVRq5tzV5Sft8Eh4AaABAg.9qK84NHl_3M9qKA-AK7mFh</td>\n      <td>KDhOg88LRxE</td>\n      <td>Мне показалось, что жирновато выглядит на этом...</td>\n      <td>Мне показалось, что жирновато выглядит на этом...</td>\n      <td>Stacy</td>\n      <td>https://yt3.ggpht.com/ytc/AGIKgqNYYf3wYLXdLxe2...</td>\n      <td>http://www.youtube.com/channel/UCqKn84x_Bc51na...</td>\n      <td>UCqKn84x_Bc51naCD5v95aGw</td>\n      <td>...</td>\n      <td>NaN</td>\n      <td>NaN</td>\n      <td>UgyyAVRq5tzV5Sft8Eh4AaABAg</td>\n      <td>Мне показалось, что жирновато выглядит на этом...</td>\n      <td>показываться жирноватый выглядеть это видео</td>\n      <td>5</td>\n      <td>43</td>\n      <td>neutral</td>\n      <td>-0.083332</td>\n      <td>Контроль</td>\n    </tr>\n    <tr>\n      <th>6833</th>\n      <td>youtube#comment</td>\n      <td>Y1uTlzueYFXyzYF3EwvGzZXy6lM</td>\n      <td>UgyyAVRq5tzV5Sft8Eh4AaABAg.9qK84NHl_3M9qK9mo_XP32</td>\n      <td>KDhOg88LRxE</td>\n      <td>Тоже вот подобное помню из старых видео...у ме...</td>\n      <td>Тоже вот подобное помню из старых видео...у ме...</td>\n      <td>Yana Evstifeeva</td>\n      <td>https://yt3.ggpht.com/ytc/AGIKgqNJOoEG7Gdo7h4V...</td>\n      <td>http://www.youtube.com/channel/UCQCEsswPyZXCtX...</td>\n      <td>UCQCEsswPyZXCtXWGvOCwn0g</td>\n      <td>...</td>\n      <td>NaN</td>\n      <td>NaN</td>\n      <td>UgyyAVRq5tzV5Sft8Eh4AaABAg</td>\n      <td>Тоже вот подобное помню из старых видео...у ме...</td>\n      <td>подобный помнить старый видео комбинировать ск...</td>\n      <td>30</td>\n      <td>228</td>\n      <td>negative</td>\n      <td>-0.658535</td>\n      <td>Контроль</td>\n    </tr>\n    <tr>\n      <th>6834</th>\n      <td>youtube#comment</td>\n      <td>7ywfqO3KVdXzRwtW17DttCLbbNg</td>\n      <td>Ugw_CW1RnR68GyuxVEl4AaABAg.9kGNFIgGa7Z9neWC1UOb8l</td>\n      <td>BFcjeM3V3dc</td>\n      <td>❤❤❤❤❤❤ Маша ты красивая зделаешь сборник касме...</td>\n      <td>❤❤❤❤❤❤ Маша ты красивая зделаешь сборник касме...</td>\n      <td>Rustam Abdukarimov</td>\n      <td>https://yt3.ggpht.com/ytc/AGIKgqPx-S4l1k_st73k...</td>\n      <td>http://www.youtube.com/channel/UCBG3_1W67sbLVu...</td>\n      <td>UCBG3_1W67sbLVuUseCqL7Lw</td>\n      <td>...</td>\n      <td>NaN</td>\n      <td>NaN</td>\n      <td>Ugw_CW1RnR68GyuxVEl4AaABAg</td>\n      <td>❤❤❤❤❤❤ Маша ты красивая зделаешь сборник касме...</td>\n      <td>маша красивый зделывать сборник касметика</td>\n      <td>5</td>\n      <td>41</td>\n      <td>neutral</td>\n      <td>0.233378</td>\n      <td>Контроль</td>\n    </tr>\n    <tr>\n      <th>6835</th>\n      <td>youtube#comment</td>\n      <td>anpf5vSblsG_IOu6NOwwuB7NoB4</td>\n      <td>Ugw_CW1RnR68GyuxVEl4AaABAg.9kGNFIgGa7Z9n6ix9jDbOi</td>\n      <td>BFcjeM3V3dc</td>\n      <td>❤ вау вау ты крутая ❤</td>\n      <td>❤ вау вау ты крутая ❤</td>\n      <td>Nothenz</td>\n      <td>https://yt3.ggpht.com/peYc8fdwLKTNRJBWVCxW-C08...</td>\n      <td>http://www.youtube.com/channel/UCbLGHAxjwHVs_n...</td>\n      <td>UCbLGHAxjwHVs_nnkOwgfhmA</td>\n      <td>...</td>\n      <td>NaN</td>\n      <td>NaN</td>\n      <td>Ugw_CW1RnR68GyuxVEl4AaABAg</td>\n      <td>❤ вау вау ты крутая ❤</td>\n      <td>вау вау крутой</td>\n      <td>3</td>\n      <td>14</td>\n      <td>positive</td>\n      <td>0.883776</td>\n      <td>Контроль</td>\n    </tr>\n  </tbody>\n</table>\n<p>6836 rows × 29 columns</p>\n</div>"
     },
     "execution_count": 23,
     "metadata": {},
     "output_type": "execute_result"
    }
   ],
   "source": [
    "# 13 Маппинг всего и сразу\n",
    "\n",
    "mapper_df =  video_df[['id', 'origin']].copy().drop_duplicates()\n",
    "\n",
    "mapper_df = mapper_df.rename(columns={'id':'snippet.videoId'})\n",
    "\n",
    "cmt_df['label'] = sent_labels\n",
    "cmt_df['score'] = sent_scores\n",
    "\n",
    "cmt_df = cmt_df.merge(mapper_df, how='left', left_on='snippet.videoId', right_on='snippet.videoId')\n",
    "\n",
    "cmt_df"
   ],
   "metadata": {
    "collapsed": false,
    "ExecuteTime": {
     "end_time": "2023-06-02T23:22:23.316060Z",
     "start_time": "2023-06-02T23:22:23.278603Z"
    }
   }
  },
  {
   "cell_type": "code",
   "execution_count": 24,
   "outputs": [
    {
     "data": {
      "text/plain": "origin             Европа     Контроль        Корея\ncount  score  2054.000000  2142.000000  2640.000000\nmean   score     0.077952     0.053981     0.005008\nmedian score     0.064647     0.033975    -0.046326\nvar    score     0.345066     0.354517     0.352750",
      "text/html": "<div>\n<style scoped>\n    .dataframe tbody tr th:only-of-type {\n        vertical-align: middle;\n    }\n\n    .dataframe tbody tr th {\n        vertical-align: top;\n    }\n\n    .dataframe thead th {\n        text-align: right;\n    }\n</style>\n<table border=\"1\" class=\"dataframe\">\n  <thead>\n    <tr style=\"text-align: right;\">\n      <th></th>\n      <th>origin</th>\n      <th>Европа</th>\n      <th>Контроль</th>\n      <th>Корея</th>\n    </tr>\n  </thead>\n  <tbody>\n    <tr>\n      <th>count</th>\n      <th>score</th>\n      <td>2054.000000</td>\n      <td>2142.000000</td>\n      <td>2640.000000</td>\n    </tr>\n    <tr>\n      <th>mean</th>\n      <th>score</th>\n      <td>0.077952</td>\n      <td>0.053981</td>\n      <td>0.005008</td>\n    </tr>\n    <tr>\n      <th>median</th>\n      <th>score</th>\n      <td>0.064647</td>\n      <td>0.033975</td>\n      <td>-0.046326</td>\n    </tr>\n    <tr>\n      <th>var</th>\n      <th>score</th>\n      <td>0.345066</td>\n      <td>0.354517</td>\n      <td>0.352750</td>\n    </tr>\n  </tbody>\n</table>\n</div>"
     },
     "execution_count": 24,
     "metadata": {},
     "output_type": "execute_result"
    }
   ],
   "source": [
    "# 14 Cравнение средних в пивоте\n",
    "\n",
    "cmt_df.pivot_table(index=['origin'], values=['score'], aggfunc=['count', np.mean, np.median, np.var]).T"
   ],
   "metadata": {
    "collapsed": false,
    "ExecuteTime": {
     "end_time": "2023-06-02T23:22:27.005740Z",
     "start_time": "2023-06-02T23:22:26.962572Z"
    }
   }
  },
  {
   "cell_type": "markdown",
   "source": [
    "### Гипотезы\n",
    "\n",
    "Разновидность\n",
    "\n",
    "H0: $μ1 = μ2$ (population mean of Group A is equal to Group B)\n",
    "H1: $μ1 \\neq μ2$ (population mean of Group A is different from Group B)"
   ],
   "metadata": {
    "collapsed": false
   }
  },
  {
   "cell_type": "code",
   "execution_count": 25,
   "outputs": [
    {
     "name": "stdout",
     "output_type": "stream",
     "text": [
      "Total Samples: 1750 Group 1 mean: 0.03735124403291515\n",
      "Total Samples: 1537 Group 2 mean: 0.11283258239756215\n",
      "Statistics -3.6497196017645646\n",
      "P-Value True\n"
     ]
    }
   ],
   "source": [
    "# 15 Cравнение средних и T-test\n",
    "\n",
    "import scipy.stats as stats\n",
    "\n",
    "group_1 = cmt_df[(cmt_df['origin'] == 'Корея') & (cmt_df['snippet.parentId'] == -1) ]['score']\n",
    "group_2 = cmt_df[(cmt_df['origin'] == 'Европа') & (cmt_df['snippet.parentId'] == -1) ]['score']\n",
    "\n",
    "# Perform the two sample t-test with equal variances\n",
    "test_res = stats.ttest_ind(a=group_1, b=group_2, equal_var=False)\n",
    "\n",
    "print('Total Samples:', len(group_1), 'Group 1 mean:', group_1.mean())\n",
    "print('Total Samples:', len(group_2), 'Group 2 mean:', group_2.mean())\n",
    "print('Statistics', test_res.statistic)\n",
    "print('P-Value', test_res.pvalue < .01)"
   ],
   "metadata": {
    "collapsed": false,
    "ExecuteTime": {
     "end_time": "2023-06-02T23:22:28.851808Z",
     "start_time": "2023-06-02T23:22:28.817328Z"
    }
   }
  },
  {
   "cell_type": "markdown",
   "source": [
    "### Интерпретация\n",
    "\n",
    "**T-test на равенство средних, показа что средний сентимент скор для Европы выше, чем для Кореи на статистически значимом уровне.**\n",
    "\n",
    "Это могло произойти по следующим причинам:\n",
    "\n",
    "- Выборка видео не репрезентативна, поскольку взято достаточно малое количество Видео для группы A и для группы B -> малое число степеней свободы для видео\n",
    "- Блогер может переносить свою личность на восприятие косметики\n",
    "- Модель отрабатывает хуже в данном кейсе и нуждается в дополнительной подстройке\n",
    "\n",
    "**Содержательные выводы и направления дальнейших исследований**\n",
    "\n",
    "1. ***Содержательная гипотеза опровергнута***\n",
    "2. Видео с европейской в имеющейся выборке воспринимается более позитивно, чем с корейской судя по родительским комментариям\n",
    "3. Для исключения фактора влияния блогера следует взять разные видео от одного и того же блогера, чтобы нивелировать влияние фактора его личности\n",
    "4. Стоит попробовать альтернативные модели машинного обучения и выявить средние также по ним\n",
    "5. Стоит попробовать протестировать на отзывах на маркетплейсах, тогда будет только фактор площадки (цены, впечатления от сервиса и доставки)"
   ],
   "metadata": {
    "collapsed": false
   }
  },
  {
   "cell_type": "markdown",
   "source": [
    "## <a id=\"topics\">Этап 3. Тематическое моделирование</a>\n",
    "\n",
    "Для задачи тематического моделирования мы будем применять метод LDA (Latent Dirichlet Analysis) из модуля `gensim`"
   ],
   "metadata": {
    "collapsed": false
   }
  },
  {
   "cell_type": "code",
   "execution_count": 26,
   "outputs": [
    {
     "name": "stdout",
     "output_type": "stream",
     "text": [
      "huggingface/tokenizers: The current process just got forked, after parallelism has already been used. Disabling parallelism to avoid deadlocks...\n",
      "To disable this warning, you can either:\n",
      "\t- Avoid using `tokenizers` before the fork if possible\n",
      "\t- Explicitly set the environment variable TOKENIZERS_PARALLELISM=(true | false)\n",
      "Requirement already satisfied: gensim in /Users/andrey/PycharmProjects/DataMiningProjects/.venv/lib/python3.10/site-packages (4.3.1)\r\n",
      "Requirement already satisfied: numpy>=1.18.5 in /Users/andrey/PycharmProjects/DataMiningProjects/.venv/lib/python3.10/site-packages (from gensim) (1.24.3)\r\n",
      "Requirement already satisfied: scipy>=1.7.0 in /Users/andrey/PycharmProjects/DataMiningProjects/.venv/lib/python3.10/site-packages (from gensim) (1.9.3)\r\n",
      "Requirement already satisfied: smart-open>=1.8.1 in /Users/andrey/PycharmProjects/DataMiningProjects/.venv/lib/python3.10/site-packages (from gensim) (6.3.0)\r\n",
      "\r\n",
      "\u001B[1m[\u001B[0m\u001B[34;49mnotice\u001B[0m\u001B[1;39;49m]\u001B[0m\u001B[39;49m A new release of pip is available: \u001B[0m\u001B[31;49m23.1\u001B[0m\u001B[39;49m -> \u001B[0m\u001B[32;49m23.1.2\u001B[0m\r\n",
      "\u001B[1m[\u001B[0m\u001B[34;49mnotice\u001B[0m\u001B[1;39;49m]\u001B[0m\u001B[39;49m To update, run: \u001B[0m\u001B[32;49mpip install --upgrade pip\u001B[0m\r\n",
      "huggingface/tokenizers: The current process just got forked, after parallelism has already been used. Disabling parallelism to avoid deadlocks...\n",
      "To disable this warning, you can either:\n",
      "\t- Avoid using `tokenizers` before the fork if possible\n",
      "\t- Explicitly set the environment variable TOKENIZERS_PARALLELISM=(true | false)\n",
      "Requirement already satisfied: pyLDAvis in /Users/andrey/PycharmProjects/DataMiningProjects/.venv/lib/python3.10/site-packages (3.4.1)\r\n",
      "Requirement already satisfied: numpy>=1.24.2 in /Users/andrey/PycharmProjects/DataMiningProjects/.venv/lib/python3.10/site-packages (from pyLDAvis) (1.24.3)\r\n",
      "Requirement already satisfied: scipy in /Users/andrey/PycharmProjects/DataMiningProjects/.venv/lib/python3.10/site-packages (from pyLDAvis) (1.9.3)\r\n",
      "Requirement already satisfied: pandas>=2.0.0 in /Users/andrey/PycharmProjects/DataMiningProjects/.venv/lib/python3.10/site-packages (from pyLDAvis) (2.0.1)\r\n",
      "Requirement already satisfied: joblib>=1.2.0 in /Users/andrey/PycharmProjects/DataMiningProjects/.venv/lib/python3.10/site-packages (from pyLDAvis) (1.2.0)\r\n",
      "Requirement already satisfied: jinja2 in /Users/andrey/PycharmProjects/DataMiningProjects/.venv/lib/python3.10/site-packages (from pyLDAvis) (3.1.2)\r\n",
      "Requirement already satisfied: numexpr in /Users/andrey/PycharmProjects/DataMiningProjects/.venv/lib/python3.10/site-packages (from pyLDAvis) (2.8.4)\r\n",
      "Requirement already satisfied: funcy in /Users/andrey/PycharmProjects/DataMiningProjects/.venv/lib/python3.10/site-packages (from pyLDAvis) (2.0)\r\n",
      "Requirement already satisfied: scikit-learn>=1.0.0 in /Users/andrey/PycharmProjects/DataMiningProjects/.venv/lib/python3.10/site-packages (from pyLDAvis) (1.2.1)\r\n",
      "Requirement already satisfied: gensim in /Users/andrey/PycharmProjects/DataMiningProjects/.venv/lib/python3.10/site-packages (from pyLDAvis) (4.3.1)\r\n",
      "Requirement already satisfied: setuptools in /Users/andrey/PycharmProjects/DataMiningProjects/.venv/lib/python3.10/site-packages (from pyLDAvis) (67.6.0)\r\n",
      "Requirement already satisfied: python-dateutil>=2.8.2 in /Users/andrey/PycharmProjects/DataMiningProjects/.venv/lib/python3.10/site-packages (from pandas>=2.0.0->pyLDAvis) (2.8.2)\r\n",
      "Requirement already satisfied: pytz>=2020.1 in /Users/andrey/PycharmProjects/DataMiningProjects/.venv/lib/python3.10/site-packages (from pandas>=2.0.0->pyLDAvis) (2022.7.1)\r\n",
      "Requirement already satisfied: tzdata>=2022.1 in /Users/andrey/PycharmProjects/DataMiningProjects/.venv/lib/python3.10/site-packages (from pandas>=2.0.0->pyLDAvis) (2023.3)\r\n",
      "Requirement already satisfied: threadpoolctl>=2.0.0 in /Users/andrey/PycharmProjects/DataMiningProjects/.venv/lib/python3.10/site-packages (from scikit-learn>=1.0.0->pyLDAvis) (3.1.0)\r\n",
      "Requirement already satisfied: smart-open>=1.8.1 in /Users/andrey/PycharmProjects/DataMiningProjects/.venv/lib/python3.10/site-packages (from gensim->pyLDAvis) (6.3.0)\r\n",
      "Requirement already satisfied: MarkupSafe>=2.0 in /Users/andrey/PycharmProjects/DataMiningProjects/.venv/lib/python3.10/site-packages (from jinja2->pyLDAvis) (2.1.2)\r\n",
      "Requirement already satisfied: six>=1.5 in /Users/andrey/PycharmProjects/DataMiningProjects/.venv/lib/python3.10/site-packages (from python-dateutil>=2.8.2->pandas>=2.0.0->pyLDAvis) (1.16.0)\r\n",
      "\r\n",
      "\u001B[1m[\u001B[0m\u001B[34;49mnotice\u001B[0m\u001B[1;39;49m]\u001B[0m\u001B[39;49m A new release of pip is available: \u001B[0m\u001B[31;49m23.1\u001B[0m\u001B[39;49m -> \u001B[0m\u001B[32;49m23.1.2\u001B[0m\r\n",
      "\u001B[1m[\u001B[0m\u001B[34;49mnotice\u001B[0m\u001B[1;39;49m]\u001B[0m\u001B[39;49m To update, run: \u001B[0m\u001B[32;49mpip install --upgrade pip\u001B[0m\r\n"
     ]
    }
   ],
   "source": [
    "!pip install gensim\n",
    "!pip install pyLDAvis"
   ],
   "metadata": {
    "collapsed": false,
    "ExecuteTime": {
     "end_time": "2023-06-02T23:22:32.013493Z",
     "start_time": "2023-06-02T23:22:29.692943Z"
    }
   }
  },
  {
   "cell_type": "code",
   "execution_count": 27,
   "outputs": [],
   "source": [
    "# 16 Токенизация и формирование корпуса\n",
    "from nltk import word_tokenize\n",
    "\n",
    "all_text = [word_tokenize(line) for line in cmt_df.lemmatized_text.values]\n"
   ],
   "metadata": {
    "collapsed": false,
    "ExecuteTime": {
     "end_time": "2023-06-02T23:22:32.351307Z",
     "start_time": "2023-06-02T23:22:32.087923Z"
    }
   }
  },
  {
   "cell_type": "code",
   "execution_count": 28,
   "outputs": [
    {
     "name": "stdout",
     "output_type": "stream",
     "text": [
      "[[(0, 1), (1, 2), (2, 1), (3, 2), (4, 1), (5, 2), (6, 1), (7, 1), (8, 1), (9, 1), (10, 1), (11, 1), (12, 1), (13, 1), (14, 1), (15, 1), (16, 1), (17, 1), (18, 1), (19, 1), (20, 1), (21, 1), (22, 1), (23, 1), (24, 1), (25, 1), (26, 1), (27, 1), (28, 1), (29, 1), (30, 1), (31, 1), (32, 2), (33, 1), (34, 1), (35, 1), (36, 1), (37, 1), (38, 1), (39, 1), (40, 1), (41, 1), (42, 1), (43, 1), (44, 1), (45, 1)]]\n"
     ]
    }
   ],
   "source": [
    "# 17 Подготовка данных для модели LDA\n",
    "\n",
    "import gensim\n",
    "from gensim.utils import simple_preprocess\n",
    "from gensim.models import CoherenceModel# spaCy for preprocessing\n",
    "import pyLDAvis\n",
    "import pyLDAvis.gensim\n",
    "from gensim import corpora\n",
    "from pprint import pprint\n",
    "\n",
    "\n",
    "# Создание словаря - фактически маппинга токенов\n",
    "id2word = corpora.Dictionary(all_text)\n",
    "\n",
    "# Создание токенов\n",
    "texts = all_text\n",
    "\n",
    "# Матрица документы-частоты\n",
    "corpus = [id2word.doc2bow(text) for text in texts]\n",
    "# View\n",
    "print(corpus[:1])"
   ],
   "metadata": {
    "collapsed": false,
    "ExecuteTime": {
     "end_time": "2023-06-02T23:22:32.437058Z",
     "start_time": "2023-06-02T23:22:32.414231Z"
    }
   }
  },
  {
   "cell_type": "code",
   "execution_count": 29,
   "outputs": [
    {
     "name": "stdout",
     "output_type": "stream",
     "text": [
      "[(0,\n",
      "  '0.033*\"кожа\" + 0.011*\"это\" + 0.011*\"средство\" + 0.009*\"ничто\" + '\n",
      "  '0.009*\"заказывать\" + 0.008*\"день\" + 0.008*\"бренд\" + 0.007*\"разный\" + '\n",
      "  '0.007*\"пользоваться\" + 0.006*\"брать\"'),\n",
      " (1,\n",
      "  '0.023*\"косметика\" + 0.018*\"очень\" + 0.016*\"видео\" + 0.016*\"весь\" + '\n",
      "  '0.013*\"это\" + 0.012*\"мочь\" + 0.012*\"хороший\" + 0.010*\"продукт\" + '\n",
      "  '0.009*\"спасибо\" + 0.008*\"ваш\"'),\n",
      " (2,\n",
      "  '0.032*\"это\" + 0.015*\"человек\" + 0.012*\"просто\" + 0.011*\"свой\" + '\n",
      "  '0.010*\"который\" + 0.010*\"понимать\" + 0.009*\"подходить\" + 0.008*\"консилер\" + '\n",
      "  '0.008*\"знать\" + 0.007*\"комментарий\"')]\n"
     ]
    }
   ],
   "source": [
    "# 18 Обучение моделей\n",
    "\n",
    "lda_model = gensim.models.ldamodel.LdaModel(corpus=corpus,\n",
    "                                           id2word=id2word,\n",
    "                                           num_topics=3,\n",
    "                                           random_state=42,\n",
    "                                           chunksize=100,\n",
    "                                           alpha='auto',\n",
    "                                            eta = 'auto',\n",
    "                                           per_word_topics=True)\n",
    "\n",
    "# Print the keyword of topics\n",
    "pprint(lda_model.print_topics())\n",
    "doc_lda = lda_model[corpus]"
   ],
   "metadata": {
    "collapsed": false,
    "ExecuteTime": {
     "end_time": "2023-06-02T23:22:33.471902Z",
     "start_time": "2023-06-02T23:22:32.439007Z"
    }
   }
  },
  {
   "cell_type": "code",
   "execution_count": 30,
   "outputs": [
    {
     "name": "stdout",
     "output_type": "stream",
     "text": [
      "\n",
      "Perplexity:  -8.28472003184794\n",
      "huggingface/tokenizers: The current process just got forked, after parallelism has already been used. Disabling parallelism to avoid deadlocks...\n",
      "To disable this warning, you can either:\n",
      "\t- Avoid using `tokenizers` before the fork if possible\n",
      "\t- Explicitly set the environment variable TOKENIZERS_PARALLELISM=(true | false)\n",
      "huggingface/tokenizers: The current process just got forked, after parallelism has already been used. Disabling parallelism to avoid deadlocks...\n",
      "To disable this warning, you can either:\n",
      "\t- Avoid using `tokenizers` before the fork if possible\n",
      "\t- Explicitly set the environment variable TOKENIZERS_PARALLELISM=(true | false)\n",
      "huggingface/tokenizers: The current process just got forked, after parallelism has already been used. Disabling parallelism to avoid deadlocks...\n",
      "To disable this warning, you can either:\n",
      "\t- Avoid using `tokenizers` before the fork if possible\n",
      "\t- Explicitly set the environment variable TOKENIZERS_PARALLELISM=(true | false)\n",
      "huggingface/tokenizers: The current process just got forked, after parallelism has already been used. Disabling parallelism to avoid deadlocks...\n",
      "To disable this warning, you can either:\n",
      "\t- Avoid using `tokenizers` before the fork if possible\n",
      "\t- Explicitly set the environment variable TOKENIZERS_PARALLELISM=(true | false)\n",
      "huggingface/tokenizers: The current process just got forked, after parallelism has already been used. Disabling parallelism to avoid deadlocks...\n",
      "To disable this warning, you can either:\n",
      "\t- Avoid using `tokenizers` before the fork if possible\n",
      "\t- Explicitly set the environment variable TOKENIZERS_PARALLELISM=(true | false)\n",
      "huggingface/tokenizers: The current process just got forked, after parallelism has already been used. Disabling parallelism to avoid deadlocks...\n",
      "To disable this warning, you can either:\n",
      "\t- Avoid using `tokenizers` before the fork if possible\n",
      "\t- Explicitly set the environment variable TOKENIZERS_PARALLELISM=(true | false)\n",
      "huggingface/tokenizers: The current process just got forked, after parallelism has already been used. Disabling parallelism to avoid deadlocks...\n",
      "To disable this warning, you can either:\n",
      "\t- Avoid using `tokenizers` before the fork if possible\n",
      "\t- Explicitly set the environment variable TOKENIZERS_PARALLELISM=(true | false)\n",
      "\n",
      "Coherence Score:  0.5221361828360331\n"
     ]
    }
   ],
   "source": [
    "# 19 Вычисление метрик модели\n",
    "\n",
    "# Compute Perplexity\n",
    "print('\\nPerplexity: ', lda_model.log_perplexity(corpus))\n",
    "# a measure of how good the model is. lower the better.\n",
    "\n",
    "# Compute Coherence Score\n",
    "coherence_model_lda = CoherenceModel(model=lda_model, texts=all_text, dictionary=id2word, coherence='c_v')\n",
    "coherence_lda = coherence_model_lda.get_coherence()\n",
    "print('\\nCoherence Score: ', coherence_lda)"
   ],
   "metadata": {
    "collapsed": false,
    "ExecuteTime": {
     "end_time": "2023-06-02T23:22:37.509262Z",
     "start_time": "2023-06-02T23:22:33.370392Z"
    }
   }
  },
  {
   "cell_type": "code",
   "execution_count": 31,
   "outputs": [
    {
     "name": "stdout",
     "output_type": "stream",
     "text": [
      "huggingface/tokenizers: The current process just got forked, after parallelism has already been used. Disabling parallelism to avoid deadlocks...\n",
      "To disable this warning, you can either:\n",
      "\t- Avoid using `tokenizers` before the fork if possible\n",
      "\t- Explicitly set the environment variable TOKENIZERS_PARALLELISM=(true | false)\n",
      "huggingface/tokenizers: The current process just got forked, after parallelism has already been used. Disabling parallelism to avoid deadlocks...\n",
      "To disable this warning, you can either:\n",
      "\t- Avoid using `tokenizers` before the fork if possible\n",
      "\t- Explicitly set the environment variable TOKENIZERS_PARALLELISM=(true | false)\n",
      "huggingface/tokenizers: The current process just got forked, after parallelism has already been used. Disabling parallelism to avoid deadlocks...\n",
      "To disable this warning, you can either:\n",
      "\t- Avoid using `tokenizers` before the fork if possible\n",
      "\t- Explicitly set the environment variable TOKENIZERS_PARALLELISM=(true | false)\n",
      "huggingface/tokenizers: The current process just got forked, after parallelism has already been used. Disabling parallelism to avoid deadlocks...\n",
      "To disable this warning, you can either:\n",
      "\t- Avoid using `tokenizers` before the fork if possible\n",
      "\t- Explicitly set the environment variable TOKENIZERS_PARALLELISM=(true | false)\n",
      "huggingface/tokenizers: The current process just got forked, after parallelism has already been used. Disabling parallelism to avoid deadlocks...\n",
      "To disable this warning, you can either:\n",
      "\t- Avoid using `tokenizers` before the fork if possible\n",
      "\t- Explicitly set the environment variable TOKENIZERS_PARALLELISM=(true | false)\n",
      "huggingface/tokenizers: The current process just got forked, after parallelism has already been used. Disabling parallelism to avoid deadlocks...\n",
      "To disable this warning, you can either:\n",
      "\t- Avoid using `tokenizers` before the fork if possible\n",
      "\t- Explicitly set the environment variable TOKENIZERS_PARALLELISM=(true | false)\n",
      "huggingface/tokenizers: The current process just got forked, after parallelism has already been used. Disabling parallelism to avoid deadlocks...\n",
      "To disable this warning, you can either:\n",
      "\t- Avoid using `tokenizers` before the fork if possible\n",
      "\t- Explicitly set the environment variable TOKENIZERS_PARALLELISM=(true | false)\n",
      "huggingface/tokenizers: The current process just got forked, after parallelism has already been used. Disabling parallelism to avoid deadlocks...\n",
      "To disable this warning, you can either:\n",
      "\t- Avoid using `tokenizers` before the fork if possible\n",
      "\t- Explicitly set the environment variable TOKENIZERS_PARALLELISM=(true | false)\n"
     ]
    },
    {
     "data": {
      "text/plain": "PreparedData(topic_coordinates=              x         y  topics  cluster       Freq\ntopic                                                \n1     -0.169012  0.004571       1        1  42.598378\n2      0.080079 -0.133157       2        1  29.895065\n0      0.088933  0.128586       3        1  27.506557, topic_info=          Term        Freq       Total Category  logprob  loglift\n154       кожа  833.000000  833.000000  Default  30.0000  30.0000\n84   косметика  849.000000  849.000000  Default  29.0000  29.0000\n87       очень  682.000000  682.000000  Default  28.0000  28.0000\n505    человек  384.000000  384.000000  Default  27.0000  27.0000\n8        видео  617.000000  617.000000  Default  26.0000  26.0000\n..         ...         ...         ...      ...      ...      ...\n73        лицо  114.212855  304.630087   Topic3  -5.3247   0.3097\n238     каждый   84.659953  164.220835   Topic3  -5.6241   0.6282\n474   говорить   89.887923  293.005447   Topic3  -5.5642   0.1091\n22        мочь  101.631141  663.539995   Topic3  -5.4414  -0.5855\n112       весь  102.100542  726.781761   Topic3  -5.4368  -0.6719\n\n[196 rows x 6 columns], token_table=      Topic      Freq         Term\nterm                              \n7         1  0.952816      большой\n7         2  0.042036      большой\n1507      1  0.992296        бомба\n1507      2  0.011149        бомба\n507       2  0.020748        брать\n...     ...       ...          ...\n576       2  0.977894  чувствовать\n65        1  0.301574          это\n65        2  0.534254          это\n65        3  0.164436          это\n194       3  0.987218       эффект\n\n[335 rows x 3 columns], R=30, lambda_step=0.01, plot_opts={'xlab': 'PC1', 'ylab': 'PC2'}, topic_order=[2, 3, 1])",
      "text/html": "\n<link rel=\"stylesheet\" type=\"text/css\" href=\"https://cdn.jsdelivr.net/gh/bmabey/pyLDAvis@3.4.0/pyLDAvis/js/ldavis.v1.0.0.css\">\n\n\n<div id=\"ldavis_el1560561250092965056744123\" style=\"background-color:white;\"></div>\n<script type=\"text/javascript\">\n\nvar ldavis_el1560561250092965056744123_data = {\"mdsDat\": {\"x\": [-0.16901189316834472, 0.08007859202720977, 0.08893330114113494], \"y\": [0.004571011459332871, -0.13315744468829946, 0.12858643322896657], \"topics\": [1, 2, 3], \"cluster\": [1, 1, 1], \"Freq\": [42.59837782973811, 29.89506536078447, 27.506556809477416]}, \"tinfo\": {\"Term\": [\"\\u043a\\u043e\\u0436\\u0430\", \"\\u043a\\u043e\\u0441\\u043c\\u0435\\u0442\\u0438\\u043a\\u0430\", \"\\u043e\\u0447\\u0435\\u043d\\u044c\", \"\\u0447\\u0435\\u043b\\u043e\\u0432\\u0435\\u043a\", \"\\u0432\\u0438\\u0434\\u0435\\u043e\", \"\\u0441\\u0440\\u0435\\u0434\\u0441\\u0442\\u0432\\u043e\", \"\\u043f\\u043e\\u0434\\u0445\\u043e\\u0434\\u0438\\u0442\\u044c\", \"\\u043d\\u0438\\u0447\\u0442\\u043e\", \"\\u044d\\u0442\\u043e\", \"\\u0441\\u043f\\u0430\\u0441\\u0438\\u0431\\u043e\", \"\\u0437\\u0430\\u043a\\u0430\\u0437\\u044b\\u0432\\u0430\\u0442\\u044c\", \"\\u043f\\u043e\\u043d\\u0438\\u043c\\u0430\\u0442\\u044c\", \"\\u043f\\u0440\\u043e\\u0434\\u0443\\u043a\\u0442\", \"\\u0445\\u043e\\u0440\\u043e\\u0448\\u0438\\u0439\", \"\\u0441\\u0432\\u043e\\u0439\", \"\\u0434\\u0435\\u043d\\u044c\", \"\\u043f\\u043e\\u043a\\u0443\\u043f\\u0430\\u0442\\u044c\", \"\\u0440\\u0430\\u0437\\u043d\\u044b\\u0439\", \"\\u043f\\u0438\\u0441\\u0430\\u0442\\u044c\", \"\\u043a\\u043e\\u043c\\u043c\\u0435\\u043d\\u0442\\u0430\\u0440\\u0438\\u0439\", \"\\u0432\\u0440\\u0435\\u043c\\u044f\", \"\\u043a\\u043e\\u043d\\u0441\\u0438\\u043b\\u0435\\u0440\", \"\\u0434\\u0435\\u043d\\u044c\\u0433\\u0438\", \"\\u0436\\u0438\\u0437\\u043d\\u044c\", \"\\u0432\\u0435\\u0441\\u044c\", \"\\u043f\\u0440\\u043e\\u0441\\u0442\\u043e\", \"\\u0431\\u0440\\u0430\\u0442\\u044c\", \"\\u043a\\u043e\\u0442\\u043e\\u0440\\u044b\\u0439\", \"\\u043d\\u0430\\u043f\\u0438\\u0441\\u0430\\u0442\\u044c\", \"\\u043d\\u0443\\u0436\\u043d\\u043e\", \"\\u043f\\u043e\\u043a\\u0443\\u043f\\u0430\\u0442\\u044c\", \"\\u0441\\u043f\\u0430\\u0441\\u0438\\u0431\\u043e\", \"\\u0442\\u0443\\u0448\\u044c\", \"\\u0441\\u0442\\u043e\\u0438\\u0442\\u044c\", \"\\u043f\\u0440\\u0430\\u0432\\u0434\\u0430\", \"\\u043d\\u0430\\u043f\\u0438\\u0441\\u0430\\u0442\\u044c\", \"\\u043f\\u043e\\u0436\\u0430\\u043b\\u0443\\u0439\\u0441\\u0442\\u0430\", \"\\u0443\\u0437\\u043d\\u0430\\u0432\\u0430\\u0442\\u044c\", \"\\u043e\\u0431\\u0437\\u043e\\u0440\", \"\\u043f\\u043e\\u0447\\u0435\\u043c\\u0443\", \"\\u043a\\u043e\\u0441\\u043c\\u0435\\u0442\\u0438\\u043a\\u0430\", \"\\u043a\\u0430\\u0437\\u0430\\u0442\\u044c\\u0441\\u044f\", \"\\u0440\\u043e\\u0437\\u043e\\u0432\\u044b\\u0439\", \"\\u0431\\u044c\\u044e\\u0442\\u044f\", \"\\u043d\\u0435\\u043c\\u043d\\u043e\\u0433\\u043e\", \"\\u043d\\u043e\\u0432\\u044b\\u0439\", \"\\u043d\\u0430\\u0448\", \"\\u043f\\u0443\\u0434\\u0440\\u0430\", \"\\u0432\\u0431\", \"\\u0440\\u0430\\u0431\\u043e\\u0442\\u0430\\u0442\\u044c\", \"\\u0431\\u043e\\u043c\\u0431\\u0430\", \"\\u043f\\u043e\\u043b\\u0443\\u0447\\u0430\\u0442\\u044c\\u0441\\u044f\", \"\\u0437\\u0430\\u043f\\u0430\\u0445\", \"\\u0441\\u0442\\u0430\\u0440\\u044b\\u0439\", \"\\u0438\\u043d\\u0444\\u043e\\u0440\\u043c\\u0430\\u0446\\u0438\\u044f\", \"\\u043a\\u043b\\u0430\\u0441\\u0441\\u043d\\u044b\\u0439\", \"\\u0445\\u043e\\u0442\\u0435\\u0442\\u044c\\u0441\\u044f\", \"\\u0446\\u0432\\u0435\\u0442\", \"\\u0440\\u0435\\u0441\\u043d\\u0438\\u0446\\u0430\", \"\\u043f\\u043e\\u043a\\u0430\\u0437\\u044b\\u0432\\u0430\\u0442\\u044c\", \"\\u043e\\u0447\\u0435\\u043d\\u044c\", \"\\u0445\\u043e\\u0442\\u0435\\u0442\\u044c\", \"\\u0441\\u043d\\u0438\\u043c\\u0430\\u0442\\u044c\", \"\\u043c\\u043d\\u0435\\u043d\\u0438\\u0435\", \"\\u0432\\u0438\\u0434\\u0435\\u043e\", \"\\u043f\\u0440\\u043e\\u0434\\u0443\\u043a\\u0442\", \"\\u043a\\u0443\\u043f\\u0438\\u0442\\u044c\", \"\\u0445\\u043e\\u0440\\u043e\\u0448\\u0438\\u0439\", \"\\u043d\\u0430\\u0445\\u043e\\u0434\\u0438\\u0442\\u044c\", \"\\u0434\\u0430\\u0440\\u044c\\u044f\", \"\\u0446\\u0435\\u043d\\u0430\", \"\\u043d\\u0430\\u043d\\u043e\\u0441\\u0438\\u0442\\u044c\", \"\\u043d\\u0440\\u0430\\u0432\\u0438\\u0442\\u044c\\u0441\\u044f\", \"\\u0432\\u0430\\u0448\", \"\\u0432\\u0435\\u0441\\u044c\", \"\\u0431\\u043e\\u043b\\u044c\\u0448\\u043e\\u0439\", \"\\u0432\\u0438\\u0434\\u0435\\u0442\\u044c\", \"\\u0441\\u043a\\u0430\\u0437\\u0430\\u0442\\u044c\", \"\\u043c\\u043e\\u0447\\u044c\", \"\\u043a\\u0440\\u0435\\u043c\", \"\\u0442\\u043e\\u043d\", \"\\u0432\\u043e\\u043e\\u0431\\u0449\\u0435\", \"\\u0433\\u043e\\u0432\\u043e\\u0440\\u0438\\u0442\\u044c\", \"\\u044d\\u0442\\u043e\", \"\\u0441\\u0430\\u043c\\u044b\\u0439\", \"\\u0434\\u0443\\u043c\\u0430\\u0442\\u044c\", \"\\u0431\\u0440\\u0435\\u043d\\u0434\", \"\\u043f\\u043e\\u043b\\u044c\\u0437\\u043e\\u0432\\u0430\\u0442\\u044c\\u0441\\u044f\", \"\\u043f\\u043e\\u0434\\u0445\\u043e\\u0434\\u0438\\u0442\\u044c\", \"\\u0436\\u0438\\u0437\\u043d\\u044c\", \"\\u043f\\u0435\\u0440\\u0432\\u044b\\u0439\", \"\\u043f\\u0438\\u0441\\u0430\\u0442\\u044c\", \"\\u0440\\u0435\\u043a\\u043b\\u0430\\u043c\\u0430\", \"\\u0441\\u043e\\u0433\\u043b\\u0430\\u0441\\u043d\\u044b\\u0439\", \"\\u0434\\u0430\\u0432\\u0430\\u0442\\u044c\", \"\\u043a\\u0430\\u043d\\u0430\\u043b\", \"\\u043f\\u0440\\u044f\\u043c\\u043e\\u0439\", \"\\u0434\\u0430\\u0432\\u043d\\u043e\", \"\\u0438\\u043c\\u0435\\u0442\\u044c\", \"\\u043d\\u0430\\u0437\\u0430\\u0434\", \"\\u043c\\u0435\\u0441\\u0442\\u043e\", \"\\u0440\\u0435\\u0431\\u0435\\u043d\\u043e\\u043a\", \"\\u043d\\u043e\\u0440\\u043c\\u0430\\u043b\\u044c\\u043d\\u044b\\u0439\", \"\\u0447\\u0430\\u0441\\u0442\\u043e\", \"\\u0444\\u0430\\u043a\\u0442\", \"\\u0434\\u043e\\u043b\\u0436\\u043d\\u044b\\u0439\", \"\\u0442\\u043e\\u0432\\u0430\\u0440\", \"\\u0447\\u0430\\u0441\", \"\\u0434\\u0435\\u0432\\u0443\\u0448\\u043a\\u0430\", \"\\u0447\\u0443\\u0432\\u0441\\u0442\\u0432\\u043e\\u0432\\u0430\\u0442\\u044c\", \"\\u0440\\u0430\\u0432\\u043d\\u044b\\u0439\", \"\\u043c\\u0438\\u043d\\u0443\\u0442\\u0430\", \"\\u043d\\u0430\\u043d\\u0435\\u0441\\u0435\\u043d\\u0438\\u0435\", \"\\u043e\\u0442\\u0432\\u0435\\u0447\\u0430\\u0442\\u044c\", \"\\u0442\\u0435\\u043d\\u044c\", \"\\u0443\\u0445\\u043e\\u0434\\u0438\\u0442\\u044c\", \"\\u043e\\u0431\\u0440\\u0430\\u0437\", \"\\u0440\\u0430\\u0431\\u043e\\u0442\\u0430\", \"\\u0447\\u0435\\u043b\\u043e\\u0432\\u0435\\u043a\", \"\\u0438\\u0441\\u043f\\u043e\\u043b\\u044c\\u0437\\u043e\\u0432\\u0430\\u0442\\u044c\", \"\\u0432\\u0440\\u0435\\u043c\\u044f\", \"\\u0431\\u044b\\u0432\\u0430\\u0442\\u044c\", \"\\u043d\\u0438\\u043a\\u0442\\u043e\", \"\\u043a\\u043e\\u043c\\u043c\\u0435\\u043d\\u0442\\u0430\\u0440\\u0438\\u0439\", \"\\u043f\\u043e\\u043d\\u0438\\u043c\\u0430\\u0442\\u044c\", \"\\u0434\\u0435\\u043d\\u044c\\u0433\\u0438\", \"\\u043a\\u043e\\u043d\\u0441\\u0438\\u043b\\u0435\\u0440\", \"\\u043b\\u044e\\u0431\\u0438\\u0442\\u044c\", \"\\u0441\\u0432\\u043e\\u0439\", \"\\u044d\\u0442\\u043e\", \"\\u043f\\u0440\\u043e\\u0441\\u0442\\u043e\", \"\\u0434\\u0435\\u0448\\u0435\\u0432\\u044b\\u0439\", \"\\u043a\\u043e\\u0442\\u043e\\u0440\\u044b\\u0439\", \"\\u0437\\u043d\\u0430\\u0442\\u044c\", \"\\u0433\\u043e\\u0434\", \"\\u0441\\u0442\\u0430\\u043d\\u043e\\u0432\\u0438\\u0442\\u044c\\u0441\\u044f\", \"\\u0441\\u043c\\u043e\\u0442\\u0440\\u0435\\u0442\\u044c\", \"\\u0434\\u0435\\u043b\\u0430\\u0442\\u044c\", \"\\u0440\\u043e\\u0441\\u0441\\u0438\\u044f\", \"\\u0443\\u0445\\u043e\\u0434\", \"\\u043c\\u043e\\u0447\\u044c\", \"\\u043a\\u0440\\u0430\\u0441\\u0438\\u0442\\u044c\\u0441\\u044f\", \"\\u0437\\u0430\\u043a\\u0430\\u0437\\u044b\\u0432\\u0430\\u0442\\u044c\", \"\\u043d\\u0438\\u0447\\u0442\\u043e\", \"\\u0441\\u0440\\u0435\\u0434\\u0441\\u0442\\u0432\\u043e\", \"\\u043c\\u0430\\u0433\\u0430\\u0437\\u0438\\u043d\", \"\\u043f\\u0430\\u043b\\u0435\\u0442\\u043a\\u0430\", \"\\u044d\\u0444\\u0444\\u0435\\u043a\\u0442\", \"\\u043f\\u043b\\u043e\\u0445\\u043e\", \"\\u043f\\u043e\\u043c\\u043e\\u0433\\u0430\\u0442\\u044c\", \"\\u043f\\u043b\\u043e\\u0445\\u043e\\u0439\", \"\\u043d\\u043e\\u0440\\u043c\\u0430\", \"\\u043f\\u043e\\u0440\\u0430\", \"\\u0445\\u043e\\u0434\\u0438\\u0442\\u044c\", \"\\u0434\\u043e\\u0441\\u0442\\u0430\\u0442\\u043e\\u0447\\u043d\\u043e\", \"\\u0443\\u0432\\u0438\\u0434\\u0435\\u0442\\u044c\", \"\\u043a\\u0441\\u0442\\u0430\\u0442\\u0438\", \"\\u0432\\u043e\\u0434\\u0430\", \"\\u043f\\u0440\\u043e\\u0431\\u043e\\u0432\\u0430\\u0442\\u044c\", \"\\u043f\\u0440\\u043e\\u0445\\u043e\\u0434\\u0438\\u0442\\u044c\", \"\\u043d\\u0430\\u0432\\u0435\\u0440\\u043d\\u043e\\u0435\", \"\\u0447\\u0438\\u0442\\u0430\\u0442\\u044c\", \"\\u043f\\u0440\\u0438\\u044f\\u0442\\u043d\\u043e\", \"\\u0440\\u0435\\u0437\\u0443\\u043b\\u044c\\u0442\\u0430\\u0442\", \"\\u043f\\u043e\\u043c\\u043d\\u0438\\u0442\\u044c\", \"\\u043f\\u0440\\u043e\\u0432\\u0435\\u0440\\u044f\\u0442\\u044c\", \"\\u0432\\u0438\\u0434\", \"\\u043b\\u0435\\u0442\\u043e\", \"\\u043c\\u0430\\u043c\\u0430\", \"\\u043d\\u0435\\u0434\\u0435\\u043b\\u044f\", \"\\u0432\\u0430\\u0443\", \"\\u043e\\u0441\\u043d\\u043e\\u0432\\u043d\\u043e\\u0439\", \"\\u0442\\u0438\\u043f\", \"\\u0431\\u0440\\u0430\\u0442\\u044c\", \"\\u0440\\u0430\\u0437\\u043d\\u044b\\u0439\", \"\\u043a\\u043e\\u0436\\u0430\", \"\\u043d\\u0443\\u0436\\u043d\\u043e\", \"\\u0434\\u0435\\u043d\\u044c\", \"\\u0434\\u043e\\u0440\\u043e\\u0433\\u043e\\u0439\", \"\\u043a\\u043e\\u0440\\u0435\\u0435\\u0446\", \"\\u043a\\u043e\\u0440\\u0435\\u044f\", \"\\u043f\\u043e\\u043d\\u0440\\u0430\\u0432\\u0438\\u0442\\u044c\\u0441\\u044f\", \"\\u0434\\u0435\\u043b\\u043e\", \"\\u0440\", \"\\u0441\\u043e\\u0441\\u0442\\u0430\\u0432\", \"\\u0440\\u0443\\u0431\\u043b\\u044c\", \"\\u0440\\u0443\\u0441\\u0441\\u043a\\u0438\\u0439\", \"\\u0431\\u0440\\u0435\\u043d\\u0434\", \"\\u043f\\u043e\\u043b\\u044c\\u0437\\u043e\\u0432\\u0430\\u0442\\u044c\\u0441\\u044f\", \"\\u0436\\u0438\\u0440\\u043d\\u044b\\u0439\", \"\\u044d\\u0442\\u043e\", \"\\u043b\\u0438\\u0446\\u043e\", \"\\u043a\\u0430\\u0436\\u0434\\u044b\\u0439\", \"\\u0433\\u043e\\u0432\\u043e\\u0440\\u0438\\u0442\\u044c\", \"\\u043c\\u043e\\u0447\\u044c\", \"\\u0432\\u0435\\u0441\\u044c\"], \"Freq\": [833.0, 849.0, 682.0, 384.0, 617.0, 254.0, 239.0, 219.0, 1538.0, 318.0, 204.0, 272.0, 366.0, 483.0, 373.0, 197.0, 249.0, 178.0, 173.0, 198.0, 182.0, 223.0, 197.0, 156.0, 726.0, 448.0, 144.0, 378.0, 203.0, 143.0, 248.78765766090956, 317.6927859655465, 123.0837214159142, 129.46853525368115, 127.9753771097726, 202.05771381909526, 105.29491309970169, 96.68489041866053, 119.08913776175619, 165.0267356209935, 842.4892652341342, 89.55562856242726, 113.68296795553493, 85.26970790940312, 73.25175015582252, 69.03707603310077, 85.84703736029252, 106.27858032875477, 141.2305213484223, 94.35978421485673, 88.69984991233711, 51.83539409422933, 135.31067462942275, 101.77403219229952, 62.00642614005515, 53.376771551584085, 90.14621790168627, 104.70172759607438, 62.4401547207885, 56.48110338285935, 662.2934033626374, 183.0952954468716, 119.8427696059683, 166.91763967662217, 597.9172542005143, 356.31207553710726, 209.4897628584118, 440.25247963745505, 126.11273488254399, 107.1918044008442, 144.74018885532823, 194.6085317862603, 141.1611268050797, 280.1069220306708, 590.8313998742564, 136.41119462473318, 171.3738923905781, 225.06351866166384, 449.0583309122306, 210.7603273915644, 156.70191047519833, 204.74453252623715, 195.74003662276098, 463.646406824802, 157.47722494299447, 150.6687458326318, 145.51279722345706, 138.70695656027, 238.05309704446995, 155.606823194175, 112.86689045518776, 171.81739299457826, 111.07156634830812, 107.05722658301255, 89.48001532703684, 80.25118104940147, 77.55628984386625, 77.7377320475462, 86.14755711985515, 90.38824711732794, 75.70131586326839, 71.19534386846156, 81.8099946829532, 85.33145592747488, 79.54887218402082, 60.468663338898885, 94.10012386262059, 62.31655126346057, 86.83327250728175, 84.47260101006566, 59.70693605389165, 39.63743010656398, 43.36565107155817, 57.379991572130805, 103.65213333409996, 70.53838220088024, 37.450565795364085, 55.15295217187156, 373.11978206958156, 114.20691469022235, 176.95962635256595, 61.46942335336079, 89.969178712904, 187.19641352566478, 252.92284735731866, 180.69577016915838, 199.12619835825993, 150.6959371028557, 290.12597092456537, 822.1631056040014, 310.22143237111766, 106.37392662674736, 254.32332265331175, 195.90501022195107, 185.99307776854067, 118.50026939562224, 131.74008438686437, 127.88141233499321, 94.74925763412847, 101.75109998926698, 112.85052249660505, 92.06409936988247, 203.5220956805405, 218.2444574412931, 252.21478174290826, 101.77283172318668, 125.29041503333619, 71.16611250341921, 90.32104898804258, 59.71673241354074, 73.91867028864311, 59.63350805787378, 60.374926162945094, 52.9375432037464, 55.42192209286668, 90.87806952953424, 76.56409739780705, 40.755249826981206, 57.43578659117279, 52.805195673512166, 56.835693172737294, 51.61812509556854, 46.01862925064086, 62.252746333642364, 44.70817191719232, 52.54304523280231, 58.189245225359365, 32.79735834349228, 35.46938655813693, 43.64111347026688, 53.115136912778375, 41.467557700436444, 121.04412176535558, 140.99112302513825, 172.23072085010222, 774.2931507652438, 137.84286048578002, 185.84476419204958, 130.99049434597498, 117.34097922301505, 135.16269877085546, 71.3177849463695, 132.73944536151578, 83.22076262016913, 115.19218435081416, 112.49853505905755, 106.5907033787457, 178.57628173446724, 162.76662470098373, 100.93117416552182, 252.78545367795465, 114.21285521942873, 84.65995259483861, 89.88792303389607, 101.63114117920361, 102.1005416163037], \"Total\": [833.0, 849.0, 682.0, 384.0, 617.0, 254.0, 239.0, 219.0, 1538.0, 318.0, 204.0, 272.0, 366.0, 483.0, 373.0, 197.0, 249.0, 178.0, 173.0, 198.0, 182.0, 223.0, 197.0, 156.0, 726.0, 448.0, 144.0, 378.0, 203.0, 143.0, 249.52445930792788, 318.96713185817765, 123.72367628018246, 130.22480736063144, 128.75157350299096, 203.3019915061001, 106.00136907982913, 97.347628159335, 119.93028106247048, 166.3082964605484, 849.4850783608326, 90.30190886987202, 114.63760090649215, 86.0250943110814, 73.97243897791665, 69.7392252278785, 86.7330884177275, 107.37809648293826, 142.72451938814757, 95.37835776218202, 89.69097428896829, 52.45416523089885, 136.93260552387997, 102.99567191718279, 62.75207763470659, 54.03373799062794, 91.26042313090473, 105.99786227154992, 63.21461920542314, 57.23463518288848, 682.0214931005695, 186.51709204741238, 121.63385808519348, 170.15794058786733, 617.5126017111652, 366.73287328937397, 216.30418081814304, 483.4461487865182, 129.85489047960263, 109.4536531769135, 150.84471777316406, 208.18683967132745, 147.437393911758, 316.1061870048668, 726.7817611455773, 142.7347913134104, 190.11408872083925, 264.60778612020755, 663.5399945880392, 260.1096693328409, 182.64128374908154, 303.7609786279954, 293.00544680963685, 1538.594966106758, 238.58847349412684, 224.24751093548105, 325.11503529106267, 301.8232291559233, 239.13454688353016, 156.4322320127694, 113.64380674935173, 173.0854899768811, 111.89445304398963, 107.99197329938576, 90.28832910430387, 81.0339902253495, 78.32777589931453, 78.57739595614164, 87.08992267866883, 91.42271654989948, 76.59497538838666, 72.08088693337416, 82.85302496839871, 86.45683584718121, 80.60417054187636, 61.33092774904022, 95.4666233035668, 63.231203098603686, 88.19968959273686, 85.89891412652253, 60.77634303287901, 40.384026825341536, 44.19615527422541, 58.5176919630888, 105.8259329600405, 72.04528733299941, 38.25610669930223, 56.34383075232885, 384.2689038676348, 116.90711715905617, 182.43155765827544, 62.90142771019118, 92.84474858823862, 198.05297081253744, 272.8735328095789, 197.13659676304587, 223.25052939425012, 164.9649720348388, 373.62729408715023, 1538.594966106758, 448.97251876104275, 117.62297089793651, 378.3968370685439, 283.74541420890057, 267.22249359784576, 145.14890053956813, 197.28754569279926, 230.17455478719495, 110.2632407908256, 148.66035370839305, 663.5399945880392, 123.7109718623413, 204.66211829641014, 219.74529717444716, 254.0318354623536, 102.65804232455095, 126.49958469571928, 71.91928935769666, 91.34758915069168, 60.4595109273651, 74.86909112095232, 60.45538564594789, 61.3042516403506, 53.7753757785187, 56.313562764698034, 92.36007808363894, 77.83348234888918, 41.43511299729377, 58.41353572449603, 53.72716535506555, 57.83675581566563, 52.54517448868534, 46.856494228148755, 63.39966178140289, 45.53733766801209, 53.52619377323717, 59.30663351729629, 33.46151321804771, 36.19108598022413, 44.56156153396019, 54.28749741928288, 42.392313227477075, 123.76437628964273, 144.5922676618606, 178.41437732030545, 833.3944195317174, 143.55790111850047, 197.24454218925246, 137.9191883298132, 133.64700052191895, 160.4723188988037, 77.43564779201567, 166.75393650898883, 94.20361900765563, 148.32192778731073, 156.38292806916493, 147.5606301284514, 325.11503529106267, 301.8232291559233, 157.39235398135392, 1538.594966106758, 304.6300874119653, 164.22083494293094, 293.00544680963685, 663.5399945880392, 726.7817611455773], \"Category\": [\"Default\", \"Default\", \"Default\", \"Default\", \"Default\", \"Default\", \"Default\", \"Default\", \"Default\", \"Default\", \"Default\", \"Default\", \"Default\", \"Default\", \"Default\", \"Default\", \"Default\", \"Default\", \"Default\", \"Default\", \"Default\", \"Default\", \"Default\", \"Default\", \"Default\", \"Default\", \"Default\", \"Default\", \"Default\", \"Default\", \"Topic1\", \"Topic1\", \"Topic1\", \"Topic1\", \"Topic1\", \"Topic1\", \"Topic1\", \"Topic1\", \"Topic1\", \"Topic1\", \"Topic1\", \"Topic1\", \"Topic1\", \"Topic1\", \"Topic1\", \"Topic1\", \"Topic1\", \"Topic1\", \"Topic1\", \"Topic1\", \"Topic1\", \"Topic1\", \"Topic1\", \"Topic1\", \"Topic1\", \"Topic1\", \"Topic1\", \"Topic1\", \"Topic1\", \"Topic1\", \"Topic1\", \"Topic1\", \"Topic1\", \"Topic1\", \"Topic1\", \"Topic1\", \"Topic1\", \"Topic1\", \"Topic1\", \"Topic1\", \"Topic1\", \"Topic1\", \"Topic1\", \"Topic1\", \"Topic1\", \"Topic1\", \"Topic1\", \"Topic1\", \"Topic1\", \"Topic1\", \"Topic1\", \"Topic1\", \"Topic1\", \"Topic1\", \"Topic1\", \"Topic1\", \"Topic1\", \"Topic1\", \"Topic2\", \"Topic2\", \"Topic2\", \"Topic2\", \"Topic2\", \"Topic2\", \"Topic2\", \"Topic2\", \"Topic2\", \"Topic2\", \"Topic2\", \"Topic2\", \"Topic2\", \"Topic2\", \"Topic2\", \"Topic2\", \"Topic2\", \"Topic2\", \"Topic2\", \"Topic2\", \"Topic2\", \"Topic2\", \"Topic2\", \"Topic2\", \"Topic2\", \"Topic2\", \"Topic2\", \"Topic2\", \"Topic2\", \"Topic2\", \"Topic2\", \"Topic2\", \"Topic2\", \"Topic2\", \"Topic2\", \"Topic2\", \"Topic2\", \"Topic2\", \"Topic2\", \"Topic2\", \"Topic2\", \"Topic2\", \"Topic2\", \"Topic2\", \"Topic2\", \"Topic2\", \"Topic2\", \"Topic2\", \"Topic2\", \"Topic2\", \"Topic2\", \"Topic2\", \"Topic2\", \"Topic2\", \"Topic3\", \"Topic3\", \"Topic3\", \"Topic3\", \"Topic3\", \"Topic3\", \"Topic3\", \"Topic3\", \"Topic3\", \"Topic3\", \"Topic3\", \"Topic3\", \"Topic3\", \"Topic3\", \"Topic3\", \"Topic3\", \"Topic3\", \"Topic3\", \"Topic3\", \"Topic3\", \"Topic3\", \"Topic3\", \"Topic3\", \"Topic3\", \"Topic3\", \"Topic3\", \"Topic3\", \"Topic3\", \"Topic3\", \"Topic3\", \"Topic3\", \"Topic3\", \"Topic3\", \"Topic3\", \"Topic3\", \"Topic3\", \"Topic3\", \"Topic3\", \"Topic3\", \"Topic3\", \"Topic3\", \"Topic3\", \"Topic3\", \"Topic3\", \"Topic3\", \"Topic3\", \"Topic3\", \"Topic3\", \"Topic3\", \"Topic3\", \"Topic3\", \"Topic3\", \"Topic3\", \"Topic3\"], \"logprob\": [30.0, 29.0, 28.0, 27.0, 26.0, 25.0, 24.0, 23.0, 22.0, 21.0, 20.0, 19.0, 18.0, 17.0, 16.0, 15.0, 14.0, 13.0, 12.0, 11.0, 10.0, 9.0, 8.0, 7.0, 6.0, 5.0, 4.0, 3.0, 2.0, 1.0, -4.9835, -4.7391, -5.6873, -5.6367, -5.6483, -5.1916, -5.8434, -5.9287, -5.7203, -5.394, -3.7638, -6.0053, -5.7667, -6.0543, -6.2062, -6.2655, -6.0476, -5.8341, -5.5497, -5.953, -6.0149, -6.5521, -5.5926, -5.8774, -6.3729, -6.5228, -5.9987, -5.849, -6.3659, -6.4662, -4.0044, -5.2901, -5.714, -5.3826, -4.1067, -4.6243, -5.1555, -4.4128, -5.663, -5.8255, -5.5252, -5.2292, -5.5502, -4.865, -4.1186, -5.5845, -5.3563, -5.0838, -4.393, -5.1494, -5.4458, -5.1784, -5.2234, -4.361, -5.4409, -5.4851, -5.5199, -5.5678, -4.6735, -5.0987, -5.4198, -4.9996, -5.4358, -5.4727, -5.652, -5.7609, -5.795, -5.7927, -5.69, -5.6419, -5.8192, -5.8806, -5.7416, -5.6995, -5.7696, -6.0439, -5.6017, -6.0138, -5.682, -5.7096, -6.0566, -6.4662, -6.3764, -6.0963, -5.505, -5.8899, -6.523, -6.1359, -4.2241, -5.408, -4.9701, -6.0275, -5.6466, -4.9139, -4.6129, -4.9492, -4.8521, -5.1308, -4.4757, -3.4341, -4.4087, -5.4791, -4.6074, -4.8684, -4.9203, -5.3711, -5.2652, -5.2949, -5.5948, -5.5235, -5.42, -5.6235, -4.747, -4.6771, -4.5325, -5.44, -5.2321, -5.7977, -5.5594, -5.9731, -5.7598, -5.9745, -5.9622, -6.0936, -6.0478, -5.5532, -5.7246, -6.3552, -6.0121, -6.0961, -6.0226, -6.1189, -6.2337, -5.9315, -6.2626, -6.1011, -5.999, -6.5724, -6.4941, -6.2868, -6.0903, -6.3378, -5.2666, -5.1141, -4.9139, -3.4108, -5.1366, -4.8378, -5.1876, -5.2977, -5.1563, -5.7956, -5.1744, -5.6413, -5.3161, -5.3398, -5.3938, -4.8777, -4.9704, -5.4483, -4.5302, -5.3247, -5.6241, -5.5642, -5.4414, -5.4368], \"loglift\": [30.0, 29.0, 28.0, 27.0, 26.0, 25.0, 24.0, 23.0, 22.0, 21.0, 20.0, 19.0, 18.0, 17.0, 16.0, 15.0, 14.0, 13.0, 12.0, 11.0, 10.0, 9.0, 8.0, 7.0, 6.0, 5.0, 4.0, 3.0, 2.0, 1.0, 0.8504, 0.8494, 0.8482, 0.8475, 0.8473, 0.8472, 0.8467, 0.8465, 0.8463, 0.8456, 0.8451, 0.8451, 0.845, 0.8445, 0.8436, 0.8432, 0.8431, 0.8431, 0.8428, 0.8426, 0.8422, 0.8415, 0.8414, 0.8414, 0.8414, 0.8411, 0.8411, 0.8411, 0.841, 0.8401, 0.824, 0.8348, 0.8385, 0.8341, 0.8211, 0.8245, 0.8213, 0.7598, 0.8241, 0.8325, 0.812, 0.7859, 0.8099, 0.7324, 0.6463, 0.808, 0.7496, 0.6915, 0.4629, 0.643, 0.7002, 0.4589, 0.45, -0.3461, 0.4379, 0.4557, 0.0494, 0.0759, 1.2029, 1.2022, 1.2006, 1.2001, 1.2001, 1.1988, 1.1985, 1.1978, 1.1976, 1.1967, 1.1966, 1.1961, 1.1957, 1.1951, 1.1948, 1.1944, 1.1943, 1.1933, 1.1931, 1.1929, 1.1919, 1.1907, 1.1897, 1.1888, 1.1885, 1.1878, 1.1867, 1.1863, 1.1862, 1.1861, 1.178, 1.1841, 1.177, 1.1844, 1.176, 1.1511, 1.1316, 1.1204, 1.0931, 1.117, 0.9545, 0.5808, 0.8378, 1.107, 0.8101, 0.837, 0.8451, 1.0046, 0.8036, 0.6197, 1.0558, 0.8283, -0.564, 0.912, 1.2852, 1.2839, 1.2836, 1.2821, 1.2811, 1.2802, 1.2794, 1.2784, 1.278, 1.2771, 1.2755, 1.275, 1.2748, 1.2746, 1.2743, 1.2742, 1.2739, 1.2734, 1.2733, 1.2729, 1.2727, 1.2725, 1.2724, 1.2722, 1.2717, 1.2707, 1.2706, 1.2699, 1.2689, 1.2687, 1.2685, 1.2655, 1.2555, 1.2172, 1.2501, 1.2312, 1.2392, 1.1606, 1.1191, 1.2084, 1.0626, 1.1668, 1.038, 0.9614, 0.9655, 0.6916, 0.6732, 0.8464, -0.5153, 0.3097, 0.6282, 0.1091, -0.5855, -0.6719]}, \"token.table\": {\"Topic\": [1, 2, 1, 2, 2, 3, 1, 2, 3, 2, 3, 1, 1, 3, 1, 2, 3, 1, 2, 3, 1, 2, 3, 1, 2, 3, 1, 2, 3, 1, 2, 3, 3, 1, 2, 3, 1, 2, 1, 2, 3, 1, 2, 3, 2, 2, 1, 2, 3, 1, 2, 1, 2, 3, 1, 2, 3, 1, 2, 3, 1, 2, 3, 1, 2, 3, 2, 1, 2, 3, 1, 3, 1, 2, 3, 2, 1, 2, 3, 1, 3, 1, 2, 3, 1, 2, 3, 2, 3, 1, 1, 2, 1, 2, 3, 1, 2, 1, 1, 2, 3, 1, 2, 1, 2, 3, 1, 2, 3, 1, 2, 3, 1, 2, 3, 1, 2, 3, 1, 2, 1, 2, 3, 2, 3, 1, 3, 3, 1, 2, 3, 1, 2, 3, 3, 3, 2, 2, 1, 2, 1, 2, 3, 1, 3, 1, 2, 2, 1, 2, 1, 2, 1, 3, 1, 2, 3, 1, 1, 2, 1, 2, 3, 1, 3, 1, 2, 1, 2, 3, 1, 2, 3, 1, 3, 2, 1, 3, 1, 2, 1, 2, 3, 1, 2, 3, 2, 1, 2, 1, 3, 3, 2, 3, 1, 1, 1, 1, 1, 3, 3, 3, 1, 2, 3, 1, 2, 3, 1, 3, 1, 3, 1, 3, 2, 3, 1, 3, 1, 2, 3, 1, 2, 3, 3, 2, 1, 3, 1, 3, 1, 2, 1, 2, 1, 2, 2, 3, 2, 1, 2, 3, 2, 1, 1, 2, 1, 2, 3, 1, 2, 3, 1, 2, 3, 1, 2, 3, 1, 2, 3, 1, 2, 3, 1, 2, 3, 1, 2, 1, 2, 1, 2, 3, 1, 2, 3, 1, 2, 3, 1, 2, 3, 1, 2, 3, 1, 1, 2, 3, 2, 3, 1, 2, 3, 1, 2, 3, 1, 1, 3, 1, 1, 2, 3, 1, 2, 1, 2, 3, 1, 2, 3, 1, 3, 1, 2, 1, 2, 1, 3, 1, 2, 1, 2, 1, 2, 3, 3, 1, 2, 1, 2, 3, 3], \"Freq\": [0.952816049601933, 0.04203600218832058, 0.9922960554900195, 0.011149393881910332, 0.020747997444895985, 0.9751558799101112, 0.44907181813136376, 0.0030758343707627655, 0.550574352366535, 0.9697713107729172, 0.01589789034053963, 0.9880837757948339, 0.018420447571502914, 0.9762837212896545, 0.8857782970115959, 0.11072228712644949, 0.003163493917898557, 0.9879171469937997, 0.0070065045886085085, 0.0070065045886085085, 0.8131739561934608, 0.04678158123617203, 0.14034474370851607, 0.01686152021608777, 0.01686152021608777, 0.9779681725330908, 0.9684012898569283, 0.021052201953411485, 0.011335801051836953, 0.8994599040531599, 0.07889999158361052, 0.02103999775562947, 0.9894989305972886, 0.6748727269905715, 0.05596505540897423, 0.26994909079622864, 0.0274075388281551, 0.9702268745166905, 0.6689295442597678, 0.023890340866420275, 0.30716152542540354, 0.17962559720828442, 0.6960491891821021, 0.12349259808069553, 0.9857309453272133, 0.9926518822733205, 0.9775827201222093, 0.009136287103945881, 0.009136287103945881, 0.011337908382869738, 0.9863980293096671, 0.28239437699833914, 0.5560996962428832, 0.16074756844520843, 0.005996859929876949, 0.19789637768593932, 0.7975823706736342, 0.0101396975439809, 0.0506984877199045, 0.9429918715902237, 0.07608937278160326, 0.918145098231346, 0.005072624852106884, 0.017003481418059355, 0.9011845151571459, 0.08501740709029679, 0.9782992399122635, 0.0072506227168959905, 0.04350373630137594, 0.9498315759133747, 0.01775771148024188, 0.9766741314133035, 0.6733631038760768, 0.11148395759537696, 0.21850855688693885, 0.9972369376361382, 0.19060646366312092, 0.16519226850803811, 0.6417084276658404, 0.004886102070690531, 0.9967648224208683, 0.985886447449925, 0.007302862573703148, 0.007302862573703148, 0.303088598770039, 0.6907600623131123, 0.0035242860322097563, 0.9874850884563274, 0.011482384749492178, 0.988015095865278, 0.017107598310536824, 0.975133103700599, 0.06089361318541062, 0.42625529229787434, 0.5175957120759903, 0.9966566723378231, 0.9872400430674332, 0.9808686567120853, 0.014398944507863125, 0.05639586598913057, 0.9287319207571716, 0.05049154253518001, 0.9441918454078663, 0.10302327193761347, 0.8913752658950035, 0.004479272692939716, 0.007482397630285714, 0.11223596445428571, 0.8754405227434285, 0.08101085650914036, 0.08101085650914036, 0.8412665868256883, 0.9911886876514937, 0.0023543674291009353, 0.005885918572752338, 0.29334283251393334, 0.6712529680949466, 0.03699819509184745, 0.250584079433917, 0.7436688809006569, 0.8111962947828775, 0.023067193216574716, 0.16531488471878547, 0.012847941140773997, 0.9892914678395978, 0.9662319018036734, 0.027738714884315983, 0.9862076405498962, 0.4497257679433634, 0.17726417130614322, 0.37422436164630235, 0.018185678832270118, 0.9153458345575959, 0.06668082238499043, 0.9935899583739327, 0.9670889682372346, 0.9922321877463928, 0.9904906257366947, 0.9814411212491337, 0.01763067882483474, 0.6766736046992359, 0.17029870229624422, 0.1537209525151939, 0.01729004308587344, 0.985532455894786, 0.01093820045758747, 0.9844380411828723, 0.972935309263813, 0.9366586298531356, 0.06244390865687571, 0.9935957759367987, 0.004918790969984152, 0.9703138598371992, 0.023102710948504742, 0.9915477653211566, 0.022440865301318134, 0.9873980732579979, 0.9868540365661465, 0.021541336805917702, 0.9693601562662966, 0.004550723100145071, 0.004550723100145071, 0.9920576358316254, 0.9894001514146016, 0.9924674097918286, 0.012069565358433367, 0.9897043593915361, 0.9563381192453062, 0.0067825398528035905, 0.03391269926401795, 0.006965830457318722, 0.03482915228659361, 0.9612846031099836, 0.9922431511522439, 0.008338177740775159, 0.9671658512149345, 0.023589182185789245, 0.967156469617359, 0.017088848969483792, 0.9740643912605761, 0.9706438971453101, 0.017594753422573595, 0.011729835615049065, 0.007905164292874077, 0.007905164292874077, 0.9881455366092595, 0.9943348716681791, 0.005777491805544007, 0.9937285905535693, 0.010947196409861991, 0.9852476768875791, 0.9883918569340145, 0.9952556127990878, 0.004181746272265075, 0.990553243901265, 0.9784285305751786, 0.9978981647355033, 0.9913416746048735, 0.4605344671075398, 0.540051209629705, 0.9882000640456953, 0.9923996916230905, 0.010994104005292113, 0.9271694377796349, 0.06229992269665531, 0.06456974458881644, 0.012913948917763289, 0.9168903731611935, 0.016312082331036853, 0.9787249398622111, 0.9921333061044326, 0.006012929127905652, 0.9941626072401087, 0.9817209067332608, 0.017119319821974836, 0.9758012298525656, 0.018682441801045734, 0.9901694154554239, 0.970733811798472, 0.021814242961763413, 0.005453560740440853, 0.2182761659231056, 0.6904654228179871, 0.08909231262167575, 0.9864655924007911, 0.9958153299318001, 0.9871659441908879, 0.009312886265951772, 0.11676833773345867, 0.8810701847160973, 0.01774817201186959, 0.9761494606528275, 0.9855485269979293, 0.010484558797850312, 0.01645377049848189, 0.9872262299089134, 0.033629576775801334, 0.9640478675729716, 0.9850045278386593, 0.01577295480609853, 0.01577295480609853, 0.9779231979781089, 0.9920062789561339, 0.9807857862518147, 0.9944381171496058, 0.008723141378505314, 0.009069205592252142, 0.8615745312639534, 0.1360380838837821, 0.2749660754592214, 0.006394559894400498, 0.7161907081728558, 0.1152068813016149, 0.1626450088963975, 0.7251256646631055, 0.6580368183790939, 0.046104490459681735, 0.2933922120161565, 0.17397015964481027, 0.7761745584153074, 0.05085281589617531, 0.8503151146799048, 0.13605041834878476, 0.015116713149864973, 0.2838496459740993, 0.6690741655103768, 0.050687436781089154, 0.9865674072095196, 0.00822139506007933, 0.009259947470611575, 0.9908143793554386, 0.033710457210142604, 0.1887785603767986, 0.77534051583328, 0.9969679262796028, 0.0031351192650301975, 0.0031351192650301975, 0.003936514485201976, 0.003936514485201976, 0.992001650270898, 0.00688947691841039, 0.8198477532908364, 0.17912639987867013, 0.9903328761427627, 0.009709145844536889, 0.009709145844536889, 0.9905946694377548, 0.009449479650489794, 0.9827458836509386, 0.009449479650489794, 0.016159738851828004, 0.9776642005355941, 0.010474865093114048, 0.9846373187527204, 0.010474865093114048, 0.8596085002101258, 0.10402905416555662, 0.038326493639941915, 0.9941508666575375, 0.010827188767580138, 0.9852741778497925, 0.9964290022683858, 0.06726743042476309, 0.6861277903325834, 0.2421627495291471, 0.013880158397841007, 0.9854912462467115, 0.012406305942698946, 0.9925044754159157, 0.9855812113389557, 0.9101323924172922, 0.0765338602714541, 0.012410896260235801, 0.9811433257466917, 0.016084316815519535, 0.9861887213792909, 0.0109576524597699, 0.9905860151311962, 0.009434152525059011, 0.9612534143757477, 0.039776003353479215, 0.015814976641209642, 0.9805285517549978, 0.011566465395143229, 0.9831495585871743, 0.023421098895632052, 0.9706744320078617, 0.00520468864347379, 0.9896246516642031, 0.011641590701915935, 0.9778936189609385, 0.30157384511279145, 0.534253665264471, 0.16443573882227636, 0.9872177636082513], \"Term\": [\"\\u0431\\u043e\\u043b\\u044c\\u0448\\u043e\\u0439\", \"\\u0431\\u043e\\u043b\\u044c\\u0448\\u043e\\u0439\", \"\\u0431\\u043e\\u043c\\u0431\\u0430\", \"\\u0431\\u043e\\u043c\\u0431\\u0430\", \"\\u0431\\u0440\\u0430\\u0442\\u044c\", \"\\u0431\\u0440\\u0430\\u0442\\u044c\", \"\\u0431\\u0440\\u0435\\u043d\\u0434\", \"\\u0431\\u0440\\u0435\\u043d\\u0434\", \"\\u0431\\u0440\\u0435\\u043d\\u0434\", \"\\u0431\\u044b\\u0432\\u0430\\u0442\\u044c\", \"\\u0431\\u044b\\u0432\\u0430\\u0442\\u044c\", \"\\u0431\\u044c\\u044e\\u0442\\u044f\", \"\\u0432\\u0430\\u0443\", \"\\u0432\\u0430\\u0443\", \"\\u0432\\u0430\\u0448\", \"\\u0432\\u0430\\u0448\", \"\\u0432\\u0430\\u0448\", \"\\u0432\\u0431\", \"\\u0432\\u0431\", \"\\u0432\\u0431\", \"\\u0432\\u0435\\u0441\\u044c\", \"\\u0432\\u0435\\u0441\\u044c\", \"\\u0432\\u0435\\u0441\\u044c\", \"\\u0432\\u0438\\u0434\", \"\\u0432\\u0438\\u0434\", \"\\u0432\\u0438\\u0434\", \"\\u0432\\u0438\\u0434\\u0435\\u043e\", \"\\u0432\\u0438\\u0434\\u0435\\u043e\", \"\\u0432\\u0438\\u0434\\u0435\\u043e\", \"\\u0432\\u0438\\u0434\\u0435\\u0442\\u044c\", \"\\u0432\\u0438\\u0434\\u0435\\u0442\\u044c\", \"\\u0432\\u0438\\u0434\\u0435\\u0442\\u044c\", \"\\u0432\\u043e\\u0434\\u0430\", \"\\u0432\\u043e\\u043e\\u0431\\u0449\\u0435\", \"\\u0432\\u043e\\u043e\\u0431\\u0449\\u0435\", \"\\u0432\\u043e\\u043e\\u0431\\u0449\\u0435\", \"\\u0432\\u0440\\u0435\\u043c\\u044f\", \"\\u0432\\u0440\\u0435\\u043c\\u044f\", \"\\u0433\\u043e\\u0432\\u043e\\u0440\\u0438\\u0442\\u044c\", \"\\u0433\\u043e\\u0432\\u043e\\u0440\\u0438\\u0442\\u044c\", \"\\u0433\\u043e\\u0432\\u043e\\u0440\\u0438\\u0442\\u044c\", \"\\u0433\\u043e\\u0434\", \"\\u0433\\u043e\\u0434\", \"\\u0433\\u043e\\u0434\", \"\\u0434\\u0430\\u0432\\u0430\\u0442\\u044c\", \"\\u0434\\u0430\\u0432\\u043d\\u043e\", \"\\u0434\\u0430\\u0440\\u044c\\u044f\", \"\\u0434\\u0430\\u0440\\u044c\\u044f\", \"\\u0434\\u0430\\u0440\\u044c\\u044f\", \"\\u0434\\u0435\\u0432\\u0443\\u0448\\u043a\\u0430\", \"\\u0434\\u0435\\u0432\\u0443\\u0448\\u043a\\u0430\", \"\\u0434\\u0435\\u043b\\u0430\\u0442\\u044c\", \"\\u0434\\u0435\\u043b\\u0430\\u0442\\u044c\", \"\\u0434\\u0435\\u043b\\u0430\\u0442\\u044c\", \"\\u0434\\u0435\\u043b\\u043e\", \"\\u0434\\u0435\\u043b\\u043e\", \"\\u0434\\u0435\\u043b\\u043e\", \"\\u0434\\u0435\\u043d\\u044c\", \"\\u0434\\u0435\\u043d\\u044c\", \"\\u0434\\u0435\\u043d\\u044c\", \"\\u0434\\u0435\\u043d\\u044c\\u0433\\u0438\", \"\\u0434\\u0435\\u043d\\u044c\\u0433\\u0438\", \"\\u0434\\u0435\\u043d\\u044c\\u0433\\u0438\", \"\\u0434\\u0435\\u0448\\u0435\\u0432\\u044b\\u0439\", \"\\u0434\\u0435\\u0448\\u0435\\u0432\\u044b\\u0439\", \"\\u0434\\u0435\\u0448\\u0435\\u0432\\u044b\\u0439\", \"\\u0434\\u043e\\u043b\\u0436\\u043d\\u044b\\u0439\", \"\\u0434\\u043e\\u0440\\u043e\\u0433\\u043e\\u0439\", \"\\u0434\\u043e\\u0440\\u043e\\u0433\\u043e\\u0439\", \"\\u0434\\u043e\\u0440\\u043e\\u0433\\u043e\\u0439\", \"\\u0434\\u043e\\u0441\\u0442\\u0430\\u0442\\u043e\\u0447\\u043d\\u043e\", \"\\u0434\\u043e\\u0441\\u0442\\u0430\\u0442\\u043e\\u0447\\u043d\\u043e\", \"\\u0434\\u0443\\u043c\\u0430\\u0442\\u044c\", \"\\u0434\\u0443\\u043c\\u0430\\u0442\\u044c\", \"\\u0434\\u0443\\u043c\\u0430\\u0442\\u044c\", \"\\u0436\\u0438\\u0437\\u043d\\u044c\", \"\\u0436\\u0438\\u0440\\u043d\\u044b\\u0439\", \"\\u0436\\u0438\\u0440\\u043d\\u044b\\u0439\", \"\\u0436\\u0438\\u0440\\u043d\\u044b\\u0439\", \"\\u0437\\u0430\\u043a\\u0430\\u0437\\u044b\\u0432\\u0430\\u0442\\u044c\", \"\\u0437\\u0430\\u043a\\u0430\\u0437\\u044b\\u0432\\u0430\\u0442\\u044c\", \"\\u0437\\u0430\\u043f\\u0430\\u0445\", \"\\u0437\\u0430\\u043f\\u0430\\u0445\", \"\\u0437\\u0430\\u043f\\u0430\\u0445\", \"\\u0437\\u043d\\u0430\\u0442\\u044c\", \"\\u0437\\u043d\\u0430\\u0442\\u044c\", \"\\u0437\\u043d\\u0430\\u0442\\u044c\", \"\\u0438\\u043c\\u0435\\u0442\\u044c\", \"\\u0438\\u043c\\u0435\\u0442\\u044c\", \"\\u0438\\u043d\\u0444\\u043e\\u0440\\u043c\\u0430\\u0446\\u0438\\u044f\", \"\\u0438\\u0441\\u043f\\u043e\\u043b\\u044c\\u0437\\u043e\\u0432\\u0430\\u0442\\u044c\", \"\\u0438\\u0441\\u043f\\u043e\\u043b\\u044c\\u0437\\u043e\\u0432\\u0430\\u0442\\u044c\", \"\\u043a\\u0430\\u0436\\u0434\\u044b\\u0439\", \"\\u043a\\u0430\\u0436\\u0434\\u044b\\u0439\", \"\\u043a\\u0430\\u0436\\u0434\\u044b\\u0439\", \"\\u043a\\u0430\\u0437\\u0430\\u0442\\u044c\\u0441\\u044f\", \"\\u043a\\u0430\\u043d\\u0430\\u043b\", \"\\u043a\\u043b\\u0430\\u0441\\u0441\\u043d\\u044b\\u0439\", \"\\u043a\\u043e\\u0436\\u0430\", \"\\u043a\\u043e\\u0436\\u0430\", \"\\u043a\\u043e\\u0436\\u0430\", \"\\u043a\\u043e\\u043c\\u043c\\u0435\\u043d\\u0442\\u0430\\u0440\\u0438\\u0439\", \"\\u043a\\u043e\\u043c\\u043c\\u0435\\u043d\\u0442\\u0430\\u0440\\u0438\\u0439\", \"\\u043a\\u043e\\u043d\\u0441\\u0438\\u043b\\u0435\\u0440\", \"\\u043a\\u043e\\u043d\\u0441\\u0438\\u043b\\u0435\\u0440\", \"\\u043a\\u043e\\u043d\\u0441\\u0438\\u043b\\u0435\\u0440\", \"\\u043a\\u043e\\u0440\\u0435\\u0435\\u0446\", \"\\u043a\\u043e\\u0440\\u0435\\u0435\\u0446\", \"\\u043a\\u043e\\u0440\\u0435\\u0435\\u0446\", \"\\u043a\\u043e\\u0440\\u0435\\u044f\", \"\\u043a\\u043e\\u0440\\u0435\\u044f\", \"\\u043a\\u043e\\u0440\\u0435\\u044f\", \"\\u043a\\u043e\\u0441\\u043c\\u0435\\u0442\\u0438\\u043a\\u0430\", \"\\u043a\\u043e\\u0441\\u043c\\u0435\\u0442\\u0438\\u043a\\u0430\", \"\\u043a\\u043e\\u0441\\u043c\\u0435\\u0442\\u0438\\u043a\\u0430\", \"\\u043a\\u043e\\u0442\\u043e\\u0440\\u044b\\u0439\", \"\\u043a\\u043e\\u0442\\u043e\\u0440\\u044b\\u0439\", \"\\u043a\\u043e\\u0442\\u043e\\u0440\\u044b\\u0439\", \"\\u043a\\u0440\\u0430\\u0441\\u0438\\u0442\\u044c\\u0441\\u044f\", \"\\u043a\\u0440\\u0430\\u0441\\u0438\\u0442\\u044c\\u0441\\u044f\", \"\\u043a\\u0440\\u0435\\u043c\", \"\\u043a\\u0440\\u0435\\u043c\", \"\\u043a\\u0440\\u0435\\u043c\", \"\\u043a\\u0441\\u0442\\u0430\\u0442\\u0438\", \"\\u043a\\u0441\\u0442\\u0430\\u0442\\u0438\", \"\\u043a\\u0443\\u043f\\u0438\\u0442\\u044c\", \"\\u043a\\u0443\\u043f\\u0438\\u0442\\u044c\", \"\\u043b\\u0435\\u0442\\u043e\", \"\\u043b\\u0438\\u0446\\u043e\", \"\\u043b\\u0438\\u0446\\u043e\", \"\\u043b\\u0438\\u0446\\u043e\", \"\\u043b\\u044e\\u0431\\u0438\\u0442\\u044c\", \"\\u043b\\u044e\\u0431\\u0438\\u0442\\u044c\", \"\\u043b\\u044e\\u0431\\u0438\\u0442\\u044c\", \"\\u043c\\u0430\\u0433\\u0430\\u0437\\u0438\\u043d\", \"\\u043c\\u0430\\u043c\\u0430\", \"\\u043c\\u0435\\u0441\\u0442\\u043e\", \"\\u043c\\u0438\\u043d\\u0443\\u0442\\u0430\", \"\\u043c\\u043d\\u0435\\u043d\\u0438\\u0435\", \"\\u043c\\u043d\\u0435\\u043d\\u0438\\u0435\", \"\\u043c\\u043e\\u0447\\u044c\", \"\\u043c\\u043e\\u0447\\u044c\", \"\\u043c\\u043e\\u0447\\u044c\", \"\\u043d\\u0430\\u0432\\u0435\\u0440\\u043d\\u043e\\u0435\", \"\\u043d\\u0430\\u0432\\u0435\\u0440\\u043d\\u043e\\u0435\", \"\\u043d\\u0430\\u0437\\u0430\\u0434\", \"\\u043d\\u0430\\u0437\\u0430\\u0434\", \"\\u043d\\u0430\\u043d\\u0435\\u0441\\u0435\\u043d\\u0438\\u0435\", \"\\u043d\\u0430\\u043d\\u043e\\u0441\\u0438\\u0442\\u044c\", \"\\u043d\\u0430\\u043d\\u043e\\u0441\\u0438\\u0442\\u044c\", \"\\u043d\\u0430\\u043f\\u0438\\u0441\\u0430\\u0442\\u044c\", \"\\u043d\\u0430\\u043f\\u0438\\u0441\\u0430\\u0442\\u044c\", \"\\u043d\\u0430\\u0445\\u043e\\u0434\\u0438\\u0442\\u044c\", \"\\u043d\\u0430\\u0445\\u043e\\u0434\\u0438\\u0442\\u044c\", \"\\u043d\\u0430\\u0448\", \"\\u043d\\u0435\\u0434\\u0435\\u043b\\u044f\", \"\\u043d\\u0435\\u0434\\u0435\\u043b\\u044f\", \"\\u043d\\u0435\\u043c\\u043d\\u043e\\u0433\\u043e\", \"\\u043d\\u0438\\u043a\\u0442\\u043e\", \"\\u043d\\u0438\\u043a\\u0442\\u043e\", \"\\u043d\\u0438\\u0447\\u0442\\u043e\", \"\\u043d\\u0438\\u0447\\u0442\\u043e\", \"\\u043d\\u0438\\u0447\\u0442\\u043e\", \"\\u043d\\u043e\\u0432\\u044b\\u0439\", \"\\u043d\\u043e\\u0440\\u043c\\u0430\", \"\\u043d\\u043e\\u0440\\u043c\\u0430\\u043b\\u044c\\u043d\\u044b\\u0439\", \"\\u043d\\u043e\\u0440\\u043c\\u0430\\u043b\\u044c\\u043d\\u044b\\u0439\", \"\\u043d\\u0440\\u0430\\u0432\\u0438\\u0442\\u044c\\u0441\\u044f\", \"\\u043d\\u0440\\u0430\\u0432\\u0438\\u0442\\u044c\\u0441\\u044f\", \"\\u043d\\u0440\\u0430\\u0432\\u0438\\u0442\\u044c\\u0441\\u044f\", \"\\u043d\\u0443\\u0436\\u043d\\u043e\", \"\\u043d\\u0443\\u0436\\u043d\\u043e\", \"\\u043d\\u0443\\u0436\\u043d\\u043e\", \"\\u043e\\u0431\\u0437\\u043e\\u0440\", \"\\u043e\\u0431\\u0437\\u043e\\u0440\", \"\\u043e\\u0431\\u0440\\u0430\\u0437\", \"\\u043e\\u0441\\u043d\\u043e\\u0432\\u043d\\u043e\\u0439\", \"\\u043e\\u0441\\u043d\\u043e\\u0432\\u043d\\u043e\\u0439\", \"\\u043e\\u0442\\u0432\\u0435\\u0447\\u0430\\u0442\\u044c\", \"\\u043e\\u0442\\u0432\\u0435\\u0447\\u0430\\u0442\\u044c\", \"\\u043e\\u0447\\u0435\\u043d\\u044c\", \"\\u043e\\u0447\\u0435\\u043d\\u044c\", \"\\u043e\\u0447\\u0435\\u043d\\u044c\", \"\\u043f\\u0430\\u043b\\u0435\\u0442\\u043a\\u0430\", \"\\u043f\\u0430\\u043b\\u0435\\u0442\\u043a\\u0430\", \"\\u043f\\u0430\\u043b\\u0435\\u0442\\u043a\\u0430\", \"\\u043f\\u0435\\u0440\\u0432\\u044b\\u0439\", \"\\u043f\\u0438\\u0441\\u0430\\u0442\\u044c\", \"\\u043f\\u0438\\u0441\\u0430\\u0442\\u044c\", \"\\u043f\\u043b\\u043e\\u0445\\u043e\", \"\\u043f\\u043b\\u043e\\u0445\\u043e\", \"\\u043f\\u043b\\u043e\\u0445\\u043e\\u0439\", \"\\u043f\\u043e\\u0434\\u0445\\u043e\\u0434\\u0438\\u0442\\u044c\", \"\\u043f\\u043e\\u0434\\u0445\\u043e\\u0434\\u0438\\u0442\\u044c\", \"\\u043f\\u043e\\u0436\\u0430\\u043b\\u0443\\u0439\\u0441\\u0442\\u0430\", \"\\u043f\\u043e\\u043a\\u0430\\u0437\\u044b\\u0432\\u0430\\u0442\\u044c\", \"\\u043f\\u043e\\u043a\\u0443\\u043f\\u0430\\u0442\\u044c\", \"\\u043f\\u043e\\u043b\\u0443\\u0447\\u0430\\u0442\\u044c\\u0441\\u044f\", \"\\u043f\\u043e\\u043b\\u044c\\u0437\\u043e\\u0432\\u0430\\u0442\\u044c\\u0441\\u044f\", \"\\u043f\\u043e\\u043b\\u044c\\u0437\\u043e\\u0432\\u0430\\u0442\\u044c\\u0441\\u044f\", \"\\u043f\\u043e\\u043c\\u043d\\u0438\\u0442\\u044c\", \"\\u043f\\u043e\\u043c\\u043e\\u0433\\u0430\\u0442\\u044c\", \"\\u043f\\u043e\\u043d\\u0438\\u043c\\u0430\\u0442\\u044c\", \"\\u043f\\u043e\\u043d\\u0438\\u043c\\u0430\\u0442\\u044c\", \"\\u043f\\u043e\\u043d\\u0438\\u043c\\u0430\\u0442\\u044c\", \"\\u043f\\u043e\\u043d\\u0440\\u0430\\u0432\\u0438\\u0442\\u044c\\u0441\\u044f\", \"\\u043f\\u043e\\u043d\\u0440\\u0430\\u0432\\u0438\\u0442\\u044c\\u0441\\u044f\", \"\\u043f\\u043e\\u043d\\u0440\\u0430\\u0432\\u0438\\u0442\\u044c\\u0441\\u044f\", \"\\u043f\\u043e\\u0440\\u0430\", \"\\u043f\\u043e\\u0440\\u0430\", \"\\u043f\\u043e\\u0447\\u0435\\u043c\\u0443\", \"\\u043f\\u043e\\u0447\\u0435\\u043c\\u0443\", \"\\u043f\\u0440\\u0430\\u0432\\u0434\\u0430\", \"\\u043f\\u0440\\u0438\\u044f\\u0442\\u043d\\u043e\", \"\\u043f\\u0440\\u043e\\u0431\\u043e\\u0432\\u0430\\u0442\\u044c\", \"\\u043f\\u0440\\u043e\\u0431\\u043e\\u0432\\u0430\\u0442\\u044c\", \"\\u043f\\u0440\\u043e\\u0432\\u0435\\u0440\\u044f\\u0442\\u044c\", \"\\u043f\\u0440\\u043e\\u0432\\u0435\\u0440\\u044f\\u0442\\u044c\", \"\\u043f\\u0440\\u043e\\u0434\\u0443\\u043a\\u0442\", \"\\u043f\\u0440\\u043e\\u0434\\u0443\\u043a\\u0442\", \"\\u043f\\u0440\\u043e\\u0434\\u0443\\u043a\\u0442\", \"\\u043f\\u0440\\u043e\\u0441\\u0442\\u043e\", \"\\u043f\\u0440\\u043e\\u0441\\u0442\\u043e\", \"\\u043f\\u0440\\u043e\\u0441\\u0442\\u043e\", \"\\u043f\\u0440\\u043e\\u0445\\u043e\\u0434\\u0438\\u0442\\u044c\", \"\\u043f\\u0440\\u044f\\u043c\\u043e\\u0439\", \"\\u043f\\u0443\\u0434\\u0440\\u0430\", \"\\u043f\\u0443\\u0434\\u0440\\u0430\", \"\\u0440\", \"\\u0440\", \"\\u0440\\u0430\\u0431\\u043e\\u0442\\u0430\", \"\\u0440\\u0430\\u0431\\u043e\\u0442\\u0430\", \"\\u0440\\u0430\\u0431\\u043e\\u0442\\u0430\\u0442\\u044c\", \"\\u0440\\u0430\\u0431\\u043e\\u0442\\u0430\\u0442\\u044c\", \"\\u0440\\u0430\\u0432\\u043d\\u044b\\u0439\", \"\\u0440\\u0430\\u0432\\u043d\\u044b\\u0439\", \"\\u0440\\u0430\\u0437\\u043d\\u044b\\u0439\", \"\\u0440\\u0430\\u0437\\u043d\\u044b\\u0439\", \"\\u0440\\u0435\\u0431\\u0435\\u043d\\u043e\\u043a\", \"\\u0440\\u0435\\u0437\\u0443\\u043b\\u044c\\u0442\\u0430\\u0442\", \"\\u0440\\u0435\\u0437\\u0443\\u043b\\u044c\\u0442\\u0430\\u0442\", \"\\u0440\\u0435\\u0437\\u0443\\u043b\\u044c\\u0442\\u0430\\u0442\", \"\\u0440\\u0435\\u043a\\u043b\\u0430\\u043c\\u0430\", \"\\u0440\\u0435\\u0441\\u043d\\u0438\\u0446\\u0430\", \"\\u0440\\u043e\\u0437\\u043e\\u0432\\u044b\\u0439\", \"\\u0440\\u043e\\u0437\\u043e\\u0432\\u044b\\u0439\", \"\\u0440\\u043e\\u0441\\u0441\\u0438\\u044f\", \"\\u0440\\u043e\\u0441\\u0441\\u0438\\u044f\", \"\\u0440\\u043e\\u0441\\u0441\\u0438\\u044f\", \"\\u0440\\u0443\\u0431\\u043b\\u044c\", \"\\u0440\\u0443\\u0431\\u043b\\u044c\", \"\\u0440\\u0443\\u0431\\u043b\\u044c\", \"\\u0440\\u0443\\u0441\\u0441\\u043a\\u0438\\u0439\", \"\\u0440\\u0443\\u0441\\u0441\\u043a\\u0438\\u0439\", \"\\u0440\\u0443\\u0441\\u0441\\u043a\\u0438\\u0439\", \"\\u0441\\u0430\\u043c\\u044b\\u0439\", \"\\u0441\\u0430\\u043c\\u044b\\u0439\", \"\\u0441\\u0430\\u043c\\u044b\\u0439\", \"\\u0441\\u0432\\u043e\\u0439\", \"\\u0441\\u0432\\u043e\\u0439\", \"\\u0441\\u0432\\u043e\\u0439\", \"\\u0441\\u043a\\u0430\\u0437\\u0430\\u0442\\u044c\", \"\\u0441\\u043a\\u0430\\u0437\\u0430\\u0442\\u044c\", \"\\u0441\\u043a\\u0430\\u0437\\u0430\\u0442\\u044c\", \"\\u0441\\u043c\\u043e\\u0442\\u0440\\u0435\\u0442\\u044c\", \"\\u0441\\u043c\\u043e\\u0442\\u0440\\u0435\\u0442\\u044c\", \"\\u0441\\u043c\\u043e\\u0442\\u0440\\u0435\\u0442\\u044c\", \"\\u0441\\u043d\\u0438\\u043c\\u0430\\u0442\\u044c\", \"\\u0441\\u043d\\u0438\\u043c\\u0430\\u0442\\u044c\", \"\\u0441\\u043e\\u0433\\u043b\\u0430\\u0441\\u043d\\u044b\\u0439\", \"\\u0441\\u043e\\u0433\\u043b\\u0430\\u0441\\u043d\\u044b\\u0439\", \"\\u0441\\u043e\\u0441\\u0442\\u0430\\u0432\", \"\\u0441\\u043e\\u0441\\u0442\\u0430\\u0432\", \"\\u0441\\u043e\\u0441\\u0442\\u0430\\u0432\", \"\\u0441\\u043f\\u0430\\u0441\\u0438\\u0431\\u043e\", \"\\u0441\\u043f\\u0430\\u0441\\u0438\\u0431\\u043e\", \"\\u0441\\u043f\\u0430\\u0441\\u0438\\u0431\\u043e\", \"\\u0441\\u0440\\u0435\\u0434\\u0441\\u0442\\u0432\\u043e\", \"\\u0441\\u0440\\u0435\\u0434\\u0441\\u0442\\u0432\\u043e\", \"\\u0441\\u0440\\u0435\\u0434\\u0441\\u0442\\u0432\\u043e\", \"\\u0441\\u0442\\u0430\\u043d\\u043e\\u0432\\u0438\\u0442\\u044c\\u0441\\u044f\", \"\\u0441\\u0442\\u0430\\u043d\\u043e\\u0432\\u0438\\u0442\\u044c\\u0441\\u044f\", \"\\u0441\\u0442\\u0430\\u043d\\u043e\\u0432\\u0438\\u0442\\u044c\\u0441\\u044f\", \"\\u0441\\u0442\\u0430\\u0440\\u044b\\u0439\", \"\\u0441\\u0442\\u0430\\u0440\\u044b\\u0439\", \"\\u0441\\u0442\\u0430\\u0440\\u044b\\u0439\", \"\\u0441\\u0442\\u043e\\u0438\\u0442\\u044c\", \"\\u0442\\u0435\\u043d\\u044c\", \"\\u0442\\u0435\\u043d\\u044c\", \"\\u0442\\u0435\\u043d\\u044c\", \"\\u0442\\u0438\\u043f\", \"\\u0442\\u0438\\u043f\", \"\\u0442\\u043e\\u0432\\u0430\\u0440\", \"\\u0442\\u043e\\u0432\\u0430\\u0440\", \"\\u0442\\u043e\\u0432\\u0430\\u0440\", \"\\u0442\\u043e\\u043d\", \"\\u0442\\u043e\\u043d\", \"\\u0442\\u043e\\u043d\", \"\\u0442\\u0443\\u0448\\u044c\", \"\\u0443\\u0432\\u0438\\u0434\\u0435\\u0442\\u044c\", \"\\u0443\\u0432\\u0438\\u0434\\u0435\\u0442\\u044c\", \"\\u0443\\u0437\\u043d\\u0430\\u0432\\u0430\\u0442\\u044c\", \"\\u0443\\u0445\\u043e\\u0434\", \"\\u0443\\u0445\\u043e\\u0434\", \"\\u0443\\u0445\\u043e\\u0434\", \"\\u0443\\u0445\\u043e\\u0434\\u0438\\u0442\\u044c\", \"\\u0443\\u0445\\u043e\\u0434\\u0438\\u0442\\u044c\", \"\\u0444\\u0430\\u043a\\u0442\", \"\\u0444\\u0430\\u043a\\u0442\", \"\\u0445\\u043e\\u0434\\u0438\\u0442\\u044c\", \"\\u0445\\u043e\\u0440\\u043e\\u0448\\u0438\\u0439\", \"\\u0445\\u043e\\u0440\\u043e\\u0448\\u0438\\u0439\", \"\\u0445\\u043e\\u0440\\u043e\\u0448\\u0438\\u0439\", \"\\u0445\\u043e\\u0442\\u0435\\u0442\\u044c\", \"\\u0445\\u043e\\u0442\\u0435\\u0442\\u044c\", \"\\u0445\\u043e\\u0442\\u0435\\u0442\\u044c\\u0441\\u044f\", \"\\u0445\\u043e\\u0442\\u0435\\u0442\\u044c\\u0441\\u044f\", \"\\u0446\\u0432\\u0435\\u0442\", \"\\u0446\\u0432\\u0435\\u0442\", \"\\u0446\\u0435\\u043d\\u0430\", \"\\u0446\\u0435\\u043d\\u0430\", \"\\u0447\\u0430\\u0441\", \"\\u0447\\u0430\\u0441\", \"\\u0447\\u0430\\u0441\\u0442\\u043e\", \"\\u0447\\u0430\\u0441\\u0442\\u043e\", \"\\u0447\\u0435\\u043b\\u043e\\u0432\\u0435\\u043a\", \"\\u0447\\u0435\\u043b\\u043e\\u0432\\u0435\\u043a\", \"\\u0447\\u0435\\u043b\\u043e\\u0432\\u0435\\u043a\", \"\\u0447\\u0438\\u0442\\u0430\\u0442\\u044c\", \"\\u0447\\u0443\\u0432\\u0441\\u0442\\u0432\\u043e\\u0432\\u0430\\u0442\\u044c\", \"\\u0447\\u0443\\u0432\\u0441\\u0442\\u0432\\u043e\\u0432\\u0430\\u0442\\u044c\", \"\\u044d\\u0442\\u043e\", \"\\u044d\\u0442\\u043e\", \"\\u044d\\u0442\\u043e\", \"\\u044d\\u0444\\u0444\\u0435\\u043a\\u0442\"]}, \"R\": 30, \"lambda.step\": 0.01, \"plot.opts\": {\"xlab\": \"PC1\", \"ylab\": \"PC2\"}, \"topic.order\": [2, 3, 1]};\n\nfunction LDAvis_load_lib(url, callback){\n  var s = document.createElement('script');\n  s.src = url;\n  s.async = true;\n  s.onreadystatechange = s.onload = callback;\n  s.onerror = function(){console.warn(\"failed to load library \" + url);};\n  document.getElementsByTagName(\"head\")[0].appendChild(s);\n}\n\nif(typeof(LDAvis) !== \"undefined\"){\n   // already loaded: just create the visualization\n   !function(LDAvis){\n       new LDAvis(\"#\" + \"ldavis_el1560561250092965056744123\", ldavis_el1560561250092965056744123_data);\n   }(LDAvis);\n}else if(typeof define === \"function\" && define.amd){\n   // require.js is available: use it to load d3/LDAvis\n   require.config({paths: {d3: \"https://d3js.org/d3.v5\"}});\n   require([\"d3\"], function(d3){\n      window.d3 = d3;\n      LDAvis_load_lib(\"https://cdn.jsdelivr.net/gh/bmabey/pyLDAvis@3.4.0/pyLDAvis/js/ldavis.v3.0.0.js\", function(){\n        new LDAvis(\"#\" + \"ldavis_el1560561250092965056744123\", ldavis_el1560561250092965056744123_data);\n      });\n    });\n}else{\n    // require.js not available: dynamically load d3 & LDAvis\n    LDAvis_load_lib(\"https://d3js.org/d3.v5.js\", function(){\n         LDAvis_load_lib(\"https://cdn.jsdelivr.net/gh/bmabey/pyLDAvis@3.4.0/pyLDAvis/js/ldavis.v3.0.0.js\", function(){\n                 new LDAvis(\"#\" + \"ldavis_el1560561250092965056744123\", ldavis_el1560561250092965056744123_data);\n            })\n         });\n}\n</script>"
     },
     "execution_count": 31,
     "metadata": {},
     "output_type": "execute_result"
    }
   ],
   "source": [
    "# 20 Визуализация топиков\n",
    "\n",
    "pyLDAvis.enable_notebook()\n",
    "vis = pyLDAvis.gensim.prepare(lda_model, corpus, id2word)\n",
    "vis"
   ],
   "metadata": {
    "collapsed": false,
    "ExecuteTime": {
     "end_time": "2023-06-02T23:22:38.940575Z",
     "start_time": "2023-06-02T23:22:37.519336Z"
    }
   }
  },
  {
   "cell_type": "markdown",
   "source": [
    "#### По итогам получилось 3 топика с базовыми параметрами - также как в базовом случае\n",
    "\n",
    "### Интерпретация LDA\n",
    "\n",
    "Perplexity - -8.28472003184794\n",
    "Coherence Score - 0.52\n",
    "\n",
    "\n",
    "\n",
    "Topic 1 - Отзывы на обзоры блогера\n",
    "Topic 2 - Отзывы о средстве на кожу\n",
    "Topic 3 - Отзывы о средстве в общем\n"
   ],
   "metadata": {
    "collapsed": false
   }
  },
  {
   "cell_type": "code",
   "execution_count": 20,
   "outputs": [],
   "source": [
    "# 21 predicting new text which is in text dataframe\n",
    "\n",
    "\n",
    "results = []\n",
    "\n",
    "for t in all_text:\n",
    "    corp = id2word.doc2bow(t)\n",
    "    pred = [x[1] for x in lda_model[corp][0]]\n",
    "    results.append(pred)"
   ],
   "metadata": {
    "collapsed": false,
    "ExecuteTime": {
     "end_time": "2023-06-02T23:11:28.862785Z",
     "start_time": "2023-06-02T23:11:28.110257Z"
    }
   }
  },
  {
   "cell_type": "code",
   "execution_count": 21,
   "outputs": [],
   "source": [
    "# 22 Adding topics to text indexes and original text\n",
    "\n",
    "topics = pd.DataFrame(data=results, columns=['Topic_1', 'Topic_2', 'Topic_3'])\n",
    "\n",
    "topics['index'] = cmt_df.index\n",
    "topics['snippet.textOriginal'] = cmt_df['snippet.textOriginal']\n",
    "topics['lemmatized_text'] = cmt_df['lemmatized_text']"
   ],
   "metadata": {
    "collapsed": false,
    "ExecuteTime": {
     "end_time": "2023-06-02T23:11:28.872546Z",
     "start_time": "2023-06-02T23:11:28.867663Z"
    }
   }
  },
  {
   "cell_type": "code",
   "execution_count": 22,
   "outputs": [],
   "source": [
    "# 23 Saving\n",
    "\n",
    "topics.to_excel('comments_with_topic.xlsx', index=False)"
   ],
   "metadata": {
    "collapsed": false,
    "ExecuteTime": {
     "end_time": "2023-06-02T23:11:29.761615Z",
     "start_time": "2023-06-02T23:11:28.873154Z"
    }
   }
  },
  {
   "cell_type": "markdown",
   "source": [
    "## <a id=\"sentiment\">Заключение</a>\n",
    "\n",
    "- Нами был проведен анализ текстовых комментанриев к разного рода видео `video_data.xlsx` с указанным объектом обзора\n",
    "\n",
    "- Для обработки текста использовались различные подходы очистки, включая удаление пунктуации, url. Также для улучшения качества модели на текстовых данных мы использовали лемматизацию\n",
    "\n",
    "- Был получен массив данных `cleared_comments.xlsx`\n",
    "\n",
    "- Был получен массив данных Документ-частота токена `cm_cmatrix.xlsx`\n",
    "\n",
    "- С помощью сентимент анализа было получено, что европейская косметика воспринимается более позитивно, чем корейская. Это противоречит нашей содержательной гипотезе. Мы перечисли несколько факторов почему наша содержательная гипотеза не подтвердилась:\n",
    "    - Влияние Youtube как площадки\n",
    "    - Влияние блогера - лучше сравнивать у одного\n",
    "    - Проблемы смещения модели\n",
    "    - Малое количество видео\n",
    "\n",
    "- Была обучена и визуализирована модель LDA с показателями метрик Perplexity - -8.28472003184794, Coherence Score - 0.52\n",
    "\n",
    "- В рамках тематического моделирования были получены 3 топика:\n",
    "    Topic 1 - Отзывы на обзоры блогера\n",
    "    Topic 2 - Отзывы о средстве на кожу\n",
    "    Topic 3 - Отзывы о средстве в общем\n"
   ],
   "metadata": {
    "collapsed": false
   }
  },
  {
   "cell_type": "markdown",
   "source": [
    "### Бонус:Тюнинг модели LDA\n",
    "\n",
    "\n",
    "### Справка по тюнингу\n",
    "\n",
    "`Coherence Score` (Показатель согласованности) - это показатель того, насколько хорошо темы в модели скрытого распределения Дирихле (LDA) связаны друг с другом. Он рассчитывается путем измерения сходства между словами в каждой теме. Более высокий балл согласованности указывает на то, что темы в большей степени связаны друг с другом, а более низкий балл согласованности указывает на то, что темы в меньшей степени связаны друг с другом.\n",
    "\n",
    "Существует ряд различных показателей согласованности, которые можно использовать, но наиболее распространенными из них являются:\n",
    "\n",
    "- **C-value**\n",
    "\n",
    "- **UMass**\n",
    "\n",
    "- **Sparsity (Разреженность)**\n",
    "\n",
    "***Важно отметить, что показатель согласованности - это всего лишь один из показателей качества модели. Другие показатели, такие как `Perplexity` (недоумение), также могут быть использованы для оценки качества модели.***"
   ],
   "metadata": {
    "collapsed": false
   }
  },
  {
   "cell_type": "raw",
   "source": [
    "#24 Оптимизация гиперпараметров\n",
    "\n",
    "def calculate_coherence_score(n, alpha, beta):\n",
    "    lda_model = gensim.models.ldamodel.LdaModel(corpus=corpus,\n",
    "                                           id2word=id2word,\n",
    "                                           num_topics=n,\n",
    "                                           random_state=42,\n",
    "                                           update_every=1,\n",
    "                                           chunksize=100,\n",
    "                                           passes=10,\n",
    "                                           alpha=alpha,\n",
    "                                           per_word_topics=True,\n",
    "                                           eta = beta)\n",
    "\n",
    "    perplexity = lda_model.log_perplexity(corpus)\n",
    "\n",
    "    coherence_model_lda = CoherenceModel(model=lda_model,\n",
    "                                         texts=all_text,\n",
    "                                         dictionary=id2word,\n",
    "                                         coherence='c_v')\n",
    "    coherence_lda = coherence_model_lda.get_coherence()\n",
    "\n",
    "    return perplexity, coherence_lda\n",
    "\n",
    "#list containing various hyperparameters\n",
    "no_of_topics = [3, 5, 7, 10]\n",
    "alpha_list = ['symmetric',0.3,0.5]\n",
    "beta_list = ['auto',0.3,0.5]\n",
    "\n",
    "\n",
    "for n in no_of_topics:\n",
    "    for alpha in alpha_list:\n",
    "        for beta in beta_list:\n",
    "            perp, coher = calculate_coherence_score(n, alpha, beta)\n",
    "            print(f\"n : {n} ; alpha : {alpha} ; beta : {beta} ; Perplexity: {perp} ; Coherence : {coher}\")"
   ],
   "metadata": {
    "collapsed": false
   }
  },
  {
   "cell_type": "markdown",
   "source": [],
   "metadata": {
    "collapsed": false
   }
  }
 ],
 "metadata": {
  "kernelspec": {
   "display_name": "Python 3",
   "language": "python",
   "name": "python3"
  },
  "language_info": {
   "codemirror_mode": {
    "name": "ipython",
    "version": 2
   },
   "file_extension": ".py",
   "mimetype": "text/x-python",
   "name": "python",
   "nbconvert_exporter": "python",
   "pygments_lexer": "ipython2",
   "version": "2.7.6"
  }
 },
 "nbformat": 4,
 "nbformat_minor": 0
}
