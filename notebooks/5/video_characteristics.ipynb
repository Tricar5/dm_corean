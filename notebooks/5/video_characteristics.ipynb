{
 "cells": [
  {
   "cell_type": "markdown",
   "source": [
    "# Семинар 5\n",
    "## Сбор характеристик видео"
   ],
   "metadata": {
    "collapsed": false
   }
  },
  {
   "cell_type": "code",
   "execution_count": 1,
   "outputs": [],
   "source": [
    "import pathlib\n",
    "import yaml\n",
    "\n",
    "ROOT = pathlib.Path().resolve().parent.parent\n",
    "\n",
    "with open(ROOT / \"config.yml\", \"r\") as f:\n",
    "    config = yaml.safe_load(f)"
   ],
   "metadata": {
    "collapsed": false
   }
  },
  {
   "cell_type": "code",
   "execution_count": 17,
   "outputs": [],
   "source": [
    "# 3\n",
    "DATA_PATH = ROOT / config['api']['DATA_PATH']\n",
    "\n",
    "seminar = 'seminar5'\n",
    "\n",
    "query = \"k beauty\"\n",
    "type_query = \"video\"\n",
    "\n",
    "# Для поиска видео с учетом даты:\n",
    "publishedAfter = '2020-01-01T00:00:00Z'\n",
    "publishedBefore = '2022-01-01T00:00:00Z'"
   ],
   "metadata": {
    "collapsed": false
   }
  },
  {
   "cell_type": "code",
   "execution_count": 3,
   "outputs": [],
   "source": [
    "# 3.1\n",
    "class KeyStorage:\n",
    "    \"\"\"\n",
    "    Class to use in iteration\n",
    "    \"\"\"\n",
    "\n",
    "    def __init__(self, key_arr: list[str]):\n",
    "        self.key_gen = iter(key_arr)\n",
    "\n",
    "    def get_next_key(self):\n",
    "        \"\"\"\n",
    "        Returns API key to use\n",
    "        :return:\n",
    "        \"\"\"\n",
    "        return next(self.key_gen)\n",
    "\n",
    "\n",
    "key_storage = KeyStorage(config['api']['keys'])"
   ],
   "metadata": {
    "collapsed": false
   }
  },
  {
   "cell_type": "code",
   "execution_count": 4,
   "outputs": [],
   "source": [
    "# 3.2 Просмотр API ключа\n",
    "\n",
    "API_KEY = key_storage.get_next_key()"
   ],
   "metadata": {
    "collapsed": false
   }
  },
  {
   "cell_type": "code",
   "execution_count": 5,
   "outputs": [],
   "source": [
    "#4\n",
    "import googleapiclient.discovery as api"
   ],
   "metadata": {
    "collapsed": false
   }
  },
  {
   "cell_type": "code",
   "execution_count": 6,
   "outputs": [],
   "source": [
    "#5\n",
    "api_service_name = \"youtube\"\n",
    "api_version = \"v3\"\n",
    "\n",
    "youtube = api.build(api_service_name,\n",
    "                    api_version,\n",
    "                    developerKey=API_KEY)"
   ],
   "metadata": {
    "collapsed": false
   }
  },
  {
   "cell_type": "code",
   "execution_count": 7,
   "outputs": [],
   "source": [
    "# Открываем свой датафрейм"
   ],
   "metadata": {
    "collapsed": false
   }
  },
  {
   "cell_type": "code",
   "execution_count": 8,
   "outputs": [
    {
     "data": {
      "text/plain": "      Unnamed: 0                         etag        id.kind   id.videoId  \\\n0              1  xUPXCyswbDfQ0O_cEo1y9jBHY-I  youtube#video  AOVTUmDU7Bs   \n1              2  ry0zlUewmQ1_rgpvH5UeqQjwyOE  youtube#video  oNJWU8cm0eU   \n2              3  FAWm2FVeXAKFMi8_98auJXmRjZo  youtube#video  fgeqSoLgccU   \n3              4  6Lv9z7Od-sjYY5pxt54NruY3weY  youtube#video  gvsV9ds9uFk   \n4              5  a5HhfVq4RM98pKJBdn9oqGBOICE  youtube#video  o5hc2PaPFZ8   \n...          ...                          ...            ...          ...   \n1191        1192  C5ZSuAtTkMrjeBvqJGVNQxk_HH8  youtube#video  Hu61nOX01-0   \n1192        1193  v90hbzRjX48mvAZCws9D9BTuliQ  youtube#video  vQ2EZey0n_M   \n1193        1194  Frp6d0X8Z2VsF1dZvT4WL66U8U4  youtube#video  6A5uJXxPbQs   \n1194        1195  SvvmimKVFGdfwOpVyswXecrzVuE  youtube#video  lP4oNCbXmUg   \n1195        1196  DzNctlEMd1Hl_rZR2l0qNbCq7U8  youtube#video  1ysfvMA0lww   \n\n       snippet.publishedAt         snippet.channelId  \\\n0                     2018  UCgln4bTPN2cXnAjXVgM-Cfw   \n1                     2020  UChhOtjq-3QyyLmP2jv9amrg   \n2                     2018  UCgln4bTPN2cXnAjXVgM-Cfw   \n3                     2022  UCJ9E_Ob8i8-2cyd67mbkRfw   \n4                     2021  UCJ9E_Ob8i8-2cyd67mbkRfw   \n...                    ...                       ...   \n1191  2022-11-12T00:54:24Z  UC4hwR9831LIKr9wKQOO_ZYA   \n1192  2023-01-31T10:56:50Z  UCQTWwkU4zxqmxv-ywGkGPSA   \n1193  2022-10-15T06:06:44Z  UCdIEHk1dbkXvWPh8LvyJQgg   \n1194  2023-02-25T20:18:44Z  UCV5d39R6e3nfAaW5aldP_ww   \n1195  2023-02-16T03:30:01Z  UCLId2yKE3iTLMFbvryVVmAg   \n\n                                          snippet.title  \\\n0     Annoying Moments While Getting Ready ENG SUB •...   \n1                                    Rhythm of K-Beauty   \n2       Short Hair VS Long Hair ENG SUB • dingo kbeauty   \n3                        Pretty duo 💓 #lipbalm #kbeauty   \n4     #kajabeauty #kbeauty #kbeautyreview #review #a...   \n...                                                 ...   \n1191  How do get IDOL’S CURTAIN BANGS? CELEBRITY #sh...   \n1192  #exosome ampoule korean skin care ~ #피부역행템 #kb...   \n1193  Makeup look for selfies #shorts #makeup #makeu...   \n1194  Types of Vitamin C Serums #jumiso #serums #kbe...   \n1195  TREND ALAT ROLL UNTUK EYE BAGS.. 😱👀 #kbeauty #...   \n\n                                    snippet.description  \\\n0     ANNOYING MOMENTS WHILE GETTING READY!! UGH!! M...   \n1     Rhythm of K-Beauty Want to learn about Korean ...   \n2     WORLD'S FIRST PROBLEM This is #1 thing I ask m...   \n3                                                   NaN   \n4                                                   NaN   \n...                                                 ...   \n1191                                                NaN   \n1192                                                NaN   \n1193                                                NaN   \n1194                                                NaN   \n1195  kbeauty #beautytips #faceroller Face Roller .....   \n\n                      snippet.thumbnails.default.url  \\\n0     https://i.ytimg.com/vi/AOVTUmDU7Bs/default.jpg   \n1     https://i.ytimg.com/vi/oNJWU8cm0eU/default.jpg   \n2     https://i.ytimg.com/vi/fgeqSoLgccU/default.jpg   \n3     https://i.ytimg.com/vi/gvsV9ds9uFk/default.jpg   \n4     https://i.ytimg.com/vi/o5hc2PaPFZ8/default.jpg   \n...                                              ...   \n1191  https://i.ytimg.com/vi/Hu61nOX01-0/default.jpg   \n1192  https://i.ytimg.com/vi/vQ2EZey0n_M/default.jpg   \n1193  https://i.ytimg.com/vi/6A5uJXxPbQs/default.jpg   \n1194  https://i.ytimg.com/vi/lP4oNCbXmUg/default.jpg   \n1195  https://i.ytimg.com/vi/1ysfvMA0lww/default.jpg   \n\n      snippet.thumbnails.default.width  ...  \\\n0                                  120  ...   \n1                                  120  ...   \n2                                  120  ...   \n3                                  120  ...   \n4                                  120  ...   \n...                                ...  ...   \n1191                               120  ...   \n1192                               120  ...   \n1193                               120  ...   \n1194                               120  ...   \n1195                               120  ...   \n\n                         snippet.thumbnails.medium.url  \\\n0     https://i.ytimg.com/vi/AOVTUmDU7Bs/mqdefault.jpg   \n1     https://i.ytimg.com/vi/oNJWU8cm0eU/mqdefault.jpg   \n2     https://i.ytimg.com/vi/fgeqSoLgccU/mqdefault.jpg   \n3     https://i.ytimg.com/vi/gvsV9ds9uFk/mqdefault.jpg   \n4     https://i.ytimg.com/vi/o5hc2PaPFZ8/mqdefault.jpg   \n...                                                ...   \n1191  https://i.ytimg.com/vi/Hu61nOX01-0/mqdefault.jpg   \n1192  https://i.ytimg.com/vi/vQ2EZey0n_M/mqdefault.jpg   \n1193  https://i.ytimg.com/vi/6A5uJXxPbQs/mqdefault.jpg   \n1194  https://i.ytimg.com/vi/lP4oNCbXmUg/mqdefault.jpg   \n1195  https://i.ytimg.com/vi/1ysfvMA0lww/mqdefault.jpg   \n\n     snippet.thumbnails.medium.width  snippet.thumbnails.medium.height  \\\n0                                320                               180   \n1                                320                               180   \n2                                320                               180   \n3                                320                               180   \n4                                320                               180   \n...                              ...                               ...   \n1191                             320                               180   \n1192                             320                               180   \n1193                             320                               180   \n1194                             320                               180   \n1195                             320                               180   \n\n                           snippet.thumbnails.high.url  \\\n0     https://i.ytimg.com/vi/AOVTUmDU7Bs/hqdefault.jpg   \n1     https://i.ytimg.com/vi/oNJWU8cm0eU/hqdefault.jpg   \n2     https://i.ytimg.com/vi/fgeqSoLgccU/hqdefault.jpg   \n3     https://i.ytimg.com/vi/gvsV9ds9uFk/hqdefault.jpg   \n4     https://i.ytimg.com/vi/o5hc2PaPFZ8/hqdefault.jpg   \n...                                                ...   \n1191  https://i.ytimg.com/vi/Hu61nOX01-0/hqdefault.jpg   \n1192  https://i.ytimg.com/vi/vQ2EZey0n_M/hqdefault.jpg   \n1193  https://i.ytimg.com/vi/6A5uJXxPbQs/hqdefault.jpg   \n1194  https://i.ytimg.com/vi/lP4oNCbXmUg/hqdefault.jpg   \n1195  https://i.ytimg.com/vi/1ysfvMA0lww/hqdefault.jpg   \n\n     snippet.thumbnails.high.width  snippet.thumbnails.high.height  \\\n0                              480                             360   \n1                              480                             360   \n2                              480                             360   \n3                              480                             360   \n4                              480                             360   \n...                            ...                             ...   \n1191                           480                             360   \n1192                           480                             360   \n1193                           480                             360   \n1194                           480                             360   \n1195                           480                             360   \n\n                     snippet.channelTitle snippet.liveBroadcastContent  \\\n0                                     DGG                         none   \n1                      Imagine Your Korea                         none   \n2                                     DGG                         none   \n3                                 Kerbom3                         none   \n4                                 Kerbom3                         none   \n...                                   ...                          ...   \n1191  Kyurin Diary, Multilingual Traveler                         none   \n1192                        Joyful_yeonsu                         none   \n1193                               minana                         none   \n1194                 fightingmothernature                         none   \n1195                             babyiviy                         none   \n\n       snippet.publishTime                  kind  \n0     2018-07-12T06:00:04Z                   NaN  \n1     2020-08-25T06:38:17Z                   NaN  \n2     2018-07-10T06:00:30Z                   NaN  \n3     2022-04-15T04:52:25Z                   NaN  \n4     2021-09-24T16:54:57Z                   NaN  \n...                    ...                   ...  \n1191  2022-11-12T00:54:24Z  youtube#searchResult  \n1192  2023-01-31T10:56:50Z  youtube#searchResult  \n1193  2022-10-15T06:06:44Z  youtube#searchResult  \n1194  2023-02-25T20:18:44Z  youtube#searchResult  \n1195  2023-02-16T03:30:01Z  youtube#searchResult  \n\n[1196 rows x 21 columns]",
      "text/html": "<div>\n<style scoped>\n    .dataframe tbody tr th:only-of-type {\n        vertical-align: middle;\n    }\n\n    .dataframe tbody tr th {\n        vertical-align: top;\n    }\n\n    .dataframe thead th {\n        text-align: right;\n    }\n</style>\n<table border=\"1\" class=\"dataframe\">\n  <thead>\n    <tr style=\"text-align: right;\">\n      <th></th>\n      <th>Unnamed: 0</th>\n      <th>etag</th>\n      <th>id.kind</th>\n      <th>id.videoId</th>\n      <th>snippet.publishedAt</th>\n      <th>snippet.channelId</th>\n      <th>snippet.title</th>\n      <th>snippet.description</th>\n      <th>snippet.thumbnails.default.url</th>\n      <th>snippet.thumbnails.default.width</th>\n      <th>...</th>\n      <th>snippet.thumbnails.medium.url</th>\n      <th>snippet.thumbnails.medium.width</th>\n      <th>snippet.thumbnails.medium.height</th>\n      <th>snippet.thumbnails.high.url</th>\n      <th>snippet.thumbnails.high.width</th>\n      <th>snippet.thumbnails.high.height</th>\n      <th>snippet.channelTitle</th>\n      <th>snippet.liveBroadcastContent</th>\n      <th>snippet.publishTime</th>\n      <th>kind</th>\n    </tr>\n  </thead>\n  <tbody>\n    <tr>\n      <th>0</th>\n      <td>1</td>\n      <td>xUPXCyswbDfQ0O_cEo1y9jBHY-I</td>\n      <td>youtube#video</td>\n      <td>AOVTUmDU7Bs</td>\n      <td>2018</td>\n      <td>UCgln4bTPN2cXnAjXVgM-Cfw</td>\n      <td>Annoying Moments While Getting Ready ENG SUB •...</td>\n      <td>ANNOYING MOMENTS WHILE GETTING READY!! UGH!! M...</td>\n      <td>https://i.ytimg.com/vi/AOVTUmDU7Bs/default.jpg</td>\n      <td>120</td>\n      <td>...</td>\n      <td>https://i.ytimg.com/vi/AOVTUmDU7Bs/mqdefault.jpg</td>\n      <td>320</td>\n      <td>180</td>\n      <td>https://i.ytimg.com/vi/AOVTUmDU7Bs/hqdefault.jpg</td>\n      <td>480</td>\n      <td>360</td>\n      <td>DGG</td>\n      <td>none</td>\n      <td>2018-07-12T06:00:04Z</td>\n      <td>NaN</td>\n    </tr>\n    <tr>\n      <th>1</th>\n      <td>2</td>\n      <td>ry0zlUewmQ1_rgpvH5UeqQjwyOE</td>\n      <td>youtube#video</td>\n      <td>oNJWU8cm0eU</td>\n      <td>2020</td>\n      <td>UChhOtjq-3QyyLmP2jv9amrg</td>\n      <td>Rhythm of K-Beauty</td>\n      <td>Rhythm of K-Beauty Want to learn about Korean ...</td>\n      <td>https://i.ytimg.com/vi/oNJWU8cm0eU/default.jpg</td>\n      <td>120</td>\n      <td>...</td>\n      <td>https://i.ytimg.com/vi/oNJWU8cm0eU/mqdefault.jpg</td>\n      <td>320</td>\n      <td>180</td>\n      <td>https://i.ytimg.com/vi/oNJWU8cm0eU/hqdefault.jpg</td>\n      <td>480</td>\n      <td>360</td>\n      <td>Imagine Your Korea</td>\n      <td>none</td>\n      <td>2020-08-25T06:38:17Z</td>\n      <td>NaN</td>\n    </tr>\n    <tr>\n      <th>2</th>\n      <td>3</td>\n      <td>FAWm2FVeXAKFMi8_98auJXmRjZo</td>\n      <td>youtube#video</td>\n      <td>fgeqSoLgccU</td>\n      <td>2018</td>\n      <td>UCgln4bTPN2cXnAjXVgM-Cfw</td>\n      <td>Short Hair VS Long Hair ENG SUB • dingo kbeauty</td>\n      <td>WORLD'S FIRST PROBLEM This is #1 thing I ask m...</td>\n      <td>https://i.ytimg.com/vi/fgeqSoLgccU/default.jpg</td>\n      <td>120</td>\n      <td>...</td>\n      <td>https://i.ytimg.com/vi/fgeqSoLgccU/mqdefault.jpg</td>\n      <td>320</td>\n      <td>180</td>\n      <td>https://i.ytimg.com/vi/fgeqSoLgccU/hqdefault.jpg</td>\n      <td>480</td>\n      <td>360</td>\n      <td>DGG</td>\n      <td>none</td>\n      <td>2018-07-10T06:00:30Z</td>\n      <td>NaN</td>\n    </tr>\n    <tr>\n      <th>3</th>\n      <td>4</td>\n      <td>6Lv9z7Od-sjYY5pxt54NruY3weY</td>\n      <td>youtube#video</td>\n      <td>gvsV9ds9uFk</td>\n      <td>2022</td>\n      <td>UCJ9E_Ob8i8-2cyd67mbkRfw</td>\n      <td>Pretty duo 💓 #lipbalm #kbeauty</td>\n      <td>NaN</td>\n      <td>https://i.ytimg.com/vi/gvsV9ds9uFk/default.jpg</td>\n      <td>120</td>\n      <td>...</td>\n      <td>https://i.ytimg.com/vi/gvsV9ds9uFk/mqdefault.jpg</td>\n      <td>320</td>\n      <td>180</td>\n      <td>https://i.ytimg.com/vi/gvsV9ds9uFk/hqdefault.jpg</td>\n      <td>480</td>\n      <td>360</td>\n      <td>Kerbom3</td>\n      <td>none</td>\n      <td>2022-04-15T04:52:25Z</td>\n      <td>NaN</td>\n    </tr>\n    <tr>\n      <th>4</th>\n      <td>5</td>\n      <td>a5HhfVq4RM98pKJBdn9oqGBOICE</td>\n      <td>youtube#video</td>\n      <td>o5hc2PaPFZ8</td>\n      <td>2021</td>\n      <td>UCJ9E_Ob8i8-2cyd67mbkRfw</td>\n      <td>#kajabeauty #kbeauty #kbeautyreview #review #a...</td>\n      <td>NaN</td>\n      <td>https://i.ytimg.com/vi/o5hc2PaPFZ8/default.jpg</td>\n      <td>120</td>\n      <td>...</td>\n      <td>https://i.ytimg.com/vi/o5hc2PaPFZ8/mqdefault.jpg</td>\n      <td>320</td>\n      <td>180</td>\n      <td>https://i.ytimg.com/vi/o5hc2PaPFZ8/hqdefault.jpg</td>\n      <td>480</td>\n      <td>360</td>\n      <td>Kerbom3</td>\n      <td>none</td>\n      <td>2021-09-24T16:54:57Z</td>\n      <td>NaN</td>\n    </tr>\n    <tr>\n      <th>...</th>\n      <td>...</td>\n      <td>...</td>\n      <td>...</td>\n      <td>...</td>\n      <td>...</td>\n      <td>...</td>\n      <td>...</td>\n      <td>...</td>\n      <td>...</td>\n      <td>...</td>\n      <td>...</td>\n      <td>...</td>\n      <td>...</td>\n      <td>...</td>\n      <td>...</td>\n      <td>...</td>\n      <td>...</td>\n      <td>...</td>\n      <td>...</td>\n      <td>...</td>\n      <td>...</td>\n    </tr>\n    <tr>\n      <th>1191</th>\n      <td>1192</td>\n      <td>C5ZSuAtTkMrjeBvqJGVNQxk_HH8</td>\n      <td>youtube#video</td>\n      <td>Hu61nOX01-0</td>\n      <td>2022-11-12T00:54:24Z</td>\n      <td>UC4hwR9831LIKr9wKQOO_ZYA</td>\n      <td>How do get IDOL’S CURTAIN BANGS? CELEBRITY #sh...</td>\n      <td>NaN</td>\n      <td>https://i.ytimg.com/vi/Hu61nOX01-0/default.jpg</td>\n      <td>120</td>\n      <td>...</td>\n      <td>https://i.ytimg.com/vi/Hu61nOX01-0/mqdefault.jpg</td>\n      <td>320</td>\n      <td>180</td>\n      <td>https://i.ytimg.com/vi/Hu61nOX01-0/hqdefault.jpg</td>\n      <td>480</td>\n      <td>360</td>\n      <td>Kyurin Diary, Multilingual Traveler</td>\n      <td>none</td>\n      <td>2022-11-12T00:54:24Z</td>\n      <td>youtube#searchResult</td>\n    </tr>\n    <tr>\n      <th>1192</th>\n      <td>1193</td>\n      <td>v90hbzRjX48mvAZCws9D9BTuliQ</td>\n      <td>youtube#video</td>\n      <td>vQ2EZey0n_M</td>\n      <td>2023-01-31T10:56:50Z</td>\n      <td>UCQTWwkU4zxqmxv-ywGkGPSA</td>\n      <td>#exosome ampoule korean skin care ~ #피부역행템 #kb...</td>\n      <td>NaN</td>\n      <td>https://i.ytimg.com/vi/vQ2EZey0n_M/default.jpg</td>\n      <td>120</td>\n      <td>...</td>\n      <td>https://i.ytimg.com/vi/vQ2EZey0n_M/mqdefault.jpg</td>\n      <td>320</td>\n      <td>180</td>\n      <td>https://i.ytimg.com/vi/vQ2EZey0n_M/hqdefault.jpg</td>\n      <td>480</td>\n      <td>360</td>\n      <td>Joyful_yeonsu</td>\n      <td>none</td>\n      <td>2023-01-31T10:56:50Z</td>\n      <td>youtube#searchResult</td>\n    </tr>\n    <tr>\n      <th>1193</th>\n      <td>1194</td>\n      <td>Frp6d0X8Z2VsF1dZvT4WL66U8U4</td>\n      <td>youtube#video</td>\n      <td>6A5uJXxPbQs</td>\n      <td>2022-10-15T06:06:44Z</td>\n      <td>UCdIEHk1dbkXvWPh8LvyJQgg</td>\n      <td>Makeup look for selfies #shorts #makeup #makeu...</td>\n      <td>NaN</td>\n      <td>https://i.ytimg.com/vi/6A5uJXxPbQs/default.jpg</td>\n      <td>120</td>\n      <td>...</td>\n      <td>https://i.ytimg.com/vi/6A5uJXxPbQs/mqdefault.jpg</td>\n      <td>320</td>\n      <td>180</td>\n      <td>https://i.ytimg.com/vi/6A5uJXxPbQs/hqdefault.jpg</td>\n      <td>480</td>\n      <td>360</td>\n      <td>minana</td>\n      <td>none</td>\n      <td>2022-10-15T06:06:44Z</td>\n      <td>youtube#searchResult</td>\n    </tr>\n    <tr>\n      <th>1194</th>\n      <td>1195</td>\n      <td>SvvmimKVFGdfwOpVyswXecrzVuE</td>\n      <td>youtube#video</td>\n      <td>lP4oNCbXmUg</td>\n      <td>2023-02-25T20:18:44Z</td>\n      <td>UCV5d39R6e3nfAaW5aldP_ww</td>\n      <td>Types of Vitamin C Serums #jumiso #serums #kbe...</td>\n      <td>NaN</td>\n      <td>https://i.ytimg.com/vi/lP4oNCbXmUg/default.jpg</td>\n      <td>120</td>\n      <td>...</td>\n      <td>https://i.ytimg.com/vi/lP4oNCbXmUg/mqdefault.jpg</td>\n      <td>320</td>\n      <td>180</td>\n      <td>https://i.ytimg.com/vi/lP4oNCbXmUg/hqdefault.jpg</td>\n      <td>480</td>\n      <td>360</td>\n      <td>fightingmothernature</td>\n      <td>none</td>\n      <td>2023-02-25T20:18:44Z</td>\n      <td>youtube#searchResult</td>\n    </tr>\n    <tr>\n      <th>1195</th>\n      <td>1196</td>\n      <td>DzNctlEMd1Hl_rZR2l0qNbCq7U8</td>\n      <td>youtube#video</td>\n      <td>1ysfvMA0lww</td>\n      <td>2023-02-16T03:30:01Z</td>\n      <td>UCLId2yKE3iTLMFbvryVVmAg</td>\n      <td>TREND ALAT ROLL UNTUK EYE BAGS.. 😱👀 #kbeauty #...</td>\n      <td>kbeauty #beautytips #faceroller Face Roller .....</td>\n      <td>https://i.ytimg.com/vi/1ysfvMA0lww/default.jpg</td>\n      <td>120</td>\n      <td>...</td>\n      <td>https://i.ytimg.com/vi/1ysfvMA0lww/mqdefault.jpg</td>\n      <td>320</td>\n      <td>180</td>\n      <td>https://i.ytimg.com/vi/1ysfvMA0lww/hqdefault.jpg</td>\n      <td>480</td>\n      <td>360</td>\n      <td>babyiviy</td>\n      <td>none</td>\n      <td>2023-02-16T03:30:01Z</td>\n      <td>youtube#searchResult</td>\n    </tr>\n  </tbody>\n</table>\n<p>1196 rows × 21 columns</p>\n</div>"
     },
     "metadata": {},
     "output_type": "display_data"
    }
   ],
   "source": [
    "# 7\n",
    "import pandas as pd\n",
    "\n",
    "data = pd.read_excel(DATA_PATH / \"seminar4\" / 'k_beauty | kbeauty_Video_Not_sorted+Sorted+Date.xlsx')\n",
    "\n",
    "\n",
    "display(data)"
   ],
   "metadata": {
    "collapsed": false
   }
  },
  {
   "cell_type": "code",
   "execution_count": 9,
   "outputs": [],
   "source": [
    "# 8\n",
    "\n",
    "search_parts = [\n",
    "    \"id\",\n",
    "    \"liveStreamingDetails\",\n",
    "    \"player\",\n",
    "    \"snippet\",\n",
    "    \"statistics\",\n",
    "    \"topicDetails\"\n",
    "]\n",
    "\n",
    "# список каналов\n",
    "video_ids = list(data['id.videoId'])"
   ],
   "metadata": {
    "collapsed": false
   }
  },
  {
   "cell_type": "code",
   "execution_count": 10,
   "outputs": [
    {
     "data": {
      "text/plain": "            kind                         etag           id  \\\n0  youtube#video  OUJxXkK051ixsDflJfWVm3bnU3o  AOVTUmDU7Bs   \n1  youtube#video  HD9dPE6g3ieb_n80yaxfoAlOJyc  oNJWU8cm0eU   \n2  youtube#video  qS3cylrEaZyaHB-1OOizFvXLUlQ  fgeqSoLgccU   \n3  youtube#video  si2AMRPSXnmDA8l50vkVOhAoQkc  gvsV9ds9uFk   \n4  youtube#video  f6g9_ChiSeP9L8HxctgSWxGjflc  o5hc2PaPFZ8   \n\n    snippet.publishedAt         snippet.channelId  \\\n0  2018-07-12T06:00:04Z  UCgln4bTPN2cXnAjXVgM-Cfw   \n1  2020-08-25T06:38:17Z  UChhOtjq-3QyyLmP2jv9amrg   \n2  2018-07-10T06:00:30Z  UCgln4bTPN2cXnAjXVgM-Cfw   \n3  2022-04-15T04:52:25Z  UCJ9E_Ob8i8-2cyd67mbkRfw   \n4  2021-09-24T16:54:57Z  UCJ9E_Ob8i8-2cyd67mbkRfw   \n\n                                       snippet.title  \\\n0  Annoying Moments While Getting Ready ENG SUB •...   \n1                                 Rhythm of K-Beauty   \n2    Short Hair VS Long Hair ENG SUB • dingo kbeauty   \n3                     Pretty duo 💓 #lipbalm #kbeauty   \n4  #kajabeauty #kbeauty #kbeautyreview #review #a...   \n\n                                 snippet.description  \\\n0  ANNOYING MOMENTS WHILE GETTING READY!! \\nUGH!!...   \n1  Rhythm of K-Beauty\\n\\nWant to learn about Kore...   \n2  WORLD'S FIRST PROBLEM 🙄\\nThis is #1 thing I as...   \n3                                                      \n4                                                      \n\n                   snippet.thumbnails.default.url  \\\n0  https://i.ytimg.com/vi/AOVTUmDU7Bs/default.jpg   \n1  https://i.ytimg.com/vi/oNJWU8cm0eU/default.jpg   \n2  https://i.ytimg.com/vi/fgeqSoLgccU/default.jpg   \n3  https://i.ytimg.com/vi/gvsV9ds9uFk/default.jpg   \n4  https://i.ytimg.com/vi/o5hc2PaPFZ8/default.jpg   \n\n   snippet.thumbnails.default.width  snippet.thumbnails.default.height  ...  \\\n0                               120                                 90  ...   \n1                               120                                 90  ...   \n2                               120                                 90  ...   \n3                               120                                 90  ...   \n4                               120                                 90  ...   \n\n                             snippet.localized.title  \\\n0  Annoying Moments While Getting Ready ENG SUB •...   \n1                                 Rhythm of K-Beauty   \n2    Short Hair VS Long Hair ENG SUB • dingo kbeauty   \n3                     Pretty duo 💓 #lipbalm #kbeauty   \n4  #kajabeauty #kbeauty #kbeautyreview #review #a...   \n\n                       snippet.localized.description  statistics.viewCount  \\\n0  ANNOYING MOMENTS WHILE GETTING READY!! \\nUGH!!...             254331607   \n1  Rhythm of K-Beauty\\n\\nWant to learn about Kore...              22174166   \n2  WORLD'S FIRST PROBLEM 🙄\\nThis is #1 thing I as...              19960375   \n3                                                                 15515535   \n4                                                                  7383895   \n\n  statistics.likeCount  statistics.favoriteCount  statistics.commentCount  \\\n0               492490                         0                     3171   \n1                 9347                         0                      352   \n2               209628                         0                    11541   \n3               388664                         0                      312   \n4               237129                         0                      151   \n\n                                    player.embedHtml  \\\n0  <iframe width=\"480\" height=\"360\" src=\"//www.yo...   \n1  <iframe width=\"480\" height=\"270\" src=\"//www.yo...   \n2  <iframe width=\"480\" height=\"270\" src=\"//www.yo...   \n3  <iframe width=\"480\" height=\"270\" src=\"//www.yo...   \n4  <iframe width=\"480\" height=\"270\" src=\"//www.yo...   \n\n                        topicDetails.topicCategories  snippet.defaultLanguage  \\\n0  [https://en.wikipedia.org/wiki/Lifestyle_(soci...                      NaN   \n1  [https://en.wikipedia.org/wiki/Lifestyle_(soci...                       ko   \n2  [https://en.wikipedia.org/wiki/Lifestyle_(soci...                      NaN   \n3  [https://en.wikipedia.org/wiki/Lifestyle_(soci...                      NaN   \n4  [https://en.wikipedia.org/wiki/Lifestyle_(soci...                      NaN   \n\n  snippet.defaultAudioLanguage  \n0                          NaN  \n1                           ko  \n2                        en-US  \n3                       es-419  \n4                       es-419  \n\n[5 rows x 36 columns]",
      "text/html": "<div>\n<style scoped>\n    .dataframe tbody tr th:only-of-type {\n        vertical-align: middle;\n    }\n\n    .dataframe tbody tr th {\n        vertical-align: top;\n    }\n\n    .dataframe thead th {\n        text-align: right;\n    }\n</style>\n<table border=\"1\" class=\"dataframe\">\n  <thead>\n    <tr style=\"text-align: right;\">\n      <th></th>\n      <th>kind</th>\n      <th>etag</th>\n      <th>id</th>\n      <th>snippet.publishedAt</th>\n      <th>snippet.channelId</th>\n      <th>snippet.title</th>\n      <th>snippet.description</th>\n      <th>snippet.thumbnails.default.url</th>\n      <th>snippet.thumbnails.default.width</th>\n      <th>snippet.thumbnails.default.height</th>\n      <th>...</th>\n      <th>snippet.localized.title</th>\n      <th>snippet.localized.description</th>\n      <th>statistics.viewCount</th>\n      <th>statistics.likeCount</th>\n      <th>statistics.favoriteCount</th>\n      <th>statistics.commentCount</th>\n      <th>player.embedHtml</th>\n      <th>topicDetails.topicCategories</th>\n      <th>snippet.defaultLanguage</th>\n      <th>snippet.defaultAudioLanguage</th>\n    </tr>\n  </thead>\n  <tbody>\n    <tr>\n      <th>0</th>\n      <td>youtube#video</td>\n      <td>OUJxXkK051ixsDflJfWVm3bnU3o</td>\n      <td>AOVTUmDU7Bs</td>\n      <td>2018-07-12T06:00:04Z</td>\n      <td>UCgln4bTPN2cXnAjXVgM-Cfw</td>\n      <td>Annoying Moments While Getting Ready ENG SUB •...</td>\n      <td>ANNOYING MOMENTS WHILE GETTING READY!! \\nUGH!!...</td>\n      <td>https://i.ytimg.com/vi/AOVTUmDU7Bs/default.jpg</td>\n      <td>120</td>\n      <td>90</td>\n      <td>...</td>\n      <td>Annoying Moments While Getting Ready ENG SUB •...</td>\n      <td>ANNOYING MOMENTS WHILE GETTING READY!! \\nUGH!!...</td>\n      <td>254331607</td>\n      <td>492490</td>\n      <td>0</td>\n      <td>3171</td>\n      <td>&lt;iframe width=\"480\" height=\"360\" src=\"//www.yo...</td>\n      <td>[https://en.wikipedia.org/wiki/Lifestyle_(soci...</td>\n      <td>NaN</td>\n      <td>NaN</td>\n    </tr>\n    <tr>\n      <th>1</th>\n      <td>youtube#video</td>\n      <td>HD9dPE6g3ieb_n80yaxfoAlOJyc</td>\n      <td>oNJWU8cm0eU</td>\n      <td>2020-08-25T06:38:17Z</td>\n      <td>UChhOtjq-3QyyLmP2jv9amrg</td>\n      <td>Rhythm of K-Beauty</td>\n      <td>Rhythm of K-Beauty\\n\\nWant to learn about Kore...</td>\n      <td>https://i.ytimg.com/vi/oNJWU8cm0eU/default.jpg</td>\n      <td>120</td>\n      <td>90</td>\n      <td>...</td>\n      <td>Rhythm of K-Beauty</td>\n      <td>Rhythm of K-Beauty\\n\\nWant to learn about Kore...</td>\n      <td>22174166</td>\n      <td>9347</td>\n      <td>0</td>\n      <td>352</td>\n      <td>&lt;iframe width=\"480\" height=\"270\" src=\"//www.yo...</td>\n      <td>[https://en.wikipedia.org/wiki/Lifestyle_(soci...</td>\n      <td>ko</td>\n      <td>ko</td>\n    </tr>\n    <tr>\n      <th>2</th>\n      <td>youtube#video</td>\n      <td>qS3cylrEaZyaHB-1OOizFvXLUlQ</td>\n      <td>fgeqSoLgccU</td>\n      <td>2018-07-10T06:00:30Z</td>\n      <td>UCgln4bTPN2cXnAjXVgM-Cfw</td>\n      <td>Short Hair VS Long Hair ENG SUB • dingo kbeauty</td>\n      <td>WORLD'S FIRST PROBLEM 🙄\\nThis is #1 thing I as...</td>\n      <td>https://i.ytimg.com/vi/fgeqSoLgccU/default.jpg</td>\n      <td>120</td>\n      <td>90</td>\n      <td>...</td>\n      <td>Short Hair VS Long Hair ENG SUB • dingo kbeauty</td>\n      <td>WORLD'S FIRST PROBLEM 🙄\\nThis is #1 thing I as...</td>\n      <td>19960375</td>\n      <td>209628</td>\n      <td>0</td>\n      <td>11541</td>\n      <td>&lt;iframe width=\"480\" height=\"270\" src=\"//www.yo...</td>\n      <td>[https://en.wikipedia.org/wiki/Lifestyle_(soci...</td>\n      <td>NaN</td>\n      <td>en-US</td>\n    </tr>\n    <tr>\n      <th>3</th>\n      <td>youtube#video</td>\n      <td>si2AMRPSXnmDA8l50vkVOhAoQkc</td>\n      <td>gvsV9ds9uFk</td>\n      <td>2022-04-15T04:52:25Z</td>\n      <td>UCJ9E_Ob8i8-2cyd67mbkRfw</td>\n      <td>Pretty duo 💓 #lipbalm #kbeauty</td>\n      <td></td>\n      <td>https://i.ytimg.com/vi/gvsV9ds9uFk/default.jpg</td>\n      <td>120</td>\n      <td>90</td>\n      <td>...</td>\n      <td>Pretty duo 💓 #lipbalm #kbeauty</td>\n      <td></td>\n      <td>15515535</td>\n      <td>388664</td>\n      <td>0</td>\n      <td>312</td>\n      <td>&lt;iframe width=\"480\" height=\"270\" src=\"//www.yo...</td>\n      <td>[https://en.wikipedia.org/wiki/Lifestyle_(soci...</td>\n      <td>NaN</td>\n      <td>es-419</td>\n    </tr>\n    <tr>\n      <th>4</th>\n      <td>youtube#video</td>\n      <td>f6g9_ChiSeP9L8HxctgSWxGjflc</td>\n      <td>o5hc2PaPFZ8</td>\n      <td>2021-09-24T16:54:57Z</td>\n      <td>UCJ9E_Ob8i8-2cyd67mbkRfw</td>\n      <td>#kajabeauty #kbeauty #kbeautyreview #review #a...</td>\n      <td></td>\n      <td>https://i.ytimg.com/vi/o5hc2PaPFZ8/default.jpg</td>\n      <td>120</td>\n      <td>90</td>\n      <td>...</td>\n      <td>#kajabeauty #kbeauty #kbeautyreview #review #a...</td>\n      <td></td>\n      <td>7383895</td>\n      <td>237129</td>\n      <td>0</td>\n      <td>151</td>\n      <td>&lt;iframe width=\"480\" height=\"270\" src=\"//www.yo...</td>\n      <td>[https://en.wikipedia.org/wiki/Lifestyle_(soci...</td>\n      <td>NaN</td>\n      <td>es-419</td>\n    </tr>\n  </tbody>\n</table>\n<p>5 rows × 36 columns</p>\n</div>"
     },
     "execution_count": 10,
     "metadata": {},
     "output_type": "execute_result"
    }
   ],
   "source": [
    "# 9 Одиночный вызов API для одного канала\n",
    "request = youtube.videos().list(\n",
    "    part=search_parts,\n",
    "    maxResults=50,\n",
    "    id=video_ids[:50],\n",
    ")\n",
    "response = request.execute()\n",
    "\n",
    "df_supplemented = pd.json_normalize(response['items'])\n",
    "df_supplemented.head()"
   ],
   "metadata": {
    "collapsed": false
   }
  },
  {
   "cell_type": "code",
   "execution_count": 11,
   "outputs": [
    {
     "name": "stdout",
     "output_type": "stream",
     "text": [
      "Итерация 0 завершена\n",
      "Итерация 1 завершена\n",
      "Итерация 2 завершена\n",
      "Итерация 3 завершена\n",
      "Итерация 4 завершена\n",
      "Итерация 5 завершена\n",
      "Итерация 6 завершена\n",
      "Итерация 7 завершена\n",
      "Итерация 8 завершена\n",
      "Итерация 9 завершена\n",
      "Итерация 10 завершена\n",
      "Итерация 11 завершена\n",
      "Итерация 12 завершена\n",
      "Итерация 13 завершена\n",
      "Итерация 14 завершена\n",
      "Итерация 15 завершена\n",
      "Итерация 16 завершена\n",
      "Итерация 17 завершена\n",
      "Итерация 18 завершена\n",
      "Итерация 19 завершена\n",
      "Итерация 20 завершена\n",
      "Итерация 21 завершена\n",
      "Итерация 22 завершена\n",
      "Итерация 23 завершена\n"
     ]
    }
   ],
   "source": [
    "# 10 Множественный вызов по 50 элементов\n",
    "\n",
    "df_supplemented = pd.DataFrame()\n",
    "step = 50\n",
    "\n",
    "for i in range(0, len(data), step):\n",
    "    # границы интервала\n",
    "    s, e = i, i+step\n",
    "    if e > len(data): e = len(data)\n",
    "\n",
    "    request = youtube.videos().list(\n",
    "    part=search_parts,\n",
    "    maxResults=50,\n",
    "    id=video_ids[s:e],\n",
    "    )\n",
    "    response = request.execute()\n",
    "\n",
    "    df_additional = pd.json_normalize(response['items'])\n",
    "    df_supplemented = pd.concat([df_supplemented, df_additional])\n",
    "    print(f\"Итерация {i // 50} завершена\")"
   ],
   "metadata": {
    "collapsed": false
   }
  },
  {
   "cell_type": "code",
   "execution_count": 12,
   "outputs": [
    {
     "name": "stdout",
     "output_type": "stream",
     "text": [
      "<class 'pandas.core.frame.DataFrame'>\n",
      "Int64Index: 1189 entries, 0 to 45\n",
      "Data columns (total 39 columns):\n",
      " #   Column                                   Non-Null Count  Dtype  \n",
      "---  ------                                   --------------  -----  \n",
      " 0   kind                                     1189 non-null   object \n",
      " 1   etag                                     1189 non-null   object \n",
      " 2   id                                       1189 non-null   object \n",
      " 3   snippet.publishedAt                      1189 non-null   object \n",
      " 4   snippet.channelId                        1189 non-null   object \n",
      " 5   snippet.title                            1189 non-null   object \n",
      " 6   snippet.description                      1189 non-null   object \n",
      " 7   snippet.thumbnails.default.url           1189 non-null   object \n",
      " 8   snippet.thumbnails.default.width         1189 non-null   int64  \n",
      " 9   snippet.thumbnails.default.height        1189 non-null   int64  \n",
      " 10  snippet.thumbnails.medium.url            1189 non-null   object \n",
      " 11  snippet.thumbnails.medium.width          1189 non-null   int64  \n",
      " 12  snippet.thumbnails.medium.height         1189 non-null   int64  \n",
      " 13  snippet.thumbnails.high.url              1189 non-null   object \n",
      " 14  snippet.thumbnails.high.width            1189 non-null   int64  \n",
      " 15  snippet.thumbnails.high.height           1189 non-null   int64  \n",
      " 16  snippet.thumbnails.standard.url          1171 non-null   object \n",
      " 17  snippet.thumbnails.standard.width        1171 non-null   float64\n",
      " 18  snippet.thumbnails.standard.height       1171 non-null   float64\n",
      " 19  snippet.thumbnails.maxres.url            1088 non-null   object \n",
      " 20  snippet.thumbnails.maxres.width          1088 non-null   float64\n",
      " 21  snippet.thumbnails.maxres.height         1088 non-null   float64\n",
      " 22  snippet.channelTitle                     1189 non-null   object \n",
      " 23  snippet.tags                             521 non-null    object \n",
      " 24  snippet.categoryId                       1189 non-null   object \n",
      " 25  snippet.liveBroadcastContent             1189 non-null   object \n",
      " 26  snippet.localized.title                  1189 non-null   object \n",
      " 27  snippet.localized.description            1189 non-null   object \n",
      " 28  statistics.viewCount                     1189 non-null   object \n",
      " 29  statistics.likeCount                     1114 non-null   object \n",
      " 30  statistics.favoriteCount                 1189 non-null   object \n",
      " 31  statistics.commentCount                  1182 non-null   object \n",
      " 32  player.embedHtml                         1189 non-null   object \n",
      " 33  topicDetails.topicCategories             1165 non-null   object \n",
      " 34  snippet.defaultLanguage                  285 non-null    object \n",
      " 35  snippet.defaultAudioLanguage             664 non-null    object \n",
      " 36  liveStreamingDetails.actualStartTime     26 non-null     object \n",
      " 37  liveStreamingDetails.actualEndTime       26 non-null     object \n",
      " 38  liveStreamingDetails.scheduledStartTime  26 non-null     object \n",
      "dtypes: float64(4), int64(6), object(29)\n",
      "memory usage: 371.6+ KB\n"
     ]
    }
   ],
   "source": [
    "# 11 Просмотр параметров датафрейма\n",
    "df_supplemented.info()"
   ],
   "metadata": {
    "collapsed": false
   }
  },
  {
   "cell_type": "code",
   "execution_count": 13,
   "outputs": [
    {
     "name": "stdout",
     "output_type": "stream",
     "text": [
      "Не досчитались: 7 видео\n"
     ]
    }
   ],
   "source": [
    "# 12 Валидация количества каналов\n",
    "\n",
    "if len(data) == len(df_supplemented): print('Всё ок')\n",
    "else: print(\"Не досчитались:\", abs(len(data) - len(df_supplemented)), \"видео\")"
   ],
   "metadata": {
    "collapsed": false
   }
  },
  {
   "cell_type": "code",
   "execution_count": 14,
   "outputs": [],
   "source": [
    "# 13 Просмотр статистики по каналам\n",
    "\n",
    "list_of_col = [x for x in df_supplemented.columns if x.startswith('stat')]\n",
    "\n",
    "for col in list_of_col:\n",
    "    df_supplemented[col] = pd.to_numeric(df_supplemented[col],downcast=\"integer\")"
   ],
   "metadata": {
    "collapsed": false
   }
  },
  {
   "cell_type": "code",
   "execution_count": 15,
   "outputs": [
    {
     "name": "stdout",
     "output_type": "stream",
     "text": [
      "Параметр statistics.viewCount\n",
      "Average - 425200.8469301934\n",
      "Minimal - 0,\n",
      "Maximum - 254331607\n",
      "Median - 2177.0\n",
      "===============\n",
      "Параметр statistics.likeCount\n",
      "Average - 9706.973070017953\n",
      "Minimal - 0.0,\n",
      "Maximum - 1748766.0\n",
      "Median - 79.0\n",
      "===============\n",
      "Параметр statistics.favoriteCount\n",
      "Average - 0.0\n",
      "Minimal - 0,\n",
      "Maximum - 0\n",
      "Median - 0.0\n",
      "===============\n",
      "Параметр statistics.commentCount\n",
      "Average - 140.17343485617596\n",
      "Minimal - 0.0,\n",
      "Maximum - 18453.0\n",
      "Median - 3.0\n",
      "===============\n"
     ]
    }
   ],
   "source": [
    "for col in list_of_col:\n",
    "    print(f\"Параметр {col}\")\n",
    "    print(f\"Average - {df_supplemented[col].mean()}\\n\"\n",
    "          f\"Minimal - {df_supplemented[col].min()},\\n\"\n",
    "          f\"Maximum - {df_supplemented[col].max()}\\n\"\n",
    "          f\"Median - {df_supplemented[col].median()}\")\n",
    "    print(\"=\"*15)"
   ],
   "metadata": {
    "collapsed": false
   }
  },
  {
   "cell_type": "code",
   "execution_count": 18,
   "outputs": [
    {
     "name": "stdout",
     "output_type": "stream",
     "text": [
      "/Users/andrey/PycharmProjects/DataMiningProjects/data\n"
     ]
    }
   ],
   "source": [
    "print(DATA_PATH)"
   ],
   "metadata": {
    "collapsed": false
   }
  },
  {
   "cell_type": "code",
   "execution_count": 19,
   "outputs": [],
   "source": [
    "# 13 сохранение файлов в специальной директории\n",
    "import os\n",
    "\n",
    "if not os.path.exists(DATA_PATH / seminar):\n",
    "    os.makedirs(DATA_PATH / seminar)\n",
    "\n",
    "df_supplemented.to_excel(DATA_PATH / seminar /  f'{query}_{type_query.capitalize()}_characteristics.xlsx', index=False)"
   ],
   "metadata": {
    "collapsed": false
   }
  },
  {
   "cell_type": "code",
   "execution_count": 20,
   "outputs": [
    {
     "data": {
      "text/plain": "PosixPath('/Users/andrey/PycharmProjects/DataMiningProjects/data/seminar5/k beauty_Video_characteristics.xlsx')"
     },
     "execution_count": 20,
     "metadata": {},
     "output_type": "execute_result"
    }
   ],
   "source": [
    "DATA_PATH / seminar /  f'{query}_{type_query.capitalize()}_characteristics.xlsx'"
   ],
   "metadata": {
    "collapsed": false
   }
  },
  {
   "cell_type": "code",
   "execution_count": null,
   "outputs": [],
   "source": [],
   "metadata": {
    "collapsed": false
   }
  }
 ],
 "metadata": {
  "kernelspec": {
   "display_name": "Python 3",
   "language": "python",
   "name": "python3"
  },
  "language_info": {
   "codemirror_mode": {
    "name": "ipython",
    "version": 2
   },
   "file_extension": ".py",
   "mimetype": "text/x-python",
   "name": "python",
   "nbconvert_exporter": "python",
   "pygments_lexer": "ipython2",
   "version": "2.7.6"
  }
 },
 "nbformat": 4,
 "nbformat_minor": 0
}
