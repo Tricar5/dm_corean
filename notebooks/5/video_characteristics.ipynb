{
 "cells": [
  {
   "cell_type": "markdown",
   "source": [
    "# Семинар 5\n",
    "## Сбор характеристик видео"
   ],
   "metadata": {
    "collapsed": false
   }
  },
  {
   "cell_type": "code",
   "execution_count": 1,
   "outputs": [],
   "source": [
    "import pathlib\n",
    "import yaml\n",
    "\n",
    "ROOT = pathlib.Path().resolve().parent.parent\n",
    "\n",
    "with open(ROOT / \"config.yml\", \"r\") as f:\n",
    "    config = yaml.safe_load(f)"
   ],
   "metadata": {
    "collapsed": false,
    "ExecuteTime": {
     "start_time": "2023-04-08T11:55:41.353855Z",
     "end_time": "2023-04-08T11:55:41.368607Z"
    }
   }
  },
  {
   "cell_type": "code",
   "execution_count": 22,
   "outputs": [],
   "source": [
    "# 3\n",
    "DATA_PATH = ROOT / config['api']['DATA_PATH']\n",
    "\n",
    "seminar = 'seminar5'\n",
    "\n",
    "query = \"корейская косметика\"\n",
    "type_query = \"video\"\n",
    "\n",
    "# Для поиска видео с учетом даты:\n",
    "publishedAfter = '2020-01-01T00:00:00Z'\n",
    "publishedBefore = '2022-01-01T00:00:00Z'"
   ],
   "metadata": {
    "collapsed": false,
    "ExecuteTime": {
     "start_time": "2023-04-08T12:05:57.631195Z",
     "end_time": "2023-04-08T12:05:57.637818Z"
    }
   }
  },
  {
   "cell_type": "code",
   "execution_count": 3,
   "outputs": [],
   "source": [
    "# 3.1\n",
    "class KeyStorage:\n",
    "    \"\"\"\n",
    "    Class to use in iteration\n",
    "    \"\"\"\n",
    "\n",
    "    def __init__(self, key_arr: list[str]):\n",
    "        self.key_gen = iter(key_arr)\n",
    "\n",
    "    def get_next_key(self):\n",
    "        \"\"\"\n",
    "        Returns API key to use\n",
    "        :return:\n",
    "        \"\"\"\n",
    "        return next(self.key_gen)\n",
    "\n",
    "\n",
    "key_storage = KeyStorage(config['api']['keys'])"
   ],
   "metadata": {
    "collapsed": false,
    "ExecuteTime": {
     "start_time": "2023-04-08T11:55:47.407030Z",
     "end_time": "2023-04-08T11:55:47.414754Z"
    }
   }
  },
  {
   "cell_type": "code",
   "execution_count": 4,
   "outputs": [],
   "source": [
    "# 3.2 Просмотр API ключа\n",
    "\n",
    "API_KEY = key_storage.get_next_key()"
   ],
   "metadata": {
    "collapsed": false,
    "ExecuteTime": {
     "start_time": "2023-04-08T11:55:47.905870Z",
     "end_time": "2023-04-08T11:55:47.920278Z"
    }
   }
  },
  {
   "cell_type": "code",
   "execution_count": 5,
   "outputs": [],
   "source": [
    "#4\n",
    "import googleapiclient.discovery as api"
   ],
   "metadata": {
    "collapsed": false,
    "ExecuteTime": {
     "start_time": "2023-04-08T11:55:48.214889Z",
     "end_time": "2023-04-08T11:55:48.289642Z"
    }
   }
  },
  {
   "cell_type": "code",
   "execution_count": 6,
   "outputs": [],
   "source": [
    "#5\n",
    "api_service_name = \"youtube\"\n",
    "api_version = \"v3\"\n",
    "\n",
    "youtube = api.build(api_service_name,\n",
    "                    api_version,\n",
    "                    developerKey=API_KEY)"
   ],
   "metadata": {
    "collapsed": false,
    "ExecuteTime": {
     "start_time": "2023-04-08T11:55:48.544510Z",
     "end_time": "2023-04-08T11:55:48.556538Z"
    }
   }
  },
  {
   "cell_type": "code",
   "execution_count": 7,
   "outputs": [],
   "source": [
    "# Открываем свой датафрейм"
   ],
   "metadata": {
    "collapsed": false,
    "ExecuteTime": {
     "start_time": "2023-04-08T11:55:48.833120Z",
     "end_time": "2023-04-08T11:55:48.843052Z"
    }
   }
  },
  {
   "cell_type": "code",
   "execution_count": 9,
   "outputs": [
    {
     "data": {
      "text/plain": "      Unnamed: 0                         etag        id.kind   id.videoId  \\\n0              1  EQDFH4sq29F4tLopSvBzT1Owm1M  youtube#video  AAjsSrjZXsw   \n1              2  P1X20DCj2WrucSb9ldNXa1bYGQU  youtube#video  yk4Wjr3j7QY   \n2              3  KC_LG8xTt9DjwtELdwXsHef8Y2g  youtube#video  Wi49rKRM85U   \n3              4  jLZGccW4KN5uL3WAMK7JggpPUsc  youtube#video  kSiaxefvCgM   \n4              5  dltiYtp7e0SGjSrmXCopbsnWyVQ  youtube#video  4nqfUzIz7kQ   \n...          ...                          ...            ...          ...   \n1295        1973  T5xiMJIvrxeWR1zTaA0zegMQxnM  youtube#video  SNRrXxyiwk0   \n1296        1974  1B0Q8RCO3FKkXFfQr5-DYSM-z5M  youtube#video  NPGuTcFkdHw   \n1297        1975  n-lXr1sktVRV6D35_-xOKaej5yU  youtube#video  oqFLCIng4Bo   \n1298        1976  spiZ5extV7ieubjGA-UBsCNLSRY  youtube#video  6glsQ1LyRXM   \n1299        1977  ae5T7TtOSHI9OHeFt0V1SpnzU8w  youtube#video  KsAVjAwf3Go   \n\n       snippet.publishedAt         snippet.channelId  \\\n0                     2021  UCh29SdTOPdjBb-n3Vop1lYg   \n1                     2023  UCfcMgRNXey6TQkov9mgVgoA   \n2                     2022  UCphnZS52v_lkv5RSl5n70tQ   \n3                     2023  UCfcMgRNXey6TQkov9mgVgoA   \n4                     2021  UCphnZS52v_lkv5RSl5n70tQ   \n...                    ...                       ...   \n1295  2023-03-20T15:43:32Z  UC2wyUPnUdd_o2JYPIUuDgoA   \n1296  2023-03-13T22:15:57Z  UCXdscmYnR_wgN0uT0C-ug8w   \n1297  2023-03-29T15:32:24Z  UC2wyUPnUdd_o2JYPIUuDgoA   \n1298  2023-03-19T17:00:07Z  UCbkr6G0g-d2HH5p5QYPyfag   \n1299  2023-03-06T12:57:45Z  UCoMjXgLQIYVuZ3Gm2kI4T8A   \n\n                                          snippet.title  \\\n0     Расследование | Паленая косметика на Ozon и Wi...   \n1     Пляжная мода в Корее #этокореядетка #корейская...   \n2     한국인들은 절대 안사는 화장품 КОСМЕТИКА КОТОРАЯ КОРЕЯНКИ ВО...   \n3     Жилищный вопрос: Корея #дорамы #корейскийязык ...   \n4     Кореянка в Золотом Яблоке. Почему русские поку...   \n...                                                 ...   \n1295  #атоми #корейскаякосметика #атомибизнес #уходз...   \n1296  Немного закулисья, когда работаю и консультиру...   \n1297  #фриланс #работаудаленно #атомибизнес #атомикр...   \n1298             Toner | Luon #luon #корейскаякосметика   \n1299  #КорейскаяКосметика #Красота #Атоми #Atomy #ух...   \n\n                                    snippet.description  \\\n0     На российских маркетплейсах продается огромное...   \n1                                                   NaN   \n2     подписаться: https://goo.gl/3QbeUf -----------...   \n3                                                   NaN   \n4     кореянка#золотоеяблоко#корейскаякосметика прив...   \n...                                                 ...   \n1295                                                NaN   \n1296                                                NaN   \n1297                                                NaN   \n1298                                                NaN   \n1299  В набор Атоми Гидра Сияние входят капсульная э...   \n\n                      snippet.thumbnails.default.url  \\\n0     https://i.ytimg.com/vi/AAjsSrjZXsw/default.jpg   \n1     https://i.ytimg.com/vi/yk4Wjr3j7QY/default.jpg   \n2     https://i.ytimg.com/vi/Wi49rKRM85U/default.jpg   \n3     https://i.ytimg.com/vi/kSiaxefvCgM/default.jpg   \n4     https://i.ytimg.com/vi/4nqfUzIz7kQ/default.jpg   \n...                                              ...   \n1295  https://i.ytimg.com/vi/SNRrXxyiwk0/default.jpg   \n1296  https://i.ytimg.com/vi/NPGuTcFkdHw/default.jpg   \n1297  https://i.ytimg.com/vi/oqFLCIng4Bo/default.jpg   \n1298  https://i.ytimg.com/vi/6glsQ1LyRXM/default.jpg   \n1299  https://i.ytimg.com/vi/KsAVjAwf3Go/default.jpg   \n\n      snippet.thumbnails.default.width  ...  \\\n0                                  120  ...   \n1                                  120  ...   \n2                                  120  ...   \n3                                  120  ...   \n4                                  120  ...   \n...                                ...  ...   \n1295                               120  ...   \n1296                               120  ...   \n1297                               120  ...   \n1298                               120  ...   \n1299                               120  ...   \n\n                         snippet.thumbnails.medium.url  \\\n0     https://i.ytimg.com/vi/AAjsSrjZXsw/mqdefault.jpg   \n1     https://i.ytimg.com/vi/yk4Wjr3j7QY/mqdefault.jpg   \n2     https://i.ytimg.com/vi/Wi49rKRM85U/mqdefault.jpg   \n3     https://i.ytimg.com/vi/kSiaxefvCgM/mqdefault.jpg   \n4     https://i.ytimg.com/vi/4nqfUzIz7kQ/mqdefault.jpg   \n...                                                ...   \n1295  https://i.ytimg.com/vi/SNRrXxyiwk0/mqdefault.jpg   \n1296  https://i.ytimg.com/vi/NPGuTcFkdHw/mqdefault.jpg   \n1297  https://i.ytimg.com/vi/oqFLCIng4Bo/mqdefault.jpg   \n1298  https://i.ytimg.com/vi/6glsQ1LyRXM/mqdefault.jpg   \n1299  https://i.ytimg.com/vi/KsAVjAwf3Go/mqdefault.jpg   \n\n     snippet.thumbnails.medium.width  snippet.thumbnails.medium.height  \\\n0                                320                               180   \n1                                320                               180   \n2                                320                               180   \n3                                320                               180   \n4                                320                               180   \n...                              ...                               ...   \n1295                             320                               180   \n1296                             320                               180   \n1297                             320                               180   \n1298                             320                               180   \n1299                             320                               180   \n\n                           snippet.thumbnails.high.url  \\\n0     https://i.ytimg.com/vi/AAjsSrjZXsw/hqdefault.jpg   \n1     https://i.ytimg.com/vi/yk4Wjr3j7QY/hqdefault.jpg   \n2     https://i.ytimg.com/vi/Wi49rKRM85U/hqdefault.jpg   \n3     https://i.ytimg.com/vi/kSiaxefvCgM/hqdefault.jpg   \n4     https://i.ytimg.com/vi/4nqfUzIz7kQ/hqdefault.jpg   \n...                                                ...   \n1295  https://i.ytimg.com/vi/SNRrXxyiwk0/hqdefault.jpg   \n1296  https://i.ytimg.com/vi/NPGuTcFkdHw/hqdefault.jpg   \n1297  https://i.ytimg.com/vi/oqFLCIng4Bo/hqdefault.jpg   \n1298  https://i.ytimg.com/vi/6glsQ1LyRXM/hqdefault.jpg   \n1299  https://i.ytimg.com/vi/KsAVjAwf3Go/hqdefault.jpg   \n\n     snippet.thumbnails.high.width  snippet.thumbnails.high.height  \\\n0                              480                             360   \n1                              480                             360   \n2                              480                             360   \n3                              480                             360   \n4                              480                             360   \n...                            ...                             ...   \n1295                           480                             360   \n1296                           480                             360   \n1297                           480                             360   \n1298                           480                             360   \n1299                           480                             360   \n\n                               snippet.channelTitle  \\\n0                                     katyakonasova   \n1                                      altyshkorea    \n2                    Kyunghamin твоя корейская онни   \n3                                      altyshkorea    \n4                    Kyunghamin твоя корейская онни   \n...                                             ...   \n1295                               Ксения Харенская   \n1296                                PRO. beauty-bar   \n1297                               Ксения Харенская   \n1298                                           LUON   \n1299  НОРКИНА  ОЛЬГА              ЭКСПЕРТНОЕ МНЕНИЕ   \n\n     snippet.liveBroadcastContent   snippet.publishTime                  kind  \n0                            none  2021-03-10T13:46:47Z                   NaN  \n1                            none  2023-02-05T04:32:39Z                   NaN  \n2                            none  2022-06-20T12:57:48Z                   NaN  \n3                            none  2023-02-11T12:43:25Z                   NaN  \n4                            none  2021-11-12T14:59:32Z                   NaN  \n...                           ...                   ...                   ...  \n1295                         none  2023-03-20T15:43:32Z  youtube#searchResult  \n1296                         none  2023-03-13T22:15:57Z  youtube#searchResult  \n1297                         none  2023-03-29T15:32:24Z  youtube#searchResult  \n1298                         none  2023-03-19T17:00:07Z  youtube#searchResult  \n1299                         none  2023-03-06T12:57:45Z  youtube#searchResult  \n\n[1300 rows x 21 columns]",
      "text/html": "<div>\n<style scoped>\n    .dataframe tbody tr th:only-of-type {\n        vertical-align: middle;\n    }\n\n    .dataframe tbody tr th {\n        vertical-align: top;\n    }\n\n    .dataframe thead th {\n        text-align: right;\n    }\n</style>\n<table border=\"1\" class=\"dataframe\">\n  <thead>\n    <tr style=\"text-align: right;\">\n      <th></th>\n      <th>Unnamed: 0</th>\n      <th>etag</th>\n      <th>id.kind</th>\n      <th>id.videoId</th>\n      <th>snippet.publishedAt</th>\n      <th>snippet.channelId</th>\n      <th>snippet.title</th>\n      <th>snippet.description</th>\n      <th>snippet.thumbnails.default.url</th>\n      <th>snippet.thumbnails.default.width</th>\n      <th>...</th>\n      <th>snippet.thumbnails.medium.url</th>\n      <th>snippet.thumbnails.medium.width</th>\n      <th>snippet.thumbnails.medium.height</th>\n      <th>snippet.thumbnails.high.url</th>\n      <th>snippet.thumbnails.high.width</th>\n      <th>snippet.thumbnails.high.height</th>\n      <th>snippet.channelTitle</th>\n      <th>snippet.liveBroadcastContent</th>\n      <th>snippet.publishTime</th>\n      <th>kind</th>\n    </tr>\n  </thead>\n  <tbody>\n    <tr>\n      <th>0</th>\n      <td>1</td>\n      <td>EQDFH4sq29F4tLopSvBzT1Owm1M</td>\n      <td>youtube#video</td>\n      <td>AAjsSrjZXsw</td>\n      <td>2021</td>\n      <td>UCh29SdTOPdjBb-n3Vop1lYg</td>\n      <td>Расследование | Паленая косметика на Ozon и Wi...</td>\n      <td>На российских маркетплейсах продается огромное...</td>\n      <td>https://i.ytimg.com/vi/AAjsSrjZXsw/default.jpg</td>\n      <td>120</td>\n      <td>...</td>\n      <td>https://i.ytimg.com/vi/AAjsSrjZXsw/mqdefault.jpg</td>\n      <td>320</td>\n      <td>180</td>\n      <td>https://i.ytimg.com/vi/AAjsSrjZXsw/hqdefault.jpg</td>\n      <td>480</td>\n      <td>360</td>\n      <td>katyakonasova</td>\n      <td>none</td>\n      <td>2021-03-10T13:46:47Z</td>\n      <td>NaN</td>\n    </tr>\n    <tr>\n      <th>1</th>\n      <td>2</td>\n      <td>P1X20DCj2WrucSb9ldNXa1bYGQU</td>\n      <td>youtube#video</td>\n      <td>yk4Wjr3j7QY</td>\n      <td>2023</td>\n      <td>UCfcMgRNXey6TQkov9mgVgoA</td>\n      <td>Пляжная мода в Корее #этокореядетка #корейская...</td>\n      <td>NaN</td>\n      <td>https://i.ytimg.com/vi/yk4Wjr3j7QY/default.jpg</td>\n      <td>120</td>\n      <td>...</td>\n      <td>https://i.ytimg.com/vi/yk4Wjr3j7QY/mqdefault.jpg</td>\n      <td>320</td>\n      <td>180</td>\n      <td>https://i.ytimg.com/vi/yk4Wjr3j7QY/hqdefault.jpg</td>\n      <td>480</td>\n      <td>360</td>\n      <td>altyshkorea</td>\n      <td>none</td>\n      <td>2023-02-05T04:32:39Z</td>\n      <td>NaN</td>\n    </tr>\n    <tr>\n      <th>2</th>\n      <td>3</td>\n      <td>KC_LG8xTt9DjwtELdwXsHef8Y2g</td>\n      <td>youtube#video</td>\n      <td>Wi49rKRM85U</td>\n      <td>2022</td>\n      <td>UCphnZS52v_lkv5RSl5n70tQ</td>\n      <td>한국인들은 절대 안사는 화장품 КОСМЕТИКА КОТОРАЯ КОРЕЯНКИ ВО...</td>\n      <td>подписаться: https://goo.gl/3QbeUf -----------...</td>\n      <td>https://i.ytimg.com/vi/Wi49rKRM85U/default.jpg</td>\n      <td>120</td>\n      <td>...</td>\n      <td>https://i.ytimg.com/vi/Wi49rKRM85U/mqdefault.jpg</td>\n      <td>320</td>\n      <td>180</td>\n      <td>https://i.ytimg.com/vi/Wi49rKRM85U/hqdefault.jpg</td>\n      <td>480</td>\n      <td>360</td>\n      <td>Kyunghamin твоя корейская онни</td>\n      <td>none</td>\n      <td>2022-06-20T12:57:48Z</td>\n      <td>NaN</td>\n    </tr>\n    <tr>\n      <th>3</th>\n      <td>4</td>\n      <td>jLZGccW4KN5uL3WAMK7JggpPUsc</td>\n      <td>youtube#video</td>\n      <td>kSiaxefvCgM</td>\n      <td>2023</td>\n      <td>UCfcMgRNXey6TQkov9mgVgoA</td>\n      <td>Жилищный вопрос: Корея #дорамы #корейскийязык ...</td>\n      <td>NaN</td>\n      <td>https://i.ytimg.com/vi/kSiaxefvCgM/default.jpg</td>\n      <td>120</td>\n      <td>...</td>\n      <td>https://i.ytimg.com/vi/kSiaxefvCgM/mqdefault.jpg</td>\n      <td>320</td>\n      <td>180</td>\n      <td>https://i.ytimg.com/vi/kSiaxefvCgM/hqdefault.jpg</td>\n      <td>480</td>\n      <td>360</td>\n      <td>altyshkorea</td>\n      <td>none</td>\n      <td>2023-02-11T12:43:25Z</td>\n      <td>NaN</td>\n    </tr>\n    <tr>\n      <th>4</th>\n      <td>5</td>\n      <td>dltiYtp7e0SGjSrmXCopbsnWyVQ</td>\n      <td>youtube#video</td>\n      <td>4nqfUzIz7kQ</td>\n      <td>2021</td>\n      <td>UCphnZS52v_lkv5RSl5n70tQ</td>\n      <td>Кореянка в Золотом Яблоке. Почему русские поку...</td>\n      <td>кореянка#золотоеяблоко#корейскаякосметика прив...</td>\n      <td>https://i.ytimg.com/vi/4nqfUzIz7kQ/default.jpg</td>\n      <td>120</td>\n      <td>...</td>\n      <td>https://i.ytimg.com/vi/4nqfUzIz7kQ/mqdefault.jpg</td>\n      <td>320</td>\n      <td>180</td>\n      <td>https://i.ytimg.com/vi/4nqfUzIz7kQ/hqdefault.jpg</td>\n      <td>480</td>\n      <td>360</td>\n      <td>Kyunghamin твоя корейская онни</td>\n      <td>none</td>\n      <td>2021-11-12T14:59:32Z</td>\n      <td>NaN</td>\n    </tr>\n    <tr>\n      <th>...</th>\n      <td>...</td>\n      <td>...</td>\n      <td>...</td>\n      <td>...</td>\n      <td>...</td>\n      <td>...</td>\n      <td>...</td>\n      <td>...</td>\n      <td>...</td>\n      <td>...</td>\n      <td>...</td>\n      <td>...</td>\n      <td>...</td>\n      <td>...</td>\n      <td>...</td>\n      <td>...</td>\n      <td>...</td>\n      <td>...</td>\n      <td>...</td>\n      <td>...</td>\n      <td>...</td>\n    </tr>\n    <tr>\n      <th>1295</th>\n      <td>1973</td>\n      <td>T5xiMJIvrxeWR1zTaA0zegMQxnM</td>\n      <td>youtube#video</td>\n      <td>SNRrXxyiwk0</td>\n      <td>2023-03-20T15:43:32Z</td>\n      <td>UC2wyUPnUdd_o2JYPIUuDgoA</td>\n      <td>#атоми #корейскаякосметика #атомибизнес #уходз...</td>\n      <td>NaN</td>\n      <td>https://i.ytimg.com/vi/SNRrXxyiwk0/default.jpg</td>\n      <td>120</td>\n      <td>...</td>\n      <td>https://i.ytimg.com/vi/SNRrXxyiwk0/mqdefault.jpg</td>\n      <td>320</td>\n      <td>180</td>\n      <td>https://i.ytimg.com/vi/SNRrXxyiwk0/hqdefault.jpg</td>\n      <td>480</td>\n      <td>360</td>\n      <td>Ксения Харенская</td>\n      <td>none</td>\n      <td>2023-03-20T15:43:32Z</td>\n      <td>youtube#searchResult</td>\n    </tr>\n    <tr>\n      <th>1296</th>\n      <td>1974</td>\n      <td>1B0Q8RCO3FKkXFfQr5-DYSM-z5M</td>\n      <td>youtube#video</td>\n      <td>NPGuTcFkdHw</td>\n      <td>2023-03-13T22:15:57Z</td>\n      <td>UCXdscmYnR_wgN0uT0C-ug8w</td>\n      <td>Немного закулисья, когда работаю и консультиру...</td>\n      <td>NaN</td>\n      <td>https://i.ytimg.com/vi/NPGuTcFkdHw/default.jpg</td>\n      <td>120</td>\n      <td>...</td>\n      <td>https://i.ytimg.com/vi/NPGuTcFkdHw/mqdefault.jpg</td>\n      <td>320</td>\n      <td>180</td>\n      <td>https://i.ytimg.com/vi/NPGuTcFkdHw/hqdefault.jpg</td>\n      <td>480</td>\n      <td>360</td>\n      <td>PRO. beauty-bar</td>\n      <td>none</td>\n      <td>2023-03-13T22:15:57Z</td>\n      <td>youtube#searchResult</td>\n    </tr>\n    <tr>\n      <th>1297</th>\n      <td>1975</td>\n      <td>n-lXr1sktVRV6D35_-xOKaej5yU</td>\n      <td>youtube#video</td>\n      <td>oqFLCIng4Bo</td>\n      <td>2023-03-29T15:32:24Z</td>\n      <td>UC2wyUPnUdd_o2JYPIUuDgoA</td>\n      <td>#фриланс #работаудаленно #атомибизнес #атомикр...</td>\n      <td>NaN</td>\n      <td>https://i.ytimg.com/vi/oqFLCIng4Bo/default.jpg</td>\n      <td>120</td>\n      <td>...</td>\n      <td>https://i.ytimg.com/vi/oqFLCIng4Bo/mqdefault.jpg</td>\n      <td>320</td>\n      <td>180</td>\n      <td>https://i.ytimg.com/vi/oqFLCIng4Bo/hqdefault.jpg</td>\n      <td>480</td>\n      <td>360</td>\n      <td>Ксения Харенская</td>\n      <td>none</td>\n      <td>2023-03-29T15:32:24Z</td>\n      <td>youtube#searchResult</td>\n    </tr>\n    <tr>\n      <th>1298</th>\n      <td>1976</td>\n      <td>spiZ5extV7ieubjGA-UBsCNLSRY</td>\n      <td>youtube#video</td>\n      <td>6glsQ1LyRXM</td>\n      <td>2023-03-19T17:00:07Z</td>\n      <td>UCbkr6G0g-d2HH5p5QYPyfag</td>\n      <td>Toner | Luon #luon #корейскаякосметика</td>\n      <td>NaN</td>\n      <td>https://i.ytimg.com/vi/6glsQ1LyRXM/default.jpg</td>\n      <td>120</td>\n      <td>...</td>\n      <td>https://i.ytimg.com/vi/6glsQ1LyRXM/mqdefault.jpg</td>\n      <td>320</td>\n      <td>180</td>\n      <td>https://i.ytimg.com/vi/6glsQ1LyRXM/hqdefault.jpg</td>\n      <td>480</td>\n      <td>360</td>\n      <td>LUON</td>\n      <td>none</td>\n      <td>2023-03-19T17:00:07Z</td>\n      <td>youtube#searchResult</td>\n    </tr>\n    <tr>\n      <th>1299</th>\n      <td>1977</td>\n      <td>ae5T7TtOSHI9OHeFt0V1SpnzU8w</td>\n      <td>youtube#video</td>\n      <td>KsAVjAwf3Go</td>\n      <td>2023-03-06T12:57:45Z</td>\n      <td>UCoMjXgLQIYVuZ3Gm2kI4T8A</td>\n      <td>#КорейскаяКосметика #Красота #Атоми #Atomy #ух...</td>\n      <td>В набор Атоми Гидра Сияние входят капсульная э...</td>\n      <td>https://i.ytimg.com/vi/KsAVjAwf3Go/default.jpg</td>\n      <td>120</td>\n      <td>...</td>\n      <td>https://i.ytimg.com/vi/KsAVjAwf3Go/mqdefault.jpg</td>\n      <td>320</td>\n      <td>180</td>\n      <td>https://i.ytimg.com/vi/KsAVjAwf3Go/hqdefault.jpg</td>\n      <td>480</td>\n      <td>360</td>\n      <td>НОРКИНА  ОЛЬГА              ЭКСПЕРТНОЕ МНЕНИЕ</td>\n      <td>none</td>\n      <td>2023-03-06T12:57:45Z</td>\n      <td>youtube#searchResult</td>\n    </tr>\n  </tbody>\n</table>\n<p>1300 rows × 21 columns</p>\n</div>"
     },
     "metadata": {},
     "output_type": "display_data"
    }
   ],
   "source": [
    "# 7\n",
    "import pandas as pd\n",
    "\n",
    "data = pd.read_excel(DATA_PATH / \"seminar4\" / 'корейская косметика_Video_Not_sorted+Sorted+Date.xlsx')\n",
    "\n",
    "\n",
    "display(data)"
   ],
   "metadata": {
    "collapsed": false,
    "ExecuteTime": {
     "start_time": "2023-04-08T12:04:48.163973Z",
     "end_time": "2023-04-08T12:04:48.454542Z"
    }
   }
  },
  {
   "cell_type": "code",
   "execution_count": 10,
   "outputs": [],
   "source": [
    "# 8\n",
    "\n",
    "search_parts = [\n",
    "    \"id\",\n",
    "    \"liveStreamingDetails\",\n",
    "    \"player\",\n",
    "    \"snippet\",\n",
    "    \"statistics\",\n",
    "    \"topicDetails\",\n",
    "    \"contentDetails\"\n",
    "]\n",
    "\n",
    "# список каналов\n",
    "video_ids = list(data['id.videoId'])"
   ],
   "metadata": {
    "collapsed": false,
    "ExecuteTime": {
     "start_time": "2023-04-08T12:04:49.182083Z",
     "end_time": "2023-04-08T12:04:49.184074Z"
    }
   }
  },
  {
   "cell_type": "code",
   "execution_count": 11,
   "outputs": [
    {
     "data": {
      "text/plain": "            kind                         etag           id  \\\n0  youtube#video  JlUeGRM73VkN0w8nCEaEyWoBan4  AAjsSrjZXsw   \n1  youtube#video  7WDv-DyXw9u2r1vYjW2NooOtj7s  yk4Wjr3j7QY   \n2  youtube#video  fDjV0KNgOssPF9NpbdoSpb40mR0  Wi49rKRM85U   \n3  youtube#video  UpqzTW3rCzeEURxHPRyg8n66jgM  kSiaxefvCgM   \n4  youtube#video  qVkdqXUraasWK3i8x412EgtkBc0  4nqfUzIz7kQ   \n\n    snippet.publishedAt         snippet.channelId  \\\n0  2021-03-10T13:46:47Z  UCh29SdTOPdjBb-n3Vop1lYg   \n1  2023-02-05T04:32:39Z  UCfcMgRNXey6TQkov9mgVgoA   \n2  2022-06-20T12:57:48Z  UCphnZS52v_lkv5RSl5n70tQ   \n3  2023-02-11T12:43:25Z  UCfcMgRNXey6TQkov9mgVgoA   \n4  2021-11-12T14:59:32Z  UCphnZS52v_lkv5RSl5n70tQ   \n\n                                       snippet.title  \\\n0  Расследование | Паленая косметика на Ozon и Wi...   \n1  Пляжная мода в Корее #этокореядетка #корейская...   \n2  한국인들은 절대 안사는 화장품 КОСМЕТИКА КОТОРАЯ КОРЕЯНКИ ВО...   \n3  Жилищный вопрос: Корея #дорамы #корейскийязык ...   \n4  Кореянка в Золотом Яблоке. Почему русские поку...   \n\n                                 snippet.description  \\\n0  На российских маркетплейсах продается огромное...   \n1                                                      \n2  ⚫подписаться: https://goo.gl/3QbeUf\\r\\n-------...   \n3                                                      \n4  #кореянка#золотоеяблоко#корейскаякосметика\\nпр...   \n\n                   snippet.thumbnails.default.url  \\\n0  https://i.ytimg.com/vi/AAjsSrjZXsw/default.jpg   \n1  https://i.ytimg.com/vi/yk4Wjr3j7QY/default.jpg   \n2  https://i.ytimg.com/vi/Wi49rKRM85U/default.jpg   \n3  https://i.ytimg.com/vi/kSiaxefvCgM/default.jpg   \n4  https://i.ytimg.com/vi/4nqfUzIz7kQ/default.jpg   \n\n   snippet.thumbnails.default.width  snippet.thumbnails.default.height  ...  \\\n0                               120                                 90  ...   \n1                               120                                 90  ...   \n2                               120                                 90  ...   \n3                               120                                 90  ...   \n4                               120                                 90  ...   \n\n  contentDetails.caption  contentDetails.licensedContent  \\\n0                  false                            True   \n1                  false                           False   \n2                   true                            True   \n3                  false                           False   \n4                  false                            True   \n\n   contentDetails.projection statistics.viewCount  statistics.likeCount  \\\n0                rectangular              1683147                 83038   \n1                rectangular              1620075                 76728   \n2                rectangular              1168830                 58791   \n3                rectangular               920276                 45075   \n4                rectangular               431081                 13511   \n\n   statistics.favoriteCount statistics.commentCount  \\\n0                         0                    5690   \n1                         0                     774   \n2                         0                    1138   \n3                         0                     701   \n4                         0                     766   \n\n                                    player.embedHtml  \\\n0  <iframe width=\"480\" height=\"270\" src=\"//www.yo...   \n1  <iframe width=\"480\" height=\"270\" src=\"//www.yo...   \n2  <iframe width=\"480\" height=\"270\" src=\"//www.yo...   \n3  <iframe width=\"480\" height=\"270\" src=\"//www.yo...   \n4  <iframe width=\"480\" height=\"270\" src=\"//www.yo...   \n\n                        topicDetails.topicCategories  \\\n0  [https://en.wikipedia.org/wiki/Lifestyle_(soci...   \n1  [https://en.wikipedia.org/wiki/Lifestyle_(soci...   \n2  [https://en.wikipedia.org/wiki/Lifestyle_(soci...   \n3  [https://en.wikipedia.org/wiki/Lifestyle_(soci...   \n4  [https://en.wikipedia.org/wiki/Lifestyle_(soci...   \n\n                                        snippet.tags  \n0                                                NaN  \n1                                                NaN  \n2  [КОРЕЯНКА, АЗИАТКА, #КОРЕЙСКАЯДЕВУШКА, АЗИАТСК...  \n3                                                NaN  \n4  [КОРЕЯНКА, АЗИАТКА, #КОРЕЙСКАЯДЕВУШКА, АЗИАТСК...  \n\n[5 rows x 42 columns]",
      "text/html": "<div>\n<style scoped>\n    .dataframe tbody tr th:only-of-type {\n        vertical-align: middle;\n    }\n\n    .dataframe tbody tr th {\n        vertical-align: top;\n    }\n\n    .dataframe thead th {\n        text-align: right;\n    }\n</style>\n<table border=\"1\" class=\"dataframe\">\n  <thead>\n    <tr style=\"text-align: right;\">\n      <th></th>\n      <th>kind</th>\n      <th>etag</th>\n      <th>id</th>\n      <th>snippet.publishedAt</th>\n      <th>snippet.channelId</th>\n      <th>snippet.title</th>\n      <th>snippet.description</th>\n      <th>snippet.thumbnails.default.url</th>\n      <th>snippet.thumbnails.default.width</th>\n      <th>snippet.thumbnails.default.height</th>\n      <th>...</th>\n      <th>contentDetails.caption</th>\n      <th>contentDetails.licensedContent</th>\n      <th>contentDetails.projection</th>\n      <th>statistics.viewCount</th>\n      <th>statistics.likeCount</th>\n      <th>statistics.favoriteCount</th>\n      <th>statistics.commentCount</th>\n      <th>player.embedHtml</th>\n      <th>topicDetails.topicCategories</th>\n      <th>snippet.tags</th>\n    </tr>\n  </thead>\n  <tbody>\n    <tr>\n      <th>0</th>\n      <td>youtube#video</td>\n      <td>JlUeGRM73VkN0w8nCEaEyWoBan4</td>\n      <td>AAjsSrjZXsw</td>\n      <td>2021-03-10T13:46:47Z</td>\n      <td>UCh29SdTOPdjBb-n3Vop1lYg</td>\n      <td>Расследование | Паленая косметика на Ozon и Wi...</td>\n      <td>На российских маркетплейсах продается огромное...</td>\n      <td>https://i.ytimg.com/vi/AAjsSrjZXsw/default.jpg</td>\n      <td>120</td>\n      <td>90</td>\n      <td>...</td>\n      <td>false</td>\n      <td>True</td>\n      <td>rectangular</td>\n      <td>1683147</td>\n      <td>83038</td>\n      <td>0</td>\n      <td>5690</td>\n      <td>&lt;iframe width=\"480\" height=\"270\" src=\"//www.yo...</td>\n      <td>[https://en.wikipedia.org/wiki/Lifestyle_(soci...</td>\n      <td>NaN</td>\n    </tr>\n    <tr>\n      <th>1</th>\n      <td>youtube#video</td>\n      <td>7WDv-DyXw9u2r1vYjW2NooOtj7s</td>\n      <td>yk4Wjr3j7QY</td>\n      <td>2023-02-05T04:32:39Z</td>\n      <td>UCfcMgRNXey6TQkov9mgVgoA</td>\n      <td>Пляжная мода в Корее #этокореядетка #корейская...</td>\n      <td></td>\n      <td>https://i.ytimg.com/vi/yk4Wjr3j7QY/default.jpg</td>\n      <td>120</td>\n      <td>90</td>\n      <td>...</td>\n      <td>false</td>\n      <td>False</td>\n      <td>rectangular</td>\n      <td>1620075</td>\n      <td>76728</td>\n      <td>0</td>\n      <td>774</td>\n      <td>&lt;iframe width=\"480\" height=\"270\" src=\"//www.yo...</td>\n      <td>[https://en.wikipedia.org/wiki/Lifestyle_(soci...</td>\n      <td>NaN</td>\n    </tr>\n    <tr>\n      <th>2</th>\n      <td>youtube#video</td>\n      <td>fDjV0KNgOssPF9NpbdoSpb40mR0</td>\n      <td>Wi49rKRM85U</td>\n      <td>2022-06-20T12:57:48Z</td>\n      <td>UCphnZS52v_lkv5RSl5n70tQ</td>\n      <td>한국인들은 절대 안사는 화장품 КОСМЕТИКА КОТОРАЯ КОРЕЯНКИ ВО...</td>\n      <td>⚫подписаться: https://goo.gl/3QbeUf\\r\\n-------...</td>\n      <td>https://i.ytimg.com/vi/Wi49rKRM85U/default.jpg</td>\n      <td>120</td>\n      <td>90</td>\n      <td>...</td>\n      <td>true</td>\n      <td>True</td>\n      <td>rectangular</td>\n      <td>1168830</td>\n      <td>58791</td>\n      <td>0</td>\n      <td>1138</td>\n      <td>&lt;iframe width=\"480\" height=\"270\" src=\"//www.yo...</td>\n      <td>[https://en.wikipedia.org/wiki/Lifestyle_(soci...</td>\n      <td>[КОРЕЯНКА, АЗИАТКА, #КОРЕЙСКАЯДЕВУШКА, АЗИАТСК...</td>\n    </tr>\n    <tr>\n      <th>3</th>\n      <td>youtube#video</td>\n      <td>UpqzTW3rCzeEURxHPRyg8n66jgM</td>\n      <td>kSiaxefvCgM</td>\n      <td>2023-02-11T12:43:25Z</td>\n      <td>UCfcMgRNXey6TQkov9mgVgoA</td>\n      <td>Жилищный вопрос: Корея #дорамы #корейскийязык ...</td>\n      <td></td>\n      <td>https://i.ytimg.com/vi/kSiaxefvCgM/default.jpg</td>\n      <td>120</td>\n      <td>90</td>\n      <td>...</td>\n      <td>false</td>\n      <td>False</td>\n      <td>rectangular</td>\n      <td>920276</td>\n      <td>45075</td>\n      <td>0</td>\n      <td>701</td>\n      <td>&lt;iframe width=\"480\" height=\"270\" src=\"//www.yo...</td>\n      <td>[https://en.wikipedia.org/wiki/Lifestyle_(soci...</td>\n      <td>NaN</td>\n    </tr>\n    <tr>\n      <th>4</th>\n      <td>youtube#video</td>\n      <td>qVkdqXUraasWK3i8x412EgtkBc0</td>\n      <td>4nqfUzIz7kQ</td>\n      <td>2021-11-12T14:59:32Z</td>\n      <td>UCphnZS52v_lkv5RSl5n70tQ</td>\n      <td>Кореянка в Золотом Яблоке. Почему русские поку...</td>\n      <td>#кореянка#золотоеяблоко#корейскаякосметика\\nпр...</td>\n      <td>https://i.ytimg.com/vi/4nqfUzIz7kQ/default.jpg</td>\n      <td>120</td>\n      <td>90</td>\n      <td>...</td>\n      <td>false</td>\n      <td>True</td>\n      <td>rectangular</td>\n      <td>431081</td>\n      <td>13511</td>\n      <td>0</td>\n      <td>766</td>\n      <td>&lt;iframe width=\"480\" height=\"270\" src=\"//www.yo...</td>\n      <td>[https://en.wikipedia.org/wiki/Lifestyle_(soci...</td>\n      <td>[КОРЕЯНКА, АЗИАТКА, #КОРЕЙСКАЯДЕВУШКА, АЗИАТСК...</td>\n    </tr>\n  </tbody>\n</table>\n<p>5 rows × 42 columns</p>\n</div>"
     },
     "execution_count": 11,
     "metadata": {},
     "output_type": "execute_result"
    }
   ],
   "source": [
    "# 9 Одиночный вызов API для одного канала\n",
    "request = youtube.videos().list(\n",
    "    part=search_parts,\n",
    "    maxResults=50,\n",
    "    id=video_ids[:50],\n",
    ")\n",
    "response = request.execute()\n",
    "\n",
    "df_supplemented = pd.json_normalize(response['items'])\n",
    "df_supplemented.head()"
   ],
   "metadata": {
    "collapsed": false,
    "ExecuteTime": {
     "start_time": "2023-04-08T12:04:51.267204Z",
     "end_time": "2023-04-08T12:04:51.698712Z"
    }
   }
  },
  {
   "cell_type": "code",
   "execution_count": 12,
   "outputs": [
    {
     "name": "stdout",
     "output_type": "stream",
     "text": [
      "Итерация 0 завершена\n",
      "Итерация 1 завершена\n",
      "Итерация 2 завершена\n",
      "Итерация 3 завершена\n",
      "Итерация 4 завершена\n",
      "Итерация 5 завершена\n",
      "Итерация 6 завершена\n",
      "Итерация 7 завершена\n",
      "Итерация 8 завершена\n",
      "Итерация 9 завершена\n",
      "Итерация 10 завершена\n",
      "Итерация 11 завершена\n",
      "Итерация 12 завершена\n",
      "Итерация 13 завершена\n",
      "Итерация 14 завершена\n",
      "Итерация 15 завершена\n",
      "Итерация 16 завершена\n",
      "Итерация 17 завершена\n",
      "Итерация 18 завершена\n",
      "Итерация 19 завершена\n",
      "Итерация 20 завершена\n",
      "Итерация 21 завершена\n",
      "Итерация 22 завершена\n",
      "Итерация 23 завершена\n",
      "Итерация 24 завершена\n",
      "Итерация 25 завершена\n"
     ]
    }
   ],
   "source": [
    "# 10 Множественный вызов по 50 элементов\n",
    "\n",
    "df_supplemented = pd.DataFrame()\n",
    "step = 50\n",
    "\n",
    "for i in range(0, len(data), step):\n",
    "    # границы интервала\n",
    "    s, e = i, i+step\n",
    "    if e > len(data): e = len(data)\n",
    "\n",
    "    request = youtube.videos().list(\n",
    "    part=search_parts,\n",
    "    maxResults=50,\n",
    "    id=video_ids[s:e],\n",
    "    )\n",
    "    response = request.execute()\n",
    "\n",
    "    df_additional = pd.json_normalize(response['items'])\n",
    "    df_supplemented = pd.concat([df_supplemented, df_additional])\n",
    "    print(f\"Итерация {i // 50} завершена\")"
   ],
   "metadata": {
    "collapsed": false,
    "ExecuteTime": {
     "start_time": "2023-04-08T12:04:52.581498Z",
     "end_time": "2023-04-08T12:05:00.910692Z"
    }
   }
  },
  {
   "cell_type": "code",
   "execution_count": 13,
   "outputs": [
    {
     "name": "stdout",
     "output_type": "stream",
     "text": [
      "<class 'pandas.core.frame.DataFrame'>\n",
      "Int64Index: 1300 entries, 0 to 49\n",
      "Data columns (total 47 columns):\n",
      " #   Column                                   Non-Null Count  Dtype  \n",
      "---  ------                                   --------------  -----  \n",
      " 0   kind                                     1300 non-null   object \n",
      " 1   etag                                     1300 non-null   object \n",
      " 2   id                                       1300 non-null   object \n",
      " 3   snippet.publishedAt                      1300 non-null   object \n",
      " 4   snippet.channelId                        1300 non-null   object \n",
      " 5   snippet.title                            1300 non-null   object \n",
      " 6   snippet.description                      1300 non-null   object \n",
      " 7   snippet.thumbnails.default.url           1300 non-null   object \n",
      " 8   snippet.thumbnails.default.width         1300 non-null   int64  \n",
      " 9   snippet.thumbnails.default.height        1300 non-null   int64  \n",
      " 10  snippet.thumbnails.medium.url            1300 non-null   object \n",
      " 11  snippet.thumbnails.medium.width          1300 non-null   int64  \n",
      " 12  snippet.thumbnails.medium.height         1300 non-null   int64  \n",
      " 13  snippet.thumbnails.high.url              1300 non-null   object \n",
      " 14  snippet.thumbnails.high.width            1300 non-null   int64  \n",
      " 15  snippet.thumbnails.high.height           1300 non-null   int64  \n",
      " 16  snippet.thumbnails.standard.url          1272 non-null   object \n",
      " 17  snippet.thumbnails.standard.width        1272 non-null   float64\n",
      " 18  snippet.thumbnails.standard.height       1272 non-null   float64\n",
      " 19  snippet.thumbnails.maxres.url            1143 non-null   object \n",
      " 20  snippet.thumbnails.maxres.width          1143 non-null   float64\n",
      " 21  snippet.thumbnails.maxres.height         1143 non-null   float64\n",
      " 22  snippet.channelTitle                     1300 non-null   object \n",
      " 23  snippet.categoryId                       1300 non-null   object \n",
      " 24  snippet.liveBroadcastContent             1300 non-null   object \n",
      " 25  snippet.defaultLanguage                  192 non-null    object \n",
      " 26  snippet.localized.title                  1300 non-null   object \n",
      " 27  snippet.localized.description            1300 non-null   object \n",
      " 28  snippet.defaultAudioLanguage             612 non-null    object \n",
      " 29  contentDetails.duration                  1300 non-null   object \n",
      " 30  contentDetails.dimension                 1300 non-null   object \n",
      " 31  contentDetails.definition                1300 non-null   object \n",
      " 32  contentDetails.caption                   1300 non-null   object \n",
      " 33  contentDetails.licensedContent           1300 non-null   bool   \n",
      " 34  contentDetails.projection                1300 non-null   object \n",
      " 35  statistics.viewCount                     1300 non-null   object \n",
      " 36  statistics.likeCount                     1256 non-null   object \n",
      " 37  statistics.favoriteCount                 1300 non-null   object \n",
      " 38  statistics.commentCount                  1287 non-null   object \n",
      " 39  player.embedHtml                         1300 non-null   object \n",
      " 40  topicDetails.topicCategories             1244 non-null   object \n",
      " 41  snippet.tags                             770 non-null    object \n",
      " 42  liveStreamingDetails.actualStartTime     34 non-null     object \n",
      " 43  liveStreamingDetails.actualEndTime       34 non-null     object \n",
      " 44  liveStreamingDetails.scheduledStartTime  35 non-null     object \n",
      " 45  liveStreamingDetails.activeLiveChatId    1 non-null      object \n",
      " 46  contentDetails.contentRating.ytRating    3 non-null      object \n",
      "dtypes: bool(1), float64(4), int64(6), object(36)\n",
      "memory usage: 478.6+ KB\n"
     ]
    }
   ],
   "source": [
    "# 11 Просмотр параметров датафрейма\n",
    "df_supplemented.info()"
   ],
   "metadata": {
    "collapsed": false,
    "ExecuteTime": {
     "start_time": "2023-04-08T12:05:00.918051Z",
     "end_time": "2023-04-08T12:05:00.930255Z"
    }
   }
  },
  {
   "cell_type": "code",
   "execution_count": 14,
   "outputs": [
    {
     "name": "stdout",
     "output_type": "stream",
     "text": [
      "Всё ок\n"
     ]
    }
   ],
   "source": [
    "# 12 Валидация количества каналов\n",
    "\n",
    "if len(data) == len(df_supplemented): print('Всё ок')\n",
    "else: print(\"Не досчитались:\", abs(len(data) - len(df_supplemented)), \"видео\")"
   ],
   "metadata": {
    "collapsed": false,
    "ExecuteTime": {
     "start_time": "2023-04-08T12:05:06.379351Z",
     "end_time": "2023-04-08T12:05:06.387380Z"
    }
   }
  },
  {
   "cell_type": "code",
   "execution_count": 15,
   "outputs": [],
   "source": [
    "# 13 Просмотр статистики по каналам\n",
    "\n",
    "list_of_col = [x for x in df_supplemented.columns if x.startswith('stat')]\n",
    "\n",
    "for col in list_of_col:\n",
    "    df_supplemented[col] = pd.to_numeric(df_supplemented[col],downcast=\"integer\")"
   ],
   "metadata": {
    "collapsed": false,
    "ExecuteTime": {
     "start_time": "2023-04-08T12:05:07.147777Z",
     "end_time": "2023-04-08T12:05:07.154619Z"
    }
   }
  },
  {
   "cell_type": "code",
   "execution_count": 16,
   "outputs": [
    {
     "name": "stdout",
     "output_type": "stream",
     "text": [
      "Параметр statistics.viewCount\n",
      "Average - 22908.436153846153\n",
      "Minimal - 0,\n",
      "Maximum - 2060209\n",
      "Median - 1283.0\n",
      "===============\n",
      "Параметр statistics.likeCount\n",
      "Average - 1051.9195859872611\n",
      "Minimal - 0.0,\n",
      "Maximum - 125829.0\n",
      "Median - 33.0\n",
      "===============\n",
      "Параметр statistics.favoriteCount\n",
      "Average - 0.0\n",
      "Minimal - 0,\n",
      "Maximum - 0\n",
      "Median - 0.0\n",
      "===============\n",
      "Параметр statistics.commentCount\n",
      "Average - 56.717948717948715\n",
      "Minimal - 0.0,\n",
      "Maximum - 5690.0\n",
      "Median - 3.0\n",
      "===============\n"
     ]
    }
   ],
   "source": [
    "for col in list_of_col:\n",
    "    print(f\"Параметр {col}\")\n",
    "    print(f\"Average - {df_supplemented[col].mean()}\\n\"\n",
    "          f\"Minimal - {df_supplemented[col].min()},\\n\"\n",
    "          f\"Maximum - {df_supplemented[col].max()}\\n\"\n",
    "          f\"Median - {df_supplemented[col].median()}\")\n",
    "    print(\"=\"*15)"
   ],
   "metadata": {
    "collapsed": false,
    "ExecuteTime": {
     "start_time": "2023-04-08T12:05:07.711515Z",
     "end_time": "2023-04-08T12:05:07.718085Z"
    }
   }
  },
  {
   "cell_type": "code",
   "execution_count": 17,
   "outputs": [
    {
     "name": "stdout",
     "output_type": "stream",
     "text": [
      "/Users/andrey/PycharmProjects/DataMiningProjects/data\n"
     ]
    }
   ],
   "source": [
    "print(DATA_PATH)"
   ],
   "metadata": {
    "collapsed": false,
    "ExecuteTime": {
     "start_time": "2023-04-08T12:05:08.534330Z",
     "end_time": "2023-04-08T12:05:08.540307Z"
    }
   }
  },
  {
   "cell_type": "code",
   "execution_count": 24,
   "outputs": [],
   "source": [
    "# 13 сохранение файлов в специальной директории\n",
    "import os\n",
    "\n",
    "if not os.path.exists(DATA_PATH / seminar):\n",
    "    os.makedirs(DATA_PATH / seminar)\n",
    "\n",
    "df_supplemented.to_excel(DATA_PATH / seminar /  f'{query}_{type_query.capitalize()}_characteristics.xlsx', index=False)"
   ],
   "metadata": {
    "collapsed": false,
    "ExecuteTime": {
     "start_time": "2023-04-08T12:06:12.132942Z",
     "end_time": "2023-04-08T12:06:13.195195Z"
    }
   }
  },
  {
   "cell_type": "code",
   "execution_count": 25,
   "outputs": [
    {
     "data": {
      "text/plain": "PosixPath('/Users/andrey/PycharmProjects/DataMiningProjects/data/seminar5/корейская косметика_Video_characteristics.xlsx')"
     },
     "execution_count": 25,
     "metadata": {},
     "output_type": "execute_result"
    }
   ],
   "source": [
    "DATA_PATH / seminar /  f'{query}_{type_query.capitalize()}_characteristics.xlsx'"
   ],
   "metadata": {
    "collapsed": false,
    "ExecuteTime": {
     "start_time": "2023-04-08T12:06:13.196396Z",
     "end_time": "2023-04-08T12:06:13.198688Z"
    }
   }
  },
  {
   "cell_type": "code",
   "execution_count": 20,
   "outputs": [
    {
     "data": {
      "text/plain": "'seminar5'"
     },
     "execution_count": 20,
     "metadata": {},
     "output_type": "execute_result"
    }
   ],
   "source": [
    "seminar"
   ],
   "metadata": {
    "collapsed": false,
    "ExecuteTime": {
     "start_time": "2023-04-08T12:05:26.217405Z",
     "end_time": "2023-04-08T12:05:26.238983Z"
    }
   }
  },
  {
   "cell_type": "code",
   "execution_count": null,
   "outputs": [],
   "source": [],
   "metadata": {
    "collapsed": false
   }
  }
 ],
 "metadata": {
  "kernelspec": {
   "display_name": "Python 3",
   "language": "python",
   "name": "python3"
  },
  "language_info": {
   "codemirror_mode": {
    "name": "ipython",
    "version": 2
   },
   "file_extension": ".py",
   "mimetype": "text/x-python",
   "name": "python",
   "nbconvert_exporter": "python",
   "pygments_lexer": "ipython2",
   "version": "2.7.6"
  }
 },
 "nbformat": 4,
 "nbformat_minor": 0
}
