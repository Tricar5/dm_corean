{
 "cells": [
  {
   "cell_type": "markdown",
   "source": [
    "# Семинар 5\n",
    "## Сбор характеристик видео"
   ],
   "metadata": {
    "collapsed": false
   }
  },
  {
   "cell_type": "code",
   "execution_count": 1,
   "outputs": [],
   "source": [
    "import pathlib\n",
    "import yaml\n",
    "\n",
    "ROOT = pathlib.Path().resolve().parent.parent\n",
    "\n",
    "with open(ROOT / \"config.yml\", \"r\") as f:\n",
    "    config = yaml.safe_load(f)"
   ],
   "metadata": {
    "collapsed": false
   }
  },
  {
   "cell_type": "code",
   "execution_count": 41,
   "outputs": [],
   "source": [
    "# 3\n",
    "DATA_PATH = ROOT / config['api']['DATA_PATH']\n",
    "\n",
    "seminar = 'seminar5'\n",
    "\n",
    "query = \"корейская косметика\"\n",
    "type_query = \"video\"\n",
    "\n",
    "# Для поиска видео с учетом даты:\n",
    "publishedAfter = '2020-01-01T00:00:00Z'\n",
    "publishedBefore = '2022-01-01T00:00:00Z'"
   ],
   "metadata": {
    "collapsed": false
   }
  },
  {
   "cell_type": "code",
   "execution_count": 5,
   "outputs": [],
   "source": [
    "# 3.1\n",
    "class KeyStorage:\n",
    "    \"\"\"\n",
    "    Class to use in iteration\n",
    "    \"\"\"\n",
    "\n",
    "    def __init__(self, key_arr: list[str]):\n",
    "        self.key_gen = iter(key_arr)\n",
    "\n",
    "    def get_next_key(self):\n",
    "        \"\"\"\n",
    "        Returns API key to use\n",
    "        :return:\n",
    "        \"\"\"\n",
    "        return next(self.key_gen)\n",
    "\n",
    "\n",
    "key_storage = KeyStorage(config['api']['keys'])"
   ],
   "metadata": {
    "collapsed": false
   }
  },
  {
   "cell_type": "code",
   "execution_count": 6,
   "outputs": [],
   "source": [
    "# 3.2 Просмотр API ключа\n",
    "API_KEY = key_storage.get_next_key()"
   ],
   "metadata": {
    "collapsed": false
   }
  },
  {
   "cell_type": "code",
   "execution_count": 7,
   "outputs": [],
   "source": [
    "#4\n",
    "import googleapiclient.discovery as api"
   ],
   "metadata": {
    "collapsed": false
   }
  },
  {
   "cell_type": "code",
   "execution_count": 8,
   "outputs": [],
   "source": [
    "#5\n",
    "api_service_name = \"youtube\"\n",
    "api_version = \"v3\"\n",
    "\n",
    "youtube = api.build(api_service_name,\n",
    "                    api_version,\n",
    "                    developerKey=API_KEY)"
   ],
   "metadata": {
    "collapsed": false
   }
  },
  {
   "cell_type": "code",
   "execution_count": 9,
   "outputs": [],
   "source": [
    "# Открываем свой датафрейм"
   ],
   "metadata": {
    "collapsed": false
   }
  },
  {
   "cell_type": "code",
   "execution_count": 50,
   "outputs": [
    {
     "data": {
      "text/plain": "                             etag        id.kind   id.videoId  \\\n0     KC_LG8xTt9DjwtELdwXsHef8Y2g  youtube#video  Wi49rKRM85U   \n1     NjKFlYBBEw9zdA5NO0pNPxZQWW4  youtube#video  1ErvLvQoYxc   \n2     ZkrSJlyz8XsSTJv1_ejDaFtSKyM  youtube#video  aiY0ymL25Pw   \n3     uSLsO6jgTFGew3isXWNKN2IEIu0  youtube#video  JA9E4TCVsDU   \n4     6kkxWnMmA0vx1FI_Ur5fXgKuR6k  youtube#video  NAeXVpMTiT4   \n...                           ...            ...          ...   \n1154  bW3Uq8gYIhQEGanxZ5nu6dDF0aY  youtube#video  _BYxqcouMKY   \n1155  1c0LMXkoHGoukeXYbOF0pypCTak  youtube#video  jzgkgw0SOYQ   \n1156  f-rtv1bF1xAW-g2Mgfi9wOuvo8g  youtube#video  S7jRLXemuDE   \n1157  PlQbjemdKCNFrqHxOUj5sEYwrVc  youtube#video  oXnAv_RxKgU   \n1158  OfmVpRySLWbli3DBOgROuEO3iDg  youtube#video  Vkw6kXGKVb0   \n\n       snippet.publishedAt         snippet.channelId  \\\n0                     2022  UCphnZS52v_lkv5RSl5n70tQ   \n1                     2019  UC6C0oFYlpKkFGG-ykqM4fYw   \n2                     2021  UCiT7bPorr4rKJU8WFBZA9Og   \n3                     2015  UCNazbf-kLY6E8TO_o48ZExQ   \n4                     2018  UCmXGqfEsluA1fID55bVexjw   \n...                    ...                       ...   \n1154  2022-12-27T05:55:03Z  UCM7-Frn5Zz4aXplhkaGI5zg   \n1155  2022-11-14T09:00:26Z  UCXgxZYBtriSzwdQH1G6faWw   \n1156  2022-06-05T16:19:52Z  UC_wKTz-Vfky-grfYxAxq_vg   \n1157  2022-11-02T20:52:18Z  UCvGowJMOfZJ8ozZmOTg5EZQ   \n1158  2023-01-17T02:25:32Z  UCuJgpdaIGZx-waHVIqbX_5w   \n\n                                          snippet.title  \\\n0     한국인들은 절대 안사는 화장품 КОСМЕТИКА КОТОРАЯ КОРЕЯНКИ ВО...   \n1     ТЫ ДОЛЖНА ЭТО ПОПРОБОВАТЬ! ЛУЧШАЯ КОРЕЙСКАЯ КО...   \n2     РЕАКЦИЯ дерматолога: 10 этапов корейского уход...   \n3     КАК Я ИСПОРТИЛА КОЖУ: КОРЕЙСКАЯ КОСМЕТИКА\\Tony...   \n4     🇰🇷 НЕВЕРОЯТНАЯ КОРЕЙСКАЯ КОСМЕТИКА! Топовые шт...   \n...                                                 ...   \n1154  КОРЕЙСКАЯ КОСМЕТИКА В УЗБЕКИСТАНЕ☎️+9989355945...   \n1155  Омолаживающая ампульная сыворотка со стволовым...   \n1156  ВЕГАНСКАЯ КОСМЕТИКА | КОРЕЙСКАЯ КОСМЕТИКА | СО...   \n1157  Присоединяйтесь 😘#обзорыкосметики #бьютиблогге...   \n1158     Корейская косметика Аморе пасифик Amorepacific   \n\n                                    snippet.description  \\\n0     подписаться: https://goo.gl/3QbeUf -----------...   \n1     Хорошие мои, сегодня я расскажу вам про свой к...   \n2     Мой телеграм: https://t.me/dr_amina_pirmanova ...   \n3     Привет! Корейская косметика снова набирает обо...   \n4     Магазин корейской косметики https://goo.gl/UJG...   \n...                                                 ...   \n1154                                                NaN   \n1155  Обзор корейского ухода | Омолаживающая сыворот...   \n1156  Привет! Сегодня собираемся, болтаем и знакомим...   \n1157                                                NaN   \n1158                                                NaN   \n\n                      snippet.thumbnails.default.url  \\\n0     https://i.ytimg.com/vi/Wi49rKRM85U/default.jpg   \n1     https://i.ytimg.com/vi/1ErvLvQoYxc/default.jpg   \n2     https://i.ytimg.com/vi/aiY0ymL25Pw/default.jpg   \n3     https://i.ytimg.com/vi/JA9E4TCVsDU/default.jpg   \n4     https://i.ytimg.com/vi/NAeXVpMTiT4/default.jpg   \n...                                              ...   \n1154  https://i.ytimg.com/vi/_BYxqcouMKY/default.jpg   \n1155  https://i.ytimg.com/vi/jzgkgw0SOYQ/default.jpg   \n1156  https://i.ytimg.com/vi/S7jRLXemuDE/default.jpg   \n1157  https://i.ytimg.com/vi/oXnAv_RxKgU/default.jpg   \n1158  https://i.ytimg.com/vi/Vkw6kXGKVb0/default.jpg   \n\n      snippet.thumbnails.default.width  snippet.thumbnails.default.height  \\\n0                                  120                                 90   \n1                                  120                                 90   \n2                                  120                                 90   \n3                                  120                                 90   \n4                                  120                                 90   \n...                                ...                                ...   \n1154                               120                                 90   \n1155                               120                                 90   \n1156                               120                                 90   \n1157                               120                                 90   \n1158                               120                                 90   \n\n                         snippet.thumbnails.medium.url  \\\n0     https://i.ytimg.com/vi/Wi49rKRM85U/mqdefault.jpg   \n1     https://i.ytimg.com/vi/1ErvLvQoYxc/mqdefault.jpg   \n2     https://i.ytimg.com/vi/aiY0ymL25Pw/mqdefault.jpg   \n3     https://i.ytimg.com/vi/JA9E4TCVsDU/mqdefault.jpg   \n4     https://i.ytimg.com/vi/NAeXVpMTiT4/mqdefault.jpg   \n...                                                ...   \n1154  https://i.ytimg.com/vi/_BYxqcouMKY/mqdefault.jpg   \n1155  https://i.ytimg.com/vi/jzgkgw0SOYQ/mqdefault.jpg   \n1156  https://i.ytimg.com/vi/S7jRLXemuDE/mqdefault.jpg   \n1157  https://i.ytimg.com/vi/oXnAv_RxKgU/mqdefault.jpg   \n1158  https://i.ytimg.com/vi/Vkw6kXGKVb0/mqdefault.jpg   \n\n      snippet.thumbnails.medium.width  snippet.thumbnails.medium.height  \\\n0                                 320                               180   \n1                                 320                               180   \n2                                 320                               180   \n3                                 320                               180   \n4                                 320                               180   \n...                               ...                               ...   \n1154                              320                               180   \n1155                              320                               180   \n1156                              320                               180   \n1157                              320                               180   \n1158                              320                               180   \n\n                           snippet.thumbnails.high.url  \\\n0     https://i.ytimg.com/vi/Wi49rKRM85U/hqdefault.jpg   \n1     https://i.ytimg.com/vi/1ErvLvQoYxc/hqdefault.jpg   \n2     https://i.ytimg.com/vi/aiY0ymL25Pw/hqdefault.jpg   \n3     https://i.ytimg.com/vi/JA9E4TCVsDU/hqdefault.jpg   \n4     https://i.ytimg.com/vi/NAeXVpMTiT4/hqdefault.jpg   \n...                                                ...   \n1154  https://i.ytimg.com/vi/_BYxqcouMKY/hqdefault.jpg   \n1155  https://i.ytimg.com/vi/jzgkgw0SOYQ/hqdefault.jpg   \n1156  https://i.ytimg.com/vi/S7jRLXemuDE/hqdefault.jpg   \n1157  https://i.ytimg.com/vi/oXnAv_RxKgU/hqdefault.jpg   \n1158  https://i.ytimg.com/vi/Vkw6kXGKVb0/hqdefault.jpg   \n\n      snippet.thumbnails.high.width  snippet.thumbnails.high.height  \\\n0                               480                             360   \n1                               480                             360   \n2                               480                             360   \n3                               480                             360   \n4                               480                             360   \n...                             ...                             ...   \n1154                            480                             360   \n1155                            480                             360   \n1156                            480                             360   \n1157                            480                             360   \n1158                            480                             360   \n\n                                   snippet.channelTitle  \\\n0                        Kyunghamin твоя корейская онни   \n1                                        Pineapple Soul   \n2                                       Amina Pirmanova   \n3                                             Julie Art   \n4                                        Tanya StreLove   \n...                                                 ...   \n1154                    АТОМИ БИЛАН МАҚСАДЛАР САРИ ОЛҒА   \n1155                                      Premium Korea   \n1156                                    ULIANA K-BEAUTY   \n1157                  AVOCADOKOREAN Корейская косметика   \n1158  Amorepacific. Hera. Sulwhasoo.  Primera. Holitual   \n\n     snippet.liveBroadcastContent   snippet.publishTime                  kind  \n0                            none  2022-06-20T12:57:48Z                   NaN  \n1                            none  2019-03-21T10:23:49Z                   NaN  \n2                            none  2021-08-20T08:51:18Z                   NaN  \n3                            none  2015-12-06T14:30:40Z                   NaN  \n4                            none  2018-04-20T15:19:56Z                   NaN  \n...                           ...                   ...                   ...  \n1154                         none  2022-12-27T05:55:03Z  youtube#searchResult  \n1155                         none  2022-11-14T09:00:26Z  youtube#searchResult  \n1156                         none  2022-06-05T16:19:52Z  youtube#searchResult  \n1157                         none  2022-11-02T20:52:18Z  youtube#searchResult  \n1158                         none  2023-01-17T02:25:32Z  youtube#searchResult  \n\n[1159 rows x 20 columns]",
      "text/html": "<div>\n<style scoped>\n    .dataframe tbody tr th:only-of-type {\n        vertical-align: middle;\n    }\n\n    .dataframe tbody tr th {\n        vertical-align: top;\n    }\n\n    .dataframe thead th {\n        text-align: right;\n    }\n</style>\n<table border=\"1\" class=\"dataframe\">\n  <thead>\n    <tr style=\"text-align: right;\">\n      <th></th>\n      <th>etag</th>\n      <th>id.kind</th>\n      <th>id.videoId</th>\n      <th>snippet.publishedAt</th>\n      <th>snippet.channelId</th>\n      <th>snippet.title</th>\n      <th>snippet.description</th>\n      <th>snippet.thumbnails.default.url</th>\n      <th>snippet.thumbnails.default.width</th>\n      <th>snippet.thumbnails.default.height</th>\n      <th>snippet.thumbnails.medium.url</th>\n      <th>snippet.thumbnails.medium.width</th>\n      <th>snippet.thumbnails.medium.height</th>\n      <th>snippet.thumbnails.high.url</th>\n      <th>snippet.thumbnails.high.width</th>\n      <th>snippet.thumbnails.high.height</th>\n      <th>snippet.channelTitle</th>\n      <th>snippet.liveBroadcastContent</th>\n      <th>snippet.publishTime</th>\n      <th>kind</th>\n    </tr>\n  </thead>\n  <tbody>\n    <tr>\n      <th>0</th>\n      <td>KC_LG8xTt9DjwtELdwXsHef8Y2g</td>\n      <td>youtube#video</td>\n      <td>Wi49rKRM85U</td>\n      <td>2022</td>\n      <td>UCphnZS52v_lkv5RSl5n70tQ</td>\n      <td>한국인들은 절대 안사는 화장품 КОСМЕТИКА КОТОРАЯ КОРЕЯНКИ ВО...</td>\n      <td>подписаться: https://goo.gl/3QbeUf -----------...</td>\n      <td>https://i.ytimg.com/vi/Wi49rKRM85U/default.jpg</td>\n      <td>120</td>\n      <td>90</td>\n      <td>https://i.ytimg.com/vi/Wi49rKRM85U/mqdefault.jpg</td>\n      <td>320</td>\n      <td>180</td>\n      <td>https://i.ytimg.com/vi/Wi49rKRM85U/hqdefault.jpg</td>\n      <td>480</td>\n      <td>360</td>\n      <td>Kyunghamin твоя корейская онни</td>\n      <td>none</td>\n      <td>2022-06-20T12:57:48Z</td>\n      <td>NaN</td>\n    </tr>\n    <tr>\n      <th>1</th>\n      <td>NjKFlYBBEw9zdA5NO0pNPxZQWW4</td>\n      <td>youtube#video</td>\n      <td>1ErvLvQoYxc</td>\n      <td>2019</td>\n      <td>UC6C0oFYlpKkFGG-ykqM4fYw</td>\n      <td>ТЫ ДОЛЖНА ЭТО ПОПРОБОВАТЬ! ЛУЧШАЯ КОРЕЙСКАЯ КО...</td>\n      <td>Хорошие мои, сегодня я расскажу вам про свой к...</td>\n      <td>https://i.ytimg.com/vi/1ErvLvQoYxc/default.jpg</td>\n      <td>120</td>\n      <td>90</td>\n      <td>https://i.ytimg.com/vi/1ErvLvQoYxc/mqdefault.jpg</td>\n      <td>320</td>\n      <td>180</td>\n      <td>https://i.ytimg.com/vi/1ErvLvQoYxc/hqdefault.jpg</td>\n      <td>480</td>\n      <td>360</td>\n      <td>Pineapple Soul</td>\n      <td>none</td>\n      <td>2019-03-21T10:23:49Z</td>\n      <td>NaN</td>\n    </tr>\n    <tr>\n      <th>2</th>\n      <td>ZkrSJlyz8XsSTJv1_ejDaFtSKyM</td>\n      <td>youtube#video</td>\n      <td>aiY0ymL25Pw</td>\n      <td>2021</td>\n      <td>UCiT7bPorr4rKJU8WFBZA9Og</td>\n      <td>РЕАКЦИЯ дерматолога: 10 этапов корейского уход...</td>\n      <td>Мой телеграм: https://t.me/dr_amina_pirmanova ...</td>\n      <td>https://i.ytimg.com/vi/aiY0ymL25Pw/default.jpg</td>\n      <td>120</td>\n      <td>90</td>\n      <td>https://i.ytimg.com/vi/aiY0ymL25Pw/mqdefault.jpg</td>\n      <td>320</td>\n      <td>180</td>\n      <td>https://i.ytimg.com/vi/aiY0ymL25Pw/hqdefault.jpg</td>\n      <td>480</td>\n      <td>360</td>\n      <td>Amina Pirmanova</td>\n      <td>none</td>\n      <td>2021-08-20T08:51:18Z</td>\n      <td>NaN</td>\n    </tr>\n    <tr>\n      <th>3</th>\n      <td>uSLsO6jgTFGew3isXWNKN2IEIu0</td>\n      <td>youtube#video</td>\n      <td>JA9E4TCVsDU</td>\n      <td>2015</td>\n      <td>UCNazbf-kLY6E8TO_o48ZExQ</td>\n      <td>КАК Я ИСПОРТИЛА КОЖУ: КОРЕЙСКАЯ КОСМЕТИКА\\Tony...</td>\n      <td>Привет! Корейская косметика снова набирает обо...</td>\n      <td>https://i.ytimg.com/vi/JA9E4TCVsDU/default.jpg</td>\n      <td>120</td>\n      <td>90</td>\n      <td>https://i.ytimg.com/vi/JA9E4TCVsDU/mqdefault.jpg</td>\n      <td>320</td>\n      <td>180</td>\n      <td>https://i.ytimg.com/vi/JA9E4TCVsDU/hqdefault.jpg</td>\n      <td>480</td>\n      <td>360</td>\n      <td>Julie Art</td>\n      <td>none</td>\n      <td>2015-12-06T14:30:40Z</td>\n      <td>NaN</td>\n    </tr>\n    <tr>\n      <th>4</th>\n      <td>6kkxWnMmA0vx1FI_Ur5fXgKuR6k</td>\n      <td>youtube#video</td>\n      <td>NAeXVpMTiT4</td>\n      <td>2018</td>\n      <td>UCmXGqfEsluA1fID55bVexjw</td>\n      <td>🇰🇷 НЕВЕРОЯТНАЯ КОРЕЙСКАЯ КОСМЕТИКА! Топовые шт...</td>\n      <td>Магазин корейской косметики https://goo.gl/UJG...</td>\n      <td>https://i.ytimg.com/vi/NAeXVpMTiT4/default.jpg</td>\n      <td>120</td>\n      <td>90</td>\n      <td>https://i.ytimg.com/vi/NAeXVpMTiT4/mqdefault.jpg</td>\n      <td>320</td>\n      <td>180</td>\n      <td>https://i.ytimg.com/vi/NAeXVpMTiT4/hqdefault.jpg</td>\n      <td>480</td>\n      <td>360</td>\n      <td>Tanya StreLove</td>\n      <td>none</td>\n      <td>2018-04-20T15:19:56Z</td>\n      <td>NaN</td>\n    </tr>\n    <tr>\n      <th>...</th>\n      <td>...</td>\n      <td>...</td>\n      <td>...</td>\n      <td>...</td>\n      <td>...</td>\n      <td>...</td>\n      <td>...</td>\n      <td>...</td>\n      <td>...</td>\n      <td>...</td>\n      <td>...</td>\n      <td>...</td>\n      <td>...</td>\n      <td>...</td>\n      <td>...</td>\n      <td>...</td>\n      <td>...</td>\n      <td>...</td>\n      <td>...</td>\n      <td>...</td>\n    </tr>\n    <tr>\n      <th>1154</th>\n      <td>bW3Uq8gYIhQEGanxZ5nu6dDF0aY</td>\n      <td>youtube#video</td>\n      <td>_BYxqcouMKY</td>\n      <td>2022-12-27T05:55:03Z</td>\n      <td>UCM7-Frn5Zz4aXplhkaGI5zg</td>\n      <td>КОРЕЙСКАЯ КОСМЕТИКА В УЗБЕКИСТАНЕ☎️+9989355945...</td>\n      <td>NaN</td>\n      <td>https://i.ytimg.com/vi/_BYxqcouMKY/default.jpg</td>\n      <td>120</td>\n      <td>90</td>\n      <td>https://i.ytimg.com/vi/_BYxqcouMKY/mqdefault.jpg</td>\n      <td>320</td>\n      <td>180</td>\n      <td>https://i.ytimg.com/vi/_BYxqcouMKY/hqdefault.jpg</td>\n      <td>480</td>\n      <td>360</td>\n      <td>АТОМИ БИЛАН МАҚСАДЛАР САРИ ОЛҒА</td>\n      <td>none</td>\n      <td>2022-12-27T05:55:03Z</td>\n      <td>youtube#searchResult</td>\n    </tr>\n    <tr>\n      <th>1155</th>\n      <td>1c0LMXkoHGoukeXYbOF0pypCTak</td>\n      <td>youtube#video</td>\n      <td>jzgkgw0SOYQ</td>\n      <td>2022-11-14T09:00:26Z</td>\n      <td>UCXgxZYBtriSzwdQH1G6faWw</td>\n      <td>Омолаживающая ампульная сыворотка со стволовым...</td>\n      <td>Обзор корейского ухода | Омолаживающая сыворот...</td>\n      <td>https://i.ytimg.com/vi/jzgkgw0SOYQ/default.jpg</td>\n      <td>120</td>\n      <td>90</td>\n      <td>https://i.ytimg.com/vi/jzgkgw0SOYQ/mqdefault.jpg</td>\n      <td>320</td>\n      <td>180</td>\n      <td>https://i.ytimg.com/vi/jzgkgw0SOYQ/hqdefault.jpg</td>\n      <td>480</td>\n      <td>360</td>\n      <td>Premium Korea</td>\n      <td>none</td>\n      <td>2022-11-14T09:00:26Z</td>\n      <td>youtube#searchResult</td>\n    </tr>\n    <tr>\n      <th>1156</th>\n      <td>f-rtv1bF1xAW-g2Mgfi9wOuvo8g</td>\n      <td>youtube#video</td>\n      <td>S7jRLXemuDE</td>\n      <td>2022-06-05T16:19:52Z</td>\n      <td>UC_wKTz-Vfky-grfYxAxq_vg</td>\n      <td>ВЕГАНСКАЯ КОСМЕТИКА | КОРЕЙСКАЯ КОСМЕТИКА | СО...</td>\n      <td>Привет! Сегодня собираемся, болтаем и знакомим...</td>\n      <td>https://i.ytimg.com/vi/S7jRLXemuDE/default.jpg</td>\n      <td>120</td>\n      <td>90</td>\n      <td>https://i.ytimg.com/vi/S7jRLXemuDE/mqdefault.jpg</td>\n      <td>320</td>\n      <td>180</td>\n      <td>https://i.ytimg.com/vi/S7jRLXemuDE/hqdefault.jpg</td>\n      <td>480</td>\n      <td>360</td>\n      <td>ULIANA K-BEAUTY</td>\n      <td>none</td>\n      <td>2022-06-05T16:19:52Z</td>\n      <td>youtube#searchResult</td>\n    </tr>\n    <tr>\n      <th>1157</th>\n      <td>PlQbjemdKCNFrqHxOUj5sEYwrVc</td>\n      <td>youtube#video</td>\n      <td>oXnAv_RxKgU</td>\n      <td>2022-11-02T20:52:18Z</td>\n      <td>UCvGowJMOfZJ8ozZmOTg5EZQ</td>\n      <td>Присоединяйтесь 😘#обзорыкосметики #бьютиблогге...</td>\n      <td>NaN</td>\n      <td>https://i.ytimg.com/vi/oXnAv_RxKgU/default.jpg</td>\n      <td>120</td>\n      <td>90</td>\n      <td>https://i.ytimg.com/vi/oXnAv_RxKgU/mqdefault.jpg</td>\n      <td>320</td>\n      <td>180</td>\n      <td>https://i.ytimg.com/vi/oXnAv_RxKgU/hqdefault.jpg</td>\n      <td>480</td>\n      <td>360</td>\n      <td>AVOCADOKOREAN Корейская косметика</td>\n      <td>none</td>\n      <td>2022-11-02T20:52:18Z</td>\n      <td>youtube#searchResult</td>\n    </tr>\n    <tr>\n      <th>1158</th>\n      <td>OfmVpRySLWbli3DBOgROuEO3iDg</td>\n      <td>youtube#video</td>\n      <td>Vkw6kXGKVb0</td>\n      <td>2023-01-17T02:25:32Z</td>\n      <td>UCuJgpdaIGZx-waHVIqbX_5w</td>\n      <td>Корейская косметика Аморе пасифик Amorepacific</td>\n      <td>NaN</td>\n      <td>https://i.ytimg.com/vi/Vkw6kXGKVb0/default.jpg</td>\n      <td>120</td>\n      <td>90</td>\n      <td>https://i.ytimg.com/vi/Vkw6kXGKVb0/mqdefault.jpg</td>\n      <td>320</td>\n      <td>180</td>\n      <td>https://i.ytimg.com/vi/Vkw6kXGKVb0/hqdefault.jpg</td>\n      <td>480</td>\n      <td>360</td>\n      <td>Amorepacific. Hera. Sulwhasoo.  Primera. Holitual</td>\n      <td>none</td>\n      <td>2023-01-17T02:25:32Z</td>\n      <td>youtube#searchResult</td>\n    </tr>\n  </tbody>\n</table>\n<p>1159 rows × 20 columns</p>\n</div>"
     },
     "metadata": {},
     "output_type": "display_data"
    }
   ],
   "source": [
    "# 7\n",
    "import pandas as pd\n",
    "\n",
    "data = pd.read_excel(DATA_PATH / \"seminar4\" / 'Video_Not_sorted+Sorted+Date.xlsx')\n",
    "\n",
    "\n",
    "display(data)"
   ],
   "metadata": {
    "collapsed": false
   }
  },
  {
   "cell_type": "code",
   "execution_count": 51,
   "outputs": [],
   "source": [
    "# 8\n",
    "\n",
    "search_parts = [\n",
    "    \"id\",\n",
    "    \"liveStreamingDetails\",\n",
    "    \"player\",\n",
    "    \"snippet\",\n",
    "    \"statistics\",\n",
    "    \"topicDetails\"\n",
    "]\n",
    "\n",
    "# список каналов\n",
    "video_ids = list(data['id.videoId'])"
   ],
   "metadata": {
    "collapsed": false
   }
  },
  {
   "cell_type": "code",
   "execution_count": 52,
   "outputs": [
    {
     "data": {
      "text/plain": "            kind                         etag           id  \\\n0  youtube#video  y2TYUQDAVbQ1RjOlZYW1d4Jw4dI  Wi49rKRM85U   \n1  youtube#video  o66jMxQvLcxHppuMKbr9O4YKTdc  1ErvLvQoYxc   \n2  youtube#video  r5AI8SEX9ALW3uMkVcN7-JFZM4M  aiY0ymL25Pw   \n3  youtube#video  QWhr34_5_ubMXZ65kTQSHrRq4So  JA9E4TCVsDU   \n4  youtube#video  jG76vdNVH6uxysegxqbblE-qQKQ  NAeXVpMTiT4   \n\n    snippet.publishedAt         snippet.channelId  \\\n0  2022-06-20T12:57:48Z  UCphnZS52v_lkv5RSl5n70tQ   \n1  2019-03-21T10:23:49Z  UC6C0oFYlpKkFGG-ykqM4fYw   \n2  2021-08-20T08:51:18Z  UCiT7bPorr4rKJU8WFBZA9Og   \n3  2015-12-06T14:30:40Z  UCNazbf-kLY6E8TO_o48ZExQ   \n4  2018-04-20T15:19:56Z  UCmXGqfEsluA1fID55bVexjw   \n\n                                       snippet.title  \\\n0  한국인들은 절대 안사는 화장품 КОСМЕТИКА КОТОРАЯ КОРЕЯНКИ ВО...   \n1  ТЫ ДОЛЖНА ЭТО ПОПРОБОВАТЬ! ЛУЧШАЯ КОРЕЙСКАЯ КО...   \n2  РЕАКЦИЯ дерматолога: 10 этапов корейского уход...   \n3  КАК Я ИСПОРТИЛА КОЖУ: КОРЕЙСКАЯ КОСМЕТИКА\\Tony...   \n4  🇰🇷 НЕВЕРОЯТНАЯ КОРЕЙСКАЯ КОСМЕТИКА! Топовые шт...   \n\n                                 snippet.description  \\\n0  ⚫подписаться: https://goo.gl/3QbeUf\\r\\n-------...   \n1  Хорошие мои, сегодня я расскажу вам про свой к...   \n2  Мой телеграм:\\nhttps://t.me/dr_amina_pirmanova...   \n3  Привет! Корейская косметика снова набирает обо...   \n4  Магазин корейской косметики https://goo.gl/UJG...   \n\n                   snippet.thumbnails.default.url  \\\n0  https://i.ytimg.com/vi/Wi49rKRM85U/default.jpg   \n1  https://i.ytimg.com/vi/1ErvLvQoYxc/default.jpg   \n2  https://i.ytimg.com/vi/aiY0ymL25Pw/default.jpg   \n3  https://i.ytimg.com/vi/JA9E4TCVsDU/default.jpg   \n4  https://i.ytimg.com/vi/NAeXVpMTiT4/default.jpg   \n\n   snippet.thumbnails.default.width  snippet.thumbnails.default.height  ...  \\\n0                               120                                 90  ...   \n1                               120                                 90  ...   \n2                               120                                 90  ...   \n3                               120                                 90  ...   \n4                               120                                 90  ...   \n\n                             snippet.localized.title  \\\n0  한국인들은 절대 안사는 화장품 КОСМЕТИКА КОТОРАЯ КОРЕЯНКИ ВО...   \n1  ТЫ ДОЛЖНА ЭТО ПОПРОБОВАТЬ! ЛУЧШАЯ КОРЕЙСКАЯ КО...   \n2  РЕАКЦИЯ дерматолога: 10 этапов корейского уход...   \n3  КАК Я ИСПОРТИЛА КОЖУ: КОРЕЙСКАЯ КОСМЕТИКА\\Tony...   \n4  🇰🇷 НЕВЕРОЯТНАЯ КОРЕЙСКАЯ КОСМЕТИКА! Топовые шт...   \n\n                       snippet.localized.description  \\\n0  ⚫подписаться: https://goo.gl/3QbeUf\\r\\n-------...   \n1  Хорошие мои, сегодня я расскажу вам про свой к...   \n2  Мой телеграм:\\nhttps://t.me/dr_amina_pirmanova...   \n3  Привет! Корейская косметика снова набирает обо...   \n4  Магазин корейской косметики https://goo.gl/UJG...   \n\n   snippet.defaultAudioLanguage statistics.viewCount  statistics.likeCount  \\\n0                            ru               901509                 48917   \n1                           NaN               388492                 11034   \n2                            ru               384852                 31567   \n3                            ru               329029                  2954   \n4                           NaN               296580                 12750   \n\n   statistics.favoriteCount statistics.commentCount  \\\n0                         0                     984   \n1                         0                     378   \n2                         0                    1767   \n3                         0                     324   \n4                         0                     687   \n\n                                    player.embedHtml  \\\n0  <iframe width=\"480\" height=\"270\" src=\"//www.yo...   \n1  <iframe width=\"480\" height=\"270\" src=\"//www.yo...   \n2  <iframe width=\"480\" height=\"270\" src=\"//www.yo...   \n3  <iframe width=\"480\" height=\"270\" src=\"//www.yo...   \n4  <iframe width=\"480\" height=\"270\" src=\"//www.yo...   \n\n                        topicDetails.topicCategories snippet.defaultLanguage  \n0  [https://en.wikipedia.org/wiki/Lifestyle_(soci...                     NaN  \n1  [https://en.wikipedia.org/wiki/Lifestyle_(soci...                     NaN  \n2  [https://en.wikipedia.org/wiki/Health, https:/...                     NaN  \n3  [https://en.wikipedia.org/wiki/Lifestyle_(soci...                     NaN  \n4  [https://en.wikipedia.org/wiki/Lifestyle_(soci...                     NaN  \n\n[5 rows x 36 columns]",
      "text/html": "<div>\n<style scoped>\n    .dataframe tbody tr th:only-of-type {\n        vertical-align: middle;\n    }\n\n    .dataframe tbody tr th {\n        vertical-align: top;\n    }\n\n    .dataframe thead th {\n        text-align: right;\n    }\n</style>\n<table border=\"1\" class=\"dataframe\">\n  <thead>\n    <tr style=\"text-align: right;\">\n      <th></th>\n      <th>kind</th>\n      <th>etag</th>\n      <th>id</th>\n      <th>snippet.publishedAt</th>\n      <th>snippet.channelId</th>\n      <th>snippet.title</th>\n      <th>snippet.description</th>\n      <th>snippet.thumbnails.default.url</th>\n      <th>snippet.thumbnails.default.width</th>\n      <th>snippet.thumbnails.default.height</th>\n      <th>...</th>\n      <th>snippet.localized.title</th>\n      <th>snippet.localized.description</th>\n      <th>snippet.defaultAudioLanguage</th>\n      <th>statistics.viewCount</th>\n      <th>statistics.likeCount</th>\n      <th>statistics.favoriteCount</th>\n      <th>statistics.commentCount</th>\n      <th>player.embedHtml</th>\n      <th>topicDetails.topicCategories</th>\n      <th>snippet.defaultLanguage</th>\n    </tr>\n  </thead>\n  <tbody>\n    <tr>\n      <th>0</th>\n      <td>youtube#video</td>\n      <td>y2TYUQDAVbQ1RjOlZYW1d4Jw4dI</td>\n      <td>Wi49rKRM85U</td>\n      <td>2022-06-20T12:57:48Z</td>\n      <td>UCphnZS52v_lkv5RSl5n70tQ</td>\n      <td>한국인들은 절대 안사는 화장품 КОСМЕТИКА КОТОРАЯ КОРЕЯНКИ ВО...</td>\n      <td>⚫подписаться: https://goo.gl/3QbeUf\\r\\n-------...</td>\n      <td>https://i.ytimg.com/vi/Wi49rKRM85U/default.jpg</td>\n      <td>120</td>\n      <td>90</td>\n      <td>...</td>\n      <td>한국인들은 절대 안사는 화장품 КОСМЕТИКА КОТОРАЯ КОРЕЯНКИ ВО...</td>\n      <td>⚫подписаться: https://goo.gl/3QbeUf\\r\\n-------...</td>\n      <td>ru</td>\n      <td>901509</td>\n      <td>48917</td>\n      <td>0</td>\n      <td>984</td>\n      <td>&lt;iframe width=\"480\" height=\"270\" src=\"//www.yo...</td>\n      <td>[https://en.wikipedia.org/wiki/Lifestyle_(soci...</td>\n      <td>NaN</td>\n    </tr>\n    <tr>\n      <th>1</th>\n      <td>youtube#video</td>\n      <td>o66jMxQvLcxHppuMKbr9O4YKTdc</td>\n      <td>1ErvLvQoYxc</td>\n      <td>2019-03-21T10:23:49Z</td>\n      <td>UC6C0oFYlpKkFGG-ykqM4fYw</td>\n      <td>ТЫ ДОЛЖНА ЭТО ПОПРОБОВАТЬ! ЛУЧШАЯ КОРЕЙСКАЯ КО...</td>\n      <td>Хорошие мои, сегодня я расскажу вам про свой к...</td>\n      <td>https://i.ytimg.com/vi/1ErvLvQoYxc/default.jpg</td>\n      <td>120</td>\n      <td>90</td>\n      <td>...</td>\n      <td>ТЫ ДОЛЖНА ЭТО ПОПРОБОВАТЬ! ЛУЧШАЯ КОРЕЙСКАЯ КО...</td>\n      <td>Хорошие мои, сегодня я расскажу вам про свой к...</td>\n      <td>NaN</td>\n      <td>388492</td>\n      <td>11034</td>\n      <td>0</td>\n      <td>378</td>\n      <td>&lt;iframe width=\"480\" height=\"270\" src=\"//www.yo...</td>\n      <td>[https://en.wikipedia.org/wiki/Lifestyle_(soci...</td>\n      <td>NaN</td>\n    </tr>\n    <tr>\n      <th>2</th>\n      <td>youtube#video</td>\n      <td>r5AI8SEX9ALW3uMkVcN7-JFZM4M</td>\n      <td>aiY0ymL25Pw</td>\n      <td>2021-08-20T08:51:18Z</td>\n      <td>UCiT7bPorr4rKJU8WFBZA9Og</td>\n      <td>РЕАКЦИЯ дерматолога: 10 этапов корейского уход...</td>\n      <td>Мой телеграм:\\nhttps://t.me/dr_amina_pirmanova...</td>\n      <td>https://i.ytimg.com/vi/aiY0ymL25Pw/default.jpg</td>\n      <td>120</td>\n      <td>90</td>\n      <td>...</td>\n      <td>РЕАКЦИЯ дерматолога: 10 этапов корейского уход...</td>\n      <td>Мой телеграм:\\nhttps://t.me/dr_amina_pirmanova...</td>\n      <td>ru</td>\n      <td>384852</td>\n      <td>31567</td>\n      <td>0</td>\n      <td>1767</td>\n      <td>&lt;iframe width=\"480\" height=\"270\" src=\"//www.yo...</td>\n      <td>[https://en.wikipedia.org/wiki/Health, https:/...</td>\n      <td>NaN</td>\n    </tr>\n    <tr>\n      <th>3</th>\n      <td>youtube#video</td>\n      <td>QWhr34_5_ubMXZ65kTQSHrRq4So</td>\n      <td>JA9E4TCVsDU</td>\n      <td>2015-12-06T14:30:40Z</td>\n      <td>UCNazbf-kLY6E8TO_o48ZExQ</td>\n      <td>КАК Я ИСПОРТИЛА КОЖУ: КОРЕЙСКАЯ КОСМЕТИКА\\Tony...</td>\n      <td>Привет! Корейская косметика снова набирает обо...</td>\n      <td>https://i.ytimg.com/vi/JA9E4TCVsDU/default.jpg</td>\n      <td>120</td>\n      <td>90</td>\n      <td>...</td>\n      <td>КАК Я ИСПОРТИЛА КОЖУ: КОРЕЙСКАЯ КОСМЕТИКА\\Tony...</td>\n      <td>Привет! Корейская косметика снова набирает обо...</td>\n      <td>ru</td>\n      <td>329029</td>\n      <td>2954</td>\n      <td>0</td>\n      <td>324</td>\n      <td>&lt;iframe width=\"480\" height=\"270\" src=\"//www.yo...</td>\n      <td>[https://en.wikipedia.org/wiki/Lifestyle_(soci...</td>\n      <td>NaN</td>\n    </tr>\n    <tr>\n      <th>4</th>\n      <td>youtube#video</td>\n      <td>jG76vdNVH6uxysegxqbblE-qQKQ</td>\n      <td>NAeXVpMTiT4</td>\n      <td>2018-04-20T15:19:56Z</td>\n      <td>UCmXGqfEsluA1fID55bVexjw</td>\n      <td>🇰🇷 НЕВЕРОЯТНАЯ КОРЕЙСКАЯ КОСМЕТИКА! Топовые шт...</td>\n      <td>Магазин корейской косметики https://goo.gl/UJG...</td>\n      <td>https://i.ytimg.com/vi/NAeXVpMTiT4/default.jpg</td>\n      <td>120</td>\n      <td>90</td>\n      <td>...</td>\n      <td>🇰🇷 НЕВЕРОЯТНАЯ КОРЕЙСКАЯ КОСМЕТИКА! Топовые шт...</td>\n      <td>Магазин корейской косметики https://goo.gl/UJG...</td>\n      <td>NaN</td>\n      <td>296580</td>\n      <td>12750</td>\n      <td>0</td>\n      <td>687</td>\n      <td>&lt;iframe width=\"480\" height=\"270\" src=\"//www.yo...</td>\n      <td>[https://en.wikipedia.org/wiki/Lifestyle_(soci...</td>\n      <td>NaN</td>\n    </tr>\n  </tbody>\n</table>\n<p>5 rows × 36 columns</p>\n</div>"
     },
     "execution_count": 52,
     "metadata": {},
     "output_type": "execute_result"
    }
   ],
   "source": [
    "# 9 Одиночный вызов API для одного канала\n",
    "request = youtube.videos().list(\n",
    "    part=search_parts,\n",
    "    maxResults=50,\n",
    "    id=video_ids[:50],\n",
    ")\n",
    "response = request.execute()\n",
    "\n",
    "df_supplemented = pd.json_normalize(response['items'])\n",
    "df_supplemented.head()"
   ],
   "metadata": {
    "collapsed": false
   }
  },
  {
   "cell_type": "code",
   "execution_count": 53,
   "outputs": [
    {
     "name": "stdout",
     "output_type": "stream",
     "text": [
      "Итерация 0 завершена\n",
      "Итерация 1 завершена\n",
      "Итерация 2 завершена\n",
      "Итерация 3 завершена\n",
      "Итерация 4 завершена\n",
      "Итерация 5 завершена\n",
      "Итерация 6 завершена\n",
      "Итерация 7 завершена\n",
      "Итерация 8 завершена\n",
      "Итерация 9 завершена\n",
      "Итерация 10 завершена\n",
      "Итерация 11 завершена\n",
      "Итерация 12 завершена\n",
      "Итерация 13 завершена\n",
      "Итерация 14 завершена\n",
      "Итерация 15 завершена\n",
      "Итерация 16 завершена\n",
      "Итерация 17 завершена\n",
      "Итерация 18 завершена\n",
      "Итерация 19 завершена\n",
      "Итерация 20 завершена\n",
      "Итерация 21 завершена\n",
      "Итерация 22 завершена\n",
      "Итерация 23 завершена\n"
     ]
    }
   ],
   "source": [
    "# 10 Множественный вызов по 50 элементов\n",
    "\n",
    "df_supplemented = pd.DataFrame()\n",
    "step = 50\n",
    "\n",
    "for i in range(0, len(data), step):\n",
    "    # границы интервала\n",
    "    s, e = i, i+step\n",
    "    if e > len(data): e = len(data)\n",
    "\n",
    "    request = youtube.videos().list(\n",
    "    part=search_parts,\n",
    "    maxResults=50,\n",
    "    id=video_ids[s:e],\n",
    "    )\n",
    "    response = request.execute()\n",
    "\n",
    "    df_additional = pd.json_normalize(response['items'])\n",
    "    df_supplemented = pd.concat([df_supplemented, df_additional])\n",
    "    print(f\"Итерация {i // 50} завершена\")"
   ],
   "metadata": {
    "collapsed": false
   }
  },
  {
   "cell_type": "code",
   "execution_count": 54,
   "outputs": [
    {
     "name": "stdout",
     "output_type": "stream",
     "text": [
      "<class 'pandas.core.frame.DataFrame'>\n",
      "Int64Index: 1147 entries, 0 to 8\n",
      "Data columns (total 39 columns):\n",
      " #   Column                                   Non-Null Count  Dtype  \n",
      "---  ------                                   --------------  -----  \n",
      " 0   kind                                     1147 non-null   object \n",
      " 1   etag                                     1147 non-null   object \n",
      " 2   id                                       1147 non-null   object \n",
      " 3   snippet.publishedAt                      1147 non-null   object \n",
      " 4   snippet.channelId                        1147 non-null   object \n",
      " 5   snippet.title                            1147 non-null   object \n",
      " 6   snippet.description                      1147 non-null   object \n",
      " 7   snippet.thumbnails.default.url           1147 non-null   object \n",
      " 8   snippet.thumbnails.default.width         1147 non-null   int64  \n",
      " 9   snippet.thumbnails.default.height        1147 non-null   int64  \n",
      " 10  snippet.thumbnails.medium.url            1147 non-null   object \n",
      " 11  snippet.thumbnails.medium.width          1147 non-null   int64  \n",
      " 12  snippet.thumbnails.medium.height         1147 non-null   int64  \n",
      " 13  snippet.thumbnails.high.url              1147 non-null   object \n",
      " 14  snippet.thumbnails.high.width            1147 non-null   int64  \n",
      " 15  snippet.thumbnails.high.height           1147 non-null   int64  \n",
      " 16  snippet.thumbnails.standard.url          1120 non-null   object \n",
      " 17  snippet.thumbnails.standard.width        1120 non-null   float64\n",
      " 18  snippet.thumbnails.standard.height       1120 non-null   float64\n",
      " 19  snippet.thumbnails.maxres.url            986 non-null    object \n",
      " 20  snippet.thumbnails.maxres.width          986 non-null    float64\n",
      " 21  snippet.thumbnails.maxres.height         986 non-null    float64\n",
      " 22  snippet.channelTitle                     1147 non-null   object \n",
      " 23  snippet.tags                             768 non-null    object \n",
      " 24  snippet.categoryId                       1147 non-null   object \n",
      " 25  snippet.liveBroadcastContent             1147 non-null   object \n",
      " 26  snippet.localized.title                  1147 non-null   object \n",
      " 27  snippet.localized.description            1147 non-null   object \n",
      " 28  snippet.defaultAudioLanguage             634 non-null    object \n",
      " 29  statistics.viewCount                     1147 non-null   object \n",
      " 30  statistics.likeCount                     1122 non-null   object \n",
      " 31  statistics.favoriteCount                 1147 non-null   object \n",
      " 32  statistics.commentCount                  1135 non-null   object \n",
      " 33  player.embedHtml                         1147 non-null   object \n",
      " 34  topicDetails.topicCategories             1095 non-null   object \n",
      " 35  snippet.defaultLanguage                  196 non-null    object \n",
      " 36  liveStreamingDetails.actualStartTime     39 non-null     object \n",
      " 37  liveStreamingDetails.actualEndTime       39 non-null     object \n",
      " 38  liveStreamingDetails.scheduledStartTime  38 non-null     object \n",
      "dtypes: float64(4), int64(6), object(29)\n",
      "memory usage: 358.4+ KB\n"
     ]
    }
   ],
   "source": [
    "# 11 Просмотр параметров датафрейма\n",
    "df_supplemented.info()"
   ],
   "metadata": {
    "collapsed": false
   }
  },
  {
   "cell_type": "code",
   "execution_count": 55,
   "outputs": [
    {
     "name": "stdout",
     "output_type": "stream",
     "text": [
      "Не досчитались: 12 видео\n"
     ]
    }
   ],
   "source": [
    "# 12 Валидация количества каналов\n",
    "\n",
    "if len(data) == len(df_supplemented): print('Всё ок')\n",
    "else: print(\"Не досчитались:\", abs(len(data) - len(df_supplemented)), \"видео\")"
   ],
   "metadata": {
    "collapsed": false
   }
  },
  {
   "cell_type": "code",
   "execution_count": 56,
   "outputs": [],
   "source": [
    "# 13 Просмотр статистики по каналам\n",
    "\n",
    "list_of_col = [x for x in df_supplemented.columns if x.startswith('stat')]\n",
    "\n",
    "for col in list_of_col:\n",
    "    df_supplemented[col] = pd.to_numeric(df_supplemented[col],downcast=\"integer\")"
   ],
   "metadata": {
    "collapsed": false
   }
  },
  {
   "cell_type": "code",
   "execution_count": 57,
   "outputs": [
    {
     "name": "stdout",
     "output_type": "stream",
     "text": [
      "Параметр statistics.viewCount\n",
      "Average - 21927.750653879688\n",
      "Minimal - 0,\n",
      "Maximum - 1567494\n",
      "Median - 1659.0\n",
      "===============\n",
      "Параметр statistics.likeCount\n",
      "Average - 925.5882352941177\n",
      "Minimal - 0.0,\n",
      "Maximum - 79077.0\n",
      "Median - 53.0\n",
      "===============\n",
      "Параметр statistics.favoriteCount\n",
      "Average - 0.0\n",
      "Minimal - 0,\n",
      "Maximum - 0\n",
      "Median - 0.0\n",
      "===============\n",
      "Параметр statistics.commentCount\n",
      "Average - 63.78061674008811\n",
      "Minimal - 0.0,\n",
      "Maximum - 5552.0\n",
      "Median - 7.0\n",
      "===============\n"
     ]
    }
   ],
   "source": [
    "for col in list_of_col:\n",
    "    print(f\"Параметр {col}\")\n",
    "    print(f\"Average - {df_supplemented[col].mean()}\\n\"\n",
    "          f\"Minimal - {df_supplemented[col].min()},\\n\"\n",
    "          f\"Maximum - {df_supplemented[col].max()}\\n\"\n",
    "          f\"Median - {df_supplemented[col].median()}\")\n",
    "    print(\"=\"*15)"
   ],
   "metadata": {
    "collapsed": false
   }
  },
  {
   "cell_type": "code",
   "execution_count": 58,
   "outputs": [
    {
     "name": "stdout",
     "output_type": "stream",
     "text": [
      "/Users/andrey/PycharmProjects/DataMiningProjects/data\n"
     ]
    }
   ],
   "source": [
    "print(DATA_PATH)"
   ],
   "metadata": {
    "collapsed": false
   }
  },
  {
   "cell_type": "code",
   "execution_count": 59,
   "outputs": [],
   "source": [
    "# 13 сохранение файлов в специальной директории\n",
    "import os\n",
    "\n",
    "if not os.path.exists(DATA_PATH / seminar):\n",
    "    os.makedirs(DATA_PATH / seminar)\n",
    "\n",
    "df_supplemented.to_excel(DATA_PATH / seminar/  f'{type_query.capitalize()}_characteristics.xlsx', index=False)"
   ],
   "metadata": {
    "collapsed": false
   }
  },
  {
   "cell_type": "code",
   "execution_count": null,
   "outputs": [],
   "source": [],
   "metadata": {
    "collapsed": false
   }
  }
 ],
 "metadata": {
  "kernelspec": {
   "display_name": "Python 3",
   "language": "python",
   "name": "python3"
  },
  "language_info": {
   "codemirror_mode": {
    "name": "ipython",
    "version": 2
   },
   "file_extension": ".py",
   "mimetype": "text/x-python",
   "name": "python",
   "nbconvert_exporter": "python",
   "pygments_lexer": "ipython2",
   "version": "2.7.6"
  }
 },
 "nbformat": 4,
 "nbformat_minor": 0
}
