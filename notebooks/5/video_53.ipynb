{
 "cells": [
  {
   "cell_type": "markdown",
   "source": [
    "# Семинар 5\n",
    "## Сбор характеристик видео"
   ],
   "metadata": {
    "collapsed": false
   }
  },
  {
   "cell_type": "code",
   "execution_count": 21,
   "outputs": [],
   "source": [
    "import pathlib\n",
    "import yaml\n",
    "\n",
    "ROOT = pathlib.Path().resolve().parent.parent\n",
    "\n",
    "with open(ROOT / \"config.yml\", \"r\") as f:\n",
    "    config = yaml.safe_load(f)"
   ],
   "metadata": {
    "collapsed": false
   }
  },
  {
   "cell_type": "code",
   "execution_count": 22,
   "outputs": [],
   "source": [
    "# 3\n",
    "DATA_PATH = ROOT / config['api']['DATA_PATH']\n",
    "\n",
    "seminar = 'seminar5'\n",
    "\n",
    "query = \"корейская косметика\"\n",
    "type_query = \"video\"\n",
    "\n",
    "# Для поиска видео с учетом даты:\n",
    "publishedAfter = '2020-01-01T00:00:00Z'\n",
    "publishedBefore = '2022-01-01T00:00:00Z'"
   ],
   "metadata": {
    "collapsed": false
   }
  },
  {
   "cell_type": "code",
   "execution_count": 23,
   "outputs": [],
   "source": [
    "# 3.1\n",
    "class KeyStorage:\n",
    "    \"\"\"\n",
    "    Class to use in iteration\n",
    "    \"\"\"\n",
    "\n",
    "    def __init__(self, key_arr: list[str]):\n",
    "        self.key_gen = iter(key_arr)\n",
    "\n",
    "    def get_next_key(self):\n",
    "        \"\"\"\n",
    "        Returns API key to use\n",
    "        :return:\n",
    "        \"\"\"\n",
    "        return next(self.key_gen)\n",
    "\n",
    "\n",
    "key_storage = KeyStorage(config['api']['keys'])"
   ],
   "metadata": {
    "collapsed": false
   }
  },
  {
   "cell_type": "code",
   "execution_count": 32,
   "outputs": [],
   "source": [
    "# 3.2 Просмотр API ключа\n",
    "\n",
    "API_KEY = key_storage.get_next_key()"
   ],
   "metadata": {
    "collapsed": false
   }
  },
  {
   "cell_type": "code",
   "execution_count": 33,
   "outputs": [],
   "source": [
    "#4\n",
    "import googleapiclient.discovery as api"
   ],
   "metadata": {
    "collapsed": false
   }
  },
  {
   "cell_type": "code",
   "execution_count": 34,
   "outputs": [],
   "source": [
    "#5\n",
    "api_service_name = \"youtube\"\n",
    "api_version = \"v3\"\n",
    "\n",
    "youtube = api.build(api_service_name,\n",
    "                    api_version,\n",
    "                    developerKey=API_KEY)"
   ],
   "metadata": {
    "collapsed": false
   }
  },
  {
   "cell_type": "code",
   "execution_count": 35,
   "outputs": [],
   "source": [
    "# Открываем свой датафрейм"
   ],
   "metadata": {
    "collapsed": false
   }
  },
  {
   "cell_type": "code",
   "execution_count": 36,
   "outputs": [
    {
     "data": {
      "text/plain": "      Unnamed: 0                         etag        id.kind   id.videoId  \\\n0              1  KC_LG8xTt9DjwtELdwXsHef8Y2g  youtube#video  Wi49rKRM85U   \n1              2  NjKFlYBBEw9zdA5NO0pNPxZQWW4  youtube#video  1ErvLvQoYxc   \n2              3  ZkrSJlyz8XsSTJv1_ejDaFtSKyM  youtube#video  aiY0ymL25Pw   \n3              4  uSLsO6jgTFGew3isXWNKN2IEIu0  youtube#video  JA9E4TCVsDU   \n4              5  6kkxWnMmA0vx1FI_Ur5fXgKuR6k  youtube#video  NAeXVpMTiT4   \n...          ...                          ...            ...          ...   \n1329        2952  MI4zzroSFGOKd9QwNcTRLQRDalY  youtube#video  QdFBJTWrXGQ   \n1330        2953  0XBsR0bQQCUhrSKnAZNqBWR7PdQ  youtube#video  WDaSYoc6Cbo   \n1331        2954  e8D4Y8oX952ZQDkCSIc1A5TkBIs  youtube#video  E2xdveEfT2Y   \n1332        2955  g6ZpDhmHFaupxIplC2t3_qgA50c  youtube#video  VcnXkDXeF-Y   \n1333        3025  6yA-OcDDRox4jfohOaVbH1V97l0  youtube#video  mw1vV8n1Ey0   \n\n       snippet.publishedAt         snippet.channelId  \\\n0                     2022  UCphnZS52v_lkv5RSl5n70tQ   \n1                     2019  UC6C0oFYlpKkFGG-ykqM4fYw   \n2                     2021  UCiT7bPorr4rKJU8WFBZA9Og   \n3                     2015  UCNazbf-kLY6E8TO_o48ZExQ   \n4                     2018  UCmXGqfEsluA1fID55bVexjw   \n...                    ...                       ...   \n1329  2022-04-06T09:05:51Z  UCBXqiEMJMVTXeQfcZ2M6sow   \n1330  2023-01-05T04:42:56Z  UCM7-Frn5Zz4aXplhkaGI5zg   \n1331  2022-10-17T14:14:46Z  UCbOs6A4SJYanjQXsooKi0Fg   \n1332  2022-11-18T16:07:00Z  UCM7-Frn5Zz4aXplhkaGI5zg   \n1333  2023-02-28T10:34:33Z  UC5miehRccdKBd8yxSl3By0w   \n\n                                          snippet.title  \\\n0     한국인들은 절대 안사는 화장품 КОСМЕТИКА КОТОРАЯ КОРЕЯНКИ ВО...   \n1     ТЫ ДОЛЖНА ЭТО ПОПРОБОВАТЬ! ЛУЧШАЯ КОРЕЙСКАЯ КО...   \n2     РЕАКЦИЯ дерматолога: 10 этапов корейского уход...   \n3     КАК Я ИСПОРТИЛА КОЖУ: КОРЕЙСКАЯ КОСМЕТИКА\\Tony...   \n4     🇰🇷 НЕВЕРОЯТНАЯ КОРЕЙСКАЯ КОСМЕТИКА! Топовые шт...   \n...                                                 ...   \n1329               Atomy The Fame | Корейская косметика   \n1330  ПЕНКА ДЛЯ УМЫВАНИЯ ЛИЦА КОРЕЙСКАЯ КОСМЕТИКА ☎️...   \n1331  КОРЕЙСКИЙ МАКИЯЖ ДЛЯ НАЧИНАЮЩИХ 🤩😍    #тень #м...   \n1332  КОРЕЙСКАЯ КОСМЕТИКА №1 📱+998935594555✍🏻 ТЕЛЕГР...   \n1333            АСМР СТАНДОФФ 2 #6 100 ПОДПИСЧИКОВ УРА!   \n\n                                    snippet.description  \\\n0     подписаться: https://goo.gl/3QbeUf -----------...   \n1     Хорошие мои, сегодня я расскажу вам про свой к...   \n2     Мой телеграм: https://t.me/dr_amina_pirmanova ...   \n3     Привет! Корейская косметика снова набирает обо...   \n4     Магазин корейской косметики https://goo.gl/UJG...   \n...                                                 ...   \n1329  Для заказа заполняйте анкету для регистрации н...   \n1330                                                NaN   \n1331                                                NaN   \n1332                                                NaN   \n1333  АСМР СТАНДОФФ 2 #6 100 ПОДПИСЧИКОВ УРА! если х...   \n\n                      snippet.thumbnails.default.url  \\\n0     https://i.ytimg.com/vi/Wi49rKRM85U/default.jpg   \n1     https://i.ytimg.com/vi/1ErvLvQoYxc/default.jpg   \n2     https://i.ytimg.com/vi/aiY0ymL25Pw/default.jpg   \n3     https://i.ytimg.com/vi/JA9E4TCVsDU/default.jpg   \n4     https://i.ytimg.com/vi/NAeXVpMTiT4/default.jpg   \n...                                              ...   \n1329  https://i.ytimg.com/vi/QdFBJTWrXGQ/default.jpg   \n1330  https://i.ytimg.com/vi/WDaSYoc6Cbo/default.jpg   \n1331  https://i.ytimg.com/vi/E2xdveEfT2Y/default.jpg   \n1332  https://i.ytimg.com/vi/VcnXkDXeF-Y/default.jpg   \n1333  https://i.ytimg.com/vi/mw1vV8n1Ey0/default.jpg   \n\n      snippet.thumbnails.default.width  ...  \\\n0                                  120  ...   \n1                                  120  ...   \n2                                  120  ...   \n3                                  120  ...   \n4                                  120  ...   \n...                                ...  ...   \n1329                               120  ...   \n1330                               120  ...   \n1331                               120  ...   \n1332                               120  ...   \n1333                               120  ...   \n\n                         snippet.thumbnails.medium.url  \\\n0     https://i.ytimg.com/vi/Wi49rKRM85U/mqdefault.jpg   \n1     https://i.ytimg.com/vi/1ErvLvQoYxc/mqdefault.jpg   \n2     https://i.ytimg.com/vi/aiY0ymL25Pw/mqdefault.jpg   \n3     https://i.ytimg.com/vi/JA9E4TCVsDU/mqdefault.jpg   \n4     https://i.ytimg.com/vi/NAeXVpMTiT4/mqdefault.jpg   \n...                                                ...   \n1329  https://i.ytimg.com/vi/QdFBJTWrXGQ/mqdefault.jpg   \n1330  https://i.ytimg.com/vi/WDaSYoc6Cbo/mqdefault.jpg   \n1331  https://i.ytimg.com/vi/E2xdveEfT2Y/mqdefault.jpg   \n1332  https://i.ytimg.com/vi/VcnXkDXeF-Y/mqdefault.jpg   \n1333  https://i.ytimg.com/vi/mw1vV8n1Ey0/mqdefault.jpg   \n\n     snippet.thumbnails.medium.width  snippet.thumbnails.medium.height  \\\n0                                320                               180   \n1                                320                               180   \n2                                320                               180   \n3                                320                               180   \n4                                320                               180   \n...                              ...                               ...   \n1329                             320                               180   \n1330                             320                               180   \n1331                             320                               180   \n1332                             320                               180   \n1333                             320                               180   \n\n                           snippet.thumbnails.high.url  \\\n0     https://i.ytimg.com/vi/Wi49rKRM85U/hqdefault.jpg   \n1     https://i.ytimg.com/vi/1ErvLvQoYxc/hqdefault.jpg   \n2     https://i.ytimg.com/vi/aiY0ymL25Pw/hqdefault.jpg   \n3     https://i.ytimg.com/vi/JA9E4TCVsDU/hqdefault.jpg   \n4     https://i.ytimg.com/vi/NAeXVpMTiT4/hqdefault.jpg   \n...                                                ...   \n1329  https://i.ytimg.com/vi/QdFBJTWrXGQ/hqdefault.jpg   \n1330  https://i.ytimg.com/vi/WDaSYoc6Cbo/hqdefault.jpg   \n1331  https://i.ytimg.com/vi/E2xdveEfT2Y/hqdefault.jpg   \n1332  https://i.ytimg.com/vi/VcnXkDXeF-Y/hqdefault.jpg   \n1333  https://i.ytimg.com/vi/mw1vV8n1Ey0/hqdefault.jpg   \n\n     snippet.thumbnails.high.width  snippet.thumbnails.high.height  \\\n0                              480                             360   \n1                              480                             360   \n2                              480                             360   \n3                              480                             360   \n4                              480                             360   \n...                            ...                             ...   \n1329                           480                             360   \n1330                           480                             360   \n1331                           480                             360   \n1332                           480                             360   \n1333                           480                             360   \n\n                 snippet.channelTitle snippet.liveBroadcastContent  \\\n0      Kyunghamin твоя корейская онни                         none   \n1                      Pineapple Soul                         none   \n2                     Amina Pirmanova                         none   \n3                           Julie Art                         none   \n4                      Tanya StreLove                         none   \n...                               ...                          ...   \n1329                     Атоми Феникс                         none   \n1330  АТОМИ БИЛАН МАҚСАДЛАР САРИ ОЛҒА                         none   \n1331                       Sua.Beauty                         none   \n1332  АТОМИ БИЛАН МАҚСАДЛАР САРИ ОЛҒА                         none   \n1333                     daikson asmr                         none   \n\n       snippet.publishTime                  kind  \n0     2022-06-20T12:57:48Z                   NaN  \n1     2019-03-21T10:23:49Z                   NaN  \n2     2021-08-20T08:51:18Z                   NaN  \n3     2015-12-06T14:30:40Z                   NaN  \n4     2018-04-20T15:19:56Z                   NaN  \n...                    ...                   ...  \n1329  2022-04-06T09:05:51Z  youtube#searchResult  \n1330  2023-01-05T04:42:56Z  youtube#searchResult  \n1331  2022-10-17T14:14:46Z  youtube#searchResult  \n1332  2022-11-18T16:07:00Z  youtube#searchResult  \n1333  2023-02-28T10:34:33Z  youtube#searchResult  \n\n[1334 rows x 21 columns]",
      "text/html": "<div>\n<style scoped>\n    .dataframe tbody tr th:only-of-type {\n        vertical-align: middle;\n    }\n\n    .dataframe tbody tr th {\n        vertical-align: top;\n    }\n\n    .dataframe thead th {\n        text-align: right;\n    }\n</style>\n<table border=\"1\" class=\"dataframe\">\n  <thead>\n    <tr style=\"text-align: right;\">\n      <th></th>\n      <th>Unnamed: 0</th>\n      <th>etag</th>\n      <th>id.kind</th>\n      <th>id.videoId</th>\n      <th>snippet.publishedAt</th>\n      <th>snippet.channelId</th>\n      <th>snippet.title</th>\n      <th>snippet.description</th>\n      <th>snippet.thumbnails.default.url</th>\n      <th>snippet.thumbnails.default.width</th>\n      <th>...</th>\n      <th>snippet.thumbnails.medium.url</th>\n      <th>snippet.thumbnails.medium.width</th>\n      <th>snippet.thumbnails.medium.height</th>\n      <th>snippet.thumbnails.high.url</th>\n      <th>snippet.thumbnails.high.width</th>\n      <th>snippet.thumbnails.high.height</th>\n      <th>snippet.channelTitle</th>\n      <th>snippet.liveBroadcastContent</th>\n      <th>snippet.publishTime</th>\n      <th>kind</th>\n    </tr>\n  </thead>\n  <tbody>\n    <tr>\n      <th>0</th>\n      <td>1</td>\n      <td>KC_LG8xTt9DjwtELdwXsHef8Y2g</td>\n      <td>youtube#video</td>\n      <td>Wi49rKRM85U</td>\n      <td>2022</td>\n      <td>UCphnZS52v_lkv5RSl5n70tQ</td>\n      <td>한국인들은 절대 안사는 화장품 КОСМЕТИКА КОТОРАЯ КОРЕЯНКИ ВО...</td>\n      <td>подписаться: https://goo.gl/3QbeUf -----------...</td>\n      <td>https://i.ytimg.com/vi/Wi49rKRM85U/default.jpg</td>\n      <td>120</td>\n      <td>...</td>\n      <td>https://i.ytimg.com/vi/Wi49rKRM85U/mqdefault.jpg</td>\n      <td>320</td>\n      <td>180</td>\n      <td>https://i.ytimg.com/vi/Wi49rKRM85U/hqdefault.jpg</td>\n      <td>480</td>\n      <td>360</td>\n      <td>Kyunghamin твоя корейская онни</td>\n      <td>none</td>\n      <td>2022-06-20T12:57:48Z</td>\n      <td>NaN</td>\n    </tr>\n    <tr>\n      <th>1</th>\n      <td>2</td>\n      <td>NjKFlYBBEw9zdA5NO0pNPxZQWW4</td>\n      <td>youtube#video</td>\n      <td>1ErvLvQoYxc</td>\n      <td>2019</td>\n      <td>UC6C0oFYlpKkFGG-ykqM4fYw</td>\n      <td>ТЫ ДОЛЖНА ЭТО ПОПРОБОВАТЬ! ЛУЧШАЯ КОРЕЙСКАЯ КО...</td>\n      <td>Хорошие мои, сегодня я расскажу вам про свой к...</td>\n      <td>https://i.ytimg.com/vi/1ErvLvQoYxc/default.jpg</td>\n      <td>120</td>\n      <td>...</td>\n      <td>https://i.ytimg.com/vi/1ErvLvQoYxc/mqdefault.jpg</td>\n      <td>320</td>\n      <td>180</td>\n      <td>https://i.ytimg.com/vi/1ErvLvQoYxc/hqdefault.jpg</td>\n      <td>480</td>\n      <td>360</td>\n      <td>Pineapple Soul</td>\n      <td>none</td>\n      <td>2019-03-21T10:23:49Z</td>\n      <td>NaN</td>\n    </tr>\n    <tr>\n      <th>2</th>\n      <td>3</td>\n      <td>ZkrSJlyz8XsSTJv1_ejDaFtSKyM</td>\n      <td>youtube#video</td>\n      <td>aiY0ymL25Pw</td>\n      <td>2021</td>\n      <td>UCiT7bPorr4rKJU8WFBZA9Og</td>\n      <td>РЕАКЦИЯ дерматолога: 10 этапов корейского уход...</td>\n      <td>Мой телеграм: https://t.me/dr_amina_pirmanova ...</td>\n      <td>https://i.ytimg.com/vi/aiY0ymL25Pw/default.jpg</td>\n      <td>120</td>\n      <td>...</td>\n      <td>https://i.ytimg.com/vi/aiY0ymL25Pw/mqdefault.jpg</td>\n      <td>320</td>\n      <td>180</td>\n      <td>https://i.ytimg.com/vi/aiY0ymL25Pw/hqdefault.jpg</td>\n      <td>480</td>\n      <td>360</td>\n      <td>Amina Pirmanova</td>\n      <td>none</td>\n      <td>2021-08-20T08:51:18Z</td>\n      <td>NaN</td>\n    </tr>\n    <tr>\n      <th>3</th>\n      <td>4</td>\n      <td>uSLsO6jgTFGew3isXWNKN2IEIu0</td>\n      <td>youtube#video</td>\n      <td>JA9E4TCVsDU</td>\n      <td>2015</td>\n      <td>UCNazbf-kLY6E8TO_o48ZExQ</td>\n      <td>КАК Я ИСПОРТИЛА КОЖУ: КОРЕЙСКАЯ КОСМЕТИКА\\Tony...</td>\n      <td>Привет! Корейская косметика снова набирает обо...</td>\n      <td>https://i.ytimg.com/vi/JA9E4TCVsDU/default.jpg</td>\n      <td>120</td>\n      <td>...</td>\n      <td>https://i.ytimg.com/vi/JA9E4TCVsDU/mqdefault.jpg</td>\n      <td>320</td>\n      <td>180</td>\n      <td>https://i.ytimg.com/vi/JA9E4TCVsDU/hqdefault.jpg</td>\n      <td>480</td>\n      <td>360</td>\n      <td>Julie Art</td>\n      <td>none</td>\n      <td>2015-12-06T14:30:40Z</td>\n      <td>NaN</td>\n    </tr>\n    <tr>\n      <th>4</th>\n      <td>5</td>\n      <td>6kkxWnMmA0vx1FI_Ur5fXgKuR6k</td>\n      <td>youtube#video</td>\n      <td>NAeXVpMTiT4</td>\n      <td>2018</td>\n      <td>UCmXGqfEsluA1fID55bVexjw</td>\n      <td>🇰🇷 НЕВЕРОЯТНАЯ КОРЕЙСКАЯ КОСМЕТИКА! Топовые шт...</td>\n      <td>Магазин корейской косметики https://goo.gl/UJG...</td>\n      <td>https://i.ytimg.com/vi/NAeXVpMTiT4/default.jpg</td>\n      <td>120</td>\n      <td>...</td>\n      <td>https://i.ytimg.com/vi/NAeXVpMTiT4/mqdefault.jpg</td>\n      <td>320</td>\n      <td>180</td>\n      <td>https://i.ytimg.com/vi/NAeXVpMTiT4/hqdefault.jpg</td>\n      <td>480</td>\n      <td>360</td>\n      <td>Tanya StreLove</td>\n      <td>none</td>\n      <td>2018-04-20T15:19:56Z</td>\n      <td>NaN</td>\n    </tr>\n    <tr>\n      <th>...</th>\n      <td>...</td>\n      <td>...</td>\n      <td>...</td>\n      <td>...</td>\n      <td>...</td>\n      <td>...</td>\n      <td>...</td>\n      <td>...</td>\n      <td>...</td>\n      <td>...</td>\n      <td>...</td>\n      <td>...</td>\n      <td>...</td>\n      <td>...</td>\n      <td>...</td>\n      <td>...</td>\n      <td>...</td>\n      <td>...</td>\n      <td>...</td>\n      <td>...</td>\n      <td>...</td>\n    </tr>\n    <tr>\n      <th>1329</th>\n      <td>2952</td>\n      <td>MI4zzroSFGOKd9QwNcTRLQRDalY</td>\n      <td>youtube#video</td>\n      <td>QdFBJTWrXGQ</td>\n      <td>2022-04-06T09:05:51Z</td>\n      <td>UCBXqiEMJMVTXeQfcZ2M6sow</td>\n      <td>Atomy The Fame | Корейская косметика</td>\n      <td>Для заказа заполняйте анкету для регистрации н...</td>\n      <td>https://i.ytimg.com/vi/QdFBJTWrXGQ/default.jpg</td>\n      <td>120</td>\n      <td>...</td>\n      <td>https://i.ytimg.com/vi/QdFBJTWrXGQ/mqdefault.jpg</td>\n      <td>320</td>\n      <td>180</td>\n      <td>https://i.ytimg.com/vi/QdFBJTWrXGQ/hqdefault.jpg</td>\n      <td>480</td>\n      <td>360</td>\n      <td>Атоми Феникс</td>\n      <td>none</td>\n      <td>2022-04-06T09:05:51Z</td>\n      <td>youtube#searchResult</td>\n    </tr>\n    <tr>\n      <th>1330</th>\n      <td>2953</td>\n      <td>0XBsR0bQQCUhrSKnAZNqBWR7PdQ</td>\n      <td>youtube#video</td>\n      <td>WDaSYoc6Cbo</td>\n      <td>2023-01-05T04:42:56Z</td>\n      <td>UCM7-Frn5Zz4aXplhkaGI5zg</td>\n      <td>ПЕНКА ДЛЯ УМЫВАНИЯ ЛИЦА КОРЕЙСКАЯ КОСМЕТИКА ☎️...</td>\n      <td>NaN</td>\n      <td>https://i.ytimg.com/vi/WDaSYoc6Cbo/default.jpg</td>\n      <td>120</td>\n      <td>...</td>\n      <td>https://i.ytimg.com/vi/WDaSYoc6Cbo/mqdefault.jpg</td>\n      <td>320</td>\n      <td>180</td>\n      <td>https://i.ytimg.com/vi/WDaSYoc6Cbo/hqdefault.jpg</td>\n      <td>480</td>\n      <td>360</td>\n      <td>АТОМИ БИЛАН МАҚСАДЛАР САРИ ОЛҒА</td>\n      <td>none</td>\n      <td>2023-01-05T04:42:56Z</td>\n      <td>youtube#searchResult</td>\n    </tr>\n    <tr>\n      <th>1331</th>\n      <td>2954</td>\n      <td>e8D4Y8oX952ZQDkCSIc1A5TkBIs</td>\n      <td>youtube#video</td>\n      <td>E2xdveEfT2Y</td>\n      <td>2022-10-17T14:14:46Z</td>\n      <td>UCbOs6A4SJYanjQXsooKi0Fg</td>\n      <td>КОРЕЙСКИЙ МАКИЯЖ ДЛЯ НАЧИНАЮЩИХ 🤩😍    #тень #м...</td>\n      <td>NaN</td>\n      <td>https://i.ytimg.com/vi/E2xdveEfT2Y/default.jpg</td>\n      <td>120</td>\n      <td>...</td>\n      <td>https://i.ytimg.com/vi/E2xdveEfT2Y/mqdefault.jpg</td>\n      <td>320</td>\n      <td>180</td>\n      <td>https://i.ytimg.com/vi/E2xdveEfT2Y/hqdefault.jpg</td>\n      <td>480</td>\n      <td>360</td>\n      <td>Sua.Beauty</td>\n      <td>none</td>\n      <td>2022-10-17T14:14:46Z</td>\n      <td>youtube#searchResult</td>\n    </tr>\n    <tr>\n      <th>1332</th>\n      <td>2955</td>\n      <td>g6ZpDhmHFaupxIplC2t3_qgA50c</td>\n      <td>youtube#video</td>\n      <td>VcnXkDXeF-Y</td>\n      <td>2022-11-18T16:07:00Z</td>\n      <td>UCM7-Frn5Zz4aXplhkaGI5zg</td>\n      <td>КОРЕЙСКАЯ КОСМЕТИКА №1 📱+998935594555✍🏻 ТЕЛЕГР...</td>\n      <td>NaN</td>\n      <td>https://i.ytimg.com/vi/VcnXkDXeF-Y/default.jpg</td>\n      <td>120</td>\n      <td>...</td>\n      <td>https://i.ytimg.com/vi/VcnXkDXeF-Y/mqdefault.jpg</td>\n      <td>320</td>\n      <td>180</td>\n      <td>https://i.ytimg.com/vi/VcnXkDXeF-Y/hqdefault.jpg</td>\n      <td>480</td>\n      <td>360</td>\n      <td>АТОМИ БИЛАН МАҚСАДЛАР САРИ ОЛҒА</td>\n      <td>none</td>\n      <td>2022-11-18T16:07:00Z</td>\n      <td>youtube#searchResult</td>\n    </tr>\n    <tr>\n      <th>1333</th>\n      <td>3025</td>\n      <td>6yA-OcDDRox4jfohOaVbH1V97l0</td>\n      <td>youtube#video</td>\n      <td>mw1vV8n1Ey0</td>\n      <td>2023-02-28T10:34:33Z</td>\n      <td>UC5miehRccdKBd8yxSl3By0w</td>\n      <td>АСМР СТАНДОФФ 2 #6 100 ПОДПИСЧИКОВ УРА!</td>\n      <td>АСМР СТАНДОФФ 2 #6 100 ПОДПИСЧИКОВ УРА! если х...</td>\n      <td>https://i.ytimg.com/vi/mw1vV8n1Ey0/default.jpg</td>\n      <td>120</td>\n      <td>...</td>\n      <td>https://i.ytimg.com/vi/mw1vV8n1Ey0/mqdefault.jpg</td>\n      <td>320</td>\n      <td>180</td>\n      <td>https://i.ytimg.com/vi/mw1vV8n1Ey0/hqdefault.jpg</td>\n      <td>480</td>\n      <td>360</td>\n      <td>daikson asmr</td>\n      <td>none</td>\n      <td>2023-02-28T10:34:33Z</td>\n      <td>youtube#searchResult</td>\n    </tr>\n  </tbody>\n</table>\n<p>1334 rows × 21 columns</p>\n</div>"
     },
     "metadata": {},
     "output_type": "display_data"
    }
   ],
   "source": [
    "# 7\n",
    "import pandas as pd\n",
    "\n",
    "data = pd.read_excel(DATA_PATH / \"seminar4\" / 'Video_Not_sorted+Sorted+Date.xlsx')\n",
    "\n",
    "\n",
    "display(data)"
   ],
   "metadata": {
    "collapsed": false
   }
  },
  {
   "cell_type": "code",
   "execution_count": 37,
   "outputs": [],
   "source": [
    "# 8\n",
    "\n",
    "search_parts = [\n",
    "    \"id\",\n",
    "    \"liveStreamingDetails\",\n",
    "    \"player\",\n",
    "    \"snippet\",\n",
    "    \"statistics\",\n",
    "    \"topicDetails\"\n",
    "]\n",
    "\n",
    "# список каналов\n",
    "video_ids = list(data['id.videoId'])"
   ],
   "metadata": {
    "collapsed": false
   }
  },
  {
   "cell_type": "code",
   "execution_count": 38,
   "outputs": [
    {
     "data": {
      "text/plain": "            kind                         etag           id  \\\n0  youtube#video  hFWHeWO-R7oU4c2XL_XGUFSW0Ro  Wi49rKRM85U   \n1  youtube#video  dH5eRX5ktvZc5h6hZepKAsK6zSo  1ErvLvQoYxc   \n2  youtube#video  VAaYvq0w2V6n-a6E6upg2A1iJbE  aiY0ymL25Pw   \n3  youtube#video  Xu0qxfp0-q2X2DrGsPlfAAn6nqM  JA9E4TCVsDU   \n4  youtube#video  1G4hAX30sQ9cKXA2lX2UD6wUbuY  NAeXVpMTiT4   \n\n    snippet.publishedAt         snippet.channelId  \\\n0  2022-06-20T12:57:48Z  UCphnZS52v_lkv5RSl5n70tQ   \n1  2019-03-21T10:23:49Z  UC6C0oFYlpKkFGG-ykqM4fYw   \n2  2021-08-20T08:51:18Z  UCiT7bPorr4rKJU8WFBZA9Og   \n3  2015-12-06T14:30:40Z  UCNazbf-kLY6E8TO_o48ZExQ   \n4  2018-04-20T15:19:56Z  UCmXGqfEsluA1fID55bVexjw   \n\n                                       snippet.title  \\\n0  한국인들은 절대 안사는 화장품 КОСМЕТИКА КОТОРАЯ КОРЕЯНКИ ВО...   \n1  ТЫ ДОЛЖНА ЭТО ПОПРОБОВАТЬ! ЛУЧШАЯ КОРЕЙСКАЯ КО...   \n2  РЕАКЦИЯ дерматолога: 10 этапов корейского уход...   \n3  КАК Я ИСПОРТИЛА КОЖУ: КОРЕЙСКАЯ КОСМЕТИКА\\Tony...   \n4  🇰🇷 НЕВЕРОЯТНАЯ КОРЕЙСКАЯ КОСМЕТИКА! Топовые шт...   \n\n                                 snippet.description  \\\n0  ⚫подписаться: https://goo.gl/3QbeUf\\r\\n-------...   \n1  Хорошие мои, сегодня я расскажу вам про свой к...   \n2  Мой телеграм:\\nhttps://t.me/dr_amina_pirmanova...   \n3  Привет! Корейская косметика снова набирает обо...   \n4  Магазин корейской косметики https://goo.gl/UJG...   \n\n                   snippet.thumbnails.default.url  \\\n0  https://i.ytimg.com/vi/Wi49rKRM85U/default.jpg   \n1  https://i.ytimg.com/vi/1ErvLvQoYxc/default.jpg   \n2  https://i.ytimg.com/vi/aiY0ymL25Pw/default.jpg   \n3  https://i.ytimg.com/vi/JA9E4TCVsDU/default.jpg   \n4  https://i.ytimg.com/vi/NAeXVpMTiT4/default.jpg   \n\n   snippet.thumbnails.default.width  snippet.thumbnails.default.height  ...  \\\n0                               120                                 90  ...   \n1                               120                                 90  ...   \n2                               120                                 90  ...   \n3                               120                                 90  ...   \n4                               120                                 90  ...   \n\n                             snippet.localized.title  \\\n0  한국인들은 절대 안사는 화장품 КОСМЕТИКА КОТОРАЯ КОРЕЯНКИ ВО...   \n1  ТЫ ДОЛЖНА ЭТО ПОПРОБОВАТЬ! ЛУЧШАЯ КОРЕЙСКАЯ КО...   \n2  РЕАКЦИЯ дерматолога: 10 этапов корейского уход...   \n3  КАК Я ИСПОРТИЛА КОЖУ: КОРЕЙСКАЯ КОСМЕТИКА\\Tony...   \n4  🇰🇷 НЕВЕРОЯТНАЯ КОРЕЙСКАЯ КОСМЕТИКА! Топовые шт...   \n\n                       snippet.localized.description  \\\n0  ⚫подписаться: https://goo.gl/3QbeUf\\r\\n-------...   \n1  Хорошие мои, сегодня я расскажу вам про свой к...   \n2  Мой телеграм:\\nhttps://t.me/dr_amina_pirmanova...   \n3  Привет! Корейская косметика снова набирает обо...   \n4  Магазин корейской косметики https://goo.gl/UJG...   \n\n   snippet.defaultAudioLanguage statistics.viewCount  statistics.likeCount  \\\n0                            ru              1038480                 54006   \n1                           NaN               389038                 11041   \n2                            ru               390710                 31842   \n3                            ru               329051                  2955   \n4                           NaN               296601                 12749   \n\n   statistics.favoriteCount statistics.commentCount  \\\n0                         0                    1065   \n1                         0                     378   \n2                         0                    1777   \n3                         0                     324   \n4                         0                     687   \n\n                                    player.embedHtml  \\\n0  <iframe width=\"480\" height=\"270\" src=\"//www.yo...   \n1  <iframe width=\"480\" height=\"270\" src=\"//www.yo...   \n2  <iframe width=\"480\" height=\"270\" src=\"//www.yo...   \n3  <iframe width=\"480\" height=\"270\" src=\"//www.yo...   \n4  <iframe width=\"480\" height=\"270\" src=\"//www.yo...   \n\n                        topicDetails.topicCategories snippet.defaultLanguage  \n0  [https://en.wikipedia.org/wiki/Lifestyle_(soci...                     NaN  \n1  [https://en.wikipedia.org/wiki/Lifestyle_(soci...                     NaN  \n2  [https://en.wikipedia.org/wiki/Health, https:/...                     NaN  \n3  [https://en.wikipedia.org/wiki/Lifestyle_(soci...                     NaN  \n4  [https://en.wikipedia.org/wiki/Lifestyle_(soci...                     NaN  \n\n[5 rows x 36 columns]",
      "text/html": "<div>\n<style scoped>\n    .dataframe tbody tr th:only-of-type {\n        vertical-align: middle;\n    }\n\n    .dataframe tbody tr th {\n        vertical-align: top;\n    }\n\n    .dataframe thead th {\n        text-align: right;\n    }\n</style>\n<table border=\"1\" class=\"dataframe\">\n  <thead>\n    <tr style=\"text-align: right;\">\n      <th></th>\n      <th>kind</th>\n      <th>etag</th>\n      <th>id</th>\n      <th>snippet.publishedAt</th>\n      <th>snippet.channelId</th>\n      <th>snippet.title</th>\n      <th>snippet.description</th>\n      <th>snippet.thumbnails.default.url</th>\n      <th>snippet.thumbnails.default.width</th>\n      <th>snippet.thumbnails.default.height</th>\n      <th>...</th>\n      <th>snippet.localized.title</th>\n      <th>snippet.localized.description</th>\n      <th>snippet.defaultAudioLanguage</th>\n      <th>statistics.viewCount</th>\n      <th>statistics.likeCount</th>\n      <th>statistics.favoriteCount</th>\n      <th>statistics.commentCount</th>\n      <th>player.embedHtml</th>\n      <th>topicDetails.topicCategories</th>\n      <th>snippet.defaultLanguage</th>\n    </tr>\n  </thead>\n  <tbody>\n    <tr>\n      <th>0</th>\n      <td>youtube#video</td>\n      <td>hFWHeWO-R7oU4c2XL_XGUFSW0Ro</td>\n      <td>Wi49rKRM85U</td>\n      <td>2022-06-20T12:57:48Z</td>\n      <td>UCphnZS52v_lkv5RSl5n70tQ</td>\n      <td>한국인들은 절대 안사는 화장품 КОСМЕТИКА КОТОРАЯ КОРЕЯНКИ ВО...</td>\n      <td>⚫подписаться: https://goo.gl/3QbeUf\\r\\n-------...</td>\n      <td>https://i.ytimg.com/vi/Wi49rKRM85U/default.jpg</td>\n      <td>120</td>\n      <td>90</td>\n      <td>...</td>\n      <td>한국인들은 절대 안사는 화장품 КОСМЕТИКА КОТОРАЯ КОРЕЯНКИ ВО...</td>\n      <td>⚫подписаться: https://goo.gl/3QbeUf\\r\\n-------...</td>\n      <td>ru</td>\n      <td>1038480</td>\n      <td>54006</td>\n      <td>0</td>\n      <td>1065</td>\n      <td>&lt;iframe width=\"480\" height=\"270\" src=\"//www.yo...</td>\n      <td>[https://en.wikipedia.org/wiki/Lifestyle_(soci...</td>\n      <td>NaN</td>\n    </tr>\n    <tr>\n      <th>1</th>\n      <td>youtube#video</td>\n      <td>dH5eRX5ktvZc5h6hZepKAsK6zSo</td>\n      <td>1ErvLvQoYxc</td>\n      <td>2019-03-21T10:23:49Z</td>\n      <td>UC6C0oFYlpKkFGG-ykqM4fYw</td>\n      <td>ТЫ ДОЛЖНА ЭТО ПОПРОБОВАТЬ! ЛУЧШАЯ КОРЕЙСКАЯ КО...</td>\n      <td>Хорошие мои, сегодня я расскажу вам про свой к...</td>\n      <td>https://i.ytimg.com/vi/1ErvLvQoYxc/default.jpg</td>\n      <td>120</td>\n      <td>90</td>\n      <td>...</td>\n      <td>ТЫ ДОЛЖНА ЭТО ПОПРОБОВАТЬ! ЛУЧШАЯ КОРЕЙСКАЯ КО...</td>\n      <td>Хорошие мои, сегодня я расскажу вам про свой к...</td>\n      <td>NaN</td>\n      <td>389038</td>\n      <td>11041</td>\n      <td>0</td>\n      <td>378</td>\n      <td>&lt;iframe width=\"480\" height=\"270\" src=\"//www.yo...</td>\n      <td>[https://en.wikipedia.org/wiki/Lifestyle_(soci...</td>\n      <td>NaN</td>\n    </tr>\n    <tr>\n      <th>2</th>\n      <td>youtube#video</td>\n      <td>VAaYvq0w2V6n-a6E6upg2A1iJbE</td>\n      <td>aiY0ymL25Pw</td>\n      <td>2021-08-20T08:51:18Z</td>\n      <td>UCiT7bPorr4rKJU8WFBZA9Og</td>\n      <td>РЕАКЦИЯ дерматолога: 10 этапов корейского уход...</td>\n      <td>Мой телеграм:\\nhttps://t.me/dr_amina_pirmanova...</td>\n      <td>https://i.ytimg.com/vi/aiY0ymL25Pw/default.jpg</td>\n      <td>120</td>\n      <td>90</td>\n      <td>...</td>\n      <td>РЕАКЦИЯ дерматолога: 10 этапов корейского уход...</td>\n      <td>Мой телеграм:\\nhttps://t.me/dr_amina_pirmanova...</td>\n      <td>ru</td>\n      <td>390710</td>\n      <td>31842</td>\n      <td>0</td>\n      <td>1777</td>\n      <td>&lt;iframe width=\"480\" height=\"270\" src=\"//www.yo...</td>\n      <td>[https://en.wikipedia.org/wiki/Health, https:/...</td>\n      <td>NaN</td>\n    </tr>\n    <tr>\n      <th>3</th>\n      <td>youtube#video</td>\n      <td>Xu0qxfp0-q2X2DrGsPlfAAn6nqM</td>\n      <td>JA9E4TCVsDU</td>\n      <td>2015-12-06T14:30:40Z</td>\n      <td>UCNazbf-kLY6E8TO_o48ZExQ</td>\n      <td>КАК Я ИСПОРТИЛА КОЖУ: КОРЕЙСКАЯ КОСМЕТИКА\\Tony...</td>\n      <td>Привет! Корейская косметика снова набирает обо...</td>\n      <td>https://i.ytimg.com/vi/JA9E4TCVsDU/default.jpg</td>\n      <td>120</td>\n      <td>90</td>\n      <td>...</td>\n      <td>КАК Я ИСПОРТИЛА КОЖУ: КОРЕЙСКАЯ КОСМЕТИКА\\Tony...</td>\n      <td>Привет! Корейская косметика снова набирает обо...</td>\n      <td>ru</td>\n      <td>329051</td>\n      <td>2955</td>\n      <td>0</td>\n      <td>324</td>\n      <td>&lt;iframe width=\"480\" height=\"270\" src=\"//www.yo...</td>\n      <td>[https://en.wikipedia.org/wiki/Lifestyle_(soci...</td>\n      <td>NaN</td>\n    </tr>\n    <tr>\n      <th>4</th>\n      <td>youtube#video</td>\n      <td>1G4hAX30sQ9cKXA2lX2UD6wUbuY</td>\n      <td>NAeXVpMTiT4</td>\n      <td>2018-04-20T15:19:56Z</td>\n      <td>UCmXGqfEsluA1fID55bVexjw</td>\n      <td>🇰🇷 НЕВЕРОЯТНАЯ КОРЕЙСКАЯ КОСМЕТИКА! Топовые шт...</td>\n      <td>Магазин корейской косметики https://goo.gl/UJG...</td>\n      <td>https://i.ytimg.com/vi/NAeXVpMTiT4/default.jpg</td>\n      <td>120</td>\n      <td>90</td>\n      <td>...</td>\n      <td>🇰🇷 НЕВЕРОЯТНАЯ КОРЕЙСКАЯ КОСМЕТИКА! Топовые шт...</td>\n      <td>Магазин корейской косметики https://goo.gl/UJG...</td>\n      <td>NaN</td>\n      <td>296601</td>\n      <td>12749</td>\n      <td>0</td>\n      <td>687</td>\n      <td>&lt;iframe width=\"480\" height=\"270\" src=\"//www.yo...</td>\n      <td>[https://en.wikipedia.org/wiki/Lifestyle_(soci...</td>\n      <td>NaN</td>\n    </tr>\n  </tbody>\n</table>\n<p>5 rows × 36 columns</p>\n</div>"
     },
     "execution_count": 38,
     "metadata": {},
     "output_type": "execute_result"
    }
   ],
   "source": [
    "# 9 Одиночный вызов API для одного канала\n",
    "request = youtube.videos().list(\n",
    "    part=search_parts,\n",
    "    maxResults=50,\n",
    "    id=video_ids[:50],\n",
    ")\n",
    "response = request.execute()\n",
    "\n",
    "df_supplemented = pd.json_normalize(response['items'])\n",
    "df_supplemented.head()"
   ],
   "metadata": {
    "collapsed": false
   }
  },
  {
   "cell_type": "code",
   "execution_count": 39,
   "outputs": [
    {
     "name": "stdout",
     "output_type": "stream",
     "text": [
      "Итерация 0 завершена\n",
      "Итерация 1 завершена\n",
      "Итерация 2 завершена\n",
      "Итерация 3 завершена\n",
      "Итерация 4 завершена\n",
      "Итерация 5 завершена\n",
      "Итерация 6 завершена\n",
      "Итерация 7 завершена\n",
      "Итерация 8 завершена\n",
      "Итерация 9 завершена\n",
      "Итерация 10 завершена\n",
      "Итерация 11 завершена\n",
      "Итерация 12 завершена\n",
      "Итерация 13 завершена\n",
      "Итерация 14 завершена\n",
      "Итерация 15 завершена\n",
      "Итерация 16 завершена\n",
      "Итерация 17 завершена\n",
      "Итерация 18 завершена\n",
      "Итерация 19 завершена\n",
      "Итерация 20 завершена\n",
      "Итерация 21 завершена\n",
      "Итерация 22 завершена\n",
      "Итерация 23 завершена\n",
      "Итерация 24 завершена\n",
      "Итерация 25 завершена\n",
      "Итерация 26 завершена\n"
     ]
    }
   ],
   "source": [
    "# 10 Множественный вызов по 50 элементов\n",
    "\n",
    "df_supplemented = pd.DataFrame()\n",
    "step = 50\n",
    "\n",
    "for i in range(0, len(data), step):\n",
    "    # границы интервала\n",
    "    s, e = i, i+step\n",
    "    if e > len(data): e = len(data)\n",
    "\n",
    "    request = youtube.videos().list(\n",
    "    part=search_parts,\n",
    "    maxResults=50,\n",
    "    id=video_ids[s:e],\n",
    "    )\n",
    "    response = request.execute()\n",
    "\n",
    "    df_additional = pd.json_normalize(response['items'])\n",
    "    df_supplemented = pd.concat([df_supplemented, df_additional])\n",
    "    print(f\"Итерация {i // 50} завершена\")"
   ],
   "metadata": {
    "collapsed": false
   }
  },
  {
   "cell_type": "code",
   "execution_count": 40,
   "outputs": [
    {
     "name": "stdout",
     "output_type": "stream",
     "text": [
      "<class 'pandas.core.frame.DataFrame'>\n",
      "Int64Index: 1315 entries, 0 to 33\n",
      "Data columns (total 39 columns):\n",
      " #   Column                                   Non-Null Count  Dtype  \n",
      "---  ------                                   --------------  -----  \n",
      " 0   kind                                     1315 non-null   object \n",
      " 1   etag                                     1315 non-null   object \n",
      " 2   id                                       1315 non-null   object \n",
      " 3   snippet.publishedAt                      1315 non-null   object \n",
      " 4   snippet.channelId                        1315 non-null   object \n",
      " 5   snippet.title                            1315 non-null   object \n",
      " 6   snippet.description                      1315 non-null   object \n",
      " 7   snippet.thumbnails.default.url           1315 non-null   object \n",
      " 8   snippet.thumbnails.default.width         1315 non-null   int64  \n",
      " 9   snippet.thumbnails.default.height        1315 non-null   int64  \n",
      " 10  snippet.thumbnails.medium.url            1315 non-null   object \n",
      " 11  snippet.thumbnails.medium.width          1315 non-null   int64  \n",
      " 12  snippet.thumbnails.medium.height         1315 non-null   int64  \n",
      " 13  snippet.thumbnails.high.url              1315 non-null   object \n",
      " 14  snippet.thumbnails.high.width            1315 non-null   int64  \n",
      " 15  snippet.thumbnails.high.height           1315 non-null   int64  \n",
      " 16  snippet.thumbnails.standard.url          1286 non-null   object \n",
      " 17  snippet.thumbnails.standard.width        1286 non-null   float64\n",
      " 18  snippet.thumbnails.standard.height       1286 non-null   float64\n",
      " 19  snippet.thumbnails.maxres.url            1135 non-null   object \n",
      " 20  snippet.thumbnails.maxres.width          1135 non-null   float64\n",
      " 21  snippet.thumbnails.maxres.height         1135 non-null   float64\n",
      " 22  snippet.channelTitle                     1315 non-null   object \n",
      " 23  snippet.tags                             835 non-null    object \n",
      " 24  snippet.categoryId                       1315 non-null   object \n",
      " 25  snippet.liveBroadcastContent             1315 non-null   object \n",
      " 26  snippet.localized.title                  1315 non-null   object \n",
      " 27  snippet.localized.description            1315 non-null   object \n",
      " 28  snippet.defaultAudioLanguage             690 non-null    object \n",
      " 29  statistics.viewCount                     1315 non-null   object \n",
      " 30  statistics.likeCount                     1284 non-null   object \n",
      " 31  statistics.favoriteCount                 1315 non-null   object \n",
      " 32  statistics.commentCount                  1299 non-null   object \n",
      " 33  player.embedHtml                         1315 non-null   object \n",
      " 34  topicDetails.topicCategories             1250 non-null   object \n",
      " 35  snippet.defaultLanguage                  227 non-null    object \n",
      " 36  liveStreamingDetails.actualStartTime     41 non-null     object \n",
      " 37  liveStreamingDetails.actualEndTime       41 non-null     object \n",
      " 38  liveStreamingDetails.scheduledStartTime  40 non-null     object \n",
      "dtypes: float64(4), int64(6), object(29)\n",
      "memory usage: 410.9+ KB\n"
     ]
    }
   ],
   "source": [
    "# 11 Просмотр параметров датафрейма\n",
    "df_supplemented.info()"
   ],
   "metadata": {
    "collapsed": false
   }
  },
  {
   "cell_type": "code",
   "execution_count": 46,
   "outputs": [
    {
     "name": "stdout",
     "output_type": "stream",
     "text": [
      "Не досчитались: 19 видео\n"
     ]
    }
   ],
   "source": [
    "# 12 Валидация количества каналов\n",
    "\n",
    "if len(data) == len(df_supplemented): print('Всё ок')\n",
    "else: print(\"Не досчитались:\", abs(len(data) - len(df_supplemented)), \"видео\")"
   ],
   "metadata": {
    "collapsed": false
   }
  },
  {
   "cell_type": "code",
   "execution_count": 47,
   "outputs": [],
   "source": [
    "# 13 Просмотр статистики по каналам\n",
    "\n",
    "list_of_col = [x for x in df_supplemented.columns if x.startswith('stat')]\n",
    "\n",
    "for col in list_of_col:\n",
    "    df_supplemented[col] = pd.to_numeric(df_supplemented[col],downcast=\"integer\")"
   ],
   "metadata": {
    "collapsed": false
   }
  },
  {
   "cell_type": "code",
   "execution_count": 48,
   "outputs": [
    {
     "name": "stdout",
     "output_type": "stream",
     "text": [
      "Параметр statistics.viewCount\n",
      "Average - 22153.6927756654\n",
      "Minimal - 0,\n",
      "Maximum - 1822564\n",
      "Median - 1357.0\n",
      "===============\n",
      "Параметр statistics.likeCount\n",
      "Average - 972.7554517133956\n",
      "Minimal - 0.0,\n",
      "Maximum - 81849.0\n",
      "Median - 42.5\n",
      "===============\n",
      "Параметр statistics.favoriteCount\n",
      "Average - 0.0\n",
      "Minimal - 0,\n",
      "Maximum - 0\n",
      "Median - 0.0\n",
      "===============\n",
      "Параметр statistics.commentCount\n",
      "Average - 68.35411855273287\n",
      "Minimal - 0.0,\n",
      "Maximum - 13022.0\n",
      "Median - 4.0\n",
      "===============\n"
     ]
    }
   ],
   "source": [
    "for col in list_of_col:\n",
    "    print(f\"Параметр {col}\")\n",
    "    print(f\"Average - {df_supplemented[col].mean()}\\n\"\n",
    "          f\"Minimal - {df_supplemented[col].min()},\\n\"\n",
    "          f\"Maximum - {df_supplemented[col].max()}\\n\"\n",
    "          f\"Median - {df_supplemented[col].median()}\")\n",
    "    print(\"=\"*15)"
   ],
   "metadata": {
    "collapsed": false
   }
  },
  {
   "cell_type": "code",
   "execution_count": 49,
   "outputs": [
    {
     "name": "stdout",
     "output_type": "stream",
     "text": [
      "/Users/andrey/PycharmProjects/DataMiningProjects/data\n"
     ]
    }
   ],
   "source": [
    "print(DATA_PATH)"
   ],
   "metadata": {
    "collapsed": false
   }
  },
  {
   "cell_type": "code",
   "execution_count": 45,
   "outputs": [],
   "source": [
    "# 13 сохранение файлов в специальной директории\n",
    "import os\n",
    "\n",
    "if not os.path.exists(DATA_PATH / seminar):\n",
    "    os.makedirs(DATA_PATH / seminar)\n",
    "\n",
    "df_supplemented.to_excel(DATA_PATH / seminar /  f'{type_query.capitalize()}_characteristics.xlsx', index=False)"
   ],
   "metadata": {
    "collapsed": false
   }
  },
  {
   "cell_type": "code",
   "execution_count": 50,
   "outputs": [
    {
     "data": {
      "text/plain": "PosixPath('/Users/andrey/PycharmProjects/DataMiningProjects/data/seminar5/Video_characteristics.xlsx')"
     },
     "execution_count": 50,
     "metadata": {},
     "output_type": "execute_result"
    }
   ],
   "source": [
    "DATA_PATH / seminar /  f'{type_query.capitalize()}_characteristics.xlsx'"
   ],
   "metadata": {
    "collapsed": false
   }
  }
 ],
 "metadata": {
  "kernelspec": {
   "display_name": "Python 3",
   "language": "python",
   "name": "python3"
  },
  "language_info": {
   "codemirror_mode": {
    "name": "ipython",
    "version": 2
   },
   "file_extension": ".py",
   "mimetype": "text/x-python",
   "name": "python",
   "nbconvert_exporter": "python",
   "pygments_lexer": "ipython2",
   "version": "2.7.6"
  }
 },
 "nbformat": 4,
 "nbformat_minor": 0
}
